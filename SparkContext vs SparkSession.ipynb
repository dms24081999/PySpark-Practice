{
 "cells": [
  {
   "cell_type": "code",
   "execution_count": 1,
   "id": "287ff621",
   "metadata": {},
   "outputs": [
    {
     "data": {
      "text/plain": [
       "'C:\\\\work\\\\spark-2.4.8-bin-hadoop2.7'"
      ]
     },
     "execution_count": 1,
     "metadata": {},
     "output_type": "execute_result"
    }
   ],
   "source": [
    "import findspark\n",
    "findspark.init()\n",
    "findspark.find()"
   ]
  },
  {
   "cell_type": "code",
   "execution_count": 2,
   "id": "a50a14cd",
   "metadata": {},
   "outputs": [],
   "source": [
    "from pyspark.sql import SparkSession\n",
    "spark=SparkSession.builder.master(\"local[*]\").appName(\"PracticeBy\").getOrCreate()"
   ]
  },
  {
   "cell_type": "code",
   "execution_count": 7,
   "id": "6a1e41a3",
   "metadata": {},
   "outputs": [
    {
     "data": {
      "text/plain": [
       "'PracticeBy'"
      ]
     },
     "execution_count": 7,
     "metadata": {},
     "output_type": "execute_result"
    }
   ],
   "source": [
    "spark.sparkContext.appName"
   ]
  },
  {
   "cell_type": "code",
   "execution_count": 9,
   "id": "95fa122d",
   "metadata": {},
   "outputs": [],
   "source": [
    "data = [[\"node.js\", \"dbms\", \"integration\"],\n",
    "        [\"jsp\", \"SQL\", \"trigonometry\"],\n",
    "        [\"php\", \"oracle\", \"statistics\"],\n",
    "        [\".net\", \"db2\", \"Machine Learning\"]]\n",
    "  \n",
    "# giving column names of dataframe\n",
    "columns = [\"Web Technologies\", \"Data bases\", \"Maths\"]\n",
    "  \n",
    "# creating a dataframe\n",
    "dataframe = spark.createDataFrame(data, columns)"
   ]
  },
  {
   "cell_type": "code",
   "execution_count": 10,
   "id": "9e851847",
   "metadata": {},
   "outputs": [
    {
     "name": "stdout",
     "output_type": "stream",
     "text": [
      "+----------------+----------+----------------+\n",
      "|Web Technologies|Data bases|           Maths|\n",
      "+----------------+----------+----------------+\n",
      "|         node.js|      dbms|     integration|\n",
      "|             jsp|       SQL|    trigonometry|\n",
      "|             php|    oracle|      statistics|\n",
      "|            .net|       db2|Machine Learning|\n",
      "+----------------+----------+----------------+\n",
      "\n"
     ]
    }
   ],
   "source": [
    "dataframe.show()"
   ]
  },
  {
   "cell_type": "code",
   "execution_count": 11,
   "id": "142fd272",
   "metadata": {},
   "outputs": [
    {
     "name": "stdout",
     "output_type": "stream",
     "text": [
      "+--------+----------+-----------+\n",
      "|database| tableName|isTemporary|\n",
      "+--------+----------+-----------+\n",
      "|        |test_table|       true|\n",
      "+--------+----------+-----------+\n",
      "\n"
     ]
    }
   ],
   "source": [
    "dataframe.createOrReplaceTempView(\"Test_Table\")\n",
    "spark.sql(\"show tables\").show()"
   ]
  },
  {
   "cell_type": "code",
   "execution_count": 12,
   "id": "eb2c28bb",
   "metadata": {},
   "outputs": [
    {
     "data": {
      "text/plain": [
       "[Table(name='test_table', database=None, description=None, tableType='TEMPORARY', isTemporary=True)]"
      ]
     },
     "execution_count": 12,
     "metadata": {},
     "output_type": "execute_result"
    }
   ],
   "source": [
    "spark.catalog.listTables()"
   ]
  },
  {
   "cell_type": "markdown",
   "id": "03e72ed3",
   "metadata": {},
   "source": [
    "## New Spark Session"
   ]
  },
  {
   "cell_type": "code",
   "execution_count": 13,
   "id": "6014cdfa",
   "metadata": {},
   "outputs": [
    {
     "data": {
      "text/plain": [
       "[]"
      ]
     },
     "execution_count": 13,
     "metadata": {},
     "output_type": "execute_result"
    }
   ],
   "source": [
    "newspark=spark.newSession()\n",
    "newspark.catalog.listTables()"
   ]
  },
  {
   "cell_type": "markdown",
   "id": "0fe9a116",
   "metadata": {},
   "source": [
    "## Checking id of sparkSession and sparkContext"
   ]
  },
  {
   "cell_type": "code",
   "execution_count": 14,
   "id": "d5b446ef",
   "metadata": {},
   "outputs": [
    {
     "data": {
      "text/plain": [
       "True"
      ]
     },
     "execution_count": 14,
     "metadata": {},
     "output_type": "execute_result"
    }
   ],
   "source": [
    "id(spark.sparkContext)==id(newspark.sparkContext)"
   ]
  },
  {
   "cell_type": "code",
   "execution_count": 15,
   "id": "d9edf546",
   "metadata": {},
   "outputs": [
    {
     "data": {
      "text/plain": [
       "False"
      ]
     },
     "execution_count": 15,
     "metadata": {},
     "output_type": "execute_result"
    }
   ],
   "source": [
    "id(spark)==id(newspark)"
   ]
  },
  {
   "cell_type": "code",
   "execution_count": 96,
   "id": "c896487d",
   "metadata": {},
   "outputs": [
    {
     "data": {
      "text/html": [
       "\n",
       "            <div>\n",
       "                <p><b>SparkSession - in-memory</b></p>\n",
       "                \n",
       "        <div>\n",
       "            <p><b>SparkContext</b></p>\n",
       "\n",
       "            <p><a href=\"http://169.254.181.150:4040\">Spark UI</a></p>\n",
       "\n",
       "            <dl>\n",
       "              <dt>Version</dt>\n",
       "                <dd><code>v2.4.8</code></dd>\n",
       "              <dt>Master</dt>\n",
       "                <dd><code>local[*]</code></dd>\n",
       "              <dt>AppName</dt>\n",
       "                <dd><code>Practice-1</code></dd>\n",
       "            </dl>\n",
       "        </div>\n",
       "        \n",
       "            </div>\n",
       "        "
      ],
      "text/plain": [
       "<pyspark.sql.session.SparkSession at 0x20059c42a08>"
      ]
     },
     "execution_count": 96,
     "metadata": {},
     "output_type": "execute_result"
    }
   ],
   "source": [
    "spark"
   ]
  },
  {
   "cell_type": "markdown",
   "id": "45730f42",
   "metadata": {},
   "source": [
    "## Stopping both spark session"
   ]
  },
  {
   "cell_type": "code",
   "execution_count": 144,
   "id": "47386025",
   "metadata": {},
   "outputs": [],
   "source": [
    "spark.stop()"
   ]
  },
  {
   "cell_type": "code",
   "execution_count": 131,
   "id": "d6e9355d",
   "metadata": {},
   "outputs": [],
   "source": [
    "newspark.sparkContext.stop()"
   ]
  },
  {
   "cell_type": "code",
   "execution_count": null,
   "id": "7413d7a9",
   "metadata": {},
   "outputs": [],
   "source": []
  }
 ],
 "metadata": {
  "kernelspec": {
   "display_name": "Python 3 (ipykernel)",
   "language": "python",
   "name": "python3"
  },
  "language_info": {
   "codemirror_mode": {
    "name": "ipython",
    "version": 3
   },
   "file_extension": ".py",
   "mimetype": "text/x-python",
   "name": "python",
   "nbconvert_exporter": "python",
   "pygments_lexer": "ipython3",
   "version": "3.7.9"
  }
 },
 "nbformat": 4,
 "nbformat_minor": 5
}
