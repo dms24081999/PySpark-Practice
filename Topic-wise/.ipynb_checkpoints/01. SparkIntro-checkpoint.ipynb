{
 "cells": [
  {
   "cell_type": "code",
   "execution_count": 2,
   "id": "4e90971e",
   "metadata": {},
   "outputs": [],
   "source": [
    "import findspark\n",
    "findspark.init()\n",
    "# https://www.youtube.com/watch?v=YXGVpjqIopE"
   ]
  },
  {
   "cell_type": "markdown",
   "id": "05af8e08",
   "metadata": {},
   "source": [
    "# SparkSession (DEFAULT)"
   ]
  },
  {
   "cell_type": "code",
   "execution_count": 12,
   "id": "bf9379c3",
   "metadata": {},
   "outputs": [],
   "source": [
    "from pyspark.sql import SparkSession"
   ]
  },
  {
   "cell_type": "code",
   "execution_count": 41,
   "id": "b49abaef",
   "metadata": {},
   "outputs": [],
   "source": [
    "# By default 12 executors if not specified\n",
    "spark=SparkSession.builder.appName(\"Intro\").master(\"local[4]\").getOrCreate()"
   ]
  },
  {
   "cell_type": "code",
   "execution_count": 43,
   "id": "154d36bb",
   "metadata": {},
   "outputs": [],
   "source": [
    "spark.stop()"
   ]
  },
  {
   "cell_type": "markdown",
   "id": "441eb83e",
   "metadata": {},
   "source": [
    "# SparkContext"
   ]
  },
  {
   "cell_type": "code",
   "execution_count": 5,
   "id": "44ba290a",
   "metadata": {},
   "outputs": [],
   "source": [
    "from pyspark import SparkContext,SparkConf"
   ]
  },
  {
   "cell_type": "code",
   "execution_count": 17,
   "id": "eef5539e",
   "metadata": {},
   "outputs": [],
   "source": [
    "conf=SparkConf().setAppName(\"RDD\").setMaster(\"local[4]\")"
   ]
  },
  {
   "cell_type": "code",
   "execution_count": null,
   "id": "ee5f898f",
   "metadata": {},
   "outputs": [],
   "source": [
    "# from pyspark import SparkConf, SparkContext\n",
    "# conf = (SparkConf()\n",
    "#         .setMaster(\"local\")\n",
    "#         .setAppName(\"My app\")\n",
    "#         .set(\"spark.executor.memory\", \"1g\"))\n",
    "# sc = SparkContext(conf = conf)"
   ]
  },
  {
   "cell_type": "code",
   "execution_count": 18,
   "id": "35816ea4",
   "metadata": {},
   "outputs": [],
   "source": [
    "# By default 12 executors if not specified\n",
    "sc=SparkContext.getOrCreate(conf=conf) # SparkContext(conf=conf)"
   ]
  },
  {
   "cell_type": "code",
   "execution_count": 19,
   "id": "ee941ab6",
   "metadata": {},
   "outputs": [],
   "source": [
    "sc.stop()"
   ]
  },
  {
   "cell_type": "markdown",
   "id": "f67f14eb",
   "metadata": {},
   "source": [
    "# SparkDetails"
   ]
  },
  {
   "cell_type": "code",
   "execution_count": 21,
   "id": "b34a26b4",
   "metadata": {},
   "outputs": [
    {
     "data": {
      "text/plain": [
       "'2.4.8'"
      ]
     },
     "execution_count": 21,
     "metadata": {},
     "output_type": "execute_result"
    }
   ],
   "source": [
    "# Retrieve SparkContext version\n",
    "spark.sparkContext.version"
   ]
  },
  {
   "cell_type": "code",
   "execution_count": 22,
   "id": "67c09640",
   "metadata": {},
   "outputs": [
    {
     "data": {
      "text/plain": [
       "'3.7'"
      ]
     },
     "execution_count": 22,
     "metadata": {},
     "output_type": "execute_result"
    }
   ],
   "source": [
    "# Retrieve Python version\n",
    "spark.sparkContext.pythonVer"
   ]
  },
  {
   "cell_type": "code",
   "execution_count": 23,
   "id": "80bd542a",
   "metadata": {},
   "outputs": [
    {
     "data": {
      "text/plain": [
       "'local[4]'"
      ]
     },
     "execution_count": 23,
     "metadata": {},
     "output_type": "execute_result"
    }
   ],
   "source": [
    "# Master URL to connect to\n",
    "spark.sparkContext.master"
   ]
  },
  {
   "cell_type": "code",
   "execution_count": 28,
   "id": "d625e7f1",
   "metadata": {},
   "outputs": [
    {
     "data": {
      "text/plain": [
       "'dms24081999'"
      ]
     },
     "execution_count": 28,
     "metadata": {},
     "output_type": "execute_result"
    }
   ],
   "source": [
    "# Retrieve name of the Spark User running SparkContext\n",
    "spark.sparkContext.sparkUser()"
   ]
  },
  {
   "cell_type": "code",
   "execution_count": 42,
   "id": "40ef5f56",
   "metadata": {},
   "outputs": [
    {
     "data": {
      "text/plain": [
       "'Intro'"
      ]
     },
     "execution_count": 42,
     "metadata": {},
     "output_type": "execute_result"
    }
   ],
   "source": [
    "# Return application name\n",
    "spark.sparkContext.appName"
   ]
  },
  {
   "cell_type": "code",
   "execution_count": 30,
   "id": "93a561bb",
   "metadata": {},
   "outputs": [
    {
     "data": {
      "text/plain": [
       "'local-1631086663058'"
      ]
     },
     "execution_count": 30,
     "metadata": {},
     "output_type": "execute_result"
    }
   ],
   "source": [
    "# Retrieve application ID\n",
    "spark.sparkContext.applicationId"
   ]
  },
  {
   "cell_type": "code",
   "execution_count": 39,
   "id": "cdd6c3fa",
   "metadata": {},
   "outputs": [
    {
     "data": {
      "text/plain": [
       "4"
      ]
     },
     "execution_count": 39,
     "metadata": {},
     "output_type": "execute_result"
    }
   ],
   "source": [
    "# Return default level of parallelism\n",
    "spark.sparkContext.defaultParallelism # equals to total cores"
   ]
  },
  {
   "cell_type": "code",
   "execution_count": 36,
   "id": "655bb807",
   "metadata": {},
   "outputs": [
    {
     "data": {
      "text/plain": [
       "2"
      ]
     },
     "execution_count": 36,
     "metadata": {},
     "output_type": "execute_result"
    }
   ],
   "source": [
    "# Default minimum number of partitions for RDDs\n",
    "spark.sparkContext.defaultMinPartitions"
   ]
  },
  {
   "cell_type": "code",
   "execution_count": null,
   "id": "5d5b1fbe",
   "metadata": {},
   "outputs": [],
   "source": []
  }
 ],
 "metadata": {
  "kernelspec": {
   "display_name": "Python 3 (ipykernel)",
   "language": "python",
   "name": "python3"
  },
  "language_info": {
   "codemirror_mode": {
    "name": "ipython",
    "version": 3
   },
   "file_extension": ".py",
   "mimetype": "text/x-python",
   "name": "python",
   "nbconvert_exporter": "python",
   "pygments_lexer": "ipython3",
   "version": "3.7.9"
  }
 },
 "nbformat": 4,
 "nbformat_minor": 5
}
