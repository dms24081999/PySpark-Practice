{
 "cells": [
  {
   "cell_type": "code",
   "execution_count": 1,
   "id": "f8337012",
   "metadata": {},
   "outputs": [],
   "source": [
    "import findspark\n",
    "findspark.init()"
   ]
  },
  {
   "cell_type": "markdown",
   "id": "7ee2f845",
   "metadata": {},
   "source": [
    "# SparkSession (DEFAULT)"
   ]
  },
  {
   "cell_type": "code",
   "execution_count": 12,
   "id": "1f81abb1",
   "metadata": {},
   "outputs": [],
   "source": [
    "from pyspark.sql import SparkSession"
   ]
  },
  {
   "cell_type": "code",
   "execution_count": 41,
   "id": "ed66af72",
   "metadata": {},
   "outputs": [],
   "source": [
    "# By default 12 executors if not specified\n",
    "spark=SparkSession.builder.appName(\"Intro\").master(\"local[4]\").getOrCreate()"
   ]
  },
  {
   "cell_type": "code",
   "execution_count": 43,
   "id": "8412f821",
   "metadata": {},
   "outputs": [],
   "source": [
    "spark.stop()"
   ]
  },
  {
   "cell_type": "markdown",
   "id": "cfafd51e",
   "metadata": {},
   "source": [
    "# SparkContext"
   ]
  },
  {
   "cell_type": "code",
   "execution_count": 5,
   "id": "1d33c2b4",
   "metadata": {},
   "outputs": [],
   "source": [
    "from pyspark import SparkContext,SparkConf"
   ]
  },
  {
   "cell_type": "code",
   "execution_count": 17,
   "id": "c2f9574a",
   "metadata": {},
   "outputs": [],
   "source": [
    "conf=SparkConf().setAppName(\"RDD\").setMaster(\"local[4]\")"
   ]
  },
  {
   "cell_type": "code",
   "execution_count": 18,
   "id": "f62fcb32",
   "metadata": {},
   "outputs": [],
   "source": [
    "# By default 12 executors if not specified\n",
    "sc=SparkContext.getOrCreate(conf=conf) # SparkContext(conf=conf)"
   ]
  },
  {
   "cell_type": "code",
   "execution_count": 19,
   "id": "58e1d1e1",
   "metadata": {},
   "outputs": [],
   "source": [
    "sc.stop()"
   ]
  },
  {
   "cell_type": "markdown",
   "id": "c594d46f",
   "metadata": {},
   "source": [
    "# SparkDetails"
   ]
  },
  {
   "cell_type": "code",
   "execution_count": 21,
   "id": "a08dd8ea",
   "metadata": {},
   "outputs": [
    {
     "data": {
      "text/plain": [
       "'2.4.8'"
      ]
     },
     "execution_count": 21,
     "metadata": {},
     "output_type": "execute_result"
    }
   ],
   "source": [
    "# Retrieve SparkContext version\n",
    "spark.sparkContext.version"
   ]
  },
  {
   "cell_type": "code",
   "execution_count": 22,
   "id": "8b63b426",
   "metadata": {},
   "outputs": [
    {
     "data": {
      "text/plain": [
       "'3.7'"
      ]
     },
     "execution_count": 22,
     "metadata": {},
     "output_type": "execute_result"
    }
   ],
   "source": [
    "# Retrieve Python version\n",
    "spark.sparkContext.pythonVer"
   ]
  },
  {
   "cell_type": "code",
   "execution_count": 23,
   "id": "ebca9d0a",
   "metadata": {},
   "outputs": [
    {
     "data": {
      "text/plain": [
       "'local[4]'"
      ]
     },
     "execution_count": 23,
     "metadata": {},
     "output_type": "execute_result"
    }
   ],
   "source": [
    "# Master URL to connect to\n",
    "spark.sparkContext.master"
   ]
  },
  {
   "cell_type": "code",
   "execution_count": 28,
   "id": "d55b12c3",
   "metadata": {},
   "outputs": [
    {
     "data": {
      "text/plain": [
       "'dms24081999'"
      ]
     },
     "execution_count": 28,
     "metadata": {},
     "output_type": "execute_result"
    }
   ],
   "source": [
    "# Retrieve name of the Spark User running SparkContext\n",
    "spark.sparkContext.sparkUser()"
   ]
  },
  {
   "cell_type": "code",
   "execution_count": 42,
   "id": "21f98607",
   "metadata": {},
   "outputs": [
    {
     "data": {
      "text/plain": [
       "'Intro'"
      ]
     },
     "execution_count": 42,
     "metadata": {},
     "output_type": "execute_result"
    }
   ],
   "source": [
    "# Return application name\n",
    "spark.sparkContext.appName"
   ]
  },
  {
   "cell_type": "code",
   "execution_count": 30,
   "id": "518d3932",
   "metadata": {},
   "outputs": [
    {
     "data": {
      "text/plain": [
       "'local-1631086663058'"
      ]
     },
     "execution_count": 30,
     "metadata": {},
     "output_type": "execute_result"
    }
   ],
   "source": [
    "# Retrieve application ID\n",
    "spark.sparkContext.applicationId"
   ]
  },
  {
   "cell_type": "code",
   "execution_count": 39,
   "id": "53981ede",
   "metadata": {},
   "outputs": [
    {
     "data": {
      "text/plain": [
       "4"
      ]
     },
     "execution_count": 39,
     "metadata": {},
     "output_type": "execute_result"
    }
   ],
   "source": [
    "# Return default level of parallelism\n",
    "spark.sparkContext.defaultParallelism # equals to total cores"
   ]
  },
  {
   "cell_type": "code",
   "execution_count": 36,
   "id": "054697d0",
   "metadata": {},
   "outputs": [
    {
     "data": {
      "text/plain": [
       "2"
      ]
     },
     "execution_count": 36,
     "metadata": {},
     "output_type": "execute_result"
    }
   ],
   "source": [
    "# Default minimum number of partitions for RDDs\n",
    "spark.sparkContext.defaultMinPartitions"
   ]
  },
  {
   "cell_type": "code",
   "execution_count": null,
   "id": "d78755b9",
   "metadata": {},
   "outputs": [],
   "source": []
  }
 ],
 "metadata": {
  "kernelspec": {
   "display_name": "Python 3 (ipykernel)",
   "language": "python",
   "name": "python3"
  },
  "language_info": {
   "codemirror_mode": {
    "name": "ipython",
    "version": 3
   },
   "file_extension": ".py",
   "mimetype": "text/x-python",
   "name": "python",
   "nbconvert_exporter": "python",
   "pygments_lexer": "ipython3",
   "version": "3.7.9"
  }
 },
 "nbformat": 4,
 "nbformat_minor": 5
}
