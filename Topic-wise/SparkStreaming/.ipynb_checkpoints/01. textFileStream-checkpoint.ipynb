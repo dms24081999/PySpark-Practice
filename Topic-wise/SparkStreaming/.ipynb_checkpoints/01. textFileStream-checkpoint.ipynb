{
 "cells": [
  {
   "cell_type": "code",
   "execution_count": 1,
   "id": "cbc0dca4",
   "metadata": {},
   "outputs": [],
   "source": [
    "import findspark\n",
    "from pyspark.streaming import StreamingContext\n",
    "from pyspark.sql import SparkSession\n",
    "import math\n",
    "\n",
    "findspark.init()"
   ]
  },
  {
   "cell_type": "code",
   "execution_count": null,
   "id": "fc39c534",
   "metadata": {},
   "outputs": [
    {
     "name": "stdout",
     "output_type": "stream",
     "text": [
      "-------------------------------------------\n",
      "Time: 2021-09-17 16:15:54\n",
      "-------------------------------------------\n",
      "\n",
      "-------------------------------------------\n",
      "Time: 2021-09-17 16:15:55\n",
      "-------------------------------------------\n",
      "\n"
     ]
    }
   ],
   "source": [
    "try: ssc.stop(True, True)\n",
    "except: pass\n",
    "try: spark.stop()\n",
    "except: pass"
   ]
  },
  {
   "cell_type": "code",
   "execution_count": 3,
   "id": "86719306",
   "metadata": {},
   "outputs": [],
   "source": [
    "spark=SparkSession.builder.appName(\"SparkStreaming-01\").getOrCreate()\n",
    "sc=spark.sparkContext\n",
    "# .config(\"spark.driver.allowMultipleContexts\",\"true\")"
   ]
  },
  {
   "cell_type": "code",
   "execution_count": 4,
   "id": "f1111280",
   "metadata": {},
   "outputs": [
    {
     "data": {
      "text/plain": [
       "<pyspark.streaming.context.StreamingContext at 0x15d24a15588>"
      ]
     },
     "execution_count": 4,
     "metadata": {},
     "output_type": "execute_result"
    }
   ],
   "source": [
    "ssc=StreamingContext(sc, 1) \n",
    "ssc # 1=1 second"
   ]
  },
  {
   "cell_type": "code",
   "execution_count": 5,
   "id": "ff16c819",
   "metadata": {},
   "outputs": [],
   "source": [
    "rdd1=ssc.textFileStream(\"hdfs://localhost:9000/data\")\n",
    "# rdd1=ssc.textFileStream(\"data/\")"
   ]
  },
  {
   "cell_type": "code",
   "execution_count": 6,
   "id": "ae68daf0",
   "metadata": {},
   "outputs": [],
   "source": [
    "def add(x,y):\n",
    "    return x+y\n",
    "\n",
    "\n",
    "rdd1=rdd1.flatMap(lambda x: x.split(' '))\n",
    "rdd1=rdd1.map(lambda x: (x,1)).reduceByKey(add)\n",
    "rdd1.pprint()\n",
    "print(rdd1.pprint())"
   ]
  },
  {
   "cell_type": "code",
   "execution_count": 7,
   "id": "67453599",
   "metadata": {},
   "outputs": [
    {
     "data": {
      "text/plain": [
       "False"
      ]
     },
     "execution_count": 7,
     "metadata": {},
     "output_type": "execute_result"
    },
    {
     "name": "stdout",
     "output_type": "stream",
     "text": [
      "-------------------------------------------\n",
      "Time: 2021-09-17 16:15:41\n",
      "-------------------------------------------\n",
      "\n",
      "-------------------------------------------\n",
      "Time: 2021-09-17 16:15:42\n",
      "-------------------------------------------\n",
      "\n",
      "-------------------------------------------\n",
      "Time: 2021-09-17 16:15:43\n",
      "-------------------------------------------\n",
      "\n",
      "-------------------------------------------\n",
      "Time: 2021-09-17 16:15:44\n",
      "-------------------------------------------\n",
      "\n",
      "-------------------------------------------\n",
      "Time: 2021-09-17 16:15:45\n",
      "-------------------------------------------\n",
      "\n",
      "-------------------------------------------\n",
      "Time: 2021-09-17 16:15:46\n",
      "-------------------------------------------\n",
      "\n",
      "-------------------------------------------\n",
      "Time: 2021-09-17 16:15:47\n",
      "-------------------------------------------\n",
      "\n",
      "-------------------------------------------\n",
      "Time: 2021-09-17 16:15:48\n",
      "-------------------------------------------\n",
      "\n",
      "-------------------------------------------\n",
      "Time: 2021-09-17 16:15:49\n",
      "-------------------------------------------\n",
      "('amicitia', 1)\n",
      "('Lorem', 1)\n",
      "('ipsum', 2)\n",
      "('etiam', 1)\n",
      "('', 1)\n",
      "('adipiscing', 1)\n",
      "('ista', 1)\n",
      "('meminerimus?', 1)\n",
      "('Reges:', 1)\n",
      "('constructio', 1)\n",
      "...\n",
      "\n",
      "-------------------------------------------\n",
      "Time: 2021-09-17 16:15:50\n",
      "-------------------------------------------\n",
      "\n",
      "-------------------------------------------\n",
      "Time: 2021-09-17 16:15:51\n",
      "-------------------------------------------\n",
      "\n",
      "-------------------------------------------\n",
      "Time: 2021-09-17 16:15:52\n",
      "-------------------------------------------\n",
      "\n",
      "-------------------------------------------\n",
      "Time: 2021-09-17 16:15:53\n",
      "-------------------------------------------\n",
      "\n"
     ]
    }
   ],
   "source": [
    "# close notebook session and retart notebook command again + reopen this file\n",
    "ssc.start()\n",
    "ssc.awaitTerminationOrTimeout() # 1=1 second"
   ]
  },
  {
   "cell_type": "code",
   "execution_count": null,
   "id": "3f9b2c53",
   "metadata": {},
   "outputs": [],
   "source": []
  }
 ],
 "metadata": {
  "kernelspec": {
   "display_name": "Python 3 (ipykernel)",
   "language": "python",
   "name": "python3"
  },
  "language_info": {
   "codemirror_mode": {
    "name": "ipython",
    "version": 3
   },
   "file_extension": ".py",
   "mimetype": "text/x-python",
   "name": "python",
   "nbconvert_exporter": "python",
   "pygments_lexer": "ipython3",
   "version": "3.7.9"
  }
 },
 "nbformat": 4,
 "nbformat_minor": 5
}
