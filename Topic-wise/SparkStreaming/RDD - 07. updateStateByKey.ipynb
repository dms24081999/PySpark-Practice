{
 "cells": [
  {
   "cell_type": "code",
   "execution_count": 1,
   "id": "a22272f6",
   "metadata": {},
   "outputs": [],
   "source": [
    "import findspark\n",
    "from pyspark.streaming import StreamingContext\n",
    "from pyspark.sql import SparkSession\n",
    "import math\n",
    "\n",
    "findspark.init()"
   ]
  },
  {
   "cell_type": "code",
   "execution_count": 15,
   "id": "091e8f1a",
   "metadata": {},
   "outputs": [
    {
     "name": "stdout",
     "output_type": "stream",
     "text": [
      "printrdd []\n",
      "-------------------------------------------\n",
      "Time: 2021-09-19 15:19:15\n",
      "-------------------------------------------\n",
      "\n",
      "\n",
      "\n",
      "printrdd [('', 2)]\n",
      "-------------------------------------------\n",
      "Time: 2021-09-19 15:19:16\n",
      "-------------------------------------------\n",
      "\n",
      "printrdd [('', 2)]\n",
      "-------------------------------------------\n",
      "Time: 2021-09-19 15:19:17\n",
      "-------------------------------------------\n",
      "\n",
      "printrdd [('', 2)]\n",
      "-------------------------------------------\n",
      "Time: 2021-09-19 15:19:18\n",
      "-------------------------------------------\n",
      "\n",
      "printrdd [('', 2)]\n",
      "-------------------------------------------\n",
      "Time: 2021-09-19 15:19:19\n",
      "-------------------------------------------\n",
      "\n",
      "printrdd [('', 2)]\n",
      "-------------------------------------------\n",
      "Time: 2021-09-19 15:19:20\n",
      "-------------------------------------------\n",
      "\n",
      "printrdd [('', 2)]\n",
      "-------------------------------------------\n",
      "Time: 2021-09-19 15:19:21\n",
      "-------------------------------------------\n",
      "\n",
      "printrdd [('', 2)]\n",
      "-------------------------------------------\n",
      "Time: 2021-09-19 15:19:22\n",
      "-------------------------------------------\n",
      "abc\n",
      "\n",
      "printrdd [('', 2), ('abc', 1)]\n",
      "-------------------------------------------\n",
      "Time: 2021-09-19 15:19:23\n",
      "-------------------------------------------\n",
      "abc\n",
      "\n",
      "printrdd [('', 2), ('abc', 2)]\n",
      "-------------------------------------------\n",
      "Time: 2021-09-19 15:19:24\n",
      "-------------------------------------------\n",
      "def\n",
      "\n",
      "printrdd [('', 2), ('abc', 2), ('def', 1)]\n",
      "-------------------------------------------\n",
      "Time: 2021-09-19 15:19:25\n",
      "-------------------------------------------\n",
      "\n",
      "printrdd [('', 2), ('abc', 2), ('def', 1)]\n",
      "-------------------------------------------\n",
      "Time: 2021-09-19 15:19:26\n",
      "-------------------------------------------\n",
      "ghi\n",
      "\n",
      "printrdd [('', 2), ('abc', 2), ('def', 1), ('ghi', 1)]\n",
      "-------------------------------------------\n",
      "Time: 2021-09-19 15:19:27\n",
      "-------------------------------------------\n",
      "\n",
      "printrdd [('', 2), ('abc', 2), ('def', 1), ('ghi', 1)]\n",
      "-------------------------------------------\n",
      "Time: 2021-09-19 15:19:28\n",
      "-------------------------------------------\n",
      "abc\n",
      "\n",
      "printrdd [('', 2), ('abc', 3), ('def', 1), ('ghi', 1)]\n",
      "-------------------------------------------\n",
      "Time: 2021-09-19 15:19:29\n",
      "-------------------------------------------\n",
      "\n",
      "printrdd [('', 2), ('abc', 3), ('def', 1), ('ghi', 1)]\n",
      "-------------------------------------------\n",
      "Time: 2021-09-19 15:19:30\n",
      "-------------------------------------------\n",
      "\n",
      "printrdd [('', 2), ('abc', 3), ('def', 1), ('ghi', 1)]\n",
      "-------------------------------------------\n",
      "Time: 2021-09-19 15:19:31\n",
      "-------------------------------------------\n",
      "\n",
      "printrdd [('', 2), ('abc', 3), ('def', 1), ('ghi', 1)]\n",
      "-------------------------------------------\n",
      "Time: 2021-09-19 15:19:32\n",
      "-------------------------------------------\n",
      "\n",
      "printrdd [('', 2), ('abc', 3), ('def', 1), ('ghi', 1)]\n"
     ]
    }
   ],
   "source": [
    "try: ssc.stop(True, True)\n",
    "except: pass\n",
    "try: spark.stop()\n",
    "except: pass"
   ]
  },
  {
   "cell_type": "code",
   "execution_count": 10,
   "id": "ed3c9764",
   "metadata": {},
   "outputs": [
    {
     "data": {
      "text/html": [
       "\n",
       "            <div>\n",
       "                <p><b>SparkSession - in-memory</b></p>\n",
       "                \n",
       "        <div>\n",
       "            <p><b>SparkContext</b></p>\n",
       "\n",
       "            <p><a href=\"http://169.254.181.150:4040\">Spark UI</a></p>\n",
       "\n",
       "            <dl>\n",
       "              <dt>Version</dt>\n",
       "                <dd><code>v2.4.8</code></dd>\n",
       "              <dt>Master</dt>\n",
       "                <dd><code>local[1]</code></dd>\n",
       "              <dt>AppName</dt>\n",
       "                <dd><code>SparkStreaming-07</code></dd>\n",
       "            </dl>\n",
       "        </div>\n",
       "        \n",
       "            </div>\n",
       "        "
      ],
      "text/plain": [
       "<pyspark.sql.session.SparkSession at 0x26596fcc308>"
      ]
     },
     "execution_count": 10,
     "metadata": {},
     "output_type": "execute_result"
    }
   ],
   "source": [
    "spark=SparkSession.builder.appName(\"SparkStreaming-07\").master('local[1]').getOrCreate()\n",
    "sc=spark.sparkContext\n",
    "# .config(\"spark.driver.allowMultipleContexts\",\"true\")\n",
    "spark"
   ]
  },
  {
   "cell_type": "code",
   "execution_count": 11,
   "id": "17458fdf",
   "metadata": {},
   "outputs": [
    {
     "data": {
      "text/plain": [
       "<pyspark.streaming.context.StreamingContext at 0x26596fd60c8>"
      ]
     },
     "execution_count": 11,
     "metadata": {},
     "output_type": "execute_result"
    }
   ],
   "source": [
    "ssc=StreamingContext(sc, 1) \n",
    "ssc.checkpoint('checkpoint-07') # required for socket\n",
    "ssc # 1=1 second"
   ]
  },
  {
   "cell_type": "code",
   "execution_count": 12,
   "id": "f2ebdbc4",
   "metadata": {},
   "outputs": [],
   "source": [
    "lines=ssc.socketTextStream(\"localhost\", 8000)\n",
    "lines.pprint()"
   ]
  },
  {
   "cell_type": "code",
   "execution_count": 13,
   "id": "12a2a143",
   "metadata": {},
   "outputs": [],
   "source": [
    "lines=lines.flatMap(lambda x:x.split(\" \")).map(lambda x:(x,1))\n",
    "\n",
    "def printrdd(rdd):\n",
    "    print(\"printrdd\", rdd.collect())\n",
    "    \n",
    "def func(new_val,last_sum):\n",
    "    return sum(new_val)+(last_sum or 0)\n",
    "       \n",
    "lines.updateStateByKey(func).foreachRDD(printrdd)"
   ]
  },
  {
   "cell_type": "code",
   "execution_count": 14,
   "id": "459bc883",
   "metadata": {},
   "outputs": [
    {
     "name": "stdout",
     "output_type": "stream",
     "text": [
      "-------------------------------------------\n",
      "Time: 2021-09-19 15:19:14\n",
      "-------------------------------------------\n",
      "\n"
     ]
    }
   ],
   "source": [
    "ssc.start()"
   ]
  },
  {
   "cell_type": "code",
   "execution_count": null,
   "id": "6f073156",
   "metadata": {},
   "outputs": [],
   "source": []
  }
 ],
 "metadata": {
  "kernelspec": {
   "display_name": "Python 3 (ipykernel)",
   "language": "python",
   "name": "python3"
  },
  "language_info": {
   "codemirror_mode": {
    "name": "ipython",
    "version": 3
   },
   "file_extension": ".py",
   "mimetype": "text/x-python",
   "name": "python",
   "nbconvert_exporter": "python",
   "pygments_lexer": "ipython3",
   "version": "3.7.9"
  }
 },
 "nbformat": 4,
 "nbformat_minor": 5
}
