{
 "cells": [
  {
   "cell_type": "code",
   "execution_count": 122,
   "id": "ed5e0ff5",
   "metadata": {},
   "outputs": [],
   "source": [
    "import findspark\n",
    "from pyspark.streaming import StreamingContext\n",
    "from pyspark.sql import SparkSession,SQLContext\n",
    "from pyspark import SparkContext\n",
    "import math\n",
    "\n",
    "findspark.init()"
   ]
  },
  {
   "cell_type": "code",
   "execution_count": 123,
   "id": "19083ec0",
   "metadata": {},
   "outputs": [],
   "source": [
    "try: ssc.stop(True, True)\n",
    "except: pass\n",
    "try: spark.stop()\n",
    "except: pass"
   ]
  },
  {
   "cell_type": "code",
   "execution_count": 124,
   "id": "32be7008",
   "metadata": {},
   "outputs": [
    {
     "data": {
      "text/html": [
       "\n",
       "            <div>\n",
       "                <p><b>SparkSession - in-memory</b></p>\n",
       "                \n",
       "        <div>\n",
       "            <p><b>SparkContext</b></p>\n",
       "\n",
       "            <p><a href=\"http://169.254.181.150:4040\">Spark UI</a></p>\n",
       "\n",
       "            <dl>\n",
       "              <dt>Version</dt>\n",
       "                <dd><code>v2.4.8</code></dd>\n",
       "              <dt>Master</dt>\n",
       "                <dd><code>local[1]</code></dd>\n",
       "              <dt>AppName</dt>\n",
       "                <dd><code>SparkStreaming-05</code></dd>\n",
       "            </dl>\n",
       "        </div>\n",
       "        \n",
       "            </div>\n",
       "        "
      ],
      "text/plain": [
       "<pyspark.sql.session.SparkSession at 0x293ec0d6848>"
      ]
     },
     "execution_count": 124,
     "metadata": {},
     "output_type": "execute_result"
    }
   ],
   "source": [
    "spark=SparkSession.builder.appName(\"SparkStreaming-05\").master('local[1]').getOrCreate()\n",
    "sc=spark.sparkContext\n",
    "ssc.checkpoint('checkpoint-05') # define it after all context, else other context gets error\n",
    "# .config(\"spark.driver.allowMultipleContexts\",\"true\")\n",
    "spark"
   ]
  },
  {
   "cell_type": "code",
   "execution_count": 125,
   "id": "e3efbc8c",
   "metadata": {},
   "outputs": [
    {
     "data": {
      "text/plain": [
       "<pyspark.streaming.context.StreamingContext at 0x293ec0bf988>"
      ]
     },
     "execution_count": 125,
     "metadata": {},
     "output_type": "execute_result"
    }
   ],
   "source": [
    "ssc=StreamingContext(sc, 1)\n",
    "sqlContext=SQLContext(sc)\n",
    "ssc # 1=1 second"
   ]
  },
  {
   "cell_type": "code",
   "execution_count": 126,
   "id": "900c2b07",
   "metadata": {},
   "outputs": [],
   "source": [
    "stream=ssc.queueStream([\n",
    "    sc.parallelize([(1,'a'),(2,'b'),(1,'c'),(2,'d'),(1,'e'),(3,'f')]),\n",
    "    sc.parallelize([(2,'h'),(2,'i'),(1,'j'),(2,'k'),(1,'l'),(3,'m')])\n",
    "],oneAtATime=True)"
   ]
  },
  {
   "cell_type": "code",
   "execution_count": 127,
   "id": "b3a325f0",
   "metadata": {},
   "outputs": [],
   "source": [
    "def printrdd(rdd):\n",
    "    print(rdd.collect())\n",
    "    df=sqlContext.createDataFrame(rdd,['count','word'])\n",
    "#     df.pprint()\n",
    "    print(df.show())\n",
    "\n",
    "stream.foreachRDD(printrdd)"
   ]
  },
  {
   "cell_type": "code",
   "execution_count": 128,
   "id": "db5b7a09",
   "metadata": {},
   "outputs": [
    {
     "name": "stdout",
     "output_type": "stream",
     "text": [
      "[(1, 'a'), (2, 'b'), (1, 'c'), (2, 'd'), (1, 'e'), (3, 'f')]\n",
      "+-----+----+\n",
      "|count|word|\n",
      "+-----+----+\n",
      "|    1|   a|\n",
      "|    2|   b|\n",
      "|    1|   c|\n",
      "|    2|   d|\n",
      "|    1|   e|\n",
      "|    3|   f|\n",
      "+-----+----+\n",
      "\n",
      "None\n",
      "[(2, 'h'), (2, 'i'), (1, 'j'), (2, 'k'), (1, 'l'), (3, 'm')]\n"
     ]
    }
   ],
   "source": [
    "ssc.start()"
   ]
  },
  {
   "cell_type": "code",
   "execution_count": 129,
   "id": "5e255e46",
   "metadata": {},
   "outputs": [
    {
     "name": "stdout",
     "output_type": "stream",
     "text": [
      "+-----+----+\n",
      "|count|word|\n",
      "+-----+----+\n",
      "|    2|   h|\n",
      "|    2|   i|\n",
      "|    1|   j|\n",
      "|    2|   k|\n",
      "|    1|   l|\n",
      "|    3|   m|\n",
      "+-----+----+\n",
      "\n",
      "None\n",
      "[]\n",
      "[]\n"
     ]
    }
   ],
   "source": []
  },
  {
   "cell_type": "code",
   "execution_count": null,
   "id": "e4996632",
   "metadata": {},
   "outputs": [],
   "source": []
  }
 ],
 "metadata": {
  "kernelspec": {
   "display_name": "Python 3 (ipykernel)",
   "language": "python",
   "name": "python3"
  },
  "language_info": {
   "codemirror_mode": {
    "name": "ipython",
    "version": 3
   },
   "file_extension": ".py",
   "mimetype": "text/x-python",
   "name": "python",
   "nbconvert_exporter": "python",
   "pygments_lexer": "ipython3",
   "version": "3.7.9"
  }
 },
 "nbformat": 4,
 "nbformat_minor": 5
}
