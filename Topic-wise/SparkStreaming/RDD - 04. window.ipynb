{
 "cells": [
  {
   "cell_type": "code",
   "execution_count": 1,
   "id": "6f00374d",
   "metadata": {},
   "outputs": [],
   "source": [
    "import findspark\n",
    "from pyspark.streaming import StreamingContext\n",
    "from pyspark.sql import SparkSession\n",
    "import math\n",
    "\n",
    "findspark.init()"
   ]
  },
  {
   "cell_type": "code",
   "execution_count": 82,
   "id": "5ae38195",
   "metadata": {},
   "outputs": [
    {
     "name": "stdout",
     "output_type": "stream",
     "text": [
      "printreduceByKeyAndWindow []\n",
      "-------------------------------------------\n",
      "Time: 2021-09-19 00:55:40\n",
      "-------------------------------------------\n",
      "\n",
      "printreduceByKeyAndWindow []\n",
      "-------------------------------------------\n",
      "Time: 2021-09-19 00:55:41\n",
      "-------------------------------------------\n",
      "\n",
      "printreduceByKeyAndWindow []\n",
      "-------------------------------------------\n",
      "Time: 2021-09-19 00:55:42\n",
      "-------------------------------------------\n",
      "abc\n",
      "\n",
      "printreduceByKeyAndWindow [('abc', 1)]\n",
      "-------------------------------------------\n",
      "Time: 2021-09-19 00:55:43\n",
      "-------------------------------------------\n",
      "abc\n",
      "def\n",
      "\n",
      "printrddwindow [('abc', 1), ('abc', 1), ('def', 1)]\n",
      "printrddcountByWindow [3]\n",
      "printreduceByKeyAndWindow [('abc', 2), ('def', 1)]\n",
      "printrddcountByValueAndWindow [(('abc', 1), 2), (('def', 1), 1)]\n",
      "-------------------------------------------\n",
      "Time: 2021-09-19 00:55:44\n",
      "-------------------------------------------\n",
      "\n",
      "printreduceByKeyAndWindow [('abc', 2), ('def', 1)]\n",
      "-------------------------------------------\n",
      "Time: 2021-09-19 00:55:45\n",
      "-------------------------------------------\n",
      "def\n",
      "\n",
      "printreduceByKeyAndWindow [('abc', 2), ('def', 2)]\n",
      "-------------------------------------------\n",
      "Time: 2021-09-19 00:55:46\n",
      "-------------------------------------------\n",
      "ghi\n",
      "\n",
      "printreduceByKeyAndWindow [('abc', 2), ('def', 2), ('ghi', 1)]\n",
      "-------------------------------------------\n",
      "Time: 2021-09-19 00:55:47\n",
      "-------------------------------------------\n",
      "\n",
      "-------------------------------------------\n",
      "Time: 2021-09-19 00:55:48\n",
      "-------------------------------------------\n",
      "frg\n",
      "\n",
      "printrddwindow [('abc', 1), ('abc', 1), ('def', 1), ('def', 1), ('ghi', 1), ('frg', 1)]\n",
      "printrddcountByWindow [6]\n",
      "printrddcountByValueAndWindow [(('abc', 1), 2), (('def', 1), 2), (('ghi', 1), 1), (('frg', 1), 1)]\n",
      "-------------------------------------------\n",
      "Time: 2021-09-19 00:55:49\n",
      "-------------------------------------------\n",
      "\n",
      "-------------------------------------------\n",
      "Time: 2021-09-19 00:55:50\n",
      "-------------------------------------------\n",
      "ghi\n",
      "\n",
      "-------------------------------------------\n",
      "Time: 2021-09-19 00:55:51\n",
      "-------------------------------------------\n",
      "\n",
      "-------------------------------------------\n",
      "Time: 2021-09-19 00:55:52\n",
      "-------------------------------------------\n",
      "abc\n",
      "\n",
      "-------------------------------------------\n",
      "Time: 2021-09-19 00:55:53\n",
      "-------------------------------------------\n",
      "\n",
      "printrddwindow [('def', 1), ('ghi', 1), ('frg', 1), ('ghi', 1), ('abc', 1)]\n",
      "printrddcountByWindow [5]\n",
      "printrddcountByValueAndWindow [(('def', 1), 1), (('ghi', 1), 2), (('frg', 1), 1), (('abc', 1), 1)]\n",
      "-------------------------------------------\n",
      "Time: 2021-09-19 00:55:54\n",
      "-------------------------------------------\n",
      "def\n",
      "\n",
      "-------------------------------------------\n",
      "Time: 2021-09-19 00:55:55\n",
      "-------------------------------------------\n",
      "\n",
      "-------------------------------------------\n",
      "Time: 2021-09-19 00:55:56\n",
      "-------------------------------------------\n",
      "frg\n",
      "\n",
      "-------------------------------------------\n",
      "Time: 2021-09-19 00:55:57\n",
      "-------------------------------------------\n",
      "\n",
      "-------------------------------------------\n",
      "Time: 2021-09-19 00:55:58\n",
      "-------------------------------------------\n",
      "\n",
      "printrddwindow [('ghi', 1), ('abc', 1), ('def', 1), ('frg', 1)]\n",
      "printrddcountByWindow [4]\n",
      "printrddcountByValueAndWindow [(('ghi', 1), 1), (('abc', 1), 1), (('def', 1), 1), (('frg', 1), 1)]\n",
      "-------------------------------------------\n",
      "Time: 2021-09-19 00:55:59\n",
      "-------------------------------------------\n",
      "\n",
      "-------------------------------------------\n",
      "Time: 2021-09-19 00:56:00\n",
      "-------------------------------------------\n",
      "pmj\n",
      "\n",
      "-------------------------------------------\n",
      "Time: 2021-09-19 00:56:01\n",
      "-------------------------------------------\n",
      "\n",
      "-------------------------------------------\n",
      "Time: 2021-09-19 00:56:02\n",
      "-------------------------------------------\n",
      "abc\n",
      "\n",
      "-------------------------------------------\n",
      "Time: 2021-09-19 00:56:03\n",
      "-------------------------------------------\n",
      "def\n",
      "\n",
      "printrddwindow [('def', 1), ('frg', 1), ('pmj', 1), ('abc', 1), ('def', 1)]\n",
      "printrddcountByWindow [5]\n",
      "printrddcountByValueAndWindow [(('def', 1), 2), (('frg', 1), 1), (('pmj', 1), 1), (('abc', 1), 1)]\n",
      "-------------------------------------------\n",
      "Time: 2021-09-19 00:56:04\n",
      "-------------------------------------------\n",
      "ghi\n",
      "\n",
      "-------------------------------------------\n",
      "Time: 2021-09-19 00:56:05\n",
      "-------------------------------------------\n",
      "\n",
      "-------------------------------------------\n",
      "Time: 2021-09-19 00:56:06\n",
      "-------------------------------------------\n",
      "\n",
      "-------------------------------------------\n",
      "Time: 2021-09-19 00:56:07\n",
      "-------------------------------------------\n",
      "\n",
      "-------------------------------------------\n",
      "Time: 2021-09-19 00:56:08\n",
      "-------------------------------------------\n",
      "\n",
      "printrddwindow [('pmj', 1), ('abc', 1), ('def', 1), ('ghi', 1)]\n",
      "printrddcountByWindow [4]\n",
      "printrddcountByValueAndWindow [(('pmj', 1), 1), (('abc', 1), 1), (('def', 1), 1), (('ghi', 1), 1)]\n"
     ]
    }
   ],
   "source": [
    "try: ssc.stop(True, True)\n",
    "except: pass\n",
    "try: spark.stop()\n",
    "except: pass"
   ]
  },
  {
   "cell_type": "code",
   "execution_count": 77,
   "id": "b7f0aca1",
   "metadata": {},
   "outputs": [
    {
     "data": {
      "text/html": [
       "\n",
       "            <div>\n",
       "                <p><b>SparkSession - in-memory</b></p>\n",
       "                \n",
       "        <div>\n",
       "            <p><b>SparkContext</b></p>\n",
       "\n",
       "            <p><a href=\"http://169.254.181.150:4042\">Spark UI</a></p>\n",
       "\n",
       "            <dl>\n",
       "              <dt>Version</dt>\n",
       "                <dd><code>v2.4.8</code></dd>\n",
       "              <dt>Master</dt>\n",
       "                <dd><code>local[1]</code></dd>\n",
       "              <dt>AppName</dt>\n",
       "                <dd><code>SparkStreaming-04</code></dd>\n",
       "            </dl>\n",
       "        </div>\n",
       "        \n",
       "            </div>\n",
       "        "
      ],
      "text/plain": [
       "<pyspark.sql.session.SparkSession at 0x24023d67948>"
      ]
     },
     "execution_count": 77,
     "metadata": {},
     "output_type": "execute_result"
    }
   ],
   "source": [
    "spark=SparkSession.builder.appName(\"SparkStreaming-04\").master('local[1]').getOrCreate()\n",
    "sc=spark.sparkContext\n",
    "# .config(\"spark.driver.allowMultipleContexts\",\"true\")\n",
    "spark"
   ]
  },
  {
   "cell_type": "code",
   "execution_count": 78,
   "id": "abf5e56f",
   "metadata": {},
   "outputs": [
    {
     "data": {
      "text/plain": [
       "<pyspark.streaming.context.StreamingContext at 0x24023ce5f48>"
      ]
     },
     "execution_count": 78,
     "metadata": {},
     "output_type": "execute_result"
    }
   ],
   "source": [
    "ssc=StreamingContext(sc, 1) \n",
    "ssc.checkpoint('checkpoint-04')\n",
    "ssc # 1=1 second"
   ]
  },
  {
   "cell_type": "code",
   "execution_count": 79,
   "id": "169dcf00",
   "metadata": {},
   "outputs": [],
   "source": [
    "lines=ssc.socketTextStream(\"localhost\", 8000)\n",
    "lines.pprint()"
   ]
  },
  {
   "cell_type": "code",
   "execution_count": 80,
   "id": "3ca52bdb",
   "metadata": {},
   "outputs": [],
   "source": [
    "lines=lines.flatMap(lambda x:x.split(\" \")).map(lambda x:(x,1))\n",
    "# lines.window(30,10).pprint()\n",
    "\n",
    "def printrddwindow(rdd):\n",
    "    print(\"printrddwindow\", rdd.collect())\n",
    "    \n",
    "def printrddcountByWindow(rdd):\n",
    "    print(\"printrddcountByWindow\", rdd.collect())\n",
    "    \n",
    "def printreduceByKeyAndWindow(rdd):\n",
    "    print(\"printreduceByKeyAndWindow\", rdd.collect())\n",
    "    \n",
    "def printrddcountByValueAndWindow(rdd):\n",
    "    print(\"printrddcountByValueAndWindow\", rdd.collect())\n",
    "    \n",
    "# slideDuration print after seconds\n",
    "# windowDuration discard old elements registered before this time frame\n",
    "lines.window(10,5).foreachRDD(printrddwindow)\n",
    "lines.countByWindow(10,5).foreachRDD(printrddcountByWindow)\n",
    "lines.reduceByKeyAndWindow(lambda x,y: x+y, 10, 5).foreachRDD(printreduceByKeyAndWindow)\n",
    "lines.countByValueAndWindow(10,5).foreachRDD(printrddcountByValueAndWindow)"
   ]
  },
  {
   "cell_type": "code",
   "execution_count": 81,
   "id": "894daf5d",
   "metadata": {},
   "outputs": [
    {
     "name": "stdout",
     "output_type": "stream",
     "text": [
      "-------------------------------------------\n",
      "Time: 2021-09-19 00:55:39\n",
      "-------------------------------------------\n",
      "\n"
     ]
    }
   ],
   "source": [
    "ssc.start()"
   ]
  },
  {
   "cell_type": "code",
   "execution_count": null,
   "id": "59024eac",
   "metadata": {},
   "outputs": [],
   "source": []
  },
  {
   "cell_type": "code",
   "execution_count": null,
   "id": "378b5b26",
   "metadata": {},
   "outputs": [],
   "source": []
  }
 ],
 "metadata": {
  "kernelspec": {
   "display_name": "Python 3 (ipykernel)",
   "language": "python",
   "name": "python3"
  },
  "language_info": {
   "codemirror_mode": {
    "name": "ipython",
    "version": 3
   },
   "file_extension": ".py",
   "mimetype": "text/x-python",
   "name": "python",
   "nbconvert_exporter": "python",
   "pygments_lexer": "ipython3",
   "version": "3.7.9"
  }
 },
 "nbformat": 4,
 "nbformat_minor": 5
}
