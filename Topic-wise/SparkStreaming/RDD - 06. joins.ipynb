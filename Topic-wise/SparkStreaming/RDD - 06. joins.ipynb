{
 "cells": [
  {
   "cell_type": "code",
   "execution_count": 1,
   "id": "c8ec323f",
   "metadata": {},
   "outputs": [],
   "source": [
    "import findspark\n",
    "from pyspark.streaming import StreamingContext\n",
    "from pyspark.sql import SparkSession\n",
    "import math\n",
    "\n",
    "findspark.init()"
   ]
  },
  {
   "cell_type": "code",
   "execution_count": 85,
   "id": "2c50b88d",
   "metadata": {},
   "outputs": [
    {
     "name": "stdout",
     "output_type": "stream",
     "text": [
      "printjoin []\n",
      "printjoin []\n",
      "printjoin []\n",
      "printjoin []\n",
      "printjoin []\n",
      "printjoin []\n",
      "printjoin []\n",
      "printjoin []\n",
      "printjoin []\n"
     ]
    }
   ],
   "source": [
    "try: ssc.stop(True, True)\n",
    "except: pass\n",
    "try: spark.stop()\n",
    "except: pass"
   ]
  },
  {
   "cell_type": "code",
   "execution_count": 77,
   "id": "7ec86404",
   "metadata": {},
   "outputs": [
    {
     "data": {
      "text/html": [
       "\n",
       "            <div>\n",
       "                <p><b>SparkSession - in-memory</b></p>\n",
       "                \n",
       "        <div>\n",
       "            <p><b>SparkContext</b></p>\n",
       "\n",
       "            <p><a href=\"http://169.254.181.150:4040\">Spark UI</a></p>\n",
       "\n",
       "            <dl>\n",
       "              <dt>Version</dt>\n",
       "                <dd><code>v2.4.8</code></dd>\n",
       "              <dt>Master</dt>\n",
       "                <dd><code>local[1]</code></dd>\n",
       "              <dt>AppName</dt>\n",
       "                <dd><code>SparkStreaming-06</code></dd>\n",
       "            </dl>\n",
       "        </div>\n",
       "        \n",
       "            </div>\n",
       "        "
      ],
      "text/plain": [
       "<pyspark.sql.session.SparkSession at 0x1f4eb98ab88>"
      ]
     },
     "execution_count": 77,
     "metadata": {},
     "output_type": "execute_result"
    }
   ],
   "source": [
    "spark=SparkSession.builder.appName(\"SparkStreaming-06\").master('local[1]').getOrCreate()\n",
    "sc=spark.sparkContext\n",
    "# .config(\"spark.driver.allowMultipleContexts\",\"true\")\n",
    "spark"
   ]
  },
  {
   "cell_type": "code",
   "execution_count": 78,
   "id": "29725df1",
   "metadata": {},
   "outputs": [
    {
     "data": {
      "text/plain": [
       "<pyspark.streaming.context.StreamingContext at 0x1f4eb8fb308>"
      ]
     },
     "execution_count": 78,
     "metadata": {},
     "output_type": "execute_result"
    }
   ],
   "source": [
    "ssc=StreamingContext(sc, 1) \n",
    "# ssc.checkpoint('checkpoint-06')\n",
    "ssc # 1=1 second"
   ]
  },
  {
   "cell_type": "code",
   "execution_count": 79,
   "id": "d2eb095e",
   "metadata": {},
   "outputs": [],
   "source": [
    "stream1=ssc.queueStream([\n",
    "    sc.parallelize([('a',1), ('b',2), ('c',3)]),\n",
    "    sc.parallelize([(2,'h'),(2,'d'),(1,'j'),(2,'e'),(1,'l'),(3,'m')])\n",
    "],oneAtATime=True)"
   ]
  },
  {
   "cell_type": "code",
   "execution_count": 80,
   "id": "9428e59b",
   "metadata": {},
   "outputs": [],
   "source": [
    "stream2=ssc.queueStream([\n",
    "    sc.parallelize([('a',True), ('b',False), ('d',True)]),\n",
    "    sc.parallelize([(2,'e'),(2,'d'),(1,'j'),(2,'k'),(1,'l'),(3,'m')])\n",
    "],oneAtATime=True)"
   ]
  },
  {
   "cell_type": "code",
   "execution_count": 81,
   "id": "46955fd8",
   "metadata": {},
   "outputs": [],
   "source": [
    "stream3=ssc.queueStream([\n",
    "    sc.parallelize([('a',1), ('b',2), ('c',3)]),\n",
    "    sc.parallelize([('a',True), ('b',False), ('d',True)]),\n",
    "],oneAtATime=True)"
   ]
  },
  {
   "cell_type": "code",
   "execution_count": 82,
   "id": "4d59d1ec",
   "metadata": {},
   "outputs": [],
   "source": [
    "dataset = sc.parallelize([('e',True), ('b',False), ('d',True)])"
   ]
  },
  {
   "cell_type": "code",
   "execution_count": 83,
   "id": "54784cd6",
   "metadata": {},
   "outputs": [
    {
     "ename": "AttributeError",
     "evalue": "'RDD' object has no attribute 'transform'",
     "output_type": "error",
     "traceback": [
      "\u001b[1;31m---------------------------------------------------------------------------\u001b[0m",
      "\u001b[1;31mAttributeError\u001b[0m                            Traceback (most recent call last)",
      "\u001b[1;32mC:\\Users\\DMS240~1\\AppData\\Local\\Temp/ipykernel_20792/2188843946.py\u001b[0m in \u001b[0;36m<module>\u001b[1;34m\u001b[0m\n\u001b[0;32m      6\u001b[0m \u001b[1;33m\u001b[0m\u001b[0m\n\u001b[0;32m      7\u001b[0m \u001b[0mstream1\u001b[0m\u001b[1;33m.\u001b[0m\u001b[0mjoin\u001b[0m\u001b[1;33m(\u001b[0m\u001b[0mstream2\u001b[0m\u001b[1;33m)\u001b[0m\u001b[1;33m.\u001b[0m\u001b[0mforeachRDD\u001b[0m\u001b[1;33m(\u001b[0m\u001b[0mprintjoin\u001b[0m\u001b[1;33m)\u001b[0m\u001b[1;33m\u001b[0m\u001b[1;33m\u001b[0m\u001b[0m\n\u001b[1;32m----> 8\u001b[1;33m \u001b[0mdataset\u001b[0m\u001b[1;33m.\u001b[0m\u001b[0mtransform\u001b[0m\u001b[1;33m(\u001b[0m\u001b[1;32mlambda\u001b[0m \u001b[0mrdd\u001b[0m\u001b[1;33m:\u001b[0m \u001b[0mrdd\u001b[0m\u001b[1;33m.\u001b[0m\u001b[0mjoin\u001b[0m\u001b[1;33m(\u001b[0m\u001b[0mstream2\u001b[0m\u001b[1;33m)\u001b[0m\u001b[1;33m)\u001b[0m\u001b[1;33m.\u001b[0m\u001b[0mforeachRDD\u001b[0m\u001b[1;33m(\u001b[0m\u001b[0mprinttransformjoin\u001b[0m\u001b[1;33m)\u001b[0m\u001b[1;33m\u001b[0m\u001b[1;33m\u001b[0m\u001b[0m\n\u001b[0m",
      "\u001b[1;31mAttributeError\u001b[0m: 'RDD' object has no attribute 'transform'"
     ]
    }
   ],
   "source": [
    "def printjoin(rdd):\n",
    "    print(\"printjoin\", rdd.collect())\n",
    "\n",
    "def printtransformjoin(rdd):\n",
    "    print(\"printtransformjoin\", rdd.collect())\n",
    "\n",
    "stream1.join(stream2).foreachRDD(printjoin)\n",
    "# dataset.transform(lambda rdd: rdd.join(stream2)).foreachRDD(printtransformjoin)"
   ]
  },
  {
   "cell_type": "code",
   "execution_count": 84,
   "id": "1a994af6",
   "metadata": {},
   "outputs": [
    {
     "name": "stdout",
     "output_type": "stream",
     "text": [
      "printjoin [('a', (1, True)), ('b', (2, False))]\n",
      "printjoin [(2, ('h', 'e')), (2, ('h', 'd')), (2, ('h', 'k')), (2, ('d', 'e')), (2, ('d', 'd')), (2, ('d', 'k')), (2, ('e', 'e')), (2, ('e', 'd')), (2, ('e', 'k')), (1, ('j', 'j')), (1, ('j', 'l')), (1, ('l', 'j')), (1, ('l', 'l')), (3, ('m', 'm'))]\n",
      "printjoin []\n",
      "printjoin []\n",
      "printjoin []\n"
     ]
    }
   ],
   "source": [
    "ssc.start()"
   ]
  },
  {
   "cell_type": "code",
   "execution_count": null,
   "id": "6499ea94",
   "metadata": {},
   "outputs": [],
   "source": []
  }
 ],
 "metadata": {
  "kernelspec": {
   "display_name": "Python 3 (ipykernel)",
   "language": "python",
   "name": "python3"
  },
  "language_info": {
   "codemirror_mode": {
    "name": "ipython",
    "version": 3
   },
   "file_extension": ".py",
   "mimetype": "text/x-python",
   "name": "python",
   "nbconvert_exporter": "python",
   "pygments_lexer": "ipython3",
   "version": "3.7.9"
  }
 },
 "nbformat": 4,
 "nbformat_minor": 5
}
