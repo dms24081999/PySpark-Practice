{
 "cells": [
  {
   "cell_type": "code",
   "execution_count": 1,
   "id": "9cfbb2fb",
   "metadata": {},
   "outputs": [],
   "source": [
    "import findspark\n",
    "from pyspark.streaming import StreamingContext\n",
    "from pyspark.sql import SparkSession\n",
    "import math\n",
    "\n",
    "findspark.init()"
   ]
  },
  {
   "cell_type": "code",
   "execution_count": 29,
   "id": "c424a4ed",
   "metadata": {},
   "outputs": [
    {
     "name": "stdout",
     "output_type": "stream",
     "text": [
      "[]\n",
      "[]\n",
      "[]\n",
      "[]\n",
      "[]\n",
      "[]\n",
      "[]\n",
      "[]\n",
      "[]\n",
      "[]\n",
      "[]\n"
     ]
    }
   ],
   "source": [
    "try: ssc.stop(True, True)\n",
    "except: pass\n",
    "try: spark.stop()\n",
    "except: pass"
   ]
  },
  {
   "cell_type": "code",
   "execution_count": 31,
   "id": "08aaaa27",
   "metadata": {},
   "outputs": [
    {
     "data": {
      "text/html": [
       "\n",
       "            <div>\n",
       "                <p><b>SparkSession - in-memory</b></p>\n",
       "                \n",
       "        <div>\n",
       "            <p><b>SparkContext</b></p>\n",
       "\n",
       "            <p><a href=\"http://169.254.181.150:4040\">Spark UI</a></p>\n",
       "\n",
       "            <dl>\n",
       "              <dt>Version</dt>\n",
       "                <dd><code>v2.4.8</code></dd>\n",
       "              <dt>Master</dt>\n",
       "                <dd><code>local[1]</code></dd>\n",
       "              <dt>AppName</dt>\n",
       "                <dd><code>SparkStreaming-02</code></dd>\n",
       "            </dl>\n",
       "        </div>\n",
       "        \n",
       "            </div>\n",
       "        "
      ],
      "text/plain": [
       "<pyspark.sql.session.SparkSession at 0x24131620c48>"
      ]
     },
     "execution_count": 31,
     "metadata": {},
     "output_type": "execute_result"
    }
   ],
   "source": [
    "spark=SparkSession.builder.appName(\"SparkStreaming-02\").master('local[1]').getOrCreate()\n",
    "sc=spark.sparkContext\n",
    "# .config(\"spark.driver.allowMultipleContexts\",\"true\")\n",
    "spark"
   ]
  },
  {
   "cell_type": "code",
   "execution_count": 23,
   "id": "a7237101",
   "metadata": {},
   "outputs": [
    {
     "data": {
      "text/plain": [
       "<pyspark.streaming.context.StreamingContext at 0x2412fc49608>"
      ]
     },
     "execution_count": 23,
     "metadata": {},
     "output_type": "execute_result"
    }
   ],
   "source": [
    "ssc=StreamingContext(sc, 1) \n",
    "# ssc.checkpoint('checkpoint-01') compulsory in stateful transformations only\n",
    "ssc # 1=1 second"
   ]
  },
  {
   "cell_type": "code",
   "execution_count": 24,
   "id": "5e299a10",
   "metadata": {},
   "outputs": [],
   "source": [
    "stream=ssc.queueStream([\n",
    "    sc.parallelize([(1,'a'),(2,'b'),(1,'c'),(2,'d'),(1,'e'),(3,'f')]),\n",
    "    sc.parallelize([(2,'h'),(2,'i'),(1,'j'),(2,'k'),(1,'l'),(3,'m')])\n",
    "],oneAtATime=True)"
   ]
  },
  {
   "cell_type": "code",
   "execution_count": 25,
   "id": "3c89e057",
   "metadata": {},
   "outputs": [],
   "source": [
    "stream2=ssc.queueStream([\n",
    "    ssc.sparkContext.parallelize([(1,'a'),(2,'b'),(1,'c'),(2,'d'),(1,'e'),(3,'f')]),\n",
    "    ssc.sparkContext.parallelize([(2,'h'),(2,'i'),(1,'j'),(2,'k'),(1,'l'),(3,'m')])\n",
    "],oneAtATime=False)"
   ]
  },
  {
   "cell_type": "code",
   "execution_count": 26,
   "id": "aa71cb99",
   "metadata": {},
   "outputs": [],
   "source": [
    "maxstream=stream.reduceByKey(lambda x,y: x+y)\n",
    "\n",
    "# maxstream.pprint(2)\n",
    "# print(maxstream.pprint(2)) \n",
    "\n",
    "def printrdd(rdd):\n",
    "    print(rdd.take(2))\n",
    "maxstream.foreachRDD(printrdd)"
   ]
  },
  {
   "cell_type": "code",
   "execution_count": 27,
   "id": "dd02282c",
   "metadata": {},
   "outputs": [],
   "source": [
    "def mapValues(rdd):\n",
    "    rdd=rdd.map(lambda x: (x[1],x[0]))\n",
    "    return rdd\n",
    "maxstream=maxstream.transform(mapValues)\n",
    "\n",
    "# maxstream.pprint(2)\n",
    "def printrdd(rdd):\n",
    "    print(rdd.collect())\n",
    "maxstream.foreachRDD(printrdd)"
   ]
  },
  {
   "cell_type": "code",
   "execution_count": 28,
   "id": "6dbeb116",
   "metadata": {},
   "outputs": [
    {
     "name": "stdout",
     "output_type": "stream",
     "text": [
      "[(1, 'ace'), (2, 'bd')]\n",
      "[('ace', 1), ('bd', 2), ('f', 3)]\n",
      "[(2, 'hik'), (1, 'jl')]\n",
      "[('hik', 2), ('jl', 1), ('m', 3)]\n",
      "[]\n",
      "[]\n",
      "[]\n"
     ]
    }
   ],
   "source": [
    "ssc.start()"
   ]
  },
  {
   "cell_type": "code",
   "execution_count": 199,
   "id": "d67aa533",
   "metadata": {},
   "outputs": [],
   "source": [
    "lines=ssc.socketTextStream(\"localhost\", 8000)\n",
    "lines.pprint()"
   ]
  },
  {
   "cell_type": "code",
   "execution_count": 200,
   "id": "93a3be0e",
   "metadata": {},
   "outputs": [],
   "source": [
    "ssc.start()"
   ]
  },
  {
   "cell_type": "code",
   "execution_count": 76,
   "id": "890d3338",
   "metadata": {},
   "outputs": [],
   "source": []
  },
  {
   "cell_type": "code",
   "execution_count": null,
   "id": "16fce6c9",
   "metadata": {},
   "outputs": [],
   "source": []
  }
 ],
 "metadata": {
  "kernelspec": {
   "display_name": "Python 3 (ipykernel)",
   "language": "python",
   "name": "python3"
  },
  "language_info": {
   "codemirror_mode": {
    "name": "ipython",
    "version": 3
   },
   "file_extension": ".py",
   "mimetype": "text/x-python",
   "name": "python",
   "nbconvert_exporter": "python",
   "pygments_lexer": "ipython3",
   "version": "3.7.9"
  }
 },
 "nbformat": 4,
 "nbformat_minor": 5
}
