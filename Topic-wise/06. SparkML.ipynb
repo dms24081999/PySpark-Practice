{
 "cells": [
  {
   "cell_type": "code",
   "execution_count": 54,
   "id": "8966d844",
   "metadata": {},
   "outputs": [],
   "source": [
    "import findspark\n",
    "from pyspark.sql import SparkSession\n",
    "from pyspark.sql import Row\n",
    "from pyspark.sql.types import StructField,StructType,IntegerType,StringType,TimestampType,ArrayType,DoubleType\n",
    "from pyspark.ml.feature import VectorAssembler,VectorIndexer,StringIndexer,OneHotEncoder,IndexToString,Binarizer,StringIndexerModel,Bucketizer\n",
    "from pyspark.ml.stat import Correlation\n",
    "from pyspark.ml import Pipeline\n",
    "from pyspark.sql import functions as F\n",
    "from pyspark.ml.evaluation import *\n",
    "from pyspark.ml.classification import LogisticRegression\n",
    "from pyspark.ml.linalg import DenseVector,SparseVector"
   ]
  },
  {
   "cell_type": "code",
   "execution_count": 55,
   "id": "4650d786",
   "metadata": {},
   "outputs": [
    {
     "name": "stderr",
     "output_type": "stream",
     "text": [
      "d:\\projects\\python\\pyspark\\env-win-v3.7.9\\lib\\site-packages\\ipykernel_launcher.py:4: FutureWarning: Passing a negative integer is deprecated in version 1.0 and will not be supported in future version. Instead, use None to not limit the column width.\n",
      "  after removing the cwd from sys.path.\n"
     ]
    }
   ],
   "source": [
    "import pandas as pd \n",
    "pd.set_option('display.max_columns', None)\n",
    "pd.set_option('display.max_rows', None)\n",
    "pd.set_option('display.max_colwidth', -1) "
   ]
  },
  {
   "cell_type": "code",
   "execution_count": 56,
   "id": "316f2bcb",
   "metadata": {},
   "outputs": [],
   "source": [
    "findspark.init()"
   ]
  },
  {
   "cell_type": "code",
   "execution_count": 59,
   "id": "99d0d2ca",
   "metadata": {},
   "outputs": [],
   "source": [
    "try: spark.stop()\n",
    "except: pass"
   ]
  },
  {
   "cell_type": "code",
   "execution_count": 58,
   "id": "7d12f47a",
   "metadata": {},
   "outputs": [],
   "source": [
    "# By default 12 executors based on CPU core if not specified\n",
    "spark=SparkSession.builder.appName(\"SparkML\").master(\"local[4]\").getOrCreate()\n",
    "sc=spark.sparkContext"
   ]
  },
  {
   "cell_type": "markdown",
   "id": "d84aa92a",
   "metadata": {},
   "source": [
    "# Read DataFrame"
   ]
  },
  {
   "cell_type": "code",
   "execution_count": 6,
   "id": "3d5d9daa",
   "metadata": {},
   "outputs": [
    {
     "data": {
      "text/plain": [
       "[Row(cls='Iris-setosa', petal_l=1.4, petal_w=0.2, sepal_l=5.1, sepal_w=3.5),\n",
       " Row(cls='Iris-setosa', petal_l=1.4, petal_w=0.2, sepal_l=4.9, sepal_w=3.0),\n",
       " Row(cls='Iris-setosa', petal_l=1.3, petal_w=0.2, sepal_l=4.7, sepal_w=3.2),\n",
       " Row(cls='Iris-setosa', petal_l=1.5, petal_w=0.2, sepal_l=4.6, sepal_w=3.1),\n",
       " Row(cls='Iris-setosa', petal_l=1.4, petal_w=0.2, sepal_l=5.0, sepal_w=3.6),\n",
       " Row(cls='Iris-setosa', petal_l=1.7, petal_w=0.4, sepal_l=5.4, sepal_w=3.9),\n",
       " Row(cls='Iris-setosa', petal_l=1.4, petal_w=0.3, sepal_l=4.6, sepal_w=3.4),\n",
       " Row(cls='Iris-setosa', petal_l=1.5, petal_w=0.2, sepal_l=5.0, sepal_w=3.4),\n",
       " Row(cls='Iris-setosa', petal_l=1.4, petal_w=0.2, sepal_l=4.4, sepal_w=2.9),\n",
       " Row(cls='Iris-setosa', petal_l=1.5, petal_w=0.1, sepal_l=4.9, sepal_w=3.1),\n",
       " Row(cls='Iris-setosa', petal_l=1.5, petal_w=0.2, sepal_l=5.4, sepal_w=3.7),\n",
       " Row(cls='Iris-setosa', petal_l=1.6, petal_w=0.2, sepal_l=4.8, sepal_w=3.4),\n",
       " Row(cls='Iris-setosa', petal_l=1.4, petal_w=0.1, sepal_l=4.8, sepal_w=3.0),\n",
       " Row(cls='Iris-setosa', petal_l=1.1, petal_w=0.1, sepal_l=4.3, sepal_w=3.0),\n",
       " Row(cls='Iris-setosa', petal_l=1.2, petal_w=0.2, sepal_l=5.8, sepal_w=4.0),\n",
       " Row(cls='Iris-setosa', petal_l=1.5, petal_w=0.4, sepal_l=5.7, sepal_w=4.4),\n",
       " Row(cls='Iris-setosa', petal_l=1.3, petal_w=0.4, sepal_l=5.4, sepal_w=3.9),\n",
       " Row(cls='Iris-setosa', petal_l=1.4, petal_w=0.3, sepal_l=5.1, sepal_w=3.5),\n",
       " Row(cls='Iris-setosa', petal_l=1.7, petal_w=0.3, sepal_l=5.7, sepal_w=3.8),\n",
       " Row(cls='Iris-setosa', petal_l=1.5, petal_w=0.3, sepal_l=5.1, sepal_w=3.8),\n",
       " Row(cls='Iris-setosa', petal_l=1.7, petal_w=0.2, sepal_l=5.4, sepal_w=3.4),\n",
       " Row(cls='Iris-setosa', petal_l=1.5, petal_w=0.4, sepal_l=5.1, sepal_w=3.7),\n",
       " Row(cls='Iris-setosa', petal_l=1.0, petal_w=0.2, sepal_l=4.6, sepal_w=3.6),\n",
       " Row(cls='Iris-setosa', petal_l=1.7, petal_w=0.5, sepal_l=5.1, sepal_w=3.3),\n",
       " Row(cls='Iris-setosa', petal_l=1.9, petal_w=0.2, sepal_l=4.8, sepal_w=3.4),\n",
       " Row(cls='Iris-setosa', petal_l=1.6, petal_w=0.2, sepal_l=5.0, sepal_w=3.0),\n",
       " Row(cls='Iris-setosa', petal_l=1.6, petal_w=0.4, sepal_l=5.0, sepal_w=3.4),\n",
       " Row(cls='Iris-setosa', petal_l=1.5, petal_w=0.2, sepal_l=5.2, sepal_w=3.5),\n",
       " Row(cls='Iris-setosa', petal_l=1.4, petal_w=0.2, sepal_l=5.2, sepal_w=3.4),\n",
       " Row(cls='Iris-setosa', petal_l=1.6, petal_w=0.2, sepal_l=4.7, sepal_w=3.2),\n",
       " Row(cls='Iris-setosa', petal_l=1.6, petal_w=0.2, sepal_l=4.8, sepal_w=3.1),\n",
       " Row(cls='Iris-setosa', petal_l=1.5, petal_w=0.4, sepal_l=5.4, sepal_w=3.4),\n",
       " Row(cls='Iris-setosa', petal_l=1.5, petal_w=0.1, sepal_l=5.2, sepal_w=4.1),\n",
       " Row(cls='Iris-setosa', petal_l=1.4, petal_w=0.2, sepal_l=5.5, sepal_w=4.2),\n",
       " Row(cls='Iris-setosa', petal_l=1.5, petal_w=0.1, sepal_l=4.9, sepal_w=3.1),\n",
       " Row(cls='Iris-setosa', petal_l=1.2, petal_w=0.2, sepal_l=5.0, sepal_w=3.2),\n",
       " Row(cls='Iris-setosa', petal_l=1.3, petal_w=0.2, sepal_l=5.5, sepal_w=3.5),\n",
       " Row(cls='Iris-setosa', petal_l=1.5, petal_w=0.1, sepal_l=4.9, sepal_w=3.1),\n",
       " Row(cls='Iris-setosa', petal_l=1.3, petal_w=0.2, sepal_l=4.4, sepal_w=3.0),\n",
       " Row(cls='Iris-setosa', petal_l=1.5, petal_w=0.2, sepal_l=5.1, sepal_w=3.4),\n",
       " Row(cls='Iris-setosa', petal_l=1.3, petal_w=0.3, sepal_l=5.0, sepal_w=3.5),\n",
       " Row(cls='Iris-setosa', petal_l=1.3, petal_w=0.3, sepal_l=4.5, sepal_w=2.3),\n",
       " Row(cls='Iris-setosa', petal_l=1.3, petal_w=0.2, sepal_l=4.4, sepal_w=3.2),\n",
       " Row(cls='Iris-setosa', petal_l=1.6, petal_w=0.6, sepal_l=5.0, sepal_w=3.5),\n",
       " Row(cls='Iris-setosa', petal_l=1.9, petal_w=0.4, sepal_l=5.1, sepal_w=3.8),\n",
       " Row(cls='Iris-setosa', petal_l=1.4, petal_w=0.3, sepal_l=4.8, sepal_w=3.0),\n",
       " Row(cls='Iris-setosa', petal_l=1.6, petal_w=0.2, sepal_l=5.1, sepal_w=3.8),\n",
       " Row(cls='Iris-setosa', petal_l=1.4, petal_w=0.2, sepal_l=4.6, sepal_w=3.2),\n",
       " Row(cls='Iris-setosa', petal_l=1.5, petal_w=0.2, sepal_l=5.3, sepal_w=3.7),\n",
       " Row(cls='Iris-setosa', petal_l=1.4, petal_w=0.2, sepal_l=5.0, sepal_w=3.3),\n",
       " Row(cls='Iris-versicolor', petal_l=4.7, petal_w=1.4, sepal_l=7.0, sepal_w=3.2),\n",
       " Row(cls='Iris-versicolor', petal_l=4.5, petal_w=1.5, sepal_l=6.4, sepal_w=3.2),\n",
       " Row(cls='Iris-versicolor', petal_l=4.9, petal_w=1.5, sepal_l=6.9, sepal_w=3.1),\n",
       " Row(cls='Iris-versicolor', petal_l=4.0, petal_w=1.3, sepal_l=5.5, sepal_w=2.3),\n",
       " Row(cls='Iris-versicolor', petal_l=4.6, petal_w=1.5, sepal_l=6.5, sepal_w=2.8),\n",
       " Row(cls='Iris-versicolor', petal_l=4.5, petal_w=1.3, sepal_l=5.7, sepal_w=2.8),\n",
       " Row(cls='Iris-versicolor', petal_l=4.7, petal_w=1.6, sepal_l=6.3, sepal_w=3.3),\n",
       " Row(cls='Iris-versicolor', petal_l=3.3, petal_w=1.0, sepal_l=4.9, sepal_w=2.4),\n",
       " Row(cls='Iris-versicolor', petal_l=4.6, petal_w=1.3, sepal_l=6.6, sepal_w=2.9),\n",
       " Row(cls='Iris-versicolor', petal_l=3.9, petal_w=1.4, sepal_l=5.2, sepal_w=2.7),\n",
       " Row(cls='Iris-versicolor', petal_l=3.5, petal_w=1.0, sepal_l=5.0, sepal_w=2.0),\n",
       " Row(cls='Iris-versicolor', petal_l=4.2, petal_w=1.5, sepal_l=5.9, sepal_w=3.0),\n",
       " Row(cls='Iris-versicolor', petal_l=4.0, petal_w=1.0, sepal_l=6.0, sepal_w=2.2),\n",
       " Row(cls='Iris-versicolor', petal_l=4.7, petal_w=1.4, sepal_l=6.1, sepal_w=2.9),\n",
       " Row(cls='Iris-versicolor', petal_l=3.6, petal_w=1.3, sepal_l=5.6, sepal_w=2.9),\n",
       " Row(cls='Iris-versicolor', petal_l=4.4, petal_w=1.4, sepal_l=6.7, sepal_w=3.1),\n",
       " Row(cls='Iris-versicolor', petal_l=4.5, petal_w=1.5, sepal_l=5.6, sepal_w=3.0),\n",
       " Row(cls='Iris-versicolor', petal_l=4.1, petal_w=1.0, sepal_l=5.8, sepal_w=2.7),\n",
       " Row(cls='Iris-versicolor', petal_l=4.5, petal_w=1.5, sepal_l=6.2, sepal_w=2.2),\n",
       " Row(cls='Iris-versicolor', petal_l=3.9, petal_w=1.1, sepal_l=5.6, sepal_w=2.5),\n",
       " Row(cls='Iris-versicolor', petal_l=4.8, petal_w=1.8, sepal_l=5.9, sepal_w=3.2),\n",
       " Row(cls='Iris-versicolor', petal_l=4.0, petal_w=1.3, sepal_l=6.1, sepal_w=2.8),\n",
       " Row(cls='Iris-versicolor', petal_l=4.9, petal_w=1.5, sepal_l=6.3, sepal_w=2.5),\n",
       " Row(cls='Iris-versicolor', petal_l=4.7, petal_w=1.2, sepal_l=6.1, sepal_w=2.8),\n",
       " Row(cls='Iris-versicolor', petal_l=4.3, petal_w=1.3, sepal_l=6.4, sepal_w=2.9),\n",
       " Row(cls='Iris-versicolor', petal_l=4.4, petal_w=1.4, sepal_l=6.6, sepal_w=3.0),\n",
       " Row(cls='Iris-versicolor', petal_l=4.8, petal_w=1.4, sepal_l=6.8, sepal_w=2.8),\n",
       " Row(cls='Iris-versicolor', petal_l=5.0, petal_w=1.7, sepal_l=6.7, sepal_w=3.0),\n",
       " Row(cls='Iris-versicolor', petal_l=4.5, petal_w=1.5, sepal_l=6.0, sepal_w=2.9),\n",
       " Row(cls='Iris-versicolor', petal_l=3.5, petal_w=1.0, sepal_l=5.7, sepal_w=2.6),\n",
       " Row(cls='Iris-versicolor', petal_l=3.8, petal_w=1.1, sepal_l=5.5, sepal_w=2.4),\n",
       " Row(cls='Iris-versicolor', petal_l=3.7, petal_w=1.0, sepal_l=5.5, sepal_w=2.4),\n",
       " Row(cls='Iris-versicolor', petal_l=3.9, petal_w=1.2, sepal_l=5.8, sepal_w=2.7),\n",
       " Row(cls='Iris-versicolor', petal_l=5.1, petal_w=1.6, sepal_l=6.0, sepal_w=2.7),\n",
       " Row(cls='Iris-versicolor', petal_l=4.5, petal_w=1.5, sepal_l=5.4, sepal_w=3.0),\n",
       " Row(cls='Iris-versicolor', petal_l=4.5, petal_w=1.6, sepal_l=6.0, sepal_w=3.4),\n",
       " Row(cls='Iris-versicolor', petal_l=4.7, petal_w=1.5, sepal_l=6.7, sepal_w=3.1),\n",
       " Row(cls='Iris-versicolor', petal_l=4.4, petal_w=1.3, sepal_l=6.3, sepal_w=2.3),\n",
       " Row(cls='Iris-versicolor', petal_l=4.1, petal_w=1.3, sepal_l=5.6, sepal_w=3.0),\n",
       " Row(cls='Iris-versicolor', petal_l=4.0, petal_w=1.3, sepal_l=5.5, sepal_w=2.5),\n",
       " Row(cls='Iris-versicolor', petal_l=4.4, petal_w=1.2, sepal_l=5.5, sepal_w=2.6),\n",
       " Row(cls='Iris-versicolor', petal_l=4.6, petal_w=1.4, sepal_l=6.1, sepal_w=3.0),\n",
       " Row(cls='Iris-versicolor', petal_l=4.0, petal_w=1.2, sepal_l=5.8, sepal_w=2.6),\n",
       " Row(cls='Iris-versicolor', petal_l=3.3, petal_w=1.0, sepal_l=5.0, sepal_w=2.3),\n",
       " Row(cls='Iris-versicolor', petal_l=4.2, petal_w=1.3, sepal_l=5.6, sepal_w=2.7),\n",
       " Row(cls='Iris-versicolor', petal_l=4.2, petal_w=1.2, sepal_l=5.7, sepal_w=3.0),\n",
       " Row(cls='Iris-versicolor', petal_l=4.2, petal_w=1.3, sepal_l=5.7, sepal_w=2.9),\n",
       " Row(cls='Iris-versicolor', petal_l=4.3, petal_w=1.3, sepal_l=6.2, sepal_w=2.9),\n",
       " Row(cls='Iris-versicolor', petal_l=3.0, petal_w=1.1, sepal_l=5.1, sepal_w=2.5),\n",
       " Row(cls='Iris-versicolor', petal_l=4.1, petal_w=1.3, sepal_l=5.7, sepal_w=2.8),\n",
       " Row(cls='Iris-virginica', petal_l=6.0, petal_w=2.5, sepal_l=6.3, sepal_w=3.3),\n",
       " Row(cls='Iris-virginica', petal_l=5.1, petal_w=1.9, sepal_l=5.8, sepal_w=2.7),\n",
       " Row(cls='Iris-virginica', petal_l=5.9, petal_w=2.1, sepal_l=7.1, sepal_w=3.0),\n",
       " Row(cls='Iris-virginica', petal_l=5.6, petal_w=1.8, sepal_l=6.3, sepal_w=2.9),\n",
       " Row(cls='Iris-virginica', petal_l=5.8, petal_w=2.2, sepal_l=6.5, sepal_w=3.0),\n",
       " Row(cls='Iris-virginica', petal_l=6.6, petal_w=2.1, sepal_l=7.6, sepal_w=3.0),\n",
       " Row(cls='Iris-virginica', petal_l=4.5, petal_w=1.7, sepal_l=4.9, sepal_w=2.5),\n",
       " Row(cls='Iris-virginica', petal_l=6.3, petal_w=1.8, sepal_l=7.3, sepal_w=2.9),\n",
       " Row(cls='Iris-virginica', petal_l=5.8, petal_w=1.8, sepal_l=6.7, sepal_w=2.5),\n",
       " Row(cls='Iris-virginica', petal_l=6.1, petal_w=2.5, sepal_l=7.2, sepal_w=3.6),\n",
       " Row(cls='Iris-virginica', petal_l=5.1, petal_w=2.0, sepal_l=6.5, sepal_w=3.2),\n",
       " Row(cls='Iris-virginica', petal_l=5.3, petal_w=1.9, sepal_l=6.4, sepal_w=2.7),\n",
       " Row(cls='Iris-virginica', petal_l=5.5, petal_w=2.1, sepal_l=6.8, sepal_w=3.0),\n",
       " Row(cls='Iris-virginica', petal_l=5.0, petal_w=2.0, sepal_l=5.7, sepal_w=2.5),\n",
       " Row(cls='Iris-virginica', petal_l=5.1, petal_w=2.4, sepal_l=5.8, sepal_w=2.8),\n",
       " Row(cls='Iris-virginica', petal_l=5.3, petal_w=2.3, sepal_l=6.4, sepal_w=3.2),\n",
       " Row(cls='Iris-virginica', petal_l=5.5, petal_w=1.8, sepal_l=6.5, sepal_w=3.0),\n",
       " Row(cls='Iris-virginica', petal_l=6.7, petal_w=2.2, sepal_l=7.7, sepal_w=3.8),\n",
       " Row(cls='Iris-virginica', petal_l=6.9, petal_w=2.3, sepal_l=7.7, sepal_w=2.6),\n",
       " Row(cls='Iris-virginica', petal_l=5.0, petal_w=1.5, sepal_l=6.0, sepal_w=2.2),\n",
       " Row(cls='Iris-virginica', petal_l=5.7, petal_w=2.3, sepal_l=6.9, sepal_w=3.2),\n",
       " Row(cls='Iris-virginica', petal_l=4.9, petal_w=2.0, sepal_l=5.6, sepal_w=2.8),\n",
       " Row(cls='Iris-virginica', petal_l=6.7, petal_w=2.0, sepal_l=7.7, sepal_w=2.8),\n",
       " Row(cls='Iris-virginica', petal_l=4.9, petal_w=1.8, sepal_l=6.3, sepal_w=2.7),\n",
       " Row(cls='Iris-virginica', petal_l=5.7, petal_w=2.1, sepal_l=6.7, sepal_w=3.3),\n",
       " Row(cls='Iris-virginica', petal_l=6.0, petal_w=1.8, sepal_l=7.2, sepal_w=3.2),\n",
       " Row(cls='Iris-virginica', petal_l=4.8, petal_w=1.8, sepal_l=6.2, sepal_w=2.8),\n",
       " Row(cls='Iris-virginica', petal_l=4.9, petal_w=1.8, sepal_l=6.1, sepal_w=3.0),\n",
       " Row(cls='Iris-virginica', petal_l=5.6, petal_w=2.1, sepal_l=6.4, sepal_w=2.8),\n",
       " Row(cls='Iris-virginica', petal_l=5.8, petal_w=1.6, sepal_l=7.2, sepal_w=3.0),\n",
       " Row(cls='Iris-virginica', petal_l=6.1, petal_w=1.9, sepal_l=7.4, sepal_w=2.8),\n",
       " Row(cls='Iris-virginica', petal_l=6.4, petal_w=2.0, sepal_l=7.9, sepal_w=3.8),\n",
       " Row(cls='Iris-virginica', petal_l=5.6, petal_w=2.2, sepal_l=6.4, sepal_w=2.8),\n",
       " Row(cls='Iris-virginica', petal_l=5.1, petal_w=1.5, sepal_l=6.3, sepal_w=2.8),\n",
       " Row(cls='Iris-virginica', petal_l=5.6, petal_w=1.4, sepal_l=6.1, sepal_w=2.6),\n",
       " Row(cls='Iris-virginica', petal_l=6.1, petal_w=2.3, sepal_l=7.7, sepal_w=3.0),\n",
       " Row(cls='Iris-virginica', petal_l=5.6, petal_w=2.4, sepal_l=6.3, sepal_w=3.4),\n",
       " Row(cls='Iris-virginica', petal_l=5.5, petal_w=1.8, sepal_l=6.4, sepal_w=3.1),\n",
       " Row(cls='Iris-virginica', petal_l=4.8, petal_w=1.8, sepal_l=6.0, sepal_w=3.0),\n",
       " Row(cls='Iris-virginica', petal_l=5.4, petal_w=2.1, sepal_l=6.9, sepal_w=3.1),\n",
       " Row(cls='Iris-virginica', petal_l=5.6, petal_w=2.4, sepal_l=6.7, sepal_w=3.1),\n",
       " Row(cls='Iris-virginica', petal_l=5.1, petal_w=2.3, sepal_l=6.9, sepal_w=3.1),\n",
       " Row(cls='Iris-virginica', petal_l=5.1, petal_w=1.9, sepal_l=5.8, sepal_w=2.7),\n",
       " Row(cls='Iris-virginica', petal_l=5.9, petal_w=2.3, sepal_l=6.8, sepal_w=3.2),\n",
       " Row(cls='Iris-virginica', petal_l=5.7, petal_w=2.5, sepal_l=6.7, sepal_w=3.3),\n",
       " Row(cls='Iris-virginica', petal_l=5.2, petal_w=2.3, sepal_l=6.7, sepal_w=3.0),\n",
       " Row(cls='Iris-virginica', petal_l=5.0, petal_w=1.9, sepal_l=6.3, sepal_w=2.5),\n",
       " Row(cls='Iris-virginica', petal_l=5.2, petal_w=2.0, sepal_l=6.5, sepal_w=3.0),\n",
       " Row(cls='Iris-virginica', petal_l=5.4, petal_w=2.3, sepal_l=6.2, sepal_w=3.4),\n",
       " Row(cls='Iris-virginica', petal_l=5.1, petal_w=1.8, sepal_l=5.9, sepal_w=3.0)]"
      ]
     },
     "execution_count": 6,
     "metadata": {},
     "output_type": "execute_result"
    }
   ],
   "source": [
    "rdd1=sc.textFile(\"data/iris/iris.data\")\n",
    "rdd1=rdd1.map(lambda x: x.split(\",\"))\n",
    "rdd1=rdd1.map(lambda x: Row(sepal_l=float(x[0]), sepal_w=float(x[1]),petal_l=float(x[2]),petal_w=float(x[3]),cls=x[4]))\n",
    "rdd1.collect()"
   ]
  },
  {
   "cell_type": "code",
   "execution_count": 7,
   "id": "45d0f1e2",
   "metadata": {},
   "outputs": [
    {
     "name": "stdout",
     "output_type": "stream",
     "text": [
      "root\n",
      " |-- sepal_l: double (nullable = false)\n",
      " |-- sepal_w: double (nullable = false)\n",
      " |-- petal_l: double (nullable = false)\n",
      " |-- petal_w: double (nullable = false)\n",
      " |-- cls: string (nullable = false)\n",
      "\n",
      "None\n",
      "+-------+-------+-------+-------+-----------+\n",
      "|sepal_l|sepal_w|petal_l|petal_w|        cls|\n",
      "+-------+-------+-------+-------+-----------+\n",
      "|    5.1|    3.5|    1.4|    0.2|Iris-setosa|\n",
      "|    4.9|    3.0|    1.4|    0.2|Iris-setosa|\n",
      "|    4.7|    3.2|    1.3|    0.2|Iris-setosa|\n",
      "|    4.6|    3.1|    1.5|    0.2|Iris-setosa|\n",
      "|    5.0|    3.6|    1.4|    0.2|Iris-setosa|\n",
      "+-------+-------+-------+-------+-----------+\n",
      "only showing top 5 rows\n",
      "\n",
      "None\n"
     ]
    }
   ],
   "source": [
    "schema1=StructType([\n",
    "    StructField(\"sepal_l\",DoubleType(),False),\n",
    "    StructField(\"sepal_w\",DoubleType(),False),\n",
    "    StructField(\"petal_l\",DoubleType(),False),\n",
    "    StructField(\"petal_w\",DoubleType(),False),\n",
    "    StructField(\"cls\",StringType(),False),\n",
    "])\n",
    "df1=spark.createDataFrame(rdd1,schema1)\n",
    "print(df1.printSchema())\n",
    "print(df1.show(5))"
   ]
  },
  {
   "cell_type": "code",
   "execution_count": 8,
   "id": "4632e041",
   "metadata": {},
   "outputs": [
    {
     "name": "stdout",
     "output_type": "stream",
     "text": [
      "+---+------+---+---+---+---+\n",
      "| x1|    x2| x3| x4| y1| y2|\n",
      "+---+------+---+---+---+---+\n",
      "|  a| apple|  1|2.4|  1|yes|\n",
      "|  a|orange|  1|2.5|  0| no|\n",
      "|  b|orange|  2|3.5|  1| no|\n",
      "|  b|orange|  2|1.4|  0|yes|\n",
      "|  c| peach|  2|2.1|  0|yes|\n",
      "|  d| peach|  4|1.5|  1|yes|\n",
      "+---+------+---+---+---+---+\n",
      "\n"
     ]
    }
   ],
   "source": [
    "import pandas as pd\n",
    "pdf = pd.DataFrame({\n",
    "        'x1': ['a','a','b','b', 'c', 'd'],\n",
    "        'x2': ['apple', 'orange', 'orange','orange', 'peach', 'peach'],\n",
    "        'x3': [1, 1, 2, 2, 2, 4],\n",
    "        'x4': [2.4, 2.5, 3.5, 1.4, 2.1,1.5],\n",
    "        'y1': [1, 0, 1, 0, 0, 1],\n",
    "        'y2': ['yes', 'no', 'no', 'yes', 'yes', 'yes']\n",
    "    })\n",
    "df2 = spark.createDataFrame(pdf)\n",
    "df2.show()"
   ]
  },
  {
   "cell_type": "markdown",
   "id": "1987a8ab",
   "metadata": {},
   "source": [
    "# Dense vector and sparse vector\n",
    "A vector can be represented in dense and sparse formats. A dense vector is a regular vector that has each elements printed. A sparse vector use three components to represent a vector but with less memory."
   ]
  },
  {
   "cell_type": "code",
   "execution_count": 9,
   "id": "1ba897da",
   "metadata": {},
   "outputs": [
    {
     "data": {
      "text/plain": [
       "DenseVector([1.0, 0.0, 0.0, 0.0, 4.5, 0.0])"
      ]
     },
     "execution_count": 9,
     "metadata": {},
     "output_type": "execute_result"
    }
   ],
   "source": [
    "dv = DenseVector([1.0,0.,0.,0.,4.5,0])\n",
    "dv"
   ]
  },
  {
   "cell_type": "markdown",
   "id": "332a1943",
   "metadata": {},
   "source": [
    "## Three components of a sparse vector\n",
    "- vector size\n",
    "- indices of active elements\n",
    "- values of active elements\n",
    "\n",
    "In the above dense vector:\n",
    "\n",
    "- vector size = 6\n",
    "- indices of active elements = [0, 4]\n",
    "- values of active elements = [1.0, 4.5]\n",
    "\n",
    "We can use the SparseVector() function to create a sparse vector. The first argument is the vector size, the second argument is a dictionary. The keys are indices of active elements and the values are values of active elements."
   ]
  },
  {
   "cell_type": "code",
   "execution_count": 10,
   "id": "4900746e",
   "metadata": {},
   "outputs": [
    {
     "data": {
      "text/plain": [
       "SparseVector(6, {0: 1.0, 4: 4.5})"
      ]
     },
     "execution_count": 10,
     "metadata": {},
     "output_type": "execute_result"
    }
   ],
   "source": [
    "sv = SparseVector(6, {0:1.0, 4:4.5})\n",
    "sv"
   ]
  },
  {
   "cell_type": "markdown",
   "id": "dbfca02f",
   "metadata": {},
   "source": [
    "## Convert sparse vector to dense vector"
   ]
  },
  {
   "cell_type": "code",
   "execution_count": 11,
   "id": "cd8f4b30",
   "metadata": {},
   "outputs": [
    {
     "data": {
      "text/plain": [
       "DenseVector([1.0, 0.0, 0.0, 0.0, 4.5, 0.0])"
      ]
     },
     "execution_count": 11,
     "metadata": {},
     "output_type": "execute_result"
    }
   ],
   "source": [
    "DenseVector(sv.toArray())"
   ]
  },
  {
   "cell_type": "markdown",
   "id": "f48ce403",
   "metadata": {},
   "source": [
    "## Convert dense vector to sparse vector"
   ]
  },
  {
   "cell_type": "code",
   "execution_count": 12,
   "id": "d90f6dd4",
   "metadata": {},
   "outputs": [
    {
     "name": "stdout",
     "output_type": "stream",
     "text": [
      "{0: 1.0, 4: 4.5}\n",
      "(6,[0,4],[1.0,4.5])\n"
     ]
    }
   ],
   "source": [
    "active_elements_dict = {index: value for index, value in enumerate(dv) if value != 0}\n",
    "print(active_elements_dict)\n",
    "print(SparseVector(len(dv), active_elements_dict))"
   ]
  },
  {
   "cell_type": "markdown",
   "id": "774f7974",
   "metadata": {},
   "source": [
    "# VectorAssembler\n",
    "Assemble feature columns into one single feacturesCol with VectorAssembler"
   ]
  },
  {
   "cell_type": "code",
   "execution_count": 13,
   "id": "68dc5e3c",
   "metadata": {},
   "outputs": [
    {
     "name": "stdout",
     "output_type": "stream",
     "text": [
      "+-------+-------+-------+-------+-----------+-----------------+\n",
      "|sepal_l|sepal_w|petal_l|petal_w|        cls|         features|\n",
      "+-------+-------+-------+-------+-----------+-----------------+\n",
      "|    5.1|    3.5|    1.4|    0.2|Iris-setosa|[5.1,3.5,1.4,0.2]|\n",
      "|    4.9|    3.0|    1.4|    0.2|Iris-setosa|[4.9,3.0,1.4,0.2]|\n",
      "|    4.7|    3.2|    1.3|    0.2|Iris-setosa|[4.7,3.2,1.3,0.2]|\n",
      "+-------+-------+-------+-------+-----------+-----------------+\n",
      "only showing top 3 rows\n",
      "\n"
     ]
    }
   ],
   "source": [
    "assembler1 = VectorAssembler(inputCols = [\"sepal_l\", \"sepal_w\", \"petal_l\", \"petal_w\"], outputCol = \"features\")\n",
    "assembled1 = assembler1.transform(df1)\n",
    "assembled1.show(3)"
   ]
  },
  {
   "cell_type": "markdown",
   "id": "16e68224",
   "metadata": {},
   "source": [
    "# Split data into train and test set"
   ]
  },
  {
   "cell_type": "code",
   "execution_count": 15,
   "id": "cee64d17",
   "metadata": {},
   "outputs": [
    {
     "name": "stdout",
     "output_type": "stream",
     "text": [
      "+-----------+-----------------+\n",
      "|        cls|         features|\n",
      "+-----------+-----------------+\n",
      "|Iris-setosa|[4.4,3.0,1.3,0.2]|\n",
      "|Iris-setosa|[4.4,3.2,1.3,0.2]|\n",
      "|Iris-setosa|[4.6,3.1,1.5,0.2]|\n",
      "|Iris-setosa|[4.6,3.6,1.0,0.2]|\n",
      "|Iris-setosa|[4.7,3.2,1.3,0.2]|\n",
      "+-----------+-----------------+\n",
      "only showing top 5 rows\n",
      "\n",
      "+-----------+-----------------+\n",
      "|        cls|         features|\n",
      "+-----------+-----------------+\n",
      "|Iris-setosa|[4.3,3.0,1.1,0.1]|\n",
      "|Iris-setosa|[4.4,2.9,1.4,0.2]|\n",
      "|Iris-setosa|[4.5,2.3,1.3,0.3]|\n",
      "|Iris-setosa|[4.6,3.2,1.4,0.2]|\n",
      "|Iris-setosa|[4.6,3.4,1.4,0.3]|\n",
      "+-----------+-----------------+\n",
      "only showing top 5 rows\n",
      "\n"
     ]
    }
   ],
   "source": [
    "assembled2=assembled1.drop(\"sepal_l\",\"sepal_w\",\"petal_l\",\"petal_w\")\n",
    "(trainingData,testData)=assembled2.randomSplit([0.6,0.4])\n",
    "trainingData.show(5)\n",
    "testData.show(5)"
   ]
  },
  {
   "cell_type": "code",
   "execution_count": 16,
   "id": "5aa7d05a",
   "metadata": {},
   "outputs": [
    {
     "data": {
      "text/plain": [
       "[DenseVector([5.1, 3.5, 1.4, 0.2]),\n",
       " DenseVector([4.9, 3.0, 1.4, 0.2]),\n",
       " DenseVector([4.7, 3.2, 1.3, 0.2]),\n",
       " DenseVector([4.6, 3.1, 1.5, 0.2]),\n",
       " DenseVector([5.0, 3.6, 1.4, 0.2])]"
      ]
     },
     "execution_count": 16,
     "metadata": {},
     "output_type": "execute_result"
    }
   ],
   "source": [
    "assembled2.rdd.map(lambda x: x['features']).take(5)"
   ]
  },
  {
   "cell_type": "code",
   "execution_count": 17,
   "id": "a2f8d7e0",
   "metadata": {},
   "outputs": [
    {
     "data": {
      "text/plain": [
       "[[5.1, 3.5, 1.4, 0.2],\n",
       " [4.9, 3.0, 1.4, 0.2],\n",
       " [4.7, 3.2, 1.3, 0.2],\n",
       " [4.6, 3.1, 1.5, 0.2],\n",
       " [5.0, 3.6, 1.4, 0.2]]"
      ]
     },
     "execution_count": 17,
     "metadata": {},
     "output_type": "execute_result"
    }
   ],
   "source": [
    "assembled2.rdd.map(lambda x: list(x['features'])).take(5)"
   ]
  },
  {
   "cell_type": "code",
   "execution_count": 18,
   "id": "8558a344",
   "metadata": {},
   "outputs": [
    {
     "name": "stdout",
     "output_type": "stream",
     "text": [
      "root\n",
      " |-- cls: string (nullable = false)\n",
      " |-- features: vector (nullable = true)\n",
      " |-- SparseDenseToArray: array (nullable = true)\n",
      " |    |-- element: double (containsNull = true)\n",
      "\n"
     ]
    }
   ],
   "source": [
    "dense_features_col_udf = F.udf(lambda x: x.toArray().tolist(), returnType=ArrayType(DoubleType()))\n",
    "assembled2.withColumn(\"SparseDenseToArray\",dense_features_col_udf(assembled2.features)).printSchema()"
   ]
  },
  {
   "cell_type": "markdown",
   "id": "17b3c3f9",
   "metadata": {},
   "source": [
    "# Correlation"
   ]
  },
  {
   "cell_type": "code",
   "execution_count": 19,
   "id": "8acad7f0",
   "metadata": {},
   "outputs": [
    {
     "data": {
      "text/html": [
       "<div>\n",
       "<style scoped>\n",
       "    .dataframe tbody tr th:only-of-type {\n",
       "        vertical-align: middle;\n",
       "    }\n",
       "\n",
       "    .dataframe tbody tr th {\n",
       "        vertical-align: top;\n",
       "    }\n",
       "\n",
       "    .dataframe thead th {\n",
       "        text-align: right;\n",
       "    }\n",
       "</style>\n",
       "<table border=\"1\" class=\"dataframe\">\n",
       "  <thead>\n",
       "    <tr style=\"text-align: right;\">\n",
       "      <th></th>\n",
       "      <th>pearson(features)</th>\n",
       "    </tr>\n",
       "  </thead>\n",
       "  <tbody>\n",
       "    <tr>\n",
       "      <th>0</th>\n",
       "      <td>DenseMatrix([[ 1.        , -0.10936925,  0.87175416,  0.81795363],\\n             [-0.10936925,  1.        , -0.4205161 , -0.35654409],\\n             [ 0.87175416, -0.4205161 ,  1.        ,  0.9627571 ],\\n             [ 0.81795363, -0.35654409,  0.9627571 ,  1.        ]])</td>\n",
       "    </tr>\n",
       "  </tbody>\n",
       "</table>\n",
       "</div>"
      ],
      "text/plain": [
       "                                                                                                                                                                                                                                                                 pearson(features)\n",
       "0  DenseMatrix([[ 1.        , -0.10936925,  0.87175416,  0.81795363],\\n             [-0.10936925,  1.        , -0.4205161 , -0.35654409],\\n             [ 0.87175416, -0.4205161 ,  1.        ,  0.9627571 ],\\n             [ 0.81795363, -0.35654409,  0.9627571 ,  1.        ]])"
      ]
     },
     "metadata": {},
     "output_type": "display_data"
    }
   ],
   "source": [
    "display(Correlation.corr(assembled1, \"features\").toPandas())"
   ]
  },
  {
   "cell_type": "markdown",
   "id": "0133cd8c",
   "metadata": {},
   "source": [
    "### Binarizer\n",
    "add new col and convert it to binary float form <br />\n",
    "if greater than threshold than 1.0, else 0.0\n",
    "### Bucketizer\n",
    "add new col and convert it to float form <br />\n",
    "if [0, 2.1, 2.5, 3.5], then \n",
    "0.0-2.0 is 0.0\n",
    "2.1-2.4 is 1.0\n",
    "2.5-3.5 is 2.0\n",
    "### StringIndexer \n",
    "Converts categorical or other data types to float values\n",
    "### OneHotEncoder \n",
    "Converts float values to float binary array for representation\n",
    "### IndexToString\n",
    "Convert index value back to its original labels\n",
    "\n",
    "### Transform: \n",
    "A feature transformer might take a DataFrame, read a column (e.g., text), map it into a new column (e.g., feature vectors), and output a new DataFrame with the mapped column appended.\n",
    "A learning model might take a DataFrame, read the column containing feature vectors, predict the label for each feature vector, and output a new DataFrame with predicted labels appended as a column."
   ]
  },
  {
   "cell_type": "code",
   "execution_count": 20,
   "id": "5778f4f3",
   "metadata": {},
   "outputs": [
    {
     "data": {
      "text/plain": [
       "[StringIndexer_c235889022aa,\n",
       " StringIndexer_0b1402550aa7,\n",
       " StringIndexer_7e823f890c1f,\n",
       " OneHotEncoder_abb9c64f7773,\n",
       " OneHotEncoder_f6bd5e696a99,\n",
       " OneHotEncoder_90b65ea90797,\n",
       " Binarizer_88fa439f5847,\n",
       " Bucketizer_00ca78f559e6,\n",
       " IndexToString_5dddc9ef8668]"
      ]
     },
     "execution_count": 20,
     "metadata": {},
     "output_type": "execute_result"
    }
   ],
   "source": [
    "all_stages2 = [StringIndexer(inputCol=c, outputCol='idx_' + c) for c in ['x1', 'x2', 'x3']] + \\\n",
    "             [OneHotEncoder(inputCol='idx_' + c, outputCol='ohe_' + c) for c in ['x1', 'x2', 'x3']] + \\\n",
    "            [Binarizer(threshold=2.1,inputCol=\"x4\",outputCol=\"b_x4\")] + \\\n",
    "            [Bucketizer(splits=[0, 2.1, 2.5, 3.5],inputCol=\"x4\",outputCol=\"buck_x4\")]\n",
    "all_stages2.append(IndexToString(inputCol=\"idx_x2\",outputCol=\"idx_string_x2\",labels=[\"orange\",\"peach\",\"apple\"]))\n",
    "all_stages2"
   ]
  },
  {
   "cell_type": "markdown",
   "id": "40ae0873",
   "metadata": {},
   "source": [
    "# Pipeline\n",
    "Pipeline is a sequence of stages which consists of Estimators and/or Transformers. Estimator has fit method and Transformer has transform method. Therefore, we can say, a pipeline is a sequence of fit and transform methods. When it is a fit method, it applies to the input data and turns into a transform method. Then the transform method applies to the fitted data and output transformed data. The transformed data output from previous stage has to be an acceptable input to the next stage's fit/transform method."
   ]
  },
  {
   "cell_type": "code",
   "execution_count": 21,
   "id": "1a3afb89",
   "metadata": {},
   "outputs": [
    {
     "name": "stdout",
     "output_type": "stream",
     "text": [
      "['orange', 'peach', 'apple']\n"
     ]
    },
    {
     "data": {
      "text/plain": [
       "{'idx_x1': ['a', 'b', 'd', 'c'],\n",
       " 'idx_x2': ['orange', 'peach', 'apple'],\n",
       " 'idx_x3': ['2', '1', '4']}"
      ]
     },
     "execution_count": 21,
     "metadata": {},
     "output_type": "execute_result"
    }
   ],
   "source": [
    "df2_pipe_fit = Pipeline(stages=all_stages2).fit(df2)\n",
    "print(df2_pipe_fit.stages[1].labels)\n",
    "{x._java_obj.getOutputCol(): x.labels for x in df2_pipe_fit.stages if isinstance(x, StringIndexerModel)}"
   ]
  },
  {
   "cell_type": "code",
   "execution_count": 22,
   "id": "c2edbaa1",
   "metadata": {},
   "outputs": [
    {
     "data": {
      "text/html": [
       "<div>\n",
       "<style scoped>\n",
       "    .dataframe tbody tr th:only-of-type {\n",
       "        vertical-align: middle;\n",
       "    }\n",
       "\n",
       "    .dataframe tbody tr th {\n",
       "        vertical-align: top;\n",
       "    }\n",
       "\n",
       "    .dataframe thead th {\n",
       "        text-align: right;\n",
       "    }\n",
       "</style>\n",
       "<table border=\"1\" class=\"dataframe\">\n",
       "  <thead>\n",
       "    <tr style=\"text-align: right;\">\n",
       "      <th></th>\n",
       "      <th>x1</th>\n",
       "      <th>x2</th>\n",
       "      <th>x3</th>\n",
       "      <th>x4</th>\n",
       "      <th>y1</th>\n",
       "      <th>y2</th>\n",
       "      <th>idx_x1</th>\n",
       "      <th>idx_x2</th>\n",
       "      <th>idx_x3</th>\n",
       "      <th>ohe_x1</th>\n",
       "      <th>ohe_x2</th>\n",
       "      <th>ohe_x3</th>\n",
       "      <th>b_x4</th>\n",
       "      <th>buck_x4</th>\n",
       "      <th>idx_string_x2</th>\n",
       "    </tr>\n",
       "  </thead>\n",
       "  <tbody>\n",
       "    <tr>\n",
       "      <th>0</th>\n",
       "      <td>a</td>\n",
       "      <td>apple</td>\n",
       "      <td>1</td>\n",
       "      <td>2.4</td>\n",
       "      <td>1</td>\n",
       "      <td>yes</td>\n",
       "      <td>0.0</td>\n",
       "      <td>2.0</td>\n",
       "      <td>1.0</td>\n",
       "      <td>(1.0, 0.0, 0.0)</td>\n",
       "      <td>(0.0, 0.0)</td>\n",
       "      <td>(0.0, 1.0)</td>\n",
       "      <td>1.0</td>\n",
       "      <td>1.0</td>\n",
       "      <td>apple</td>\n",
       "    </tr>\n",
       "    <tr>\n",
       "      <th>1</th>\n",
       "      <td>a</td>\n",
       "      <td>orange</td>\n",
       "      <td>1</td>\n",
       "      <td>2.5</td>\n",
       "      <td>0</td>\n",
       "      <td>no</td>\n",
       "      <td>0.0</td>\n",
       "      <td>0.0</td>\n",
       "      <td>1.0</td>\n",
       "      <td>(1.0, 0.0, 0.0)</td>\n",
       "      <td>(1.0, 0.0)</td>\n",
       "      <td>(0.0, 1.0)</td>\n",
       "      <td>1.0</td>\n",
       "      <td>2.0</td>\n",
       "      <td>orange</td>\n",
       "    </tr>\n",
       "    <tr>\n",
       "      <th>2</th>\n",
       "      <td>b</td>\n",
       "      <td>orange</td>\n",
       "      <td>2</td>\n",
       "      <td>3.5</td>\n",
       "      <td>1</td>\n",
       "      <td>no</td>\n",
       "      <td>1.0</td>\n",
       "      <td>0.0</td>\n",
       "      <td>0.0</td>\n",
       "      <td>(0.0, 1.0, 0.0)</td>\n",
       "      <td>(1.0, 0.0)</td>\n",
       "      <td>(1.0, 0.0)</td>\n",
       "      <td>1.0</td>\n",
       "      <td>2.0</td>\n",
       "      <td>orange</td>\n",
       "    </tr>\n",
       "    <tr>\n",
       "      <th>3</th>\n",
       "      <td>b</td>\n",
       "      <td>orange</td>\n",
       "      <td>2</td>\n",
       "      <td>1.4</td>\n",
       "      <td>0</td>\n",
       "      <td>yes</td>\n",
       "      <td>1.0</td>\n",
       "      <td>0.0</td>\n",
       "      <td>0.0</td>\n",
       "      <td>(0.0, 1.0, 0.0)</td>\n",
       "      <td>(1.0, 0.0)</td>\n",
       "      <td>(1.0, 0.0)</td>\n",
       "      <td>0.0</td>\n",
       "      <td>0.0</td>\n",
       "      <td>orange</td>\n",
       "    </tr>\n",
       "    <tr>\n",
       "      <th>4</th>\n",
       "      <td>c</td>\n",
       "      <td>peach</td>\n",
       "      <td>2</td>\n",
       "      <td>2.1</td>\n",
       "      <td>0</td>\n",
       "      <td>yes</td>\n",
       "      <td>3.0</td>\n",
       "      <td>1.0</td>\n",
       "      <td>0.0</td>\n",
       "      <td>(0.0, 0.0, 0.0)</td>\n",
       "      <td>(0.0, 1.0)</td>\n",
       "      <td>(1.0, 0.0)</td>\n",
       "      <td>0.0</td>\n",
       "      <td>1.0</td>\n",
       "      <td>peach</td>\n",
       "    </tr>\n",
       "    <tr>\n",
       "      <th>5</th>\n",
       "      <td>d</td>\n",
       "      <td>peach</td>\n",
       "      <td>4</td>\n",
       "      <td>1.5</td>\n",
       "      <td>1</td>\n",
       "      <td>yes</td>\n",
       "      <td>2.0</td>\n",
       "      <td>1.0</td>\n",
       "      <td>2.0</td>\n",
       "      <td>(0.0, 0.0, 1.0)</td>\n",
       "      <td>(0.0, 1.0)</td>\n",
       "      <td>(0.0, 0.0)</td>\n",
       "      <td>0.0</td>\n",
       "      <td>0.0</td>\n",
       "      <td>peach</td>\n",
       "    </tr>\n",
       "  </tbody>\n",
       "</table>\n",
       "</div>"
      ],
      "text/plain": [
       "  x1      x2  x3   x4  y1   y2  idx_x1  idx_x2  idx_x3           ohe_x1  \\\n",
       "0  a  apple   1   2.4  1   yes  0.0     2.0     1.0     (1.0, 0.0, 0.0)   \n",
       "1  a  orange  1   2.5  0   no   0.0     0.0     1.0     (1.0, 0.0, 0.0)   \n",
       "2  b  orange  2   3.5  1   no   1.0     0.0     0.0     (0.0, 1.0, 0.0)   \n",
       "3  b  orange  2   1.4  0   yes  1.0     0.0     0.0     (0.0, 1.0, 0.0)   \n",
       "4  c  peach   2   2.1  0   yes  3.0     1.0     0.0     (0.0, 0.0, 0.0)   \n",
       "5  d  peach   4   1.5  1   yes  2.0     1.0     2.0     (0.0, 0.0, 1.0)   \n",
       "\n",
       "       ohe_x2      ohe_x3  b_x4  buck_x4 idx_string_x2  \n",
       "0  (0.0, 0.0)  (0.0, 1.0)  1.0   1.0      apple         \n",
       "1  (1.0, 0.0)  (0.0, 1.0)  1.0   2.0      orange        \n",
       "2  (1.0, 0.0)  (1.0, 0.0)  1.0   2.0      orange        \n",
       "3  (1.0, 0.0)  (1.0, 0.0)  0.0   0.0      orange        \n",
       "4  (0.0, 1.0)  (1.0, 0.0)  0.0   1.0      peach         \n",
       "5  (0.0, 1.0)  (0.0, 0.0)  0.0   0.0      peach         "
      ]
     },
     "metadata": {},
     "output_type": "display_data"
    }
   ],
   "source": [
    "all_stages2[-1].setLabels(df2_pipe_fit.stages[1].labels)\n",
    "df2_pipe_tran=df2_pipe_fit.transform(df2)\n",
    "display(df2_pipe_tran.toPandas())"
   ]
  },
  {
   "cell_type": "code",
   "execution_count": 23,
   "id": "07420076",
   "metadata": {},
   "outputs": [
    {
     "data": {
      "text/html": [
       "<div>\n",
       "<style scoped>\n",
       "    .dataframe tbody tr th:only-of-type {\n",
       "        vertical-align: middle;\n",
       "    }\n",
       "\n",
       "    .dataframe tbody tr th {\n",
       "        vertical-align: top;\n",
       "    }\n",
       "\n",
       "    .dataframe thead th {\n",
       "        text-align: right;\n",
       "    }\n",
       "</style>\n",
       "<table border=\"1\" class=\"dataframe\">\n",
       "  <thead>\n",
       "    <tr style=\"text-align: right;\">\n",
       "      <th></th>\n",
       "      <th>x1</th>\n",
       "      <th>x2</th>\n",
       "      <th>x3</th>\n",
       "      <th>x4</th>\n",
       "      <th>y1</th>\n",
       "      <th>y2</th>\n",
       "      <th>idx_x1</th>\n",
       "      <th>idx_x2</th>\n",
       "      <th>idx_x3</th>\n",
       "      <th>ohe_x1</th>\n",
       "      <th>ohe_x2</th>\n",
       "      <th>ohe_x3</th>\n",
       "      <th>b_x4</th>\n",
       "      <th>buck_x4</th>\n",
       "      <th>idx_string_x2</th>\n",
       "      <th>features</th>\n",
       "    </tr>\n",
       "  </thead>\n",
       "  <tbody>\n",
       "    <tr>\n",
       "      <th>0</th>\n",
       "      <td>a</td>\n",
       "      <td>apple</td>\n",
       "      <td>1</td>\n",
       "      <td>2.4</td>\n",
       "      <td>1</td>\n",
       "      <td>yes</td>\n",
       "      <td>0.0</td>\n",
       "      <td>2.0</td>\n",
       "      <td>1.0</td>\n",
       "      <td>(1.0, 0.0, 0.0)</td>\n",
       "      <td>(0.0, 0.0)</td>\n",
       "      <td>(0.0, 1.0)</td>\n",
       "      <td>1.0</td>\n",
       "      <td>1.0</td>\n",
       "      <td>apple</td>\n",
       "      <td>(1.0, 0.0, 0.0, 0.0, 0.0, 0.0, 1.0, 2.4)</td>\n",
       "    </tr>\n",
       "    <tr>\n",
       "      <th>1</th>\n",
       "      <td>a</td>\n",
       "      <td>orange</td>\n",
       "      <td>1</td>\n",
       "      <td>2.5</td>\n",
       "      <td>0</td>\n",
       "      <td>no</td>\n",
       "      <td>0.0</td>\n",
       "      <td>0.0</td>\n",
       "      <td>1.0</td>\n",
       "      <td>(1.0, 0.0, 0.0)</td>\n",
       "      <td>(1.0, 0.0)</td>\n",
       "      <td>(0.0, 1.0)</td>\n",
       "      <td>1.0</td>\n",
       "      <td>2.0</td>\n",
       "      <td>orange</td>\n",
       "      <td>(1.0, 0.0, 0.0, 1.0, 0.0, 0.0, 1.0, 2.5)</td>\n",
       "    </tr>\n",
       "    <tr>\n",
       "      <th>2</th>\n",
       "      <td>b</td>\n",
       "      <td>orange</td>\n",
       "      <td>2</td>\n",
       "      <td>3.5</td>\n",
       "      <td>1</td>\n",
       "      <td>no</td>\n",
       "      <td>1.0</td>\n",
       "      <td>0.0</td>\n",
       "      <td>0.0</td>\n",
       "      <td>(0.0, 1.0, 0.0)</td>\n",
       "      <td>(1.0, 0.0)</td>\n",
       "      <td>(1.0, 0.0)</td>\n",
       "      <td>1.0</td>\n",
       "      <td>2.0</td>\n",
       "      <td>orange</td>\n",
       "      <td>(0.0, 1.0, 0.0, 1.0, 0.0, 1.0, 0.0, 3.5)</td>\n",
       "    </tr>\n",
       "  </tbody>\n",
       "</table>\n",
       "</div>"
      ],
      "text/plain": [
       "  x1      x2  x3   x4  y1   y2  idx_x1  idx_x2  idx_x3           ohe_x1  \\\n",
       "0  a  apple   1   2.4  1   yes  0.0     2.0     1.0     (1.0, 0.0, 0.0)   \n",
       "1  a  orange  1   2.5  0   no   0.0     0.0     1.0     (1.0, 0.0, 0.0)   \n",
       "2  b  orange  2   3.5  1   no   1.0     0.0     0.0     (0.0, 1.0, 0.0)   \n",
       "\n",
       "       ohe_x2      ohe_x3  b_x4  buck_x4 idx_string_x2  \\\n",
       "0  (0.0, 0.0)  (0.0, 1.0)  1.0   1.0      apple          \n",
       "1  (1.0, 0.0)  (0.0, 1.0)  1.0   2.0      orange         \n",
       "2  (1.0, 0.0)  (1.0, 0.0)  1.0   2.0      orange         \n",
       "\n",
       "                                   features  \n",
       "0  (1.0, 0.0, 0.0, 0.0, 0.0, 0.0, 1.0, 2.4)  \n",
       "1  (1.0, 0.0, 0.0, 1.0, 0.0, 0.0, 1.0, 2.5)  \n",
       "2  (0.0, 1.0, 0.0, 1.0, 0.0, 1.0, 0.0, 3.5)  "
      ]
     },
     "execution_count": 23,
     "metadata": {},
     "output_type": "execute_result"
    }
   ],
   "source": [
    "assembler2 = VectorAssembler(inputCols = ['ohe_x1', 'ohe_x2', 'ohe_x3', 'x4'], outputCol = \"features\")\n",
    "assembled2 = assembler2.transform(df2_pipe_tran)\n",
    "assembled2.limit(3).toPandas()"
   ]
  },
  {
   "cell_type": "markdown",
   "id": "3c4d331f",
   "metadata": {},
   "source": [
    "# example"
   ]
  },
  {
   "cell_type": "code",
   "execution_count": 24,
   "id": "f9467854",
   "metadata": {},
   "outputs": [],
   "source": [
    "featureIndexer=VectorIndexer(inputCol=\"features\",outputCol=\"indexedFeatures\",maxCategories=2)\n",
    "string_to_idx=StringIndexer(inputCol=\"cls\",outputCol=\"indexedCls\")\n",
    "lr=LogisticRegression(featuresCol=\"indexedFeatures\",labelCol=\"indexedCls\")\n",
    "idx_to_string=IndexToString(inputCol=\"prediction\",outputCol=\"predCls\")"
   ]
  },
  {
   "cell_type": "code",
   "execution_count": 39,
   "id": "174d4cf9",
   "metadata": {},
   "outputs": [
    {
     "name": "stdout",
     "output_type": "stream",
     "text": [
      "+-------+-------+-------+-------+-----------+-----------------+-----------------+\n",
      "|sepal_l|sepal_w|petal_l|petal_w|        cls|         features|  indexedFeatures|\n",
      "+-------+-------+-------+-------+-----------+-----------------+-----------------+\n",
      "|    5.1|    3.5|    1.4|    0.2|Iris-setosa|[5.1,3.5,1.4,0.2]|[5.1,3.5,1.4,0.2]|\n",
      "|    4.9|    3.0|    1.4|    0.2|Iris-setosa|[4.9,3.0,1.4,0.2]|[4.9,3.0,1.4,0.2]|\n",
      "|    4.7|    3.2|    1.3|    0.2|Iris-setosa|[4.7,3.2,1.3,0.2]|[4.7,3.2,1.3,0.2]|\n",
      "|    4.6|    3.1|    1.5|    0.2|Iris-setosa|[4.6,3.1,1.5,0.2]|[4.6,3.1,1.5,0.2]|\n",
      "|    5.0|    3.6|    1.4|    0.2|Iris-setosa|[5.0,3.6,1.4,0.2]|[5.0,3.6,1.4,0.2]|\n",
      "+-------+-------+-------+-------+-----------+-----------------+-----------------+\n",
      "only showing top 5 rows\n",
      "\n",
      "+-------+-------+-------+-------+-----------+-----------------+-----------------+----------+\n",
      "|sepal_l|sepal_w|petal_l|petal_w|        cls|         features|  indexedFeatures|indexedCls|\n",
      "+-------+-------+-------+-------+-----------+-----------------+-----------------+----------+\n",
      "|    5.1|    3.5|    1.4|    0.2|Iris-setosa|[5.1,3.5,1.4,0.2]|[5.1,3.5,1.4,0.2]|       2.0|\n",
      "|    4.9|    3.0|    1.4|    0.2|Iris-setosa|[4.9,3.0,1.4,0.2]|[4.9,3.0,1.4,0.2]|       2.0|\n",
      "|    4.7|    3.2|    1.3|    0.2|Iris-setosa|[4.7,3.2,1.3,0.2]|[4.7,3.2,1.3,0.2]|       2.0|\n",
      "|    4.6|    3.1|    1.5|    0.2|Iris-setosa|[4.6,3.1,1.5,0.2]|[4.6,3.1,1.5,0.2]|       2.0|\n",
      "|    5.0|    3.6|    1.4|    0.2|Iris-setosa|[5.0,3.6,1.4,0.2]|[5.0,3.6,1.4,0.2]|       2.0|\n",
      "+-------+-------+-------+-------+-----------+-----------------+-----------------+----------+\n",
      "only showing top 5 rows\n",
      "\n",
      "+-------+-------+-------+-------+-----------+-----------------+-----------------+----------+--------------------+--------------------+----------+\n",
      "|sepal_l|sepal_w|petal_l|petal_w|        cls|         features|  indexedFeatures|indexedCls|       rawPrediction|         probability|prediction|\n",
      "+-------+-------+-------+-------+-----------+-----------------+-----------------+----------+--------------------+--------------------+----------+\n",
      "|    5.1|    3.5|    1.4|    0.2|Iris-setosa|[5.1,3.5,1.4,0.2]|[5.1,3.5,1.4,0.2]|       2.0|[-6.5893371790432...|[4.01427089598418...|       2.0|\n",
      "|    4.9|    3.0|    1.4|    0.2|Iris-setosa|[4.9,3.0,1.4,0.2]|[4.9,3.0,1.4,0.2]|       2.0|[0.71902195476911...|[6.17170588715625...|       2.0|\n",
      "|    4.7|    3.2|    1.3|    0.2|Iris-setosa|[4.7,3.2,1.3,0.2]|[4.7,3.2,1.3,0.2]|       2.0|[-3.9723225596865...|[7.98811414499879...|       2.0|\n",
      "|    4.6|    3.1|    1.5|    0.2|Iris-setosa|[4.6,3.1,1.5,0.2]|[4.6,3.1,1.5,0.2]|       2.0|[-2.6281648871468...|[7.41234709793209...|       2.0|\n",
      "|    5.0|    3.6|    1.4|    0.2|Iris-setosa|[5.0,3.6,1.4,0.2]|[5.0,3.6,1.4,0.2]|       2.0|[-8.8759964616956...|[2.76228783523617...|       2.0|\n",
      "+-------+-------+-------+-------+-----------+-----------------+-----------------+----------+--------------------+--------------------+----------+\n",
      "only showing top 5 rows\n",
      "\n",
      "+-------+-------+-------+-------+-----------+-----------------+-----------------+----------+--------------------+--------------------+----------+-----------+\n",
      "|sepal_l|sepal_w|petal_l|petal_w|        cls|         features|  indexedFeatures|indexedCls|       rawPrediction|         probability|prediction|    predCls|\n",
      "+-------+-------+-------+-------+-----------+-----------------+-----------------+----------+--------------------+--------------------+----------+-----------+\n",
      "|    5.1|    3.5|    1.4|    0.2|Iris-setosa|[5.1,3.5,1.4,0.2]|[5.1,3.5,1.4,0.2]|       2.0|[-6.5893371790432...|[4.01427089598418...|       2.0|Iris-setosa|\n",
      "|    4.9|    3.0|    1.4|    0.2|Iris-setosa|[4.9,3.0,1.4,0.2]|[4.9,3.0,1.4,0.2]|       2.0|[0.71902195476911...|[6.17170588715625...|       2.0|Iris-setosa|\n",
      "|    4.7|    3.2|    1.3|    0.2|Iris-setosa|[4.7,3.2,1.3,0.2]|[4.7,3.2,1.3,0.2]|       2.0|[-3.9723225596865...|[7.98811414499879...|       2.0|Iris-setosa|\n",
      "|    4.6|    3.1|    1.5|    0.2|Iris-setosa|[4.6,3.1,1.5,0.2]|[4.6,3.1,1.5,0.2]|       2.0|[-2.6281648871468...|[7.41234709793209...|       2.0|Iris-setosa|\n",
      "|    5.0|    3.6|    1.4|    0.2|Iris-setosa|[5.0,3.6,1.4,0.2]|[5.0,3.6,1.4,0.2]|       2.0|[-8.8759964616956...|[2.76228783523617...|       2.0|Iris-setosa|\n",
      "+-------+-------+-------+-------+-----------+-----------------+-----------------+----------+--------------------+--------------------+----------+-----------+\n",
      "only showing top 5 rows\n",
      "\n"
     ]
    }
   ],
   "source": [
    "df_featureIndexer1_fit=featureIndexer.fit(assembled1)\n",
    "df_featureIndexer1_tran=df_featureIndexer1_fit.transform(assembled1)\n",
    "df_featureIndexer1_tran.show(5,True)\n",
    "\n",
    "df_string_to_idx1_fit=string_to_idx.fit(df_featureIndexer1_tran)\n",
    "df_string_to_idx1_tran=df_string_to_idx1_fit.transform(df_featureIndexer1_tran)\n",
    "df_string_to_idx1_tran.show(5)\n",
    "\n",
    "(trainingData1,testData1)=df_string_to_idx1_tran.randomSplit([0.6,0.4])\n",
    "\n",
    "df_lr_fit=lr.fit(df_string_to_idx1_tran)\n",
    "df_lr_trans=df_lr_fit.transform(df_string_to_idx1_tran)\n",
    "df_lr_trans.show(5)\n",
    "\n",
    "idx_to_string.setLabels(df_string_to_idx1_fit.labels)\n",
    "df_idx_to_string_trans=idx_to_string.transform(df_lr_trans)\n",
    "df_idx_to_string_trans.show(5)"
   ]
  },
  {
   "cell_type": "code",
   "execution_count": 26,
   "id": "f72ba5b1",
   "metadata": {},
   "outputs": [
    {
     "name": "stdout",
     "output_type": "stream",
     "text": [
      "+-----------------+-----------+-----------+\n",
      "|         features|        cls|    predCls|\n",
      "+-----------------+-----------+-----------+\n",
      "|[4.3,3.0,1.1,0.1]|Iris-setosa|Iris-setosa|\n",
      "|[4.4,2.9,1.4,0.2]|Iris-setosa|Iris-setosa|\n",
      "|[4.5,2.3,1.3,0.3]|Iris-setosa|Iris-setosa|\n",
      "|[4.6,3.2,1.4,0.2]|Iris-setosa|Iris-setosa|\n",
      "|[4.6,3.4,1.4,0.3]|Iris-setosa|Iris-setosa|\n",
      "+-----------------+-----------+-----------+\n",
      "only showing top 5 rows\n",
      "\n"
     ]
    }
   ],
   "source": [
    "pipeline1=Pipeline(stages=[string_to_idx,featureIndexer,lr,idx_to_string])\n",
    "model1=pipeline1.fit(trainingData)\n",
    "predictions1=model1.transform(testData)\n",
    "predictions1.select(\"features\",\"cls\",\"predCls\").show(5)"
   ]
  },
  {
   "cell_type": "code",
   "execution_count": 27,
   "id": "44a8fb95",
   "metadata": {},
   "outputs": [
    {
     "name": "stdout",
     "output_type": "stream",
     "text": [
      "VectorIndexer_2e0659ca79f2 DataFrame[sepal_l: double, sepal_w: double, petal_l: double, petal_w: double, cls: string, features: vector, indexedFeatures: vector]\n",
      "StringIndexer_406ae13022f9 DataFrame[sepal_l: double, sepal_w: double, petal_l: double, petal_w: double, cls: string, features: vector, indexedFeatures: vector, indexedCls: double]\n",
      "LogisticRegressionModel: uid = LogisticRegression_e97f15a8f282, numClasses = 3, numFeatures = 4 DataFrame[sepal_l: double, sepal_w: double, petal_l: double, petal_w: double, cls: string, features: vector, indexedFeatures: vector, indexedCls: double, rawPrediction: vector, probability: vector, prediction: double]\n",
      "DataFrame[sepal_l: double, sepal_w: double, petal_l: double, petal_w: double, cls: string, features: vector, indexedFeatures: vector, indexedCls: double, rawPrediction: vector, probability: vector, prediction: double, predCls: string]\n",
      "VectorIndexer_2e0659ca79f2 StringIndexer_406ae13022f9 LogisticRegression_e97f15a8f282 IndexToString_21ad3f83439b\n",
      "Pipeline_73d495a10e2a PipelineModel_1486829d6db2 DataFrame[cls: string, features: vector, indexedCls: double, indexedFeatures: vector, rawPrediction: vector, probability: vector, prediction: double, predCls: string]\n"
     ]
    }
   ],
   "source": [
    "print(df_featureIndexer1_fit, df_featureIndexer1_tran)\n",
    "print(df_string_to_idx1_fit, df_string_to_idx1_tran)\n",
    "print(df_lr_fit, df_lr_trans)\n",
    "print(df_idx_to_string_trans)\n",
    "print(featureIndexer, string_to_idx, lr, idx_to_string)\n",
    "print(pipeline1, model1, predictions1)"
   ]
  },
  {
   "cell_type": "markdown",
   "id": "3e0b5df1",
   "metadata": {},
   "source": [
    "# Parameter grid"
   ]
  },
  {
   "cell_type": "code",
   "execution_count": 32,
   "id": "acd41844",
   "metadata": {},
   "outputs": [],
   "source": [
    "from pyspark.ml.tuning import ParamGridBuilder\n",
    "param_grid = ParamGridBuilder().\\\n",
    "    addGrid(lr.regParam, [0, 0.5, 1, 2]).\\\n",
    "    addGrid(lr.elasticNetParam, [0, 0.5, 1]).\\\n",
    "    build()"
   ]
  },
  {
   "cell_type": "markdown",
   "id": "d4d056a1",
   "metadata": {},
   "source": [
    "# MulticlassClassificationEvaluator"
   ]
  },
  {
   "cell_type": "code",
   "execution_count": 30,
   "id": "2afabc77",
   "metadata": {},
   "outputs": [
    {
     "name": "stdout",
     "output_type": "stream",
     "text": [
      "Test Error: 0.103448, \n"
     ]
    }
   ],
   "source": [
    "evaluator=MulticlassClassificationEvaluator(\n",
    "    labelCol=\"indexedCls\",\n",
    "    predictionCol=\"prediction\",metricName=\"accuracy\"\n",
    ")\n",
    "accu=evaluator.evaluate(predictions1)\n",
    "print(\"Test Error: %g, \"%(1-accu))"
   ]
  },
  {
   "cell_type": "code",
   "execution_count": 31,
   "id": "a856025f",
   "metadata": {},
   "outputs": [
    {
     "name": "stdout",
     "output_type": "stream",
     "text": [
      "+-----------------+---------------+---------------+\n",
      "|         features|            cls|        predCls|\n",
      "+-----------------+---------------+---------------+\n",
      "|[5.9,3.2,4.8,1.8]|Iris-versicolor| Iris-virginica|\n",
      "|[6.2,2.2,4.5,1.5]|Iris-versicolor| Iris-virginica|\n",
      "|[6.0,2.7,5.1,1.6]|Iris-versicolor| Iris-virginica|\n",
      "|[6.3,2.8,5.1,1.5]| Iris-virginica|Iris-versicolor|\n",
      "|[7.2,3.0,5.8,1.6]| Iris-virginica|Iris-versicolor|\n",
      "+-----------------+---------------+---------------+\n",
      "only showing top 5 rows\n",
      "\n"
     ]
    }
   ],
   "source": [
    "predictions1.filter(predictions1.predCls!=predictions1.cls).select(\"features\",\"cls\",\"predCls\").show(5)"
   ]
  },
  {
   "cell_type": "markdown",
   "id": "a2fc56ad",
   "metadata": {},
   "source": [
    "# Cross-validation model"
   ]
  },
  {
   "cell_type": "code",
   "execution_count": 37,
   "id": "ee126e43",
   "metadata": {},
   "outputs": [],
   "source": [
    "from pyspark.ml.tuning import CrossValidator\n",
    "cv = CrossValidator(estimator=lr, estimatorParamMaps=param_grid, evaluator=evaluator, numFolds=4)\n",
    "\n",
    "cv_model = cv.fit(df_string_to_idx1_tran)"
   ]
  },
  {
   "cell_type": "markdown",
   "id": "45116a61",
   "metadata": {},
   "source": [
    "### Prediction on training data"
   ]
  },
  {
   "cell_type": "code",
   "execution_count": 46,
   "id": "f881e2be",
   "metadata": {},
   "outputs": [
    {
     "data": {
      "text/html": [
       "<div>\n",
       "<style scoped>\n",
       "    .dataframe tbody tr th:only-of-type {\n",
       "        vertical-align: middle;\n",
       "    }\n",
       "\n",
       "    .dataframe tbody tr th {\n",
       "        vertical-align: top;\n",
       "    }\n",
       "\n",
       "    .dataframe thead th {\n",
       "        text-align: right;\n",
       "    }\n",
       "</style>\n",
       "<table border=\"1\" class=\"dataframe\">\n",
       "  <thead>\n",
       "    <tr style=\"text-align: right;\">\n",
       "      <th></th>\n",
       "      <th>features</th>\n",
       "      <th>cls</th>\n",
       "      <th>prediction</th>\n",
       "      <th>rawPrediction</th>\n",
       "      <th>probability</th>\n",
       "    </tr>\n",
       "  </thead>\n",
       "  <tbody>\n",
       "    <tr>\n",
       "      <th>0</th>\n",
       "      <td>[4.4, 3.0, 1.3, 0.2]</td>\n",
       "      <td>Iris-setosa</td>\n",
       "      <td>2.0</td>\n",
       "      <td>[-2.3453877654173603, -59.957462945880195, 62.30285071129756]</td>\n",
       "      <td>[8.387388596409817e-29, 7.998718685188395e-54, 1.0]</td>\n",
       "    </tr>\n",
       "    <tr>\n",
       "      <th>1</th>\n",
       "      <td>[4.4, 3.2, 1.3, 0.2]</td>\n",
       "      <td>Iris-setosa</td>\n",
       "      <td>2.0</td>\n",
       "      <td>[-5.740152822308001, -64.68840685296995, 70.42855967527795]</td>\n",
       "      <td>[8.324314284215018e-34, 2.0866375828194127e-59, 1.0]</td>\n",
       "    </tr>\n",
       "    <tr>\n",
       "      <th>2</th>\n",
       "      <td>[4.6, 3.1, 1.5, 0.2]</td>\n",
       "      <td>Iris-setosa</td>\n",
       "      <td>2.0</td>\n",
       "      <td>[-2.62816488714682, -59.515490786020266, 62.14365567316711]</td>\n",
       "      <td>[7.412347097932093e-29, 1.4591637089202677e-53, 1.0]</td>\n",
       "    </tr>\n",
       "    <tr>\n",
       "      <th>3</th>\n",
       "      <td>[4.6, 3.2, 1.4, 0.2]</td>\n",
       "      <td>Iris-setosa</td>\n",
       "      <td>2.0</td>\n",
       "      <td>[-4.443573364742935, -62.94192356241943, 67.38549692716238]</td>\n",
       "      <td>[6.383092411382714e-32, 2.509114271731677e-57, 1.0]</td>\n",
       "    </tr>\n",
       "    <tr>\n",
       "      <th>4</th>\n",
       "      <td>[4.6, 3.4, 1.4, 0.3]</td>\n",
       "      <td>Iris-setosa</td>\n",
       "      <td>2.0</td>\n",
       "      <td>[-7.426301245892418, -65.43221101591053, 72.85851226180297]</td>\n",
       "      <td>[1.3575271153426762e-35, 8.731763857042433e-61, 1.0]</td>\n",
       "    </tr>\n",
       "  </tbody>\n",
       "</table>\n",
       "</div>"
      ],
      "text/plain": [
       "               features          cls  prediction  \\\n",
       "0  [4.4, 3.0, 1.3, 0.2]  Iris-setosa  2.0          \n",
       "1  [4.4, 3.2, 1.3, 0.2]  Iris-setosa  2.0          \n",
       "2  [4.6, 3.1, 1.5, 0.2]  Iris-setosa  2.0          \n",
       "3  [4.6, 3.2, 1.4, 0.2]  Iris-setosa  2.0          \n",
       "4  [4.6, 3.4, 1.4, 0.3]  Iris-setosa  2.0          \n",
       "\n",
       "                                                   rawPrediction  \\\n",
       "0  [-2.3453877654173603, -59.957462945880195, 62.30285071129756]   \n",
       "1  [-5.740152822308001, -64.68840685296995, 70.42855967527795]     \n",
       "2  [-2.62816488714682, -59.515490786020266, 62.14365567316711]     \n",
       "3  [-4.443573364742935, -62.94192356241943, 67.38549692716238]     \n",
       "4  [-7.426301245892418, -65.43221101591053, 72.85851226180297]     \n",
       "\n",
       "                                            probability  \n",
       "0  [8.387388596409817e-29, 7.998718685188395e-54, 1.0]   \n",
       "1  [8.324314284215018e-34, 2.0866375828194127e-59, 1.0]  \n",
       "2  [7.412347097932093e-29, 1.4591637089202677e-53, 1.0]  \n",
       "3  [6.383092411382714e-32, 2.509114271731677e-57, 1.0]   \n",
       "4  [1.3575271153426762e-35, 8.731763857042433e-61, 1.0]  "
      ]
     },
     "execution_count": 46,
     "metadata": {},
     "output_type": "execute_result"
    }
   ],
   "source": [
    "pred_training_cv = cv_model.transform(trainingData1)\n",
    "show_columns = ['features', 'cls', 'prediction', 'rawPrediction', 'probability']\n",
    "pred_training_cv.select(show_columns).limit(5).toPandas()"
   ]
  },
  {
   "cell_type": "markdown",
   "id": "c8593776",
   "metadata": {},
   "source": [
    "### Prediction on test data"
   ]
  },
  {
   "cell_type": "code",
   "execution_count": 47,
   "id": "68516ac1",
   "metadata": {},
   "outputs": [
    {
     "data": {
      "text/html": [
       "<div>\n",
       "<style scoped>\n",
       "    .dataframe tbody tr th:only-of-type {\n",
       "        vertical-align: middle;\n",
       "    }\n",
       "\n",
       "    .dataframe tbody tr th {\n",
       "        vertical-align: top;\n",
       "    }\n",
       "\n",
       "    .dataframe thead th {\n",
       "        text-align: right;\n",
       "    }\n",
       "</style>\n",
       "<table border=\"1\" class=\"dataframe\">\n",
       "  <thead>\n",
       "    <tr style=\"text-align: right;\">\n",
       "      <th></th>\n",
       "      <th>features</th>\n",
       "      <th>cls</th>\n",
       "      <th>prediction</th>\n",
       "      <th>rawPrediction</th>\n",
       "      <th>probability</th>\n",
       "    </tr>\n",
       "  </thead>\n",
       "  <tbody>\n",
       "    <tr>\n",
       "      <th>0</th>\n",
       "      <td>[4.3, 3.0, 1.1, 0.1]</td>\n",
       "      <td>Iris-setosa</td>\n",
       "      <td>2.0</td>\n",
       "      <td>[-3.5827535936672383, -64.6628022790355, 68.24555587270274]</td>\n",
       "      <td>[6.387950678996389e-32, 1.8994744486123638e-58, 1.0]</td>\n",
       "    </tr>\n",
       "    <tr>\n",
       "      <th>1</th>\n",
       "      <td>[4.4, 2.9, 1.4, 0.2]</td>\n",
       "      <td>Iris-setosa</td>\n",
       "      <td>2.0</td>\n",
       "      <td>[-0.5299792878212379, -56.53103016948103, 57.06100945730227]</td>\n",
       "      <td>[9.73983008783691e-26, 4.651617566717906e-50, 1.0]</td>\n",
       "    </tr>\n",
       "    <tr>\n",
       "      <th>2</th>\n",
       "      <td>[4.5, 2.3, 1.3, 0.3]</td>\n",
       "      <td>Iris-setosa</td>\n",
       "      <td>2.0</td>\n",
       "      <td>[10.537603863648133, -40.8157415836193, 30.278137719971184]</td>\n",
       "      <td>[2.671745430052335e-09, 1.331436689054821e-31, 0.9999999973282545]</td>\n",
       "    </tr>\n",
       "    <tr>\n",
       "      <th>3</th>\n",
       "      <td>[4.7, 3.2, 1.3, 0.2]</td>\n",
       "      <td>Iris-setosa</td>\n",
       "      <td>2.0</td>\n",
       "      <td>[-3.9723225596865994, -63.660123151425594, 67.6324457111122]</td>\n",
       "      <td>[7.988114144998791e-32, 9.557885600608829e-58, 1.0]</td>\n",
       "    </tr>\n",
       "    <tr>\n",
       "      <th>4</th>\n",
       "      <td>[4.8, 3.4, 1.6, 0.2]</td>\n",
       "      <td>Iris-setosa</td>\n",
       "      <td>2.0</td>\n",
       "      <td>[-6.4237330149176906, -64.86542335610437, 71.28915637102209]</td>\n",
       "      <td>[1.7771372371188298e-34, 7.392942674466309e-60, 1.0]</td>\n",
       "    </tr>\n",
       "  </tbody>\n",
       "</table>\n",
       "</div>"
      ],
      "text/plain": [
       "               features          cls  prediction  \\\n",
       "0  [4.3, 3.0, 1.1, 0.1]  Iris-setosa  2.0          \n",
       "1  [4.4, 2.9, 1.4, 0.2]  Iris-setosa  2.0          \n",
       "2  [4.5, 2.3, 1.3, 0.3]  Iris-setosa  2.0          \n",
       "3  [4.7, 3.2, 1.3, 0.2]  Iris-setosa  2.0          \n",
       "4  [4.8, 3.4, 1.6, 0.2]  Iris-setosa  2.0          \n",
       "\n",
       "                                                  rawPrediction  \\\n",
       "0  [-3.5827535936672383, -64.6628022790355, 68.24555587270274]    \n",
       "1  [-0.5299792878212379, -56.53103016948103, 57.06100945730227]   \n",
       "2  [10.537603863648133, -40.8157415836193, 30.278137719971184]    \n",
       "3  [-3.9723225596865994, -63.660123151425594, 67.6324457111122]   \n",
       "4  [-6.4237330149176906, -64.86542335610437, 71.28915637102209]   \n",
       "\n",
       "                                                          probability  \n",
       "0  [6.387950678996389e-32, 1.8994744486123638e-58, 1.0]                \n",
       "1  [9.73983008783691e-26, 4.651617566717906e-50, 1.0]                  \n",
       "2  [2.671745430052335e-09, 1.331436689054821e-31, 0.9999999973282545]  \n",
       "3  [7.988114144998791e-32, 9.557885600608829e-58, 1.0]                 \n",
       "4  [1.7771372371188298e-34, 7.392942674466309e-60, 1.0]                "
      ]
     },
     "execution_count": 47,
     "metadata": {},
     "output_type": "execute_result"
    }
   ],
   "source": [
    "pred_test_cv = cv_model.transform(testData1)\n",
    "pred_test_cv.select(show_columns).limit(5).toPandas()"
   ]
  },
  {
   "cell_type": "markdown",
   "id": "1a60ddc8",
   "metadata": {},
   "source": [
    "## Intercept and coefficients of the regression model"
   ]
  },
  {
   "cell_type": "code",
   "execution_count": 51,
   "id": "44b0fb8e",
   "metadata": {},
   "outputs": [
    {
     "name": "stdout",
     "output_type": "stream",
     "text": [
      "Intercept: [20.289499212385532,-22.348602233153855,2.0591030207683243]\n",
      "coefficients: DenseMatrix([[  5.89276754, -16.97382528,   1.18025949,   4.12037176],\n",
      "             [  3.42761234, -23.65471954,  10.60960823,  22.40656454],\n",
      "             [ -9.32037988,  40.62854482, -11.78986772, -26.52693629]])\n"
     ]
    }
   ],
   "source": [
    "print('Intercept: ' + str(cv_model.bestModel.interceptVector) + \"\\n\"\n",
    "     'coefficients: ' + str(cv_model.bestModel.coefficientMatrix))"
   ]
  },
  {
   "cell_type": "markdown",
   "id": "6497d422",
   "metadata": {},
   "source": [
    "## Parameters from the best model"
   ]
  },
  {
   "cell_type": "code",
   "execution_count": 52,
   "id": "16532f57",
   "metadata": {},
   "outputs": [
    {
     "name": "stdout",
     "output_type": "stream",
     "text": [
      "The best RegParam is:  0.0 \n",
      " The best ElasticNetParam is: cv_model.bestModel._java_obj.getElasticNetParam()\n"
     ]
    }
   ],
   "source": [
    "print('The best RegParam is: ', cv_model.bestModel._java_obj.getRegParam(), \"\\n\",\n",
    "     'The best ElasticNetParam is: cv_model.bestModel._java_obj.getElasticNetParam()')"
   ]
  },
  {
   "cell_type": "markdown",
   "id": "38375306",
   "metadata": {},
   "source": [
    "# VectorIndexer"
   ]
  },
  {
   "cell_type": "code",
   "execution_count": 86,
   "id": "173aa07f",
   "metadata": {},
   "outputs": [
    {
     "data": {
      "text/plain": [
       "Row(a=DenseVector([-1.0, 0.0]))"
      ]
     },
     "execution_count": 86,
     "metadata": {},
     "output_type": "execute_result"
    }
   ],
   "source": [
    "from pyspark.ml.linalg import Vectors\n",
    "dfr = spark.createDataFrame([(Vectors.dense([-1.0, 0.0]),),\n",
    "    (Vectors.dense([0.0, 1.0]),), (Vectors.dense([0.0, 2.0]),)], [\"a\"])\n",
    "dfr.head()"
   ]
  },
  {
   "cell_type": "code",
   "execution_count": 87,
   "id": "d376af3a",
   "metadata": {},
   "outputs": [
    {
     "data": {
      "text/plain": [
       "Row(a=DenseVector([-1.0, 0.0]), indexed=DenseVector([1.0, 0.0]))"
      ]
     },
     "execution_count": 87,
     "metadata": {},
     "output_type": "execute_result"
    }
   ],
   "source": [
    "indexer = VectorIndexer(maxCategories=2, inputCol=\"a\")\n",
    "indexer.setOutputCol(\"indexed\")\n",
    "model2 = indexer.fit(dfr)\n",
    "indexer.getHandleInvalid()\n",
    "model2.transform(dfr).head()"
   ]
  },
  {
   "cell_type": "code",
   "execution_count": null,
   "id": "868b1573",
   "metadata": {},
   "outputs": [],
   "source": []
  }
 ],
 "metadata": {
  "kernelspec": {
   "display_name": "Python 3 (ipykernel)",
   "language": "python",
   "name": "python3"
  },
  "language_info": {
   "codemirror_mode": {
    "name": "ipython",
    "version": 3
   },
   "file_extension": ".py",
   "mimetype": "text/x-python",
   "name": "python",
   "nbconvert_exporter": "python",
   "pygments_lexer": "ipython3",
   "version": "3.7.9"
  }
 },
 "nbformat": 4,
 "nbformat_minor": 5
}
