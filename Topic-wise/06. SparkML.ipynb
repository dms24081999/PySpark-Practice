{
 "cells": [
  {
   "cell_type": "code",
   "execution_count": 1,
   "id": "8966d844",
   "metadata": {},
   "outputs": [],
   "source": [
    "import findspark\n",
    "from pyspark.sql import SparkSession\n",
    "from pyspark.sql import Row\n",
    "from pyspark.sql.types import StructField,StructType,IntegerType,StringType,TimestampType,ArrayType,DoubleType\n",
    "from pyspark.ml.feature import VectorAssembler,VectorIndexer,StringIndexer,IndexToString\n",
    "from pyspark.ml.stat import Correlation\n",
    "from pyspark.ml import Pipeline\n",
    "from pyspark.sql import functions as F\n",
    "from pyspark.ml.evaluation import *\n",
    "from pyspark.ml.classification import LogisticRegression"
   ]
  },
  {
   "cell_type": "code",
   "execution_count": 2,
   "id": "4650d786",
   "metadata": {},
   "outputs": [
    {
     "name": "stderr",
     "output_type": "stream",
     "text": [
      "d:\\projects\\python\\pyspark\\env-win-v3.7.9\\lib\\site-packages\\ipykernel_launcher.py:4: FutureWarning: Passing a negative integer is deprecated in version 1.0 and will not be supported in future version. Instead, use None to not limit the column width.\n",
      "  after removing the cwd from sys.path.\n"
     ]
    }
   ],
   "source": [
    "import pandas as pd \n",
    "pd.set_option('display.max_columns', None)\n",
    "pd.set_option('display.max_rows', None)\n",
    "pd.set_option('display.max_colwidth', -1) "
   ]
  },
  {
   "cell_type": "code",
   "execution_count": 3,
   "id": "316f2bcb",
   "metadata": {},
   "outputs": [],
   "source": [
    "findspark.init()"
   ]
  },
  {
   "cell_type": "code",
   "execution_count": 130,
   "id": "99d0d2ca",
   "metadata": {},
   "outputs": [],
   "source": [
    "spark.stop()"
   ]
  },
  {
   "cell_type": "code",
   "execution_count": 4,
   "id": "7d12f47a",
   "metadata": {},
   "outputs": [],
   "source": [
    "# By default 12 executors based on CPU core if not specified\n",
    "spark=SparkSession.builder.appName(\"SparkML\").master(\"local[4]\").getOrCreate()\n",
    "sc=spark.sparkContext"
   ]
  },
  {
   "cell_type": "code",
   "execution_count": 89,
   "id": "3d5d9daa",
   "metadata": {},
   "outputs": [
    {
     "data": {
      "text/plain": [
       "[Row(cls='Iris-setosa', petal_l=1.4, petal_w=0.2, sepal_l=5.1, sepal_w=3.5),\n",
       " Row(cls='Iris-setosa', petal_l=1.4, petal_w=0.2, sepal_l=4.9, sepal_w=3.0),\n",
       " Row(cls='Iris-setosa', petal_l=1.3, petal_w=0.2, sepal_l=4.7, sepal_w=3.2),\n",
       " Row(cls='Iris-setosa', petal_l=1.5, petal_w=0.2, sepal_l=4.6, sepal_w=3.1),\n",
       " Row(cls='Iris-setosa', petal_l=1.4, petal_w=0.2, sepal_l=5.0, sepal_w=3.6),\n",
       " Row(cls='Iris-setosa', petal_l=1.7, petal_w=0.4, sepal_l=5.4, sepal_w=3.9),\n",
       " Row(cls='Iris-setosa', petal_l=1.4, petal_w=0.3, sepal_l=4.6, sepal_w=3.4),\n",
       " Row(cls='Iris-setosa', petal_l=1.5, petal_w=0.2, sepal_l=5.0, sepal_w=3.4),\n",
       " Row(cls='Iris-setosa', petal_l=1.4, petal_w=0.2, sepal_l=4.4, sepal_w=2.9),\n",
       " Row(cls='Iris-setosa', petal_l=1.5, petal_w=0.1, sepal_l=4.9, sepal_w=3.1),\n",
       " Row(cls='Iris-setosa', petal_l=1.5, petal_w=0.2, sepal_l=5.4, sepal_w=3.7),\n",
       " Row(cls='Iris-setosa', petal_l=1.6, petal_w=0.2, sepal_l=4.8, sepal_w=3.4),\n",
       " Row(cls='Iris-setosa', petal_l=1.4, petal_w=0.1, sepal_l=4.8, sepal_w=3.0),\n",
       " Row(cls='Iris-setosa', petal_l=1.1, petal_w=0.1, sepal_l=4.3, sepal_w=3.0),\n",
       " Row(cls='Iris-setosa', petal_l=1.2, petal_w=0.2, sepal_l=5.8, sepal_w=4.0),\n",
       " Row(cls='Iris-setosa', petal_l=1.5, petal_w=0.4, sepal_l=5.7, sepal_w=4.4),\n",
       " Row(cls='Iris-setosa', petal_l=1.3, petal_w=0.4, sepal_l=5.4, sepal_w=3.9),\n",
       " Row(cls='Iris-setosa', petal_l=1.4, petal_w=0.3, sepal_l=5.1, sepal_w=3.5),\n",
       " Row(cls='Iris-setosa', petal_l=1.7, petal_w=0.3, sepal_l=5.7, sepal_w=3.8),\n",
       " Row(cls='Iris-setosa', petal_l=1.5, petal_w=0.3, sepal_l=5.1, sepal_w=3.8),\n",
       " Row(cls='Iris-setosa', petal_l=1.7, petal_w=0.2, sepal_l=5.4, sepal_w=3.4),\n",
       " Row(cls='Iris-setosa', petal_l=1.5, petal_w=0.4, sepal_l=5.1, sepal_w=3.7),\n",
       " Row(cls='Iris-setosa', petal_l=1.0, petal_w=0.2, sepal_l=4.6, sepal_w=3.6),\n",
       " Row(cls='Iris-setosa', petal_l=1.7, petal_w=0.5, sepal_l=5.1, sepal_w=3.3),\n",
       " Row(cls='Iris-setosa', petal_l=1.9, petal_w=0.2, sepal_l=4.8, sepal_w=3.4),\n",
       " Row(cls='Iris-setosa', petal_l=1.6, petal_w=0.2, sepal_l=5.0, sepal_w=3.0),\n",
       " Row(cls='Iris-setosa', petal_l=1.6, petal_w=0.4, sepal_l=5.0, sepal_w=3.4),\n",
       " Row(cls='Iris-setosa', petal_l=1.5, petal_w=0.2, sepal_l=5.2, sepal_w=3.5),\n",
       " Row(cls='Iris-setosa', petal_l=1.4, petal_w=0.2, sepal_l=5.2, sepal_w=3.4),\n",
       " Row(cls='Iris-setosa', petal_l=1.6, petal_w=0.2, sepal_l=4.7, sepal_w=3.2),\n",
       " Row(cls='Iris-setosa', petal_l=1.6, petal_w=0.2, sepal_l=4.8, sepal_w=3.1),\n",
       " Row(cls='Iris-setosa', petal_l=1.5, petal_w=0.4, sepal_l=5.4, sepal_w=3.4),\n",
       " Row(cls='Iris-setosa', petal_l=1.5, petal_w=0.1, sepal_l=5.2, sepal_w=4.1),\n",
       " Row(cls='Iris-setosa', petal_l=1.4, petal_w=0.2, sepal_l=5.5, sepal_w=4.2),\n",
       " Row(cls='Iris-setosa', petal_l=1.5, petal_w=0.1, sepal_l=4.9, sepal_w=3.1),\n",
       " Row(cls='Iris-setosa', petal_l=1.2, petal_w=0.2, sepal_l=5.0, sepal_w=3.2),\n",
       " Row(cls='Iris-setosa', petal_l=1.3, petal_w=0.2, sepal_l=5.5, sepal_w=3.5),\n",
       " Row(cls='Iris-setosa', petal_l=1.5, petal_w=0.1, sepal_l=4.9, sepal_w=3.1),\n",
       " Row(cls='Iris-setosa', petal_l=1.3, petal_w=0.2, sepal_l=4.4, sepal_w=3.0),\n",
       " Row(cls='Iris-setosa', petal_l=1.5, petal_w=0.2, sepal_l=5.1, sepal_w=3.4),\n",
       " Row(cls='Iris-setosa', petal_l=1.3, petal_w=0.3, sepal_l=5.0, sepal_w=3.5),\n",
       " Row(cls='Iris-setosa', petal_l=1.3, petal_w=0.3, sepal_l=4.5, sepal_w=2.3),\n",
       " Row(cls='Iris-setosa', petal_l=1.3, petal_w=0.2, sepal_l=4.4, sepal_w=3.2),\n",
       " Row(cls='Iris-setosa', petal_l=1.6, petal_w=0.6, sepal_l=5.0, sepal_w=3.5),\n",
       " Row(cls='Iris-setosa', petal_l=1.9, petal_w=0.4, sepal_l=5.1, sepal_w=3.8),\n",
       " Row(cls='Iris-setosa', petal_l=1.4, petal_w=0.3, sepal_l=4.8, sepal_w=3.0),\n",
       " Row(cls='Iris-setosa', petal_l=1.6, petal_w=0.2, sepal_l=5.1, sepal_w=3.8),\n",
       " Row(cls='Iris-setosa', petal_l=1.4, petal_w=0.2, sepal_l=4.6, sepal_w=3.2),\n",
       " Row(cls='Iris-setosa', petal_l=1.5, petal_w=0.2, sepal_l=5.3, sepal_w=3.7),\n",
       " Row(cls='Iris-setosa', petal_l=1.4, petal_w=0.2, sepal_l=5.0, sepal_w=3.3),\n",
       " Row(cls='Iris-versicolor', petal_l=4.7, petal_w=1.4, sepal_l=7.0, sepal_w=3.2),\n",
       " Row(cls='Iris-versicolor', petal_l=4.5, petal_w=1.5, sepal_l=6.4, sepal_w=3.2),\n",
       " Row(cls='Iris-versicolor', petal_l=4.9, petal_w=1.5, sepal_l=6.9, sepal_w=3.1),\n",
       " Row(cls='Iris-versicolor', petal_l=4.0, petal_w=1.3, sepal_l=5.5, sepal_w=2.3),\n",
       " Row(cls='Iris-versicolor', petal_l=4.6, petal_w=1.5, sepal_l=6.5, sepal_w=2.8),\n",
       " Row(cls='Iris-versicolor', petal_l=4.5, petal_w=1.3, sepal_l=5.7, sepal_w=2.8),\n",
       " Row(cls='Iris-versicolor', petal_l=4.7, petal_w=1.6, sepal_l=6.3, sepal_w=3.3),\n",
       " Row(cls='Iris-versicolor', petal_l=3.3, petal_w=1.0, sepal_l=4.9, sepal_w=2.4),\n",
       " Row(cls='Iris-versicolor', petal_l=4.6, petal_w=1.3, sepal_l=6.6, sepal_w=2.9),\n",
       " Row(cls='Iris-versicolor', petal_l=3.9, petal_w=1.4, sepal_l=5.2, sepal_w=2.7),\n",
       " Row(cls='Iris-versicolor', petal_l=3.5, petal_w=1.0, sepal_l=5.0, sepal_w=2.0),\n",
       " Row(cls='Iris-versicolor', petal_l=4.2, petal_w=1.5, sepal_l=5.9, sepal_w=3.0),\n",
       " Row(cls='Iris-versicolor', petal_l=4.0, petal_w=1.0, sepal_l=6.0, sepal_w=2.2),\n",
       " Row(cls='Iris-versicolor', petal_l=4.7, petal_w=1.4, sepal_l=6.1, sepal_w=2.9),\n",
       " Row(cls='Iris-versicolor', petal_l=3.6, petal_w=1.3, sepal_l=5.6, sepal_w=2.9),\n",
       " Row(cls='Iris-versicolor', petal_l=4.4, petal_w=1.4, sepal_l=6.7, sepal_w=3.1),\n",
       " Row(cls='Iris-versicolor', petal_l=4.5, petal_w=1.5, sepal_l=5.6, sepal_w=3.0),\n",
       " Row(cls='Iris-versicolor', petal_l=4.1, petal_w=1.0, sepal_l=5.8, sepal_w=2.7),\n",
       " Row(cls='Iris-versicolor', petal_l=4.5, petal_w=1.5, sepal_l=6.2, sepal_w=2.2),\n",
       " Row(cls='Iris-versicolor', petal_l=3.9, petal_w=1.1, sepal_l=5.6, sepal_w=2.5),\n",
       " Row(cls='Iris-versicolor', petal_l=4.8, petal_w=1.8, sepal_l=5.9, sepal_w=3.2),\n",
       " Row(cls='Iris-versicolor', petal_l=4.0, petal_w=1.3, sepal_l=6.1, sepal_w=2.8),\n",
       " Row(cls='Iris-versicolor', petal_l=4.9, petal_w=1.5, sepal_l=6.3, sepal_w=2.5),\n",
       " Row(cls='Iris-versicolor', petal_l=4.7, petal_w=1.2, sepal_l=6.1, sepal_w=2.8),\n",
       " Row(cls='Iris-versicolor', petal_l=4.3, petal_w=1.3, sepal_l=6.4, sepal_w=2.9),\n",
       " Row(cls='Iris-versicolor', petal_l=4.4, petal_w=1.4, sepal_l=6.6, sepal_w=3.0),\n",
       " Row(cls='Iris-versicolor', petal_l=4.8, petal_w=1.4, sepal_l=6.8, sepal_w=2.8),\n",
       " Row(cls='Iris-versicolor', petal_l=5.0, petal_w=1.7, sepal_l=6.7, sepal_w=3.0),\n",
       " Row(cls='Iris-versicolor', petal_l=4.5, petal_w=1.5, sepal_l=6.0, sepal_w=2.9),\n",
       " Row(cls='Iris-versicolor', petal_l=3.5, petal_w=1.0, sepal_l=5.7, sepal_w=2.6),\n",
       " Row(cls='Iris-versicolor', petal_l=3.8, petal_w=1.1, sepal_l=5.5, sepal_w=2.4),\n",
       " Row(cls='Iris-versicolor', petal_l=3.7, petal_w=1.0, sepal_l=5.5, sepal_w=2.4),\n",
       " Row(cls='Iris-versicolor', petal_l=3.9, petal_w=1.2, sepal_l=5.8, sepal_w=2.7),\n",
       " Row(cls='Iris-versicolor', petal_l=5.1, petal_w=1.6, sepal_l=6.0, sepal_w=2.7),\n",
       " Row(cls='Iris-versicolor', petal_l=4.5, petal_w=1.5, sepal_l=5.4, sepal_w=3.0),\n",
       " Row(cls='Iris-versicolor', petal_l=4.5, petal_w=1.6, sepal_l=6.0, sepal_w=3.4),\n",
       " Row(cls='Iris-versicolor', petal_l=4.7, petal_w=1.5, sepal_l=6.7, sepal_w=3.1),\n",
       " Row(cls='Iris-versicolor', petal_l=4.4, petal_w=1.3, sepal_l=6.3, sepal_w=2.3),\n",
       " Row(cls='Iris-versicolor', petal_l=4.1, petal_w=1.3, sepal_l=5.6, sepal_w=3.0),\n",
       " Row(cls='Iris-versicolor', petal_l=4.0, petal_w=1.3, sepal_l=5.5, sepal_w=2.5),\n",
       " Row(cls='Iris-versicolor', petal_l=4.4, petal_w=1.2, sepal_l=5.5, sepal_w=2.6),\n",
       " Row(cls='Iris-versicolor', petal_l=4.6, petal_w=1.4, sepal_l=6.1, sepal_w=3.0),\n",
       " Row(cls='Iris-versicolor', petal_l=4.0, petal_w=1.2, sepal_l=5.8, sepal_w=2.6),\n",
       " Row(cls='Iris-versicolor', petal_l=3.3, petal_w=1.0, sepal_l=5.0, sepal_w=2.3),\n",
       " Row(cls='Iris-versicolor', petal_l=4.2, petal_w=1.3, sepal_l=5.6, sepal_w=2.7),\n",
       " Row(cls='Iris-versicolor', petal_l=4.2, petal_w=1.2, sepal_l=5.7, sepal_w=3.0),\n",
       " Row(cls='Iris-versicolor', petal_l=4.2, petal_w=1.3, sepal_l=5.7, sepal_w=2.9),\n",
       " Row(cls='Iris-versicolor', petal_l=4.3, petal_w=1.3, sepal_l=6.2, sepal_w=2.9),\n",
       " Row(cls='Iris-versicolor', petal_l=3.0, petal_w=1.1, sepal_l=5.1, sepal_w=2.5),\n",
       " Row(cls='Iris-versicolor', petal_l=4.1, petal_w=1.3, sepal_l=5.7, sepal_w=2.8),\n",
       " Row(cls='Iris-virginica', petal_l=6.0, petal_w=2.5, sepal_l=6.3, sepal_w=3.3),\n",
       " Row(cls='Iris-virginica', petal_l=5.1, petal_w=1.9, sepal_l=5.8, sepal_w=2.7),\n",
       " Row(cls='Iris-virginica', petal_l=5.9, petal_w=2.1, sepal_l=7.1, sepal_w=3.0),\n",
       " Row(cls='Iris-virginica', petal_l=5.6, petal_w=1.8, sepal_l=6.3, sepal_w=2.9),\n",
       " Row(cls='Iris-virginica', petal_l=5.8, petal_w=2.2, sepal_l=6.5, sepal_w=3.0),\n",
       " Row(cls='Iris-virginica', petal_l=6.6, petal_w=2.1, sepal_l=7.6, sepal_w=3.0),\n",
       " Row(cls='Iris-virginica', petal_l=4.5, petal_w=1.7, sepal_l=4.9, sepal_w=2.5),\n",
       " Row(cls='Iris-virginica', petal_l=6.3, petal_w=1.8, sepal_l=7.3, sepal_w=2.9),\n",
       " Row(cls='Iris-virginica', petal_l=5.8, petal_w=1.8, sepal_l=6.7, sepal_w=2.5),\n",
       " Row(cls='Iris-virginica', petal_l=6.1, petal_w=2.5, sepal_l=7.2, sepal_w=3.6),\n",
       " Row(cls='Iris-virginica', petal_l=5.1, petal_w=2.0, sepal_l=6.5, sepal_w=3.2),\n",
       " Row(cls='Iris-virginica', petal_l=5.3, petal_w=1.9, sepal_l=6.4, sepal_w=2.7),\n",
       " Row(cls='Iris-virginica', petal_l=5.5, petal_w=2.1, sepal_l=6.8, sepal_w=3.0),\n",
       " Row(cls='Iris-virginica', petal_l=5.0, petal_w=2.0, sepal_l=5.7, sepal_w=2.5),\n",
       " Row(cls='Iris-virginica', petal_l=5.1, petal_w=2.4, sepal_l=5.8, sepal_w=2.8),\n",
       " Row(cls='Iris-virginica', petal_l=5.3, petal_w=2.3, sepal_l=6.4, sepal_w=3.2),\n",
       " Row(cls='Iris-virginica', petal_l=5.5, petal_w=1.8, sepal_l=6.5, sepal_w=3.0),\n",
       " Row(cls='Iris-virginica', petal_l=6.7, petal_w=2.2, sepal_l=7.7, sepal_w=3.8),\n",
       " Row(cls='Iris-virginica', petal_l=6.9, petal_w=2.3, sepal_l=7.7, sepal_w=2.6),\n",
       " Row(cls='Iris-virginica', petal_l=5.0, petal_w=1.5, sepal_l=6.0, sepal_w=2.2),\n",
       " Row(cls='Iris-virginica', petal_l=5.7, petal_w=2.3, sepal_l=6.9, sepal_w=3.2),\n",
       " Row(cls='Iris-virginica', petal_l=4.9, petal_w=2.0, sepal_l=5.6, sepal_w=2.8),\n",
       " Row(cls='Iris-virginica', petal_l=6.7, petal_w=2.0, sepal_l=7.7, sepal_w=2.8),\n",
       " Row(cls='Iris-virginica', petal_l=4.9, petal_w=1.8, sepal_l=6.3, sepal_w=2.7),\n",
       " Row(cls='Iris-virginica', petal_l=5.7, petal_w=2.1, sepal_l=6.7, sepal_w=3.3),\n",
       " Row(cls='Iris-virginica', petal_l=6.0, petal_w=1.8, sepal_l=7.2, sepal_w=3.2),\n",
       " Row(cls='Iris-virginica', petal_l=4.8, petal_w=1.8, sepal_l=6.2, sepal_w=2.8),\n",
       " Row(cls='Iris-virginica', petal_l=4.9, petal_w=1.8, sepal_l=6.1, sepal_w=3.0),\n",
       " Row(cls='Iris-virginica', petal_l=5.6, petal_w=2.1, sepal_l=6.4, sepal_w=2.8),\n",
       " Row(cls='Iris-virginica', petal_l=5.8, petal_w=1.6, sepal_l=7.2, sepal_w=3.0),\n",
       " Row(cls='Iris-virginica', petal_l=6.1, petal_w=1.9, sepal_l=7.4, sepal_w=2.8),\n",
       " Row(cls='Iris-virginica', petal_l=6.4, petal_w=2.0, sepal_l=7.9, sepal_w=3.8),\n",
       " Row(cls='Iris-virginica', petal_l=5.6, petal_w=2.2, sepal_l=6.4, sepal_w=2.8),\n",
       " Row(cls='Iris-virginica', petal_l=5.1, petal_w=1.5, sepal_l=6.3, sepal_w=2.8),\n",
       " Row(cls='Iris-virginica', petal_l=5.6, petal_w=1.4, sepal_l=6.1, sepal_w=2.6),\n",
       " Row(cls='Iris-virginica', petal_l=6.1, petal_w=2.3, sepal_l=7.7, sepal_w=3.0),\n",
       " Row(cls='Iris-virginica', petal_l=5.6, petal_w=2.4, sepal_l=6.3, sepal_w=3.4),\n",
       " Row(cls='Iris-virginica', petal_l=5.5, petal_w=1.8, sepal_l=6.4, sepal_w=3.1),\n",
       " Row(cls='Iris-virginica', petal_l=4.8, petal_w=1.8, sepal_l=6.0, sepal_w=3.0),\n",
       " Row(cls='Iris-virginica', petal_l=5.4, petal_w=2.1, sepal_l=6.9, sepal_w=3.1),\n",
       " Row(cls='Iris-virginica', petal_l=5.6, petal_w=2.4, sepal_l=6.7, sepal_w=3.1),\n",
       " Row(cls='Iris-virginica', petal_l=5.1, petal_w=2.3, sepal_l=6.9, sepal_w=3.1),\n",
       " Row(cls='Iris-virginica', petal_l=5.1, petal_w=1.9, sepal_l=5.8, sepal_w=2.7),\n",
       " Row(cls='Iris-virginica', petal_l=5.9, petal_w=2.3, sepal_l=6.8, sepal_w=3.2),\n",
       " Row(cls='Iris-virginica', petal_l=5.7, petal_w=2.5, sepal_l=6.7, sepal_w=3.3),\n",
       " Row(cls='Iris-virginica', petal_l=5.2, petal_w=2.3, sepal_l=6.7, sepal_w=3.0),\n",
       " Row(cls='Iris-virginica', petal_l=5.0, petal_w=1.9, sepal_l=6.3, sepal_w=2.5),\n",
       " Row(cls='Iris-virginica', petal_l=5.2, petal_w=2.0, sepal_l=6.5, sepal_w=3.0),\n",
       " Row(cls='Iris-virginica', petal_l=5.4, petal_w=2.3, sepal_l=6.2, sepal_w=3.4),\n",
       " Row(cls='Iris-virginica', petal_l=5.1, petal_w=1.8, sepal_l=5.9, sepal_w=3.0)]"
      ]
     },
     "execution_count": 89,
     "metadata": {},
     "output_type": "execute_result"
    }
   ],
   "source": [
    "rdd1=sc.textFile(\"data/iris/iris.data\")\n",
    "rdd1=rdd1.map(lambda x: x.split(\",\"))\n",
    "rdd1=rdd1.map(lambda x: Row(sepal_l=float(x[0]), sepal_w=float(x[1]),petal_l=float(x[2]),petal_w=float(x[3]),cls=x[4]))\n",
    "rdd1.collect()"
   ]
  },
  {
   "cell_type": "code",
   "execution_count": 90,
   "id": "45d0f1e2",
   "metadata": {},
   "outputs": [
    {
     "name": "stdout",
     "output_type": "stream",
     "text": [
      "root\n",
      " |-- sepal_l: double (nullable = false)\n",
      " |-- sepal_w: double (nullable = false)\n",
      " |-- petal_l: double (nullable = false)\n",
      " |-- petal_w: double (nullable = false)\n",
      " |-- cls: string (nullable = false)\n",
      "\n",
      "None\n",
      "+-------+-------+-------+-------+-----------+\n",
      "|sepal_l|sepal_w|petal_l|petal_w|        cls|\n",
      "+-------+-------+-------+-------+-----------+\n",
      "|    5.1|    3.5|    1.4|    0.2|Iris-setosa|\n",
      "|    4.9|    3.0|    1.4|    0.2|Iris-setosa|\n",
      "|    4.7|    3.2|    1.3|    0.2|Iris-setosa|\n",
      "|    4.6|    3.1|    1.5|    0.2|Iris-setosa|\n",
      "|    5.0|    3.6|    1.4|    0.2|Iris-setosa|\n",
      "+-------+-------+-------+-------+-----------+\n",
      "only showing top 5 rows\n",
      "\n",
      "None\n"
     ]
    }
   ],
   "source": [
    "schema1=StructType([\n",
    "    StructField(\"sepal_l\",DoubleType(),False),\n",
    "    StructField(\"sepal_w\",DoubleType(),False),\n",
    "    StructField(\"petal_l\",DoubleType(),False),\n",
    "    StructField(\"petal_w\",DoubleType(),False),\n",
    "    StructField(\"cls\",StringType(),False),\n",
    "])\n",
    "df1=spark.createDataFrame(rdd1,schema1)\n",
    "print(df1.printSchema())\n",
    "print(df1.show(5))"
   ]
  },
  {
   "cell_type": "code",
   "execution_count": 91,
   "id": "8bcc45a2",
   "metadata": {},
   "outputs": [
    {
     "data": {
      "text/plain": [
       "-0.10936924995064869"
      ]
     },
     "execution_count": 91,
     "metadata": {},
     "output_type": "execute_result"
    }
   ],
   "source": [
    "df1.stat.corr(\"sepal_l\",\"sepal_w\")"
   ]
  },
  {
   "cell_type": "code",
   "execution_count": 92,
   "id": "feec4f65",
   "metadata": {},
   "outputs": [
    {
     "name": "stdout",
     "output_type": "stream",
     "text": [
      "+-------+-------+-------+-------+-----------+-----------------+\n",
      "|sepal_l|sepal_w|petal_l|petal_w|        cls|         features|\n",
      "+-------+-------+-------+-------+-----------+-----------------+\n",
      "|    5.1|    3.5|    1.4|    0.2|Iris-setosa|[5.1,3.5,1.4,0.2]|\n",
      "|    4.9|    3.0|    1.4|    0.2|Iris-setosa|[4.9,3.0,1.4,0.2]|\n",
      "|    4.7|    3.2|    1.3|    0.2|Iris-setosa|[4.7,3.2,1.3,0.2]|\n",
      "+-------+-------+-------+-------+-----------+-----------------+\n",
      "only showing top 3 rows\n",
      "\n"
     ]
    },
    {
     "data": {
      "text/html": [
       "<div>\n",
       "<style scoped>\n",
       "    .dataframe tbody tr th:only-of-type {\n",
       "        vertical-align: middle;\n",
       "    }\n",
       "\n",
       "    .dataframe tbody tr th {\n",
       "        vertical-align: top;\n",
       "    }\n",
       "\n",
       "    .dataframe thead th {\n",
       "        text-align: right;\n",
       "    }\n",
       "</style>\n",
       "<table border=\"1\" class=\"dataframe\">\n",
       "  <thead>\n",
       "    <tr style=\"text-align: right;\">\n",
       "      <th></th>\n",
       "      <th>pearson(features)</th>\n",
       "    </tr>\n",
       "  </thead>\n",
       "  <tbody>\n",
       "    <tr>\n",
       "      <th>0</th>\n",
       "      <td>DenseMatrix([[ 1.        , -0.10936925,  0.87175416,  0.81795363],\\n             [-0.10936925,  1.        , -0.4205161 , -0.35654409],\\n             [ 0.87175416, -0.4205161 ,  1.        ,  0.9627571 ],\\n             [ 0.81795363, -0.35654409,  0.9627571 ,  1.        ]])</td>\n",
       "    </tr>\n",
       "  </tbody>\n",
       "</table>\n",
       "</div>"
      ],
      "text/plain": [
       "                                                                                                                                                                                                                                                                 pearson(features)\n",
       "0  DenseMatrix([[ 1.        , -0.10936925,  0.87175416,  0.81795363],\\n             [-0.10936925,  1.        , -0.4205161 , -0.35654409],\\n             [ 0.87175416, -0.4205161 ,  1.        ,  0.9627571 ],\\n             [ 0.81795363, -0.35654409,  0.9627571 ,  1.        ]])"
      ]
     },
     "execution_count": 92,
     "metadata": {},
     "output_type": "execute_result"
    }
   ],
   "source": [
    "assembler1 = VectorAssembler(inputCols = [\"sepal_l\", \"sepal_w\", \"petal_l\", \"petal_w\"], outputCol = \"features\")\n",
    "assembled1 = assembler1.transform(df1)\n",
    "assembled1.show(3)\n",
    "Correlation.corr(assembled1, \"features\").toPandas()"
   ]
  },
  {
   "cell_type": "code",
   "execution_count": 93,
   "id": "f9467854",
   "metadata": {},
   "outputs": [],
   "source": [
    "featureIndexer=VectorIndexer(inputCol=\"features\",outputCol=\"indexedFeatures\",\n",
    "                             maxCategories=2)"
   ]
  },
  {
   "cell_type": "code",
   "execution_count": 94,
   "id": "d7c5ed0f",
   "metadata": {},
   "outputs": [],
   "source": [
    "string_to_idx=StringIndexer(inputCol=\"cls\",outputCol=\"indexedCls\")"
   ]
  },
  {
   "cell_type": "code",
   "execution_count": 95,
   "id": "772d8a0b",
   "metadata": {},
   "outputs": [],
   "source": [
    "lr=LogisticRegression(featuresCol=\"indexedFeatures\",labelCol=\"indexedCls\")"
   ]
  },
  {
   "cell_type": "code",
   "execution_count": 96,
   "id": "6962946c",
   "metadata": {},
   "outputs": [],
   "source": [
    "idx_to_string=IndexToString(inputCol=\"prediction\",outputCol=\"predCls\")"
   ]
  },
  {
   "cell_type": "code",
   "execution_count": 108,
   "id": "174d4cf9",
   "metadata": {},
   "outputs": [
    {
     "name": "stdout",
     "output_type": "stream",
     "text": [
      "+-------+-------+-------+-------+-----------+-----------------+-----------------+\n",
      "|sepal_l|sepal_w|petal_l|petal_w|        cls|         features|  indexedFeatures|\n",
      "+-------+-------+-------+-------+-----------+-----------------+-----------------+\n",
      "|    5.1|    3.5|    1.4|    0.2|Iris-setosa|[5.1,3.5,1.4,0.2]|[5.1,3.5,1.4,0.2]|\n",
      "|    4.9|    3.0|    1.4|    0.2|Iris-setosa|[4.9,3.0,1.4,0.2]|[4.9,3.0,1.4,0.2]|\n",
      "|    4.7|    3.2|    1.3|    0.2|Iris-setosa|[4.7,3.2,1.3,0.2]|[4.7,3.2,1.3,0.2]|\n",
      "|    4.6|    3.1|    1.5|    0.2|Iris-setosa|[4.6,3.1,1.5,0.2]|[4.6,3.1,1.5,0.2]|\n",
      "|    5.0|    3.6|    1.4|    0.2|Iris-setosa|[5.0,3.6,1.4,0.2]|[5.0,3.6,1.4,0.2]|\n",
      "+-------+-------+-------+-------+-----------+-----------------+-----------------+\n",
      "only showing top 5 rows\n",
      "\n",
      "+-------+-------+-------+-------+-----------+-----------------+-----------------+----------+\n",
      "|sepal_l|sepal_w|petal_l|petal_w|        cls|         features|  indexedFeatures|indexedCls|\n",
      "+-------+-------+-------+-------+-----------+-----------------+-----------------+----------+\n",
      "|    5.1|    3.5|    1.4|    0.2|Iris-setosa|[5.1,3.5,1.4,0.2]|[5.1,3.5,1.4,0.2]|       2.0|\n",
      "|    4.9|    3.0|    1.4|    0.2|Iris-setosa|[4.9,3.0,1.4,0.2]|[4.9,3.0,1.4,0.2]|       2.0|\n",
      "|    4.7|    3.2|    1.3|    0.2|Iris-setosa|[4.7,3.2,1.3,0.2]|[4.7,3.2,1.3,0.2]|       2.0|\n",
      "|    4.6|    3.1|    1.5|    0.2|Iris-setosa|[4.6,3.1,1.5,0.2]|[4.6,3.1,1.5,0.2]|       2.0|\n",
      "|    5.0|    3.6|    1.4|    0.2|Iris-setosa|[5.0,3.6,1.4,0.2]|[5.0,3.6,1.4,0.2]|       2.0|\n",
      "+-------+-------+-------+-------+-----------+-----------------+-----------------+----------+\n",
      "only showing top 5 rows\n",
      "\n",
      "+-------+-------+-------+-------+-----------+-----------------+-----------------+----------+--------------------+--------------------+----------+\n",
      "|sepal_l|sepal_w|petal_l|petal_w|        cls|         features|  indexedFeatures|indexedCls|       rawPrediction|         probability|prediction|\n",
      "+-------+-------+-------+-------+-----------+-----------------+-----------------+----------+--------------------+--------------------+----------+\n",
      "|    5.1|    3.5|    1.4|    0.2|Iris-setosa|[5.1,3.5,1.4,0.2]|[5.1,3.5,1.4,0.2]|       2.0|[-6.5893371790432...|[4.01427089598418...|       2.0|\n",
      "|    4.9|    3.0|    1.4|    0.2|Iris-setosa|[4.9,3.0,1.4,0.2]|[4.9,3.0,1.4,0.2]|       2.0|[0.71902195476911...|[6.17170588715625...|       2.0|\n",
      "|    4.7|    3.2|    1.3|    0.2|Iris-setosa|[4.7,3.2,1.3,0.2]|[4.7,3.2,1.3,0.2]|       2.0|[-3.9723225596865...|[7.98811414499879...|       2.0|\n",
      "|    4.6|    3.1|    1.5|    0.2|Iris-setosa|[4.6,3.1,1.5,0.2]|[4.6,3.1,1.5,0.2]|       2.0|[-2.6281648871468...|[7.41234709793209...|       2.0|\n",
      "|    5.0|    3.6|    1.4|    0.2|Iris-setosa|[5.0,3.6,1.4,0.2]|[5.0,3.6,1.4,0.2]|       2.0|[-8.8759964616956...|[2.76228783523617...|       2.0|\n",
      "+-------+-------+-------+-------+-----------+-----------------+-----------------+----------+--------------------+--------------------+----------+\n",
      "only showing top 5 rows\n",
      "\n",
      "+-------+-------+-------+-------+-----------+-----------------+-----------------+----------+--------------------+--------------------+----------+-----------+\n",
      "|sepal_l|sepal_w|petal_l|petal_w|        cls|         features|  indexedFeatures|indexedCls|       rawPrediction|         probability|prediction|    predCls|\n",
      "+-------+-------+-------+-------+-----------+-----------------+-----------------+----------+--------------------+--------------------+----------+-----------+\n",
      "|    5.1|    3.5|    1.4|    0.2|Iris-setosa|[5.1,3.5,1.4,0.2]|[5.1,3.5,1.4,0.2]|       2.0|[-6.5893371790432...|[4.01427089598418...|       2.0|Iris-setosa|\n",
      "|    4.9|    3.0|    1.4|    0.2|Iris-setosa|[4.9,3.0,1.4,0.2]|[4.9,3.0,1.4,0.2]|       2.0|[0.71902195476911...|[6.17170588715625...|       2.0|Iris-setosa|\n",
      "|    4.7|    3.2|    1.3|    0.2|Iris-setosa|[4.7,3.2,1.3,0.2]|[4.7,3.2,1.3,0.2]|       2.0|[-3.9723225596865...|[7.98811414499879...|       2.0|Iris-setosa|\n",
      "|    4.6|    3.1|    1.5|    0.2|Iris-setosa|[4.6,3.1,1.5,0.2]|[4.6,3.1,1.5,0.2]|       2.0|[-2.6281648871468...|[7.41234709793209...|       2.0|Iris-setosa|\n",
      "|    5.0|    3.6|    1.4|    0.2|Iris-setosa|[5.0,3.6,1.4,0.2]|[5.0,3.6,1.4,0.2]|       2.0|[-8.8759964616956...|[2.76228783523617...|       2.0|Iris-setosa|\n",
      "+-------+-------+-------+-------+-----------+-----------------+-----------------+----------+--------------------+--------------------+----------+-----------+\n",
      "only showing top 5 rows\n",
      "\n"
     ]
    }
   ],
   "source": [
    "df_featureIndexer1_fit=featureIndexer.fit(assembled1)\n",
    "df_featureIndexer1_tran=df_featureIndexer1_fit.transform(assembled1)\n",
    "df_featureIndexer1_tran.show(5,True)\n",
    "\n",
    "df_string_to_idx1_fit=string_to_idx.fit(df_featureIndexer1)\n",
    "df_string_to_idx1_tran=df_string_to_idx1_fit.transform(df_featureIndexer1)\n",
    "df_string_to_idx1_tran.show(5)\n",
    "\n",
    "df_lr_fit=lr.fit(df_string_to_idx1_tran)\n",
    "df_lr_trans=df_lr_fit.transform(df_string_to_idx1_tran)\n",
    "df_lr_trans.show(5)\n",
    "\n",
    "idx_to_string.setLabels(df_string_to_idx1_fit.labels)\n",
    "df_idx_to_string_trans=idx_to_string.transform(df_lr)\n",
    "df_idx_to_string_trans.show(5)"
   ]
  },
  {
   "cell_type": "code",
   "execution_count": 98,
   "id": "ae0ad5eb",
   "metadata": {},
   "outputs": [
    {
     "name": "stdout",
     "output_type": "stream",
     "text": [
      "+-----------+-----------------+\n",
      "|        cls|         features|\n",
      "+-----------+-----------------+\n",
      "|Iris-setosa|[4.4,2.9,1.4,0.2]|\n",
      "|Iris-setosa|[4.5,2.3,1.3,0.3]|\n",
      "|Iris-setosa|[4.6,3.2,1.4,0.2]|\n",
      "|Iris-setosa|[4.6,3.4,1.4,0.3]|\n",
      "|Iris-setosa|[4.6,3.6,1.0,0.2]|\n",
      "+-----------+-----------------+\n",
      "only showing top 5 rows\n",
      "\n",
      "+-----------+-----------------+\n",
      "|        cls|         features|\n",
      "+-----------+-----------------+\n",
      "|Iris-setosa|[4.3,3.0,1.1,0.1]|\n",
      "|Iris-setosa|[4.4,3.0,1.3,0.2]|\n",
      "|Iris-setosa|[4.4,3.2,1.3,0.2]|\n",
      "|Iris-setosa|[4.6,3.1,1.5,0.2]|\n",
      "|Iris-setosa|[4.7,3.2,1.3,0.2]|\n",
      "+-----------+-----------------+\n",
      "only showing top 5 rows\n",
      "\n"
     ]
    }
   ],
   "source": [
    "assembled2=assembled1.drop(\"sepal_l\",\"sepal_w\",\"petal_l\",\"petal_w\")\n",
    "(trainingData,testData)=assembled2.randomSplit([0.6,0.4])\n",
    "trainingData.show(5)\n",
    "testData.show(5)"
   ]
  },
  {
   "cell_type": "code",
   "execution_count": 99,
   "id": "f72ba5b1",
   "metadata": {},
   "outputs": [
    {
     "name": "stdout",
     "output_type": "stream",
     "text": [
      "+-----------------+-----------+-----------+\n",
      "|         features|        cls|    predCls|\n",
      "+-----------------+-----------+-----------+\n",
      "|[4.3,3.0,1.1,0.1]|Iris-setosa|Iris-setosa|\n",
      "|[4.4,3.0,1.3,0.2]|Iris-setosa|Iris-setosa|\n",
      "|[4.4,3.2,1.3,0.2]|Iris-setosa|Iris-setosa|\n",
      "|[4.6,3.1,1.5,0.2]|Iris-setosa|Iris-setosa|\n",
      "|[4.7,3.2,1.3,0.2]|Iris-setosa|Iris-setosa|\n",
      "+-----------------+-----------+-----------+\n",
      "only showing top 5 rows\n",
      "\n"
     ]
    }
   ],
   "source": [
    "pipeline1=Pipeline(stages=[string_to_idx,featureIndexer,lr,idx_to_string])\n",
    "model1=pipeline1.fit(trainingData)\n",
    "predictions1=model1.transform(testData)\n",
    "predictions1.select(\"features\",\"cls\",\"predCls\").show(5)"
   ]
  },
  {
   "cell_type": "markdown",
   "id": "1381c737",
   "metadata": {},
   "source": [
    "## Transform: \n",
    "A feature transformer might take a DataFrame, read a column (e.g., text), map it into a new column (e.g., feature vectors), and output a new DataFrame with the mapped column appended.\n",
    "A learning model might take a DataFrame, read the column containing feature vectors, predict the label for each feature vector, and output a new DataFrame with predicted labels appended as a column."
   ]
  },
  {
   "cell_type": "code",
   "execution_count": 106,
   "id": "44a8fb95",
   "metadata": {},
   "outputs": [
    {
     "name": "stdout",
     "output_type": "stream",
     "text": [
      "VectorIndexer_3f1d47cc302b DataFrame[sepal_l: double, sepal_w: double, petal_l: double, petal_w: double, cls: string, features: vector, indexedFeatures: vector]\n",
      "StringIndexer_3ba1958b1b52 DataFrame[sepal_l: double, sepal_w: double, petal_l: double, petal_w: double, cls: string, features: vector, indexedFeatures: vector, indexedCls: double]\n",
      "LogisticRegressionModel: uid = LogisticRegression_386b67b93762, numClasses = 3, numFeatures = 4 DataFrame[sepal_l: double, sepal_w: double, petal_l: double, petal_w: double, cls: string, features: vector, indexedFeatures: vector, indexedCls: double, rawPrediction: vector, probability: vector, prediction: double]\n",
      "DataFrame[sepal_l: double, sepal_w: double, petal_l: double, petal_w: double, cls: string, features: vector, indexedFeatures: vector, indexedCls: double, rawPrediction: vector, probability: vector, prediction: double, predCls: string]\n",
      "VectorIndexer_3f1d47cc302b StringIndexer_3ba1958b1b52 LogisticRegression_386b67b93762 IndexToString_a8550e037bf0\n",
      "Pipeline_743a6ad9fda1 PipelineModel_8d2da3f80d96 DataFrame[cls: string, features: vector, indexedCls: double, indexedFeatures: vector, rawPrediction: vector, probability: vector, prediction: double, predCls: string]\n"
     ]
    }
   ],
   "source": [
    "print(df_featureIndexer1_fit, df_featureIndexer1_tran)\n",
    "print(df_string_to_idx1_fit, df_string_to_idx1_tran)\n",
    "print(df_lr_fit, df_lr_trans)\n",
    "print(df_idx_to_string_trans)\n",
    "print(featureIndexer, string_to_idx, lr, idx_to_string)\n",
    "print(pipeline1, model1, predictions1)"
   ]
  },
  {
   "cell_type": "code",
   "execution_count": 84,
   "id": "2afabc77",
   "metadata": {},
   "outputs": [
    {
     "name": "stdout",
     "output_type": "stream",
     "text": [
      "Test Error: 0.0441176, \n"
     ]
    }
   ],
   "source": [
    "evaluator=MulticlassClassificationEvaluator(\n",
    "    labelCol=\"indexedCls\",\n",
    "    predictionCol=\"prediction\",metricName=\"accuracy\"\n",
    ")\n",
    "accu=evaluator.evaluate(predictions)\n",
    "print(\"Test Error: %g, \"%(1-accu))"
   ]
  },
  {
   "cell_type": "code",
   "execution_count": 85,
   "id": "a856025f",
   "metadata": {},
   "outputs": [
    {
     "name": "stdout",
     "output_type": "stream",
     "text": [
      "+-----------------+--------------+---------------+\n",
      "|         features|           cls|        predCls|\n",
      "+-----------------+--------------+---------------+\n",
      "|[6.0,3.0,4.8,1.8]|Iris-virginica|Iris-versicolor|\n",
      "|[6.1,2.6,5.6,1.4]|Iris-virginica|Iris-versicolor|\n",
      "|[6.3,2.8,5.1,1.5]|Iris-virginica|Iris-versicolor|\n",
      "+-----------------+--------------+---------------+\n",
      "\n"
     ]
    }
   ],
   "source": [
    "predictions.filter(predictions.predCls!=predictions.cls).select(\"features\",\"cls\",\"predCls\").show(5)"
   ]
  },
  {
   "cell_type": "code",
   "execution_count": 86,
   "id": "173aa07f",
   "metadata": {},
   "outputs": [
    {
     "data": {
      "text/plain": [
       "Row(a=DenseVector([-1.0, 0.0]))"
      ]
     },
     "execution_count": 86,
     "metadata": {},
     "output_type": "execute_result"
    }
   ],
   "source": [
    "from pyspark.ml.linalg import Vectors\n",
    "dfr = spark.createDataFrame([(Vectors.dense([-1.0, 0.0]),),\n",
    "    (Vectors.dense([0.0, 1.0]),), (Vectors.dense([0.0, 2.0]),)], [\"a\"])\n",
    "dfr.head()"
   ]
  },
  {
   "cell_type": "code",
   "execution_count": 87,
   "id": "d376af3a",
   "metadata": {},
   "outputs": [
    {
     "data": {
      "text/plain": [
       "Row(a=DenseVector([-1.0, 0.0]), indexed=DenseVector([1.0, 0.0]))"
      ]
     },
     "execution_count": 87,
     "metadata": {},
     "output_type": "execute_result"
    }
   ],
   "source": [
    "indexer = VectorIndexer(maxCategories=2, inputCol=\"a\")\n",
    "indexer.setOutputCol(\"indexed\")\n",
    "model2 = indexer.fit(dfr)\n",
    "indexer.getHandleInvalid()\n",
    "model2.transform(dfr).head()"
   ]
  },
  {
   "cell_type": "markdown",
   "id": "d459b54c",
   "metadata": {},
   "source": [
    "# Binarizer"
   ]
  },
  {
   "cell_type": "code",
   "execution_count": 109,
   "id": "b6dd7d92",
   "metadata": {},
   "outputs": [
    {
     "name": "stdout",
     "output_type": "stream",
     "text": [
      "+-------+-------+-------+-------+-----------+---------+\n",
      "|sepal_l|sepal_w|petal_l|petal_w|        cls|b_sepal_w|\n",
      "+-------+-------+-------+-------+-----------+---------+\n",
      "|    5.1|    3.5|    1.4|    0.2|Iris-setosa|      1.0|\n",
      "|    4.9|    3.0|    1.4|    0.2|Iris-setosa|      0.0|\n",
      "|    4.7|    3.2|    1.3|    0.2|Iris-setosa|      0.0|\n",
      "+-------+-------+-------+-------+-----------+---------+\n",
      "only showing top 3 rows\n",
      "\n"
     ]
    }
   ],
   "source": [
    "from pyspark.ml.feature import Binarizer\n",
    "binarizer=Binarizer(threshold=3.2,inputCol=\"sepal_w\",outputCol=\"b_sepal_w\")\n",
    "binarizer.transform(df1).show(3)"
   ]
  },
  {
   "cell_type": "code",
   "execution_count": null,
   "id": "ddd06d14",
   "metadata": {},
   "outputs": [],
   "source": [
    "https://www.youtube.com/watch?v=jEyahxFp3ak"
   ]
  }
 ],
 "metadata": {
  "kernelspec": {
   "display_name": "Python 3 (ipykernel)",
   "language": "python",
   "name": "python3"
  },
  "language_info": {
   "codemirror_mode": {
    "name": "ipython",
    "version": 3
   },
   "file_extension": ".py",
   "mimetype": "text/x-python",
   "name": "python",
   "nbconvert_exporter": "python",
   "pygments_lexer": "ipython3",
   "version": "3.7.9"
  }
 },
 "nbformat": 4,
 "nbformat_minor": 5
}
