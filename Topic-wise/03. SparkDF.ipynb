{
 "cells": [
  {
   "cell_type": "code",
   "execution_count": 1,
   "id": "fcf347b0",
   "metadata": {},
   "outputs": [],
   "source": [
    "import findspark\n",
    "from pyspark.sql import SparkSession\n",
    "from pyspark.sql import Row\n",
    "from pyspark.sql.types import StructField,StructType,IntegerType,StringType,TimestampType,ArrayType\n",
    "from pyspark.sql.functions import to_date,col\n",
    "from pyspark.sql import functions as F\n",
    "from pyspark.sql import Window\n",
    "import os\n",
    "import psycopg2"
   ]
  },
  {
   "cell_type": "code",
   "execution_count": 2,
   "id": "d3d400ce",
   "metadata": {},
   "outputs": [],
   "source": [
    "findspark.init()\n",
    "# findspark.add_packages('file:///C:/Program Files (x86)/MySQL/Connector J 8.0/mysql-connector-java-8.0.23.jar')"
   ]
  },
  {
   "cell_type": "code",
   "execution_count": 32,
   "id": "c5f7f0f1",
   "metadata": {},
   "outputs": [],
   "source": [
    "spark.stop()"
   ]
  },
  {
   "cell_type": "code",
   "execution_count": 4,
   "id": "c9a0aa3e",
   "metadata": {},
   "outputs": [],
   "source": [
    "spark=SparkSession.builder.appName(\"SparkDF\").config(\"spark.driver.extraClassPath\", \"mysql-connector-java-8.0.23.jar\").enableHiveSupport().getOrCreate()\n",
    "sc=spark.sparkContext"
   ]
  },
  {
   "cell_type": "code",
   "execution_count": 35,
   "id": "5274a1dc",
   "metadata": {},
   "outputs": [
    {
     "data": {
      "text/html": [
       "\n",
       "            <div>\n",
       "                <p><b>SparkSession - hive</b></p>\n",
       "                \n",
       "        <div>\n",
       "            <p><b>SparkContext</b></p>\n",
       "\n",
       "            <p><a href=\"http://169.254.181.150:4040\">Spark UI</a></p>\n",
       "\n",
       "            <dl>\n",
       "              <dt>Version</dt>\n",
       "                <dd><code>v2.4.8</code></dd>\n",
       "              <dt>Master</dt>\n",
       "                <dd><code>local[*]</code></dd>\n",
       "              <dt>AppName</dt>\n",
       "                <dd><code>SparkDF</code></dd>\n",
       "            </dl>\n",
       "        </div>\n",
       "        \n",
       "            </div>\n",
       "        "
      ],
      "text/plain": [
       "<pyspark.sql.session.SparkSession at 0x234a600b888>"
      ]
     },
     "execution_count": 35,
     "metadata": {},
     "output_type": "execute_result"
    }
   ],
   "source": [
    "spark"
   ]
  },
  {
   "cell_type": "markdown",
   "id": "c6b89cfb",
   "metadata": {},
   "source": [
    "# Creating DF (From RDDs)"
   ]
  },
  {
   "cell_type": "code",
   "execution_count": 19,
   "id": "5580fa91",
   "metadata": {},
   "outputs": [
    {
     "data": {
      "text/plain": [
       "['1|Toy Story (1995)|01-Jan-1995||http://us.imdb.com/M/title-exact?Toy%20Story%20(1995)|0|0|0|1|1|1|0|0|0|0|0|0|0|0|0|0|0|0|0',\n",
       " '2|GoldenEye (1995)|01-Jan-1995||http://us.imdb.com/M/title-exact?GoldenEye%20(1995)|0|1|1|0|0|0|0|0|0|0|0|0|0|0|0|0|1|0|0',\n",
       " '3|Four Rooms (1995)|01-Jan-1995||http://us.imdb.com/M/title-exact?Four%20Rooms%20(1995)|0|0|0|0|0|0|0|0|0|0|0|0|0|0|0|0|1|0|0']"
      ]
     },
     "execution_count": 19,
     "metadata": {},
     "output_type": "execute_result"
    }
   ],
   "source": [
    "rdd1=sc.textFile(\"data/ml-100k/u.item\")\n",
    "rdd1.take(3)"
   ]
  },
  {
   "cell_type": "code",
   "execution_count": 20,
   "id": "d32b6a18",
   "metadata": {},
   "outputs": [],
   "source": [
    "# df1.coalesce(1).write.save(\"item.parquet\",format=\"parquet\")"
   ]
  },
  {
   "cell_type": "code",
   "execution_count": 21,
   "id": "cfa6e0f5",
   "metadata": {},
   "outputs": [],
   "source": [
    "rdd1_split=rdd1.map(lambda x: x.split(\"|\"))"
   ]
  },
  {
   "cell_type": "code",
   "execution_count": 22,
   "id": "8fc0d29f",
   "metadata": {},
   "outputs": [
    {
     "name": "stdout",
     "output_type": "stream",
     "text": [
      "[Row(date='01-Jan-1995', id=1, link='http://us.imdb.com/M/title-exact?Toy%20Story%20(1995)', rating=[0, 0, 0, 1, 1, 1, 0, 0, 0, 0, 0, 0, 0, 0, 0, 0, 0, 0, 0], title='Toy Story (1995)'), Row(date='01-Jan-1995', id=2, link='http://us.imdb.com/M/title-exact?GoldenEye%20(1995)', rating=[0, 1, 1, 0, 0, 0, 0, 0, 0, 0, 0, 0, 0, 0, 0, 0, 1, 0, 0], title='GoldenEye (1995)'), Row(date='01-Jan-1995', id=3, link='http://us.imdb.com/M/title-exact?Four%20Rooms%20(1995)', rating=[0, 0, 0, 0, 0, 0, 0, 0, 0, 0, 0, 0, 0, 0, 0, 0, 1, 0, 0], title='Four Rooms (1995)')]\n"
     ]
    }
   ],
   "source": [
    "rdd1_data=rdd1_split.map(lambda x: Row(id=int(x[0]), title=x[1],date=x[2],link=x[4],rating=[int(i) for i in x[5:]]))\n",
    "print(rdd1_data.take(3))"
   ]
  },
  {
   "cell_type": "code",
   "execution_count": 23,
   "id": "044c3ff8",
   "metadata": {},
   "outputs": [
    {
     "name": "stdout",
     "output_type": "stream",
     "text": [
      "root\n",
      " |-- date: string (nullable = true)\n",
      " |-- id: long (nullable = true)\n",
      " |-- link: string (nullable = true)\n",
      " |-- rating: array (nullable = true)\n",
      " |    |-- element: long (containsNull = true)\n",
      " |-- title: string (nullable = true)\n",
      "\n",
      "None\n",
      "+-----------+---+--------------------+--------------------+--------------------+\n",
      "|       date| id|                link|              rating|               title|\n",
      "+-----------+---+--------------------+--------------------+--------------------+\n",
      "|01-Jan-1995|  1|http://us.imdb.co...|[0, 0, 0, 1, 1, 1...|    Toy Story (1995)|\n",
      "|01-Jan-1995|  2|http://us.imdb.co...|[0, 1, 1, 0, 0, 0...|    GoldenEye (1995)|\n",
      "|01-Jan-1995|  3|http://us.imdb.co...|[0, 0, 0, 0, 0, 0...|   Four Rooms (1995)|\n",
      "|01-Jan-1995|  4|http://us.imdb.co...|[0, 1, 0, 0, 0, 1...|   Get Shorty (1995)|\n",
      "|01-Jan-1995|  5|http://us.imdb.co...|[0, 0, 0, 0, 0, 0...|      Copycat (1995)|\n",
      "|01-Jan-1995|  6|http://us.imdb.co...|[0, 0, 0, 0, 0, 0...|Shanghai Triad (Y...|\n",
      "|01-Jan-1995|  7|http://us.imdb.co...|[0, 0, 0, 0, 0, 0...|Twelve Monkeys (1...|\n",
      "|01-Jan-1995|  8|http://us.imdb.co...|[0, 0, 0, 0, 1, 1...|         Babe (1995)|\n",
      "|01-Jan-1995|  9|http://us.imdb.co...|[0, 0, 0, 0, 0, 0...|Dead Man Walking ...|\n",
      "|22-Jan-1996| 10|http://us.imdb.co...|[0, 0, 0, 0, 0, 0...|  Richard III (1995)|\n",
      "|01-Jan-1995| 11|http://us.imdb.co...|[0, 0, 0, 0, 0, 0...|Seven (Se7en) (1995)|\n",
      "|14-Aug-1995| 12|http://us.imdb.co...|[0, 0, 0, 0, 0, 0...|Usual Suspects, T...|\n",
      "|30-Oct-1995| 13|http://us.imdb.co...|[0, 0, 0, 0, 0, 1...|Mighty Aphrodite ...|\n",
      "|01-Jan-1994| 14|http://us.imdb.co...|[0, 0, 0, 0, 0, 0...|  Postino, Il (1994)|\n",
      "|29-Jan-1996| 15|http://us.imdb.co...|[0, 0, 0, 0, 0, 0...|Mr. Holland's Opu...|\n",
      "+-----------+---+--------------------+--------------------+--------------------+\n",
      "only showing top 15 rows\n",
      "\n",
      "None\n"
     ]
    }
   ],
   "source": [
    "# way-1\n",
    "df1=spark.createDataFrame(rdd1_data)\n",
    "print(df1.printSchema())\n",
    "print(df1.show(15))"
   ]
  },
  {
   "cell_type": "code",
   "execution_count": 8,
   "id": "4c626ef0",
   "metadata": {},
   "outputs": [
    {
     "name": "stdout",
     "output_type": "stream",
     "text": [
      "+---+-----------------+----------+--------------------+\n",
      "| id|            title|      date|              rating|\n",
      "+---+-----------------+----------+--------------------+\n",
      "|  1| Toy Story (1995)|1995-01-01|[0, 0, 0, 1, 1, 1...|\n",
      "|  2| GoldenEye (1995)|1995-01-01|[0, 1, 1, 0, 0, 0...|\n",
      "|  3|Four Rooms (1995)|1995-01-01|[0, 0, 0, 0, 0, 0...|\n",
      "|  4|Get Shorty (1995)|1995-01-01|[0, 1, 0, 0, 0, 1...|\n",
      "|  5|   Copycat (1995)|1995-01-01|[0, 0, 0, 0, 0, 0...|\n",
      "+---+-----------------+----------+--------------------+\n",
      "only showing top 5 rows\n",
      "\n"
     ]
    }
   ],
   "source": [
    "# way-2\n",
    "schema2=StructType([\n",
    "    StructField(\"id\",IntegerType(),True),\n",
    "    StructField(\"title\",StringType(),True),\n",
    "    StructField(\"date\",StringType(),True),\n",
    "    StructField(\"rating\",ArrayType(elementType=IntegerType()),True),\n",
    "])\n",
    "df2=spark.createDataFrame(rdd1_data,schema2) \\\n",
    "    .withColumn(\"date\",to_date(col(\"date\"),\"dd-MMM-yyyy\"))\n",
    "df2.show(5)"
   ]
  },
  {
   "cell_type": "code",
   "execution_count": 9,
   "id": "6a162a36",
   "metadata": {},
   "outputs": [
    {
     "name": "stdout",
     "output_type": "stream",
     "text": [
      "[(1, ('Toy Story', '1995'), '01-Jan-1995', [0, 0, 0, 1, 1, 1, 0, 0, 0, 0, 0, 0, 0, 0, 0, 0, 0, 0, 0]), (2, ('GoldenEye', '1995'), '01-Jan-1995', [0, 1, 1, 0, 0, 0, 0, 0, 0, 0, 0, 0, 0, 0, 0, 0, 1, 0, 0]), (3, ('Four Rooms', '1995'), '01-Jan-1995', [0, 0, 0, 0, 0, 0, 0, 0, 0, 0, 0, 0, 0, 0, 0, 0, 1, 0, 0])]\n",
      "+---+--------------------+----------+--------------------+\n",
      "| id|          title_year|      date|              rating|\n",
      "+---+--------------------+----------+--------------------+\n",
      "|  1|   [Toy Story, 1995]|1995-01-01|[0, 0, 0, 1, 1, 1...|\n",
      "|  2|   [GoldenEye, 1995]|1995-01-01|[0, 1, 1, 0, 0, 0...|\n",
      "|  3|  [Four Rooms, 1995]|1995-01-01|[0, 0, 0, 0, 0, 0...|\n",
      "|  4|  [Get Shorty, 1995]|1995-01-01|[0, 1, 0, 0, 0, 1...|\n",
      "|  5|     [Copycat, 1995]|1995-01-01|[0, 0, 0, 0, 0, 0...|\n",
      "|  6|[Shanghai Triad (...|1995-01-01|[0, 0, 0, 0, 0, 0...|\n",
      "|  7|[Twelve Monkeys, ...|1995-01-01|[0, 0, 0, 0, 0, 0...|\n",
      "|  8|        [Babe, 1995]|1995-01-01|[0, 0, 0, 0, 1, 1...|\n",
      "|  9|[Dead Man Walking...|1995-01-01|[0, 0, 0, 0, 0, 0...|\n",
      "| 10| [Richard III, 1995]|1996-01-22|[0, 0, 0, 0, 0, 0...|\n",
      "| 11|[Seven (Se7en), 1...|1995-01-01|[0, 0, 0, 0, 0, 0...|\n",
      "| 12|[Usual Suspects, ...|1995-08-14|[0, 0, 0, 0, 0, 0...|\n",
      "| 13|[Mighty Aphrodite...|1995-10-30|[0, 0, 0, 0, 0, 1...|\n",
      "| 14| [Postino, Il, 1994]|1994-01-01|[0, 0, 0, 0, 0, 0...|\n",
      "| 15|[Mr. Holland's Op...|1996-01-29|[0, 0, 0, 0, 0, 0...|\n",
      "| 16|[French Twist (Ga...|1995-01-01|[0, 0, 0, 0, 0, 1...|\n",
      "| 17|[From Dusk Till D...|1996-02-05|[0, 1, 0, 0, 0, 1...|\n",
      "| 18|[White Balloon, T...|1995-01-01|[0, 0, 0, 0, 0, 0...|\n",
      "| 19|[Antonia's Line, ...|1995-01-01|[0, 0, 0, 0, 0, 0...|\n",
      "| 20|[Angels and Insec...|1995-01-01|[0, 0, 0, 0, 0, 0...|\n",
      "+---+--------------------+----------+--------------------+\n",
      "only showing top 20 rows\n",
      "\n"
     ]
    }
   ],
   "source": [
    "# way-3\n",
    "def mapping(x):\n",
    "    return (int(x[0]), (x[1][0:-7],x[1][-5:-1]),x[2],[int(i) for i in x[5:]])\n",
    "\n",
    "rdd1_data2=rdd1_split.map(mapping)\n",
    "print(rdd1_data2.take(3))\n",
    "\n",
    "schema2=StructType([\n",
    "    StructField(\"id\",IntegerType(),True),\n",
    "    StructField(\"title_year\", StructType([\n",
    "                StructField(\"title\",StringType(), True),\n",
    "                StructField(\"year\",StringType(), True),\n",
    "            ])),\n",
    "    StructField(\"date\",StringType(),True),\n",
    "    StructField(\"rating\",ArrayType(elementType=IntegerType()),True),\n",
    "    \n",
    "])\n",
    "df3=spark.createDataFrame(rdd1_data2,schema2) \\\n",
    "    .withColumn(\"date\",to_date(col(\"date\"),\"dd-MMM-yyyy\"))\n",
    "df3.show()"
   ]
  },
  {
   "cell_type": "code",
   "execution_count": 8,
   "id": "2eaa313d",
   "metadata": {},
   "outputs": [
    {
     "name": "stdout",
     "output_type": "stream",
     "text": [
      "+----+---------+--------+\n",
      "|  id|firstName|lastName|\n",
      "+----+---------+--------+\n",
      "|   1|     null|   Brown|\n",
      "|null|      Tom|    null|\n",
      "|null|    Jerry|     Fox|\n",
      "|null|    Jerry|     Fox|\n",
      "|   3|   Joshua|Peterson|\n",
      "|   3|   Joshua|Peterson|\n",
      "|null|     null|    null|\n",
      "+----+---------+--------+\n",
      "\n",
      "None\n",
      "root\n",
      " |-- id: long (nullable = true)\n",
      " |-- firstName: string (nullable = true)\n",
      " |-- lastName: string (nullable = true)\n",
      "\n",
      "None\n"
     ]
    }
   ],
   "source": [
    "# way-4\n",
    "df4 = spark.createDataFrame(\n",
    "    [\n",
    "        (1, None, \"Brown\"), \n",
    "        (None, \"Tom\", None), \n",
    "        (None, \"Jerry\", \"Fox\"), \n",
    "        (None, \"Jerry\", \"Fox\"), \n",
    "        (3, \"Joshua\", \"Peterson\"),\n",
    "        (3, \"Joshua\", \"Peterson\"),\n",
    "        (None, None, None)\n",
    "    ], \n",
    "    ('id', 'firstName', 'lastName')\n",
    ")\n",
    "print(df4.show())\n",
    "print(df4.printSchema())"
   ]
  },
  {
   "cell_type": "markdown",
   "id": "dd5d171d",
   "metadata": {},
   "source": [
    "# Creating DF (From Spark Data Sources)"
   ]
  },
  {
   "cell_type": "code",
   "execution_count": 220,
   "id": "87a2a84f",
   "metadata": {},
   "outputs": [
    {
     "name": "stdout",
     "output_type": "stream",
     "text": [
      "+-----------+---+--------------------+-----------------+\n",
      "|       date| id|                link|            title|\n",
      "+-----------+---+--------------------+-----------------+\n",
      "|01-Jan-1995|  1|http://us.imdb.co...| Toy Story (1995)|\n",
      "|01-Jan-1995|  2|http://us.imdb.co...| GoldenEye (1995)|\n",
      "|01-Jan-1995|  3|http://us.imdb.co...|Four Rooms (1995)|\n",
      "+-----------+---+--------------------+-----------------+\n",
      "only showing top 3 rows\n",
      "\n",
      "+---+-----+-----+\n",
      "|_c0|  _c1|  _c2|\n",
      "+---+-----+-----+\n",
      "|  1|     |Brown|\n",
      "|   |  Tom|     |\n",
      "|   |Jerry|  Fox|\n",
      "+---+-----+-----+\n",
      "only showing top 3 rows\n",
      "\n",
      "+----+-----+-----+\n",
      "| _c0|  _c1|  _c2|\n",
      "+----+-----+-----+\n",
      "|   1| null|Brown|\n",
      "|null|  Tom| null|\n",
      "|null|Jerry|  Fox|\n",
      "+----+-----+-----+\n",
      "only showing top 3 rows\n",
      "\n"
     ]
    }
   ],
   "source": [
    "spark.read.json(\"data/ml-100k/item.json\").show(3)\n",
    "# spark.read.parquet(\"data/ml-100k/item.parquet\").show(3)\n",
    "\n",
    "# spark.read.load(\"data/ml-100k/item.json\", format=\"json\").show(3)\n",
    "# spark.read.load(\"data/ml-100k/item.parquet\", format=\"parquet\").show(3)\n",
    "\n",
    "# spark.read.format(\"json\").load(\"data/ml-100k/item.json\").show(3)\n",
    "# spark.read.format(\"parquet\").load(\"data/ml-100k/item.parquet\").show(3)\n",
    "\n",
    "# spark.read.format(\"json\").json(\"data/ml-100k/item.json\").show(3)\n",
    "# spark.read.format(\"parquet\").parquet(\"data/ml-100k/item.parquet\").show(3)\n",
    "\n",
    "# Valid for parquet only\n",
    "# spark.read.load(\"data/ml-100k/item.parquet\").show(3)\n",
    "\n",
    "\n",
    "#  Invalid ways for all\n",
    "# spark.read.json(\"data/ml-100k/item.json\").format(\"json\").show(3)\n",
    "# spark.read.load(\"data/ml-100k/item.json\").format(\"json\").show(3)"
   ]
  },
  {
   "cell_type": "code",
   "execution_count": 30,
   "id": "f2e07002",
   "metadata": {},
   "outputs": [
    {
     "name": "stdout",
     "output_type": "stream",
     "text": [
      "+----+----+-----+\n",
      "| _c0| _c1|  _c2|\n",
      "+----+----+-----+\n",
      "|   1|    |Brown|\n",
      "|null|null| null|\n",
      "|null|null| null|\n",
      "+----+----+-----+\n",
      "only showing top 3 rows\n",
      "\n",
      "root\n",
      " |-- _c0: integer (nullable = true)\n",
      " |-- _c1: string (nullable = true)\n",
      " |-- _c2: string (nullable = true)\n",
      "\n",
      "+----+-----+-----+\n",
      "|  ID|Fname|Lname|\n",
      "+----+-----+-----+\n",
      "|   1| null|Brown|\n",
      "|null|  Tom| null|\n",
      "|null|Jerry|  Fox|\n",
      "+----+-----+-----+\n",
      "only showing top 3 rows\n",
      "\n",
      "root\n",
      " |-- ID: integer (nullable = true)\n",
      " |-- Fname: string (nullable = true)\n",
      " |-- Lname: string (nullable = true)\n",
      "\n",
      "+---+-----+-----+\n",
      "|_c0|  _c1|  _c2|\n",
      "+---+-----+-----+\n",
      "|  1|     |Brown|\n",
      "|   |  Tom|     |\n",
      "|   |Jerry|  Fox|\n",
      "+---+-----+-----+\n",
      "only showing top 3 rows\n",
      "\n",
      "root\n",
      " |-- _c0: string (nullable = true)\n",
      " |-- _c1: string (nullable = true)\n",
      " |-- _c2: string (nullable = true)\n",
      "\n",
      "+----+-----+-----+\n",
      "|  ID|Fname|Lname|\n",
      "+----+-----+-----+\n",
      "|   1| null|Brown|\n",
      "|null|  Tom| null|\n",
      "|null|Jerry|  Fox|\n",
      "+----+-----+-----+\n",
      "only showing top 3 rows\n",
      "\n",
      "root\n",
      " |-- ID: string (nullable = true)\n",
      " |-- Fname: string (nullable = true)\n",
      " |-- Lname: string (nullable = true)\n",
      "\n"
     ]
    }
   ],
   "source": [
    "df_csv1=spark.read.csv(\"data/withnull1.csv\",sep=\",\",nullValue=\"NONE\",inferSchema=True)\n",
    "df_csv2=spark.read.csv(\"data/withnull2.csv\",sep=\",\",nullValue=\"NONE\",header=True,inferSchema=True,encoding=\"UTF-8\")\n",
    "df_csv3=spark.read.csv(\"data/withnull1.csv\",sep=\",\",nullValue=\"NONE\")\n",
    "df_csv4=spark.read.csv(\"data/withnull2.csv\",sep=\",\",nullValue=\"NONE\",header=True,encoding=\"UTF-8\")\n",
    "df_csv1.show(3)\n",
    "df_csv1.printSchema()\n",
    "df_csv2.show(3)\n",
    "df_csv2.printSchema()\n",
    "df_csv3.show(3)\n",
    "df_csv3.printSchema()\n",
    "df_csv4.show(3)\n",
    "df_csv4.printSchema()"
   ]
  },
  {
   "cell_type": "code",
   "execution_count": 20,
   "id": "099600b9",
   "metadata": {},
   "outputs": [
    {
     "name": "stdout",
     "output_type": "stream",
     "text": [
      "+--------------------+\n",
      "|               value|\n",
      "+--------------------+\n",
      "|Utilitatis causa ...|\n",
      "|Lorem ipsum dolor...|\n",
      "|                    |\n",
      "+--------------------+\n",
      "only showing top 3 rows\n",
      "\n"
     ]
    }
   ],
   "source": [
    "spark.read.text(\"data/textFiles/sample1.txt\").show(3)"
   ]
  },
  {
   "cell_type": "code",
   "execution_count": 9,
   "id": "2ed24df1",
   "metadata": {},
   "outputs": [
    {
     "name": "stdout",
     "output_type": "stream",
     "text": [
      "+---+--------------------+--------------------+----------+---------+--------------------+------------------+-------------+--------------------+------+-----+-----+----------+----------+\n",
      "| id|            password|          last_login|first_name|last_name|               email|          username| phone_number|             picture|active|staff|admin|all_logout|is_deleted|\n",
      "+---+--------------------+--------------------+----------+---------+--------------------+------------------+-------------+--------------------+------+-----+-----+----------+----------+\n",
      "|  1|pbkdf2_sha256$180...|2021-05-27 16:14:...|          | Silveira|dms24081999@gmail...|             admin|+919594183245|media/public/prof...|  true| true| true|          |     false|\n",
      "|  2|pbkdf2_sha256$180...|                null|          |         |       user1@dms.com|             user1|         null|                    |  true|false|false|          |     false|\n",
      "|  3|pbkdf2_sha256$180...|                null|          |         |       user2@dms.com|             user2|         null|                    |  true|false|false|          |     false|\n",
      "|  4|pbkdf2_sha256$180...|                null|          |         |       user3@dms.com|             user3|         null|                    |  true|false|false|          |     false|\n",
      "| 17|pbkdf2_sha256$180...|2021-05-15 17:51:...|   Dominic| Silveira|dominicsilveira28...|dominicsilveira289|+919594183245|                    |  true|false|false|          |     false|\n",
      "| 18|pbkdf2_sha256$180...|                null|   Dominic| Silveira|dominicsilveira23...|dms240819994545123|+919594183245|                    |  true|false|false|          |     false|\n",
      "+---+--------------------+--------------------+----------+---------+--------------------+------------------+-------------+--------------------+------+-----+-----+----------+----------+\n",
      "\n"
     ]
    }
   ],
   "source": [
    "# from database\n",
    "# restart jupyter if it doesn't work\n",
    "user='root';pw='24081999'\n",
    "table_name='users'\n",
    "# postgresql://[user[:password]@][netloc][:port][/dbname][?param1=value1&...]\n",
    "url=\"jdbc:mysql://localhost:3306/oneqshopv1\"\n",
    "properties = {\n",
    "    \"user\": user,\n",
    "    \"password\": pw\n",
    "}\n",
    "df_db1=spark.read.option(\"driver\", \"com.mysql.jdbc.Driver\").jdbc(url=url,table=table_name,properties=properties)\n",
    "df_db1.show()"
   ]
  },
  {
   "cell_type": "markdown",
   "id": "f1966492",
   "metadata": {},
   "source": [
    "# Inspect Data"
   ]
  },
  {
   "cell_type": "code",
   "execution_count": 21,
   "id": "f380366c",
   "metadata": {},
   "outputs": [
    {
     "data": {
      "text/plain": [
       "[('date', 'string'),\n",
       " ('id', 'bigint'),\n",
       " ('link', 'string'),\n",
       " ('rating', 'array<bigint>'),\n",
       " ('title', 'string')]"
      ]
     },
     "execution_count": 21,
     "metadata": {},
     "output_type": "execute_result"
    }
   ],
   "source": [
    "df1.dtypes # Return df column names and data types"
   ]
  },
  {
   "cell_type": "code",
   "execution_count": 24,
   "id": "2cda9451",
   "metadata": {},
   "outputs": [
    {
     "name": "stdout",
     "output_type": "stream",
     "text": [
      "-RECORD 0----------------------\n",
      " date   | 01-Jan-1995          \n",
      " id     | 1                    \n",
      " link   | http://us.imdb.co... \n",
      " rating | [0, 0, 0, 1, 1, 1... \n",
      " title  | Toy Story (1995)     \n",
      "-RECORD 1----------------------\n",
      " date   | 01-Jan-1995          \n",
      " id     | 2                    \n",
      " link   | http://us.imdb.co... \n",
      " rating | [0, 1, 1, 0, 0, 0... \n",
      " title  | GoldenEye (1995)     \n",
      "only showing top 2 rows\n",
      "\n",
      "-RECORD 0-----------------------------------------------------------\n",
      " date   | 01-Jan-1995                                               \n",
      " id     | 1                                                         \n",
      " link   | http://us.imdb.com/M/title-exact?Toy%20Story%20(1995)     \n",
      " rating | [0, 0, 0, 1, 1, 1, 0, 0, 0, 0, 0, 0, 0, 0, 0, 0, 0, 0, 0] \n",
      " title  | Toy Story (1995)                                          \n",
      "-RECORD 1-----------------------------------------------------------\n",
      " date   | 01-Jan-1995                                               \n",
      " id     | 2                                                         \n",
      " link   | http://us.imdb.com/M/title-exact?GoldenEye%20(1995)       \n",
      " rating | [0, 1, 1, 0, 0, 0, 0, 0, 0, 0, 0, 0, 0, 0, 0, 0, 1, 0, 0] \n",
      " title  | GoldenEye (1995)                                          \n",
      "only showing top 2 rows\n",
      "\n"
     ]
    }
   ],
   "source": [
    "# default: vertical=False, Truncate=True\n",
    "df1.show(2,vertical=True,truncate=True)\n",
    "df1.show(2,vertical=True,truncate=False)"
   ]
  },
  {
   "cell_type": "code",
   "execution_count": 27,
   "id": "589ce145",
   "metadata": {},
   "outputs": [
    {
     "name": "stdout",
     "output_type": "stream",
     "text": [
      "[Row(date='01-Jan-1995', id=1, link='http://us.imdb.com/M/title-exact?Toy%20Story%20(1995)', rating=[0, 0, 0, 1, 1, 1, 0, 0, 0, 0, 0, 0, 0, 0, 0, 0, 0, 0, 0], title='Toy Story (1995)'), Row(date='01-Jan-1995', id=2, link='http://us.imdb.com/M/title-exact?GoldenEye%20(1995)', rating=[0, 1, 1, 0, 0, 0, 0, 0, 0, 0, 0, 0, 0, 0, 0, 0, 1, 0, 0], title='GoldenEye (1995)')]\n",
      "\n",
      "Row(date='01-Jan-1995', id=1, link='http://us.imdb.com/M/title-exact?Toy%20Story%20(1995)', rating=[0, 0, 0, 1, 1, 1, 0, 0, 0, 0, 0, 0, 0, 0, 0, 0, 0, 0, 0], title='Toy Story (1995)')\n"
     ]
    }
   ],
   "source": [
    "print(df1.head(2),end=\"\\n\\n\") # Return first n rows\n",
    "print(df1.head()) # Return first row"
   ]
  },
  {
   "cell_type": "code",
   "execution_count": 63,
   "id": "09be9609",
   "metadata": {},
   "outputs": [
    {
     "data": {
      "text/plain": [
       "Row(date='01-Jan-1995', id=1, link='http://us.imdb.com/M/title-exact?Toy%20Story%20(1995)', rating=[0, 0, 0, 1, 1, 1, 0, 0, 0, 0, 0, 0, 0, 0, 0, 0, 0, 0, 0], title='Toy Story (1995)')"
      ]
     },
     "execution_count": 63,
     "metadata": {},
     "output_type": "execute_result"
    }
   ],
   "source": [
    "df1.first() # Return first row"
   ]
  },
  {
   "cell_type": "code",
   "execution_count": 64,
   "id": "2fffedfd",
   "metadata": {},
   "outputs": [
    {
     "data": {
      "text/plain": [
       "[Row(date='01-Jan-1995', id=1, link='http://us.imdb.com/M/title-exact?Toy%20Story%20(1995)', rating=[0, 0, 0, 1, 1, 1, 0, 0, 0, 0, 0, 0, 0, 0, 0, 0, 0, 0, 0], title='Toy Story (1995)'),\n",
       " Row(date='01-Jan-1995', id=2, link='http://us.imdb.com/M/title-exact?GoldenEye%20(1995)', rating=[0, 1, 1, 0, 0, 0, 0, 0, 0, 0, 0, 0, 0, 0, 0, 0, 1, 0, 0], title='GoldenEye (1995)')]"
      ]
     },
     "execution_count": 64,
     "metadata": {},
     "output_type": "execute_result"
    }
   ],
   "source": [
    "df1.take(2) # Return the first n rows"
   ]
  },
  {
   "cell_type": "code",
   "execution_count": 65,
   "id": "5bb8c629",
   "metadata": {},
   "outputs": [
    {
     "data": {
      "text/plain": [
       "StructType(List(StructField(date,StringType,true),StructField(id,LongType,true),StructField(link,StringType,true),StructField(rating,ArrayType(LongType,true),true),StructField(title,StringType,true)))"
      ]
     },
     "execution_count": 65,
     "metadata": {},
     "output_type": "execute_result"
    }
   ],
   "source": [
    "df1.schema # Return the schema of df"
   ]
  },
  {
   "cell_type": "code",
   "execution_count": 66,
   "id": "b2e8feb3",
   "metadata": {},
   "outputs": [
    {
     "name": "stdout",
     "output_type": "stream",
     "text": [
      "root\n",
      " |-- date: string (nullable = true)\n",
      " |-- id: long (nullable = true)\n",
      " |-- link: string (nullable = true)\n",
      " |-- rating: array (nullable = true)\n",
      " |    |-- element: long (containsNull = true)\n",
      " |-- title: string (nullable = true)\n",
      "\n"
     ]
    }
   ],
   "source": [
    "df1.printSchema() # Return the schema of df"
   ]
  },
  {
   "cell_type": "code",
   "execution_count": 28,
   "id": "f5b57be9",
   "metadata": {},
   "outputs": [
    {
     "name": "stdout",
     "output_type": "stream",
     "text": [
      "-RECORD 0---------------------------------------------------------------\n",
      " summary | count                                                        \n",
      " date    | 1682                                                         \n",
      " id      | 1682                                                         \n",
      " link    | 1682                                                         \n",
      " title   | 1682                                                         \n",
      "-RECORD 1---------------------------------------------------------------\n",
      " summary | mean                                                         \n",
      " date    | null                                                         \n",
      " id      | 841.5                                                        \n",
      " link    | null                                                         \n",
      " title   | null                                                         \n",
      "-RECORD 2---------------------------------------------------------------\n",
      " summary | stddev                                                       \n",
      " date    | null                                                         \n",
      " id      | 485.69589250888254                                           \n",
      " link    | null                                                         \n",
      " title   | null                                                         \n",
      "-RECORD 3---------------------------------------------------------------\n",
      " summary | min                                                          \n",
      " date    |                                                              \n",
      " id      | 1                                                            \n",
      " link    |                                                              \n",
      " title   | 'Til There Was You (1997)                                    \n",
      "-RECORD 4---------------------------------------------------------------\n",
      " summary | max                                                          \n",
      " date    | 4-Feb-1971                                                   \n",
      " id      | 1682                                                         \n",
      " link    | http://us.imdb.com/Title?Yao+a+yao+yao+dao+waipo+qiao+(1995) \n",
      " title   | � k�ldum klaka (Cold Fever) (1994)                           \n",
      "\n"
     ]
    }
   ],
   "source": [
    "df1.describe().show(vertical=True,truncate=False) # Compute summary statistics"
   ]
  },
  {
   "cell_type": "code",
   "execution_count": 68,
   "id": "74191dee",
   "metadata": {},
   "outputs": [
    {
     "data": {
      "text/plain": [
       "['date', 'id', 'link', 'rating', 'title']"
      ]
     },
     "execution_count": 68,
     "metadata": {},
     "output_type": "execute_result"
    }
   ],
   "source": [
    "df1.columns # Return the columns of df"
   ]
  },
  {
   "cell_type": "code",
   "execution_count": 69,
   "id": "db02d7e1",
   "metadata": {},
   "outputs": [
    {
     "data": {
      "text/plain": [
       "1682"
      ]
     },
     "execution_count": 69,
     "metadata": {},
     "output_type": "execute_result"
    }
   ],
   "source": [
    "df1.count() # Count the number of rows in df"
   ]
  },
  {
   "cell_type": "code",
   "execution_count": 70,
   "id": "163e57dd",
   "metadata": {},
   "outputs": [
    {
     "data": {
      "text/plain": [
       "1682"
      ]
     },
     "execution_count": 70,
     "metadata": {},
     "output_type": "execute_result"
    }
   ],
   "source": [
    "df1.distinct().count() # Count the number of distinct rows in df"
   ]
  },
  {
   "cell_type": "code",
   "execution_count": 42,
   "id": "6b7c6a9a",
   "metadata": {},
   "outputs": [
    {
     "name": "stdout",
     "output_type": "stream",
     "text": [
      "== Physical Plan ==\n",
      "*(1) Filter (isnotnull(id#1L) && (id#1L > 2))\n",
      "+- Scan ExistingRDD[date#0,id#1L,link#2,rating#3,title#4]\n"
     ]
    }
   ],
   "source": [
    "df1.filter(df1.id>2).explain() # Print the (logical and physical) plans"
   ]
  },
  {
   "cell_type": "markdown",
   "id": "be5a76b2",
   "metadata": {},
   "source": [
    "# Duplicate Values"
   ]
  },
  {
   "cell_type": "code",
   "execution_count": 46,
   "id": "cc28e13a",
   "metadata": {},
   "outputs": [
    {
     "name": "stdout",
     "output_type": "stream",
     "text": [
      "7\n",
      "5\n"
     ]
    }
   ],
   "source": [
    "print(df4.count())\n",
    "df4_dup = df4.dropDuplicates()\n",
    "print(df4_dup.count())"
   ]
  },
  {
   "cell_type": "markdown",
   "id": "fda6e859",
   "metadata": {},
   "source": [
    "# Queries (Select)"
   ]
  },
  {
   "cell_type": "code",
   "execution_count": 47,
   "id": "6605b392",
   "metadata": {},
   "outputs": [
    {
     "name": "stdout",
     "output_type": "stream",
     "text": [
      "+---+\n",
      "| id|\n",
      "+---+\n",
      "|  1|\n",
      "|  2|\n",
      "+---+\n",
      "only showing top 2 rows\n",
      "\n"
     ]
    }
   ],
   "source": [
    "df1.select(\"id\").show(2)"
   ]
  },
  {
   "cell_type": "code",
   "execution_count": 48,
   "id": "271a565a",
   "metadata": {},
   "outputs": [
    {
     "name": "stdout",
     "output_type": "stream",
     "text": [
      "+---+----------------+\n",
      "| id|           title|\n",
      "+---+----------------+\n",
      "|  1|Toy Story (1995)|\n",
      "|  2|GoldenEye (1995)|\n",
      "+---+----------------+\n",
      "only showing top 2 rows\n",
      "\n"
     ]
    }
   ],
   "source": [
    "df1.select(\"id\",\"title\").show(2)"
   ]
  },
  {
   "cell_type": "markdown",
   "id": "19d436c2",
   "metadata": {},
   "source": [
    "### explode"
   ]
  },
  {
   "cell_type": "code",
   "execution_count": 49,
   "id": "8c5a0445",
   "metadata": {},
   "outputs": [
    {
     "name": "stdout",
     "output_type": "stream",
     "text": [
      "+---+----------------+------+\n",
      "| id|           title|rating|\n",
      "+---+----------------+------+\n",
      "|  1|Toy Story (1995)|     0|\n",
      "|  1|Toy Story (1995)|     0|\n",
      "|  1|Toy Story (1995)|     0|\n",
      "|  1|Toy Story (1995)|     1|\n",
      "|  1|Toy Story (1995)|     1|\n",
      "|  1|Toy Story (1995)|     1|\n",
      "|  1|Toy Story (1995)|     0|\n",
      "|  1|Toy Story (1995)|     0|\n",
      "|  1|Toy Story (1995)|     0|\n",
      "|  1|Toy Story (1995)|     0|\n",
      "|  1|Toy Story (1995)|     0|\n",
      "|  1|Toy Story (1995)|     0|\n",
      "|  1|Toy Story (1995)|     0|\n",
      "|  1|Toy Story (1995)|     0|\n",
      "|  1|Toy Story (1995)|     0|\n",
      "|  1|Toy Story (1995)|     0|\n",
      "|  1|Toy Story (1995)|     0|\n",
      "|  1|Toy Story (1995)|     0|\n",
      "|  1|Toy Story (1995)|     0|\n",
      "|  2|GoldenEye (1995)|     0|\n",
      "+---+----------------+------+\n",
      "only showing top 20 rows\n",
      "\n"
     ]
    }
   ],
   "source": [
    "# Show all entries adn explode the list of rating\n",
    "df1.select(\"id\",\"title\",F.explode(\"rating\").alias(\"rating\")).show(20)"
   ]
  },
  {
   "cell_type": "code",
   "execution_count": 63,
   "id": "8e45d05a",
   "metadata": {},
   "outputs": [
    {
     "name": "stdout",
     "output_type": "stream",
     "text": [
      "+---+------+---------+\n",
      "| id|rating|    title|\n",
      "+---+------+---------+\n",
      "|  1|     0|Toy Story|\n",
      "|  1|     0|Toy Story|\n",
      "|  1|     0|Toy Story|\n",
      "|  1|     1|Toy Story|\n",
      "|  1|     1|Toy Story|\n",
      "|  1|     1|Toy Story|\n",
      "|  1|     0|Toy Story|\n",
      "|  1|     0|Toy Story|\n",
      "|  1|     0|Toy Story|\n",
      "|  1|     0|Toy Story|\n",
      "|  1|     0|Toy Story|\n",
      "|  1|     0|Toy Story|\n",
      "|  1|     0|Toy Story|\n",
      "|  1|     0|Toy Story|\n",
      "|  1|     0|Toy Story|\n",
      "|  1|     0|Toy Story|\n",
      "|  1|     0|Toy Story|\n",
      "|  1|     0|Toy Story|\n",
      "|  1|     0|Toy Story|\n",
      "|  2|     0|GoldenEye|\n",
      "+---+------+---------+\n",
      "only showing top 20 rows\n",
      "\n"
     ]
    }
   ],
   "source": [
    "# Show all entries adn explode the list of rating and select only title from title_year\n",
    "df3.select(\"id\",col(\"title_year.title\").alias(\"title\"),F.explode(\"rating\").alias(\"rating\")) \\\n",
    "    .select(\"id\",\"rating\",\"title\").show(20)"
   ]
  },
  {
   "cell_type": "code",
   "execution_count": 67,
   "id": "52ec7558",
   "metadata": {},
   "outputs": [
    {
     "name": "stdout",
     "output_type": "stream",
     "text": [
      "+-----------------+--------+\n",
      "|            title|(id + 1)|\n",
      "+-----------------+--------+\n",
      "| Toy Story (1995)|       2|\n",
      "| GoldenEye (1995)|       3|\n",
      "|Four Rooms (1995)|       4|\n",
      "+-----------------+--------+\n",
      "only showing top 3 rows\n",
      "\n",
      "+-----------------+--------+\n",
      "|            title|(id + 1)|\n",
      "+-----------------+--------+\n",
      "| Toy Story (1995)|       2|\n",
      "| GoldenEye (1995)|       3|\n",
      "|Four Rooms (1995)|       4|\n",
      "+-----------------+--------+\n",
      "only showing top 3 rows\n",
      "\n"
     ]
    }
   ],
   "source": [
    "# Show all entries in title and id, add 1 to the entries of age\n",
    "df1.select(df1.title,df1.id+1).show(3)\n",
    "df1.select(df1[\"title\"],df1[\"id\"]+1).show(3)"
   ]
  },
  {
   "cell_type": "code",
   "execution_count": 66,
   "id": "bd7c08c3",
   "metadata": {},
   "outputs": [
    {
     "name": "stdout",
     "output_type": "stream",
     "text": [
      "+-----------------+---+---+\n",
      "|            title|  1|  H|\n",
      "+-----------------+---+---+\n",
      "| Toy Story (1995)|  1|  H|\n",
      "| GoldenEye (1995)|  1|  H|\n",
      "|Four Rooms (1995)|  1|  H|\n",
      "+-----------------+---+---+\n",
      "only showing top 3 rows\n",
      "\n"
     ]
    }
   ],
   "source": [
    "df1.select(df1.title,F.lit(1),F.lit(\"H\")).show(3)"
   ]
  },
  {
   "cell_type": "code",
   "execution_count": 72,
   "id": "23a32420",
   "metadata": {},
   "outputs": [
    {
     "name": "stdout",
     "output_type": "stream",
     "text": [
      "+-----------------+--------+\n",
      "|            title|(id > 1)|\n",
      "+-----------------+--------+\n",
      "| Toy Story (1995)|   false|\n",
      "| GoldenEye (1995)|    true|\n",
      "|Four Rooms (1995)|    true|\n",
      "+-----------------+--------+\n",
      "only showing top 3 rows\n",
      "\n",
      "+-----------------+\n",
      "|            title|\n",
      "+-----------------+\n",
      "| GoldenEye (1995)|\n",
      "|Four Rooms (1995)|\n",
      "|Get Shorty (1995)|\n",
      "+-----------------+\n",
      "only showing top 3 rows\n",
      "\n"
     ]
    }
   ],
   "source": [
    "# show all entries where id>1\n",
    "df1.select(df1.title,df1[\"id\"]>1).show(3)\n",
    "# filter\n",
    "df1.select(df1.title).filter(col(\"id\")>1).show(3)"
   ]
  },
  {
   "cell_type": "markdown",
   "id": "a5d965ea",
   "metadata": {},
   "source": [
    "# Queries (Where)"
   ]
  },
  {
   "cell_type": "code",
   "execution_count": 141,
   "id": "cf9f71fe",
   "metadata": {},
   "outputs": [
    {
     "name": "stdout",
     "output_type": "stream",
     "text": [
      "+-----------+---+--------------------+--------------------+--------------------+\n",
      "|       date| id|                link|              rating|               title|\n",
      "+-----------+---+--------------------+--------------------+--------------------+\n",
      "|08-Mar-1981|101|http://us.imdb.co...|[0, 1, 1, 1, 0, 0...|  Heavy Metal (1981)|\n",
      "|01-Jan-1970|102|http://us.imdb.co...|[0, 0, 0, 1, 1, 0...|Aristocats, The (...|\n",
      "+-----------+---+--------------------+--------------------+--------------------+\n",
      "only showing top 2 rows\n",
      "\n"
     ]
    }
   ],
   "source": [
    "df1.where(df1.id>100).show(2)"
   ]
  },
  {
   "cell_type": "code",
   "execution_count": 104,
   "id": "a28a5ebe",
   "metadata": {},
   "outputs": [
    {
     "name": "stdout",
     "output_type": "stream",
     "text": [
      "+-----------+---+--------------------+--------------------+--------------------+\n",
      "|       date| id|                link|              rating|               title|\n",
      "+-----------+---+--------------------+--------------------+--------------------+\n",
      "|08-Mar-1981|101|http://us.imdb.co...|[0, 1, 1, 1, 0, 0...|  Heavy Metal (1981)|\n",
      "|19-Apr-1996|113|http://us.imdb.co...|[0, 0, 0, 0, 0, 0...|Horseman on the R...|\n",
      "+-----------+---+--------------------+--------------------+--------------------+\n",
      "only showing top 2 rows\n",
      "\n",
      "+-----------+---+--------------------+--------------------+--------------------+\n",
      "|       date| id|                link|              rating|               title|\n",
      "+-----------+---+--------------------+--------------------+--------------------+\n",
      "|01-Jan-1970|102|http://us.imdb.co...|[0, 0, 0, 1, 1, 0...|Aristocats, The (...|\n",
      "|29-Mar-1996|103|http://us.imdb.co...|[0, 0, 0, 1, 1, 0...|All Dogs Go to He...|\n",
      "+-----------+---+--------------------+--------------------+--------------------+\n",
      "only showing top 2 rows\n",
      "\n",
      "+-----------+---+--------------------+--------------------+--------------------+\n",
      "|       date| id|                link|              rating|               title|\n",
      "+-----------+---+--------------------+--------------------+--------------------+\n",
      "|01-Jan-1994| 48|http://us.imdb.co...|[0, 0, 0, 0, 0, 0...|  Hoop Dreams (1994)|\n",
      "|01-Jan-1993| 80|http://us.imdb.co...|[0, 1, 0, 0, 0, 1...|Hot Shots! Part D...|\n",
      "+-----------+---+--------------------+--------------------+--------------------+\n",
      "only showing top 2 rows\n",
      "\n",
      "+-----------+---+--------------------+--------------------+----------------+\n",
      "|       date| id|                link|              rating|           title|\n",
      "+-----------+---+--------------------+--------------------+----------------+\n",
      "|01-Jan-1995|  1|http://us.imdb.co...|[0, 0, 0, 1, 1, 1...|Toy Story (1995)|\n",
      "|01-Jan-1995|  2|http://us.imdb.co...|[0, 1, 1, 0, 0, 0...|GoldenEye (1995)|\n",
      "+-----------+---+--------------------+--------------------+----------------+\n",
      "only showing top 2 rows\n",
      "\n",
      "+--------------------+\n",
      "|               title|\n",
      "+--------------------+\n",
      "|  Heavy Metal (1981)|\n",
      "|Operation Dumbo D...|\n",
      "+--------------------+\n",
      "only showing top 2 rows\n",
      "\n",
      "+--------------------+--------------------+\n",
      "|               title|              rating|\n",
      "+--------------------+--------------------+\n",
      "|  Heavy Metal (1981)|[0, 1, 1, 1, 0, 0...|\n",
      "|Operation Dumbo D...|[0, 1, 1, 0, 0, 1...|\n",
      "+--------------------+--------------------+\n",
      "only showing top 2 rows\n",
      "\n"
     ]
    }
   ],
   "source": [
    "df1.where((col('id')>100) & (df1.title.like(\"H%\"))).show(2)\n",
    "df1.where((col('id')>100) & ~(df1.title.like(\"H%\"))).show(2)\n",
    "df1.where((col('id')>100) | (df1.title.like(\"H%\"))).show(2)\n",
    "df1.where((col('id')>100) | ~(df1.title.like(\"H%\"))).show(2)\n",
    "df1.select(\"title\").where((col('id')>100) & (df1.rating[1]==1)).show(2)\n",
    "df1.select(\"title\",\"rating\").where(\"id>100 AND rating[1]==1\").show(2)\n",
    "\n",
    "#invalid\n",
    "# df1.select(\"title\",\"rating\").where(\"id>100 & rating[1]==1\").show(2)\n",
    "# df1.where(col('id')>100 & df1.rating[1]==1).show(2)"
   ]
  },
  {
   "cell_type": "markdown",
   "id": "d0e120b5",
   "metadata": {},
   "source": [
    "# Queries (Filter)"
   ]
  },
  {
   "cell_type": "code",
   "execution_count": 91,
   "id": "5b32b43f",
   "metadata": {},
   "outputs": [
    {
     "name": "stdout",
     "output_type": "stream",
     "text": [
      "+--------------------+\n",
      "|               title|\n",
      "+--------------------+\n",
      "|Birdcage, The (1996)|\n",
      "|Brothers McMullen...|\n",
      "+--------------------+\n",
      "only showing top 2 rows\n",
      "\n",
      "None\n",
      "+--------------------+---+\n",
      "|               title| id|\n",
      "+--------------------+---+\n",
      "|Birdcage, The (1996)| 25|\n",
      "|Brothers McMullen...| 26|\n",
      "+--------------------+---+\n",
      "only showing top 2 rows\n",
      "\n",
      "None\n",
      "+--------------------+\n",
      "|               title|\n",
      "+--------------------+\n",
      "|Birdcage, The (1996)|\n",
      "|Brothers McMullen...|\n",
      "+--------------------+\n",
      "only showing top 2 rows\n",
      "\n",
      "None\n",
      "+-----------+---+--------------------+--------------------+--------------------+\n",
      "|       date| id|                link|              rating|               title|\n",
      "+-----------+---+--------------------+--------------------+--------------------+\n",
      "|08-Mar-1996| 25|http://us.imdb.co...|[0, 0, 0, 0, 0, 1...|Birdcage, The (1996)|\n",
      "|01-Jan-1995| 26|http://us.imdb.co...|[0, 0, 0, 0, 0, 1...|Brothers McMullen...|\n",
      "+-----------+---+--------------------+--------------------+--------------------+\n",
      "only showing top 2 rows\n",
      "\n",
      "None\n"
     ]
    },
    {
     "ename": "TypeError",
     "evalue": "'>' not supported between instances of 'str' and 'int'",
     "output_type": "error",
     "traceback": [
      "\u001b[1;31m---------------------------------------------------------------------------\u001b[0m",
      "\u001b[1;31mTypeError\u001b[0m                                 Traceback (most recent call last)",
      "\u001b[1;32mC:\\Users\\DMS240~1\\AppData\\Local\\Temp/ipykernel_18804/2324598331.py\u001b[0m in \u001b[0;36m<module>\u001b[1;34m\u001b[0m\n\u001b[0;32m      6\u001b[0m \u001b[1;33m\u001b[0m\u001b[0m\n\u001b[0;32m      7\u001b[0m \u001b[1;31m#invalid\u001b[0m\u001b[1;33m\u001b[0m\u001b[1;33m\u001b[0m\u001b[1;33m\u001b[0m\u001b[0m\n\u001b[1;32m----> 8\u001b[1;33m \u001b[0mprint\u001b[0m\u001b[1;33m(\u001b[0m\u001b[0mdf1\u001b[0m\u001b[1;33m.\u001b[0m\u001b[0mfilter\u001b[0m\u001b[1;33m(\u001b[0m\u001b[1;34m\"id\"\u001b[0m\u001b[1;33m>\u001b[0m\u001b[1;36m24\u001b[0m\u001b[1;33m)\u001b[0m\u001b[1;33m.\u001b[0m\u001b[0mshow\u001b[0m\u001b[1;33m(\u001b[0m\u001b[1;36m2\u001b[0m\u001b[1;33m)\u001b[0m\u001b[1;33m)\u001b[0m\u001b[1;33m\u001b[0m\u001b[1;33m\u001b[0m\u001b[0m\n\u001b[0m",
      "\u001b[1;31mTypeError\u001b[0m: '>' not supported between instances of 'str' and 'int'"
     ]
    }
   ],
   "source": [
    "# Filter entries of id, only keep those records of which the values are >24\n",
    "print(df1.select(\"title\").filter(df1[\"id\"]>24).show(2))\n",
    "print(df1.select(\"title\",\"id\").filter(col(\"id\")>24).show(2))\n",
    "print(df1.select(\"title\").filter(col(\"id\")>24).show(2))\n",
    "print(df1.filter(col(\"id\")>24).show(2))\n",
    "\n",
    "#invalid\n",
    "print(df1.filter(\"id\">24).show(2))"
   ]
  },
  {
   "cell_type": "code",
   "execution_count": 106,
   "id": "3170656e",
   "metadata": {},
   "outputs": [
    {
     "name": "stdout",
     "output_type": "stream",
     "text": [
      "+-----------+---+--------------------+--------------------+----------------+\n",
      "|       date| id|                link|              rating|           title|\n",
      "+-----------+---+--------------------+--------------------+----------------+\n",
      "|01-Jan-1995| 27|http://us.imdb.co...|[0, 1, 0, 0, 0, 0...| Bad Boys (1995)|\n",
      "|01-Jan-1995| 28|http://us.imdb.co...|[0, 1, 0, 0, 0, 0...|Apollo 13 (1995)|\n",
      "+-----------+---+--------------------+--------------------+----------------+\n",
      "only showing top 2 rows\n",
      "\n",
      "+-----------+---+--------------------+--------------------+--------------------+\n",
      "|       date| id|                link|              rating|               title|\n",
      "+-----------+---+--------------------+--------------------+--------------------+\n",
      "|08-Mar-1996| 25|http://us.imdb.co...|[0, 0, 0, 0, 0, 1...|Birdcage, The (1996)|\n",
      "|01-Jan-1995| 26|http://us.imdb.co...|[0, 0, 0, 0, 0, 1...|Brothers McMullen...|\n",
      "+-----------+---+--------------------+--------------------+--------------------+\n",
      "only showing top 2 rows\n",
      "\n",
      "+-----------+---+--------------------+--------------------+-----------------+\n",
      "|       date| id|                link|              rating|            title|\n",
      "+-----------+---+--------------------+--------------------+-----------------+\n",
      "|01-Jan-1995|  2|http://us.imdb.co...|[0, 1, 1, 0, 0, 0...| GoldenEye (1995)|\n",
      "|01-Jan-1995|  4|http://us.imdb.co...|[0, 1, 0, 0, 0, 1...|Get Shorty (1995)|\n",
      "+-----------+---+--------------------+--------------------+-----------------+\n",
      "only showing top 2 rows\n",
      "\n",
      "+-----------+---+--------------------+--------------------+-----------------+\n",
      "|       date| id|                link|              rating|            title|\n",
      "+-----------+---+--------------------+--------------------+-----------------+\n",
      "|01-Jan-1995|  1|http://us.imdb.co...|[0, 0, 0, 1, 1, 1...| Toy Story (1995)|\n",
      "|01-Jan-1995|  3|http://us.imdb.co...|[0, 0, 0, 0, 0, 0...|Four Rooms (1995)|\n",
      "+-----------+---+--------------------+--------------------+-----------------+\n",
      "only showing top 2 rows\n",
      "\n",
      "+--------------------+\n",
      "|               title|\n",
      "+--------------------+\n",
      "|  Heavy Metal (1981)|\n",
      "|Operation Dumbo D...|\n",
      "+--------------------+\n",
      "only showing top 2 rows\n",
      "\n",
      "+--------------------+--------------------+\n",
      "|               title|              rating|\n",
      "+--------------------+--------------------+\n",
      "|  Heavy Metal (1981)|[0, 1, 1, 1, 0, 0...|\n",
      "|Operation Dumbo D...|[0, 1, 1, 0, 0, 1...|\n",
      "+--------------------+--------------------+\n",
      "only showing top 2 rows\n",
      "\n"
     ]
    }
   ],
   "source": [
    "df1.filter((col(\"id\")>24) & (df1.rating[1]==1)).show(2)\n",
    "df1.filter((col(\"id\")>24) & ~(df1.rating[1]==1)).show(2)\n",
    "df1.filter((col(\"id\")>24) | (df1.rating[1]==1)).show(2)\n",
    "df1.filter((col(\"id\")>24) | ~(df1.rating[1]==1)).show(2)\n",
    "df1.select(\"title\").filter((col('id')>100) & (df1.rating[1]==1)).show(2)\n",
    "df1.select(\"title\",\"rating\").filter(\"id > 100 AND rating[1] == 1\").show(2)\n",
    "\n",
    "#invalid\n",
    "# df1.select(\"title\",\"rating\").filter(\"id>100 & rating[1]==1\").show(2)\n",
    "# df1.select(\"title\").filter(col(\"id\")>24 & df1.rating[1]==1).show(2)"
   ]
  },
  {
   "cell_type": "markdown",
   "id": "c3fa15e2",
   "metadata": {},
   "source": [
    "# Queries (When)"
   ]
  },
  {
   "cell_type": "code",
   "execution_count": 83,
   "id": "dfb519ca",
   "metadata": {},
   "outputs": [
    {
     "name": "stdout",
     "output_type": "stream",
     "text": [
      "+-----------------+-------------------------------------------------------------+\n",
      "|            title|CASE WHEN (id = 2) THEN Yes WHEN (id = 3) THEN OK ELSE No END|\n",
      "+-----------------+-------------------------------------------------------------+\n",
      "| Toy Story (1995)|                                                           No|\n",
      "| GoldenEye (1995)|                                                          Yes|\n",
      "|Four Rooms (1995)|                                                           OK|\n",
      "+-----------------+-------------------------------------------------------------+\n",
      "only showing top 3 rows\n",
      "\n"
     ]
    }
   ],
   "source": [
    "# Show firstName and 0 or 1 depending on id>2\n",
    "df1.select(\"title\",F.when(df1.id == 2, \"Yes\").when(df1.id == 3, \"OK\").otherwise(\"No\")).show(3)"
   ]
  },
  {
   "cell_type": "markdown",
   "id": "41dd1f73",
   "metadata": {},
   "source": [
    "# Queries (isin)"
   ]
  },
  {
   "cell_type": "code",
   "execution_count": 82,
   "id": "e0e9d3c9",
   "metadata": {},
   "outputs": [
    {
     "name": "stdout",
     "output_type": "stream",
     "text": [
      "+-----------+---+--------------------+--------------------+----------------+\n",
      "|       date| id|                link|              rating|           title|\n",
      "+-----------+---+--------------------+--------------------+----------------+\n",
      "|01-Jan-1995|  1|http://us.imdb.co...|[0, 0, 0, 1, 1, 1...|Toy Story (1995)|\n",
      "+-----------+---+--------------------+--------------------+----------------+\n",
      "\n",
      "+-----------+---+--------------------+--------------------+----------------+\n",
      "|       date| id|                link|              rating|           title|\n",
      "+-----------+---+--------------------+--------------------+----------------+\n",
      "|01-Jan-1995|  1|http://us.imdb.co...|[0, 0, 0, 1, 1, 1...|Toy Story (1995)|\n",
      "+-----------+---+--------------------+--------------------+----------------+\n",
      "\n"
     ]
    }
   ],
   "source": [
    "# Show title if in the given options\n",
    "df1[df1.title.isin(\"Toy Story (1995)\",\"Four\")].show(3)\n",
    "df1.filter(df1.title.isin(\"Toy Story (1995)\",\"Four\")).show(3)"
   ]
  },
  {
   "cell_type": "markdown",
   "id": "33444a15",
   "metadata": {},
   "source": [
    "# Queries (Like)"
   ]
  },
  {
   "cell_type": "code",
   "execution_count": 99,
   "id": "0267c421",
   "metadata": {},
   "outputs": [
    {
     "name": "stdout",
     "output_type": "stream",
     "text": [
      "+---+---------------------------+\n",
      "| id|title LIKE Toy Story (1995)|\n",
      "+---+---------------------------+\n",
      "|  1|                       true|\n",
      "|  2|                      false|\n",
      "|  3|                      false|\n",
      "+---+---------------------------+\n",
      "only showing top 3 rows\n",
      "\n"
     ]
    }
   ],
   "source": [
    "# Show id and title is TRUE if title is like \"Toy Story (1995)\"\n",
    "df1.select(\"id\", df1.title.like(\"Toy Story (1995)\")).show(3)"
   ]
  },
  {
   "cell_type": "markdown",
   "id": "53e5034e",
   "metadata": {},
   "source": [
    "# Queries (Startswith - Endswith)"
   ]
  },
  {
   "cell_type": "code",
   "execution_count": 90,
   "id": "1ba9c0c6",
   "metadata": {},
   "outputs": [
    {
     "name": "stdout",
     "output_type": "stream",
     "text": [
      "+---+--------------------+\n",
      "| id|startswith(title, T)|\n",
      "+---+--------------------+\n",
      "|  1|                true|\n",
      "|  2|               false|\n",
      "+---+--------------------+\n",
      "only showing top 2 rows\n",
      "\n",
      "+---+-----------------------------+\n",
      "| id|endswith(title, Story (1995))|\n",
      "+---+-----------------------------+\n",
      "|  1|                         true|\n",
      "|  2|                        false|\n",
      "+---+-----------------------------+\n",
      "only showing top 2 rows\n",
      "\n",
      "+-----------+---+--------------------+--------------------+--------------------+\n",
      "|       date| id|                link|              rating|               title|\n",
      "+-----------+---+--------------------+--------------------+--------------------+\n",
      "|01-Jan-1995|  1|http://us.imdb.co...|[0, 0, 0, 1, 1, 1...|    Toy Story (1995)|\n",
      "|01-Jan-1995|  7|http://us.imdb.co...|[0, 0, 0, 0, 0, 0...|Twelve Monkeys (1...|\n",
      "+-----------+---+--------------------+--------------------+--------------------+\n",
      "only showing top 2 rows\n",
      "\n",
      "+-----------+---+--------------------+--------------------+----------------+\n",
      "|       date| id|                link|              rating|           title|\n",
      "+-----------+---+--------------------+--------------------+----------------+\n",
      "|01-Jan-1995|  1|http://us.imdb.co...|[0, 0, 0, 1, 1, 1...|Toy Story (1995)|\n",
      "|01-Jan-1995|  2|http://us.imdb.co...|[0, 1, 1, 0, 0, 0...|GoldenEye (1995)|\n",
      "+-----------+---+--------------------+--------------------+----------------+\n",
      "only showing top 2 rows\n",
      "\n"
     ]
    }
   ],
   "source": [
    "# Show title starting in \"T\" as True\n",
    "df1.select(\"id\",df1.title.startswith(\"T\")).show(2)\n",
    "\n",
    "# Show title ending in \"Story (1995)\" as True\n",
    "df1.select(\"id\",df1.title.endswith(\"Story (1995)\")).show(2)\n",
    "\n",
    "# filter\n",
    "df1.filter(df1.title.startswith(\"T\")).show(2)\n",
    "df1.filter(df1.title.endswith(\"(1995)\")).show(2)"
   ]
  },
  {
   "cell_type": "markdown",
   "id": "6446eec4",
   "metadata": {},
   "source": [
    "# Queries (Substring)"
   ]
  },
  {
   "cell_type": "code",
   "execution_count": 85,
   "id": "c9eac35d",
   "metadata": {},
   "outputs": [
    {
     "name": "stdout",
     "output_type": "stream",
     "text": [
      "+----+\n",
      "|name|\n",
      "+----+\n",
      "| Toy|\n",
      "| Gol|\n",
      "+----+\n",
      "only showing top 2 rows\n",
      "\n",
      "+-----------+---+--------------------+--------------------+----------------+\n",
      "|       date| id|                link|              rating|           title|\n",
      "+-----------+---+--------------------+--------------------+----------------+\n",
      "|01-Jan-1995|  1|http://us.imdb.co...|[0, 0, 0, 1, 1, 1...|Toy Story (1995)|\n",
      "+-----------+---+--------------------+--------------------+----------------+\n",
      "\n"
     ]
    }
   ],
   "source": [
    "# Return substrings of title\n",
    "df1.select(df1.title.substr(1, 3).alias(\"name\")).show(2)\n",
    "df1.filter(df1.title.substr(1, 3)==\"Toy\").show(2)"
   ]
  },
  {
   "cell_type": "markdown",
   "id": "b1579702",
   "metadata": {},
   "source": [
    "# Queries (Between)"
   ]
  },
  {
   "cell_type": "code",
   "execution_count": 86,
   "id": "07698b2d",
   "metadata": {},
   "outputs": [
    {
     "name": "stdout",
     "output_type": "stream",
     "text": [
      "+-------------------------+\n",
      "|((id >= 2) AND (id <= 3))|\n",
      "+-------------------------+\n",
      "|                    false|\n",
      "|                     true|\n",
      "|                     true|\n",
      "+-------------------------+\n",
      "only showing top 3 rows\n",
      "\n",
      "+-----------+---+--------------------+--------------------+-----------------+\n",
      "|       date| id|                link|              rating|            title|\n",
      "+-----------+---+--------------------+--------------------+-----------------+\n",
      "|01-Jan-1995|  2|http://us.imdb.co...|[0, 1, 1, 0, 0, 0...| GoldenEye (1995)|\n",
      "|01-Jan-1995|  3|http://us.imdb.co...|[0, 0, 0, 0, 0, 0...|Four Rooms (1995)|\n",
      "+-----------+---+--------------------+--------------------+-----------------+\n",
      "\n"
     ]
    }
   ],
   "source": [
    "# Show id: values are TRUE if between 2 and 3\n",
    "df1.select(df1.id.between(2, 3)).show(3)\n",
    "df1.filter(df1.id.between(2, 3)).show(3)"
   ]
  },
  {
   "cell_type": "markdown",
   "id": "d65c76b4",
   "metadata": {},
   "source": [
    "# Queries (GroupBy)"
   ]
  },
  {
   "cell_type": "code",
   "execution_count": 107,
   "id": "deb10e6b",
   "metadata": {},
   "outputs": [
    {
     "name": "stdout",
     "output_type": "stream",
     "text": [
      "+----+-----+\n",
      "|year|count|\n",
      "+----+-----+\n",
      "|1953|    2|\n",
      "|1957|    8|\n",
      "|1987|   14|\n",
      "+----+-----+\n",
      "only showing top 3 rows\n",
      "\n"
     ]
    }
   ],
   "source": [
    "# Group by title_year.year, count the members in the groups\n",
    "df3.groupBy(\"title_year.year\").count().show(3)"
   ]
  },
  {
   "cell_type": "code",
   "execution_count": 108,
   "id": "61bcf03b",
   "metadata": {},
   "outputs": [
    {
     "name": "stdout",
     "output_type": "stream",
     "text": [
      "+----+------------------------------+\n",
      "|year|collect_list(title_year.title)|\n",
      "+----+------------------------------+\n",
      "|1953|          [Roman Holiday, B...|\n",
      "|1957|          [12 Angry Men, Br...|\n",
      "|1987|          [Dirty Dancing, P...|\n",
      "+----+------------------------------+\n",
      "only showing top 3 rows\n",
      "\n"
     ]
    }
   ],
   "source": [
    "df3.groupBy(\"title_year.year\").agg(F.collect_list(col(\"title_year.title\"))).show(3)"
   ]
  },
  {
   "cell_type": "markdown",
   "id": "ad251878",
   "metadata": {},
   "source": [
    "### mathematical Operations"
   ]
  },
  {
   "cell_type": "code",
   "execution_count": 112,
   "id": "4c4afb92",
   "metadata": {},
   "outputs": [
    {
     "name": "stdout",
     "output_type": "stream",
     "text": [
      "+----+-------------+------+--------+---------+---------+----------+\n",
      "|year|min_id_padded|max_id|avg_ceil|avg_floor|avg_round|avg_round2|\n",
      "+----+-------------+------+--------+---------+---------+----------+\n",
      "|1953|         0487|  1298|     893|      892|    892.5|   892.500|\n",
      "|1957|         0178|  1269|     661|      660|    660.5|   660.500|\n",
      "|1987|         0155|  1576|     743|      742|   742.79|   742.786|\n",
      "+----+-------------+------+--------+---------+---------+----------+\n",
      "only showing top 3 rows\n",
      "\n"
     ]
    }
   ],
   "source": [
    "df3.groupBy(\"title_year.year\").agg(\n",
    "    F.format_string(\"%04d\", F.min(\"id\")).alias(\"min_id_padded\"),\n",
    "    F.max(\"id\").alias(\"max_id\"),\n",
    "    F.ceil(F.avg(df3.id)).alias(\"avg_ceil\"),\n",
    "    F.floor(F.avg(df3.id)).alias(\"avg_floor\"),\n",
    "    F.round(F.avg(df3.id),2).alias(\"avg_round\"),\n",
    "    F.format_number(F.avg(df3.id),3).alias('avg_round2')\n",
    ").show(3)"
   ]
  },
  {
   "cell_type": "code",
   "execution_count": 109,
   "id": "9a493376",
   "metadata": {},
   "outputs": [
    {
     "name": "stdout",
     "output_type": "stream",
     "text": [
      "Row(max(id)=1682)\n",
      "1682\n",
      "1682\n",
      "[Row(max=1682)]\n",
      "1682\n"
     ]
    }
   ],
   "source": [
    "print(df3.agg(F.max(df3.id)).head())\n",
    "print(df3.agg(F.max(df3.id)).head()[0])\n",
    "print(df3.agg(F.max(df3.id).alias(\"max\")).head()[\"max\"])\n",
    "print(df3.agg(F.max(df3.id).alias(\"max\")).collect())\n",
    "print(df3.agg(F.max(df3.id).alias(\"max\")).collect()[0][\"max\"])"
   ]
  },
  {
   "cell_type": "markdown",
   "id": "1a7c60d2",
   "metadata": {},
   "source": [
    "# Queries (Pivot)"
   ]
  },
  {
   "cell_type": "code",
   "execution_count": 111,
   "id": "6a31a49e",
   "metadata": {},
   "outputs": [
    {
     "name": "stdout",
     "output_type": "stream",
     "text": [
      "+---+---+\n",
      "|key|val|\n",
      "+---+---+\n",
      "|  a|  1|\n",
      "|  a|  2|\n",
      "|  a|  3|\n",
      "|  a|  1|\n",
      "|  b|  1|\n",
      "|  b|  2|\n",
      "+---+---+\n",
      "\n",
      "None\n",
      "+---+---+---+----+\n",
      "|key|  1|  2|   3|\n",
      "+---+---+---+----+\n",
      "|  b|  1|  1|null|\n",
      "|  a|  2|  1|   1|\n",
      "+---+---+---+----+\n",
      "\n",
      "None\n",
      "+---+---+---+----+\n",
      "|key|  1|  2|   3|\n",
      "+---+---+---+----+\n",
      "|  b|  1|  2|null|\n",
      "|  a|  2|  2|   3|\n",
      "+---+---+---+----+\n",
      "\n",
      "None\n"
     ]
    }
   ],
   "source": [
    "df5 = spark.createDataFrame( [('a',1), ('a',2), ('a',3),\n",
    "                              ('a',1), ('b',1), ('b',2)], ('key', 'val') )\n",
    "print(df5.show())\n",
    "print(\n",
    "    df5.groupBy('key').pivot('val').count().show()\n",
    ")\n",
    "print(\n",
    "    df5.groupBy('key').pivot('val').sum('val').show()\n",
    ")"
   ]
  },
  {
   "cell_type": "markdown",
   "id": "52e013e6",
   "metadata": {},
   "source": [
    "# Queries (Sample)"
   ]
  },
  {
   "cell_type": "code",
   "execution_count": 112,
   "id": "f9ad090d",
   "metadata": {},
   "outputs": [
    {
     "name": "stdout",
     "output_type": "stream",
     "text": [
      "-RECORD 0--\n",
      " key | a   \n",
      " val | 1   \n",
      "-RECORD 1--\n",
      " key | a   \n",
      " val | 2   \n",
      "-RECORD 2--\n",
      " key | a   \n",
      " val | 3   \n",
      "-RECORD 3--\n",
      " key | b   \n",
      " val | 1   \n",
      "-RECORD 4--\n",
      " key | b   \n",
      " val | 2   \n",
      "\n"
     ]
    }
   ],
   "source": [
    "df6 = spark.createDataFrame( [('a',1), ('a',2), ('a',3),\n",
    "                           ('b',1), ('b',2)], ('key', 'val') )\n",
    "df6.show(vertical=True)"
   ]
  },
  {
   "cell_type": "code",
   "execution_count": 113,
   "id": "1d652ba1",
   "metadata": {},
   "outputs": [
    {
     "name": "stdout",
     "output_type": "stream",
     "text": [
      "+---+---+\n",
      "|key|val|\n",
      "+---+---+\n",
      "|  a|  1|\n",
      "|  a|  2|\n",
      "|  a|  3|\n",
      "|  b|  1|\n",
      "|  b|  2|\n",
      "+---+---+\n",
      "\n"
     ]
    }
   ],
   "source": [
    "df6.sample(False,1.0,81).show()"
   ]
  },
  {
   "cell_type": "code",
   "execution_count": 114,
   "id": "e4ee10e3",
   "metadata": {},
   "outputs": [
    {
     "name": "stdout",
     "output_type": "stream",
     "text": [
      "+---+---+\n",
      "|key|val|\n",
      "+---+---+\n",
      "|  a|  2|\n",
      "|  a|  2|\n",
      "|  b|  1|\n",
      "|  b|  2|\n",
      "+---+---+\n",
      "\n"
     ]
    }
   ],
   "source": [
    "df6.sample(True,1.0,81).show()"
   ]
  },
  {
   "cell_type": "code",
   "execution_count": 175,
   "id": "d8c5cbda",
   "metadata": {},
   "outputs": [
    {
     "name": "stdout",
     "output_type": "stream",
     "text": [
      "+---+---+\n",
      "|key|val|\n",
      "+---+---+\n",
      "|  a|  3|\n",
      "|  b|  1|\n",
      "|  b|  2|\n",
      "+---+---+\n",
      "\n"
     ]
    }
   ],
   "source": [
    "df6.sample(False,0.50,5).show()"
   ]
  },
  {
   "cell_type": "code",
   "execution_count": 115,
   "id": "7ff48bd1",
   "metadata": {},
   "outputs": [
    {
     "name": "stdout",
     "output_type": "stream",
     "text": [
      "+---+---+\n",
      "|key|val|\n",
      "+---+---+\n",
      "|  a|  1|\n",
      "|  a|  3|\n",
      "|  b|  1|\n",
      "|  b|  1|\n",
      "+---+---+\n",
      "\n"
     ]
    }
   ],
   "source": [
    "df6.sample(True,0.50,5).show()"
   ]
  },
  {
   "cell_type": "markdown",
   "id": "de9d6fb9",
   "metadata": {},
   "source": [
    "# Queries (SampleBy)"
   ]
  },
  {
   "cell_type": "code",
   "execution_count": 117,
   "id": "fec46490",
   "metadata": {},
   "outputs": [
    {
     "name": "stdout",
     "output_type": "stream",
     "text": [
      "+---+---+\n",
      "|key|val|\n",
      "+---+---+\n",
      "|  a|  1|\n",
      "|  a|  2|\n",
      "|  a|  3|\n",
      "+---+---+\n",
      "\n"
     ]
    }
   ],
   "source": [
    "df6.sampleBy(\"key\",{\"a\":1.0},5).show()"
   ]
  },
  {
   "cell_type": "code",
   "execution_count": 118,
   "id": "8e93d32f",
   "metadata": {},
   "outputs": [
    {
     "name": "stdout",
     "output_type": "stream",
     "text": [
      "+---+---+\n",
      "|key|val|\n",
      "+---+---+\n",
      "|  a|  1|\n",
      "|  a|  2|\n",
      "|  a|  3|\n",
      "|  b|  2|\n",
      "+---+---+\n",
      "\n"
     ]
    }
   ],
   "source": [
    "df6.sampleBy(\"key\",{\"a\":1.0,\"b\":0.30},81).show()"
   ]
  },
  {
   "cell_type": "markdown",
   "id": "c4730504",
   "metadata": {},
   "source": [
    "# Add, Update & Remove Columns (Adding Columns)"
   ]
  },
  {
   "cell_type": "code",
   "execution_count": 119,
   "id": "17814cd7",
   "metadata": {},
   "outputs": [
    {
     "name": "stdout",
     "output_type": "stream",
     "text": [
      "+-----------+---+--------------------+--------------------+----------------+----------+\n",
      "|       date| id|                link|              rating|           title|new_column|\n",
      "+-----------+---+--------------------+--------------------+----------------+----------+\n",
      "|01-Jan-1995|  1|http://us.imdb.co...|[0, 0, 0, 1, 1, 1...|Toy Story (1995)|      null|\n",
      "|01-Jan-1995|  2|http://us.imdb.co...|[0, 1, 1, 0, 0, 0...|GoldenEye (1995)|      null|\n",
      "+-----------+---+--------------------+--------------------+----------------+----------+\n",
      "only showing top 2 rows\n",
      "\n"
     ]
    }
   ],
   "source": [
    "df1.withColumn('new_column', F.lit(None).cast(StringType())).show(2)"
   ]
  },
  {
   "cell_type": "code",
   "execution_count": 120,
   "id": "737b5d49",
   "metadata": {},
   "outputs": [
    {
     "name": "stdout",
     "output_type": "stream",
     "text": [
      "+-----------+---+--------------------+--------------------+----------------+----------+\n",
      "|       date| id|                link|              rating|           title|new_column|\n",
      "+-----------+---+--------------------+--------------------+----------------+----------+\n",
      "|01-Jan-1995|  1|http://us.imdb.co...|[0, 0, 0, 1, 1, 1...|Toy Story (1995)|       xyz|\n",
      "|01-Jan-1995|  2|http://us.imdb.co...|[0, 1, 1, 0, 0, 0...|GoldenEye (1995)|       xyz|\n",
      "+-----------+---+--------------------+--------------------+----------------+----------+\n",
      "only showing top 2 rows\n",
      "\n"
     ]
    }
   ],
   "source": [
    "df1.withColumn('new_column', F.lit('xyz')).show(2)"
   ]
  },
  {
   "cell_type": "code",
   "execution_count": 121,
   "id": "81c4dddb",
   "metadata": {},
   "outputs": [
    {
     "name": "stdout",
     "output_type": "stream",
     "text": [
      "+-----------+---+--------------------+--------------------+----------------+----------+\n",
      "|       date| id|                link|              rating|           title|new_column|\n",
      "+-----------+---+--------------------+--------------------+----------------+----------+\n",
      "|01-Jan-1995|  1|http://us.imdb.co...|[0, 0, 0, 1, 1, 1...|Toy Story (1995)|       1.4|\n",
      "|01-Jan-1995|  2|http://us.imdb.co...|[0, 1, 1, 0, 0, 0...|GoldenEye (1995)|       2.8|\n",
      "+-----------+---+--------------------+--------------------+----------------+----------+\n",
      "only showing top 2 rows\n",
      "\n"
     ]
    }
   ],
   "source": [
    "df1.withColumn('new_column', 1.4 * F.col('id')).show(2)"
   ]
  },
  {
   "cell_type": "code",
   "execution_count": 122,
   "id": "52e749f2",
   "metadata": {},
   "outputs": [
    {
     "name": "stdout",
     "output_type": "stream",
     "text": [
      "+---+--------------------+----------+--------------------+--------------------+\n",
      "| id|          title_year|      date|              rating|               title|\n",
      "+---+--------------------+----------+--------------------+--------------------+\n",
      "|  1|   [Toy Story, 1995]|1995-01-01|[0, 0, 0, 1, 1, 1...|           Toy Story|\n",
      "|  2|   [GoldenEye, 1995]|1995-01-01|[0, 1, 1, 0, 0, 0...|           GoldenEye|\n",
      "|  3|  [Four Rooms, 1995]|1995-01-01|[0, 0, 0, 0, 0, 0...|          Four Rooms|\n",
      "|  4|  [Get Shorty, 1995]|1995-01-01|[0, 1, 0, 0, 0, 1...|          Get Shorty|\n",
      "|  5|     [Copycat, 1995]|1995-01-01|[0, 0, 0, 0, 0, 0...|             Copycat|\n",
      "|  6|[Shanghai Triad (...|1995-01-01|[0, 0, 0, 0, 0, 0...|Shanghai Triad (Y...|\n",
      "|  7|[Twelve Monkeys, ...|1995-01-01|[0, 0, 0, 0, 0, 0...|      Twelve Monkeys|\n",
      "|  8|        [Babe, 1995]|1995-01-01|[0, 0, 0, 0, 1, 1...|                Babe|\n",
      "|  9|[Dead Man Walking...|1995-01-01|[0, 0, 0, 0, 0, 0...|    Dead Man Walking|\n",
      "| 10| [Richard III, 1995]|1996-01-22|[0, 0, 0, 0, 0, 0...|         Richard III|\n",
      "| 11|[Seven (Se7en), 1...|1995-01-01|[0, 0, 0, 0, 0, 0...|       Seven (Se7en)|\n",
      "| 12|[Usual Suspects, ...|1995-08-14|[0, 0, 0, 0, 0, 0...| Usual Suspects, The|\n",
      "| 13|[Mighty Aphrodite...|1995-10-30|[0, 0, 0, 0, 0, 1...|    Mighty Aphrodite|\n",
      "| 14| [Postino, Il, 1994]|1994-01-01|[0, 0, 0, 0, 0, 0...|         Postino, Il|\n",
      "| 15|[Mr. Holland's Op...|1996-01-29|[0, 0, 0, 0, 0, 0...|  Mr. Holland's Opus|\n",
      "| 16|[French Twist (Ga...|1995-01-01|[0, 0, 0, 0, 0, 1...|French Twist (Gaz...|\n",
      "| 17|[From Dusk Till D...|1996-02-05|[0, 1, 0, 0, 0, 1...| From Dusk Till Dawn|\n",
      "| 18|[White Balloon, T...|1995-01-01|[0, 0, 0, 0, 0, 0...|  White Balloon, The|\n",
      "| 19|[Antonia's Line, ...|1995-01-01|[0, 0, 0, 0, 0, 0...|      Antonia's Line|\n",
      "| 20|[Angels and Insec...|1995-01-01|[0, 0, 0, 0, 0, 0...|  Angels and Insects|\n",
      "+---+--------------------+----------+--------------------+--------------------+\n",
      "only showing top 20 rows\n",
      "\n"
     ]
    }
   ],
   "source": [
    "df3.withColumn(\"title\",df3.title_year.title).show()"
   ]
  },
  {
   "cell_type": "code",
   "execution_count": 123,
   "id": "5f0a0574",
   "metadata": {},
   "outputs": [
    {
     "name": "stdout",
     "output_type": "stream",
     "text": [
      "+---+-----------------+----------+------+\n",
      "| id|       title_year|      date|rating|\n",
      "+---+-----------------+----------+------+\n",
      "|  1|[Toy Story, 1995]|1995-01-01|     0|\n",
      "|  1|[Toy Story, 1995]|1995-01-01|     0|\n",
      "|  1|[Toy Story, 1995]|1995-01-01|     0|\n",
      "|  1|[Toy Story, 1995]|1995-01-01|     1|\n",
      "|  1|[Toy Story, 1995]|1995-01-01|     1|\n",
      "|  1|[Toy Story, 1995]|1995-01-01|     1|\n",
      "|  1|[Toy Story, 1995]|1995-01-01|     0|\n",
      "|  1|[Toy Story, 1995]|1995-01-01|     0|\n",
      "|  1|[Toy Story, 1995]|1995-01-01|     0|\n",
      "|  1|[Toy Story, 1995]|1995-01-01|     0|\n",
      "|  1|[Toy Story, 1995]|1995-01-01|     0|\n",
      "|  1|[Toy Story, 1995]|1995-01-01|     0|\n",
      "|  1|[Toy Story, 1995]|1995-01-01|     0|\n",
      "|  1|[Toy Story, 1995]|1995-01-01|     0|\n",
      "|  1|[Toy Story, 1995]|1995-01-01|     0|\n",
      "|  1|[Toy Story, 1995]|1995-01-01|     0|\n",
      "|  1|[Toy Story, 1995]|1995-01-01|     0|\n",
      "|  1|[Toy Story, 1995]|1995-01-01|     0|\n",
      "|  1|[Toy Story, 1995]|1995-01-01|     0|\n",
      "|  2|[GoldenEye, 1995]|1995-01-01|     0|\n",
      "+---+-----------------+----------+------+\n",
      "only showing top 20 rows\n",
      "\n"
     ]
    }
   ],
   "source": [
    "df3.withColumn(\"rating\",F.explode(df3.rating)).show()"
   ]
  },
  {
   "cell_type": "markdown",
   "id": "378ec8f3",
   "metadata": {},
   "source": [
    "# Add, Update & Remove Columns (Updating Columns)"
   ]
  },
  {
   "cell_type": "code",
   "execution_count": 124,
   "id": "0884516a",
   "metadata": {},
   "outputs": [
    {
     "name": "stdout",
     "output_type": "stream",
     "text": [
      "+---+-----------------+----------+--------------------+\n",
      "| id|            title|      date|              rating|\n",
      "+---+-----------------+----------+--------------------+\n",
      "|  1|[Toy Story, 1995]|1995-01-01|[0, 0, 0, 1, 1, 1...|\n",
      "|  2|[GoldenEye, 1995]|1995-01-01|[0, 1, 1, 0, 0, 0...|\n",
      "+---+-----------------+----------+--------------------+\n",
      "only showing top 2 rows\n",
      "\n"
     ]
    }
   ],
   "source": [
    "df3.withColumnRenamed('title_year', 'title').show(2)"
   ]
  },
  {
   "cell_type": "markdown",
   "id": "05938664",
   "metadata": {},
   "source": [
    "# Add, Update & Remove Columns (Removing Columns)"
   ]
  },
  {
   "cell_type": "code",
   "execution_count": 125,
   "id": "3190e526",
   "metadata": {},
   "outputs": [
    {
     "name": "stdout",
     "output_type": "stream",
     "text": [
      "+-----------+---+--------------------+\n",
      "|       date| id|                link|\n",
      "+-----------+---+--------------------+\n",
      "|01-Jan-1995|  1|http://us.imdb.co...|\n",
      "|01-Jan-1995|  2|http://us.imdb.co...|\n",
      "+-----------+---+--------------------+\n",
      "only showing top 2 rows\n",
      "\n"
     ]
    }
   ],
   "source": [
    "df1.drop(\"title\", \"rating\").show(2)"
   ]
  },
  {
   "cell_type": "code",
   "execution_count": 126,
   "id": "0f11048f",
   "metadata": {},
   "outputs": [
    {
     "name": "stdout",
     "output_type": "stream",
     "text": [
      "+-----------+---+--------------------+\n",
      "|       date| id|                link|\n",
      "+-----------+---+--------------------+\n",
      "|01-Jan-1995|  1|http://us.imdb.co...|\n",
      "|01-Jan-1995|  2|http://us.imdb.co...|\n",
      "+-----------+---+--------------------+\n",
      "only showing top 2 rows\n",
      "\n"
     ]
    }
   ],
   "source": [
    "df1.drop(df1.title).drop(df1.rating).show(2)"
   ]
  },
  {
   "cell_type": "markdown",
   "id": "d908dadd",
   "metadata": {},
   "source": [
    "# Sort or OrderBy"
   ]
  },
  {
   "cell_type": "code",
   "execution_count": 127,
   "id": "8cb80278",
   "metadata": {},
   "outputs": [
    {
     "name": "stdout",
     "output_type": "stream",
     "text": [
      "+-----------+----+--------------------+--------------------+-------------------+\n",
      "|       date|  id|                link|              rating|              title|\n",
      "+-----------+----+--------------------+--------------------+-------------------+\n",
      "| 4-Feb-1971|1373|http://us.imdb.co...|[1, 0, 0, 0, 0, 0...|Good Morning (1971)|\n",
      "|31-May-1996| 819|http://us.imdb.co...|[0, 0, 0, 0, 0, 1...|       Eddie (1996)|\n",
      "|31-May-1996| 472|http://us.imdb.co...|[0, 1, 1, 0, 0, 0...| Dragonheart (1996)|\n",
      "+-----------+----+--------------------+--------------------+-------------------+\n",
      "only showing top 3 rows\n",
      "\n",
      "+-----------+----+--------------------+--------------------+-------------------+\n",
      "|       date|  id|                link|              rating|              title|\n",
      "+-----------+----+--------------------+--------------------+-------------------+\n",
      "| 4-Feb-1971|1373|http://us.imdb.co...|[1, 0, 0, 0, 0, 0...|Good Morning (1971)|\n",
      "|31-May-1996| 472|http://us.imdb.co...|[0, 1, 1, 0, 0, 0...| Dragonheart (1996)|\n",
      "|31-May-1996| 819|http://us.imdb.co...|[0, 0, 0, 0, 0, 1...|       Eddie (1996)|\n",
      "+-----------+----+--------------------+--------------------+-------------------+\n",
      "only showing top 3 rows\n",
      "\n"
     ]
    }
   ],
   "source": [
    "df1.sort(df1.date.desc()).show(3)\n",
    "# df1.sort(\"date\",ascending=False).show(3)\n",
    "\n",
    "df1.sort(df1.date.desc(),df1.id.asc()).show(3)\n",
    "# df1.sort(df1.date,df1.id,ascending=[False,True]).show(3)\n",
    "# df1.sort(df1.date,df1.id,ascending=[0,1]).show(3)"
   ]
  },
  {
   "cell_type": "code",
   "execution_count": 128,
   "id": "e3142b96",
   "metadata": {},
   "outputs": [
    {
     "name": "stdout",
     "output_type": "stream",
     "text": [
      "+-----------+----+--------------------+--------------------+-------------------+\n",
      "|       date|  id|                link|              rating|              title|\n",
      "+-----------+----+--------------------+--------------------+-------------------+\n",
      "| 4-Feb-1971|1373|http://us.imdb.co...|[1, 0, 0, 0, 0, 0...|Good Morning (1971)|\n",
      "|31-May-1996| 819|http://us.imdb.co...|[0, 0, 0, 0, 0, 1...|       Eddie (1996)|\n",
      "|31-May-1996| 472|http://us.imdb.co...|[0, 1, 1, 0, 0, 0...| Dragonheart (1996)|\n",
      "+-----------+----+--------------------+--------------------+-------------------+\n",
      "only showing top 3 rows\n",
      "\n",
      "+-----------+----+--------------------+--------------------+-------------------+\n",
      "|       date|  id|                link|              rating|              title|\n",
      "+-----------+----+--------------------+--------------------+-------------------+\n",
      "| 4-Feb-1971|1373|http://us.imdb.co...|[1, 0, 0, 0, 0, 0...|Good Morning (1971)|\n",
      "|31-May-1996| 472|http://us.imdb.co...|[0, 1, 1, 0, 0, 0...| Dragonheart (1996)|\n",
      "|31-May-1996| 819|http://us.imdb.co...|[0, 0, 0, 0, 0, 1...|       Eddie (1996)|\n",
      "+-----------+----+--------------------+--------------------+-------------------+\n",
      "only showing top 3 rows\n",
      "\n"
     ]
    }
   ],
   "source": [
    "df1.orderBy(df1.date.desc()).show(3)\n",
    "# df1.orderBy(\"date\",ascending=False).show(3)\n",
    "\n",
    "df1.orderBy(df1.date.desc(),df1.id.asc()).show(3)\n",
    "# df1.orderBy(df1.date,df1.id,ascending=[False,True]).show(3)\n",
    "# df1.orderBy(df1.date,df1.id,ascending=[0,1]).show(3)"
   ]
  },
  {
   "cell_type": "markdown",
   "id": "57a659ed",
   "metadata": {},
   "source": [
    "# Missing & Replacing Values"
   ]
  },
  {
   "cell_type": "code",
   "execution_count": 129,
   "id": "f800b972",
   "metadata": {},
   "outputs": [
    {
     "name": "stdout",
     "output_type": "stream",
     "text": [
      "+---+---------+--------+\n",
      "| id|firstName|lastName|\n",
      "+---+---------+--------+\n",
      "|  1|     null|   Brown|\n",
      "| 50|      Tom|    null|\n",
      "| 50|    Jerry|     Fox|\n",
      "| 50|    Jerry|     Fox|\n",
      "|  3|   Joshua|Peterson|\n",
      "|  3|   Joshua|Peterson|\n",
      "| 50|     null|    null|\n",
      "+---+---------+--------+\n",
      "\n"
     ]
    }
   ],
   "source": [
    "# Replace null values\n",
    "df4.na.fill(50).show()"
   ]
  },
  {
   "cell_type": "code",
   "execution_count": 130,
   "id": "b5d92e8a",
   "metadata": {},
   "outputs": [
    {
     "name": "stdout",
     "output_type": "stream",
     "text": [
      "+---+---------+--------+\n",
      "| id|firstName|lastName|\n",
      "+---+---------+--------+\n",
      "|  1|    hello|   Brown|\n",
      "| 50|      Tom|   hello|\n",
      "| 50|    Jerry|     Fox|\n",
      "| 50|    Jerry|     Fox|\n",
      "|  3|   Joshua|Peterson|\n",
      "|  3|   Joshua|Peterson|\n",
      "| 50|    hello|   hello|\n",
      "+---+---------+--------+\n",
      "\n"
     ]
    }
   ],
   "source": [
    "# Replace null values of different data types\n",
    "df4.na.fill(50).na.fill(\"hello\").show()"
   ]
  },
  {
   "cell_type": "code",
   "execution_count": 131,
   "id": "805ed9d9",
   "metadata": {},
   "outputs": [
    {
     "name": "stdout",
     "output_type": "stream",
     "text": [
      "+---+---------+--------+\n",
      "| id|firstName|lastName|\n",
      "+---+---------+--------+\n",
      "|  3|   Joshua|Peterson|\n",
      "|  3|   Joshua|Peterson|\n",
      "+---+---------+--------+\n",
      "\n",
      "+---+---------+--------+\n",
      "| id|firstName|lastName|\n",
      "+---+---------+--------+\n",
      "|  3|   Joshua|Peterson|\n",
      "|  3|   Joshua|Peterson|\n",
      "+---+---------+--------+\n",
      "\n"
     ]
    }
   ],
   "source": [
    "# Return new df omitting rows with null values\n",
    "df4.na.drop().show()\n",
    "df4.na.drop(how=\"any\").show()"
   ]
  },
  {
   "cell_type": "code",
   "execution_count": 132,
   "id": "bff58b4c",
   "metadata": {},
   "outputs": [
    {
     "name": "stdout",
     "output_type": "stream",
     "text": [
      "+----+---------+--------+\n",
      "|  id|firstName|lastName|\n",
      "+----+---------+--------+\n",
      "|   1|     null|   Brown|\n",
      "|null|      Tom|    null|\n",
      "|null|    Jerry|     Fox|\n",
      "|null|    Jerry|     Fox|\n",
      "|   3|   Joshua|Peterson|\n",
      "|   3|   Joshua|Peterson|\n",
      "+----+---------+--------+\n",
      "\n"
     ]
    }
   ],
   "source": [
    "df4.na.drop(how=\"all\").show()"
   ]
  },
  {
   "cell_type": "code",
   "execution_count": 136,
   "id": "78318a7d",
   "metadata": {},
   "outputs": [
    {
     "name": "stdout",
     "output_type": "stream",
     "text": [
      "+----+---------+--------+\n",
      "|  id|firstName|lastName|\n",
      "+----+---------+--------+\n",
      "|null|    Jerry|     Fox|\n",
      "|null|    Jerry|     Fox|\n",
      "|   3|   Joshua|Peterson|\n",
      "|   3|   Joshua|Peterson|\n",
      "+----+---------+--------+\n",
      "\n",
      "+----+---------+--------+\n",
      "|  id|firstName|lastName|\n",
      "+----+---------+--------+\n",
      "|   1|     null|   Brown|\n",
      "|null|      Tom|    null|\n",
      "|null|    Jerry|     Fox|\n",
      "|null|    Jerry|     Fox|\n",
      "|   3|   Joshua|Peterson|\n",
      "|   3|   Joshua|Peterson|\n",
      "+----+---------+--------+\n",
      "\n"
     ]
    }
   ],
   "source": [
    "df4.na.drop(how=\"any\",subset=[\"firstName\",\"lastName\"]).show()\n",
    "df4.na.drop(how=\"all\",subset=[\"firstName\",\"lastName\"]).show()"
   ]
  },
  {
   "cell_type": "code",
   "execution_count": 139,
   "id": "7d567e5a",
   "metadata": {},
   "outputs": [
    {
     "name": "stdout",
     "output_type": "stream",
     "text": [
      "+----+---------+--------+\n",
      "|  id|firstName|lastName|\n",
      "+----+---------+--------+\n",
      "|   1|     null|   Brown|\n",
      "|null|    Jerry|     Fox|\n",
      "|null|    Jerry|     Fox|\n",
      "|   3|   Joshua|Peterson|\n",
      "|   3|   Joshua|Peterson|\n",
      "+----+---------+--------+\n",
      "\n",
      "+----+---------+--------+\n",
      "|  id|firstName|lastName|\n",
      "+----+---------+--------+\n",
      "|   1|     null|   Brown|\n",
      "|null|    Jerry|     Fox|\n",
      "|null|    Jerry|     Fox|\n",
      "|   3|   Joshua|Peterson|\n",
      "|   3|   Joshua|Peterson|\n",
      "+----+---------+--------+\n",
      "\n",
      "+---+---------+--------+\n",
      "| id|firstName|lastName|\n",
      "+---+---------+--------+\n",
      "+---+---------+--------+\n",
      "\n",
      "+---+---------+--------+\n",
      "| id|firstName|lastName|\n",
      "+---+---------+--------+\n",
      "+---+---------+--------+\n",
      "\n"
     ]
    }
   ],
   "source": [
    "# thresh=2 = drop rows with 2 nulls or more\n",
    "# drop rows that have less than `thresh` non-null values.\n",
    "#     This overwrites the `how` parameter.\n",
    "df4.na.drop(how=\"any\",subset=[\"lastName\"],thresh=1).show()\n",
    "df4.na.drop(how=\"all\",subset=[\"lastName\"],thresh=1).show()\n",
    "df4.na.drop(how=\"any\",subset=[\"lastName\"],thresh=2).show()\n",
    "df4.na.drop(how=\"all\",subset=[\"lastName\"],thresh=2).show()"
   ]
  },
  {
   "cell_type": "code",
   "execution_count": 141,
   "id": "2c263c50",
   "metadata": {
    "scrolled": true
   },
   "outputs": [
    {
     "name": "stdout",
     "output_type": "stream",
     "text": [
      "+----+---------+--------+\n",
      "|  id|firstName|lastName|\n",
      "+----+---------+--------+\n",
      "|  20|     null|   Brown|\n",
      "|null|      Tom|    null|\n",
      "|null|      bye|     Fox|\n",
      "|null|      bye|     Fox|\n",
      "|   3|   Joshua|Peterson|\n",
      "|   3|   Joshua|Peterson|\n",
      "|null|     null|    null|\n",
      "+----+---------+--------+\n",
      "\n"
     ]
    }
   ],
   "source": [
    "# Return new df replacing one value with another\n",
    "df4.na.replace(1, 20).replace(\"Jerry\", \"bye\").show()"
   ]
  },
  {
   "cell_type": "markdown",
   "id": "6f924f35",
   "metadata": {},
   "source": [
    "# Data Structures"
   ]
  },
  {
   "cell_type": "code",
   "execution_count": 142,
   "id": "576b6a09",
   "metadata": {},
   "outputs": [
    {
     "data": {
      "text/plain": [
       "[Row(date='01-Jan-1995', id=1, link='http://us.imdb.com/M/title-exact?Toy%20Story%20(1995)', rating=[0, 0, 0, 1, 1, 1, 0, 0, 0, 0, 0, 0, 0, 0, 0, 0, 0, 0, 0], title='Toy Story (1995)'),\n",
       " Row(date='01-Jan-1995', id=2, link='http://us.imdb.com/M/title-exact?GoldenEye%20(1995)', rating=[0, 1, 1, 0, 0, 0, 0, 0, 0, 0, 0, 0, 0, 0, 0, 0, 1, 0, 0], title='GoldenEye (1995)'),\n",
       " Row(date='01-Jan-1995', id=3, link='http://us.imdb.com/M/title-exact?Four%20Rooms%20(1995)', rating=[0, 0, 0, 0, 0, 0, 0, 0, 0, 0, 0, 0, 0, 0, 0, 0, 1, 0, 0], title='Four Rooms (1995)'),\n",
       " Row(date='01-Jan-1995', id=4, link='http://us.imdb.com/M/title-exact?Get%20Shorty%20(1995)', rating=[0, 1, 0, 0, 0, 1, 0, 0, 1, 0, 0, 0, 0, 0, 0, 0, 0, 0, 0], title='Get Shorty (1995)'),\n",
       " Row(date='01-Jan-1995', id=5, link='http://us.imdb.com/M/title-exact?Copycat%20(1995)', rating=[0, 0, 0, 0, 0, 0, 1, 0, 1, 0, 0, 0, 0, 0, 0, 0, 1, 0, 0], title='Copycat (1995)'),\n",
       " Row(date='01-Jan-1995', id=6, link='http://us.imdb.com/Title?Yao+a+yao+yao+dao+waipo+qiao+(1995)', rating=[0, 0, 0, 0, 0, 0, 0, 0, 1, 0, 0, 0, 0, 0, 0, 0, 0, 0, 0], title='Shanghai Triad (Yao a yao yao dao waipo qiao) (1995)'),\n",
       " Row(date='01-Jan-1995', id=7, link='http://us.imdb.com/M/title-exact?Twelve%20Monkeys%20(1995)', rating=[0, 0, 0, 0, 0, 0, 0, 0, 1, 0, 0, 0, 0, 0, 0, 1, 0, 0, 0], title='Twelve Monkeys (1995)'),\n",
       " Row(date='01-Jan-1995', id=8, link='http://us.imdb.com/M/title-exact?Babe%20(1995)', rating=[0, 0, 0, 0, 1, 1, 0, 0, 1, 0, 0, 0, 0, 0, 0, 0, 0, 0, 0], title='Babe (1995)'),\n",
       " Row(date='01-Jan-1995', id=9, link='http://us.imdb.com/M/title-exact?Dead%20Man%20Walking%20(1995)', rating=[0, 0, 0, 0, 0, 0, 0, 0, 1, 0, 0, 0, 0, 0, 0, 0, 0, 0, 0], title='Dead Man Walking (1995)'),\n",
       " Row(date='22-Jan-1996', id=10, link='http://us.imdb.com/M/title-exact?Richard%20III%20(1995)', rating=[0, 0, 0, 0, 0, 0, 0, 0, 1, 0, 0, 0, 0, 0, 0, 0, 0, 1, 0], title='Richard III (1995)'),\n",
       " Row(date='01-Jan-1995', id=11, link='http://us.imdb.com/M/title-exact?Se7en%20(1995)', rating=[0, 0, 0, 0, 0, 0, 1, 0, 0, 0, 0, 0, 0, 0, 0, 0, 1, 0, 0], title='Seven (Se7en) (1995)'),\n",
       " Row(date='14-Aug-1995', id=12, link='http://us.imdb.com/M/title-exact?Usual%20Suspects,%20The%20(1995)', rating=[0, 0, 0, 0, 0, 0, 1, 0, 0, 0, 0, 0, 0, 0, 0, 0, 1, 0, 0], title='Usual Suspects, The (1995)'),\n",
       " Row(date='30-Oct-1995', id=13, link='http://us.imdb.com/M/title-exact?Mighty%20Aphrodite%20(1995)', rating=[0, 0, 0, 0, 0, 1, 0, 0, 0, 0, 0, 0, 0, 0, 0, 0, 0, 0, 0], title='Mighty Aphrodite (1995)'),\n",
       " Row(date='01-Jan-1994', id=14, link='http://us.imdb.com/M/title-exact?Postino,%20Il%20(1994)', rating=[0, 0, 0, 0, 0, 0, 0, 0, 1, 0, 0, 0, 0, 0, 1, 0, 0, 0, 0], title='Postino, Il (1994)'),\n",
       " Row(date='29-Jan-1996', id=15, link=\"http://us.imdb.com/M/title-exact?Mr.%20Holland's%20Opus%20(1995)\", rating=[0, 0, 0, 0, 0, 0, 0, 0, 1, 0, 0, 0, 0, 0, 0, 0, 0, 0, 0], title=\"Mr. Holland's Opus (1995)\"),\n",
       " Row(date='01-Jan-1995', id=16, link='http://us.imdb.com/M/title-exact?Gazon%20maudit%20(1995)', rating=[0, 0, 0, 0, 0, 1, 0, 0, 0, 0, 0, 0, 0, 0, 1, 0, 0, 0, 0], title='French Twist (Gazon maudit) (1995)'),\n",
       " Row(date='05-Feb-1996', id=17, link='http://us.imdb.com/M/title-exact?From%20Dusk%20Till%20Dawn%20(1996)', rating=[0, 1, 0, 0, 0, 1, 1, 0, 0, 0, 0, 1, 0, 0, 0, 0, 1, 0, 0], title='From Dusk Till Dawn (1996)'),\n",
       " Row(date='01-Jan-1995', id=18, link='http://us.imdb.com/M/title-exact?Badkonake%20Sefid%20(1995)', rating=[0, 0, 0, 0, 0, 0, 0, 0, 1, 0, 0, 0, 0, 0, 0, 0, 0, 0, 0], title='White Balloon, The (1995)'),\n",
       " Row(date='01-Jan-1995', id=19, link='http://us.imdb.com/M/title-exact?Antonia%20(1995)', rating=[0, 0, 0, 0, 0, 0, 0, 0, 1, 0, 0, 0, 0, 0, 0, 0, 0, 0, 0], title=\"Antonia's Line (1995)\"),\n",
       " Row(date='01-Jan-1995', id=20, link='http://us.imdb.com/M/title-exact?Angels%20and%20Insects%20(1995)', rating=[0, 0, 0, 0, 0, 0, 0, 0, 1, 0, 0, 0, 0, 0, 1, 0, 0, 0, 0], title='Angels and Insects (1995)'),\n",
       " Row(date='16-Feb-1996', id=21, link='http://us.imdb.com/M/title-exact?Muppet%20Treasure%20Island%20(1996)', rating=[0, 1, 1, 0, 0, 1, 0, 0, 0, 0, 0, 0, 1, 0, 0, 0, 1, 0, 0], title='Muppet Treasure Island (1996)'),\n",
       " Row(date='16-Feb-1996', id=22, link='http://us.imdb.com/M/title-exact?Braveheart%20(1995)', rating=[0, 1, 0, 0, 0, 0, 0, 0, 1, 0, 0, 0, 0, 0, 0, 0, 0, 1, 0], title='Braveheart (1995)'),\n",
       " Row(date='16-Feb-1996', id=23, link='http://us.imdb.com/M/title-exact?Taxi%20Driver%20(1976)', rating=[0, 0, 0, 0, 0, 0, 0, 0, 1, 0, 0, 0, 0, 0, 0, 0, 1, 0, 0], title='Taxi Driver (1976)'),\n",
       " Row(date='23-Feb-1996', id=24, link='http://us.imdb.com/M/title-exact?Hong%20Faan%20Kui%20(1995)', rating=[0, 1, 1, 0, 0, 0, 1, 0, 0, 0, 0, 0, 0, 0, 0, 0, 0, 0, 0], title='Rumble in the Bronx (1995)'),\n",
       " Row(date='08-Mar-1996', id=25, link='http://us.imdb.com/M/title-exact?Birdcage,%20The%20(1996)', rating=[0, 0, 0, 0, 0, 1, 0, 0, 0, 0, 0, 0, 0, 0, 0, 0, 0, 0, 0], title='Birdcage, The (1996)'),\n",
       " Row(date='01-Jan-1995', id=26, link='http://us.imdb.com/M/title-exact?Brothers%20McMullen,%20The%20(1995)', rating=[0, 0, 0, 0, 0, 1, 0, 0, 0, 0, 0, 0, 0, 0, 0, 0, 0, 0, 0], title='Brothers McMullen, The (1995)'),\n",
       " Row(date='01-Jan-1995', id=27, link='http://us.imdb.com/M/title-exact?Bad%20Boys%20(1995)', rating=[0, 1, 0, 0, 0, 0, 0, 0, 0, 0, 0, 0, 0, 0, 0, 0, 0, 0, 0], title='Bad Boys (1995)'),\n",
       " Row(date='01-Jan-1995', id=28, link='http://us.imdb.com/M/title-exact?Apollo%2013%20(1995)', rating=[0, 1, 0, 0, 0, 0, 0, 0, 1, 0, 0, 0, 0, 0, 0, 0, 1, 0, 0], title='Apollo 13 (1995)'),\n",
       " Row(date='01-Jan-1995', id=29, link='http://us.imdb.com/M/title-exact?Batman%20Forever%20(1995)', rating=[0, 1, 1, 0, 0, 1, 1, 0, 0, 0, 0, 0, 0, 0, 0, 0, 0, 0, 0], title='Batman Forever (1995)'),\n",
       " Row(date='01-Jan-1967', id=30, link='http://us.imdb.com/M/title-exact?Belle%20de%20jour%20(1967)', rating=[0, 0, 0, 0, 0, 0, 0, 0, 1, 0, 0, 0, 0, 0, 0, 0, 0, 0, 0], title='Belle de jour (1967)'),\n",
       " Row(date='01-Jan-1995', id=31, link='http://us.imdb.com/M/title-exact?Crimson%20Tide%20(1995)', rating=[0, 0, 0, 0, 0, 0, 0, 0, 1, 0, 0, 0, 0, 0, 0, 0, 1, 1, 0], title='Crimson Tide (1995)'),\n",
       " Row(date='01-Jan-1994', id=32, link='http://us.imdb.com/M/title-exact?Crumb%20(1994)', rating=[0, 0, 0, 0, 0, 0, 0, 1, 0, 0, 0, 0, 0, 0, 0, 0, 0, 0, 0], title='Crumb (1994)'),\n",
       " Row(date='01-Jan-1995', id=33, link='http://us.imdb.com/M/title-exact?Desperado%20(1995)', rating=[0, 1, 0, 0, 0, 0, 0, 0, 0, 0, 0, 0, 0, 0, 1, 0, 1, 0, 0], title='Desperado (1995)'),\n",
       " Row(date='01-Jan-1995', id=34, link='http://us.imdb.com/M/title-exact?Doom%20Generation,%20The%20(1995)', rating=[0, 0, 0, 0, 0, 1, 0, 0, 1, 0, 0, 0, 0, 0, 0, 0, 0, 0, 0], title='Doom Generation, The (1995)'),\n",
       " Row(date='01-Jan-1995', id=35, link='http://us.imdb.com/M/title-exact?Free%20Willy%202:%20The%20Adventure%20Home%20(1995)', rating=[0, 0, 1, 0, 1, 0, 0, 0, 1, 0, 0, 0, 0, 0, 0, 0, 0, 0, 0], title='Free Willy 2: The Adventure Home (1995)'),\n",
       " Row(date='01-Jan-1995', id=36, link='http://us.imdb.com/M/title-exact?Mad%20Love%20(1995)', rating=[0, 0, 0, 0, 0, 0, 0, 0, 1, 0, 0, 0, 0, 0, 1, 0, 0, 0, 0], title='Mad Love (1995)'),\n",
       " Row(date='01-Jan-1994', id=37, link='http://us.imdb.com/M/title-exact?Nadja%20(1994)', rating=[0, 0, 0, 0, 0, 0, 0, 0, 1, 0, 0, 0, 0, 0, 0, 0, 0, 0, 0], title='Nadja (1994)'),\n",
       " Row(date='01-Jan-1995', id=38, link='http://us.imdb.com/M/title-exact?Net,%20The%20(1995)', rating=[0, 0, 0, 0, 0, 0, 0, 0, 0, 0, 0, 0, 0, 0, 0, 1, 1, 0, 0], title='Net, The (1995)'),\n",
       " Row(date='01-Jan-1995', id=39, link='http://us.imdb.com/M/title-exact?Strange%20Days%20(1995)', rating=[0, 1, 0, 0, 0, 0, 1, 0, 0, 0, 0, 0, 0, 0, 0, 1, 0, 0, 0], title='Strange Days (1995)'),\n",
       " Row(date='01-Jan-1995', id=40, link='http://us.imdb.com/M/title-exact?To%20Wong%20Foo,%20Thanks%20for%20Everything!%20Julie%20Newmar%20(1995)', rating=[0, 0, 0, 0, 0, 1, 0, 0, 0, 0, 0, 0, 0, 0, 0, 0, 0, 0, 0], title='To Wong Foo, Thanks for Everything! Julie Newmar (1995)'),\n",
       " Row(date='01-Jan-1995', id=41, link='http://us.imdb.com/M/title-exact?Billy%20Madison%20(1995)', rating=[0, 0, 0, 0, 0, 1, 0, 0, 0, 0, 0, 0, 0, 0, 0, 0, 0, 0, 0], title='Billy Madison (1995)'),\n",
       " Row(date='01-Jan-1994', id=42, link='http://us.imdb.com/M/title-exact?Clerks%20(1994)', rating=[0, 0, 0, 0, 0, 1, 0, 0, 0, 0, 0, 0, 0, 0, 0, 0, 0, 0, 0], title='Clerks (1994)'),\n",
       " Row(date='01-Jan-1994', id=43, link='http://us.imdb.com/M/title-exact?Disclosure%20(1994)', rating=[0, 0, 0, 0, 0, 0, 0, 0, 1, 0, 0, 0, 0, 0, 0, 0, 1, 0, 0], title='Disclosure (1994)'),\n",
       " Row(date='01-Jan-1994', id=44, link='http://us.imdb.com/M/title-exact?Dolores%20Claiborne%20(1994)', rating=[0, 0, 0, 0, 0, 0, 0, 0, 1, 0, 0, 0, 0, 0, 0, 0, 1, 0, 0], title='Dolores Claiborne (1994)'),\n",
       " Row(date='01-Jan-1994', id=45, link='http://us.imdb.com/M/title-exact?Yinshi%20Nan%20Nu%20(1994)', rating=[0, 0, 0, 0, 0, 1, 0, 0, 1, 0, 0, 0, 0, 0, 0, 0, 0, 0, 0], title='Eat Drink Man Woman (1994)'),\n",
       " Row(date='01-Jan-1994', id=46, link='http://us.imdb.com/M/title-exact?Exotica%20(1994)', rating=[0, 0, 0, 0, 0, 0, 0, 0, 1, 0, 0, 0, 0, 0, 0, 0, 0, 0, 0], title='Exotica (1994)'),\n",
       " Row(date='01-Jan-1994', id=47, link='http://us.imdb.com/M/title-exact?Ed%20Wood%20(1994)', rating=[0, 0, 0, 0, 0, 1, 0, 0, 1, 0, 0, 0, 0, 0, 0, 0, 0, 0, 0], title='Ed Wood (1994)'),\n",
       " Row(date='01-Jan-1994', id=48, link='http://us.imdb.com/M/title-exact?Hoop%20Dreams%20(1994)', rating=[0, 0, 0, 0, 0, 0, 0, 1, 0, 0, 0, 0, 0, 0, 0, 0, 0, 0, 0], title='Hoop Dreams (1994)'),\n",
       " Row(date='01-Jan-1994', id=49, link='http://us.imdb.com/M/title-exact?I.Q.%20(1994)', rating=[0, 0, 0, 0, 0, 1, 0, 0, 0, 0, 0, 0, 0, 0, 1, 0, 0, 0, 0], title='I.Q. (1994)'),\n",
       " Row(date='01-Jan-1977', id=50, link='http://us.imdb.com/M/title-exact?Star%20Wars%20(1977)', rating=[0, 1, 1, 0, 0, 0, 0, 0, 0, 0, 0, 0, 0, 0, 1, 1, 0, 1, 0], title='Star Wars (1977)'),\n",
       " Row(date='01-Jan-1994', id=51, link='http://us.imdb.com/M/title-exact?Legends%20of%20the%20Fall%20(1994)', rating=[0, 0, 0, 0, 0, 0, 0, 0, 1, 0, 0, 0, 0, 0, 1, 0, 0, 1, 1], title='Legends of the Fall (1994)'),\n",
       " Row(date='01-Jan-1994', id=52, link='http://us.imdb.com/M/title-exact?Madness%20of%20King%20George,%20The%20(1994)', rating=[0, 0, 0, 0, 0, 0, 0, 0, 1, 0, 0, 0, 0, 0, 0, 0, 0, 0, 0], title='Madness of King George, The (1994)'),\n",
       " Row(date='01-Jan-1994', id=53, link='http://us.imdb.com/M/title-exact?Natural%20Born%20Killers%20(1994)', rating=[0, 1, 0, 0, 0, 0, 0, 0, 0, 0, 0, 0, 0, 0, 0, 0, 1, 0, 0], title='Natural Born Killers (1994)'),\n",
       " Row(date='01-Jan-1995', id=54, link='http://us.imdb.com/M/title-exact?Outbreak%20(1995)', rating=[0, 1, 0, 0, 0, 0, 0, 0, 1, 0, 0, 0, 0, 0, 0, 0, 1, 0, 0], title='Outbreak (1995)'),\n",
       " Row(date='01-Jan-1994', id=55, link='http://us.imdb.com/Title?L%E9on+(1994)', rating=[0, 0, 0, 0, 0, 0, 1, 0, 1, 0, 0, 0, 0, 0, 1, 0, 1, 0, 0], title='Professional, The (1994)'),\n",
       " Row(date='01-Jan-1994', id=56, link='http://us.imdb.com/M/title-exact?Pulp%20Fiction%20(1994)', rating=[0, 0, 0, 0, 0, 0, 1, 0, 1, 0, 0, 0, 0, 0, 0, 0, 0, 0, 0], title='Pulp Fiction (1994)'),\n",
       " Row(date='01-Jan-1994', id=57, link='http://us.imdb.com/M/title-exact?Priest%20(1994)', rating=[0, 0, 0, 0, 0, 0, 0, 0, 1, 0, 0, 0, 0, 0, 0, 0, 0, 0, 0], title='Priest (1994)'),\n",
       " Row(date='01-Jan-1994', id=58, link='http://us.imdb.com/M/title-exact?Quiz%20Show%20(1994)', rating=[0, 0, 0, 0, 0, 0, 0, 0, 1, 0, 0, 0, 0, 0, 0, 0, 0, 0, 0], title='Quiz Show (1994)'),\n",
       " Row(date='01-Jan-1994', id=59, link='http://us.imdb.com/M/title-exact?Trzy%20kolory:%20Czerwony%20(1994)', rating=[0, 0, 0, 0, 0, 0, 0, 0, 1, 0, 0, 0, 0, 0, 0, 0, 0, 0, 0], title='Three Colors: Red (1994)'),\n",
       " Row(date='01-Jan-1993', id=60, link='http://us.imdb.com/M/title-exact?Trzy%20kolory:%20Niebieski%20(1993)', rating=[0, 0, 0, 0, 0, 0, 0, 0, 1, 0, 0, 0, 0, 0, 0, 0, 0, 0, 0], title='Three Colors: Blue (1993)'),\n",
       " Row(date='01-Jan-1994', id=61, link='http://us.imdb.com/M/title-exact?Trzy%20kolory:%20Bialy%20(1994)', rating=[0, 0, 0, 0, 0, 0, 0, 0, 1, 0, 0, 0, 0, 0, 0, 0, 0, 0, 0], title='Three Colors: White (1994)'),\n",
       " Row(date='01-Jan-1994', id=62, link='http://us.imdb.com/M/title-exact?Stargate%20(1994)', rating=[0, 1, 1, 0, 0, 0, 0, 0, 0, 0, 0, 0, 0, 0, 0, 1, 0, 0, 0], title='Stargate (1994)'),\n",
       " Row(date='01-Jan-1994', id=63, link='http://us.imdb.com/M/title-exact?Santa%20Clause,%20The%20(1994)', rating=[0, 0, 0, 0, 1, 1, 0, 0, 0, 0, 0, 0, 0, 0, 0, 0, 0, 0, 0], title='Santa Clause, The (1994)'),\n",
       " Row(date='01-Jan-1994', id=64, link='http://us.imdb.com/M/title-exact?Shawshank%20Redemption,%20The%20(1994)', rating=[0, 0, 0, 0, 0, 0, 0, 0, 1, 0, 0, 0, 0, 0, 0, 0, 0, 0, 0], title='Shawshank Redemption, The (1994)'),\n",
       " Row(date='01-Jan-1993', id=65, link=\"http://us.imdb.com/M/title-exact?What's%20Eating%20Gilbert%20Grape%20(1993)\", rating=[0, 0, 0, 0, 0, 1, 0, 0, 1, 0, 0, 0, 0, 0, 0, 0, 0, 0, 0], title=\"What's Eating Gilbert Grape (1993)\"),\n",
       " Row(date='01-Jan-1995', id=66, link='http://us.imdb.com/M/title-exact?While%20You%20Were%20Sleeping%20(1995)', rating=[0, 0, 0, 0, 0, 1, 0, 0, 0, 0, 0, 0, 0, 0, 1, 0, 0, 0, 0], title='While You Were Sleeping (1995)'),\n",
       " Row(date='01-Jan-1994', id=67, link='http://us.imdb.com/M/title-exact?Ace%20Ventura:%20Pet%20Detective%20(1994)', rating=[0, 0, 0, 0, 0, 1, 0, 0, 0, 0, 0, 0, 0, 0, 0, 0, 0, 0, 0], title='Ace Ventura: Pet Detective (1994)'),\n",
       " Row(date='01-Jan-1994', id=68, link='http://us.imdb.com/M/title-exact?Crow,%20The%20(1994)', rating=[0, 1, 0, 0, 0, 0, 0, 0, 0, 0, 0, 0, 0, 0, 1, 0, 1, 0, 0], title='Crow, The (1994)'),\n",
       " Row(date='01-Jan-1994', id=69, link='http://us.imdb.com/M/title-exact?Forrest%20Gump%20(1994)', rating=[0, 0, 0, 0, 0, 1, 0, 0, 0, 0, 0, 0, 0, 0, 1, 0, 0, 1, 0], title='Forrest Gump (1994)'),\n",
       " Row(date='01-Jan-1994', id=70, link='http://us.imdb.com/M/title-exact?Four%20Weddings%20and%20a%20Funeral%20(1994)', rating=[0, 0, 0, 0, 0, 1, 0, 0, 0, 0, 0, 0, 0, 0, 1, 0, 0, 0, 0], title='Four Weddings and a Funeral (1994)'),\n",
       " Row(date='01-Jan-1994', id=71, link='http://us.imdb.com/M/title-exact?Lion%20King,%20The%20(1994)', rating=[0, 0, 0, 1, 1, 0, 0, 0, 0, 0, 0, 0, 1, 0, 0, 0, 0, 0, 0], title='Lion King, The (1994)'),\n",
       " Row(date='01-Jan-1994', id=72, link='http://us.imdb.com/M/title-exact?Mask,%20The%20(1994)', rating=[0, 0, 0, 0, 0, 1, 1, 0, 0, 1, 0, 0, 0, 0, 0, 0, 0, 0, 0], title='Mask, The (1994)'),\n",
       " Row(date='01-Jan-1994', id=73, link='http://us.imdb.com/M/title-exact?Maverick%20(1994)', rating=[0, 1, 0, 0, 0, 1, 0, 0, 0, 0, 0, 0, 0, 0, 0, 0, 0, 0, 1], title='Maverick (1994)'),\n",
       " Row(date='01-Jan-1965', id=74, link='http://us.imdb.com/M/title-exact?Faster%20Pussycat!%20Kill!%20Kill!%20(1965)', rating=[0, 1, 0, 0, 0, 1, 0, 0, 1, 0, 0, 0, 0, 0, 0, 0, 0, 0, 0], title='Faster Pussycat! Kill! Kill! (1965)'),\n",
       " Row(date='01-Jan-1994', id=75, link='http://us.imdb.com/M/title-exact?Brother%20Minister:%20The%20Assassination%20of%20Malcolm%20X%20(1994)', rating=[0, 0, 0, 0, 0, 0, 0, 1, 0, 0, 0, 0, 0, 0, 0, 0, 0, 0, 0], title='Brother Minister: The Assassination of Malcolm X (1994)'),\n",
       " Row(date='01-Jan-1993', id=76, link=\"http://us.imdb.com/M/title-exact?Carlito's%20Way%20(1993)\", rating=[0, 0, 0, 0, 0, 0, 1, 0, 1, 0, 0, 0, 0, 0, 0, 0, 0, 0, 0], title=\"Carlito's Way (1993)\"),\n",
       " Row(date='01-Jan-1993', id=77, link='http://us.imdb.com/M/title-exact?Firm,%20The%20(1993)', rating=[0, 0, 0, 0, 0, 0, 0, 0, 1, 0, 0, 0, 0, 0, 0, 0, 1, 0, 0], title='Firm, The (1993)'),\n",
       " Row(date='01-Jan-1993', id=78, link='http://us.imdb.com/M/title-exact?Free%20Willy%20(1993)', rating=[0, 0, 1, 0, 1, 0, 0, 0, 1, 0, 0, 0, 0, 0, 0, 0, 0, 0, 0], title='Free Willy (1993)'),\n",
       " Row(date='01-Jan-1993', id=79, link='http://us.imdb.com/M/title-exact?Fugitive,%20The%20(1993)', rating=[0, 1, 0, 0, 0, 0, 0, 0, 0, 0, 0, 0, 0, 0, 0, 0, 1, 0, 0], title='Fugitive, The (1993)'),\n",
       " Row(date='01-Jan-1993', id=80, link='http://us.imdb.com/M/title-exact?Hot%20Shots!%20Part%20Deux%20(1993)', rating=[0, 1, 0, 0, 0, 1, 0, 0, 0, 0, 0, 0, 0, 0, 0, 0, 0, 1, 0], title='Hot Shots! Part Deux (1993)'),\n",
       " Row(date='01-Jan-1994', id=81, link='http://us.imdb.com/M/title-exact?Hudsucker%20Proxy,%20The%20(1994)', rating=[0, 0, 0, 0, 0, 1, 0, 0, 0, 0, 0, 0, 0, 0, 1, 0, 0, 0, 0], title='Hudsucker Proxy, The (1994)'),\n",
       " Row(date='01-Jan-1993', id=82, link='http://us.imdb.com/M/title-exact?Jurassic%20Park%20(1993)', rating=[0, 1, 1, 0, 0, 0, 0, 0, 0, 0, 0, 0, 0, 0, 0, 1, 0, 0, 0], title='Jurassic Park (1993)'),\n",
       " Row(date='01-Jan-1993', id=83, link='http://us.imdb.com/M/title-exact?Much%20Ado%20About%20Nothing%20(1993)', rating=[0, 0, 0, 0, 0, 1, 0, 0, 0, 0, 0, 0, 0, 0, 1, 0, 0, 0, 0], title='Much Ado About Nothing (1993)'),\n",
       " Row(date='01-Jan-1994', id=84, link=\"http://us.imdb.com/M/title-exact?Robert%20A.%20Heinlein's%20The%20Puppet%20Masters%20(1994)\", rating=[0, 0, 0, 0, 0, 0, 0, 0, 0, 0, 0, 1, 0, 0, 0, 1, 0, 0, 0], title=\"Robert A. Heinlein's The Puppet Masters (1994)\"),\n",
       " Row(date='01-Jan-1994', id=85, link='http://us.imdb.com/M/title-exact?Ref,%20The%20(1994)', rating=[0, 0, 0, 0, 0, 1, 0, 0, 0, 0, 0, 0, 0, 0, 0, 0, 0, 0, 0], title='Ref, The (1994)'),\n",
       " Row(date='01-Jan-1993', id=86, link='http://us.imdb.com/M/title-exact?Remains%20of%20the%20Day,%20The%20(1993)', rating=[0, 0, 0, 0, 0, 0, 0, 0, 1, 0, 0, 0, 0, 0, 0, 0, 0, 0, 0], title='Remains of the Day, The (1993)'),\n",
       " Row(date='01-Jan-1993', id=87, link='http://us.imdb.com/M/title-exact?Searching%20for%20Bobby%20Fischer%20(1993)', rating=[0, 0, 0, 0, 0, 0, 0, 0, 1, 0, 0, 0, 0, 0, 0, 0, 0, 0, 0], title='Searching for Bobby Fischer (1993)'),\n",
       " Row(date='01-Jan-1993', id=88, link='http://us.imdb.com/M/title-exact?Sleepless%20in%20Seattle%20(1993)', rating=[0, 0, 0, 0, 0, 1, 0, 0, 0, 0, 0, 0, 0, 0, 1, 0, 0, 0, 0], title='Sleepless in Seattle (1993)'),\n",
       " Row(date='01-Jan-1982', id=89, link='http://us.imdb.com/M/title-exact?Blade%20Runner%20(1982)', rating=[0, 0, 0, 0, 0, 0, 0, 0, 0, 0, 1, 0, 0, 0, 0, 1, 0, 0, 0], title='Blade Runner (1982)'),\n",
       " Row(date='01-Jan-1993', id=90, link='http://us.imdb.com/M/title-exact?So%20I%20Married%20an%20Axe%20Murderer%20(1993)', rating=[0, 0, 0, 0, 0, 1, 0, 0, 0, 0, 0, 0, 0, 0, 1, 0, 1, 0, 0], title='So I Married an Axe Murderer (1993)'),\n",
       " Row(date='01-Jan-1993', id=91, link='http://us.imdb.com/M/title-exact?Nightmare%20Before%20Christmas,%20The%20(1993)', rating=[0, 0, 0, 0, 1, 1, 0, 0, 0, 0, 0, 0, 1, 0, 0, 0, 0, 0, 0], title='Nightmare Before Christmas, The (1993)'),\n",
       " Row(date='01-Jan-1993', id=92, link='http://us.imdb.com/M/title-exact?True%20Romance%20(1993)', rating=[0, 1, 0, 0, 0, 0, 1, 0, 0, 0, 0, 0, 0, 0, 1, 0, 0, 0, 0], title='True Romance (1993)'),\n",
       " Row(date='24-May-1996', id=93, link='http://us.imdb.com/Title?Welcome+to+the+Dollhouse+(1995)', rating=[0, 0, 0, 0, 0, 1, 0, 0, 1, 0, 0, 0, 0, 0, 0, 0, 0, 0, 0], title='Welcome to the Dollhouse (1995)'),\n",
       " Row(date='01-Jan-1990', id=94, link='http://us.imdb.com/M/title-exact?Home%20Alone%20(1990)', rating=[0, 0, 0, 0, 1, 1, 0, 0, 0, 0, 0, 0, 0, 0, 0, 0, 0, 0, 0], title='Home Alone (1990)'),\n",
       " Row(date='01-Jan-1992', id=95, link='http://us.imdb.com/M/title-exact?Aladdin%20(1992)', rating=[0, 0, 0, 1, 1, 1, 0, 0, 0, 0, 0, 0, 1, 0, 0, 0, 0, 0, 0], title='Aladdin (1992)'),\n",
       " Row(date='01-Jan-1991', id=96, link='http://us.imdb.com/M/title-exact?Terminator%202:%20Judgment%20Day%20(1991)', rating=[0, 1, 0, 0, 0, 0, 0, 0, 0, 0, 0, 0, 0, 0, 0, 1, 1, 0, 0], title='Terminator 2: Judgment Day (1991)'),\n",
       " Row(date='01-Jan-1990', id=97, link='http://us.imdb.com/M/title-exact?Dances%20with%20Wolves%20(1990)', rating=[0, 0, 1, 0, 0, 0, 0, 0, 1, 0, 0, 0, 0, 0, 0, 0, 0, 0, 1], title='Dances with Wolves (1990)'),\n",
       " Row(date='01-Jan-1991', id=98, link='http://us.imdb.com/M/title-exact?Silence%20of%20the%20Lambs,%20The%20(1991)', rating=[0, 0, 0, 0, 0, 0, 0, 0, 1, 0, 0, 0, 0, 0, 0, 0, 1, 0, 0], title='Silence of the Lambs, The (1991)'),\n",
       " Row(date='01-Jan-1937', id=99, link='http://us.imdb.com/M/title-exact?Snow%20White%20and%20the%20Seven%20Dwarfs%20(1937)', rating=[0, 0, 0, 1, 1, 0, 0, 0, 0, 0, 0, 0, 1, 0, 0, 0, 0, 0, 0], title='Snow White and the Seven Dwarfs (1937)'),\n",
       " Row(date='14-Feb-1997', id=100, link='http://us.imdb.com/M/title-exact?Fargo%20(1996)', rating=[0, 0, 0, 0, 0, 0, 1, 0, 1, 0, 0, 0, 0, 0, 0, 0, 1, 0, 0], title='Fargo (1996)'),\n",
       " Row(date='08-Mar-1981', id=101, link='http://us.imdb.com/M/title-exact?Heavy%20Metal%20(1981)', rating=[0, 1, 1, 1, 0, 0, 0, 0, 0, 0, 0, 1, 0, 0, 0, 1, 0, 0, 0], title='Heavy Metal (1981)'),\n",
       " Row(date='01-Jan-1970', id=102, link='http://us.imdb.com/M/title-exact?Aristocats,%20The%20(1970)', rating=[0, 0, 0, 1, 1, 0, 0, 0, 0, 0, 0, 0, 0, 0, 0, 0, 0, 0, 0], title='Aristocats, The (1970)'),\n",
       " Row(date='29-Mar-1996', id=103, link='http://us.imdb.com/M/title-exact?All%20Dogs%20Go%20to%20Heaven%202%20(1996)', rating=[0, 0, 0, 1, 1, 0, 0, 0, 0, 0, 0, 0, 1, 0, 0, 0, 0, 0, 0], title='All Dogs Go to Heaven 2 (1996)'),\n",
       " Row(date='29-Mar-1996', id=104, link='http://us.imdb.com/M/title-exact?Theodore%20Rex%20(1995)', rating=[0, 0, 0, 0, 0, 1, 0, 0, 0, 0, 0, 0, 0, 0, 0, 0, 0, 0, 0], title='Theodore Rex (1995)'),\n",
       " Row(date='29-Mar-1996', id=105, link='http://us.imdb.com/M/title-exact?Sgt.%20Bilko%20(1996)', rating=[0, 0, 0, 0, 0, 1, 0, 0, 0, 0, 0, 0, 0, 0, 0, 0, 0, 0, 0], title='Sgt. Bilko (1996)'),\n",
       " Row(date='01-Jan-1996', id=106, link='http://us.imdb.com/M/title-exact?Diabolique%20(1996)', rating=[0, 0, 0, 0, 0, 0, 0, 0, 1, 0, 0, 0, 0, 0, 0, 0, 1, 0, 0], title='Diabolique (1996)'),\n",
       " Row(date='14-Jun-1996', id=107, link='http://us.imdb.com/M/title-exact?Moll%20Flanders%20(1996)', rating=[0, 0, 0, 0, 0, 0, 0, 0, 1, 0, 0, 0, 0, 0, 0, 0, 0, 0, 0], title='Moll Flanders (1996)'),\n",
       " Row(date='12-Apr-1996', id=108, link='http://us.imdb.com/M/title-exact?Kids%20in%20the%20Hall:%20Brain%20Candy%20(1996)', rating=[0, 0, 0, 0, 0, 1, 0, 0, 0, 0, 0, 0, 0, 0, 0, 0, 0, 0, 0], title='Kids in the Hall: Brain Candy (1996)'),\n",
       " Row(date='19-Apr-1996', id=109, link='http://us.imdb.com/M/title-exact?Mystery%20Science%20Theater%203000:%20The%20Movie%20(1996)', rating=[0, 0, 0, 0, 0, 1, 0, 0, 0, 0, 0, 0, 0, 0, 0, 1, 0, 0, 0], title='Mystery Science Theater 3000: The Movie (1996)'),\n",
       " Row(date='01-Jan-1995', id=110, link='http://us.imdb.com/M/title-exact?Operation%20Dumbo%20Drop%20(1995)', rating=[0, 1, 1, 0, 0, 1, 0, 0, 0, 0, 0, 0, 0, 0, 0, 0, 0, 1, 0], title='Operation Dumbo Drop (1995)'),\n",
       " Row(date='26-Apr-1996', id=111, link='http://us.imdb.com/M/title-exact?Truth%20About%20Cats%20&%20Dogs,%20The%20(1996)', rating=[0, 0, 0, 0, 0, 1, 0, 0, 0, 0, 0, 0, 0, 0, 1, 0, 0, 0, 0], title='Truth About Cats & Dogs, The (1996)'),\n",
       " Row(date='10-May-1996', id=112, link='http://us.imdb.com/M/title-exact?Flipper%20(1996)', rating=[0, 0, 1, 0, 1, 0, 0, 0, 0, 0, 0, 0, 0, 0, 0, 0, 0, 0, 0], title='Flipper (1996)'),\n",
       " Row(date='19-Apr-1996', id=113, link='http://us.imdb.com/M/title-exact?Hussard%20sur%20le%20toit,%20Le%20(1995)', rating=[0, 0, 0, 0, 0, 0, 0, 0, 1, 0, 0, 0, 0, 0, 0, 0, 0, 0, 0], title='Horseman on the Roof, The (Hussard sur le toit, Le) (1995)'),\n",
       " Row(date='05-Apr-1996', id=114, link='http://us.imdb.com/Title?Wallace+%26+Gromit%3A+The+Best+of+Aardman+Animation+(1996)', rating=[0, 0, 0, 1, 0, 0, 0, 0, 0, 0, 0, 0, 0, 0, 0, 0, 0, 0, 0], title='Wallace & Gromit: The Best of Aardman Animation (1996)'),\n",
       " Row(date='26-Apr-1996', id=115, link='http://us.imdb.com/Title?Haunted+World+of+Edward+D.+Wood+Jr.,+The+(1995)', rating=[0, 0, 0, 0, 0, 0, 0, 1, 0, 0, 0, 0, 0, 0, 0, 0, 0, 0, 0], title='Haunted World of Edward D. Wood Jr., The (1995)'),\n",
       " Row(date='23-Apr-1996', id=116, link='http://us.imdb.com/M/title-exact?Cold%20Comfort%20Farm%20(1995)%20(TV)', rating=[0, 0, 0, 0, 0, 1, 0, 0, 0, 0, 0, 0, 0, 0, 0, 0, 0, 0, 0], title='Cold Comfort Farm (1995)'),\n",
       " Row(date='07-Jun-1996', id=117, link='http://us.imdb.com/M/title-exact?Rock,%20The%20(1996)', rating=[0, 1, 1, 0, 0, 0, 0, 0, 0, 0, 0, 0, 0, 0, 0, 0, 1, 0, 0], title='Rock, The (1996)'),\n",
       " Row(date='10-May-1996', id=118, link='http://us.imdb.com/M/title-exact?Twister%20(1996)', rating=[0, 1, 1, 0, 0, 0, 0, 0, 0, 0, 0, 0, 0, 0, 0, 0, 1, 0, 0], title='Twister (1996)'),\n",
       " Row(date='01-Jan-1994', id=119, link='http://us.imdb.com/M/title-exact?Maya%20Lin:%20A%20Strong%20Clear%20Vision%20(1994)', rating=[0, 0, 0, 0, 0, 0, 0, 1, 0, 0, 0, 0, 0, 0, 0, 0, 0, 0, 0], title='Maya Lin: A Strong Clear Vision (1994)'),\n",
       " Row(date='28-Jun-1996', id=120, link='http://us.imdb.com/M/title-exact?Striptease%20(1996)', rating=[0, 0, 0, 0, 0, 1, 1, 0, 0, 0, 0, 0, 0, 0, 0, 0, 0, 0, 0], title='Striptease (1996)'),\n",
       " Row(date='03-Jul-1996', id=121, link='http://us.imdb.com/M/title-exact?Independence%20Day%20(1996)', rating=[0, 1, 0, 0, 0, 0, 0, 0, 0, 0, 0, 0, 0, 0, 0, 1, 0, 1, 0], title='Independence Day (ID4) (1996)'),\n",
       " Row(date='14-Jun-1996', id=122, link='http://us.imdb.com/M/title-exact?Cable%20Guy,%20The%20(1996)', rating=[0, 0, 0, 0, 0, 1, 0, 0, 0, 0, 0, 0, 0, 0, 0, 0, 0, 0, 0], title='Cable Guy, The (1996)'),\n",
       " Row(date='19-Jul-1996', id=123, link='http://us.imdb.com/M/title-exact?Frighteners,%20The%20(1996)', rating=[0, 0, 0, 0, 0, 1, 0, 0, 0, 0, 0, 1, 0, 0, 0, 0, 0, 0, 0], title='Frighteners, The (1996)'),\n",
       " Row(date='21-Jun-1996', id=124, link='http://us.imdb.com/M/title-exact?Lone%20Star%20(1996)', rating=[0, 0, 0, 0, 0, 0, 0, 0, 1, 0, 0, 0, 0, 1, 0, 0, 0, 0, 0], title='Lone Star (1996)'),\n",
       " Row(date='29-Jun-1996', id=125, link='http://us.imdb.com/M/title-exact?Phenomenon%20(1996)', rating=[0, 0, 0, 0, 0, 0, 0, 0, 1, 0, 0, 0, 0, 0, 1, 0, 0, 0, 0], title='Phenomenon (1996)'),\n",
       " Row(date='06-Sep-1996', id=126, link='http://us.imdb.com/M/title-exact?Spitfire%20Grill,%20The%20(1996)', rating=[0, 0, 0, 0, 0, 0, 0, 0, 1, 0, 0, 0, 0, 0, 0, 0, 0, 0, 0], title='Spitfire Grill, The (1996)'),\n",
       " Row(date='01-Jan-1972', id=127, link='http://us.imdb.com/M/title-exact?Godfather,%20The%20(1972)', rating=[0, 1, 0, 0, 0, 0, 1, 0, 1, 0, 0, 0, 0, 0, 0, 0, 0, 0, 0], title='Godfather, The (1972)'),\n",
       " Row(date='26-Jul-1996', id=128, link='http://us.imdb.com/M/title-exact?Police%20Story%20III:%20Supercop%20(1992)', rating=[0, 1, 0, 0, 0, 0, 0, 0, 0, 0, 0, 0, 0, 0, 0, 0, 1, 0, 0], title='Supercop (1992)'),\n",
       " Row(date='04-Oct-1996', id=129, link='http://us.imdb.com/M/title-exact?Bound%20(1996)', rating=[0, 0, 0, 0, 0, 0, 1, 0, 1, 0, 0, 0, 0, 0, 1, 0, 1, 0, 0], title='Bound (1996)'),\n",
       " Row(date='16-Aug-1996', id=130, link='http://us.imdb.com/M/title-exact?Kansas%20City%20(1996)', rating=[0, 0, 0, 0, 0, 0, 1, 0, 0, 0, 0, 0, 0, 0, 0, 0, 0, 0, 0], title='Kansas City (1996)'),\n",
       " Row(date='01-Jan-1961', id=131, link=\"http://us.imdb.com/M/title-exact?Breakfast%20at%20Tiffany's%20(1961)\", rating=[0, 0, 0, 0, 0, 0, 0, 0, 1, 0, 0, 0, 0, 0, 1, 0, 0, 0, 0], title=\"Breakfast at Tiffany's (1961)\"),\n",
       " Row(date='01-Jan-1939', id=132, link='http://us.imdb.com/M/title-exact?Wizard%20of%20Oz,%20The%20(1939)', rating=[0, 0, 1, 0, 1, 0, 0, 0, 1, 0, 0, 0, 1, 0, 0, 0, 0, 0, 0], title='Wizard of Oz, The (1939)'),\n",
       " Row(date='01-Jan-1939', id=133, link='http://us.imdb.com/M/title-exact?Gone%20with%20the%20Wind%20(1939)', rating=[0, 0, 0, 0, 0, 0, 0, 0, 1, 0, 0, 0, 0, 0, 1, 0, 0, 1, 0], title='Gone with the Wind (1939)'),\n",
       " Row(date='01-Jan-1941', id=134, link='http://us.imdb.com/M/title-exact?Citizen%20Kane%20(1941)', rating=[0, 0, 0, 0, 0, 0, 0, 0, 1, 0, 0, 0, 0, 0, 0, 0, 0, 0, 0], title='Citizen Kane (1941)'),\n",
       " Row(date='01-Jan-1968', id=135, link='http://us.imdb.com/M/title-exact?2001:%20A%20Space%20Odyssey%20(1968)', rating=[0, 0, 0, 0, 0, 0, 0, 0, 1, 0, 0, 0, 0, 1, 0, 1, 1, 0, 0], title='2001: A Space Odyssey (1968)'),\n",
       " Row(date='01-Jan-1939', id=136, link='http://us.imdb.com/M/title-exact?Mr.%20Smith%20Goes%20to%20Washington%20(1939)', rating=[0, 0, 0, 0, 0, 0, 0, 0, 1, 0, 0, 0, 0, 0, 0, 0, 0, 0, 0], title='Mr. Smith Goes to Washington (1939)'),\n",
       " Row(date='20-Sep-1996', id=137, link='http://us.imdb.com/M/title-exact?Big%20Night%20(1996)', rating=[0, 0, 0, 0, 0, 0, 0, 0, 1, 0, 0, 0, 0, 0, 0, 0, 0, 0, 0], title='Big Night (1996)'),\n",
       " Row(date='04-Oct-1996', id=138, link='http://us.imdb.com/M/title-exact?D3:%20The%20Mighty%20Ducks%20(1996)', rating=[0, 0, 0, 0, 1, 1, 0, 0, 0, 0, 0, 0, 0, 0, 0, 0, 0, 0, 0], title='D3: The Mighty Ducks (1996)'),\n",
       " Row(date='01-Jan-1969', id=139, link='http://us.imdb.com/M/title-exact?Love%20Bug,%20The%20(1969)', rating=[0, 0, 0, 0, 1, 1, 0, 0, 0, 0, 0, 0, 0, 0, 0, 0, 0, 0, 0], title='Love Bug, The (1969)'),\n",
       " Row(date='01-Jan-1993', id=140, link='http://us.imdb.com/M/title-exact?Homeward%20Bound:%20The%20Incredible%20Journey%20(1993)', rating=[0, 0, 1, 0, 1, 0, 0, 0, 0, 0, 0, 0, 0, 0, 0, 0, 0, 0, 0], title='Homeward Bound: The Incredible Journey (1993)'),\n",
       " Row(date='01-Jan-1954', id=141, link='http://us.imdb.com/M/title-exact?20,000%20Leagues%20Under%20the%20Sea%20(1954)', rating=[0, 0, 1, 0, 1, 0, 0, 0, 0, 1, 0, 0, 0, 0, 0, 1, 0, 0, 0], title='20,000 Leagues Under the Sea (1954)'),\n",
       " Row(date='01-Jan-1971', id=142, link='http://us.imdb.com/M/title-exact?Bedknobs%20and%20Broomsticks%20(1971)', rating=[0, 0, 1, 0, 1, 0, 0, 0, 0, 0, 0, 0, 1, 0, 0, 0, 0, 0, 0], title='Bedknobs and Broomsticks (1971)'),\n",
       " Row(date='01-Jan-1965', id=143, link='http://us.imdb.com/M/title-exact?Sound%20of%20Music,%20The%20(1965)', rating=[0, 0, 0, 0, 0, 0, 0, 0, 0, 0, 0, 0, 1, 0, 0, 0, 0, 0, 0], title='Sound of Music, The (1965)'),\n",
       " Row(date='01-Jan-1988', id=144, link='http://us.imdb.com/M/title-exact?Die%20Hard%20(1988)', rating=[0, 1, 0, 0, 0, 0, 0, 0, 0, 0, 0, 0, 0, 0, 0, 0, 1, 0, 0], title='Die Hard (1988)'),\n",
       " Row(date='01-Jan-1992', id=145, link='http://us.imdb.com/M/title-exact?Lawnmower%20Man,%20The%20(1992)', rating=[0, 1, 0, 0, 0, 0, 0, 0, 0, 0, 0, 0, 0, 0, 0, 1, 1, 0, 0], title='Lawnmower Man, The (1992)'),\n",
       " Row(date='30-Oct-1996', id=146, link='http://us.imdb.com/M/title-exact?Unhook%20the%20Stars%20(1996)', rating=[0, 0, 0, 0, 0, 0, 0, 0, 1, 0, 0, 0, 0, 0, 0, 0, 0, 0, 0], title='Unhook the Stars (1996)'),\n",
       " Row(date='05-Oct-1996', id=147, link='http://us.imdb.com/M/title-exact?Long%20Kiss%20Goodnight,%20The%20(1996)', rating=[0, 1, 0, 0, 0, 0, 0, 0, 0, 0, 0, 0, 0, 0, 0, 0, 1, 0, 0], title='Long Kiss Goodnight, The (1996)'),\n",
       " Row(date='11-Oct-1996', id=148, link='http://us.imdb.com/M/title-exact?Ghost%20and%20the%20Darkness,%20The%20(1996)', rating=[0, 1, 1, 0, 0, 0, 0, 0, 0, 0, 0, 0, 0, 0, 0, 0, 0, 0, 0], title='Ghost and the Darkness, The (1996)'),\n",
       " Row(date='01-Nov-1996', id=149, link='http://us.imdb.com/M/title-exact?Jude%20(1996)', rating=[0, 0, 0, 0, 0, 0, 0, 0, 1, 0, 0, 0, 0, 0, 0, 0, 0, 0, 0], title='Jude (1996)'),\n",
       " Row(date='18-Oct-1996', id=150, link='http://us.imdb.com/M/title-exact?Swingers%20(1996)', rating=[0, 0, 0, 0, 0, 1, 0, 0, 1, 0, 0, 0, 0, 0, 0, 0, 0, 0, 0], title='Swingers (1996)'),\n",
       " Row(date='01-Jan-1971', id=151, link='http://us.imdb.com/M/title-exact?Willy%20Wonka%20and%20the%20Chocolate%20Factory%20(1971)', rating=[0, 0, 1, 0, 1, 1, 0, 0, 0, 0, 0, 0, 0, 0, 0, 0, 0, 0, 0], title='Willy Wonka and the Chocolate Factory (1971)'),\n",
       " Row(date='01-Jan-1973', id=152, link='http://us.imdb.com/M/title-exact?Sleeper%20(1973)', rating=[0, 0, 0, 0, 0, 1, 0, 0, 0, 0, 0, 0, 0, 0, 0, 1, 0, 0, 0], title='Sleeper (1973)'),\n",
       " Row(date='01-Jan-1988', id=153, link='http://us.imdb.com/M/title-exact?Fish%20Called%20Wanda,%20A%20(1988)', rating=[0, 0, 0, 0, 0, 1, 0, 0, 0, 0, 0, 0, 0, 0, 0, 0, 0, 0, 0], title='Fish Called Wanda, A (1988)'),\n",
       " Row(date='01-Jan-1979', id=154, link='http://us.imdb.com/M/title-exact?Life%20of%20Brian%20(1979)', rating=[0, 0, 0, 0, 0, 1, 0, 0, 0, 0, 0, 0, 0, 0, 0, 0, 0, 0, 0], title=\"Monty Python's Life of Brian (1979)\"),\n",
       " Row(date='01-Jan-1987', id=155, link='http://us.imdb.com/M/title-exact?Dirty%20Dancing%20(1987)', rating=[0, 0, 0, 0, 0, 0, 0, 0, 0, 0, 0, 0, 1, 0, 1, 0, 0, 0, 0], title='Dirty Dancing (1987)'),\n",
       " Row(date='01-Jan-1992', id=156, link='http://us.imdb.com/M/title-exact?Reservoir%20Dogs%20(1992)', rating=[0, 0, 0, 0, 0, 0, 1, 0, 0, 0, 0, 0, 0, 0, 0, 0, 1, 0, 0], title='Reservoir Dogs (1992)'),\n",
       " Row(date='01-Jan-1986', id=157, link='http://us.imdb.com/M/title-exact?Platoon%20(1986)', rating=[0, 0, 0, 0, 0, 0, 0, 0, 1, 0, 0, 0, 0, 0, 0, 0, 0, 1, 0], title='Platoon (1986)'),\n",
       " Row(date='01-Jan-1989', id=158, link=\"http://us.imdb.com/M/title-exact?Weekend%20at%20Bernie's%20(1989)\", rating=[0, 0, 0, 0, 0, 1, 0, 0, 0, 0, 0, 0, 0, 0, 0, 0, 0, 0, 0], title=\"Weekend at Bernie's (1989)\"),\n",
       " Row(date='01-Jan-1992', id=159, link='http://us.imdb.com/M/title-exact?Basic%20Instinct%20(1992)', rating=[0, 0, 0, 0, 0, 0, 0, 0, 0, 0, 0, 0, 0, 1, 0, 0, 1, 0, 0], title='Basic Instinct (1992)'),\n",
       " Row(date='01-Jan-1992', id=160, link='http://us.imdb.com/M/title-exact?Glengarry%20Glen%20Ross%20(1992)', rating=[0, 0, 0, 0, 0, 0, 0, 0, 1, 0, 0, 0, 0, 0, 0, 0, 0, 0, 0], title='Glengarry Glen Ross (1992)'),\n",
       " Row(date='01-Jan-1986', id=161, link='http://us.imdb.com/M/title-exact?Top%20Gun%20(1986)', rating=[0, 1, 0, 0, 0, 0, 0, 0, 0, 0, 0, 0, 0, 0, 1, 0, 0, 0, 0], title='Top Gun (1986)'),\n",
       " Row(date='01-Jan-1981', id=162, link='http://us.imdb.com/M/title-exact?On%20Golden%20Pond%20(1981)', rating=[0, 0, 0, 0, 0, 0, 0, 0, 1, 0, 0, 0, 0, 0, 0, 0, 0, 0, 0], title='On Golden Pond (1981)'),\n",
       " Row(date='01-Jan-1974', id=163, link='http://us.imdb.com/M/title-exact?Return%20of%20the%20Pink%20Panther,%20The%20(1974)', rating=[0, 0, 0, 0, 0, 1, 0, 0, 0, 0, 0, 0, 0, 0, 0, 0, 0, 0, 0], title='Return of the Pink Panther, The (1974)'),\n",
       " Row(date='01-Jan-1989', id=164, link='http://us.imdb.com/M/title-exact?Abyss,%20The%20(1989)', rating=[0, 1, 1, 0, 0, 0, 0, 0, 0, 0, 0, 0, 0, 0, 0, 1, 1, 0, 0], title='Abyss, The (1989)'),\n",
       " Row(date='01-Jan-1986', id=165, link='http://us.imdb.com/M/title-exact?Jean%20de%20Florette%20(1986)', rating=[0, 0, 0, 0, 0, 0, 0, 0, 1, 0, 0, 0, 0, 0, 0, 0, 0, 0, 0], title='Jean de Florette (1986)'),\n",
       " Row(date='01-Jan-1986', id=166, link='http://us.imdb.com/M/title-exact?Manon%20des%20sources%20(1986)', rating=[0, 0, 0, 0, 0, 0, 0, 0, 1, 0, 0, 0, 0, 0, 0, 0, 0, 0, 0], title='Manon of the Spring (Manon des sources) (1986)'),\n",
       " Row(date='01-Jan-1980', id=167, link='http://us.imdb.com/M/title-exact?Private%20Benjamin%20(1980)', rating=[0, 0, 0, 0, 0, 1, 0, 0, 0, 0, 0, 0, 0, 0, 0, 0, 0, 0, 0], title='Private Benjamin (1980)'),\n",
       " Row(date='01-Jan-1974', id=168, link='http://us.imdb.com/M/title-exact?Monty%20Python%20and%20the%20Holy%20Grail%20(1974)', rating=[0, 0, 0, 0, 0, 1, 0, 0, 0, 0, 0, 0, 0, 0, 0, 0, 0, 0, 0], title='Monty Python and the Holy Grail (1974)'),\n",
       " Row(date='01-Jan-1993', id=169, link='http://us.imdb.com/M/title-exact?Wrong%20Trousers,%20The%20(1993)', rating=[0, 0, 0, 1, 0, 1, 0, 0, 0, 0, 0, 0, 0, 0, 0, 0, 0, 0, 0], title='Wrong Trousers, The (1993)'),\n",
       " Row(date='01-Jan-1988', id=170, link='http://us.imdb.com/M/title-exact?Nuovo%20cinema%20Paradiso%20(1988)', rating=[0, 0, 0, 0, 0, 1, 0, 0, 1, 0, 0, 0, 0, 0, 1, 0, 0, 0, 0], title='Cinema Paradiso (1988)'),\n",
       " Row(date='01-Jan-1991', id=171, link='http://us.imdb.com/M/title-exact?Delicatessen%20(1991)', rating=[0, 0, 0, 0, 0, 1, 0, 0, 0, 0, 0, 0, 0, 0, 0, 1, 0, 0, 0], title='Delicatessen (1991)'),\n",
       " Row(date='01-Jan-1980', id=172, link='http://us.imdb.com/M/title-exact?Empire%20Strikes%20Back,%20The%20(1980)', rating=[0, 1, 1, 0, 0, 0, 0, 0, 1, 0, 0, 0, 0, 0, 1, 1, 0, 1, 0], title='Empire Strikes Back, The (1980)'),\n",
       " Row(date='01-Jan-1987', id=173, link='http://us.imdb.com/M/title-exact?Princess%20Bride,%20The%20(1987)', rating=[0, 1, 1, 0, 0, 1, 0, 0, 0, 0, 0, 0, 0, 0, 1, 0, 0, 0, 0], title='Princess Bride, The (1987)'),\n",
       " Row(date='01-Jan-1981', id=174, link='http://us.imdb.com/M/title-exact?Raiders%20of%20the%20Lost%20Ark%20(1981)', rating=[0, 1, 1, 0, 0, 0, 0, 0, 0, 0, 0, 0, 0, 0, 0, 0, 0, 0, 0], title='Raiders of the Lost Ark (1981)'),\n",
       " Row(date='01-Jan-1985', id=175, link='http://us.imdb.com/M/title-exact?Brazil%20(1985)', rating=[0, 0, 0, 0, 0, 0, 0, 0, 0, 0, 0, 0, 0, 0, 0, 1, 0, 0, 0], title='Brazil (1985)'),\n",
       " Row(date='01-Jan-1986', id=176, link='http://us.imdb.com/M/title-exact?Aliens%20(1986)', rating=[0, 1, 0, 0, 0, 0, 0, 0, 0, 0, 0, 0, 0, 0, 0, 1, 1, 1, 0], title='Aliens (1986)'),\n",
       " Row(date='01-Jan-1966', id=177, link='http://us.imdb.com/M/title-exact?Buono,%20il%20brutto,%20il%20cattivo,%20Il%20(1966)', rating=[0, 1, 0, 0, 0, 0, 0, 0, 0, 0, 0, 0, 0, 0, 0, 0, 0, 0, 1], title='Good, The Bad and The Ugly, The (1966)'),\n",
       " Row(date='01-Jan-1957', id=178, link='http://us.imdb.com/M/title-exact?12%20Angry%20Men%20(1957)', rating=[0, 0, 0, 0, 0, 0, 0, 0, 1, 0, 0, 0, 0, 0, 0, 0, 0, 0, 0], title='12 Angry Men (1957)'),\n",
       " Row(date='01-Jan-1971', id=179, link='http://us.imdb.com/M/title-exact?Clockwork%20Orange,%20A%20(1971)', rating=[0, 0, 0, 0, 0, 0, 0, 0, 0, 0, 0, 0, 0, 0, 0, 1, 0, 0, 0], title='Clockwork Orange, A (1971)'),\n",
       " Row(date='01-Jan-1979', id=180, link='http://us.imdb.com/M/title-exact?Apocalypse%20Now%20(1979)', rating=[0, 0, 0, 0, 0, 0, 0, 0, 1, 0, 0, 0, 0, 0, 0, 0, 0, 1, 0], title='Apocalypse Now (1979)'),\n",
       " Row(date='14-Mar-1997', id=181, link='http://us.imdb.com/M/title-exact?Return%20of%20the%20Jedi%20(1983)', rating=[0, 1, 1, 0, 0, 0, 0, 0, 0, 0, 0, 0, 0, 0, 1, 1, 0, 1, 0], title='Return of the Jedi (1983)'),\n",
       " Row(date='01-Jan-1990', id=182, link='http://us.imdb.com/M/title-exact?GoodFellas%20(1990)', rating=[0, 0, 0, 0, 0, 0, 1, 0, 1, 0, 0, 0, 0, 0, 0, 0, 0, 0, 0], title='GoodFellas (1990)'),\n",
       " Row(date='01-Jan-1979', id=183, link='http://us.imdb.com/M/title-exact?Alien%20(1979)', rating=[0, 1, 0, 0, 0, 0, 0, 0, 0, 0, 0, 1, 0, 0, 0, 1, 1, 0, 0], title='Alien (1979)'),\n",
       " Row(date='01-Jan-1993', id=184, link='http://us.imdb.com/M/title-exact?Army%20of%20Darkness%20(1993)', rating=[0, 1, 1, 0, 0, 1, 0, 0, 0, 0, 0, 1, 0, 0, 0, 1, 0, 0, 0], title='Army of Darkness (1993)'),\n",
       " Row(date='01-Jan-1960', id=185, link='http://us.imdb.com/M/title-exact?Psycho%20(1960)', rating=[0, 0, 0, 0, 0, 0, 0, 0, 0, 0, 0, 1, 0, 0, 1, 0, 1, 0, 0], title='Psycho (1960)'),\n",
       " Row(date='01-Jan-1980', id=186, link='http://us.imdb.com/M/title-exact?Blues%20Brothers,%20The%20(1980)', rating=[0, 1, 0, 0, 0, 1, 0, 0, 0, 0, 0, 0, 1, 0, 0, 0, 0, 0, 0], title='Blues Brothers, The (1980)'),\n",
       " Row(date='01-Jan-1974', id=187, link='http://us.imdb.com/M/title-exact?Godfather:%20Part%20II,%20The%20(1974)', rating=[0, 1, 0, 0, 0, 0, 1, 0, 1, 0, 0, 0, 0, 0, 0, 0, 0, 0, 0], title='Godfather: Part II, The (1974)'),\n",
       " Row(date='01-Jan-1987', id=188, link='http://us.imdb.com/M/title-exact?Full%20Metal%20Jacket%20(1987)', rating=[0, 1, 0, 0, 0, 0, 0, 0, 1, 0, 0, 0, 0, 0, 0, 0, 0, 1, 0], title='Full Metal Jacket (1987)'),\n",
       " Row(date='01-Jan-1992', id=189, link='http://us.imdb.com/M/title-exact?Grand%20Day%20Out,%20A%20(1992)', rating=[0, 0, 0, 1, 0, 1, 0, 0, 0, 0, 0, 0, 0, 0, 0, 0, 0, 0, 0], title='Grand Day Out, A (1992)'),\n",
       " Row(date='01-Jan-1989', id=190, link='http://us.imdb.com/M/title-exact?Henry%20V%20(1989)', rating=[0, 0, 0, 0, 0, 0, 0, 0, 1, 0, 0, 0, 0, 0, 0, 0, 0, 1, 0], title='Henry V (1989)'),\n",
       " Row(date='01-Jan-1984', id=191, link='http://us.imdb.com/M/title-exact?Amadeus%20(1984)', rating=[0, 0, 0, 0, 0, 0, 0, 0, 1, 0, 0, 0, 0, 1, 0, 0, 0, 0, 0], title='Amadeus (1984)'),\n",
       " Row(date='01-Jan-1980', id=192, link='http://us.imdb.com/M/title-exact?Raging%20Bull%20(1980)', rating=[0, 0, 0, 0, 0, 0, 0, 0, 1, 0, 0, 0, 0, 0, 0, 0, 0, 0, 0], title='Raging Bull (1980)'),\n",
       " Row(date='01-Jan-1983', id=193, link='http://us.imdb.com/M/title-exact?Right%20Stuff,%20The%20(1983)', rating=[0, 0, 0, 0, 0, 0, 0, 0, 1, 0, 0, 0, 0, 0, 0, 0, 0, 0, 0], title='Right Stuff, The (1983)'),\n",
       " Row(date='01-Jan-1973', id=194, link='http://us.imdb.com/M/title-exact?Sting,%20The%20(1973)', rating=[0, 0, 0, 0, 0, 1, 1, 0, 0, 0, 0, 0, 0, 0, 0, 0, 0, 0, 0], title='Sting, The (1973)'),\n",
       " Row(date='01-Jan-1984', id=195, link='http://us.imdb.com/M/title-exact?Terminator,%20The%20(1984)', rating=[0, 1, 0, 0, 0, 0, 0, 0, 0, 0, 0, 0, 0, 0, 0, 1, 1, 0, 0], title='Terminator, The (1984)'),\n",
       " Row(date='01-Jan-1989', id=196, link='http://us.imdb.com/M/title-exact?Dead%20Poets%20Society%20(1989)', rating=[0, 0, 0, 0, 0, 0, 0, 0, 1, 0, 0, 0, 0, 0, 0, 0, 0, 0, 0], title='Dead Poets Society (1989)'),\n",
       " Row(date='01-Jan-1967', id=197, link='http://us.imdb.com/M/title-exact?Graduate,%20The%20(1967)', rating=[0, 0, 0, 0, 0, 0, 0, 0, 1, 0, 0, 0, 0, 0, 1, 0, 0, 0, 0], title='Graduate, The (1967)'),\n",
       " Row(date='01-Jan-1990', id=198, link='http://us.imdb.com/M/title-exact?Nikita%20(1990)', rating=[0, 0, 0, 0, 0, 0, 0, 0, 0, 0, 0, 0, 0, 0, 0, 0, 1, 0, 0], title='Nikita (La Femme Nikita) (1990)'),\n",
       " Row(date='01-Jan-1957', id=199, link='http://us.imdb.com/M/title-exact?Bridge%20on%20the%20River%20Kwai,%20The%20(1957)', rating=[0, 0, 0, 0, 0, 0, 0, 0, 1, 0, 0, 0, 0, 0, 0, 0, 0, 1, 0], title='Bridge on the River Kwai, The (1957)'),\n",
       " Row(date='01-Jan-1980', id=200, link='http://us.imdb.com/M/title-exact?Shining,%20The%20(1980)', rating=[0, 0, 0, 0, 0, 0, 0, 0, 0, 0, 0, 1, 0, 0, 0, 0, 0, 0, 0], title='Shining, The (1980)'),\n",
       " Row(date='01-Jan-1987', id=201, link='http://us.imdb.com/M/title-exact?Evil%20Dead%20II%20(1987)', rating=[0, 1, 1, 0, 0, 1, 0, 0, 0, 0, 0, 1, 0, 0, 0, 0, 0, 0, 0], title='Evil Dead II (1987)'),\n",
       " Row(date='01-Jan-1993', id=202, link='http://us.imdb.com/M/title-exact?Groundhog%20Day%20(1993)', rating=[0, 0, 0, 0, 0, 1, 0, 0, 0, 0, 0, 0, 0, 0, 1, 0, 0, 0, 0], title='Groundhog Day (1993)'),\n",
       " Row(date='01-Jan-1992', id=203, link='http://us.imdb.com/M/title-exact?Unforgiven%20(1992)', rating=[0, 0, 0, 0, 0, 0, 0, 0, 0, 0, 0, 0, 0, 0, 0, 0, 0, 0, 1], title='Unforgiven (1992)'),\n",
       " Row(date='01-Jan-1985', id=204, link='http://us.imdb.com/M/title-exact?Back%20to%20the%20Future%20(1985)', rating=[0, 0, 0, 0, 0, 1, 0, 0, 0, 0, 0, 0, 0, 0, 0, 1, 0, 0, 0], title='Back to the Future (1985)'),\n",
       " Row(date='01-Jan-1970', id=205, link='http://us.imdb.com/M/title-exact?Patton%20(1970)', rating=[0, 0, 0, 0, 0, 0, 0, 0, 1, 0, 0, 0, 0, 0, 0, 0, 0, 1, 0], title='Patton (1970)'),\n",
       " Row(date='01-Jan-1988', id=206, link='http://us.imdb.com/M/title-exact?Akira%20(1988)', rating=[0, 0, 1, 1, 0, 0, 0, 0, 0, 0, 0, 0, 0, 0, 0, 1, 1, 0, 0], title='Akira (1988)'),\n",
       " Row(date='01-Jan-1990', id=207, link='http://us.imdb.com/M/title-exact?Cyrano%20de%20Bergerac%20(1990)', rating=[0, 1, 0, 0, 0, 0, 0, 0, 1, 0, 0, 0, 0, 0, 1, 0, 0, 0, 0], title='Cyrano de Bergerac (1990)'),\n",
       " Row(date='01-Jan-1974', id=208, link='http://us.imdb.com/M/title-exact?Young%20Frankenstein%20(1974)', rating=[0, 0, 0, 0, 0, 1, 0, 0, 0, 0, 0, 1, 0, 0, 0, 0, 0, 0, 0], title='Young Frankenstein (1974)'),\n",
       " Row(date='01-Jan-1984', id=209, link='http://us.imdb.com/M/title-exact?This%20Is%20Spinal%20Tap%20(1984)', rating=[0, 0, 0, 0, 0, 1, 0, 0, 1, 0, 0, 0, 1, 0, 0, 0, 0, 0, 0], title='This Is Spinal Tap (1984)'),\n",
       " Row(date='01-Jan-1989', id=210, link='http://us.imdb.com/M/title-exact?Indiana%20Jones%20and%20the%20Last%20Crusade%20(1989)', rating=[0, 1, 1, 0, 0, 0, 0, 0, 0, 0, 0, 0, 0, 0, 0, 0, 0, 0, 0], title='Indiana Jones and the Last Crusade (1989)'),\n",
       " Row(date='01-Jan-1970', id=211, link='http://us.imdb.com/M/title-exact?MASH%20(1970)', rating=[0, 0, 0, 0, 0, 1, 0, 0, 0, 0, 0, 0, 0, 0, 0, 0, 0, 1, 0], title='M*A*S*H (1970)'),\n",
       " Row(date='01-Jan-1988', id=212, link='http://us.imdb.com/M/title-exact?Unbearable%20Lightness%20of%20Being,%20The%20(1988)', rating=[0, 0, 0, 0, 0, 0, 0, 0, 1, 0, 0, 0, 0, 0, 0, 0, 0, 0, 0], title='Unbearable Lightness of Being, The (1988)'),\n",
       " Row(date='01-Jan-1986', id=213, link='http://us.imdb.com/M/title-exact?Room%20with%20a%20View,%20A%20(1986)', rating=[0, 0, 0, 0, 0, 0, 0, 0, 1, 0, 0, 0, 0, 0, 1, 0, 0, 0, 0], title='Room with a View, A (1986)'),\n",
       " Row(date='01-Jan-1982', id=214, link='http://us.imdb.com/M/title-exact?Pink%20Floyd%20-%20The%20Wall%20(1982)', rating=[0, 0, 0, 0, 0, 0, 0, 0, 1, 0, 0, 0, 1, 0, 0, 0, 0, 1, 0], title='Pink Floyd - The Wall (1982)'),\n",
       " Row(date='01-Jan-1989', id=215, link='http://us.imdb.com/M/title-exact?Field%20of%20Dreams%20(1989)', rating=[0, 0, 0, 0, 0, 0, 0, 0, 1, 0, 0, 0, 0, 0, 0, 0, 0, 0, 0], title='Field of Dreams (1989)'),\n",
       " Row(date='01-Jan-1989', id=216, link='http://us.imdb.com/M/title-exact?When%20Harry%20Met%20Sally...%20(1989)', rating=[0, 0, 0, 0, 0, 1, 0, 0, 0, 0, 0, 0, 0, 0, 1, 0, 0, 0, 0], title='When Harry Met Sally... (1989)'),\n",
       " Row(date='01-Jan-1992', id=217, link=\"http://us.imdb.com/M/title-exact?Bram%20Stoker's%20Dracula%20(1992)\", rating=[0, 0, 0, 0, 0, 0, 0, 0, 0, 0, 0, 1, 0, 0, 1, 0, 0, 0, 0], title=\"Bram Stoker's Dracula (1992)\"),\n",
       " Row(date='01-Jan-1991', id=218, link='http://us.imdb.com/M/title-exact?Cape%20Fear%20(1991)', rating=[0, 0, 0, 0, 0, 0, 0, 0, 0, 0, 0, 0, 0, 0, 0, 0, 1, 0, 0], title='Cape Fear (1991)'),\n",
       " Row(date='01-Jan-1984', id=219, link='http://us.imdb.com/M/title-exact?Nightmare%20on%20Elm%20Street,%20A%20(1984)', rating=[0, 0, 0, 0, 0, 0, 0, 0, 0, 0, 0, 1, 0, 0, 0, 0, 0, 0, 0], title='Nightmare on Elm Street, A (1984)'),\n",
       " Row(date='15-Nov-1996', id=220, link='http://us.imdb.com/M/title-exact?Mirror%20Has%20Two%20Faces,%20The%20(1996)', rating=[0, 0, 0, 0, 0, 1, 0, 0, 0, 0, 0, 0, 0, 0, 1, 0, 0, 0, 0], title='Mirror Has Two Faces, The (1996)'),\n",
       " Row(date='15-Nov-1996', id=221, link='http://us.imdb.com/M/title-exact?Breaking%20the%20Waves%20(1996)', rating=[0, 0, 0, 0, 0, 0, 0, 0, 1, 0, 0, 0, 0, 0, 0, 0, 0, 0, 0], title='Breaking the Waves (1996)'),\n",
       " Row(date='22-Nov-1996', id=222, link='http://us.imdb.com/M/title-exact?Star%20Trek:%20First%20Contact%20(1996)', rating=[0, 1, 1, 0, 0, 0, 0, 0, 0, 0, 0, 0, 0, 0, 0, 1, 0, 0, 0], title='Star Trek: First Contact (1996)'),\n",
       " Row(date='22-Nov-1996', id=223, link='http://us.imdb.com/M/title-exact?Sling%20Blade%20(1996)', rating=[0, 0, 0, 0, 0, 0, 0, 0, 1, 0, 0, 0, 0, 0, 0, 0, 1, 0, 0], title='Sling Blade (1996)'),\n",
       " Row(date='27-Nov-1996', id=224, link='http://us.imdb.com/M/title-exact?Ridicule%20(1996)', rating=[0, 0, 0, 0, 0, 0, 0, 0, 1, 0, 0, 0, 0, 0, 0, 0, 0, 0, 0], title='Ridicule (1996)'),\n",
       " Row(date='27-Nov-1996', id=225, link='http://us.imdb.com/M/title-exact?101%20Dalmatians%20(1996)', rating=[0, 0, 0, 0, 1, 1, 0, 0, 0, 0, 0, 0, 0, 0, 0, 0, 0, 0, 0], title='101 Dalmatians (1996)'),\n",
       " Row(date='01-Jan-1990', id=226, link='http://us.imdb.com/M/title-exact?Die%20Hard%202%20(1990)', rating=[0, 1, 0, 0, 0, 0, 0, 0, 0, 0, 0, 0, 0, 0, 0, 0, 1, 0, 0], title='Die Hard 2 (1990)'),\n",
       " Row(date='01-Jan-1991', id=227, link='http://us.imdb.com/M/title-exact?Star%20Trek%20VI:%20The%20Undiscovered%20Country%20(1991)', rating=[0, 1, 1, 0, 0, 0, 0, 0, 0, 0, 0, 0, 0, 0, 0, 1, 0, 0, 0], title='Star Trek VI: The Undiscovered Country (1991)'),\n",
       " Row(date='01-Jan-1982', id=228, link='http://us.imdb.com/M/title-exact?Star%20Trek:%20The%20Wrath%20of%20Khan%20(1982)', rating=[0, 1, 1, 0, 0, 0, 0, 0, 0, 0, 0, 0, 0, 0, 0, 1, 0, 0, 0], title='Star Trek: The Wrath of Khan (1982)'),\n",
       " Row(date='01-Jan-1984', id=229, link='http://us.imdb.com/M/title-exact?Star%20Trek%20III:%20The%20Search%20for%20Spock%20(1984)', rating=[0, 1, 1, 0, 0, 0, 0, 0, 0, 0, 0, 0, 0, 0, 0, 1, 0, 0, 0], title='Star Trek III: The Search for Spock (1984)'),\n",
       " Row(date='01-Jan-1986', id=230, link='http://us.imdb.com/M/title-exact?Star%20Trek%20IV:%20The%20Voyage%20Home%20(1986)', rating=[0, 1, 1, 0, 0, 0, 0, 0, 0, 0, 0, 0, 0, 0, 0, 1, 0, 0, 0], title='Star Trek IV: The Voyage Home (1986)'),\n",
       " Row(date='01-Jan-1992', id=231, link='http://us.imdb.com/M/title-exact?Batman%20Returns%20(1992)', rating=[0, 1, 1, 0, 0, 1, 1, 0, 0, 0, 0, 0, 0, 0, 0, 0, 0, 0, 0], title='Batman Returns (1992)'),\n",
       " Row(date='01-Jan-1988', id=232, link='http://us.imdb.com/M/title-exact?Young%20Guns%20(1988)', rating=[0, 1, 0, 0, 0, 1, 0, 0, 0, 0, 0, 0, 0, 0, 0, 0, 0, 0, 1], title='Young Guns (1988)'),\n",
       " Row(date='01-Jan-1992', id=233, link='http://us.imdb.com/M/title-exact?Under%20Siege%20(1992)', rating=[0, 1, 0, 0, 0, 0, 0, 0, 0, 0, 0, 0, 0, 0, 0, 0, 0, 0, 0], title='Under Siege (1992)'),\n",
       " Row(date='01-Jan-1975', id=234, link='http://us.imdb.com/M/title-exact?Jaws%20(1975)', rating=[0, 1, 0, 0, 0, 0, 0, 0, 0, 0, 0, 1, 0, 0, 0, 0, 0, 0, 0], title='Jaws (1975)'),\n",
       " Row(date='13-Dec-1996', id=235, link='http://us.imdb.com/M/title-exact?Mars%20Attacks!%20(1996)', rating=[0, 1, 0, 0, 0, 1, 0, 0, 0, 0, 0, 0, 0, 0, 0, 1, 0, 1, 0], title='Mars Attacks! (1996)'),\n",
       " Row(date='13-Dec-1996', id=236, link='http://us.imdb.com/M/title-exact?Citizen%20Ruth%20(1996)', rating=[0, 0, 0, 0, 0, 1, 0, 0, 1, 0, 0, 0, 0, 0, 0, 0, 0, 0, 0], title='Citizen Ruth (1996)'),\n",
       " Row(date='13-Dec-1996', id=237, link='http://us.imdb.com/M/title-exact?Jerry%20Maguire%20(1996)', rating=[0, 0, 0, 0, 0, 0, 0, 0, 1, 0, 0, 0, 0, 0, 1, 0, 0, 0, 0], title='Jerry Maguire (1996)'),\n",
       " Row(date='01-Jan-1987', id=238, link='http://us.imdb.com/M/title-exact?Raising%20Arizona%20(1987)', rating=[0, 0, 0, 0, 0, 1, 0, 0, 0, 0, 0, 0, 0, 0, 0, 0, 0, 0, 0], title='Raising Arizona (1987)'),\n",
       " Row(date='01-Jan-1992', id=239, link='http://us.imdb.com/M/title-exact?Sneakers%20(1992)', rating=[0, 0, 0, 0, 0, 0, 1, 0, 1, 0, 0, 0, 0, 0, 0, 1, 0, 0, 0], title='Sneakers (1992)'),\n",
       " Row(date='20-Dec-1996', id=240, link='http://us.imdb.com/M/title-exact?Beavis%20and%20Butt-head%20Do%20America%20(1996)', rating=[0, 0, 0, 1, 0, 1, 0, 0, 0, 0, 0, 0, 0, 0, 0, 0, 0, 0, 0], title='Beavis and Butt-head Do America (1996)'),\n",
       " Row(date='01-Jan-1992', id=241, link='http://us.imdb.com/M/title-exact?Last%20of%20the%20Mohicans,%20The%20(1992)', rating=[0, 1, 0, 0, 0, 0, 0, 0, 0, 0, 0, 0, 0, 0, 1, 0, 0, 1, 0], title='Last of the Mohicans, The (1992)'),\n",
       " Row(date='24-Jan-1997', id=242, link='http://us.imdb.com/M/title-exact?Kolya%20(1996)', rating=[0, 0, 0, 0, 0, 1, 0, 0, 0, 0, 0, 0, 0, 0, 0, 0, 0, 0, 0], title='Kolya (1996)'),\n",
       " Row(date='07-Mar-1997', id=243, link='http://us.imdb.com/M/title-exact?Jungle2Jungle%20(1997)', rating=[0, 0, 0, 0, 1, 1, 0, 0, 0, 0, 0, 0, 0, 0, 0, 0, 0, 0, 0], title='Jungle2Jungle (1997)'),\n",
       " Row(date='14-Mar-1997', id=244, link='http://us.imdb.com/M/title-exact?Smilla%27s%20Sense%20of%20Snow%20(1997)', rating=[0, 1, 0, 0, 0, 0, 0, 0, 1, 0, 0, 0, 0, 0, 0, 0, 1, 0, 0], title=\"Smilla's Sense of Snow (1997)\"),\n",
       " Row(date='26-Mar-1997', id=245, link='http://us.imdb.com/M/title-exact?Devil%27s%20Own%2C%20The%20(1997)', rating=[0, 1, 0, 0, 0, 0, 0, 0, 1, 0, 0, 0, 0, 0, 0, 0, 1, 1, 0], title=\"Devil's Own, The (1997)\"),\n",
       " Row(date='01-Jan-1997', id=246, link='http://us.imdb.com/M/title-exact?Chasing+Amy+(1997)', rating=[0, 0, 0, 0, 0, 0, 0, 0, 1, 0, 0, 0, 0, 0, 1, 0, 0, 0, 0], title='Chasing Amy (1997)'),\n",
       " Row(date='28-Mar-1997', id=247, link='http://us.imdb.com/M/title-exact?Turbo%3A%20A%20Power%20Rangers%20Movie%20%281997%29', rating=[0, 1, 1, 0, 1, 0, 0, 0, 0, 0, 0, 0, 0, 0, 0, 0, 0, 0, 0], title='Turbo: A Power Rangers Movie (1997)'),\n",
       " Row(date='11-Apr-1997', id=248, link='http://us.imdb.com/M/title-exact?Grosse%20Pointe%20Blank%20%281997%29', rating=[0, 0, 0, 0, 0, 1, 1, 0, 0, 0, 0, 0, 0, 0, 0, 0, 0, 0, 0], title='Grosse Pointe Blank (1997)'),\n",
       " Row(date='02-May-1997', id=249, link='http://us.imdb.com/M/title-exact?Austin%20Powers%3A%20International%20Man%20of%20Mystery%20%281997%29', rating=[0, 0, 0, 0, 0, 1, 0, 0, 0, 0, 0, 0, 0, 0, 0, 0, 0, 0, 0], title='Austin Powers: International Man of Mystery (1997)'),\n",
       " Row(date='09-May-1997', id=250, link='http://us.imdb.com/M/title-exact?Fifth%20Element%2C%20The%20%281997%29', rating=[0, 1, 0, 0, 0, 0, 0, 0, 0, 0, 0, 0, 0, 0, 0, 1, 0, 0, 0], title='Fifth Element, The (1997)'),\n",
       " Row(date='11-Jul-1997', id=251, link='http://us.imdb.com/M/title-exact?Shall%20we%20DANSU%3F%20%281996%29', rating=[0, 0, 0, 0, 0, 1, 0, 0, 0, 0, 0, 0, 0, 0, 0, 0, 0, 0, 0], title='Shall We Dance? (1996)'),\n",
       " Row(date='23-May-1997', id=252, link='http://us.imdb.com/M/title-exact?Lost%20World%3A%20Jurassic%20Park%2C%20The%20%281997%29', rating=[0, 1, 1, 0, 0, 0, 0, 0, 0, 0, 0, 0, 0, 0, 0, 1, 1, 0, 0], title='Lost World: Jurassic Park, The (1997)'),\n",
       " Row(date='13-Jun-1997', id=253, link='http://us.imdb.com/M/title-exact?Pillow%20Book%2C%20The%20%281995%29', rating=[0, 0, 0, 0, 0, 0, 0, 0, 1, 0, 0, 0, 0, 0, 1, 0, 0, 0, 0], title='Pillow Book, The (1995)'),\n",
       " Row(date='20-Jun-1997', id=254, link='http://us.imdb.com/M/title-exact?Batman+%26+Robin+(1997)', rating=[0, 1, 1, 0, 0, 0, 1, 0, 0, 0, 0, 0, 0, 0, 0, 0, 0, 0, 0], title='Batman & Robin (1997)'),\n",
       " Row(date='20-Jun-1997', id=255, link='http://us.imdb.com/M/title-exact?My+Best+Friend%27s+Wedding+(1997)', rating=[0, 0, 0, 0, 0, 1, 0, 0, 0, 0, 0, 0, 0, 0, 1, 0, 0, 0, 0], title=\"My Best Friend's Wedding (1997)\"),\n",
       " Row(date='20-Jun-1997', id=256, link='http://us.imdb.com/M/title-exact?Chacun+cherche+son+chat+(1996)', rating=[0, 0, 0, 0, 0, 1, 0, 0, 0, 0, 0, 0, 0, 0, 1, 0, 0, 0, 0], title='When the Cats Away (Chacun cherche son chat) (1996)'),\n",
       " Row(date='04-Jul-1997', id=257, link='http://us.imdb.com/M/title-exact?Men+in+Black+(1997)', rating=[0, 1, 1, 0, 0, 1, 0, 0, 0, 0, 0, 0, 0, 0, 0, 1, 0, 0, 0], title='Men in Black (1997)'),\n",
       " Row(date='11-Jul-1997', id=258, link='http://us.imdb.com/Title?Contact+(1997/I)', rating=[0, 0, 0, 0, 0, 0, 0, 0, 1, 0, 0, 0, 0, 0, 0, 1, 0, 0, 0], title='Contact (1997)'),\n",
       " Row(date='01-Jan-1997', id=259, link='http://us.imdb.com/M/title-exact?George+of+the+Jungle+(1997)', rating=[0, 0, 0, 0, 1, 1, 0, 0, 0, 0, 0, 0, 0, 0, 0, 0, 0, 0, 0], title='George of the Jungle (1997)'),\n",
       " Row(date='01-Jan-1997', id=260, link='http://us.imdb.com/M/title-exact?Event+Horizon+(1997)', rating=[0, 1, 0, 0, 0, 0, 0, 0, 0, 0, 0, 0, 0, 1, 0, 1, 1, 0, 0], title='Event Horizon (1997)'),\n",
       " Row(date='01-Aug-1997', id=261, link='http://us.imdb.com/M/title-exact?Air+Bud+(1997)', rating=[0, 0, 0, 0, 1, 1, 0, 0, 0, 0, 0, 0, 0, 0, 0, 0, 0, 0, 0], title='Air Bud (1997)'),\n",
       " Row(date='01-Aug-1997', id=262, link='http://us.imdb.com/M/title-exact?In+the+Company+of+Men+(1997)', rating=[0, 0, 0, 0, 0, 0, 0, 0, 1, 0, 0, 0, 0, 0, 0, 0, 0, 0, 0], title='In the Company of Men (1997)'),\n",
       " Row(date='15-Aug-1997', id=263, link='http://us.imdb.com/M/title-exact?Steel+(1997)', rating=[0, 1, 0, 0, 0, 0, 0, 0, 0, 0, 0, 0, 0, 0, 0, 0, 0, 0, 0], title='Steel (1997)'),\n",
       " Row(date='22-Aug-1997', id=264, link='http://us.imdb.com/M/title-exact?Mimic+(1997)', rating=[0, 0, 0, 0, 0, 0, 0, 0, 0, 0, 0, 0, 0, 0, 0, 1, 1, 0, 0], title='Mimic (1997)'),\n",
       " Row(date='01-Jan-1990', id=265, link='http://us.imdb.com/M/title-exact?Hunt+for+Red+October%2C+The+(1990)', rating=[0, 1, 0, 0, 0, 0, 0, 0, 0, 0, 0, 0, 0, 0, 0, 0, 1, 0, 0], title='Hunt for Red October, The (1990)'),\n",
       " Row(date='29-Aug-1997', id=266, link='http://us.imdb.com/M/title-exact?Kull+the+Conqueror+(1997)', rating=[0, 1, 1, 0, 0, 0, 0, 0, 0, 0, 0, 0, 0, 0, 0, 0, 0, 0, 0], title='Kull the Conqueror (1997)'),\n",
       " Row(date='', id=267, link='', rating=[1, 0, 0, 0, 0, 0, 0, 0, 0, 0, 0, 0, 0, 0, 0, 0, 0, 0, 0], title='unknown'),\n",
       " Row(date='01-Jan-1997', id=268, link='http://us.imdb.com/M/title-exact?Chasing+Amy+(1997)', rating=[0, 0, 0, 0, 0, 0, 0, 0, 1, 0, 0, 0, 0, 0, 1, 0, 0, 0, 0], title='Chasing Amy (1997)'),\n",
       " Row(date='01-Jan-1997', id=269, link='http://us.imdb.com/M/title-exact?Full+Monty%2C+The+(1997)', rating=[0, 0, 0, 0, 0, 1, 0, 0, 0, 0, 0, 0, 0, 0, 0, 0, 0, 0, 0], title='Full Monty, The (1997)'),\n",
       " Row(date='01-Jan-1997', id=270, link='http://us.imdb.com/M/title-exact?Gattaca+(1997)', rating=[0, 0, 0, 0, 0, 0, 0, 0, 1, 0, 0, 0, 0, 0, 0, 1, 1, 0, 0], title='Gattaca (1997)'),\n",
       " Row(date='01-Jan-1997', id=271, link='http://us.imdb.com/M/title-exact?Starship+Troopers+(1997)', rating=[0, 1, 1, 0, 0, 0, 0, 0, 0, 0, 0, 0, 0, 0, 0, 1, 0, 1, 0], title='Starship Troopers (1997)'),\n",
       " Row(date='01-Jan-1997', id=272, link='http://us.imdb.com/M/title-exact?imdb-title-119217', rating=[0, 0, 0, 0, 0, 0, 0, 0, 1, 0, 0, 0, 0, 0, 0, 0, 0, 0, 0], title='Good Will Hunting (1997)'),\n",
       " Row(date='01-Jan-1995', id=273, link='http://us.imdb.com/M/title-exact?Heat%20(1995)', rating=[0, 1, 0, 0, 0, 0, 1, 0, 0, 0, 0, 0, 0, 0, 0, 0, 1, 0, 0], title='Heat (1995)'),\n",
       " Row(date='01-Jan-1995', id=274, link='http://us.imdb.com/M/title-exact?Sabrina%20(1995)', rating=[0, 0, 0, 0, 0, 1, 0, 0, 0, 0, 0, 0, 0, 0, 1, 0, 0, 0, 0], title='Sabrina (1995)'),\n",
       " Row(date='01-Jan-1995', id=275, link='http://us.imdb.com/M/title-exact?Sense%20and%20Sensibility%20(1995)', rating=[0, 0, 0, 0, 0, 0, 0, 0, 1, 0, 0, 0, 0, 0, 1, 0, 0, 0, 0], title='Sense and Sensibility (1995)'),\n",
       " Row(date='01-Jan-1995', id=276, link='http://us.imdb.com/M/title-exact?Leaving%20Las%20Vegas%20(1995)', rating=[0, 0, 0, 0, 0, 0, 0, 0, 1, 0, 0, 0, 0, 0, 1, 0, 0, 0, 0], title='Leaving Las Vegas (1995)'),\n",
       " Row(date='01-Jan-1995', id=277, link='http://us.imdb.com/M/title-exact?Restoration%20(1995)', rating=[0, 0, 0, 0, 0, 0, 0, 0, 1, 0, 0, 0, 0, 0, 0, 0, 0, 0, 0], title='Restoration (1995)'),\n",
       " Row(date='01-Jan-1996', id=278, link='http://us.imdb.com/M/title-exact?Bed%20of%20Roses%20(1996)', rating=[0, 0, 0, 0, 0, 0, 0, 0, 1, 0, 0, 0, 0, 0, 1, 0, 0, 0, 0], title='Bed of Roses (1996)'),\n",
       " Row(date='01-Jan-1995', id=279, link='http://us.imdb.com/M/title-exact?Once%20Upon%20a%20Time... When%20We%20Were%20Colored%20(1995)', rating=[0, 0, 0, 0, 0, 0, 0, 0, 1, 0, 0, 0, 0, 0, 0, 0, 0, 0, 0], title='Once Upon a Time... When We Were Colored (1995)'),\n",
       " Row(date='01-Mar-1996', id=280, link='http://us.imdb.com/M/title-exact?Up%20Close%20and%20Personal%20(1996)', rating=[0, 0, 0, 0, 0, 0, 0, 0, 1, 0, 0, 0, 0, 0, 1, 0, 0, 0, 0], title='Up Close and Personal (1996)'),\n",
       " Row(date='01-Jan-1994', id=281, link='http://us.imdb.com/M/title-exact?River%20Wild,%20The%20(1994)', rating=[0, 1, 0, 0, 0, 0, 0, 0, 0, 0, 0, 0, 0, 0, 0, 0, 1, 0, 0], title='River Wild, The (1994)'),\n",
       " Row(date='13-Jul-1996', id=282, link='http://us.imdb.com/M/title-exact?Time%20to%20Kill,%20A%20(1996)', rating=[0, 0, 0, 0, 0, 0, 0, 0, 1, 0, 0, 0, 0, 0, 0, 0, 0, 0, 0], title='Time to Kill, A (1996)'),\n",
       " Row(date='02-Aug-1996', id=283, link='http://us.imdb.com/M/title-exact?Emma%20(1996)', rating=[0, 0, 0, 0, 0, 0, 0, 0, 1, 0, 0, 0, 0, 0, 1, 0, 0, 0, 0], title='Emma (1996)'),\n",
       " Row(date='16-Aug-1996', id=284, link='http://us.imdb.com/M/title-exact?Tin%20Cup%20(1996)', rating=[0, 0, 0, 0, 0, 1, 0, 0, 0, 0, 0, 0, 0, 0, 1, 0, 0, 0, 0], title='Tin Cup (1996)'),\n",
       " Row(date='04-Oct-1996', id=285, link='http://us.imdb.com/M/title-exact?Secrets%20&%20Lies%20(1996)', rating=[0, 0, 0, 0, 0, 0, 0, 0, 1, 0, 0, 0, 0, 0, 0, 0, 0, 0, 0], title='Secrets & Lies (1996)'),\n",
       " Row(date='15-Nov-1996', id=286, link='http://us.imdb.com/M/title-exact?English%20Patient,%20The%20(1996)', rating=[0, 0, 0, 0, 0, 0, 0, 0, 1, 0, 0, 0, 0, 0, 1, 0, 0, 1, 0], title='English Patient, The (1996)'),\n",
       " Row(date='18-Dec-1996', id=287, link=\"http://us.imdb.com/M/title-exact?Marvin's%20Room%20(1996)\", rating=[0, 0, 0, 0, 0, 0, 0, 0, 1, 0, 0, 0, 0, 0, 0, 0, 0, 0, 0], title=\"Marvin's Room (1996)\"),\n",
       " Row(date='20-Dec-1996', id=288, link='http://us.imdb.com/M/title-exact?Scream%20(1996)', rating=[0, 0, 0, 0, 0, 0, 0, 0, 0, 0, 0, 1, 0, 0, 0, 0, 1, 0, 0], title='Scream (1996)'),\n",
       " Row(date='25-Dec-1996', id=289, link='http://us.imdb.com/M/title-exact?Evita%20(1996)', rating=[0, 0, 0, 0, 0, 0, 0, 0, 1, 0, 0, 0, 1, 0, 0, 0, 0, 0, 0], title='Evita (1996)'),\n",
       " Row(date='10-Jan-1997', id=290, link='http://us.imdb.com/M/title-exact?Fierce%20Creatures%20(1997)', rating=[0, 0, 0, 0, 0, 1, 0, 0, 0, 0, 0, 0, 0, 0, 0, 0, 0, 0, 0], title='Fierce Creatures (1997)'),\n",
       " Row(date='14-Feb-1997', id=291, link='http://us.imdb.com/M/title-exact?Absolute%20Power%20(1997)', rating=[0, 0, 0, 0, 0, 0, 0, 0, 0, 0, 0, 0, 0, 1, 0, 0, 1, 0, 0], title='Absolute Power (1997)'),\n",
       " Row(date='21-Feb-1997', id=292, link='http://us.imdb.com/M/title-exact?Rosewood%20(1997)', rating=[0, 0, 0, 0, 0, 0, 0, 0, 1, 0, 0, 0, 0, 0, 0, 0, 0, 0, 0], title='Rosewood (1997)'),\n",
       " Row(date='28-Feb-1997', id=293, link='http://us.imdb.com/M/title-exact?Donnie%20Brasco%20(1997)', rating=[0, 0, 0, 0, 0, 0, 1, 0, 1, 0, 0, 0, 0, 0, 0, 0, 0, 0, 0], title='Donnie Brasco (1997)'),\n",
       " Row(date='21-Mar-1997', id=294, link='http://us.imdb.com/Title?Liar+Liar+(1997)', rating=[0, 0, 0, 0, 0, 1, 0, 0, 0, 0, 0, 0, 0, 0, 0, 0, 0, 0, 0], title='Liar Liar (1997)'),\n",
       " Row(date='02-May-1997', id=295, link='http://us.imdb.com/M/title-exact?Breakdown%20%281997%29', rating=[0, 1, 0, 0, 0, 0, 0, 0, 0, 0, 0, 0, 0, 0, 0, 0, 1, 0, 0], title='Breakdown (1997)'),\n",
       " Row(date='16-May-1997', id=296, link='http://us.imdb.com/M/title-exact?Promesse%2C%20La%20%281996%29', rating=[0, 0, 0, 0, 0, 0, 0, 0, 1, 0, 0, 0, 0, 0, 0, 0, 0, 0, 0], title='Promesse, La (1996)'),\n",
       " Row(date='01-Jan-1997', id=297, link='http://us.imdb.com/M/title-exact?Ulee%27s+Gold+(1997)', rating=[0, 0, 0, 0, 0, 0, 0, 0, 1, 0, 0, 0, 0, 0, 0, 0, 0, 0, 0], title=\"Ulee's Gold (1997)\"),\n",
       " Row(date='27-Jun-1997', id=298, link='http://us.imdb.com/M/title-exact?Face/Off+(1997)', rating=[0, 1, 0, 0, 0, 0, 0, 0, 0, 0, 0, 0, 0, 0, 0, 1, 1, 0, 0], title='Face/Off (1997)'),\n",
       " Row(date='22-Aug-1997', id=299, link='http://us.imdb.com/M/title-exact?Hoodlum+(1997)', rating=[0, 0, 0, 0, 0, 0, 1, 0, 1, 0, 1, 0, 0, 0, 0, 0, 0, 0, 0], title='Hoodlum (1997)'),\n",
       " Row(date='01-Jan-1997', id=300, link='http://us.imdb.com/M/title-exact?Air+Force+One+(1997)', rating=[0, 1, 0, 0, 0, 0, 0, 0, 0, 0, 0, 0, 0, 0, 0, 0, 1, 0, 0], title='Air Force One (1997)'),\n",
       " Row(date='19-Sep-1997', id=301, link='http://us.imdb.com/Title?In+%26+Out+(1997)', rating=[0, 0, 0, 0, 0, 1, 0, 0, 0, 0, 0, 0, 0, 0, 0, 0, 0, 0, 0], title='In & Out (1997)'),\n",
       " Row(date='01-Jan-1997', id=302, link='http://us.imdb.com/M/title-exact?L%2EA%2E+Confidential+(1997)', rating=[0, 0, 0, 0, 0, 0, 1, 0, 0, 0, 1, 0, 0, 1, 0, 0, 1, 0, 0], title='L.A. Confidential (1997)'),\n",
       " Row(date='01-Jan-1997', id=303, link='http://us.imdb.com/M/title-exact?Ulee%27s+Gold+(1997)', rating=[0, 0, 0, 0, 0, 0, 0, 0, 1, 0, 0, 0, 0, 0, 0, 0, 0, 0, 0], title=\"Ulee's Gold (1997)\"),\n",
       " Row(date='13-Sep-1996', id=304, link='http://us.imdb.com/M/title-exact?Fly%20Away%20Home%20(1996)', rating=[0, 0, 1, 0, 1, 0, 0, 0, 0, 0, 0, 0, 0, 0, 0, 0, 0, 0, 0], title='Fly Away Home (1996)'),\n",
       " Row(date='01-Jan-1997', id=305, link='http://us.imdb.com/M/title-exact?Ice+Storm%2C+The+(1997)', rating=[0, 0, 0, 0, 0, 0, 0, 0, 1, 0, 0, 0, 0, 0, 0, 0, 0, 0, 0], title='Ice Storm, The (1997)'),\n",
       " Row(date='01-Jan-1997', id=306, link='http://us.imdb.com/M/title-exact?Her+Majesty%2C+Mrs%2E+Brown+(1997)', rating=[0, 0, 0, 0, 0, 0, 0, 0, 1, 0, 0, 0, 0, 0, 1, 0, 0, 0, 0], title='Mrs. Brown (Her Majesty, Mrs. Brown) (1997)'),\n",
       " Row(date='01-Jan-1997', id=307, link=\"http://us.imdb.com/M/title-exact?Devil's+Advocate,+The+(1997)\", rating=[0, 0, 0, 0, 0, 0, 1, 0, 0, 0, 0, 1, 0, 1, 0, 0, 1, 0, 0], title=\"Devil's Advocate, The (1997)\"),\n",
       " Row(date='01-Jan-1997', id=308, link='http://us.imdb.com/M/title-exact?Fairytale:+A+True+Story+(1997)', rating=[0, 0, 0, 0, 1, 0, 0, 0, 1, 1, 0, 0, 0, 0, 0, 0, 0, 0, 0], title='FairyTale: A True Story (1997)'),\n",
       " Row(date='01-Jan-1997', id=309, link='http://us.imdb.com/M/title-exact?Liar+(1997)', rating=[0, 0, 0, 0, 0, 0, 1, 0, 0, 0, 0, 0, 0, 0, 0, 0, 0, 0, 0], title='Deceiver (1997)'),\n",
       " Row(date='01-Jan-1997', id=310, link='http://us.imdb.com/M/title-exact?Rainmaker,+The+(1997)', rating=[0, 0, 0, 0, 0, 0, 0, 0, 1, 0, 0, 0, 0, 0, 0, 0, 0, 0, 0], title='Rainmaker, The (1997)'),\n",
       " Row(date='01-Jan-1997', id=311, link='http://us.imdb.com/M/title-exact?Wings+of+the+Dove%2C+The+(1997)', rating=[0, 0, 0, 0, 0, 0, 0, 0, 1, 0, 0, 0, 0, 0, 1, 0, 1, 0, 0], title='Wings of the Dove, The (1997)'),\n",
       " Row(date='01-Jan-1997', id=312, link='http://us.imdb.com/M/title-exact?Midnight+in+the+Garden+of+Good+and+Evil+(1997)', rating=[0, 0, 0, 0, 0, 1, 1, 0, 1, 0, 0, 0, 0, 1, 0, 0, 0, 0, 0], title='Midnight in the Garden of Good and Evil (1997)'),\n",
       " Row(date='01-Jan-1997', id=313, link='http://us.imdb.com/M/title-exact?imdb-title-120338', rating=[0, 1, 0, 0, 0, 0, 0, 0, 1, 0, 0, 0, 0, 0, 1, 0, 0, 0, 0], title='Titanic (1997)'),\n",
       " Row(date='01-Jan-1997', id=314, link='http://us.imdb.com/M/title-exact?imdb-title-118539', rating=[0, 1, 0, 0, 1, 0, 0, 0, 0, 0, 0, 0, 0, 0, 0, 0, 0, 0, 0], title='3 Ninjas: High Noon At Mega Mountain (1998)'),\n",
       " Row(date='23-Oct-1998', id=315, link='http://us.imdb.com/Title?Apt+Pupil+(1998)', rating=[0, 0, 0, 0, 0, 0, 0, 0, 1, 0, 0, 0, 0, 0, 0, 0, 1, 0, 0], title='Apt Pupil (1998)'),\n",
       " Row(date='23-Dec-1997', id=316, link='http://us.imdb.com/Title?As+Good+As+It+Gets+(1997)', rating=[0, 0, 0, 0, 0, 1, 0, 0, 1, 0, 0, 0, 0, 0, 0, 0, 0, 0, 0], title='As Good As It Gets (1997)'),\n",
       " Row(date='01-Jan-1993', id=317, link='http://us.imdb.com/M/title-exact?In%20the%20Name%20of%20the%20Father%20(1993)', rating=[0, 0, 0, 0, 0, 0, 0, 0, 1, 0, 0, 0, 0, 0, 0, 0, 0, 0, 0], title='In the Name of the Father (1993)'),\n",
       " Row(date='01-Jan-1993', id=318, link=\"http://us.imdb.com/M/title-exact?Schindler's%20List%20(1993)\", rating=[0, 0, 0, 0, 0, 0, 0, 0, 1, 0, 0, 0, 0, 0, 0, 0, 0, 1, 0], title=\"Schindler's List (1993)\"),\n",
       " Row(date='06-Dec-1996', id=319, link='http://us.imdb.com/M/title-exact?Everyone%20Says%20I%20Love%20You%20(1996)', rating=[0, 0, 0, 0, 0, 1, 0, 0, 0, 0, 0, 0, 1, 0, 1, 0, 0, 0, 0], title='Everyone Says I Love You (1996)'),\n",
       " Row(date='06-Dec-1996', id=320, link='http://us.imdb.com/M/title-exact?Paradise%20Lost%3a%20The%20Child%20Murders%20at%20Robin%20Hood%20Hills%20(1996)', rating=[0, 0, 0, 0, 0, 0, 0, 1, 0, 0, 0, 0, 0, 0, 0, 0, 0, 0, 0], title='Paradise Lost: The Child Murders at Robin Hood Hills (1996)'),\n",
       " Row(date='25-Dec-1996', id=321, link='http://us.imdb.com/M/title-exact?Mother%20(1996/I)', rating=[0, 0, 0, 0, 0, 1, 0, 0, 0, 0, 0, 0, 0, 0, 0, 0, 0, 0, 0], title='Mother (1996)'),\n",
       " Row(date='18-Apr-1997', id=322, link='http://us.imdb.com/M/title-exact?Murder%20at%201600%20(1997)', rating=[0, 0, 0, 0, 0, 0, 0, 0, 0, 0, 0, 0, 0, 1, 0, 0, 1, 0, 0], title='Murder at 1600 (1997)'),\n",
       " Row(date='07-Feb-1997', id=323, link=\"http://us.imdb.com/M/title-exact?Dante's%20Peak%20(1997)\", rating=[0, 1, 0, 0, 0, 0, 0, 0, 0, 0, 0, 0, 0, 0, 0, 0, 1, 0, 0], title=\"Dante's Peak (1997)\"),\n",
       " Row(date='21-Feb-1997', id=324, link='http://us.imdb.com/Title?Lost+Highway+(1997)', rating=[0, 0, 0, 0, 0, 0, 0, 0, 0, 0, 0, 0, 0, 1, 0, 0, 0, 0, 0], title='Lost Highway (1997)'),\n",
       " Row(date='21-Mar-1997', id=325, link='http://us.imdb.com/M/title-exact?Crash%20(1996)', rating=[0, 0, 0, 0, 0, 0, 0, 0, 1, 0, 0, 0, 0, 0, 0, 0, 1, 0, 0], title='Crash (1996)'),\n",
       " Row(date='01-Jan-1997', id=326, link='http://us.imdb.com/M/title-exact?G%2EI%2E+Jane+(1997)', rating=[0, 1, 0, 0, 0, 0, 0, 0, 1, 0, 0, 0, 0, 0, 0, 0, 0, 1, 0], title='G.I. Jane (1997)'),\n",
       " Row(date='01-Jan-1997', id=327, link='http://us.imdb.com/M/title-exact?Cop+Land+(1997)', rating=[0, 0, 0, 0, 0, 0, 1, 0, 1, 0, 0, 0, 0, 1, 0, 0, 0, 0, 0], title='Cop Land (1997)'),\n",
       " Row(date='08-Aug-1997', id=328, link='http://us.imdb.com/M/title-exact?Conspiracy+Theory+(1997)', rating=[0, 1, 0, 0, 0, 0, 0, 0, 0, 0, 0, 0, 0, 1, 1, 0, 1, 0, 0], title='Conspiracy Theory (1997)'),\n",
       " Row(date='30-Jan-1998', id=329, link='http://us.imdb.com/Title?Desperate+Measures+(1998)', rating=[0, 0, 0, 0, 0, 0, 1, 0, 1, 0, 0, 0, 0, 0, 0, 0, 1, 0, 0], title='Desperate Measures (1998)'),\n",
       " Row(date='01-Jan-1997', id=330, link='http://us.imdb.com/M/title-exact?187+(1997)', rating=[0, 0, 0, 0, 0, 0, 0, 0, 1, 0, 0, 0, 0, 0, 0, 0, 0, 0, 0], title='187 (1997)'),\n",
       " Row(date='26-Sep-1997', id=331, link='http://us.imdb.com/M/title-exact?Edge%2C+The+(1997/I)', rating=[0, 0, 1, 0, 0, 0, 0, 0, 0, 0, 0, 0, 0, 0, 0, 0, 1, 0, 0], title='Edge, The (1997)'),\n",
       " Row(date='01-Jan-1997', id=332, link='http://us.imdb.com/M/title-exact?Kiss+the+Girls+(1997)', rating=[0, 0, 0, 0, 0, 0, 1, 0, 1, 0, 0, 0, 0, 0, 0, 0, 1, 0, 0], title='Kiss the Girls (1997)'),\n",
       " Row(date='01-Jan-1997', id=333, link='http://us.imdb.com/M/title-exact?Game%2C+The+(1997)', rating=[0, 0, 0, 0, 0, 0, 0, 0, 0, 0, 0, 0, 0, 1, 0, 0, 1, 0, 0], title='Game, The (1997)'),\n",
       " Row(date='01-Jan-1997', id=334, link='http://us.imdb.com/Title?U+Turn+(1997)', rating=[0, 1, 0, 0, 0, 0, 1, 0, 0, 0, 0, 0, 0, 1, 0, 0, 0, 0, 0], title='U Turn (1997)'),\n",
       " Row(date='01-Jan-1997', id=335, link='http://us.imdb.com/M/title-exact?How+to+Be+a+Player+(1997)', rating=[0, 0, 0, 0, 0, 1, 0, 0, 0, 0, 0, 0, 0, 0, 0, 0, 0, 0, 0], title='How to Be a Player (1997)'),\n",
       " Row(date='01-Jan-1997', id=336, link='http://us.imdb.com/M/title-exact?Playing+God+(1997)', rating=[0, 0, 0, 0, 0, 0, 1, 0, 0, 0, 0, 0, 0, 0, 0, 0, 1, 0, 0], title='Playing God (1997)'),\n",
       " Row(date='01-Jan-1997', id=337, link='http://us.imdb.com/M/title-exact?House+of+Yes,+The+(1997)', rating=[0, 0, 0, 0, 0, 1, 0, 0, 1, 0, 0, 0, 0, 0, 0, 0, 1, 0, 0], title='House of Yes, The (1997)'),\n",
       " Row(date='01-Jan-1997', id=338, link='http://us.imdb.com/M/title-exact?Bean+(1997)', rating=[0, 0, 0, 0, 0, 1, 0, 0, 0, 0, 0, 0, 0, 0, 0, 0, 0, 0, 0], title='Bean (1997)'),\n",
       " Row(date='01-Jan-1997', id=339, link='http://us.imdb.com/M/title-exact?Mad+City+(1997)', rating=[0, 1, 0, 0, 0, 0, 0, 0, 1, 0, 0, 0, 0, 0, 0, 0, 0, 0, 0], title='Mad City (1997)'),\n",
       " Row(date='01-Jan-1997', id=340, link='http://us.imdb.com/M/title-exact?Boogie+Nights+(1997)', rating=[0, 0, 0, 0, 0, 0, 0, 0, 1, 0, 0, 0, 0, 0, 0, 0, 0, 0, 0], title='Boogie Nights (1997)'),\n",
       " Row(date='01-Jan-1997', id=341, link='http://us.imdb.com/M/title-exact?Critical+Care+(1997)', rating=[0, 0, 0, 0, 0, 1, 0, 0, 0, 0, 0, 0, 0, 0, 0, 0, 0, 0, 0], title='Critical Care (1997)'),\n",
       " Row(date='01-Jan-1997', id=342, link='http://us.imdb.com/M/title-exact?Man+Who+Knew+Too+Little%2C+The+(1997)', rating=[0, 0, 0, 0, 0, 1, 0, 0, 0, 0, 0, 0, 0, 1, 0, 0, 0, 0, 0], title='Man Who Knew Too Little, The (1997)'),\n",
       " Row(date='01-Jan-1997', id=343, link='http://us.imdb.com/M/title-exact?Alien%3A+Resurrection+(1997)', rating=[0, 1, 0, 0, 0, 0, 0, 0, 0, 0, 0, 1, 0, 0, 0, 1, 0, 0, 0], title='Alien: Resurrection (1997)'),\n",
       " Row(date='18-Dec-1997', id=344, link='http://us.imdb.com/M/title-exact?imdb-title-118632', rating=[0, 0, 0, 0, 0, 0, 0, 0, 1, 0, 0, 0, 0, 0, 0, 0, 0, 0, 0], title='Apostle, The (1997)'),\n",
       " Row(date='01-Jan-1997', id=345, link='http://us.imdb.com/M/title-exact?imdb-title-118954', rating=[0, 0, 0, 0, 0, 1, 0, 0, 1, 0, 0, 0, 0, 0, 0, 0, 0, 0, 0], title='Deconstructing Harry (1997)'),\n",
       " Row(date='01-Jan-1997', id=346, link='http://us.imdb.com/M/title-exact?imdb-title-119396', rating=[0, 0, 0, 0, 0, 0, 1, 0, 1, 0, 0, 0, 0, 0, 0, 0, 0, 0, 0], title='Jackie Brown (1997)'),\n",
       " Row(date='09-Jan-1998', id=347, link='http://us.imdb.com/M/title-exact?imdb-title-120885', rating=[0, 0, 0, 0, 0, 1, 0, 0, 1, 0, 0, 0, 0, 0, 0, 0, 0, 0, 0], title='Wag the Dog (1997)'),\n",
       " Row(date='30-Jan-1998', id=348, link='http://us.imdb.com/Title?Desperate+Measures+(1998)', rating=[0, 0, 0, 0, 0, 0, 1, 0, 1, 0, 0, 0, 0, 0, 0, 0, 1, 0, 0], title='Desperate Measures (1998)'),\n",
       " Row(date='16-Jan-1998', id=349, link='http://us.imdb.com/M/title-exact?imdb-title-120696', rating=[0, 1, 0, 0, 0, 0, 0, 0, 0, 0, 0, 0, 0, 0, 0, 0, 1, 0, 0], title='Hard Rain (1998)'),\n",
       " Row(date='16-Jan-1998', id=350, link='http://us.imdb.com/Title?Fallen+(1998)', rating=[0, 1, 0, 0, 0, 0, 0, 0, 0, 0, 0, 0, 0, 1, 0, 0, 1, 0, 0], title='Fallen (1998)'),\n",
       " Row(date='16-Jan-1998', id=351, link='http://us.imdb.com/M/title-exact?imdb-title-119959', rating=[0, 0, 0, 0, 0, 0, 0, 0, 0, 0, 0, 1, 0, 0, 0, 0, 0, 0, 0], title='Prophecy II, The (1998)'),\n",
       " Row(date='01-Jan-1997', id=352, link='http://us.imdb.com/M/title-exact?imdb-title-120185', rating=[0, 0, 0, 0, 0, 1, 0, 0, 0, 0, 0, 0, 1, 0, 0, 0, 0, 0, 0], title='Spice World (1997)'),\n",
       " Row(date='30-Jan-1998', id=353, link='http://us.imdb.com/M/title-exact?imdb-title-118956', rating=[0, 1, 0, 0, 0, 0, 0, 0, 0, 0, 0, 1, 0, 0, 0, 1, 0, 0, 0], title='Deep Rising (1998)'),\n",
       " Row(date='13-Feb-1998', id=354, link='http://us.imdb.com/M/title-exact?Wedding+Singer%2C+The+(1998)', rating=[0, 0, 0, 0, 0, 1, 0, 0, 0, 0, 0, 0, 0, 0, 1, 0, 0, 0, 0], title='Wedding Singer, The (1998)'),\n",
       " Row(date='13-Feb-1998', id=355, link='http://us.imdb.com/M/title-exact?Sphere+(1998)', rating=[0, 0, 1, 0, 0, 0, 0, 0, 0, 0, 0, 0, 0, 0, 0, 1, 1, 0, 0], title='Sphere (1998)'),\n",
       " Row(date='01-Jan-1994', id=356, link='http://us.imdb.com/M/title-exact?Client,%20The%20(1994)', rating=[0, 0, 0, 0, 0, 0, 0, 0, 1, 0, 0, 0, 0, 1, 0, 0, 1, 0, 0], title='Client, The (1994)'),\n",
       " Row(date='01-Jan-1975', id=357, link=\"http://us.imdb.com/M/title-exact?One%20Flew%20Over%20the%20Cuckoo's%20Nest%20(1975)\", rating=[0, 0, 0, 0, 0, 0, 0, 0, 1, 0, 0, 0, 0, 0, 0, 0, 0, 0, 0], title=\"One Flew Over the Cuckoo's Nest (1975)\"),\n",
       " Row(date='01-Aug-1997', id=358, link='http://us.imdb.com/M/title-exact?Spawn+(1997/I)', rating=[0, 1, 1, 0, 0, 0, 0, 0, 0, 0, 0, 0, 0, 0, 0, 1, 1, 0, 0], title='Spawn (1997)'),\n",
       " Row(date='01-Jan-1997', id=359, link='http://us.imdb.com/M/title-exact?Assignment%2C+The+(1997)', rating=[0, 0, 0, 0, 0, 0, 0, 0, 0, 0, 0, 0, 0, 0, 0, 0, 1, 0, 0], title='Assignment, The (1997)'),\n",
       " Row(date='01-Jan-1997', id=360, link='http://us.imdb.com/M/title-exact?Wonderland+(1997)', rating=[0, 0, 0, 0, 0, 0, 0, 1, 0, 0, 0, 0, 0, 0, 0, 0, 0, 0, 0], title='Wonderland (1997)'),\n",
       " Row(date='01-Jan-1997', id=361, link='http://us.imdb.com/M/title-exact?Incognito+(1997)', rating=[0, 0, 0, 0, 0, 0, 1, 0, 0, 0, 0, 0, 0, 0, 0, 0, 1, 0, 0], title='Incognito (1997)'),\n",
       " Row(date='06-Feb-1998', id=362, link='http://us.imdb.com/M/title-exact?Blues+Brothers+2000+(1998)', rating=[0, 1, 0, 0, 0, 1, 0, 0, 0, 0, 0, 0, 1, 0, 0, 0, 0, 0, 0], title='Blues Brothers 2000 (1998)'),\n",
       " Row(date='01-Jan-1995', id=363, link='http://us.imdb.com/M/title-exact?Sudden%20Death%20(1995)', rating=[0, 1, 0, 0, 0, 0, 0, 0, 0, 0, 0, 0, 0, 0, 0, 0, 0, 0, 0], title='Sudden Death (1995)'),\n",
       " Row(date='01-Jan-1995', id=364, link='http://us.imdb.com/M/title-exact?Ace%20Ventura:%20When%20Nature%20Calls%20(1995)', rating=[0, 0, 0, 0, 0, 1, 0, 0, 0, 0, 0, 0, 0, 0, 0, 0, 0, 0, 0], title='Ace Ventura: When Nature Calls (1995)'),\n",
       " Row(date='01-Jan-1995', id=365, link='http://us.imdb.com/M/title-exact?Powder%20(1995)', rating=[0, 0, 0, 0, 0, 0, 0, 0, 1, 0, 0, 0, 0, 0, 0, 0, 0, 0, 0], title='Powder (1995)'),\n",
       " Row(date='01-Jan-1995', id=366, link='http://us.imdb.com/M/title-exact?Dangerous%20Minds%20(1995)', rating=[0, 0, 0, 0, 0, 0, 0, 0, 1, 0, 0, 0, 0, 0, 0, 0, 0, 0, 0], title='Dangerous Minds (1995)'),\n",
       " Row(date='01-Jan-1995', id=367, link='http://us.imdb.com/M/title-exact?Clueless%20(1995)', rating=[0, 0, 0, 0, 0, 1, 0, 0, 0, 0, 0, 0, 0, 0, 0, 0, 0, 0, 0], title='Clueless (1995)'),\n",
       " Row(date='01-Jan-1996', id=368, link='http://us.imdb.com/M/title-exact?Bio-Dome%20(1996)', rating=[0, 0, 0, 0, 0, 1, 0, 0, 0, 0, 0, 0, 0, 0, 0, 0, 0, 0, 0], title='Bio-Dome (1996)'),\n",
       " Row(date='02-Feb-1996', id=369, link='http://us.imdb.com/M/title-exact?Black%20Sheep%20(1996)', rating=[0, 0, 0, 0, 0, 1, 0, 0, 0, 0, 0, 0, 0, 0, 0, 0, 0, 0, 0], title='Black Sheep (1996)'),\n",
       " Row(date='23-Feb-1996', id=370, link='http://us.imdb.com/M/title-exact?Mary%20Reilly%20(1996)', rating=[0, 0, 0, 0, 0, 0, 0, 0, 1, 0, 0, 0, 0, 0, 0, 0, 1, 0, 0], title='Mary Reilly (1996)'),\n",
       " Row(date='09-Feb-1996', id=371, link='http://us.imdb.com/M/title-exact?Bridges%20of%20Madison%20County,%20The%20(1995)', rating=[0, 0, 0, 0, 0, 0, 0, 0, 1, 0, 0, 0, 0, 0, 1, 0, 0, 0, 0], title='Bridges of Madison County, The (1995)'),\n",
       " Row(date='01-Jan-1995', id=372, link='http://us.imdb.com/M/title-exact?Jeffrey%20(1995)', rating=[0, 0, 0, 0, 0, 1, 0, 0, 0, 0, 0, 0, 0, 0, 0, 0, 0, 0, 0], title='Jeffrey (1995)'),\n",
       " Row(date='01-Jan-1995', id=373, link='http://us.imdb.com/M/title-exact?Judge%20Dredd%20(1995)', rating=[0, 1, 1, 0, 0, 0, 0, 0, 0, 0, 0, 0, 0, 0, 0, 1, 0, 0, 0], title='Judge Dredd (1995)'),\n",
       " Row(date='01-Jan-1995', id=374, link='http://us.imdb.com/M/title-exact?Mighty%20Morphin%20Power%20Rangers:%20The%20Movie%20(1995)', rating=[0, 1, 0, 0, 1, 0, 0, 0, 0, 0, 0, 0, 0, 0, 0, 0, 0, 0, 0], title='Mighty Morphin Power Rangers: The Movie (1995)'),\n",
       " Row(date='01-Jan-1995', id=375, link='http://us.imdb.com/M/title-exact?Showgirls%20(1995)', rating=[0, 0, 0, 0, 0, 0, 0, 0, 1, 0, 0, 0, 0, 0, 0, 0, 0, 0, 0], title='Showgirls (1995)'),\n",
       " Row(date='01-Jan-1994', id=376, link='http://us.imdb.com/M/title-exact?Houseguest%20(1994)', rating=[0, 0, 0, 0, 0, 1, 0, 0, 0, 0, 0, 0, 0, 0, 0, 0, 0, 0, 0], title='Houseguest (1994)'),\n",
       " Row(date='01-Jan-1994', id=377, link='http://us.imdb.com/M/title-exact?Heavyweights%20(1994)', rating=[0, 0, 0, 0, 1, 1, 0, 0, 0, 0, 0, 0, 0, 0, 0, 0, 0, 0, 0], title='Heavyweights (1994)'),\n",
       " Row(date='01-Jan-1994', id=378, link='http://us.imdb.com/M/title-exact?Miracle%20on%2034th%20Street%20(1994)', rating=[0, 0, 0, 0, 0, 0, 0, 0, 1, 0, 0, 0, 0, 0, 0, 0, 0, 0, 0], title='Miracle on 34th Street (1994)'),\n",
       " Row(date='01-Jan-1995', id=379, link='http://us.imdb.com/M/title-exact?Tales%20From%20the%20Crypt%20Presents:%20Demon%20Knight%20(1995)', rating=[0, 0, 0, 0, 0, 0, 0, 0, 0, 0, 0, 1, 0, 0, 0, 0, 0, 0, 0], title='Tales From the Crypt Presents: Demon Knight (1995)'),\n",
       " Row(date='01-Jan-1994', id=380, link='http://us.imdb.com/M/title-exact?Star%20Trek:%20Generations%20(1994)', rating=[0, 1, 1, 0, 0, 0, 0, 0, 0, 0, 0, 0, 0, 0, 0, 1, 0, 0, 0], title='Star Trek: Generations (1994)'),\n",
       " Row(date='01-Jan-1994', id=381, link=\"http://us.imdb.com/M/title-exact?Muriel's%20Wedding%20(1994)\", rating=[0, 0, 0, 0, 0, 1, 0, 0, 0, 0, 0, 0, 0, 0, 1, 0, 0, 0, 0], title=\"Muriel's Wedding (1994)\"),\n",
       " Row(date='01-Jan-1994', id=382, link='http://us.imdb.com/M/title-exact?Adventures%20of%20Priscilla,%20Queen%20of%20the%20Desert,%20The%20(1994)', rating=[0, 0, 0, 0, 0, 1, 0, 0, 1, 0, 0, 0, 0, 0, 0, 0, 0, 0, 0], title='Adventures of Priscilla, Queen of the Desert, The (1994)'),\n",
       " Row(date='01-Jan-1994', id=383, link='http://us.imdb.com/M/title-exact?Flintstones,%20The%20(1994)', rating=[0, 0, 0, 0, 1, 1, 0, 0, 0, 0, 0, 0, 0, 0, 0, 0, 0, 0, 0], title='Flintstones, The (1994)'),\n",
       " Row(date='01-Jan-1994', id=384, link='http://us.imdb.com/M/title-exact?Naked%20Gun%2033%201/3:%20The%20Final%20Insult%20(1994)', rating=[0, 0, 0, 0, 0, 1, 0, 0, 0, 0, 0, 0, 0, 0, 0, 0, 0, 0, 0], title='Naked Gun 33 1/3: The Final Insult (1994)'),\n",
       " Row(date='01-Jan-1994', id=385, link='http://us.imdb.com/M/title-exact?True%20Lies%20(1994)', rating=[0, 1, 1, 0, 0, 1, 0, 0, 0, 0, 0, 0, 0, 0, 1, 0, 0, 0, 0], title='True Lies (1994)'),\n",
       " Row(date='01-Jan-1993', id=386, link='http://us.imdb.com/M/title-exact?Addams%20Family%20Values%20(1993)', rating=[0, 0, 0, 0, 0, 1, 0, 0, 0, 0, 0, 0, 0, 0, 0, 0, 0, 0, 0], title='Addams Family Values (1993)'),\n",
       " Row(date='01-Jan-1993', id=387, link='http://us.imdb.com/M/title-exact?Age%20of%20Innocence,%20The%20(1993)', rating=[0, 0, 0, 0, 0, 0, 0, 0, 1, 0, 0, 0, 0, 0, 0, 0, 0, 0, 0], title='Age of Innocence, The (1993)'),\n",
       " Row(date='01-Jan-1994', id=388, link='http://us.imdb.com/M/title-exact?Beverly%20Hills%20Cop%20III%20(1994)', rating=[0, 1, 0, 0, 0, 1, 0, 0, 0, 0, 0, 0, 0, 0, 0, 0, 0, 0, 0], title='Beverly Hills Cop III (1994)'),\n",
       " Row(date='01-Jan-1994', id=389, link='http://us.imdb.com/Title?Black+Beauty+(1994/I)', rating=[0, 0, 1, 0, 1, 0, 0, 0, 0, 0, 0, 0, 0, 0, 0, 0, 0, 0, 0], title='Black Beauty (1994)'),\n",
       " Row(date='01-Jan-1993', id=390, link='http://us.imdb.com/M/title-exact?Fear%20of%20a%20Black%20Hat%20(1993)', rating=[0, 0, 0, 0, 0, 1, 0, 0, 0, 0, 0, 0, 0, 0, 0, 0, 0, 0, 0], title='Fear of a Black Hat (1993)'),\n",
       " Row(date='01-Jan-1993', id=391, link='http://us.imdb.com/M/title-exact?Last%20Action%20Hero%20(1993)', rating=[0, 1, 0, 0, 0, 1, 0, 0, 0, 0, 0, 0, 0, 0, 0, 0, 0, 0, 0], title='Last Action Hero (1993)'),\n",
       " Row(date='01-Jan-1993', id=392, link='http://us.imdb.com/M/title-exact?Man%20Without%20a%20Face,%20The%20(1993)', rating=[0, 0, 0, 0, 0, 0, 0, 0, 1, 0, 0, 0, 0, 0, 0, 0, 0, 0, 0], title='Man Without a Face, The (1993)'),\n",
       " Row(date='01-Jan-1993', id=393, link='http://us.imdb.com/M/title-exact?Mrs.%20Doubtfire%20(1993)', rating=[0, 0, 0, 0, 0, 1, 0, 0, 0, 0, 0, 0, 0, 0, 0, 0, 0, 0, 0], title='Mrs. Doubtfire (1993)'),\n",
       " Row(date='01-Jan-1994', id=394, link='http://us.imdb.com/M/title-exact?Radioland%20Murders%20(1994)', rating=[0, 0, 0, 0, 0, 1, 0, 0, 0, 0, 0, 0, 0, 1, 1, 0, 0, 0, 0], title='Radioland Murders (1994)'),\n",
       " Row(date='01-Jan-1993', id=395, link='http://us.imdb.com/M/title-exact?Robin%20Hood:%20Men%20in%20Tights%20(1993)', rating=[0, 0, 0, 0, 0, 1, 0, 0, 0, 0, 0, 0, 0, 0, 0, 0, 0, 0, 0], title='Robin Hood: Men in Tights (1993)'),\n",
       " Row(date='01-Jan-1994', id=396, link='http://us.imdb.com/M/title-exact?Serial%20Mom%20(1994)', rating=[0, 0, 0, 0, 0, 1, 1, 0, 0, 0, 0, 1, 0, 0, 0, 0, 0, 0, 0], title='Serial Mom (1994)'),\n",
       " Row(date='01-Jan-1993', id=397, link='http://us.imdb.com/M/title-exact?Striking%20Distance%20(1993)', rating=[0, 1, 0, 0, 0, 0, 0, 0, 0, 0, 0, 0, 0, 0, 0, 0, 0, 0, 0], title='Striking Distance (1993)'),\n",
       " Row(date='01-Jan-1993', id=398, link='http://us.imdb.com/M/title-exact?Super%20Mario%20Bros.%20(1993)', rating=[0, 1, 1, 0, 1, 0, 0, 0, 0, 0, 0, 0, 0, 0, 0, 1, 0, 0, 0], title='Super Mario Bros. (1993)'),\n",
       " Row(date='01-Jan-1993', id=399, link='http://us.imdb.com/M/title-exact?Three%20Musketeers,%20The%20(1993)', rating=[0, 1, 1, 0, 0, 1, 0, 0, 0, 0, 0, 0, 0, 0, 0, 0, 0, 0, 0], title='Three Musketeers, The (1993)'),\n",
       " Row(date='01-Jan-1994', id=400, link='http://us.imdb.com/M/title-exact?Little%20Rascals,%20The%20(1994)', rating=[0, 0, 0, 0, 1, 1, 0, 0, 0, 0, 0, 0, 0, 0, 0, 0, 0, 0, 0], title='Little Rascals, The (1994)'),\n",
       " Row(date='01-Jan-1995', id=401, link='http://us.imdb.com/M/title-exact?Brady%20Bunch%20Movie,%20The%20(1995)', rating=[0, 0, 0, 0, 0, 1, 0, 0, 0, 0, 0, 0, 0, 0, 0, 0, 0, 0, 0], title='Brady Bunch Movie, The (1995)'),\n",
       " Row(date='01-Jan-1990', id=402, link='http://us.imdb.com/M/title-exact?Ghost%20(1990)', rating=[0, 0, 0, 0, 0, 1, 0, 0, 0, 0, 0, 0, 0, 0, 1, 0, 1, 0, 0], title='Ghost (1990)'),\n",
       " Row(date='01-Jan-1989', id=403, link='http://us.imdb.com/M/title-exact?Batman%20(1989)', rating=[0, 1, 1, 0, 0, 0, 1, 0, 1, 0, 0, 0, 0, 0, 0, 0, 0, 0, 0], title='Batman (1989)'),\n",
       " Row(date='01-Jan-1940', id=404, link='http://us.imdb.com/M/title-exact?Pinocchio%20(1940)', rating=[0, 0, 0, 1, 1, 0, 0, 0, 0, 0, 0, 0, 0, 0, 0, 0, 0, 0, 0], title='Pinocchio (1940)'),\n",
       " Row(date='22-May-1996', id=405, link='http://us.imdb.com/M/title-exact?Mission:%20Impossible%20(1996)', rating=[0, 1, 1, 0, 0, 0, 0, 0, 0, 0, 0, 0, 0, 1, 0, 0, 0, 0, 0], title='Mission: Impossible (1996)'),\n",
       " Row(date='25-Oct-1996', id=406, link='http://us.imdb.com/M/title-exact?Thinner%20(1996)', rating=[0, 0, 0, 0, 0, 0, 0, 0, 0, 0, 0, 1, 0, 0, 0, 0, 1, 0, 0], title='Thinner (1996)'),\n",
       " Row(date='24-May-1996', id=407, link='http://us.imdb.com/M/title-exact?Spy%20Hard%20(1996)', rating=[0, 0, 0, 0, 0, 1, 0, 0, 0, 0, 0, 0, 0, 0, 0, 0, 0, 0, 0], title='Spy Hard (1996)'),\n",
       " Row(date='28-Apr-1996', id=408, link='http://us.imdb.com/M/title-exact?Close%20Shave,%20A%20(1995)', rating=[0, 0, 0, 1, 0, 1, 0, 0, 0, 0, 0, 0, 0, 0, 0, 0, 1, 0, 0], title='Close Shave, A (1995)'),\n",
       " Row(date='07-Aug-1996', id=409, link='http://us.imdb.com/M/title-exact?Jack%20(1996)', rating=[0, 0, 0, 0, 0, 1, 0, 0, 1, 0, 0, 0, 0, 0, 0, 0, 0, 0, 0], title='Jack (1996)'),\n",
       " Row(date='12-Jul-1996', id=410, link='http://us.imdb.com/M/title-exact?Kingpin%20(1996)', rating=[0, 0, 0, 0, 0, 1, 0, 0, 0, 0, 0, 0, 0, 0, 0, 0, 0, 0, 0], title='Kingpin (1996)'),\n",
       " Row(date='28-Jun-1996', id=411, link='http://us.imdb.com/M/title-exact?Nutty%20Professor,%20The%20(1996)', rating=[0, 0, 0, 0, 0, 1, 0, 0, 0, 1, 0, 0, 0, 0, 1, 1, 0, 0, 0], title='Nutty Professor, The (1996)'),\n",
       " Row(date='23-Aug-1996', id=412, link='http://us.imdb.com/M/title-exact?Very%20Brady%20Sequel,%20A%20(1996)', rating=[0, 0, 0, 0, 0, 1, 0, 0, 0, 0, 0, 0, 0, 0, 0, 0, 0, 0, 0], title='Very Brady Sequel, A (1996)'),\n",
       " Row(date='19-Jul-1996', id=413, link='http://us.imdb.com/M/title-exact?Tales%20from%20the%20Crypt%20Presents:%20Bordello%20of%20Blood%20(1996)', rating=[0, 0, 0, 0, 0, 0, 0, 0, 0, 0, 0, 1, 0, 0, 0, 0, 0, 0, 0], title='Tales from the Crypt Presents: Bordello of Blood (1996)'),\n",
       " Row(date='01-Jan-1982', id=414, link='http://us.imdb.com/M/title-exact?My%20Favorite%20Year%20(1982)', rating=[0, 0, 0, 0, 0, 1, 0, 0, 0, 0, 0, 0, 0, 0, 0, 0, 0, 0, 0], title='My Favorite Year (1982)'),\n",
       " Row(date='01-Jan-1975', id=415, link='http://us.imdb.com/M/title-exact?Apple%20Dumpling%20Gang,%20The%20(1975)', rating=[0, 0, 0, 0, 1, 1, 0, 0, 0, 0, 0, 0, 0, 0, 0, 0, 0, 0, 1], title='Apple Dumpling Gang, The (1975)'),\n",
       " Row(date='01-Jan-1957', id=416, link='http://us.imdb.com/M/title-exact?Old%20Yeller%20(1957)', rating=[0, 0, 0, 0, 1, 0, 0, 0, 1, 0, 0, 0, 0, 0, 0, 0, 0, 0, 0], title='Old Yeller (1957)'),\n",
       " Row(date='01-Jan-1961', id=417, link='http://us.imdb.com/M/title-exact?Parent%20Trap,%20The%20(1961)', rating=[0, 0, 0, 0, 1, 0, 0, 0, 1, 0, 0, 0, 0, 0, 0, 0, 0, 0, 0], title='Parent Trap, The (1961)'),\n",
       " Row(date='01-Jan-1950', id=418, link='http://us.imdb.com/M/title-exact?Cinderella%20(1950)', rating=[0, 0, 0, 1, 1, 0, 0, 0, 0, 0, 0, 0, 1, 0, 0, 0, 0, 0, 0], title='Cinderella (1950)'),\n",
       " Row(date='01-Jan-1964', id=419, link='http://us.imdb.com/M/title-exact?Mary%20Poppins%20(1964)', rating=[0, 0, 0, 0, 1, 1, 0, 0, 0, 0, 0, 0, 1, 0, 0, 0, 0, 0, 0], title='Mary Poppins (1964)'),\n",
       " Row(date='01-Jan-1951', id=420, link='http://us.imdb.com/M/title-exact?Alice%20in%20Wonderland%20(1951)', rating=[0, 0, 0, 1, 1, 0, 0, 0, 0, 0, 0, 0, 1, 0, 0, 0, 0, 0, 0], title='Alice in Wonderland (1951)'),\n",
       " Row(date='25-Oct-1996', id=421, link='http://us.imdb.com/Title?Romeo+%2B+Juliet+(1996)', rating=[0, 0, 0, 0, 0, 0, 0, 0, 1, 0, 0, 0, 0, 0, 1, 0, 0, 0, 0], title=\"William Shakespeare's Romeo and Juliet (1996)\"),\n",
       " Row(date='01-Jan-1996', id=422, link='http://us.imdb.com/M/title-exact?Aladdin%20and%20the%20King%20of%20Thieves%20(1996)%20(V)', rating=[0, 0, 0, 1, 1, 1, 0, 0, 0, 0, 0, 0, 0, 0, 0, 0, 0, 0, 0], title='Aladdin and the King of Thieves (1996)'),\n",
       " Row(date='01-Jan-1982', id=423, link='http://us.imdb.com/M/title-exact?E%2ET%2E%20the%20Extra-Terrestrial%20%281982%29', rating=[0, 0, 0, 0, 1, 0, 0, 0, 1, 1, 0, 0, 0, 0, 0, 1, 0, 0, 0], title='E.T. the Extra-Terrestrial (1982)'),\n",
       " Row(date='01-Jan-1996', id=424, link='http://us.imdb.com/M/title-exact?Children%20of%20the%20Corn%3A%20The%20Gathering%20%281996%29', rating=[0, 0, 0, 0, 0, 0, 0, 0, 0, 0, 0, 1, 0, 0, 0, 0, 0, 0, 0], title='Children of the Corn: The Gathering (1996)'),\n",
       " Row(date='01-Jan-1992', id=425, link='http://us.imdb.com/M/title-exact?Bob%20Roberts%20(1992)', rating=[0, 0, 0, 0, 0, 1, 0, 0, 0, 0, 0, 0, 0, 0, 0, 0, 0, 0, 0], title='Bob Roberts (1992)'),\n",
       " Row(date='01-Jan-1986', id=426, link='http://us.imdb.com/M/title-exact?Transformers:%20The%20Movie,%20The%20(1986)', rating=[0, 1, 0, 1, 1, 0, 0, 0, 0, 0, 0, 0, 0, 0, 0, 1, 1, 1, 0], title='Transformers: The Movie, The (1986)'),\n",
       " Row(date='01-Jan-1962', id=427, link='http://us.imdb.com/M/title-exact?To%20Kill%20a%20Mockingbird%20(1962)', rating=[0, 0, 0, 0, 0, 0, 0, 0, 1, 0, 0, 0, 0, 0, 0, 0, 0, 0, 0], title='To Kill a Mockingbird (1962)'),\n",
       " Row(date='01-Jan-1971', id=428, link='http://us.imdb.com/M/title-exact?Harold%20and%20Maude%20(1971)', rating=[0, 0, 0, 0, 0, 1, 0, 0, 0, 0, 0, 0, 0, 0, 0, 0, 0, 0, 0], title='Harold and Maude (1971)'),\n",
       " Row(date='01-Jan-1951', id=429, link='http://us.imdb.com/M/title-exact?Day%20the%20Earth%20Stood%20Still,%20The%20(1951)', rating=[0, 0, 0, 0, 0, 0, 0, 0, 1, 0, 0, 0, 0, 0, 0, 1, 0, 0, 0], title='Day the Earth Stood Still, The (1951)'),\n",
       " Row(date='01-Jan-1933', id=430, link='http://us.imdb.com/M/title-exact?Duck%20Soup%20(1933)', rating=[0, 0, 0, 0, 0, 1, 0, 0, 0, 0, 0, 0, 0, 0, 0, 0, 0, 1, 0], title='Duck Soup (1933)'),\n",
       " Row(date='01-Jan-1986', id=431, link='http://us.imdb.com/M/title-exact?Highlander%20(1986)', rating=[0, 1, 1, 0, 0, 0, 0, 0, 0, 0, 0, 0, 0, 0, 0, 0, 0, 0, 0], title='Highlander (1986)'),\n",
       " Row(date='01-Jan-1940', id=432, link='http://us.imdb.com/M/title-exact?Fantasia%20(1940)', rating=[0, 0, 0, 1, 1, 0, 0, 0, 0, 0, 0, 0, 1, 0, 0, 0, 0, 0, 0], title='Fantasia (1940)'),\n",
       " Row(date='01-Jan-1989', id=433, link='http://us.imdb.com/M/title-exact?Heathers%20(1989)', rating=[0, 0, 0, 0, 0, 1, 0, 0, 0, 0, 0, 0, 0, 0, 0, 0, 0, 0, 0], title='Heathers (1989)'),\n",
       " Row(date='01-Jan-1956', id=434, link='http://us.imdb.com/M/title-exact?Forbidden%20Planet%20(1956)', rating=[0, 0, 0, 0, 0, 0, 0, 0, 0, 0, 0, 0, 0, 0, 0, 1, 0, 0, 0], title='Forbidden Planet (1956)'),\n",
       " Row(date='01-Jan-1969', id=435, link='http://us.imdb.com/M/title-exact?Butch%20Cassidy%20and%20the%20Sundance%20Kid%20(1969)', rating=[0, 1, 0, 0, 0, 1, 0, 0, 0, 0, 0, 0, 0, 0, 0, 0, 0, 0, 1], title='Butch Cassidy and the Sundance Kid (1969)'),\n",
       " Row(date='01-Jan-1981', id=436, link='http://us.imdb.com/M/title-exact?American%20Werewolf%20in%20London,%20An%20(1981)', rating=[0, 0, 0, 0, 0, 0, 0, 0, 0, 0, 0, 1, 0, 0, 0, 0, 0, 0, 0], title='American Werewolf in London, An (1981)'),\n",
       " Row(date='01-Jan-1992', id=437, link=\"http://us.imdb.com/M/title-exact?Amityville%201992:%20It's%20About%20Time%20(1992)\", rating=[0, 0, 0, 0, 0, 0, 0, 0, 0, 0, 0, 1, 0, 0, 0, 0, 0, 0, 0], title=\"Amityville 1992: It's About Time (1992)\"),\n",
       " Row(date='01-Jan-1983', id=438, link='http://us.imdb.com/M/title-exact?Amityville%203-D%20(1983)', rating=[0, 0, 0, 0, 0, 0, 0, 0, 0, 0, 0, 1, 0, 0, 0, 0, 0, 0, 0], title='Amityville 3-D (1983)'),\n",
       " Row(date='01-Jan-1993', id=439, link='http://us.imdb.com/M/title-exact?Amityville:%20A%20New%20Generation%20(1993)', rating=[0, 0, 0, 0, 0, 0, 0, 0, 0, 0, 0, 1, 0, 0, 0, 0, 0, 0, 0], title='Amityville: A New Generation (1993)'),\n",
       " Row(date='01-Jan-1982', id=440, link='http://us.imdb.com/M/title-exact?Amityville%20II:%20The%20Possession%20(1982)', rating=[0, 0, 0, 0, 0, 0, 0, 0, 0, 0, 0, 1, 0, 0, 0, 0, 0, 0, 0], title='Amityville II: The Possession (1982)'),\n",
       " Row(date='01-Jan-1979', id=441, link='http://us.imdb.com/M/title-exact?Amityville%20Horror,%20The%20(1979)', rating=[0, 0, 0, 0, 0, 0, 0, 0, 0, 0, 0, 1, 0, 0, 0, 0, 0, 0, 0], title='Amityville Horror, The (1979)'),\n",
       " Row(date='01-Jan-1990', id=442, link='http://us.imdb.com/M/title-exact?Amityville%20Curse,%20The%20(1990)', rating=[0, 0, 0, 0, 0, 0, 0, 0, 0, 0, 0, 1, 0, 0, 0, 0, 0, 0, 0], title='Amityville Curse, The (1990)'),\n",
       " Row(date='01-Jan-1963', id=443, link='http://us.imdb.com/M/title-exact?Birds,%20The%20(1963)', rating=[0, 0, 0, 0, 0, 0, 0, 0, 0, 0, 0, 1, 0, 0, 0, 0, 0, 0, 0], title='Birds, The (1963)'),\n",
       " Row(date='01-Jan-1958', id=444, link='http://us.imdb.com/M/title-exact?Blob,%20The%20(1958)', rating=[0, 0, 0, 0, 0, 0, 0, 0, 0, 0, 0, 1, 0, 0, 0, 1, 0, 0, 0], title='Blob, The (1958)'),\n",
       " Row(date='01-Jan-1945', id=445, link='http://us.imdb.com/M/title-exact?Body%20Snatcher,%20The%20(1945)', rating=[0, 0, 0, 0, 0, 0, 0, 0, 0, 0, 0, 1, 0, 0, 0, 0, 0, 0, 0], title='Body Snatcher, The (1945)'),\n",
       " Row(date='01-Jan-1976', id=446, link='http://us.imdb.com/M/title-exact?Burnt%20Offerings%20(1976)', rating=[0, 0, 0, 0, 0, 0, 0, 0, 0, 0, 0, 1, 0, 0, 0, 0, 0, 0, 0], title='Burnt Offerings (1976)'),\n",
       " Row(date='01-Jan-1976', id=447, link='http://us.imdb.com/M/title-exact?Carrie%20(1976)', rating=[0, 0, 0, 0, 0, 0, 0, 0, 0, 0, 0, 1, 0, 0, 0, 0, 0, 0, 0], title='Carrie (1976)'),\n",
       " Row(date='01-Jan-1976', id=448, link='http://us.imdb.com/M/title-exact?Omen,%20The%20(1976)', rating=[0, 0, 0, 0, 0, 0, 0, 0, 0, 0, 0, 1, 0, 0, 0, 0, 0, 0, 0], title='Omen, The (1976)'),\n",
       " Row(date='01-Jan-1979', id=449, link='http://us.imdb.com/M/title-exact?Star%20Trek:%20The%20Motion%20Picture%20(1979)', rating=[0, 1, 1, 0, 0, 0, 0, 0, 0, 0, 0, 0, 0, 0, 0, 1, 0, 0, 0], title='Star Trek: The Motion Picture (1979)'),\n",
       " Row(date='01-Jan-1989', id=450, link='http://us.imdb.com/M/title-exact?Star%20Trek%20V:%20The%20Final%20Frontier%20(1989)', rating=[0, 1, 1, 0, 0, 0, 0, 0, 0, 0, 0, 0, 0, 0, 0, 1, 0, 0, 0], title='Star Trek V: The Final Frontier (1989)'),\n",
       " Row(date='01-Jan-1978', id=451, link='http://us.imdb.com/M/title-exact?Grease%20(1978)', rating=[0, 0, 0, 0, 0, 1, 0, 0, 0, 0, 0, 0, 1, 0, 1, 0, 0, 0, 0], title='Grease (1978)'),\n",
       " Row(date='01-Jan-1978', id=452, link='http://us.imdb.com/M/title-exact?Jaws%202%20(1978)', rating=[0, 1, 0, 0, 0, 0, 0, 0, 0, 0, 0, 1, 0, 0, 0, 0, 0, 0, 0], title='Jaws 2 (1978)'),\n",
       " Row(date='01-Jan-1983', id=453, link='http://us.imdb.com/M/title-exact?Jaws%203-D%20(1983)', rating=[0, 1, 0, 0, 0, 0, 0, 0, 0, 0, 0, 1, 0, 0, 0, 0, 0, 0, 0], title='Jaws 3-D (1983)'),\n",
       " Row(date='15-Dec-1996', id=454, link='http://us.imdb.com/M/title-exact?Bastard%20Out%20of%20Carolina%20(1996)', rating=[0, 0, 0, 0, 0, 0, 0, 0, 1, 0, 0, 0, 0, 0, 0, 0, 0, 0, 0], title='Bastard Out of Carolina (1996)'),\n",
       " Row(date='10-Jan-1997', id=455, link='http://us.imdb.com/M/title-exact?Police%20Story%204:%20First%20Strike%20(1996)', rating=[0, 1, 0, 0, 0, 0, 0, 0, 0, 0, 0, 0, 0, 0, 0, 0, 0, 0, 0], title=\"Jackie Chan's First Strike (1996)\"),\n",
       " Row(date='17-Jan-1997', id=456, link='http://us.imdb.com/M/title-exact?Beverly%20Hills%20Ninja%20(1997)', rating=[0, 1, 0, 0, 0, 1, 0, 0, 0, 0, 0, 0, 0, 0, 0, 0, 0, 0, 0], title='Beverly Hills Ninja (1997)'),\n",
       " Row(date='08-Aug-1997', id=457, link='http://us.imdb.com/M/title-exact?Free+Willy+3%3A+The+Rescue+(1997)', rating=[0, 0, 1, 0, 1, 0, 0, 0, 1, 0, 0, 0, 0, 0, 0, 0, 0, 0, 0], title='Free Willy 3: The Rescue (1997)'),\n",
       " Row(date='01-Jan-1995', id=458, link='http://us.imdb.com/M/title-exact?Nixon%20(1995)', rating=[0, 0, 0, 0, 0, 0, 0, 0, 1, 0, 0, 0, 0, 0, 0, 0, 0, 0, 0], title='Nixon (1995)'),\n",
       " Row(date='01-Jan-1995', id=459, link='http://us.imdb.com/M/title-exact?Cry,%20the%20Beloved%20Country%20(1995)', rating=[0, 0, 0, 0, 0, 0, 0, 0, 1, 0, 0, 0, 0, 0, 0, 0, 0, 0, 0], title='Cry, the Beloved Country (1995)'),\n",
       " Row(date='01-Jan-1995', id=460, link='http://us.imdb.com/M/title-exact?Crossing%20Guard,%20The%20(1995)', rating=[0, 0, 0, 0, 0, 0, 0, 0, 1, 0, 0, 0, 0, 0, 0, 0, 0, 0, 0], title='Crossing Guard, The (1995)'),\n",
       " Row(date='01-Jan-1995', id=461, link='http://us.imdb.com/M/title-exact?Smoke%20(1995)', rating=[0, 0, 0, 0, 0, 0, 0, 0, 1, 0, 0, 0, 0, 0, 0, 0, 0, 0, 0], title='Smoke (1995)'),\n",
       " Row(date='01-Jan-1992', id=462, link='http://us.imdb.com/M/title-exact?Como%20agua%20para%20chocolate%20(1992)', rating=[0, 0, 0, 0, 0, 0, 0, 0, 1, 0, 0, 0, 0, 0, 1, 0, 0, 0, 0], title='Like Water For Chocolate (Como agua para chocolate) (1992)'),\n",
       " Row(date='01-Jan-1994', id=463, link='http://us.imdb.com/M/title-exact?Secret%20of%20Roan%20Inish,%20The%20(1994)', rating=[0, 0, 1, 0, 0, 0, 0, 0, 0, 0, 0, 0, 0, 0, 0, 0, 0, 0, 0], title='Secret of Roan Inish, The (1994)'),\n",
       " Row(date='01-Jan-1994', id=464, link='http://us.imdb.com/M/title-exact?Vanya%20on%2042nd%20Street%20(1994)', rating=[0, 0, 0, 0, 0, 0, 0, 0, 1, 0, 0, 0, 0, 0, 0, 0, 0, 0, 0], title='Vanya on 42nd Street (1994)'),\n",
       " Row(date='01-Jan-1994', id=465, link='http://us.imdb.com/M/title-exact?Jungle%20Book,%20The%20(1994)', rating=[0, 0, 1, 0, 1, 0, 0, 0, 0, 0, 0, 0, 0, 0, 1, 0, 0, 0, 0], title='Jungle Book, The (1994)'),\n",
       " Row(date='01-Jan-1992', id=466, link='http://us.imdb.com/M/title-exact?Red%20Rock%20West%20(1992)', rating=[0, 0, 0, 0, 0, 0, 0, 0, 0, 0, 0, 0, 0, 0, 0, 0, 1, 0, 0], title='Red Rock West (1992)'),\n",
       " Row(date='01-Jan-1993', id=467, link='http://us.imdb.com/M/title-exact?Bronx%20Tale,%20A%20(1993)', rating=[0, 0, 0, 0, 0, 0, 0, 0, 1, 0, 0, 0, 0, 0, 0, 0, 0, 0, 0], title='Bronx Tale, A (1993)'),\n",
       " Row(date='01-Jan-1993', id=468, link='http://us.imdb.com/M/title-exact?Rudy%20(1993)', rating=[0, 0, 0, 0, 0, 0, 0, 0, 1, 0, 0, 0, 0, 0, 0, 0, 0, 0, 0], title='Rudy (1993)'),\n",
       " Row(date='01-Jan-1993', id=469, link='http://us.imdb.com/M/title-exact?Short%20Cuts%20(1993)', rating=[0, 0, 0, 0, 0, 0, 0, 0, 1, 0, 0, 0, 0, 0, 0, 0, 0, 0, 0], title='Short Cuts (1993)'),\n",
       " Row(date='01-Jan-1993', id=470, link='http://us.imdb.com/M/title-exact?Tombstone%20(1993)', rating=[0, 0, 0, 0, 0, 0, 0, 0, 0, 0, 0, 0, 0, 0, 0, 0, 0, 0, 1], title='Tombstone (1993)'),\n",
       " Row(date='08-Mar-1996', id=471, link='http://us.imdb.com/M/title-exact?Courage%20Under%20Fire%20(1996)', rating=[0, 0, 0, 0, 0, 0, 0, 0, 1, 0, 0, 0, 0, 0, 0, 0, 0, 1, 0], title='Courage Under Fire (1996)'),\n",
       " Row(date='31-May-1996', id=472, link='http://us.imdb.com/M/title-exact?Dragonheart%20(1996)', rating=[0, 1, 1, 0, 0, 0, 0, 0, 0, 1, 0, 0, 0, 0, 0, 0, 0, 0, 0], title='Dragonheart (1996)'),\n",
       " Row(date='12-Apr-1996', id=473, link='http://us.imdb.com/M/title-exact?James%20and%20the%20Giant%20Peach%20(1996)', rating=[0, 0, 0, 1, 1, 0, 0, 0, 0, 0, 0, 0, 1, 0, 0, 0, 0, 0, 0], title='James and the Giant Peach (1996)'),\n",
       " Row(date='01-Jan-1963', id=474, link='http://us.imdb.com/M/title-exact?Dr.%20Strangelove%20or:%20How%20I%20Learned%20to%20Stop%20Worrying%20and%20Love%20the%20Bomb%20(1963)', rating=[0, 0, 0, 0, 0, 0, 0, 0, 0, 0, 0, 0, 0, 0, 0, 1, 0, 1, 0], title='Dr. Strangelove or: How I Learned to Stop Worrying and Love the Bomb (1963)'),\n",
       " Row(date='19-Jul-1996', id=475, link='http://us.imdb.com/Title?Trainspotting+(1996)', rating=[0, 0, 0, 0, 0, 0, 0, 0, 1, 0, 0, 0, 0, 0, 0, 0, 0, 0, 0], title='Trainspotting (1996)'),\n",
       " Row(date='14-Sep-1996', id=476, link='http://us.imdb.com/M/title-exact?First%20Wives%20Club,%20The%20(1996)', rating=[0, 0, 0, 0, 0, 1, 0, 0, 0, 0, 0, 0, 0, 0, 0, 0, 0, 0, 0], title='First Wives Club, The (1996)'),\n",
       " Row(date='02-Aug-1996', id=477, link='http://us.imdb.com/M/title-exact?Matilda%20(1996)', rating=[0, 0, 0, 0, 1, 1, 0, 0, 0, 0, 0, 0, 0, 0, 0, 0, 0, 0, 0], title='Matilda (1996)'),\n",
       " Row(date='01-Jan-1940', id=478, link='http://us.imdb.com/M/title-exact?Philadelphia%20Story,%20The%20(1940)', rating=[0, 0, 0, 0, 0, 1, 0, 0, 0, 0, 0, 0, 0, 0, 1, 0, 0, 0, 0], title='Philadelphia Story, The (1940)'),\n",
       " Row(date='01-Jan-1958', id=479, link='http://us.imdb.com/M/title-exact?Vertigo%20(1958)', rating=[0, 0, 0, 0, 0, 0, 0, 0, 0, 0, 0, 0, 0, 1, 0, 0, 1, 0, 0], title='Vertigo (1958)'),\n",
       " Row(date='01-Jan-1959', id=480, link='http://us.imdb.com/M/title-exact?North%20by%20Northwest%20(1959)', rating=[0, 0, 0, 0, 0, 1, 0, 0, 0, 0, 0, 0, 0, 0, 0, 0, 1, 0, 0], title='North by Northwest (1959)'),\n",
       " Row(date='01-Jan-1960', id=481, link='http://us.imdb.com/M/title-exact?Apartment,%20The%20(1960)', rating=[0, 0, 0, 0, 0, 1, 0, 0, 1, 0, 0, 0, 0, 0, 0, 0, 0, 0, 0], title='Apartment, The (1960)'),\n",
       " Row(date='01-Jan-1959', id=482, link='http://us.imdb.com/M/title-exact?Some%20Like%20It%20Hot%20(1959)', rating=[0, 0, 0, 0, 0, 1, 1, 0, 0, 0, 0, 0, 0, 0, 0, 0, 0, 0, 0], title='Some Like It Hot (1959)'),\n",
       " Row(date='01-Jan-1942', id=483, link='http://us.imdb.com/M/title-exact?Casablanca%20(1942)', rating=[0, 0, 0, 0, 0, 0, 0, 0, 1, 0, 0, 0, 0, 0, 1, 0, 0, 1, 0], title='Casablanca (1942)'),\n",
       " Row(date='01-Jan-1941', id=484, link='http://us.imdb.com/M/title-exact?Maltese%20Falcon,%20The%20(1941)', rating=[0, 0, 0, 0, 0, 0, 0, 0, 0, 0, 1, 0, 0, 1, 0, 0, 0, 0, 0], title='Maltese Falcon, The (1941)'),\n",
       " Row(date='01-Jan-1964', id=485, link='http://us.imdb.com/M/title-exact?My%20Fair%20Lady%20(1964)', rating=[0, 0, 0, 0, 0, 0, 0, 0, 0, 0, 0, 0, 1, 0, 1, 0, 0, 0, 0], title='My Fair Lady (1964)'),\n",
       " Row(date='01-Jan-1954', id=486, link='http://us.imdb.com/M/title-exact?Sabrina%20(1954)', rating=[0, 0, 0, 0, 0, 1, 0, 0, 0, 0, 0, 0, 0, 0, 1, 0, 0, 0, 0], title='Sabrina (1954)'),\n",
       " Row(date='01-Jan-1953', id=487, link='http://us.imdb.com/M/title-exact?Roman%20Holiday%20(1953)', rating=[0, 0, 0, 0, 0, 1, 0, 0, 0, 0, 0, 0, 0, 0, 1, 0, 0, 0, 0], title='Roman Holiday (1953)'),\n",
       " Row(date='01-Jan-1950', id=488, link='http://us.imdb.com/M/title-exact?Sunset%20Boulevard%20(1950)', rating=[0, 0, 0, 0, 0, 0, 0, 0, 0, 0, 1, 0, 0, 0, 0, 0, 0, 0, 0], title='Sunset Blvd. (1950)'),\n",
       " Row(date='01-Jan-1946', id=489, link='http://us.imdb.com/M/title-exact?Notorious%20(1946)', rating=[0, 0, 0, 0, 0, 0, 0, 0, 0, 0, 1, 0, 0, 0, 1, 0, 1, 0, 0], title='Notorious (1946)'),\n",
       " Row(date='01-Jan-1955', id=490, link='http://us.imdb.com/M/title-exact?To%20Catch%20a%20Thief%20(1955)', rating=[0, 0, 0, 0, 0, 1, 0, 0, 0, 0, 0, 0, 0, 0, 1, 0, 1, 0, 0], title='To Catch a Thief (1955)'),\n",
       " Row(date='01-Jan-1938', id=491, link='http://us.imdb.com/M/title-exact?Adventures%20of%20Robin%20Hood,%20The%20(1938)', rating=[0, 1, 1, 0, 0, 0, 0, 0, 0, 0, 0, 0, 0, 0, 0, 0, 0, 0, 0], title='Adventures of Robin Hood, The (1938)'),\n",
       " Row(date='01-Jan-1955', id=492, link='http://us.imdb.com/M/title-exact?East%20of%20Eden%20(1955)', rating=[0, 0, 0, 0, 0, 0, 0, 0, 1, 0, 0, 0, 0, 0, 0, 0, 0, 0, 0], title='East of Eden (1955)'),\n",
       " Row(date='01-Jan-1934', id=493, link='http://us.imdb.com/M/title-exact?Thin%20Man,%20The%20(1934)', rating=[0, 0, 0, 0, 0, 0, 0, 0, 0, 0, 0, 0, 0, 1, 0, 0, 0, 0, 0], title='Thin Man, The (1934)'),\n",
       " Row(date='01-Jan-1940', id=494, link='http://us.imdb.com/M/title-exact?His%20Girl%20Friday%20(1940)', rating=[0, 0, 0, 0, 0, 1, 0, 0, 0, 0, 0, 0, 0, 0, 0, 0, 0, 0, 0], title='His Girl Friday (1940)'),\n",
       " Row(date='01-Jan-1956', id=495, link='http://us.imdb.com/M/title-exact?Around%20the%20World%20in%2080%20Days%20(1956)', rating=[0, 0, 1, 0, 0, 1, 0, 0, 0, 0, 0, 0, 0, 0, 0, 0, 0, 0, 0], title='Around the World in 80 Days (1956)'),\n",
       " Row(date='01-Jan-1946', id=496, link=\"http://us.imdb.com/M/title-exact?It's%20a%20Wonderful%20Life%20(1946)\", rating=[0, 0, 0, 0, 0, 0, 0, 0, 1, 0, 0, 0, 0, 0, 0, 0, 0, 0, 0], title=\"It's a Wonderful Life (1946)\"),\n",
       " Row(date='01-Jan-1938', id=497, link='http://us.imdb.com/M/title-exact?Bringing%20Up%20Baby%20(1938)', rating=[0, 0, 0, 0, 0, 1, 0, 0, 0, 0, 0, 0, 0, 0, 0, 0, 0, 0, 0], title='Bringing Up Baby (1938)'),\n",
       " Row(date='01-Jan-1951', id=498, link='http://us.imdb.com/M/title-exact?African%20Queen,%20The%20(1951)', rating=[0, 1, 1, 0, 0, 0, 0, 0, 0, 0, 0, 0, 0, 0, 1, 0, 0, 1, 0], title='African Queen, The (1951)'),\n",
       " Row(date='01-Jan-1958', id=499, link='http://us.imdb.com/M/title-exact?Cat%20on%20a%20Hot%20Tin%20Roof%20(1958)', rating=[0, 0, 0, 0, 0, 0, 0, 0, 1, 0, 0, 0, 0, 0, 0, 0, 0, 0, 0], title='Cat on a Hot Tin Roof (1958)'),\n",
       " Row(date='13-Sep-1996', id=500, link='http://us.imdb.com/M/title-exact?Fly%20Away%20Home%20(1996)', rating=[0, 0, 1, 0, 1, 0, 0, 0, 0, 0, 0, 0, 0, 0, 0, 0, 0, 0, 0], title='Fly Away Home (1996)'),\n",
       " Row(date='01-Jan-1941', id=501, link='http://us.imdb.com/M/title-exact?Dumbo%20(1941)', rating=[0, 0, 0, 1, 1, 0, 0, 0, 0, 0, 0, 0, 1, 0, 0, 0, 0, 0, 0], title='Dumbo (1941)'),\n",
       " Row(date='01-Jan-1971', id=502, link='http://us.imdb.com/M/title-exact?Bananas%20(1971)', rating=[0, 0, 0, 0, 0, 1, 0, 0, 0, 0, 0, 0, 0, 0, 0, 0, 0, 1, 0], title='Bananas (1971)'),\n",
       " Row(date='01-Jan-1972', id=503, link='http://us.imdb.com/M/title-exact?Candidate,%20The%20(1972)', rating=[0, 0, 0, 0, 0, 0, 0, 0, 1, 0, 0, 0, 0, 0, 0, 0, 0, 0, 0], title='Candidate, The (1972)'),\n",
       " Row(date='01-Jan-1967', id=504, link='http://us.imdb.com/M/title-exact?Bonnie%20and%20Clyde%20(1967)', rating=[0, 0, 0, 0, 0, 0, 1, 0, 1, 0, 0, 0, 0, 0, 0, 0, 0, 0, 0], title='Bonnie and Clyde (1967)'),\n",
       " Row(date='01-Jan-1954', id=505, link='http://us.imdb.com/M/title-exact?Dial%20M%20for%20Murder%20(1954)', rating=[0, 0, 0, 0, 0, 0, 0, 0, 0, 0, 0, 0, 0, 1, 0, 0, 1, 0, 0], title='Dial M for Murder (1954)'),\n",
       " Row(date='01-Jan-1955', id=506, link='http://us.imdb.com/M/title-exact?Rebel%20Without%20a%20Cause%20(1955)', rating=[0, 0, 0, 0, 0, 0, 0, 0, 1, 0, 0, 0, 0, 0, 0, 0, 0, 0, 0], title='Rebel Without a Cause (1955)'),\n",
       " Row(date='01-Jan-1951', id=507, link='http://us.imdb.com/M/title-exact?Streetcar%20Named%20Desire,%20A%20(1951)', rating=[0, 0, 0, 0, 0, 0, 0, 0, 1, 0, 0, 0, 0, 0, 0, 0, 0, 0, 0], title='Streetcar Named Desire, A (1951)'),\n",
       " Row(date='27-Dec-1996', id=508, link='http://us.imdb.com/M/title-exact?People%20vs.%20Larry%20Flynt,%20The%20(1996)', rating=[0, 0, 0, 0, 0, 0, 0, 0, 1, 0, 0, 0, 0, 0, 0, 0, 0, 0, 0], title='People vs. Larry Flynt, The (1996)'),\n",
       " Row(date='01-Jan-1989', id=509, link='http://us.imdb.com/M/title-exact?My%20Left%20Foot%20(1989)', rating=[0, 0, 0, 0, 0, 0, 0, 0, 1, 0, 0, 0, 0, 0, 0, 0, 0, 0, 0], title='My Left Foot (1989)'),\n",
       " Row(date='01-Jan-1954', id=510, link='http://us.imdb.com/M/title-exact?Shichinin%20no%20samurai%20(1954)', rating=[0, 1, 0, 0, 0, 0, 0, 0, 1, 0, 0, 0, 0, 0, 0, 0, 0, 0, 1], title='Magnificent Seven, The (1954)'),\n",
       " Row(date='01-Jan-1962', id=511, link='http://us.imdb.com/M/title-exact?Lawrence%20of%20Arabia%20(1962)', rating=[0, 0, 1, 0, 0, 0, 0, 0, 0, 0, 0, 0, 0, 0, 0, 0, 0, 1, 0], title='Lawrence of Arabia (1962)'),\n",
       " Row(date='01-Jan-1987', id=512, link='http://us.imdb.com/Title?Himmel+%FCber+Berlin,+Der+(1987)', rating=[0, 0, 0, 0, 0, 1, 0, 0, 1, 0, 0, 0, 0, 0, 1, 0, 0, 0, 0], title='Wings of Desire (1987)'),\n",
       " Row(date='01-Jan-1949', id=513, link='http://us.imdb.com/M/title-exact?Third%20Man,%20The%20(1949)', rating=[0, 0, 0, 0, 0, 0, 0, 0, 0, 0, 0, 0, 0, 1, 0, 0, 1, 0, 0], title='Third Man, The (1949)'),\n",
       " Row(date='01-Jan-1977', id=514, link='http://us.imdb.com/M/title-exact?Annie%20Hall%20(1977)', rating=[0, 0, 0, 0, 0, 1, 0, 0, 0, 0, 0, 0, 0, 0, 1, 0, 0, 0, 0], title='Annie Hall (1977)'),\n",
       " Row(date='04-Apr-1997', id=515, link='http://us.imdb.com/M/title-exact?Boot,%20Das%20(1981)', rating=[0, 1, 0, 0, 0, 0, 0, 0, 1, 0, 0, 0, 0, 0, 0, 0, 0, 1, 0], title='Boot, Das (1981)'),\n",
       " Row(date='01-Jan-1983', id=516, link='http://us.imdb.com/M/title-exact?Local%20Hero%20(1983)', rating=[0, 0, 0, 0, 0, 1, 0, 0, 0, 0, 0, 0, 0, 0, 0, 0, 0, 0, 0], title='Local Hero (1983)'),\n",
       " Row(date='01-Jan-1979', id=517, link='http://us.imdb.com/M/title-exact?Manhattan%20(1979)', rating=[0, 0, 0, 0, 0, 1, 0, 0, 1, 0, 0, 0, 0, 0, 1, 0, 0, 0, 0], title='Manhattan (1979)'),\n",
       " Row(date='01-Jan-1990', id=518, link=\"http://us.imdb.com/M/title-exact?Miller's%20Crossing%20(1990)\", rating=[0, 0, 0, 0, 0, 0, 0, 0, 1, 0, 0, 0, 0, 0, 0, 0, 0, 0, 0], title=\"Miller's Crossing (1990)\"),\n",
       " Row(date='01-Jan-1948', id=519, link='http://us.imdb.com/M/title-exact?Treasure%20of%20the%20Sierra%20Madre,%20The%20(1948)', rating=[0, 0, 1, 0, 0, 0, 0, 0, 0, 0, 0, 0, 0, 0, 0, 0, 0, 0, 0], title='Treasure of the Sierra Madre, The (1948)'),\n",
       " Row(date='01-Jan-1963', id=520, link='http://us.imdb.com/M/title-exact?Great%20Escape,%20The%20(1963)', rating=[0, 0, 1, 0, 0, 0, 0, 0, 0, 0, 0, 0, 0, 0, 0, 0, 0, 1, 0], title='Great Escape, The (1963)'),\n",
       " Row(date='01-Jan-1978', id=521, link='http://us.imdb.com/M/title-exact?Deer%20Hunter,%20The%20(1978)', rating=[0, 0, 0, 0, 0, 0, 0, 0, 1, 0, 0, 0, 0, 0, 0, 0, 0, 1, 0], title='Deer Hunter, The (1978)'),\n",
       " Row(date='01-Jan-1986', id=522, link='http://us.imdb.com/M/title-exact?Down%20by%20Law%20(1986)', rating=[0, 0, 0, 0, 0, 1, 0, 0, 1, 0, 0, 0, 0, 0, 0, 0, 0, 0, 0], title='Down by Law (1986)'),\n",
       " Row(date='01-Jan-1967', id=523, link='http://us.imdb.com/M/title-exact?Cool%20Hand%20Luke%20(1967)', rating=[0, 0, 0, 0, 0, 1, 0, 0, 1, 0, 0, 0, 0, 0, 0, 0, 0, 0, 0], title='Cool Hand Luke (1967)'),\n",
       " Row(date='01-Jan-1940', id=524, link='http://us.imdb.com/M/title-exact?Great%20Dictator,%20The%20(1940)', rating=[0, 0, 0, 0, 0, 1, 0, 0, 0, 0, 0, 0, 0, 0, 0, 0, 0, 0, 0], title='Great Dictator, The (1940)'),\n",
       " Row(date='01-Jan-1946', id=525, link='http://us.imdb.com/M/title-exact?Big%20Sleep,%20The%20(1946)', rating=[0, 0, 0, 0, 0, 0, 0, 0, 0, 0, 1, 0, 0, 1, 0, 0, 0, 0, 0], title='Big Sleep, The (1946)'),\n",
       " Row(date='01-Jan-1959', id=526, link='http://us.imdb.com/M/title-exact?Ben-Hur%20(1959)', rating=[0, 1, 1, 0, 0, 0, 0, 0, 1, 0, 0, 0, 0, 0, 0, 0, 0, 0, 0], title='Ben-Hur (1959)'),\n",
       " Row(date='01-Jan-1982', id=527, link='http://us.imdb.com/M/title-exact?Gandhi%20(1982)', rating=[0, 0, 0, 0, 0, 0, 0, 0, 1, 0, 0, 0, 0, 0, 0, 0, 0, 0, 0], title='Gandhi (1982)'),\n",
       " Row(date='01-Jan-1984', id=528, link='http://us.imdb.com/M/title-exact?Killing%20Fields,%20The%20(1984)', rating=[0, 0, 0, 0, 0, 0, 0, 0, 1, 0, 0, 0, 0, 0, 0, 0, 0, 1, 0], title='Killing Fields, The (1984)'),\n",
       " Row(date='01-Jan-1985', id=529, link='http://us.imdb.com/M/title-exact?Mitt%20liv%20som%20hund%20(1985)', rating=[0, 0, 0, 0, 0, 0, 0, 0, 1, 0, 0, 0, 0, 0, 0, 0, 0, 0, 0], title='My Life as a Dog (Mitt liv som hund) (1985)'),\n",
       " Row(date='01-Jan-1975', id=530, link='http://us.imdb.com/M/title-exact?Man%20Who%20Would%20Be%20King,%20The%20(1975)', rating=[0, 0, 1, 0, 0, 0, 0, 0, 0, 0, 0, 0, 0, 0, 0, 0, 0, 0, 0], title='Man Who Would Be King, The (1975)'),\n",
       " Row(date='22-Nov-1996', id=531, link='http://us.imdb.com/M/title-exact?Shine%20(1996)', rating=[0, 0, 0, 0, 0, 0, 0, 0, 1, 0, 0, 0, 0, 0, 1, 0, 0, 0, 0], title='Shine (1996)'),\n",
       " Row(date='07-Mar-1997', id=532, link='http://us.imdb.com/M/title-exact?Kama%20Sutra%20(1996)', rating=[0, 0, 0, 0, 0, 0, 0, 0, 0, 0, 0, 0, 0, 0, 1, 0, 0, 0, 0], title='Kama Sutra: A Tale of Love (1996)'),\n",
       " Row(date='21-Mar-1997', id=533, link='http://us.imdb.com/M/title-exact?Daytrippers%2C%20The%20(1996)', rating=[0, 0, 0, 0, 0, 0, 0, 0, 0, 0, 0, 0, 0, 1, 0, 0, 0, 0, 0], title='Daytrippers, The (1996)'),\n",
       " Row(date='18-Apr-1997', id=534, link='http://us.imdb.com/M/title-exact?Traveller%20%281997%29', rating=[0, 0, 0, 0, 0, 0, 0, 0, 1, 0, 0, 0, 0, 0, 0, 0, 0, 0, 0], title='Traveller (1997)'),\n",
       " Row(date='23-May-1997', id=535, link='http://us.imdb.com/M/title-exact?Addicted%20to%20Love%20%281997%29', rating=[0, 0, 0, 0, 0, 1, 0, 0, 0, 0, 0, 0, 0, 0, 1, 0, 0, 0, 0], title='Addicted to Love (1997)'),\n",
       " Row(date='23-May-1997', id=536, link='http://us.imdb.com/M/title-exact?Ponette%20%281996%29', rating=[0, 0, 0, 0, 0, 0, 0, 0, 1, 0, 0, 0, 0, 0, 0, 0, 0, 0, 0], title='Ponette (1996)'),\n",
       " Row(date='01-Jan-1991', id=537, link='http://us.imdb.com/M/title-exact?My+Own+Private+Idaho+(1991)', rating=[0, 0, 0, 0, 0, 0, 0, 0, 1, 0, 0, 0, 0, 0, 0, 0, 0, 0, 0], title='My Own Private Idaho (1991)'),\n",
       " Row(date='01-Jan-1997', id=538, link='http://us.imdb.com/M/title-exact?Anastasia+(1997)', rating=[0, 0, 0, 1, 1, 0, 0, 0, 0, 0, 0, 0, 1, 0, 0, 0, 0, 0, 0], title='Anastasia (1997)'),\n",
       " Row(date='01-Jan-1997', id=539, link='http://us.imdb.com/M/title-exact?imdb-title-119715', rating=[0, 0, 0, 0, 1, 1, 0, 0, 0, 0, 0, 0, 0, 0, 0, 0, 0, 0, 0], title='Mouse Hunt (1997)'),\n",
       " Row(date='01-Jan-1995', id=540, link='http://us.imdb.com/M/title-exact?Money%20Train%20(1995)', rating=[0, 1, 0, 0, 0, 0, 0, 0, 0, 0, 0, 0, 0, 0, 0, 0, 0, 0, 0], title='Money Train (1995)'),\n",
       " Row(date='01-Jan-1995', id=541, link='http://us.imdb.com/M/title-exact?Mortal%20Kombat%20(1995)', rating=[0, 1, 1, 0, 0, 0, 0, 0, 0, 0, 0, 0, 0, 0, 0, 0, 0, 0, 0], title='Mortal Kombat (1995)'),\n",
       " Row(date='01-Jan-1995', id=542, link='http://us.imdb.com/M/title-exact?Pocahontas%20(1995)', rating=[0, 0, 0, 1, 1, 0, 0, 0, 0, 0, 0, 0, 1, 0, 1, 0, 0, 0, 0], title='Pocahontas (1995)'),\n",
       " Row(date='01-Jan-1995', id=543, link='http://us.imdb.com/M/title-exact?Mis%E9rables%2C%20Les%20%281995%29', rating=[0, 0, 0, 0, 0, 0, 0, 0, 1, 0, 0, 0, 1, 0, 0, 0, 0, 0, 0], title='Mis�rables, Les (1995)'),\n",
       " Row(date='02-Feb-1996', id=544, link=\"http://us.imdb.com/M/title-exact?Things%20to%20Do%20in%20Denver%20when%20You're%20Dead%20(1995)\", rating=[0, 0, 0, 0, 0, 0, 1, 0, 1, 0, 0, 0, 0, 0, 1, 0, 0, 0, 0], title=\"Things to Do in Denver when You're Dead (1995)\"),\n",
       " Row(date='01-Jan-1995', id=545, link='http://us.imdb.com/M/title-exact?Vampire%20in%20Brooklyn%20(1995)', rating=[0, 0, 0, 0, 0, 1, 0, 0, 0, 0, 0, 0, 0, 0, 1, 0, 0, 0, 0], title='Vampire in Brooklyn (1995)'),\n",
       " Row(date='09-Feb-1996', id=546, link='http://us.imdb.com/M/title-exact?Broken%20Arrow%20(1996)', rating=[0, 1, 0, 0, 0, 0, 0, 0, 0, 0, 0, 0, 0, 0, 0, 0, 1, 0, 0], title='Broken Arrow (1996)'),\n",
       " Row(date='23-Feb-1996', id=547, link=\"http://us.imdb.com/M/title-exact?Young%20Poisoner's%20Handbook,%20The%20(1995)\", rating=[0, 0, 0, 0, 0, 0, 1, 0, 0, 0, 0, 0, 0, 0, 0, 0, 0, 0, 0], title=\"Young Poisoner's Handbook, The (1995)\"),\n",
       " Row(date='02-Feb-1996', id=548, link='http://us.imdb.com/M/title-exact?NeverEnding%20Story%20III,%20The%20(1994)', rating=[0, 0, 0, 0, 1, 0, 0, 0, 0, 1, 0, 0, 0, 0, 0, 0, 0, 0, 0], title='NeverEnding Story III, The (1994)'),\n",
       " Row(date='01-Jan-1995', id=549, link='http://us.imdb.com/M/title-exact?Rob%20Roy%20(1995)', rating=[0, 0, 0, 0, 0, 0, 0, 0, 1, 0, 0, 0, 0, 0, 1, 0, 0, 1, 0], title='Rob Roy (1995)'),\n",
       " Row(date='01-Jan-1995', id=550, link='http://us.imdb.com/M/title-exact?Die%20Hard:%20With%20a%20Vengeance%20(1995)', rating=[0, 1, 0, 0, 0, 0, 0, 0, 0, 0, 0, 0, 0, 0, 0, 0, 1, 0, 0], title='Die Hard: With a Vengeance (1995)'),\n",
       " Row(date='01-Jan-1995', id=551, link='http://us.imdb.com/M/title-exact?Lord%20of%20Illusions%20(1995)', rating=[0, 0, 0, 0, 0, 0, 0, 0, 0, 0, 0, 1, 0, 0, 0, 0, 0, 0, 0], title='Lord of Illusions (1995)'),\n",
       " Row(date='01-Jan-1995', id=552, link='http://us.imdb.com/M/title-exact?Species%20(1995)', rating=[0, 0, 0, 0, 0, 0, 0, 0, 0, 0, 0, 0, 0, 0, 0, 1, 0, 0, 0], title='Species (1995)'),\n",
       " Row(date='01-Jan-1995', id=553, link='http://us.imdb.com/M/title-exact?Walk%20in%20the%20Clouds,%20A%20(1995)', rating=[0, 0, 0, 0, 0, 0, 0, 0, 1, 0, 0, 0, 0, 0, 1, 0, 0, 0, 0], title='Walk in the Clouds, A (1995)'),\n",
       " Row(date='01-Jan-1995', id=554, link='http://us.imdb.com/M/title-exact?Waterworld%20(1995)', rating=[0, 1, 1, 0, 0, 0, 0, 0, 0, 0, 0, 0, 0, 0, 0, 0, 0, 0, 0], title='Waterworld (1995)'),\n",
       " Row(date='01-Jan-1995', id=555, link=\"http://us.imdb.com/M/title-exact?White%20Man's%20Burden%20(1995)\", rating=[0, 0, 0, 0, 0, 0, 0, 0, 1, 0, 0, 0, 0, 0, 0, 0, 0, 0, 0], title=\"White Man's Burden (1995)\"),\n",
       " Row(date='01-Jan-1995', id=556, link='http://us.imdb.com/M/title-exact?Wild%20Bill%20(1995)', rating=[0, 0, 0, 0, 0, 0, 0, 0, 0, 0, 0, 0, 0, 0, 0, 0, 0, 0, 1], title='Wild Bill (1995)'),\n",
       " Row(date='01-Jan-1994', id=557, link='http://us.imdb.com/M/title-exact?Farinelli:%20il%20castrato%20(1994)', rating=[0, 0, 0, 0, 0, 0, 0, 0, 1, 0, 0, 0, 1, 0, 0, 0, 0, 0, 0], title='Farinelli: il castrato (1994)'),\n",
       " Row(date='01-Jan-1994', id=558, link='http://us.imdb.com/M/title-exact?Heavenly%20Creatures%20(1994)', rating=[0, 0, 0, 0, 0, 0, 0, 0, 1, 1, 0, 0, 0, 0, 0, 0, 1, 0, 0], title='Heavenly Creatures (1994)'),\n",
       " Row(date='01-Jan-1994', id=559, link='http://us.imdb.com/M/title-exact?Interview%20with%20the%20Vampire%20(1994)', rating=[0, 0, 0, 0, 0, 0, 0, 0, 1, 0, 0, 1, 0, 0, 0, 0, 0, 0, 0], title='Interview with the Vampire (1994)'),\n",
       " Row(date='01-Jan-1995', id=560, link=\"http://us.imdb.com/M/title-exact?Kid%20in%20King%20Arthur's%20Court,%20A%20(1995)\", rating=[0, 0, 1, 0, 1, 1, 0, 0, 0, 1, 0, 0, 0, 0, 1, 1, 0, 0, 0], title=\"Kid in King Arthur's Court, A (1995)\"),\n",
       " Row(date='01-Jan-1994', id=561, link=\"http://us.imdb.com/M/title-exact?Mary%20Shelley's%20Frankenstein%20(1994)\", rating=[0, 0, 0, 0, 0, 0, 0, 0, 1, 0, 0, 1, 0, 0, 0, 0, 0, 0, 0], title=\"Mary Shelley's Frankenstein (1994)\"),\n",
       " Row(date='01-Jan-1995', id=562, link='http://us.imdb.com/M/title-exact?Quick%20and%20the%20Dead,%20The%20(1995)', rating=[0, 1, 1, 0, 0, 0, 0, 0, 0, 0, 0, 0, 0, 0, 0, 0, 0, 0, 1], title='Quick and the Dead, The (1995)'),\n",
       " Row(date='01-Jan-1995', id=563, link='http://us.imdb.com/M/title-exact?%22Langoliers,%20The%22%20(1995)%20(mini)', rating=[0, 0, 0, 0, 0, 0, 0, 0, 0, 0, 0, 1, 0, 0, 0, 0, 0, 0, 0], title=\"Stephen King's The Langoliers (1995)\"),\n",
       " Row(date='01-Jan-1995', id=564, link='http://us.imdb.com/M/title-exact?Tales%20from%20the%20Hood%20(1995)', rating=[0, 0, 0, 0, 0, 1, 0, 0, 0, 0, 0, 1, 0, 0, 0, 0, 0, 0, 0], title='Tales from the Hood (1995)'),\n",
       " Row(date='01-Jan-1995', id=565, link='http://us.imdb.com/M/title-exact?Village%20of%20the%20Damned%20(1995)', rating=[0, 0, 0, 0, 0, 0, 0, 0, 0, 0, 0, 1, 0, 0, 0, 0, 1, 0, 0], title='Village of the Damned (1995)'),\n",
       " Row(date='01-Jan-1994', id=566, link='http://us.imdb.com/M/title-exact?Clear%20and%20Present%20Danger%20(1994)', rating=[0, 1, 1, 0, 0, 0, 0, 0, 0, 0, 0, 0, 0, 0, 0, 0, 1, 0, 0], title='Clear and Present Danger (1994)'),\n",
       " Row(date='01-Jan-1994', id=567, link=\"http://us.imdb.com/M/title-exact?Wes%20Craven's%20New%20Nightmare%20(1994)\", rating=[0, 0, 0, 0, 0, 0, 0, 0, 0, 0, 0, 1, 0, 0, 0, 0, 0, 0, 0], title=\"Wes Craven's New Nightmare (1994)\"),\n",
       " Row(date='01-Jan-1994', id=568, link='http://us.imdb.com/M/title-exact?Speed%20(1994/I)', rating=[0, 1, 0, 0, 0, 0, 0, 0, 0, 0, 0, 0, 0, 0, 1, 0, 1, 0, 0], title='Speed (1994)'),\n",
       " Row(date='01-Jan-1994', id=569, link='http://us.imdb.com/M/title-exact?Wolf%20(1994)', rating=[0, 0, 0, 0, 0, 0, 0, 0, 1, 0, 0, 1, 0, 0, 0, 0, 0, 0, 0], title='Wolf (1994)'),\n",
       " Row(date='01-Jan-1994', id=570, link='http://us.imdb.com/M/title-exact?Wyatt%20Earp%20(1994)', rating=[0, 0, 0, 0, 0, 0, 0, 0, 0, 0, 0, 0, 0, 0, 0, 0, 0, 0, 1], title='Wyatt Earp (1994)'),\n",
       " Row(date='01-Jan-1993', id=571, link='http://us.imdb.com/M/title-exact?Another%20Stakeout%20(1993)', rating=[0, 0, 0, 0, 0, 1, 0, 0, 0, 0, 0, 0, 0, 0, 0, 0, 1, 0, 0], title='Another Stakeout (1993)'),\n",
       " Row(date='01-Jan-1994', id=572, link='http://us.imdb.com/M/title-exact?Blown%20Away%20(1994)', rating=[0, 1, 0, 0, 0, 0, 0, 0, 0, 0, 0, 0, 0, 0, 0, 0, 1, 0, 0], title='Blown Away (1994)'),\n",
       " Row(date='01-Jan-1993', id=573, link='http://us.imdb.com/M/title-exact?Body%20Snatchers%20(1993)', rating=[0, 0, 0, 0, 0, 0, 0, 0, 0, 0, 0, 1, 0, 0, 0, 1, 1, 0, 0], title='Body Snatchers (1993)'),\n",
       " Row(date='01-Jan-1993', id=574, link='http://us.imdb.com/M/title-exact?Boxing%20Helena%20(1993)', rating=[0, 0, 0, 0, 0, 0, 0, 0, 0, 0, 0, 0, 0, 1, 1, 0, 1, 0, 0], title='Boxing Helena (1993)'),\n",
       " Row(date='01-Jan-1994', id=575, link=\"http://us.imdb.com/M/title-exact?City%20Slickers%20II:%20The%20Legend%20of%20Curly's%20Gold%20(1994)\", rating=[0, 0, 0, 0, 0, 1, 0, 0, 0, 0, 0, 0, 0, 0, 0, 0, 0, 0, 1], title=\"City Slickers II: The Legend of Curly's Gold (1994)\"),\n",
       " Row(date='01-Jan-1993', id=576, link='http://us.imdb.com/M/title-exact?Cliffhanger%20(1993)', rating=[0, 1, 1, 0, 0, 0, 1, 0, 0, 0, 0, 0, 0, 0, 0, 0, 0, 0, 0], title='Cliffhanger (1993)'),\n",
       " Row(date='01-Jan-1993', id=577, link='http://us.imdb.com/M/title-exact?Coneheads%20(1993)', rating=[0, 0, 0, 0, 0, 1, 0, 0, 0, 0, 0, 0, 0, 0, 0, 1, 0, 0, 0], title='Coneheads (1993)'),\n",
       " Row(date='01-Jan-1993', id=578, link='http://us.imdb.com/M/title-exact?Demolition%20Man%20(1993)', rating=[0, 1, 0, 0, 0, 0, 0, 0, 0, 0, 0, 0, 0, 0, 0, 1, 0, 0, 0], title='Demolition Man (1993)'),\n",
       " Row(date='01-Jan-1993', id=579, link='http://us.imdb.com/M/title-exact?Fatal%20Instinct%20(1993)', rating=[0, 0, 0, 0, 0, 1, 0, 0, 0, 0, 0, 0, 0, 0, 0, 0, 0, 0, 0], title='Fatal Instinct (1993)'),\n",
       " Row(date='01-Jan-1995', id=580, link='http://us.imdb.com/M/title-exact?Englishman%20Who%20Went%20Up%20a%20Hill,%20But%20Came%20Down%20a%20Mountain,%20The%20(1995)', rating=[0, 0, 0, 0, 0, 1, 0, 0, 0, 0, 0, 0, 0, 0, 1, 0, 0, 0, 0], title='Englishman Who Went Up a Hill, But Came Down a Mountain, The (1995)'),\n",
       " Row(date='01-Jan-1993', id=581, link='http://us.imdb.com/M/title-exact?Kalifornia%20(1993)', rating=[0, 0, 0, 0, 0, 0, 0, 0, 1, 0, 0, 0, 0, 0, 0, 0, 1, 0, 0], title='Kalifornia (1993)'),\n",
       " Row(date='01-Jan-1993', id=582, link='http://us.imdb.com/M/title-exact?Piano,%20The%20(1993)', rating=[0, 0, 0, 0, 0, 0, 0, 0, 1, 0, 0, 0, 0, 0, 1, 0, 0, 0, 0], title='Piano, The (1993)'),\n",
       " Row(date='01-Jan-1993', id=583, link='http://us.imdb.com/M/title-exact?Romeo%20Is%20Bleeding%20(1993)', rating=[0, 0, 0, 0, 0, 0, 1, 0, 0, 0, 0, 0, 0, 0, 0, 0, 1, 0, 0], title='Romeo Is Bleeding (1993)'),\n",
       " Row(date='01-Jan-1993', id=584, link='http://us.imdb.com/M/title-exact?Secret%20Garden,%20The%20(1993)', rating=[0, 0, 0, 0, 1, 0, 0, 0, 1, 0, 0, 0, 0, 0, 0, 0, 0, 0, 0], title='Secret Garden, The (1993)'),\n",
       " Row(date='01-Jan-1993', id=585, link='http://us.imdb.com/M/title-exact?Son%20in%20Law%20(1993)', rating=[0, 0, 0, 0, 0, 1, 0, 0, 0, 0, 0, 0, 0, 0, 0, 0, 0, 0, 0], title='Son in Law (1993)'),\n",
       " Row(date='01-Jan-1994', id=586, link='http://us.imdb.com/M/title-exact?Terminal%20Velocity%20(1994)', rating=[0, 1, 0, 0, 0, 0, 0, 0, 0, 0, 0, 0, 0, 0, 0, 0, 0, 0, 0], title='Terminal Velocity (1994)'),\n",
       " Row(date='01-Jan-1993', id=587, link='http://us.imdb.com/M/title-exact?Hour%20of%20the%20Pig,%20The%20(1993)', rating=[0, 0, 0, 0, 0, 0, 0, 0, 1, 0, 0, 0, 0, 1, 0, 0, 0, 0, 0], title='Hour of the Pig, The (1993)'),\n",
       " Row(date='01-Jan-1991', id=588, link='http://us.imdb.com/M/title-exact?Beauty%20and%20the%20Beast%20(1991)', rating=[0, 0, 0, 1, 1, 0, 0, 0, 0, 0, 0, 0, 1, 0, 0, 0, 0, 0, 0], title='Beauty and the Beast (1991)'),\n",
       " Row(date='01-Jan-1969', id=589, link='http://us.imdb.com/M/title-exact?Wild%20Bunch,%20The%20(1969)', rating=[0, 0, 0, 0, 0, 0, 0, 0, 0, 0, 0, 0, 0, 0, 0, 0, 0, 0, 1], title='Wild Bunch, The (1969)'),\n",
       " Row(date='08-Mar-1996', id=590, link='http://us.imdb.com/M/title-exact?Hellraiser:%20Bloodline%20(1996)', rating=[0, 1, 0, 0, 0, 0, 0, 0, 0, 0, 0, 1, 0, 0, 0, 1, 0, 0, 0], title='Hellraiser: Bloodline (1996)'),\n",
       " Row(date='30-Mar-1996', id=591, link='http://us.imdb.com/M/title-exact?Primal%20Fear%20(1996)', rating=[0, 0, 0, 0, 0, 0, 0, 0, 1, 0, 0, 0, 0, 0, 0, 0, 1, 0, 0], title='Primal Fear (1996)'),\n",
       " Row(date='01-Jan-1995', id=592, link='http://us.imdb.com/M/title-exact?True%20Crime%20(1995)', rating=[0, 0, 0, 0, 0, 0, 0, 0, 0, 0, 0, 0, 0, 1, 0, 0, 1, 0, 0], title='True Crime (1995)'),\n",
       " Row(date='01-Jan-1993', id=593, link='http://us.imdb.com/M/title-exact?Stalingrad%20(1993)', rating=[0, 0, 0, 0, 0, 0, 0, 0, 0, 0, 0, 0, 0, 0, 0, 0, 0, 1, 0], title='Stalingrad (1993)'),\n",
       " Row(date='05-Jun-1996', id=594, link='http://us.imdb.com/M/title-exact?Heavy%20(1995)', rating=[0, 0, 0, 0, 0, 0, 0, 0, 1, 0, 0, 0, 0, 0, 1, 0, 0, 0, 0], title='Heavy (1995)'),\n",
       " Row(date='16-Aug-1996', id=595, link='http://us.imdb.com/M/title-exact?Fan,%20The%20(1996)', rating=[0, 0, 0, 0, 0, 0, 0, 0, 0, 0, 0, 0, 0, 0, 0, 0, 1, 0, 0], title='Fan, The (1996)'),\n",
       " Row(date='21-Jun-1996', id=596, link='http://us.imdb.com/M/title-exact?Hunchback%20of%20Notre%20Dame,%20The%20(1996)', rating=[0, 0, 0, 1, 1, 0, 0, 0, 0, 0, 0, 0, 1, 0, 0, 0, 0, 0, 0], title='Hunchback of Notre Dame, The (1996)'),\n",
       " Row(date='21-Jun-1996', id=597, link='http://us.imdb.com/M/title-exact?Eraser%20(1996)', rating=[0, 1, 0, 0, 0, 0, 0, 0, 0, 0, 0, 0, 0, 0, 0, 0, 1, 0, 0], title='Eraser (1996)'),\n",
       " Row(date='06-Sep-1996', id=598, link='http://us.imdb.com/M/title-exact?Big%20Squeeze,%20The%20(1996)', rating=[0, 0, 0, 0, 0, 1, 0, 0, 1, 0, 0, 0, 0, 0, 0, 0, 0, 0, 0], title='Big Squeeze, The (1996)'),\n",
       " Row(date='16-Aug-1996', id=599, link='http://us.imdb.com/M/title-exact?Project%20S%20(1993)', rating=[0, 1, 0, 0, 0, 0, 0, 0, 0, 0, 0, 0, 0, 0, 0, 0, 0, 0, 0], title='Police Story 4: Project S (Chao ji ji hua) (1993)'),\n",
       " Row(date='01-Jan-1996', id=600, link='http://us.imdb.com/M/title-exact?Robinson%20Crusoe%20(1996)', rating=[0, 0, 0, 0, 1, 0, 0, 0, 0, 0, 0, 0, 0, 0, 0, 0, 0, 0, 0], title=\"Daniel Defoe's Robinson Crusoe (1996)\"),\n",
       " Row(date='01-Jan-1943', id=601, link='http://us.imdb.com/M/title-exact?For%20Whom%20the%20Bell%20Tolls%20(1943)', rating=[0, 0, 1, 0, 0, 0, 0, 0, 0, 0, 0, 0, 0, 0, 0, 0, 0, 1, 0], title='For Whom the Bell Tolls (1943)'),\n",
       " Row(date='01-Jan-1951', id=602, link='http://us.imdb.com/M/title-exact?American%20in%20Paris,%20An%20(1951)', rating=[0, 0, 0, 0, 0, 0, 0, 0, 0, 0, 0, 0, 1, 0, 1, 0, 0, 0, 0], title='American in Paris, An (1951)'),\n",
       " Row(date='01-Jan-1954', id=603, link='http://us.imdb.com/M/title-exact?Rear%20Window%20(1954)', rating=[0, 0, 0, 0, 0, 0, 0, 0, 0, 0, 0, 0, 0, 1, 0, 0, 1, 0, 0], title='Rear Window (1954)'),\n",
       " Row(date='01-Jan-1934', id=604, link='http://us.imdb.com/M/title-exact?It%20Happened%20One%20Night%20(1934)', rating=[0, 0, 0, 0, 0, 1, 0, 0, 0, 0, 0, 0, 0, 0, 0, 0, 0, 0, 0], title='It Happened One Night (1934)'),\n",
       " Row(date='01-Jan-1944', id=605, link='http://us.imdb.com/M/title-exact?Meet%20Me%20in%20St.%20Louis%20(1944)', rating=[0, 0, 0, 0, 0, 0, 0, 0, 0, 0, 0, 0, 1, 0, 0, 0, 0, 0, 0], title='Meet Me in St. Louis (1944)'),\n",
       " Row(date='01-Jan-1950', id=606, link='http://us.imdb.com/M/title-exact?All%20About%20Eve%20(1950)', rating=[0, 0, 0, 0, 0, 0, 0, 0, 1, 0, 0, 0, 0, 0, 0, 0, 0, 0, 0], title='All About Eve (1950)'),\n",
       " Row(date='01-Jan-1940', id=607, link='http://us.imdb.com/M/title-exact?Rebecca%20(1940)', rating=[0, 0, 0, 0, 0, 0, 0, 0, 0, 0, 0, 0, 0, 0, 1, 0, 1, 0, 0], title='Rebecca (1940)'),\n",
       " Row(date='01-Jan-1945', id=608, link='http://us.imdb.com/M/title-exact?Spellbound%20(1945)', rating=[0, 0, 0, 0, 0, 0, 0, 0, 0, 0, 0, 0, 0, 1, 1, 0, 1, 0, 0], title='Spellbound (1945)'),\n",
       " Row(date='01-Jan-1950', id=609, link='http://us.imdb.com/M/title-exact?Father%20of%20the%20Bride%20(1950)', rating=[0, 0, 0, 0, 0, 1, 0, 0, 0, 0, 0, 0, 0, 0, 0, 0, 0, 0, 0], title='Father of the Bride (1950)'),\n",
       " Row(date='01-Jan-1958', id=610, link='http://us.imdb.com/M/title-exact?Gigi%20(1958)', rating=[0, 0, 0, 0, 0, 0, 0, 0, 0, 0, 0, 0, 1, 0, 0, 0, 0, 0, 0], title='Gigi (1958)'),\n",
       " Row(date='01-Jan-1944', id=611, link='http://us.imdb.com/M/title-exact?Laura%20(1944)', rating=[0, 0, 0, 0, 0, 0, 1, 0, 0, 0, 1, 0, 0, 1, 0, 0, 0, 0, 0], title='Laura (1944)'),\n",
       " Row(date='01-Jan-1937', id=612, link='http://us.imdb.com/M/title-exact?Lost%20Horizon%20(1937)', rating=[0, 0, 0, 0, 0, 0, 0, 0, 1, 0, 0, 0, 0, 0, 0, 0, 0, 0, 0], title='Lost Horizon (1937)'),\n",
       " Row(date='01-Jan-1936', id=613, link='http://us.imdb.com/M/title-exact?My%20Man%20Godfrey%20(1936)', rating=[0, 0, 0, 0, 0, 1, 0, 0, 0, 0, 0, 0, 0, 0, 0, 0, 0, 0, 0], title='My Man Godfrey (1936)'),\n",
       " Row(date='01-Jan-1956', id=614, link='http://us.imdb.com/M/title-exact?Giant%20(1956)', rating=[0, 0, 0, 0, 0, 0, 0, 0, 1, 0, 0, 0, 0, 0, 0, 0, 0, 0, 0], title='Giant (1956)'),\n",
       " Row(date='01-Jan-1935', id=615, link='http://us.imdb.com/M/title-exact?39%20Steps,%20The%20(1935)', rating=[0, 0, 0, 0, 0, 0, 0, 0, 0, 0, 0, 0, 0, 0, 0, 0, 1, 0, 0], title='39 Steps, The (1935)'),\n",
       " Row(date='01-Jan-1968', id=616, link='http://us.imdb.com/M/title-exact?Night%20of%20the%20Living%20Dead%20(1968)', rating=[0, 0, 0, 0, 0, 0, 0, 0, 0, 0, 0, 1, 0, 0, 0, 1, 0, 0, 0], title='Night of the Living Dead (1968)'),\n",
       " Row(date='01-Jan-1930', id=617, link='http://us.imdb.com/M/title-exact?Blaue%20Engel,%20Der%20(1930)', rating=[0, 0, 0, 0, 0, 0, 0, 0, 1, 0, 0, 0, 0, 0, 0, 0, 0, 0, 0], title='Blue Angel, The (Blaue Engel, Der) (1930)'),\n",
       " Row(date='01-Jan-1955', id=618, link='http://us.imdb.com/M/title-exact?Picnic%20(1955)', rating=[0, 0, 0, 0, 0, 0, 0, 0, 1, 0, 0, 0, 0, 0, 0, 0, 0, 0, 0], title='Picnic (1955)'),\n",
       " Row(date='27-Sep-1996', id=619, link='http://us.imdb.com/M/title-exact?Extreme%20Measures%20(1996)', rating=[0, 0, 0, 0, 0, 0, 0, 0, 1, 0, 0, 0, 0, 0, 0, 0, 1, 0, 0], title='Extreme Measures (1996)'),\n",
       " Row(date='11-Oct-1996', id=620, link='http://us.imdb.com/M/title-exact?Chamber,%20The%20(1996)', rating=[0, 0, 0, 0, 0, 0, 0, 0, 1, 0, 0, 0, 0, 0, 0, 0, 0, 0, 0], title='Chamber, The (1996)'),\n",
       " Row(date='01-Jan-1955', id=621, link='http://us.imdb.com/M/title-exact?Davy%20Crockett%2C%20King%20of%20the%20Wild%20Frontier%20%281955%29', rating=[0, 0, 0, 0, 0, 0, 0, 0, 0, 0, 0, 0, 0, 0, 0, 0, 0, 0, 1], title='Davy Crockett, King of the Wild Frontier (1955)'),\n",
       " Row(date='01-Jan-1960', id=622, link='http://us.imdb.com/M/title-exact?Swiss%20Family%20Robinson%20(1960)', rating=[0, 0, 1, 0, 1, 0, 0, 0, 0, 0, 0, 0, 0, 0, 0, 0, 0, 0, 0], title='Swiss Family Robinson (1960)'),\n",
       " Row(date='01-Jan-1994', id=623, link='http://us.imdb.com/M/title-exact?Angels%20in%20the%20Outfield%20(1994)', rating=[0, 0, 0, 0, 1, 1, 0, 0, 0, 0, 0, 0, 0, 0, 0, 0, 0, 0, 0], title='Angels in the Outfield (1994)'),\n",
       " Row(date='01-Jan-1945', id=624, link='http://us.imdb.com/M/title-exact?Three%20Caballeros,%20The%20(1945)', rating=[0, 0, 0, 1, 1, 0, 0, 0, 0, 0, 0, 0, 1, 0, 0, 0, 0, 0, 0], title='Three Caballeros, The (1945)'),\n",
       " Row(date='01-Jan-1963', id=625, link='http://us.imdb.com/M/title-exact?Sword%20in%20the%20Stone,%20The%20(1963)', rating=[0, 0, 0, 1, 1, 0, 0, 0, 0, 0, 0, 0, 0, 0, 0, 0, 0, 0, 0], title='Sword in the Stone, The (1963)'),\n",
       " Row(date='01-Jan-1949', id=626, link='http://us.imdb.com/Title?So+Dear+to+My+Heart+(1949)', rating=[0, 0, 0, 0, 1, 0, 0, 0, 1, 0, 0, 0, 0, 0, 0, 0, 0, 0, 0], title='So Dear to My Heart (1949)'),\n",
       " Row(date='01-Jan-1991', id=627, link='http://us.imdb.com/Title?Robin+Hood%3A+Prince+of+Thieves+(1991)', rating=[0, 0, 0, 0, 0, 0, 0, 0, 1, 0, 0, 0, 0, 0, 0, 0, 0, 0, 0], title='Robin Hood: Prince of Thieves (1991)'),\n",
       " Row(date='18-Oct-1996', id=628, link='http://us.imdb.com/M/title-exact?Sleepers%20(1996)', rating=[0, 0, 0, 0, 0, 0, 1, 0, 1, 0, 0, 0, 0, 0, 0, 0, 0, 0, 0], title='Sleepers (1996)'),\n",
       " Row(date='01-Jan-1982', id=629, link='http://us.imdb.com/M/title-exact?Victor/Victoria%20%281982%29', rating=[0, 0, 0, 0, 0, 1, 0, 0, 0, 0, 0, 0, 1, 0, 0, 0, 0, 0, 0], title='Victor/Victoria (1982)'),\n",
       " Row(date='01-Jan-1965', id=630, link='http://us.imdb.com/M/title-exact?Great%20Race,%20The%20(1965)', rating=[0, 0, 0, 0, 0, 1, 0, 0, 0, 0, 0, 0, 1, 0, 0, 0, 0, 0, 0], title='Great Race, The (1965)'),\n",
       " Row(date='01-Jan-1992', id=631, link='http://us.imdb.com/M/title-exact?Crying%20Game,%20The%20(1992)', rating=[0, 1, 0, 0, 0, 0, 0, 0, 1, 0, 0, 0, 0, 0, 1, 0, 0, 1, 0], title='Crying Game, The (1992)'),\n",
       " Row(date='01-Jan-1982', id=632, link=\"http://us.imdb.com/M/title-exact?Sophie's%20Choice%20(1982)\", rating=[0, 0, 0, 0, 0, 0, 0, 0, 1, 0, 0, 0, 0, 0, 0, 0, 0, 0, 0], title=\"Sophie's Choice (1982)\"),\n",
       " Row(date='01-Jan-1938', id=633, link='http://us.imdb.com/M/title-exact?Christmas%20Carol,%20A%20(1938)', rating=[0, 0, 0, 0, 0, 0, 0, 0, 1, 0, 0, 0, 0, 0, 0, 0, 0, 0, 0], title='Christmas Carol, A (1938)'),\n",
       " Row(date='11-Oct-1996', id=634, link='http://us.imdb.com/M/title-exact?Microcosmos%3A%20Le%20peuple%20de%20l%27herbe%20%281996%29', rating=[0, 0, 0, 0, 0, 0, 0, 1, 0, 0, 0, 0, 0, 0, 0, 0, 0, 0, 0], title=\"Microcosmos: Le peuple de l'herbe (1996)\"),\n",
       " Row(date='01-Jan-1980', id=635, link='http://us.imdb.com/M/title-exact?Fog,%20The%20(1980)', rating=[0, 0, 0, 0, 0, 0, 0, 0, 0, 0, 0, 1, 0, 0, 0, 0, 0, 0, 0], title='Fog, The (1980)'),\n",
       " Row(date='01-Jan-1981', id=636, link='http://us.imdb.com/M/title-exact?Escape%20from%20New%20York%20(1981)', rating=[0, 1, 1, 0, 0, 0, 0, 0, 0, 0, 0, 0, 0, 0, 0, 1, 1, 0, 0], title='Escape from New York (1981)'),\n",
       " Row(date='01-Jan-1981', id=637, link='http://us.imdb.com/M/title-exact?Howling,%20The%20(1981)', rating=[0, 0, 0, 0, 0, 1, 0, 0, 0, 0, 0, 1, 0, 0, 0, 0, 0, 0, 0], title='Howling, The (1981)'),\n",
       " Row(date='01-Jan-1982', id=638, link='http://us.imdb.com/M/title-exact?Retour%20de%20Martin%20Guerre,%20Le%20(1982)', rating=[0, 0, 0, 0, 0, 0, 0, 0, 1, 0, 0, 0, 0, 0, 0, 0, 0, 0, 0], title='Return of Martin Guerre, The (Retour de Martin Guerre, Le) (1982)'),\n",
       " Row(date='01-Jan-1979', id=639, link='http://us.imdb.com/M/title-exact?Blechtrommel,%20Die%20(1979)', rating=[0, 0, 0, 0, 0, 0, 0, 0, 1, 0, 0, 0, 0, 0, 0, 0, 0, 0, 0], title='Tin Drum, The (Blechtrommel, Die) (1979)'),\n",
       " Row(date='01-Jan-1989', id=640, link='http://us.imdb.com/M/title-exact?Cook%20the%20Thief%20His%20Wife%20&%20Her%20Lover,%20The%20(1989)', rating=[0, 0, 0, 0, 0, 0, 0, 0, 1, 0, 0, 0, 0, 0, 0, 0, 0, 0, 0], title='Cook the Thief His Wife & Her Lover, The (1989)'),\n",
       " Row(date='01-Jan-1957', id=641, link='http://us.imdb.com/M/title-exact?Paths%20of%20Glory%20(1957)', rating=[0, 0, 0, 0, 0, 0, 0, 0, 1, 0, 0, 0, 0, 0, 0, 0, 0, 1, 0], title='Paths of Glory (1957)'),\n",
       " Row(date='01-Jan-1990', id=642, link='http://us.imdb.com/M/title-exact?Grifters,%20The%20(1990)', rating=[0, 0, 0, 0, 0, 0, 1, 0, 1, 0, 1, 0, 0, 0, 0, 0, 0, 0, 0], title='Grifters, The (1990)'),\n",
       " Row(date='01-Jan-1994', id=643, link='http://us.imdb.com/M/title-exact?Innocent,%20The%20(1994)%20(TV)', rating=[0, 0, 0, 0, 0, 0, 0, 0, 1, 0, 0, 0, 0, 0, 1, 0, 0, 0, 0], title='The Innocent (1994)'),\n",
       " Row(date='01-Jan-1988', id=644, link='http://us.imdb.com/M/title-exact?Thin%20Blue%20Line,%20The%20(1988)', rating=[0, 0, 0, 0, 0, 0, 0, 1, 0, 0, 0, 0, 0, 0, 0, 0, 0, 0, 0], title='Thin Blue Line, The (1988)'),\n",
       " Row(date='01-Jan-1990', id=645, link='http://us.imdb.com/M/title-exact?Paris%20Is%20Burning%20(1990)', rating=[0, 0, 0, 0, 0, 0, 0, 1, 0, 0, 0, 0, 0, 0, 0, 0, 0, 0, 0], title='Paris Is Burning (1990)'),\n",
       " Row(date='01-Jan-1969', id=646, link=\"http://us.imdb.com/M/title-exact?C'era%20una%20volta%20il%20west%20(1969)\", rating=[0, 0, 0, 0, 0, 0, 0, 0, 0, 0, 0, 0, 0, 0, 0, 0, 0, 0, 1], title='Once Upon a Time in the West (1969)'),\n",
       " Row(date='01-Jan-1985', id=647, link='http://us.imdb.com/M/title-exact?Ran%20(1985)', rating=[0, 0, 0, 0, 0, 0, 0, 0, 1, 0, 0, 0, 0, 0, 0, 0, 0, 1, 0], title='Ran (1985)'),\n",
       " Row(date='01-Jan-1952', id=648, link='http://us.imdb.com/M/title-exact?Quiet%20Man,%20The%20(1952)', rating=[0, 0, 0, 0, 0, 1, 0, 0, 0, 0, 0, 0, 0, 0, 1, 0, 0, 0, 0], title='Quiet Man, The (1952)'),\n",
       " Row(date='01-Jan-1984', id=649, link='http://us.imdb.com/M/title-exact?Once%20Upon%20a%20Time%20in%20America%20(1984)', rating=[0, 0, 0, 0, 0, 0, 1, 0, 1, 0, 0, 0, 0, 0, 0, 0, 1, 0, 0], title='Once Upon a Time in America (1984)'),\n",
       " Row(date='01-Jan-1957', id=650, link='http://us.imdb.com/M/title-exact?Sjunde%20inseglet,%20Det%20(1957)', rating=[0, 0, 0, 0, 0, 0, 0, 0, 1, 0, 0, 0, 0, 0, 0, 0, 0, 0, 0], title='Seventh Seal, The (Sjunde inseglet, Det) (1957)'),\n",
       " Row(date='01-Jan-1989', id=651, link='http://us.imdb.com/M/title-exact?Glory%20(1989)', rating=[0, 1, 0, 0, 0, 0, 0, 0, 1, 0, 0, 0, 0, 0, 0, 0, 0, 1, 0], title='Glory (1989)'),\n",
       " Row(date='01-Jan-1990', id=652, link='http://us.imdb.com/M/title-exact?Rosencrantz%20and%20Guildenstern%20Are%20Dead%20(1990)', rating=[0, 0, 0, 0, 0, 1, 0, 0, 1, 0, 0, 0, 0, 0, 0, 0, 0, 0, 0], title='Rosencrantz and Guildenstern Are Dead (1990)'),\n",
       " Row(date='01-Jan-1958', id=653, link='http://us.imdb.com/M/title-exact?Touch%20of%20Evil%20(1958)', rating=[0, 0, 0, 0, 0, 0, 1, 0, 0, 0, 1, 0, 0, 0, 0, 0, 1, 0, 0], title='Touch of Evil (1958)'),\n",
       " Row(date='01-Jan-1974', id=654, link='http://us.imdb.com/M/title-exact?Chinatown%20(1974)', rating=[0, 0, 0, 0, 0, 0, 0, 0, 0, 0, 1, 0, 0, 1, 0, 0, 1, 0, 0], title='Chinatown (1974)'),\n",
       " Row(date='01-Jan-1986', id=655, link='http://us.imdb.com/M/title-exact?Stand%20by%20Me%20(1986)', rating=[0, 0, 1, 0, 0, 1, 0, 0, 1, 0, 0, 0, 0, 0, 0, 0, 0, 0, 0], title='Stand by Me (1986)'),\n",
       " Row(date='01-Jan-1931', id=656, link='http://us.imdb.com/M/title-exact?M%20(1931)', rating=[0, 0, 0, 0, 0, 0, 1, 0, 0, 0, 1, 0, 0, 0, 0, 0, 1, 0, 0], title='M (1931)'),\n",
       " Row(date='01-Jan-1962', id=657, link='http://us.imdb.com/M/title-exact?Manchurian%20Candidate,%20The%20(1962)', rating=[0, 0, 0, 0, 0, 0, 0, 0, 0, 0, 1, 0, 0, 0, 0, 0, 1, 0, 0], title='Manchurian Candidate, The (1962)'),\n",
       " Row(date='01-Jan-1990', id=658, link='http://us.imdb.com/M/title-exact?Pump%20Up%20the%20Volume%20(1990)', rating=[0, 0, 0, 0, 0, 0, 0, 0, 1, 0, 0, 0, 0, 0, 0, 0, 0, 0, 0], title='Pump Up the Volume (1990)'),\n",
       " Row(date='01-Jan-1944', id=659, link='http://us.imdb.com/M/title-exact?Arsenic%20and%20Old%20Lace%20(1944)', rating=[0, 0, 0, 0, 0, 1, 0, 0, 0, 0, 0, 0, 0, 1, 0, 0, 1, 0, 0], title='Arsenic and Old Lace (1944)'),\n",
       " Row(date='01-Jan-1991', id=660, link='http://us.imdb.com/M/title-exact?Fried%20Green%20Tomatoes%20at%20the%20Whistle%20Stop%20Cafe%20(1991)', rating=[0, 0, 0, 0, 0, 0, 0, 0, 1, 0, 0, 0, 0, 0, 0, 0, 0, 0, 0], title='Fried Green Tomatoes (1991)'),\n",
       " Row(date='01-Jan-1952', id=661, link='http://us.imdb.com/M/title-exact?High%20Noon%20(1952)', rating=[0, 0, 0, 0, 0, 0, 0, 0, 0, 0, 0, 0, 0, 0, 0, 0, 0, 0, 1], title='High Noon (1952)'),\n",
       " Row(date='01-Jan-1980', id=662, link='http://us.imdb.com/M/title-exact?Somewhere%20in%20Time%20(1980)', rating=[0, 0, 0, 0, 0, 0, 0, 0, 1, 0, 0, 0, 0, 0, 1, 0, 0, 0, 0], title='Somewhere in Time (1980)'),\n",
       " Row(date='01-Jan-1979', id=663, link='http://us.imdb.com/M/title-exact?Being%20There%20(1979)', rating=[0, 0, 0, 0, 0, 1, 0, 0, 0, 0, 0, 0, 0, 0, 0, 0, 0, 0, 0], title='Being There (1979)'),\n",
       " Row(date='01-Jan-1984', id=664, link='http://us.imdb.com/M/title-exact?Paris,%20Texas%20(1984)', rating=[0, 0, 0, 0, 0, 0, 0, 0, 1, 0, 0, 0, 0, 0, 0, 0, 0, 0, 0], title='Paris, Texas (1984)'),\n",
       " Row(date='01-Jan-1992', id=665, link='http://us.imdb.com/M/title-exact?Alien%203%20(1992)', rating=[0, 1, 0, 0, 0, 0, 0, 0, 0, 0, 0, 1, 0, 0, 0, 1, 1, 0, 0], title='Alien 3 (1992)'),\n",
       " Row(date='01-Jan-1974', id=666, link=\"http://us.imdb.com/M/title-exact?Andy%20Warhol's%20Dracula%20(1974)\", rating=[0, 0, 0, 0, 0, 0, 0, 0, 0, 0, 0, 1, 0, 0, 0, 0, 0, 0, 0], title=\"Blood For Dracula (Andy Warhol's Dracula) (1974)\"),\n",
       " Row(date='01-Jan-1977', id=667, link='http://us.imdb.com/M/title-exact?Audrey%20Rose%20(1977)', rating=[0, 0, 0, 0, 0, 0, 0, 0, 0, 0, 0, 1, 0, 0, 0, 0, 0, 0, 0], title='Audrey Rose (1977)'),\n",
       " Row(date='01-Jan-1981', id=668, link='http://us.imdb.com/M/title-exact?Blood%20Beach%20(1981)', rating=[0, 1, 0, 0, 0, 0, 0, 0, 0, 0, 0, 1, 0, 0, 0, 0, 0, 0, 0], title='Blood Beach (1981)'),\n",
       " Row(date='01-Jan-1991', id=669, link='http://us.imdb.com/M/title-exact?Body%20Parts%20(1991)', rating=[0, 0, 0, 0, 0, 0, 0, 0, 0, 0, 0, 1, 0, 0, 0, 0, 0, 0, 0], title='Body Parts (1991)'),\n",
       " Row(date='01-Jan-1993', id=670, link='http://us.imdb.com/M/title-exact?Body%20Snatchers%20(1993)', rating=[0, 0, 0, 0, 0, 0, 0, 0, 0, 0, 0, 1, 0, 0, 0, 1, 1, 0, 0], title='Body Snatchers (1993)'),\n",
       " Row(date='01-Jan-1935', id=671, link='http://us.imdb.com/M/title-exact?Bride%20of%20Frankenstein%20(1935)', rating=[0, 0, 0, 0, 0, 0, 0, 0, 0, 0, 0, 1, 0, 0, 0, 0, 0, 0, 0], title='Bride of Frankenstein (1935)'),\n",
       " Row(date='01-Jan-1992', id=672, link='http://us.imdb.com/M/title-exact?Candyman%20(1992)', rating=[0, 0, 0, 0, 0, 0, 0, 0, 0, 0, 0, 1, 0, 0, 0, 0, 0, 0, 0], title='Candyman (1992)'),\n",
       " Row(date='01-Jan-1962', id=673, link='http://us.imdb.com/M/title-exact?Cape%20Fear%20(1962)', rating=[0, 0, 0, 0, 0, 0, 0, 0, 0, 0, 1, 0, 0, 0, 0, 0, 1, 0, 0], title='Cape Fear (1962)'),\n",
       " Row(date='01-Jan-1982', id=674, link='http://us.imdb.com/M/title-exact?Cat%20People%20(1982)', rating=[0, 0, 0, 0, 0, 0, 0, 0, 0, 0, 0, 1, 0, 0, 0, 0, 0, 0, 0], title='Cat People (1982)'),\n",
       " Row(date='01-Jan-1922', id=675, link='http://us.imdb.com/M/title-exact?Nosferatu,%20eine%20Symphonie%20des%20Grauens%20(1922)', rating=[0, 0, 0, 0, 0, 0, 0, 0, 0, 0, 0, 1, 0, 0, 0, 0, 0, 0, 0], title='Nosferatu (Nosferatu, eine Symphonie des Grauens) (1922)'),\n",
       " Row(date='27-Nov-1996', id=676, link='http://us.imdb.com/M/title-exact?Crucible,%20The%20(1996)', rating=[0, 0, 0, 0, 0, 0, 0, 0, 1, 0, 0, 0, 0, 0, 0, 0, 0, 0, 0], title='Crucible, The (1996)'),\n",
       " Row(date='24-Jan-1997', id=677, link='http://us.imdb.com/M/title-exact?Fire%20on%20the%20Mountain%20(1996)', rating=[0, 0, 0, 0, 0, 0, 0, 1, 0, 0, 0, 0, 0, 0, 0, 0, 0, 0, 0], title='Fire on the Mountain (1996)'),\n",
       " Row(date='25-Apr-1997', id=678, link='http://us.imdb.com/M/title-exact?Volcano%20%281997%29', rating=[0, 0, 0, 0, 0, 0, 0, 0, 1, 0, 0, 0, 0, 0, 0, 0, 1, 0, 0], title='Volcano (1997)'),\n",
       " Row(date='01-Jan-1981', id=679, link='http://us.imdb.com/M/title-exact?Conan+the+Barbarian+(1981)', rating=[0, 1, 1, 0, 0, 0, 0, 0, 0, 0, 0, 0, 0, 0, 0, 0, 0, 0, 0], title='Conan the Barbarian (1981)'),\n",
       " Row(date='29-Aug-1997', id=680, link='http://us.imdb.com/M/title-exact?Kull+the+Conqueror+(1997)', rating=[0, 1, 1, 0, 0, 0, 0, 0, 0, 0, 0, 0, 0, 0, 0, 0, 0, 0, 0], title='Kull the Conqueror (1997)'),\n",
       " Row(date='01-Jan-1997', id=681, link='http://us.imdb.com/M/title-exact?Wishmaster+(1997)', rating=[0, 0, 0, 0, 0, 0, 0, 0, 0, 0, 0, 1, 0, 0, 0, 0, 0, 0, 0], title='Wishmaster (1997)'),\n",
       " Row(date='17-Oct-1997', id=682, link='http://us.imdb.com/M/title-exact?I+Know+What+You+Did+Last+Summer+(1997)', rating=[0, 0, 0, 0, 0, 0, 0, 0, 0, 0, 0, 1, 0, 1, 0, 0, 1, 0, 0], title='I Know What You Did Last Summer (1997)'),\n",
       " Row(date='01-Jan-1997', id=683, link='http://us.imdb.com/M/title-exact?Rocket+Man+(1997)', rating=[0, 0, 0, 0, 0, 1, 0, 0, 0, 0, 0, 0, 0, 0, 0, 0, 0, 0, 0], title='Rocket Man (1997)'),\n",
       " Row(date='01-Jan-1993', id=684, link='http://us.imdb.com/M/title-exact?In%20the%20Line%20of%20Fire%20(1993)', rating=[0, 1, 0, 0, 0, 0, 0, 0, 0, 0, 0, 0, 0, 0, 0, 0, 1, 0, 0], title='In the Line of Fire (1993)'),\n",
       " Row(date='09-Mar-1996', id=685, link='http://us.imdb.com/M/title-exact?Executive%20Decision%20(1996)', rating=[0, 1, 0, 0, 0, 0, 0, 0, 0, 0, 0, 0, 0, 0, 0, 0, 1, 0, 0], title='Executive Decision (1996)'),\n",
       " Row(date='01-Jan-1993', id=686, link='http://us.imdb.com/M/title-exact?Perfect%20World,%20A%20(1993)', rating=[0, 1, 0, 0, 0, 0, 0, 0, 1, 0, 0, 0, 0, 0, 0, 0, 0, 0, 0], title='Perfect World, A (1993)'),\n",
       " Row(date='18-Apr-1997', id=687, link=\"http://us.imdb.com/M/title-exact?McHale's%20Navy%20(1997)\", rating=[0, 0, 0, 0, 0, 1, 0, 0, 0, 0, 0, 0, 0, 0, 0, 0, 0, 1, 0], title=\"McHale's Navy (1997)\"),\n",
       " Row(date='22-Aug-1997', id=688, link='http://us.imdb.com/M/title-exact?Leave+It+To+Beaver+(1997)', rating=[0, 0, 0, 0, 0, 1, 0, 0, 0, 0, 0, 0, 0, 0, 0, 0, 0, 0, 0], title='Leave It to Beaver (1997)'),\n",
       " Row(date='01-Jan-1997', id=689, link='http://us.imdb.com/M/title-exact?Jackal%2C+The+(1997)', rating=[0, 1, 0, 0, 0, 0, 0, 0, 0, 0, 0, 0, 0, 0, 0, 0, 1, 0, 0], title='Jackal, The (1997)'),\n",
       " Row(date='01-Jan-1997', id=690, link='http://us.imdb.com/M/title-exact?Seven+Years+in+Tibet+(1997)', rating=[0, 0, 0, 0, 0, 0, 0, 0, 1, 0, 0, 0, 0, 0, 0, 0, 0, 1, 0], title='Seven Years in Tibet (1997)'),\n",
       " Row(date='09-Jan-1998', id=691, link='http://us.imdb.com/M/title-exact?imdb-title-118929', rating=[0, 0, 0, 0, 0, 0, 0, 0, 0, 0, 1, 0, 0, 0, 0, 1, 1, 0, 0], title='Dark City (1998)'),\n",
       " Row(date='01-Jan-1995', id=692, link='http://us.imdb.com/M/title-exact?American%20President,%20The%20(1995)', rating=[0, 0, 0, 0, 0, 1, 0, 0, 1, 0, 0, 0, 0, 0, 1, 0, 0, 0, 0], title='American President, The (1995)'),\n",
       " Row(date='01-Jan-1995', id=693, link='http://us.imdb.com/M/title-exact?Casino%20(1995)', rating=[0, 0, 0, 0, 0, 0, 0, 0, 1, 0, 0, 0, 0, 0, 0, 0, 0, 0, 0], title='Casino (1995)'),\n",
       " Row(date='25-Sep-1995', id=694, link='http://us.imdb.com/Title?Persuasion+(1995/I)', rating=[0, 0, 0, 0, 0, 0, 0, 0, 0, 0, 0, 0, 0, 0, 1, 0, 0, 0, 0], title='Persuasion (1995)'),\n",
       " Row(date='01-Jan-1995', id=695, link='http://us.imdb.com/M/title-exact?Kicking%20and%20Screaming%20(1995)', rating=[0, 0, 0, 0, 0, 1, 0, 0, 1, 0, 0, 0, 0, 0, 0, 0, 0, 0, 0], title='Kicking and Screaming (1995)'),\n",
       " Row(date='16-Feb-1996', id=696, link='http://us.imdb.com/M/title-exact?City%20Hall%20(1996)', rating=[0, 0, 0, 0, 0, 0, 0, 0, 1, 0, 0, 0, 0, 0, 0, 0, 1, 0, 0], title='City Hall (1996)'),\n",
       " Row(date='01-Jan-1995', id=697, link='http://us.imdb.com/M/title-exact?Basketball%20Diaries,%20The%20(1995)', rating=[0, 0, 0, 0, 0, 0, 0, 0, 1, 0, 0, 0, 0, 0, 0, 0, 0, 0, 0], title='Basketball Diaries, The (1995)'),\n",
       " Row(date='01-Jan-1994', id=698, link='http://us.imdb.com/M/title-exact?Browning%20Version,%20The%20(1994)', rating=[0, 0, 0, 0, 0, 0, 0, 0, 1, 0, 0, 0, 0, 0, 0, 0, 0, 0, 0], title='Browning Version, The (1994)'),\n",
       " Row(date='01-Jan-1994', id=699, link='http://us.imdb.com/M/title-exact?Little%20Women%20(1994)', rating=[0, 0, 0, 0, 0, 0, 0, 0, 1, 0, 0, 0, 0, 0, 0, 0, 0, 0, 0], title='Little Women (1994)'),\n",
       " Row(date='01-Jan-1995', id=700, link='http://us.imdb.com/M/title-exact?Miami%20Rhapsody%20(1995)', rating=[0, 0, 0, 0, 0, 1, 0, 0, 0, 0, 0, 0, 0, 0, 0, 0, 0, 0, 0], title='Miami Rhapsody (1995)'),\n",
       " Row(date='01-Jan-1993', id=701, link='http://us.imdb.com/M/title-exact?Macht%20der%20Bilder:%20Leni%20Riefenstahl,%20Die%20(1993)', rating=[0, 0, 0, 0, 0, 0, 0, 1, 0, 0, 0, 0, 0, 0, 0, 0, 0, 0, 0], title='Wonderful, Horrible Life of Leni Riefenstahl, The (1993)'),\n",
       " Row(date='01-Jan-1994', id=702, link='http://us.imdb.com/M/title-exact?Barcelona%20(1994)', rating=[0, 0, 0, 0, 0, 1, 0, 0, 0, 0, 0, 0, 0, 0, 1, 0, 0, 0, 0], title='Barcelona (1994)'),\n",
       " Row(date='01-Jan-1994', id=703, link=\"http://us.imdb.com/M/title-exact?Widows'%20Peak%20(1994)\", rating=[0, 0, 0, 0, 0, 0, 0, 0, 1, 0, 0, 0, 0, 0, 0, 0, 0, 0, 0], title=\"Widows' Peak (1994)\"),\n",
       " Row(date='01-Jan-1993', id=704, link='http://us.imdb.com/M/title-exact?House%20of%20the%20Spirits,%20The%20(1993)', rating=[0, 0, 0, 0, 0, 0, 0, 0, 1, 0, 0, 0, 0, 0, 1, 0, 0, 0, 0], title='House of the Spirits, The (1993)'),\n",
       " Row(date='01-Jan-1952', id=705, link=\"http://us.imdb.com/M/title-exact?Singin'%20in%20the%20Rain%20(1952)\", rating=[0, 0, 0, 0, 0, 0, 0, 0, 0, 0, 0, 0, 1, 0, 1, 0, 0, 0, 0], title=\"Singin' in the Rain (1952)\"),\n",
       " Row(date='01-Nov-1996', id=706, link='http://us.imdb.com/M/title-exact?Bad%20Moon%20(1996)', rating=[0, 0, 0, 0, 0, 0, 0, 0, 0, 0, 0, 1, 0, 0, 0, 0, 0, 0, 0], title='Bad Moon (1996)'),\n",
       " Row(date='01-Jan-1991', id=707, link='http://us.imdb.com/M/title-exact?Enchanted%20April%20(1991)', rating=[0, 0, 0, 0, 0, 0, 0, 0, 1, 0, 0, 0, 0, 0, 0, 0, 0, 0, 0], title='Enchanted April (1991)'),\n",
       " Row(date='01-Jan-1989', id=708, link='http://us.imdb.com/M/title-exact?sex,%20lies,%20and%20videotape%20(1989)', rating=[0, 0, 0, 0, 0, 0, 0, 0, 1, 0, 0, 0, 0, 0, 0, 0, 0, 0, 0], title='Sex, Lies, and Videotape (1989)'),\n",
       " Row(date='01-Jan-1992', id=709, link='http://us.imdb.com/M/title-exact?Strictly%20Ballroom%20(1992)', rating=[0, 0, 0, 0, 0, 1, 0, 0, 0, 0, 0, 0, 0, 0, 1, 0, 0, 0, 0], title='Strictly Ballroom (1992)'),\n",
       " Row(date='01-Jan-1985', id=710, link='http://us.imdb.com/Title?Better+Off+Dead...+(1985)', rating=[0, 0, 0, 0, 0, 1, 0, 0, 0, 0, 0, 0, 0, 0, 0, 0, 0, 0, 0], title='Better Off Dead... (1985)'),\n",
       " Row(date='06-Dec-1996', id=711, link='http://us.imdb.com/M/title-exact?Substance%20of%20Fire,%20The%20(1996)', rating=[0, 0, 0, 0, 0, 0, 0, 0, 1, 0, 0, 0, 0, 0, 0, 0, 0, 0, 0], title='Substance of Fire, The (1996)'),\n",
       " Row(date='01-Jan-1987', id=712, link='http://us.imdb.com/M/title-exact?Tin%20Men%20(1987)', rating=[0, 0, 0, 0, 0, 1, 0, 0, 1, 0, 0, 0, 0, 0, 0, 0, 0, 0, 0], title='Tin Men (1987)'),\n",
       " Row(date='18-Dec-1995', id=713, link='http://us.imdb.com/M/title-exact?Othello%20(1995)', rating=[0, 0, 0, 0, 0, 0, 0, 0, 1, 0, 0, 0, 0, 0, 0, 0, 0, 0, 0], title='Othello (1995)'),\n",
       " Row(date='01-Jan-1995', id=714, link='http://us.imdb.com/M/title-exact?Carrington%20(1995)', rating=[0, 0, 0, 0, 0, 0, 0, 0, 1, 0, 0, 0, 0, 0, 1, 0, 0, 0, 0], title='Carrington (1995)'),\n",
       " Row(date='01-Jan-1995', id=715, link='http://us.imdb.com/M/title-exact?To%20Die%20For%20(1995)', rating=[0, 0, 0, 0, 0, 1, 0, 0, 1, 0, 0, 0, 0, 0, 0, 0, 0, 0, 0], title='To Die For (1995)'),\n",
       " Row(date='01-Jan-1995', id=716, link='http://us.imdb.com/M/title-exact?Home%20for%20the%20Holidays%20(1995)', rating=[0, 0, 0, 0, 0, 0, 0, 0, 1, 0, 0, 0, 0, 0, 1, 0, 0, 0, 0], title='Home for the Holidays (1995)'),\n",
       " Row(date='01-Jan-1996', id=717, link='http://us.imdb.com/M/title-exact?Juror,%20The%20(1996)', rating=[0, 0, 0, 0, 0, 0, 0, 0, 1, 0, 0, 0, 0, 0, 0, 0, 1, 0, 0], title='Juror, The (1996)'),\n",
       " Row(date='23-Feb-1996', id=718, link='http://us.imdb.com/M/title-exact?In%20the%20Bleak%20Midwinter%20(1995)', rating=[0, 0, 0, 0, 0, 1, 0, 0, 0, 0, 0, 0, 0, 0, 0, 0, 0, 0, 0], title='In the Bleak Midwinter (1995)'),\n",
       " Row(date='01-Jan-1994', id=719, link='http://us.imdb.com/M/title-exact?Canadian%20Bacon%20(1994)', rating=[0, 0, 0, 0, 0, 1, 0, 0, 0, 0, 0, 0, 0, 0, 0, 0, 0, 1, 0], title='Canadian Bacon (1994)'),\n",
       " Row(date='01-Jan-1995', id=720, link='http://us.imdb.com/M/title-exact?First%20Knight%20(1995)', rating=[0, 1, 1, 0, 0, 0, 0, 0, 1, 0, 0, 0, 0, 0, 1, 0, 0, 0, 0], title='First Knight (1995)'),\n",
       " Row(date='01-Jan-1995', id=721, link='http://us.imdb.com/M/title-exact?Mallrats%20(1995)', rating=[0, 0, 0, 0, 0, 1, 0, 0, 0, 0, 0, 0, 0, 0, 0, 0, 0, 0, 0], title='Mallrats (1995)'),\n",
       " Row(date='01-Jan-1995', id=722, link='http://us.imdb.com/M/title-exact?Nine%20Months%20(1995)', rating=[0, 0, 0, 0, 0, 1, 0, 0, 0, 0, 0, 0, 0, 0, 0, 0, 0, 0, 0], title='Nine Months (1995)'),\n",
       " Row(date='01-Jan-1995', id=723, link='http://us.imdb.com/M/title-exact?Boys%20on%20the%20Side%20(1995)', rating=[0, 0, 0, 0, 0, 1, 0, 0, 1, 0, 0, 0, 0, 0, 0, 0, 0, 0, 0], title='Boys on the Side (1995)'),\n",
       " Row(date='01-Jan-1995', id=724, link='http://us.imdb.com/M/title-exact?Circle%20of%20Friends%20(1995)', rating=[0, 0, 0, 0, 0, 0, 0, 0, 1, 0, 0, 0, 0, 0, 1, 0, 0, 0, 0], title='Circle of Friends (1995)'),\n",
       " Row(date='01-Jan-1994', id=725, link='http://us.imdb.com/M/title-exact?Exit%20to%20Eden%20(1994)', rating=[0, 0, 0, 0, 0, 1, 0, 0, 0, 0, 0, 0, 0, 0, 0, 0, 0, 0, 0], title='Exit to Eden (1994)'),\n",
       " Row(date='01-Jan-1995', id=726, link='http://us.imdb.com/M/title-exact?Fluke%20(1995)', rating=[0, 0, 0, 0, 1, 0, 0, 0, 1, 0, 0, 0, 0, 0, 0, 0, 0, 0, 0], title='Fluke (1995)'),\n",
       " Row(date='01-Jan-1994', id=727, link='http://us.imdb.com/M/title-exact?Immortal%20Beloved%20(1994)', rating=[0, 0, 0, 0, 0, 0, 0, 0, 1, 0, 0, 0, 0, 0, 1, 0, 0, 0, 0], title='Immortal Beloved (1994)'),\n",
       " Row(date='01-Jan-1994', id=728, link='http://us.imdb.com/M/title-exact?Junior%20(1994)', rating=[0, 0, 0, 0, 0, 1, 0, 0, 0, 0, 0, 0, 0, 0, 0, 1, 0, 0, 0], title='Junior (1994)'),\n",
       " Row(date='01-Jan-1994', id=729, link='http://us.imdb.com/M/title-exact?Nell%20(1994)', rating=[0, 0, 0, 0, 0, 0, 0, 0, 1, 0, 0, 0, 0, 0, 0, 0, 0, 0, 0], title='Nell (1994)'),\n",
       " Row(date='01-Jan-1996', id=730, link='http://us.imdb.com/Title?Reine+Margot,+La+(1994)', rating=[0, 0, 0, 0, 0, 0, 0, 0, 1, 0, 0, 0, 0, 0, 1, 0, 0, 0, 0], title='Queen Margot (Reine Margot, La) (1994)'),\n",
       " Row(date='01-Jan-1994', id=731, link='http://us.imdb.com/M/title-exact?Corrina,%20Corrina%20(1994)', rating=[0, 0, 0, 0, 0, 1, 0, 0, 1, 0, 0, 0, 0, 0, 1, 0, 0, 0, 0], title='Corrina, Corrina (1994)'),\n",
       " Row(date='01-Jan-1993', id=732, link='http://us.imdb.com/M/title-exact?Dave%20(1993)', rating=[0, 0, 0, 0, 0, 1, 0, 0, 0, 0, 0, 0, 0, 0, 1, 0, 0, 0, 0], title='Dave (1993)'),\n",
       " Row(date='01-Jan-1994', id=733, link='http://us.imdb.com/M/title-exact?Go%20Fish%20(1994)', rating=[0, 0, 0, 0, 0, 0, 0, 0, 1, 0, 0, 0, 0, 0, 1, 0, 0, 0, 0], title='Go Fish (1994)'),\n",
       " Row(date='01-Jan-1993', id=734, link='http://us.imdb.com/M/title-exact?Made%20in%20America%20(1993)', rating=[0, 0, 0, 0, 0, 1, 0, 0, 0, 0, 0, 0, 0, 0, 0, 0, 0, 0, 0], title='Made in America (1993)'),\n",
       " Row(date='01-Jan-1993', id=735, link='http://us.imdb.com/M/title-exact?Philadelphia%20(1993)', rating=[0, 0, 0, 0, 0, 0, 0, 0, 1, 0, 0, 0, 0, 0, 0, 0, 0, 0, 0], title='Philadelphia (1993)'),\n",
       " Row(date='01-Jan-1993', id=736, link='http://us.imdb.com/M/title-exact?Shadowlands%20(1993)', rating=[0, 0, 0, 0, 0, 0, 0, 0, 1, 0, 0, 0, 0, 0, 1, 0, 0, 0, 0], title='Shadowlands (1993)'),\n",
       " Row(date='01-Jan-1994', id=737, link='http://us.imdb.com/M/title-exact?Sirens%20(1994)', rating=[0, 0, 0, 0, 0, 1, 0, 0, 1, 0, 0, 0, 0, 0, 0, 0, 0, 0, 0], title='Sirens (1994)'),\n",
       " Row(date='01-Jan-1994', id=738, link='http://us.imdb.com/M/title-exact?Threesome%20(1994)', rating=[0, 0, 0, 0, 0, 1, 0, 0, 0, 0, 0, 0, 0, 0, 1, 0, 0, 0, 0], title='Threesome (1994)'),\n",
       " Row(date='01-Jan-1990', id=739, link='http://us.imdb.com/M/title-exact?Pretty%20Woman%20(1990)', rating=[0, 0, 0, 0, 0, 1, 0, 0, 0, 0, 0, 0, 0, 0, 1, 0, 0, 0, 0], title='Pretty Woman (1990)'),\n",
       " Row(date='05-Apr-1996', id=740, link='http://us.imdb.com/M/title-exact?Jane%20Eyre%20(1996)', rating=[0, 0, 0, 0, 0, 0, 0, 0, 1, 0, 0, 0, 0, 0, 1, 0, 0, 0, 0], title='Jane Eyre (1996)'),\n",
       " Row(date='05-Apr-1996', id=741, link='http://us.imdb.com/M/title-exact?Last%20Supper,%20The%20(1995)', rating=[0, 0, 0, 0, 0, 0, 0, 0, 1, 0, 0, 0, 0, 0, 0, 0, 1, 0, 0], title='Last Supper, The (1995)'),\n",
       " Row(date='08-Nov-1996', id=742, link='http://us.imdb.com/M/title-exact?Ransom%20(1996)', rating=[0, 0, 0, 0, 0, 0, 0, 0, 1, 0, 0, 0, 0, 0, 0, 0, 1, 0, 0], title='Ransom (1996)'),\n",
       " Row(date='30-Aug-1996', id=743, link='http://us.imdb.com/M/title-exact?Crow%3A%20City%20of%20Angels%2C%20The%20%281996%29', rating=[0, 1, 0, 0, 0, 0, 0, 0, 0, 0, 0, 0, 0, 0, 0, 0, 1, 0, 0], title='Crow: City of Angels, The (1996)'),\n",
       " Row(date='11-Oct-1996', id=744, link='http://us.imdb.com/M/title-exact?Michael%20Collins%20(1996)', rating=[0, 0, 0, 0, 0, 0, 0, 0, 1, 0, 0, 0, 0, 0, 0, 0, 0, 1, 0], title='Michael Collins (1996)'),\n",
       " Row(date='01-Jan-1972', id=745, link='http://us.imdb.com/M/title-exact?Ruling%20Class,%20The%20(1972)', rating=[0, 0, 0, 0, 0, 1, 0, 0, 0, 0, 0, 0, 0, 0, 0, 0, 0, 0, 0], title='Ruling Class, The (1972)'),\n",
       " Row(date='01-Jan-1985', id=746, link='http://us.imdb.com/M/title-exact?Real%20Genius%20(1985)', rating=[0, 0, 0, 0, 0, 1, 0, 0, 0, 0, 0, 0, 0, 0, 0, 0, 0, 0, 0], title='Real Genius (1985)'),\n",
       " Row(date='01-Jan-1993', id=747, link='http://us.imdb.com/M/title-exact?Benny%20&%20Joon%20(1993)', rating=[0, 0, 0, 0, 0, 1, 0, 0, 0, 0, 0, 0, 0, 0, 1, 0, 0, 0, 0], title='Benny & Joon (1993)'),\n",
       " Row(date='14-Mar-1997', id=748, link='http://us.imdb.com/M/title-exact?Saint%2C%20The%20(1997)', rating=[0, 1, 0, 0, 0, 0, 0, 0, 0, 0, 0, 0, 0, 0, 1, 0, 1, 0, 0], title='Saint, The (1997)'),\n",
       " Row(date='01-Jan-1997', id=749, link='http://us.imdb.com/M/title-exact?Matchmaker%2C+The+(1997)', rating=[0, 0, 0, 0, 0, 1, 0, 0, 0, 0, 0, 0, 0, 0, 1, 0, 0, 0, 0], title='MatchMaker, The (1997)'),\n",
       " Row(date='18-Dec-1997', id=750, link='http://us.imdb.com/M/title-exact?imdb-title-118607', rating=[0, 0, 0, 0, 0, 0, 0, 0, 1, 0, 0, 0, 0, 0, 0, 0, 0, 0, 0], title='Amistad (1997)'),\n",
       " Row(date='01-Jan-1997', id=751, link='http://us.imdb.com/M/title-exact?imdb-title-120347', rating=[0, 1, 0, 0, 0, 0, 0, 0, 0, 0, 0, 0, 0, 0, 1, 0, 1, 0, 0], title='Tomorrow Never Dies (1997)'),\n",
       " Row(date='06-Feb-1998', id=752, link='http://us.imdb.com/M/title-exact?Replacement+Killers%2C+The+(1998)', rating=[0, 1, 0, 0, 0, 0, 0, 0, 0, 0, 0, 0, 0, 0, 0, 0, 1, 0, 0], title='Replacement Killers, The (1998)'),\n",
       " Row(date='01-Jan-1994', id=753, link='http://us.imdb.com/M/title-exact?Utomlyonnye%20Solntsem%20(1994)', rating=[0, 0, 0, 0, 0, 0, 0, 0, 1, 0, 0, 0, 0, 0, 0, 0, 0, 0, 0], title='Burnt By the Sun (1994)'),\n",
       " Row(date='01-Jan-1997', id=754, link='http://us.imdb.com/M/title-exact?Red+Corner+(1997)', rating=[0, 0, 0, 0, 0, 0, 1, 0, 0, 0, 0, 0, 0, 0, 0, 0, 1, 0, 0], title='Red Corner (1997)'),\n",
       " Row(date='01-Jan-1995', id=755, link='http://us.imdb.com/M/title-exact?Jumanji%20(1995)', rating=[0, 1, 1, 0, 1, 0, 0, 0, 0, 1, 0, 0, 0, 0, 0, 1, 0, 0, 0], title='Jumanji (1995)'),\n",
       " Row(date='01-Jan-1995', id=756, link='http://us.imdb.com/M/title-exact?Father%20of%20the%20Bride%20Part%20II%20(1995)', rating=[0, 0, 0, 0, 0, 1, 0, 0, 0, 0, 0, 0, 0, 0, 0, 0, 0, 0, 0], title='Father of the Bride Part II (1995)'),\n",
       " Row(date='01-Jan-1995', id=757, link='http://us.imdb.com/M/title-exact?Across%20The%20Sea%20of%20Time%20(1995)', rating=[0, 0, 0, 0, 0, 0, 0, 1, 0, 0, 0, 0, 0, 0, 0, 0, 0, 0, 0], title='Across the Sea of Time (1995)'),\n",
       " Row(date='01-Jan-1996', id=758, link='http://us.imdb.com/M/title-exact?Lawnmower%20Man%202:%20Beyond%20Cyberspace%20(1996)', rating=[0, 0, 0, 0, 0, 0, 0, 0, 0, 0, 0, 0, 0, 0, 0, 1, 1, 0, 0], title='Lawnmower Man 2: Beyond Cyberspace (1996)'),\n",
       " Row(date='01-Jan-1995', id=759, link='http://us.imdb.com/M/title-exact?Fair%20Game%20(1995)', rating=[0, 1, 0, 0, 0, 0, 0, 0, 0, 0, 0, 0, 0, 0, 0, 0, 0, 0, 0], title='Fair Game (1995)'),\n",
       " Row(date='01-Jan-1995', id=760, link='http://us.imdb.com/M/title-exact?Screamers%20(1995)', rating=[0, 0, 0, 0, 0, 0, 0, 0, 0, 0, 0, 0, 0, 0, 0, 1, 0, 0, 0], title='Screamers (1995)'),\n",
       " Row(date='01-Jan-1995', id=761, link='http://us.imdb.com/M/title-exact?Nick%20of%20Time%20(1995)', rating=[0, 1, 0, 0, 0, 0, 0, 0, 0, 0, 0, 0, 0, 0, 0, 0, 1, 0, 0], title='Nick of Time (1995)'),\n",
       " Row(date='09-Feb-1996', id=762, link='http://us.imdb.com/M/title-exact?Beautiful%20Girls%20(1996)', rating=[0, 0, 0, 0, 0, 0, 0, 0, 1, 0, 0, 0, 0, 0, 0, 0, 0, 0, 0], title='Beautiful Girls (1996)'),\n",
       " Row(date='16-Feb-1996', id=763, link='http://us.imdb.com/M/title-exact?Happy%20Gilmore%20(1996)', rating=[0, 0, 0, 0, 0, 1, 0, 0, 0, 0, 0, 0, 0, 0, 0, 0, 0, 0, 0], title='Happy Gilmore (1996)'),\n",
       " Row(date='08-Mar-1996', id=764, link='http://us.imdb.com/M/title-exact?If%20Lucy%20Fell%20(1996)', rating=[0, 0, 0, 0, 0, 1, 0, 0, 0, 0, 0, 0, 0, 0, 1, 0, 0, 0, 0], title='If Lucy Fell (1996)'),\n",
       " Row(date='01-Jan-1992', id=765, link='http://us.imdb.com/M/title-exact?Boomerang%20(1992)', rating=[0, 0, 0, 0, 0, 1, 0, 0, 0, 0, 0, 0, 0, 0, 1, 0, 0, 0, 0], title='Boomerang (1992)'),\n",
       " Row(date='01-Mar-1996', id=766, link='http://us.imdb.com/M/title-exact?Man%20of%20the%20Year%20(1995)', rating=[0, 0, 0, 0, 0, 0, 0, 1, 0, 0, 0, 0, 0, 0, 0, 0, 0, 0, 0], title='Man of the Year (1995)'),\n",
       " Row(date='01-Jan-1995', id=767, link='http://us.imdb.com/M/title-exact?Addiction,%20The%20(1995)', rating=[0, 0, 0, 0, 0, 0, 0, 0, 0, 0, 0, 1, 0, 0, 0, 0, 0, 0, 0], title='Addiction, The (1995)'),\n",
       " Row(date='01-Jan-1995', id=768, link='http://us.imdb.com/M/title-exact?Casper%20(1995)', rating=[0, 0, 1, 0, 1, 0, 0, 0, 0, 0, 0, 0, 0, 0, 0, 0, 0, 0, 0], title='Casper (1995)'),\n",
       " Row(date='01-Jan-1995', id=769, link='http://us.imdb.com/M/title-exact?Congo%20(1995)', rating=[0, 1, 1, 0, 0, 0, 0, 0, 0, 0, 0, 0, 0, 1, 0, 1, 0, 0, 0], title='Congo (1995)'),\n",
       " Row(date='01-Jan-1995', id=770, link='http://us.imdb.com/M/title-exact?Devil%20in%20a%20Blue%20Dress%20(1995)', rating=[0, 0, 0, 0, 0, 0, 1, 0, 0, 0, 1, 0, 0, 1, 0, 0, 1, 0, 0], title='Devil in a Blue Dress (1995)'),\n",
       " Row(date='01-Jan-1995', id=771, link='http://us.imdb.com/M/title-exact?Johnny%20Mnemonic%20(1995)', rating=[0, 1, 0, 0, 0, 0, 0, 0, 0, 0, 0, 0, 0, 0, 0, 1, 1, 0, 0], title='Johnny Mnemonic (1995)'),\n",
       " Row(date='01-Jan-1995', id=772, link='http://us.imdb.com/M/title-exact?Kids%20(1995)', rating=[0, 0, 0, 0, 0, 0, 0, 0, 1, 0, 0, 0, 0, 0, 0, 0, 0, 0, 0], title='Kids (1995)'),\n",
       " Row(date='01-Jan-1994', id=773, link='http://us.imdb.com/M/title-exact?Mute%20Witness%20(1994)', rating=[0, 0, 0, 0, 0, 0, 0, 0, 0, 0, 0, 0, 0, 0, 0, 0, 1, 0, 0], title='Mute Witness (1994)'),\n",
       " Row(date='01-Jan-1995', id=774, link='http://us.imdb.com/M/title-exact?Prophecy,%20The%20(1995)', rating=[0, 0, 0, 0, 0, 0, 0, 0, 0, 0, 0, 1, 0, 0, 0, 0, 0, 0, 0], title='Prophecy, The (1995)'),\n",
       " Row(date='01-Jan-1995', id=775, link='http://us.imdb.com/M/title-exact?Something%20to%20Talk%20About%20(1995)', rating=[0, 0, 0, 0, 0, 1, 0, 0, 1, 0, 0, 0, 0, 0, 1, 0, 0, 0, 0], title='Something to Talk About (1995)'),\n",
       " Row(date='01-Jan-1995', id=776, link='http://us.imdb.com/M/title-exact?Three%20Wishes%20(1995)', rating=[0, 0, 0, 0, 0, 0, 0, 0, 1, 0, 0, 0, 0, 0, 0, 0, 0, 0, 0], title='Three Wishes (1995)'),\n",
       " Row(date='01-Jan-1995', id=777, link='http://us.imdb.com/M/title-exact?Castle%20Freak%20(1995)', rating=[0, 0, 0, 0, 0, 0, 0, 0, 0, 0, 0, 1, 0, 0, 0, 0, 0, 0, 0], title='Castle Freak (1995)'),\n",
       " Row(date='01-Jan-1995', id=778, link='http://us.imdb.com/M/title-exact?Don%20Juan%20DeMarco%20and%20the%20Centerfold%20(1995)', rating=[0, 0, 0, 0, 0, 1, 0, 0, 1, 0, 0, 0, 0, 0, 1, 0, 0, 0, 0], title='Don Juan DeMarco (1995)'),\n",
       " Row(date='01-Jan-1994', id=779, link='http://us.imdb.com/M/title-exact?Drop%20Zone%20(1994)', rating=[0, 1, 0, 0, 0, 0, 0, 0, 0, 0, 0, 0, 0, 0, 0, 0, 0, 0, 0], title='Drop Zone (1994)'),\n",
       " Row(date='01-Jan-1994', id=780, link='http://us.imdb.com/M/title-exact?Dumb%20&%20Dumber%20(1994)', rating=[0, 0, 0, 0, 0, 1, 0, 0, 0, 0, 0, 0, 0, 0, 0, 0, 0, 0, 0], title='Dumb & Dumber (1994)'),\n",
       " Row(date='01-Jan-1995', id=781, link='http://us.imdb.com/M/title-exact?French%20Kiss%20(1995)', rating=[0, 0, 0, 0, 0, 1, 0, 0, 0, 0, 0, 0, 0, 0, 1, 0, 0, 0, 0], title='French Kiss (1995)'),\n",
       " Row(date='01-Jan-1994', id=782, link='http://us.imdb.com/M/title-exact?Little%20Odessa%20(1994)', rating=[0, 0, 0, 0, 0, 0, 0, 0, 1, 0, 0, 0, 0, 0, 0, 0, 0, 0, 0], title='Little Odessa (1994)'),\n",
       " Row(date='01-Jan-1994', id=783, link='http://us.imdb.com/M/title-exact?Milk%20Money%20(1994)', rating=[0, 0, 0, 0, 0, 1, 0, 0, 0, 0, 0, 0, 0, 0, 1, 0, 0, 0, 0], title='Milk Money (1994)'),\n",
       " Row(date='01-Jan-1993', id=784, link='http://us.imdb.com/Title?Beyond+Bedlam+(1993)', rating=[0, 0, 0, 0, 0, 0, 0, 0, 1, 0, 0, 1, 0, 0, 0, 0, 0, 0, 0], title='Beyond Bedlam (1993)'),\n",
       " Row(date='01-Jan-1994', id=785, link='http://us.imdb.com/M/title-exact?Only%20You%20(1994)', rating=[0, 0, 0, 0, 0, 1, 0, 0, 0, 0, 0, 0, 0, 0, 1, 0, 0, 0, 0], title='Only You (1994)'),\n",
       " Row(date='01-Jan-1995', id=786, link='http://us.imdb.com/M/title-exact?Perez%20Family,%20The%20(1995)', rating=[0, 0, 0, 0, 0, 1, 0, 0, 0, 0, 0, 0, 0, 0, 1, 0, 0, 0, 0], title='Perez Family, The (1995)'),\n",
       " Row(date='01-Jan-1995', id=787, link='http://us.imdb.com/M/title-exact?Roommates%20(1995)', rating=[0, 0, 0, 0, 0, 1, 0, 0, 1, 0, 0, 0, 0, 0, 0, 0, 0, 0, 0], title='Roommates (1995)'),\n",
       " Row(date='01-Jan-1994', id=788, link='http://us.imdb.com/M/title-exact?Relative%20Fear%20(1994)', rating=[0, 0, 0, 0, 0, 0, 0, 0, 0, 0, 0, 1, 0, 0, 0, 0, 1, 0, 0], title='Relative Fear (1994)'),\n",
       " Row(date='01-Jan-1995', id=789, link='http://us.imdb.com/M/title-exact?Swimming%20with%20Sharks%20(1995)', rating=[0, 0, 0, 0, 0, 1, 0, 0, 1, 0, 0, 0, 0, 0, 0, 0, 0, 0, 0], title='Swimming with Sharks (1995)'),\n",
       " Row(date='01-Jan-1995', id=790, link='http://us.imdb.com/M/title-exact?Tommy%20Boy%20(1995)', rating=[0, 0, 0, 0, 0, 1, 0, 0, 0, 0, 0, 0, 0, 0, 0, 0, 0, 0, 0], title='Tommy Boy (1995)'),\n",
       " Row(date='01-Jan-1995', id=791, link='http://us.imdb.com/M/title-exact?Baby-Sitters%20Club,%20The%20(1995)', rating=[0, 0, 0, 0, 1, 0, 0, 0, 0, 0, 0, 0, 0, 0, 0, 0, 0, 0, 0], title='Baby-Sitters Club, The (1995)'),\n",
       " Row(date='01-Jan-1994', id=792, link='http://us.imdb.com/M/title-exact?Bullets%20Over%20Broadway%20(1994)', rating=[0, 0, 0, 0, 0, 1, 0, 0, 0, 0, 0, 0, 0, 0, 0, 0, 0, 0, 0], title='Bullets Over Broadway (1994)'),\n",
       " Row(date='01-Jan-1994', id=793, link='http://us.imdb.com/M/title-exact?Crooklyn%20(1994)', rating=[0, 0, 0, 0, 0, 1, 0, 0, 0, 0, 0, 0, 0, 0, 0, 0, 0, 0, 0], title='Crooklyn (1994)'),\n",
       " Row(date='01-Jan-1994', id=794, link='http://us.imdb.com/M/title-exact?It%20Could%20Happen%20to%20You%20(1994)', rating=[0, 0, 0, 0, 0, 0, 0, 0, 1, 0, 0, 0, 0, 0, 1, 0, 0, 0, 0], title='It Could Happen to You (1994)'),\n",
       " Row(date='01-Jan-1994', id=795, link='http://us.imdb.com/M/title-exact?Richie%20Rich%20(1994)', rating=[0, 0, 0, 0, 1, 1, 0, 0, 0, 0, 0, 0, 0, 0, 0, 0, 0, 0, 0], title='Richie Rich (1994)'),\n",
       " Row(date='01-Jan-1994', id=796, link='http://us.imdb.com/M/title-exact?Speechless%20(1994)', rating=[0, 0, 0, 0, 0, 1, 0, 0, 0, 0, 0, 0, 0, 0, 1, 0, 0, 0, 0], title='Speechless (1994)'),\n",
       " Row(date='01-Jan-1994', id=797, link='http://us.imdb.com/M/title-exact?Timecop%20(1994)', rating=[0, 1, 0, 0, 0, 0, 0, 0, 0, 0, 0, 0, 0, 0, 0, 1, 0, 0, 0], title='Timecop (1994)'),\n",
       " Row(date='01-Jan-1995', id=798, link='http://us.imdb.com/M/title-exact?Bad%20Company%20(1995)', rating=[0, 1, 0, 0, 0, 0, 0, 0, 0, 0, 0, 0, 0, 0, 0, 0, 0, 0, 0], title='Bad Company (1995)'),\n",
       " Row(date='01-Jan-1995', id=799, link='http://us.imdb.com/M/title-exact?Boys%20Life%20(1995)', rating=[0, 0, 0, 0, 0, 0, 0, 0, 1, 0, 0, 0, 0, 0, 0, 0, 0, 0, 0], title='Boys Life (1995)'),\n",
       " Row(date='01-Jan-1995', id=800, link='http://us.imdb.com/M/title-exact?In%20the%20Mouth%20of%20Madness%20(1995)', rating=[0, 0, 0, 0, 0, 0, 0, 0, 0, 0, 0, 1, 0, 0, 0, 0, 1, 0, 0], title='In the Mouth of Madness (1995)'),\n",
       " Row(date='01-Jan-1994', id=801, link='http://us.imdb.com/M/title-exact?Air%20Up%20There,%20The%20(1994)', rating=[0, 0, 0, 0, 0, 1, 0, 0, 0, 0, 0, 0, 0, 0, 0, 0, 0, 0, 0], title='Air Up There, The (1994)'),\n",
       " Row(date='01-Jan-1993', id=802, link='http://us.imdb.com/M/title-exact?Hard%20Target%20(1993)', rating=[0, 1, 1, 0, 0, 0, 1, 0, 0, 0, 0, 0, 0, 0, 0, 0, 1, 0, 0], title='Hard Target (1993)'),\n",
       " Row(date='01-Jan-1993', id=803, link='http://us.imdb.com/M/title-exact?Heaven%20&%20Earth%20(1993)', rating=[0, 1, 0, 0, 0, 0, 0, 0, 1, 0, 0, 0, 0, 0, 0, 0, 0, 1, 0], title='Heaven & Earth (1993)'),\n",
       " Row(date='01-Jan-1994', id=804, link='http://us.imdb.com/M/title-exact?Jimmy%20Hollywood%20(1994)', rating=[0, 0, 0, 0, 0, 1, 0, 0, 0, 0, 0, 0, 0, 0, 0, 0, 0, 0, 0], title='Jimmy Hollywood (1994)'),\n",
       " Row(date='01-Jan-1993', id=805, link='http://us.imdb.com/M/title-exact?Manhattan%20Murder%20Mystery%20(1993)', rating=[0, 0, 0, 0, 0, 1, 0, 0, 0, 0, 0, 0, 0, 1, 0, 0, 0, 0, 0], title='Manhattan Murder Mystery (1993)'),\n",
       " Row(date='01-Jan-1993', id=806, link='http://us.imdb.com/M/title-exact?Menace%20II%20Society%20(1993)', rating=[0, 1, 0, 0, 0, 0, 1, 0, 1, 0, 0, 0, 0, 0, 0, 0, 0, 0, 0], title='Menace II Society (1993)'),\n",
       " Row(date='01-Jan-1993', id=807, link='http://us.imdb.com/M/title-exact?Poetic%20Justice%20(1993)', rating=[0, 0, 0, 0, 0, 0, 0, 0, 1, 0, 0, 0, 0, 0, 0, 0, 0, 0, 0], title='Poetic Justice (1993)'),\n",
       " Row(date='01-Jan-1993', id=808, link='http://us.imdb.com/M/title-exact?Program,%20The%20(1993)', rating=[0, 1, 0, 0, 0, 0, 0, 0, 1, 0, 0, 0, 0, 0, 0, 0, 0, 0, 0], title='Program, The (1993)'),\n",
       " Row(date='01-Jan-1993', id=809, link='http://us.imdb.com/M/title-exact?Rising%20Sun%20(1993)', rating=[0, 1, 0, 0, 0, 0, 0, 0, 1, 0, 0, 0, 0, 1, 0, 0, 0, 0, 0], title='Rising Sun (1993)'),\n",
       " Row(date='01-Jan-1994', id=810, link='http://us.imdb.com/M/title-exact?Shadow,%20The%20(1994)', rating=[0, 1, 0, 0, 0, 0, 0, 0, 0, 0, 0, 0, 0, 0, 0, 0, 0, 0, 0], title='Shadow, The (1994)'),\n",
       " Row(date='01-Jan-1993', id=811, link='http://us.imdb.com/M/title-exact?Thirty-Two%20Short%20Films%20About%20Glenn%20Gould%20(1993)', rating=[0, 0, 0, 0, 0, 0, 0, 1, 0, 0, 0, 0, 0, 0, 0, 0, 0, 0, 0], title='Thirty-Two Short Films About Glenn Gould (1993)'),\n",
       " Row(date='01-Jan-1994', id=812, link='http://us.imdb.com/M/title-exact?Andre%20(1994)', rating=[0, 0, 1, 0, 1, 0, 0, 0, 0, 0, 0, 0, 0, 0, 0, 0, 0, 0, 0], title='Andre (1994)'),\n",
       " Row(date='15-Mar-1996', id=813, link='http://us.imdb.com/M/title-exact?Celluloid%20Closet,%20The%20(1995)', rating=[0, 0, 0, 0, 0, 0, 0, 1, 0, 0, 0, 0, 0, 0, 0, 0, 0, 0, 0], title='Celluloid Closet, The (1995)'),\n",
       " Row(date='01-Jan-1994', id=814, link='http://us.imdb.com/M/title-exact?Great%20Day%20in%20Harlem,%20A%20(1994)', rating=[0, 0, 0, 0, 0, 0, 0, 1, 0, 0, 0, 0, 0, 0, 0, 0, 0, 0, 0], title='Great Day in Harlem, A (1994)'),\n",
       " Row(date='30-Nov-1996', id=815, link='http://us.imdb.com/M/title-exact?One%20Fine%20Day%20(1996)', rating=[0, 0, 0, 0, 0, 0, 0, 0, 1, 0, 0, 0, 0, 0, 1, 0, 0, 0, 0], title='One Fine Day (1996)'),\n",
       " Row(date='01-Jan-1995', id=816, link='http://us.imdb.com/M/title-exact?Candyman:%20Farewell%20to%20the%20Flesh%20(1995)', rating=[0, 0, 0, 0, 0, 0, 0, 0, 0, 0, 0, 1, 0, 0, 0, 0, 0, 0, 0], title='Candyman: Farewell to the Flesh (1995)'),\n",
       " Row(date='29-Mar-1996', id=817, link='http://us.imdb.com/M/title-exact?Frisk%20(1995)', rating=[0, 0, 0, 0, 0, 0, 0, 0, 1, 0, 0, 0, 0, 0, 0, 0, 0, 0, 0], title='Frisk (1995)'),\n",
       " Row(date='22-Mar-1996', id=818, link='http://us.imdb.com/M/title-exact?Girl%206%20(1996)', rating=[0, 0, 0, 0, 0, 1, 0, 0, 0, 0, 0, 0, 0, 0, 0, 0, 0, 0, 0], title='Girl 6 (1996)'),\n",
       " Row(date='31-May-1996', id=819, link='http://us.imdb.com/M/title-exact?Eddie%20(1996)', rating=[0, 0, 0, 0, 0, 1, 0, 0, 0, 0, 0, 0, 0, 0, 0, 0, 0, 0, 0], title='Eddie (1996)'),\n",
       " Row(date='15-Nov-1996', id=820, link='http://us.imdb.com/M/title-exact?Space%20Jam%20(1996)', rating=[0, 0, 1, 1, 1, 1, 0, 0, 0, 1, 0, 0, 0, 0, 0, 0, 0, 0, 0], title='Space Jam (1996)'),\n",
       " Row(date='19-Apr-1996', id=821, link='http://us.imdb.com/M/title-exact?Mrs.%20Winterbourne%20(1996)', rating=[0, 0, 0, 0, 0, 1, 0, 0, 0, 0, 0, 0, 0, 0, 1, 0, 0, 0, 0], title='Mrs. Winterbourne (1996)'),\n",
       " Row(date='01-Jan-1968', id=822, link='http://us.imdb.com/M/title-exact?Faces%20(1968)', rating=[0, 0, 0, 0, 0, 0, 0, 0, 1, 0, 0, 0, 0, 0, 0, 0, 0, 0, 0], title='Faces (1968)'),\n",
       " Row(date='26-Apr-1996', id=823, link='http://us.imdb.com/M/title-exact?Mulholland%20Falls%20(1996)', rating=[0, 0, 0, 0, 0, 0, 1, 0, 0, 0, 1, 0, 0, 0, 0, 0, 1, 0, 0], title='Mulholland Falls (1996)'),\n",
       " Row(date='03-May-1996', id=824, link='http://us.imdb.com/M/title-exact?Great%20White%20Hype,%20The%20(1996)', rating=[0, 0, 0, 0, 0, 1, 0, 0, 0, 0, 0, 0, 0, 0, 0, 0, 0, 0, 0], title='Great White Hype, The (1996)'),\n",
       " Row(date='31-May-1996', id=825, link='http://us.imdb.com/M/title-exact?Arrival,%20The%20(1996)', rating=[0, 1, 0, 0, 0, 0, 0, 0, 0, 0, 0, 0, 0, 0, 0, 1, 1, 0, 0], title='Arrival, The (1996)'),\n",
       " Row(date='07-Jun-1996', id=826, link='http://us.imdb.com/M/title-exact?Phantom,%20The%20(1996)', rating=[0, 0, 1, 0, 0, 0, 0, 0, 0, 0, 0, 0, 0, 0, 0, 0, 0, 0, 0], title='Phantom, The (1996)'),\n",
       " Row(date='06-Dec-1996', id=827, link='http://us.imdb.com/M/title-exact?Daylight%20(1996)', rating=[0, 1, 1, 0, 0, 0, 0, 0, 0, 0, 0, 0, 0, 0, 0, 0, 1, 0, 0], title='Daylight (1996)'),\n",
       " Row(date='21-Aug-1996', id=828, link='http://us.imdb.com/M/title-exact?Alaska%20(1996)', rating=[0, 0, 1, 0, 1, 0, 0, 0, 0, 0, 0, 0, 0, 0, 0, 0, 0, 0, 0], title='Alaska (1996)'),\n",
       " Row(date='19-Jul-1996', id=829, link='http://us.imdb.com/M/title-exact?Fled%20(1996)', rating=[0, 1, 1, 0, 0, 0, 0, 0, 0, 0, 0, 0, 0, 0, 0, 0, 0, 0, 0], title='Fled (1996)'),\n",
       " Row(date='17-May-1996', id=830, link='http://us.imdb.com/M/title-exact?Power%2098%20(1995)', rating=[0, 1, 0, 0, 0, 0, 0, 0, 0, 0, 0, 0, 0, 1, 0, 0, 1, 0, 0], title='Power 98 (1995)'),\n",
       " Row(date='09-Aug-1996', id=831, link='http://us.imdb.com/M/title-exact?Escape%20from%20L.A.%20(1996)', rating=[0, 1, 1, 0, 0, 0, 0, 0, 0, 0, 0, 0, 0, 0, 0, 1, 1, 0, 0], title='Escape from L.A. (1996)'),\n",
       " Row(date='06-Sep-1996', id=832, link='http://us.imdb.com/M/title-exact?Bogus%20(1996)', rating=[0, 0, 0, 0, 1, 0, 0, 0, 1, 1, 0, 0, 0, 0, 0, 0, 0, 0, 0], title='Bogus (1996)'),\n",
       " Row(date='06-Sep-1996', id=833, link='http://us.imdb.com/M/title-exact?Bulletproof%20(1996)', rating=[0, 1, 0, 0, 0, 0, 0, 0, 0, 0, 0, 0, 0, 0, 0, 0, 0, 0, 0], title='Bulletproof (1996)'),\n",
       " Row(date='01-Jan-1995', id=834, link='http://us.imdb.com/M/title-exact?Halloween:%20The%20Curse%20of%20Michael%20Myers%20(1995)', rating=[0, 0, 0, 0, 0, 0, 0, 0, 0, 0, 0, 1, 0, 0, 0, 0, 1, 0, 0], title='Halloween: The Curse of Michael Myers (1995)'),\n",
       " Row(date='01-Jan-1934', id=835, link='http://us.imdb.com/M/title-exact?Gay%20Divorcee%2C%20The%20%281934%29', rating=[0, 0, 0, 0, 0, 1, 0, 0, 0, 0, 0, 0, 1, 0, 1, 0, 0, 0, 0], title='Gay Divorcee, The (1934)'),\n",
       " Row(date='01-Jan-1939', id=836, link='http://us.imdb.com/M/title-exact?Ninotchka%20(1939)', rating=[0, 0, 0, 0, 0, 1, 0, 0, 0, 0, 0, 0, 0, 0, 1, 0, 0, 0, 0], title='Ninotchka (1939)'),\n",
       " Row(date='01-Jan-1941', id=837, link='http://us.imdb.com/M/title-exact?Meet%20John%20Doe%20(1941)', rating=[0, 0, 0, 0, 0, 0, 0, 0, 1, 0, 0, 0, 0, 0, 0, 0, 0, 0, 0], title='Meet John Doe (1941)'),\n",
       " Row(date='30-Aug-1996', id=838, link='http://us.imdb.com/M/title-exact?In%20the%20Line%20of%20Duty%202%20(1987)', rating=[0, 1, 0, 0, 0, 0, 0, 0, 0, 0, 0, 0, 0, 0, 0, 0, 0, 0, 0], title='In the Line of Duty 2 (1987)'),\n",
       " Row(date='01-Jan-1995', id=839, link='http://us.imdb.com/M/title-exact?Loch%20Ness%20(1995)', rating=[0, 0, 0, 0, 0, 0, 0, 0, 0, 0, 0, 1, 0, 0, 0, 0, 1, 0, 0], title='Loch Ness (1995)'),\n",
       " Row(date='20-Sep-1996', id=840, link='http://us.imdb.com/M/title-exact?Last%20Man%20Standing%20(1996/I)', rating=[0, 1, 0, 0, 0, 0, 0, 0, 1, 0, 0, 0, 0, 0, 0, 0, 0, 0, 1], title='Last Man Standing (1996)'),\n",
       " Row(date='04-Oct-1996', id=841, link='http://us.imdb.com/M/title-exact?Glimmer%20Man,%20The%20(1996)', rating=[0, 1, 0, 0, 0, 0, 0, 0, 0, 0, 0, 0, 0, 0, 0, 0, 1, 0, 0], title='Glimmer Man, The (1996)'),\n",
       " Row(date='01-Jan-1960', id=842, link='http://us.imdb.com/M/title-exact?Pollyanna%20(1960)', rating=[0, 0, 0, 0, 1, 1, 0, 0, 1, 0, 0, 0, 0, 0, 0, 0, 0, 0, 0], title='Pollyanna (1960)'),\n",
       " Row(date='01-Jan-1959', id=843, link='http://us.imdb.com/M/title-exact?Shaggy%20Dog,%20The%20(1959)', rating=[0, 0, 0, 0, 1, 1, 0, 0, 0, 0, 0, 0, 0, 0, 0, 0, 0, 0, 0], title='Shaggy Dog, The (1959)'),\n",
       " Row(date='23-Aug-1996', id=844, link='http://us.imdb.com/M/title-exact?Freeway%20(1996)', rating=[0, 0, 0, 0, 0, 0, 1, 0, 0, 0, 0, 0, 0, 0, 0, 0, 0, 0, 0], title='Freeway (1996)'),\n",
       " Row(date='28-Sep-1996', id=845, link='http://us.imdb.com/M/title-exact?That%20Thing%20You%20Do!%20(1996)', rating=[0, 0, 0, 0, 0, 1, 0, 0, 0, 0, 0, 0, 0, 0, 0, 0, 0, 0, 0], title='That Thing You Do! (1996)'),\n",
       " Row(date='18-Oct-1996', id=846, link='http://us.imdb.com/M/title-exact?To%20Gillian%20on%20Her%2037th%20Birthday%20(1996)', rating=[0, 0, 0, 0, 0, 0, 0, 0, 1, 0, 0, 0, 0, 0, 1, 0, 0, 0, 0], title='To Gillian on Her 37th Birthday (1996)'),\n",
       " Row(date='11-Oct-1996', id=847, link='http://us.imdb.com/M/title-exact?Looking%20for%20Richard%20(1996)', rating=[0, 0, 0, 0, 0, 0, 0, 1, 1, 0, 0, 0, 0, 0, 0, 0, 0, 0, 0], title='Looking for Richard (1996)'),\n",
       " Row(date='01-Jan-1944', id=848, link='http://us.imdb.com/M/title-exact?Murder,%20My%20Sweet%20(1944)', rating=[0, 0, 0, 0, 0, 0, 0, 0, 0, 0, 1, 0, 0, 0, 0, 0, 1, 0, 0], title='Murder, My Sweet (1944)'),\n",
       " Row(date='01-Jan-1990', id=849, link='http://us.imdb.com/M/title-exact?Days%20of%20Thunder%20(1990)', rating=[0, 1, 0, 0, 0, 0, 0, 0, 0, 0, 0, 0, 0, 0, 1, 0, 0, 0, 0], title='Days of Thunder (1990)'),\n",
       " Row(date='27-Sep-1996', id=850, link='http://us.imdb.com/M/title-exact?Perfect%20Candidate,%20A%20(1996)', rating=[0, 0, 0, 0, 0, 0, 0, 1, 0, 0, 0, 0, 0, 0, 0, 0, 0, 0, 0], title='Perfect Candidate, A (1996)'),\n",
       " Row(date='01-Jan-1966', id=851, link=\"http://us.imdb.com/M/title-exact?Deux%20ou%20trois%20choses%20que%20je%20sais%20d'elle%20(1966)\", rating=[0, 0, 0, 0, 0, 0, 0, 0, 1, 0, 0, 0, 0, 0, 0, 0, 0, 0, 0], title='Two or Three Things I Know About Her (1966)'),\n",
       " Row(date='26-Oct-1996', id=852, link='http://us.imdb.com/M/title-exact?Bloody%20Child%2C%20The%20%281996%29', rating=[0, 0, 0, 0, 0, 0, 0, 0, 1, 0, 0, 0, 0, 0, 0, 0, 1, 0, 0], title='Bloody Child, The (1996)'),\n",
       " Row(date='01-Jan-1992', id=853, link='http://us.imdb.com/M/title-exact?Braindead%20(1992)', rating=[0, 0, 0, 0, 0, 1, 0, 0, 0, 0, 0, 1, 0, 0, 0, 0, 0, 0, 0], title='Braindead (1992)'),\n",
       " Row(date='01-Jan-1987', id=854, link='http://us.imdb.com/M/title-exact?Bad%20Taste%20(1987)', rating=[0, 0, 0, 0, 0, 1, 0, 0, 0, 0, 0, 1, 0, 0, 0, 0, 0, 0, 0], title='Bad Taste (1987)'),\n",
       " Row(date='01-Jan-1981', id=855, link='http://us.imdb.com/M/title-exact?Diva%20(1981)', rating=[0, 1, 0, 0, 0, 0, 0, 0, 1, 0, 0, 0, 0, 1, 1, 0, 1, 0, 0], title='Diva (1981)'),\n",
       " Row(date='01-Jan-1991', id=856, link='http://us.imdb.com/M/title-exact?Night%20on%20Earth%20(1991)', rating=[0, 0, 0, 0, 0, 1, 0, 0, 1, 0, 0, 0, 0, 0, 0, 0, 0, 0, 0], title='Night on Earth (1991)'),\n",
       " Row(date='08-Nov-1996', id=857, link='http://us.imdb.com/M/title-exact?Paris%20Was%20a%20Woman%20(1995)', rating=[0, 0, 0, 0, 0, 0, 0, 1, 0, 0, 0, 0, 0, 0, 0, 0, 0, 0, 0], title='Paris Was a Woman (1995)'),\n",
       " Row(date='01-Jan-1996', id=858, link='http://us.imdb.com/M/title-exact?Amityville:%20Dollhouse%20(1996)', rating=[0, 0, 0, 0, 0, 0, 0, 0, 0, 0, 0, 1, 0, 0, 0, 0, 0, 0, 0], title='Amityville: Dollhouse (1996)'),\n",
       " Row(date='01-Jan-1986', id=859, link=\"http://us.imdb.com/M/title-exact?April%20Fool's%20Day%20(1986)\", rating=[0, 0, 0, 0, 0, 1, 0, 0, 0, 0, 0, 1, 0, 0, 0, 0, 0, 0, 0], title=\"April Fool's Day (1986)\"),\n",
       " Row(date='01-Jan-1987', id=860, link='http://us.imdb.com/M/title-exact?Believers,%20The%20(1987)', rating=[0, 0, 0, 0, 0, 0, 0, 0, 0, 0, 0, 1, 0, 0, 0, 0, 1, 0, 0], title='Believers, The (1987)'),\n",
       " Row(date='01-Jan-1986', id=861, link='http://us.imdb.com/M/title-exact?Nosferatu%20a%20Venezia%20(1986)', rating=[0, 0, 0, 0, 0, 0, 0, 0, 0, 0, 0, 1, 0, 0, 0, 0, 0, 0, 0], title='Nosferatu a Venezia (1986)'),\n",
       " Row(date='22-Nov-1996', id=862, link='http://us.imdb.com/M/title-exact?Jingle%20All%20the%20Way%20(1996)', rating=[0, 0, 1, 0, 1, 1, 0, 0, 0, 0, 0, 0, 0, 0, 0, 0, 0, 0, 0], title='Jingle All the Way (1996)'),\n",
       " Row(date='08-Nov-1996', id=863, link='http://us.imdb.com/M/title-exact?Giardino%20dei%20Finzi-Contini,%20Il%20(1970)', rating=[0, 0, 0, 0, 0, 0, 0, 0, 1, 0, 0, 0, 0, 0, 0, 0, 0, 0, 0], title='Garden of Finzi-Contini, The (Giardino dei Finzi-Contini, Il) (1970)'),\n",
       " Row(date='20-Dec-1996', id=864, link='http://us.imdb.com/M/title-exact?My%20Fellow%20Americans%20(1996)', rating=[0, 0, 0, 0, 0, 1, 0, 0, 0, 0, 0, 0, 0, 0, 0, 0, 0, 0, 0], title='My Fellow Americans (1996)'),\n",
       " Row(date='01-Jan-1997', id=865, link='http://us.imdb.com/M/title-exact?Ice+Storm%2C+The+(1997)', rating=[0, 0, 0, 0, 0, 0, 0, 0, 1, 0, 0, 0, 0, 0, 0, 0, 0, 0, 0], title='Ice Storm, The (1997)'),\n",
       " Row(date='25-Dec-1996', id=866, link='http://us.imdb.com/M/title-exact?Michael%20(1996)', rating=[0, 0, 0, 0, 0, 1, 0, 0, 0, 0, 0, 0, 0, 0, 1, 0, 0, 0, 0], title='Michael (1996)'),\n",
       " Row(date='25-Dec-1996', id=867, link='http://us.imdb.com/M/title-exact?Whole%20Wide%20World,%20The%20(1996)', rating=[0, 0, 0, 0, 0, 0, 0, 0, 1, 0, 0, 0, 0, 0, 0, 0, 0, 0, 0], title='Whole Wide World, The (1996)'),\n",
       " Row(date='10-Jan-1997', id=868, link='http://us.imdb.com/M/title-exact?Hearts%20and%20Minds%20(1996)', rating=[0, 0, 0, 0, 0, 0, 0, 0, 1, 0, 0, 0, 0, 0, 0, 0, 0, 0, 0], title='Hearts and Minds (1996)'),\n",
       " Row(date='14-Feb-1997', id=869, link='http://us.imdb.com/M/title-exact?Fools%20Rush%20In%20(1997)', rating=[0, 0, 0, 0, 0, 1, 0, 0, 0, 0, 0, 0, 0, 0, 1, 0, 0, 0, 0], title='Fools Rush In (1997)'),\n",
       " Row(date='14-Feb-1997', id=870, link='http://us.imdb.com/M/title-exact?Touch%20(1997)', rating=[0, 0, 0, 0, 0, 0, 0, 0, 0, 0, 0, 0, 0, 0, 1, 0, 0, 0, 0], title='Touch (1997)'),\n",
       " Row(date='14-Feb-1997', id=871, link='http://us.imdb.com/M/title-exact?Vegas%20Vacation%20(1997)', rating=[0, 0, 0, 0, 0, 1, 0, 0, 0, 0, 0, 0, 0, 0, 0, 0, 0, 0, 0], title='Vegas Vacation (1997)'),\n",
       " Row(date='14-Mar-1997', id=872, link='http://us.imdb.com/M/title-exact?Love%20Jones%20(1997)', rating=[0, 0, 0, 0, 0, 0, 0, 0, 0, 0, 0, 0, 0, 0, 1, 0, 0, 0, 0], title='Love Jones (1997)'),\n",
       " Row(date='01-Aug-1997', id=873, link='http://us.imdb.com/M/title-exact?Picture+Perfect+(1997)', rating=[0, 0, 0, 0, 0, 1, 0, 0, 0, 0, 0, 0, 0, 0, 1, 0, 0, 0, 0], title='Picture Perfect (1997)'),\n",
       " Row(date='08-Aug-1997', id=874, link='http://us.imdb.com/M/title-exact?Career+Girls+(1997)', rating=[0, 0, 0, 0, 0, 0, 0, 0, 1, 0, 0, 0, 0, 0, 0, 0, 0, 0, 0], title='Career Girls (1997)'),\n",
       " Row(date='22-Aug-1997', id=875, link='http://us.imdb.com/M/title-exact?She%27s+So+Lovely+(1997)', rating=[0, 0, 0, 0, 0, 0, 0, 0, 1, 0, 0, 0, 0, 0, 1, 0, 0, 0, 0], title=\"She's So Lovely (1997)\"),\n",
       " Row(date='22-Aug-1997', id=876, link='http://us.imdb.com/M/title-exact?Money+Talks+(1997)', rating=[0, 1, 0, 0, 0, 1, 0, 0, 0, 0, 0, 0, 0, 0, 0, 0, 0, 0, 0], title='Money Talks (1997)'),\n",
       " Row(date='01-Jan-1997', id=877, link='http://us.imdb.com/M/title-exact?Excess+Baggage+(1997)', rating=[0, 0, 1, 0, 0, 0, 0, 0, 0, 0, 0, 0, 0, 0, 1, 0, 0, 0, 0], title='Excess Baggage (1997)'),\n",
       " Row(date='14-Feb-1997', id=878, link='http://us.imdb.com/M/title-exact?That%20Darn%20Cat%20(1997)', rating=[0, 0, 0, 0, 1, 1, 0, 0, 0, 0, 0, 0, 0, 1, 0, 0, 0, 0, 0], title='That Darn Cat! (1997)'),\n",
       " Row(date='01-Jan-1997', id=879, link='http://us.imdb.com/M/title-exact?Peacemaker%2C+The+(1997)', rating=[0, 1, 0, 0, 0, 0, 0, 0, 0, 0, 0, 0, 0, 0, 0, 0, 1, 1, 0], title='Peacemaker, The (1997)'),\n",
       " Row(date='01-Jan-1997', id=880, link='http://us.imdb.com/M/title-exact?Soul+Food+(1997)', rating=[0, 0, 0, 0, 0, 0, 0, 0, 1, 0, 0, 0, 0, 0, 0, 0, 0, 0, 0], title='Soul Food (1997)'),\n",
       " Row(date='22-Aug-1997', id=881, link='http://us.imdb.com/M/title-exact?Money+Talks+(1997)', rating=[0, 1, 0, 0, 0, 1, 0, 0, 0, 0, 0, 0, 0, 0, 0, 0, 0, 0, 0], title='Money Talks (1997)'),\n",
       " Row(date='01-Jan-1997', id=882, link='http://us.imdb.com/M/title-exact?Washington+Square+(1997)', rating=[0, 0, 0, 0, 0, 0, 0, 0, 1, 0, 0, 0, 0, 0, 0, 0, 0, 0, 0], title='Washington Square (1997)'),\n",
       " Row(date='01-Jan-1997', id=883, link='http://us.imdb.com/M/title-exact?Telling+Lies+in+America+(1997)', rating=[0, 0, 0, 0, 0, 0, 0, 0, 1, 0, 0, 0, 0, 0, 0, 0, 0, 0, 0], title='Telling Lies in America (1997)'),\n",
       " Row(date='01-Jan-1997', id=884, link='http://us.imdb.com/M/title-exact?Year+of+the+Horse+(1997)', rating=[0, 0, 0, 0, 0, 0, 0, 1, 0, 0, 0, 0, 0, 0, 0, 0, 0, 0, 0], title='Year of the Horse (1997)'),\n",
       " Row(date='01-Jan-1998', id=885, link='http://us.imdb.com/M/title-exact?Phantoms+(1998)', rating=[0, 0, 0, 0, 0, 0, 0, 0, 0, 0, 0, 1, 0, 0, 0, 0, 0, 0, 0], title='Phantoms (1998)'),\n",
       " Row(date='01-Jan-1997', id=886, link='http://us.imdb.com/M/title-exact?Life+Less+Ordinary,+A+(1997)', rating=[0, 0, 0, 0, 0, 0, 0, 0, 0, 0, 0, 0, 0, 0, 1, 0, 1, 0, 0], title='Life Less Ordinary, A (1997)'),\n",
       " Row(date='01-Jan-1997', id=887, link=\"http://us.imdb.com/M/title-exact?Eve's+Bayou+(1997)\", rating=[0, 0, 0, 0, 0, 0, 0, 0, 1, 0, 0, 0, 0, 0, 0, 0, 0, 0, 0], title=\"Eve's Bayou (1997)\"),\n",
       " Row(date='01-Jan-1997', id=888, link='http://us.imdb.com/M/title-exact?One+Night+Stand+(1997)', rating=[0, 0, 0, 0, 0, 0, 0, 0, 1, 0, 0, 0, 0, 0, 0, 0, 0, 0, 0], title='One Night Stand (1997)'),\n",
       " Row(date='01-Jan-1997', id=889, link='http://us.imdb.com/M/title-exact?Tango+Lesson,+The+(1997)', rating=[0, 0, 0, 0, 0, 0, 0, 0, 0, 0, 0, 0, 0, 0, 1, 0, 0, 0, 0], title='Tango Lesson, The (1997)'),\n",
       " Row(date='01-Jan-1997', id=890, link='http://us.imdb.com/M/title-exact?Mortal+Kombat%3A+Annihilation+(1997)', rating=[0, 1, 1, 0, 0, 0, 0, 0, 0, 0, 0, 0, 0, 0, 0, 0, 0, 0, 0], title='Mortal Kombat: Annihilation (1997)'),\n",
       " Row(date='18-Dec-1997', id=891, link='http://us.imdb.com/M/title-exact?imdb-title-118698', rating=[0, 0, 0, 0, 0, 0, 0, 0, 1, 0, 0, 0, 0, 0, 0, 0, 0, 1, 0], title='Bent (1997)'),\n",
       " Row(date='01-Jan-1997', id=892, link='http://us.imdb.com/M/title-exact?imdb-title-119137', rating=[0, 0, 0, 0, 1, 1, 0, 0, 0, 1, 0, 0, 0, 0, 0, 0, 0, 0, 0], title='Flubber (1997)'),\n",
       " Row(date='01-Jan-1997', id=893, link='http://us.imdb.com/M/title-exact?imdb-title-119142', rating=[0, 0, 0, 0, 0, 1, 0, 0, 0, 0, 0, 0, 0, 0, 0, 0, 0, 0, 0], title='For Richer or Poorer (1997)'),\n",
       " Row(date='01-Jan-1997', id=894, link='http://us.imdb.com/M/title-exact?imdb-title-119303', rating=[0, 0, 0, 0, 1, 1, 0, 0, 0, 0, 0, 0, 0, 0, 0, 0, 0, 0, 0], title='Home Alone 3 (1997)'),\n",
       " Row(date='01-Jan-1997', id=895, link='http://us.imdb.com/M/title-exact?imdb-title-120082', rating=[0, 0, 0, 0, 0, 0, 0, 0, 0, 0, 0, 1, 0, 0, 0, 0, 1, 0, 0], title='Scream 2 (1997)'),\n",
       " Row(date='01-Jan-1997', id=896, link='http://us.imdb.com/M/title-exact?Sweet+Hereafter%2C+The+(1997)', rating=[0, 0, 0, 0, 0, 0, 0, 0, 1, 0, 0, 0, 0, 0, 0, 0, 0, 0, 0], title='Sweet Hereafter, The (1997)'),\n",
       " Row(date='01-Jan-1995', id=897, link='http://us.imdb.com/M/title-exact?imdb-title-128755', rating=[0, 1, 1, 0, 0, 0, 0, 0, 0, 0, 0, 0, 0, 0, 0, 1, 0, 0, 0], title='Time Tracers (1995)'),\n",
       " Row(date='01-Jan-1997', id=898, link='http://us.imdb.com/M/title-exact?imdb-title-119925', rating=[0, 0, 0, 0, 0, 0, 0, 0, 1, 0, 0, 0, 0, 0, 0, 0, 0, 0, 0], title='Postman, The (1997)'),\n",
       " Row(date='01-Jan-1997', id=899, link='http://us.imdb.com/M/title-exact?imdb-title-120521', rating=[0, 0, 0, 0, 0, 0, 0, 0, 1, 0, 0, 0, 0, 0, 0, 0, 0, 0, 0], title='Winter Guest, The (1997)'),\n",
       " Row(date='25-Dec-1997', id=900, link='http://us.imdb.com/M/title-exact?imdb-title-119485', rating=[0, 0, 0, 0, 0, 0, 0, 0, 1, 0, 0, 0, 0, 0, 0, 0, 0, 0, 0], title='Kundun (1997)'),\n",
       " Row(date='25-Dec-1997', id=901, link='http://us.imdb.com/M/title-exact?imdb-title-119718', rating=[0, 0, 0, 0, 0, 1, 0, 0, 0, 0, 0, 0, 0, 0, 0, 0, 0, 0, 0], title='Mr. Magoo (1997)'),\n",
       " Row(date='26-Dec-1997', id=902, link='http://us.imdb.com/M/title-exact?imdb-title-118715', rating=[0, 0, 0, 0, 0, 1, 1, 0, 0, 0, 0, 0, 0, 1, 0, 0, 1, 0, 0], title='Big Lebowski, The (1998)'),\n",
       " Row(date='26-Dec-1997', id=903, link='http://us.imdb.com/M/title-exact?imdb-title-118566', rating=[0, 0, 0, 0, 0, 0, 0, 0, 1, 0, 0, 0, 0, 0, 1, 0, 0, 0, 0], title='Afterglow (1997)'),\n",
       " Row(date='26-Dec-1997', id=904, link='http://us.imdb.com/M/title-exact?imdb-title-119590', rating=[0, 0, 0, 0, 0, 1, 0, 0, 1, 0, 0, 0, 0, 0, 0, 0, 0, 0, 0], title='Ma vie en rose (My Life in Pink) (1997)'),\n",
       " Row(date='01-Jan-1998', id=905, link='http://us.imdb.com/M/title-exact?imdb-title-119223', rating=[0, 0, 0, 0, 0, 0, 0, 0, 1, 0, 0, 0, 0, 0, 1, 0, 0, 0, 0], title='Great Expectations (1998)'),\n",
       " Row(date='31-Dec-1997', id=906, link='http://us.imdb.com/M/title-exact?imdb-title-119843', rating=[0, 0, 0, 0, 0, 0, 0, 0, 1, 0, 0, 0, 0, 0, 1, 0, 0, 0, 0], title='Oscar & Lucinda (1997)'),\n",
       " Row(date='01-Jan-1997', id=907, link='http://us.imdb.com/M/title-exact?imdb-title-120881', rating=[0, 0, 0, 0, 0, 1, 0, 0, 0, 0, 0, 0, 0, 0, 0, 0, 0, 0, 0], title='Vermin (1998)'),\n",
       " Row(date='16-Jan-1998', id=908, link='http://us.imdb.com/M/title-exact?imdb-title-120693', rating=[0, 0, 0, 0, 0, 1, 0, 0, 0, 0, 0, 0, 0, 0, 0, 0, 0, 0, 0], title='Half Baked (1998)'),\n",
       " Row(date='23-Jan-1998', id=909, link='http://us.imdb.com/M/title-exact?imdb-title-118892', rating=[0, 0, 0, 0, 0, 0, 0, 0, 1, 0, 0, 0, 0, 0, 0, 0, 0, 0, 0], title='Dangerous Beauty (1998)'),\n",
       " Row(date='06-Feb-1998', id=910, link='http://us.imdb.com/Title?Nil+By+Mouth+(1997)', rating=[0, 0, 0, 0, 0, 0, 0, 0, 1, 0, 0, 0, 0, 0, 0, 0, 0, 0, 0], title='Nil By Mouth (1997)'),\n",
       " Row(date='30-Jan-1998', id=911, link='http://us.imdb.com/M/title-exact?imdb-title-119594', rating=[0, 0, 0, 0, 0, 0, 1, 0, 1, 0, 0, 0, 0, 0, 0, 0, 0, 0, 0], title='Twilight (1998)'),\n",
       " Row(date='10-Mar-1998', id=912, link='http://us.imdb.com/Title?U.S.+Marshals+(1998)', rating=[0, 1, 0, 0, 0, 0, 0, 0, 0, 0, 0, 0, 0, 0, 0, 0, 1, 0, 0], title='U.S. Marshalls (1998)'),\n",
       " Row(date='10-Mar-1998', id=913, link='http://us.imdb.com/Title?Love+and+Death+on+Long+Island+(1997)', rating=[0, 0, 0, 0, 0, 1, 0, 0, 0, 0, 0, 0, 0, 0, 0, 0, 0, 0, 0], title='Love and Death on Long Island (1997)'),\n",
       " Row(date='14-Mar-1998', id=914, link='http://us.imdb.com/Title?Wild+Things+(1998)', rating=[0, 0, 0, 0, 0, 0, 1, 0, 1, 0, 0, 0, 0, 1, 0, 0, 1, 0, 0], title='Wild Things (1998)'),\n",
       " Row(date='20-Mar-1998', id=915, link='http://us.imdb.com/Title?Primary+Colors+(1998)', rating=[0, 0, 0, 0, 0, 0, 0, 0, 1, 0, 0, 0, 0, 0, 0, 0, 0, 0, 0], title='Primary Colors (1998)'),\n",
       " Row(date='27-Mar-1998', id=916, link='http://us.imdb.com/Title?Lost+in+Space+(1998)', rating=[0, 1, 0, 0, 0, 0, 0, 0, 0, 0, 0, 0, 0, 0, 0, 1, 1, 0, 0], title='Lost in Space (1998)'),\n",
       " Row(date='27-Mar-1998', id=917, link='http://us.imdb.com/Title?Mercury+Rising+(1998)', rating=[0, 1, 0, 0, 0, 0, 0, 0, 1, 0, 0, 0, 0, 0, 0, 0, 1, 0, 0], title='Mercury Rising (1998)'),\n",
       " Row(date='03-Apr-1998', id=918, link='http://us.imdb.com/Title?City+of+Angels+(1998)', rating=[0, 0, 0, 0, 0, 0, 0, 0, 0, 0, 0, 0, 0, 0, 1, 0, 0, 0, 0], title='City of Angels (1998)'),\n",
       " Row(date='01-Jan-1995', id=919, link='http://us.imdb.com/Title?Cit%E9+des+enfants+perdus,+La+(1995)', rating=[0, 0, 1, 0, 0, 0, 0, 0, 0, 0, 0, 0, 0, 0, 0, 1, 0, 0, 0], title='City of Lost Children, The (1995)'),\n",
       " Row(date='01-Jan-1995', id=920, link='http://us.imdb.com/M/title-exact?Two%20Bits%20(1995)', rating=[0, 0, 0, 0, 0, 0, 0, 0, 1, 0, 0, 0, 0, 0, 0, 0, 0, 0, 0], title='Two Bits (1995)'),\n",
       " Row(date='01-Jan-1993', id=921, link='http://us.imdb.com/M/title-exact?Ba%20Wang%20Bie%20Ji%20(1993)', rating=[0, 0, 0, 0, 0, 0, 0, 0, 1, 0, 0, 0, 0, 0, 1, 0, 0, 0, 0], title='Farewell My Concubine (1993)'),\n",
       " Row(date='10-May-1996', id=922, link='http://us.imdb.com/M/title-exact?Dead%20Man%20(1995)', rating=[0, 0, 0, 0, 0, 0, 0, 0, 0, 0, 0, 0, 0, 0, 0, 0, 0, 0, 1], title='Dead Man (1995)'),\n",
       " Row(date='01-Jan-1991', id=923, link='http://us.imdb.com/M/title-exact?Da%20Hong%20Deng%20Long%20Gao%20Gao%20Gua%20(1991)', rating=[0, 0, 0, 0, 0, 0, 0, 0, 1, 0, 0, 0, 0, 0, 0, 0, 0, 0, 0], title='Raise the Red Lantern (1991)'),\n",
       " Row(date='01-Jan-1996', id=924, link='http://us.imdb.com/M/title-exact?White%20Squall%20(1996)', rating=[0, 0, 1, 0, 0, 0, 0, 0, 1, 0, 0, 0, 0, 0, 0, 0, 0, 0, 0], title='White Squall (1996)'),\n",
       " Row(date='23-Feb-1996', id=925, link='http://us.imdb.com/Title?Unforgettable+(1996)', rating=[0, 0, 0, 0, 0, 0, 0, 0, 0, 0, 0, 0, 0, 0, 0, 1, 1, 0, 0], title='Unforgettable (1996)'),\n",
       " Row(date='01-Mar-1996', id=926, link='http://us.imdb.com/M/title-exact?Down%20Periscope%20(1996)', rating=[0, 0, 0, 0, 0, 1, 0, 0, 0, 0, 0, 0, 0, 0, 0, 0, 0, 0, 0], title='Down Periscope (1996)'),\n",
       " Row(date='08-Mar-1996', id=927, link='http://us.imdb.com/M/title-exact?Flor%20de%20mi%20secreto,%20La%20(1995)', rating=[0, 0, 0, 0, 0, 0, 0, 0, 1, 0, 0, 0, 0, 0, 0, 0, 0, 0, 0], title='Flower of My Secret, The (Flor de mi secreto, La) (1995)'),\n",
       " Row(date='26-Apr-1996', id=928, link='http://us.imdb.com/M/title-exact?Craft,%20The%20(1996)', rating=[0, 0, 0, 0, 0, 0, 0, 0, 1, 0, 0, 1, 0, 0, 0, 0, 0, 0, 0], title='Craft, The (1996)'),\n",
       " Row(date='03-Jul-1996', id=929, link='http://us.imdb.com/M/title-exact?Harriet%20the%20Spy%20(1996)', rating=[0, 0, 0, 0, 1, 1, 0, 0, 0, 0, 0, 0, 0, 0, 0, 0, 0, 0, 0], title='Harriet the Spy (1996)'),\n",
       " Row(date='31-Jul-1996', id=930, link='http://us.imdb.com/M/title-exact?Chain%20Reaction%20(1996)', rating=[0, 1, 1, 0, 0, 0, 0, 0, 0, 0, 0, 0, 0, 0, 0, 0, 1, 0, 0], title='Chain Reaction (1996)'),\n",
       " Row(date='23-Aug-1996', id=931, link='http://us.imdb.com/M/title-exact?Island%20of%20Dr.%20Moreau,%20The%20(1996)', rating=[0, 0, 0, 0, 0, 0, 0, 0, 0, 0, 0, 0, 0, 0, 0, 1, 1, 0, 0], title='Island of Dr. Moreau, The (1996)'),\n",
       " Row(date='30-Aug-1996', id=932, link='http://us.imdb.com/M/title-exact?First%20Kid%20(1996)', rating=[0, 0, 0, 0, 1, 1, 0, 0, 0, 0, 0, 0, 0, 0, 0, 0, 0, 0, 0], title='First Kid (1996)'),\n",
       " Row(date='25-Oct-1996', id=933, link='http://us.imdb.com/M/title-exact?Funeral,%20The%20(1996)', rating=[0, 0, 0, 0, 0, 0, 0, 0, 1, 0, 0, 0, 0, 0, 0, 0, 0, 0, 0], title='Funeral, The (1996)'),\n",
       " Row(date='13-Dec-1996', id=934, link=\"http://us.imdb.com/M/title-exact?Preacher's%20Wife,%20The%20(1996)\", rating=[0, 0, 0, 0, 0, 0, 0, 0, 1, 0, 0, 0, 0, 0, 0, 0, 0, 0, 0], title=\"Preacher's Wife, The (1996)\"),\n",
       " Row(date='18-Apr-1997', id=935, link='http://us.imdb.com/M/title-exact?Paradise%20Road%20%281997%29', rating=[0, 0, 0, 0, 0, 0, 0, 0, 1, 0, 0, 0, 0, 0, 0, 0, 0, 1, 0], title='Paradise Road (1997)'),\n",
       " Row(date='13-Jun-1997', id=936, link='http://us.imdb.com/M/title-exact?Brassed%20Off%20%281996%29', rating=[0, 0, 0, 0, 0, 1, 0, 0, 1, 0, 0, 0, 0, 0, 1, 0, 0, 0, 0], title='Brassed Off (1996)'),\n",
       " Row(date='01-Jan-1997', id=937, link='http://us.imdb.com/M/title-exact?Thousand+Acres%2C+A+(1997)', rating=[0, 0, 0, 0, 0, 0, 0, 0, 1, 0, 0, 0, 0, 0, 0, 0, 0, 0, 0], title='Thousand Acres, A (1997)'),\n",
       " Row(date='01-Jan-1997', id=938, link='http://us.imdb.com/M/title-exact?Smile+Like+Yours%2C+A+(1997)', rating=[0, 0, 0, 0, 0, 1, 0, 0, 0, 0, 0, 0, 0, 0, 1, 0, 0, 0, 0], title='Smile Like Yours, A (1997)'),\n",
       " Row(date='01-Jan-1995', id=939, link='http://us.imdb.com/M/title-exact?Murder%20in%20the%20First%20(1995)', rating=[0, 0, 0, 0, 0, 0, 0, 0, 1, 0, 0, 0, 0, 0, 0, 0, 1, 0, 0], title='Murder in the First (1995)'),\n",
       " Row(date='01-Jan-1994', id=940, link='http://us.imdb.com/M/title-exact?Airheads%20(1994)', rating=[0, 0, 0, 0, 0, 1, 0, 0, 0, 0, 0, 0, 0, 0, 0, 0, 0, 0, 0], title='Airheads (1994)'),\n",
       " Row(date='01-Jan-1994', id=941, link='http://us.imdb.com/M/title-exact?With%20Honors%20(1994)', rating=[0, 0, 0, 0, 0, 1, 0, 0, 1, 0, 0, 0, 0, 0, 0, 0, 0, 0, 0], title='With Honors (1994)'),\n",
       " Row(date='01-Jan-1993', id=942, link=\"http://us.imdb.com/M/title-exact?What's%20Love%20Got%20to%20Do%20with%20It%20(1993)\", rating=[0, 0, 0, 0, 0, 0, 0, 0, 1, 0, 0, 0, 0, 0, 0, 0, 0, 0, 0], title=\"What's Love Got to Do with It (1993)\"),\n",
       " Row(date='01-Jan-1994', id=943, link='http://us.imdb.com/M/title-exact?Killing%20Zoe%20(1994)', rating=[0, 0, 0, 0, 0, 0, 0, 0, 0, 0, 0, 0, 0, 0, 0, 0, 1, 0, 0], title='Killing Zoe (1994)'),\n",
       " Row(date='01-Jan-1994', id=944, link='http://us.imdb.com/M/title-exact?Renaissance%20Man%20(1994)', rating=[0, 0, 0, 0, 0, 1, 0, 0, 1, 0, 0, 0, 0, 0, 0, 0, 0, 1, 0], title='Renaissance Man (1994)'),\n",
       " Row(date='01-Jan-1963', id=945, link='http://us.imdb.com/M/title-exact?Charade%20(1963)', rating=[0, 0, 0, 0, 0, 1, 0, 0, 0, 0, 0, 0, 0, 1, 1, 0, 1, 0, 0], title='Charade (1963)'),\n",
       " Row(date='01-Jan-1981', id=946, link='http://us.imdb.com/M/title-exact?Fox%20and%20the%20Hound,%20The%20(1981)', rating=[0, 0, 0, 1, 1, 0, 0, 0, 0, 0, 0, 0, 0, 0, 0, 0, 0, 0, 0], title='Fox and the Hound, The (1981)'),\n",
       " Row(date='01-Jan-1988', id=947, link='http://us.imdb.com/M/title-exact?Grand%20bleu,%20Le%20(1988)', rating=[0, 0, 1, 0, 0, 0, 0, 0, 0, 0, 0, 0, 0, 0, 1, 0, 0, 0, 0], title='Big Blue, The (Grand bleu, Le) (1988)'),\n",
       " Row(date='28-Feb-1997', id=948, link='http://us.imdb.com/M/title-exact?Booty%20Call%20(1997)', rating=[0, 0, 0, 0, 0, 1, 0, 0, 0, 0, 0, 0, 0, 0, 1, 0, 0, 0, 0], title='Booty Call (1997)'),\n",
       " Row(date='01-Jan-1995', id=949, link='http://us.imdb.com/M/title-exact?How%20to%20Make%20an%20American%20Quilt%20(1995)', rating=[0, 0, 0, 0, 0, 0, 0, 0, 1, 0, 0, 0, 0, 0, 1, 0, 0, 0, 0], title='How to Make an American Quilt (1995)'),\n",
       " Row(date='01-Jan-1995', id=950, link='http://us.imdb.com/M/title-exact?Georgia%20(1995)', rating=[0, 0, 0, 0, 0, 0, 0, 0, 1, 0, 0, 0, 0, 0, 0, 0, 0, 0, 0], title='Georgia (1995)'),\n",
       " Row(date='01-Jan-1995', id=951, link='http://us.imdb.com/M/title-exact?Indian%20in%20the%20Cupboard,%20The%20(1995)', rating=[0, 0, 1, 0, 1, 0, 0, 0, 0, 1, 0, 0, 0, 0, 0, 0, 0, 0, 0], title='Indian in the Cupboard, The (1995)'),\n",
       " Row(date='01-Jan-1995', id=952, link='http://us.imdb.com/M/title-exact?Blue%20in%20the%20Face%20(1995)', rating=[0, 0, 0, 0, 0, 1, 0, 0, 0, 0, 0, 0, 0, 0, 0, 0, 0, 0, 0], title='Blue in the Face (1995)'),\n",
       " Row(date='01-Jan-1995', id=953, link='http://us.imdb.com/M/title-exact?Unstrung%20Heroes%20(1995)', rating=[0, 0, 0, 0, 0, 1, 0, 0, 1, 0, 0, 0, 0, 0, 0, 0, 0, 0, 0], title='Unstrung Heroes (1995)'),\n",
       " Row(date='01-Jan-1995', id=954, link='http://us.imdb.com/M/title-exact?Unzipped%20(1995)', rating=[0, 0, 0, 0, 0, 0, 0, 1, 0, 0, 0, 0, 0, 0, 0, 0, 0, 0, 0], title='Unzipped (1995)'),\n",
       " Row(date='01-Jan-1995', id=955, link='http://us.imdb.com/M/title-exact?Before%20Sunrise%20(1995)', rating=[0, 0, 0, 0, 0, 0, 0, 0, 1, 0, 0, 0, 0, 0, 1, 0, 0, 0, 0], title='Before Sunrise (1995)'),\n",
       " Row(date='01-Jan-1994', id=956, link=\"http://us.imdb.com/M/title-exact?Nobody's%20Fool%20(1994)\", rating=[0, 0, 0, 0, 0, 0, 0, 0, 1, 0, 0, 0, 0, 0, 0, 0, 0, 0, 0], title=\"Nobody's Fool (1994)\"),\n",
       " Row(date='01-Jan-1992', id=957, link='http://us.imdb.com/M/title-exact?Tui%20Shou%20(1992)', rating=[0, 0, 0, 0, 0, 1, 0, 0, 0, 0, 0, 0, 0, 0, 0, 0, 0, 0, 0], title='Pushing Hands (1992)'),\n",
       " Row(date='01-Jan-1994', id=958, link='http://us.imdb.com/M/title-exact?Huozhe%20(1994)', rating=[0, 0, 0, 0, 0, 0, 0, 0, 1, 0, 0, 0, 0, 0, 0, 0, 0, 0, 0], title='To Live (Huozhe) (1994)'),\n",
       " Row(date='01-Jan-1993', id=959, link='http://us.imdb.com/M/title-exact?Dazed%20and%20Confused%20(1993)', rating=[0, 0, 0, 0, 0, 1, 0, 0, 0, 0, 0, 0, 0, 0, 0, 0, 0, 0, 0], title='Dazed and Confused (1993)'),\n",
       " Row(date='01-Jan-1993', id=960, link='http://us.imdb.com/M/title-exact?Naked%20(1993)', rating=[0, 0, 0, 0, 0, 0, 0, 0, 1, 0, 0, 0, 0, 0, 0, 0, 0, 0, 0], title='Naked (1993)'),\n",
       " Row(date='01-Jan-1993', id=961, link='http://us.imdb.com/M/title-exact?Orlando%20(1993)', rating=[0, 0, 0, 0, 0, 0, 0, 0, 1, 0, 0, 0, 0, 0, 0, 0, 0, 0, 0], title='Orlando (1993)'),\n",
       " Row(date='01-Jan-1993', id=962, link='http://us.imdb.com/M/title-exact?Ruby%20in%20Paradise%20(1993)', rating=[0, 0, 0, 0, 0, 0, 0, 0, 1, 0, 0, 0, 0, 0, 0, 0, 0, 0, 0], title='Ruby in Paradise (1993)'),\n",
       " Row(date='01-Jan-1993', id=963, link='http://us.imdb.com/M/title-exact?Some%20Folks%20Call%20It%20a%20Sling%20Blade%20(1993)', rating=[0, 0, 0, 0, 0, 0, 0, 0, 1, 0, 0, 0, 0, 0, 0, 0, 1, 0, 0], title='Some Folks Call It a Sling Blade (1993)'),\n",
       " Row(date='01-Jan-1995', id=964, link='http://us.imdb.com/M/title-exact?Month%20by%20The%20Lake,%20A%20(1995)', rating=[0, 0, 0, 0, 0, 1, 0, 0, 1, 0, 0, 0, 0, 0, 0, 0, 0, 0, 0], title='Month by the Lake, A (1995)'),\n",
       " Row(date='01-Jan-1957', id=965, link='http://us.imdb.com/M/title-exact?Funny%20Face%20(1957)', rating=[0, 0, 0, 0, 0, 1, 0, 0, 0, 0, 0, 0, 1, 0, 0, 0, 0, 0, 0], title='Funny Face (1957)'),\n",
       " Row(date='01-Jan-1957', id=966, link='http://us.imdb.com/M/title-exact?Affair%20to%20Remember,%20An%20(1957)', rating=[0, 0, 0, 0, 0, 0, 0, 0, 0, 0, 0, 0, 0, 0, 1, 0, 0, 0, 0], title='Affair to Remember, An (1957)'),\n",
       " Row(date='01-Jan-1936', id=967, link='http://us.imdb.com/M/title-exact?Little%20Lord%20Fauntleroy%20(1936)', rating=[0, 0, 0, 0, 0, 0, 0, 0, 1, 0, 0, 0, 0, 0, 0, 0, 0, 0, 0], title='Little Lord Fauntleroy (1936)'),\n",
       " Row(date='01-Jan-1949', id=968, link='http://us.imdb.com/M/title-exact?Inspector%20General,%20The%20(1949)', rating=[0, 0, 0, 0, 0, 0, 0, 0, 0, 0, 0, 0, 1, 0, 0, 0, 0, 0, 0], title='Inspector General, The (1949)'),\n",
       " Row(date='01-Jan-1968', id=969, link='http://us.imdb.com/M/title-exact?Winnie%20the%20Pooh%20and%20the%20Blustery%20Day%20%281968%29', rating=[0, 0, 0, 1, 1, 0, 0, 0, 0, 0, 0, 0, 0, 0, 0, 0, 0, 0, 0], title='Winnie the Pooh and the Blustery Day (1968)'),\n",
       " Row(date='01-Jan-1991', id=970, link='http://us.imdb.com/M/title-exact?Hear%20My%20Song%20(1991)', rating=[0, 0, 0, 0, 0, 1, 0, 0, 0, 0, 0, 0, 0, 0, 0, 0, 0, 0, 0], title='Hear My Song (1991)'),\n",
       " Row(date='01-Jan-1991', id=971, link='http://us.imdb.com/M/title-exact?Mediterraneo%20(1991)', rating=[0, 0, 0, 0, 0, 1, 0, 0, 0, 0, 0, 0, 0, 0, 0, 0, 0, 1, 0], title='Mediterraneo (1991)'),\n",
       " Row(date='01-Jan-1992', id=972, link='http://us.imdb.com/M/title-exact?Passion%20Fish%20(1992)', rating=[0, 0, 0, 0, 0, 0, 0, 0, 1, 0, 0, 0, 0, 0, 0, 0, 0, 0, 0], title='Passion Fish (1992)'),\n",
       " Row(date='18-Oct-1996', id=973, link='http://us.imdb.com/M/title-exact?Grateful%20Dead%20(1995)', rating=[0, 0, 0, 0, 0, 0, 0, 1, 0, 0, 0, 0, 0, 0, 0, 0, 0, 0, 0], title='Grateful Dead (1995)'),\n",
       " Row(date='01-Jan-1996', id=974, link='http://us.imdb.com/Title?Eye+for+an+Eye+(1996)', rating=[0, 0, 0, 0, 0, 0, 0, 0, 1, 0, 0, 0, 0, 0, 0, 0, 1, 0, 0], title='Eye for an Eye (1996)'),\n",
       " Row(date='12-Apr-1996', id=975, link='http://us.imdb.com/M/title-exact?Fear%20(1996)', rating=[0, 0, 0, 0, 0, 0, 0, 0, 0, 0, 0, 0, 0, 0, 0, 0, 1, 0, 0], title='Fear (1996)'),\n",
       " Row(date='23-Aug-1996', id=976, link='http://us.imdb.com/M/title-exact?Solo%20(1996)', rating=[0, 1, 0, 0, 0, 0, 0, 0, 0, 0, 0, 0, 0, 0, 0, 1, 1, 0, 0], title='Solo (1996)'),\n",
       " Row(date='19-Apr-1996', id=977, link='http://us.imdb.com/M/title-exact?Substitute,%20The%20(1996)', rating=[0, 1, 0, 0, 0, 0, 0, 0, 0, 0, 0, 0, 0, 0, 0, 0, 0, 0, 0], title='Substitute, The (1996)'),\n",
       " Row(date='10-May-1996', id=978, link=\"http://us.imdb.com/M/title-exact?Heaven's%20Prisoners%20(1996)\", rating=[0, 0, 0, 0, 0, 0, 0, 0, 0, 0, 0, 0, 0, 1, 0, 0, 1, 0, 0], title=\"Heaven's Prisoners (1996)\"),\n",
       " Row(date='30-Aug-1996', id=979, link='http://us.imdb.com/M/title-exact?Trigger%20Effect,%20The%20(1996)', rating=[0, 0, 0, 0, 0, 0, 0, 0, 1, 0, 0, 0, 0, 0, 0, 0, 1, 0, 0], title='Trigger Effect, The (1996)'),\n",
       " Row(date='01-Nov-1996', id=980, link='http://us.imdb.com/M/title-exact?Mother%20Night%20(1996)', rating=[0, 0, 0, 0, 0, 0, 0, 0, 1, 0, 0, 0, 0, 0, 0, 0, 0, 0, 0], title='Mother Night (1996)'),\n",
       " Row(date='04-Sep-1996', id=981, link='http://us.imdb.com/M/title-exact?Dangerous%20Ground%20(1997)', rating=[0, 0, 0, 0, 0, 0, 0, 0, 1, 0, 0, 0, 0, 0, 0, 0, 0, 0, 0], title='Dangerous Ground (1997)'),\n",
       " Row(date='13-Sep-1996', id=982, link='http://us.imdb.com/M/title-exact?Maximum%20Risk%20(1996)', rating=[0, 1, 1, 0, 0, 0, 0, 0, 0, 0, 0, 0, 0, 0, 0, 0, 1, 0, 0], title='Maximum Risk (1996)'),\n",
       " Row(date='13-Sep-1996', id=983, link=\"http://us.imdb.com/M/title-exact?Rich%20Man's%20Wife,%20The%20(1996)\", rating=[0, 0, 0, 0, 0, 0, 0, 0, 0, 0, 0, 0, 0, 0, 0, 0, 1, 0, 0], title=\"Rich Man's Wife, The (1996)\"),\n",
       " Row(date='31-Jan-1997', id=984, link='http://us.imdb.com/M/title-exact?Shadow%20Conspiracy%20(1997)', rating=[0, 0, 0, 0, 0, 0, 0, 0, 0, 0, 0, 0, 0, 0, 0, 0, 1, 0, 0], title='Shadow Conspiracy (1997)'),\n",
       " Row(date='15-Nov-1996', id=985, link='http://us.imdb.com/Title?Blood+%26+Wine+(1997)', rating=[0, 0, 0, 0, 0, 0, 0, 0, 1, 0, 0, 0, 0, 0, 0, 0, 0, 0, 0], title='Blood & Wine (1997)'),\n",
       " Row(date='10-Jan-1997', id=986, link='http://us.imdb.com/M/title-exact?Turbulence%20(1997)', rating=[0, 0, 0, 0, 0, 0, 0, 0, 0, 0, 0, 0, 0, 0, 0, 0, 1, 0, 0], title='Turbulence (1997)'),\n",
       " Row(date='09-May-1997', id=987, link='http://us.imdb.com/M/title-exact?Underworld%20(1997)', rating=[0, 0, 0, 0, 0, 0, 0, 0, 0, 0, 0, 0, 0, 0, 0, 0, 1, 0, 0], title='Underworld (1997)'),\n",
       " Row(date='07-Feb-1997', id=988, link='http://us.imdb.com/M/title-exact?Beautician%20and%20the%20Beast,%20The%20(1997)', rating=[0, 0, 0, 0, 0, 1, 0, 0, 0, 0, 0, 0, 0, 0, 1, 0, 0, 0, 0], title='Beautician and the Beast, The (1997)'),\n",
       " Row(date='26-Mar-1997', id=989, link='http://us.imdb.com/M/title-exact?Cats%20Don%27t%20Dance%20(1997)', rating=[0, 0, 0, 1, 1, 0, 0, 0, 0, 0, 0, 0, 1, 0, 0, 0, 0, 0, 0], title=\"Cats Don't Dance (1997)\"),\n",
       " Row(date='04-Apr-1997', id=990, link='http://us.imdb.com/M/title-exact?Anna%20Karenina%20%281997%29', rating=[0, 0, 0, 0, 0, 0, 0, 0, 1, 0, 0, 0, 0, 0, 1, 0, 0, 0, 0], title='Anna Karenina (1997)'),\n",
       " Row(date='11-Apr-1997', id=991, link='http://us.imdb.com/Title?Keys+to+Tulsa+(1997)', rating=[0, 0, 0, 0, 0, 0, 1, 0, 0, 0, 0, 0, 0, 0, 0, 0, 0, 0, 0], title='Keys to Tulsa (1997)'),\n",
       " Row(date='20-Jun-1997', id=992, link='http://us.imdb.com/M/title-exact?Head+Above+Water+(1996)', rating=[0, 0, 0, 0, 0, 1, 0, 0, 0, 0, 0, 0, 0, 0, 0, 0, 1, 0, 0], title='Head Above Water (1996)'),\n",
       " Row(date='27-Jun-1997', id=993, link='http://us.imdb.com/M/title-exact?Hercules+(1997)', rating=[0, 0, 1, 1, 1, 1, 0, 0, 0, 0, 0, 0, 1, 0, 0, 0, 0, 0, 0], title='Hercules (1997)'),\n",
       " Row(date='20-Jun-1997', id=994, link='http://us.imdb.com/M/title-exact?Last+Time+I+Committed+Suicide%2C+The+(1997)', rating=[0, 0, 0, 0, 0, 0, 0, 0, 1, 0, 0, 0, 0, 0, 0, 0, 0, 0, 0], title='Last Time I Committed Suicide, The (1997)'),\n",
       " Row(date='01-Jan-1997', id=995, link='http://us.imdb.com/M/title-exact?Kiss+Me%2C+Guido+(1997)', rating=[0, 0, 0, 0, 0, 1, 0, 0, 0, 0, 0, 0, 0, 0, 0, 0, 0, 0, 0], title='Kiss Me, Guido (1997)'),\n",
       " Row(date='01-Jan-1995', id=996, link='http://us.imdb.com/M/title-exact?Big%20Green,%20The%20(1995)', rating=[0, 0, 0, 0, 1, 1, 0, 0, 0, 0, 0, 0, 0, 0, 0, 0, 0, 0, 0], title='Big Green, The (1995)'),\n",
       " Row(date='01-Jan-1995', id=997, link='http://us.imdb.com/M/title-exact?Stuart%20Saves%20His%20Family%20(1995)', rating=[0, 0, 0, 0, 0, 1, 0, 0, 0, 0, 0, 0, 0, 0, 0, 0, 0, 0, 0], title='Stuart Saves His Family (1995)'),\n",
       " Row(date='01-Jan-1994', id=998, link='http://us.imdb.com/M/title-exact?Cabin%20Boy%20(1994)', rating=[0, 0, 0, 0, 0, 1, 0, 0, 0, 0, 0, 0, 0, 0, 0, 0, 0, 0, 0], title='Cabin Boy (1994)'),\n",
       " Row(date='01-Jan-1994', id=999, link='http://us.imdb.com/M/title-exact?Clean%20Slate%20(1994)', rating=[0, 0, 0, 0, 0, 1, 0, 0, 0, 0, 0, 0, 0, 0, 0, 0, 0, 0, 0], title='Clean Slate (1994)'),\n",
       " Row(date='01-Jan-1994', id=1000, link='http://us.imdb.com/M/title-exact?Lightning%20Jack%20(1994)', rating=[0, 0, 0, 0, 0, 1, 0, 0, 0, 0, 0, 0, 0, 0, 0, 0, 0, 0, 1], title='Lightning Jack (1994)'),\n",
       " ...]"
      ]
     },
     "execution_count": 142,
     "metadata": {},
     "output_type": "execute_result"
    }
   ],
   "source": [
    "df1.rdd.collect() # Convert df into an RDD"
   ]
  },
  {
   "cell_type": "code",
   "execution_count": 143,
   "id": "5137da79",
   "metadata": {},
   "outputs": [
    {
     "data": {
      "text/plain": [
       "'{\"date\":\"01-Jan-1995\",\"id\":1,\"link\":\"http://us.imdb.com/M/title-exact?Toy%20Story%20(1995)\",\"rating\":[0,0,0,1,1,1,0,0,0,0,0,0,0,0,0,0,0,0,0],\"title\":\"Toy Story (1995)\"}'"
      ]
     },
     "execution_count": 143,
     "metadata": {},
     "output_type": "execute_result"
    }
   ],
   "source": [
    "df1.toJSON().first() # Convert df into a RDD of string"
   ]
  },
  {
   "cell_type": "code",
   "execution_count": 144,
   "id": "2c9b510b",
   "metadata": {},
   "outputs": [
    {
     "data": {
      "text/html": [
       "<div>\n",
       "<style scoped>\n",
       "    .dataframe tbody tr th:only-of-type {\n",
       "        vertical-align: middle;\n",
       "    }\n",
       "\n",
       "    .dataframe tbody tr th {\n",
       "        vertical-align: top;\n",
       "    }\n",
       "\n",
       "    .dataframe thead th {\n",
       "        text-align: right;\n",
       "    }\n",
       "</style>\n",
       "<table border=\"1\" class=\"dataframe\">\n",
       "  <thead>\n",
       "    <tr style=\"text-align: right;\">\n",
       "      <th></th>\n",
       "      <th>date</th>\n",
       "      <th>id</th>\n",
       "      <th>link</th>\n",
       "      <th>rating</th>\n",
       "      <th>title</th>\n",
       "    </tr>\n",
       "  </thead>\n",
       "  <tbody>\n",
       "    <tr>\n",
       "      <th>0</th>\n",
       "      <td>01-Jan-1995</td>\n",
       "      <td>1</td>\n",
       "      <td>http://us.imdb.com/M/title-exact?Toy%20Story%2...</td>\n",
       "      <td>[0, 0, 0, 1, 1, 1, 0, 0, 0, 0, 0, 0, 0, 0, 0, ...</td>\n",
       "      <td>Toy Story (1995)</td>\n",
       "    </tr>\n",
       "    <tr>\n",
       "      <th>1</th>\n",
       "      <td>01-Jan-1995</td>\n",
       "      <td>2</td>\n",
       "      <td>http://us.imdb.com/M/title-exact?GoldenEye%20(...</td>\n",
       "      <td>[0, 1, 1, 0, 0, 0, 0, 0, 0, 0, 0, 0, 0, 0, 0, ...</td>\n",
       "      <td>GoldenEye (1995)</td>\n",
       "    </tr>\n",
       "    <tr>\n",
       "      <th>2</th>\n",
       "      <td>01-Jan-1995</td>\n",
       "      <td>3</td>\n",
       "      <td>http://us.imdb.com/M/title-exact?Four%20Rooms%...</td>\n",
       "      <td>[0, 0, 0, 0, 0, 0, 0, 0, 0, 0, 0, 0, 0, 0, 0, ...</td>\n",
       "      <td>Four Rooms (1995)</td>\n",
       "    </tr>\n",
       "    <tr>\n",
       "      <th>3</th>\n",
       "      <td>01-Jan-1995</td>\n",
       "      <td>4</td>\n",
       "      <td>http://us.imdb.com/M/title-exact?Get%20Shorty%...</td>\n",
       "      <td>[0, 1, 0, 0, 0, 1, 0, 0, 1, 0, 0, 0, 0, 0, 0, ...</td>\n",
       "      <td>Get Shorty (1995)</td>\n",
       "    </tr>\n",
       "    <tr>\n",
       "      <th>4</th>\n",
       "      <td>01-Jan-1995</td>\n",
       "      <td>5</td>\n",
       "      <td>http://us.imdb.com/M/title-exact?Copycat%20(1995)</td>\n",
       "      <td>[0, 0, 0, 0, 0, 0, 1, 0, 1, 0, 0, 0, 0, 0, 0, ...</td>\n",
       "      <td>Copycat (1995)</td>\n",
       "    </tr>\n",
       "    <tr>\n",
       "      <th>...</th>\n",
       "      <td>...</td>\n",
       "      <td>...</td>\n",
       "      <td>...</td>\n",
       "      <td>...</td>\n",
       "      <td>...</td>\n",
       "    </tr>\n",
       "    <tr>\n",
       "      <th>1677</th>\n",
       "      <td>06-Feb-1998</td>\n",
       "      <td>1678</td>\n",
       "      <td>http://us.imdb.com/M/title-exact?Mat%27+i+syn+...</td>\n",
       "      <td>[0, 0, 0, 0, 0, 0, 0, 0, 1, 0, 0, 0, 0, 0, 0, ...</td>\n",
       "      <td>Mat' i syn (1997)</td>\n",
       "    </tr>\n",
       "    <tr>\n",
       "      <th>1678</th>\n",
       "      <td>06-Feb-1998</td>\n",
       "      <td>1679</td>\n",
       "      <td>http://us.imdb.com/M/title-exact?B%2E+Monkey+(...</td>\n",
       "      <td>[0, 0, 0, 0, 0, 0, 0, 0, 0, 0, 0, 0, 0, 0, 1, ...</td>\n",
       "      <td>B. Monkey (1998)</td>\n",
       "    </tr>\n",
       "    <tr>\n",
       "      <th>1679</th>\n",
       "      <td>01-Jan-1998</td>\n",
       "      <td>1680</td>\n",
       "      <td>http://us.imdb.com/Title?Sliding+Doors+(1998)</td>\n",
       "      <td>[0, 0, 0, 0, 0, 0, 0, 0, 1, 0, 0, 0, 0, 0, 1, ...</td>\n",
       "      <td>Sliding Doors (1998)</td>\n",
       "    </tr>\n",
       "    <tr>\n",
       "      <th>1680</th>\n",
       "      <td>01-Jan-1994</td>\n",
       "      <td>1681</td>\n",
       "      <td>http://us.imdb.com/M/title-exact?You%20So%20Cr...</td>\n",
       "      <td>[0, 0, 0, 0, 0, 1, 0, 0, 0, 0, 0, 0, 0, 0, 0, ...</td>\n",
       "      <td>You So Crazy (1994)</td>\n",
       "    </tr>\n",
       "    <tr>\n",
       "      <th>1681</th>\n",
       "      <td>08-Mar-1996</td>\n",
       "      <td>1682</td>\n",
       "      <td>http://us.imdb.com/M/title-exact?Schrei%20aus%...</td>\n",
       "      <td>[0, 0, 0, 0, 0, 0, 0, 0, 1, 0, 0, 0, 0, 0, 0, ...</td>\n",
       "      <td>Scream of Stone (Schrei aus Stein) (1991)</td>\n",
       "    </tr>\n",
       "  </tbody>\n",
       "</table>\n",
       "<p>1682 rows × 5 columns</p>\n",
       "</div>"
      ],
      "text/plain": [
       "             date    id                                               link  \\\n",
       "0     01-Jan-1995     1  http://us.imdb.com/M/title-exact?Toy%20Story%2...   \n",
       "1     01-Jan-1995     2  http://us.imdb.com/M/title-exact?GoldenEye%20(...   \n",
       "2     01-Jan-1995     3  http://us.imdb.com/M/title-exact?Four%20Rooms%...   \n",
       "3     01-Jan-1995     4  http://us.imdb.com/M/title-exact?Get%20Shorty%...   \n",
       "4     01-Jan-1995     5  http://us.imdb.com/M/title-exact?Copycat%20(1995)   \n",
       "...           ...   ...                                                ...   \n",
       "1677  06-Feb-1998  1678  http://us.imdb.com/M/title-exact?Mat%27+i+syn+...   \n",
       "1678  06-Feb-1998  1679  http://us.imdb.com/M/title-exact?B%2E+Monkey+(...   \n",
       "1679  01-Jan-1998  1680      http://us.imdb.com/Title?Sliding+Doors+(1998)   \n",
       "1680  01-Jan-1994  1681  http://us.imdb.com/M/title-exact?You%20So%20Cr...   \n",
       "1681  08-Mar-1996  1682  http://us.imdb.com/M/title-exact?Schrei%20aus%...   \n",
       "\n",
       "                                                 rating  \\\n",
       "0     [0, 0, 0, 1, 1, 1, 0, 0, 0, 0, 0, 0, 0, 0, 0, ...   \n",
       "1     [0, 1, 1, 0, 0, 0, 0, 0, 0, 0, 0, 0, 0, 0, 0, ...   \n",
       "2     [0, 0, 0, 0, 0, 0, 0, 0, 0, 0, 0, 0, 0, 0, 0, ...   \n",
       "3     [0, 1, 0, 0, 0, 1, 0, 0, 1, 0, 0, 0, 0, 0, 0, ...   \n",
       "4     [0, 0, 0, 0, 0, 0, 1, 0, 1, 0, 0, 0, 0, 0, 0, ...   \n",
       "...                                                 ...   \n",
       "1677  [0, 0, 0, 0, 0, 0, 0, 0, 1, 0, 0, 0, 0, 0, 0, ...   \n",
       "1678  [0, 0, 0, 0, 0, 0, 0, 0, 0, 0, 0, 0, 0, 0, 1, ...   \n",
       "1679  [0, 0, 0, 0, 0, 0, 0, 0, 1, 0, 0, 0, 0, 0, 1, ...   \n",
       "1680  [0, 0, 0, 0, 0, 1, 0, 0, 0, 0, 0, 0, 0, 0, 0, ...   \n",
       "1681  [0, 0, 0, 0, 0, 0, 0, 0, 1, 0, 0, 0, 0, 0, 0, ...   \n",
       "\n",
       "                                          title  \n",
       "0                              Toy Story (1995)  \n",
       "1                              GoldenEye (1995)  \n",
       "2                             Four Rooms (1995)  \n",
       "3                             Get Shorty (1995)  \n",
       "4                                Copycat (1995)  \n",
       "...                                         ...  \n",
       "1677                          Mat' i syn (1997)  \n",
       "1678                           B. Monkey (1998)  \n",
       "1679                       Sliding Doors (1998)  \n",
       "1680                        You So Crazy (1994)  \n",
       "1681  Scream of Stone (Schrei aus Stein) (1991)  \n",
       "\n",
       "[1682 rows x 5 columns]"
      ]
     },
     "execution_count": 144,
     "metadata": {},
     "output_type": "execute_result"
    }
   ],
   "source": [
    "df1.toPandas() # Return the contents of df as Pandas DataFrame"
   ]
  },
  {
   "cell_type": "markdown",
   "id": "a355f9c4",
   "metadata": {},
   "source": [
    "# Repartitioning"
   ]
  },
  {
   "cell_type": "code",
   "execution_count": 145,
   "id": "c1bc3b8f",
   "metadata": {},
   "outputs": [
    {
     "data": {
      "text/plain": [
       "10"
      ]
     },
     "execution_count": 145,
     "metadata": {},
     "output_type": "execute_result"
    }
   ],
   "source": [
    "# df with 10 partitions\n",
    "df1.repartition(10).rdd.getNumPartitions()"
   ]
  },
  {
   "cell_type": "code",
   "execution_count": 146,
   "id": "e5a6deb1",
   "metadata": {},
   "outputs": [
    {
     "data": {
      "text/plain": [
       "1"
      ]
     },
     "execution_count": 146,
     "metadata": {},
     "output_type": "execute_result"
    }
   ],
   "source": [
    "# df with 1 partition\n",
    "df1.coalesce(1).rdd.getNumPartitions() "
   ]
  },
  {
   "cell_type": "markdown",
   "id": "3634eb0d",
   "metadata": {},
   "source": [
    "# Registering DataFrames as Views"
   ]
  },
  {
   "cell_type": "code",
   "execution_count": 154,
   "id": "61cf2d85",
   "metadata": {},
   "outputs": [],
   "source": [
    "# Global permanent/non-replaceable Temp view\n",
    "df1.createGlobalTempView(\"df1\")"
   ]
  },
  {
   "cell_type": "code",
   "execution_count": 148,
   "id": "26556db6",
   "metadata": {},
   "outputs": [],
   "source": [
    "# Global replaceable Temp\n",
    "df2.createOrReplaceGlobalTempView(\"df2\")"
   ]
  },
  {
   "cell_type": "code",
   "execution_count": 155,
   "id": "7563c1ce",
   "metadata": {},
   "outputs": [],
   "source": [
    "# non-Global permanent/non-replaceable Temp view\n",
    "df3.createTempView(\"df3\")"
   ]
  },
  {
   "cell_type": "code",
   "execution_count": 150,
   "id": "69cf25d8",
   "metadata": {},
   "outputs": [],
   "source": [
    "# non-Global permanent/non-replaceable Temp view\n",
    "df4.createOrReplaceTempView(\"df4\")"
   ]
  },
  {
   "cell_type": "markdown",
   "id": "d068f581",
   "metadata": {},
   "source": [
    "# Query Views"
   ]
  },
  {
   "cell_type": "code",
   "execution_count": 162,
   "id": "4144bc68",
   "metadata": {},
   "outputs": [
    {
     "name": "stdout",
     "output_type": "stream",
     "text": [
      "+-----------+---+--------------------+--------------------+----------------+\n",
      "|       date| id|                link|              rating|           title|\n",
      "+-----------+---+--------------------+--------------------+----------------+\n",
      "|01-Jan-1995|  1|http://us.imdb.co...|[0, 0, 0, 1, 1, 1...|Toy Story (1995)|\n",
      "|01-Jan-1995|  2|http://us.imdb.co...|[0, 1, 1, 0, 0, 0...|GoldenEye (1995)|\n",
      "+-----------+---+--------------------+--------------------+----------------+\n",
      "only showing top 2 rows\n",
      "\n",
      "+-----------+---+--------------------+--------------------+----------------+\n",
      "|       date| id|                link|              rating|           title|\n",
      "+-----------+---+--------------------+--------------------+----------------+\n",
      "|01-Jan-1995|  1|http://us.imdb.co...|[0, 0, 0, 1, 1, 1...|Toy Story (1995)|\n",
      "|01-Jan-1995|  2|http://us.imdb.co...|[0, 1, 1, 0, 0, 0...|GoldenEye (1995)|\n",
      "+-----------+---+--------------------+--------------------+----------------+\n",
      "only showing top 2 rows\n",
      "\n"
     ]
    }
   ],
   "source": [
    "# Access global with new session\n",
    "spark.sql(\"SELECT * FROM global_temp.df1\").show(2)\n",
    "spark.newSession().sql(\"SELECT * FROM global_temp.df1\").show(2)"
   ]
  },
  {
   "cell_type": "code",
   "execution_count": 163,
   "id": "957090dc",
   "metadata": {},
   "outputs": [
    {
     "name": "stdout",
     "output_type": "stream",
     "text": [
      "+-----------+---+--------------------+--------------------+----------------+\n",
      "|       date| id|                link|              rating|           title|\n",
      "+-----------+---+--------------------+--------------------+----------------+\n",
      "|01-Jan-1995|  1|http://us.imdb.co...|[0, 0, 0, 1, 1, 1...|Toy Story (1995)|\n",
      "|01-Jan-1995|  2|http://us.imdb.co...|[0, 1, 1, 0, 0, 0...|GoldenEye (1995)|\n",
      "+-----------+---+--------------------+--------------------+----------------+\n",
      "only showing top 2 rows\n",
      "\n",
      "+---+----------------+----------+--------------------+\n",
      "| id|           title|      date|              rating|\n",
      "+---+----------------+----------+--------------------+\n",
      "|  1|Toy Story (1995)|1995-01-01|[0, 0, 0, 1, 1, 1...|\n",
      "|  2|GoldenEye (1995)|1995-01-01|[0, 1, 1, 0, 0, 0...|\n",
      "+---+----------------+----------+--------------------+\n",
      "only showing top 2 rows\n",
      "\n"
     ]
    }
   ],
   "source": [
    "# Access global with same session\n",
    "spark.sql(\"SELECT * FROM global_temp.df1\").show(2)\n",
    "spark.newSession().sql(\"SELECT * FROM global_temp.df2\").show(2)"
   ]
  },
  {
   "cell_type": "code",
   "execution_count": 164,
   "id": "eca78e89",
   "metadata": {},
   "outputs": [
    {
     "name": "stdout",
     "output_type": "stream",
     "text": [
      "+---+------------------+----------+--------------------+\n",
      "| id|        title_year|      date|              rating|\n",
      "+---+------------------+----------+--------------------+\n",
      "|  1| [Toy Story, 1995]|1995-01-01|[0, 0, 0, 1, 1, 1...|\n",
      "|  2| [GoldenEye, 1995]|1995-01-01|[0, 1, 1, 0, 0, 0...|\n",
      "|  3|[Four Rooms, 1995]|1995-01-01|[0, 0, 0, 0, 0, 0...|\n",
      "+---+------------------+----------+--------------------+\n",
      "only showing top 3 rows\n",
      "\n"
     ]
    },
    {
     "ename": "AnalysisException",
     "evalue": "'Table or view not found: df3; line 1 pos 14'",
     "output_type": "error",
     "traceback": [
      "\u001b[1;31m---------------------------------------------------------------------------\u001b[0m",
      "\u001b[1;31mPy4JJavaError\u001b[0m                             Traceback (most recent call last)",
      "\u001b[1;32md:\\projects\\python\\pyspark\\env-win-v3.7.9\\lib\\site-packages\\pyspark\\sql\\utils.py\u001b[0m in \u001b[0;36mdeco\u001b[1;34m(*a, **kw)\u001b[0m\n\u001b[0;32m     62\u001b[0m         \u001b[1;32mtry\u001b[0m\u001b[1;33m:\u001b[0m\u001b[1;33m\u001b[0m\u001b[1;33m\u001b[0m\u001b[0m\n\u001b[1;32m---> 63\u001b[1;33m             \u001b[1;32mreturn\u001b[0m \u001b[0mf\u001b[0m\u001b[1;33m(\u001b[0m\u001b[1;33m*\u001b[0m\u001b[0ma\u001b[0m\u001b[1;33m,\u001b[0m \u001b[1;33m**\u001b[0m\u001b[0mkw\u001b[0m\u001b[1;33m)\u001b[0m\u001b[1;33m\u001b[0m\u001b[1;33m\u001b[0m\u001b[0m\n\u001b[0m\u001b[0;32m     64\u001b[0m         \u001b[1;32mexcept\u001b[0m \u001b[0mpy4j\u001b[0m\u001b[1;33m.\u001b[0m\u001b[0mprotocol\u001b[0m\u001b[1;33m.\u001b[0m\u001b[0mPy4JJavaError\u001b[0m \u001b[1;32mas\u001b[0m \u001b[0me\u001b[0m\u001b[1;33m:\u001b[0m\u001b[1;33m\u001b[0m\u001b[1;33m\u001b[0m\u001b[0m\n",
      "\u001b[1;32md:\\projects\\python\\pyspark\\env-win-v3.7.9\\lib\\site-packages\\py4j\\protocol.py\u001b[0m in \u001b[0;36mget_return_value\u001b[1;34m(answer, gateway_client, target_id, name)\u001b[0m\n\u001b[0;32m    327\u001b[0m                     \u001b[1;34m\"An error occurred while calling {0}{1}{2}.\\n\"\u001b[0m\u001b[1;33m.\u001b[0m\u001b[1;33m\u001b[0m\u001b[1;33m\u001b[0m\u001b[0m\n\u001b[1;32m--> 328\u001b[1;33m                     format(target_id, \".\", name), value)\n\u001b[0m\u001b[0;32m    329\u001b[0m             \u001b[1;32melse\u001b[0m\u001b[1;33m:\u001b[0m\u001b[1;33m\u001b[0m\u001b[1;33m\u001b[0m\u001b[0m\n",
      "\u001b[1;31mPy4JJavaError\u001b[0m: An error occurred while calling o2504.sql.\n: org.apache.spark.sql.AnalysisException: Table or view not found: df3; line 1 pos 14\r\n\tat org.apache.spark.sql.catalyst.analysis.package$AnalysisErrorAt.failAnalysis(package.scala:47)\r\n\tat org.apache.spark.sql.catalyst.analysis.Analyzer$ResolveRelations$.org$apache$spark$sql$catalyst$analysis$Analyzer$ResolveRelations$$lookupTableFromCatalog(Analyzer.scala:798)\r\n\tat org.apache.spark.sql.catalyst.analysis.Analyzer$ResolveRelations$.resolveRelation(Analyzer.scala:750)\r\n\tat org.apache.spark.sql.catalyst.analysis.Analyzer$ResolveRelations$$anonfun$apply$8.applyOrElse(Analyzer.scala:780)\r\n\tat org.apache.spark.sql.catalyst.analysis.Analyzer$ResolveRelations$$anonfun$apply$8.applyOrElse(Analyzer.scala:773)\r\n\tat org.apache.spark.sql.catalyst.plans.logical.AnalysisHelper$$anonfun$resolveOperatorsUp$1$$anonfun$apply$1.apply(AnalysisHelper.scala:90)\r\n\tat org.apache.spark.sql.catalyst.plans.logical.AnalysisHelper$$anonfun$resolveOperatorsUp$1$$anonfun$apply$1.apply(AnalysisHelper.scala:90)\r\n\tat org.apache.spark.sql.catalyst.trees.CurrentOrigin$.withOrigin(TreeNode.scala:69)\r\n\tat org.apache.spark.sql.catalyst.plans.logical.AnalysisHelper$$anonfun$resolveOperatorsUp$1.apply(AnalysisHelper.scala:89)\r\n\tat org.apache.spark.sql.catalyst.plans.logical.AnalysisHelper$$anonfun$resolveOperatorsUp$1.apply(AnalysisHelper.scala:86)\r\n\tat org.apache.spark.sql.catalyst.plans.logical.AnalysisHelper$.allowInvokingTransformsInAnalyzer(AnalysisHelper.scala:194)\r\n\tat org.apache.spark.sql.catalyst.plans.logical.AnalysisHelper$class.resolveOperatorsUp(AnalysisHelper.scala:86)\r\n\tat org.apache.spark.sql.catalyst.plans.logical.LogicalPlan.resolveOperatorsUp(LogicalPlan.scala:29)\r\n\tat org.apache.spark.sql.catalyst.plans.logical.AnalysisHelper$$anonfun$resolveOperatorsUp$1$$anonfun$1.apply(AnalysisHelper.scala:87)\r\n\tat org.apache.spark.sql.catalyst.plans.logical.AnalysisHelper$$anonfun$resolveOperatorsUp$1$$anonfun$1.apply(AnalysisHelper.scala:87)\r\n\tat org.apache.spark.sql.catalyst.trees.TreeNode$$anonfun$4.apply(TreeNode.scala:328)\r\n\tat org.apache.spark.sql.catalyst.trees.TreeNode.mapProductIterator(TreeNode.scala:186)\r\n\tat org.apache.spark.sql.catalyst.trees.TreeNode.mapChildren(TreeNode.scala:326)\r\n\tat org.apache.spark.sql.catalyst.plans.logical.AnalysisHelper$$anonfun$resolveOperatorsUp$1.apply(AnalysisHelper.scala:87)\r\n\tat org.apache.spark.sql.catalyst.plans.logical.AnalysisHelper$$anonfun$resolveOperatorsUp$1.apply(AnalysisHelper.scala:86)\r\n\tat org.apache.spark.sql.catalyst.plans.logical.AnalysisHelper$.allowInvokingTransformsInAnalyzer(AnalysisHelper.scala:194)\r\n\tat org.apache.spark.sql.catalyst.plans.logical.AnalysisHelper$class.resolveOperatorsUp(AnalysisHelper.scala:86)\r\n\tat org.apache.spark.sql.catalyst.plans.logical.LogicalPlan.resolveOperatorsUp(LogicalPlan.scala:29)\r\n\tat org.apache.spark.sql.catalyst.analysis.Analyzer$ResolveRelations$.apply(Analyzer.scala:773)\r\n\tat org.apache.spark.sql.catalyst.analysis.Analyzer$ResolveRelations$.apply(Analyzer.scala:719)\r\n\tat org.apache.spark.sql.catalyst.rules.RuleExecutor$$anonfun$execute$1$$anonfun$apply$1.apply(RuleExecutor.scala:87)\r\n\tat org.apache.spark.sql.catalyst.rules.RuleExecutor$$anonfun$execute$1$$anonfun$apply$1.apply(RuleExecutor.scala:84)\r\n\tat scala.collection.LinearSeqOptimized$class.foldLeft(LinearSeqOptimized.scala:124)\r\n\tat scala.collection.immutable.List.foldLeft(List.scala:84)\r\n\tat org.apache.spark.sql.catalyst.rules.RuleExecutor$$anonfun$execute$1.apply(RuleExecutor.scala:84)\r\n\tat org.apache.spark.sql.catalyst.rules.RuleExecutor$$anonfun$execute$1.apply(RuleExecutor.scala:76)\r\n\tat scala.collection.immutable.List.foreach(List.scala:392)\r\n\tat org.apache.spark.sql.catalyst.rules.RuleExecutor.execute(RuleExecutor.scala:76)\r\n\tat org.apache.spark.sql.catalyst.analysis.Analyzer.org$apache$spark$sql$catalyst$analysis$Analyzer$$executeSameContext(Analyzer.scala:127)\r\n\tat org.apache.spark.sql.catalyst.analysis.Analyzer.execute(Analyzer.scala:121)\r\n\tat org.apache.spark.sql.catalyst.analysis.Analyzer$$anonfun$executeAndCheck$1.apply(Analyzer.scala:106)\r\n\tat org.apache.spark.sql.catalyst.analysis.Analyzer$$anonfun$executeAndCheck$1.apply(Analyzer.scala:105)\r\n\tat org.apache.spark.sql.catalyst.plans.logical.AnalysisHelper$.markInAnalyzer(AnalysisHelper.scala:201)\r\n\tat org.apache.spark.sql.catalyst.analysis.Analyzer.executeAndCheck(Analyzer.scala:105)\r\n\tat org.apache.spark.sql.execution.QueryExecution.analyzed$lzycompute(QueryExecution.scala:58)\r\n\tat org.apache.spark.sql.execution.QueryExecution.analyzed(QueryExecution.scala:56)\r\n\tat org.apache.spark.sql.execution.QueryExecution.assertAnalyzed(QueryExecution.scala:48)\r\n\tat org.apache.spark.sql.Dataset$.ofRows(Dataset.scala:78)\r\n\tat org.apache.spark.sql.SparkSession.sql(SparkSession.scala:643)\r\n\tat sun.reflect.GeneratedMethodAccessor216.invoke(Unknown Source)\r\n\tat sun.reflect.DelegatingMethodAccessorImpl.invoke(DelegatingMethodAccessorImpl.java:43)\r\n\tat java.lang.reflect.Method.invoke(Method.java:498)\r\n\tat py4j.reflection.MethodInvoker.invoke(MethodInvoker.java:244)\r\n\tat py4j.reflection.ReflectionEngine.invoke(ReflectionEngine.java:357)\r\n\tat py4j.Gateway.invoke(Gateway.java:282)\r\n\tat py4j.commands.AbstractCommand.invokeMethod(AbstractCommand.java:132)\r\n\tat py4j.commands.CallCommand.execute(CallCommand.java:79)\r\n\tat py4j.GatewayConnection.run(GatewayConnection.java:238)\r\n\tat java.lang.Thread.run(Thread.java:748)\r\nCaused by: org.apache.spark.sql.catalyst.analysis.NoSuchTableException: Table or view 'df3' not found in database 'default';\r\n\tat org.apache.spark.sql.catalyst.catalog.ExternalCatalog$class.requireTableExists(ExternalCatalog.scala:48)\r\n\tat org.apache.spark.sql.catalyst.catalog.InMemoryCatalog.requireTableExists(InMemoryCatalog.scala:45)\r\n\tat org.apache.spark.sql.catalyst.catalog.InMemoryCatalog.getTable(InMemoryCatalog.scala:326)\r\n\tat org.apache.spark.sql.catalyst.catalog.ExternalCatalogWithListener.getTable(ExternalCatalogWithListener.scala:138)\r\n\tat org.apache.spark.sql.catalyst.catalog.SessionCatalog.lookupRelation(SessionCatalog.scala:706)\r\n\tat org.apache.spark.sql.catalyst.analysis.Analyzer$ResolveRelations$.org$apache$spark$sql$catalyst$analysis$Analyzer$ResolveRelations$$lookupTableFromCatalog(Analyzer.scala:795)\r\n\t... 52 more\r\n",
      "\nDuring handling of the above exception, another exception occurred:\n",
      "\u001b[1;31mAnalysisException\u001b[0m                         Traceback (most recent call last)",
      "\u001b[1;32mC:\\Users\\DMS240~1\\AppData\\Local\\Temp/ipykernel_18804/1719011751.py\u001b[0m in \u001b[0;36m<module>\u001b[1;34m\u001b[0m\n\u001b[0;32m      3\u001b[0m \u001b[1;33m\u001b[0m\u001b[0m\n\u001b[0;32m      4\u001b[0m \u001b[1;31m# Access local with new session\u001b[0m\u001b[1;33m\u001b[0m\u001b[1;33m\u001b[0m\u001b[1;33m\u001b[0m\u001b[0m\n\u001b[1;32m----> 5\u001b[1;33m \u001b[0mspark\u001b[0m\u001b[1;33m.\u001b[0m\u001b[0mnewSession\u001b[0m\u001b[1;33m(\u001b[0m\u001b[1;33m)\u001b[0m\u001b[1;33m.\u001b[0m\u001b[0msql\u001b[0m\u001b[1;33m(\u001b[0m\u001b[1;34m\"SELECT * FROM df3\"\u001b[0m\u001b[1;33m)\u001b[0m\u001b[1;33m.\u001b[0m\u001b[0mshow\u001b[0m\u001b[1;33m(\u001b[0m\u001b[1;36m3\u001b[0m\u001b[1;33m)\u001b[0m\u001b[1;33m\u001b[0m\u001b[1;33m\u001b[0m\u001b[0m\n\u001b[0m",
      "\u001b[1;32md:\\projects\\python\\pyspark\\env-win-v3.7.9\\lib\\site-packages\\pyspark\\sql\\session.py\u001b[0m in \u001b[0;36msql\u001b[1;34m(self, sqlQuery)\u001b[0m\n\u001b[0;32m    765\u001b[0m         \u001b[1;33m[\u001b[0m\u001b[0mRow\u001b[0m\u001b[1;33m(\u001b[0m\u001b[0mf1\u001b[0m\u001b[1;33m=\u001b[0m\u001b[1;36m1\u001b[0m\u001b[1;33m,\u001b[0m \u001b[0mf2\u001b[0m\u001b[1;33m=\u001b[0m\u001b[1;34mu'row1'\u001b[0m\u001b[1;33m)\u001b[0m\u001b[1;33m,\u001b[0m \u001b[0mRow\u001b[0m\u001b[1;33m(\u001b[0m\u001b[0mf1\u001b[0m\u001b[1;33m=\u001b[0m\u001b[1;36m2\u001b[0m\u001b[1;33m,\u001b[0m \u001b[0mf2\u001b[0m\u001b[1;33m=\u001b[0m\u001b[1;34mu'row2'\u001b[0m\u001b[1;33m)\u001b[0m\u001b[1;33m,\u001b[0m \u001b[0mRow\u001b[0m\u001b[1;33m(\u001b[0m\u001b[0mf1\u001b[0m\u001b[1;33m=\u001b[0m\u001b[1;36m3\u001b[0m\u001b[1;33m,\u001b[0m \u001b[0mf2\u001b[0m\u001b[1;33m=\u001b[0m\u001b[1;34mu'row3'\u001b[0m\u001b[1;33m)\u001b[0m\u001b[1;33m]\u001b[0m\u001b[1;33m\u001b[0m\u001b[1;33m\u001b[0m\u001b[0m\n\u001b[0;32m    766\u001b[0m         \"\"\"\n\u001b[1;32m--> 767\u001b[1;33m         \u001b[1;32mreturn\u001b[0m \u001b[0mDataFrame\u001b[0m\u001b[1;33m(\u001b[0m\u001b[0mself\u001b[0m\u001b[1;33m.\u001b[0m\u001b[0m_jsparkSession\u001b[0m\u001b[1;33m.\u001b[0m\u001b[0msql\u001b[0m\u001b[1;33m(\u001b[0m\u001b[0msqlQuery\u001b[0m\u001b[1;33m)\u001b[0m\u001b[1;33m,\u001b[0m \u001b[0mself\u001b[0m\u001b[1;33m.\u001b[0m\u001b[0m_wrapped\u001b[0m\u001b[1;33m)\u001b[0m\u001b[1;33m\u001b[0m\u001b[1;33m\u001b[0m\u001b[0m\n\u001b[0m\u001b[0;32m    768\u001b[0m \u001b[1;33m\u001b[0m\u001b[0m\n\u001b[0;32m    769\u001b[0m     \u001b[1;33m@\u001b[0m\u001b[0msince\u001b[0m\u001b[1;33m(\u001b[0m\u001b[1;36m2.0\u001b[0m\u001b[1;33m)\u001b[0m\u001b[1;33m\u001b[0m\u001b[1;33m\u001b[0m\u001b[0m\n",
      "\u001b[1;32md:\\projects\\python\\pyspark\\env-win-v3.7.9\\lib\\site-packages\\py4j\\java_gateway.py\u001b[0m in \u001b[0;36m__call__\u001b[1;34m(self, *args)\u001b[0m\n\u001b[0;32m   1255\u001b[0m         \u001b[0manswer\u001b[0m \u001b[1;33m=\u001b[0m \u001b[0mself\u001b[0m\u001b[1;33m.\u001b[0m\u001b[0mgateway_client\u001b[0m\u001b[1;33m.\u001b[0m\u001b[0msend_command\u001b[0m\u001b[1;33m(\u001b[0m\u001b[0mcommand\u001b[0m\u001b[1;33m)\u001b[0m\u001b[1;33m\u001b[0m\u001b[1;33m\u001b[0m\u001b[0m\n\u001b[0;32m   1256\u001b[0m         return_value = get_return_value(\n\u001b[1;32m-> 1257\u001b[1;33m             answer, self.gateway_client, self.target_id, self.name)\n\u001b[0m\u001b[0;32m   1258\u001b[0m \u001b[1;33m\u001b[0m\u001b[0m\n\u001b[0;32m   1259\u001b[0m         \u001b[1;32mfor\u001b[0m \u001b[0mtemp_arg\u001b[0m \u001b[1;32min\u001b[0m \u001b[0mtemp_args\u001b[0m\u001b[1;33m:\u001b[0m\u001b[1;33m\u001b[0m\u001b[1;33m\u001b[0m\u001b[0m\n",
      "\u001b[1;32md:\\projects\\python\\pyspark\\env-win-v3.7.9\\lib\\site-packages\\pyspark\\sql\\utils.py\u001b[0m in \u001b[0;36mdeco\u001b[1;34m(*a, **kw)\u001b[0m\n\u001b[0;32m     67\u001b[0m                                              e.java_exception.getStackTrace()))\n\u001b[0;32m     68\u001b[0m             \u001b[1;32mif\u001b[0m \u001b[0ms\u001b[0m\u001b[1;33m.\u001b[0m\u001b[0mstartswith\u001b[0m\u001b[1;33m(\u001b[0m\u001b[1;34m'org.apache.spark.sql.AnalysisException: '\u001b[0m\u001b[1;33m)\u001b[0m\u001b[1;33m:\u001b[0m\u001b[1;33m\u001b[0m\u001b[1;33m\u001b[0m\u001b[0m\n\u001b[1;32m---> 69\u001b[1;33m                 \u001b[1;32mraise\u001b[0m \u001b[0mAnalysisException\u001b[0m\u001b[1;33m(\u001b[0m\u001b[0ms\u001b[0m\u001b[1;33m.\u001b[0m\u001b[0msplit\u001b[0m\u001b[1;33m(\u001b[0m\u001b[1;34m': '\u001b[0m\u001b[1;33m,\u001b[0m \u001b[1;36m1\u001b[0m\u001b[1;33m)\u001b[0m\u001b[1;33m[\u001b[0m\u001b[1;36m1\u001b[0m\u001b[1;33m]\u001b[0m\u001b[1;33m,\u001b[0m \u001b[0mstackTrace\u001b[0m\u001b[1;33m)\u001b[0m\u001b[1;33m\u001b[0m\u001b[1;33m\u001b[0m\u001b[0m\n\u001b[0m\u001b[0;32m     70\u001b[0m             \u001b[1;32mif\u001b[0m \u001b[0ms\u001b[0m\u001b[1;33m.\u001b[0m\u001b[0mstartswith\u001b[0m\u001b[1;33m(\u001b[0m\u001b[1;34m'org.apache.spark.sql.catalyst.analysis'\u001b[0m\u001b[1;33m)\u001b[0m\u001b[1;33m:\u001b[0m\u001b[1;33m\u001b[0m\u001b[1;33m\u001b[0m\u001b[0m\n\u001b[0;32m     71\u001b[0m                 \u001b[1;32mraise\u001b[0m \u001b[0mAnalysisException\u001b[0m\u001b[1;33m(\u001b[0m\u001b[0ms\u001b[0m\u001b[1;33m.\u001b[0m\u001b[0msplit\u001b[0m\u001b[1;33m(\u001b[0m\u001b[1;34m': '\u001b[0m\u001b[1;33m,\u001b[0m \u001b[1;36m1\u001b[0m\u001b[1;33m)\u001b[0m\u001b[1;33m[\u001b[0m\u001b[1;36m1\u001b[0m\u001b[1;33m]\u001b[0m\u001b[1;33m,\u001b[0m \u001b[0mstackTrace\u001b[0m\u001b[1;33m)\u001b[0m\u001b[1;33m\u001b[0m\u001b[1;33m\u001b[0m\u001b[0m\n",
      "\u001b[1;31mAnalysisException\u001b[0m: 'Table or view not found: df3; line 1 pos 14'"
     ]
    }
   ],
   "source": [
    "# Access local with same session\n",
    "spark.sql(\"SELECT * FROM df3\").show(3)\n",
    "\n",
    "# Access local with new session\n",
    "spark.newSession().sql(\"SELECT * FROM df3\").show(3)"
   ]
  },
  {
   "cell_type": "markdown",
   "id": "294c4725",
   "metadata": {},
   "source": [
    "# Write & Save to Files"
   ]
  },
  {
   "cell_type": "markdown",
   "id": "c93972d8",
   "metadata": {},
   "source": [
    "1. \"errorifexists\" or \"error\" is default, if data exists\n",
    "2. \"append\" data is added to new file with or without coalesce\n",
    "3. \"overwrite\" overwrites the data\n",
    "4. \"ignore\" data is not written even if data is new, old remains intact\n",
    "---\n",
    "1. partitionBy divides data into folders by the partition names as partitionBy col, but partitionBy col is not saved to file. used by save and saveAsTable \n",
    "2. bucketBy with saveAsTable\n",
    "3. sortBy with saveAsTable, must be used together with bucketBy; but first bucket it then sort it"
   ]
  },
  {
   "cell_type": "code",
   "execution_count": 169,
   "id": "dbb9a735",
   "metadata": {},
   "outputs": [],
   "source": [
    "df1.select(\"id\", \"title\").write.mode('error').save(\"save/dfdemo1.parquet\")"
   ]
  },
  {
   "cell_type": "code",
   "execution_count": 31,
   "id": "64a3d8b6",
   "metadata": {},
   "outputs": [],
   "source": [
    "df1.coalesce(1).select(\"id\", \"title\",\"date\").write.mode(\"append\").save(\"save/dfdemo2.json\",format=\"json\")"
   ]
  },
  {
   "cell_type": "code",
   "execution_count": 184,
   "id": "ab819a17",
   "metadata": {},
   "outputs": [],
   "source": [
    "df3.select(col(\"title_year.year\").alias(\"year\"),col(\"title_year.title\").alias(\"title\")).coalesce(1).write.format(\"json\").mode(\n",
    "    \"overwrite\").partitionBy(\"year\").save(\"save/dfdemo4.json\")"
   ]
  },
  {
   "cell_type": "code",
   "execution_count": 179,
   "id": "31223e2a",
   "metadata": {},
   "outputs": [],
   "source": [
    "df4.coalesce(1).write.mode(\"ignore\").format(\"csv\").save(\"save/dfdemo5.csv\")\n",
    "df4.coalesce(1).write.mode(\"ignore\").option(\"header\", \"true\").format(\"csv\").option(\"header\", \"true\").save(\"save/dfdemo6.csv\")\n",
    "df4.coalesce(1).write.option(\"header\", \"true\").mode(\"ignore\").option(\"header\", \"true\").format(\"csv\").save(\"save/dfdemo7.csv\")"
   ]
  },
  {
   "cell_type": "code",
   "execution_count": 192,
   "id": "ea62a6f9",
   "metadata": {},
   "outputs": [
    {
     "name": "stdout",
     "output_type": "stream",
     "text": [
      "+----+--------------------+\n",
      "|year|               title|\n",
      "+----+--------------------+\n",
      "|1967|       Belle de jour|\n",
      "|1992|             Aladdin|\n",
      "|1991|Terminator 2: Jud...|\n",
      "|1991|Silence of the La...|\n",
      "|1992|            Supercop|\n",
      "|1968|2001: A Space Ody...|\n",
      "|1992|  Lawnmower Man, The|\n",
      "|1987|       Dirty Dancing|\n",
      "|1992|      Reservoir Dogs|\n",
      "|1992|      Basic Instinct|\n",
      "|1992| Glengarry Glen Ross|\n",
      "|1980|    Private Benjamin|\n",
      "|1991|        Delicatessen|\n",
      "|1980|Empire Strikes Ba...|\n",
      "|1987| Princess Bride, The|\n",
      "|1980| Blues Brothers, The|\n",
      "|1987|   Full Metal Jacket|\n",
      "|1992|    Grand Day Out, A|\n",
      "|1980|         Raging Bull|\n",
      "|1967|       Graduate, The|\n",
      "|1980|        Shining, The|\n",
      "|1987|        Evil Dead II|\n",
      "|1992|          Unforgiven|\n",
      "|1992|Bram Stoker's Dra...|\n",
      "|1991|           Cape Fear|\n",
      "|1991|Star Trek VI: The...|\n",
      "|1992|      Batman Returns|\n",
      "|1992|         Under Siege|\n",
      "|1987|     Raising Arizona|\n",
      "|1992|            Sneakers|\n",
      "|1992|Last of the Mohic...|\n",
      "|1997|       Jungle2Jungle|\n",
      "|1997|Smilla's Sense of...|\n",
      "|1997|    Devil's Own, The|\n",
      "|1997|         Chasing Amy|\n",
      "|1997|Turbo: A Power Ra...|\n",
      "|1997| Grosse Pointe Blank|\n",
      "|1997|Austin Powers: In...|\n",
      "|1997|  Fifth Element, The|\n",
      "|1997|Lost World: Juras...|\n",
      "|1997|      Batman & Robin|\n",
      "|1997|My Best Friend's ...|\n",
      "|1997|        Men in Black|\n",
      "|1997|             Contact|\n",
      "|1997|George of the Jungle|\n",
      "|1997|       Event Horizon|\n",
      "|1997|             Air Bud|\n",
      "|1997|In the Company of...|\n",
      "|1997|               Steel|\n",
      "|1997|               Mimic|\n",
      "|1997|  Kull the Conqueror|\n",
      "|1997|         Chasing Amy|\n",
      "|1997|     Full Monty, The|\n",
      "|1997|             Gattaca|\n",
      "|1997|   Starship Troopers|\n",
      "|1997|   Good Will Hunting|\n",
      "|1997|    Fierce Creatures|\n",
      "|1997|      Absolute Power|\n",
      "|1997|            Rosewood|\n",
      "|1997|       Donnie Brasco|\n",
      "|1997|           Liar Liar|\n",
      "|1997|           Breakdown|\n",
      "|1997|         Ulee's Gold|\n",
      "|1997|            Face/Off|\n",
      "|1997|             Hoodlum|\n",
      "|1997|       Air Force One|\n",
      "|1997|            In & Out|\n",
      "|1997|   L.A. Confidential|\n",
      "|1997|         Ulee's Gold|\n",
      "|1997|      Ice Storm, The|\n",
      "|1997|Mrs. Brown (Her M...|\n",
      "|1997|Devil's Advocate,...|\n",
      "|1997|FairyTale: A True...|\n",
      "|1997|            Deceiver|\n",
      "|1997|      Rainmaker, The|\n",
      "|1997|Wings of the Dove...|\n",
      "|1997|Midnight in the G...|\n",
      "|1997|             Titanic|\n",
      "|1997|  As Good As It Gets|\n",
      "|1997|      Murder at 1600|\n",
      "|1997|        Dante's Peak|\n",
      "|1997|        Lost Highway|\n",
      "|1997|           G.I. Jane|\n",
      "|1997|            Cop Land|\n",
      "|1997|   Conspiracy Theory|\n",
      "|1997|                 187|\n",
      "|1997|           Edge, The|\n",
      "|1997|      Kiss the Girls|\n",
      "|1997|           Game, The|\n",
      "|1997|              U Turn|\n",
      "|1997|  How to Be a Player|\n",
      "|1997|         Playing God|\n",
      "|1997|   House of Yes, The|\n",
      "|1997|                Bean|\n",
      "|1997|            Mad City|\n",
      "|1997|       Boogie Nights|\n",
      "|1997|       Critical Care|\n",
      "|1997|Man Who Knew Too ...|\n",
      "|1997| Alien: Resurrection|\n",
      "|1997|        Apostle, The|\n",
      "+----+--------------------+\n",
      "only showing top 100 rows\n",
      "\n"
     ]
    }
   ],
   "source": [
    "df3.select(col(\"title_year.year\").alias(\"year\"),col(\"title_year.title\").alias(\"title\")).coalesce(1\n",
    "    ).write.bucketBy(5, \"year\").mode(\"overwrite\").saveAsTable(\"yearwise_bucked\")\n",
    "spark.sql(\"SELECT * FROM yearwise_bucked\").show(100)"
   ]
  },
  {
   "cell_type": "code",
   "execution_count": 194,
   "id": "5506d72c",
   "metadata": {},
   "outputs": [
    {
     "name": "stdout",
     "output_type": "stream",
     "text": [
      "+----+--------------------+\n",
      "|year|               title|\n",
      "+----+--------------------+\n",
      "|1997|  'Til There Was You|\n",
      "|1997|                 187|\n",
      "|1968|2001: A Space Ody...|\n",
      "|1963|               8 1/2|\n",
      "|1997|8 Heads in a Duff...|\n",
      "|1997|      Absolute Power|\n",
      "|1997|    Addicted to Love|\n",
      "|1997|           Afterglow|\n",
      "|1997|             Air Bud|\n",
      "|1997|       Air Force One|\n",
      "|1992|             Aladdin|\n",
      "|1992|             Alien 3|\n",
      "|1997| Alien: Resurrection|\n",
      "|1997|         All Over Me|\n",
      "|1997|             Amistad|\n",
      "|1992|Amityville 1992: ...|\n",
      "|1997|            Anaconda|\n",
      "|1997|           Anastasia|\n",
      "|1997|       Anna Karenina|\n",
      "|1997|        Apostle, The|\n",
      "|1997|  As Good As It Gets|\n",
      "|1997|     Assignment, The|\n",
      "|1997|Austin Powers: In...|\n",
      "|1997|Ayn Rand: A Sense...|\n",
      "|1997|             B*A*P*S|\n",
      "|1987|           Bad Taste|\n",
      "|1968|          Barbarella|\n",
      "|1992|      Basic Instinct|\n",
      "|1997|      Batman & Robin|\n",
      "|1992|      Batman Returns|\n",
      "|1997|                Bean|\n",
      "|1997|Beautician and th...|\n",
      "|1991|Beauty and the Beast|\n",
      "|1987|      Believers, The|\n",
      "|1967|       Belle de jour|\n",
      "|1997|                Bent|\n",
      "|1997|            Best Men|\n",
      "|1997| Beverly Hills Ninja|\n",
      "|1997|        Big One, The|\n",
      "|1963|          Birds, The|\n",
      "|1992|         Bitter Moon|\n",
      "|1997|               Bliss|\n",
      "|1997|        Blood & Wine|\n",
      "|1980| Blues Brothers, The|\n",
      "|1992|         Bob Roberts|\n",
      "|1991|          Body Parts|\n",
      "|1967|    Bonnie and Clyde|\n",
      "|1997|       Boogie Nights|\n",
      "|1992|           Boomerang|\n",
      "|1997|          Booty Call|\n",
      "|1997|        Boy's Life 2|\n",
      "|1997|           Boys, Les|\n",
      "|1992|           Braindead|\n",
      "|1992|Bram Stoker's Dra...|\n",
      "|1997|           Breakdown|\n",
      "|1997|   Brother's Kiss, A|\n",
      "|1997|               Buddy|\n",
      "|1992|C'est arriv� pr�s...|\n",
      "|1992|            Candyman|\n",
      "|1991|           Cape Fear|\n",
      "|1997|        Career Girls|\n",
      "|1992|             Careful|\n",
      "|1942|          Casablanca|\n",
      "|1997|    Cats Don't Dance|\n",
      "|1963|             Charade|\n",
      "|1997|         Chasing Amy|\n",
      "|1997|         Chasing Amy|\n",
      "|1997|    City of Industry|\n",
      "|1967| Collectionneuse, La|\n",
      "|1997|        Commandments|\n",
      "|1997|             Con Air|\n",
      "|1997|   Conspiracy Theory|\n",
      "|1997|             Contact|\n",
      "|1963|Contempt (M�pris,...|\n",
      "|1967|      Cool Hand Luke|\n",
      "|1997|            Cop Land|\n",
      "|1997|       Critical Care|\n",
      "|1992|              Cronos|\n",
      "|1992|    Crying Game, The|\n",
      "|1992|               Daens|\n",
      "|1997|    Dangerous Ground|\n",
      "|1997|        Dante's Peak|\n",
      "|1991|  Death in Brunswick|\n",
      "|1997|            Deceiver|\n",
      "|1997|            Deceiver|\n",
      "|1997|Deconstructing Harry|\n",
      "|1991|        Delicatessen|\n",
      "|1997|Designated Mourne...|\n",
      "|1997|Designated Mourne...|\n",
      "|1997|Devil's Advocate,...|\n",
      "|1997|    Devil's Own, The|\n",
      "|1992|               Dingo|\n",
      "|1987|       Dirty Dancing|\n",
      "|1997|       Donnie Brasco|\n",
      "|1991|          Doors, The|\n",
      "|1997|         Double Team|\n",
      "|1991|Double vie de V�r...|\n",
      "|1963|Dr. Strangelove o...|\n",
      "|1997|Dream With the Fi...|\n",
      "|1991|      Drop Dead Fred|\n",
      "+----+--------------------+\n",
      "only showing top 100 rows\n",
      "\n"
     ]
    }
   ],
   "source": [
    "df3.select(col(\"title_year.year\").alias(\"year\"),col(\"title_year.title\").alias(\"title\")).coalesce(1\n",
    "    ).write.bucketBy(5, \"year\").sortBy(\"title\").mode(\"overwrite\").saveAsTable(\"title_sorted\")\n",
    "spark.sql(\"SELECT * FROM title_sorted\").show(100)"
   ]
  },
  {
   "cell_type": "code",
   "execution_count": 17,
   "id": "64fa9555",
   "metadata": {},
   "outputs": [],
   "source": [
    "# from database\n",
    "# restart jupyter if it doesn't work\n",
    "user='root';pw='24081999'\n",
    "table_name='baz1' \n",
    "# creates new table, doesn't write to same table without overwrite\n",
    "# table schema must be same as DF schema\n",
    "# appends with same id's, if MySQL official schema in db is not UNIQUE\n",
    "\n",
    "# mysql://[user[:password]@][netloc][:port][/dbname][?param1=value1&...]\n",
    "url=\"jdbc:mysql://localhost:3306/oneqshopv1\"\n",
    "properties = {\n",
    "    \"user\": user,\n",
    "    \"password\": pw\n",
    "}\n",
    "df_db1.write.option(\"driver\", \"com.mysql.jdbc.Driver\").mode(\"append\").jdbc(url=url,table=table_name,properties=properties)\n",
    "# df_db1.show()"
   ]
  },
  {
   "cell_type": "code",
   "execution_count": 268,
   "id": "e204ac74",
   "metadata": {},
   "outputs": [],
   "source": [
    "# invalid, saves as parquet without format definition\n",
    "df1.select(\"id\", \"title\").write.save(\"save/dfdemo3.json\")"
   ]
  },
  {
   "cell_type": "markdown",
   "id": "4a362a23",
   "metadata": {},
   "source": [
    "# Joins"
   ]
  },
  {
   "cell_type": "code",
   "execution_count": 195,
   "id": "acb9a9ed",
   "metadata": {},
   "outputs": [
    {
     "name": "stdout",
     "output_type": "stream",
     "text": [
      "+---+---+\n",
      "| x1| x2|\n",
      "+---+---+\n",
      "|  a|  1|\n",
      "|  b|  2|\n",
      "|  c|  3|\n",
      "+---+---+\n",
      "\n",
      "None\n",
      "+---+-----+\n",
      "| x1|   x3|\n",
      "+---+-----+\n",
      "|  a| true|\n",
      "|  b|false|\n",
      "|  d| true|\n",
      "+---+-----+\n",
      "\n",
      "None\n"
     ]
    }
   ],
   "source": [
    "df7 = spark.createDataFrame( [('a',1), ('b',2), ('c',3)], ('x1', 'x2') )\n",
    "print(df7.show())\n",
    "\n",
    "df8 = spark.createDataFrame( [('a',True), ('b',False), ('d',True)], ('x1', 'x3') )\n",
    "print(df8.show())"
   ]
  },
  {
   "cell_type": "markdown",
   "id": "1dbb1135",
   "metadata": {},
   "source": [
    "## Mutating Joins"
   ]
  },
  {
   "cell_type": "code",
   "execution_count": 196,
   "id": "9da9f440",
   "metadata": {},
   "outputs": [
    {
     "name": "stdout",
     "output_type": "stream",
     "text": [
      "+---+---+-----+\n",
      "| x1| x2|   x3|\n",
      "+---+---+-----+\n",
      "|  a|  1| true|\n",
      "|  b|  2|false|\n",
      "|  c|  3| null|\n",
      "+---+---+-----+\n",
      "\n"
     ]
    }
   ],
   "source": [
    "# Left\n",
    "df7.join(df8, \"x1\", how=\"left\").orderBy(\"x1\",ascending=True).show()"
   ]
  },
  {
   "cell_type": "code",
   "execution_count": 197,
   "id": "6cc20fe0",
   "metadata": {},
   "outputs": [
    {
     "name": "stdout",
     "output_type": "stream",
     "text": [
      "+---+----+-----+\n",
      "| x1|  x2|   x3|\n",
      "+---+----+-----+\n",
      "|  a|   1| true|\n",
      "|  b|   2|false|\n",
      "|  d|null| true|\n",
      "+---+----+-----+\n",
      "\n"
     ]
    }
   ],
   "source": [
    "# Right\n",
    "df7.join(df8, \"x1\", how=\"right\").orderBy(\"x1\",ascending=True).show()"
   ]
  },
  {
   "cell_type": "code",
   "execution_count": 198,
   "id": "d2e4e1a5",
   "metadata": {},
   "outputs": [
    {
     "name": "stdout",
     "output_type": "stream",
     "text": [
      "+---+---+-----+\n",
      "| x1| x2|   x3|\n",
      "+---+---+-----+\n",
      "|  a|  1| true|\n",
      "|  b|  2|false|\n",
      "+---+---+-----+\n",
      "\n"
     ]
    }
   ],
   "source": [
    "# inner\n",
    "df7.join(df8, \"x1\", how=\"inner\").orderBy(\"x1\",ascending=True).show()"
   ]
  },
  {
   "cell_type": "code",
   "execution_count": 199,
   "id": "05d82a5c",
   "metadata": {},
   "outputs": [
    {
     "name": "stdout",
     "output_type": "stream",
     "text": [
      "+---+----+-----+\n",
      "| x1|  x2|   x3|\n",
      "+---+----+-----+\n",
      "|  a|   1| true|\n",
      "|  b|   2|false|\n",
      "|  c|   3| null|\n",
      "|  d|null| true|\n",
      "+---+----+-----+\n",
      "\n"
     ]
    }
   ],
   "source": [
    "# full\n",
    "df7.join(df8, \"x1\", how=\"full\").orderBy(\"x1\",ascending=True).show()"
   ]
  },
  {
   "cell_type": "markdown",
   "id": "2daa65a9",
   "metadata": {},
   "source": [
    "## Filtering Joins"
   ]
  },
  {
   "cell_type": "code",
   "execution_count": 201,
   "id": "ce2fd65b",
   "metadata": {},
   "outputs": [
    {
     "name": "stdout",
     "output_type": "stream",
     "text": [
      "+---+---+\n",
      "| x1| x2|\n",
      "+---+---+\n",
      "|  a|  1|\n",
      "|  b|  2|\n",
      "+---+---+\n",
      "\n"
     ]
    }
   ],
   "source": [
    "# left_semi\n",
    "df7.join(df8, \"x1\", how=\"left_semi\").orderBy(\"x1\",ascending=True).show()"
   ]
  },
  {
   "cell_type": "code",
   "execution_count": 200,
   "id": "f56f81ef",
   "metadata": {},
   "outputs": [
    {
     "name": "stdout",
     "output_type": "stream",
     "text": [
      "+---+---+\n",
      "| x1| x2|\n",
      "+---+---+\n",
      "|  c|  3|\n",
      "+---+---+\n",
      "\n"
     ]
    }
   ],
   "source": [
    "# left_anti\n",
    "df7.join(df8, \"x1\", how=\"left_anti\").orderBy(\"x1\",ascending=True).show()"
   ]
  },
  {
   "cell_type": "markdown",
   "id": "5eb0e024",
   "metadata": {},
   "source": [
    "# Dataframe Operations"
   ]
  },
  {
   "cell_type": "code",
   "execution_count": 202,
   "id": "7869b724",
   "metadata": {},
   "outputs": [
    {
     "name": "stdout",
     "output_type": "stream",
     "text": [
      "+---+---+\n",
      "| x1| x2|\n",
      "+---+---+\n",
      "|  a|  1|\n",
      "|  b|  2|\n",
      "|  c|  3|\n",
      "+---+---+\n",
      "\n",
      "None\n",
      "+---+---+\n",
      "| x1| x2|\n",
      "+---+---+\n",
      "|  b|  2|\n",
      "|  c|  3|\n",
      "|  d|  4|\n",
      "+---+---+\n",
      "\n",
      "None\n"
     ]
    }
   ],
   "source": [
    "df9 = spark.createDataFrame( [('a',1), ('b',2), ('c',3)], ('x1', 'x2') )\n",
    "print(df9.show())\n",
    "\n",
    "df10 = spark.createDataFrame( [('b',2), ('c',3), ('d',4)], ('x1', 'x2') )\n",
    "print(df10.show())"
   ]
  },
  {
   "cell_type": "code",
   "execution_count": 203,
   "id": "b53b9d08",
   "metadata": {},
   "outputs": [
    {
     "name": "stdout",
     "output_type": "stream",
     "text": [
      "+---+---+\n",
      "| x1| x2|\n",
      "+---+---+\n",
      "|  c|  3|\n",
      "|  b|  2|\n",
      "+---+---+\n",
      "\n"
     ]
    }
   ],
   "source": [
    "df9.intersect(df10).show()"
   ]
  },
  {
   "cell_type": "code",
   "execution_count": 204,
   "id": "e0000681",
   "metadata": {},
   "outputs": [
    {
     "name": "stdout",
     "output_type": "stream",
     "text": [
      "+---+---+\n",
      "| x1| x2|\n",
      "+---+---+\n",
      "|  a|  1|\n",
      "|  b|  2|\n",
      "|  c|  3|\n",
      "|  b|  2|\n",
      "|  c|  3|\n",
      "|  d|  4|\n",
      "+---+---+\n",
      "\n"
     ]
    }
   ],
   "source": [
    "df9.union(df10).show()"
   ]
  },
  {
   "cell_type": "code",
   "execution_count": 205,
   "id": "ab28fd6a",
   "metadata": {},
   "outputs": [
    {
     "name": "stdout",
     "output_type": "stream",
     "text": [
      "+---+---+\n",
      "| x1| x2|\n",
      "+---+---+\n",
      "|  a|  1|\n",
      "+---+---+\n",
      "\n"
     ]
    }
   ],
   "source": [
    "df9.subtract(df10).show()"
   ]
  },
  {
   "cell_type": "code",
   "execution_count": 206,
   "id": "f2848230",
   "metadata": {},
   "outputs": [
    {
     "name": "stdout",
     "output_type": "stream",
     "text": [
      "+---+-----+\n",
      "| x1|   x2|\n",
      "+---+-----+\n",
      "|  a|1,2,3|\n",
      "|  b|2,3,4|\n",
      "+---+-----+\n",
      "\n"
     ]
    }
   ],
   "source": [
    "df11 = spark.createDataFrame( [('a',\"1,2,3\"), ('b',\"2,3,4\")], ('x1', 'x2') )\n",
    "df11.show()"
   ]
  },
  {
   "cell_type": "code",
   "execution_count": 207,
   "id": "0dbb6b11",
   "metadata": {},
   "outputs": [
    {
     "name": "stdout",
     "output_type": "stream",
     "text": [
      "root\n",
      " |-- x1: string (nullable = true)\n",
      " |-- values: array (nullable = true)\n",
      " |    |-- element: string (containsNull = true)\n",
      "\n",
      "+---+---------+\n",
      "| x1|   values|\n",
      "+---+---------+\n",
      "|  a|[1, 2, 3]|\n",
      "|  b|[2, 3, 4]|\n",
      "+---+---------+\n",
      "\n"
     ]
    }
   ],
   "source": [
    "df11_1=df11.select(\"x1\",F.split(\"x2\",\",\").alias(\"values\"))\n",
    "df11_1.printSchema()\n",
    "df11_1.show()"
   ]
  },
  {
   "cell_type": "code",
   "execution_count": 210,
   "id": "eb936b61",
   "metadata": {},
   "outputs": [
    {
     "name": "stdout",
     "output_type": "stream",
     "text": [
      "root\n",
      " |-- x1: string (nullable = true)\n",
      " |-- values: array (nullable = true)\n",
      " |    |-- element: string (containsNull = true)\n",
      " |-- pos: integer (nullable = false)\n",
      " |-- val: string (nullable = true)\n",
      "\n",
      "+---+---------+---+---+\n",
      "| x1|   values|pos|val|\n",
      "+---+---------+---+---+\n",
      "|  a|[1, 2, 3]|  0|  1|\n",
      "|  a|[1, 2, 3]|  1|  2|\n",
      "|  a|[1, 2, 3]|  2|  3|\n",
      "|  b|[2, 3, 4]|  0|  2|\n",
      "|  b|[2, 3, 4]|  1|  3|\n",
      "|  b|[2, 3, 4]|  2|  4|\n",
      "+---+---------+---+---+\n",
      "\n"
     ]
    }
   ],
   "source": [
    "df11_2=df11.select(\"x1\",F.split(\"x2\",\",\").alias(\"values\"),\n",
    "                  F.posexplode(F.split(\"x2\",\",\")).alias(\"pos\",\"val\"))\n",
    "df11_2.printSchema()\n",
    "df11_2.show()"
   ]
  },
  {
   "cell_type": "code",
   "execution_count": 211,
   "id": "158e01e3",
   "metadata": {},
   "outputs": [
    {
     "name": "stdout",
     "output_type": "stream",
     "text": [
      "root\n",
      " |-- x1: string (nullable = true)\n",
      " |-- val: string (nullable = true)\n",
      "\n",
      "+---+---+\n",
      "| x1|val|\n",
      "+---+---+\n",
      "|  a|  1|\n",
      "|  a|  2|\n",
      "|  a|  3|\n",
      "|  b|  2|\n",
      "|  b|  3|\n",
      "|  b|  4|\n",
      "+---+---+\n",
      "\n"
     ]
    }
   ],
   "source": [
    "df11_3=df11.select(\"x1\",F.split(\"x2\",\",\").alias(\"values\"),\n",
    "        F.posexplode(F.split(\"x2\",\",\")).alias(\"pos\",\"val\")\n",
    "        ).drop(\"val\").select(\"x1\",F.expr(\"values[pos]\").alias(\"val\"))\n",
    "df11_3.printSchema()\n",
    "df11_3.show()"
   ]
  },
  {
   "cell_type": "markdown",
   "id": "ca2cb1a0",
   "metadata": {},
   "source": [
    "# Windows"
   ]
  },
  {
   "cell_type": "code",
   "execution_count": 212,
   "id": "12d4e4e3",
   "metadata": {},
   "outputs": [
    {
     "name": "stdout",
     "output_type": "stream",
     "text": [
      "+---+---+---+\n",
      "|  A|  B|  C|\n",
      "+---+---+---+\n",
      "|  a|  m|  1|\n",
      "|  b|  m|  2|\n",
      "|  c|  n|  3|\n",
      "|  d|  n|  6|\n",
      "+---+---+---+\n",
      "\n"
     ]
    }
   ],
   "source": [
    "df12 = spark.createDataFrame( [('a','m',1), ('b','m',2), ('c','n',3),\n",
    "                              ('d','n',6)], ('A', 'B', 'C') )\n",
    "df12.show()"
   ]
  },
  {
   "cell_type": "code",
   "execution_count": 218,
   "id": "35fa8426",
   "metadata": {},
   "outputs": [
    {
     "name": "stdout",
     "output_type": "stream",
     "text": [
      "+---+---+---+---+\n",
      "|  A|  B|  C|  D|\n",
      "+---+---+---+---+\n",
      "|  a|  m|  1|  0|\n",
      "|  b|  m|  2|  1|\n",
      "|  c|  n|  3|  0|\n",
      "|  d|  n|  6|  3|\n",
      "+---+---+---+---+\n",
      "\n",
      "+---+---+---+---+\n",
      "|  A|  B|  C|  D|\n",
      "+---+---+---+---+\n",
      "|  a|  m|  1| -1|\n",
      "|  b|  m|  2|  0|\n",
      "|  c|  n|  3| -3|\n",
      "|  d|  n|  6|  0|\n",
      "+---+---+---+---+\n",
      "\n"
     ]
    }
   ],
   "source": [
    "# Define windows for difference\n",
    "w=Window.partitionBy(df12.B) # partition by B col\n",
    "D = df12.C - F.min(df12.C).over(w) # find min on basis of partition by B col\n",
    "df12.withColumn('D',D).show()\n",
    "D = df12.C - F.max(df12.C).over(w) # find max on basis of partition by B col\n",
    "df12.withColumn('D',D).show()"
   ]
  },
  {
   "cell_type": "code",
   "execution_count": 215,
   "id": "6a4c3a04",
   "metadata": {
    "scrolled": true
   },
   "outputs": [
    {
     "name": "stdout",
     "output_type": "stream",
     "text": [
      "+---+---+---+-----------+\n",
      "|  A|  B|  C|          D|\n",
      "+---+---+---+-----------+\n",
      "|  a|  m|  1|17179869184|\n",
      "|  b|  m|  2|42949672960|\n",
      "|  c|  n|  3|68719476736|\n",
      "|  d|  n|  6|94489280512|\n",
      "+---+---+---+-----------+\n",
      "\n",
      "+---+---+---+---+\n",
      "|  A|  B|  C|  D|\n",
      "+---+---+---+---+\n",
      "|  a|  m|  1|  1|\n",
      "|  b|  m|  2|  2|\n",
      "|  c|  n|  3|  3|\n",
      "|  d|  n|  6|  4|\n",
      "+---+---+---+---+\n",
      "\n"
     ]
    }
   ],
   "source": [
    "# Define windows for row_num\n",
    "df12_1=df12.withColumn(\"D\",F.monotonically_increasing_id())\n",
    "df12_1.show()\n",
    "w1=Window.orderBy(df12_1.D) # partition by D col\n",
    "df12_1.withColumn(\"D\",F.row_number().over(w1)).show()"
   ]
  },
  {
   "cell_type": "code",
   "execution_count": 217,
   "id": "b147ea08",
   "metadata": {},
   "outputs": [
    {
     "name": "stdout",
     "output_type": "stream",
     "text": [
      "+---+---+---+---+\n",
      "|  A|  B|  C|  D|\n",
      "+---+---+---+---+\n",
      "|  b|  m|  2|  1|\n",
      "|  a|  m|  1|  2|\n",
      "|  d|  n|  6|  1|\n",
      "|  c|  n|  3|  2|\n",
      "+---+---+---+---+\n",
      "\n"
     ]
    }
   ],
   "source": [
    "# Define windows for rank\n",
    "w2=Window.partitionBy(\"B\").orderBy(df12.C.desc())\n",
    "df12.withColumn(\"D\",F.rank().over(w2)).show()"
   ]
  },
  {
   "cell_type": "markdown",
   "id": "090796f2",
   "metadata": {},
   "source": [
    "# custom functions"
   ]
  },
  {
   "cell_type": "code",
   "execution_count": 12,
   "id": "a9f97ea7",
   "metadata": {},
   "outputs": [
    {
     "name": "stdout",
     "output_type": "stream",
     "text": [
      "+---+---------+--------+\n",
      "| id|firstName|lastName|\n",
      "+---+---------+--------+\n",
      "|  3|        5|       5|\n",
      "+---+---------+--------+\n",
      "\n"
     ]
    }
   ],
   "source": [
    "# count non-null values\n",
    "def my_count(df):\n",
    "    return df.agg(*[F.count(c).alias(c) for c in df.columns])\n",
    "my_count(df4).show()"
   ]
  },
  {
   "cell_type": "code",
   "execution_count": 14,
   "id": "cbdbed5d",
   "metadata": {},
   "outputs": [
    {
     "name": "stdout",
     "output_type": "stream",
     "text": [
      "+---+---------+--------+\n",
      "| id|firstName|lastName|\n",
      "+---+---------+--------+\n",
      "|  7|     null|    null|\n",
      "+---+---------+--------+\n",
      "\n"
     ]
    }
   ],
   "source": [
    "def my_sum(df):\n",
    "    return df.agg(*[F.sum(c).alias(c) for c in df.columns])\n",
    "my_sum(df4).show()"
   ]
  },
  {
   "cell_type": "markdown",
   "id": "17cad551",
   "metadata": {},
   "source": [
    "# UDF"
   ]
  },
  {
   "cell_type": "code",
   "execution_count": 27,
   "id": "d2b41cc0",
   "metadata": {},
   "outputs": [
    {
     "name": "stdout",
     "output_type": "stream",
     "text": [
      "+---+---------------------------------------------------------+\n",
      "|id |2col                                                     |\n",
      "+---+---------------------------------------------------------+\n",
      "|1  |[0, 0, 0, 1, 1, 1, 0, 0, 0, 0, 0, 0, 0, 0, 0, 0, 0, 0, 0]|\n",
      "|2  |[0, 2, 2, 0, 0, 0, 0, 0, 0, 0, 0, 0, 0, 0, 0, 0, 2, 0, 0]|\n",
      "|3  |[0, 0, 0, 0, 0, 0, 0, 0, 0, 0, 0, 0, 0, 0, 0, 0, 3, 0, 0]|\n",
      "|4  |[0, 4, 0, 0, 0, 4, 0, 0, 4, 0, 0, 0, 0, 0, 0, 0, 0, 0, 0]|\n",
      "|5  |[0, 0, 0, 0, 0, 0, 5, 0, 5, 0, 0, 0, 0, 0, 0, 0, 5, 0, 0]|\n",
      "+---+---------------------------------------------------------+\n",
      "only showing top 5 rows\n",
      "\n"
     ]
    }
   ],
   "source": [
    "def complexF(x,y):\n",
    "    return [x*i for i in y]\n",
    "    \n",
    "Fn=F.udf(lambda x,y: complexF(x,y),ArrayType(IntegerType()))\n",
    "df1.withColumn('2col',Fn(df1.id,df1.rating)).select('id','2col').show(5,truncate=False)"
   ]
  },
  {
   "cell_type": "code",
   "execution_count": null,
   "id": "fb686ed2",
   "metadata": {},
   "outputs": [],
   "source": []
  }
 ],
 "metadata": {
  "kernelspec": {
   "display_name": "Python 3 (ipykernel)",
   "language": "python",
   "name": "python3"
  },
  "language_info": {
   "codemirror_mode": {
    "name": "ipython",
    "version": 3
   },
   "file_extension": ".py",
   "mimetype": "text/x-python",
   "name": "python",
   "nbconvert_exporter": "python",
   "pygments_lexer": "ipython3",
   "version": "3.7.9"
  }
 },
 "nbformat": 4,
 "nbformat_minor": 5
}
