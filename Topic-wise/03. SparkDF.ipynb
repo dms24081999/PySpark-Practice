{
 "cells": [
  {
   "cell_type": "code",
   "execution_count": 1,
   "id": "fcf347b0",
   "metadata": {},
   "outputs": [],
   "source": [
    "import findspark\n",
    "findspark.init()"
   ]
  },
  {
   "cell_type": "code",
   "execution_count": null,
   "id": "c5f7f0f1",
   "metadata": {},
   "outputs": [],
   "source": [
    "spark.stop()"
   ]
  },
  {
   "cell_type": "code",
   "execution_count": 3,
   "id": "c9a0aa3e",
   "metadata": {},
   "outputs": [],
   "source": [
    "from pyspark.sql import SparkSession\n",
    "spark=SparkSession.builder.appName(\"SparkDF\").getOrCreate()\n",
    "sc=spark.sparkContext"
   ]
  },
  {
   "cell_type": "markdown",
   "id": "c6b89cfb",
   "metadata": {},
   "source": [
    "# Creating DF (From RDDs)"
   ]
  },
  {
   "cell_type": "code",
   "execution_count": 12,
   "id": "5580fa91",
   "metadata": {},
   "outputs": [
    {
     "data": {
      "text/plain": [
       "['1|Toy Story (1995)|01-Jan-1995||http://us.imdb.com/M/title-exact?Toy%20Story%20(1995)|0|0|0|1|1|1|0|0|0|0|0|0|0|0|0|0|0|0|0',\n",
       " '2|GoldenEye (1995)|01-Jan-1995||http://us.imdb.com/M/title-exact?GoldenEye%20(1995)|0|1|1|0|0|0|0|0|0|0|0|0|0|0|0|0|1|0|0',\n",
       " '3|Four Rooms (1995)|01-Jan-1995||http://us.imdb.com/M/title-exact?Four%20Rooms%20(1995)|0|0|0|0|0|0|0|0|0|0|0|0|0|0|0|0|1|0|0']"
      ]
     },
     "execution_count": 12,
     "metadata": {},
     "output_type": "execute_result"
    }
   ],
   "source": [
    "rdd1=sc.textFile(\"data/ml-100k/u.item\")\n",
    "rdd1.take(3)"
   ]
  },
  {
   "cell_type": "code",
   "execution_count": 53,
   "id": "d32b6a18",
   "metadata": {},
   "outputs": [],
   "source": [
    "# df1.coalesce(1).write.save(\"item.parquet\",format=\"parquet\")"
   ]
  },
  {
   "cell_type": "code",
   "execution_count": 13,
   "id": "cfa6e0f5",
   "metadata": {},
   "outputs": [],
   "source": [
    "rdd1_split=rdd1.map(lambda x: x.split(\"|\"))"
   ]
  },
  {
   "cell_type": "code",
   "execution_count": 23,
   "id": "8fc0d29f",
   "metadata": {},
   "outputs": [
    {
     "name": "stdout",
     "output_type": "stream",
     "text": [
      "[Row(date='01-Jan-1995', id=1, link='http://us.imdb.com/M/title-exact?Toy%20Story%20(1995)', title='Toy Story (1995)'), Row(date='01-Jan-1995', id=2, link='http://us.imdb.com/M/title-exact?GoldenEye%20(1995)', title='GoldenEye (1995)'), Row(date='01-Jan-1995', id=3, link='http://us.imdb.com/M/title-exact?Four%20Rooms%20(1995)', title='Four Rooms (1995)')]\n"
     ]
    }
   ],
   "source": [
    "from pyspark.sql import Row\n",
    "rdd1_data=rdd1_split.map(lambda x: Row(id=int(x[0]), title=x[1],date=x[2],link=x[4]))\n",
    "print(rdd1_data.take(3))"
   ]
  },
  {
   "cell_type": "code",
   "execution_count": 46,
   "id": "044c3ff8",
   "metadata": {},
   "outputs": [
    {
     "name": "stdout",
     "output_type": "stream",
     "text": [
      "root\n",
      " |-- date: string (nullable = true)\n",
      " |-- id: long (nullable = true)\n",
      " |-- link: string (nullable = true)\n",
      " |-- title: string (nullable = true)\n",
      "\n",
      "None\n",
      "+-----------+---+--------------------+--------------------+\n",
      "|       date| id|                link|               title|\n",
      "+-----------+---+--------------------+--------------------+\n",
      "|01-Jan-1995|  1|http://us.imdb.co...|    Toy Story (1995)|\n",
      "|01-Jan-1995|  2|http://us.imdb.co...|    GoldenEye (1995)|\n",
      "|01-Jan-1995|  3|http://us.imdb.co...|   Four Rooms (1995)|\n",
      "|01-Jan-1995|  4|http://us.imdb.co...|   Get Shorty (1995)|\n",
      "|01-Jan-1995|  5|http://us.imdb.co...|      Copycat (1995)|\n",
      "|01-Jan-1995|  6|http://us.imdb.co...|Shanghai Triad (Y...|\n",
      "|01-Jan-1995|  7|http://us.imdb.co...|Twelve Monkeys (1...|\n",
      "|01-Jan-1995|  8|http://us.imdb.co...|         Babe (1995)|\n",
      "|01-Jan-1995|  9|http://us.imdb.co...|Dead Man Walking ...|\n",
      "|22-Jan-1996| 10|http://us.imdb.co...|  Richard III (1995)|\n",
      "|01-Jan-1995| 11|http://us.imdb.co...|Seven (Se7en) (1995)|\n",
      "|14-Aug-1995| 12|http://us.imdb.co...|Usual Suspects, T...|\n",
      "|30-Oct-1995| 13|http://us.imdb.co...|Mighty Aphrodite ...|\n",
      "|01-Jan-1994| 14|http://us.imdb.co...|  Postino, Il (1994)|\n",
      "|29-Jan-1996| 15|http://us.imdb.co...|Mr. Holland's Opu...|\n",
      "+-----------+---+--------------------+--------------------+\n",
      "only showing top 15 rows\n",
      "\n",
      "None\n"
     ]
    }
   ],
   "source": [
    "# way-1\n",
    "df1=spark.createDataFrame(rdd1_data)\n",
    "print(df1.printSchema())\n",
    "print(df1.show(15))"
   ]
  },
  {
   "cell_type": "code",
   "execution_count": 44,
   "id": "4c626ef0",
   "metadata": {},
   "outputs": [
    {
     "name": "stdout",
     "output_type": "stream",
     "text": [
      "+---+--------------------+----------+\n",
      "| id|               title|      date|\n",
      "+---+--------------------+----------+\n",
      "|  1|    Toy Story (1995)|1995-01-01|\n",
      "|  2|    GoldenEye (1995)|1995-01-01|\n",
      "|  3|   Four Rooms (1995)|1995-01-01|\n",
      "|  4|   Get Shorty (1995)|1995-01-01|\n",
      "|  5|      Copycat (1995)|1995-01-01|\n",
      "|  6|Shanghai Triad (Y...|1995-01-01|\n",
      "|  7|Twelve Monkeys (1...|1995-01-01|\n",
      "|  8|         Babe (1995)|1995-01-01|\n",
      "|  9|Dead Man Walking ...|1995-01-01|\n",
      "| 10|  Richard III (1995)|1996-01-22|\n",
      "| 11|Seven (Se7en) (1995)|1995-01-01|\n",
      "| 12|Usual Suspects, T...|1995-08-14|\n",
      "| 13|Mighty Aphrodite ...|1995-10-30|\n",
      "| 14|  Postino, Il (1994)|1994-01-01|\n",
      "| 15|Mr. Holland's Opu...|1996-01-29|\n",
      "+---+--------------------+----------+\n",
      "only showing top 15 rows\n",
      "\n"
     ]
    }
   ],
   "source": [
    "# way-2\n",
    "from pyspark.sql.types import StructField,StructType,IntegerType,StringType,TimestampType\n",
    "from pyspark.sql.functions import to_date,col\n",
    "\n",
    "\n",
    "schema2=StructType([\n",
    "    StructField(\"id\",IntegerType(),True),\n",
    "    StructField(\"title\",StringType(),True),\n",
    "    StructField(\"date\",StringType(),True),\n",
    "])\n",
    "df2=spark.createDataFrame(rdd1_data,schema2) \\\n",
    "    .withColumn(\"date\",to_date(col(\"date\"),\"dd-MMM-yyyy\"))\n",
    "df2.show(15)"
   ]
  },
  {
   "cell_type": "code",
   "execution_count": 88,
   "id": "2eaa313d",
   "metadata": {},
   "outputs": [
    {
     "name": "stdout",
     "output_type": "stream",
     "text": [
      "+---+---------+--------+\n",
      "| id|firstName|lastName|\n",
      "+---+---------+--------+\n",
      "|  1|     Mark|   Brown|\n",
      "|  2|      Tom|Anderson|\n",
      "|  3|   Joshua|Peterson|\n",
      "+---+---------+--------+\n",
      "\n"
     ]
    }
   ],
   "source": [
    "# way-3\n",
    "spark_df = spark.createDataFrame(\n",
    "    [\n",
    "        (1, \"Mark\", \"Brown\"), \n",
    "        (2, \"Tom\", \"Anderson\"), \n",
    "        (3, \"Joshua\", \"Peterson\")\n",
    "    ], \n",
    "    ('id', 'firstName', 'lastName')\n",
    ")\n",
    "spark_df.show()"
   ]
  },
  {
   "cell_type": "markdown",
   "id": "dd5d171d",
   "metadata": {},
   "source": [
    "# Creating DF (From Spark Data Sources)"
   ]
  },
  {
   "cell_type": "code",
   "execution_count": 52,
   "id": "87a2a84f",
   "metadata": {},
   "outputs": [
    {
     "name": "stdout",
     "output_type": "stream",
     "text": [
      "+-----------+---+--------------------+-----------------+\n",
      "|       date| id|                link|            title|\n",
      "+-----------+---+--------------------+-----------------+\n",
      "|01-Jan-1995|  1|http://us.imdb.co...| Toy Story (1995)|\n",
      "|01-Jan-1995|  2|http://us.imdb.co...| GoldenEye (1995)|\n",
      "|01-Jan-1995|  3|http://us.imdb.co...|Four Rooms (1995)|\n",
      "+-----------+---+--------------------+-----------------+\n",
      "only showing top 3 rows\n",
      "\n"
     ]
    }
   ],
   "source": [
    "spark.read.json(\"data/ml-100k/item.json\").show(3)\n",
    "spark.read.load(\"data/ml-100k/item.json\", format=\"json\").show(3)\n",
    "spark.read.format(\"json\").load(\"data/ml-100k/item.json\").show(3)\n",
    "spark.read.format(\"json\").json(\"data/ml-100k/item.json\").show(3)\n",
    "spark.read.load(\"data/ml-100k/item.json\").show(3)\n",
    "\n",
    "#  Invalid ways\n",
    "spark.read.load(\"data/ml-100k/item.json\").format(\"json\").show(3)"
   ]
  },
  {
   "cell_type": "code",
   "execution_count": 54,
   "id": "3cddb8ac",
   "metadata": {},
   "outputs": [
    {
     "name": "stdout",
     "output_type": "stream",
     "text": [
      "+-----------+---+--------------------+-----------------+\n",
      "|       date| id|                link|            title|\n",
      "+-----------+---+--------------------+-----------------+\n",
      "|01-Jan-1995|  1|http://us.imdb.co...| Toy Story (1995)|\n",
      "|01-Jan-1995|  2|http://us.imdb.co...| GoldenEye (1995)|\n",
      "|01-Jan-1995|  3|http://us.imdb.co...|Four Rooms (1995)|\n",
      "+-----------+---+--------------------+-----------------+\n",
      "only showing top 3 rows\n",
      "\n"
     ]
    }
   ],
   "source": [
    "spark.read.parquet(\"data/ml-100k/item.parquet\").show(3)\n",
    "spark.read.load(\"data/ml-100k/item.parquet\", format=\"parquet\").show(3)\n",
    "spark.read.format(\"parquet\").load(\"data/ml-100k/item.parquet\").show(3)\n",
    "spark.read.format(\"parquet\").parquet(\"data/ml-100k/item.parquet\").show(3)\n",
    "spark.read.load(\"data/ml-100k/item.parquet\").show(3)\n",
    "\n",
    "#  Invalid ways\n",
    "spark.read.load(\"data/ml-100k/item.parquet\").format(\"parquet\").show(3)"
   ]
  },
  {
   "cell_type": "code",
   "execution_count": 61,
   "id": "099600b9",
   "metadata": {},
   "outputs": [
    {
     "name": "stdout",
     "output_type": "stream",
     "text": [
      "+--------------------+\n",
      "|               value|\n",
      "+--------------------+\n",
      "|Utilitatis causa ...|\n",
      "|Lorem ipsum dolor...|\n",
      "|                    |\n",
      "+--------------------+\n",
      "only showing top 3 rows\n",
      "\n"
     ]
    }
   ],
   "source": [
    "spark.read.text(\"data/textFiles/sample1.txt\").show(3)"
   ]
  },
  {
   "cell_type": "markdown",
   "id": "f1966492",
   "metadata": {},
   "source": [
    "# Inspect Data"
   ]
  },
  {
   "cell_type": "code",
   "execution_count": 64,
   "id": "f380366c",
   "metadata": {},
   "outputs": [
    {
     "data": {
      "text/plain": [
       "[('date', 'string'), ('id', 'bigint'), ('link', 'string'), ('title', 'string')]"
      ]
     },
     "execution_count": 64,
     "metadata": {},
     "output_type": "execute_result"
    }
   ],
   "source": [
    "df1.dtypes # Return df column names and data types"
   ]
  },
  {
   "cell_type": "code",
   "execution_count": 92,
   "id": "2cda9451",
   "metadata": {},
   "outputs": [
    {
     "name": "stdout",
     "output_type": "stream",
     "text": [
      "-RECORD 0---------------------\n",
      " date  | 01-Jan-1995          \n",
      " id    | 1                    \n",
      " link  | http://us.imdb.co... \n",
      " title | Toy Story (1995)     \n",
      "-RECORD 1---------------------\n",
      " date  | 01-Jan-1995          \n",
      " id    | 2                    \n",
      " link  | http://us.imdb.co... \n",
      " title | GoldenEye (1995)     \n",
      "only showing top 2 rows\n",
      "\n"
     ]
    }
   ],
   "source": [
    "df1.show(2,vertical=True,truncate=True)"
   ]
  },
  {
   "cell_type": "code",
   "execution_count": 70,
   "id": "589ce145",
   "metadata": {},
   "outputs": [
    {
     "data": {
      "text/plain": [
       "[Row(date='01-Jan-1995', id=1, link='http://us.imdb.com/M/title-exact?Toy%20Story%20(1995)', title='Toy Story (1995)'),\n",
       " Row(date='01-Jan-1995', id=2, link='http://us.imdb.com/M/title-exact?GoldenEye%20(1995)', title='GoldenEye (1995)')]"
      ]
     },
     "execution_count": 70,
     "metadata": {},
     "output_type": "execute_result"
    }
   ],
   "source": [
    "df1.head(2) # Return first n rows"
   ]
  },
  {
   "cell_type": "code",
   "execution_count": 71,
   "id": "f34e4bb9",
   "metadata": {},
   "outputs": [
    {
     "data": {
      "text/plain": [
       "Row(date='01-Jan-1995', id=1, link='http://us.imdb.com/M/title-exact?Toy%20Story%20(1995)', title='Toy Story (1995)')"
      ]
     },
     "execution_count": 71,
     "metadata": {},
     "output_type": "execute_result"
    }
   ],
   "source": [
    "df1.head() # Return first row"
   ]
  },
  {
   "cell_type": "code",
   "execution_count": 66,
   "id": "09be9609",
   "metadata": {},
   "outputs": [
    {
     "data": {
      "text/plain": [
       "Row(date='01-Jan-1995', id=1, link='http://us.imdb.com/M/title-exact?Toy%20Story%20(1995)', title='Toy Story (1995)')"
      ]
     },
     "execution_count": 66,
     "metadata": {},
     "output_type": "execute_result"
    }
   ],
   "source": [
    "df1.first() # Return first row"
   ]
  },
  {
   "cell_type": "code",
   "execution_count": 72,
   "id": "2fffedfd",
   "metadata": {},
   "outputs": [
    {
     "data": {
      "text/plain": [
       "[Row(date='01-Jan-1995', id=1, link='http://us.imdb.com/M/title-exact?Toy%20Story%20(1995)', title='Toy Story (1995)'),\n",
       " Row(date='01-Jan-1995', id=2, link='http://us.imdb.com/M/title-exact?GoldenEye%20(1995)', title='GoldenEye (1995)')]"
      ]
     },
     "execution_count": 72,
     "metadata": {},
     "output_type": "execute_result"
    }
   ],
   "source": [
    "df1.take(2) # Return the first n rows"
   ]
  },
  {
   "cell_type": "code",
   "execution_count": 73,
   "id": "5bb8c629",
   "metadata": {},
   "outputs": [
    {
     "data": {
      "text/plain": [
       "StructType(List(StructField(date,StringType,true),StructField(id,LongType,true),StructField(link,StringType,true),StructField(title,StringType,true)))"
      ]
     },
     "execution_count": 73,
     "metadata": {},
     "output_type": "execute_result"
    }
   ],
   "source": [
    "df1.schema # Return the schema of df"
   ]
  },
  {
   "cell_type": "code",
   "execution_count": 75,
   "id": "b2e8feb3",
   "metadata": {},
   "outputs": [
    {
     "name": "stdout",
     "output_type": "stream",
     "text": [
      "root\n",
      " |-- date: string (nullable = true)\n",
      " |-- id: long (nullable = true)\n",
      " |-- link: string (nullable = true)\n",
      " |-- title: string (nullable = true)\n",
      "\n"
     ]
    }
   ],
   "source": [
    "df1.printSchema() # Return the schema of df"
   ]
  },
  {
   "cell_type": "code",
   "execution_count": 95,
   "id": "f5b57be9",
   "metadata": {},
   "outputs": [
    {
     "name": "stdout",
     "output_type": "stream",
     "text": [
      "-RECORD 0-----------------------\n",
      " summary | count                \n",
      " date    | 1682                 \n",
      " id      | 1682                 \n",
      " link    | 1682                 \n",
      " title   | 1682                 \n",
      "-RECORD 1-----------------------\n",
      " summary | mean                 \n",
      " date    | null                 \n",
      " id      | 841.5                \n",
      " link    | null                 \n",
      " title   | null                 \n",
      "-RECORD 2-----------------------\n",
      " summary | stddev               \n",
      " date    | null                 \n",
      " id      | 485.69589250888254   \n",
      " link    | null                 \n",
      " title   | null                 \n",
      "-RECORD 3-----------------------\n",
      " summary | min                  \n",
      " date    |                      \n",
      " id      | 1                    \n",
      " link    |                      \n",
      " title   | 'Til There Was Yo... \n",
      "-RECORD 4-----------------------\n",
      " summary | max                  \n",
      " date    | 4-Feb-1971           \n",
      " id      | 1682                 \n",
      " link    | http://us.imdb.co... \n",
      " title   | � k�ldum klaka (C... \n",
      "\n"
     ]
    }
   ],
   "source": [
    "df1.describe().show(vertical=True) # Compute summary statistics"
   ]
  },
  {
   "cell_type": "code",
   "execution_count": 96,
   "id": "74191dee",
   "metadata": {},
   "outputs": [
    {
     "data": {
      "text/plain": [
       "['date', 'id', 'link', 'title']"
      ]
     },
     "execution_count": 96,
     "metadata": {},
     "output_type": "execute_result"
    }
   ],
   "source": [
    "df1.columns # Return the columns of df"
   ]
  },
  {
   "cell_type": "code",
   "execution_count": 97,
   "id": "db02d7e1",
   "metadata": {},
   "outputs": [
    {
     "data": {
      "text/plain": [
       "1682"
      ]
     },
     "execution_count": 97,
     "metadata": {},
     "output_type": "execute_result"
    }
   ],
   "source": [
    "df1.count() # Count the number of rows in df"
   ]
  },
  {
   "cell_type": "code",
   "execution_count": 98,
   "id": "163e57dd",
   "metadata": {},
   "outputs": [
    {
     "data": {
      "text/plain": [
       "1682"
      ]
     },
     "execution_count": 98,
     "metadata": {},
     "output_type": "execute_result"
    }
   ],
   "source": [
    "df1.distinct().count() # Count the number of distinct rows in df"
   ]
  },
  {
   "cell_type": "code",
   "execution_count": 99,
   "id": "6b7c6a9a",
   "metadata": {},
   "outputs": [
    {
     "name": "stdout",
     "output_type": "stream",
     "text": [
      "== Physical Plan ==\n",
      "Scan ExistingRDD[date#368,id#369L,link#370,title#371]\n"
     ]
    }
   ],
   "source": [
    "df1.explain() # Print the (logical and physical) plans"
   ]
  },
  {
   "cell_type": "markdown",
   "id": "be5a76b2",
   "metadata": {},
   "source": [
    "# Duplicate Values"
   ]
  },
  {
   "cell_type": "code",
   "execution_count": 100,
   "id": "cc28e13a",
   "metadata": {},
   "outputs": [
    {
     "data": {
      "text/plain": [
       "1682"
      ]
     },
     "execution_count": 100,
     "metadata": {},
     "output_type": "execute_result"
    }
   ],
   "source": [
    "df1_dup = df1.dropDuplicates()\n",
    "df1_dup.count() "
   ]
  },
  {
   "cell_type": "code",
   "execution_count": null,
   "id": "06c283bf",
   "metadata": {},
   "outputs": [],
   "source": []
  }
 ],
 "metadata": {
  "kernelspec": {
   "display_name": "Python 3 (ipykernel)",
   "language": "python",
   "name": "python3"
  },
  "language_info": {
   "codemirror_mode": {
    "name": "ipython",
    "version": 3
   },
   "file_extension": ".py",
   "mimetype": "text/x-python",
   "name": "python",
   "nbconvert_exporter": "python",
   "pygments_lexer": "ipython3",
   "version": "3.7.9"
  }
 },
 "nbformat": 4,
 "nbformat_minor": 5
}
