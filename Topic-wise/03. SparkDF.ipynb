{
 "cells": [
  {
   "cell_type": "code",
   "execution_count": 1,
   "id": "fcf347b0",
   "metadata": {},
   "outputs": [],
   "source": [
    "import findspark\n",
    "from pyspark.sql import SparkSession\n",
    "from pyspark.sql import Row\n",
    "from pyspark.sql.types import StructField,StructType,IntegerType,StringType,TimestampType,ArrayType,FloatType,DoubleType\n",
    "from pyspark.sql.functions import to_date,col\n",
    "from pyspark.sql import functions as F\n",
    "from pyspark.sql import Window\n",
    "from pyspark import SparkConf\n",
    "import os\n",
    "import psycopg2\n",
    "import pandas as pd"
   ]
  },
  {
   "cell_type": "code",
   "execution_count": 2,
   "id": "d3d400ce",
   "metadata": {},
   "outputs": [],
   "source": [
    "findspark.init()\n",
    "# findspark.add_packages('file:///C:/Program Files (x86)/MySQL/Connector J 8.0/mysql-connector-java-8.0.23.jar')"
   ]
  },
  {
   "cell_type": "code",
   "execution_count": 3,
   "id": "c5f7f0f1",
   "metadata": {},
   "outputs": [],
   "source": [
    "try: spark.stop()\n",
    "except: pass"
   ]
  },
  {
   "cell_type": "code",
   "execution_count": 4,
   "id": "c9a0aa3e",
   "metadata": {},
   "outputs": [],
   "source": [
    "spark=SparkSession.builder.appName(\"SparkDF\").config(\n",
    "    \"spark.driver.extraClassPath\", \"mysql-connector-java-8.0.23.jar\"\n",
    ").enableHiveSupport().getOrCreate()\n",
    "sc=spark.sparkContext"
   ]
  },
  {
   "cell_type": "code",
   "execution_count": 5,
   "id": "35038670",
   "metadata": {},
   "outputs": [
    {
     "data": {
      "text/plain": [
       "[('spark.driver.host', '169.254.181.150'),\n",
       " ('spark.sql.catalogImplementation', 'hive'),\n",
       " ('spark.rdd.compress', 'True'),\n",
       " ('spark.driver.extraClassPath', 'mysql-connector-java-8.0.23.jar'),\n",
       " ('spark.serializer.objectStreamReset', '100'),\n",
       " ('spark.driver.port', '11834'),\n",
       " ('spark.master', 'local[*]'),\n",
       " ('spark.executor.id', 'driver'),\n",
       " ('spark.app.name', 'SparkDF'),\n",
       " ('spark.submit.deployMode', 'client'),\n",
       " ('spark.app.id', 'local-1632120412187'),\n",
       " ('spark.ui.showConsoleProgress', 'true')]"
      ]
     },
     "execution_count": 5,
     "metadata": {},
     "output_type": "execute_result"
    }
   ],
   "source": [
    "sc.getConf().getAll()"
   ]
  },
  {
   "cell_type": "code",
   "execution_count": 6,
   "id": "184939ff",
   "metadata": {},
   "outputs": [
    {
     "data": {
      "text/plain": [
       "[('spark.driver.host', '169.254.181.150'),\n",
       " ('spark.sql.catalogImplementation', 'hive'),\n",
       " ('spark.rdd.compress', 'True'),\n",
       " ('spark.driver.extraClassPath', 'mysql-connector-java-8.0.23.jar'),\n",
       " ('spark.serializer.objectStreamReset', '100'),\n",
       " ('spark.driver.port', '11834'),\n",
       " ('spark.master', 'local[*]'),\n",
       " ('spark.executor.id', 'driver'),\n",
       " ('spark.app.name', 'SparkDF'),\n",
       " ('spark.submit.deployMode', 'client'),\n",
       " ('spark.app.id', 'local-1632120412187'),\n",
       " ('spark.ui.showConsoleProgress', 'true')]"
      ]
     },
     "execution_count": 6,
     "metadata": {},
     "output_type": "execute_result"
    }
   ],
   "source": [
    "sc.getConf().getAll()"
   ]
  },
  {
   "cell_type": "markdown",
   "id": "c6b89cfb",
   "metadata": {},
   "source": [
    "# Creating DF (From RDDs)"
   ]
  },
  {
   "cell_type": "code",
   "execution_count": 7,
   "id": "5580fa91",
   "metadata": {},
   "outputs": [
    {
     "data": {
      "text/plain": [
       "['1|Toy Story (1995)|01-Jan-1995||http://us.imdb.com/M/title-exact?Toy%20Story%20(1995)|0|0|0|1|1|1|0|0|0|0|0|0|0|0|0|0|0|0|0',\n",
       " '2|GoldenEye (1995)|01-Jan-1995||http://us.imdb.com/M/title-exact?GoldenEye%20(1995)|0|1|1|0|0|0|0|0|0|0|0|0|0|0|0|0|1|0|0',\n",
       " '3|Four Rooms (1995)|01-Jan-1995||http://us.imdb.com/M/title-exact?Four%20Rooms%20(1995)|0|0|0|0|0|0|0|0|0|0|0|0|0|0|0|0|1|0|0']"
      ]
     },
     "execution_count": 7,
     "metadata": {},
     "output_type": "execute_result"
    }
   ],
   "source": [
    "rdd1=sc.textFile(\"data/ml-100k/u.item\")\n",
    "rdd1.take(3)"
   ]
  },
  {
   "cell_type": "code",
   "execution_count": 8,
   "id": "d32b6a18",
   "metadata": {},
   "outputs": [],
   "source": [
    "# df1.coalesce(1).write.save(\"item.parquet\",format=\"parquet\")"
   ]
  },
  {
   "cell_type": "code",
   "execution_count": 9,
   "id": "cfa6e0f5",
   "metadata": {},
   "outputs": [],
   "source": [
    "rdd1_split=rdd1.map(lambda x: x.split(\"|\"))"
   ]
  },
  {
   "cell_type": "code",
   "execution_count": 10,
   "id": "8fc0d29f",
   "metadata": {},
   "outputs": [
    {
     "name": "stdout",
     "output_type": "stream",
     "text": [
      "[Row(date='01-Jan-1995', id=1, link='http://us.imdb.com/M/title-exact?Toy%20Story%20(1995)', rating=[0, 0, 0, 1, 1, 1, 0, 0, 0, 0, 0, 0, 0, 0, 0, 0, 0, 0, 0], title='Toy Story (1995)'), Row(date='01-Jan-1995', id=2, link='http://us.imdb.com/M/title-exact?GoldenEye%20(1995)', rating=[0, 1, 1, 0, 0, 0, 0, 0, 0, 0, 0, 0, 0, 0, 0, 0, 1, 0, 0], title='GoldenEye (1995)'), Row(date='01-Jan-1995', id=3, link='http://us.imdb.com/M/title-exact?Four%20Rooms%20(1995)', rating=[0, 0, 0, 0, 0, 0, 0, 0, 0, 0, 0, 0, 0, 0, 0, 0, 1, 0, 0], title='Four Rooms (1995)')]\n"
     ]
    }
   ],
   "source": [
    "rdd1_data=rdd1_split.map(lambda x: Row(id=int(x[0]), title=x[1],date=x[2],link=x[4],rating=[int(i) for i in x[5:]]))\n",
    "print(rdd1_data.take(3))"
   ]
  },
  {
   "cell_type": "code",
   "execution_count": 61,
   "id": "044c3ff8",
   "metadata": {},
   "outputs": [
    {
     "name": "stdout",
     "output_type": "stream",
     "text": [
      "root\n",
      " |-- date: string (nullable = true)\n",
      " |-- id: long (nullable = true)\n",
      " |-- link: string (nullable = true)\n",
      " |-- rating: array (nullable = true)\n",
      " |    |-- element: long (containsNull = true)\n",
      " |-- title: string (nullable = true)\n",
      "\n",
      "None\n",
      "+-----------+---+--------------------+--------------------+--------------------+\n",
      "|       date| id|                link|              rating|               title|\n",
      "+-----------+---+--------------------+--------------------+--------------------+\n",
      "|01-Jan-1995|  1|http://us.imdb.co...|[0, 0, 0, 1, 1, 1...|    Toy Story (1995)|\n",
      "|01-Jan-1995|  2|http://us.imdb.co...|[0, 1, 1, 0, 0, 0...|    GoldenEye (1995)|\n",
      "|01-Jan-1995|  3|http://us.imdb.co...|[0, 0, 0, 0, 0, 0...|   Four Rooms (1995)|\n",
      "|01-Jan-1995|  4|http://us.imdb.co...|[0, 1, 0, 0, 0, 1...|   Get Shorty (1995)|\n",
      "|01-Jan-1995|  5|http://us.imdb.co...|[0, 0, 0, 0, 0, 0...|      Copycat (1995)|\n",
      "|01-Jan-1995|  6|http://us.imdb.co...|[0, 0, 0, 0, 0, 0...|Shanghai Triad (Y...|\n",
      "|01-Jan-1995|  7|http://us.imdb.co...|[0, 0, 0, 0, 0, 0...|Twelve Monkeys (1...|\n",
      "|01-Jan-1995|  8|http://us.imdb.co...|[0, 0, 0, 0, 1, 1...|         Babe (1995)|\n",
      "|01-Jan-1995|  9|http://us.imdb.co...|[0, 0, 0, 0, 0, 0...|Dead Man Walking ...|\n",
      "|22-Jan-1996| 10|http://us.imdb.co...|[0, 0, 0, 0, 0, 0...|  Richard III (1995)|\n",
      "|01-Jan-1995| 11|http://us.imdb.co...|[0, 0, 0, 0, 0, 0...|Seven (Se7en) (1995)|\n",
      "|14-Aug-1995| 12|http://us.imdb.co...|[0, 0, 0, 0, 0, 0...|Usual Suspects, T...|\n",
      "|30-Oct-1995| 13|http://us.imdb.co...|[0, 0, 0, 0, 0, 1...|Mighty Aphrodite ...|\n",
      "|01-Jan-1994| 14|http://us.imdb.co...|[0, 0, 0, 0, 0, 0...|  Postino, Il (1994)|\n",
      "|29-Jan-1996| 15|http://us.imdb.co...|[0, 0, 0, 0, 0, 0...|Mr. Holland's Opu...|\n",
      "+-----------+---+--------------------+--------------------+--------------------+\n",
      "only showing top 15 rows\n",
      "\n",
      "None\n"
     ]
    }
   ],
   "source": [
    "# way-1\n",
    "df1=spark.createDataFrame(rdd1_data)\n",
    "print(df1.printSchema())\n",
    "print(df1.show(15))"
   ]
  },
  {
   "cell_type": "code",
   "execution_count": 12,
   "id": "4c626ef0",
   "metadata": {},
   "outputs": [
    {
     "name": "stdout",
     "output_type": "stream",
     "text": [
      "+---+-----------------+----------+--------------------+\n",
      "| id|            title|      date|              rating|\n",
      "+---+-----------------+----------+--------------------+\n",
      "|  1| Toy Story (1995)|1995-01-01|[0, 0, 0, 1, 1, 1...|\n",
      "|  2| GoldenEye (1995)|1995-01-01|[0, 1, 1, 0, 0, 0...|\n",
      "|  3|Four Rooms (1995)|1995-01-01|[0, 0, 0, 0, 0, 0...|\n",
      "|  4|Get Shorty (1995)|1995-01-01|[0, 1, 0, 0, 0, 1...|\n",
      "|  5|   Copycat (1995)|1995-01-01|[0, 0, 0, 0, 0, 0...|\n",
      "+---+-----------------+----------+--------------------+\n",
      "only showing top 5 rows\n",
      "\n"
     ]
    }
   ],
   "source": [
    "# way-2\n",
    "schema2=StructType([\n",
    "    StructField(\"id\",IntegerType(),True),\n",
    "    StructField(\"title\",StringType(),True),\n",
    "    StructField(\"date\",StringType(),True),\n",
    "    StructField(\"rating\",ArrayType(elementType=IntegerType()),True),\n",
    "])\n",
    "df2=spark.createDataFrame(rdd1_data,schema2) \\\n",
    "    .withColumn(\"date\",to_date(col(\"date\"),\"dd-MMM-yyyy\"))\n",
    "df2.show(5)"
   ]
  },
  {
   "cell_type": "code",
   "execution_count": 13,
   "id": "6a162a36",
   "metadata": {},
   "outputs": [
    {
     "name": "stdout",
     "output_type": "stream",
     "text": [
      "[(1, ('Toy Story', '1995'), '01-Jan-1995', [0, 0, 0, 1, 1, 1, 0, 0, 0, 0, 0, 0, 0, 0, 0, 0, 0, 0, 0]), (2, ('GoldenEye', '1995'), '01-Jan-1995', [0, 1, 1, 0, 0, 0, 0, 0, 0, 0, 0, 0, 0, 0, 0, 0, 1, 0, 0]), (3, ('Four Rooms', '1995'), '01-Jan-1995', [0, 0, 0, 0, 0, 0, 0, 0, 0, 0, 0, 0, 0, 0, 0, 0, 1, 0, 0])]\n",
      "+---+--------------------+----------+--------------------+\n",
      "| id|          title_year|      date|              rating|\n",
      "+---+--------------------+----------+--------------------+\n",
      "|  1|   [Toy Story, 1995]|1995-01-01|[0, 0, 0, 1, 1, 1...|\n",
      "|  2|   [GoldenEye, 1995]|1995-01-01|[0, 1, 1, 0, 0, 0...|\n",
      "|  3|  [Four Rooms, 1995]|1995-01-01|[0, 0, 0, 0, 0, 0...|\n",
      "|  4|  [Get Shorty, 1995]|1995-01-01|[0, 1, 0, 0, 0, 1...|\n",
      "|  5|     [Copycat, 1995]|1995-01-01|[0, 0, 0, 0, 0, 0...|\n",
      "|  6|[Shanghai Triad (...|1995-01-01|[0, 0, 0, 0, 0, 0...|\n",
      "|  7|[Twelve Monkeys, ...|1995-01-01|[0, 0, 0, 0, 0, 0...|\n",
      "|  8|        [Babe, 1995]|1995-01-01|[0, 0, 0, 0, 1, 1...|\n",
      "|  9|[Dead Man Walking...|1995-01-01|[0, 0, 0, 0, 0, 0...|\n",
      "| 10| [Richard III, 1995]|1996-01-22|[0, 0, 0, 0, 0, 0...|\n",
      "| 11|[Seven (Se7en), 1...|1995-01-01|[0, 0, 0, 0, 0, 0...|\n",
      "| 12|[Usual Suspects, ...|1995-08-14|[0, 0, 0, 0, 0, 0...|\n",
      "| 13|[Mighty Aphrodite...|1995-10-30|[0, 0, 0, 0, 0, 1...|\n",
      "| 14| [Postino, Il, 1994]|1994-01-01|[0, 0, 0, 0, 0, 0...|\n",
      "| 15|[Mr. Holland's Op...|1996-01-29|[0, 0, 0, 0, 0, 0...|\n",
      "| 16|[French Twist (Ga...|1995-01-01|[0, 0, 0, 0, 0, 1...|\n",
      "| 17|[From Dusk Till D...|1996-02-05|[0, 1, 0, 0, 0, 1...|\n",
      "| 18|[White Balloon, T...|1995-01-01|[0, 0, 0, 0, 0, 0...|\n",
      "| 19|[Antonia's Line, ...|1995-01-01|[0, 0, 0, 0, 0, 0...|\n",
      "| 20|[Angels and Insec...|1995-01-01|[0, 0, 0, 0, 0, 0...|\n",
      "+---+--------------------+----------+--------------------+\n",
      "only showing top 20 rows\n",
      "\n"
     ]
    }
   ],
   "source": [
    "# way-3\n",
    "def mapping(x):\n",
    "    return (int(x[0]), (x[1][0:-7],x[1][-5:-1]),x[2],[int(i) for i in x[5:]])\n",
    "\n",
    "rdd1_data2=rdd1_split.map(mapping)\n",
    "print(rdd1_data2.take(3))\n",
    "\n",
    "schema2=StructType([\n",
    "    StructField(\"id\",IntegerType(),True),\n",
    "    StructField(\"title_year\", StructType([\n",
    "                StructField(\"title\",StringType(), True),\n",
    "                StructField(\"year\",StringType(), True),\n",
    "            ])),\n",
    "    StructField(\"date\",StringType(),True),\n",
    "    StructField(\"rating\",ArrayType(elementType=IntegerType()),True),\n",
    "    \n",
    "])\n",
    "df3=spark.createDataFrame(rdd1_data2,schema2) \\\n",
    "    .withColumn(\"date\",to_date(col(\"date\"),\"dd-MMM-yyyy\"))\n",
    "df3.show()"
   ]
  },
  {
   "cell_type": "code",
   "execution_count": 14,
   "id": "2eaa313d",
   "metadata": {},
   "outputs": [
    {
     "name": "stdout",
     "output_type": "stream",
     "text": [
      "+----+---------+--------+\n",
      "|  id|firstName|lastName|\n",
      "+----+---------+--------+\n",
      "|   1|     null|   Brown|\n",
      "|null|      Tom|    null|\n",
      "|null|    Jerry|     Fox|\n",
      "|null|    Jerry|     Fox|\n",
      "|   3|   Joshua|Peterson|\n",
      "|   3|   Joshua|Peterson|\n",
      "|null|     null|    null|\n",
      "+----+---------+--------+\n",
      "\n",
      "None\n",
      "root\n",
      " |-- id: long (nullable = true)\n",
      " |-- firstName: string (nullable = true)\n",
      " |-- lastName: string (nullable = true)\n",
      "\n",
      "None\n"
     ]
    }
   ],
   "source": [
    "# way-4\n",
    "#  use list or tuple\n",
    "df4 = spark.createDataFrame(\n",
    "    [\n",
    "        (1, None, \"Brown\"), \n",
    "        (None, \"Tom\", None), \n",
    "        (None, \"Jerry\", \"Fox\"), \n",
    "        [None, \"Jerry\", \"Fox\"], # list\n",
    "        (3, \"Joshua\", \"Peterson\"), # tuple\n",
    "        (3, \"Joshua\", \"Peterson\"),\n",
    "        [None, None, None] \n",
    "    ], \n",
    "    ('id', 'firstName', 'lastName')\n",
    ")\n",
    "print(df4.show())\n",
    "print(df4.printSchema())"
   ]
  },
  {
   "cell_type": "code",
   "execution_count": 15,
   "id": "e9a5d437",
   "metadata": {},
   "outputs": [
    {
     "name": "stdout",
     "output_type": "stream",
     "text": [
      "+---+------+---+---+---+---+\n",
      "| x1|    x2| x3| x4| y1| y2|\n",
      "+---+------+---+---+---+---+\n",
      "|  a| apple|  1|2.4|  1|yes|\n",
      "|  a|orange|  1|2.5|  0| no|\n",
      "|  b|orange|  2|3.5|  1| no|\n",
      "|  b|orange|  2|1.4|  0|yes|\n",
      "|  c| peach|  2|2.1|  0|yes|\n",
      "|  d| peach|  4|1.5|  1|yes|\n",
      "+---+------+---+---+---+---+\n",
      "\n"
     ]
    }
   ],
   "source": [
    "pdf = pd.DataFrame({\n",
    "        'x1': ['a','a','b','b', 'c', 'd'],\n",
    "        'x2': ['apple', 'orange', 'orange','orange', 'peach', 'peach'],\n",
    "        'x3': [1, 1, 2, 2, 2, 4],\n",
    "        'x4': [2.4, 2.5, 3.5, 1.4, 2.1,1.5],\n",
    "        'y1': [1, 0, 1, 0, 0, 1],\n",
    "        'y2': ['yes', 'no', 'no', 'yes', 'yes', 'yes']\n",
    "    })\n",
    "df14 = spark.createDataFrame(pdf)\n",
    "df14.show()"
   ]
  },
  {
   "cell_type": "markdown",
   "id": "8889b94f",
   "metadata": {},
   "source": [
    "# DF to RDD"
   ]
  },
  {
   "cell_type": "code",
   "execution_count": 16,
   "id": "f2fd1c2a",
   "metadata": {},
   "outputs": [
    {
     "data": {
      "text/plain": [
       "[Row(x1='a', x2='apple', x3=1, x4=2.4, y1=1, y2='yes'),\n",
       " Row(x1='a', x2='orange', x3=1, x4=2.5, y1=0, y2='no'),\n",
       " Row(x1='b', x2='orange', x3=2, x4=3.5, y1=1, y2='no'),\n",
       " Row(x1='b', x2='orange', x3=2, x4=1.4, y1=0, y2='yes'),\n",
       " Row(x1='c', x2='peach', x3=2, x4=2.1, y1=0, y2='yes'),\n",
       " Row(x1='d', x2='peach', x3=4, x4=1.5, y1=1, y2='yes')]"
      ]
     },
     "execution_count": 16,
     "metadata": {},
     "output_type": "execute_result"
    }
   ],
   "source": [
    "df14.rdd.collect()"
   ]
  },
  {
   "cell_type": "code",
   "execution_count": 94,
   "id": "b30dd09e",
   "metadata": {},
   "outputs": [
    {
     "data": {
      "text/plain": [
       "[Row(x1='a', x2='orange', x3=1, x4=2.5, y1=0, y2='no'),\n",
       " Row(x1='b', x2='orange', x3=2, x4=3.5, y1=1, y2='no'),\n",
       " Row(x1='b', x2='orange', x3=2, x4=1.4, y1=0, y2='yes')]"
      ]
     },
     "execution_count": 94,
     "metadata": {},
     "output_type": "execute_result"
    }
   ],
   "source": [
    "df14.rdd.filter(lambda x: x[\"x2\"]==\"orange\").collect()"
   ]
  },
  {
   "cell_type": "code",
   "execution_count": 95,
   "id": "0abe0558",
   "metadata": {},
   "outputs": [
    {
     "data": {
      "text/plain": [
       "[Row(x1='a', x2='orange', x3=1, x4=2.5, y1=0, y2='no'),\n",
       " Row(x1='b', x2='orange', x3=2, x4=3.5, y1=1, y2='no'),\n",
       " Row(x1='b', x2='orange', x3=2, x4=1.4, y1=0, y2='yes')]"
      ]
     },
     "execution_count": 95,
     "metadata": {},
     "output_type": "execute_result"
    }
   ],
   "source": [
    "df14.rdd.filter(lambda x: x[1]==\"orange\").collect()"
   ]
  },
  {
   "cell_type": "markdown",
   "id": "dd5d171d",
   "metadata": {},
   "source": [
    "# Creating DF (From Spark Data Sources)\n",
    "- path = path to file\n",
    "- comment = specify char or int, and lines starting from those will be skipped from DF\n",
    "- sep = define how row data is separated\n",
    "- nullValue = define those values as NULL\n",
    "- inferSchema = define data types and auto detect blank values as null\n",
    "- header = define 1st row as header\n",
    "\n",
    "by default an elem under quotes like \"dms\" is treated as \" \" \"dms\" \" \" \n",
    "- escape='' sets it to \" \"dms\" \"\n",
    "- escape=' \" ' sets it to \"dms\"\n",
    "- escape=\" ' \" sets it to \" \" \"dms\" \" \" "
   ]
  },
  {
   "cell_type": "code",
   "execution_count": 74,
   "id": "f2e07002",
   "metadata": {},
   "outputs": [
    {
     "name": "stdout",
     "output_type": "stream",
     "text": [
      "+----+----+-----+\n",
      "| _c0| _c1|  _c2|\n",
      "+----+----+-----+\n",
      "|   1|    |Brown|\n",
      "|null|null| null|\n",
      "|null|null| null|\n",
      "+----+----+-----+\n",
      "only showing top 3 rows\n",
      "\n",
      "None\n",
      "root\n",
      " |-- _c0: integer (nullable = true)\n",
      " |-- _c1: string (nullable = true)\n",
      " |-- _c2: string (nullable = true)\n",
      "\n",
      "+---+---------+--------+\n",
      "| ID|    Fname|   Lname|\n",
      "+---+---------+--------+\n",
      "|  1|\"\"\"dms\"\"\"|   Brown|\n",
      "|  3|   Joshua|Peterson|\n",
      "|  3|   Joshua|Peterson|\n",
      "+---+---------+--------+\n",
      "\n",
      "root\n",
      " |-- ID: integer (nullable = true)\n",
      " |-- Fname: string (nullable = true)\n",
      " |-- Lname: string (nullable = true)\n",
      "\n",
      "+---+-----+-----+\n",
      "|_c0|  _c1|  _c2|\n",
      "+---+-----+-----+\n",
      "|  1|     |Brown|\n",
      "|   |  Tom|     |\n",
      "|   |Jerry|  Fox|\n",
      "+---+-----+-----+\n",
      "only showing top 3 rows\n",
      "\n",
      "root\n",
      " |-- _c0: string (nullable = true)\n",
      " |-- _c1: string (nullable = true)\n",
      " |-- _c2: string (nullable = true)\n",
      "\n",
      "+----+-----+-----+\n",
      "|  ID|Fname|Lname|\n",
      "+----+-----+-----+\n",
      "|null|  Tom| null|\n",
      "|null|Jerry|  Fox|\n",
      "|null|Jerry|  Fox|\n",
      "+----+-----+-----+\n",
      "only showing top 3 rows\n",
      "\n",
      "root\n",
      " |-- ID: string (nullable = true)\n",
      " |-- Fname: string (nullable = true)\n",
      " |-- Lname: string (nullable = true)\n",
      "\n"
     ]
    }
   ],
   "source": [
    "df_csv1=spark.read.csv(\"data/withnull1.csv\",sep=\",\",nullValue=\"NONE\",inferSchema=True)\n",
    "df_csv2=spark.read.csv(\"data/withnull2.csv\",comment=\"N\",escape=\"'\",sep=\",\",nullValue=\"NONE\",header=True,inferSchema=True,encoding=\"UTF-8\")\n",
    "df_csv3=spark.read.csv(\"data/withnull1.csv\",sep=\",\",nullValue=\"NONE\")\n",
    "df_csv4=spark.read.csv(\"data/withnull2.csv\",comment=1,sep=\",\",nullValue=\"NONE\",header=True,encoding=\"UTF-8\")\n",
    "print(df_csv1.show(3))\n",
    "df_csv1.printSchema()\n",
    "df_csv2.show(3)\n",
    "df_csv2.printSchema()\n",
    "df_csv3.show(3)\n",
    "df_csv3.printSchema()\n",
    "df_csv4.show(3)\n",
    "df_csv4.printSchema()"
   ]
  },
  {
   "cell_type": "code",
   "execution_count": 75,
   "id": "099600b9",
   "metadata": {},
   "outputs": [
    {
     "name": "stdout",
     "output_type": "stream",
     "text": [
      "+--------------------+\n",
      "|               value|\n",
      "+--------------------+\n",
      "|Utilitatis causa ...|\n",
      "|Lorem ipsum dolor...|\n",
      "|                    |\n",
      "+--------------------+\n",
      "only showing top 3 rows\n",
      "\n"
     ]
    }
   ],
   "source": [
    "spark.read.text(\"data/textFiles/sample1.txt\").show(3)"
   ]
  },
  {
   "cell_type": "code",
   "execution_count": 76,
   "id": "2ed24df1",
   "metadata": {},
   "outputs": [
    {
     "name": "stdout",
     "output_type": "stream",
     "text": [
      "+---+--------------------+--------------------+----------+---------+--------------------+------------------+-------------+--------------------+------+-----+-----+----------+----------+\n",
      "| id|            password|          last_login|first_name|last_name|               email|          username| phone_number|             picture|active|staff|admin|all_logout|is_deleted|\n",
      "+---+--------------------+--------------------+----------+---------+--------------------+------------------+-------------+--------------------+------+-----+-----+----------+----------+\n",
      "|  1|pbkdf2_sha256$180...|2021-05-27 16:14:...|          | Silveira|dms24081999@gmail...|             admin|+919594183245|media/public/prof...|  true| true| true|          |     false|\n",
      "|  2|pbkdf2_sha256$180...|                null|          |         |       user1@dms.com|             user1|         null|                    |  true|false|false|          |     false|\n",
      "|  3|pbkdf2_sha256$180...|                null|          |         |       user2@dms.com|             user2|         null|                    |  true|false|false|          |     false|\n",
      "|  4|pbkdf2_sha256$180...|                null|          |         |       user3@dms.com|             user3|         null|                    |  true|false|false|          |     false|\n",
      "| 17|pbkdf2_sha256$180...|2021-05-15 17:51:...|   Dominic| Silveira|dominicsilveira28...|dominicsilveira289|+919594183245|                    |  true|false|false|          |     false|\n",
      "| 18|pbkdf2_sha256$180...|                null|   Dominic| Silveira|dominicsilveira23...|dms240819994545123|+919594183245|                    |  true|false|false|          |     false|\n",
      "+---+--------------------+--------------------+----------+---------+--------------------+------------------+-------------+--------------------+------+-----+-----+----------+----------+\n",
      "\n"
     ]
    }
   ],
   "source": [
    "# from database\n",
    "# restart jupyter if it doesn't work\n",
    "user='root';pw='24081999'\n",
    "table_name='users'\n",
    "# postgresql://[user[:password]@][netloc][:port][/dbname][?param1=value1&...]\n",
    "url=\"jdbc:mysql://localhost:3306/oneqshopv1\"\n",
    "properties = {\n",
    "    \"user\": user,\n",
    "    \"password\": pw\n",
    "}\n",
    "df_db1=spark.read.option(\"driver\", \"com.mysql.jdbc.Driver\").jdbc(url=url,table=table_name,properties=properties)\n",
    "df_db1.show()"
   ]
  },
  {
   "cell_type": "markdown",
   "id": "412f33ab",
   "metadata": {},
   "source": [
    "### Array data types must be same"
   ]
  },
  {
   "cell_type": "code",
   "execution_count": 77,
   "id": "e4d17dd8",
   "metadata": {},
   "outputs": [
    {
     "name": "stdout",
     "output_type": "stream",
     "text": [
      "+---+----+\n",
      "|key| val|\n",
      "+---+----+\n",
      "|  a|[1,]|\n",
      "|  a|[1,]|\n",
      "+---+----+\n",
      "only showing top 2 rows\n",
      "\n",
      "None\n",
      "+---+------+\n",
      "|key|   val|\n",
      "+---+------+\n",
      "|  a|[1, 2]|\n",
      "|  a|[1, 2]|\n",
      "+---+------+\n",
      "only showing top 2 rows\n",
      "\n",
      "None\n"
     ]
    }
   ],
   "source": [
    "df_datatype = spark.createDataFrame( [('a',[1,\"a\"]), ('a',[1,\"a\"]), ('a',[1,\"a\"]),\n",
    "                              ('a',[1,\"a\"]), ('b',[1,\"a\"]), ('b',[1,\"a\"])], ('key', 'val') )\n",
    "print(df_datatype.show(2))\n",
    "df_datatype = spark.createDataFrame( [('a',[1,2]), ('a',[1,2]), ('a',[1,5]),\n",
    "                              ('a',[1,2]), ('b',[1,3]), ('b',[1,4])], ('key', 'val') )\n",
    "print(df_datatype.show(2))"
   ]
  },
  {
   "cell_type": "markdown",
   "id": "f843f206",
   "metadata": {},
   "source": [
    "### duplicate cols get auto created"
   ]
  },
  {
   "cell_type": "code",
   "execution_count": 78,
   "id": "7e837453",
   "metadata": {},
   "outputs": [
    {
     "name": "stdout",
     "output_type": "stream",
     "text": [
      "+---+---+---+---+---+---+\n",
      "|  x|  y|  z|  a|  b|  a|\n",
      "+---+---+---+---+---+---+\n",
      "|  1|  a|  4|  a|4.1|  d|\n",
      "|  2|  b|  3|  b|3.2|  c|\n",
      "+---+---+---+---+---+---+\n",
      "only showing top 2 rows\n",
      "\n",
      "failed\n",
      "failed\n",
      "+---+---+---+----+---+----+\n",
      "|  x|  y|  z|b_id|  b|b_id|\n",
      "+---+---+---+----+---+----+\n",
      "|  1|  a|  4|   a|4.1|   d|\n",
      "|  2|  b|  3|   b|3.2|   c|\n",
      "+---+---+---+----+---+----+\n",
      "only showing top 2 rows\n",
      "\n",
      "+---+---+---+---+\n",
      "|  x|  y|  z|  b|\n",
      "+---+---+---+---+\n",
      "|  1|  a|  4|4.1|\n",
      "|  2|  b|  3|3.2|\n",
      "+---+---+---+---+\n",
      "only showing top 2 rows\n",
      "\n",
      "+---+---+---+---+---+-----+\n",
      "|  x|  y|  z|  a|  b|a_dup|\n",
      "+---+---+---+---+---+-----+\n",
      "|  1|  a|  4|  a|4.1|    d|\n",
      "|  2|  b|  3|  b|3.2|    c|\n",
      "+---+---+---+---+---+-----+\n",
      "only showing top 2 rows\n",
      "\n"
     ]
    }
   ],
   "source": [
    "pdf=[(1,'a',4,'a',4.1,'d'),(2,'b',3,'b',3.2,'c'),(3,'c',2,'c',2.3,'b'),(1,'d',1,'d',1.4,'a')]\n",
    "df15 = spark.createDataFrame(pdf, ('x','y','z','a','b','a') )\n",
    "df15.show(2)\n",
    "\n",
    "try: df15.select(df15.a).show(2)\n",
    "except: print(\"failed\")\n",
    "    \n",
    "df15.columns\n",
    "\n",
    "try: df15.select(df15.columns[3]).show(2)\n",
    "except: print(\"failed\")\n",
    "    \n",
    "df15.withColumnRenamed('a', 'b_id').show(2)\n",
    "df15.drop('a').show(2)\n",
    "\n",
    "new_cols = ['x','y','z','a','b','a_dup']\n",
    "df15.toDF(*new_cols).show(2)"
   ]
  },
  {
   "cell_type": "markdown",
   "id": "25c40f66",
   "metadata": {},
   "source": [
    "# Merge and split columns"
   ]
  },
  {
   "cell_type": "code",
   "execution_count": 117,
   "id": "792f6eff",
   "metadata": {},
   "outputs": [
    {
     "data": {
      "text/plain": [
       "[Row(model=1, values=['01-Jan-1995', 'http://us.imdb.com/M/title-exact?Toy%20Story%20(1995)', [0, 0, 0, 1, 1, 1, 0, 0, 0, 0, 0, 0, 0, 0, 0, 0, 0, 0, 0], 'Toy Story (1995)']),\n",
       " Row(model=2, values=['01-Jan-1995', 'http://us.imdb.com/M/title-exact?GoldenEye%20(1995)', [0, 1, 1, 0, 0, 0, 0, 0, 0, 0, 0, 0, 0, 0, 0, 0, 1, 0, 0], 'GoldenEye (1995)']),\n",
       " Row(model=3, values=['01-Jan-1995', 'http://us.imdb.com/M/title-exact?Four%20Rooms%20(1995)', [0, 0, 0, 0, 0, 0, 0, 0, 0, 0, 0, 0, 0, 0, 0, 0, 1, 0, 0], 'Four Rooms (1995)'])]"
      ]
     },
     "execution_count": 117,
     "metadata": {},
     "output_type": "execute_result"
    }
   ],
   "source": [
    "df1rdd_merge=df1.rdd.map(lambda x: Row(model=x[1], values=list([x[0]])+list(x[2:])))\n",
    "df1rdd_merge.take(3)"
   ]
  },
  {
   "cell_type": "code",
   "execution_count": 120,
   "id": "7f0193f8",
   "metadata": {},
   "outputs": [
    {
     "data": {
      "text/plain": [
       "[Row(model=1, values1=['http://us.imdb.com/M/title-exact?Toy%20Story%20(1995)', [0, 0, 0, 1, 1, 1, 0, 0, 0, 0, 0, 0, 0, 0, 0, 0, 0, 0, 0]], values2=['Toy Story (1995)']),\n",
       " Row(model=2, values1=['http://us.imdb.com/M/title-exact?GoldenEye%20(1995)', [0, 1, 1, 0, 0, 0, 0, 0, 0, 0, 0, 0, 0, 0, 0, 0, 1, 0, 0]], values2=['GoldenEye (1995)']),\n",
       " Row(model=3, values1=['http://us.imdb.com/M/title-exact?Four%20Rooms%20(1995)', [0, 0, 0, 0, 0, 0, 0, 0, 0, 0, 0, 0, 0, 0, 0, 0, 1, 0, 0]], values2=['Four Rooms (1995)'])]"
      ]
     },
     "execution_count": 120,
     "metadata": {},
     "output_type": "execute_result"
    }
   ],
   "source": [
    "df1rdd_split=df1rdd_merge.map(lambda x: Row(model=x[0], values1=x[1][1:3],values2=x[1][3:]))\n",
    "df1rdd_split.take(3)"
   ]
  },
  {
   "cell_type": "markdown",
   "id": "f1966492",
   "metadata": {},
   "source": [
    "# Inspect Data"
   ]
  },
  {
   "cell_type": "code",
   "execution_count": 21,
   "id": "f380366c",
   "metadata": {},
   "outputs": [
    {
     "data": {
      "text/plain": [
       "[('date', 'string'),\n",
       " ('id', 'bigint'),\n",
       " ('link', 'string'),\n",
       " ('rating', 'array<bigint>'),\n",
       " ('title', 'string')]"
      ]
     },
     "execution_count": 21,
     "metadata": {},
     "output_type": "execute_result"
    }
   ],
   "source": [
    "df1.dtypes # Return df column names and data types"
   ]
  },
  {
   "cell_type": "code",
   "execution_count": 24,
   "id": "2cda9451",
   "metadata": {},
   "outputs": [
    {
     "name": "stdout",
     "output_type": "stream",
     "text": [
      "-RECORD 0----------------------\n",
      " date   | 01-Jan-1995          \n",
      " id     | 1                    \n",
      " link   | http://us.imdb.co... \n",
      " rating | [0, 0, 0, 1, 1, 1... \n",
      " title  | Toy Story (1995)     \n",
      "-RECORD 1----------------------\n",
      " date   | 01-Jan-1995          \n",
      " id     | 2                    \n",
      " link   | http://us.imdb.co... \n",
      " rating | [0, 1, 1, 0, 0, 0... \n",
      " title  | GoldenEye (1995)     \n",
      "only showing top 2 rows\n",
      "\n",
      "-RECORD 0-----------------------------------------------------------\n",
      " date   | 01-Jan-1995                                               \n",
      " id     | 1                                                         \n",
      " link   | http://us.imdb.com/M/title-exact?Toy%20Story%20(1995)     \n",
      " rating | [0, 0, 0, 1, 1, 1, 0, 0, 0, 0, 0, 0, 0, 0, 0, 0, 0, 0, 0] \n",
      " title  | Toy Story (1995)                                          \n",
      "-RECORD 1-----------------------------------------------------------\n",
      " date   | 01-Jan-1995                                               \n",
      " id     | 2                                                         \n",
      " link   | http://us.imdb.com/M/title-exact?GoldenEye%20(1995)       \n",
      " rating | [0, 1, 1, 0, 0, 0, 0, 0, 0, 0, 0, 0, 0, 0, 0, 0, 1, 0, 0] \n",
      " title  | GoldenEye (1995)                                          \n",
      "only showing top 2 rows\n",
      "\n"
     ]
    }
   ],
   "source": [
    "# default: vertical=False, Truncate=True\n",
    "df1.show(2,vertical=True,truncate=True)\n",
    "df1.show(2,vertical=True,truncate=False)"
   ]
  },
  {
   "cell_type": "code",
   "execution_count": 47,
   "id": "1cc62c4b",
   "metadata": {},
   "outputs": [
    {
     "name": "stdout",
     "output_type": "stream",
     "text": [
      "+-----------+----+--------------------------------------------------------------------------------------------------------------------------------------+---------------------------------------------------------+---------------------------------------------------------------------------------+\n",
      "|date       |id  |link                                                                                                                                  |rating                                                   |title                                                                            |\n",
      "+-----------+----+--------------------------------------------------------------------------------------------------------------------------------------+---------------------------------------------------------+---------------------------------------------------------------------------------+\n",
      "|01-Jan-1995|1   |http://us.imdb.com/M/title-exact?Toy%20Story%20(1995)                                                                                 |[0, 0, 0, 1, 1, 1, 0, 0, 0, 0, 0, 0, 0, 0, 0, 0, 0, 0, 0]|Toy Story (1995)                                                                 |\n",
      "|01-Jan-1995|2   |http://us.imdb.com/M/title-exact?GoldenEye%20(1995)                                                                                   |[0, 1, 1, 0, 0, 0, 0, 0, 0, 0, 0, 0, 0, 0, 0, 0, 1, 0, 0]|GoldenEye (1995)                                                                 |\n",
      "|01-Jan-1995|3   |http://us.imdb.com/M/title-exact?Four%20Rooms%20(1995)                                                                                |[0, 0, 0, 0, 0, 0, 0, 0, 0, 0, 0, 0, 0, 0, 0, 0, 1, 0, 0]|Four Rooms (1995)                                                                |\n",
      "|01-Jan-1995|4   |http://us.imdb.com/M/title-exact?Get%20Shorty%20(1995)                                                                                |[0, 1, 0, 0, 0, 1, 0, 0, 1, 0, 0, 0, 0, 0, 0, 0, 0, 0, 0]|Get Shorty (1995)                                                                |\n",
      "|01-Jan-1995|5   |http://us.imdb.com/M/title-exact?Copycat%20(1995)                                                                                     |[0, 0, 0, 0, 0, 0, 1, 0, 1, 0, 0, 0, 0, 0, 0, 0, 1, 0, 0]|Copycat (1995)                                                                   |\n",
      "|01-Jan-1995|6   |http://us.imdb.com/Title?Yao+a+yao+yao+dao+waipo+qiao+(1995)                                                                          |[0, 0, 0, 0, 0, 0, 0, 0, 1, 0, 0, 0, 0, 0, 0, 0, 0, 0, 0]|Shanghai Triad (Yao a yao yao dao waipo qiao) (1995)                             |\n",
      "|01-Jan-1995|7   |http://us.imdb.com/M/title-exact?Twelve%20Monkeys%20(1995)                                                                            |[0, 0, 0, 0, 0, 0, 0, 0, 1, 0, 0, 0, 0, 0, 0, 1, 0, 0, 0]|Twelve Monkeys (1995)                                                            |\n",
      "|01-Jan-1995|8   |http://us.imdb.com/M/title-exact?Babe%20(1995)                                                                                        |[0, 0, 0, 0, 1, 1, 0, 0, 1, 0, 0, 0, 0, 0, 0, 0, 0, 0, 0]|Babe (1995)                                                                      |\n",
      "|01-Jan-1995|9   |http://us.imdb.com/M/title-exact?Dead%20Man%20Walking%20(1995)                                                                        |[0, 0, 0, 0, 0, 0, 0, 0, 1, 0, 0, 0, 0, 0, 0, 0, 0, 0, 0]|Dead Man Walking (1995)                                                          |\n",
      "|22-Jan-1996|10  |http://us.imdb.com/M/title-exact?Richard%20III%20(1995)                                                                               |[0, 0, 0, 0, 0, 0, 0, 0, 1, 0, 0, 0, 0, 0, 0, 0, 0, 1, 0]|Richard III (1995)                                                               |\n",
      "|01-Jan-1995|11  |http://us.imdb.com/M/title-exact?Se7en%20(1995)                                                                                       |[0, 0, 0, 0, 0, 0, 1, 0, 0, 0, 0, 0, 0, 0, 0, 0, 1, 0, 0]|Seven (Se7en) (1995)                                                             |\n",
      "|14-Aug-1995|12  |http://us.imdb.com/M/title-exact?Usual%20Suspects,%20The%20(1995)                                                                     |[0, 0, 0, 0, 0, 0, 1, 0, 0, 0, 0, 0, 0, 0, 0, 0, 1, 0, 0]|Usual Suspects, The (1995)                                                       |\n",
      "|30-Oct-1995|13  |http://us.imdb.com/M/title-exact?Mighty%20Aphrodite%20(1995)                                                                          |[0, 0, 0, 0, 0, 1, 0, 0, 0, 0, 0, 0, 0, 0, 0, 0, 0, 0, 0]|Mighty Aphrodite (1995)                                                          |\n",
      "|01-Jan-1994|14  |http://us.imdb.com/M/title-exact?Postino,%20Il%20(1994)                                                                               |[0, 0, 0, 0, 0, 0, 0, 0, 1, 0, 0, 0, 0, 0, 1, 0, 0, 0, 0]|Postino, Il (1994)                                                               |\n",
      "|29-Jan-1996|15  |http://us.imdb.com/M/title-exact?Mr.%20Holland's%20Opus%20(1995)                                                                      |[0, 0, 0, 0, 0, 0, 0, 0, 1, 0, 0, 0, 0, 0, 0, 0, 0, 0, 0]|Mr. Holland's Opus (1995)                                                        |\n",
      "|01-Jan-1995|16  |http://us.imdb.com/M/title-exact?Gazon%20maudit%20(1995)                                                                              |[0, 0, 0, 0, 0, 1, 0, 0, 0, 0, 0, 0, 0, 0, 1, 0, 0, 0, 0]|French Twist (Gazon maudit) (1995)                                               |\n",
      "|05-Feb-1996|17  |http://us.imdb.com/M/title-exact?From%20Dusk%20Till%20Dawn%20(1996)                                                                   |[0, 1, 0, 0, 0, 1, 1, 0, 0, 0, 0, 1, 0, 0, 0, 0, 1, 0, 0]|From Dusk Till Dawn (1996)                                                       |\n",
      "|01-Jan-1995|18  |http://us.imdb.com/M/title-exact?Badkonake%20Sefid%20(1995)                                                                           |[0, 0, 0, 0, 0, 0, 0, 0, 1, 0, 0, 0, 0, 0, 0, 0, 0, 0, 0]|White Balloon, The (1995)                                                        |\n",
      "|01-Jan-1995|19  |http://us.imdb.com/M/title-exact?Antonia%20(1995)                                                                                     |[0, 0, 0, 0, 0, 0, 0, 0, 1, 0, 0, 0, 0, 0, 0, 0, 0, 0, 0]|Antonia's Line (1995)                                                            |\n",
      "|01-Jan-1995|20  |http://us.imdb.com/M/title-exact?Angels%20and%20Insects%20(1995)                                                                      |[0, 0, 0, 0, 0, 0, 0, 0, 1, 0, 0, 0, 0, 0, 1, 0, 0, 0, 0]|Angels and Insects (1995)                                                        |\n",
      "|16-Feb-1996|21  |http://us.imdb.com/M/title-exact?Muppet%20Treasure%20Island%20(1996)                                                                  |[0, 1, 1, 0, 0, 1, 0, 0, 0, 0, 0, 0, 1, 0, 0, 0, 1, 0, 0]|Muppet Treasure Island (1996)                                                    |\n",
      "|16-Feb-1996|22  |http://us.imdb.com/M/title-exact?Braveheart%20(1995)                                                                                  |[0, 1, 0, 0, 0, 0, 0, 0, 1, 0, 0, 0, 0, 0, 0, 0, 0, 1, 0]|Braveheart (1995)                                                                |\n",
      "|16-Feb-1996|23  |http://us.imdb.com/M/title-exact?Taxi%20Driver%20(1976)                                                                               |[0, 0, 0, 0, 0, 0, 0, 0, 1, 0, 0, 0, 0, 0, 0, 0, 1, 0, 0]|Taxi Driver (1976)                                                               |\n",
      "|23-Feb-1996|24  |http://us.imdb.com/M/title-exact?Hong%20Faan%20Kui%20(1995)                                                                           |[0, 1, 1, 0, 0, 0, 1, 0, 0, 0, 0, 0, 0, 0, 0, 0, 0, 0, 0]|Rumble in the Bronx (1995)                                                       |\n",
      "|08-Mar-1996|25  |http://us.imdb.com/M/title-exact?Birdcage,%20The%20(1996)                                                                             |[0, 0, 0, 0, 0, 1, 0, 0, 0, 0, 0, 0, 0, 0, 0, 0, 0, 0, 0]|Birdcage, The (1996)                                                             |\n",
      "|01-Jan-1995|26  |http://us.imdb.com/M/title-exact?Brothers%20McMullen,%20The%20(1995)                                                                  |[0, 0, 0, 0, 0, 1, 0, 0, 0, 0, 0, 0, 0, 0, 0, 0, 0, 0, 0]|Brothers McMullen, The (1995)                                                    |\n",
      "|01-Jan-1995|27  |http://us.imdb.com/M/title-exact?Bad%20Boys%20(1995)                                                                                  |[0, 1, 0, 0, 0, 0, 0, 0, 0, 0, 0, 0, 0, 0, 0, 0, 0, 0, 0]|Bad Boys (1995)                                                                  |\n",
      "|01-Jan-1995|28  |http://us.imdb.com/M/title-exact?Apollo%2013%20(1995)                                                                                 |[0, 1, 0, 0, 0, 0, 0, 0, 1, 0, 0, 0, 0, 0, 0, 0, 1, 0, 0]|Apollo 13 (1995)                                                                 |\n",
      "|01-Jan-1995|29  |http://us.imdb.com/M/title-exact?Batman%20Forever%20(1995)                                                                            |[0, 1, 1, 0, 0, 1, 1, 0, 0, 0, 0, 0, 0, 0, 0, 0, 0, 0, 0]|Batman Forever (1995)                                                            |\n",
      "|01-Jan-1967|30  |http://us.imdb.com/M/title-exact?Belle%20de%20jour%20(1967)                                                                           |[0, 0, 0, 0, 0, 0, 0, 0, 1, 0, 0, 0, 0, 0, 0, 0, 0, 0, 0]|Belle de jour (1967)                                                             |\n",
      "|01-Jan-1995|31  |http://us.imdb.com/M/title-exact?Crimson%20Tide%20(1995)                                                                              |[0, 0, 0, 0, 0, 0, 0, 0, 1, 0, 0, 0, 0, 0, 0, 0, 1, 1, 0]|Crimson Tide (1995)                                                              |\n",
      "|01-Jan-1994|32  |http://us.imdb.com/M/title-exact?Crumb%20(1994)                                                                                       |[0, 0, 0, 0, 0, 0, 0, 1, 0, 0, 0, 0, 0, 0, 0, 0, 0, 0, 0]|Crumb (1994)                                                                     |\n",
      "|01-Jan-1995|33  |http://us.imdb.com/M/title-exact?Desperado%20(1995)                                                                                   |[0, 1, 0, 0, 0, 0, 0, 0, 0, 0, 0, 0, 0, 0, 1, 0, 1, 0, 0]|Desperado (1995)                                                                 |\n",
      "|01-Jan-1995|34  |http://us.imdb.com/M/title-exact?Doom%20Generation,%20The%20(1995)                                                                    |[0, 0, 0, 0, 0, 1, 0, 0, 1, 0, 0, 0, 0, 0, 0, 0, 0, 0, 0]|Doom Generation, The (1995)                                                      |\n",
      "|01-Jan-1995|35  |http://us.imdb.com/M/title-exact?Free%20Willy%202:%20The%20Adventure%20Home%20(1995)                                                  |[0, 0, 1, 0, 1, 0, 0, 0, 1, 0, 0, 0, 0, 0, 0, 0, 0, 0, 0]|Free Willy 2: The Adventure Home (1995)                                          |\n",
      "|01-Jan-1995|36  |http://us.imdb.com/M/title-exact?Mad%20Love%20(1995)                                                                                  |[0, 0, 0, 0, 0, 0, 0, 0, 1, 0, 0, 0, 0, 0, 1, 0, 0, 0, 0]|Mad Love (1995)                                                                  |\n",
      "|01-Jan-1994|37  |http://us.imdb.com/M/title-exact?Nadja%20(1994)                                                                                       |[0, 0, 0, 0, 0, 0, 0, 0, 1, 0, 0, 0, 0, 0, 0, 0, 0, 0, 0]|Nadja (1994)                                                                     |\n",
      "|01-Jan-1995|38  |http://us.imdb.com/M/title-exact?Net,%20The%20(1995)                                                                                  |[0, 0, 0, 0, 0, 0, 0, 0, 0, 0, 0, 0, 0, 0, 0, 1, 1, 0, 0]|Net, The (1995)                                                                  |\n",
      "|01-Jan-1995|39  |http://us.imdb.com/M/title-exact?Strange%20Days%20(1995)                                                                              |[0, 1, 0, 0, 0, 0, 1, 0, 0, 0, 0, 0, 0, 0, 0, 1, 0, 0, 0]|Strange Days (1995)                                                              |\n",
      "|01-Jan-1995|40  |http://us.imdb.com/M/title-exact?To%20Wong%20Foo,%20Thanks%20for%20Everything!%20Julie%20Newmar%20(1995)                              |[0, 0, 0, 0, 0, 1, 0, 0, 0, 0, 0, 0, 0, 0, 0, 0, 0, 0, 0]|To Wong Foo, Thanks for Everything! Julie Newmar (1995)                          |\n",
      "|01-Jan-1995|41  |http://us.imdb.com/M/title-exact?Billy%20Madison%20(1995)                                                                             |[0, 0, 0, 0, 0, 1, 0, 0, 0, 0, 0, 0, 0, 0, 0, 0, 0, 0, 0]|Billy Madison (1995)                                                             |\n",
      "|01-Jan-1994|42  |http://us.imdb.com/M/title-exact?Clerks%20(1994)                                                                                      |[0, 0, 0, 0, 0, 1, 0, 0, 0, 0, 0, 0, 0, 0, 0, 0, 0, 0, 0]|Clerks (1994)                                                                    |\n",
      "|01-Jan-1994|43  |http://us.imdb.com/M/title-exact?Disclosure%20(1994)                                                                                  |[0, 0, 0, 0, 0, 0, 0, 0, 1, 0, 0, 0, 0, 0, 0, 0, 1, 0, 0]|Disclosure (1994)                                                                |\n",
      "|01-Jan-1994|44  |http://us.imdb.com/M/title-exact?Dolores%20Claiborne%20(1994)                                                                         |[0, 0, 0, 0, 0, 0, 0, 0, 1, 0, 0, 0, 0, 0, 0, 0, 1, 0, 0]|Dolores Claiborne (1994)                                                         |\n",
      "|01-Jan-1994|45  |http://us.imdb.com/M/title-exact?Yinshi%20Nan%20Nu%20(1994)                                                                           |[0, 0, 0, 0, 0, 1, 0, 0, 1, 0, 0, 0, 0, 0, 0, 0, 0, 0, 0]|Eat Drink Man Woman (1994)                                                       |\n",
      "|01-Jan-1994|46  |http://us.imdb.com/M/title-exact?Exotica%20(1994)                                                                                     |[0, 0, 0, 0, 0, 0, 0, 0, 1, 0, 0, 0, 0, 0, 0, 0, 0, 0, 0]|Exotica (1994)                                                                   |\n",
      "|01-Jan-1994|47  |http://us.imdb.com/M/title-exact?Ed%20Wood%20(1994)                                                                                   |[0, 0, 0, 0, 0, 1, 0, 0, 1, 0, 0, 0, 0, 0, 0, 0, 0, 0, 0]|Ed Wood (1994)                                                                   |\n",
      "|01-Jan-1994|48  |http://us.imdb.com/M/title-exact?Hoop%20Dreams%20(1994)                                                                               |[0, 0, 0, 0, 0, 0, 0, 1, 0, 0, 0, 0, 0, 0, 0, 0, 0, 0, 0]|Hoop Dreams (1994)                                                               |\n",
      "|01-Jan-1994|49  |http://us.imdb.com/M/title-exact?I.Q.%20(1994)                                                                                        |[0, 0, 0, 0, 0, 1, 0, 0, 0, 0, 0, 0, 0, 0, 1, 0, 0, 0, 0]|I.Q. (1994)                                                                      |\n",
      "|01-Jan-1977|50  |http://us.imdb.com/M/title-exact?Star%20Wars%20(1977)                                                                                 |[0, 1, 1, 0, 0, 0, 0, 0, 0, 0, 0, 0, 0, 0, 1, 1, 0, 1, 0]|Star Wars (1977)                                                                 |\n",
      "|01-Jan-1994|51  |http://us.imdb.com/M/title-exact?Legends%20of%20the%20Fall%20(1994)                                                                   |[0, 0, 0, 0, 0, 0, 0, 0, 1, 0, 0, 0, 0, 0, 1, 0, 0, 1, 1]|Legends of the Fall (1994)                                                       |\n",
      "|01-Jan-1994|52  |http://us.imdb.com/M/title-exact?Madness%20of%20King%20George,%20The%20(1994)                                                         |[0, 0, 0, 0, 0, 0, 0, 0, 1, 0, 0, 0, 0, 0, 0, 0, 0, 0, 0]|Madness of King George, The (1994)                                               |\n",
      "|01-Jan-1994|53  |http://us.imdb.com/M/title-exact?Natural%20Born%20Killers%20(1994)                                                                    |[0, 1, 0, 0, 0, 0, 0, 0, 0, 0, 0, 0, 0, 0, 0, 0, 1, 0, 0]|Natural Born Killers (1994)                                                      |\n",
      "|01-Jan-1995|54  |http://us.imdb.com/M/title-exact?Outbreak%20(1995)                                                                                    |[0, 1, 0, 0, 0, 0, 0, 0, 1, 0, 0, 0, 0, 0, 0, 0, 1, 0, 0]|Outbreak (1995)                                                                  |\n",
      "|01-Jan-1994|55  |http://us.imdb.com/Title?L%E9on+(1994)                                                                                                |[0, 0, 0, 0, 0, 0, 1, 0, 1, 0, 0, 0, 0, 0, 1, 0, 1, 0, 0]|Professional, The (1994)                                                         |\n",
      "|01-Jan-1994|56  |http://us.imdb.com/M/title-exact?Pulp%20Fiction%20(1994)                                                                              |[0, 0, 0, 0, 0, 0, 1, 0, 1, 0, 0, 0, 0, 0, 0, 0, 0, 0, 0]|Pulp Fiction (1994)                                                              |\n",
      "|01-Jan-1994|57  |http://us.imdb.com/M/title-exact?Priest%20(1994)                                                                                      |[0, 0, 0, 0, 0, 0, 0, 0, 1, 0, 0, 0, 0, 0, 0, 0, 0, 0, 0]|Priest (1994)                                                                    |\n",
      "|01-Jan-1994|58  |http://us.imdb.com/M/title-exact?Quiz%20Show%20(1994)                                                                                 |[0, 0, 0, 0, 0, 0, 0, 0, 1, 0, 0, 0, 0, 0, 0, 0, 0, 0, 0]|Quiz Show (1994)                                                                 |\n",
      "|01-Jan-1994|59  |http://us.imdb.com/M/title-exact?Trzy%20kolory:%20Czerwony%20(1994)                                                                   |[0, 0, 0, 0, 0, 0, 0, 0, 1, 0, 0, 0, 0, 0, 0, 0, 0, 0, 0]|Three Colors: Red (1994)                                                         |\n",
      "|01-Jan-1993|60  |http://us.imdb.com/M/title-exact?Trzy%20kolory:%20Niebieski%20(1993)                                                                  |[0, 0, 0, 0, 0, 0, 0, 0, 1, 0, 0, 0, 0, 0, 0, 0, 0, 0, 0]|Three Colors: Blue (1993)                                                        |\n",
      "|01-Jan-1994|61  |http://us.imdb.com/M/title-exact?Trzy%20kolory:%20Bialy%20(1994)                                                                      |[0, 0, 0, 0, 0, 0, 0, 0, 1, 0, 0, 0, 0, 0, 0, 0, 0, 0, 0]|Three Colors: White (1994)                                                       |\n",
      "|01-Jan-1994|62  |http://us.imdb.com/M/title-exact?Stargate%20(1994)                                                                                    |[0, 1, 1, 0, 0, 0, 0, 0, 0, 0, 0, 0, 0, 0, 0, 1, 0, 0, 0]|Stargate (1994)                                                                  |\n",
      "|01-Jan-1994|63  |http://us.imdb.com/M/title-exact?Santa%20Clause,%20The%20(1994)                                                                       |[0, 0, 0, 0, 1, 1, 0, 0, 0, 0, 0, 0, 0, 0, 0, 0, 0, 0, 0]|Santa Clause, The (1994)                                                         |\n",
      "|01-Jan-1994|64  |http://us.imdb.com/M/title-exact?Shawshank%20Redemption,%20The%20(1994)                                                               |[0, 0, 0, 0, 0, 0, 0, 0, 1, 0, 0, 0, 0, 0, 0, 0, 0, 0, 0]|Shawshank Redemption, The (1994)                                                 |\n",
      "|01-Jan-1993|65  |http://us.imdb.com/M/title-exact?What's%20Eating%20Gilbert%20Grape%20(1993)                                                           |[0, 0, 0, 0, 0, 1, 0, 0, 1, 0, 0, 0, 0, 0, 0, 0, 0, 0, 0]|What's Eating Gilbert Grape (1993)                                               |\n",
      "|01-Jan-1995|66  |http://us.imdb.com/M/title-exact?While%20You%20Were%20Sleeping%20(1995)                                                               |[0, 0, 0, 0, 0, 1, 0, 0, 0, 0, 0, 0, 0, 0, 1, 0, 0, 0, 0]|While You Were Sleeping (1995)                                                   |\n",
      "|01-Jan-1994|67  |http://us.imdb.com/M/title-exact?Ace%20Ventura:%20Pet%20Detective%20(1994)                                                            |[0, 0, 0, 0, 0, 1, 0, 0, 0, 0, 0, 0, 0, 0, 0, 0, 0, 0, 0]|Ace Ventura: Pet Detective (1994)                                                |\n",
      "|01-Jan-1994|68  |http://us.imdb.com/M/title-exact?Crow,%20The%20(1994)                                                                                 |[0, 1, 0, 0, 0, 0, 0, 0, 0, 0, 0, 0, 0, 0, 1, 0, 1, 0, 0]|Crow, The (1994)                                                                 |\n",
      "|01-Jan-1994|69  |http://us.imdb.com/M/title-exact?Forrest%20Gump%20(1994)                                                                              |[0, 0, 0, 0, 0, 1, 0, 0, 0, 0, 0, 0, 0, 0, 1, 0, 0, 1, 0]|Forrest Gump (1994)                                                              |\n",
      "|01-Jan-1994|70  |http://us.imdb.com/M/title-exact?Four%20Weddings%20and%20a%20Funeral%20(1994)                                                         |[0, 0, 0, 0, 0, 1, 0, 0, 0, 0, 0, 0, 0, 0, 1, 0, 0, 0, 0]|Four Weddings and a Funeral (1994)                                               |\n",
      "|01-Jan-1994|71  |http://us.imdb.com/M/title-exact?Lion%20King,%20The%20(1994)                                                                          |[0, 0, 0, 1, 1, 0, 0, 0, 0, 0, 0, 0, 1, 0, 0, 0, 0, 0, 0]|Lion King, The (1994)                                                            |\n",
      "|01-Jan-1994|72  |http://us.imdb.com/M/title-exact?Mask,%20The%20(1994)                                                                                 |[0, 0, 0, 0, 0, 1, 1, 0, 0, 1, 0, 0, 0, 0, 0, 0, 0, 0, 0]|Mask, The (1994)                                                                 |\n",
      "|01-Jan-1994|73  |http://us.imdb.com/M/title-exact?Maverick%20(1994)                                                                                    |[0, 1, 0, 0, 0, 1, 0, 0, 0, 0, 0, 0, 0, 0, 0, 0, 0, 0, 1]|Maverick (1994)                                                                  |\n",
      "|01-Jan-1965|74  |http://us.imdb.com/M/title-exact?Faster%20Pussycat!%20Kill!%20Kill!%20(1965)                                                          |[0, 1, 0, 0, 0, 1, 0, 0, 1, 0, 0, 0, 0, 0, 0, 0, 0, 0, 0]|Faster Pussycat! Kill! Kill! (1965)                                              |\n",
      "|01-Jan-1994|75  |http://us.imdb.com/M/title-exact?Brother%20Minister:%20The%20Assassination%20of%20Malcolm%20X%20(1994)                                |[0, 0, 0, 0, 0, 0, 0, 1, 0, 0, 0, 0, 0, 0, 0, 0, 0, 0, 0]|Brother Minister: The Assassination of Malcolm X (1994)                          |\n",
      "|01-Jan-1993|76  |http://us.imdb.com/M/title-exact?Carlito's%20Way%20(1993)                                                                             |[0, 0, 0, 0, 0, 0, 1, 0, 1, 0, 0, 0, 0, 0, 0, 0, 0, 0, 0]|Carlito's Way (1993)                                                             |\n",
      "|01-Jan-1993|77  |http://us.imdb.com/M/title-exact?Firm,%20The%20(1993)                                                                                 |[0, 0, 0, 0, 0, 0, 0, 0, 1, 0, 0, 0, 0, 0, 0, 0, 1, 0, 0]|Firm, The (1993)                                                                 |\n",
      "|01-Jan-1993|78  |http://us.imdb.com/M/title-exact?Free%20Willy%20(1993)                                                                                |[0, 0, 1, 0, 1, 0, 0, 0, 1, 0, 0, 0, 0, 0, 0, 0, 0, 0, 0]|Free Willy (1993)                                                                |\n",
      "|01-Jan-1993|79  |http://us.imdb.com/M/title-exact?Fugitive,%20The%20(1993)                                                                             |[0, 1, 0, 0, 0, 0, 0, 0, 0, 0, 0, 0, 0, 0, 0, 0, 1, 0, 0]|Fugitive, The (1993)                                                             |\n",
      "|01-Jan-1993|80  |http://us.imdb.com/M/title-exact?Hot%20Shots!%20Part%20Deux%20(1993)                                                                  |[0, 1, 0, 0, 0, 1, 0, 0, 0, 0, 0, 0, 0, 0, 0, 0, 0, 1, 0]|Hot Shots! Part Deux (1993)                                                      |\n",
      "|01-Jan-1994|81  |http://us.imdb.com/M/title-exact?Hudsucker%20Proxy,%20The%20(1994)                                                                    |[0, 0, 0, 0, 0, 1, 0, 0, 0, 0, 0, 0, 0, 0, 1, 0, 0, 0, 0]|Hudsucker Proxy, The (1994)                                                      |\n",
      "|01-Jan-1993|82  |http://us.imdb.com/M/title-exact?Jurassic%20Park%20(1993)                                                                             |[0, 1, 1, 0, 0, 0, 0, 0, 0, 0, 0, 0, 0, 0, 0, 1, 0, 0, 0]|Jurassic Park (1993)                                                             |\n",
      "|01-Jan-1993|83  |http://us.imdb.com/M/title-exact?Much%20Ado%20About%20Nothing%20(1993)                                                                |[0, 0, 0, 0, 0, 1, 0, 0, 0, 0, 0, 0, 0, 0, 1, 0, 0, 0, 0]|Much Ado About Nothing (1993)                                                    |\n",
      "|01-Jan-1994|84  |http://us.imdb.com/M/title-exact?Robert%20A.%20Heinlein's%20The%20Puppet%20Masters%20(1994)                                           |[0, 0, 0, 0, 0, 0, 0, 0, 0, 0, 0, 1, 0, 0, 0, 1, 0, 0, 0]|Robert A. Heinlein's The Puppet Masters (1994)                                   |\n",
      "|01-Jan-1994|85  |http://us.imdb.com/M/title-exact?Ref,%20The%20(1994)                                                                                  |[0, 0, 0, 0, 0, 1, 0, 0, 0, 0, 0, 0, 0, 0, 0, 0, 0, 0, 0]|Ref, The (1994)                                                                  |\n",
      "|01-Jan-1993|86  |http://us.imdb.com/M/title-exact?Remains%20of%20the%20Day,%20The%20(1993)                                                             |[0, 0, 0, 0, 0, 0, 0, 0, 1, 0, 0, 0, 0, 0, 0, 0, 0, 0, 0]|Remains of the Day, The (1993)                                                   |\n",
      "|01-Jan-1993|87  |http://us.imdb.com/M/title-exact?Searching%20for%20Bobby%20Fischer%20(1993)                                                           |[0, 0, 0, 0, 0, 0, 0, 0, 1, 0, 0, 0, 0, 0, 0, 0, 0, 0, 0]|Searching for Bobby Fischer (1993)                                               |\n",
      "|01-Jan-1993|88  |http://us.imdb.com/M/title-exact?Sleepless%20in%20Seattle%20(1993)                                                                    |[0, 0, 0, 0, 0, 1, 0, 0, 0, 0, 0, 0, 0, 0, 1, 0, 0, 0, 0]|Sleepless in Seattle (1993)                                                      |\n",
      "|01-Jan-1982|89  |http://us.imdb.com/M/title-exact?Blade%20Runner%20(1982)                                                                              |[0, 0, 0, 0, 0, 0, 0, 0, 0, 0, 1, 0, 0, 0, 0, 1, 0, 0, 0]|Blade Runner (1982)                                                              |\n",
      "|01-Jan-1993|90  |http://us.imdb.com/M/title-exact?So%20I%20Married%20an%20Axe%20Murderer%20(1993)                                                      |[0, 0, 0, 0, 0, 1, 0, 0, 0, 0, 0, 0, 0, 0, 1, 0, 1, 0, 0]|So I Married an Axe Murderer (1993)                                              |\n",
      "|01-Jan-1993|91  |http://us.imdb.com/M/title-exact?Nightmare%20Before%20Christmas,%20The%20(1993)                                                       |[0, 0, 0, 0, 1, 1, 0, 0, 0, 0, 0, 0, 1, 0, 0, 0, 0, 0, 0]|Nightmare Before Christmas, The (1993)                                           |\n",
      "|01-Jan-1993|92  |http://us.imdb.com/M/title-exact?True%20Romance%20(1993)                                                                              |[0, 1, 0, 0, 0, 0, 1, 0, 0, 0, 0, 0, 0, 0, 1, 0, 0, 0, 0]|True Romance (1993)                                                              |\n",
      "|24-May-1996|93  |http://us.imdb.com/Title?Welcome+to+the+Dollhouse+(1995)                                                                              |[0, 0, 0, 0, 0, 1, 0, 0, 1, 0, 0, 0, 0, 0, 0, 0, 0, 0, 0]|Welcome to the Dollhouse (1995)                                                  |\n",
      "|01-Jan-1990|94  |http://us.imdb.com/M/title-exact?Home%20Alone%20(1990)                                                                                |[0, 0, 0, 0, 1, 1, 0, 0, 0, 0, 0, 0, 0, 0, 0, 0, 0, 0, 0]|Home Alone (1990)                                                                |\n",
      "|01-Jan-1992|95  |http://us.imdb.com/M/title-exact?Aladdin%20(1992)                                                                                     |[0, 0, 0, 1, 1, 1, 0, 0, 0, 0, 0, 0, 1, 0, 0, 0, 0, 0, 0]|Aladdin (1992)                                                                   |\n",
      "|01-Jan-1991|96  |http://us.imdb.com/M/title-exact?Terminator%202:%20Judgment%20Day%20(1991)                                                            |[0, 1, 0, 0, 0, 0, 0, 0, 0, 0, 0, 0, 0, 0, 0, 1, 1, 0, 0]|Terminator 2: Judgment Day (1991)                                                |\n",
      "|01-Jan-1990|97  |http://us.imdb.com/M/title-exact?Dances%20with%20Wolves%20(1990)                                                                      |[0, 0, 1, 0, 0, 0, 0, 0, 1, 0, 0, 0, 0, 0, 0, 0, 0, 0, 1]|Dances with Wolves (1990)                                                        |\n",
      "|01-Jan-1991|98  |http://us.imdb.com/M/title-exact?Silence%20of%20the%20Lambs,%20The%20(1991)                                                           |[0, 0, 0, 0, 0, 0, 0, 0, 1, 0, 0, 0, 0, 0, 0, 0, 1, 0, 0]|Silence of the Lambs, The (1991)                                                 |\n",
      "|01-Jan-1937|99  |http://us.imdb.com/M/title-exact?Snow%20White%20and%20the%20Seven%20Dwarfs%20(1937)                                                   |[0, 0, 0, 1, 1, 0, 0, 0, 0, 0, 0, 0, 1, 0, 0, 0, 0, 0, 0]|Snow White and the Seven Dwarfs (1937)                                           |\n",
      "|14-Feb-1997|100 |http://us.imdb.com/M/title-exact?Fargo%20(1996)                                                                                       |[0, 0, 0, 0, 0, 0, 1, 0, 1, 0, 0, 0, 0, 0, 0, 0, 1, 0, 0]|Fargo (1996)                                                                     |\n",
      "|08-Mar-1981|101 |http://us.imdb.com/M/title-exact?Heavy%20Metal%20(1981)                                                                               |[0, 1, 1, 1, 0, 0, 0, 0, 0, 0, 0, 1, 0, 0, 0, 1, 0, 0, 0]|Heavy Metal (1981)                                                               |\n",
      "|01-Jan-1970|102 |http://us.imdb.com/M/title-exact?Aristocats,%20The%20(1970)                                                                           |[0, 0, 0, 1, 1, 0, 0, 0, 0, 0, 0, 0, 0, 0, 0, 0, 0, 0, 0]|Aristocats, The (1970)                                                           |\n",
      "|29-Mar-1996|103 |http://us.imdb.com/M/title-exact?All%20Dogs%20Go%20to%20Heaven%202%20(1996)                                                           |[0, 0, 0, 1, 1, 0, 0, 0, 0, 0, 0, 0, 1, 0, 0, 0, 0, 0, 0]|All Dogs Go to Heaven 2 (1996)                                                   |\n",
      "|29-Mar-1996|104 |http://us.imdb.com/M/title-exact?Theodore%20Rex%20(1995)                                                                              |[0, 0, 0, 0, 0, 1, 0, 0, 0, 0, 0, 0, 0, 0, 0, 0, 0, 0, 0]|Theodore Rex (1995)                                                              |\n",
      "|29-Mar-1996|105 |http://us.imdb.com/M/title-exact?Sgt.%20Bilko%20(1996)                                                                                |[0, 0, 0, 0, 0, 1, 0, 0, 0, 0, 0, 0, 0, 0, 0, 0, 0, 0, 0]|Sgt. Bilko (1996)                                                                |\n",
      "|01-Jan-1996|106 |http://us.imdb.com/M/title-exact?Diabolique%20(1996)                                                                                  |[0, 0, 0, 0, 0, 0, 0, 0, 1, 0, 0, 0, 0, 0, 0, 0, 1, 0, 0]|Diabolique (1996)                                                                |\n",
      "|14-Jun-1996|107 |http://us.imdb.com/M/title-exact?Moll%20Flanders%20(1996)                                                                             |[0, 0, 0, 0, 0, 0, 0, 0, 1, 0, 0, 0, 0, 0, 0, 0, 0, 0, 0]|Moll Flanders (1996)                                                             |\n",
      "|12-Apr-1996|108 |http://us.imdb.com/M/title-exact?Kids%20in%20the%20Hall:%20Brain%20Candy%20(1996)                                                     |[0, 0, 0, 0, 0, 1, 0, 0, 0, 0, 0, 0, 0, 0, 0, 0, 0, 0, 0]|Kids in the Hall: Brain Candy (1996)                                             |\n",
      "|19-Apr-1996|109 |http://us.imdb.com/M/title-exact?Mystery%20Science%20Theater%203000:%20The%20Movie%20(1996)                                           |[0, 0, 0, 0, 0, 1, 0, 0, 0, 0, 0, 0, 0, 0, 0, 1, 0, 0, 0]|Mystery Science Theater 3000: The Movie (1996)                                   |\n",
      "|01-Jan-1995|110 |http://us.imdb.com/M/title-exact?Operation%20Dumbo%20Drop%20(1995)                                                                    |[0, 1, 1, 0, 0, 1, 0, 0, 0, 0, 0, 0, 0, 0, 0, 0, 0, 1, 0]|Operation Dumbo Drop (1995)                                                      |\n",
      "|26-Apr-1996|111 |http://us.imdb.com/M/title-exact?Truth%20About%20Cats%20&%20Dogs,%20The%20(1996)                                                      |[0, 0, 0, 0, 0, 1, 0, 0, 0, 0, 0, 0, 0, 0, 1, 0, 0, 0, 0]|Truth About Cats & Dogs, The (1996)                                              |\n",
      "|10-May-1996|112 |http://us.imdb.com/M/title-exact?Flipper%20(1996)                                                                                     |[0, 0, 1, 0, 1, 0, 0, 0, 0, 0, 0, 0, 0, 0, 0, 0, 0, 0, 0]|Flipper (1996)                                                                   |\n",
      "|19-Apr-1996|113 |http://us.imdb.com/M/title-exact?Hussard%20sur%20le%20toit,%20Le%20(1995)                                                             |[0, 0, 0, 0, 0, 0, 0, 0, 1, 0, 0, 0, 0, 0, 0, 0, 0, 0, 0]|Horseman on the Roof, The (Hussard sur le toit, Le) (1995)                       |\n",
      "|05-Apr-1996|114 |http://us.imdb.com/Title?Wallace+%26+Gromit%3A+The+Best+of+Aardman+Animation+(1996)                                                   |[0, 0, 0, 1, 0, 0, 0, 0, 0, 0, 0, 0, 0, 0, 0, 0, 0, 0, 0]|Wallace & Gromit: The Best of Aardman Animation (1996)                           |\n",
      "|26-Apr-1996|115 |http://us.imdb.com/Title?Haunted+World+of+Edward+D.+Wood+Jr.,+The+(1995)                                                              |[0, 0, 0, 0, 0, 0, 0, 1, 0, 0, 0, 0, 0, 0, 0, 0, 0, 0, 0]|Haunted World of Edward D. Wood Jr., The (1995)                                  |\n",
      "|23-Apr-1996|116 |http://us.imdb.com/M/title-exact?Cold%20Comfort%20Farm%20(1995)%20(TV)                                                                |[0, 0, 0, 0, 0, 1, 0, 0, 0, 0, 0, 0, 0, 0, 0, 0, 0, 0, 0]|Cold Comfort Farm (1995)                                                         |\n",
      "|07-Jun-1996|117 |http://us.imdb.com/M/title-exact?Rock,%20The%20(1996)                                                                                 |[0, 1, 1, 0, 0, 0, 0, 0, 0, 0, 0, 0, 0, 0, 0, 0, 1, 0, 0]|Rock, The (1996)                                                                 |\n",
      "|10-May-1996|118 |http://us.imdb.com/M/title-exact?Twister%20(1996)                                                                                     |[0, 1, 1, 0, 0, 0, 0, 0, 0, 0, 0, 0, 0, 0, 0, 0, 1, 0, 0]|Twister (1996)                                                                   |\n",
      "|01-Jan-1994|119 |http://us.imdb.com/M/title-exact?Maya%20Lin:%20A%20Strong%20Clear%20Vision%20(1994)                                                   |[0, 0, 0, 0, 0, 0, 0, 1, 0, 0, 0, 0, 0, 0, 0, 0, 0, 0, 0]|Maya Lin: A Strong Clear Vision (1994)                                           |\n",
      "|28-Jun-1996|120 |http://us.imdb.com/M/title-exact?Striptease%20(1996)                                                                                  |[0, 0, 0, 0, 0, 1, 1, 0, 0, 0, 0, 0, 0, 0, 0, 0, 0, 0, 0]|Striptease (1996)                                                                |\n",
      "|03-Jul-1996|121 |http://us.imdb.com/M/title-exact?Independence%20Day%20(1996)                                                                          |[0, 1, 0, 0, 0, 0, 0, 0, 0, 0, 0, 0, 0, 0, 0, 1, 0, 1, 0]|Independence Day (ID4) (1996)                                                    |\n",
      "|14-Jun-1996|122 |http://us.imdb.com/M/title-exact?Cable%20Guy,%20The%20(1996)                                                                          |[0, 0, 0, 0, 0, 1, 0, 0, 0, 0, 0, 0, 0, 0, 0, 0, 0, 0, 0]|Cable Guy, The (1996)                                                            |\n",
      "|19-Jul-1996|123 |http://us.imdb.com/M/title-exact?Frighteners,%20The%20(1996)                                                                          |[0, 0, 0, 0, 0, 1, 0, 0, 0, 0, 0, 1, 0, 0, 0, 0, 0, 0, 0]|Frighteners, The (1996)                                                          |\n",
      "|21-Jun-1996|124 |http://us.imdb.com/M/title-exact?Lone%20Star%20(1996)                                                                                 |[0, 0, 0, 0, 0, 0, 0, 0, 1, 0, 0, 0, 0, 1, 0, 0, 0, 0, 0]|Lone Star (1996)                                                                 |\n",
      "|29-Jun-1996|125 |http://us.imdb.com/M/title-exact?Phenomenon%20(1996)                                                                                  |[0, 0, 0, 0, 0, 0, 0, 0, 1, 0, 0, 0, 0, 0, 1, 0, 0, 0, 0]|Phenomenon (1996)                                                                |\n",
      "|06-Sep-1996|126 |http://us.imdb.com/M/title-exact?Spitfire%20Grill,%20The%20(1996)                                                                     |[0, 0, 0, 0, 0, 0, 0, 0, 1, 0, 0, 0, 0, 0, 0, 0, 0, 0, 0]|Spitfire Grill, The (1996)                                                       |\n",
      "|01-Jan-1972|127 |http://us.imdb.com/M/title-exact?Godfather,%20The%20(1972)                                                                            |[0, 1, 0, 0, 0, 0, 1, 0, 1, 0, 0, 0, 0, 0, 0, 0, 0, 0, 0]|Godfather, The (1972)                                                            |\n",
      "|26-Jul-1996|128 |http://us.imdb.com/M/title-exact?Police%20Story%20III:%20Supercop%20(1992)                                                            |[0, 1, 0, 0, 0, 0, 0, 0, 0, 0, 0, 0, 0, 0, 0, 0, 1, 0, 0]|Supercop (1992)                                                                  |\n",
      "|04-Oct-1996|129 |http://us.imdb.com/M/title-exact?Bound%20(1996)                                                                                       |[0, 0, 0, 0, 0, 0, 1, 0, 1, 0, 0, 0, 0, 0, 1, 0, 1, 0, 0]|Bound (1996)                                                                     |\n",
      "|16-Aug-1996|130 |http://us.imdb.com/M/title-exact?Kansas%20City%20(1996)                                                                               |[0, 0, 0, 0, 0, 0, 1, 0, 0, 0, 0, 0, 0, 0, 0, 0, 0, 0, 0]|Kansas City (1996)                                                               |\n",
      "|01-Jan-1961|131 |http://us.imdb.com/M/title-exact?Breakfast%20at%20Tiffany's%20(1961)                                                                  |[0, 0, 0, 0, 0, 0, 0, 0, 1, 0, 0, 0, 0, 0, 1, 0, 0, 0, 0]|Breakfast at Tiffany's (1961)                                                    |\n",
      "|01-Jan-1939|132 |http://us.imdb.com/M/title-exact?Wizard%20of%20Oz,%20The%20(1939)                                                                     |[0, 0, 1, 0, 1, 0, 0, 0, 1, 0, 0, 0, 1, 0, 0, 0, 0, 0, 0]|Wizard of Oz, The (1939)                                                         |\n",
      "|01-Jan-1939|133 |http://us.imdb.com/M/title-exact?Gone%20with%20the%20Wind%20(1939)                                                                    |[0, 0, 0, 0, 0, 0, 0, 0, 1, 0, 0, 0, 0, 0, 1, 0, 0, 1, 0]|Gone with the Wind (1939)                                                        |\n",
      "|01-Jan-1941|134 |http://us.imdb.com/M/title-exact?Citizen%20Kane%20(1941)                                                                              |[0, 0, 0, 0, 0, 0, 0, 0, 1, 0, 0, 0, 0, 0, 0, 0, 0, 0, 0]|Citizen Kane (1941)                                                              |\n",
      "|01-Jan-1968|135 |http://us.imdb.com/M/title-exact?2001:%20A%20Space%20Odyssey%20(1968)                                                                 |[0, 0, 0, 0, 0, 0, 0, 0, 1, 0, 0, 0, 0, 1, 0, 1, 1, 0, 0]|2001: A Space Odyssey (1968)                                                     |\n",
      "|01-Jan-1939|136 |http://us.imdb.com/M/title-exact?Mr.%20Smith%20Goes%20to%20Washington%20(1939)                                                        |[0, 0, 0, 0, 0, 0, 0, 0, 1, 0, 0, 0, 0, 0, 0, 0, 0, 0, 0]|Mr. Smith Goes to Washington (1939)                                              |\n",
      "|20-Sep-1996|137 |http://us.imdb.com/M/title-exact?Big%20Night%20(1996)                                                                                 |[0, 0, 0, 0, 0, 0, 0, 0, 1, 0, 0, 0, 0, 0, 0, 0, 0, 0, 0]|Big Night (1996)                                                                 |\n",
      "|04-Oct-1996|138 |http://us.imdb.com/M/title-exact?D3:%20The%20Mighty%20Ducks%20(1996)                                                                  |[0, 0, 0, 0, 1, 1, 0, 0, 0, 0, 0, 0, 0, 0, 0, 0, 0, 0, 0]|D3: The Mighty Ducks (1996)                                                      |\n",
      "|01-Jan-1969|139 |http://us.imdb.com/M/title-exact?Love%20Bug,%20The%20(1969)                                                                           |[0, 0, 0, 0, 1, 1, 0, 0, 0, 0, 0, 0, 0, 0, 0, 0, 0, 0, 0]|Love Bug, The (1969)                                                             |\n",
      "|01-Jan-1993|140 |http://us.imdb.com/M/title-exact?Homeward%20Bound:%20The%20Incredible%20Journey%20(1993)                                              |[0, 0, 1, 0, 1, 0, 0, 0, 0, 0, 0, 0, 0, 0, 0, 0, 0, 0, 0]|Homeward Bound: The Incredible Journey (1993)                                    |\n",
      "|01-Jan-1954|141 |http://us.imdb.com/M/title-exact?20,000%20Leagues%20Under%20the%20Sea%20(1954)                                                        |[0, 0, 1, 0, 1, 0, 0, 0, 0, 1, 0, 0, 0, 0, 0, 1, 0, 0, 0]|20,000 Leagues Under the Sea (1954)                                              |\n",
      "|01-Jan-1971|142 |http://us.imdb.com/M/title-exact?Bedknobs%20and%20Broomsticks%20(1971)                                                                |[0, 0, 1, 0, 1, 0, 0, 0, 0, 0, 0, 0, 1, 0, 0, 0, 0, 0, 0]|Bedknobs and Broomsticks (1971)                                                  |\n",
      "|01-Jan-1965|143 |http://us.imdb.com/M/title-exact?Sound%20of%20Music,%20The%20(1965)                                                                   |[0, 0, 0, 0, 0, 0, 0, 0, 0, 0, 0, 0, 1, 0, 0, 0, 0, 0, 0]|Sound of Music, The (1965)                                                       |\n",
      "|01-Jan-1988|144 |http://us.imdb.com/M/title-exact?Die%20Hard%20(1988)                                                                                  |[0, 1, 0, 0, 0, 0, 0, 0, 0, 0, 0, 0, 0, 0, 0, 0, 1, 0, 0]|Die Hard (1988)                                                                  |\n",
      "|01-Jan-1992|145 |http://us.imdb.com/M/title-exact?Lawnmower%20Man,%20The%20(1992)                                                                      |[0, 1, 0, 0, 0, 0, 0, 0, 0, 0, 0, 0, 0, 0, 0, 1, 1, 0, 0]|Lawnmower Man, The (1992)                                                        |\n",
      "|30-Oct-1996|146 |http://us.imdb.com/M/title-exact?Unhook%20the%20Stars%20(1996)                                                                        |[0, 0, 0, 0, 0, 0, 0, 0, 1, 0, 0, 0, 0, 0, 0, 0, 0, 0, 0]|Unhook the Stars (1996)                                                          |\n",
      "|05-Oct-1996|147 |http://us.imdb.com/M/title-exact?Long%20Kiss%20Goodnight,%20The%20(1996)                                                              |[0, 1, 0, 0, 0, 0, 0, 0, 0, 0, 0, 0, 0, 0, 0, 0, 1, 0, 0]|Long Kiss Goodnight, The (1996)                                                  |\n",
      "|11-Oct-1996|148 |http://us.imdb.com/M/title-exact?Ghost%20and%20the%20Darkness,%20The%20(1996)                                                         |[0, 1, 1, 0, 0, 0, 0, 0, 0, 0, 0, 0, 0, 0, 0, 0, 0, 0, 0]|Ghost and the Darkness, The (1996)                                               |\n",
      "|01-Nov-1996|149 |http://us.imdb.com/M/title-exact?Jude%20(1996)                                                                                        |[0, 0, 0, 0, 0, 0, 0, 0, 1, 0, 0, 0, 0, 0, 0, 0, 0, 0, 0]|Jude (1996)                                                                      |\n",
      "|18-Oct-1996|150 |http://us.imdb.com/M/title-exact?Swingers%20(1996)                                                                                    |[0, 0, 0, 0, 0, 1, 0, 0, 1, 0, 0, 0, 0, 0, 0, 0, 0, 0, 0]|Swingers (1996)                                                                  |\n",
      "|01-Jan-1971|151 |http://us.imdb.com/M/title-exact?Willy%20Wonka%20and%20the%20Chocolate%20Factory%20(1971)                                             |[0, 0, 1, 0, 1, 1, 0, 0, 0, 0, 0, 0, 0, 0, 0, 0, 0, 0, 0]|Willy Wonka and the Chocolate Factory (1971)                                     |\n",
      "|01-Jan-1973|152 |http://us.imdb.com/M/title-exact?Sleeper%20(1973)                                                                                     |[0, 0, 0, 0, 0, 1, 0, 0, 0, 0, 0, 0, 0, 0, 0, 1, 0, 0, 0]|Sleeper (1973)                                                                   |\n",
      "|01-Jan-1988|153 |http://us.imdb.com/M/title-exact?Fish%20Called%20Wanda,%20A%20(1988)                                                                  |[0, 0, 0, 0, 0, 1, 0, 0, 0, 0, 0, 0, 0, 0, 0, 0, 0, 0, 0]|Fish Called Wanda, A (1988)                                                      |\n",
      "|01-Jan-1979|154 |http://us.imdb.com/M/title-exact?Life%20of%20Brian%20(1979)                                                                           |[0, 0, 0, 0, 0, 1, 0, 0, 0, 0, 0, 0, 0, 0, 0, 0, 0, 0, 0]|Monty Python's Life of Brian (1979)                                              |\n",
      "|01-Jan-1987|155 |http://us.imdb.com/M/title-exact?Dirty%20Dancing%20(1987)                                                                             |[0, 0, 0, 0, 0, 0, 0, 0, 0, 0, 0, 0, 1, 0, 1, 0, 0, 0, 0]|Dirty Dancing (1987)                                                             |\n",
      "|01-Jan-1992|156 |http://us.imdb.com/M/title-exact?Reservoir%20Dogs%20(1992)                                                                            |[0, 0, 0, 0, 0, 0, 1, 0, 0, 0, 0, 0, 0, 0, 0, 0, 1, 0, 0]|Reservoir Dogs (1992)                                                            |\n",
      "|01-Jan-1986|157 |http://us.imdb.com/M/title-exact?Platoon%20(1986)                                                                                     |[0, 0, 0, 0, 0, 0, 0, 0, 1, 0, 0, 0, 0, 0, 0, 0, 0, 1, 0]|Platoon (1986)                                                                   |\n",
      "|01-Jan-1989|158 |http://us.imdb.com/M/title-exact?Weekend%20at%20Bernie's%20(1989)                                                                     |[0, 0, 0, 0, 0, 1, 0, 0, 0, 0, 0, 0, 0, 0, 0, 0, 0, 0, 0]|Weekend at Bernie's (1989)                                                       |\n",
      "|01-Jan-1992|159 |http://us.imdb.com/M/title-exact?Basic%20Instinct%20(1992)                                                                            |[0, 0, 0, 0, 0, 0, 0, 0, 0, 0, 0, 0, 0, 1, 0, 0, 1, 0, 0]|Basic Instinct (1992)                                                            |\n",
      "|01-Jan-1992|160 |http://us.imdb.com/M/title-exact?Glengarry%20Glen%20Ross%20(1992)                                                                     |[0, 0, 0, 0, 0, 0, 0, 0, 1, 0, 0, 0, 0, 0, 0, 0, 0, 0, 0]|Glengarry Glen Ross (1992)                                                       |\n",
      "|01-Jan-1986|161 |http://us.imdb.com/M/title-exact?Top%20Gun%20(1986)                                                                                   |[0, 1, 0, 0, 0, 0, 0, 0, 0, 0, 0, 0, 0, 0, 1, 0, 0, 0, 0]|Top Gun (1986)                                                                   |\n",
      "|01-Jan-1981|162 |http://us.imdb.com/M/title-exact?On%20Golden%20Pond%20(1981)                                                                          |[0, 0, 0, 0, 0, 0, 0, 0, 1, 0, 0, 0, 0, 0, 0, 0, 0, 0, 0]|On Golden Pond (1981)                                                            |\n",
      "|01-Jan-1974|163 |http://us.imdb.com/M/title-exact?Return%20of%20the%20Pink%20Panther,%20The%20(1974)                                                   |[0, 0, 0, 0, 0, 1, 0, 0, 0, 0, 0, 0, 0, 0, 0, 0, 0, 0, 0]|Return of the Pink Panther, The (1974)                                           |\n",
      "|01-Jan-1989|164 |http://us.imdb.com/M/title-exact?Abyss,%20The%20(1989)                                                                                |[0, 1, 1, 0, 0, 0, 0, 0, 0, 0, 0, 0, 0, 0, 0, 1, 1, 0, 0]|Abyss, The (1989)                                                                |\n",
      "|01-Jan-1986|165 |http://us.imdb.com/M/title-exact?Jean%20de%20Florette%20(1986)                                                                        |[0, 0, 0, 0, 0, 0, 0, 0, 1, 0, 0, 0, 0, 0, 0, 0, 0, 0, 0]|Jean de Florette (1986)                                                          |\n",
      "|01-Jan-1986|166 |http://us.imdb.com/M/title-exact?Manon%20des%20sources%20(1986)                                                                       |[0, 0, 0, 0, 0, 0, 0, 0, 1, 0, 0, 0, 0, 0, 0, 0, 0, 0, 0]|Manon of the Spring (Manon des sources) (1986)                                   |\n",
      "|01-Jan-1980|167 |http://us.imdb.com/M/title-exact?Private%20Benjamin%20(1980)                                                                          |[0, 0, 0, 0, 0, 1, 0, 0, 0, 0, 0, 0, 0, 0, 0, 0, 0, 0, 0]|Private Benjamin (1980)                                                          |\n",
      "|01-Jan-1974|168 |http://us.imdb.com/M/title-exact?Monty%20Python%20and%20the%20Holy%20Grail%20(1974)                                                   |[0, 0, 0, 0, 0, 1, 0, 0, 0, 0, 0, 0, 0, 0, 0, 0, 0, 0, 0]|Monty Python and the Holy Grail (1974)                                           |\n",
      "|01-Jan-1993|169 |http://us.imdb.com/M/title-exact?Wrong%20Trousers,%20The%20(1993)                                                                     |[0, 0, 0, 1, 0, 1, 0, 0, 0, 0, 0, 0, 0, 0, 0, 0, 0, 0, 0]|Wrong Trousers, The (1993)                                                       |\n",
      "|01-Jan-1988|170 |http://us.imdb.com/M/title-exact?Nuovo%20cinema%20Paradiso%20(1988)                                                                   |[0, 0, 0, 0, 0, 1, 0, 0, 1, 0, 0, 0, 0, 0, 1, 0, 0, 0, 0]|Cinema Paradiso (1988)                                                           |\n",
      "|01-Jan-1991|171 |http://us.imdb.com/M/title-exact?Delicatessen%20(1991)                                                                                |[0, 0, 0, 0, 0, 1, 0, 0, 0, 0, 0, 0, 0, 0, 0, 1, 0, 0, 0]|Delicatessen (1991)                                                              |\n",
      "|01-Jan-1980|172 |http://us.imdb.com/M/title-exact?Empire%20Strikes%20Back,%20The%20(1980)                                                              |[0, 1, 1, 0, 0, 0, 0, 0, 1, 0, 0, 0, 0, 0, 1, 1, 0, 1, 0]|Empire Strikes Back, The (1980)                                                  |\n",
      "|01-Jan-1987|173 |http://us.imdb.com/M/title-exact?Princess%20Bride,%20The%20(1987)                                                                     |[0, 1, 1, 0, 0, 1, 0, 0, 0, 0, 0, 0, 0, 0, 1, 0, 0, 0, 0]|Princess Bride, The (1987)                                                       |\n",
      "|01-Jan-1981|174 |http://us.imdb.com/M/title-exact?Raiders%20of%20the%20Lost%20Ark%20(1981)                                                             |[0, 1, 1, 0, 0, 0, 0, 0, 0, 0, 0, 0, 0, 0, 0, 0, 0, 0, 0]|Raiders of the Lost Ark (1981)                                                   |\n",
      "|01-Jan-1985|175 |http://us.imdb.com/M/title-exact?Brazil%20(1985)                                                                                      |[0, 0, 0, 0, 0, 0, 0, 0, 0, 0, 0, 0, 0, 0, 0, 1, 0, 0, 0]|Brazil (1985)                                                                    |\n",
      "|01-Jan-1986|176 |http://us.imdb.com/M/title-exact?Aliens%20(1986)                                                                                      |[0, 1, 0, 0, 0, 0, 0, 0, 0, 0, 0, 0, 0, 0, 0, 1, 1, 1, 0]|Aliens (1986)                                                                    |\n",
      "|01-Jan-1966|177 |http://us.imdb.com/M/title-exact?Buono,%20il%20brutto,%20il%20cattivo,%20Il%20(1966)                                                  |[0, 1, 0, 0, 0, 0, 0, 0, 0, 0, 0, 0, 0, 0, 0, 0, 0, 0, 1]|Good, The Bad and The Ugly, The (1966)                                           |\n",
      "|01-Jan-1957|178 |http://us.imdb.com/M/title-exact?12%20Angry%20Men%20(1957)                                                                            |[0, 0, 0, 0, 0, 0, 0, 0, 1, 0, 0, 0, 0, 0, 0, 0, 0, 0, 0]|12 Angry Men (1957)                                                              |\n",
      "|01-Jan-1971|179 |http://us.imdb.com/M/title-exact?Clockwork%20Orange,%20A%20(1971)                                                                     |[0, 0, 0, 0, 0, 0, 0, 0, 0, 0, 0, 0, 0, 0, 0, 1, 0, 0, 0]|Clockwork Orange, A (1971)                                                       |\n",
      "|01-Jan-1979|180 |http://us.imdb.com/M/title-exact?Apocalypse%20Now%20(1979)                                                                            |[0, 0, 0, 0, 0, 0, 0, 0, 1, 0, 0, 0, 0, 0, 0, 0, 0, 1, 0]|Apocalypse Now (1979)                                                            |\n",
      "|14-Mar-1997|181 |http://us.imdb.com/M/title-exact?Return%20of%20the%20Jedi%20(1983)                                                                    |[0, 1, 1, 0, 0, 0, 0, 0, 0, 0, 0, 0, 0, 0, 1, 1, 0, 1, 0]|Return of the Jedi (1983)                                                        |\n",
      "|01-Jan-1990|182 |http://us.imdb.com/M/title-exact?GoodFellas%20(1990)                                                                                  |[0, 0, 0, 0, 0, 0, 1, 0, 1, 0, 0, 0, 0, 0, 0, 0, 0, 0, 0]|GoodFellas (1990)                                                                |\n",
      "|01-Jan-1979|183 |http://us.imdb.com/M/title-exact?Alien%20(1979)                                                                                       |[0, 1, 0, 0, 0, 0, 0, 0, 0, 0, 0, 1, 0, 0, 0, 1, 1, 0, 0]|Alien (1979)                                                                     |\n",
      "|01-Jan-1993|184 |http://us.imdb.com/M/title-exact?Army%20of%20Darkness%20(1993)                                                                        |[0, 1, 1, 0, 0, 1, 0, 0, 0, 0, 0, 1, 0, 0, 0, 1, 0, 0, 0]|Army of Darkness (1993)                                                          |\n",
      "|01-Jan-1960|185 |http://us.imdb.com/M/title-exact?Psycho%20(1960)                                                                                      |[0, 0, 0, 0, 0, 0, 0, 0, 0, 0, 0, 1, 0, 0, 1, 0, 1, 0, 0]|Psycho (1960)                                                                    |\n",
      "|01-Jan-1980|186 |http://us.imdb.com/M/title-exact?Blues%20Brothers,%20The%20(1980)                                                                     |[0, 1, 0, 0, 0, 1, 0, 0, 0, 0, 0, 0, 1, 0, 0, 0, 0, 0, 0]|Blues Brothers, The (1980)                                                       |\n",
      "|01-Jan-1974|187 |http://us.imdb.com/M/title-exact?Godfather:%20Part%20II,%20The%20(1974)                                                               |[0, 1, 0, 0, 0, 0, 1, 0, 1, 0, 0, 0, 0, 0, 0, 0, 0, 0, 0]|Godfather: Part II, The (1974)                                                   |\n",
      "|01-Jan-1987|188 |http://us.imdb.com/M/title-exact?Full%20Metal%20Jacket%20(1987)                                                                       |[0, 1, 0, 0, 0, 0, 0, 0, 1, 0, 0, 0, 0, 0, 0, 0, 0, 1, 0]|Full Metal Jacket (1987)                                                         |\n",
      "|01-Jan-1992|189 |http://us.imdb.com/M/title-exact?Grand%20Day%20Out,%20A%20(1992)                                                                      |[0, 0, 0, 1, 0, 1, 0, 0, 0, 0, 0, 0, 0, 0, 0, 0, 0, 0, 0]|Grand Day Out, A (1992)                                                          |\n",
      "|01-Jan-1989|190 |http://us.imdb.com/M/title-exact?Henry%20V%20(1989)                                                                                   |[0, 0, 0, 0, 0, 0, 0, 0, 1, 0, 0, 0, 0, 0, 0, 0, 0, 1, 0]|Henry V (1989)                                                                   |\n",
      "|01-Jan-1984|191 |http://us.imdb.com/M/title-exact?Amadeus%20(1984)                                                                                     |[0, 0, 0, 0, 0, 0, 0, 0, 1, 0, 0, 0, 0, 1, 0, 0, 0, 0, 0]|Amadeus (1984)                                                                   |\n",
      "|01-Jan-1980|192 |http://us.imdb.com/M/title-exact?Raging%20Bull%20(1980)                                                                               |[0, 0, 0, 0, 0, 0, 0, 0, 1, 0, 0, 0, 0, 0, 0, 0, 0, 0, 0]|Raging Bull (1980)                                                               |\n",
      "|01-Jan-1983|193 |http://us.imdb.com/M/title-exact?Right%20Stuff,%20The%20(1983)                                                                        |[0, 0, 0, 0, 0, 0, 0, 0, 1, 0, 0, 0, 0, 0, 0, 0, 0, 0, 0]|Right Stuff, The (1983)                                                          |\n",
      "|01-Jan-1973|194 |http://us.imdb.com/M/title-exact?Sting,%20The%20(1973)                                                                                |[0, 0, 0, 0, 0, 1, 1, 0, 0, 0, 0, 0, 0, 0, 0, 0, 0, 0, 0]|Sting, The (1973)                                                                |\n",
      "|01-Jan-1984|195 |http://us.imdb.com/M/title-exact?Terminator,%20The%20(1984)                                                                           |[0, 1, 0, 0, 0, 0, 0, 0, 0, 0, 0, 0, 0, 0, 0, 1, 1, 0, 0]|Terminator, The (1984)                                                           |\n",
      "|01-Jan-1989|196 |http://us.imdb.com/M/title-exact?Dead%20Poets%20Society%20(1989)                                                                      |[0, 0, 0, 0, 0, 0, 0, 0, 1, 0, 0, 0, 0, 0, 0, 0, 0, 0, 0]|Dead Poets Society (1989)                                                        |\n",
      "|01-Jan-1967|197 |http://us.imdb.com/M/title-exact?Graduate,%20The%20(1967)                                                                             |[0, 0, 0, 0, 0, 0, 0, 0, 1, 0, 0, 0, 0, 0, 1, 0, 0, 0, 0]|Graduate, The (1967)                                                             |\n",
      "|01-Jan-1990|198 |http://us.imdb.com/M/title-exact?Nikita%20(1990)                                                                                      |[0, 0, 0, 0, 0, 0, 0, 0, 0, 0, 0, 0, 0, 0, 0, 0, 1, 0, 0]|Nikita (La Femme Nikita) (1990)                                                  |\n",
      "|01-Jan-1957|199 |http://us.imdb.com/M/title-exact?Bridge%20on%20the%20River%20Kwai,%20The%20(1957)                                                     |[0, 0, 0, 0, 0, 0, 0, 0, 1, 0, 0, 0, 0, 0, 0, 0, 0, 1, 0]|Bridge on the River Kwai, The (1957)                                             |\n",
      "|01-Jan-1980|200 |http://us.imdb.com/M/title-exact?Shining,%20The%20(1980)                                                                              |[0, 0, 0, 0, 0, 0, 0, 0, 0, 0, 0, 1, 0, 0, 0, 0, 0, 0, 0]|Shining, The (1980)                                                              |\n",
      "|01-Jan-1987|201 |http://us.imdb.com/M/title-exact?Evil%20Dead%20II%20(1987)                                                                            |[0, 1, 1, 0, 0, 1, 0, 0, 0, 0, 0, 1, 0, 0, 0, 0, 0, 0, 0]|Evil Dead II (1987)                                                              |\n",
      "|01-Jan-1993|202 |http://us.imdb.com/M/title-exact?Groundhog%20Day%20(1993)                                                                             |[0, 0, 0, 0, 0, 1, 0, 0, 0, 0, 0, 0, 0, 0, 1, 0, 0, 0, 0]|Groundhog Day (1993)                                                             |\n",
      "|01-Jan-1992|203 |http://us.imdb.com/M/title-exact?Unforgiven%20(1992)                                                                                  |[0, 0, 0, 0, 0, 0, 0, 0, 0, 0, 0, 0, 0, 0, 0, 0, 0, 0, 1]|Unforgiven (1992)                                                                |\n",
      "|01-Jan-1985|204 |http://us.imdb.com/M/title-exact?Back%20to%20the%20Future%20(1985)                                                                    |[0, 0, 0, 0, 0, 1, 0, 0, 0, 0, 0, 0, 0, 0, 0, 1, 0, 0, 0]|Back to the Future (1985)                                                        |\n",
      "|01-Jan-1970|205 |http://us.imdb.com/M/title-exact?Patton%20(1970)                                                                                      |[0, 0, 0, 0, 0, 0, 0, 0, 1, 0, 0, 0, 0, 0, 0, 0, 0, 1, 0]|Patton (1970)                                                                    |\n",
      "|01-Jan-1988|206 |http://us.imdb.com/M/title-exact?Akira%20(1988)                                                                                       |[0, 0, 1, 1, 0, 0, 0, 0, 0, 0, 0, 0, 0, 0, 0, 1, 1, 0, 0]|Akira (1988)                                                                     |\n",
      "|01-Jan-1990|207 |http://us.imdb.com/M/title-exact?Cyrano%20de%20Bergerac%20(1990)                                                                      |[0, 1, 0, 0, 0, 0, 0, 0, 1, 0, 0, 0, 0, 0, 1, 0, 0, 0, 0]|Cyrano de Bergerac (1990)                                                        |\n",
      "|01-Jan-1974|208 |http://us.imdb.com/M/title-exact?Young%20Frankenstein%20(1974)                                                                        |[0, 0, 0, 0, 0, 1, 0, 0, 0, 0, 0, 1, 0, 0, 0, 0, 0, 0, 0]|Young Frankenstein (1974)                                                        |\n",
      "|01-Jan-1984|209 |http://us.imdb.com/M/title-exact?This%20Is%20Spinal%20Tap%20(1984)                                                                    |[0, 0, 0, 0, 0, 1, 0, 0, 1, 0, 0, 0, 1, 0, 0, 0, 0, 0, 0]|This Is Spinal Tap (1984)                                                        |\n",
      "|01-Jan-1989|210 |http://us.imdb.com/M/title-exact?Indiana%20Jones%20and%20the%20Last%20Crusade%20(1989)                                                |[0, 1, 1, 0, 0, 0, 0, 0, 0, 0, 0, 0, 0, 0, 0, 0, 0, 0, 0]|Indiana Jones and the Last Crusade (1989)                                        |\n",
      "|01-Jan-1970|211 |http://us.imdb.com/M/title-exact?MASH%20(1970)                                                                                        |[0, 0, 0, 0, 0, 1, 0, 0, 0, 0, 0, 0, 0, 0, 0, 0, 0, 1, 0]|M*A*S*H (1970)                                                                   |\n",
      "|01-Jan-1988|212 |http://us.imdb.com/M/title-exact?Unbearable%20Lightness%20of%20Being,%20The%20(1988)                                                  |[0, 0, 0, 0, 0, 0, 0, 0, 1, 0, 0, 0, 0, 0, 0, 0, 0, 0, 0]|Unbearable Lightness of Being, The (1988)                                        |\n",
      "|01-Jan-1986|213 |http://us.imdb.com/M/title-exact?Room%20with%20a%20View,%20A%20(1986)                                                                 |[0, 0, 0, 0, 0, 0, 0, 0, 1, 0, 0, 0, 0, 0, 1, 0, 0, 0, 0]|Room with a View, A (1986)                                                       |\n",
      "|01-Jan-1982|214 |http://us.imdb.com/M/title-exact?Pink%20Floyd%20-%20The%20Wall%20(1982)                                                               |[0, 0, 0, 0, 0, 0, 0, 0, 1, 0, 0, 0, 1, 0, 0, 0, 0, 1, 0]|Pink Floyd - The Wall (1982)                                                     |\n",
      "|01-Jan-1989|215 |http://us.imdb.com/M/title-exact?Field%20of%20Dreams%20(1989)                                                                         |[0, 0, 0, 0, 0, 0, 0, 0, 1, 0, 0, 0, 0, 0, 0, 0, 0, 0, 0]|Field of Dreams (1989)                                                           |\n",
      "|01-Jan-1989|216 |http://us.imdb.com/M/title-exact?When%20Harry%20Met%20Sally...%20(1989)                                                               |[0, 0, 0, 0, 0, 1, 0, 0, 0, 0, 0, 0, 0, 0, 1, 0, 0, 0, 0]|When Harry Met Sally... (1989)                                                   |\n",
      "|01-Jan-1992|217 |http://us.imdb.com/M/title-exact?Bram%20Stoker's%20Dracula%20(1992)                                                                   |[0, 0, 0, 0, 0, 0, 0, 0, 0, 0, 0, 1, 0, 0, 1, 0, 0, 0, 0]|Bram Stoker's Dracula (1992)                                                     |\n",
      "|01-Jan-1991|218 |http://us.imdb.com/M/title-exact?Cape%20Fear%20(1991)                                                                                 |[0, 0, 0, 0, 0, 0, 0, 0, 0, 0, 0, 0, 0, 0, 0, 0, 1, 0, 0]|Cape Fear (1991)                                                                 |\n",
      "|01-Jan-1984|219 |http://us.imdb.com/M/title-exact?Nightmare%20on%20Elm%20Street,%20A%20(1984)                                                          |[0, 0, 0, 0, 0, 0, 0, 0, 0, 0, 0, 1, 0, 0, 0, 0, 0, 0, 0]|Nightmare on Elm Street, A (1984)                                                |\n",
      "|15-Nov-1996|220 |http://us.imdb.com/M/title-exact?Mirror%20Has%20Two%20Faces,%20The%20(1996)                                                           |[0, 0, 0, 0, 0, 1, 0, 0, 0, 0, 0, 0, 0, 0, 1, 0, 0, 0, 0]|Mirror Has Two Faces, The (1996)                                                 |\n",
      "|15-Nov-1996|221 |http://us.imdb.com/M/title-exact?Breaking%20the%20Waves%20(1996)                                                                      |[0, 0, 0, 0, 0, 0, 0, 0, 1, 0, 0, 0, 0, 0, 0, 0, 0, 0, 0]|Breaking the Waves (1996)                                                        |\n",
      "|22-Nov-1996|222 |http://us.imdb.com/M/title-exact?Star%20Trek:%20First%20Contact%20(1996)                                                              |[0, 1, 1, 0, 0, 0, 0, 0, 0, 0, 0, 0, 0, 0, 0, 1, 0, 0, 0]|Star Trek: First Contact (1996)                                                  |\n",
      "|22-Nov-1996|223 |http://us.imdb.com/M/title-exact?Sling%20Blade%20(1996)                                                                               |[0, 0, 0, 0, 0, 0, 0, 0, 1, 0, 0, 0, 0, 0, 0, 0, 1, 0, 0]|Sling Blade (1996)                                                               |\n",
      "|27-Nov-1996|224 |http://us.imdb.com/M/title-exact?Ridicule%20(1996)                                                                                    |[0, 0, 0, 0, 0, 0, 0, 0, 1, 0, 0, 0, 0, 0, 0, 0, 0, 0, 0]|Ridicule (1996)                                                                  |\n",
      "|27-Nov-1996|225 |http://us.imdb.com/M/title-exact?101%20Dalmatians%20(1996)                                                                            |[0, 0, 0, 0, 1, 1, 0, 0, 0, 0, 0, 0, 0, 0, 0, 0, 0, 0, 0]|101 Dalmatians (1996)                                                            |\n",
      "|01-Jan-1990|226 |http://us.imdb.com/M/title-exact?Die%20Hard%202%20(1990)                                                                              |[0, 1, 0, 0, 0, 0, 0, 0, 0, 0, 0, 0, 0, 0, 0, 0, 1, 0, 0]|Die Hard 2 (1990)                                                                |\n",
      "|01-Jan-1991|227 |http://us.imdb.com/M/title-exact?Star%20Trek%20VI:%20The%20Undiscovered%20Country%20(1991)                                            |[0, 1, 1, 0, 0, 0, 0, 0, 0, 0, 0, 0, 0, 0, 0, 1, 0, 0, 0]|Star Trek VI: The Undiscovered Country (1991)                                    |\n",
      "|01-Jan-1982|228 |http://us.imdb.com/M/title-exact?Star%20Trek:%20The%20Wrath%20of%20Khan%20(1982)                                                      |[0, 1, 1, 0, 0, 0, 0, 0, 0, 0, 0, 0, 0, 0, 0, 1, 0, 0, 0]|Star Trek: The Wrath of Khan (1982)                                              |\n",
      "|01-Jan-1984|229 |http://us.imdb.com/M/title-exact?Star%20Trek%20III:%20The%20Search%20for%20Spock%20(1984)                                             |[0, 1, 1, 0, 0, 0, 0, 0, 0, 0, 0, 0, 0, 0, 0, 1, 0, 0, 0]|Star Trek III: The Search for Spock (1984)                                       |\n",
      "|01-Jan-1986|230 |http://us.imdb.com/M/title-exact?Star%20Trek%20IV:%20The%20Voyage%20Home%20(1986)                                                     |[0, 1, 1, 0, 0, 0, 0, 0, 0, 0, 0, 0, 0, 0, 0, 1, 0, 0, 0]|Star Trek IV: The Voyage Home (1986)                                             |\n",
      "|01-Jan-1992|231 |http://us.imdb.com/M/title-exact?Batman%20Returns%20(1992)                                                                            |[0, 1, 1, 0, 0, 1, 1, 0, 0, 0, 0, 0, 0, 0, 0, 0, 0, 0, 0]|Batman Returns (1992)                                                            |\n",
      "|01-Jan-1988|232 |http://us.imdb.com/M/title-exact?Young%20Guns%20(1988)                                                                                |[0, 1, 0, 0, 0, 1, 0, 0, 0, 0, 0, 0, 0, 0, 0, 0, 0, 0, 1]|Young Guns (1988)                                                                |\n",
      "|01-Jan-1992|233 |http://us.imdb.com/M/title-exact?Under%20Siege%20(1992)                                                                               |[0, 1, 0, 0, 0, 0, 0, 0, 0, 0, 0, 0, 0, 0, 0, 0, 0, 0, 0]|Under Siege (1992)                                                               |\n",
      "|01-Jan-1975|234 |http://us.imdb.com/M/title-exact?Jaws%20(1975)                                                                                        |[0, 1, 0, 0, 0, 0, 0, 0, 0, 0, 0, 1, 0, 0, 0, 0, 0, 0, 0]|Jaws (1975)                                                                      |\n",
      "|13-Dec-1996|235 |http://us.imdb.com/M/title-exact?Mars%20Attacks!%20(1996)                                                                             |[0, 1, 0, 0, 0, 1, 0, 0, 0, 0, 0, 0, 0, 0, 0, 1, 0, 1, 0]|Mars Attacks! (1996)                                                             |\n",
      "|13-Dec-1996|236 |http://us.imdb.com/M/title-exact?Citizen%20Ruth%20(1996)                                                                              |[0, 0, 0, 0, 0, 1, 0, 0, 1, 0, 0, 0, 0, 0, 0, 0, 0, 0, 0]|Citizen Ruth (1996)                                                              |\n",
      "|13-Dec-1996|237 |http://us.imdb.com/M/title-exact?Jerry%20Maguire%20(1996)                                                                             |[0, 0, 0, 0, 0, 0, 0, 0, 1, 0, 0, 0, 0, 0, 1, 0, 0, 0, 0]|Jerry Maguire (1996)                                                             |\n",
      "|01-Jan-1987|238 |http://us.imdb.com/M/title-exact?Raising%20Arizona%20(1987)                                                                           |[0, 0, 0, 0, 0, 1, 0, 0, 0, 0, 0, 0, 0, 0, 0, 0, 0, 0, 0]|Raising Arizona (1987)                                                           |\n",
      "|01-Jan-1992|239 |http://us.imdb.com/M/title-exact?Sneakers%20(1992)                                                                                    |[0, 0, 0, 0, 0, 0, 1, 0, 1, 0, 0, 0, 0, 0, 0, 1, 0, 0, 0]|Sneakers (1992)                                                                  |\n",
      "|20-Dec-1996|240 |http://us.imdb.com/M/title-exact?Beavis%20and%20Butt-head%20Do%20America%20(1996)                                                     |[0, 0, 0, 1, 0, 1, 0, 0, 0, 0, 0, 0, 0, 0, 0, 0, 0, 0, 0]|Beavis and Butt-head Do America (1996)                                           |\n",
      "|01-Jan-1992|241 |http://us.imdb.com/M/title-exact?Last%20of%20the%20Mohicans,%20The%20(1992)                                                           |[0, 1, 0, 0, 0, 0, 0, 0, 0, 0, 0, 0, 0, 0, 1, 0, 0, 1, 0]|Last of the Mohicans, The (1992)                                                 |\n",
      "|24-Jan-1997|242 |http://us.imdb.com/M/title-exact?Kolya%20(1996)                                                                                       |[0, 0, 0, 0, 0, 1, 0, 0, 0, 0, 0, 0, 0, 0, 0, 0, 0, 0, 0]|Kolya (1996)                                                                     |\n",
      "|07-Mar-1997|243 |http://us.imdb.com/M/title-exact?Jungle2Jungle%20(1997)                                                                               |[0, 0, 0, 0, 1, 1, 0, 0, 0, 0, 0, 0, 0, 0, 0, 0, 0, 0, 0]|Jungle2Jungle (1997)                                                             |\n",
      "|14-Mar-1997|244 |http://us.imdb.com/M/title-exact?Smilla%27s%20Sense%20of%20Snow%20(1997)                                                              |[0, 1, 0, 0, 0, 0, 0, 0, 1, 0, 0, 0, 0, 0, 0, 0, 1, 0, 0]|Smilla's Sense of Snow (1997)                                                    |\n",
      "|26-Mar-1997|245 |http://us.imdb.com/M/title-exact?Devil%27s%20Own%2C%20The%20(1997)                                                                    |[0, 1, 0, 0, 0, 0, 0, 0, 1, 0, 0, 0, 0, 0, 0, 0, 1, 1, 0]|Devil's Own, The (1997)                                                          |\n",
      "|01-Jan-1997|246 |http://us.imdb.com/M/title-exact?Chasing+Amy+(1997)                                                                                   |[0, 0, 0, 0, 0, 0, 0, 0, 1, 0, 0, 0, 0, 0, 1, 0, 0, 0, 0]|Chasing Amy (1997)                                                               |\n",
      "|28-Mar-1997|247 |http://us.imdb.com/M/title-exact?Turbo%3A%20A%20Power%20Rangers%20Movie%20%281997%29                                                  |[0, 1, 1, 0, 1, 0, 0, 0, 0, 0, 0, 0, 0, 0, 0, 0, 0, 0, 0]|Turbo: A Power Rangers Movie (1997)                                              |\n",
      "|11-Apr-1997|248 |http://us.imdb.com/M/title-exact?Grosse%20Pointe%20Blank%20%281997%29                                                                 |[0, 0, 0, 0, 0, 1, 1, 0, 0, 0, 0, 0, 0, 0, 0, 0, 0, 0, 0]|Grosse Pointe Blank (1997)                                                       |\n",
      "|02-May-1997|249 |http://us.imdb.com/M/title-exact?Austin%20Powers%3A%20International%20Man%20of%20Mystery%20%281997%29                                 |[0, 0, 0, 0, 0, 1, 0, 0, 0, 0, 0, 0, 0, 0, 0, 0, 0, 0, 0]|Austin Powers: International Man of Mystery (1997)                               |\n",
      "|09-May-1997|250 |http://us.imdb.com/M/title-exact?Fifth%20Element%2C%20The%20%281997%29                                                                |[0, 1, 0, 0, 0, 0, 0, 0, 0, 0, 0, 0, 0, 0, 0, 1, 0, 0, 0]|Fifth Element, The (1997)                                                        |\n",
      "|11-Jul-1997|251 |http://us.imdb.com/M/title-exact?Shall%20we%20DANSU%3F%20%281996%29                                                                   |[0, 0, 0, 0, 0, 1, 0, 0, 0, 0, 0, 0, 0, 0, 0, 0, 0, 0, 0]|Shall We Dance? (1996)                                                           |\n",
      "|23-May-1997|252 |http://us.imdb.com/M/title-exact?Lost%20World%3A%20Jurassic%20Park%2C%20The%20%281997%29                                              |[0, 1, 1, 0, 0, 0, 0, 0, 0, 0, 0, 0, 0, 0, 0, 1, 1, 0, 0]|Lost World: Jurassic Park, The (1997)                                            |\n",
      "|13-Jun-1997|253 |http://us.imdb.com/M/title-exact?Pillow%20Book%2C%20The%20%281995%29                                                                  |[0, 0, 0, 0, 0, 0, 0, 0, 1, 0, 0, 0, 0, 0, 1, 0, 0, 0, 0]|Pillow Book, The (1995)                                                          |\n",
      "|20-Jun-1997|254 |http://us.imdb.com/M/title-exact?Batman+%26+Robin+(1997)                                                                              |[0, 1, 1, 0, 0, 0, 1, 0, 0, 0, 0, 0, 0, 0, 0, 0, 0, 0, 0]|Batman & Robin (1997)                                                            |\n",
      "|20-Jun-1997|255 |http://us.imdb.com/M/title-exact?My+Best+Friend%27s+Wedding+(1997)                                                                    |[0, 0, 0, 0, 0, 1, 0, 0, 0, 0, 0, 0, 0, 0, 1, 0, 0, 0, 0]|My Best Friend's Wedding (1997)                                                  |\n",
      "|20-Jun-1997|256 |http://us.imdb.com/M/title-exact?Chacun+cherche+son+chat+(1996)                                                                       |[0, 0, 0, 0, 0, 1, 0, 0, 0, 0, 0, 0, 0, 0, 1, 0, 0, 0, 0]|When the Cats Away (Chacun cherche son chat) (1996)                              |\n",
      "|04-Jul-1997|257 |http://us.imdb.com/M/title-exact?Men+in+Black+(1997)                                                                                  |[0, 1, 1, 0, 0, 1, 0, 0, 0, 0, 0, 0, 0, 0, 0, 1, 0, 0, 0]|Men in Black (1997)                                                              |\n",
      "|11-Jul-1997|258 |http://us.imdb.com/Title?Contact+(1997/I)                                                                                             |[0, 0, 0, 0, 0, 0, 0, 0, 1, 0, 0, 0, 0, 0, 0, 1, 0, 0, 0]|Contact (1997)                                                                   |\n",
      "|01-Jan-1997|259 |http://us.imdb.com/M/title-exact?George+of+the+Jungle+(1997)                                                                          |[0, 0, 0, 0, 1, 1, 0, 0, 0, 0, 0, 0, 0, 0, 0, 0, 0, 0, 0]|George of the Jungle (1997)                                                      |\n",
      "|01-Jan-1997|260 |http://us.imdb.com/M/title-exact?Event+Horizon+(1997)                                                                                 |[0, 1, 0, 0, 0, 0, 0, 0, 0, 0, 0, 0, 0, 1, 0, 1, 1, 0, 0]|Event Horizon (1997)                                                             |\n",
      "|01-Aug-1997|261 |http://us.imdb.com/M/title-exact?Air+Bud+(1997)                                                                                       |[0, 0, 0, 0, 1, 1, 0, 0, 0, 0, 0, 0, 0, 0, 0, 0, 0, 0, 0]|Air Bud (1997)                                                                   |\n",
      "|01-Aug-1997|262 |http://us.imdb.com/M/title-exact?In+the+Company+of+Men+(1997)                                                                         |[0, 0, 0, 0, 0, 0, 0, 0, 1, 0, 0, 0, 0, 0, 0, 0, 0, 0, 0]|In the Company of Men (1997)                                                     |\n",
      "|15-Aug-1997|263 |http://us.imdb.com/M/title-exact?Steel+(1997)                                                                                         |[0, 1, 0, 0, 0, 0, 0, 0, 0, 0, 0, 0, 0, 0, 0, 0, 0, 0, 0]|Steel (1997)                                                                     |\n",
      "|22-Aug-1997|264 |http://us.imdb.com/M/title-exact?Mimic+(1997)                                                                                         |[0, 0, 0, 0, 0, 0, 0, 0, 0, 0, 0, 0, 0, 0, 0, 1, 1, 0, 0]|Mimic (1997)                                                                     |\n",
      "|01-Jan-1990|265 |http://us.imdb.com/M/title-exact?Hunt+for+Red+October%2C+The+(1990)                                                                   |[0, 1, 0, 0, 0, 0, 0, 0, 0, 0, 0, 0, 0, 0, 0, 0, 1, 0, 0]|Hunt for Red October, The (1990)                                                 |\n",
      "|29-Aug-1997|266 |http://us.imdb.com/M/title-exact?Kull+the+Conqueror+(1997)                                                                            |[0, 1, 1, 0, 0, 0, 0, 0, 0, 0, 0, 0, 0, 0, 0, 0, 0, 0, 0]|Kull the Conqueror (1997)                                                        |\n",
      "|           |267 |                                                                                                                                      |[1, 0, 0, 0, 0, 0, 0, 0, 0, 0, 0, 0, 0, 0, 0, 0, 0, 0, 0]|unknown                                                                          |\n",
      "|01-Jan-1997|268 |http://us.imdb.com/M/title-exact?Chasing+Amy+(1997)                                                                                   |[0, 0, 0, 0, 0, 0, 0, 0, 1, 0, 0, 0, 0, 0, 1, 0, 0, 0, 0]|Chasing Amy (1997)                                                               |\n",
      "|01-Jan-1997|269 |http://us.imdb.com/M/title-exact?Full+Monty%2C+The+(1997)                                                                             |[0, 0, 0, 0, 0, 1, 0, 0, 0, 0, 0, 0, 0, 0, 0, 0, 0, 0, 0]|Full Monty, The (1997)                                                           |\n",
      "|01-Jan-1997|270 |http://us.imdb.com/M/title-exact?Gattaca+(1997)                                                                                       |[0, 0, 0, 0, 0, 0, 0, 0, 1, 0, 0, 0, 0, 0, 0, 1, 1, 0, 0]|Gattaca (1997)                                                                   |\n",
      "|01-Jan-1997|271 |http://us.imdb.com/M/title-exact?Starship+Troopers+(1997)                                                                             |[0, 1, 1, 0, 0, 0, 0, 0, 0, 0, 0, 0, 0, 0, 0, 1, 0, 1, 0]|Starship Troopers (1997)                                                         |\n",
      "|01-Jan-1997|272 |http://us.imdb.com/M/title-exact?imdb-title-119217                                                                                    |[0, 0, 0, 0, 0, 0, 0, 0, 1, 0, 0, 0, 0, 0, 0, 0, 0, 0, 0]|Good Will Hunting (1997)                                                         |\n",
      "|01-Jan-1995|273 |http://us.imdb.com/M/title-exact?Heat%20(1995)                                                                                        |[0, 1, 0, 0, 0, 0, 1, 0, 0, 0, 0, 0, 0, 0, 0, 0, 1, 0, 0]|Heat (1995)                                                                      |\n",
      "|01-Jan-1995|274 |http://us.imdb.com/M/title-exact?Sabrina%20(1995)                                                                                     |[0, 0, 0, 0, 0, 1, 0, 0, 0, 0, 0, 0, 0, 0, 1, 0, 0, 0, 0]|Sabrina (1995)                                                                   |\n",
      "|01-Jan-1995|275 |http://us.imdb.com/M/title-exact?Sense%20and%20Sensibility%20(1995)                                                                   |[0, 0, 0, 0, 0, 0, 0, 0, 1, 0, 0, 0, 0, 0, 1, 0, 0, 0, 0]|Sense and Sensibility (1995)                                                     |\n",
      "|01-Jan-1995|276 |http://us.imdb.com/M/title-exact?Leaving%20Las%20Vegas%20(1995)                                                                       |[0, 0, 0, 0, 0, 0, 0, 0, 1, 0, 0, 0, 0, 0, 1, 0, 0, 0, 0]|Leaving Las Vegas (1995)                                                         |\n",
      "|01-Jan-1995|277 |http://us.imdb.com/M/title-exact?Restoration%20(1995)                                                                                 |[0, 0, 0, 0, 0, 0, 0, 0, 1, 0, 0, 0, 0, 0, 0, 0, 0, 0, 0]|Restoration (1995)                                                               |\n",
      "|01-Jan-1996|278 |http://us.imdb.com/M/title-exact?Bed%20of%20Roses%20(1996)                                                                            |[0, 0, 0, 0, 0, 0, 0, 0, 1, 0, 0, 0, 0, 0, 1, 0, 0, 0, 0]|Bed of Roses (1996)                                                              |\n",
      "|01-Jan-1995|279 |http://us.imdb.com/M/title-exact?Once%20Upon%20a%20Time... When%20We%20Were%20Colored%20(1995)                                        |[0, 0, 0, 0, 0, 0, 0, 0, 1, 0, 0, 0, 0, 0, 0, 0, 0, 0, 0]|Once Upon a Time... When We Were Colored (1995)                                  |\n",
      "|01-Mar-1996|280 |http://us.imdb.com/M/title-exact?Up%20Close%20and%20Personal%20(1996)                                                                 |[0, 0, 0, 0, 0, 0, 0, 0, 1, 0, 0, 0, 0, 0, 1, 0, 0, 0, 0]|Up Close and Personal (1996)                                                     |\n",
      "|01-Jan-1994|281 |http://us.imdb.com/M/title-exact?River%20Wild,%20The%20(1994)                                                                         |[0, 1, 0, 0, 0, 0, 0, 0, 0, 0, 0, 0, 0, 0, 0, 0, 1, 0, 0]|River Wild, The (1994)                                                           |\n",
      "|13-Jul-1996|282 |http://us.imdb.com/M/title-exact?Time%20to%20Kill,%20A%20(1996)                                                                       |[0, 0, 0, 0, 0, 0, 0, 0, 1, 0, 0, 0, 0, 0, 0, 0, 0, 0, 0]|Time to Kill, A (1996)                                                           |\n",
      "|02-Aug-1996|283 |http://us.imdb.com/M/title-exact?Emma%20(1996)                                                                                        |[0, 0, 0, 0, 0, 0, 0, 0, 1, 0, 0, 0, 0, 0, 1, 0, 0, 0, 0]|Emma (1996)                                                                      |\n",
      "|16-Aug-1996|284 |http://us.imdb.com/M/title-exact?Tin%20Cup%20(1996)                                                                                   |[0, 0, 0, 0, 0, 1, 0, 0, 0, 0, 0, 0, 0, 0, 1, 0, 0, 0, 0]|Tin Cup (1996)                                                                   |\n",
      "|04-Oct-1996|285 |http://us.imdb.com/M/title-exact?Secrets%20&%20Lies%20(1996)                                                                          |[0, 0, 0, 0, 0, 0, 0, 0, 1, 0, 0, 0, 0, 0, 0, 0, 0, 0, 0]|Secrets & Lies (1996)                                                            |\n",
      "|15-Nov-1996|286 |http://us.imdb.com/M/title-exact?English%20Patient,%20The%20(1996)                                                                    |[0, 0, 0, 0, 0, 0, 0, 0, 1, 0, 0, 0, 0, 0, 1, 0, 0, 1, 0]|English Patient, The (1996)                                                      |\n",
      "|18-Dec-1996|287 |http://us.imdb.com/M/title-exact?Marvin's%20Room%20(1996)                                                                             |[0, 0, 0, 0, 0, 0, 0, 0, 1, 0, 0, 0, 0, 0, 0, 0, 0, 0, 0]|Marvin's Room (1996)                                                             |\n",
      "|20-Dec-1996|288 |http://us.imdb.com/M/title-exact?Scream%20(1996)                                                                                      |[0, 0, 0, 0, 0, 0, 0, 0, 0, 0, 0, 1, 0, 0, 0, 0, 1, 0, 0]|Scream (1996)                                                                    |\n",
      "|25-Dec-1996|289 |http://us.imdb.com/M/title-exact?Evita%20(1996)                                                                                       |[0, 0, 0, 0, 0, 0, 0, 0, 1, 0, 0, 0, 1, 0, 0, 0, 0, 0, 0]|Evita (1996)                                                                     |\n",
      "|10-Jan-1997|290 |http://us.imdb.com/M/title-exact?Fierce%20Creatures%20(1997)                                                                          |[0, 0, 0, 0, 0, 1, 0, 0, 0, 0, 0, 0, 0, 0, 0, 0, 0, 0, 0]|Fierce Creatures (1997)                                                          |\n",
      "|14-Feb-1997|291 |http://us.imdb.com/M/title-exact?Absolute%20Power%20(1997)                                                                            |[0, 0, 0, 0, 0, 0, 0, 0, 0, 0, 0, 0, 0, 1, 0, 0, 1, 0, 0]|Absolute Power (1997)                                                            |\n",
      "|21-Feb-1997|292 |http://us.imdb.com/M/title-exact?Rosewood%20(1997)                                                                                    |[0, 0, 0, 0, 0, 0, 0, 0, 1, 0, 0, 0, 0, 0, 0, 0, 0, 0, 0]|Rosewood (1997)                                                                  |\n",
      "|28-Feb-1997|293 |http://us.imdb.com/M/title-exact?Donnie%20Brasco%20(1997)                                                                             |[0, 0, 0, 0, 0, 0, 1, 0, 1, 0, 0, 0, 0, 0, 0, 0, 0, 0, 0]|Donnie Brasco (1997)                                                             |\n",
      "|21-Mar-1997|294 |http://us.imdb.com/Title?Liar+Liar+(1997)                                                                                             |[0, 0, 0, 0, 0, 1, 0, 0, 0, 0, 0, 0, 0, 0, 0, 0, 0, 0, 0]|Liar Liar (1997)                                                                 |\n",
      "|02-May-1997|295 |http://us.imdb.com/M/title-exact?Breakdown%20%281997%29                                                                               |[0, 1, 0, 0, 0, 0, 0, 0, 0, 0, 0, 0, 0, 0, 0, 0, 1, 0, 0]|Breakdown (1997)                                                                 |\n",
      "|16-May-1997|296 |http://us.imdb.com/M/title-exact?Promesse%2C%20La%20%281996%29                                                                        |[0, 0, 0, 0, 0, 0, 0, 0, 1, 0, 0, 0, 0, 0, 0, 0, 0, 0, 0]|Promesse, La (1996)                                                              |\n",
      "|01-Jan-1997|297 |http://us.imdb.com/M/title-exact?Ulee%27s+Gold+(1997)                                                                                 |[0, 0, 0, 0, 0, 0, 0, 0, 1, 0, 0, 0, 0, 0, 0, 0, 0, 0, 0]|Ulee's Gold (1997)                                                               |\n",
      "|27-Jun-1997|298 |http://us.imdb.com/M/title-exact?Face/Off+(1997)                                                                                      |[0, 1, 0, 0, 0, 0, 0, 0, 0, 0, 0, 0, 0, 0, 0, 1, 1, 0, 0]|Face/Off (1997)                                                                  |\n",
      "|22-Aug-1997|299 |http://us.imdb.com/M/title-exact?Hoodlum+(1997)                                                                                       |[0, 0, 0, 0, 0, 0, 1, 0, 1, 0, 1, 0, 0, 0, 0, 0, 0, 0, 0]|Hoodlum (1997)                                                                   |\n",
      "|01-Jan-1997|300 |http://us.imdb.com/M/title-exact?Air+Force+One+(1997)                                                                                 |[0, 1, 0, 0, 0, 0, 0, 0, 0, 0, 0, 0, 0, 0, 0, 0, 1, 0, 0]|Air Force One (1997)                                                             |\n",
      "|19-Sep-1997|301 |http://us.imdb.com/Title?In+%26+Out+(1997)                                                                                            |[0, 0, 0, 0, 0, 1, 0, 0, 0, 0, 0, 0, 0, 0, 0, 0, 0, 0, 0]|In & Out (1997)                                                                  |\n",
      "|01-Jan-1997|302 |http://us.imdb.com/M/title-exact?L%2EA%2E+Confidential+(1997)                                                                         |[0, 0, 0, 0, 0, 0, 1, 0, 0, 0, 1, 0, 0, 1, 0, 0, 1, 0, 0]|L.A. Confidential (1997)                                                         |\n",
      "|01-Jan-1997|303 |http://us.imdb.com/M/title-exact?Ulee%27s+Gold+(1997)                                                                                 |[0, 0, 0, 0, 0, 0, 0, 0, 1, 0, 0, 0, 0, 0, 0, 0, 0, 0, 0]|Ulee's Gold (1997)                                                               |\n",
      "|13-Sep-1996|304 |http://us.imdb.com/M/title-exact?Fly%20Away%20Home%20(1996)                                                                           |[0, 0, 1, 0, 1, 0, 0, 0, 0, 0, 0, 0, 0, 0, 0, 0, 0, 0, 0]|Fly Away Home (1996)                                                             |\n",
      "|01-Jan-1997|305 |http://us.imdb.com/M/title-exact?Ice+Storm%2C+The+(1997)                                                                              |[0, 0, 0, 0, 0, 0, 0, 0, 1, 0, 0, 0, 0, 0, 0, 0, 0, 0, 0]|Ice Storm, The (1997)                                                            |\n",
      "|01-Jan-1997|306 |http://us.imdb.com/M/title-exact?Her+Majesty%2C+Mrs%2E+Brown+(1997)                                                                   |[0, 0, 0, 0, 0, 0, 0, 0, 1, 0, 0, 0, 0, 0, 1, 0, 0, 0, 0]|Mrs. Brown (Her Majesty, Mrs. Brown) (1997)                                      |\n",
      "|01-Jan-1997|307 |http://us.imdb.com/M/title-exact?Devil's+Advocate,+The+(1997)                                                                         |[0, 0, 0, 0, 0, 0, 1, 0, 0, 0, 0, 1, 0, 1, 0, 0, 1, 0, 0]|Devil's Advocate, The (1997)                                                     |\n",
      "|01-Jan-1997|308 |http://us.imdb.com/M/title-exact?Fairytale:+A+True+Story+(1997)                                                                       |[0, 0, 0, 0, 1, 0, 0, 0, 1, 1, 0, 0, 0, 0, 0, 0, 0, 0, 0]|FairyTale: A True Story (1997)                                                   |\n",
      "|01-Jan-1997|309 |http://us.imdb.com/M/title-exact?Liar+(1997)                                                                                          |[0, 0, 0, 0, 0, 0, 1, 0, 0, 0, 0, 0, 0, 0, 0, 0, 0, 0, 0]|Deceiver (1997)                                                                  |\n",
      "|01-Jan-1997|310 |http://us.imdb.com/M/title-exact?Rainmaker,+The+(1997)                                                                                |[0, 0, 0, 0, 0, 0, 0, 0, 1, 0, 0, 0, 0, 0, 0, 0, 0, 0, 0]|Rainmaker, The (1997)                                                            |\n",
      "|01-Jan-1997|311 |http://us.imdb.com/M/title-exact?Wings+of+the+Dove%2C+The+(1997)                                                                      |[0, 0, 0, 0, 0, 0, 0, 0, 1, 0, 0, 0, 0, 0, 1, 0, 1, 0, 0]|Wings of the Dove, The (1997)                                                    |\n",
      "|01-Jan-1997|312 |http://us.imdb.com/M/title-exact?Midnight+in+the+Garden+of+Good+and+Evil+(1997)                                                       |[0, 0, 0, 0, 0, 1, 1, 0, 1, 0, 0, 0, 0, 1, 0, 0, 0, 0, 0]|Midnight in the Garden of Good and Evil (1997)                                   |\n",
      "|01-Jan-1997|313 |http://us.imdb.com/M/title-exact?imdb-title-120338                                                                                    |[0, 1, 0, 0, 0, 0, 0, 0, 1, 0, 0, 0, 0, 0, 1, 0, 0, 0, 0]|Titanic (1997)                                                                   |\n",
      "|01-Jan-1997|314 |http://us.imdb.com/M/title-exact?imdb-title-118539                                                                                    |[0, 1, 0, 0, 1, 0, 0, 0, 0, 0, 0, 0, 0, 0, 0, 0, 0, 0, 0]|3 Ninjas: High Noon At Mega Mountain (1998)                                      |\n",
      "|23-Oct-1998|315 |http://us.imdb.com/Title?Apt+Pupil+(1998)                                                                                             |[0, 0, 0, 0, 0, 0, 0, 0, 1, 0, 0, 0, 0, 0, 0, 0, 1, 0, 0]|Apt Pupil (1998)                                                                 |\n",
      "|23-Dec-1997|316 |http://us.imdb.com/Title?As+Good+As+It+Gets+(1997)                                                                                    |[0, 0, 0, 0, 0, 1, 0, 0, 1, 0, 0, 0, 0, 0, 0, 0, 0, 0, 0]|As Good As It Gets (1997)                                                        |\n",
      "|01-Jan-1993|317 |http://us.imdb.com/M/title-exact?In%20the%20Name%20of%20the%20Father%20(1993)                                                         |[0, 0, 0, 0, 0, 0, 0, 0, 1, 0, 0, 0, 0, 0, 0, 0, 0, 0, 0]|In the Name of the Father (1993)                                                 |\n",
      "|01-Jan-1993|318 |http://us.imdb.com/M/title-exact?Schindler's%20List%20(1993)                                                                          |[0, 0, 0, 0, 0, 0, 0, 0, 1, 0, 0, 0, 0, 0, 0, 0, 0, 1, 0]|Schindler's List (1993)                                                          |\n",
      "|06-Dec-1996|319 |http://us.imdb.com/M/title-exact?Everyone%20Says%20I%20Love%20You%20(1996)                                                            |[0, 0, 0, 0, 0, 1, 0, 0, 0, 0, 0, 0, 1, 0, 1, 0, 0, 0, 0]|Everyone Says I Love You (1996)                                                  |\n",
      "|06-Dec-1996|320 |http://us.imdb.com/M/title-exact?Paradise%20Lost%3a%20The%20Child%20Murders%20at%20Robin%20Hood%20Hills%20(1996)                      |[0, 0, 0, 0, 0, 0, 0, 1, 0, 0, 0, 0, 0, 0, 0, 0, 0, 0, 0]|Paradise Lost: The Child Murders at Robin Hood Hills (1996)                      |\n",
      "|25-Dec-1996|321 |http://us.imdb.com/M/title-exact?Mother%20(1996/I)                                                                                    |[0, 0, 0, 0, 0, 1, 0, 0, 0, 0, 0, 0, 0, 0, 0, 0, 0, 0, 0]|Mother (1996)                                                                    |\n",
      "|18-Apr-1997|322 |http://us.imdb.com/M/title-exact?Murder%20at%201600%20(1997)                                                                          |[0, 0, 0, 0, 0, 0, 0, 0, 0, 0, 0, 0, 0, 1, 0, 0, 1, 0, 0]|Murder at 1600 (1997)                                                            |\n",
      "|07-Feb-1997|323 |http://us.imdb.com/M/title-exact?Dante's%20Peak%20(1997)                                                                              |[0, 1, 0, 0, 0, 0, 0, 0, 0, 0, 0, 0, 0, 0, 0, 0, 1, 0, 0]|Dante's Peak (1997)                                                              |\n",
      "|21-Feb-1997|324 |http://us.imdb.com/Title?Lost+Highway+(1997)                                                                                          |[0, 0, 0, 0, 0, 0, 0, 0, 0, 0, 0, 0, 0, 1, 0, 0, 0, 0, 0]|Lost Highway (1997)                                                              |\n",
      "|21-Mar-1997|325 |http://us.imdb.com/M/title-exact?Crash%20(1996)                                                                                       |[0, 0, 0, 0, 0, 0, 0, 0, 1, 0, 0, 0, 0, 0, 0, 0, 1, 0, 0]|Crash (1996)                                                                     |\n",
      "|01-Jan-1997|326 |http://us.imdb.com/M/title-exact?G%2EI%2E+Jane+(1997)                                                                                 |[0, 1, 0, 0, 0, 0, 0, 0, 1, 0, 0, 0, 0, 0, 0, 0, 0, 1, 0]|G.I. Jane (1997)                                                                 |\n",
      "|01-Jan-1997|327 |http://us.imdb.com/M/title-exact?Cop+Land+(1997)                                                                                      |[0, 0, 0, 0, 0, 0, 1, 0, 1, 0, 0, 0, 0, 1, 0, 0, 0, 0, 0]|Cop Land (1997)                                                                  |\n",
      "|08-Aug-1997|328 |http://us.imdb.com/M/title-exact?Conspiracy+Theory+(1997)                                                                             |[0, 1, 0, 0, 0, 0, 0, 0, 0, 0, 0, 0, 0, 1, 1, 0, 1, 0, 0]|Conspiracy Theory (1997)                                                         |\n",
      "|30-Jan-1998|329 |http://us.imdb.com/Title?Desperate+Measures+(1998)                                                                                    |[0, 0, 0, 0, 0, 0, 1, 0, 1, 0, 0, 0, 0, 0, 0, 0, 1, 0, 0]|Desperate Measures (1998)                                                        |\n",
      "|01-Jan-1997|330 |http://us.imdb.com/M/title-exact?187+(1997)                                                                                           |[0, 0, 0, 0, 0, 0, 0, 0, 1, 0, 0, 0, 0, 0, 0, 0, 0, 0, 0]|187 (1997)                                                                       |\n",
      "|26-Sep-1997|331 |http://us.imdb.com/M/title-exact?Edge%2C+The+(1997/I)                                                                                 |[0, 0, 1, 0, 0, 0, 0, 0, 0, 0, 0, 0, 0, 0, 0, 0, 1, 0, 0]|Edge, The (1997)                                                                 |\n",
      "|01-Jan-1997|332 |http://us.imdb.com/M/title-exact?Kiss+the+Girls+(1997)                                                                                |[0, 0, 0, 0, 0, 0, 1, 0, 1, 0, 0, 0, 0, 0, 0, 0, 1, 0, 0]|Kiss the Girls (1997)                                                            |\n",
      "|01-Jan-1997|333 |http://us.imdb.com/M/title-exact?Game%2C+The+(1997)                                                                                   |[0, 0, 0, 0, 0, 0, 0, 0, 0, 0, 0, 0, 0, 1, 0, 0, 1, 0, 0]|Game, The (1997)                                                                 |\n",
      "|01-Jan-1997|334 |http://us.imdb.com/Title?U+Turn+(1997)                                                                                                |[0, 1, 0, 0, 0, 0, 1, 0, 0, 0, 0, 0, 0, 1, 0, 0, 0, 0, 0]|U Turn (1997)                                                                    |\n",
      "|01-Jan-1997|335 |http://us.imdb.com/M/title-exact?How+to+Be+a+Player+(1997)                                                                            |[0, 0, 0, 0, 0, 1, 0, 0, 0, 0, 0, 0, 0, 0, 0, 0, 0, 0, 0]|How to Be a Player (1997)                                                        |\n",
      "|01-Jan-1997|336 |http://us.imdb.com/M/title-exact?Playing+God+(1997)                                                                                   |[0, 0, 0, 0, 0, 0, 1, 0, 0, 0, 0, 0, 0, 0, 0, 0, 1, 0, 0]|Playing God (1997)                                                               |\n",
      "|01-Jan-1997|337 |http://us.imdb.com/M/title-exact?House+of+Yes,+The+(1997)                                                                             |[0, 0, 0, 0, 0, 1, 0, 0, 1, 0, 0, 0, 0, 0, 0, 0, 1, 0, 0]|House of Yes, The (1997)                                                         |\n",
      "|01-Jan-1997|338 |http://us.imdb.com/M/title-exact?Bean+(1997)                                                                                          |[0, 0, 0, 0, 0, 1, 0, 0, 0, 0, 0, 0, 0, 0, 0, 0, 0, 0, 0]|Bean (1997)                                                                      |\n",
      "|01-Jan-1997|339 |http://us.imdb.com/M/title-exact?Mad+City+(1997)                                                                                      |[0, 1, 0, 0, 0, 0, 0, 0, 1, 0, 0, 0, 0, 0, 0, 0, 0, 0, 0]|Mad City (1997)                                                                  |\n",
      "|01-Jan-1997|340 |http://us.imdb.com/M/title-exact?Boogie+Nights+(1997)                                                                                 |[0, 0, 0, 0, 0, 0, 0, 0, 1, 0, 0, 0, 0, 0, 0, 0, 0, 0, 0]|Boogie Nights (1997)                                                             |\n",
      "|01-Jan-1997|341 |http://us.imdb.com/M/title-exact?Critical+Care+(1997)                                                                                 |[0, 0, 0, 0, 0, 1, 0, 0, 0, 0, 0, 0, 0, 0, 0, 0, 0, 0, 0]|Critical Care (1997)                                                             |\n",
      "|01-Jan-1997|342 |http://us.imdb.com/M/title-exact?Man+Who+Knew+Too+Little%2C+The+(1997)                                                                |[0, 0, 0, 0, 0, 1, 0, 0, 0, 0, 0, 0, 0, 1, 0, 0, 0, 0, 0]|Man Who Knew Too Little, The (1997)                                              |\n",
      "|01-Jan-1997|343 |http://us.imdb.com/M/title-exact?Alien%3A+Resurrection+(1997)                                                                         |[0, 1, 0, 0, 0, 0, 0, 0, 0, 0, 0, 1, 0, 0, 0, 1, 0, 0, 0]|Alien: Resurrection (1997)                                                       |\n",
      "|18-Dec-1997|344 |http://us.imdb.com/M/title-exact?imdb-title-118632                                                                                    |[0, 0, 0, 0, 0, 0, 0, 0, 1, 0, 0, 0, 0, 0, 0, 0, 0, 0, 0]|Apostle, The (1997)                                                              |\n",
      "|01-Jan-1997|345 |http://us.imdb.com/M/title-exact?imdb-title-118954                                                                                    |[0, 0, 0, 0, 0, 1, 0, 0, 1, 0, 0, 0, 0, 0, 0, 0, 0, 0, 0]|Deconstructing Harry (1997)                                                      |\n",
      "|01-Jan-1997|346 |http://us.imdb.com/M/title-exact?imdb-title-119396                                                                                    |[0, 0, 0, 0, 0, 0, 1, 0, 1, 0, 0, 0, 0, 0, 0, 0, 0, 0, 0]|Jackie Brown (1997)                                                              |\n",
      "|09-Jan-1998|347 |http://us.imdb.com/M/title-exact?imdb-title-120885                                                                                    |[0, 0, 0, 0, 0, 1, 0, 0, 1, 0, 0, 0, 0, 0, 0, 0, 0, 0, 0]|Wag the Dog (1997)                                                               |\n",
      "|30-Jan-1998|348 |http://us.imdb.com/Title?Desperate+Measures+(1998)                                                                                    |[0, 0, 0, 0, 0, 0, 1, 0, 1, 0, 0, 0, 0, 0, 0, 0, 1, 0, 0]|Desperate Measures (1998)                                                        |\n",
      "|16-Jan-1998|349 |http://us.imdb.com/M/title-exact?imdb-title-120696                                                                                    |[0, 1, 0, 0, 0, 0, 0, 0, 0, 0, 0, 0, 0, 0, 0, 0, 1, 0, 0]|Hard Rain (1998)                                                                 |\n",
      "|16-Jan-1998|350 |http://us.imdb.com/Title?Fallen+(1998)                                                                                                |[0, 1, 0, 0, 0, 0, 0, 0, 0, 0, 0, 0, 0, 1, 0, 0, 1, 0, 0]|Fallen (1998)                                                                    |\n",
      "|16-Jan-1998|351 |http://us.imdb.com/M/title-exact?imdb-title-119959                                                                                    |[0, 0, 0, 0, 0, 0, 0, 0, 0, 0, 0, 1, 0, 0, 0, 0, 0, 0, 0]|Prophecy II, The (1998)                                                          |\n",
      "|01-Jan-1997|352 |http://us.imdb.com/M/title-exact?imdb-title-120185                                                                                    |[0, 0, 0, 0, 0, 1, 0, 0, 0, 0, 0, 0, 1, 0, 0, 0, 0, 0, 0]|Spice World (1997)                                                               |\n",
      "|30-Jan-1998|353 |http://us.imdb.com/M/title-exact?imdb-title-118956                                                                                    |[0, 1, 0, 0, 0, 0, 0, 0, 0, 0, 0, 1, 0, 0, 0, 1, 0, 0, 0]|Deep Rising (1998)                                                               |\n",
      "|13-Feb-1998|354 |http://us.imdb.com/M/title-exact?Wedding+Singer%2C+The+(1998)                                                                         |[0, 0, 0, 0, 0, 1, 0, 0, 0, 0, 0, 0, 0, 0, 1, 0, 0, 0, 0]|Wedding Singer, The (1998)                                                       |\n",
      "|13-Feb-1998|355 |http://us.imdb.com/M/title-exact?Sphere+(1998)                                                                                        |[0, 0, 1, 0, 0, 0, 0, 0, 0, 0, 0, 0, 0, 0, 0, 1, 1, 0, 0]|Sphere (1998)                                                                    |\n",
      "|01-Jan-1994|356 |http://us.imdb.com/M/title-exact?Client,%20The%20(1994)                                                                               |[0, 0, 0, 0, 0, 0, 0, 0, 1, 0, 0, 0, 0, 1, 0, 0, 1, 0, 0]|Client, The (1994)                                                               |\n",
      "|01-Jan-1975|357 |http://us.imdb.com/M/title-exact?One%20Flew%20Over%20the%20Cuckoo's%20Nest%20(1975)                                                   |[0, 0, 0, 0, 0, 0, 0, 0, 1, 0, 0, 0, 0, 0, 0, 0, 0, 0, 0]|One Flew Over the Cuckoo's Nest (1975)                                           |\n",
      "|01-Aug-1997|358 |http://us.imdb.com/M/title-exact?Spawn+(1997/I)                                                                                       |[0, 1, 1, 0, 0, 0, 0, 0, 0, 0, 0, 0, 0, 0, 0, 1, 1, 0, 0]|Spawn (1997)                                                                     |\n",
      "|01-Jan-1997|359 |http://us.imdb.com/M/title-exact?Assignment%2C+The+(1997)                                                                             |[0, 0, 0, 0, 0, 0, 0, 0, 0, 0, 0, 0, 0, 0, 0, 0, 1, 0, 0]|Assignment, The (1997)                                                           |\n",
      "|01-Jan-1997|360 |http://us.imdb.com/M/title-exact?Wonderland+(1997)                                                                                    |[0, 0, 0, 0, 0, 0, 0, 1, 0, 0, 0, 0, 0, 0, 0, 0, 0, 0, 0]|Wonderland (1997)                                                                |\n",
      "|01-Jan-1997|361 |http://us.imdb.com/M/title-exact?Incognito+(1997)                                                                                     |[0, 0, 0, 0, 0, 0, 1, 0, 0, 0, 0, 0, 0, 0, 0, 0, 1, 0, 0]|Incognito (1997)                                                                 |\n",
      "|06-Feb-1998|362 |http://us.imdb.com/M/title-exact?Blues+Brothers+2000+(1998)                                                                           |[0, 1, 0, 0, 0, 1, 0, 0, 0, 0, 0, 0, 1, 0, 0, 0, 0, 0, 0]|Blues Brothers 2000 (1998)                                                       |\n",
      "|01-Jan-1995|363 |http://us.imdb.com/M/title-exact?Sudden%20Death%20(1995)                                                                              |[0, 1, 0, 0, 0, 0, 0, 0, 0, 0, 0, 0, 0, 0, 0, 0, 0, 0, 0]|Sudden Death (1995)                                                              |\n",
      "|01-Jan-1995|364 |http://us.imdb.com/M/title-exact?Ace%20Ventura:%20When%20Nature%20Calls%20(1995)                                                      |[0, 0, 0, 0, 0, 1, 0, 0, 0, 0, 0, 0, 0, 0, 0, 0, 0, 0, 0]|Ace Ventura: When Nature Calls (1995)                                            |\n",
      "|01-Jan-1995|365 |http://us.imdb.com/M/title-exact?Powder%20(1995)                                                                                      |[0, 0, 0, 0, 0, 0, 0, 0, 1, 0, 0, 0, 0, 0, 0, 0, 0, 0, 0]|Powder (1995)                                                                    |\n",
      "|01-Jan-1995|366 |http://us.imdb.com/M/title-exact?Dangerous%20Minds%20(1995)                                                                           |[0, 0, 0, 0, 0, 0, 0, 0, 1, 0, 0, 0, 0, 0, 0, 0, 0, 0, 0]|Dangerous Minds (1995)                                                           |\n",
      "|01-Jan-1995|367 |http://us.imdb.com/M/title-exact?Clueless%20(1995)                                                                                    |[0, 0, 0, 0, 0, 1, 0, 0, 0, 0, 0, 0, 0, 0, 0, 0, 0, 0, 0]|Clueless (1995)                                                                  |\n",
      "|01-Jan-1996|368 |http://us.imdb.com/M/title-exact?Bio-Dome%20(1996)                                                                                    |[0, 0, 0, 0, 0, 1, 0, 0, 0, 0, 0, 0, 0, 0, 0, 0, 0, 0, 0]|Bio-Dome (1996)                                                                  |\n",
      "|02-Feb-1996|369 |http://us.imdb.com/M/title-exact?Black%20Sheep%20(1996)                                                                               |[0, 0, 0, 0, 0, 1, 0, 0, 0, 0, 0, 0, 0, 0, 0, 0, 0, 0, 0]|Black Sheep (1996)                                                               |\n",
      "|23-Feb-1996|370 |http://us.imdb.com/M/title-exact?Mary%20Reilly%20(1996)                                                                               |[0, 0, 0, 0, 0, 0, 0, 0, 1, 0, 0, 0, 0, 0, 0, 0, 1, 0, 0]|Mary Reilly (1996)                                                               |\n",
      "|09-Feb-1996|371 |http://us.imdb.com/M/title-exact?Bridges%20of%20Madison%20County,%20The%20(1995)                                                      |[0, 0, 0, 0, 0, 0, 0, 0, 1, 0, 0, 0, 0, 0, 1, 0, 0, 0, 0]|Bridges of Madison County, The (1995)                                            |\n",
      "|01-Jan-1995|372 |http://us.imdb.com/M/title-exact?Jeffrey%20(1995)                                                                                     |[0, 0, 0, 0, 0, 1, 0, 0, 0, 0, 0, 0, 0, 0, 0, 0, 0, 0, 0]|Jeffrey (1995)                                                                   |\n",
      "|01-Jan-1995|373 |http://us.imdb.com/M/title-exact?Judge%20Dredd%20(1995)                                                                               |[0, 1, 1, 0, 0, 0, 0, 0, 0, 0, 0, 0, 0, 0, 0, 1, 0, 0, 0]|Judge Dredd (1995)                                                               |\n",
      "|01-Jan-1995|374 |http://us.imdb.com/M/title-exact?Mighty%20Morphin%20Power%20Rangers:%20The%20Movie%20(1995)                                           |[0, 1, 0, 0, 1, 0, 0, 0, 0, 0, 0, 0, 0, 0, 0, 0, 0, 0, 0]|Mighty Morphin Power Rangers: The Movie (1995)                                   |\n",
      "|01-Jan-1995|375 |http://us.imdb.com/M/title-exact?Showgirls%20(1995)                                                                                   |[0, 0, 0, 0, 0, 0, 0, 0, 1, 0, 0, 0, 0, 0, 0, 0, 0, 0, 0]|Showgirls (1995)                                                                 |\n",
      "|01-Jan-1994|376 |http://us.imdb.com/M/title-exact?Houseguest%20(1994)                                                                                  |[0, 0, 0, 0, 0, 1, 0, 0, 0, 0, 0, 0, 0, 0, 0, 0, 0, 0, 0]|Houseguest (1994)                                                                |\n",
      "|01-Jan-1994|377 |http://us.imdb.com/M/title-exact?Heavyweights%20(1994)                                                                                |[0, 0, 0, 0, 1, 1, 0, 0, 0, 0, 0, 0, 0, 0, 0, 0, 0, 0, 0]|Heavyweights (1994)                                                              |\n",
      "|01-Jan-1994|378 |http://us.imdb.com/M/title-exact?Miracle%20on%2034th%20Street%20(1994)                                                                |[0, 0, 0, 0, 0, 0, 0, 0, 1, 0, 0, 0, 0, 0, 0, 0, 0, 0, 0]|Miracle on 34th Street (1994)                                                    |\n",
      "|01-Jan-1995|379 |http://us.imdb.com/M/title-exact?Tales%20From%20the%20Crypt%20Presents:%20Demon%20Knight%20(1995)                                     |[0, 0, 0, 0, 0, 0, 0, 0, 0, 0, 0, 1, 0, 0, 0, 0, 0, 0, 0]|Tales From the Crypt Presents: Demon Knight (1995)                               |\n",
      "|01-Jan-1994|380 |http://us.imdb.com/M/title-exact?Star%20Trek:%20Generations%20(1994)                                                                  |[0, 1, 1, 0, 0, 0, 0, 0, 0, 0, 0, 0, 0, 0, 0, 1, 0, 0, 0]|Star Trek: Generations (1994)                                                    |\n",
      "|01-Jan-1994|381 |http://us.imdb.com/M/title-exact?Muriel's%20Wedding%20(1994)                                                                          |[0, 0, 0, 0, 0, 1, 0, 0, 0, 0, 0, 0, 0, 0, 1, 0, 0, 0, 0]|Muriel's Wedding (1994)                                                          |\n",
      "|01-Jan-1994|382 |http://us.imdb.com/M/title-exact?Adventures%20of%20Priscilla,%20Queen%20of%20the%20Desert,%20The%20(1994)                             |[0, 0, 0, 0, 0, 1, 0, 0, 1, 0, 0, 0, 0, 0, 0, 0, 0, 0, 0]|Adventures of Priscilla, Queen of the Desert, The (1994)                         |\n",
      "|01-Jan-1994|383 |http://us.imdb.com/M/title-exact?Flintstones,%20The%20(1994)                                                                          |[0, 0, 0, 0, 1, 1, 0, 0, 0, 0, 0, 0, 0, 0, 0, 0, 0, 0, 0]|Flintstones, The (1994)                                                          |\n",
      "|01-Jan-1994|384 |http://us.imdb.com/M/title-exact?Naked%20Gun%2033%201/3:%20The%20Final%20Insult%20(1994)                                              |[0, 0, 0, 0, 0, 1, 0, 0, 0, 0, 0, 0, 0, 0, 0, 0, 0, 0, 0]|Naked Gun 33 1/3: The Final Insult (1994)                                        |\n",
      "|01-Jan-1994|385 |http://us.imdb.com/M/title-exact?True%20Lies%20(1994)                                                                                 |[0, 1, 1, 0, 0, 1, 0, 0, 0, 0, 0, 0, 0, 0, 1, 0, 0, 0, 0]|True Lies (1994)                                                                 |\n",
      "|01-Jan-1993|386 |http://us.imdb.com/M/title-exact?Addams%20Family%20Values%20(1993)                                                                    |[0, 0, 0, 0, 0, 1, 0, 0, 0, 0, 0, 0, 0, 0, 0, 0, 0, 0, 0]|Addams Family Values (1993)                                                      |\n",
      "|01-Jan-1993|387 |http://us.imdb.com/M/title-exact?Age%20of%20Innocence,%20The%20(1993)                                                                 |[0, 0, 0, 0, 0, 0, 0, 0, 1, 0, 0, 0, 0, 0, 0, 0, 0, 0, 0]|Age of Innocence, The (1993)                                                     |\n",
      "|01-Jan-1994|388 |http://us.imdb.com/M/title-exact?Beverly%20Hills%20Cop%20III%20(1994)                                                                 |[0, 1, 0, 0, 0, 1, 0, 0, 0, 0, 0, 0, 0, 0, 0, 0, 0, 0, 0]|Beverly Hills Cop III (1994)                                                     |\n",
      "|01-Jan-1994|389 |http://us.imdb.com/Title?Black+Beauty+(1994/I)                                                                                        |[0, 0, 1, 0, 1, 0, 0, 0, 0, 0, 0, 0, 0, 0, 0, 0, 0, 0, 0]|Black Beauty (1994)                                                              |\n",
      "|01-Jan-1993|390 |http://us.imdb.com/M/title-exact?Fear%20of%20a%20Black%20Hat%20(1993)                                                                 |[0, 0, 0, 0, 0, 1, 0, 0, 0, 0, 0, 0, 0, 0, 0, 0, 0, 0, 0]|Fear of a Black Hat (1993)                                                       |\n",
      "|01-Jan-1993|391 |http://us.imdb.com/M/title-exact?Last%20Action%20Hero%20(1993)                                                                        |[0, 1, 0, 0, 0, 1, 0, 0, 0, 0, 0, 0, 0, 0, 0, 0, 0, 0, 0]|Last Action Hero (1993)                                                          |\n",
      "|01-Jan-1993|392 |http://us.imdb.com/M/title-exact?Man%20Without%20a%20Face,%20The%20(1993)                                                             |[0, 0, 0, 0, 0, 0, 0, 0, 1, 0, 0, 0, 0, 0, 0, 0, 0, 0, 0]|Man Without a Face, The (1993)                                                   |\n",
      "|01-Jan-1993|393 |http://us.imdb.com/M/title-exact?Mrs.%20Doubtfire%20(1993)                                                                            |[0, 0, 0, 0, 0, 1, 0, 0, 0, 0, 0, 0, 0, 0, 0, 0, 0, 0, 0]|Mrs. Doubtfire (1993)                                                            |\n",
      "|01-Jan-1994|394 |http://us.imdb.com/M/title-exact?Radioland%20Murders%20(1994)                                                                         |[0, 0, 0, 0, 0, 1, 0, 0, 0, 0, 0, 0, 0, 1, 1, 0, 0, 0, 0]|Radioland Murders (1994)                                                         |\n",
      "|01-Jan-1993|395 |http://us.imdb.com/M/title-exact?Robin%20Hood:%20Men%20in%20Tights%20(1993)                                                           |[0, 0, 0, 0, 0, 1, 0, 0, 0, 0, 0, 0, 0, 0, 0, 0, 0, 0, 0]|Robin Hood: Men in Tights (1993)                                                 |\n",
      "|01-Jan-1994|396 |http://us.imdb.com/M/title-exact?Serial%20Mom%20(1994)                                                                                |[0, 0, 0, 0, 0, 1, 1, 0, 0, 0, 0, 1, 0, 0, 0, 0, 0, 0, 0]|Serial Mom (1994)                                                                |\n",
      "|01-Jan-1993|397 |http://us.imdb.com/M/title-exact?Striking%20Distance%20(1993)                                                                         |[0, 1, 0, 0, 0, 0, 0, 0, 0, 0, 0, 0, 0, 0, 0, 0, 0, 0, 0]|Striking Distance (1993)                                                         |\n",
      "|01-Jan-1993|398 |http://us.imdb.com/M/title-exact?Super%20Mario%20Bros.%20(1993)                                                                       |[0, 1, 1, 0, 1, 0, 0, 0, 0, 0, 0, 0, 0, 0, 0, 1, 0, 0, 0]|Super Mario Bros. (1993)                                                         |\n",
      "|01-Jan-1993|399 |http://us.imdb.com/M/title-exact?Three%20Musketeers,%20The%20(1993)                                                                   |[0, 1, 1, 0, 0, 1, 0, 0, 0, 0, 0, 0, 0, 0, 0, 0, 0, 0, 0]|Three Musketeers, The (1993)                                                     |\n",
      "|01-Jan-1994|400 |http://us.imdb.com/M/title-exact?Little%20Rascals,%20The%20(1994)                                                                     |[0, 0, 0, 0, 1, 1, 0, 0, 0, 0, 0, 0, 0, 0, 0, 0, 0, 0, 0]|Little Rascals, The (1994)                                                       |\n",
      "|01-Jan-1995|401 |http://us.imdb.com/M/title-exact?Brady%20Bunch%20Movie,%20The%20(1995)                                                                |[0, 0, 0, 0, 0, 1, 0, 0, 0, 0, 0, 0, 0, 0, 0, 0, 0, 0, 0]|Brady Bunch Movie, The (1995)                                                    |\n",
      "|01-Jan-1990|402 |http://us.imdb.com/M/title-exact?Ghost%20(1990)                                                                                       |[0, 0, 0, 0, 0, 1, 0, 0, 0, 0, 0, 0, 0, 0, 1, 0, 1, 0, 0]|Ghost (1990)                                                                     |\n",
      "|01-Jan-1989|403 |http://us.imdb.com/M/title-exact?Batman%20(1989)                                                                                      |[0, 1, 1, 0, 0, 0, 1, 0, 1, 0, 0, 0, 0, 0, 0, 0, 0, 0, 0]|Batman (1989)                                                                    |\n",
      "|01-Jan-1940|404 |http://us.imdb.com/M/title-exact?Pinocchio%20(1940)                                                                                   |[0, 0, 0, 1, 1, 0, 0, 0, 0, 0, 0, 0, 0, 0, 0, 0, 0, 0, 0]|Pinocchio (1940)                                                                 |\n",
      "|22-May-1996|405 |http://us.imdb.com/M/title-exact?Mission:%20Impossible%20(1996)                                                                       |[0, 1, 1, 0, 0, 0, 0, 0, 0, 0, 0, 0, 0, 1, 0, 0, 0, 0, 0]|Mission: Impossible (1996)                                                       |\n",
      "|25-Oct-1996|406 |http://us.imdb.com/M/title-exact?Thinner%20(1996)                                                                                     |[0, 0, 0, 0, 0, 0, 0, 0, 0, 0, 0, 1, 0, 0, 0, 0, 1, 0, 0]|Thinner (1996)                                                                   |\n",
      "|24-May-1996|407 |http://us.imdb.com/M/title-exact?Spy%20Hard%20(1996)                                                                                  |[0, 0, 0, 0, 0, 1, 0, 0, 0, 0, 0, 0, 0, 0, 0, 0, 0, 0, 0]|Spy Hard (1996)                                                                  |\n",
      "|28-Apr-1996|408 |http://us.imdb.com/M/title-exact?Close%20Shave,%20A%20(1995)                                                                          |[0, 0, 0, 1, 0, 1, 0, 0, 0, 0, 0, 0, 0, 0, 0, 0, 1, 0, 0]|Close Shave, A (1995)                                                            |\n",
      "|07-Aug-1996|409 |http://us.imdb.com/M/title-exact?Jack%20(1996)                                                                                        |[0, 0, 0, 0, 0, 1, 0, 0, 1, 0, 0, 0, 0, 0, 0, 0, 0, 0, 0]|Jack (1996)                                                                      |\n",
      "|12-Jul-1996|410 |http://us.imdb.com/M/title-exact?Kingpin%20(1996)                                                                                     |[0, 0, 0, 0, 0, 1, 0, 0, 0, 0, 0, 0, 0, 0, 0, 0, 0, 0, 0]|Kingpin (1996)                                                                   |\n",
      "|28-Jun-1996|411 |http://us.imdb.com/M/title-exact?Nutty%20Professor,%20The%20(1996)                                                                    |[0, 0, 0, 0, 0, 1, 0, 0, 0, 1, 0, 0, 0, 0, 1, 1, 0, 0, 0]|Nutty Professor, The (1996)                                                      |\n",
      "|23-Aug-1996|412 |http://us.imdb.com/M/title-exact?Very%20Brady%20Sequel,%20A%20(1996)                                                                  |[0, 0, 0, 0, 0, 1, 0, 0, 0, 0, 0, 0, 0, 0, 0, 0, 0, 0, 0]|Very Brady Sequel, A (1996)                                                      |\n",
      "|19-Jul-1996|413 |http://us.imdb.com/M/title-exact?Tales%20from%20the%20Crypt%20Presents:%20Bordello%20of%20Blood%20(1996)                              |[0, 0, 0, 0, 0, 0, 0, 0, 0, 0, 0, 1, 0, 0, 0, 0, 0, 0, 0]|Tales from the Crypt Presents: Bordello of Blood (1996)                          |\n",
      "|01-Jan-1982|414 |http://us.imdb.com/M/title-exact?My%20Favorite%20Year%20(1982)                                                                        |[0, 0, 0, 0, 0, 1, 0, 0, 0, 0, 0, 0, 0, 0, 0, 0, 0, 0, 0]|My Favorite Year (1982)                                                          |\n",
      "|01-Jan-1975|415 |http://us.imdb.com/M/title-exact?Apple%20Dumpling%20Gang,%20The%20(1975)                                                              |[0, 0, 0, 0, 1, 1, 0, 0, 0, 0, 0, 0, 0, 0, 0, 0, 0, 0, 1]|Apple Dumpling Gang, The (1975)                                                  |\n",
      "|01-Jan-1957|416 |http://us.imdb.com/M/title-exact?Old%20Yeller%20(1957)                                                                                |[0, 0, 0, 0, 1, 0, 0, 0, 1, 0, 0, 0, 0, 0, 0, 0, 0, 0, 0]|Old Yeller (1957)                                                                |\n",
      "|01-Jan-1961|417 |http://us.imdb.com/M/title-exact?Parent%20Trap,%20The%20(1961)                                                                        |[0, 0, 0, 0, 1, 0, 0, 0, 1, 0, 0, 0, 0, 0, 0, 0, 0, 0, 0]|Parent Trap, The (1961)                                                          |\n",
      "|01-Jan-1950|418 |http://us.imdb.com/M/title-exact?Cinderella%20(1950)                                                                                  |[0, 0, 0, 1, 1, 0, 0, 0, 0, 0, 0, 0, 1, 0, 0, 0, 0, 0, 0]|Cinderella (1950)                                                                |\n",
      "|01-Jan-1964|419 |http://us.imdb.com/M/title-exact?Mary%20Poppins%20(1964)                                                                              |[0, 0, 0, 0, 1, 1, 0, 0, 0, 0, 0, 0, 1, 0, 0, 0, 0, 0, 0]|Mary Poppins (1964)                                                              |\n",
      "|01-Jan-1951|420 |http://us.imdb.com/M/title-exact?Alice%20in%20Wonderland%20(1951)                                                                     |[0, 0, 0, 1, 1, 0, 0, 0, 0, 0, 0, 0, 1, 0, 0, 0, 0, 0, 0]|Alice in Wonderland (1951)                                                       |\n",
      "|25-Oct-1996|421 |http://us.imdb.com/Title?Romeo+%2B+Juliet+(1996)                                                                                      |[0, 0, 0, 0, 0, 0, 0, 0, 1, 0, 0, 0, 0, 0, 1, 0, 0, 0, 0]|William Shakespeare's Romeo and Juliet (1996)                                    |\n",
      "|01-Jan-1996|422 |http://us.imdb.com/M/title-exact?Aladdin%20and%20the%20King%20of%20Thieves%20(1996)%20(V)                                             |[0, 0, 0, 1, 1, 1, 0, 0, 0, 0, 0, 0, 0, 0, 0, 0, 0, 0, 0]|Aladdin and the King of Thieves (1996)                                           |\n",
      "|01-Jan-1982|423 |http://us.imdb.com/M/title-exact?E%2ET%2E%20the%20Extra-Terrestrial%20%281982%29                                                      |[0, 0, 0, 0, 1, 0, 0, 0, 1, 1, 0, 0, 0, 0, 0, 1, 0, 0, 0]|E.T. the Extra-Terrestrial (1982)                                                |\n",
      "|01-Jan-1996|424 |http://us.imdb.com/M/title-exact?Children%20of%20the%20Corn%3A%20The%20Gathering%20%281996%29                                         |[0, 0, 0, 0, 0, 0, 0, 0, 0, 0, 0, 1, 0, 0, 0, 0, 0, 0, 0]|Children of the Corn: The Gathering (1996)                                       |\n",
      "|01-Jan-1992|425 |http://us.imdb.com/M/title-exact?Bob%20Roberts%20(1992)                                                                               |[0, 0, 0, 0, 0, 1, 0, 0, 0, 0, 0, 0, 0, 0, 0, 0, 0, 0, 0]|Bob Roberts (1992)                                                               |\n",
      "|01-Jan-1986|426 |http://us.imdb.com/M/title-exact?Transformers:%20The%20Movie,%20The%20(1986)                                                          |[0, 1, 0, 1, 1, 0, 0, 0, 0, 0, 0, 0, 0, 0, 0, 1, 1, 1, 0]|Transformers: The Movie, The (1986)                                              |\n",
      "|01-Jan-1962|427 |http://us.imdb.com/M/title-exact?To%20Kill%20a%20Mockingbird%20(1962)                                                                 |[0, 0, 0, 0, 0, 0, 0, 0, 1, 0, 0, 0, 0, 0, 0, 0, 0, 0, 0]|To Kill a Mockingbird (1962)                                                     |\n",
      "|01-Jan-1971|428 |http://us.imdb.com/M/title-exact?Harold%20and%20Maude%20(1971)                                                                        |[0, 0, 0, 0, 0, 1, 0, 0, 0, 0, 0, 0, 0, 0, 0, 0, 0, 0, 0]|Harold and Maude (1971)                                                          |\n",
      "|01-Jan-1951|429 |http://us.imdb.com/M/title-exact?Day%20the%20Earth%20Stood%20Still,%20The%20(1951)                                                    |[0, 0, 0, 0, 0, 0, 0, 0, 1, 0, 0, 0, 0, 0, 0, 1, 0, 0, 0]|Day the Earth Stood Still, The (1951)                                            |\n",
      "|01-Jan-1933|430 |http://us.imdb.com/M/title-exact?Duck%20Soup%20(1933)                                                                                 |[0, 0, 0, 0, 0, 1, 0, 0, 0, 0, 0, 0, 0, 0, 0, 0, 0, 1, 0]|Duck Soup (1933)                                                                 |\n",
      "|01-Jan-1986|431 |http://us.imdb.com/M/title-exact?Highlander%20(1986)                                                                                  |[0, 1, 1, 0, 0, 0, 0, 0, 0, 0, 0, 0, 0, 0, 0, 0, 0, 0, 0]|Highlander (1986)                                                                |\n",
      "|01-Jan-1940|432 |http://us.imdb.com/M/title-exact?Fantasia%20(1940)                                                                                    |[0, 0, 0, 1, 1, 0, 0, 0, 0, 0, 0, 0, 1, 0, 0, 0, 0, 0, 0]|Fantasia (1940)                                                                  |\n",
      "|01-Jan-1989|433 |http://us.imdb.com/M/title-exact?Heathers%20(1989)                                                                                    |[0, 0, 0, 0, 0, 1, 0, 0, 0, 0, 0, 0, 0, 0, 0, 0, 0, 0, 0]|Heathers (1989)                                                                  |\n",
      "|01-Jan-1956|434 |http://us.imdb.com/M/title-exact?Forbidden%20Planet%20(1956)                                                                          |[0, 0, 0, 0, 0, 0, 0, 0, 0, 0, 0, 0, 0, 0, 0, 1, 0, 0, 0]|Forbidden Planet (1956)                                                          |\n",
      "|01-Jan-1969|435 |http://us.imdb.com/M/title-exact?Butch%20Cassidy%20and%20the%20Sundance%20Kid%20(1969)                                                |[0, 1, 0, 0, 0, 1, 0, 0, 0, 0, 0, 0, 0, 0, 0, 0, 0, 0, 1]|Butch Cassidy and the Sundance Kid (1969)                                        |\n",
      "|01-Jan-1981|436 |http://us.imdb.com/M/title-exact?American%20Werewolf%20in%20London,%20An%20(1981)                                                     |[0, 0, 0, 0, 0, 0, 0, 0, 0, 0, 0, 1, 0, 0, 0, 0, 0, 0, 0]|American Werewolf in London, An (1981)                                           |\n",
      "|01-Jan-1992|437 |http://us.imdb.com/M/title-exact?Amityville%201992:%20It's%20About%20Time%20(1992)                                                    |[0, 0, 0, 0, 0, 0, 0, 0, 0, 0, 0, 1, 0, 0, 0, 0, 0, 0, 0]|Amityville 1992: It's About Time (1992)                                          |\n",
      "|01-Jan-1983|438 |http://us.imdb.com/M/title-exact?Amityville%203-D%20(1983)                                                                            |[0, 0, 0, 0, 0, 0, 0, 0, 0, 0, 0, 1, 0, 0, 0, 0, 0, 0, 0]|Amityville 3-D (1983)                                                            |\n",
      "|01-Jan-1993|439 |http://us.imdb.com/M/title-exact?Amityville:%20A%20New%20Generation%20(1993)                                                          |[0, 0, 0, 0, 0, 0, 0, 0, 0, 0, 0, 1, 0, 0, 0, 0, 0, 0, 0]|Amityville: A New Generation (1993)                                              |\n",
      "|01-Jan-1982|440 |http://us.imdb.com/M/title-exact?Amityville%20II:%20The%20Possession%20(1982)                                                         |[0, 0, 0, 0, 0, 0, 0, 0, 0, 0, 0, 1, 0, 0, 0, 0, 0, 0, 0]|Amityville II: The Possession (1982)                                             |\n",
      "|01-Jan-1979|441 |http://us.imdb.com/M/title-exact?Amityville%20Horror,%20The%20(1979)                                                                  |[0, 0, 0, 0, 0, 0, 0, 0, 0, 0, 0, 1, 0, 0, 0, 0, 0, 0, 0]|Amityville Horror, The (1979)                                                    |\n",
      "|01-Jan-1990|442 |http://us.imdb.com/M/title-exact?Amityville%20Curse,%20The%20(1990)                                                                   |[0, 0, 0, 0, 0, 0, 0, 0, 0, 0, 0, 1, 0, 0, 0, 0, 0, 0, 0]|Amityville Curse, The (1990)                                                     |\n",
      "|01-Jan-1963|443 |http://us.imdb.com/M/title-exact?Birds,%20The%20(1963)                                                                                |[0, 0, 0, 0, 0, 0, 0, 0, 0, 0, 0, 1, 0, 0, 0, 0, 0, 0, 0]|Birds, The (1963)                                                                |\n",
      "|01-Jan-1958|444 |http://us.imdb.com/M/title-exact?Blob,%20The%20(1958)                                                                                 |[0, 0, 0, 0, 0, 0, 0, 0, 0, 0, 0, 1, 0, 0, 0, 1, 0, 0, 0]|Blob, The (1958)                                                                 |\n",
      "|01-Jan-1945|445 |http://us.imdb.com/M/title-exact?Body%20Snatcher,%20The%20(1945)                                                                      |[0, 0, 0, 0, 0, 0, 0, 0, 0, 0, 0, 1, 0, 0, 0, 0, 0, 0, 0]|Body Snatcher, The (1945)                                                        |\n",
      "|01-Jan-1976|446 |http://us.imdb.com/M/title-exact?Burnt%20Offerings%20(1976)                                                                           |[0, 0, 0, 0, 0, 0, 0, 0, 0, 0, 0, 1, 0, 0, 0, 0, 0, 0, 0]|Burnt Offerings (1976)                                                           |\n",
      "|01-Jan-1976|447 |http://us.imdb.com/M/title-exact?Carrie%20(1976)                                                                                      |[0, 0, 0, 0, 0, 0, 0, 0, 0, 0, 0, 1, 0, 0, 0, 0, 0, 0, 0]|Carrie (1976)                                                                    |\n",
      "|01-Jan-1976|448 |http://us.imdb.com/M/title-exact?Omen,%20The%20(1976)                                                                                 |[0, 0, 0, 0, 0, 0, 0, 0, 0, 0, 0, 1, 0, 0, 0, 0, 0, 0, 0]|Omen, The (1976)                                                                 |\n",
      "|01-Jan-1979|449 |http://us.imdb.com/M/title-exact?Star%20Trek:%20The%20Motion%20Picture%20(1979)                                                       |[0, 1, 1, 0, 0, 0, 0, 0, 0, 0, 0, 0, 0, 0, 0, 1, 0, 0, 0]|Star Trek: The Motion Picture (1979)                                             |\n",
      "|01-Jan-1989|450 |http://us.imdb.com/M/title-exact?Star%20Trek%20V:%20The%20Final%20Frontier%20(1989)                                                   |[0, 1, 1, 0, 0, 0, 0, 0, 0, 0, 0, 0, 0, 0, 0, 1, 0, 0, 0]|Star Trek V: The Final Frontier (1989)                                           |\n",
      "|01-Jan-1978|451 |http://us.imdb.com/M/title-exact?Grease%20(1978)                                                                                      |[0, 0, 0, 0, 0, 1, 0, 0, 0, 0, 0, 0, 1, 0, 1, 0, 0, 0, 0]|Grease (1978)                                                                    |\n",
      "|01-Jan-1978|452 |http://us.imdb.com/M/title-exact?Jaws%202%20(1978)                                                                                    |[0, 1, 0, 0, 0, 0, 0, 0, 0, 0, 0, 1, 0, 0, 0, 0, 0, 0, 0]|Jaws 2 (1978)                                                                    |\n",
      "|01-Jan-1983|453 |http://us.imdb.com/M/title-exact?Jaws%203-D%20(1983)                                                                                  |[0, 1, 0, 0, 0, 0, 0, 0, 0, 0, 0, 1, 0, 0, 0, 0, 0, 0, 0]|Jaws 3-D (1983)                                                                  |\n",
      "|15-Dec-1996|454 |http://us.imdb.com/M/title-exact?Bastard%20Out%20of%20Carolina%20(1996)                                                               |[0, 0, 0, 0, 0, 0, 0, 0, 1, 0, 0, 0, 0, 0, 0, 0, 0, 0, 0]|Bastard Out of Carolina (1996)                                                   |\n",
      "|10-Jan-1997|455 |http://us.imdb.com/M/title-exact?Police%20Story%204:%20First%20Strike%20(1996)                                                        |[0, 1, 0, 0, 0, 0, 0, 0, 0, 0, 0, 0, 0, 0, 0, 0, 0, 0, 0]|Jackie Chan's First Strike (1996)                                                |\n",
      "|17-Jan-1997|456 |http://us.imdb.com/M/title-exact?Beverly%20Hills%20Ninja%20(1997)                                                                     |[0, 1, 0, 0, 0, 1, 0, 0, 0, 0, 0, 0, 0, 0, 0, 0, 0, 0, 0]|Beverly Hills Ninja (1997)                                                       |\n",
      "|08-Aug-1997|457 |http://us.imdb.com/M/title-exact?Free+Willy+3%3A+The+Rescue+(1997)                                                                    |[0, 0, 1, 0, 1, 0, 0, 0, 1, 0, 0, 0, 0, 0, 0, 0, 0, 0, 0]|Free Willy 3: The Rescue (1997)                                                  |\n",
      "|01-Jan-1995|458 |http://us.imdb.com/M/title-exact?Nixon%20(1995)                                                                                       |[0, 0, 0, 0, 0, 0, 0, 0, 1, 0, 0, 0, 0, 0, 0, 0, 0, 0, 0]|Nixon (1995)                                                                     |\n",
      "|01-Jan-1995|459 |http://us.imdb.com/M/title-exact?Cry,%20the%20Beloved%20Country%20(1995)                                                              |[0, 0, 0, 0, 0, 0, 0, 0, 1, 0, 0, 0, 0, 0, 0, 0, 0, 0, 0]|Cry, the Beloved Country (1995)                                                  |\n",
      "|01-Jan-1995|460 |http://us.imdb.com/M/title-exact?Crossing%20Guard,%20The%20(1995)                                                                     |[0, 0, 0, 0, 0, 0, 0, 0, 1, 0, 0, 0, 0, 0, 0, 0, 0, 0, 0]|Crossing Guard, The (1995)                                                       |\n",
      "|01-Jan-1995|461 |http://us.imdb.com/M/title-exact?Smoke%20(1995)                                                                                       |[0, 0, 0, 0, 0, 0, 0, 0, 1, 0, 0, 0, 0, 0, 0, 0, 0, 0, 0]|Smoke (1995)                                                                     |\n",
      "|01-Jan-1992|462 |http://us.imdb.com/M/title-exact?Como%20agua%20para%20chocolate%20(1992)                                                              |[0, 0, 0, 0, 0, 0, 0, 0, 1, 0, 0, 0, 0, 0, 1, 0, 0, 0, 0]|Like Water For Chocolate (Como agua para chocolate) (1992)                       |\n",
      "|01-Jan-1994|463 |http://us.imdb.com/M/title-exact?Secret%20of%20Roan%20Inish,%20The%20(1994)                                                           |[0, 0, 1, 0, 0, 0, 0, 0, 0, 0, 0, 0, 0, 0, 0, 0, 0, 0, 0]|Secret of Roan Inish, The (1994)                                                 |\n",
      "|01-Jan-1994|464 |http://us.imdb.com/M/title-exact?Vanya%20on%2042nd%20Street%20(1994)                                                                  |[0, 0, 0, 0, 0, 0, 0, 0, 1, 0, 0, 0, 0, 0, 0, 0, 0, 0, 0]|Vanya on 42nd Street (1994)                                                      |\n",
      "|01-Jan-1994|465 |http://us.imdb.com/M/title-exact?Jungle%20Book,%20The%20(1994)                                                                        |[0, 0, 1, 0, 1, 0, 0, 0, 0, 0, 0, 0, 0, 0, 1, 0, 0, 0, 0]|Jungle Book, The (1994)                                                          |\n",
      "|01-Jan-1992|466 |http://us.imdb.com/M/title-exact?Red%20Rock%20West%20(1992)                                                                           |[0, 0, 0, 0, 0, 0, 0, 0, 0, 0, 0, 0, 0, 0, 0, 0, 1, 0, 0]|Red Rock West (1992)                                                             |\n",
      "|01-Jan-1993|467 |http://us.imdb.com/M/title-exact?Bronx%20Tale,%20A%20(1993)                                                                           |[0, 0, 0, 0, 0, 0, 0, 0, 1, 0, 0, 0, 0, 0, 0, 0, 0, 0, 0]|Bronx Tale, A (1993)                                                             |\n",
      "|01-Jan-1993|468 |http://us.imdb.com/M/title-exact?Rudy%20(1993)                                                                                        |[0, 0, 0, 0, 0, 0, 0, 0, 1, 0, 0, 0, 0, 0, 0, 0, 0, 0, 0]|Rudy (1993)                                                                      |\n",
      "|01-Jan-1993|469 |http://us.imdb.com/M/title-exact?Short%20Cuts%20(1993)                                                                                |[0, 0, 0, 0, 0, 0, 0, 0, 1, 0, 0, 0, 0, 0, 0, 0, 0, 0, 0]|Short Cuts (1993)                                                                |\n",
      "|01-Jan-1993|470 |http://us.imdb.com/M/title-exact?Tombstone%20(1993)                                                                                   |[0, 0, 0, 0, 0, 0, 0, 0, 0, 0, 0, 0, 0, 0, 0, 0, 0, 0, 1]|Tombstone (1993)                                                                 |\n",
      "|08-Mar-1996|471 |http://us.imdb.com/M/title-exact?Courage%20Under%20Fire%20(1996)                                                                      |[0, 0, 0, 0, 0, 0, 0, 0, 1, 0, 0, 0, 0, 0, 0, 0, 0, 1, 0]|Courage Under Fire (1996)                                                        |\n",
      "|31-May-1996|472 |http://us.imdb.com/M/title-exact?Dragonheart%20(1996)                                                                                 |[0, 1, 1, 0, 0, 0, 0, 0, 0, 1, 0, 0, 0, 0, 0, 0, 0, 0, 0]|Dragonheart (1996)                                                               |\n",
      "|12-Apr-1996|473 |http://us.imdb.com/M/title-exact?James%20and%20the%20Giant%20Peach%20(1996)                                                           |[0, 0, 0, 1, 1, 0, 0, 0, 0, 0, 0, 0, 1, 0, 0, 0, 0, 0, 0]|James and the Giant Peach (1996)                                                 |\n",
      "|01-Jan-1963|474 |http://us.imdb.com/M/title-exact?Dr.%20Strangelove%20or:%20How%20I%20Learned%20to%20Stop%20Worrying%20and%20Love%20the%20Bomb%20(1963)|[0, 0, 0, 0, 0, 0, 0, 0, 0, 0, 0, 0, 0, 0, 0, 1, 0, 1, 0]|Dr. Strangelove or: How I Learned to Stop Worrying and Love the Bomb (1963)      |\n",
      "|19-Jul-1996|475 |http://us.imdb.com/Title?Trainspotting+(1996)                                                                                         |[0, 0, 0, 0, 0, 0, 0, 0, 1, 0, 0, 0, 0, 0, 0, 0, 0, 0, 0]|Trainspotting (1996)                                                             |\n",
      "|14-Sep-1996|476 |http://us.imdb.com/M/title-exact?First%20Wives%20Club,%20The%20(1996)                                                                 |[0, 0, 0, 0, 0, 1, 0, 0, 0, 0, 0, 0, 0, 0, 0, 0, 0, 0, 0]|First Wives Club, The (1996)                                                     |\n",
      "|02-Aug-1996|477 |http://us.imdb.com/M/title-exact?Matilda%20(1996)                                                                                     |[0, 0, 0, 0, 1, 1, 0, 0, 0, 0, 0, 0, 0, 0, 0, 0, 0, 0, 0]|Matilda (1996)                                                                   |\n",
      "|01-Jan-1940|478 |http://us.imdb.com/M/title-exact?Philadelphia%20Story,%20The%20(1940)                                                                 |[0, 0, 0, 0, 0, 1, 0, 0, 0, 0, 0, 0, 0, 0, 1, 0, 0, 0, 0]|Philadelphia Story, The (1940)                                                   |\n",
      "|01-Jan-1958|479 |http://us.imdb.com/M/title-exact?Vertigo%20(1958)                                                                                     |[0, 0, 0, 0, 0, 0, 0, 0, 0, 0, 0, 0, 0, 1, 0, 0, 1, 0, 0]|Vertigo (1958)                                                                   |\n",
      "|01-Jan-1959|480 |http://us.imdb.com/M/title-exact?North%20by%20Northwest%20(1959)                                                                      |[0, 0, 0, 0, 0, 1, 0, 0, 0, 0, 0, 0, 0, 0, 0, 0, 1, 0, 0]|North by Northwest (1959)                                                        |\n",
      "|01-Jan-1960|481 |http://us.imdb.com/M/title-exact?Apartment,%20The%20(1960)                                                                            |[0, 0, 0, 0, 0, 1, 0, 0, 1, 0, 0, 0, 0, 0, 0, 0, 0, 0, 0]|Apartment, The (1960)                                                            |\n",
      "|01-Jan-1959|482 |http://us.imdb.com/M/title-exact?Some%20Like%20It%20Hot%20(1959)                                                                      |[0, 0, 0, 0, 0, 1, 1, 0, 0, 0, 0, 0, 0, 0, 0, 0, 0, 0, 0]|Some Like It Hot (1959)                                                          |\n",
      "|01-Jan-1942|483 |http://us.imdb.com/M/title-exact?Casablanca%20(1942)                                                                                  |[0, 0, 0, 0, 0, 0, 0, 0, 1, 0, 0, 0, 0, 0, 1, 0, 0, 1, 0]|Casablanca (1942)                                                                |\n",
      "|01-Jan-1941|484 |http://us.imdb.com/M/title-exact?Maltese%20Falcon,%20The%20(1941)                                                                     |[0, 0, 0, 0, 0, 0, 0, 0, 0, 0, 1, 0, 0, 1, 0, 0, 0, 0, 0]|Maltese Falcon, The (1941)                                                       |\n",
      "|01-Jan-1964|485 |http://us.imdb.com/M/title-exact?My%20Fair%20Lady%20(1964)                                                                            |[0, 0, 0, 0, 0, 0, 0, 0, 0, 0, 0, 0, 1, 0, 1, 0, 0, 0, 0]|My Fair Lady (1964)                                                              |\n",
      "|01-Jan-1954|486 |http://us.imdb.com/M/title-exact?Sabrina%20(1954)                                                                                     |[0, 0, 0, 0, 0, 1, 0, 0, 0, 0, 0, 0, 0, 0, 1, 0, 0, 0, 0]|Sabrina (1954)                                                                   |\n",
      "|01-Jan-1953|487 |http://us.imdb.com/M/title-exact?Roman%20Holiday%20(1953)                                                                             |[0, 0, 0, 0, 0, 1, 0, 0, 0, 0, 0, 0, 0, 0, 1, 0, 0, 0, 0]|Roman Holiday (1953)                                                             |\n",
      "|01-Jan-1950|488 |http://us.imdb.com/M/title-exact?Sunset%20Boulevard%20(1950)                                                                          |[0, 0, 0, 0, 0, 0, 0, 0, 0, 0, 1, 0, 0, 0, 0, 0, 0, 0, 0]|Sunset Blvd. (1950)                                                              |\n",
      "|01-Jan-1946|489 |http://us.imdb.com/M/title-exact?Notorious%20(1946)                                                                                   |[0, 0, 0, 0, 0, 0, 0, 0, 0, 0, 1, 0, 0, 0, 1, 0, 1, 0, 0]|Notorious (1946)                                                                 |\n",
      "|01-Jan-1955|490 |http://us.imdb.com/M/title-exact?To%20Catch%20a%20Thief%20(1955)                                                                      |[0, 0, 0, 0, 0, 1, 0, 0, 0, 0, 0, 0, 0, 0, 1, 0, 1, 0, 0]|To Catch a Thief (1955)                                                          |\n",
      "|01-Jan-1938|491 |http://us.imdb.com/M/title-exact?Adventures%20of%20Robin%20Hood,%20The%20(1938)                                                       |[0, 1, 1, 0, 0, 0, 0, 0, 0, 0, 0, 0, 0, 0, 0, 0, 0, 0, 0]|Adventures of Robin Hood, The (1938)                                             |\n",
      "|01-Jan-1955|492 |http://us.imdb.com/M/title-exact?East%20of%20Eden%20(1955)                                                                            |[0, 0, 0, 0, 0, 0, 0, 0, 1, 0, 0, 0, 0, 0, 0, 0, 0, 0, 0]|East of Eden (1955)                                                              |\n",
      "|01-Jan-1934|493 |http://us.imdb.com/M/title-exact?Thin%20Man,%20The%20(1934)                                                                           |[0, 0, 0, 0, 0, 0, 0, 0, 0, 0, 0, 0, 0, 1, 0, 0, 0, 0, 0]|Thin Man, The (1934)                                                             |\n",
      "|01-Jan-1940|494 |http://us.imdb.com/M/title-exact?His%20Girl%20Friday%20(1940)                                                                         |[0, 0, 0, 0, 0, 1, 0, 0, 0, 0, 0, 0, 0, 0, 0, 0, 0, 0, 0]|His Girl Friday (1940)                                                           |\n",
      "|01-Jan-1956|495 |http://us.imdb.com/M/title-exact?Around%20the%20World%20in%2080%20Days%20(1956)                                                       |[0, 0, 1, 0, 0, 1, 0, 0, 0, 0, 0, 0, 0, 0, 0, 0, 0, 0, 0]|Around the World in 80 Days (1956)                                               |\n",
      "|01-Jan-1946|496 |http://us.imdb.com/M/title-exact?It's%20a%20Wonderful%20Life%20(1946)                                                                 |[0, 0, 0, 0, 0, 0, 0, 0, 1, 0, 0, 0, 0, 0, 0, 0, 0, 0, 0]|It's a Wonderful Life (1946)                                                     |\n",
      "|01-Jan-1938|497 |http://us.imdb.com/M/title-exact?Bringing%20Up%20Baby%20(1938)                                                                        |[0, 0, 0, 0, 0, 1, 0, 0, 0, 0, 0, 0, 0, 0, 0, 0, 0, 0, 0]|Bringing Up Baby (1938)                                                          |\n",
      "|01-Jan-1951|498 |http://us.imdb.com/M/title-exact?African%20Queen,%20The%20(1951)                                                                      |[0, 1, 1, 0, 0, 0, 0, 0, 0, 0, 0, 0, 0, 0, 1, 0, 0, 1, 0]|African Queen, The (1951)                                                        |\n",
      "|01-Jan-1958|499 |http://us.imdb.com/M/title-exact?Cat%20on%20a%20Hot%20Tin%20Roof%20(1958)                                                             |[0, 0, 0, 0, 0, 0, 0, 0, 1, 0, 0, 0, 0, 0, 0, 0, 0, 0, 0]|Cat on a Hot Tin Roof (1958)                                                     |\n",
      "|13-Sep-1996|500 |http://us.imdb.com/M/title-exact?Fly%20Away%20Home%20(1996)                                                                           |[0, 0, 1, 0, 1, 0, 0, 0, 0, 0, 0, 0, 0, 0, 0, 0, 0, 0, 0]|Fly Away Home (1996)                                                             |\n",
      "|01-Jan-1941|501 |http://us.imdb.com/M/title-exact?Dumbo%20(1941)                                                                                       |[0, 0, 0, 1, 1, 0, 0, 0, 0, 0, 0, 0, 1, 0, 0, 0, 0, 0, 0]|Dumbo (1941)                                                                     |\n",
      "|01-Jan-1971|502 |http://us.imdb.com/M/title-exact?Bananas%20(1971)                                                                                     |[0, 0, 0, 0, 0, 1, 0, 0, 0, 0, 0, 0, 0, 0, 0, 0, 0, 1, 0]|Bananas (1971)                                                                   |\n",
      "|01-Jan-1972|503 |http://us.imdb.com/M/title-exact?Candidate,%20The%20(1972)                                                                            |[0, 0, 0, 0, 0, 0, 0, 0, 1, 0, 0, 0, 0, 0, 0, 0, 0, 0, 0]|Candidate, The (1972)                                                            |\n",
      "|01-Jan-1967|504 |http://us.imdb.com/M/title-exact?Bonnie%20and%20Clyde%20(1967)                                                                        |[0, 0, 0, 0, 0, 0, 1, 0, 1, 0, 0, 0, 0, 0, 0, 0, 0, 0, 0]|Bonnie and Clyde (1967)                                                          |\n",
      "|01-Jan-1954|505 |http://us.imdb.com/M/title-exact?Dial%20M%20for%20Murder%20(1954)                                                                     |[0, 0, 0, 0, 0, 0, 0, 0, 0, 0, 0, 0, 0, 1, 0, 0, 1, 0, 0]|Dial M for Murder (1954)                                                         |\n",
      "|01-Jan-1955|506 |http://us.imdb.com/M/title-exact?Rebel%20Without%20a%20Cause%20(1955)                                                                 |[0, 0, 0, 0, 0, 0, 0, 0, 1, 0, 0, 0, 0, 0, 0, 0, 0, 0, 0]|Rebel Without a Cause (1955)                                                     |\n",
      "|01-Jan-1951|507 |http://us.imdb.com/M/title-exact?Streetcar%20Named%20Desire,%20A%20(1951)                                                             |[0, 0, 0, 0, 0, 0, 0, 0, 1, 0, 0, 0, 0, 0, 0, 0, 0, 0, 0]|Streetcar Named Desire, A (1951)                                                 |\n",
      "|27-Dec-1996|508 |http://us.imdb.com/M/title-exact?People%20vs.%20Larry%20Flynt,%20The%20(1996)                                                         |[0, 0, 0, 0, 0, 0, 0, 0, 1, 0, 0, 0, 0, 0, 0, 0, 0, 0, 0]|People vs. Larry Flynt, The (1996)                                               |\n",
      "|01-Jan-1989|509 |http://us.imdb.com/M/title-exact?My%20Left%20Foot%20(1989)                                                                            |[0, 0, 0, 0, 0, 0, 0, 0, 1, 0, 0, 0, 0, 0, 0, 0, 0, 0, 0]|My Left Foot (1989)                                                              |\n",
      "|01-Jan-1954|510 |http://us.imdb.com/M/title-exact?Shichinin%20no%20samurai%20(1954)                                                                    |[0, 1, 0, 0, 0, 0, 0, 0, 1, 0, 0, 0, 0, 0, 0, 0, 0, 0, 1]|Magnificent Seven, The (1954)                                                    |\n",
      "|01-Jan-1962|511 |http://us.imdb.com/M/title-exact?Lawrence%20of%20Arabia%20(1962)                                                                      |[0, 0, 1, 0, 0, 0, 0, 0, 0, 0, 0, 0, 0, 0, 0, 0, 0, 1, 0]|Lawrence of Arabia (1962)                                                        |\n",
      "|01-Jan-1987|512 |http://us.imdb.com/Title?Himmel+%FCber+Berlin,+Der+(1987)                                                                             |[0, 0, 0, 0, 0, 1, 0, 0, 1, 0, 0, 0, 0, 0, 1, 0, 0, 0, 0]|Wings of Desire (1987)                                                           |\n",
      "|01-Jan-1949|513 |http://us.imdb.com/M/title-exact?Third%20Man,%20The%20(1949)                                                                          |[0, 0, 0, 0, 0, 0, 0, 0, 0, 0, 0, 0, 0, 1, 0, 0, 1, 0, 0]|Third Man, The (1949)                                                            |\n",
      "|01-Jan-1977|514 |http://us.imdb.com/M/title-exact?Annie%20Hall%20(1977)                                                                                |[0, 0, 0, 0, 0, 1, 0, 0, 0, 0, 0, 0, 0, 0, 1, 0, 0, 0, 0]|Annie Hall (1977)                                                                |\n",
      "|04-Apr-1997|515 |http://us.imdb.com/M/title-exact?Boot,%20Das%20(1981)                                                                                 |[0, 1, 0, 0, 0, 0, 0, 0, 1, 0, 0, 0, 0, 0, 0, 0, 0, 1, 0]|Boot, Das (1981)                                                                 |\n",
      "|01-Jan-1983|516 |http://us.imdb.com/M/title-exact?Local%20Hero%20(1983)                                                                                |[0, 0, 0, 0, 0, 1, 0, 0, 0, 0, 0, 0, 0, 0, 0, 0, 0, 0, 0]|Local Hero (1983)                                                                |\n",
      "|01-Jan-1979|517 |http://us.imdb.com/M/title-exact?Manhattan%20(1979)                                                                                   |[0, 0, 0, 0, 0, 1, 0, 0, 1, 0, 0, 0, 0, 0, 1, 0, 0, 0, 0]|Manhattan (1979)                                                                 |\n",
      "|01-Jan-1990|518 |http://us.imdb.com/M/title-exact?Miller's%20Crossing%20(1990)                                                                         |[0, 0, 0, 0, 0, 0, 0, 0, 1, 0, 0, 0, 0, 0, 0, 0, 0, 0, 0]|Miller's Crossing (1990)                                                         |\n",
      "|01-Jan-1948|519 |http://us.imdb.com/M/title-exact?Treasure%20of%20the%20Sierra%20Madre,%20The%20(1948)                                                 |[0, 0, 1, 0, 0, 0, 0, 0, 0, 0, 0, 0, 0, 0, 0, 0, 0, 0, 0]|Treasure of the Sierra Madre, The (1948)                                         |\n",
      "|01-Jan-1963|520 |http://us.imdb.com/M/title-exact?Great%20Escape,%20The%20(1963)                                                                       |[0, 0, 1, 0, 0, 0, 0, 0, 0, 0, 0, 0, 0, 0, 0, 0, 0, 1, 0]|Great Escape, The (1963)                                                         |\n",
      "|01-Jan-1978|521 |http://us.imdb.com/M/title-exact?Deer%20Hunter,%20The%20(1978)                                                                        |[0, 0, 0, 0, 0, 0, 0, 0, 1, 0, 0, 0, 0, 0, 0, 0, 0, 1, 0]|Deer Hunter, The (1978)                                                          |\n",
      "|01-Jan-1986|522 |http://us.imdb.com/M/title-exact?Down%20by%20Law%20(1986)                                                                             |[0, 0, 0, 0, 0, 1, 0, 0, 1, 0, 0, 0, 0, 0, 0, 0, 0, 0, 0]|Down by Law (1986)                                                               |\n",
      "|01-Jan-1967|523 |http://us.imdb.com/M/title-exact?Cool%20Hand%20Luke%20(1967)                                                                          |[0, 0, 0, 0, 0, 1, 0, 0, 1, 0, 0, 0, 0, 0, 0, 0, 0, 0, 0]|Cool Hand Luke (1967)                                                            |\n",
      "|01-Jan-1940|524 |http://us.imdb.com/M/title-exact?Great%20Dictator,%20The%20(1940)                                                                     |[0, 0, 0, 0, 0, 1, 0, 0, 0, 0, 0, 0, 0, 0, 0, 0, 0, 0, 0]|Great Dictator, The (1940)                                                       |\n",
      "|01-Jan-1946|525 |http://us.imdb.com/M/title-exact?Big%20Sleep,%20The%20(1946)                                                                          |[0, 0, 0, 0, 0, 0, 0, 0, 0, 0, 1, 0, 0, 1, 0, 0, 0, 0, 0]|Big Sleep, The (1946)                                                            |\n",
      "|01-Jan-1959|526 |http://us.imdb.com/M/title-exact?Ben-Hur%20(1959)                                                                                     |[0, 1, 1, 0, 0, 0, 0, 0, 1, 0, 0, 0, 0, 0, 0, 0, 0, 0, 0]|Ben-Hur (1959)                                                                   |\n",
      "|01-Jan-1982|527 |http://us.imdb.com/M/title-exact?Gandhi%20(1982)                                                                                      |[0, 0, 0, 0, 0, 0, 0, 0, 1, 0, 0, 0, 0, 0, 0, 0, 0, 0, 0]|Gandhi (1982)                                                                    |\n",
      "|01-Jan-1984|528 |http://us.imdb.com/M/title-exact?Killing%20Fields,%20The%20(1984)                                                                     |[0, 0, 0, 0, 0, 0, 0, 0, 1, 0, 0, 0, 0, 0, 0, 0, 0, 1, 0]|Killing Fields, The (1984)                                                       |\n",
      "|01-Jan-1985|529 |http://us.imdb.com/M/title-exact?Mitt%20liv%20som%20hund%20(1985)                                                                     |[0, 0, 0, 0, 0, 0, 0, 0, 1, 0, 0, 0, 0, 0, 0, 0, 0, 0, 0]|My Life as a Dog (Mitt liv som hund) (1985)                                      |\n",
      "|01-Jan-1975|530 |http://us.imdb.com/M/title-exact?Man%20Who%20Would%20Be%20King,%20The%20(1975)                                                        |[0, 0, 1, 0, 0, 0, 0, 0, 0, 0, 0, 0, 0, 0, 0, 0, 0, 0, 0]|Man Who Would Be King, The (1975)                                                |\n",
      "|22-Nov-1996|531 |http://us.imdb.com/M/title-exact?Shine%20(1996)                                                                                       |[0, 0, 0, 0, 0, 0, 0, 0, 1, 0, 0, 0, 0, 0, 1, 0, 0, 0, 0]|Shine (1996)                                                                     |\n",
      "|07-Mar-1997|532 |http://us.imdb.com/M/title-exact?Kama%20Sutra%20(1996)                                                                                |[0, 0, 0, 0, 0, 0, 0, 0, 0, 0, 0, 0, 0, 0, 1, 0, 0, 0, 0]|Kama Sutra: A Tale of Love (1996)                                                |\n",
      "|21-Mar-1997|533 |http://us.imdb.com/M/title-exact?Daytrippers%2C%20The%20(1996)                                                                        |[0, 0, 0, 0, 0, 0, 0, 0, 0, 0, 0, 0, 0, 1, 0, 0, 0, 0, 0]|Daytrippers, The (1996)                                                          |\n",
      "|18-Apr-1997|534 |http://us.imdb.com/M/title-exact?Traveller%20%281997%29                                                                               |[0, 0, 0, 0, 0, 0, 0, 0, 1, 0, 0, 0, 0, 0, 0, 0, 0, 0, 0]|Traveller (1997)                                                                 |\n",
      "|23-May-1997|535 |http://us.imdb.com/M/title-exact?Addicted%20to%20Love%20%281997%29                                                                    |[0, 0, 0, 0, 0, 1, 0, 0, 0, 0, 0, 0, 0, 0, 1, 0, 0, 0, 0]|Addicted to Love (1997)                                                          |\n",
      "|23-May-1997|536 |http://us.imdb.com/M/title-exact?Ponette%20%281996%29                                                                                 |[0, 0, 0, 0, 0, 0, 0, 0, 1, 0, 0, 0, 0, 0, 0, 0, 0, 0, 0]|Ponette (1996)                                                                   |\n",
      "|01-Jan-1991|537 |http://us.imdb.com/M/title-exact?My+Own+Private+Idaho+(1991)                                                                          |[0, 0, 0, 0, 0, 0, 0, 0, 1, 0, 0, 0, 0, 0, 0, 0, 0, 0, 0]|My Own Private Idaho (1991)                                                      |\n",
      "|01-Jan-1997|538 |http://us.imdb.com/M/title-exact?Anastasia+(1997)                                                                                     |[0, 0, 0, 1, 1, 0, 0, 0, 0, 0, 0, 0, 1, 0, 0, 0, 0, 0, 0]|Anastasia (1997)                                                                 |\n",
      "|01-Jan-1997|539 |http://us.imdb.com/M/title-exact?imdb-title-119715                                                                                    |[0, 0, 0, 0, 1, 1, 0, 0, 0, 0, 0, 0, 0, 0, 0, 0, 0, 0, 0]|Mouse Hunt (1997)                                                                |\n",
      "|01-Jan-1995|540 |http://us.imdb.com/M/title-exact?Money%20Train%20(1995)                                                                               |[0, 1, 0, 0, 0, 0, 0, 0, 0, 0, 0, 0, 0, 0, 0, 0, 0, 0, 0]|Money Train (1995)                                                               |\n",
      "|01-Jan-1995|541 |http://us.imdb.com/M/title-exact?Mortal%20Kombat%20(1995)                                                                             |[0, 1, 1, 0, 0, 0, 0, 0, 0, 0, 0, 0, 0, 0, 0, 0, 0, 0, 0]|Mortal Kombat (1995)                                                             |\n",
      "|01-Jan-1995|542 |http://us.imdb.com/M/title-exact?Pocahontas%20(1995)                                                                                  |[0, 0, 0, 1, 1, 0, 0, 0, 0, 0, 0, 0, 1, 0, 1, 0, 0, 0, 0]|Pocahontas (1995)                                                                |\n",
      "|01-Jan-1995|543 |http://us.imdb.com/M/title-exact?Mis%E9rables%2C%20Les%20%281995%29                                                                   |[0, 0, 0, 0, 0, 0, 0, 0, 1, 0, 0, 0, 1, 0, 0, 0, 0, 0, 0]|Mis�rables, Les (1995)                                                           |\n",
      "|02-Feb-1996|544 |http://us.imdb.com/M/title-exact?Things%20to%20Do%20in%20Denver%20when%20You're%20Dead%20(1995)                                       |[0, 0, 0, 0, 0, 0, 1, 0, 1, 0, 0, 0, 0, 0, 1, 0, 0, 0, 0]|Things to Do in Denver when You're Dead (1995)                                   |\n",
      "|01-Jan-1995|545 |http://us.imdb.com/M/title-exact?Vampire%20in%20Brooklyn%20(1995)                                                                     |[0, 0, 0, 0, 0, 1, 0, 0, 0, 0, 0, 0, 0, 0, 1, 0, 0, 0, 0]|Vampire in Brooklyn (1995)                                                       |\n",
      "|09-Feb-1996|546 |http://us.imdb.com/M/title-exact?Broken%20Arrow%20(1996)                                                                              |[0, 1, 0, 0, 0, 0, 0, 0, 0, 0, 0, 0, 0, 0, 0, 0, 1, 0, 0]|Broken Arrow (1996)                                                              |\n",
      "|23-Feb-1996|547 |http://us.imdb.com/M/title-exact?Young%20Poisoner's%20Handbook,%20The%20(1995)                                                        |[0, 0, 0, 0, 0, 0, 1, 0, 0, 0, 0, 0, 0, 0, 0, 0, 0, 0, 0]|Young Poisoner's Handbook, The (1995)                                            |\n",
      "|02-Feb-1996|548 |http://us.imdb.com/M/title-exact?NeverEnding%20Story%20III,%20The%20(1994)                                                            |[0, 0, 0, 0, 1, 0, 0, 0, 0, 1, 0, 0, 0, 0, 0, 0, 0, 0, 0]|NeverEnding Story III, The (1994)                                                |\n",
      "|01-Jan-1995|549 |http://us.imdb.com/M/title-exact?Rob%20Roy%20(1995)                                                                                   |[0, 0, 0, 0, 0, 0, 0, 0, 1, 0, 0, 0, 0, 0, 1, 0, 0, 1, 0]|Rob Roy (1995)                                                                   |\n",
      "|01-Jan-1995|550 |http://us.imdb.com/M/title-exact?Die%20Hard:%20With%20a%20Vengeance%20(1995)                                                          |[0, 1, 0, 0, 0, 0, 0, 0, 0, 0, 0, 0, 0, 0, 0, 0, 1, 0, 0]|Die Hard: With a Vengeance (1995)                                                |\n",
      "|01-Jan-1995|551 |http://us.imdb.com/M/title-exact?Lord%20of%20Illusions%20(1995)                                                                       |[0, 0, 0, 0, 0, 0, 0, 0, 0, 0, 0, 1, 0, 0, 0, 0, 0, 0, 0]|Lord of Illusions (1995)                                                         |\n",
      "|01-Jan-1995|552 |http://us.imdb.com/M/title-exact?Species%20(1995)                                                                                     |[0, 0, 0, 0, 0, 0, 0, 0, 0, 0, 0, 0, 0, 0, 0, 1, 0, 0, 0]|Species (1995)                                                                   |\n",
      "|01-Jan-1995|553 |http://us.imdb.com/M/title-exact?Walk%20in%20the%20Clouds,%20A%20(1995)                                                               |[0, 0, 0, 0, 0, 0, 0, 0, 1, 0, 0, 0, 0, 0, 1, 0, 0, 0, 0]|Walk in the Clouds, A (1995)                                                     |\n",
      "|01-Jan-1995|554 |http://us.imdb.com/M/title-exact?Waterworld%20(1995)                                                                                  |[0, 1, 1, 0, 0, 0, 0, 0, 0, 0, 0, 0, 0, 0, 0, 0, 0, 0, 0]|Waterworld (1995)                                                                |\n",
      "|01-Jan-1995|555 |http://us.imdb.com/M/title-exact?White%20Man's%20Burden%20(1995)                                                                      |[0, 0, 0, 0, 0, 0, 0, 0, 1, 0, 0, 0, 0, 0, 0, 0, 0, 0, 0]|White Man's Burden (1995)                                                        |\n",
      "|01-Jan-1995|556 |http://us.imdb.com/M/title-exact?Wild%20Bill%20(1995)                                                                                 |[0, 0, 0, 0, 0, 0, 0, 0, 0, 0, 0, 0, 0, 0, 0, 0, 0, 0, 1]|Wild Bill (1995)                                                                 |\n",
      "|01-Jan-1994|557 |http://us.imdb.com/M/title-exact?Farinelli:%20il%20castrato%20(1994)                                                                  |[0, 0, 0, 0, 0, 0, 0, 0, 1, 0, 0, 0, 1, 0, 0, 0, 0, 0, 0]|Farinelli: il castrato (1994)                                                    |\n",
      "|01-Jan-1994|558 |http://us.imdb.com/M/title-exact?Heavenly%20Creatures%20(1994)                                                                        |[0, 0, 0, 0, 0, 0, 0, 0, 1, 1, 0, 0, 0, 0, 0, 0, 1, 0, 0]|Heavenly Creatures (1994)                                                        |\n",
      "|01-Jan-1994|559 |http://us.imdb.com/M/title-exact?Interview%20with%20the%20Vampire%20(1994)                                                            |[0, 0, 0, 0, 0, 0, 0, 0, 1, 0, 0, 1, 0, 0, 0, 0, 0, 0, 0]|Interview with the Vampire (1994)                                                |\n",
      "|01-Jan-1995|560 |http://us.imdb.com/M/title-exact?Kid%20in%20King%20Arthur's%20Court,%20A%20(1995)                                                     |[0, 0, 1, 0, 1, 1, 0, 0, 0, 1, 0, 0, 0, 0, 1, 1, 0, 0, 0]|Kid in King Arthur's Court, A (1995)                                             |\n",
      "|01-Jan-1994|561 |http://us.imdb.com/M/title-exact?Mary%20Shelley's%20Frankenstein%20(1994)                                                             |[0, 0, 0, 0, 0, 0, 0, 0, 1, 0, 0, 1, 0, 0, 0, 0, 0, 0, 0]|Mary Shelley's Frankenstein (1994)                                               |\n",
      "|01-Jan-1995|562 |http://us.imdb.com/M/title-exact?Quick%20and%20the%20Dead,%20The%20(1995)                                                             |[0, 1, 1, 0, 0, 0, 0, 0, 0, 0, 0, 0, 0, 0, 0, 0, 0, 0, 1]|Quick and the Dead, The (1995)                                                   |\n",
      "|01-Jan-1995|563 |http://us.imdb.com/M/title-exact?%22Langoliers,%20The%22%20(1995)%20(mini)                                                            |[0, 0, 0, 0, 0, 0, 0, 0, 0, 0, 0, 1, 0, 0, 0, 0, 0, 0, 0]|Stephen King's The Langoliers (1995)                                             |\n",
      "|01-Jan-1995|564 |http://us.imdb.com/M/title-exact?Tales%20from%20the%20Hood%20(1995)                                                                   |[0, 0, 0, 0, 0, 1, 0, 0, 0, 0, 0, 1, 0, 0, 0, 0, 0, 0, 0]|Tales from the Hood (1995)                                                       |\n",
      "|01-Jan-1995|565 |http://us.imdb.com/M/title-exact?Village%20of%20the%20Damned%20(1995)                                                                 |[0, 0, 0, 0, 0, 0, 0, 0, 0, 0, 0, 1, 0, 0, 0, 0, 1, 0, 0]|Village of the Damned (1995)                                                     |\n",
      "|01-Jan-1994|566 |http://us.imdb.com/M/title-exact?Clear%20and%20Present%20Danger%20(1994)                                                              |[0, 1, 1, 0, 0, 0, 0, 0, 0, 0, 0, 0, 0, 0, 0, 0, 1, 0, 0]|Clear and Present Danger (1994)                                                  |\n",
      "|01-Jan-1994|567 |http://us.imdb.com/M/title-exact?Wes%20Craven's%20New%20Nightmare%20(1994)                                                            |[0, 0, 0, 0, 0, 0, 0, 0, 0, 0, 0, 1, 0, 0, 0, 0, 0, 0, 0]|Wes Craven's New Nightmare (1994)                                                |\n",
      "|01-Jan-1994|568 |http://us.imdb.com/M/title-exact?Speed%20(1994/I)                                                                                     |[0, 1, 0, 0, 0, 0, 0, 0, 0, 0, 0, 0, 0, 0, 1, 0, 1, 0, 0]|Speed (1994)                                                                     |\n",
      "|01-Jan-1994|569 |http://us.imdb.com/M/title-exact?Wolf%20(1994)                                                                                        |[0, 0, 0, 0, 0, 0, 0, 0, 1, 0, 0, 1, 0, 0, 0, 0, 0, 0, 0]|Wolf (1994)                                                                      |\n",
      "|01-Jan-1994|570 |http://us.imdb.com/M/title-exact?Wyatt%20Earp%20(1994)                                                                                |[0, 0, 0, 0, 0, 0, 0, 0, 0, 0, 0, 0, 0, 0, 0, 0, 0, 0, 1]|Wyatt Earp (1994)                                                                |\n",
      "|01-Jan-1993|571 |http://us.imdb.com/M/title-exact?Another%20Stakeout%20(1993)                                                                          |[0, 0, 0, 0, 0, 1, 0, 0, 0, 0, 0, 0, 0, 0, 0, 0, 1, 0, 0]|Another Stakeout (1993)                                                          |\n",
      "|01-Jan-1994|572 |http://us.imdb.com/M/title-exact?Blown%20Away%20(1994)                                                                                |[0, 1, 0, 0, 0, 0, 0, 0, 0, 0, 0, 0, 0, 0, 0, 0, 1, 0, 0]|Blown Away (1994)                                                                |\n",
      "|01-Jan-1993|573 |http://us.imdb.com/M/title-exact?Body%20Snatchers%20(1993)                                                                            |[0, 0, 0, 0, 0, 0, 0, 0, 0, 0, 0, 1, 0, 0, 0, 1, 1, 0, 0]|Body Snatchers (1993)                                                            |\n",
      "|01-Jan-1993|574 |http://us.imdb.com/M/title-exact?Boxing%20Helena%20(1993)                                                                             |[0, 0, 0, 0, 0, 0, 0, 0, 0, 0, 0, 0, 0, 1, 1, 0, 1, 0, 0]|Boxing Helena (1993)                                                             |\n",
      "|01-Jan-1994|575 |http://us.imdb.com/M/title-exact?City%20Slickers%20II:%20The%20Legend%20of%20Curly's%20Gold%20(1994)                                  |[0, 0, 0, 0, 0, 1, 0, 0, 0, 0, 0, 0, 0, 0, 0, 0, 0, 0, 1]|City Slickers II: The Legend of Curly's Gold (1994)                              |\n",
      "|01-Jan-1993|576 |http://us.imdb.com/M/title-exact?Cliffhanger%20(1993)                                                                                 |[0, 1, 1, 0, 0, 0, 1, 0, 0, 0, 0, 0, 0, 0, 0, 0, 0, 0, 0]|Cliffhanger (1993)                                                               |\n",
      "|01-Jan-1993|577 |http://us.imdb.com/M/title-exact?Coneheads%20(1993)                                                                                   |[0, 0, 0, 0, 0, 1, 0, 0, 0, 0, 0, 0, 0, 0, 0, 1, 0, 0, 0]|Coneheads (1993)                                                                 |\n",
      "|01-Jan-1993|578 |http://us.imdb.com/M/title-exact?Demolition%20Man%20(1993)                                                                            |[0, 1, 0, 0, 0, 0, 0, 0, 0, 0, 0, 0, 0, 0, 0, 1, 0, 0, 0]|Demolition Man (1993)                                                            |\n",
      "|01-Jan-1993|579 |http://us.imdb.com/M/title-exact?Fatal%20Instinct%20(1993)                                                                            |[0, 0, 0, 0, 0, 1, 0, 0, 0, 0, 0, 0, 0, 0, 0, 0, 0, 0, 0]|Fatal Instinct (1993)                                                            |\n",
      "|01-Jan-1995|580 |http://us.imdb.com/M/title-exact?Englishman%20Who%20Went%20Up%20a%20Hill,%20But%20Came%20Down%20a%20Mountain,%20The%20(1995)          |[0, 0, 0, 0, 0, 1, 0, 0, 0, 0, 0, 0, 0, 0, 1, 0, 0, 0, 0]|Englishman Who Went Up a Hill, But Came Down a Mountain, The (1995)              |\n",
      "|01-Jan-1993|581 |http://us.imdb.com/M/title-exact?Kalifornia%20(1993)                                                                                  |[0, 0, 0, 0, 0, 0, 0, 0, 1, 0, 0, 0, 0, 0, 0, 0, 1, 0, 0]|Kalifornia (1993)                                                                |\n",
      "|01-Jan-1993|582 |http://us.imdb.com/M/title-exact?Piano,%20The%20(1993)                                                                                |[0, 0, 0, 0, 0, 0, 0, 0, 1, 0, 0, 0, 0, 0, 1, 0, 0, 0, 0]|Piano, The (1993)                                                                |\n",
      "|01-Jan-1993|583 |http://us.imdb.com/M/title-exact?Romeo%20Is%20Bleeding%20(1993)                                                                       |[0, 0, 0, 0, 0, 0, 1, 0, 0, 0, 0, 0, 0, 0, 0, 0, 1, 0, 0]|Romeo Is Bleeding (1993)                                                         |\n",
      "|01-Jan-1993|584 |http://us.imdb.com/M/title-exact?Secret%20Garden,%20The%20(1993)                                                                      |[0, 0, 0, 0, 1, 0, 0, 0, 1, 0, 0, 0, 0, 0, 0, 0, 0, 0, 0]|Secret Garden, The (1993)                                                        |\n",
      "|01-Jan-1993|585 |http://us.imdb.com/M/title-exact?Son%20in%20Law%20(1993)                                                                              |[0, 0, 0, 0, 0, 1, 0, 0, 0, 0, 0, 0, 0, 0, 0, 0, 0, 0, 0]|Son in Law (1993)                                                                |\n",
      "|01-Jan-1994|586 |http://us.imdb.com/M/title-exact?Terminal%20Velocity%20(1994)                                                                         |[0, 1, 0, 0, 0, 0, 0, 0, 0, 0, 0, 0, 0, 0, 0, 0, 0, 0, 0]|Terminal Velocity (1994)                                                         |\n",
      "|01-Jan-1993|587 |http://us.imdb.com/M/title-exact?Hour%20of%20the%20Pig,%20The%20(1993)                                                                |[0, 0, 0, 0, 0, 0, 0, 0, 1, 0, 0, 0, 0, 1, 0, 0, 0, 0, 0]|Hour of the Pig, The (1993)                                                      |\n",
      "|01-Jan-1991|588 |http://us.imdb.com/M/title-exact?Beauty%20and%20the%20Beast%20(1991)                                                                  |[0, 0, 0, 1, 1, 0, 0, 0, 0, 0, 0, 0, 1, 0, 0, 0, 0, 0, 0]|Beauty and the Beast (1991)                                                      |\n",
      "|01-Jan-1969|589 |http://us.imdb.com/M/title-exact?Wild%20Bunch,%20The%20(1969)                                                                         |[0, 0, 0, 0, 0, 0, 0, 0, 0, 0, 0, 0, 0, 0, 0, 0, 0, 0, 1]|Wild Bunch, The (1969)                                                           |\n",
      "|08-Mar-1996|590 |http://us.imdb.com/M/title-exact?Hellraiser:%20Bloodline%20(1996)                                                                     |[0, 1, 0, 0, 0, 0, 0, 0, 0, 0, 0, 1, 0, 0, 0, 1, 0, 0, 0]|Hellraiser: Bloodline (1996)                                                     |\n",
      "|30-Mar-1996|591 |http://us.imdb.com/M/title-exact?Primal%20Fear%20(1996)                                                                               |[0, 0, 0, 0, 0, 0, 0, 0, 1, 0, 0, 0, 0, 0, 0, 0, 1, 0, 0]|Primal Fear (1996)                                                               |\n",
      "|01-Jan-1995|592 |http://us.imdb.com/M/title-exact?True%20Crime%20(1995)                                                                                |[0, 0, 0, 0, 0, 0, 0, 0, 0, 0, 0, 0, 0, 1, 0, 0, 1, 0, 0]|True Crime (1995)                                                                |\n",
      "|01-Jan-1993|593 |http://us.imdb.com/M/title-exact?Stalingrad%20(1993)                                                                                  |[0, 0, 0, 0, 0, 0, 0, 0, 0, 0, 0, 0, 0, 0, 0, 0, 0, 1, 0]|Stalingrad (1993)                                                                |\n",
      "|05-Jun-1996|594 |http://us.imdb.com/M/title-exact?Heavy%20(1995)                                                                                       |[0, 0, 0, 0, 0, 0, 0, 0, 1, 0, 0, 0, 0, 0, 1, 0, 0, 0, 0]|Heavy (1995)                                                                     |\n",
      "|16-Aug-1996|595 |http://us.imdb.com/M/title-exact?Fan,%20The%20(1996)                                                                                  |[0, 0, 0, 0, 0, 0, 0, 0, 0, 0, 0, 0, 0, 0, 0, 0, 1, 0, 0]|Fan, The (1996)                                                                  |\n",
      "|21-Jun-1996|596 |http://us.imdb.com/M/title-exact?Hunchback%20of%20Notre%20Dame,%20The%20(1996)                                                        |[0, 0, 0, 1, 1, 0, 0, 0, 0, 0, 0, 0, 1, 0, 0, 0, 0, 0, 0]|Hunchback of Notre Dame, The (1996)                                              |\n",
      "|21-Jun-1996|597 |http://us.imdb.com/M/title-exact?Eraser%20(1996)                                                                                      |[0, 1, 0, 0, 0, 0, 0, 0, 0, 0, 0, 0, 0, 0, 0, 0, 1, 0, 0]|Eraser (1996)                                                                    |\n",
      "|06-Sep-1996|598 |http://us.imdb.com/M/title-exact?Big%20Squeeze,%20The%20(1996)                                                                        |[0, 0, 0, 0, 0, 1, 0, 0, 1, 0, 0, 0, 0, 0, 0, 0, 0, 0, 0]|Big Squeeze, The (1996)                                                          |\n",
      "|16-Aug-1996|599 |http://us.imdb.com/M/title-exact?Project%20S%20(1993)                                                                                 |[0, 1, 0, 0, 0, 0, 0, 0, 0, 0, 0, 0, 0, 0, 0, 0, 0, 0, 0]|Police Story 4: Project S (Chao ji ji hua) (1993)                                |\n",
      "|01-Jan-1996|600 |http://us.imdb.com/M/title-exact?Robinson%20Crusoe%20(1996)                                                                           |[0, 0, 0, 0, 1, 0, 0, 0, 0, 0, 0, 0, 0, 0, 0, 0, 0, 0, 0]|Daniel Defoe's Robinson Crusoe (1996)                                            |\n",
      "|01-Jan-1943|601 |http://us.imdb.com/M/title-exact?For%20Whom%20the%20Bell%20Tolls%20(1943)                                                             |[0, 0, 1, 0, 0, 0, 0, 0, 0, 0, 0, 0, 0, 0, 0, 0, 0, 1, 0]|For Whom the Bell Tolls (1943)                                                   |\n",
      "|01-Jan-1951|602 |http://us.imdb.com/M/title-exact?American%20in%20Paris,%20An%20(1951)                                                                 |[0, 0, 0, 0, 0, 0, 0, 0, 0, 0, 0, 0, 1, 0, 1, 0, 0, 0, 0]|American in Paris, An (1951)                                                     |\n",
      "|01-Jan-1954|603 |http://us.imdb.com/M/title-exact?Rear%20Window%20(1954)                                                                               |[0, 0, 0, 0, 0, 0, 0, 0, 0, 0, 0, 0, 0, 1, 0, 0, 1, 0, 0]|Rear Window (1954)                                                               |\n",
      "|01-Jan-1934|604 |http://us.imdb.com/M/title-exact?It%20Happened%20One%20Night%20(1934)                                                                 |[0, 0, 0, 0, 0, 1, 0, 0, 0, 0, 0, 0, 0, 0, 0, 0, 0, 0, 0]|It Happened One Night (1934)                                                     |\n",
      "|01-Jan-1944|605 |http://us.imdb.com/M/title-exact?Meet%20Me%20in%20St.%20Louis%20(1944)                                                                |[0, 0, 0, 0, 0, 0, 0, 0, 0, 0, 0, 0, 1, 0, 0, 0, 0, 0, 0]|Meet Me in St. Louis (1944)                                                      |\n",
      "|01-Jan-1950|606 |http://us.imdb.com/M/title-exact?All%20About%20Eve%20(1950)                                                                           |[0, 0, 0, 0, 0, 0, 0, 0, 1, 0, 0, 0, 0, 0, 0, 0, 0, 0, 0]|All About Eve (1950)                                                             |\n",
      "|01-Jan-1940|607 |http://us.imdb.com/M/title-exact?Rebecca%20(1940)                                                                                     |[0, 0, 0, 0, 0, 0, 0, 0, 0, 0, 0, 0, 0, 0, 1, 0, 1, 0, 0]|Rebecca (1940)                                                                   |\n",
      "|01-Jan-1945|608 |http://us.imdb.com/M/title-exact?Spellbound%20(1945)                                                                                  |[0, 0, 0, 0, 0, 0, 0, 0, 0, 0, 0, 0, 0, 1, 1, 0, 1, 0, 0]|Spellbound (1945)                                                                |\n",
      "|01-Jan-1950|609 |http://us.imdb.com/M/title-exact?Father%20of%20the%20Bride%20(1950)                                                                   |[0, 0, 0, 0, 0, 1, 0, 0, 0, 0, 0, 0, 0, 0, 0, 0, 0, 0, 0]|Father of the Bride (1950)                                                       |\n",
      "|01-Jan-1958|610 |http://us.imdb.com/M/title-exact?Gigi%20(1958)                                                                                        |[0, 0, 0, 0, 0, 0, 0, 0, 0, 0, 0, 0, 1, 0, 0, 0, 0, 0, 0]|Gigi (1958)                                                                      |\n",
      "|01-Jan-1944|611 |http://us.imdb.com/M/title-exact?Laura%20(1944)                                                                                       |[0, 0, 0, 0, 0, 0, 1, 0, 0, 0, 1, 0, 0, 1, 0, 0, 0, 0, 0]|Laura (1944)                                                                     |\n",
      "|01-Jan-1937|612 |http://us.imdb.com/M/title-exact?Lost%20Horizon%20(1937)                                                                              |[0, 0, 0, 0, 0, 0, 0, 0, 1, 0, 0, 0, 0, 0, 0, 0, 0, 0, 0]|Lost Horizon (1937)                                                              |\n",
      "|01-Jan-1936|613 |http://us.imdb.com/M/title-exact?My%20Man%20Godfrey%20(1936)                                                                          |[0, 0, 0, 0, 0, 1, 0, 0, 0, 0, 0, 0, 0, 0, 0, 0, 0, 0, 0]|My Man Godfrey (1936)                                                            |\n",
      "|01-Jan-1956|614 |http://us.imdb.com/M/title-exact?Giant%20(1956)                                                                                       |[0, 0, 0, 0, 0, 0, 0, 0, 1, 0, 0, 0, 0, 0, 0, 0, 0, 0, 0]|Giant (1956)                                                                     |\n",
      "|01-Jan-1935|615 |http://us.imdb.com/M/title-exact?39%20Steps,%20The%20(1935)                                                                           |[0, 0, 0, 0, 0, 0, 0, 0, 0, 0, 0, 0, 0, 0, 0, 0, 1, 0, 0]|39 Steps, The (1935)                                                             |\n",
      "|01-Jan-1968|616 |http://us.imdb.com/M/title-exact?Night%20of%20the%20Living%20Dead%20(1968)                                                            |[0, 0, 0, 0, 0, 0, 0, 0, 0, 0, 0, 1, 0, 0, 0, 1, 0, 0, 0]|Night of the Living Dead (1968)                                                  |\n",
      "|01-Jan-1930|617 |http://us.imdb.com/M/title-exact?Blaue%20Engel,%20Der%20(1930)                                                                        |[0, 0, 0, 0, 0, 0, 0, 0, 1, 0, 0, 0, 0, 0, 0, 0, 0, 0, 0]|Blue Angel, The (Blaue Engel, Der) (1930)                                        |\n",
      "|01-Jan-1955|618 |http://us.imdb.com/M/title-exact?Picnic%20(1955)                                                                                      |[0, 0, 0, 0, 0, 0, 0, 0, 1, 0, 0, 0, 0, 0, 0, 0, 0, 0, 0]|Picnic (1955)                                                                    |\n",
      "|27-Sep-1996|619 |http://us.imdb.com/M/title-exact?Extreme%20Measures%20(1996)                                                                          |[0, 0, 0, 0, 0, 0, 0, 0, 1, 0, 0, 0, 0, 0, 0, 0, 1, 0, 0]|Extreme Measures (1996)                                                          |\n",
      "|11-Oct-1996|620 |http://us.imdb.com/M/title-exact?Chamber,%20The%20(1996)                                                                              |[0, 0, 0, 0, 0, 0, 0, 0, 1, 0, 0, 0, 0, 0, 0, 0, 0, 0, 0]|Chamber, The (1996)                                                              |\n",
      "|01-Jan-1955|621 |http://us.imdb.com/M/title-exact?Davy%20Crockett%2C%20King%20of%20the%20Wild%20Frontier%20%281955%29                                  |[0, 0, 0, 0, 0, 0, 0, 0, 0, 0, 0, 0, 0, 0, 0, 0, 0, 0, 1]|Davy Crockett, King of the Wild Frontier (1955)                                  |\n",
      "|01-Jan-1960|622 |http://us.imdb.com/M/title-exact?Swiss%20Family%20Robinson%20(1960)                                                                   |[0, 0, 1, 0, 1, 0, 0, 0, 0, 0, 0, 0, 0, 0, 0, 0, 0, 0, 0]|Swiss Family Robinson (1960)                                                     |\n",
      "|01-Jan-1994|623 |http://us.imdb.com/M/title-exact?Angels%20in%20the%20Outfield%20(1994)                                                                |[0, 0, 0, 0, 1, 1, 0, 0, 0, 0, 0, 0, 0, 0, 0, 0, 0, 0, 0]|Angels in the Outfield (1994)                                                    |\n",
      "|01-Jan-1945|624 |http://us.imdb.com/M/title-exact?Three%20Caballeros,%20The%20(1945)                                                                   |[0, 0, 0, 1, 1, 0, 0, 0, 0, 0, 0, 0, 1, 0, 0, 0, 0, 0, 0]|Three Caballeros, The (1945)                                                     |\n",
      "|01-Jan-1963|625 |http://us.imdb.com/M/title-exact?Sword%20in%20the%20Stone,%20The%20(1963)                                                             |[0, 0, 0, 1, 1, 0, 0, 0, 0, 0, 0, 0, 0, 0, 0, 0, 0, 0, 0]|Sword in the Stone, The (1963)                                                   |\n",
      "|01-Jan-1949|626 |http://us.imdb.com/Title?So+Dear+to+My+Heart+(1949)                                                                                   |[0, 0, 0, 0, 1, 0, 0, 0, 1, 0, 0, 0, 0, 0, 0, 0, 0, 0, 0]|So Dear to My Heart (1949)                                                       |\n",
      "|01-Jan-1991|627 |http://us.imdb.com/Title?Robin+Hood%3A+Prince+of+Thieves+(1991)                                                                       |[0, 0, 0, 0, 0, 0, 0, 0, 1, 0, 0, 0, 0, 0, 0, 0, 0, 0, 0]|Robin Hood: Prince of Thieves (1991)                                             |\n",
      "|18-Oct-1996|628 |http://us.imdb.com/M/title-exact?Sleepers%20(1996)                                                                                    |[0, 0, 0, 0, 0, 0, 1, 0, 1, 0, 0, 0, 0, 0, 0, 0, 0, 0, 0]|Sleepers (1996)                                                                  |\n",
      "|01-Jan-1982|629 |http://us.imdb.com/M/title-exact?Victor/Victoria%20%281982%29                                                                         |[0, 0, 0, 0, 0, 1, 0, 0, 0, 0, 0, 0, 1, 0, 0, 0, 0, 0, 0]|Victor/Victoria (1982)                                                           |\n",
      "|01-Jan-1965|630 |http://us.imdb.com/M/title-exact?Great%20Race,%20The%20(1965)                                                                         |[0, 0, 0, 0, 0, 1, 0, 0, 0, 0, 0, 0, 1, 0, 0, 0, 0, 0, 0]|Great Race, The (1965)                                                           |\n",
      "|01-Jan-1992|631 |http://us.imdb.com/M/title-exact?Crying%20Game,%20The%20(1992)                                                                        |[0, 1, 0, 0, 0, 0, 0, 0, 1, 0, 0, 0, 0, 0, 1, 0, 0, 1, 0]|Crying Game, The (1992)                                                          |\n",
      "|01-Jan-1982|632 |http://us.imdb.com/M/title-exact?Sophie's%20Choice%20(1982)                                                                           |[0, 0, 0, 0, 0, 0, 0, 0, 1, 0, 0, 0, 0, 0, 0, 0, 0, 0, 0]|Sophie's Choice (1982)                                                           |\n",
      "|01-Jan-1938|633 |http://us.imdb.com/M/title-exact?Christmas%20Carol,%20A%20(1938)                                                                      |[0, 0, 0, 0, 0, 0, 0, 0, 1, 0, 0, 0, 0, 0, 0, 0, 0, 0, 0]|Christmas Carol, A (1938)                                                        |\n",
      "|11-Oct-1996|634 |http://us.imdb.com/M/title-exact?Microcosmos%3A%20Le%20peuple%20de%20l%27herbe%20%281996%29                                           |[0, 0, 0, 0, 0, 0, 0, 1, 0, 0, 0, 0, 0, 0, 0, 0, 0, 0, 0]|Microcosmos: Le peuple de l'herbe (1996)                                         |\n",
      "|01-Jan-1980|635 |http://us.imdb.com/M/title-exact?Fog,%20The%20(1980)                                                                                  |[0, 0, 0, 0, 0, 0, 0, 0, 0, 0, 0, 1, 0, 0, 0, 0, 0, 0, 0]|Fog, The (1980)                                                                  |\n",
      "|01-Jan-1981|636 |http://us.imdb.com/M/title-exact?Escape%20from%20New%20York%20(1981)                                                                  |[0, 1, 1, 0, 0, 0, 0, 0, 0, 0, 0, 0, 0, 0, 0, 1, 1, 0, 0]|Escape from New York (1981)                                                      |\n",
      "|01-Jan-1981|637 |http://us.imdb.com/M/title-exact?Howling,%20The%20(1981)                                                                              |[0, 0, 0, 0, 0, 1, 0, 0, 0, 0, 0, 1, 0, 0, 0, 0, 0, 0, 0]|Howling, The (1981)                                                              |\n",
      "|01-Jan-1982|638 |http://us.imdb.com/M/title-exact?Retour%20de%20Martin%20Guerre,%20Le%20(1982)                                                         |[0, 0, 0, 0, 0, 0, 0, 0, 1, 0, 0, 0, 0, 0, 0, 0, 0, 0, 0]|Return of Martin Guerre, The (Retour de Martin Guerre, Le) (1982)                |\n",
      "|01-Jan-1979|639 |http://us.imdb.com/M/title-exact?Blechtrommel,%20Die%20(1979)                                                                         |[0, 0, 0, 0, 0, 0, 0, 0, 1, 0, 0, 0, 0, 0, 0, 0, 0, 0, 0]|Tin Drum, The (Blechtrommel, Die) (1979)                                         |\n",
      "|01-Jan-1989|640 |http://us.imdb.com/M/title-exact?Cook%20the%20Thief%20His%20Wife%20&%20Her%20Lover,%20The%20(1989)                                    |[0, 0, 0, 0, 0, 0, 0, 0, 1, 0, 0, 0, 0, 0, 0, 0, 0, 0, 0]|Cook the Thief His Wife & Her Lover, The (1989)                                  |\n",
      "|01-Jan-1957|641 |http://us.imdb.com/M/title-exact?Paths%20of%20Glory%20(1957)                                                                          |[0, 0, 0, 0, 0, 0, 0, 0, 1, 0, 0, 0, 0, 0, 0, 0, 0, 1, 0]|Paths of Glory (1957)                                                            |\n",
      "|01-Jan-1990|642 |http://us.imdb.com/M/title-exact?Grifters,%20The%20(1990)                                                                             |[0, 0, 0, 0, 0, 0, 1, 0, 1, 0, 1, 0, 0, 0, 0, 0, 0, 0, 0]|Grifters, The (1990)                                                             |\n",
      "|01-Jan-1994|643 |http://us.imdb.com/M/title-exact?Innocent,%20The%20(1994)%20(TV)                                                                      |[0, 0, 0, 0, 0, 0, 0, 0, 1, 0, 0, 0, 0, 0, 1, 0, 0, 0, 0]|The Innocent (1994)                                                              |\n",
      "|01-Jan-1988|644 |http://us.imdb.com/M/title-exact?Thin%20Blue%20Line,%20The%20(1988)                                                                   |[0, 0, 0, 0, 0, 0, 0, 1, 0, 0, 0, 0, 0, 0, 0, 0, 0, 0, 0]|Thin Blue Line, The (1988)                                                       |\n",
      "|01-Jan-1990|645 |http://us.imdb.com/M/title-exact?Paris%20Is%20Burning%20(1990)                                                                        |[0, 0, 0, 0, 0, 0, 0, 1, 0, 0, 0, 0, 0, 0, 0, 0, 0, 0, 0]|Paris Is Burning (1990)                                                          |\n",
      "|01-Jan-1969|646 |http://us.imdb.com/M/title-exact?C'era%20una%20volta%20il%20west%20(1969)                                                             |[0, 0, 0, 0, 0, 0, 0, 0, 0, 0, 0, 0, 0, 0, 0, 0, 0, 0, 1]|Once Upon a Time in the West (1969)                                              |\n",
      "|01-Jan-1985|647 |http://us.imdb.com/M/title-exact?Ran%20(1985)                                                                                         |[0, 0, 0, 0, 0, 0, 0, 0, 1, 0, 0, 0, 0, 0, 0, 0, 0, 1, 0]|Ran (1985)                                                                       |\n",
      "|01-Jan-1952|648 |http://us.imdb.com/M/title-exact?Quiet%20Man,%20The%20(1952)                                                                          |[0, 0, 0, 0, 0, 1, 0, 0, 0, 0, 0, 0, 0, 0, 1, 0, 0, 0, 0]|Quiet Man, The (1952)                                                            |\n",
      "|01-Jan-1984|649 |http://us.imdb.com/M/title-exact?Once%20Upon%20a%20Time%20in%20America%20(1984)                                                       |[0, 0, 0, 0, 0, 0, 1, 0, 1, 0, 0, 0, 0, 0, 0, 0, 1, 0, 0]|Once Upon a Time in America (1984)                                               |\n",
      "|01-Jan-1957|650 |http://us.imdb.com/M/title-exact?Sjunde%20inseglet,%20Det%20(1957)                                                                    |[0, 0, 0, 0, 0, 0, 0, 0, 1, 0, 0, 0, 0, 0, 0, 0, 0, 0, 0]|Seventh Seal, The (Sjunde inseglet, Det) (1957)                                  |\n",
      "|01-Jan-1989|651 |http://us.imdb.com/M/title-exact?Glory%20(1989)                                                                                       |[0, 1, 0, 0, 0, 0, 0, 0, 1, 0, 0, 0, 0, 0, 0, 0, 0, 1, 0]|Glory (1989)                                                                     |\n",
      "|01-Jan-1990|652 |http://us.imdb.com/M/title-exact?Rosencrantz%20and%20Guildenstern%20Are%20Dead%20(1990)                                               |[0, 0, 0, 0, 0, 1, 0, 0, 1, 0, 0, 0, 0, 0, 0, 0, 0, 0, 0]|Rosencrantz and Guildenstern Are Dead (1990)                                     |\n",
      "|01-Jan-1958|653 |http://us.imdb.com/M/title-exact?Touch%20of%20Evil%20(1958)                                                                           |[0, 0, 0, 0, 0, 0, 1, 0, 0, 0, 1, 0, 0, 0, 0, 0, 1, 0, 0]|Touch of Evil (1958)                                                             |\n",
      "|01-Jan-1974|654 |http://us.imdb.com/M/title-exact?Chinatown%20(1974)                                                                                   |[0, 0, 0, 0, 0, 0, 0, 0, 0, 0, 1, 0, 0, 1, 0, 0, 1, 0, 0]|Chinatown (1974)                                                                 |\n",
      "|01-Jan-1986|655 |http://us.imdb.com/M/title-exact?Stand%20by%20Me%20(1986)                                                                             |[0, 0, 1, 0, 0, 1, 0, 0, 1, 0, 0, 0, 0, 0, 0, 0, 0, 0, 0]|Stand by Me (1986)                                                               |\n",
      "|01-Jan-1931|656 |http://us.imdb.com/M/title-exact?M%20(1931)                                                                                           |[0, 0, 0, 0, 0, 0, 1, 0, 0, 0, 1, 0, 0, 0, 0, 0, 1, 0, 0]|M (1931)                                                                         |\n",
      "|01-Jan-1962|657 |http://us.imdb.com/M/title-exact?Manchurian%20Candidate,%20The%20(1962)                                                               |[0, 0, 0, 0, 0, 0, 0, 0, 0, 0, 1, 0, 0, 0, 0, 0, 1, 0, 0]|Manchurian Candidate, The (1962)                                                 |\n",
      "|01-Jan-1990|658 |http://us.imdb.com/M/title-exact?Pump%20Up%20the%20Volume%20(1990)                                                                    |[0, 0, 0, 0, 0, 0, 0, 0, 1, 0, 0, 0, 0, 0, 0, 0, 0, 0, 0]|Pump Up the Volume (1990)                                                        |\n",
      "|01-Jan-1944|659 |http://us.imdb.com/M/title-exact?Arsenic%20and%20Old%20Lace%20(1944)                                                                  |[0, 0, 0, 0, 0, 1, 0, 0, 0, 0, 0, 0, 0, 1, 0, 0, 1, 0, 0]|Arsenic and Old Lace (1944)                                                      |\n",
      "|01-Jan-1991|660 |http://us.imdb.com/M/title-exact?Fried%20Green%20Tomatoes%20at%20the%20Whistle%20Stop%20Cafe%20(1991)                                 |[0, 0, 0, 0, 0, 0, 0, 0, 1, 0, 0, 0, 0, 0, 0, 0, 0, 0, 0]|Fried Green Tomatoes (1991)                                                      |\n",
      "|01-Jan-1952|661 |http://us.imdb.com/M/title-exact?High%20Noon%20(1952)                                                                                 |[0, 0, 0, 0, 0, 0, 0, 0, 0, 0, 0, 0, 0, 0, 0, 0, 0, 0, 1]|High Noon (1952)                                                                 |\n",
      "|01-Jan-1980|662 |http://us.imdb.com/M/title-exact?Somewhere%20in%20Time%20(1980)                                                                       |[0, 0, 0, 0, 0, 0, 0, 0, 1, 0, 0, 0, 0, 0, 1, 0, 0, 0, 0]|Somewhere in Time (1980)                                                         |\n",
      "|01-Jan-1979|663 |http://us.imdb.com/M/title-exact?Being%20There%20(1979)                                                                               |[0, 0, 0, 0, 0, 1, 0, 0, 0, 0, 0, 0, 0, 0, 0, 0, 0, 0, 0]|Being There (1979)                                                               |\n",
      "|01-Jan-1984|664 |http://us.imdb.com/M/title-exact?Paris,%20Texas%20(1984)                                                                              |[0, 0, 0, 0, 0, 0, 0, 0, 1, 0, 0, 0, 0, 0, 0, 0, 0, 0, 0]|Paris, Texas (1984)                                                              |\n",
      "|01-Jan-1992|665 |http://us.imdb.com/M/title-exact?Alien%203%20(1992)                                                                                   |[0, 1, 0, 0, 0, 0, 0, 0, 0, 0, 0, 1, 0, 0, 0, 1, 1, 0, 0]|Alien 3 (1992)                                                                   |\n",
      "|01-Jan-1974|666 |http://us.imdb.com/M/title-exact?Andy%20Warhol's%20Dracula%20(1974)                                                                   |[0, 0, 0, 0, 0, 0, 0, 0, 0, 0, 0, 1, 0, 0, 0, 0, 0, 0, 0]|Blood For Dracula (Andy Warhol's Dracula) (1974)                                 |\n",
      "|01-Jan-1977|667 |http://us.imdb.com/M/title-exact?Audrey%20Rose%20(1977)                                                                               |[0, 0, 0, 0, 0, 0, 0, 0, 0, 0, 0, 1, 0, 0, 0, 0, 0, 0, 0]|Audrey Rose (1977)                                                               |\n",
      "|01-Jan-1981|668 |http://us.imdb.com/M/title-exact?Blood%20Beach%20(1981)                                                                               |[0, 1, 0, 0, 0, 0, 0, 0, 0, 0, 0, 1, 0, 0, 0, 0, 0, 0, 0]|Blood Beach (1981)                                                               |\n",
      "|01-Jan-1991|669 |http://us.imdb.com/M/title-exact?Body%20Parts%20(1991)                                                                                |[0, 0, 0, 0, 0, 0, 0, 0, 0, 0, 0, 1, 0, 0, 0, 0, 0, 0, 0]|Body Parts (1991)                                                                |\n",
      "|01-Jan-1993|670 |http://us.imdb.com/M/title-exact?Body%20Snatchers%20(1993)                                                                            |[0, 0, 0, 0, 0, 0, 0, 0, 0, 0, 0, 1, 0, 0, 0, 1, 1, 0, 0]|Body Snatchers (1993)                                                            |\n",
      "|01-Jan-1935|671 |http://us.imdb.com/M/title-exact?Bride%20of%20Frankenstein%20(1935)                                                                   |[0, 0, 0, 0, 0, 0, 0, 0, 0, 0, 0, 1, 0, 0, 0, 0, 0, 0, 0]|Bride of Frankenstein (1935)                                                     |\n",
      "|01-Jan-1992|672 |http://us.imdb.com/M/title-exact?Candyman%20(1992)                                                                                    |[0, 0, 0, 0, 0, 0, 0, 0, 0, 0, 0, 1, 0, 0, 0, 0, 0, 0, 0]|Candyman (1992)                                                                  |\n",
      "|01-Jan-1962|673 |http://us.imdb.com/M/title-exact?Cape%20Fear%20(1962)                                                                                 |[0, 0, 0, 0, 0, 0, 0, 0, 0, 0, 1, 0, 0, 0, 0, 0, 1, 0, 0]|Cape Fear (1962)                                                                 |\n",
      "|01-Jan-1982|674 |http://us.imdb.com/M/title-exact?Cat%20People%20(1982)                                                                                |[0, 0, 0, 0, 0, 0, 0, 0, 0, 0, 0, 1, 0, 0, 0, 0, 0, 0, 0]|Cat People (1982)                                                                |\n",
      "|01-Jan-1922|675 |http://us.imdb.com/M/title-exact?Nosferatu,%20eine%20Symphonie%20des%20Grauens%20(1922)                                               |[0, 0, 0, 0, 0, 0, 0, 0, 0, 0, 0, 1, 0, 0, 0, 0, 0, 0, 0]|Nosferatu (Nosferatu, eine Symphonie des Grauens) (1922)                         |\n",
      "|27-Nov-1996|676 |http://us.imdb.com/M/title-exact?Crucible,%20The%20(1996)                                                                             |[0, 0, 0, 0, 0, 0, 0, 0, 1, 0, 0, 0, 0, 0, 0, 0, 0, 0, 0]|Crucible, The (1996)                                                             |\n",
      "|24-Jan-1997|677 |http://us.imdb.com/M/title-exact?Fire%20on%20the%20Mountain%20(1996)                                                                  |[0, 0, 0, 0, 0, 0, 0, 1, 0, 0, 0, 0, 0, 0, 0, 0, 0, 0, 0]|Fire on the Mountain (1996)                                                      |\n",
      "|25-Apr-1997|678 |http://us.imdb.com/M/title-exact?Volcano%20%281997%29                                                                                 |[0, 0, 0, 0, 0, 0, 0, 0, 1, 0, 0, 0, 0, 0, 0, 0, 1, 0, 0]|Volcano (1997)                                                                   |\n",
      "|01-Jan-1981|679 |http://us.imdb.com/M/title-exact?Conan+the+Barbarian+(1981)                                                                           |[0, 1, 1, 0, 0, 0, 0, 0, 0, 0, 0, 0, 0, 0, 0, 0, 0, 0, 0]|Conan the Barbarian (1981)                                                       |\n",
      "|29-Aug-1997|680 |http://us.imdb.com/M/title-exact?Kull+the+Conqueror+(1997)                                                                            |[0, 1, 1, 0, 0, 0, 0, 0, 0, 0, 0, 0, 0, 0, 0, 0, 0, 0, 0]|Kull the Conqueror (1997)                                                        |\n",
      "|01-Jan-1997|681 |http://us.imdb.com/M/title-exact?Wishmaster+(1997)                                                                                    |[0, 0, 0, 0, 0, 0, 0, 0, 0, 0, 0, 1, 0, 0, 0, 0, 0, 0, 0]|Wishmaster (1997)                                                                |\n",
      "|17-Oct-1997|682 |http://us.imdb.com/M/title-exact?I+Know+What+You+Did+Last+Summer+(1997)                                                               |[0, 0, 0, 0, 0, 0, 0, 0, 0, 0, 0, 1, 0, 1, 0, 0, 1, 0, 0]|I Know What You Did Last Summer (1997)                                           |\n",
      "|01-Jan-1997|683 |http://us.imdb.com/M/title-exact?Rocket+Man+(1997)                                                                                    |[0, 0, 0, 0, 0, 1, 0, 0, 0, 0, 0, 0, 0, 0, 0, 0, 0, 0, 0]|Rocket Man (1997)                                                                |\n",
      "|01-Jan-1993|684 |http://us.imdb.com/M/title-exact?In%20the%20Line%20of%20Fire%20(1993)                                                                 |[0, 1, 0, 0, 0, 0, 0, 0, 0, 0, 0, 0, 0, 0, 0, 0, 1, 0, 0]|In the Line of Fire (1993)                                                       |\n",
      "|09-Mar-1996|685 |http://us.imdb.com/M/title-exact?Executive%20Decision%20(1996)                                                                        |[0, 1, 0, 0, 0, 0, 0, 0, 0, 0, 0, 0, 0, 0, 0, 0, 1, 0, 0]|Executive Decision (1996)                                                        |\n",
      "|01-Jan-1993|686 |http://us.imdb.com/M/title-exact?Perfect%20World,%20A%20(1993)                                                                        |[0, 1, 0, 0, 0, 0, 0, 0, 1, 0, 0, 0, 0, 0, 0, 0, 0, 0, 0]|Perfect World, A (1993)                                                          |\n",
      "|18-Apr-1997|687 |http://us.imdb.com/M/title-exact?McHale's%20Navy%20(1997)                                                                             |[0, 0, 0, 0, 0, 1, 0, 0, 0, 0, 0, 0, 0, 0, 0, 0, 0, 1, 0]|McHale's Navy (1997)                                                             |\n",
      "|22-Aug-1997|688 |http://us.imdb.com/M/title-exact?Leave+It+To+Beaver+(1997)                                                                            |[0, 0, 0, 0, 0, 1, 0, 0, 0, 0, 0, 0, 0, 0, 0, 0, 0, 0, 0]|Leave It to Beaver (1997)                                                        |\n",
      "|01-Jan-1997|689 |http://us.imdb.com/M/title-exact?Jackal%2C+The+(1997)                                                                                 |[0, 1, 0, 0, 0, 0, 0, 0, 0, 0, 0, 0, 0, 0, 0, 0, 1, 0, 0]|Jackal, The (1997)                                                               |\n",
      "|01-Jan-1997|690 |http://us.imdb.com/M/title-exact?Seven+Years+in+Tibet+(1997)                                                                          |[0, 0, 0, 0, 0, 0, 0, 0, 1, 0, 0, 0, 0, 0, 0, 0, 0, 1, 0]|Seven Years in Tibet (1997)                                                      |\n",
      "|09-Jan-1998|691 |http://us.imdb.com/M/title-exact?imdb-title-118929                                                                                    |[0, 0, 0, 0, 0, 0, 0, 0, 0, 0, 1, 0, 0, 0, 0, 1, 1, 0, 0]|Dark City (1998)                                                                 |\n",
      "|01-Jan-1995|692 |http://us.imdb.com/M/title-exact?American%20President,%20The%20(1995)                                                                 |[0, 0, 0, 0, 0, 1, 0, 0, 1, 0, 0, 0, 0, 0, 1, 0, 0, 0, 0]|American President, The (1995)                                                   |\n",
      "|01-Jan-1995|693 |http://us.imdb.com/M/title-exact?Casino%20(1995)                                                                                      |[0, 0, 0, 0, 0, 0, 0, 0, 1, 0, 0, 0, 0, 0, 0, 0, 0, 0, 0]|Casino (1995)                                                                    |\n",
      "|25-Sep-1995|694 |http://us.imdb.com/Title?Persuasion+(1995/I)                                                                                          |[0, 0, 0, 0, 0, 0, 0, 0, 0, 0, 0, 0, 0, 0, 1, 0, 0, 0, 0]|Persuasion (1995)                                                                |\n",
      "|01-Jan-1995|695 |http://us.imdb.com/M/title-exact?Kicking%20and%20Screaming%20(1995)                                                                   |[0, 0, 0, 0, 0, 1, 0, 0, 1, 0, 0, 0, 0, 0, 0, 0, 0, 0, 0]|Kicking and Screaming (1995)                                                     |\n",
      "|16-Feb-1996|696 |http://us.imdb.com/M/title-exact?City%20Hall%20(1996)                                                                                 |[0, 0, 0, 0, 0, 0, 0, 0, 1, 0, 0, 0, 0, 0, 0, 0, 1, 0, 0]|City Hall (1996)                                                                 |\n",
      "|01-Jan-1995|697 |http://us.imdb.com/M/title-exact?Basketball%20Diaries,%20The%20(1995)                                                                 |[0, 0, 0, 0, 0, 0, 0, 0, 1, 0, 0, 0, 0, 0, 0, 0, 0, 0, 0]|Basketball Diaries, The (1995)                                                   |\n",
      "|01-Jan-1994|698 |http://us.imdb.com/M/title-exact?Browning%20Version,%20The%20(1994)                                                                   |[0, 0, 0, 0, 0, 0, 0, 0, 1, 0, 0, 0, 0, 0, 0, 0, 0, 0, 0]|Browning Version, The (1994)                                                     |\n",
      "|01-Jan-1994|699 |http://us.imdb.com/M/title-exact?Little%20Women%20(1994)                                                                              |[0, 0, 0, 0, 0, 0, 0, 0, 1, 0, 0, 0, 0, 0, 0, 0, 0, 0, 0]|Little Women (1994)                                                              |\n",
      "|01-Jan-1995|700 |http://us.imdb.com/M/title-exact?Miami%20Rhapsody%20(1995)                                                                            |[0, 0, 0, 0, 0, 1, 0, 0, 0, 0, 0, 0, 0, 0, 0, 0, 0, 0, 0]|Miami Rhapsody (1995)                                                            |\n",
      "|01-Jan-1993|701 |http://us.imdb.com/M/title-exact?Macht%20der%20Bilder:%20Leni%20Riefenstahl,%20Die%20(1993)                                           |[0, 0, 0, 0, 0, 0, 0, 1, 0, 0, 0, 0, 0, 0, 0, 0, 0, 0, 0]|Wonderful, Horrible Life of Leni Riefenstahl, The (1993)                         |\n",
      "|01-Jan-1994|702 |http://us.imdb.com/M/title-exact?Barcelona%20(1994)                                                                                   |[0, 0, 0, 0, 0, 1, 0, 0, 0, 0, 0, 0, 0, 0, 1, 0, 0, 0, 0]|Barcelona (1994)                                                                 |\n",
      "|01-Jan-1994|703 |http://us.imdb.com/M/title-exact?Widows'%20Peak%20(1994)                                                                              |[0, 0, 0, 0, 0, 0, 0, 0, 1, 0, 0, 0, 0, 0, 0, 0, 0, 0, 0]|Widows' Peak (1994)                                                              |\n",
      "|01-Jan-1993|704 |http://us.imdb.com/M/title-exact?House%20of%20the%20Spirits,%20The%20(1993)                                                           |[0, 0, 0, 0, 0, 0, 0, 0, 1, 0, 0, 0, 0, 0, 1, 0, 0, 0, 0]|House of the Spirits, The (1993)                                                 |\n",
      "|01-Jan-1952|705 |http://us.imdb.com/M/title-exact?Singin'%20in%20the%20Rain%20(1952)                                                                   |[0, 0, 0, 0, 0, 0, 0, 0, 0, 0, 0, 0, 1, 0, 1, 0, 0, 0, 0]|Singin' in the Rain (1952)                                                       |\n",
      "|01-Nov-1996|706 |http://us.imdb.com/M/title-exact?Bad%20Moon%20(1996)                                                                                  |[0, 0, 0, 0, 0, 0, 0, 0, 0, 0, 0, 1, 0, 0, 0, 0, 0, 0, 0]|Bad Moon (1996)                                                                  |\n",
      "|01-Jan-1991|707 |http://us.imdb.com/M/title-exact?Enchanted%20April%20(1991)                                                                           |[0, 0, 0, 0, 0, 0, 0, 0, 1, 0, 0, 0, 0, 0, 0, 0, 0, 0, 0]|Enchanted April (1991)                                                           |\n",
      "|01-Jan-1989|708 |http://us.imdb.com/M/title-exact?sex,%20lies,%20and%20videotape%20(1989)                                                              |[0, 0, 0, 0, 0, 0, 0, 0, 1, 0, 0, 0, 0, 0, 0, 0, 0, 0, 0]|Sex, Lies, and Videotape (1989)                                                  |\n",
      "|01-Jan-1992|709 |http://us.imdb.com/M/title-exact?Strictly%20Ballroom%20(1992)                                                                         |[0, 0, 0, 0, 0, 1, 0, 0, 0, 0, 0, 0, 0, 0, 1, 0, 0, 0, 0]|Strictly Ballroom (1992)                                                         |\n",
      "|01-Jan-1985|710 |http://us.imdb.com/Title?Better+Off+Dead...+(1985)                                                                                    |[0, 0, 0, 0, 0, 1, 0, 0, 0, 0, 0, 0, 0, 0, 0, 0, 0, 0, 0]|Better Off Dead... (1985)                                                        |\n",
      "|06-Dec-1996|711 |http://us.imdb.com/M/title-exact?Substance%20of%20Fire,%20The%20(1996)                                                                |[0, 0, 0, 0, 0, 0, 0, 0, 1, 0, 0, 0, 0, 0, 0, 0, 0, 0, 0]|Substance of Fire, The (1996)                                                    |\n",
      "|01-Jan-1987|712 |http://us.imdb.com/M/title-exact?Tin%20Men%20(1987)                                                                                   |[0, 0, 0, 0, 0, 1, 0, 0, 1, 0, 0, 0, 0, 0, 0, 0, 0, 0, 0]|Tin Men (1987)                                                                   |\n",
      "|18-Dec-1995|713 |http://us.imdb.com/M/title-exact?Othello%20(1995)                                                                                     |[0, 0, 0, 0, 0, 0, 0, 0, 1, 0, 0, 0, 0, 0, 0, 0, 0, 0, 0]|Othello (1995)                                                                   |\n",
      "|01-Jan-1995|714 |http://us.imdb.com/M/title-exact?Carrington%20(1995)                                                                                  |[0, 0, 0, 0, 0, 0, 0, 0, 1, 0, 0, 0, 0, 0, 1, 0, 0, 0, 0]|Carrington (1995)                                                                |\n",
      "|01-Jan-1995|715 |http://us.imdb.com/M/title-exact?To%20Die%20For%20(1995)                                                                              |[0, 0, 0, 0, 0, 1, 0, 0, 1, 0, 0, 0, 0, 0, 0, 0, 0, 0, 0]|To Die For (1995)                                                                |\n",
      "|01-Jan-1995|716 |http://us.imdb.com/M/title-exact?Home%20for%20the%20Holidays%20(1995)                                                                 |[0, 0, 0, 0, 0, 0, 0, 0, 1, 0, 0, 0, 0, 0, 1, 0, 0, 0, 0]|Home for the Holidays (1995)                                                     |\n",
      "|01-Jan-1996|717 |http://us.imdb.com/M/title-exact?Juror,%20The%20(1996)                                                                                |[0, 0, 0, 0, 0, 0, 0, 0, 1, 0, 0, 0, 0, 0, 0, 0, 1, 0, 0]|Juror, The (1996)                                                                |\n",
      "|23-Feb-1996|718 |http://us.imdb.com/M/title-exact?In%20the%20Bleak%20Midwinter%20(1995)                                                                |[0, 0, 0, 0, 0, 1, 0, 0, 0, 0, 0, 0, 0, 0, 0, 0, 0, 0, 0]|In the Bleak Midwinter (1995)                                                    |\n",
      "|01-Jan-1994|719 |http://us.imdb.com/M/title-exact?Canadian%20Bacon%20(1994)                                                                            |[0, 0, 0, 0, 0, 1, 0, 0, 0, 0, 0, 0, 0, 0, 0, 0, 0, 1, 0]|Canadian Bacon (1994)                                                            |\n",
      "|01-Jan-1995|720 |http://us.imdb.com/M/title-exact?First%20Knight%20(1995)                                                                              |[0, 1, 1, 0, 0, 0, 0, 0, 1, 0, 0, 0, 0, 0, 1, 0, 0, 0, 0]|First Knight (1995)                                                              |\n",
      "|01-Jan-1995|721 |http://us.imdb.com/M/title-exact?Mallrats%20(1995)                                                                                    |[0, 0, 0, 0, 0, 1, 0, 0, 0, 0, 0, 0, 0, 0, 0, 0, 0, 0, 0]|Mallrats (1995)                                                                  |\n",
      "|01-Jan-1995|722 |http://us.imdb.com/M/title-exact?Nine%20Months%20(1995)                                                                               |[0, 0, 0, 0, 0, 1, 0, 0, 0, 0, 0, 0, 0, 0, 0, 0, 0, 0, 0]|Nine Months (1995)                                                               |\n",
      "|01-Jan-1995|723 |http://us.imdb.com/M/title-exact?Boys%20on%20the%20Side%20(1995)                                                                      |[0, 0, 0, 0, 0, 1, 0, 0, 1, 0, 0, 0, 0, 0, 0, 0, 0, 0, 0]|Boys on the Side (1995)                                                          |\n",
      "|01-Jan-1995|724 |http://us.imdb.com/M/title-exact?Circle%20of%20Friends%20(1995)                                                                       |[0, 0, 0, 0, 0, 0, 0, 0, 1, 0, 0, 0, 0, 0, 1, 0, 0, 0, 0]|Circle of Friends (1995)                                                         |\n",
      "|01-Jan-1994|725 |http://us.imdb.com/M/title-exact?Exit%20to%20Eden%20(1994)                                                                            |[0, 0, 0, 0, 0, 1, 0, 0, 0, 0, 0, 0, 0, 0, 0, 0, 0, 0, 0]|Exit to Eden (1994)                                                              |\n",
      "|01-Jan-1995|726 |http://us.imdb.com/M/title-exact?Fluke%20(1995)                                                                                       |[0, 0, 0, 0, 1, 0, 0, 0, 1, 0, 0, 0, 0, 0, 0, 0, 0, 0, 0]|Fluke (1995)                                                                     |\n",
      "|01-Jan-1994|727 |http://us.imdb.com/M/title-exact?Immortal%20Beloved%20(1994)                                                                          |[0, 0, 0, 0, 0, 0, 0, 0, 1, 0, 0, 0, 0, 0, 1, 0, 0, 0, 0]|Immortal Beloved (1994)                                                          |\n",
      "|01-Jan-1994|728 |http://us.imdb.com/M/title-exact?Junior%20(1994)                                                                                      |[0, 0, 0, 0, 0, 1, 0, 0, 0, 0, 0, 0, 0, 0, 0, 1, 0, 0, 0]|Junior (1994)                                                                    |\n",
      "|01-Jan-1994|729 |http://us.imdb.com/M/title-exact?Nell%20(1994)                                                                                        |[0, 0, 0, 0, 0, 0, 0, 0, 1, 0, 0, 0, 0, 0, 0, 0, 0, 0, 0]|Nell (1994)                                                                      |\n",
      "|01-Jan-1996|730 |http://us.imdb.com/Title?Reine+Margot,+La+(1994)                                                                                      |[0, 0, 0, 0, 0, 0, 0, 0, 1, 0, 0, 0, 0, 0, 1, 0, 0, 0, 0]|Queen Margot (Reine Margot, La) (1994)                                           |\n",
      "|01-Jan-1994|731 |http://us.imdb.com/M/title-exact?Corrina,%20Corrina%20(1994)                                                                          |[0, 0, 0, 0, 0, 1, 0, 0, 1, 0, 0, 0, 0, 0, 1, 0, 0, 0, 0]|Corrina, Corrina (1994)                                                          |\n",
      "|01-Jan-1993|732 |http://us.imdb.com/M/title-exact?Dave%20(1993)                                                                                        |[0, 0, 0, 0, 0, 1, 0, 0, 0, 0, 0, 0, 0, 0, 1, 0, 0, 0, 0]|Dave (1993)                                                                      |\n",
      "|01-Jan-1994|733 |http://us.imdb.com/M/title-exact?Go%20Fish%20(1994)                                                                                   |[0, 0, 0, 0, 0, 0, 0, 0, 1, 0, 0, 0, 0, 0, 1, 0, 0, 0, 0]|Go Fish (1994)                                                                   |\n",
      "|01-Jan-1993|734 |http://us.imdb.com/M/title-exact?Made%20in%20America%20(1993)                                                                         |[0, 0, 0, 0, 0, 1, 0, 0, 0, 0, 0, 0, 0, 0, 0, 0, 0, 0, 0]|Made in America (1993)                                                           |\n",
      "|01-Jan-1993|735 |http://us.imdb.com/M/title-exact?Philadelphia%20(1993)                                                                                |[0, 0, 0, 0, 0, 0, 0, 0, 1, 0, 0, 0, 0, 0, 0, 0, 0, 0, 0]|Philadelphia (1993)                                                              |\n",
      "|01-Jan-1993|736 |http://us.imdb.com/M/title-exact?Shadowlands%20(1993)                                                                                 |[0, 0, 0, 0, 0, 0, 0, 0, 1, 0, 0, 0, 0, 0, 1, 0, 0, 0, 0]|Shadowlands (1993)                                                               |\n",
      "|01-Jan-1994|737 |http://us.imdb.com/M/title-exact?Sirens%20(1994)                                                                                      |[0, 0, 0, 0, 0, 1, 0, 0, 1, 0, 0, 0, 0, 0, 0, 0, 0, 0, 0]|Sirens (1994)                                                                    |\n",
      "|01-Jan-1994|738 |http://us.imdb.com/M/title-exact?Threesome%20(1994)                                                                                   |[0, 0, 0, 0, 0, 1, 0, 0, 0, 0, 0, 0, 0, 0, 1, 0, 0, 0, 0]|Threesome (1994)                                                                 |\n",
      "|01-Jan-1990|739 |http://us.imdb.com/M/title-exact?Pretty%20Woman%20(1990)                                                                              |[0, 0, 0, 0, 0, 1, 0, 0, 0, 0, 0, 0, 0, 0, 1, 0, 0, 0, 0]|Pretty Woman (1990)                                                              |\n",
      "|05-Apr-1996|740 |http://us.imdb.com/M/title-exact?Jane%20Eyre%20(1996)                                                                                 |[0, 0, 0, 0, 0, 0, 0, 0, 1, 0, 0, 0, 0, 0, 1, 0, 0, 0, 0]|Jane Eyre (1996)                                                                 |\n",
      "|05-Apr-1996|741 |http://us.imdb.com/M/title-exact?Last%20Supper,%20The%20(1995)                                                                        |[0, 0, 0, 0, 0, 0, 0, 0, 1, 0, 0, 0, 0, 0, 0, 0, 1, 0, 0]|Last Supper, The (1995)                                                          |\n",
      "|08-Nov-1996|742 |http://us.imdb.com/M/title-exact?Ransom%20(1996)                                                                                      |[0, 0, 0, 0, 0, 0, 0, 0, 1, 0, 0, 0, 0, 0, 0, 0, 1, 0, 0]|Ransom (1996)                                                                    |\n",
      "|30-Aug-1996|743 |http://us.imdb.com/M/title-exact?Crow%3A%20City%20of%20Angels%2C%20The%20%281996%29                                                   |[0, 1, 0, 0, 0, 0, 0, 0, 0, 0, 0, 0, 0, 0, 0, 0, 1, 0, 0]|Crow: City of Angels, The (1996)                                                 |\n",
      "|11-Oct-1996|744 |http://us.imdb.com/M/title-exact?Michael%20Collins%20(1996)                                                                           |[0, 0, 0, 0, 0, 0, 0, 0, 1, 0, 0, 0, 0, 0, 0, 0, 0, 1, 0]|Michael Collins (1996)                                                           |\n",
      "|01-Jan-1972|745 |http://us.imdb.com/M/title-exact?Ruling%20Class,%20The%20(1972)                                                                       |[0, 0, 0, 0, 0, 1, 0, 0, 0, 0, 0, 0, 0, 0, 0, 0, 0, 0, 0]|Ruling Class, The (1972)                                                         |\n",
      "|01-Jan-1985|746 |http://us.imdb.com/M/title-exact?Real%20Genius%20(1985)                                                                               |[0, 0, 0, 0, 0, 1, 0, 0, 0, 0, 0, 0, 0, 0, 0, 0, 0, 0, 0]|Real Genius (1985)                                                               |\n",
      "|01-Jan-1993|747 |http://us.imdb.com/M/title-exact?Benny%20&%20Joon%20(1993)                                                                            |[0, 0, 0, 0, 0, 1, 0, 0, 0, 0, 0, 0, 0, 0, 1, 0, 0, 0, 0]|Benny & Joon (1993)                                                              |\n",
      "|14-Mar-1997|748 |http://us.imdb.com/M/title-exact?Saint%2C%20The%20(1997)                                                                              |[0, 1, 0, 0, 0, 0, 0, 0, 0, 0, 0, 0, 0, 0, 1, 0, 1, 0, 0]|Saint, The (1997)                                                                |\n",
      "|01-Jan-1997|749 |http://us.imdb.com/M/title-exact?Matchmaker%2C+The+(1997)                                                                             |[0, 0, 0, 0, 0, 1, 0, 0, 0, 0, 0, 0, 0, 0, 1, 0, 0, 0, 0]|MatchMaker, The (1997)                                                           |\n",
      "|18-Dec-1997|750 |http://us.imdb.com/M/title-exact?imdb-title-118607                                                                                    |[0, 0, 0, 0, 0, 0, 0, 0, 1, 0, 0, 0, 0, 0, 0, 0, 0, 0, 0]|Amistad (1997)                                                                   |\n",
      "|01-Jan-1997|751 |http://us.imdb.com/M/title-exact?imdb-title-120347                                                                                    |[0, 1, 0, 0, 0, 0, 0, 0, 0, 0, 0, 0, 0, 0, 1, 0, 1, 0, 0]|Tomorrow Never Dies (1997)                                                       |\n",
      "|06-Feb-1998|752 |http://us.imdb.com/M/title-exact?Replacement+Killers%2C+The+(1998)                                                                    |[0, 1, 0, 0, 0, 0, 0, 0, 0, 0, 0, 0, 0, 0, 0, 0, 1, 0, 0]|Replacement Killers, The (1998)                                                  |\n",
      "|01-Jan-1994|753 |http://us.imdb.com/M/title-exact?Utomlyonnye%20Solntsem%20(1994)                                                                      |[0, 0, 0, 0, 0, 0, 0, 0, 1, 0, 0, 0, 0, 0, 0, 0, 0, 0, 0]|Burnt By the Sun (1994)                                                          |\n",
      "|01-Jan-1997|754 |http://us.imdb.com/M/title-exact?Red+Corner+(1997)                                                                                    |[0, 0, 0, 0, 0, 0, 1, 0, 0, 0, 0, 0, 0, 0, 0, 0, 1, 0, 0]|Red Corner (1997)                                                                |\n",
      "|01-Jan-1995|755 |http://us.imdb.com/M/title-exact?Jumanji%20(1995)                                                                                     |[0, 1, 1, 0, 1, 0, 0, 0, 0, 1, 0, 0, 0, 0, 0, 1, 0, 0, 0]|Jumanji (1995)                                                                   |\n",
      "|01-Jan-1995|756 |http://us.imdb.com/M/title-exact?Father%20of%20the%20Bride%20Part%20II%20(1995)                                                       |[0, 0, 0, 0, 0, 1, 0, 0, 0, 0, 0, 0, 0, 0, 0, 0, 0, 0, 0]|Father of the Bride Part II (1995)                                               |\n",
      "|01-Jan-1995|757 |http://us.imdb.com/M/title-exact?Across%20The%20Sea%20of%20Time%20(1995)                                                              |[0, 0, 0, 0, 0, 0, 0, 1, 0, 0, 0, 0, 0, 0, 0, 0, 0, 0, 0]|Across the Sea of Time (1995)                                                    |\n",
      "|01-Jan-1996|758 |http://us.imdb.com/M/title-exact?Lawnmower%20Man%202:%20Beyond%20Cyberspace%20(1996)                                                  |[0, 0, 0, 0, 0, 0, 0, 0, 0, 0, 0, 0, 0, 0, 0, 1, 1, 0, 0]|Lawnmower Man 2: Beyond Cyberspace (1996)                                        |\n",
      "|01-Jan-1995|759 |http://us.imdb.com/M/title-exact?Fair%20Game%20(1995)                                                                                 |[0, 1, 0, 0, 0, 0, 0, 0, 0, 0, 0, 0, 0, 0, 0, 0, 0, 0, 0]|Fair Game (1995)                                                                 |\n",
      "|01-Jan-1995|760 |http://us.imdb.com/M/title-exact?Screamers%20(1995)                                                                                   |[0, 0, 0, 0, 0, 0, 0, 0, 0, 0, 0, 0, 0, 0, 0, 1, 0, 0, 0]|Screamers (1995)                                                                 |\n",
      "|01-Jan-1995|761 |http://us.imdb.com/M/title-exact?Nick%20of%20Time%20(1995)                                                                            |[0, 1, 0, 0, 0, 0, 0, 0, 0, 0, 0, 0, 0, 0, 0, 0, 1, 0, 0]|Nick of Time (1995)                                                              |\n",
      "|09-Feb-1996|762 |http://us.imdb.com/M/title-exact?Beautiful%20Girls%20(1996)                                                                           |[0, 0, 0, 0, 0, 0, 0, 0, 1, 0, 0, 0, 0, 0, 0, 0, 0, 0, 0]|Beautiful Girls (1996)                                                           |\n",
      "|16-Feb-1996|763 |http://us.imdb.com/M/title-exact?Happy%20Gilmore%20(1996)                                                                             |[0, 0, 0, 0, 0, 1, 0, 0, 0, 0, 0, 0, 0, 0, 0, 0, 0, 0, 0]|Happy Gilmore (1996)                                                             |\n",
      "|08-Mar-1996|764 |http://us.imdb.com/M/title-exact?If%20Lucy%20Fell%20(1996)                                                                            |[0, 0, 0, 0, 0, 1, 0, 0, 0, 0, 0, 0, 0, 0, 1, 0, 0, 0, 0]|If Lucy Fell (1996)                                                              |\n",
      "|01-Jan-1992|765 |http://us.imdb.com/M/title-exact?Boomerang%20(1992)                                                                                   |[0, 0, 0, 0, 0, 1, 0, 0, 0, 0, 0, 0, 0, 0, 1, 0, 0, 0, 0]|Boomerang (1992)                                                                 |\n",
      "|01-Mar-1996|766 |http://us.imdb.com/M/title-exact?Man%20of%20the%20Year%20(1995)                                                                       |[0, 0, 0, 0, 0, 0, 0, 1, 0, 0, 0, 0, 0, 0, 0, 0, 0, 0, 0]|Man of the Year (1995)                                                           |\n",
      "|01-Jan-1995|767 |http://us.imdb.com/M/title-exact?Addiction,%20The%20(1995)                                                                            |[0, 0, 0, 0, 0, 0, 0, 0, 0, 0, 0, 1, 0, 0, 0, 0, 0, 0, 0]|Addiction, The (1995)                                                            |\n",
      "|01-Jan-1995|768 |http://us.imdb.com/M/title-exact?Casper%20(1995)                                                                                      |[0, 0, 1, 0, 1, 0, 0, 0, 0, 0, 0, 0, 0, 0, 0, 0, 0, 0, 0]|Casper (1995)                                                                    |\n",
      "|01-Jan-1995|769 |http://us.imdb.com/M/title-exact?Congo%20(1995)                                                                                       |[0, 1, 1, 0, 0, 0, 0, 0, 0, 0, 0, 0, 0, 1, 0, 1, 0, 0, 0]|Congo (1995)                                                                     |\n",
      "|01-Jan-1995|770 |http://us.imdb.com/M/title-exact?Devil%20in%20a%20Blue%20Dress%20(1995)                                                               |[0, 0, 0, 0, 0, 0, 1, 0, 0, 0, 1, 0, 0, 1, 0, 0, 1, 0, 0]|Devil in a Blue Dress (1995)                                                     |\n",
      "|01-Jan-1995|771 |http://us.imdb.com/M/title-exact?Johnny%20Mnemonic%20(1995)                                                                           |[0, 1, 0, 0, 0, 0, 0, 0, 0, 0, 0, 0, 0, 0, 0, 1, 1, 0, 0]|Johnny Mnemonic (1995)                                                           |\n",
      "|01-Jan-1995|772 |http://us.imdb.com/M/title-exact?Kids%20(1995)                                                                                        |[0, 0, 0, 0, 0, 0, 0, 0, 1, 0, 0, 0, 0, 0, 0, 0, 0, 0, 0]|Kids (1995)                                                                      |\n",
      "|01-Jan-1994|773 |http://us.imdb.com/M/title-exact?Mute%20Witness%20(1994)                                                                              |[0, 0, 0, 0, 0, 0, 0, 0, 0, 0, 0, 0, 0, 0, 0, 0, 1, 0, 0]|Mute Witness (1994)                                                              |\n",
      "|01-Jan-1995|774 |http://us.imdb.com/M/title-exact?Prophecy,%20The%20(1995)                                                                             |[0, 0, 0, 0, 0, 0, 0, 0, 0, 0, 0, 1, 0, 0, 0, 0, 0, 0, 0]|Prophecy, The (1995)                                                             |\n",
      "|01-Jan-1995|775 |http://us.imdb.com/M/title-exact?Something%20to%20Talk%20About%20(1995)                                                               |[0, 0, 0, 0, 0, 1, 0, 0, 1, 0, 0, 0, 0, 0, 1, 0, 0, 0, 0]|Something to Talk About (1995)                                                   |\n",
      "|01-Jan-1995|776 |http://us.imdb.com/M/title-exact?Three%20Wishes%20(1995)                                                                              |[0, 0, 0, 0, 0, 0, 0, 0, 1, 0, 0, 0, 0, 0, 0, 0, 0, 0, 0]|Three Wishes (1995)                                                              |\n",
      "|01-Jan-1995|777 |http://us.imdb.com/M/title-exact?Castle%20Freak%20(1995)                                                                              |[0, 0, 0, 0, 0, 0, 0, 0, 0, 0, 0, 1, 0, 0, 0, 0, 0, 0, 0]|Castle Freak (1995)                                                              |\n",
      "|01-Jan-1995|778 |http://us.imdb.com/M/title-exact?Don%20Juan%20DeMarco%20and%20the%20Centerfold%20(1995)                                               |[0, 0, 0, 0, 0, 1, 0, 0, 1, 0, 0, 0, 0, 0, 1, 0, 0, 0, 0]|Don Juan DeMarco (1995)                                                          |\n",
      "|01-Jan-1994|779 |http://us.imdb.com/M/title-exact?Drop%20Zone%20(1994)                                                                                 |[0, 1, 0, 0, 0, 0, 0, 0, 0, 0, 0, 0, 0, 0, 0, 0, 0, 0, 0]|Drop Zone (1994)                                                                 |\n",
      "|01-Jan-1994|780 |http://us.imdb.com/M/title-exact?Dumb%20&%20Dumber%20(1994)                                                                           |[0, 0, 0, 0, 0, 1, 0, 0, 0, 0, 0, 0, 0, 0, 0, 0, 0, 0, 0]|Dumb & Dumber (1994)                                                             |\n",
      "|01-Jan-1995|781 |http://us.imdb.com/M/title-exact?French%20Kiss%20(1995)                                                                               |[0, 0, 0, 0, 0, 1, 0, 0, 0, 0, 0, 0, 0, 0, 1, 0, 0, 0, 0]|French Kiss (1995)                                                               |\n",
      "|01-Jan-1994|782 |http://us.imdb.com/M/title-exact?Little%20Odessa%20(1994)                                                                             |[0, 0, 0, 0, 0, 0, 0, 0, 1, 0, 0, 0, 0, 0, 0, 0, 0, 0, 0]|Little Odessa (1994)                                                             |\n",
      "|01-Jan-1994|783 |http://us.imdb.com/M/title-exact?Milk%20Money%20(1994)                                                                                |[0, 0, 0, 0, 0, 1, 0, 0, 0, 0, 0, 0, 0, 0, 1, 0, 0, 0, 0]|Milk Money (1994)                                                                |\n",
      "|01-Jan-1993|784 |http://us.imdb.com/Title?Beyond+Bedlam+(1993)                                                                                         |[0, 0, 0, 0, 0, 0, 0, 0, 1, 0, 0, 1, 0, 0, 0, 0, 0, 0, 0]|Beyond Bedlam (1993)                                                             |\n",
      "|01-Jan-1994|785 |http://us.imdb.com/M/title-exact?Only%20You%20(1994)                                                                                  |[0, 0, 0, 0, 0, 1, 0, 0, 0, 0, 0, 0, 0, 0, 1, 0, 0, 0, 0]|Only You (1994)                                                                  |\n",
      "|01-Jan-1995|786 |http://us.imdb.com/M/title-exact?Perez%20Family,%20The%20(1995)                                                                       |[0, 0, 0, 0, 0, 1, 0, 0, 0, 0, 0, 0, 0, 0, 1, 0, 0, 0, 0]|Perez Family, The (1995)                                                         |\n",
      "|01-Jan-1995|787 |http://us.imdb.com/M/title-exact?Roommates%20(1995)                                                                                   |[0, 0, 0, 0, 0, 1, 0, 0, 1, 0, 0, 0, 0, 0, 0, 0, 0, 0, 0]|Roommates (1995)                                                                 |\n",
      "|01-Jan-1994|788 |http://us.imdb.com/M/title-exact?Relative%20Fear%20(1994)                                                                             |[0, 0, 0, 0, 0, 0, 0, 0, 0, 0, 0, 1, 0, 0, 0, 0, 1, 0, 0]|Relative Fear (1994)                                                             |\n",
      "|01-Jan-1995|789 |http://us.imdb.com/M/title-exact?Swimming%20with%20Sharks%20(1995)                                                                    |[0, 0, 0, 0, 0, 1, 0, 0, 1, 0, 0, 0, 0, 0, 0, 0, 0, 0, 0]|Swimming with Sharks (1995)                                                      |\n",
      "|01-Jan-1995|790 |http://us.imdb.com/M/title-exact?Tommy%20Boy%20(1995)                                                                                 |[0, 0, 0, 0, 0, 1, 0, 0, 0, 0, 0, 0, 0, 0, 0, 0, 0, 0, 0]|Tommy Boy (1995)                                                                 |\n",
      "|01-Jan-1995|791 |http://us.imdb.com/M/title-exact?Baby-Sitters%20Club,%20The%20(1995)                                                                  |[0, 0, 0, 0, 1, 0, 0, 0, 0, 0, 0, 0, 0, 0, 0, 0, 0, 0, 0]|Baby-Sitters Club, The (1995)                                                    |\n",
      "|01-Jan-1994|792 |http://us.imdb.com/M/title-exact?Bullets%20Over%20Broadway%20(1994)                                                                   |[0, 0, 0, 0, 0, 1, 0, 0, 0, 0, 0, 0, 0, 0, 0, 0, 0, 0, 0]|Bullets Over Broadway (1994)                                                     |\n",
      "|01-Jan-1994|793 |http://us.imdb.com/M/title-exact?Crooklyn%20(1994)                                                                                    |[0, 0, 0, 0, 0, 1, 0, 0, 0, 0, 0, 0, 0, 0, 0, 0, 0, 0, 0]|Crooklyn (1994)                                                                  |\n",
      "|01-Jan-1994|794 |http://us.imdb.com/M/title-exact?It%20Could%20Happen%20to%20You%20(1994)                                                              |[0, 0, 0, 0, 0, 0, 0, 0, 1, 0, 0, 0, 0, 0, 1, 0, 0, 0, 0]|It Could Happen to You (1994)                                                    |\n",
      "|01-Jan-1994|795 |http://us.imdb.com/M/title-exact?Richie%20Rich%20(1994)                                                                               |[0, 0, 0, 0, 1, 1, 0, 0, 0, 0, 0, 0, 0, 0, 0, 0, 0, 0, 0]|Richie Rich (1994)                                                               |\n",
      "|01-Jan-1994|796 |http://us.imdb.com/M/title-exact?Speechless%20(1994)                                                                                  |[0, 0, 0, 0, 0, 1, 0, 0, 0, 0, 0, 0, 0, 0, 1, 0, 0, 0, 0]|Speechless (1994)                                                                |\n",
      "|01-Jan-1994|797 |http://us.imdb.com/M/title-exact?Timecop%20(1994)                                                                                     |[0, 1, 0, 0, 0, 0, 0, 0, 0, 0, 0, 0, 0, 0, 0, 1, 0, 0, 0]|Timecop (1994)                                                                   |\n",
      "|01-Jan-1995|798 |http://us.imdb.com/M/title-exact?Bad%20Company%20(1995)                                                                               |[0, 1, 0, 0, 0, 0, 0, 0, 0, 0, 0, 0, 0, 0, 0, 0, 0, 0, 0]|Bad Company (1995)                                                               |\n",
      "|01-Jan-1995|799 |http://us.imdb.com/M/title-exact?Boys%20Life%20(1995)                                                                                 |[0, 0, 0, 0, 0, 0, 0, 0, 1, 0, 0, 0, 0, 0, 0, 0, 0, 0, 0]|Boys Life (1995)                                                                 |\n",
      "|01-Jan-1995|800 |http://us.imdb.com/M/title-exact?In%20the%20Mouth%20of%20Madness%20(1995)                                                             |[0, 0, 0, 0, 0, 0, 0, 0, 0, 0, 0, 1, 0, 0, 0, 0, 1, 0, 0]|In the Mouth of Madness (1995)                                                   |\n",
      "|01-Jan-1994|801 |http://us.imdb.com/M/title-exact?Air%20Up%20There,%20The%20(1994)                                                                     |[0, 0, 0, 0, 0, 1, 0, 0, 0, 0, 0, 0, 0, 0, 0, 0, 0, 0, 0]|Air Up There, The (1994)                                                         |\n",
      "|01-Jan-1993|802 |http://us.imdb.com/M/title-exact?Hard%20Target%20(1993)                                                                               |[0, 1, 1, 0, 0, 0, 1, 0, 0, 0, 0, 0, 0, 0, 0, 0, 1, 0, 0]|Hard Target (1993)                                                               |\n",
      "|01-Jan-1993|803 |http://us.imdb.com/M/title-exact?Heaven%20&%20Earth%20(1993)                                                                          |[0, 1, 0, 0, 0, 0, 0, 0, 1, 0, 0, 0, 0, 0, 0, 0, 0, 1, 0]|Heaven & Earth (1993)                                                            |\n",
      "|01-Jan-1994|804 |http://us.imdb.com/M/title-exact?Jimmy%20Hollywood%20(1994)                                                                           |[0, 0, 0, 0, 0, 1, 0, 0, 0, 0, 0, 0, 0, 0, 0, 0, 0, 0, 0]|Jimmy Hollywood (1994)                                                           |\n",
      "|01-Jan-1993|805 |http://us.imdb.com/M/title-exact?Manhattan%20Murder%20Mystery%20(1993)                                                                |[0, 0, 0, 0, 0, 1, 0, 0, 0, 0, 0, 0, 0, 1, 0, 0, 0, 0, 0]|Manhattan Murder Mystery (1993)                                                  |\n",
      "|01-Jan-1993|806 |http://us.imdb.com/M/title-exact?Menace%20II%20Society%20(1993)                                                                       |[0, 1, 0, 0, 0, 0, 1, 0, 1, 0, 0, 0, 0, 0, 0, 0, 0, 0, 0]|Menace II Society (1993)                                                         |\n",
      "|01-Jan-1993|807 |http://us.imdb.com/M/title-exact?Poetic%20Justice%20(1993)                                                                            |[0, 0, 0, 0, 0, 0, 0, 0, 1, 0, 0, 0, 0, 0, 0, 0, 0, 0, 0]|Poetic Justice (1993)                                                            |\n",
      "|01-Jan-1993|808 |http://us.imdb.com/M/title-exact?Program,%20The%20(1993)                                                                              |[0, 1, 0, 0, 0, 0, 0, 0, 1, 0, 0, 0, 0, 0, 0, 0, 0, 0, 0]|Program, The (1993)                                                              |\n",
      "|01-Jan-1993|809 |http://us.imdb.com/M/title-exact?Rising%20Sun%20(1993)                                                                                |[0, 1, 0, 0, 0, 0, 0, 0, 1, 0, 0, 0, 0, 1, 0, 0, 0, 0, 0]|Rising Sun (1993)                                                                |\n",
      "|01-Jan-1994|810 |http://us.imdb.com/M/title-exact?Shadow,%20The%20(1994)                                                                               |[0, 1, 0, 0, 0, 0, 0, 0, 0, 0, 0, 0, 0, 0, 0, 0, 0, 0, 0]|Shadow, The (1994)                                                               |\n",
      "|01-Jan-1993|811 |http://us.imdb.com/M/title-exact?Thirty-Two%20Short%20Films%20About%20Glenn%20Gould%20(1993)                                          |[0, 0, 0, 0, 0, 0, 0, 1, 0, 0, 0, 0, 0, 0, 0, 0, 0, 0, 0]|Thirty-Two Short Films About Glenn Gould (1993)                                  |\n",
      "|01-Jan-1994|812 |http://us.imdb.com/M/title-exact?Andre%20(1994)                                                                                       |[0, 0, 1, 0, 1, 0, 0, 0, 0, 0, 0, 0, 0, 0, 0, 0, 0, 0, 0]|Andre (1994)                                                                     |\n",
      "|15-Mar-1996|813 |http://us.imdb.com/M/title-exact?Celluloid%20Closet,%20The%20(1995)                                                                   |[0, 0, 0, 0, 0, 0, 0, 1, 0, 0, 0, 0, 0, 0, 0, 0, 0, 0, 0]|Celluloid Closet, The (1995)                                                     |\n",
      "|01-Jan-1994|814 |http://us.imdb.com/M/title-exact?Great%20Day%20in%20Harlem,%20A%20(1994)                                                              |[0, 0, 0, 0, 0, 0, 0, 1, 0, 0, 0, 0, 0, 0, 0, 0, 0, 0, 0]|Great Day in Harlem, A (1994)                                                    |\n",
      "|30-Nov-1996|815 |http://us.imdb.com/M/title-exact?One%20Fine%20Day%20(1996)                                                                            |[0, 0, 0, 0, 0, 0, 0, 0, 1, 0, 0, 0, 0, 0, 1, 0, 0, 0, 0]|One Fine Day (1996)                                                              |\n",
      "|01-Jan-1995|816 |http://us.imdb.com/M/title-exact?Candyman:%20Farewell%20to%20the%20Flesh%20(1995)                                                     |[0, 0, 0, 0, 0, 0, 0, 0, 0, 0, 0, 1, 0, 0, 0, 0, 0, 0, 0]|Candyman: Farewell to the Flesh (1995)                                           |\n",
      "|29-Mar-1996|817 |http://us.imdb.com/M/title-exact?Frisk%20(1995)                                                                                       |[0, 0, 0, 0, 0, 0, 0, 0, 1, 0, 0, 0, 0, 0, 0, 0, 0, 0, 0]|Frisk (1995)                                                                     |\n",
      "|22-Mar-1996|818 |http://us.imdb.com/M/title-exact?Girl%206%20(1996)                                                                                    |[0, 0, 0, 0, 0, 1, 0, 0, 0, 0, 0, 0, 0, 0, 0, 0, 0, 0, 0]|Girl 6 (1996)                                                                    |\n",
      "|31-May-1996|819 |http://us.imdb.com/M/title-exact?Eddie%20(1996)                                                                                       |[0, 0, 0, 0, 0, 1, 0, 0, 0, 0, 0, 0, 0, 0, 0, 0, 0, 0, 0]|Eddie (1996)                                                                     |\n",
      "|15-Nov-1996|820 |http://us.imdb.com/M/title-exact?Space%20Jam%20(1996)                                                                                 |[0, 0, 1, 1, 1, 1, 0, 0, 0, 1, 0, 0, 0, 0, 0, 0, 0, 0, 0]|Space Jam (1996)                                                                 |\n",
      "|19-Apr-1996|821 |http://us.imdb.com/M/title-exact?Mrs.%20Winterbourne%20(1996)                                                                         |[0, 0, 0, 0, 0, 1, 0, 0, 0, 0, 0, 0, 0, 0, 1, 0, 0, 0, 0]|Mrs. Winterbourne (1996)                                                         |\n",
      "|01-Jan-1968|822 |http://us.imdb.com/M/title-exact?Faces%20(1968)                                                                                       |[0, 0, 0, 0, 0, 0, 0, 0, 1, 0, 0, 0, 0, 0, 0, 0, 0, 0, 0]|Faces (1968)                                                                     |\n",
      "|26-Apr-1996|823 |http://us.imdb.com/M/title-exact?Mulholland%20Falls%20(1996)                                                                          |[0, 0, 0, 0, 0, 0, 1, 0, 0, 0, 1, 0, 0, 0, 0, 0, 1, 0, 0]|Mulholland Falls (1996)                                                          |\n",
      "|03-May-1996|824 |http://us.imdb.com/M/title-exact?Great%20White%20Hype,%20The%20(1996)                                                                 |[0, 0, 0, 0, 0, 1, 0, 0, 0, 0, 0, 0, 0, 0, 0, 0, 0, 0, 0]|Great White Hype, The (1996)                                                     |\n",
      "|31-May-1996|825 |http://us.imdb.com/M/title-exact?Arrival,%20The%20(1996)                                                                              |[0, 1, 0, 0, 0, 0, 0, 0, 0, 0, 0, 0, 0, 0, 0, 1, 1, 0, 0]|Arrival, The (1996)                                                              |\n",
      "|07-Jun-1996|826 |http://us.imdb.com/M/title-exact?Phantom,%20The%20(1996)                                                                              |[0, 0, 1, 0, 0, 0, 0, 0, 0, 0, 0, 0, 0, 0, 0, 0, 0, 0, 0]|Phantom, The (1996)                                                              |\n",
      "|06-Dec-1996|827 |http://us.imdb.com/M/title-exact?Daylight%20(1996)                                                                                    |[0, 1, 1, 0, 0, 0, 0, 0, 0, 0, 0, 0, 0, 0, 0, 0, 1, 0, 0]|Daylight (1996)                                                                  |\n",
      "|21-Aug-1996|828 |http://us.imdb.com/M/title-exact?Alaska%20(1996)                                                                                      |[0, 0, 1, 0, 1, 0, 0, 0, 0, 0, 0, 0, 0, 0, 0, 0, 0, 0, 0]|Alaska (1996)                                                                    |\n",
      "|19-Jul-1996|829 |http://us.imdb.com/M/title-exact?Fled%20(1996)                                                                                        |[0, 1, 1, 0, 0, 0, 0, 0, 0, 0, 0, 0, 0, 0, 0, 0, 0, 0, 0]|Fled (1996)                                                                      |\n",
      "|17-May-1996|830 |http://us.imdb.com/M/title-exact?Power%2098%20(1995)                                                                                  |[0, 1, 0, 0, 0, 0, 0, 0, 0, 0, 0, 0, 0, 1, 0, 0, 1, 0, 0]|Power 98 (1995)                                                                  |\n",
      "|09-Aug-1996|831 |http://us.imdb.com/M/title-exact?Escape%20from%20L.A.%20(1996)                                                                        |[0, 1, 1, 0, 0, 0, 0, 0, 0, 0, 0, 0, 0, 0, 0, 1, 1, 0, 0]|Escape from L.A. (1996)                                                          |\n",
      "|06-Sep-1996|832 |http://us.imdb.com/M/title-exact?Bogus%20(1996)                                                                                       |[0, 0, 0, 0, 1, 0, 0, 0, 1, 1, 0, 0, 0, 0, 0, 0, 0, 0, 0]|Bogus (1996)                                                                     |\n",
      "|06-Sep-1996|833 |http://us.imdb.com/M/title-exact?Bulletproof%20(1996)                                                                                 |[0, 1, 0, 0, 0, 0, 0, 0, 0, 0, 0, 0, 0, 0, 0, 0, 0, 0, 0]|Bulletproof (1996)                                                               |\n",
      "|01-Jan-1995|834 |http://us.imdb.com/M/title-exact?Halloween:%20The%20Curse%20of%20Michael%20Myers%20(1995)                                             |[0, 0, 0, 0, 0, 0, 0, 0, 0, 0, 0, 1, 0, 0, 0, 0, 1, 0, 0]|Halloween: The Curse of Michael Myers (1995)                                     |\n",
      "|01-Jan-1934|835 |http://us.imdb.com/M/title-exact?Gay%20Divorcee%2C%20The%20%281934%29                                                                 |[0, 0, 0, 0, 0, 1, 0, 0, 0, 0, 0, 0, 1, 0, 1, 0, 0, 0, 0]|Gay Divorcee, The (1934)                                                         |\n",
      "|01-Jan-1939|836 |http://us.imdb.com/M/title-exact?Ninotchka%20(1939)                                                                                   |[0, 0, 0, 0, 0, 1, 0, 0, 0, 0, 0, 0, 0, 0, 1, 0, 0, 0, 0]|Ninotchka (1939)                                                                 |\n",
      "|01-Jan-1941|837 |http://us.imdb.com/M/title-exact?Meet%20John%20Doe%20(1941)                                                                           |[0, 0, 0, 0, 0, 0, 0, 0, 1, 0, 0, 0, 0, 0, 0, 0, 0, 0, 0]|Meet John Doe (1941)                                                             |\n",
      "|30-Aug-1996|838 |http://us.imdb.com/M/title-exact?In%20the%20Line%20of%20Duty%202%20(1987)                                                             |[0, 1, 0, 0, 0, 0, 0, 0, 0, 0, 0, 0, 0, 0, 0, 0, 0, 0, 0]|In the Line of Duty 2 (1987)                                                     |\n",
      "|01-Jan-1995|839 |http://us.imdb.com/M/title-exact?Loch%20Ness%20(1995)                                                                                 |[0, 0, 0, 0, 0, 0, 0, 0, 0, 0, 0, 1, 0, 0, 0, 0, 1, 0, 0]|Loch Ness (1995)                                                                 |\n",
      "|20-Sep-1996|840 |http://us.imdb.com/M/title-exact?Last%20Man%20Standing%20(1996/I)                                                                     |[0, 1, 0, 0, 0, 0, 0, 0, 1, 0, 0, 0, 0, 0, 0, 0, 0, 0, 1]|Last Man Standing (1996)                                                         |\n",
      "|04-Oct-1996|841 |http://us.imdb.com/M/title-exact?Glimmer%20Man,%20The%20(1996)                                                                        |[0, 1, 0, 0, 0, 0, 0, 0, 0, 0, 0, 0, 0, 0, 0, 0, 1, 0, 0]|Glimmer Man, The (1996)                                                          |\n",
      "|01-Jan-1960|842 |http://us.imdb.com/M/title-exact?Pollyanna%20(1960)                                                                                   |[0, 0, 0, 0, 1, 1, 0, 0, 1, 0, 0, 0, 0, 0, 0, 0, 0, 0, 0]|Pollyanna (1960)                                                                 |\n",
      "|01-Jan-1959|843 |http://us.imdb.com/M/title-exact?Shaggy%20Dog,%20The%20(1959)                                                                         |[0, 0, 0, 0, 1, 1, 0, 0, 0, 0, 0, 0, 0, 0, 0, 0, 0, 0, 0]|Shaggy Dog, The (1959)                                                           |\n",
      "|23-Aug-1996|844 |http://us.imdb.com/M/title-exact?Freeway%20(1996)                                                                                     |[0, 0, 0, 0, 0, 0, 1, 0, 0, 0, 0, 0, 0, 0, 0, 0, 0, 0, 0]|Freeway (1996)                                                                   |\n",
      "|28-Sep-1996|845 |http://us.imdb.com/M/title-exact?That%20Thing%20You%20Do!%20(1996)                                                                    |[0, 0, 0, 0, 0, 1, 0, 0, 0, 0, 0, 0, 0, 0, 0, 0, 0, 0, 0]|That Thing You Do! (1996)                                                        |\n",
      "|18-Oct-1996|846 |http://us.imdb.com/M/title-exact?To%20Gillian%20on%20Her%2037th%20Birthday%20(1996)                                                   |[0, 0, 0, 0, 0, 0, 0, 0, 1, 0, 0, 0, 0, 0, 1, 0, 0, 0, 0]|To Gillian on Her 37th Birthday (1996)                                           |\n",
      "|11-Oct-1996|847 |http://us.imdb.com/M/title-exact?Looking%20for%20Richard%20(1996)                                                                     |[0, 0, 0, 0, 0, 0, 0, 1, 1, 0, 0, 0, 0, 0, 0, 0, 0, 0, 0]|Looking for Richard (1996)                                                       |\n",
      "|01-Jan-1944|848 |http://us.imdb.com/M/title-exact?Murder,%20My%20Sweet%20(1944)                                                                        |[0, 0, 0, 0, 0, 0, 0, 0, 0, 0, 1, 0, 0, 0, 0, 0, 1, 0, 0]|Murder, My Sweet (1944)                                                          |\n",
      "|01-Jan-1990|849 |http://us.imdb.com/M/title-exact?Days%20of%20Thunder%20(1990)                                                                         |[0, 1, 0, 0, 0, 0, 0, 0, 0, 0, 0, 0, 0, 0, 1, 0, 0, 0, 0]|Days of Thunder (1990)                                                           |\n",
      "|27-Sep-1996|850 |http://us.imdb.com/M/title-exact?Perfect%20Candidate,%20A%20(1996)                                                                    |[0, 0, 0, 0, 0, 0, 0, 1, 0, 0, 0, 0, 0, 0, 0, 0, 0, 0, 0]|Perfect Candidate, A (1996)                                                      |\n",
      "|01-Jan-1966|851 |http://us.imdb.com/M/title-exact?Deux%20ou%20trois%20choses%20que%20je%20sais%20d'elle%20(1966)                                       |[0, 0, 0, 0, 0, 0, 0, 0, 1, 0, 0, 0, 0, 0, 0, 0, 0, 0, 0]|Two or Three Things I Know About Her (1966)                                      |\n",
      "|26-Oct-1996|852 |http://us.imdb.com/M/title-exact?Bloody%20Child%2C%20The%20%281996%29                                                                 |[0, 0, 0, 0, 0, 0, 0, 0, 1, 0, 0, 0, 0, 0, 0, 0, 1, 0, 0]|Bloody Child, The (1996)                                                         |\n",
      "|01-Jan-1992|853 |http://us.imdb.com/M/title-exact?Braindead%20(1992)                                                                                   |[0, 0, 0, 0, 0, 1, 0, 0, 0, 0, 0, 1, 0, 0, 0, 0, 0, 0, 0]|Braindead (1992)                                                                 |\n",
      "|01-Jan-1987|854 |http://us.imdb.com/M/title-exact?Bad%20Taste%20(1987)                                                                                 |[0, 0, 0, 0, 0, 1, 0, 0, 0, 0, 0, 1, 0, 0, 0, 0, 0, 0, 0]|Bad Taste (1987)                                                                 |\n",
      "|01-Jan-1981|855 |http://us.imdb.com/M/title-exact?Diva%20(1981)                                                                                        |[0, 1, 0, 0, 0, 0, 0, 0, 1, 0, 0, 0, 0, 1, 1, 0, 1, 0, 0]|Diva (1981)                                                                      |\n",
      "|01-Jan-1991|856 |http://us.imdb.com/M/title-exact?Night%20on%20Earth%20(1991)                                                                          |[0, 0, 0, 0, 0, 1, 0, 0, 1, 0, 0, 0, 0, 0, 0, 0, 0, 0, 0]|Night on Earth (1991)                                                            |\n",
      "|08-Nov-1996|857 |http://us.imdb.com/M/title-exact?Paris%20Was%20a%20Woman%20(1995)                                                                     |[0, 0, 0, 0, 0, 0, 0, 1, 0, 0, 0, 0, 0, 0, 0, 0, 0, 0, 0]|Paris Was a Woman (1995)                                                         |\n",
      "|01-Jan-1996|858 |http://us.imdb.com/M/title-exact?Amityville:%20Dollhouse%20(1996)                                                                     |[0, 0, 0, 0, 0, 0, 0, 0, 0, 0, 0, 1, 0, 0, 0, 0, 0, 0, 0]|Amityville: Dollhouse (1996)                                                     |\n",
      "|01-Jan-1986|859 |http://us.imdb.com/M/title-exact?April%20Fool's%20Day%20(1986)                                                                        |[0, 0, 0, 0, 0, 1, 0, 0, 0, 0, 0, 1, 0, 0, 0, 0, 0, 0, 0]|April Fool's Day (1986)                                                          |\n",
      "|01-Jan-1987|860 |http://us.imdb.com/M/title-exact?Believers,%20The%20(1987)                                                                            |[0, 0, 0, 0, 0, 0, 0, 0, 0, 0, 0, 1, 0, 0, 0, 0, 1, 0, 0]|Believers, The (1987)                                                            |\n",
      "|01-Jan-1986|861 |http://us.imdb.com/M/title-exact?Nosferatu%20a%20Venezia%20(1986)                                                                     |[0, 0, 0, 0, 0, 0, 0, 0, 0, 0, 0, 1, 0, 0, 0, 0, 0, 0, 0]|Nosferatu a Venezia (1986)                                                       |\n",
      "|22-Nov-1996|862 |http://us.imdb.com/M/title-exact?Jingle%20All%20the%20Way%20(1996)                                                                    |[0, 0, 1, 0, 1, 1, 0, 0, 0, 0, 0, 0, 0, 0, 0, 0, 0, 0, 0]|Jingle All the Way (1996)                                                        |\n",
      "|08-Nov-1996|863 |http://us.imdb.com/M/title-exact?Giardino%20dei%20Finzi-Contini,%20Il%20(1970)                                                        |[0, 0, 0, 0, 0, 0, 0, 0, 1, 0, 0, 0, 0, 0, 0, 0, 0, 0, 0]|Garden of Finzi-Contini, The (Giardino dei Finzi-Contini, Il) (1970)             |\n",
      "|20-Dec-1996|864 |http://us.imdb.com/M/title-exact?My%20Fellow%20Americans%20(1996)                                                                     |[0, 0, 0, 0, 0, 1, 0, 0, 0, 0, 0, 0, 0, 0, 0, 0, 0, 0, 0]|My Fellow Americans (1996)                                                       |\n",
      "|01-Jan-1997|865 |http://us.imdb.com/M/title-exact?Ice+Storm%2C+The+(1997)                                                                              |[0, 0, 0, 0, 0, 0, 0, 0, 1, 0, 0, 0, 0, 0, 0, 0, 0, 0, 0]|Ice Storm, The (1997)                                                            |\n",
      "|25-Dec-1996|866 |http://us.imdb.com/M/title-exact?Michael%20(1996)                                                                                     |[0, 0, 0, 0, 0, 1, 0, 0, 0, 0, 0, 0, 0, 0, 1, 0, 0, 0, 0]|Michael (1996)                                                                   |\n",
      "|25-Dec-1996|867 |http://us.imdb.com/M/title-exact?Whole%20Wide%20World,%20The%20(1996)                                                                 |[0, 0, 0, 0, 0, 0, 0, 0, 1, 0, 0, 0, 0, 0, 0, 0, 0, 0, 0]|Whole Wide World, The (1996)                                                     |\n",
      "|10-Jan-1997|868 |http://us.imdb.com/M/title-exact?Hearts%20and%20Minds%20(1996)                                                                        |[0, 0, 0, 0, 0, 0, 0, 0, 1, 0, 0, 0, 0, 0, 0, 0, 0, 0, 0]|Hearts and Minds (1996)                                                          |\n",
      "|14-Feb-1997|869 |http://us.imdb.com/M/title-exact?Fools%20Rush%20In%20(1997)                                                                           |[0, 0, 0, 0, 0, 1, 0, 0, 0, 0, 0, 0, 0, 0, 1, 0, 0, 0, 0]|Fools Rush In (1997)                                                             |\n",
      "|14-Feb-1997|870 |http://us.imdb.com/M/title-exact?Touch%20(1997)                                                                                       |[0, 0, 0, 0, 0, 0, 0, 0, 0, 0, 0, 0, 0, 0, 1, 0, 0, 0, 0]|Touch (1997)                                                                     |\n",
      "|14-Feb-1997|871 |http://us.imdb.com/M/title-exact?Vegas%20Vacation%20(1997)                                                                            |[0, 0, 0, 0, 0, 1, 0, 0, 0, 0, 0, 0, 0, 0, 0, 0, 0, 0, 0]|Vegas Vacation (1997)                                                            |\n",
      "|14-Mar-1997|872 |http://us.imdb.com/M/title-exact?Love%20Jones%20(1997)                                                                                |[0, 0, 0, 0, 0, 0, 0, 0, 0, 0, 0, 0, 0, 0, 1, 0, 0, 0, 0]|Love Jones (1997)                                                                |\n",
      "|01-Aug-1997|873 |http://us.imdb.com/M/title-exact?Picture+Perfect+(1997)                                                                               |[0, 0, 0, 0, 0, 1, 0, 0, 0, 0, 0, 0, 0, 0, 1, 0, 0, 0, 0]|Picture Perfect (1997)                                                           |\n",
      "|08-Aug-1997|874 |http://us.imdb.com/M/title-exact?Career+Girls+(1997)                                                                                  |[0, 0, 0, 0, 0, 0, 0, 0, 1, 0, 0, 0, 0, 0, 0, 0, 0, 0, 0]|Career Girls (1997)                                                              |\n",
      "|22-Aug-1997|875 |http://us.imdb.com/M/title-exact?She%27s+So+Lovely+(1997)                                                                             |[0, 0, 0, 0, 0, 0, 0, 0, 1, 0, 0, 0, 0, 0, 1, 0, 0, 0, 0]|She's So Lovely (1997)                                                           |\n",
      "|22-Aug-1997|876 |http://us.imdb.com/M/title-exact?Money+Talks+(1997)                                                                                   |[0, 1, 0, 0, 0, 1, 0, 0, 0, 0, 0, 0, 0, 0, 0, 0, 0, 0, 0]|Money Talks (1997)                                                               |\n",
      "|01-Jan-1997|877 |http://us.imdb.com/M/title-exact?Excess+Baggage+(1997)                                                                                |[0, 0, 1, 0, 0, 0, 0, 0, 0, 0, 0, 0, 0, 0, 1, 0, 0, 0, 0]|Excess Baggage (1997)                                                            |\n",
      "|14-Feb-1997|878 |http://us.imdb.com/M/title-exact?That%20Darn%20Cat%20(1997)                                                                           |[0, 0, 0, 0, 1, 1, 0, 0, 0, 0, 0, 0, 0, 1, 0, 0, 0, 0, 0]|That Darn Cat! (1997)                                                            |\n",
      "|01-Jan-1997|879 |http://us.imdb.com/M/title-exact?Peacemaker%2C+The+(1997)                                                                             |[0, 1, 0, 0, 0, 0, 0, 0, 0, 0, 0, 0, 0, 0, 0, 0, 1, 1, 0]|Peacemaker, The (1997)                                                           |\n",
      "|01-Jan-1997|880 |http://us.imdb.com/M/title-exact?Soul+Food+(1997)                                                                                     |[0, 0, 0, 0, 0, 0, 0, 0, 1, 0, 0, 0, 0, 0, 0, 0, 0, 0, 0]|Soul Food (1997)                                                                 |\n",
      "|22-Aug-1997|881 |http://us.imdb.com/M/title-exact?Money+Talks+(1997)                                                                                   |[0, 1, 0, 0, 0, 1, 0, 0, 0, 0, 0, 0, 0, 0, 0, 0, 0, 0, 0]|Money Talks (1997)                                                               |\n",
      "|01-Jan-1997|882 |http://us.imdb.com/M/title-exact?Washington+Square+(1997)                                                                             |[0, 0, 0, 0, 0, 0, 0, 0, 1, 0, 0, 0, 0, 0, 0, 0, 0, 0, 0]|Washington Square (1997)                                                         |\n",
      "|01-Jan-1997|883 |http://us.imdb.com/M/title-exact?Telling+Lies+in+America+(1997)                                                                       |[0, 0, 0, 0, 0, 0, 0, 0, 1, 0, 0, 0, 0, 0, 0, 0, 0, 0, 0]|Telling Lies in America (1997)                                                   |\n",
      "|01-Jan-1997|884 |http://us.imdb.com/M/title-exact?Year+of+the+Horse+(1997)                                                                             |[0, 0, 0, 0, 0, 0, 0, 1, 0, 0, 0, 0, 0, 0, 0, 0, 0, 0, 0]|Year of the Horse (1997)                                                         |\n",
      "|01-Jan-1998|885 |http://us.imdb.com/M/title-exact?Phantoms+(1998)                                                                                      |[0, 0, 0, 0, 0, 0, 0, 0, 0, 0, 0, 1, 0, 0, 0, 0, 0, 0, 0]|Phantoms (1998)                                                                  |\n",
      "|01-Jan-1997|886 |http://us.imdb.com/M/title-exact?Life+Less+Ordinary,+A+(1997)                                                                         |[0, 0, 0, 0, 0, 0, 0, 0, 0, 0, 0, 0, 0, 0, 1, 0, 1, 0, 0]|Life Less Ordinary, A (1997)                                                     |\n",
      "|01-Jan-1997|887 |http://us.imdb.com/M/title-exact?Eve's+Bayou+(1997)                                                                                   |[0, 0, 0, 0, 0, 0, 0, 0, 1, 0, 0, 0, 0, 0, 0, 0, 0, 0, 0]|Eve's Bayou (1997)                                                               |\n",
      "|01-Jan-1997|888 |http://us.imdb.com/M/title-exact?One+Night+Stand+(1997)                                                                               |[0, 0, 0, 0, 0, 0, 0, 0, 1, 0, 0, 0, 0, 0, 0, 0, 0, 0, 0]|One Night Stand (1997)                                                           |\n",
      "|01-Jan-1997|889 |http://us.imdb.com/M/title-exact?Tango+Lesson,+The+(1997)                                                                             |[0, 0, 0, 0, 0, 0, 0, 0, 0, 0, 0, 0, 0, 0, 1, 0, 0, 0, 0]|Tango Lesson, The (1997)                                                         |\n",
      "|01-Jan-1997|890 |http://us.imdb.com/M/title-exact?Mortal+Kombat%3A+Annihilation+(1997)                                                                 |[0, 1, 1, 0, 0, 0, 0, 0, 0, 0, 0, 0, 0, 0, 0, 0, 0, 0, 0]|Mortal Kombat: Annihilation (1997)                                               |\n",
      "|18-Dec-1997|891 |http://us.imdb.com/M/title-exact?imdb-title-118698                                                                                    |[0, 0, 0, 0, 0, 0, 0, 0, 1, 0, 0, 0, 0, 0, 0, 0, 0, 1, 0]|Bent (1997)                                                                      |\n",
      "|01-Jan-1997|892 |http://us.imdb.com/M/title-exact?imdb-title-119137                                                                                    |[0, 0, 0, 0, 1, 1, 0, 0, 0, 1, 0, 0, 0, 0, 0, 0, 0, 0, 0]|Flubber (1997)                                                                   |\n",
      "|01-Jan-1997|893 |http://us.imdb.com/M/title-exact?imdb-title-119142                                                                                    |[0, 0, 0, 0, 0, 1, 0, 0, 0, 0, 0, 0, 0, 0, 0, 0, 0, 0, 0]|For Richer or Poorer (1997)                                                      |\n",
      "|01-Jan-1997|894 |http://us.imdb.com/M/title-exact?imdb-title-119303                                                                                    |[0, 0, 0, 0, 1, 1, 0, 0, 0, 0, 0, 0, 0, 0, 0, 0, 0, 0, 0]|Home Alone 3 (1997)                                                              |\n",
      "|01-Jan-1997|895 |http://us.imdb.com/M/title-exact?imdb-title-120082                                                                                    |[0, 0, 0, 0, 0, 0, 0, 0, 0, 0, 0, 1, 0, 0, 0, 0, 1, 0, 0]|Scream 2 (1997)                                                                  |\n",
      "|01-Jan-1997|896 |http://us.imdb.com/M/title-exact?Sweet+Hereafter%2C+The+(1997)                                                                        |[0, 0, 0, 0, 0, 0, 0, 0, 1, 0, 0, 0, 0, 0, 0, 0, 0, 0, 0]|Sweet Hereafter, The (1997)                                                      |\n",
      "|01-Jan-1995|897 |http://us.imdb.com/M/title-exact?imdb-title-128755                                                                                    |[0, 1, 1, 0, 0, 0, 0, 0, 0, 0, 0, 0, 0, 0, 0, 1, 0, 0, 0]|Time Tracers (1995)                                                              |\n",
      "|01-Jan-1997|898 |http://us.imdb.com/M/title-exact?imdb-title-119925                                                                                    |[0, 0, 0, 0, 0, 0, 0, 0, 1, 0, 0, 0, 0, 0, 0, 0, 0, 0, 0]|Postman, The (1997)                                                              |\n",
      "|01-Jan-1997|899 |http://us.imdb.com/M/title-exact?imdb-title-120521                                                                                    |[0, 0, 0, 0, 0, 0, 0, 0, 1, 0, 0, 0, 0, 0, 0, 0, 0, 0, 0]|Winter Guest, The (1997)                                                         |\n",
      "|25-Dec-1997|900 |http://us.imdb.com/M/title-exact?imdb-title-119485                                                                                    |[0, 0, 0, 0, 0, 0, 0, 0, 1, 0, 0, 0, 0, 0, 0, 0, 0, 0, 0]|Kundun (1997)                                                                    |\n",
      "|25-Dec-1997|901 |http://us.imdb.com/M/title-exact?imdb-title-119718                                                                                    |[0, 0, 0, 0, 0, 1, 0, 0, 0, 0, 0, 0, 0, 0, 0, 0, 0, 0, 0]|Mr. Magoo (1997)                                                                 |\n",
      "|26-Dec-1997|902 |http://us.imdb.com/M/title-exact?imdb-title-118715                                                                                    |[0, 0, 0, 0, 0, 1, 1, 0, 0, 0, 0, 0, 0, 1, 0, 0, 1, 0, 0]|Big Lebowski, The (1998)                                                         |\n",
      "|26-Dec-1997|903 |http://us.imdb.com/M/title-exact?imdb-title-118566                                                                                    |[0, 0, 0, 0, 0, 0, 0, 0, 1, 0, 0, 0, 0, 0, 1, 0, 0, 0, 0]|Afterglow (1997)                                                                 |\n",
      "|26-Dec-1997|904 |http://us.imdb.com/M/title-exact?imdb-title-119590                                                                                    |[0, 0, 0, 0, 0, 1, 0, 0, 1, 0, 0, 0, 0, 0, 0, 0, 0, 0, 0]|Ma vie en rose (My Life in Pink) (1997)                                          |\n",
      "|01-Jan-1998|905 |http://us.imdb.com/M/title-exact?imdb-title-119223                                                                                    |[0, 0, 0, 0, 0, 0, 0, 0, 1, 0, 0, 0, 0, 0, 1, 0, 0, 0, 0]|Great Expectations (1998)                                                        |\n",
      "|31-Dec-1997|906 |http://us.imdb.com/M/title-exact?imdb-title-119843                                                                                    |[0, 0, 0, 0, 0, 0, 0, 0, 1, 0, 0, 0, 0, 0, 1, 0, 0, 0, 0]|Oscar & Lucinda (1997)                                                           |\n",
      "|01-Jan-1997|907 |http://us.imdb.com/M/title-exact?imdb-title-120881                                                                                    |[0, 0, 0, 0, 0, 1, 0, 0, 0, 0, 0, 0, 0, 0, 0, 0, 0, 0, 0]|Vermin (1998)                                                                    |\n",
      "|16-Jan-1998|908 |http://us.imdb.com/M/title-exact?imdb-title-120693                                                                                    |[0, 0, 0, 0, 0, 1, 0, 0, 0, 0, 0, 0, 0, 0, 0, 0, 0, 0, 0]|Half Baked (1998)                                                                |\n",
      "|23-Jan-1998|909 |http://us.imdb.com/M/title-exact?imdb-title-118892                                                                                    |[0, 0, 0, 0, 0, 0, 0, 0, 1, 0, 0, 0, 0, 0, 0, 0, 0, 0, 0]|Dangerous Beauty (1998)                                                          |\n",
      "|06-Feb-1998|910 |http://us.imdb.com/Title?Nil+By+Mouth+(1997)                                                                                          |[0, 0, 0, 0, 0, 0, 0, 0, 1, 0, 0, 0, 0, 0, 0, 0, 0, 0, 0]|Nil By Mouth (1997)                                                              |\n",
      "|30-Jan-1998|911 |http://us.imdb.com/M/title-exact?imdb-title-119594                                                                                    |[0, 0, 0, 0, 0, 0, 1, 0, 1, 0, 0, 0, 0, 0, 0, 0, 0, 0, 0]|Twilight (1998)                                                                  |\n",
      "|10-Mar-1998|912 |http://us.imdb.com/Title?U.S.+Marshals+(1998)                                                                                         |[0, 1, 0, 0, 0, 0, 0, 0, 0, 0, 0, 0, 0, 0, 0, 0, 1, 0, 0]|U.S. Marshalls (1998)                                                            |\n",
      "|10-Mar-1998|913 |http://us.imdb.com/Title?Love+and+Death+on+Long+Island+(1997)                                                                         |[0, 0, 0, 0, 0, 1, 0, 0, 0, 0, 0, 0, 0, 0, 0, 0, 0, 0, 0]|Love and Death on Long Island (1997)                                             |\n",
      "|14-Mar-1998|914 |http://us.imdb.com/Title?Wild+Things+(1998)                                                                                           |[0, 0, 0, 0, 0, 0, 1, 0, 1, 0, 0, 0, 0, 1, 0, 0, 1, 0, 0]|Wild Things (1998)                                                               |\n",
      "|20-Mar-1998|915 |http://us.imdb.com/Title?Primary+Colors+(1998)                                                                                        |[0, 0, 0, 0, 0, 0, 0, 0, 1, 0, 0, 0, 0, 0, 0, 0, 0, 0, 0]|Primary Colors (1998)                                                            |\n",
      "|27-Mar-1998|916 |http://us.imdb.com/Title?Lost+in+Space+(1998)                                                                                         |[0, 1, 0, 0, 0, 0, 0, 0, 0, 0, 0, 0, 0, 0, 0, 1, 1, 0, 0]|Lost in Space (1998)                                                             |\n",
      "|27-Mar-1998|917 |http://us.imdb.com/Title?Mercury+Rising+(1998)                                                                                        |[0, 1, 0, 0, 0, 0, 0, 0, 1, 0, 0, 0, 0, 0, 0, 0, 1, 0, 0]|Mercury Rising (1998)                                                            |\n",
      "|03-Apr-1998|918 |http://us.imdb.com/Title?City+of+Angels+(1998)                                                                                        |[0, 0, 0, 0, 0, 0, 0, 0, 0, 0, 0, 0, 0, 0, 1, 0, 0, 0, 0]|City of Angels (1998)                                                            |\n",
      "|01-Jan-1995|919 |http://us.imdb.com/Title?Cit%E9+des+enfants+perdus,+La+(1995)                                                                         |[0, 0, 1, 0, 0, 0, 0, 0, 0, 0, 0, 0, 0, 0, 0, 1, 0, 0, 0]|City of Lost Children, The (1995)                                                |\n",
      "|01-Jan-1995|920 |http://us.imdb.com/M/title-exact?Two%20Bits%20(1995)                                                                                  |[0, 0, 0, 0, 0, 0, 0, 0, 1, 0, 0, 0, 0, 0, 0, 0, 0, 0, 0]|Two Bits (1995)                                                                  |\n",
      "|01-Jan-1993|921 |http://us.imdb.com/M/title-exact?Ba%20Wang%20Bie%20Ji%20(1993)                                                                        |[0, 0, 0, 0, 0, 0, 0, 0, 1, 0, 0, 0, 0, 0, 1, 0, 0, 0, 0]|Farewell My Concubine (1993)                                                     |\n",
      "|10-May-1996|922 |http://us.imdb.com/M/title-exact?Dead%20Man%20(1995)                                                                                  |[0, 0, 0, 0, 0, 0, 0, 0, 0, 0, 0, 0, 0, 0, 0, 0, 0, 0, 1]|Dead Man (1995)                                                                  |\n",
      "|01-Jan-1991|923 |http://us.imdb.com/M/title-exact?Da%20Hong%20Deng%20Long%20Gao%20Gao%20Gua%20(1991)                                                   |[0, 0, 0, 0, 0, 0, 0, 0, 1, 0, 0, 0, 0, 0, 0, 0, 0, 0, 0]|Raise the Red Lantern (1991)                                                     |\n",
      "|01-Jan-1996|924 |http://us.imdb.com/M/title-exact?White%20Squall%20(1996)                                                                              |[0, 0, 1, 0, 0, 0, 0, 0, 1, 0, 0, 0, 0, 0, 0, 0, 0, 0, 0]|White Squall (1996)                                                              |\n",
      "|23-Feb-1996|925 |http://us.imdb.com/Title?Unforgettable+(1996)                                                                                         |[0, 0, 0, 0, 0, 0, 0, 0, 0, 0, 0, 0, 0, 0, 0, 1, 1, 0, 0]|Unforgettable (1996)                                                             |\n",
      "|01-Mar-1996|926 |http://us.imdb.com/M/title-exact?Down%20Periscope%20(1996)                                                                            |[0, 0, 0, 0, 0, 1, 0, 0, 0, 0, 0, 0, 0, 0, 0, 0, 0, 0, 0]|Down Periscope (1996)                                                            |\n",
      "|08-Mar-1996|927 |http://us.imdb.com/M/title-exact?Flor%20de%20mi%20secreto,%20La%20(1995)                                                              |[0, 0, 0, 0, 0, 0, 0, 0, 1, 0, 0, 0, 0, 0, 0, 0, 0, 0, 0]|Flower of My Secret, The (Flor de mi secreto, La) (1995)                         |\n",
      "|26-Apr-1996|928 |http://us.imdb.com/M/title-exact?Craft,%20The%20(1996)                                                                                |[0, 0, 0, 0, 0, 0, 0, 0, 1, 0, 0, 1, 0, 0, 0, 0, 0, 0, 0]|Craft, The (1996)                                                                |\n",
      "|03-Jul-1996|929 |http://us.imdb.com/M/title-exact?Harriet%20the%20Spy%20(1996)                                                                         |[0, 0, 0, 0, 1, 1, 0, 0, 0, 0, 0, 0, 0, 0, 0, 0, 0, 0, 0]|Harriet the Spy (1996)                                                           |\n",
      "|31-Jul-1996|930 |http://us.imdb.com/M/title-exact?Chain%20Reaction%20(1996)                                                                            |[0, 1, 1, 0, 0, 0, 0, 0, 0, 0, 0, 0, 0, 0, 0, 0, 1, 0, 0]|Chain Reaction (1996)                                                            |\n",
      "|23-Aug-1996|931 |http://us.imdb.com/M/title-exact?Island%20of%20Dr.%20Moreau,%20The%20(1996)                                                           |[0, 0, 0, 0, 0, 0, 0, 0, 0, 0, 0, 0, 0, 0, 0, 1, 1, 0, 0]|Island of Dr. Moreau, The (1996)                                                 |\n",
      "|30-Aug-1996|932 |http://us.imdb.com/M/title-exact?First%20Kid%20(1996)                                                                                 |[0, 0, 0, 0, 1, 1, 0, 0, 0, 0, 0, 0, 0, 0, 0, 0, 0, 0, 0]|First Kid (1996)                                                                 |\n",
      "|25-Oct-1996|933 |http://us.imdb.com/M/title-exact?Funeral,%20The%20(1996)                                                                              |[0, 0, 0, 0, 0, 0, 0, 0, 1, 0, 0, 0, 0, 0, 0, 0, 0, 0, 0]|Funeral, The (1996)                                                              |\n",
      "|13-Dec-1996|934 |http://us.imdb.com/M/title-exact?Preacher's%20Wife,%20The%20(1996)                                                                    |[0, 0, 0, 0, 0, 0, 0, 0, 1, 0, 0, 0, 0, 0, 0, 0, 0, 0, 0]|Preacher's Wife, The (1996)                                                      |\n",
      "|18-Apr-1997|935 |http://us.imdb.com/M/title-exact?Paradise%20Road%20%281997%29                                                                         |[0, 0, 0, 0, 0, 0, 0, 0, 1, 0, 0, 0, 0, 0, 0, 0, 0, 1, 0]|Paradise Road (1997)                                                             |\n",
      "|13-Jun-1997|936 |http://us.imdb.com/M/title-exact?Brassed%20Off%20%281996%29                                                                           |[0, 0, 0, 0, 0, 1, 0, 0, 1, 0, 0, 0, 0, 0, 1, 0, 0, 0, 0]|Brassed Off (1996)                                                               |\n",
      "|01-Jan-1997|937 |http://us.imdb.com/M/title-exact?Thousand+Acres%2C+A+(1997)                                                                           |[0, 0, 0, 0, 0, 0, 0, 0, 1, 0, 0, 0, 0, 0, 0, 0, 0, 0, 0]|Thousand Acres, A (1997)                                                         |\n",
      "|01-Jan-1997|938 |http://us.imdb.com/M/title-exact?Smile+Like+Yours%2C+A+(1997)                                                                         |[0, 0, 0, 0, 0, 1, 0, 0, 0, 0, 0, 0, 0, 0, 1, 0, 0, 0, 0]|Smile Like Yours, A (1997)                                                       |\n",
      "|01-Jan-1995|939 |http://us.imdb.com/M/title-exact?Murder%20in%20the%20First%20(1995)                                                                   |[0, 0, 0, 0, 0, 0, 0, 0, 1, 0, 0, 0, 0, 0, 0, 0, 1, 0, 0]|Murder in the First (1995)                                                       |\n",
      "|01-Jan-1994|940 |http://us.imdb.com/M/title-exact?Airheads%20(1994)                                                                                    |[0, 0, 0, 0, 0, 1, 0, 0, 0, 0, 0, 0, 0, 0, 0, 0, 0, 0, 0]|Airheads (1994)                                                                  |\n",
      "|01-Jan-1994|941 |http://us.imdb.com/M/title-exact?With%20Honors%20(1994)                                                                               |[0, 0, 0, 0, 0, 1, 0, 0, 1, 0, 0, 0, 0, 0, 0, 0, 0, 0, 0]|With Honors (1994)                                                               |\n",
      "|01-Jan-1993|942 |http://us.imdb.com/M/title-exact?What's%20Love%20Got%20to%20Do%20with%20It%20(1993)                                                   |[0, 0, 0, 0, 0, 0, 0, 0, 1, 0, 0, 0, 0, 0, 0, 0, 0, 0, 0]|What's Love Got to Do with It (1993)                                             |\n",
      "|01-Jan-1994|943 |http://us.imdb.com/M/title-exact?Killing%20Zoe%20(1994)                                                                               |[0, 0, 0, 0, 0, 0, 0, 0, 0, 0, 0, 0, 0, 0, 0, 0, 1, 0, 0]|Killing Zoe (1994)                                                               |\n",
      "|01-Jan-1994|944 |http://us.imdb.com/M/title-exact?Renaissance%20Man%20(1994)                                                                           |[0, 0, 0, 0, 0, 1, 0, 0, 1, 0, 0, 0, 0, 0, 0, 0, 0, 1, 0]|Renaissance Man (1994)                                                           |\n",
      "|01-Jan-1963|945 |http://us.imdb.com/M/title-exact?Charade%20(1963)                                                                                     |[0, 0, 0, 0, 0, 1, 0, 0, 0, 0, 0, 0, 0, 1, 1, 0, 1, 0, 0]|Charade (1963)                                                                   |\n",
      "|01-Jan-1981|946 |http://us.imdb.com/M/title-exact?Fox%20and%20the%20Hound,%20The%20(1981)                                                              |[0, 0, 0, 1, 1, 0, 0, 0, 0, 0, 0, 0, 0, 0, 0, 0, 0, 0, 0]|Fox and the Hound, The (1981)                                                    |\n",
      "|01-Jan-1988|947 |http://us.imdb.com/M/title-exact?Grand%20bleu,%20Le%20(1988)                                                                          |[0, 0, 1, 0, 0, 0, 0, 0, 0, 0, 0, 0, 0, 0, 1, 0, 0, 0, 0]|Big Blue, The (Grand bleu, Le) (1988)                                            |\n",
      "|28-Feb-1997|948 |http://us.imdb.com/M/title-exact?Booty%20Call%20(1997)                                                                                |[0, 0, 0, 0, 0, 1, 0, 0, 0, 0, 0, 0, 0, 0, 1, 0, 0, 0, 0]|Booty Call (1997)                                                                |\n",
      "|01-Jan-1995|949 |http://us.imdb.com/M/title-exact?How%20to%20Make%20an%20American%20Quilt%20(1995)                                                     |[0, 0, 0, 0, 0, 0, 0, 0, 1, 0, 0, 0, 0, 0, 1, 0, 0, 0, 0]|How to Make an American Quilt (1995)                                             |\n",
      "|01-Jan-1995|950 |http://us.imdb.com/M/title-exact?Georgia%20(1995)                                                                                     |[0, 0, 0, 0, 0, 0, 0, 0, 1, 0, 0, 0, 0, 0, 0, 0, 0, 0, 0]|Georgia (1995)                                                                   |\n",
      "|01-Jan-1995|951 |http://us.imdb.com/M/title-exact?Indian%20in%20the%20Cupboard,%20The%20(1995)                                                         |[0, 0, 1, 0, 1, 0, 0, 0, 0, 1, 0, 0, 0, 0, 0, 0, 0, 0, 0]|Indian in the Cupboard, The (1995)                                               |\n",
      "|01-Jan-1995|952 |http://us.imdb.com/M/title-exact?Blue%20in%20the%20Face%20(1995)                                                                      |[0, 0, 0, 0, 0, 1, 0, 0, 0, 0, 0, 0, 0, 0, 0, 0, 0, 0, 0]|Blue in the Face (1995)                                                          |\n",
      "|01-Jan-1995|953 |http://us.imdb.com/M/title-exact?Unstrung%20Heroes%20(1995)                                                                           |[0, 0, 0, 0, 0, 1, 0, 0, 1, 0, 0, 0, 0, 0, 0, 0, 0, 0, 0]|Unstrung Heroes (1995)                                                           |\n",
      "|01-Jan-1995|954 |http://us.imdb.com/M/title-exact?Unzipped%20(1995)                                                                                    |[0, 0, 0, 0, 0, 0, 0, 1, 0, 0, 0, 0, 0, 0, 0, 0, 0, 0, 0]|Unzipped (1995)                                                                  |\n",
      "|01-Jan-1995|955 |http://us.imdb.com/M/title-exact?Before%20Sunrise%20(1995)                                                                            |[0, 0, 0, 0, 0, 0, 0, 0, 1, 0, 0, 0, 0, 0, 1, 0, 0, 0, 0]|Before Sunrise (1995)                                                            |\n",
      "|01-Jan-1994|956 |http://us.imdb.com/M/title-exact?Nobody's%20Fool%20(1994)                                                                             |[0, 0, 0, 0, 0, 0, 0, 0, 1, 0, 0, 0, 0, 0, 0, 0, 0, 0, 0]|Nobody's Fool (1994)                                                             |\n",
      "|01-Jan-1992|957 |http://us.imdb.com/M/title-exact?Tui%20Shou%20(1992)                                                                                  |[0, 0, 0, 0, 0, 1, 0, 0, 0, 0, 0, 0, 0, 0, 0, 0, 0, 0, 0]|Pushing Hands (1992)                                                             |\n",
      "|01-Jan-1994|958 |http://us.imdb.com/M/title-exact?Huozhe%20(1994)                                                                                      |[0, 0, 0, 0, 0, 0, 0, 0, 1, 0, 0, 0, 0, 0, 0, 0, 0, 0, 0]|To Live (Huozhe) (1994)                                                          |\n",
      "|01-Jan-1993|959 |http://us.imdb.com/M/title-exact?Dazed%20and%20Confused%20(1993)                                                                      |[0, 0, 0, 0, 0, 1, 0, 0, 0, 0, 0, 0, 0, 0, 0, 0, 0, 0, 0]|Dazed and Confused (1993)                                                        |\n",
      "|01-Jan-1993|960 |http://us.imdb.com/M/title-exact?Naked%20(1993)                                                                                       |[0, 0, 0, 0, 0, 0, 0, 0, 1, 0, 0, 0, 0, 0, 0, 0, 0, 0, 0]|Naked (1993)                                                                     |\n",
      "|01-Jan-1993|961 |http://us.imdb.com/M/title-exact?Orlando%20(1993)                                                                                     |[0, 0, 0, 0, 0, 0, 0, 0, 1, 0, 0, 0, 0, 0, 0, 0, 0, 0, 0]|Orlando (1993)                                                                   |\n",
      "|01-Jan-1993|962 |http://us.imdb.com/M/title-exact?Ruby%20in%20Paradise%20(1993)                                                                        |[0, 0, 0, 0, 0, 0, 0, 0, 1, 0, 0, 0, 0, 0, 0, 0, 0, 0, 0]|Ruby in Paradise (1993)                                                          |\n",
      "|01-Jan-1993|963 |http://us.imdb.com/M/title-exact?Some%20Folks%20Call%20It%20a%20Sling%20Blade%20(1993)                                                |[0, 0, 0, 0, 0, 0, 0, 0, 1, 0, 0, 0, 0, 0, 0, 0, 1, 0, 0]|Some Folks Call It a Sling Blade (1993)                                          |\n",
      "|01-Jan-1995|964 |http://us.imdb.com/M/title-exact?Month%20by%20The%20Lake,%20A%20(1995)                                                                |[0, 0, 0, 0, 0, 1, 0, 0, 1, 0, 0, 0, 0, 0, 0, 0, 0, 0, 0]|Month by the Lake, A (1995)                                                      |\n",
      "|01-Jan-1957|965 |http://us.imdb.com/M/title-exact?Funny%20Face%20(1957)                                                                                |[0, 0, 0, 0, 0, 1, 0, 0, 0, 0, 0, 0, 1, 0, 0, 0, 0, 0, 0]|Funny Face (1957)                                                                |\n",
      "|01-Jan-1957|966 |http://us.imdb.com/M/title-exact?Affair%20to%20Remember,%20An%20(1957)                                                                |[0, 0, 0, 0, 0, 0, 0, 0, 0, 0, 0, 0, 0, 0, 1, 0, 0, 0, 0]|Affair to Remember, An (1957)                                                    |\n",
      "|01-Jan-1936|967 |http://us.imdb.com/M/title-exact?Little%20Lord%20Fauntleroy%20(1936)                                                                  |[0, 0, 0, 0, 0, 0, 0, 0, 1, 0, 0, 0, 0, 0, 0, 0, 0, 0, 0]|Little Lord Fauntleroy (1936)                                                    |\n",
      "|01-Jan-1949|968 |http://us.imdb.com/M/title-exact?Inspector%20General,%20The%20(1949)                                                                  |[0, 0, 0, 0, 0, 0, 0, 0, 0, 0, 0, 0, 1, 0, 0, 0, 0, 0, 0]|Inspector General, The (1949)                                                    |\n",
      "|01-Jan-1968|969 |http://us.imdb.com/M/title-exact?Winnie%20the%20Pooh%20and%20the%20Blustery%20Day%20%281968%29                                        |[0, 0, 0, 1, 1, 0, 0, 0, 0, 0, 0, 0, 0, 0, 0, 0, 0, 0, 0]|Winnie the Pooh and the Blustery Day (1968)                                      |\n",
      "|01-Jan-1991|970 |http://us.imdb.com/M/title-exact?Hear%20My%20Song%20(1991)                                                                            |[0, 0, 0, 0, 0, 1, 0, 0, 0, 0, 0, 0, 0, 0, 0, 0, 0, 0, 0]|Hear My Song (1991)                                                              |\n",
      "|01-Jan-1991|971 |http://us.imdb.com/M/title-exact?Mediterraneo%20(1991)                                                                                |[0, 0, 0, 0, 0, 1, 0, 0, 0, 0, 0, 0, 0, 0, 0, 0, 0, 1, 0]|Mediterraneo (1991)                                                              |\n",
      "|01-Jan-1992|972 |http://us.imdb.com/M/title-exact?Passion%20Fish%20(1992)                                                                              |[0, 0, 0, 0, 0, 0, 0, 0, 1, 0, 0, 0, 0, 0, 0, 0, 0, 0, 0]|Passion Fish (1992)                                                              |\n",
      "|18-Oct-1996|973 |http://us.imdb.com/M/title-exact?Grateful%20Dead%20(1995)                                                                             |[0, 0, 0, 0, 0, 0, 0, 1, 0, 0, 0, 0, 0, 0, 0, 0, 0, 0, 0]|Grateful Dead (1995)                                                             |\n",
      "|01-Jan-1996|974 |http://us.imdb.com/Title?Eye+for+an+Eye+(1996)                                                                                        |[0, 0, 0, 0, 0, 0, 0, 0, 1, 0, 0, 0, 0, 0, 0, 0, 1, 0, 0]|Eye for an Eye (1996)                                                            |\n",
      "|12-Apr-1996|975 |http://us.imdb.com/M/title-exact?Fear%20(1996)                                                                                        |[0, 0, 0, 0, 0, 0, 0, 0, 0, 0, 0, 0, 0, 0, 0, 0, 1, 0, 0]|Fear (1996)                                                                      |\n",
      "|23-Aug-1996|976 |http://us.imdb.com/M/title-exact?Solo%20(1996)                                                                                        |[0, 1, 0, 0, 0, 0, 0, 0, 0, 0, 0, 0, 0, 0, 0, 1, 1, 0, 0]|Solo (1996)                                                                      |\n",
      "|19-Apr-1996|977 |http://us.imdb.com/M/title-exact?Substitute,%20The%20(1996)                                                                           |[0, 1, 0, 0, 0, 0, 0, 0, 0, 0, 0, 0, 0, 0, 0, 0, 0, 0, 0]|Substitute, The (1996)                                                           |\n",
      "|10-May-1996|978 |http://us.imdb.com/M/title-exact?Heaven's%20Prisoners%20(1996)                                                                        |[0, 0, 0, 0, 0, 0, 0, 0, 0, 0, 0, 0, 0, 1, 0, 0, 1, 0, 0]|Heaven's Prisoners (1996)                                                        |\n",
      "|30-Aug-1996|979 |http://us.imdb.com/M/title-exact?Trigger%20Effect,%20The%20(1996)                                                                     |[0, 0, 0, 0, 0, 0, 0, 0, 1, 0, 0, 0, 0, 0, 0, 0, 1, 0, 0]|Trigger Effect, The (1996)                                                       |\n",
      "|01-Nov-1996|980 |http://us.imdb.com/M/title-exact?Mother%20Night%20(1996)                                                                              |[0, 0, 0, 0, 0, 0, 0, 0, 1, 0, 0, 0, 0, 0, 0, 0, 0, 0, 0]|Mother Night (1996)                                                              |\n",
      "|04-Sep-1996|981 |http://us.imdb.com/M/title-exact?Dangerous%20Ground%20(1997)                                                                          |[0, 0, 0, 0, 0, 0, 0, 0, 1, 0, 0, 0, 0, 0, 0, 0, 0, 0, 0]|Dangerous Ground (1997)                                                          |\n",
      "|13-Sep-1996|982 |http://us.imdb.com/M/title-exact?Maximum%20Risk%20(1996)                                                                              |[0, 1, 1, 0, 0, 0, 0, 0, 0, 0, 0, 0, 0, 0, 0, 0, 1, 0, 0]|Maximum Risk (1996)                                                              |\n",
      "|13-Sep-1996|983 |http://us.imdb.com/M/title-exact?Rich%20Man's%20Wife,%20The%20(1996)                                                                  |[0, 0, 0, 0, 0, 0, 0, 0, 0, 0, 0, 0, 0, 0, 0, 0, 1, 0, 0]|Rich Man's Wife, The (1996)                                                      |\n",
      "|31-Jan-1997|984 |http://us.imdb.com/M/title-exact?Shadow%20Conspiracy%20(1997)                                                                         |[0, 0, 0, 0, 0, 0, 0, 0, 0, 0, 0, 0, 0, 0, 0, 0, 1, 0, 0]|Shadow Conspiracy (1997)                                                         |\n",
      "|15-Nov-1996|985 |http://us.imdb.com/Title?Blood+%26+Wine+(1997)                                                                                        |[0, 0, 0, 0, 0, 0, 0, 0, 1, 0, 0, 0, 0, 0, 0, 0, 0, 0, 0]|Blood & Wine (1997)                                                              |\n",
      "|10-Jan-1997|986 |http://us.imdb.com/M/title-exact?Turbulence%20(1997)                                                                                  |[0, 0, 0, 0, 0, 0, 0, 0, 0, 0, 0, 0, 0, 0, 0, 0, 1, 0, 0]|Turbulence (1997)                                                                |\n",
      "|09-May-1997|987 |http://us.imdb.com/M/title-exact?Underworld%20(1997)                                                                                  |[0, 0, 0, 0, 0, 0, 0, 0, 0, 0, 0, 0, 0, 0, 0, 0, 1, 0, 0]|Underworld (1997)                                                                |\n",
      "|07-Feb-1997|988 |http://us.imdb.com/M/title-exact?Beautician%20and%20the%20Beast,%20The%20(1997)                                                       |[0, 0, 0, 0, 0, 1, 0, 0, 0, 0, 0, 0, 0, 0, 1, 0, 0, 0, 0]|Beautician and the Beast, The (1997)                                             |\n",
      "|26-Mar-1997|989 |http://us.imdb.com/M/title-exact?Cats%20Don%27t%20Dance%20(1997)                                                                      |[0, 0, 0, 1, 1, 0, 0, 0, 0, 0, 0, 0, 1, 0, 0, 0, 0, 0, 0]|Cats Don't Dance (1997)                                                          |\n",
      "|04-Apr-1997|990 |http://us.imdb.com/M/title-exact?Anna%20Karenina%20%281997%29                                                                         |[0, 0, 0, 0, 0, 0, 0, 0, 1, 0, 0, 0, 0, 0, 1, 0, 0, 0, 0]|Anna Karenina (1997)                                                             |\n",
      "|11-Apr-1997|991 |http://us.imdb.com/Title?Keys+to+Tulsa+(1997)                                                                                         |[0, 0, 0, 0, 0, 0, 1, 0, 0, 0, 0, 0, 0, 0, 0, 0, 0, 0, 0]|Keys to Tulsa (1997)                                                             |\n",
      "|20-Jun-1997|992 |http://us.imdb.com/M/title-exact?Head+Above+Water+(1996)                                                                              |[0, 0, 0, 0, 0, 1, 0, 0, 0, 0, 0, 0, 0, 0, 0, 0, 1, 0, 0]|Head Above Water (1996)                                                          |\n",
      "|27-Jun-1997|993 |http://us.imdb.com/M/title-exact?Hercules+(1997)                                                                                      |[0, 0, 1, 1, 1, 1, 0, 0, 0, 0, 0, 0, 1, 0, 0, 0, 0, 0, 0]|Hercules (1997)                                                                  |\n",
      "|20-Jun-1997|994 |http://us.imdb.com/M/title-exact?Last+Time+I+Committed+Suicide%2C+The+(1997)                                                          |[0, 0, 0, 0, 0, 0, 0, 0, 1, 0, 0, 0, 0, 0, 0, 0, 0, 0, 0]|Last Time I Committed Suicide, The (1997)                                        |\n",
      "|01-Jan-1997|995 |http://us.imdb.com/M/title-exact?Kiss+Me%2C+Guido+(1997)                                                                              |[0, 0, 0, 0, 0, 1, 0, 0, 0, 0, 0, 0, 0, 0, 0, 0, 0, 0, 0]|Kiss Me, Guido (1997)                                                            |\n",
      "|01-Jan-1995|996 |http://us.imdb.com/M/title-exact?Big%20Green,%20The%20(1995)                                                                          |[0, 0, 0, 0, 1, 1, 0, 0, 0, 0, 0, 0, 0, 0, 0, 0, 0, 0, 0]|Big Green, The (1995)                                                            |\n",
      "|01-Jan-1995|997 |http://us.imdb.com/M/title-exact?Stuart%20Saves%20His%20Family%20(1995)                                                               |[0, 0, 0, 0, 0, 1, 0, 0, 0, 0, 0, 0, 0, 0, 0, 0, 0, 0, 0]|Stuart Saves His Family (1995)                                                   |\n",
      "|01-Jan-1994|998 |http://us.imdb.com/M/title-exact?Cabin%20Boy%20(1994)                                                                                 |[0, 0, 0, 0, 0, 1, 0, 0, 0, 0, 0, 0, 0, 0, 0, 0, 0, 0, 0]|Cabin Boy (1994)                                                                 |\n",
      "|01-Jan-1994|999 |http://us.imdb.com/M/title-exact?Clean%20Slate%20(1994)                                                                               |[0, 0, 0, 0, 0, 1, 0, 0, 0, 0, 0, 0, 0, 0, 0, 0, 0, 0, 0]|Clean Slate (1994)                                                               |\n",
      "|01-Jan-1994|1000|http://us.imdb.com/M/title-exact?Lightning%20Jack%20(1994)                                                                            |[0, 0, 0, 0, 0, 1, 0, 0, 0, 0, 0, 0, 0, 0, 0, 0, 0, 0, 1]|Lightning Jack (1994)                                                            |\n",
      "|30-Aug-1996|1001|http://us.imdb.com/M/title-exact?Stupids,%20The%20(1996)                                                                              |[0, 0, 0, 0, 0, 1, 0, 0, 0, 0, 0, 0, 0, 0, 0, 0, 0, 0, 0]|Stupids, The (1996)                                                              |\n",
      "|07-Feb-1997|1002|http://us.imdb.com/M/title-exact?Pest,%20The%20(1997)                                                                                 |[0, 0, 0, 0, 0, 1, 0, 0, 0, 0, 0, 0, 0, 0, 0, 0, 0, 0, 0]|Pest, The (1997)                                                                 |\n",
      "|14-Feb-1997|1003|http://us.imdb.com/M/title-exact?That%20Darn%20Cat%20(1997)                                                                           |[0, 0, 0, 0, 1, 1, 0, 0, 0, 0, 0, 0, 0, 1, 0, 0, 0, 0, 0]|That Darn Cat! (1997)                                                            |\n",
      "|01-Jan-1993|1004|http://us.imdb.com/M/title-exact?Geronimo:%20An%20American%20Legend%20(1993)                                                          |[0, 0, 0, 0, 0, 0, 0, 0, 1, 0, 0, 0, 0, 0, 0, 0, 0, 0, 1]|Geronimo: An American Legend (1993)                                              |\n",
      "|01-Jan-1991|1005|http://us.imdb.com/M/title-exact?Podwojne%20zycie%20Weroniki%20(1991)                                                                 |[0, 0, 0, 0, 0, 0, 0, 0, 1, 0, 0, 0, 0, 0, 0, 0, 0, 0, 0]|Double vie de V�ronique, La (Double Life of Veronique, The) (1991)               |\n",
      "|01-Jan-1991|1006|http://us.imdb.com/M/title-exact?Bis%20ans%20Ende%20der%20Welt%20(1991)                                                               |[0, 0, 0, 0, 0, 0, 0, 0, 1, 0, 0, 0, 0, 0, 0, 1, 0, 0, 0]|Until the End of the World (Bis ans Ende der Welt) (1991)                        |\n",
      "|31-Jan-1997|1007|http://us.imdb.com/M/title-exact?Waiting%20for%20Guffman%20(1996)                                                                     |[0, 0, 0, 0, 0, 1, 0, 0, 0, 0, 0, 0, 0, 0, 0, 0, 0, 0, 0]|Waiting for Guffman (1996)                                                       |\n",
      "|01-May-1996|1008|http://us.imdb.com/M/title-exact?I%20Shot%20Andy%20Warhol%20(1996)                                                                    |[0, 0, 0, 0, 0, 0, 0, 0, 1, 0, 0, 0, 0, 0, 0, 0, 0, 0, 0]|I Shot Andy Warhol (1996)                                                        |\n",
      "|14-Jun-1996|1009|http://us.imdb.com/M/title-exact?Stealing%20Beauty%20(1996)                                                                           |[0, 0, 0, 0, 0, 0, 0, 0, 1, 0, 0, 0, 0, 0, 0, 0, 0, 0, 0]|Stealing Beauty (1996)                                                           |\n",
      "|16-Aug-1996|1010|http://us.imdb.com/M/title-exact?Basquiat%20(1996)                                                                                    |[0, 0, 0, 0, 0, 0, 0, 0, 1, 0, 0, 0, 0, 0, 0, 0, 0, 0, 0]|Basquiat (1996)                                                                  |\n",
      "|27-Sep-1996|1011|http://us.imdb.com/M/title-exact?2%20Days%20in%20the%20Valley%20(1996)                                                                |[0, 0, 0, 0, 0, 0, 1, 0, 0, 0, 0, 0, 0, 0, 0, 0, 0, 0, 0]|2 Days in the Valley (1996)                                                      |\n",
      "|07-Mar-1997|1012|http://us.imdb.com/M/title-exact?Private%20Parts%20(1997)                                                                             |[0, 0, 0, 0, 0, 1, 0, 0, 1, 0, 0, 0, 0, 0, 0, 0, 0, 0, 0]|Private Parts (1997)                                                             |\n",
      "|11-Apr-1997|1013|http://us.imdb.com/M/title-exact?Anaconda%20%281997%29                                                                                |[0, 1, 1, 0, 0, 0, 0, 0, 0, 0, 0, 0, 0, 0, 0, 0, 1, 0, 0]|Anaconda (1997)                                                                  |\n",
      "|25-Apr-1997|1014|http://us.imdb.com/M/title-exact?Romy%20and%20Michele%27s%20High%20School%20Reunion%20%281997%29                                      |[0, 0, 0, 0, 0, 1, 0, 0, 0, 0, 0, 0, 0, 0, 0, 0, 0, 0, 0]|Romy and Michele's High School Reunion (1997)                                    |\n",
      "|23-May-1997|1015|http://us.imdb.com/M/title-exact?Shiloh%20%281997%29                                                                                  |[0, 0, 0, 0, 1, 0, 0, 0, 1, 0, 0, 0, 0, 0, 0, 0, 0, 0, 0]|Shiloh (1997)                                                                    |\n",
      "|06-Jun-1997|1016|http://us.imdb.com/M/title-exact?Con%20Air%20%281997%29                                                                               |[0, 1, 1, 0, 0, 0, 0, 0, 0, 0, 0, 0, 0, 0, 0, 0, 1, 0, 0]|Con Air (1997)                                                                   |\n",
      "|11-Oct-1996|1017|http://us.imdb.com/M/title-exact?Trees%20Lounge%20(1996)                                                                              |[0, 0, 0, 0, 0, 0, 0, 0, 1, 0, 0, 0, 0, 0, 0, 0, 0, 0, 0]|Trees Lounge (1996)                                                              |\n",
      "|01-Jan-1990|1018|http://us.imdb.com/Title?%A1%C1tame%21+(1990)                                                                                         |[0, 0, 0, 0, 0, 0, 0, 0, 1, 0, 0, 0, 0, 0, 0, 0, 0, 0, 0]|Tie Me Up! Tie Me Down! (1990)                                                   |\n",
      "|01-Jan-1989|1019|http://us.imdb.com/M/title-exact?Die%20xue%20shuang%20xiong%20(1989)                                                                  |[0, 1, 0, 0, 0, 0, 0, 0, 0, 0, 0, 0, 0, 0, 0, 0, 1, 0, 0]|Die xue shuang xiong (Killer, The) (1989)                                        |\n",
      "|01-Jan-1944|1020|http://us.imdb.com/M/title-exact?Gaslight%20(1944)                                                                                    |[0, 0, 0, 0, 0, 0, 0, 0, 0, 0, 0, 0, 0, 1, 0, 0, 1, 0, 0]|Gaslight (1944)                                                                  |\n",
      "|01-Jan-1963|1021|http://us.imdb.com/M/title-exact?8%201/2%20(1963)                                                                                     |[0, 0, 0, 0, 0, 0, 0, 0, 1, 0, 0, 0, 0, 0, 0, 0, 0, 0, 0]|8 1/2 (1963)                                                                     |\n",
      "|01-Jan-1997|1022|http://us.imdb.com/M/title-exact?Fast,+Cheap+&+Out+of+Control+(1997)                                                                  |[0, 0, 0, 0, 0, 0, 0, 1, 0, 0, 0, 0, 0, 0, 0, 0, 0, 0, 0]|Fast, Cheap & Out of Control (1997)                                              |\n",
      "|09-May-1997|1023|http://us.imdb.com/M/title-exact?Fathers%27%20Day%20%281997%29                                                                        |[0, 0, 0, 0, 0, 1, 0, 0, 0, 0, 0, 0, 0, 0, 0, 0, 0, 0, 0]|Fathers' Day (1997)                                                              |\n",
      "|01-Jan-1997|1024|http://us.imdb.com/M/title-exact?Mrs%2E+Dalloway+(1997)                                                                               |[0, 0, 0, 0, 0, 0, 0, 0, 0, 0, 0, 0, 0, 0, 1, 0, 0, 0, 0]|Mrs. Dalloway (1997)                                                             |\n",
      "|01-Jan-1997|1025|http://us.imdb.com/M/title-exact?Fire+Down+Below+(1997)                                                                               |[0, 1, 0, 0, 0, 0, 0, 0, 1, 0, 0, 0, 0, 0, 0, 0, 1, 0, 0]|Fire Down Below (1997)                                                           |\n",
      "|01-Jan-1997|1026|http://us.imdb.com/M/title-exact?Lay+of+the+Land%2C+The+(1997)                                                                        |[0, 0, 0, 0, 0, 1, 0, 0, 1, 0, 0, 0, 0, 0, 0, 0, 0, 0, 0]|Lay of the Land, The (1997)                                                      |\n",
      "|01-Jan-1995|1027|http://us.imdb.com/M/title-exact?Shooter,%20The%20(1995)                                                                              |[0, 1, 0, 0, 0, 0, 0, 0, 0, 0, 0, 0, 0, 0, 0, 0, 0, 0, 0]|Shooter, The (1995)                                                              |\n",
      "|01-Jan-1995|1028|http://us.imdb.com/M/title-exact?Grumpier%20Old%20Men%20(1995)                                                                        |[0, 0, 0, 0, 0, 1, 0, 0, 0, 0, 0, 0, 0, 0, 1, 0, 0, 0, 0]|Grumpier Old Men (1995)                                                          |\n",
      "|01-Jan-1995|1029|http://us.imdb.com/M/title-exact?Jury%20Duty%20(1995)                                                                                 |[0, 0, 0, 0, 0, 1, 0, 0, 0, 0, 0, 0, 0, 0, 0, 0, 0, 0, 0]|Jury Duty (1995)                                                                 |\n",
      "|01-Jan-1993|1030|http://us.imdb.com/M/title-exact?Beverly%20Hillbillies,%20The%20(1993)                                                                |[0, 0, 0, 0, 0, 1, 0, 0, 0, 0, 0, 0, 0, 0, 0, 0, 0, 0, 0]|Beverly Hillbillies, The (1993)                                                  |\n",
      "|01-Jan-1994|1031|http://us.imdb.com/M/title-exact?Lassie%20(1994)                                                                                      |[0, 0, 1, 0, 1, 0, 0, 0, 0, 0, 0, 0, 0, 0, 0, 0, 0, 0, 0]|Lassie (1994)                                                                    |\n",
      "|01-Jan-1994|1032|http://us.imdb.com/M/title-exact?Little%20Big%20League%20(1994)                                                                       |[0, 0, 0, 0, 1, 1, 0, 0, 0, 0, 0, 0, 0, 0, 0, 0, 0, 0, 0]|Little Big League (1994)                                                         |\n",
      "|08-Mar-1996|1033|http://us.imdb.com/M/title-exact?Homeward%20Bound%20II:%20Lost%20in%20San%20Francisco%20(1996)                                        |[0, 0, 1, 0, 1, 0, 0, 0, 0, 0, 0, 0, 0, 0, 0, 0, 0, 0, 0]|Homeward Bound II: Lost in San Francisco (1996)                                  |\n",
      "|26-Apr-1996|1034|http://us.imdb.com/M/title-exact?Quest,%20The%20(1996/I)                                                                              |[0, 1, 1, 0, 0, 0, 0, 0, 0, 0, 0, 0, 0, 0, 0, 0, 0, 0, 0]|Quest, The (1996)                                                                |\n",
      "|01-Jan-1993|1035|http://us.imdb.com/M/title-exact?Cool%20Runnings%20(1993)                                                                             |[0, 0, 0, 0, 0, 1, 0, 0, 0, 0, 0, 0, 0, 0, 0, 0, 0, 0, 0]|Cool Runnings (1993)                                                             |\n",
      "|01-Jan-1991|1036|http://us.imdb.com/M/title-exact?Drop%20Dead%20Fred%20(1991)                                                                          |[0, 0, 0, 0, 0, 1, 0, 0, 0, 1, 0, 0, 0, 0, 0, 0, 0, 0, 0]|Drop Dead Fred (1991)                                                            |\n",
      "|01-Jan-1982|1037|http://us.imdb.com/M/title-exact?Grease%202%20(1982)                                                                                  |[0, 0, 0, 0, 0, 1, 0, 0, 0, 0, 0, 0, 1, 0, 1, 0, 0, 0, 0]|Grease 2 (1982)                                                                  |\n",
      "|01-Jan-1997|1038|http://us.imdb.com/M/title-exact?Switchback+(1997)                                                                                    |[0, 0, 0, 0, 0, 0, 0, 0, 0, 0, 0, 0, 0, 0, 0, 0, 1, 0, 0]|Switchback (1997)                                                                |\n",
      "|24-Jan-1997|1039|http://us.imdb.com/M/title-exact?Hamlet%20(1996)                                                                                      |[0, 0, 0, 0, 0, 0, 0, 0, 1, 0, 0, 0, 0, 0, 0, 0, 0, 0, 0]|Hamlet (1996)                                                                    |\n",
      "|01-Jan-1996|1040|http://us.imdb.com/M/title-exact?Two%20if%20by%20Sea%20(1996)                                                                         |[0, 0, 0, 0, 0, 1, 0, 0, 0, 0, 0, 0, 0, 0, 1, 0, 0, 0, 0]|Two if by Sea (1996)                                                             |\n",
      "|01-Jan-1995|1041|http://us.imdb.com/M/title-exact?Forget%20Paris%20(1995)                                                                              |[0, 0, 0, 0, 0, 1, 0, 0, 0, 0, 0, 0, 0, 0, 1, 0, 0, 0, 0]|Forget Paris (1995)                                                              |\n",
      "|01-Jan-1995|1042|http://us.imdb.com/M/title-exact?Just%20Cause%20(1995)                                                                                |[0, 0, 0, 0, 0, 0, 0, 0, 0, 0, 0, 0, 0, 1, 0, 0, 1, 0, 0]|Just Cause (1995)                                                                |\n",
      "|01-Jan-1995|1043|http://us.imdb.com/M/title-exact?Rent-a-Kid%20(1995)                                                                                  |[0, 0, 0, 0, 0, 1, 0, 0, 0, 0, 0, 0, 0, 0, 0, 0, 0, 0, 0]|Rent-a-Kid (1995)                                                                |\n",
      "|01-Jan-1994|1044|http://us.imdb.com/M/title-exact?Paper,%20The%20(1994)                                                                                |[0, 0, 0, 0, 0, 1, 0, 0, 1, 0, 0, 0, 0, 0, 0, 0, 0, 0, 0]|Paper, The (1994)                                                                |\n",
      "|01-Jan-1993|1045|http://us.imdb.com/M/title-exact?Fearless%20(1993)                                                                                    |[0, 0, 0, 0, 0, 0, 0, 0, 1, 0, 0, 0, 0, 0, 0, 0, 0, 0, 0]|Fearless (1993)                                                                  |\n",
      "|01-Jan-1993|1046|http://us.imdb.com/M/title-exact?Malice%20(1993)                                                                                      |[0, 0, 0, 0, 0, 0, 0, 0, 0, 0, 0, 0, 0, 0, 0, 0, 1, 0, 0]|Malice (1993)                                                                    |\n",
      "|12-Jul-1996|1047|http://us.imdb.com/M/title-exact?Multiplicity%20(1996)                                                                                |[0, 0, 0, 0, 0, 1, 0, 0, 0, 0, 0, 0, 0, 0, 0, 0, 0, 0, 0]|Multiplicity (1996)                                                              |\n",
      "|23-Aug-1996|1048|http://us.imdb.com/M/title-exact?She's%20the%20One%20(1996)                                                                           |[0, 0, 0, 0, 0, 1, 0, 0, 0, 0, 0, 0, 0, 0, 1, 0, 0, 0, 0]|She's the One (1996)                                                             |\n",
      "|02-Aug-1996|1049|http://us.imdb.com/Title?House+Arrest+(1996/I)                                                                                        |[0, 0, 0, 0, 0, 1, 0, 0, 0, 0, 0, 0, 0, 0, 0, 0, 0, 0, 0]|House Arrest (1996)                                                              |\n",
      "|01-Jan-1947|1050|http://us.imdb.com/M/title-exact?Ghost%20and%20Mrs.%20Muir,%20The%20(1947)                                                            |[0, 0, 0, 0, 0, 0, 0, 0, 1, 0, 0, 0, 0, 0, 1, 0, 0, 0, 0]|Ghost and Mrs. Muir, The (1947)                                                  |\n",
      "|19-Oct-1996|1051|http://us.imdb.com/M/title-exact?Associate,%20The%20(1996)                                                                            |[0, 0, 0, 0, 0, 1, 0, 0, 0, 0, 0, 0, 0, 0, 0, 0, 0, 0, 0]|Associate, The (1996)                                                            |\n",
      "|01-Jan-1995|1052|http://us.imdb.com/M/title-exact?Dracula:%20Dead%20and%20Loving%20It%20(1995)                                                         |[0, 0, 0, 0, 0, 1, 0, 0, 0, 0, 0, 1, 0, 0, 0, 0, 0, 0, 0]|Dracula: Dead and Loving It (1995)                                               |\n",
      "|01-Jan-1995|1053|http://us.imdb.com/M/title-exact?Now%20and%20Then%20(1995)                                                                            |[0, 0, 0, 0, 0, 0, 0, 0, 1, 0, 0, 0, 0, 0, 0, 0, 0, 0, 0]|Now and Then (1995)                                                              |\n",
      "|16-Feb-1996|1054|http://us.imdb.com/M/title-exact?Mr.%20Wrong%20(1996)                                                                                 |[0, 0, 0, 0, 0, 1, 0, 0, 0, 0, 0, 0, 0, 0, 0, 0, 0, 0, 0]|Mr. Wrong (1996)                                                                 |\n",
      "|01-Jan-1994|1055|http://us.imdb.com/M/title-exact?Simple%20Twist%20of%20Fate,%20A%20(1994)                                                             |[0, 0, 0, 0, 0, 0, 0, 0, 1, 0, 0, 0, 0, 0, 0, 0, 0, 0, 0]|Simple Twist of Fate, A (1994)                                                   |\n",
      "|01-Jan-1992|1056|http://us.imdb.com/M/title-exact?Cronos%20(1992)                                                                                      |[0, 0, 0, 0, 0, 0, 0, 0, 0, 0, 0, 1, 0, 0, 0, 0, 0, 0, 0]|Cronos (1992)                                                                    |\n",
      "|19-Apr-1996|1057|http://us.imdb.com/M/title-exact?Pallbearer,%20The%20(1996)                                                                           |[0, 0, 0, 0, 0, 1, 0, 0, 0, 0, 0, 0, 0, 0, 0, 0, 0, 0, 0]|Pallbearer, The (1996)                                                           |\n",
      "|01-Jan-1994|1058|http://us.imdb.com/M/title-exact?War,%20The%20(1994)                                                                                  |[0, 0, 1, 0, 0, 0, 0, 0, 1, 0, 0, 0, 0, 0, 0, 0, 0, 0, 0]|War, The (1994)                                                                  |\n",
      "|01-Jan-1996|1059|http://us.imdb.com/M/title-exact?Don't%20Be%20a%20Menace%20(1996)                                                                     |[0, 0, 0, 0, 0, 1, 0, 0, 0, 0, 0, 0, 0, 0, 0, 0, 0, 0, 0]|Don't Be a Menace to South Central While Drinking Your Juice in the Hood (1996)  |\n",
      "|26-Jul-1996|1060|http://us.imdb.com/M/title-exact?Adventures%20of%20Pinocchio,%20The%20(1996)                                                          |[0, 0, 1, 0, 1, 0, 0, 0, 0, 0, 0, 0, 0, 0, 0, 0, 0, 0, 0]|Adventures of Pinocchio, The (1996)                                              |\n",
      "|25-Dec-1996|1061|http://us.imdb.com/M/title-exact?Evening%20Star,%20The%20(1996)                                                                       |[0, 0, 0, 0, 0, 1, 0, 0, 1, 0, 0, 0, 0, 0, 0, 0, 0, 0, 0]|Evening Star, The (1996)                                                         |\n",
      "|23-Jan-1998|1062|http://us.imdb.com/M/title-exact?imdb-title-119815                                                                                    |[0, 0, 0, 0, 0, 0, 0, 0, 1, 0, 0, 0, 0, 0, 0, 0, 0, 0, 0]|Four Days in September (1997)                                                    |\n",
      "|01-Jan-1995|1063|http://us.imdb.com/M/title-exact?Little%20Princess,%20A%20(1995)                                                                      |[0, 0, 0, 0, 1, 0, 0, 0, 1, 0, 0, 0, 0, 0, 0, 0, 0, 0, 0]|Little Princess, A (1995)                                                        |\n",
      "|01-Jan-1947|1064|http://us.imdb.com/M/title-exact?Crossfire%20(1947)                                                                                   |[0, 0, 0, 0, 0, 0, 1, 0, 0, 0, 1, 0, 0, 0, 0, 0, 0, 0, 0]|Crossfire (1947)                                                                 |\n",
      "|01-Jan-1983|1065|http://us.imdb.com/M/title-exact?Koyaanisqatsi%20(1983)                                                                               |[0, 0, 0, 0, 0, 0, 0, 1, 0, 0, 0, 0, 0, 0, 0, 0, 0, 1, 0]|Koyaanisqatsi (1983)                                                             |\n",
      "|01-Jan-1995|1066|http://us.imdb.com/M/title-exact?Balto%20(1995)                                                                                       |[0, 0, 0, 1, 1, 0, 0, 0, 0, 0, 0, 0, 0, 0, 0, 0, 0, 0, 0]|Balto (1995)                                                                     |\n",
      "|21-Feb-1996|1067|http://us.imdb.com/M/title-exact?Bottle%20Rocket%20(1996)                                                                             |[0, 0, 0, 0, 0, 1, 0, 0, 0, 0, 0, 0, 0, 0, 0, 0, 0, 0, 0]|Bottle Rocket (1996)                                                             |\n",
      "|01-Mar-1996|1068|http://us.imdb.com/M/title-exact?Uomo%20delle%20stelle,%20L'%20(1995)                                                                 |[0, 0, 0, 0, 0, 0, 0, 0, 1, 0, 0, 0, 0, 0, 0, 0, 0, 0, 0]|Star Maker, The (Uomo delle stelle, L') (1995)                                   |\n",
      "|01-Jan-1994|1069|http://us.imdb.com/M/title-exact?Amateur%20(1994)                                                                                     |[0, 0, 0, 0, 0, 0, 1, 0, 1, 0, 0, 0, 0, 0, 0, 0, 1, 0, 0]|Amateur (1994)                                                                   |\n",
      "|01-Jan-1995|1070|http://us.imdb.com/M/title-exact?Living%20in%20Oblivion%20(1995)                                                                      |[0, 0, 0, 0, 0, 1, 0, 0, 0, 0, 0, 0, 0, 0, 0, 0, 0, 0, 0]|Living in Oblivion (1995)                                                        |\n",
      "|01-Jan-1995|1071|http://us.imdb.com/Title?Party+Girl+(1995/I)                                                                                          |[0, 0, 0, 0, 0, 1, 0, 0, 0, 0, 0, 0, 0, 0, 0, 0, 0, 0, 0]|Party Girl (1995)                                                                |\n",
      "|01-Jan-1995|1072|http://us.imdb.com/M/title-exact?Pyromaniac's%20Love%20Story,%20A%20(1995)                                                            |[0, 0, 0, 0, 0, 1, 0, 0, 0, 0, 0, 0, 0, 0, 1, 0, 0, 0, 0]|Pyromaniac's Love Story, A (1995)                                                |\n",
      "|01-Jan-1994|1073|http://us.imdb.com/Title?Shallow+Grave+(1994)                                                                                         |[0, 0, 0, 0, 0, 0, 0, 0, 0, 0, 0, 0, 0, 0, 0, 0, 1, 0, 0]|Shallow Grave (1994)                                                             |\n",
      "|01-Jan-1994|1074|http://us.imdb.com/M/title-exact?Reality%20Bites%20(1994)                                                                             |[0, 0, 0, 0, 0, 1, 0, 0, 1, 0, 0, 0, 0, 0, 0, 0, 0, 0, 0]|Reality Bites (1994)                                                             |\n",
      "|01-Jan-1994|1075|http://us.imdb.com/M/title-exact?Man%20of%20No%20Importance,%20A%20(1994)                                                             |[0, 0, 0, 0, 0, 0, 0, 0, 1, 0, 0, 0, 0, 0, 0, 0, 0, 0, 0]|Man of No Importance, A (1994)                                                   |\n",
      "|01-Jan-1994|1076|http://us.imdb.com/M/title-exact?Pagemaster,%20The%20(1994)                                                                           |[0, 1, 1, 1, 1, 0, 0, 0, 0, 1, 0, 0, 0, 0, 0, 0, 0, 0, 0]|Pagemaster, The (1994)                                                           |\n",
      "|01-Jan-1994|1077|http://us.imdb.com/M/title-exact?Love%20and%20a%20.45%20(1994)                                                                        |[0, 0, 0, 0, 0, 0, 0, 0, 0, 0, 0, 0, 0, 0, 0, 0, 1, 0, 0]|Love and a .45 (1994)                                                            |\n",
      "|29-Mar-1988|1078|http://us.imdb.com/M/title-exact?Oliver%20&%20Company%20(1988)                                                                        |[0, 0, 0, 1, 1, 0, 0, 0, 0, 0, 0, 0, 0, 0, 0, 0, 0, 0, 0]|Oliver & Company (1988)                                                          |\n",
      "|26-Jul-1996|1079|http://us.imdb.com/M/title-exact?Joe's%20Apartment%20(1996)                                                                           |[0, 0, 0, 0, 0, 1, 0, 0, 0, 0, 0, 0, 1, 0, 0, 0, 0, 0, 0]|Joe's Apartment (1996)                                                           |\n",
      "|12-Jul-1996|1080|http://us.imdb.com/Title?Cort%E1zar+(1994)                                                                                            |[0, 0, 0, 0, 0, 1, 0, 0, 0, 0, 0, 0, 0, 0, 0, 0, 0, 0, 0]|Celestial Clockwork (1994)                                                       |\n",
      "|27-Sep-1996|1081|http://us.imdb.com/M/title-exact?Curdled%20(1996)                                                                                     |[0, 0, 0, 0, 0, 0, 1, 0, 0, 0, 0, 0, 0, 0, 0, 0, 0, 0, 0]|Curdled (1996)                                                                   |\n",
      "|25-Apr-1997|1082|http://us.imdb.com/M/title-exact?Female%20Perversions%20(1996)                                                                        |[0, 0, 0, 0, 0, 0, 0, 0, 1, 0, 0, 0, 0, 0, 0, 0, 0, 0, 0]|Female Perversions (1996)                                                        |\n",
      "|17-Jan-1997|1083|http://us.imdb.com/M/title-exact?Albino%20Alligator%20(1996)                                                                          |[0, 0, 0, 0, 0, 0, 1, 0, 0, 0, 0, 0, 0, 0, 0, 0, 1, 0, 0]|Albino Alligator (1996)                                                          |\n",
      "|23-Feb-1996|1084|http://us.imdb.com/M/title-exact?Anne%20Frank%20Remembered%20(1995)                                                                   |[0, 0, 0, 0, 0, 0, 0, 1, 0, 0, 0, 0, 0, 0, 0, 0, 0, 0, 0]|Anne Frank Remembered (1995)                                                     |\n",
      "|29-Mar-1996|1085|http://us.imdb.com/M/title-exact?Carried%20Away%20(1996)                                                                              |[0, 0, 0, 0, 0, 0, 0, 0, 1, 0, 0, 0, 0, 0, 1, 0, 0, 0, 0]|Carried Away (1996)                                                              |\n",
      "|22-Mar-1996|1086|http://us.imdb.com/M/title-exact?It's%20My%20Party%20(1995)                                                                           |[0, 0, 0, 0, 0, 0, 0, 0, 1, 0, 0, 0, 0, 0, 0, 0, 0, 0, 0]|It's My Party (1995)                                                             |\n",
      "|01-Mar-1996|1087|http://us.imdb.com/M/title-exact?Bloodsport%202%20%281995%29                                                                          |[0, 1, 0, 0, 0, 0, 0, 0, 0, 0, 0, 0, 0, 0, 0, 0, 0, 0, 0]|Bloodsport 2 (1995)                                                              |\n",
      "|04-Apr-1997|1088|http://us.imdb.com/M/title-exact?Double%20Team%20%281997%29                                                                           |[0, 1, 0, 0, 0, 0, 0, 0, 0, 0, 0, 0, 0, 0, 0, 0, 0, 0, 0]|Double Team (1997)                                                               |\n",
      "|13-Jun-1997|1089|http://us.imdb.com/M/title-exact?Speed%202%3A%20Cruise%20Control%20%281997%29                                                         |[0, 1, 0, 0, 0, 0, 0, 0, 0, 0, 0, 0, 0, 0, 1, 0, 1, 0, 0]|Speed 2: Cruise Control (1997)                                                   |\n",
      "|01-Jan-1993|1090|http://us.imdb.com/M/title-exact?Sliver%20(1993)                                                                                      |[0, 0, 0, 0, 0, 0, 0, 0, 0, 0, 0, 0, 0, 0, 0, 0, 1, 0, 0]|Sliver (1993)                                                                    |\n",
      "|01-Jan-1977|1091|http://us.imdb.com/M/title-exact?Pete's%20Dragon%20(1977)                                                                             |[0, 0, 1, 1, 1, 0, 0, 0, 0, 0, 0, 0, 1, 0, 0, 0, 0, 0, 0]|Pete's Dragon (1977)                                                             |\n",
      "|01-Nov-1996|1092|http://us.imdb.com/M/title-exact?Dear%20God%20(1996)                                                                                  |[0, 0, 0, 0, 0, 1, 0, 0, 0, 0, 0, 0, 0, 0, 0, 0, 0, 0, 0]|Dear God (1996)                                                                  |\n",
      "|01-Mar-1996|1093|http://us.imdb.com/M/title-exact?Live%20Nude%20Girls%20(1995)                                                                         |[0, 0, 0, 0, 0, 1, 0, 0, 0, 0, 0, 0, 0, 0, 0, 0, 0, 0, 0]|Live Nude Girls (1995)                                                           |\n",
      "|03-Apr-1996|1094|http://us.imdb.com/M/title-exact?Thin%20Line%20Between%20Love%20and%20Hate,%20A%20(1996)                                              |[0, 0, 0, 0, 0, 1, 0, 0, 0, 0, 0, 0, 0, 0, 0, 0, 0, 0, 0]|Thin Line Between Love and Hate, A (1996)                                        |\n",
      "|25-Oct-1996|1095|http://us.imdb.com/M/title-exact?High%20School%20High%20(1996)                                                                        |[0, 0, 0, 0, 0, 1, 0, 0, 0, 0, 0, 0, 0, 0, 0, 0, 0, 0, 0]|High School High (1996)                                                          |\n",
      "|02-May-1997|1096|http://us.imdb.com/Title?Commandments+(1997)                                                                                          |[0, 0, 0, 0, 0, 0, 0, 0, 0, 0, 0, 0, 0, 0, 1, 0, 0, 0, 0]|Commandments (1997)                                                              |\n",
      "|09-Feb-1996|1097|http://us.imdb.com/M/title-exact?Haine,%20La%20(1995)                                                                                 |[0, 0, 0, 0, 0, 0, 0, 0, 1, 0, 0, 0, 0, 0, 0, 0, 0, 0, 0]|Hate (Haine, La) (1995)                                                          |\n",
      "|22-Mar-1996|1098|http://us.imdb.com/M/title-exact?Flirting%20With%20Disaster%20(1996)                                                                  |[0, 0, 0, 0, 0, 1, 0, 0, 0, 0, 0, 0, 0, 0, 0, 0, 0, 0, 0]|Flirting With Disaster (1996)                                                    |\n",
      "|01-Jan-1994|1099|http://us.imdb.com/M/title-exact?Pao%20Da%20Shuang%20Deng%20(1994)                                                                    |[0, 0, 0, 0, 0, 0, 0, 0, 1, 0, 0, 0, 0, 0, 0, 0, 0, 0, 0]|Red Firecracker, Green Firecracker (1994)                                        |\n",
      "|01-Jan-1994|1100|http://us.imdb.com/M/title-exact?What%20Happened%20Was...%20(1994)                                                                    |[0, 0, 0, 0, 0, 1, 0, 0, 1, 0, 0, 0, 0, 0, 1, 0, 0, 0, 0]|What Happened Was... (1994)                                                      |\n",
      "|01-Jan-1993|1101|http://us.imdb.com/M/title-exact?Six%20Degrees%20of%20Separation%20(1993)                                                             |[0, 0, 0, 0, 0, 0, 0, 0, 1, 0, 0, 0, 0, 1, 0, 0, 0, 0, 0]|Six Degrees of Separation (1993)                                                 |\n",
      "|01-Jan-1996|1102|http://us.imdb.com/M/title-exact?Two%20Much%20(1996)                                                                                  |[0, 0, 0, 0, 0, 1, 0, 0, 0, 0, 0, 0, 0, 0, 1, 0, 0, 0, 0]|Two Much (1996)                                                                  |\n",
      "|01-Jan-1990|1103|http://us.imdb.com/Title?Trust+(1990)                                                                                                 |[0, 0, 0, 0, 0, 1, 0, 0, 1, 0, 0, 0, 0, 0, 0, 0, 0, 0, 0]|Trust (1990)                                                                     |\n",
      "|01-Jan-1992|1104|http://us.imdb.com/M/title-exact?C%27est%20arriv%E9%20pr%E8s%20de%20chez%20vous%20%281992%29                                          |[0, 0, 0, 0, 0, 1, 1, 0, 1, 0, 0, 0, 0, 0, 0, 0, 0, 0, 0]|C'est arriv� pr�s de chez vous (1992)                                            |\n",
      "|09-Jan-1998|1105|http://us.imdb.com/M/title-exact?imdb-title-120670                                                                                    |[0, 1, 1, 0, 0, 0, 0, 0, 0, 0, 0, 0, 0, 0, 0, 0, 1, 0, 0]|Firestorm (1998)                                                                 |\n",
      "|14-Mar-1998|1106|http://us.imdb.com/Title?Newton+Boys,+The+(1998)                                                                                      |[0, 0, 0, 0, 0, 0, 1, 0, 1, 0, 0, 0, 0, 0, 0, 0, 0, 0, 0]|Newton Boys, The (1998)                                                          |\n",
      "|01-Jan-1995|1107|http://us.imdb.com/M/title-exact?Beyond%20Rangoon%20(1995)                                                                            |[0, 0, 0, 0, 0, 0, 0, 0, 1, 0, 0, 0, 0, 0, 0, 0, 0, 0, 0]|Beyond Rangoon (1995)                                                            |\n",
      "|01-Jan-1995|1108|http://us.imdb.com/M/title-exact?Feast%20of%20July%20(1995)                                                                           |[0, 0, 0, 0, 0, 0, 0, 0, 1, 0, 0, 0, 0, 0, 0, 0, 0, 0, 0]|Feast of July (1995)                                                             |\n",
      "|01-Jan-1994|1109|http://us.imdb.com/M/title-exact?Death%20and%20the%20Maiden%20(1994)                                                                  |[0, 0, 0, 0, 0, 0, 0, 0, 1, 0, 0, 0, 0, 0, 0, 0, 1, 0, 0]|Death and the Maiden (1994)                                                      |\n",
      "|01-Jan-1995|1110|http://us.imdb.com/M/title-exact?Tank%20Girl%20(1995)                                                                                 |[0, 1, 0, 0, 0, 1, 0, 0, 0, 0, 0, 0, 1, 0, 0, 1, 0, 0, 0]|Tank Girl (1995)                                                                 |\n",
      "|01-Mar-1996|1111|http://us.imdb.com/M/title-exact?Double%20Happiness%20(1994)                                                                          |[0, 0, 0, 0, 0, 0, 0, 0, 1, 0, 0, 0, 0, 0, 0, 0, 0, 0, 0]|Double Happiness (1994)                                                          |\n",
      "|01-Jan-1994|1112|http://us.imdb.com/M/title-exact?Cobb%20(1994)                                                                                        |[0, 0, 0, 0, 0, 0, 0, 0, 1, 0, 0, 0, 0, 0, 0, 0, 0, 0, 0]|Cobb (1994)                                                                      |\n",
      "|01-Jan-1994|1113|http://us.imdb.com/M/title-exact?Mrs.%20Parker%20and%20the%20Vicious%20Circle%20(1994)                                                |[0, 0, 0, 0, 0, 0, 0, 0, 1, 0, 0, 0, 0, 0, 0, 0, 0, 0, 0]|Mrs. Parker and the Vicious Circle (1994)                                        |\n",
      "|03-Apr-1996|1114|http://us.imdb.com/M/title-exact?Faithful%20(1996)                                                                                    |[0, 0, 0, 0, 0, 1, 0, 0, 0, 0, 0, 0, 0, 0, 0, 0, 0, 0, 0]|Faithful (1996)                                                                  |\n",
      "|25-Oct-1996|1115|http://us.imdb.com/M/title-exact?Twelfth%20Night:%20Or%20What%20You%20Will%20(1996)                                                   |[0, 0, 0, 0, 0, 1, 0, 0, 1, 0, 0, 0, 0, 0, 1, 0, 0, 0, 0]|Twelfth Night (1996)                                                             |\n",
      "|01-Jan-1940|1116|http://us.imdb.com/M/title-exact?Mark%20of%20Zorro,%20The%20(1940)                                                                    |[0, 0, 1, 0, 0, 0, 0, 0, 0, 0, 0, 0, 0, 0, 0, 0, 0, 0, 0]|Mark of Zorro, The (1940)                                                        |\n",
      "|20-Sep-1996|1117|http://us.imdb.com/M/title-exact?Surviving%20Picasso%20(1996)                                                                         |[0, 0, 0, 0, 0, 0, 0, 0, 1, 0, 0, 0, 0, 0, 0, 0, 0, 0, 0]|Surviving Picasso (1996)                                                         |\n",
      "|01-Jan-1978|1118|http://us.imdb.com/M/title-exact?Up%20in%20Smoke%20(1978)                                                                             |[0, 0, 0, 0, 0, 1, 0, 0, 0, 0, 0, 0, 0, 0, 0, 0, 0, 0, 0]|Up in Smoke (1978)                                                               |\n",
      "|01-Jan-1987|1119|http://us.imdb.com/M/title-exact?Some%20Kind%20of%20Wonderful%20(1987)                                                                |[0, 0, 0, 0, 0, 0, 0, 0, 1, 0, 0, 0, 0, 0, 1, 0, 0, 0, 0]|Some Kind of Wonderful (1987)                                                    |\n",
      "|13-Nov-1996|1120|http://us.imdb.com/M/title-exact?I'm%20Not%20Rappaport%20(1996)                                                                       |[0, 0, 0, 0, 0, 1, 0, 0, 0, 0, 0, 0, 0, 0, 0, 0, 0, 0, 0]|I'm Not Rappaport (1996)                                                         |\n",
      "|05-Apr-1996|1121|http://us.imdb.com/M/title-exact?Parapluies%20de%20Cherbourg,%20Les%20(1964)                                                          |[0, 0, 0, 0, 0, 0, 0, 0, 1, 0, 0, 0, 1, 0, 0, 0, 0, 0, 0]|Umbrellas of Cherbourg, The (Parapluies de Cherbourg, Les) (1964)                |\n",
      "|01-Jan-1939|1122|http://us.imdb.com/M/title-exact?They%20Made%20Me%20a%20Criminal%20(1939)                                                             |[0, 0, 0, 0, 0, 0, 1, 0, 1, 0, 0, 0, 0, 0, 0, 0, 0, 0, 0]|They Made Me a Criminal (1939)                                                   |\n",
      "|01-Jan-1954|1123|http://us.imdb.com/M/title-exact?Last%20Time%20I%20Saw%20Paris,%20The%20(1954)                                                        |[0, 0, 0, 0, 0, 0, 0, 0, 1, 0, 0, 0, 0, 0, 0, 0, 0, 0, 0]|Last Time I Saw Paris, The (1954)                                                |\n",
      "|01-Jan-1932|1124|http://us.imdb.com/M/title-exact?Farewell%20to%20Arms,%20A%20(1932)                                                                   |[0, 0, 0, 0, 0, 0, 0, 0, 0, 0, 0, 0, 0, 0, 1, 0, 0, 1, 0]|Farewell to Arms, A (1932)                                                       |\n",
      "|01-Jan-1961|1125|http://us.imdb.com/M/title-exact?Innocents,%20The%20(1961)                                                                            |[0, 0, 0, 0, 0, 0, 0, 0, 0, 0, 0, 0, 0, 0, 0, 0, 1, 0, 0]|Innocents, The (1961)                                                            |\n",
      "|01-Jan-1958|1126|http://us.imdb.com/M/title-exact?Old%20Man%20and%20the%20Sea,%20The%20(1958)                                                          |[0, 0, 1, 0, 0, 0, 0, 0, 1, 0, 0, 0, 0, 0, 0, 0, 0, 0, 0]|Old Man and the Sea, The (1958)                                                  |\n",
      "|01-Jan-1998|1127|http://us.imdb.com/Title?Truman+Show,+The+(1998)                                                                                      |[0, 0, 0, 0, 0, 0, 0, 0, 1, 0, 0, 0, 0, 0, 0, 0, 0, 0, 0]|Truman Show, The (1998)                                                          |\n",
      "|09-Feb-1996|1128|http://us.imdb.com/M/title-exact?Heidi%20Fleiss:%20Hollywood%20Madam%20(1995)%20(TV)                                                  |[0, 0, 0, 0, 0, 0, 0, 1, 0, 0, 0, 0, 0, 0, 0, 0, 0, 0, 0]|Heidi Fleiss: Hollywood Madam (1995)                                             |\n",
      "|16-Feb-1996|1129|http://us.imdb.com/M/title-exact?Chongqing%20Senlin%20(1994)                                                                          |[0, 0, 0, 0, 0, 0, 0, 0, 1, 0, 0, 0, 0, 1, 1, 0, 0, 0, 0]|Chungking Express (1994)                                                         |\n",
      "|09-Feb-1996|1130|http://us.imdb.com/M/title-exact?Jupiter's%20Wife%20(1994)                                                                            |[0, 0, 0, 0, 0, 0, 0, 1, 0, 0, 0, 0, 0, 0, 0, 0, 0, 0, 0]|Jupiter's Wife (1994)                                                            |\n",
      "|01-Jan-1995|1131|http://us.imdb.com/M/title-exact?Safe%20(1995)                                                                                        |[0, 0, 0, 0, 0, 0, 0, 0, 0, 0, 0, 0, 0, 0, 0, 0, 1, 0, 0]|Safe (1995)                                                                      |\n",
      "|13-Sep-1996|1132|http://us.imdb.com/M/title-exact?Feeling%20Minnesota%20(1996)                                                                         |[0, 0, 0, 0, 0, 0, 0, 0, 1, 0, 0, 0, 0, 0, 1, 0, 0, 0, 0]|Feeling Minnesota (1996)                                                         |\n",
      "|01-Jan-1975|1133|http://us.imdb.com/M/title-exact?Escape%20to%20Witch%20Mountain%20(1975)                                                              |[0, 0, 1, 0, 1, 0, 0, 0, 0, 1, 0, 0, 0, 0, 0, 0, 0, 0, 0]|Escape to Witch Mountain (1975)                                                  |\n",
      "|16-Oct-1996|1134|http://us.imdb.com/M/title-exact?Get%20on%20the%20Bus%20(1996)                                                                        |[0, 0, 0, 0, 0, 0, 0, 0, 1, 0, 0, 0, 0, 0, 0, 0, 0, 0, 0]|Get on the Bus (1996)                                                            |\n",
      "|01-Jan-1991|1135|http://us.imdb.com/M/title-exact?Doors,%20The%20(1991)                                                                                |[0, 0, 0, 0, 0, 0, 0, 0, 1, 0, 0, 0, 1, 0, 0, 0, 0, 0, 0]|Doors, The (1991)                                                                |\n",
      "|20-Dec-1996|1136|http://us.imdb.com/M/title-exact?Ghosts%20of%20Mississippi%20(1996)                                                                   |[0, 0, 0, 0, 0, 0, 0, 0, 1, 0, 0, 0, 0, 0, 0, 0, 0, 0, 0]|Ghosts of Mississippi (1996)                                                     |\n",
      "|09-Oct-1996|1137|http://us.imdb.com/M/title-exact?Beautiful%20Thing%20(1996)                                                                           |[0, 0, 0, 0, 0, 0, 0, 0, 1, 0, 0, 0, 0, 0, 1, 0, 0, 0, 0]|Beautiful Thing (1996)                                                           |\n",
      "|01-Sep-1997|1138|http://us.imdb.com/M/title-exact/Independence%20(1997)                                                                                |[0, 1, 0, 0, 0, 1, 1, 0, 1, 0, 0, 0, 0, 0, 0, 0, 0, 0, 0]|Best Men (1997)                                                                  |\n",
      "|01-Jan-1995|1139|http://us.imdb.com/M/title-exact?Hackers%20(1995)                                                                                     |[0, 1, 0, 0, 0, 0, 1, 0, 0, 0, 0, 0, 0, 0, 0, 0, 1, 0, 0]|Hackers (1995)                                                                   |\n",
      "|01-Jan-1994|1140|http://us.imdb.com/M/title-exact?Road%20to%20Wellville,%20The%20(1994)                                                                |[0, 0, 0, 0, 0, 1, 0, 0, 0, 0, 0, 0, 0, 0, 0, 0, 0, 0, 0]|Road to Wellville, The (1994)                                                    |\n",
      "|01-Jan-1993|1141|http://us.imdb.com/M/title-exact?War%20Room,%20The%20(1993)                                                                           |[0, 0, 0, 0, 0, 0, 0, 1, 0, 0, 0, 0, 0, 0, 0, 0, 0, 0, 0]|War Room, The (1993)                                                             |\n",
      "|14-Feb-1997|1142|http://us.imdb.com/M/title-exact?When%20We%20Were%20Kings%20(1996)                                                                    |[0, 0, 0, 0, 0, 0, 0, 1, 0, 0, 0, 0, 0, 0, 0, 0, 0, 0, 0]|When We Were Kings (1996)                                                        |\n",
      "|28-Feb-1997|1143|http://us.imdb.com/Title?Hard+Eight+(1996)                                                                                            |[0, 0, 0, 0, 0, 0, 1, 0, 0, 0, 0, 0, 0, 0, 0, 0, 1, 0, 0]|Hard Eight (1996)                                                                |\n",
      "|02-May-1997|1144|http://us.imdb.com/M/title-exact?Quiet%20Room%2C%20The%20(1996)                                                                       |[0, 0, 0, 0, 0, 0, 0, 0, 1, 0, 0, 0, 0, 0, 0, 0, 0, 0, 0]|Quiet Room, The (1996)                                                           |\n",
      "|01-Jan-1994|1145|http://us.imdb.com/M/title-exact?Blue%20Chips%20(1994)                                                                                |[0, 0, 0, 0, 0, 0, 0, 0, 1, 0, 0, 0, 0, 0, 0, 0, 0, 0, 0]|Blue Chips (1994)                                                                |\n",
      "|01-Jan-1993|1146|http://us.imdb.com/M/title-exact?Calendar%20Girl%20(1993)                                                                             |[0, 0, 0, 0, 0, 0, 0, 0, 1, 0, 0, 0, 0, 0, 0, 0, 0, 0, 0]|Calendar Girl (1993)                                                             |\n",
      "|01-Jan-1995|1147|http://us.imdb.com/M/title-exact?My%20Family%20(1995)                                                                                 |[0, 0, 0, 0, 0, 0, 0, 0, 1, 0, 0, 0, 0, 0, 0, 0, 0, 0, 0]|My Family (1995)                                                                 |\n",
      "|01-Jan-1994|1148|http://us.imdb.com/M/title-exact?Tom%20&%20Viv%20(1994)                                                                               |[0, 0, 0, 0, 0, 0, 0, 0, 1, 0, 0, 0, 0, 0, 0, 0, 0, 0, 0]|Tom & Viv (1994)                                                                 |\n",
      "|20-Dec-1971|1149|http://us.imdb.com/M/title-exact?Walkabout%20(1971)                                                                                   |[0, 0, 0, 0, 0, 0, 0, 0, 1, 0, 0, 0, 0, 0, 0, 0, 0, 0, 0]|Walkabout (1971)                                                                 |\n",
      "|03-May-1996|1150|http://us.imdb.com/M/title-exact?Last%20Dance%20(1996)                                                                                |[0, 0, 0, 0, 0, 0, 0, 0, 1, 0, 0, 0, 0, 0, 0, 0, 0, 0, 0]|Last Dance (1996)                                                                |\n",
      "|10-May-1996|1151|http://us.imdb.com/M/title-exact?Original%20Gangstas%20(1996)                                                                         |[0, 0, 0, 0, 0, 0, 1, 0, 0, 0, 0, 0, 0, 0, 0, 0, 0, 0, 0]|Original Gangstas (1996)                                                         |\n",
      "|24-Jan-1997|1152|http://us.imdb.com/M/title-exact?In%20Love%20and%20War%20(1996)                                                                       |[0, 0, 0, 0, 0, 0, 0, 0, 0, 0, 0, 0, 0, 0, 1, 0, 0, 1, 0]|In Love and War (1996)                                                           |\n",
      "|01-Jan-1993|1153|http://us.imdb.com/M/title-exact?Backbeat%20(1993)                                                                                    |[0, 0, 0, 0, 0, 0, 0, 0, 1, 0, 0, 0, 1, 0, 0, 0, 0, 0, 0]|Backbeat (1993)                                                                  |\n",
      "|01-Jan-1965|1154|http://us.imdb.com/M/title-exact?Alphaville%20(1965)                                                                                  |[0, 0, 0, 0, 0, 0, 0, 0, 0, 0, 0, 0, 0, 0, 0, 1, 0, 0, 0]|Alphaville (1965)                                                                |\n",
      "|28-Jun-1996|1155|http://us.imdb.com/M/title-exact?Rendez-vous%20de%20Paris,%20Les%20(1995)                                                             |[0, 0, 0, 0, 0, 1, 0, 0, 0, 0, 0, 0, 0, 0, 1, 0, 0, 0, 0]|Rendezvous in Paris (Rendez-vous de Paris, Les) (1995)                           |\n",
      "|02-Aug-1996|1156|http://us.imdb.com/M/title-exact?Cyclo%20(1995)                                                                                       |[0, 0, 0, 0, 0, 0, 1, 0, 1, 0, 0, 0, 0, 0, 0, 0, 0, 0, 0]|Cyclo (1995)                                                                     |\n",
      "|17-Jan-1997|1157|http://us.imdb.com/M/title-exact?Relic,%20The%20(1997)                                                                                |[0, 0, 0, 0, 0, 0, 0, 0, 0, 0, 0, 1, 0, 0, 0, 0, 0, 0, 0]|Relic, The (1997)                                                                |\n",
      "|30-Oct-1996|1158|http://us.imdb.com/M/title-exact?Fille%20seule,%20La%20(1995)                                                                         |[0, 0, 0, 0, 0, 0, 0, 0, 1, 0, 0, 0, 0, 0, 0, 0, 0, 0, 0]|Fille seule, La (A Single Girl) (1995)                                           |\n",
      "|01-Jan-1979|1159|http://us.imdb.com/M/title-exact?Stalker%20(1979)                                                                                     |[0, 0, 0, 0, 0, 0, 0, 0, 0, 0, 0, 0, 0, 1, 0, 1, 0, 0, 0]|Stalker (1979)                                                                   |\n",
      "|16-May-1997|1160|http://us.imdb.com/Title?Love%21+Valour%21+Compassion%21+(1997)                                                                       |[0, 0, 0, 0, 0, 0, 0, 0, 1, 0, 0, 0, 0, 0, 1, 0, 0, 0, 0]|Love! Valour! Compassion! (1997)                                                 |\n",
      "|25-Oct-1996|1161|http://us.imdb.com/M/title-exact?Palookaville%20(1996)                                                                                |[0, 1, 0, 0, 0, 0, 0, 0, 1, 0, 0, 0, 0, 0, 0, 0, 0, 0, 0]|Palookaville (1996)                                                              |\n",
      "|02-Aug-1996|1162|http://us.imdb.com/M/title-exact?Phat%20Beach%20(1996)                                                                                |[0, 0, 0, 0, 0, 1, 0, 0, 0, 0, 0, 0, 0, 0, 0, 0, 0, 0, 0]|Phat Beach (1996)                                                                |\n",
      "|27-Dec-1996|1163|http://us.imdb.com/M/title-exact?Portrait%20of%20a%20Lady%2C%20The%20%281996%29                                                       |[0, 0, 0, 0, 0, 0, 0, 0, 1, 0, 0, 0, 0, 0, 0, 0, 0, 0, 0]|Portrait of a Lady, The (1996)                                                   |\n",
      "|10-Jan-1997|1164|http://us.imdb.com/M/title-exact?Zeus%20and%20Roxanne%20(1997)                                                                        |[0, 0, 0, 0, 1, 0, 0, 0, 0, 0, 0, 0, 0, 0, 0, 0, 0, 0, 0]|Zeus and Roxanne (1997)                                                          |\n",
      "|01-Jan-1996|1165|http://us.imdb.com/M/title-exact?Big%20Bully%20(1996)                                                                                 |[0, 0, 0, 0, 0, 1, 0, 0, 1, 0, 0, 0, 0, 0, 0, 0, 0, 0, 0]|Big Bully (1996)                                                                 |\n",
      "|01-Jan-1993|1166|http://us.imdb.com/M/title-exact?Love%20&%20Human%20Remains%20(1993)                                                                  |[0, 0, 0, 0, 0, 1, 0, 0, 0, 0, 0, 0, 0, 0, 0, 0, 0, 0, 0]|Love & Human Remains (1993)                                                      |\n",
      "|01-Jan-1994|1167|http://us.imdb.com/M/title-exact?Sum%20of%20Us,%20The%20(1994)                                                                        |[0, 0, 0, 0, 0, 1, 0, 0, 0, 0, 0, 0, 0, 0, 0, 0, 0, 0, 0]|Sum of Us, The (1994)                                                            |\n",
      "|01-Jan-1993|1168|http://us.imdb.com/M/title-exact?Little%20Buddha%20(1993)                                                                             |[0, 0, 0, 0, 0, 0, 0, 0, 1, 0, 0, 0, 0, 0, 0, 0, 0, 0, 0]|Little Buddha (1993)                                                             |\n",
      "|01-Jan-1994|1169|http://us.imdb.com/M/title-exact?Fresh%20(1994)                                                                                       |[0, 0, 0, 0, 0, 0, 0, 0, 1, 0, 0, 0, 0, 0, 0, 0, 0, 0, 0]|Fresh (1994)                                                                     |\n",
      "|01-Jan-1994|1170|http://us.imdb.com/M/title-exact?Spanking%20the%20Monkey%20(1994)                                                                     |[0, 0, 0, 0, 0, 1, 0, 0, 1, 0, 0, 0, 0, 0, 0, 0, 0, 0, 0]|Spanking the Monkey (1994)                                                       |\n",
      "|01-Jan-1994|1171|http://us.imdb.com/M/title-exact?Roseaux%20sauvages%2C%20Les%20%281994%29                                                             |[0, 0, 0, 0, 0, 0, 0, 0, 1, 0, 0, 0, 0, 0, 0, 0, 0, 0, 0]|Wild Reeds (1994)                                                                |\n",
      "|01-Jan-1939|1172|http://us.imdb.com/M/title-exact?Women,%20The%20(1939)                                                                                |[0, 0, 0, 0, 0, 1, 0, 0, 0, 0, 0, 0, 0, 0, 0, 0, 0, 0, 0]|Women, The (1939)                                                                |\n",
      "|06-Jun-1997|1173|http://us.imdb.com/M/title-exact?Bliss%20(1997)                                                                                       |[0, 0, 0, 0, 0, 0, 0, 0, 1, 0, 0, 0, 0, 0, 1, 0, 0, 0, 0]|Bliss (1997)                                                                     |\n",
      "|27-Sep-1996|1174|http://us.imdb.com/M/title-exact?Caught%20(1996)                                                                                      |[0, 0, 0, 0, 0, 0, 0, 0, 1, 0, 0, 0, 0, 0, 0, 0, 1, 0, 0]|Caught (1996)                                                                    |\n",
      "|01-Jan-1997|1175|http://us.imdb.com/M/title-exact?Hugo+Pool+(1997)                                                                                     |[0, 0, 0, 0, 0, 0, 0, 0, 0, 0, 0, 0, 0, 0, 1, 0, 0, 0, 0]|Hugo Pool (1997)                                                                 |\n",
      "|01-Jan-1997|1176|http://us.imdb.com/M/title-exact?Welcome+To+Sarajevo+(1997)                                                                           |[0, 0, 0, 0, 0, 0, 0, 0, 1, 0, 0, 0, 0, 0, 0, 0, 0, 1, 0]|Welcome To Sarajevo (1997)                                                       |\n",
      "|01-Jan-1996|1177|http://us.imdb.com/M/title-exact?Dunston%20Checks%20In%20(1996)                                                                       |[0, 0, 0, 0, 0, 1, 0, 0, 0, 0, 0, 0, 0, 0, 0, 0, 0, 0, 0]|Dunston Checks In (1996)                                                         |\n",
      "|01-Jan-1994|1178|http://us.imdb.com/M/title-exact?Major%20Payne%20(1994)                                                                               |[0, 0, 0, 0, 0, 1, 0, 0, 0, 0, 0, 0, 0, 0, 0, 0, 0, 0, 0]|Major Payne (1994)                                                               |\n",
      "|01-Jan-1995|1179|http://us.imdb.com/M/title-exact?Man%20of%20the%20House%20(1995)                                                                      |[0, 0, 0, 0, 0, 1, 0, 0, 0, 0, 0, 0, 0, 0, 0, 0, 0, 0, 0]|Man of the House (1995)                                                          |\n",
      "|01-Jan-1994|1180|http://us.imdb.com/M/title-exact?I%20Love%20Trouble%20(1994)                                                                          |[0, 1, 0, 0, 0, 1, 0, 0, 0, 0, 0, 0, 0, 0, 0, 0, 0, 0, 0]|I Love Trouble (1994)                                                            |\n",
      "|01-Jan-1994|1181|http://us.imdb.com/M/title-exact?Low%20Down%20Dirty%20Shame,%20A%20(1994)                                                             |[0, 1, 0, 0, 0, 1, 0, 0, 0, 0, 0, 0, 0, 0, 0, 0, 0, 0, 0]|Low Down Dirty Shame, A (1994)                                                   |\n",
      "|01-Jan-1994|1182|http://us.imdb.com/M/title-exact?Cops%20and%20Robbersons%20(1994)                                                                     |[0, 0, 0, 0, 0, 1, 0, 0, 0, 0, 0, 0, 0, 0, 0, 0, 0, 0, 0]|Cops and Robbersons (1994)                                                       |\n",
      "|01-Jan-1994|1183|http://us.imdb.com/M/title-exact?Cowboy%20Way,%20The%20(1994)                                                                         |[0, 1, 0, 0, 0, 1, 0, 0, 0, 0, 0, 0, 0, 0, 0, 0, 0, 0, 0]|Cowboy Way, The (1994)                                                           |\n",
      "|01-Jan-1994|1184|http://us.imdb.com/M/title-exact?Endless%20Summer%202,%20The%20(1994)                                                                 |[0, 0, 0, 0, 0, 0, 0, 1, 0, 0, 0, 0, 0, 0, 0, 0, 0, 0, 0]|Endless Summer 2, The (1994)                                                     |\n",
      "|01-Jan-1994|1185|http://us.imdb.com/M/title-exact?In%20the%20Army%20Now%20(1994)                                                                       |[0, 0, 0, 0, 0, 1, 0, 0, 0, 0, 0, 0, 0, 0, 0, 0, 0, 1, 0]|In the Army Now (1994)                                                           |\n",
      "|01-Jan-1994|1186|http://us.imdb.com/M/title-exact?Inkwell,%20The%20(1994)                                                                              |[0, 0, 0, 0, 0, 1, 0, 0, 1, 0, 0, 0, 0, 0, 0, 0, 0, 0, 0]|Inkwell, The (1994)                                                              |\n",
      "|17-May-1975|1187|http://us.imdb.com/M/title-exact?Switchblade%20Sisters%20(1975)                                                                       |[0, 0, 0, 0, 0, 0, 1, 0, 0, 0, 0, 0, 0, 0, 0, 0, 0, 0, 0]|Switchblade Sisters (1975)                                                       |\n",
      "|01-Jan-1990|1188|http://us.imdb.com/M/title-exact?Young%20Guns%20II%20(1990)                                                                           |[0, 1, 0, 0, 0, 1, 0, 0, 0, 0, 0, 0, 0, 0, 0, 0, 0, 0, 1]|Young Guns II (1990)                                                             |\n",
      "|24-Jan-1997|1189|http://us.imdb.com/M/title-exact?Prefontaine%20(1997)                                                                                 |[0, 0, 0, 0, 0, 0, 0, 0, 1, 0, 0, 0, 0, 0, 0, 0, 0, 0, 0]|Prefontaine (1997)                                                               |\n",
      "|04-Apr-1997|1190|http://us.imdb.com/M/title-exact?That%20Old%20Feeling%20(1997)                                                                        |[0, 0, 0, 0, 0, 1, 0, 0, 0, 0, 0, 0, 0, 0, 1, 0, 0, 0, 0]|That Old Feeling (1997)                                                          |\n",
      "|01-Feb-1998|1191|http://us.imdb.com/M/title-exact?Letter+From+Death+Row%2C+A+(1998)                                                                    |[0, 0, 0, 0, 0, 0, 1, 0, 1, 0, 0, 0, 0, 0, 0, 0, 0, 0, 0]|Letter From Death Row, A (1998)                                                  |\n",
      "|01-Jan-1993|1192|http://us.imdb.com/M/title-exact?Boys%20of%20St.%20Vincent,%20The%20(1993)                                                            |[0, 0, 0, 0, 0, 0, 0, 0, 1, 0, 0, 0, 0, 0, 0, 0, 0, 0, 0]|Boys of St. Vincent, The (1993)                                                  |\n",
      "|01-Jan-1994|1193|http://us.imdb.com/M/title-exact?Pred%20dozhdot%20(1994)                                                                              |[0, 0, 0, 0, 0, 0, 0, 0, 1, 0, 0, 0, 0, 0, 0, 0, 0, 0, 0]|Before the Rain (Pred dozhdot) (1994)                                            |\n",
      "|01-Jan-1994|1194|http://us.imdb.com/M/title-exact?Once%20Were%20Warriors%20(1994)                                                                      |[0, 0, 0, 0, 0, 0, 1, 0, 1, 0, 0, 0, 0, 0, 0, 0, 0, 0, 0]|Once Were Warriors (1994)                                                        |\n",
      "|01-Jan-1993|1195|http://us.imdb.com/M/title-exact?Fresa%20y%20chocolate%20(1993)                                                                       |[0, 0, 0, 0, 0, 0, 0, 0, 1, 0, 0, 0, 0, 0, 0, 0, 0, 0, 0]|Strawberry and Chocolate (Fresa y chocolate) (1993)                              |\n",
      "|01-Jan-1992|1196|http://us.imdb.com/M/title-exact?Nuits%20fauves,%20Les%20(1992)                                                                       |[0, 0, 0, 0, 0, 0, 0, 0, 1, 0, 0, 0, 0, 0, 0, 0, 0, 0, 0]|Savage Nights (Nuits fauves, Les) (1992)                                         |\n",
      "|23-Mar-1996|1197|http://us.imdb.com/M/title-exact?Family%20Thing,%20A%20(1996)                                                                         |[0, 0, 0, 0, 0, 1, 0, 0, 1, 0, 0, 0, 0, 0, 0, 0, 0, 0, 0]|Family Thing, A (1996)                                                           |\n",
      "|28-Jun-1960|1198|http://us.imdb.com/M/title-exact?Plein%20soleil%20(1960)                                                                              |[0, 0, 0, 0, 0, 0, 1, 0, 0, 0, 0, 0, 0, 0, 0, 0, 1, 0, 0]|Purple Noon (1960)                                                               |\n",
      "|12-Apr-1996|1199|http://us.imdb.com/M/title-exact?Dellamorte%20Dellamore%20(1994)                                                                      |[0, 0, 0, 0, 0, 1, 0, 0, 0, 0, 0, 1, 0, 0, 0, 0, 0, 0, 0]|Cemetery Man (Dellamorte Dellamore) (1994)                                       |\n",
      "|01-Jan-1950|1200|http://us.imdb.com/M/title-exact?Kim%20(1950)                                                                                         |[0, 0, 0, 0, 1, 0, 0, 0, 1, 0, 0, 0, 0, 0, 0, 0, 0, 0, 0]|Kim (1950)                                                                       |\n",
      "|02-Apr-1996|1201|http://us.imdb.com/M/title-exact?Marlene%20Dietrich:%20Shadow%20and%20Light%20(1996)%20(TV)                                           |[0, 0, 0, 0, 0, 0, 0, 1, 0, 0, 0, 0, 0, 0, 0, 0, 0, 0, 0]|Marlene Dietrich: Shadow and Light (1996)                                        |\n",
      "|19-Jul-1996|1202|http://us.imdb.com/M/title-exact?Bewegte%20Mann,%20Der%20(1994)                                                                       |[0, 0, 0, 0, 0, 1, 0, 0, 0, 0, 0, 0, 0, 0, 0, 0, 0, 0, 0]|Maybe, Maybe Not (Bewegte Mann, Der) (1994)                                      |\n",
      "|01-Jan-1935|1203|http://us.imdb.com/M/title-exact?Top%20Hat%20(1935)                                                                                   |[0, 0, 0, 0, 0, 1, 0, 0, 0, 0, 0, 0, 1, 0, 1, 0, 0, 0, 0]|Top Hat (1935)                                                                   |\n",
      "|01-Jan-1942|1204|http://us.imdb.com/M/title-exact?To%20Be%20or%20Not%20to%20Be%20(1942)                                                                |[0, 0, 0, 0, 0, 1, 0, 0, 1, 0, 0, 0, 0, 0, 0, 0, 0, 1, 0]|To Be or Not to Be (1942)                                                        |\n",
      "|08-Nov-1996|1205|http://us.imdb.com/M/title-exact?Secret%20Agent,%20The%20(1996)                                                                       |[0, 0, 0, 0, 0, 0, 0, 0, 1, 0, 0, 0, 0, 0, 0, 0, 0, 0, 0]|Secret Agent, The (1996)                                                         |\n",
      "|01-Jan-1993|1206|http://us.imdb.com/M/title-exact?Amos%20&%20Andrew%20(1993)                                                                           |[0, 0, 0, 0, 0, 1, 0, 0, 0, 0, 0, 0, 0, 0, 0, 0, 0, 0, 0]|Amos & Andrew (1993)                                                             |\n",
      "|01-Jan-1995|1207|http://us.imdb.com/M/title-exact?Jade%20(1995)                                                                                        |[0, 0, 0, 0, 0, 0, 0, 0, 0, 0, 0, 0, 0, 0, 0, 0, 1, 0, 0]|Jade (1995)                                                                      |\n",
      "|01-Jan-1995|1208|http://us.imdb.com/M/title-exact?Kiss%20of%20Death%20(1995)                                                                           |[0, 0, 0, 0, 0, 0, 1, 0, 1, 0, 0, 0, 0, 0, 0, 0, 1, 0, 0]|Kiss of Death (1995)                                                             |\n",
      "|01-Jan-1994|1209|http://us.imdb.com/M/title-exact?Mixed%20Nuts%20(1994)                                                                                |[0, 0, 0, 0, 0, 1, 0, 0, 0, 0, 0, 0, 0, 0, 0, 0, 0, 0, 0]|Mixed Nuts (1994)                                                                |\n",
      "|01-Jan-1995|1210|http://us.imdb.com/M/title-exact?Virtuosity%20(1995)                                                                                  |[0, 0, 0, 0, 0, 0, 0, 0, 0, 0, 0, 0, 0, 0, 0, 1, 1, 0, 0]|Virtuosity (1995)                                                                |\n",
      "|01-Jan-1994|1211|http://us.imdb.com/M/title-exact?Blue%20Sky%20(1994)                                                                                  |[0, 0, 0, 0, 0, 0, 0, 0, 1, 0, 0, 0, 0, 0, 1, 0, 0, 0, 0]|Blue Sky (1994)                                                                  |\n",
      "|01-Jan-1993|1212|http://us.imdb.com/M/title-exact?Flesh%20and%20Bone%20(1993)                                                                          |[0, 0, 0, 0, 0, 0, 0, 0, 1, 0, 0, 0, 0, 1, 1, 0, 0, 0, 0]|Flesh and Bone (1993)                                                            |\n",
      "|01-Jan-1993|1213|http://us.imdb.com/M/title-exact?Guilty%20as%20Sin%20(1993)                                                                           |[0, 0, 0, 0, 0, 0, 1, 0, 1, 0, 0, 0, 0, 0, 0, 0, 1, 0, 0]|Guilty as Sin (1993)                                                             |\n",
      "|08-Mar-1976|1214|http://us.imdb.com/M/title-exact?Ai%20no%20Corrida%20(1976)                                                                           |[0, 0, 0, 0, 0, 0, 0, 0, 1, 0, 0, 0, 0, 0, 0, 0, 0, 0, 0]|In the Realm of the Senses (Ai no corrida) (1976)                                |\n",
      "|03-May-1996|1215|http://us.imdb.com/M/title-exact?Barb%20Wire%20(1996)                                                                                 |[0, 1, 0, 0, 0, 0, 0, 0, 0, 0, 0, 0, 0, 0, 0, 1, 0, 0, 0]|Barb Wire (1996)                                                                 |\n",
      "|18-Apr-1997|1216|http://us.imdb.com/M/title-exact?Kissed%20%281996%29                                                                                  |[0, 0, 0, 0, 0, 0, 0, 0, 0, 0, 0, 0, 0, 0, 1, 0, 0, 0, 0]|Kissed (1996)                                                                    |\n",
      "|01-Jan-1995|1217|http://us.imdb.com/Title?Assassins+(1995)                                                                                             |[0, 0, 0, 0, 0, 0, 0, 0, 0, 0, 0, 0, 0, 0, 0, 0, 1, 0, 0]|Assassins (1995)                                                                 |\n",
      "|01-Jan-1995|1218|http://us.imdb.com/M/title-exact?Friday%20(1995)                                                                                      |[0, 0, 0, 0, 0, 1, 0, 0, 0, 0, 0, 0, 0, 0, 0, 0, 0, 0, 0]|Friday (1995)                                                                    |\n",
      "|01-Jan-1995|1219|http://us.imdb.com/M/title-exact?Goofy%20Movie,%20A%20(1995)                                                                          |[0, 0, 0, 1, 1, 1, 0, 0, 0, 0, 0, 0, 0, 0, 1, 0, 0, 0, 0]|Goofy Movie, A (1995)                                                            |\n",
      "|01-Jan-1995|1220|http://us.imdb.com/M/title-exact?Higher%20Learning%20(1995)                                                                           |[0, 0, 0, 0, 0, 0, 0, 0, 1, 0, 0, 0, 0, 0, 0, 0, 0, 0, 0]|Higher Learning (1995)                                                           |\n",
      "|01-Jan-1994|1221|http://us.imdb.com/M/title-exact?When%20a%20Man%20Loves%20a%20Woman%20(1994)                                                          |[0, 0, 0, 0, 0, 0, 0, 0, 1, 0, 0, 0, 0, 0, 0, 0, 0, 0, 0]|When a Man Loves a Woman (1994)                                                  |\n",
      "|01-Jan-1993|1222|http://us.imdb.com/M/title-exact?Judgment%20Night%20(1993)                                                                            |[0, 1, 0, 0, 0, 0, 0, 0, 0, 0, 0, 0, 0, 0, 0, 0, 0, 0, 0]|Judgment Night (1993)                                                            |\n",
      "|01-Jan-1993|1223|http://us.imdb.com/M/title-exact?King%20of%20the%20Hill%20(1993)                                                                      |[0, 0, 0, 0, 0, 0, 0, 0, 1, 0, 0, 0, 0, 0, 0, 0, 0, 0, 0]|King of the Hill (1993)                                                          |\n",
      "|01-Jan-1994|1224|http://us.imdb.com/M/title-exact?Scout,%20The%20(1994)                                                                                |[0, 0, 0, 0, 0, 0, 0, 0, 1, 0, 0, 0, 0, 0, 0, 0, 0, 0, 0]|Scout, The (1994)                                                                |\n",
      "|01-Jan-1995|1225|http://us.imdb.com/M/title-exact?Angus%20(1995)                                                                                       |[0, 0, 0, 0, 0, 1, 0, 0, 0, 0, 0, 0, 0, 0, 0, 0, 0, 0, 0]|Angus (1995)                                                                     |\n",
      "|16-May-1997|1226|http://us.imdb.com/M/title-exact?Night%20Falls%20on%20Manhattan%20(1997)                                                              |[0, 0, 0, 0, 0, 0, 1, 0, 1, 0, 0, 0, 0, 0, 0, 0, 0, 0, 0]|Night Falls on Manhattan (1997)                                                  |\n",
      "|01-Jan-1995|1227|http://us.imdb.com/M/title-exact?Awfully%20Big%20Adventure,%20An%20(1995)                                                             |[0, 0, 0, 0, 0, 0, 0, 0, 1, 0, 0, 0, 0, 0, 0, 0, 0, 0, 0]|Awfully Big Adventure, An (1995)                                                 |\n",
      "|01-Jan-1995|1228|http://us.imdb.com/M/title-exact?Under%20Siege%202:%20Dark%20Territory%20(1995)                                                       |[0, 1, 0, 0, 0, 0, 0, 0, 0, 0, 0, 0, 0, 0, 0, 0, 0, 0, 0]|Under Siege 2: Dark Territory (1995)                                             |\n",
      "|01-Jan-1995|1229|http://us.imdb.com/M/title-exact?Poison%20Ivy%20II%20(1995)                                                                           |[0, 0, 0, 0, 0, 0, 0, 0, 1, 0, 0, 0, 0, 0, 0, 0, 1, 0, 0]|Poison Ivy II (1995)                                                             |\n",
      "|01-Jan-1994|1230|http://us.imdb.com/Title?Pr%EAt-%E0-Porter+(1994)                                                                                     |[0, 0, 0, 0, 0, 1, 0, 0, 0, 0, 0, 0, 0, 0, 0, 0, 0, 0, 0]|Ready to Wear (Pret-A-Porter) (1994)                                             |\n",
      "|01-Jan-1990|1231|http://us.imdb.com/M/title-exact?Marked%20for%20Death%20(1990)                                                                        |[0, 1, 0, 0, 0, 0, 0, 0, 1, 0, 0, 0, 0, 0, 0, 0, 0, 0, 0]|Marked for Death (1990)                                                          |\n",
      "|01-Jan-1991|1232|http://us.imdb.com/M/title-exact?Madonna:%20Truth%20or%20Dare%20(1991)                                                                |[0, 0, 0, 0, 0, 0, 0, 1, 0, 0, 0, 0, 0, 0, 0, 0, 0, 0, 0]|Madonna: Truth or Dare (1991)                                                    |\n",
      "|01-Jan-1996|1233|http://us.imdb.com/Title?N%E9nette+et+Boni+(1996)                                                                                     |[0, 0, 0, 0, 0, 0, 0, 0, 1, 0, 0, 0, 0, 0, 0, 0, 0, 0, 0]|N�nette et Boni (1996)                                                           |\n",
      "|01-Jan-1998|1234|http://us.imdb.com/Title?Chairman+of+the+Board+(1998)                                                                                 |[0, 0, 0, 0, 0, 1, 0, 0, 0, 0, 0, 0, 0, 0, 0, 0, 0, 0, 0]|Chairman of the Board (1998)                                                     |\n",
      "|01-Jan-1994|1235|http://us.imdb.com/M/title-exact?imdb-title-109266                                                                                    |[0, 0, 0, 0, 0, 0, 1, 0, 0, 0, 0, 0, 0, 0, 0, 0, 0, 0, 0]|Big Bang Theory, The (1994)                                                      |\n",
      "|01-Jan-1997|1236|http://us.imdb.com/M/title-exact?imdb-title-119845                                                                                    |[0, 0, 0, 0, 0, 0, 0, 0, 1, 0, 0, 0, 0, 0, 0, 0, 0, 0, 0]|Other Voices, Other Rooms (1997)                                                 |\n",
      "|01-Jan-1996|1237|http://us.imdb.com/M/title-exact?imdb-title-117994                                                                                    |[0, 0, 0, 0, 0, 1, 0, 0, 1, 0, 0, 0, 0, 0, 0, 0, 0, 0, 0]|Twisted (1996)                                                                   |\n",
      "|01-Jan-1996|1238|http://us.imdb.com/M/title-exact?imdb-title-118230                                                                                    |[0, 0, 0, 0, 0, 0, 0, 0, 1, 0, 0, 0, 0, 0, 0, 0, 0, 0, 0]|Full Speed (1996)                                                                |\n",
      "|01-Jan-1995|1239|http://us.imdb.com/M/title-exact?Cutthroat%20Island%20(1995)                                                                          |[0, 1, 1, 0, 0, 0, 0, 0, 0, 0, 0, 0, 0, 0, 1, 0, 0, 0, 0]|Cutthroat Island (1995)                                                          |\n",
      "|12-Apr-1996|1240|http://us.imdb.com/M/title-exact?Kokaku%20Kidotai%20(1995)                                                                            |[0, 0, 0, 1, 0, 0, 0, 0, 0, 0, 0, 0, 0, 0, 0, 1, 0, 0, 0]|Ghost in the Shell (Kokaku kidotai) (1995)                                       |\n",
      "|27-Jun-1997|1241|http://us.imdb.com/M/title-exact?Van%2C%20The%20(1996)                                                                                |[0, 0, 0, 0, 0, 1, 0, 0, 1, 0, 0, 0, 0, 0, 0, 0, 0, 0, 0]|Van, The (1996)                                                                  |\n",
      "|01-Jan-1991|1242|http://us.imdb.com/M/title-exact?Vieille%20qui%20marchait%20dans%20la%20mer,%20La%20(1991)                                            |[0, 0, 0, 0, 0, 1, 0, 0, 0, 0, 0, 0, 0, 0, 0, 0, 0, 0, 0]|Old Lady Who Walked in the Sea, The (Vieille qui marchait dans la mer, La) (1991)|\n",
      "|06-Feb-1998|1243|http://us.imdb.com/M/title-exact?Night+Flier+(1997)                                                                                   |[0, 0, 0, 0, 0, 0, 0, 0, 0, 0, 0, 1, 0, 0, 0, 0, 0, 0, 0]|Night Flier (1997)                                                               |\n",
      "|17-Jan-1997|1244|http://us.imdb.com/M/title-exact?Metro%20(1997)                                                                                       |[0, 1, 0, 0, 0, 0, 0, 0, 0, 0, 0, 0, 0, 0, 0, 0, 0, 0, 0]|Metro (1997)                                                                     |\n",
      "|29-Jan-1997|1245|http://us.imdb.com/M/title-exact?Gridlock'd%20(1997)                                                                                  |[0, 0, 0, 0, 0, 0, 1, 0, 0, 0, 0, 0, 0, 0, 0, 0, 0, 0, 0]|Gridlock'd (1997)                                                                |\n",
      "|01-Jan-1995|1246|http://us.imdb.com/Title?Bushwhacked+(1995/I)                                                                                         |[0, 0, 0, 0, 0, 1, 0, 0, 0, 0, 0, 0, 0, 0, 0, 0, 0, 0, 0]|Bushwhacked (1995)                                                               |\n",
      "|01-Jan-1994|1247|http://us.imdb.com/Title?Bad+Girls+(1994/I)                                                                                           |[0, 0, 0, 0, 0, 0, 0, 0, 0, 0, 0, 0, 0, 0, 0, 0, 0, 0, 1]|Bad Girls (1994)                                                                 |\n",
      "|01-Jan-1994|1248|http://us.imdb.com/M/title-exact?Blink%20(1994)                                                                                       |[0, 0, 0, 0, 0, 0, 0, 0, 0, 0, 0, 0, 0, 0, 0, 0, 1, 0, 0]|Blink (1994)                                                                     |\n",
      "|01-Jan-1993|1249|http://us.imdb.com/M/title-exact?For%20Love%20or%20Money%20(1993)                                                                     |[0, 0, 0, 0, 0, 1, 0, 0, 0, 0, 0, 0, 0, 0, 0, 0, 0, 0, 0]|For Love or Money (1993)                                                         |\n",
      "|01-Jan-1995|1250|http://us.imdb.com/M/title-exact?Best%20of%20the%20Best%203:%20No%20Turning%20Back%20(1995)                                           |[0, 1, 0, 0, 0, 0, 0, 0, 0, 0, 0, 0, 0, 0, 0, 0, 0, 0, 0]|Best of the Best 3: No Turning Back (1995)                                       |\n",
      "|25-Apr-1997|1251|http://us.imdb.com/M/title-exact?Mille%20et%20une%20recettes%20du%20cuisinier%20amoureux%2C%20Les%20%281996%29                        |[0, 0, 0, 0, 0, 1, 0, 0, 0, 0, 0, 0, 0, 0, 0, 0, 0, 0, 0]|A Chef in Love (1996)                                                            |\n",
      "|27-Jun-1997|1252|http://us.imdb.com/M/title-exact?M%E9pris%2C+Le+(1963)                                                                                |[0, 0, 0, 0, 0, 0, 0, 0, 1, 0, 0, 0, 0, 0, 0, 0, 0, 0, 0]|Contempt (M�pris, Le) (1963)                                                     |\n",
      "|01-Jan-1995|1253|http://us.imdb.com/M/title-exact?Tie%20That%20Binds,%20The%20(1995)                                                                   |[0, 0, 0, 0, 0, 0, 0, 0, 0, 0, 0, 0, 0, 0, 0, 0, 1, 0, 0]|Tie That Binds, The (1995)                                                       |\n",
      "|30-May-1997|1254|http://us.imdb.com/M/title-exact?Gone%20Fishin'%20(1997)                                                                              |[0, 0, 0, 0, 0, 1, 0, 0, 0, 0, 0, 0, 0, 0, 0, 0, 0, 0, 0]|Gone Fishin' (1997)                                                              |\n",
      "|02-May-1997|1255|http://us.imdb.com/M/title-exact?Broken%20English%20%281996%29                                                                        |[0, 0, 0, 0, 0, 0, 0, 0, 1, 0, 0, 0, 0, 0, 0, 0, 0, 0, 0]|Broken English (1996)                                                            |\n",
      "|23-May-1997|1256|http://us.imdb.com/M/title-exact?Designated%20Mourner%2C%20The%20%281997%29                                                           |[0, 0, 0, 0, 0, 0, 0, 0, 1, 0, 0, 0, 0, 0, 0, 0, 0, 0, 0]|Designated Mourner, The (1997)                                                   |\n",
      "|23-May-1997|1257|http://us.imdb.com/M/title-exact?Designated%20Mourner%2C%20The%20%281997%29                                                           |[0, 0, 0, 0, 0, 0, 0, 0, 1, 0, 0, 0, 0, 0, 0, 0, 0, 0, 0]|Designated Mourner, The (1997)                                                   |\n",
      "|30-May-1997|1258|http://us.imdb.com/M/title-exact?Trial%20and%20Error%20%281997%29                                                                     |[0, 0, 0, 0, 0, 1, 0, 0, 0, 0, 0, 0, 0, 0, 1, 0, 0, 0, 0]|Trial and Error (1997)                                                           |\n",
      "|09-Feb-1996|1259|http://us.imdb.com/M/title-exact?Pie%20in%20the%20Sky%20(1995)                                                                        |[0, 0, 0, 0, 0, 1, 0, 0, 0, 0, 0, 0, 0, 0, 1, 0, 0, 0, 0]|Pie in the Sky (1995)                                                            |\n",
      "|01-Jan-1995|1260|http://us.imdb.com/M/title-exact?Total%20Eclipse%20(1995)                                                                             |[0, 0, 0, 0, 0, 0, 0, 0, 1, 0, 0, 0, 0, 0, 0, 0, 0, 0, 0]|Total Eclipse (1995)                                                             |\n",
      "|01-Jan-1995|1261|http://us.imdb.com/M/title-exact?Run%20of%20the%20Country,%20The%20(1995)                                                             |[0, 0, 0, 0, 0, 0, 0, 0, 1, 0, 0, 0, 0, 0, 0, 0, 0, 0, 0]|Run of the Country, The (1995)                                                   |\n",
      "|12-Jul-1996|1262|http://us.imdb.com/M/title-exact?Walking%20and%20Talking%20(1996)                                                                     |[0, 0, 0, 0, 0, 0, 0, 0, 0, 0, 0, 0, 0, 0, 1, 0, 0, 0, 0]|Walking and Talking (1996)                                                       |\n",
      "|23-Aug-1996|1263|http://us.imdb.com/M/title-exact?Foxfire%20(1996)                                                                                     |[0, 0, 0, 0, 0, 0, 0, 0, 1, 0, 0, 0, 0, 0, 0, 0, 0, 0, 0]|Foxfire (1996)                                                                   |\n",
      "|16-Aug-1996|1264|http://us.imdb.com/M/title-exact?Nothing%20to%20Lose%20(1994)                                                                         |[0, 0, 0, 0, 0, 0, 0, 0, 1, 0, 0, 0, 0, 0, 0, 0, 0, 0, 0]|Nothing to Lose (1994)                                                           |\n",
      "|01-Jan-1997|1265|http://us.imdb.com/M/title-exact?Star+Maps+(1997)                                                                                     |[0, 0, 0, 0, 0, 0, 0, 0, 1, 0, 0, 0, 0, 0, 0, 0, 0, 0, 0]|Star Maps (1997)                                                                 |\n",
      "|01-Jan-1973|1266|http://us.imdb.com/M/title-exact?Pane%20e%20Cioccolata%20(1973)                                                                       |[0, 0, 0, 0, 0, 0, 0, 0, 1, 0, 0, 0, 0, 0, 0, 0, 0, 0, 0]|Bread and Chocolate (Pane e cioccolata) (1973)                                   |\n",
      "|01-Jan-1995|1267|http://us.imdb.com/M/title-exact?Clockers%20(1995)                                                                                    |[0, 0, 0, 0, 0, 0, 0, 0, 1, 0, 0, 0, 0, 0, 0, 0, 0, 0, 0]|Clockers (1995)                                                                  |\n",
      "|01-Jan-1992|1268|http://us.imdb.com/M/title-exact?Lunes%20de%20fiel%20(1992)                                                                           |[0, 0, 0, 0, 0, 0, 0, 0, 1, 0, 0, 0, 0, 0, 0, 0, 0, 0, 0]|Bitter Moon (1992)                                                               |\n",
      "|01-Jan-1957|1269|http://us.imdb.com/M/title-exact?Love%20in%20the%20Afternoon%20(1957)                                                                 |[0, 0, 0, 0, 0, 1, 0, 0, 0, 0, 0, 0, 0, 0, 1, 0, 0, 0, 0]|Love in the Afternoon (1957)                                                     |\n",
      "|01-Jan-1993|1270|http://us.imdb.com/M/title-exact?Life%20with%20Mikey%20(1993)                                                                         |[0, 0, 0, 0, 0, 1, 0, 0, 0, 0, 0, 0, 0, 0, 0, 0, 0, 0, 0]|Life with Mikey (1993)                                                           |\n",
      "|01-Jan-1994|1271|http://us.imdb.com/M/title-exact?North%20(1994)                                                                                       |[0, 0, 0, 0, 0, 1, 0, 0, 0, 0, 0, 0, 0, 0, 0, 0, 0, 0, 0]|North (1994)                                                                     |\n",
      "|01-Jan-1994|1272|http://us.imdb.com/M/title-exact?Talking%20About%20Sex%20(1994)                                                                       |[0, 0, 0, 0, 0, 1, 0, 0, 1, 0, 0, 0, 0, 0, 0, 0, 0, 0, 0]|Talking About Sex (1994)                                                         |\n",
      "|01-Jan-1994|1273|http://us.imdb.com/M/title-exact?Color%20of%20Night%20(1994)                                                                          |[0, 0, 0, 0, 0, 0, 0, 0, 1, 0, 0, 0, 0, 0, 0, 0, 1, 0, 0]|Color of Night (1994)                                                            |\n",
      "|01-Jan-1993|1274|http://us.imdb.com/M/title-exact?Robocop%203%20(1993)                                                                                 |[0, 0, 0, 0, 0, 0, 0, 0, 0, 0, 0, 0, 0, 0, 0, 1, 1, 0, 0]|Robocop 3 (1993)                                                                 |\n",
      "|01-Jan-1994|1275|http://us.imdb.com/M/title-exact?Killer%20(1994)                                                                                      |[0, 0, 0, 0, 0, 0, 0, 0, 0, 0, 0, 0, 0, 0, 0, 0, 1, 0, 0]|Killer (Bulletproof Heart) (1994)                                                |\n",
      "|26-Apr-1996|1276|http://us.imdb.com/M/title-exact?Sunset%20Park%20(1996)                                                                               |[0, 0, 0, 0, 0, 0, 0, 0, 1, 0, 0, 0, 0, 0, 0, 0, 0, 0, 0]|Sunset Park (1996)                                                               |\n",
      "|25-Sep-1996|1277|http://us.imdb.com/M/title-exact?Set%20It%20Off%20(1996)                                                                              |[0, 1, 0, 0, 0, 0, 1, 0, 0, 0, 0, 0, 0, 0, 0, 0, 0, 0, 0]|Set It Off (1996)                                                                |\n",
      "|21-Mar-1997|1278|http://us.imdb.com/M/title-exact?Selena%20(1997)                                                                                      |[0, 0, 0, 0, 0, 0, 0, 0, 1, 0, 0, 0, 1, 0, 0, 0, 0, 0, 0]|Selena (1997)                                                                    |\n",
      "|04-Jul-1997|1279|http://us.imdb.com/M/title-exact?Wild+America+(1997)                                                                                  |[0, 0, 1, 0, 1, 0, 0, 0, 0, 0, 0, 0, 0, 0, 0, 0, 0, 0, 0]|Wild America (1997)                                                              |\n",
      "|01-Jan-1997|1280|http://us.imdb.com/M/title-exact?Gang+Related+(1997)                                                                                  |[0, 0, 0, 0, 0, 0, 1, 0, 0, 0, 0, 0, 0, 0, 0, 0, 0, 0, 0]|Gang Related (1997)                                                              |\n",
      "|26-Jul-1996|1281|http://us.imdb.com/M/title-exact?Manny%20&%20Lo%20(1996)                                                                              |[0, 0, 0, 0, 0, 0, 0, 0, 1, 0, 0, 0, 0, 0, 0, 0, 0, 0, 0]|Manny & Lo (1996)                                                                |\n",
      "|11-Oct-1996|1282|http://us.imdb.com/M/title-exact?Grass%20Harp,%20The%20(1995)                                                                         |[0, 0, 0, 0, 0, 0, 0, 0, 1, 0, 0, 0, 0, 0, 0, 0, 0, 0, 0]|Grass Harp, The (1995)                                                           |\n",
      "|04-Jul-1997|1283|http://us.imdb.com/M/title-exact?Out+to+Sea+(1997)                                                                                    |[0, 0, 0, 0, 0, 1, 0, 0, 0, 0, 0, 0, 0, 0, 0, 0, 0, 0, 0]|Out to Sea (1997)                                                                |\n",
      "|23-Feb-1996|1284|http://us.imdb.com/M/title-exact?Before%20and%20After%20(1996)                                                                        |[0, 0, 0, 0, 0, 0, 0, 0, 1, 0, 0, 0, 0, 1, 0, 0, 0, 0, 0]|Before and After (1996)                                                          |\n",
      "|01-Jan-1994|1285|http://us.imdb.com/M/title-exact?Princess%20Caraboo%20(1994)                                                                          |[0, 0, 0, 0, 0, 0, 0, 0, 1, 0, 0, 0, 0, 0, 0, 0, 0, 0, 0]|Princess Caraboo (1994)                                                          |\n",
      "|01-Jan-1937|1286|http://us.imdb.com/M/title-exact?Shall%20We%20Dance?%20(1937)                                                                         |[0, 0, 0, 0, 0, 1, 0, 0, 0, 0, 0, 0, 1, 0, 1, 0, 0, 0, 0]|Shall We Dance? (1937)                                                           |\n",
      "|08-Mar-1996|1287|http://us.imdb.com/M/title-exact?Ed%20(1996)                                                                                          |[0, 0, 0, 0, 0, 1, 0, 0, 0, 0, 0, 0, 0, 0, 0, 0, 0, 0, 0]|Ed (1996)                                                                        |\n",
      "|29-Mar-1996|1288|http://us.imdb.com/M/title-exact?Denise%20Calls%20Up%20(1995)                                                                         |[0, 0, 0, 0, 0, 1, 0, 0, 0, 0, 0, 0, 0, 0, 0, 0, 0, 0, 0]|Denise Calls Up (1995)                                                           |\n",
      "|22-Mar-1996|1289|http://us.imdb.com/M/title-exact?Jack%20and%20Sarah%20(1995)                                                                          |[0, 0, 0, 0, 0, 0, 0, 0, 0, 0, 0, 0, 0, 0, 1, 0, 0, 0, 0]|Jack and Sarah (1995)                                                            |\n",
      "|01-Jan-1994|1290|http://us.imdb.com/M/title-exact?Country%20Life%20(1994)                                                                              |[0, 0, 0, 0, 0, 0, 0, 0, 1, 0, 0, 0, 0, 0, 1, 0, 0, 0, 0]|Country Life (1994)                                                              |\n",
      "|19-Apr-1996|1291|http://us.imdb.com/M/title-exact?Celtic%20Pride%20(1996)                                                                              |[0, 0, 0, 0, 0, 1, 0, 0, 0, 0, 0, 0, 0, 0, 0, 0, 0, 0, 0]|Celtic Pride (1996)                                                              |\n",
      "|11-Jul-1997|1292|http://us.imdb.com/M/title-exact?Simple+Wish%2C+A+(1997)                                                                              |[0, 0, 0, 0, 1, 0, 0, 0, 0, 1, 0, 0, 0, 0, 0, 0, 0, 0, 0]|Simple Wish, A (1997)                                                            |\n",
      "|16-Jan-1998|1293|http://us.imdb.com/M/title-exact?imdb-title-120478                                                                                    |[0, 0, 1, 0, 1, 0, 0, 0, 0, 1, 0, 0, 0, 0, 0, 1, 0, 0, 0]|Star Kid (1997)                                                                  |\n",
      "|13-Feb-1998|1294|http://us.imdb.com/Title?Ayn+Rand%3A+A+Sense+of+Life+(1997)                                                                           |[0, 0, 0, 0, 0, 0, 0, 1, 0, 0, 0, 0, 0, 0, 0, 0, 0, 0, 0]|Ayn Rand: A Sense of Life (1997)                                                 |\n",
      "|01-Jan-1997|1295|http://us.imdb.com/M/title-exact?Kicked+in+the+Head+(1997)                                                                            |[0, 0, 0, 0, 0, 1, 0, 0, 1, 0, 0, 0, 0, 0, 0, 0, 0, 0, 0]|Kicked in the Head (1997)                                                        |\n",
      "|01-Jan-1996|1296|http://us.imdb.com/M/title-exact?Indian+Summer+(1996)                                                                                 |[0, 0, 0, 0, 0, 1, 0, 0, 1, 0, 0, 0, 0, 0, 0, 0, 0, 0, 0]|Indian Summer (1996)                                                             |\n",
      "|01-Jan-1994|1297|http://us.imdb.com/M/title-exact?Love%20Affair%20(1994)                                                                               |[0, 0, 0, 0, 0, 0, 0, 0, 1, 0, 0, 0, 0, 0, 1, 0, 0, 0, 0]|Love Affair (1994)                                                               |\n",
      "|01-Jan-1953|1298|http://us.imdb.com/M/title-exact?Band%20Wagon,%20The%20(1953)                                                                         |[0, 0, 0, 0, 0, 1, 0, 0, 0, 0, 0, 0, 1, 0, 0, 0, 0, 0, 0]|Band Wagon, The (1953)                                                           |\n",
      "|01-Jan-1941|1299|http://us.imdb.com/M/title-exact?Penny%20Serenade%20(1941)                                                                            |[0, 0, 0, 0, 0, 0, 0, 0, 1, 0, 0, 0, 0, 0, 1, 0, 0, 0, 0]|Penny Serenade (1941)                                                            |\n",
      "|30-May-1997|1300|http://us.imdb.com/Title?%27Til+There+Was+You+(1997)                                                                                  |[0, 0, 0, 0, 0, 0, 0, 0, 1, 0, 0, 0, 0, 0, 1, 0, 0, 0, 0]|'Til There Was You (1997)                                                        |\n",
      "|01-Jan-1981|1301|http://us.imdb.com/M/title-exact?Stripes+(1981)                                                                                       |[0, 0, 0, 0, 0, 1, 0, 0, 0, 0, 0, 0, 0, 0, 0, 0, 0, 0, 0]|Stripes (1981)                                                                   |\n",
      "|06-Jun-1997|1302|http://us.imdb.com/M/title-exact?Late%20Bloomers%20%281996%29                                                                         |[0, 0, 0, 0, 0, 1, 0, 0, 0, 0, 0, 0, 0, 0, 0, 0, 0, 0, 0]|Late Bloomers (1996)                                                             |\n",
      "|01-Jan-1994|1303|http://us.imdb.com/M/title-exact?Getaway,%20The%20(1994)                                                                              |[0, 1, 0, 0, 0, 0, 0, 0, 0, 0, 0, 0, 0, 0, 0, 0, 0, 0, 0]|Getaway, The (1994)                                                              |\n",
      "|01-Jan-1996|1304|http://us.imdb.com/Title?New+York+Cop+(1996)                                                                                          |[0, 1, 0, 0, 0, 0, 1, 0, 0, 0, 0, 0, 0, 0, 0, 0, 0, 0, 0]|New York Cop (1996)                                                              |\n",
      "|01-Jan-1995|1305|http://us.imdb.com/M/title-exact?National%20Lampoon's%20Senior%20Trip%20(1995)                                                        |[0, 0, 0, 0, 0, 1, 0, 0, 0, 0, 0, 0, 0, 0, 0, 0, 0, 0, 0]|National Lampoon's Senior Trip (1995)                                            |\n",
      "|01-Jan-1994|1306|http://us.imdb.com/M/title-exact?Delta%20of%20Venus%20(1994)                                                                          |[0, 0, 0, 0, 0, 0, 0, 0, 1, 0, 0, 0, 0, 0, 0, 0, 0, 0, 0]|Delta of Venus (1994)                                                            |\n",
      "|01-Jan-1994|1307|http://us.imdb.com/M/title-exact?Carmen%20Miranda:%20Bananas%20Is%20My%20Business%20(1994)                                            |[0, 0, 0, 0, 0, 0, 0, 1, 0, 0, 0, 0, 0, 0, 0, 0, 0, 0, 0]|Carmen Miranda: Bananas Is My Business (1994)                                    |\n",
      "|01-Jan-1994|1308|http://us.imdb.com/M/title-exact?Babyfever%20(1994)                                                                                   |[0, 0, 0, 0, 0, 1, 0, 0, 1, 0, 0, 0, 0, 0, 0, 0, 0, 0, 0]|Babyfever (1994)                                                                 |\n",
      "|01-Jan-1974|1309|http://us.imdb.com/M/title-exact?Very%20Natural%20Thing,%20A%20(1974)                                                                 |[0, 0, 0, 0, 0, 0, 0, 0, 1, 0, 0, 0, 0, 0, 0, 0, 0, 0, 0]|Very Natural Thing, A (1974)                                                     |\n",
      "|01-Jan-1945|1310|http://us.imdb.com/M/title-exact?Walk%20in%20the%20Sun,%20A%20(1945)                                                                  |[0, 0, 0, 0, 0, 0, 0, 0, 1, 0, 0, 0, 0, 0, 0, 0, 0, 0, 0]|Walk in the Sun, A (1945)                                                        |\n",
      "|15-Jan-1996|1311|http://us.imdb.com/M/title-exact?Waiting%20to%20Exhale%20(1995)                                                                       |[0, 0, 0, 0, 0, 1, 0, 0, 1, 0, 0, 0, 0, 0, 0, 0, 0, 0, 0]|Waiting to Exhale (1995)                                                         |\n",
      "|26-Jul-1996|1312|http://us.imdb.com/M/title-exact?Pompatus%20of%20Love,%20The%20(1996)                                                                 |[0, 0, 0, 0, 0, 1, 0, 0, 1, 0, 0, 0, 0, 0, 0, 0, 0, 0, 0]|Pompatus of Love, The (1996)                                                     |\n",
      "|20-Feb-1998|1313|http://us.imdb.com/M/title-exact?Palmetto+(1998)                                                                                      |[0, 0, 0, 0, 0, 0, 0, 0, 0, 0, 1, 0, 0, 1, 0, 0, 1, 0, 0]|Palmetto (1998)                                                                  |\n",
      "|01-Jan-1994|1314|http://us.imdb.com/M/title-exact?Surviving%20the%20Game%20(1994)                                                                      |[0, 1, 1, 0, 0, 0, 0, 0, 0, 0, 0, 0, 0, 0, 0, 0, 1, 0, 0]|Surviving the Game (1994)                                                        |\n",
      "|04-Apr-1997|1315|http://us.imdb.com/M/title-exact?Inventing%20the%20Abbotts%20%281997%29                                                               |[0, 0, 0, 0, 0, 0, 0, 0, 1, 0, 0, 0, 0, 0, 1, 0, 0, 0, 0]|Inventing the Abbotts (1997)                                                     |\n",
      "|25-Dec-1997|1316|http://us.imdb.com/M/title-exact?imdb-title-119314                                                                                    |[0, 0, 0, 0, 0, 0, 0, 0, 1, 0, 0, 0, 0, 0, 0, 0, 0, 0, 0]|Horse Whisperer, The (1998)                                                      |\n",
      "|22-Mar-1996|1317|http://us.imdb.com/M/title-exact?Journey%20of%20August%20King,%20The%20(1995)                                                         |[0, 0, 0, 0, 0, 0, 0, 0, 1, 0, 0, 0, 0, 0, 0, 0, 0, 0, 0]|Journey of August King, The (1995)                                               |\n",
      "|07-Jun-1996|1318|http://us.imdb.com/Title?Catwalk+(1995/I)                                                                                             |[0, 0, 0, 0, 0, 0, 0, 1, 0, 0, 0, 0, 0, 0, 0, 0, 0, 0, 0]|Catwalk (1995)                                                                   |\n",
      "|01-Mar-1996|1319|http://us.imdb.com/M/title-exact?Neon%20Bible,%20The%20(1995)                                                                         |[0, 0, 0, 0, 0, 0, 0, 0, 1, 0, 0, 0, 0, 0, 0, 0, 0, 0, 0]|Neon Bible, The (1995)                                                           |\n",
      "|03-May-1996|1320|http://us.imdb.com/M/title-exact?Homage%20(1995)                                                                                      |[0, 0, 0, 0, 0, 0, 0, 0, 1, 0, 0, 0, 0, 0, 0, 0, 0, 0, 0]|Homage (1995)                                                                    |\n",
      "|10-May-1996|1321|http://us.imdb.com/Title?Open+Season+(1996)                                                                                           |[0, 0, 0, 0, 0, 1, 0, 0, 0, 0, 0, 0, 0, 0, 0, 0, 0, 0, 0]|Open Season (1996)                                                               |\n",
      "|01-Jan-1993|1322|http://us.imdb.com/Title?M%E9tisse+(1993)                                                                                             |[0, 0, 0, 0, 0, 1, 0, 0, 0, 0, 0, 0, 0, 0, 0, 0, 0, 0, 0]|Metisse (Caf� au Lait) (1993)                                                    |\n",
      "|01-Jan-1994|1323|http://us.imdb.com/M/title-exact?Wu%20Kui%20(1994)                                                                                    |[0, 0, 0, 0, 0, 0, 0, 0, 1, 0, 0, 0, 0, 0, 0, 0, 0, 0, 0]|Wooden Man's Bride, The (Wu Kui) (1994)                                          |\n",
      "|12-Apr-1996|1324|http://us.imdb.com/M/title-exact?Loaded%20(1994)                                                                                      |[0, 0, 0, 0, 0, 0, 0, 0, 1, 0, 0, 0, 0, 0, 0, 0, 1, 0, 0]|Loaded (1994)                                                                    |\n",
      "|12-Apr-1996|1325|http://us.imdb.com/M/title-exact?August%20(1996)                                                                                      |[0, 0, 0, 0, 0, 0, 0, 0, 1, 0, 0, 0, 0, 0, 0, 0, 0, 0, 0]|August (1996)                                                                    |\n",
      "|10-May-1996|1326|http://us.imdb.com/M/title-exact?Boys%20(1996)                                                                                        |[0, 0, 0, 0, 0, 0, 0, 0, 1, 0, 0, 0, 0, 0, 0, 0, 0, 0, 0]|Boys (1996)                                                                      |\n",
      "|16-Sep-1994|1327|http://us.imdb.com/Title?Captives+(1994)                                                                                              |[0, 0, 0, 0, 0, 0, 0, 0, 1, 0, 0, 0, 0, 0, 0, 0, 0, 0, 0]|Captives (1994)                                                                  |\n",
      "|10-May-1996|1328|http://us.imdb.com/M/title-exact?Of%20Love%20and%20Shadows%20(1994)                                                                   |[0, 0, 0, 0, 0, 0, 0, 0, 1, 0, 0, 0, 0, 0, 0, 0, 0, 0, 0]|Of Love and Shadows (1994)                                                       |\n",
      "|10-May-1996|1329|http://us.imdb.com/Title?Low+Life,+The+(1994/I)                                                                                       |[0, 0, 0, 0, 0, 0, 0, 0, 1, 0, 0, 0, 0, 0, 0, 0, 0, 0, 0]|Low Life, The (1994)                                                             |\n",
      "|01-Jan-1994|1330|http://us.imdb.com/Title?Un+%E9t%E9+inoubliable+(1994)                                                                                |[0, 0, 0, 0, 0, 0, 0, 0, 1, 0, 0, 0, 0, 0, 0, 0, 0, 0, 0]|An Unforgettable Summer (1994)                                                   |\n",
      "|01-Jan-1995|1331|http://us.imdb.com/M/title-exact?Last%20Klezmer%3A%20Leopold%20Kozlowski%2C%20His%20Life%20and%20Music%2C%20The%20%281995%29          |[0, 0, 0, 0, 0, 0, 0, 1, 0, 0, 0, 0, 0, 0, 0, 0, 0, 0, 0]|Last Klezmer: Leopold Kozlowski, His Life and Music, The (1995)                  |\n",
      "|01-Jan-1993|1332|http://us.imdb.com/M/title-exact?En%20compagnie%20d'Antonin%20Artaud%20(1993)                                                         |[0, 0, 0, 0, 0, 0, 0, 0, 1, 0, 0, 0, 0, 0, 0, 0, 0, 0, 0]|My Life and Times With Antonin Artaud (En compagnie d'Antonin Artaud) (1993)     |\n",
      "|01-Jan-1994|1333|http://us.imdb.com/M/title-exact?Sibak%20(1994)                                                                                       |[0, 0, 0, 0, 0, 1, 0, 0, 1, 0, 0, 0, 0, 0, 0, 0, 0, 0, 0]|Midnight Dancers (Sibak) (1994)                                                  |\n",
      "|14-Jun-1996|1334|http://us.imdb.com/Title?Somebody+to+Love+(1996)                                                                                      |[0, 0, 0, 0, 0, 0, 0, 0, 1, 0, 0, 0, 0, 0, 0, 0, 0, 0, 0]|Somebody to Love (1994)                                                          |\n",
      "|13-Sep-1996|1335|http://us.imdb.com/M/title-exact?American%20Buffalo%20(1996)                                                                          |[0, 0, 0, 0, 0, 0, 0, 0, 1, 0, 0, 0, 0, 0, 0, 0, 0, 0, 0]|American Buffalo (1996)                                                          |\n",
      "|17-Jul-1996|1336|http://us.imdb.com/M/title-exact?Kazaam%20(1996)                                                                                      |[0, 0, 0, 0, 1, 1, 0, 0, 0, 1, 0, 0, 0, 0, 0, 0, 0, 0, 0]|Kazaam (1996)                                                                    |\n",
      "|01-Nov-1996|1337|http://us.imdb.com/M/title-exact?Larger%20Than%20Life%20(1996)                                                                        |[0, 0, 0, 0, 0, 1, 0, 0, 0, 0, 0, 0, 0, 0, 0, 0, 0, 0, 0]|Larger Than Life (1996)                                                          |\n",
      "|09-Aug-1996|1338|http://us.imdb.com/Title?Two+Deaths+(1995)                                                                                            |[0, 0, 0, 0, 0, 0, 0, 0, 1, 0, 0, 0, 0, 0, 0, 0, 0, 0, 0]|Two Deaths (1995)                                                                |\n",
      "|01-Jan-1993|1339|http://us.imdb.com/M/title-exact?Stefano%20Quantestorie%20%281993%29                                                                  |[0, 0, 0, 0, 0, 1, 0, 0, 1, 0, 0, 0, 0, 0, 0, 0, 0, 0, 0]|Stefano Quantestorie (1993)                                                      |\n",
      "|01-Jan-1995|1340|http://us.imdb.com/M/title-exact?Crude%20Oasis,%20The%20(1995)                                                                        |[0, 0, 0, 0, 0, 0, 0, 0, 0, 0, 0, 0, 0, 0, 1, 0, 0, 0, 0]|Crude Oasis, The (1995)                                                          |\n",
      "|01-Jan-1992|1341|http://us.imdb.com/M/title-exact?Hedd%20Wyn%20(1992)                                                                                  |[0, 0, 0, 0, 0, 0, 0, 0, 1, 0, 0, 0, 0, 0, 0, 0, 0, 0, 0]|Hedd Wyn (1992)                                                                  |\n",
      "|14-Jun-1996|1342|http://us.imdb.com/M/title-exact?Convento,%20O%20(1995)                                                                               |[0, 0, 0, 0, 0, 0, 0, 0, 1, 0, 0, 0, 0, 0, 0, 0, 0, 0, 0]|Convent, The (Convento, O) (1995)                                                |\n",
      "|01-Jan-1995|1343|http://us.imdb.com/M/title-exact?Lotto%20Land%20(1995)                                                                                |[0, 0, 0, 0, 0, 0, 0, 0, 1, 0, 0, 0, 0, 0, 0, 0, 0, 0, 0]|Lotto Land (1995)                                                                |\n",
      "|01-Jan-1993|1344|http://us.imdb.com/M/title-exact?Story%20of%20Xinghua,%20The%20(1993)                                                                 |[0, 0, 0, 0, 0, 0, 0, 0, 1, 0, 0, 0, 0, 0, 0, 0, 0, 0, 0]|Story of Xinghua, The (1993)                                                     |\n",
      "|01-Jan-1994|1345|http://us.imdb.com/M/title-exact?Tianguo%20Niezi%20(1994)                                                                             |[0, 0, 0, 0, 0, 0, 0, 0, 1, 0, 0, 0, 0, 0, 0, 0, 0, 0, 0]|Day the Sun Turned Cold, The (Tianguo niezi) (1994)                              |\n",
      "|01-Jan-1992|1346|http://us.imdb.com/M/title-exact?Dingo%20(1992)                                                                                       |[0, 0, 0, 0, 0, 0, 0, 0, 1, 0, 0, 0, 0, 0, 0, 0, 0, 0, 0]|Dingo (1992)                                                                     |\n",
      "|01-Jan-1958|1347|http://us.imdb.com/M/title-exact?Narayama%20Bushiko%20%281958%29                                                                      |[0, 0, 0, 0, 0, 0, 0, 0, 1, 0, 0, 0, 0, 0, 0, 0, 0, 0, 0]|Ballad of Narayama, The (Narayama Bushiko) (1958)                                |\n",
      "|01-Jan-1990|1348|http://us.imdb.com/Title?Un+week-end+sur+deux+(1990)                                                                                  |[0, 0, 0, 0, 0, 0, 0, 0, 1, 0, 0, 0, 0, 0, 0, 0, 0, 0, 0]|Every Other Weekend (1990)                                                       |\n",
      "|01-Jan-1993|1349|http://us.imdb.com/M/title-exact?Mille%20bolle%20blu%20(1993)                                                                         |[0, 0, 0, 0, 0, 1, 0, 0, 0, 0, 0, 0, 0, 0, 0, 0, 0, 0, 0]|Mille bolle blu (1993)                                                           |\n",
      "|01-Jan-1949|1350|http://us.imdb.com/Title?Wuya+yu+maque+(1949)                                                                                         |[0, 0, 0, 0, 0, 0, 0, 0, 1, 0, 0, 0, 0, 0, 0, 0, 0, 0, 0]|Crows and Sparrows (1949)                                                        |\n",
      "|12-Jul-1996|1351|http://us.imdb.com/M/title-exact?Lover's%20Knot%20(1996)                                                                              |[0, 0, 0, 0, 0, 1, 0, 0, 0, 0, 0, 0, 0, 0, 0, 0, 0, 0, 0]|Lover's Knot (1996)                                                              |\n",
      "|01-Jan-1976|1352|http://us.imdb.com/M/title-exact?Schatten%20der%20Engel%20(1976)                                                                      |[0, 0, 0, 0, 0, 0, 0, 0, 1, 0, 0, 0, 0, 0, 0, 0, 0, 0, 0]|Shadow of Angels (Schatten der Engel) (1976)                                     |\n",
      "|01-Jan-1994|1353|http://us.imdb.com/M/title-exact?06%20(1994)                                                                                          |[0, 0, 0, 0, 0, 0, 0, 0, 0, 0, 0, 0, 0, 0, 1, 0, 0, 0, 0]|1-900 (1994)                                                                     |\n",
      "|01-Jan-1992|1354|http://us.imdb.com/M/title-exact?Venice/Venice%20(1992)                                                                               |[0, 0, 0, 0, 0, 0, 0, 0, 1, 0, 0, 0, 0, 0, 0, 0, 0, 0, 0]|Venice/Venice (1992)                                                             |\n",
      "|04-Oct-1996|1355|http://us.imdb.com/M/title-exact?Infinity%20(1996)                                                                                    |[0, 0, 0, 0, 0, 0, 0, 0, 1, 0, 0, 0, 0, 0, 0, 0, 0, 0, 0]|Infinity (1996)                                                                  |\n",
      "|04-Oct-1996|1356|http://us.imdb.com/M/title-exact?Ed%27s%20Next%20Move%20%281996%29                                                                    |[0, 0, 0, 0, 0, 1, 0, 0, 0, 0, 0, 0, 0, 0, 0, 0, 0, 0, 0]|Ed's Next Move (1996)                                                            |\n",
      "|01-Jan-1994|1357|http://us.imdb.com/M/title-exact?For%20the%20Moment%20(1994)                                                                          |[0, 0, 0, 0, 0, 0, 0, 0, 0, 0, 0, 0, 0, 0, 1, 0, 0, 1, 0]|For the Moment (1994)                                                            |\n",
      "|16-Sep-1996|1358|                                                                                                                                      |[0, 1, 0, 0, 0, 0, 0, 0, 0, 0, 0, 0, 0, 0, 0, 0, 0, 0, 0]|The Deadly Cure (1996)                                                           |\n",
      "|24-Sep-1996|1359|                                                                                                                                      |[0, 0, 0, 0, 0, 0, 0, 0, 1, 0, 0, 0, 0, 0, 0, 0, 0, 0, 0]|Boys in Venice (1996)                                                            |\n",
      "|01-Jan-1994|1360|http://us.imdb.com/M/title-exact?Vie%20sexuelle%20des%20Belges,%20La%20(1994)                                                         |[0, 0, 0, 0, 0, 1, 0, 0, 0, 0, 0, 0, 0, 0, 0, 0, 0, 0, 0]|Sexual Life of the Belgians, The (1994)                                          |\n",
      "|01-Jan-1996|1361|http://us.imdb.com/M/title-exact?Search%20for%20One-eye%20Jimmy,%20The%20(1996)                                                       |[0, 0, 0, 0, 0, 1, 0, 0, 0, 0, 0, 0, 0, 0, 0, 0, 0, 0, 0]|Search for One-eye Jimmy, The (1996)                                             |\n",
      "|13-Sep-1996|1362|http://us.imdb.com/M/title-exact?American%20Strays%20(1996)                                                                           |[0, 1, 0, 0, 0, 0, 0, 0, 0, 0, 0, 0, 0, 0, 0, 0, 0, 0, 0]|American Strays (1996)                                                           |\n",
      "|27-Sep-1996|1363|http://us.imdb.com/M/title-exact?Leopard%20Son,%20The%20(1996)                                                                        |[0, 0, 0, 0, 0, 0, 0, 1, 0, 0, 0, 0, 0, 0, 0, 0, 0, 0, 0]|Leopard Son, The (1996)                                                          |\n",
      "|04-Oct-1996|1364|http://us.imdb.com/M/title-exact?Bird%20of%20Prey%20(1996)                                                                            |[0, 1, 0, 0, 0, 0, 0, 0, 0, 0, 0, 0, 0, 0, 0, 0, 0, 0, 0]|Bird of Prey (1996)                                                              |\n",
      "|01-Jan-1993|1365|http://us.imdb.com/M/title-exact?Johnny%20100%20Pesos%20(1993)                                                                        |[0, 1, 0, 0, 0, 0, 0, 0, 1, 0, 0, 0, 0, 0, 0, 0, 0, 0, 0]|Johnny 100 Pesos (1993)                                                          |\n",
      "|01-Jan-1994|1366|http://us.imdb.com/M/title-exact?JLG/JLG%20-%20autoportrait%20de%20d%E9cembre%20%281994%29                                            |[0, 0, 0, 0, 0, 0, 0, 1, 1, 0, 0, 0, 0, 0, 0, 0, 0, 0, 0]|JLG/JLG - autoportrait de d�cembre (1994)                                        |\n",
      "|01-Jan-1994|1367|http://us.imdb.com/M/title-exact?Faust%20%281994%29                                                                                   |[0, 0, 0, 1, 0, 0, 0, 0, 0, 0, 0, 0, 0, 0, 0, 0, 0, 0, 0]|Faust (1994)                                                                     |\n",
      "|01-Jan-1994|1368|http://us.imdb.com/M/title-exact?Mina%20Tannenbaum%20(1994)                                                                           |[0, 0, 0, 0, 0, 0, 0, 0, 1, 0, 0, 0, 0, 0, 0, 0, 0, 0, 0]|Mina Tannenbaum (1994)                                                           |\n",
      "|01-Jan-1950|1369|http://us.imdb.com/M/title-exact?Cristo%20proibito%2C%20Il%20%281950%29                                                               |[0, 0, 0, 0, 0, 0, 0, 0, 1, 0, 0, 0, 0, 0, 0, 0, 0, 0, 0]|Forbidden Christ, The (Cristo proibito, Il) (1950)                               |\n",
      "|01-Jan-1994|1370|http://us.imdb.com/M/title-exact?J'ai%20pas%20sommeil%20(1994)                                                                        |[0, 0, 0, 0, 0, 0, 0, 0, 1, 0, 0, 0, 0, 0, 0, 0, 1, 0, 0]|I Can't Sleep (J'ai pas sommeil) (1994)                                          |\n",
      "|01-Jan-1994|1371|http://us.imdb.com/M/title-exact?Machine,%20La%20(1994)                                                                               |[0, 0, 0, 0, 0, 1, 0, 0, 0, 0, 0, 1, 0, 0, 0, 0, 0, 0, 0]|Machine, The (1994)                                                              |\n",
      "|01-Jan-1994|1372|http://us.imdb.com/Title?Stranger,+The+(1994/II)                                                                                      |[0, 1, 0, 0, 0, 0, 0, 0, 0, 0, 0, 0, 0, 0, 0, 0, 0, 0, 0]|Stranger, The (1994)                                                             |\n",
      "|4-Feb-1971 |1373|http://us.imdb.com/M/title-exact?Good%20Morning%20(1971)                                                                              |[1, 0, 0, 0, 0, 0, 0, 0, 0, 0, 0, 0, 0, 0, 0, 0, 0, 0, 0]|Good Morning (1971)                                                              |\n",
      "|01-Jan-1980|1374|http://us.imdb.com/M/title-exact?Falling%20in%20Love%20Again%20(1980)                                                                 |[0, 0, 0, 0, 0, 1, 0, 0, 0, 0, 0, 0, 0, 0, 0, 0, 0, 0, 0]|Falling in Love Again (1980)                                                     |\n",
      "|01-Jan-1993|1375|http://us.imdb.com/M/title-exact?Cement%20Garden,%20The%20(1993)                                                                      |[0, 0, 0, 0, 0, 0, 0, 0, 1, 0, 0, 0, 0, 0, 0, 0, 0, 0, 0]|Cement Garden, The (1993)                                                        |\n",
      "|31-Jan-1997|1376|http://us.imdb.com/M/title-exact?Meet%20Wally%20Sparks%20(1997)                                                                       |[0, 0, 0, 0, 0, 1, 0, 0, 0, 0, 0, 0, 0, 0, 0, 0, 0, 0, 0]|Meet Wally Sparks (1997)                                                         |\n",
      "|07-Feb-1997|1377|http://us.imdb.com/M/title-exact?Hotel%20de%20Love%20(1996)                                                                           |[0, 0, 0, 0, 0, 1, 0, 0, 0, 0, 0, 0, 0, 0, 1, 0, 0, 0, 0]|Hotel de Love (1996)                                                             |\n",
      "|05-Mar-1997|1378|http://us.imdb.com/M/title-exact?Rhyme%20%26%20Reason%20(1997)                                                                        |[0, 0, 0, 0, 0, 0, 0, 1, 0, 0, 0, 0, 0, 0, 0, 0, 0, 0, 0]|Rhyme & Reason (1997)                                                            |\n",
      "|28-Mar-1997|1379|http://us.imdb.com/M/title-exact?Love%20and%20Other%20Catastrophes%20%281996%29                                                       |[0, 0, 0, 0, 0, 0, 0, 0, 0, 0, 0, 0, 0, 0, 1, 0, 0, 0, 0]|Love and Other Catastrophes (1996)                                               |\n",
      "|02-May-1997|1380|http://us.imdb.com/Title?Hollow+Reed+(1996)                                                                                           |[0, 0, 0, 0, 0, 0, 0, 0, 1, 0, 0, 0, 0, 0, 0, 0, 0, 0, 0]|Hollow Reed (1996)                                                               |\n",
      "|01-Jan-1996|1381|http://us.imdb.com/M/title-exact?Losing%20Chase%20%281996%29                                                                          |[0, 0, 0, 0, 0, 0, 0, 0, 1, 0, 0, 0, 0, 0, 0, 0, 0, 0, 0]|Losing Chase (1996)                                                              |\n",
      "|16-May-1997|1382|http://us.imdb.com/M/title-exact?Bonheur%2C%20Le%20%281965%29                                                                         |[0, 0, 0, 0, 0, 0, 0, 0, 1, 0, 0, 0, 0, 0, 0, 0, 0, 0, 0]|Bonheur, Le (1965)                                                               |\n",
      "|16-May-1997|1383|http://us.imdb.com/M/title-exact?Second%20Jungle%20Book%3A%20Mowgli%20%26%20Baloo%2C%20The%20%281997%29                               |[0, 0, 1, 0, 1, 0, 0, 0, 0, 0, 0, 0, 0, 0, 0, 0, 0, 0, 0]|Second Jungle Book: Mowgli & Baloo, The (1997)                                   |\n",
      "|13-Jun-1997|1384|http://us.imdb.com/M/title-exact?Squeeze%20%281996%29                                                                                 |[0, 0, 0, 0, 0, 0, 0, 0, 1, 0, 0, 0, 0, 0, 0, 0, 0, 0, 0]|Squeeze (1996)                                                                   |\n",
      "|20-Jun-1997|1385|http://us.imdb.com/M/title-exact?Roseanna%27s+Grave+(1997)                                                                            |[0, 0, 0, 0, 0, 1, 0, 0, 0, 0, 0, 0, 0, 0, 1, 0, 0, 0, 0]|Roseanna's Grave (For Roseanna) (1997)                                           |\n",
      "|20-Jun-1997|1386|http://us.imdb.com/M/title-exact?Tetsuo+II%3A+Body+Hammer+(1992)                                                                      |[0, 0, 0, 0, 0, 0, 0, 0, 0, 0, 0, 0, 0, 0, 0, 1, 0, 0, 0]|Tetsuo II: Body Hammer (1992)                                                    |\n",
      "|27-Jun-1997|1387|http://us.imdb.com/M/title-exact?Fall+(1997)                                                                                          |[0, 0, 0, 0, 0, 0, 0, 0, 0, 0, 0, 0, 0, 0, 1, 0, 0, 0, 0]|Fall (1997)                                                                      |\n",
      "|27-Jun-1997|1388|http://us.imdb.com/M/title-exact?Gabbeh+(1996)                                                                                        |[0, 0, 0, 0, 0, 0, 0, 0, 1, 0, 0, 0, 0, 0, 0, 0, 0, 0, 0]|Gabbeh (1996)                                                                    |\n",
      "|27-Jun-1997|1389|http://us.imdb.com/M/title-exact?Mondo+(1996)                                                                                         |[0, 0, 0, 0, 0, 0, 0, 0, 1, 0, 0, 0, 0, 0, 0, 0, 0, 0, 0]|Mondo (1996)                                                                     |\n",
      "|27-Jun-1997|1390|http://us.imdb.com/M/title-exact?Innocent+Sleep%2C+The+(1995)                                                                         |[0, 0, 0, 0, 0, 0, 1, 0, 0, 0, 0, 0, 0, 0, 0, 0, 0, 0, 0]|Innocent Sleep, The (1995)                                                       |\n",
      "|04-Jul-1997|1391|http://us.imdb.com/M/title-exact?For+Ever+Mozart+(1996)                                                                               |[0, 0, 0, 0, 0, 0, 0, 0, 1, 0, 0, 0, 0, 0, 0, 0, 0, 0, 0]|For Ever Mozart (1996)                                                           |\n",
      "|01-Jan-1997|1392|http://us.imdb.com/M/title-exact?Locusts%2C+The+(1997)                                                                                |[0, 0, 0, 0, 0, 0, 0, 0, 1, 0, 0, 0, 0, 0, 0, 0, 0, 0, 0]|Locusts, The (1997)                                                              |\n",
      "|01-Jan-1997|1393|http://us.imdb.com/M/title-exact?Stag+(1997)                                                                                          |[0, 1, 0, 0, 0, 0, 0, 0, 0, 0, 0, 0, 0, 0, 0, 0, 1, 0, 0]|Stag (1997)                                                                      |\n",
      "|01-Jan-1997|1394|http://us.imdb.com/M/title-exact?Swept+from+the+Sea+(1997)                                                                            |[0, 0, 0, 0, 0, 0, 0, 0, 0, 0, 0, 0, 0, 0, 1, 0, 0, 0, 0]|Swept from the Sea (1997)                                                        |\n",
      "|01-Jan-1998|1395|http://us.imdb.com/Title?Hurricane+Streets+(1998)                                                                                     |[0, 0, 0, 0, 0, 0, 0, 0, 1, 0, 0, 0, 0, 0, 0, 0, 0, 0, 0]|Hurricane Streets (1998)                                                         |\n",
      "|26-Jul-1996|1396|http://us.imdb.com/M/title-exact?Stonewall%20(1995)                                                                                   |[0, 0, 0, 0, 0, 0, 0, 0, 1, 0, 0, 0, 0, 0, 0, 0, 0, 0, 0]|Stonewall (1995)                                                                 |\n",
      "|01-Jan-1934|1397|http://us.imdb.com/M/title-exact?Of%20Human%20Bondage%20(1934)                                                                        |[0, 0, 0, 0, 0, 0, 0, 0, 1, 0, 0, 0, 0, 0, 0, 0, 0, 0, 0]|Of Human Bondage (1934)                                                          |\n",
      "|13-Nov-1996|1398|http://us.imdb.com/M/title-exact?Anna%20(1996)                                                                                        |[0, 0, 0, 0, 0, 0, 0, 0, 1, 0, 0, 0, 0, 0, 0, 0, 0, 0, 0]|Anna (1996)                                                                      |\n",
      "|01-Jan-1997|1399|http://us.imdb.com/M/title-exact?imdb-title-120222                                                                                    |[0, 0, 0, 0, 0, 0, 0, 0, 0, 0, 0, 0, 0, 0, 0, 0, 1, 0, 0]|Stranger in the House (1997)                                                     |\n",
      "|01-Jan-1995|1400|http://us.imdb.com/M/title-exact?Picture%20Bride%20(1995)                                                                             |[0, 0, 0, 0, 0, 0, 0, 0, 1, 0, 0, 0, 0, 0, 1, 0, 0, 0, 0]|Picture Bride (1995)                                                             |\n",
      "|01-Jan-1993|1401|http://us.imdb.com/M/title-exact?M.%20Butterfly%20(1993)                                                                              |[0, 0, 0, 0, 0, 0, 0, 0, 1, 0, 0, 0, 0, 0, 0, 0, 0, 0, 0]|M. Butterfly (1993)                                                              |\n",
      "|01-Jan-1993|1402|http://us.imdb.com/M/title-exact?Io%20speriamo%20che%20me%20la%20cavo%20(1993)                                                        |[0, 0, 0, 0, 0, 0, 0, 0, 1, 0, 0, 0, 0, 0, 0, 0, 0, 0, 0]|Ciao, Professore! (1993)                                                         |\n",
      "|01-Jan-1994|1403|http://us.imdb.com/M/title-exact?Caro%20diario%20(1994)                                                                               |[0, 0, 0, 0, 0, 1, 0, 0, 1, 0, 0, 0, 0, 0, 0, 0, 0, 0, 0]|Caro Diario (Dear Diary) (1994)                                                  |\n",
      "|01-Jan-1987|1404|http://us.imdb.com/M/title-exact?Withnail%20and%20I%20(1987)                                                                          |[0, 0, 0, 0, 0, 1, 0, 0, 0, 0, 0, 0, 0, 0, 0, 0, 0, 0, 0]|Withnail and I (1987)                                                            |\n",
      "|07-Mar-1997|1405|http://us.imdb.com/M/title-exact?Boy%27s%20Life%202%20(1997)                                                                          |[0, 0, 0, 0, 0, 0, 0, 0, 1, 0, 0, 0, 0, 0, 0, 0, 0, 0, 0]|Boy's Life 2 (1997)                                                              |\n",
      "|01-Jan-1995|1406|http://us.imdb.com/M/title-exact?When%20Night%20is%20Falling%20(1995)                                                                 |[0, 0, 0, 0, 0, 0, 0, 0, 1, 0, 0, 0, 0, 0, 1, 0, 0, 0, 0]|When Night Is Falling (1995)                                                     |\n",
      "|01-Jan-1994|1407|http://us.imdb.com/M/title-exact?Specialist,%20The%20(1994)                                                                           |[0, 1, 0, 0, 0, 0, 0, 0, 0, 0, 0, 0, 0, 0, 0, 0, 0, 0, 0]|Specialist, The (1994)                                                           |\n",
      "|01-Jan-1995|1408|http://us.imdb.com/M/title-exact?Gordy%20(1995)                                                                                       |[0, 0, 0, 0, 0, 1, 0, 0, 0, 0, 0, 0, 0, 0, 0, 0, 0, 0, 0]|Gordy (1995)                                                                     |\n",
      "|01-Jan-1994|1409|http://us.imdb.com/M/title-exact?Swan%20Princess,%20The%20(1994)                                                                      |[0, 0, 0, 1, 1, 0, 0, 0, 0, 0, 0, 0, 0, 0, 0, 0, 0, 0, 0]|Swan Princess, The (1994)                                                        |\n",
      "|01-Jan-1993|1410|http://us.imdb.com/M/title-exact?Harlem%20(1993)                                                                                      |[0, 0, 0, 0, 0, 0, 0, 0, 1, 0, 0, 0, 0, 0, 0, 0, 0, 0, 0]|Harlem (1993)                                                                    |\n",
      "|01-Jan-1968|1411|http://us.imdb.com/M/title-exact?Barbarella%20(1968)                                                                                  |[0, 0, 1, 0, 0, 0, 0, 0, 0, 0, 0, 0, 0, 0, 0, 1, 0, 0, 0]|Barbarella (1968)                                                                |\n",
      "|01-Jan-1995|1412|http://us.imdb.com/M/title-exact?Land%20Before%20Time%20III%3A%20The%20Time%20of%20the%20Great%20Giving%20%281995%29%20%28V%29        |[0, 0, 0, 1, 1, 0, 0, 0, 0, 0, 0, 0, 0, 0, 0, 0, 0, 0, 0]|Land Before Time III: The Time of the Great Giving (1995) (V)                    |\n",
      "|01-Jan-1994|1413|http://us.imdb.com/M/title-exact?Street%20Fighter%20(1994)                                                                            |[0, 1, 0, 0, 0, 0, 0, 0, 0, 0, 0, 0, 0, 0, 0, 0, 0, 0, 0]|Street Fighter (1994)                                                            |\n",
      "|01-Jan-1995|1414|http://us.imdb.com/M/title-exact?Coldblooded%20(1995)                                                                                 |[0, 1, 0, 0, 0, 0, 0, 0, 0, 0, 0, 0, 0, 0, 0, 0, 0, 0, 0]|Coldblooded (1995)                                                               |\n",
      "|01-Jan-1994|1415|http://us.imdb.com/M/title-exact?Next%20Karate%20Kid,%20The%20(1994)                                                                  |[0, 1, 0, 0, 1, 0, 0, 0, 0, 0, 0, 0, 0, 0, 0, 0, 0, 0, 0]|Next Karate Kid, The (1994)                                                      |\n",
      "|01-Jan-1994|1416|http://us.imdb.com/M/title-exact?No%20Escape%20(1994)                                                                                 |[0, 1, 0, 0, 0, 0, 0, 0, 0, 0, 0, 0, 0, 0, 0, 1, 0, 0, 0]|No Escape (1994)                                                                 |\n",
      "|02-May-1997|1417|http://us.imdb.com/M/title-exact?Turning%2C%20The%20%281992%29                                                                        |[0, 0, 0, 0, 0, 0, 0, 0, 1, 0, 0, 0, 0, 0, 0, 0, 0, 0, 0]|Turning, The (1992)                                                              |\n",
      "|01-Jan-1993|1418|http://us.imdb.com/M/title-exact?Joy+Luck+Club%2C+The+(1993)                                                                          |[0, 0, 0, 0, 0, 0, 0, 0, 1, 0, 0, 0, 0, 0, 0, 0, 0, 0, 0]|Joy Luck Club, The (1993)                                                        |\n",
      "|01-Jan-1994|1419|http://us.imdb.com/M/title-exact?Highlander%20III:%20The%20Sorcerer%20(1994)                                                          |[0, 1, 0, 0, 0, 0, 0, 0, 0, 0, 0, 0, 0, 0, 0, 1, 0, 0, 0]|Highlander III: The Sorcerer (1994)                                              |\n",
      "|01-Jan-1997|1420|http://us.imdb.com/M/title-exact?imdb-title-119195                                                                                    |[0, 0, 0, 0, 0, 1, 0, 0, 0, 0, 0, 0, 0, 0, 0, 0, 0, 0, 0]|Gilligan's Island: The Movie (1998)                                              |\n",
      "|01-Jan-1993|1421|http://us.imdb.com/M/title-exact?Mi%20vida%20loca%20(1993)                                                                            |[0, 0, 0, 0, 0, 0, 0, 0, 1, 0, 0, 0, 0, 0, 0, 0, 0, 0, 0]|My Crazy Life (Mi vida loca) (1993)                                              |\n",
      "|01-Jan-1993|1422|http://us.imdb.com/M/title-exact?Suture%20(1993)                                                                                      |[0, 0, 0, 0, 0, 0, 0, 0, 0, 0, 1, 0, 0, 0, 0, 0, 1, 0, 0]|Suture (1993)                                                                    |\n",
      "|01-Jan-1995|1423|http://us.imdb.com/M/title-exact?Walking%20Dead,%20The%20(1995)                                                                       |[0, 0, 0, 0, 0, 0, 0, 0, 1, 0, 0, 0, 0, 0, 0, 0, 0, 1, 0]|Walking Dead, The (1995)                                                         |\n",
      "|01-Jan-1994|1424|http://us.imdb.com/M/title-exact?I%20Like%20It%20Like%20That%20(1994)                                                                 |[0, 0, 0, 0, 0, 1, 0, 0, 1, 0, 0, 0, 0, 0, 1, 0, 0, 0, 0]|I Like It Like That (1994)                                                       |\n",
      "|01-Jan-1994|1425|http://us.imdb.com/M/title-exact?I'll%20Do%20Anything%20(1994)                                                                        |[0, 0, 0, 0, 0, 1, 0, 0, 1, 0, 0, 0, 0, 0, 0, 0, 0, 0, 0]|I'll Do Anything (1994)                                                          |\n",
      "|13-Sep-1996|1426|http://us.imdb.com/M/title-exact?Grace%20of%20My%20Heart%20(1996)                                                                     |[0, 0, 0, 0, 0, 1, 0, 0, 1, 0, 0, 0, 0, 0, 0, 0, 0, 0, 0]|Grace of My Heart (1996)                                                         |\n",
      "|01-Nov-1996|1427|http://us.imdb.com/M/title-exact?Drunks%20(1995)                                                                                      |[0, 0, 0, 0, 0, 0, 0, 0, 1, 0, 0, 0, 0, 0, 0, 0, 0, 0, 0]|Drunks (1995)                                                                    |\n",
      "|07-Feb-1997|1428|http://us.imdb.com/M/title-exact?SubUrbia%20(1997)                                                                                    |[0, 0, 0, 0, 0, 1, 0, 0, 0, 0, 0, 0, 0, 0, 0, 0, 0, 0, 0]|SubUrbia (1997)                                                                  |\n",
      "|01-Jan-1998|1429|http://us.imdb.com/Title?Sliding+Doors+(1998)                                                                                         |[0, 0, 0, 0, 0, 0, 0, 0, 1, 0, 0, 0, 0, 0, 1, 0, 0, 0, 0]|Sliding Doors (1998)                                                             |\n",
      "|01-Jan-1997|1430|http://us.imdb.com/M/title-exact?imdb-title-119352                                                                                    |[0, 0, 0, 0, 0, 0, 0, 0, 1, 0, 0, 0, 0, 0, 0, 0, 0, 0, 0]|Ill Gotten Gains (1997)                                                          |\n",
      "|01-Jan-1997|1431|http://us.imdb.com/Title?Legal+Deceit+(1997)                                                                                          |[0, 0, 0, 0, 0, 0, 0, 0, 0, 0, 0, 0, 0, 0, 0, 0, 1, 0, 0]|Legal Deceit (1997)                                                              |\n",
      "|09-Oct-1998|1432|http://us.imdb.com/Title?Mighty,+The+(1998)                                                                                           |[0, 0, 0, 0, 0, 0, 0, 0, 1, 0, 0, 0, 0, 0, 0, 0, 0, 0, 0]|Mighty, The (1998)                                                               |\n",
      "|01-Jan-1997|1433|http://us.imdb.com/M/title-exact?imdb-title-119655                                                                                    |[0, 1, 0, 0, 0, 0, 0, 0, 1, 0, 0, 0, 0, 0, 0, 0, 0, 0, 0]|Men of Means (1998)                                                              |\n",
      "|16-Jan-1998|1434|http://us.imdb.com/M/title-exact?imdb-title-120122                                                                                    |[0, 0, 0, 0, 0, 0, 0, 0, 0, 0, 0, 0, 0, 0, 1, 0, 0, 0, 0]|Shooting Fish (1997)                                                             |\n",
      "|01-Jan-1995|1435|http://us.imdb.com/M/title-exact?Steal%20Big,%20Steal%20Little%20(1995)                                                               |[0, 0, 0, 0, 0, 1, 0, 0, 0, 0, 0, 0, 0, 0, 0, 0, 0, 0, 0]|Steal Big, Steal Little (1995)                                                   |\n",
      "|01-Jan-1993|1436|http://us.imdb.com/M/title-exact?Mr.%20Jones%20(1993)                                                                                 |[0, 0, 0, 0, 0, 0, 0, 0, 1, 0, 0, 0, 0, 0, 1, 0, 0, 0, 0]|Mr. Jones (1993)                                                                 |\n",
      "|01-Jan-1994|1437|http://us.imdb.com/M/title-exact?House%20Party%203%20(1994)                                                                           |[0, 0, 0, 0, 0, 1, 0, 0, 0, 0, 0, 0, 0, 0, 0, 0, 0, 0, 0]|House Party 3 (1994)                                                             |\n",
      "|01-Jan-1995|1438|http://us.imdb.com/M/title-exact?Panther%20(1995)                                                                                     |[0, 0, 0, 0, 0, 0, 0, 0, 1, 0, 0, 0, 0, 0, 0, 0, 0, 0, 0]|Panther (1995)                                                                   |\n",
      "|01-Jan-1994|1439|http://us.imdb.com/M/title-exact?Jason's%20Lyric%20(1994)                                                                             |[0, 0, 0, 0, 0, 0, 1, 0, 1, 0, 0, 0, 0, 0, 0, 0, 0, 0, 0]|Jason's Lyric (1994)                                                             |\n",
      "|01-Jan-1994|1440|http://us.imdb.com/M/title-exact?Above%20the%20Rim%20(1994)                                                                           |[0, 0, 0, 0, 0, 0, 0, 0, 1, 0, 0, 0, 0, 0, 0, 0, 0, 0, 0]|Above the Rim (1994)                                                             |\n",
      "|01-Jan-1995|1441|http://us.imdb.com/M/title-exact?Moonlight%20and%20Valentino%20(1995)                                                                 |[0, 0, 0, 0, 0, 0, 0, 0, 1, 0, 0, 0, 0, 0, 1, 0, 0, 0, 0]|Moonlight and Valentino (1995)                                                   |\n",
      "|01-Jan-1995|1442|http://us.imdb.com/M/title-exact?Scarlet%20Letter,%20The%20(1995)                                                                     |[0, 0, 0, 0, 0, 0, 0, 0, 1, 0, 0, 0, 0, 0, 0, 0, 0, 0, 0]|Scarlet Letter, The (1995)                                                       |\n",
      "|01-Jan-1994|1443|http://us.imdb.com/M/title-exact?8%20Seconds%20(1994)                                                                                 |[0, 0, 0, 0, 0, 0, 0, 0, 1, 0, 0, 0, 0, 0, 0, 0, 0, 0, 0]|8 Seconds (1994)                                                                 |\n",
      "|01-Jan-1965|1444|http://us.imdb.com/Title?That+Darn+Cat%21+(1965)                                                                                      |[0, 0, 0, 0, 1, 1, 0, 0, 0, 0, 0, 0, 0, 1, 0, 0, 0, 0, 0]|That Darn Cat! (1965)                                                            |\n",
      "|01-Jan-1994|1445|http://us.imdb.com/M/title-exact?Ladybird%20Ladybird%20(1994)                                                                         |[0, 0, 0, 0, 0, 0, 0, 0, 1, 0, 0, 0, 0, 0, 0, 0, 0, 0, 0]|Ladybird Ladybird (1994)                                                         |\n",
      "|01-Jan-1995|1446|http://us.imdb.com/M/title-exact?Bye%20Bye,%20Love%20(1995)                                                                           |[0, 0, 0, 0, 0, 1, 0, 0, 0, 0, 0, 0, 0, 0, 0, 0, 0, 0, 0]|Bye Bye, Love (1995)                                                             |\n",
      "|01-Jan-1993|1447|http://us.imdb.com/M/title-exact?Century%20(1993)                                                                                     |[0, 0, 0, 0, 0, 0, 0, 0, 1, 0, 0, 0, 0, 0, 0, 0, 0, 0, 0]|Century (1993)                                                                   |\n",
      "|19-Apr-1996|1448|http://us.imdb.com/Title?Ma+saison+pr%E9f%E9r%E9e+(1993)                                                                              |[0, 0, 0, 0, 0, 0, 0, 0, 1, 0, 0, 0, 0, 0, 0, 0, 0, 0, 0]|My Favorite Season (1993)                                                        |\n",
      "|22-Mar-1996|1449|http://us.imdb.com/M/title-exact?Pather%20Panchali%20(1955)                                                                           |[0, 0, 0, 0, 0, 0, 0, 0, 1, 0, 0, 0, 0, 0, 0, 0, 0, 0, 0]|Pather Panchali (1955)                                                           |\n",
      "|01-Jan-1947|1450|http://us.imdb.com/M/title-exact?Golden%20Earrings%20%281947%29                                                                       |[0, 0, 1, 0, 0, 0, 0, 0, 0, 0, 0, 0, 0, 0, 1, 0, 0, 0, 0]|Golden Earrings (1947)                                                           |\n",
      "|01-Jan-1940|1451|http://us.imdb.com/M/title-exact?Foreign%20Correspondent%20(1940)                                                                     |[0, 0, 0, 0, 0, 0, 0, 0, 0, 0, 0, 0, 0, 0, 0, 0, 1, 0, 0]|Foreign Correspondent (1940)                                                     |\n",
      "|01-Jan-1943|1452|http://us.imdb.com/M/title-exact?Lady%20of%20Burlesque%20(1943)                                                                       |[0, 0, 0, 0, 0, 1, 0, 0, 0, 0, 0, 0, 0, 1, 0, 0, 0, 0, 0]|Lady of Burlesque (1943)                                                         |\n",
      "|01-Jan-1946|1453|http://us.imdb.com/M/title-exact?Angel%20on%20My%20Shoulder%20(1946)                                                                  |[0, 0, 0, 0, 0, 0, 1, 0, 1, 0, 0, 0, 0, 0, 0, 0, 0, 0, 0]|Angel on My Shoulder (1946)                                                      |\n",
      "|01-Jan-1947|1454|http://us.imdb.com/M/title-exact?Angel%20and%20the%20Badman%20(1947)                                                                  |[0, 0, 0, 0, 0, 0, 0, 0, 0, 0, 0, 0, 0, 0, 0, 0, 0, 0, 1]|Angel and the Badman (1947)                                                      |\n",
      "|01-Jan-1943|1455|http://us.imdb.com/M/title-exact?Outlaw,%20The%20(1943)                                                                               |[0, 0, 0, 0, 0, 0, 0, 0, 0, 0, 0, 0, 0, 0, 0, 0, 0, 0, 1]|Outlaw, The (1943)                                                               |\n",
      "|01-Jan-1954|1456|http://us.imdb.com/M/title-exact?Beat%20the%20Devil%20(1954)                                                                          |[0, 0, 0, 0, 0, 1, 0, 0, 1, 0, 0, 0, 0, 0, 0, 0, 0, 0, 0]|Beat the Devil (1954)                                                            |\n",
      "|11-Oct-1996|1457|http://us.imdb.com/M/title-exact?Love%20Is%20All%20There%20Is%20(1996)                                                                |[0, 0, 0, 0, 0, 1, 0, 0, 1, 0, 0, 0, 0, 0, 0, 0, 0, 0, 0]|Love Is All There Is (1996)                                                      |\n",
      "|01-Jan-1937|1458|http://us.imdb.com/M/title-exact?Damsel%20in%20Distress,%20A%20(1937)                                                                 |[0, 0, 0, 0, 0, 1, 0, 0, 0, 0, 0, 0, 1, 0, 1, 0, 0, 0, 0]|Damsel in Distress, A (1937)                                                     |\n",
      "|20-Sep-1996|1459|http://us.imdb.com/M/title-exact?Madame%20Butterfly%20(1995)                                                                          |[0, 0, 0, 0, 0, 0, 0, 0, 0, 0, 0, 0, 1, 0, 0, 0, 0, 0, 0]|Madame Butterfly (1995)                                                          |\n",
      "|25-Oct-1996|1460|http://us.imdb.com/M/title-exact?Sleepover%20(1995)                                                                                   |[0, 0, 0, 0, 0, 1, 0, 0, 1, 0, 0, 0, 0, 0, 0, 0, 0, 0, 0]|Sleepover (1995)                                                                 |\n",
      "|01-Jan-1935|1461|http://us.imdb.com/M/title-exact?Here%20Comes%20Cookie%20(1935)                                                                       |[0, 0, 0, 0, 0, 1, 0, 0, 0, 0, 0, 0, 0, 0, 0, 0, 0, 0, 0]|Here Comes Cookie (1935)                                                         |\n",
      "|25-Dec-1996|1462|http://us.imdb.com/M/title-exact?Voleurs,%20Les%20(1996)                                                                              |[0, 0, 0, 0, 0, 0, 1, 0, 1, 0, 0, 0, 0, 0, 1, 0, 0, 0, 0]|Thieves (Voleurs, Les) (1996)                                                    |\n",
      "|01-Jan-1997|1463|http://us.imdb.com/M/title-exact?imdb-title-118764                                                                                    |[0, 0, 0, 0, 0, 1, 0, 0, 0, 0, 0, 0, 0, 0, 0, 0, 0, 0, 0]|Boys, Les (1997)                                                                 |\n",
      "|01-Jan-1995|1464|http://us.imdb.com/Title?Stars+Fell+on+Henrietta,+The+(1995)                                                                          |[0, 0, 0, 0, 0, 0, 0, 0, 1, 0, 0, 0, 0, 0, 0, 0, 0, 0, 0]|Stars Fell on Henrietta, The (1995)                                              |\n",
      "|01-Jan-1995|1465|http://us.imdb.com/M/title-exact?Last%20Summer%20in%20the%20Hamptons%20(1995)                                                         |[0, 0, 0, 0, 0, 1, 0, 0, 1, 0, 0, 0, 0, 0, 0, 0, 0, 0, 0]|Last Summer in the Hamptons (1995)                                               |\n",
      "|01-Jan-1995|1466|http://us.imdb.com/M/title-exact?Margaret's%20Museum%20(1995)                                                                         |[0, 0, 0, 0, 0, 0, 0, 0, 1, 0, 0, 0, 0, 0, 0, 0, 0, 0, 0]|Margaret's Museum (1995)                                                         |\n",
      "|01-Jan-1993|1467|http://us.imdb.com/M/title-exact?Saint%20of%20Fort%20Washington,%20The%20(1993)                                                       |[0, 0, 0, 0, 0, 0, 0, 0, 1, 0, 0, 0, 0, 0, 0, 0, 0, 0, 0]|Saint of Fort Washington, The (1993)                                             |\n",
      "|01-Jan-1995|1468|http://us.imdb.com/M/title-exact?Cure,%20The%20(1995)                                                                                 |[0, 0, 0, 0, 0, 0, 0, 0, 1, 0, 0, 0, 0, 0, 0, 0, 0, 0, 0]|Cure, The (1995)                                                                 |\n",
      "|01-Jan-1995|1469|http://us.imdb.com/M/title-exact?Tom%20and%20Huck%20(1995)                                                                            |[0, 0, 1, 0, 1, 0, 0, 0, 0, 0, 0, 0, 0, 0, 0, 0, 0, 0, 0]|Tom and Huck (1995)                                                              |\n",
      "|01-Jan-1995|1470|http://us.imdb.com/M/title-exact?Gumby:%20The%20Movie%20(1995)                                                                        |[0, 0, 0, 1, 1, 0, 0, 0, 0, 0, 0, 0, 0, 0, 0, 0, 0, 0, 0]|Gumby: The Movie (1995)                                                          |\n",
      "|01-Jan-1995|1471|http://us.imdb.com/M/title-exact?Hideaway%20(1995)                                                                                    |[0, 0, 0, 0, 0, 0, 0, 0, 0, 0, 0, 0, 0, 0, 0, 0, 1, 0, 0]|Hideaway (1995)                                                                  |\n",
      "|19-Jul-1996|1472|http://us.imdb.com/M/title-exact?Visiteurs,%20Les%20(1993)                                                                            |[0, 0, 0, 0, 0, 1, 0, 0, 0, 0, 0, 0, 0, 0, 0, 1, 0, 0, 0]|Visitors, The (Visiteurs, Les) (1993)                                            |\n",
      "|01-Jan-1939|1473|http://us.imdb.com/M/title-exact?Little%20Princess,%20The%20(1939)                                                                    |[0, 0, 0, 0, 1, 0, 0, 0, 1, 0, 0, 0, 0, 0, 0, 0, 0, 0, 0]|Little Princess, The (1939)                                                      |\n",
      "|01-Jan-1994|1474|http://us.imdb.com/M/title-exact?Nina%20Takes%20a%20Lover%20(1994)                                                                    |[0, 0, 0, 0, 0, 1, 0, 0, 0, 0, 0, 0, 0, 0, 1, 0, 0, 0, 0]|Nina Takes a Lover (1994)                                                        |\n",
      "|01-Jan-1993|1475|http://us.imdb.com/M/title-exact?Bhaji%20on%20the%20Beach%20(1993)                                                                    |[0, 0, 0, 0, 0, 1, 0, 0, 1, 0, 0, 0, 0, 0, 0, 0, 0, 0, 0]|Bhaji on the Beach (1993)                                                        |\n",
      "|01-Jan-1948|1476|http://us.imdb.com/M/title-exact?Raw%20Deal%20(1948)                                                                                  |[0, 0, 0, 0, 0, 0, 0, 0, 0, 0, 1, 0, 0, 0, 0, 0, 0, 0, 0]|Raw Deal (1948)                                                                  |\n",
      "|22-Apr-1997|1477|http://us.imdb.com/M/title-exact?Nightwatch%20(1997)                                                                                  |[0, 0, 0, 0, 0, 0, 0, 0, 0, 0, 0, 1, 0, 0, 0, 0, 1, 0, 0]|Nightwatch (1997)                                                                |\n",
      "|01-Jan-1995|1478|http://us.imdb.com/M/title-exact?Dead%20Presidents%20(1995)                                                                           |[0, 1, 0, 0, 0, 0, 1, 0, 1, 0, 0, 0, 0, 0, 0, 0, 0, 0, 0]|Dead Presidents (1995)                                                           |\n",
      "|01-Jan-1995|1479|http://us.imdb.com/Title?Reckless+(1995/I)                                                                                            |[0, 0, 0, 0, 0, 1, 0, 0, 0, 0, 0, 0, 0, 0, 0, 0, 0, 0, 0]|Reckless (1995)                                                                  |\n",
      "|01-Jan-1974|1480|http://us.imdb.com/M/title-exact?Herbie%20Rides%20Again%20(1974)                                                                      |[0, 0, 1, 0, 1, 1, 0, 0, 0, 0, 0, 0, 0, 0, 0, 0, 0, 0, 0]|Herbie Rides Again (1974)                                                        |\n",
      "|01-Jan-1994|1481|http://us.imdb.com/M/title-exact?S.F.W.%20(1994)                                                                                      |[0, 0, 0, 0, 0, 0, 0, 0, 1, 0, 0, 0, 0, 0, 0, 0, 0, 0, 0]|S.F.W. (1994)                                                                    |\n",
      "|10-May-1996|1482|http://us.imdb.com/M/title-exact?Gate%20of%20Heavenly%20Peace,%20The%20(1995)                                                         |[0, 0, 0, 0, 0, 0, 0, 1, 0, 0, 0, 0, 0, 0, 0, 0, 0, 0, 0]|Gate of Heavenly Peace, The (1995)                                               |\n",
      "|17-Mar-1998|1483|http://us.imdb.com/Title?Man+in+the+Iron+Mask,+The+(1998/I)                                                                           |[0, 1, 0, 0, 0, 0, 0, 0, 1, 0, 0, 0, 0, 0, 1, 0, 0, 0, 0]|Man in the Iron Mask, The (1998)                                                 |\n",
      "|01-Jan-1994|1484|http://us.imdb.com/M/title-exact?Jerky%20Boys,%20The%20(1994)                                                                         |[0, 1, 0, 0, 0, 1, 0, 0, 0, 0, 0, 0, 0, 0, 0, 0, 0, 0, 0]|Jerky Boys, The (1994)                                                           |\n",
      "|01-Jan-1994|1485|http://us.imdb.com/M/title-exact?Colonel%20Chabert,%20Le%20(1994)                                                                     |[0, 0, 0, 0, 0, 0, 0, 0, 1, 0, 0, 0, 0, 0, 1, 0, 0, 1, 0]|Colonel Chabert, Le (1994)                                                       |\n",
      "|01-Jan-1995|1486|http://us.imdb.com/M/title-exact?Girl%20in%20the%20Cadillac%20(1995)                                                                  |[0, 0, 0, 0, 0, 0, 0, 0, 1, 0, 0, 0, 0, 0, 0, 0, 0, 0, 0]|Girl in the Cadillac (1995)                                                      |\n",
      "|01-Jan-1993|1487|http://us.imdb.com/M/title-exact?Even%20Cowgirls%20Get%20the%20Blues%20(1993)                                                         |[0, 0, 0, 0, 0, 1, 0, 0, 0, 0, 0, 0, 0, 0, 1, 0, 0, 0, 0]|Even Cowgirls Get the Blues (1993)                                               |\n",
      "|01-Jan-1993|1488|http://us.imdb.com/M/title-exact?Germinal%20(1993)                                                                                    |[0, 0, 0, 0, 0, 0, 0, 0, 1, 0, 0, 0, 0, 0, 0, 0, 0, 0, 0]|Germinal (1993)                                                                  |\n",
      "|01-Jan-1994|1489|http://us.imdb.com/M/title-exact?Chasers%20(1994)                                                                                     |[0, 0, 0, 0, 0, 1, 0, 0, 0, 0, 0, 0, 0, 0, 0, 0, 0, 0, 0]|Chasers (1994)                                                                   |\n",
      "|01-Jan-1993|1490|http://us.imdb.com/M/title-exact?Fausto%20%281993%29                                                                                  |[0, 0, 0, 0, 0, 1, 0, 0, 0, 0, 0, 0, 0, 0, 0, 0, 0, 0, 0]|Fausto (1993)                                                                    |\n",
      "|01-Jan-1995|1491|http://us.imdb.com/M/title-exact?Tough%20and%20Deadly%20(1995)                                                                        |[0, 1, 0, 0, 0, 0, 0, 0, 1, 0, 0, 0, 0, 0, 0, 0, 1, 0, 0]|Tough and Deadly (1995)                                                          |\n",
      "|01-Jan-1994|1492|http://us.imdb.com/Title?Okno+v+Parizh+(1994)                                                                                         |[0, 0, 0, 0, 0, 1, 0, 0, 0, 0, 0, 0, 0, 0, 0, 0, 0, 0, 0]|Window to Paris (1994)                                                           |\n",
      "|06-Sep-1996|1493|http://us.imdb.com/M/title-exact?Modern%20Affair,%20A%20(1995)                                                                        |[0, 0, 0, 0, 0, 0, 0, 0, 0, 0, 0, 0, 0, 0, 1, 0, 0, 0, 0]|Modern Affair, A (1995)                                                          |\n",
      "|19-Apr-1996|1494|http://us.imdb.com/M/title-exact?Mostro,%20Il%20(1994)                                                                                |[0, 0, 0, 0, 0, 1, 0, 0, 0, 0, 0, 0, 0, 0, 0, 0, 0, 0, 0]|Mostro, Il (1994)                                                                |\n",
      "|07-Aug-1996|1495|http://us.imdb.com/Title?Flirt+(1995/I)                                                                                               |[0, 0, 0, 0, 0, 0, 0, 0, 1, 0, 0, 0, 0, 0, 0, 0, 0, 0, 0]|Flirt (1995)                                                                     |\n",
      "|23-Aug-1996|1496|http://us.imdb.com/M/title-exact?Carpool%20(1996)                                                                                     |[0, 0, 0, 0, 0, 1, 1, 0, 0, 0, 0, 0, 0, 0, 0, 0, 0, 0, 0]|Carpool (1996)                                                                   |\n",
      "|11-Oct-1996|1497|http://us.imdb.com/M/title-exact?Line%20King,%20The%20(1996)                                                                          |[0, 0, 0, 0, 0, 0, 0, 1, 0, 0, 0, 0, 0, 0, 0, 0, 0, 0, 0]|Line King: Al Hirschfeld, The (1996)                                             |\n",
      "|10-Jan-1997|1498|http://us.imdb.com/M/title-exact?Farmer%20&%20Chase%20(1995)                                                                          |[0, 0, 0, 0, 0, 1, 0, 0, 0, 0, 0, 0, 0, 0, 0, 0, 0, 0, 0]|Farmer & Chase (1995)                                                            |\n",
      "|01-Jan-1994|1499|http://us.imdb.com/M/title-exact?Grosse%20fatigue%20(1994)                                                                            |[0, 0, 0, 0, 0, 1, 0, 0, 0, 0, 0, 0, 0, 0, 0, 0, 0, 0, 0]|Grosse Fatigue (1994)                                                            |\n",
      "|08-Nov-1996|1500|http://us.imdb.com/M/title-exact?Santa%20with%20Muscles%20(1996)                                                                      |[0, 0, 0, 0, 0, 1, 0, 0, 0, 0, 0, 0, 0, 0, 0, 0, 0, 0, 0]|Santa with Muscles (1996)                                                        |\n",
      "|31-Jan-1997|1501|http://us.imdb.com/M/title-exact?Kavkazsky%20Plennik%20(1996)                                                                         |[0, 0, 0, 0, 0, 0, 0, 0, 0, 0, 0, 0, 0, 0, 0, 0, 0, 1, 0]|Prisoner of the Mountains (Kavkazsky Plennik) (1996)                             |\n",
      "|01-Jan-1994|1502|http://us.imdb.com/Title?Naked+in+New+York+(1994)                                                                                     |[0, 0, 0, 0, 0, 1, 0, 0, 0, 0, 0, 0, 0, 0, 1, 0, 0, 0, 0]|Naked in New York (1994)                                                         |\n",
      "|01-Jan-1995|1503|http://us.imdb.com/M/title-exact?Gold%20Diggers:%20The%20Secret%20of%20Bear%20Mountain%20(1995)                                       |[0, 0, 1, 0, 1, 0, 0, 0, 0, 0, 0, 0, 0, 0, 0, 0, 0, 0, 0]|Gold Diggers: The Secret of Bear Mountain (1995)                                 |\n",
      "|12-Jul-1996|1504|http://us.imdb.com/M/title-exact?Bewegte%20Mann%2C%20Der%20%281994%29                                                                 |[0, 0, 0, 0, 0, 1, 0, 0, 0, 0, 0, 0, 0, 0, 0, 0, 0, 0, 0]|Bewegte Mann, Der (1994)                                                         |\n",
      "|06-Sep-1996|1505|http://us.imdb.com/M/title-exact?Killer:%20A%20Journal%20of%20Murder%20(1995)                                                         |[0, 0, 0, 0, 0, 0, 1, 0, 1, 0, 0, 0, 0, 0, 0, 0, 0, 0, 0]|Killer: A Journal of Murder (1995)                                               |\n",
      "|12-Apr-1996|1506|http://us.imdb.com/M/title-exact?Nelly%20%26%20Monsieur%20Arnaud%20%281995%29                                                         |[0, 0, 0, 0, 0, 0, 0, 0, 1, 0, 0, 0, 0, 0, 0, 0, 0, 0, 0]|Nelly & Monsieur Arnaud (1995)                                                   |\n",
      "|11-Oct-1996|1507|http://us.imdb.com/M/title-exact?Trois%20vies%20et%20une%20seule%20mort%20(1996)                                                      |[0, 0, 0, 0, 0, 1, 0, 0, 0, 0, 0, 0, 0, 0, 0, 0, 0, 0, 0]|Three Lives and Only One Death (1996)                                            |\n",
      "|01-Jan-1995|1508|http://us.imdb.com/M/title-exact?Babysitter,%20The%20(1995)                                                                           |[0, 0, 0, 0, 0, 0, 0, 0, 1, 0, 0, 0, 0, 0, 0, 0, 1, 0, 0]|Babysitter, The (1995)                                                           |\n",
      "|01-Jan-1994|1509|http://us.imdb.com/M/title-exact?Getting%20Even%20with%20Dad%20(1994)                                                                 |[0, 0, 0, 0, 0, 1, 0, 0, 0, 0, 0, 0, 0, 0, 0, 0, 0, 0, 0]|Getting Even with Dad (1994)                                                     |\n",
      "|08-Nov-1996|1510|http://us.imdb.com/M/title-exact?Mad%20Dog%20Time%20(1996)                                                                            |[0, 0, 0, 0, 0, 0, 1, 0, 0, 0, 0, 0, 0, 0, 0, 0, 0, 0, 0]|Mad Dog Time (1996)                                                              |\n",
      "|01-May-1997|1511|http://us.imdb.com/M/title-exact?Children%20of%20the%20Revolution%20%281996%29                                                        |[0, 0, 0, 0, 0, 1, 0, 0, 0, 0, 0, 0, 0, 0, 0, 0, 0, 0, 0]|Children of the Revolution (1996)                                                |\n",
      "|05-Apr-1996|1512|http://us.imdb.com/M/title-exact?Apur%20Sansar%20(1959)                                                                               |[0, 0, 0, 0, 0, 0, 0, 0, 1, 0, 0, 0, 0, 0, 0, 0, 0, 0, 0]|World of Apu, The (Apur Sansar) (1959)                                           |\n",
      "|14-May-1997|1513|http://us.imdb.com/M/title-exact?Sprung%20%281997%29                                                                                  |[0, 0, 0, 0, 0, 1, 0, 0, 0, 0, 0, 0, 0, 0, 0, 0, 0, 0, 0]|Sprung (1997)                                                                    |\n",
      "|20-Jun-1997|1514|http://us.imdb.com/M/title-exact?Dream+With+the+Fishes+(1997)                                                                         |[0, 0, 0, 0, 0, 0, 0, 0, 1, 0, 0, 0, 0, 0, 0, 0, 0, 0, 0]|Dream With the Fishes (1997)                                                     |\n",
      "|01-Jan-1995|1515|http://us.imdb.com/M/title-exact?Wings%20of%20Courage%20(1995)                                                                        |[0, 0, 1, 0, 0, 0, 0, 0, 0, 0, 0, 0, 0, 0, 1, 0, 0, 0, 0]|Wings of Courage (1995)                                                          |\n",
      "|01-Jan-1994|1516|http://us.imdb.com/M/title-exact?Wedding%20Gift,%20The%20(1994)%20(TV)                                                                |[0, 0, 0, 0, 0, 0, 0, 0, 1, 0, 0, 0, 0, 0, 0, 0, 0, 0, 0]|Wedding Gift, The (1994)                                                         |\n",
      "|01-Jan-1996|1517|http://us.imdb.com/M/title-exact?Race%20the%20Sun%20(1996)                                                                            |[0, 0, 0, 0, 0, 0, 0, 0, 1, 0, 0, 0, 0, 0, 0, 0, 0, 0, 0]|Race the Sun (1996)                                                              |\n",
      "|01-Jan-1995|1518|http://us.imdb.com/M/title-exact?Losing%20Isaiah%20(1995)                                                                             |[0, 0, 0, 0, 0, 0, 0, 0, 1, 0, 0, 0, 0, 0, 0, 0, 0, 0, 0]|Losing Isaiah (1995)                                                             |\n",
      "|01-Jan-1995|1519|http://us.imdb.com/M/title-exact?New%20Jersey%20Drive%20(1995)                                                                        |[0, 0, 0, 0, 0, 0, 1, 0, 1, 0, 0, 0, 0, 0, 0, 0, 0, 0, 0]|New Jersey Drive (1995)                                                          |\n",
      "|01-Jan-1995|1520|http://us.imdb.com/M/title-exact?Fear,%20The%20(1995)                                                                                 |[0, 0, 0, 0, 0, 0, 0, 0, 0, 0, 0, 1, 0, 0, 0, 0, 0, 0, 0]|Fear, The (1995)                                                                 |\n",
      "|01-Jan-1993|1521|http://us.imdb.com/M/title-exact?Mr.%20Wonderful%20(1993)                                                                             |[0, 0, 0, 0, 0, 1, 0, 0, 0, 0, 0, 0, 0, 0, 1, 0, 0, 0, 0]|Mr. Wonderful (1993)                                                             |\n",
      "|01-Jan-1994|1522|http://us.imdb.com/M/title-exact?Trial%20by%20Jury%20(1994)                                                                           |[0, 0, 0, 0, 0, 0, 0, 0, 0, 0, 0, 0, 0, 0, 0, 0, 1, 0, 0]|Trial by Jury (1994)                                                             |\n",
      "|01-Jan-1994|1523|http://us.imdb.com/M/title-exact?Good%20Man%20in%20Africa,%20A%20(1994)                                                               |[0, 1, 1, 0, 0, 0, 0, 0, 0, 0, 0, 0, 0, 0, 0, 0, 0, 0, 0]|Good Man in Africa, A (1994)                                                     |\n",
      "|07-Jun-1996|1524|http://us.imdb.com/Title?Kaspar+Hauser+(1993)                                                                                         |[0, 0, 0, 0, 0, 0, 0, 0, 1, 0, 0, 0, 0, 0, 0, 0, 0, 0, 0]|Kaspar Hauser (1993)                                                             |\n",
      "|20-Mar-1998|1525|http://us.imdb.com/Title?Object+of+My+Affection,+The+(1998)                                                                           |[0, 0, 0, 0, 0, 1, 0, 0, 0, 0, 0, 0, 0, 0, 1, 0, 0, 0, 0]|Object of My Affection, The (1998)                                               |\n",
      "|01-Jan-1985|1526|http://us.imdb.com/M/title-exact?Witness+(1985)                                                                                       |[0, 0, 0, 0, 0, 0, 0, 0, 1, 0, 0, 0, 0, 0, 1, 0, 1, 0, 0]|Witness (1985)                                                                   |\n",
      "|09-Jan-1998|1527|http://us.imdb.com/M/title-exact?imdb-title-120820                                                                                    |[0, 0, 0, 0, 0, 1, 0, 0, 0, 0, 0, 0, 0, 0, 0, 0, 0, 0, 0]|Senseless (1998)                                                                 |\n",
      "|09-May-1997|1528|http://us.imdb.com/M/title-exact?Nowhere%20%281997%29                                                                                 |[0, 0, 0, 0, 0, 0, 0, 0, 1, 0, 0, 0, 0, 0, 0, 0, 0, 0, 0]|Nowhere (1997)                                                                   |\n",
      "|29-Mar-1996|1529|http://us.imdb.com/M/title-exact?Underground%20(1995)                                                                                 |[0, 0, 0, 0, 0, 0, 0, 0, 0, 0, 0, 0, 0, 0, 0, 0, 0, 1, 0]|Underground (1995)                                                               |\n",
      "|01-Jan-1995|1530|http://us.imdb.com/M/title-exact?Jefferson%20in%20Paris%20(1995)                                                                      |[0, 0, 0, 0, 0, 0, 0, 0, 1, 0, 0, 0, 0, 0, 0, 0, 0, 0, 0]|Jefferson in Paris (1995)                                                        |\n",
      "|01-Jan-1995|1531|http://us.imdb.com/M/title-exact?Far%20From%20Home:%20The%20Adventures%20of%20Yellow%20Dog%20(1995)                                   |[0, 0, 1, 0, 1, 0, 0, 0, 0, 0, 0, 0, 0, 0, 0, 0, 0, 0, 0]|Far From Home: The Adventures of Yellow Dog (1995)                               |\n",
      "|01-Jan-1994|1532|http://us.imdb.com/M/title-exact?Foreign%20Student%20(1994)                                                                           |[0, 0, 0, 0, 0, 0, 0, 0, 1, 0, 0, 0, 0, 0, 0, 0, 0, 0, 0]|Foreign Student (1994)                                                           |\n",
      "|01-Jan-1993|1533|http://us.imdb.com/M/title-exact?De%20Eso%20No%20Se%20Habla%20(1993)                                                                  |[0, 0, 0, 0, 0, 0, 0, 0, 1, 0, 0, 0, 0, 0, 0, 0, 0, 0, 0]|I Don't Want to Talk About It (De eso no se habla) (1993)                        |\n",
      "|30-May-1997|1534|http://us.imdb.com/M/title-exact?Twin%20Town%20%281997%29                                                                             |[0, 0, 0, 0, 0, 1, 1, 0, 0, 0, 0, 0, 0, 0, 0, 0, 0, 0, 0]|Twin Town (1997)                                                                 |\n",
      "|01-Jan-1994|1535|http://us.imdb.com/M/title-exact?Enfer,%20L'%20(1994)                                                                                 |[0, 0, 0, 0, 0, 0, 0, 0, 1, 0, 0, 0, 0, 0, 0, 0, 0, 0, 0]|Enfer, L' (1994)                                                                 |\n",
      "|22-Jul-1996|1536|http://us.imdb.com/M/title-exact?Aiqing%20Wansui%20(1994)                                                                             |[0, 0, 0, 0, 0, 0, 0, 0, 1, 0, 0, 0, 0, 0, 0, 0, 0, 0, 0]|Aiqing wansui (1994)                                                             |\n",
      "|11-Apr-1997|1537|http://us.imdb.com/M/title-exact?Cosi%20(1996)                                                                                        |[0, 0, 0, 0, 0, 1, 0, 0, 0, 0, 0, 0, 0, 0, 0, 0, 0, 0, 0]|Cosi (1996)                                                                      |\n",
      "|25-Apr-1997|1538|http://us.imdb.com/M/title-exact?All%20Over%20Me%20%281997%29                                                                         |[0, 0, 0, 0, 0, 0, 0, 0, 1, 0, 0, 0, 0, 0, 0, 0, 0, 0, 0]|All Over Me (1997)                                                               |\n",
      "|01-Jan-1993|1539|http://us.imdb.com/M/title-exact?Being%20Human%20(1993)                                                                               |[0, 0, 0, 0, 0, 0, 0, 0, 1, 0, 0, 0, 0, 0, 0, 0, 0, 0, 0]|Being Human (1993)                                                               |\n",
      "|01-Jan-1995|1540|http://us.imdb.com/M/title-exact?Amazing%20Panda%20Adventure,%20The%20(1995)                                                          |[0, 0, 1, 0, 1, 0, 0, 0, 0, 0, 0, 0, 0, 0, 0, 0, 0, 0, 0]|Amazing Panda Adventure, The (1995)                                              |\n",
      "|01-Jan-1994|1541|http://us.imdb.com/M/title-exact?Beans%20of%20Egypt,%20Maine,%20The%20(1994)                                                          |[0, 0, 0, 0, 0, 0, 0, 0, 1, 0, 0, 0, 0, 0, 0, 0, 0, 0, 0]|Beans of Egypt, Maine, The (1994)                                                |\n",
      "|01-Jan-1926|1542|http://us.imdb.com/M/title-exact?Scarlet%20Letter,%20The%20(1926)                                                                     |[0, 0, 0, 0, 0, 0, 0, 0, 1, 0, 0, 0, 0, 0, 0, 0, 0, 0, 0]|Scarlet Letter, The (1926)                                                       |\n",
      "|18-Oct-1996|1543|http://us.imdb.com/M/title-exact?Johns%20(1996)                                                                                       |[0, 0, 0, 0, 0, 0, 0, 0, 1, 0, 0, 0, 0, 0, 0, 0, 0, 0, 0]|Johns (1996)                                                                     |\n",
      "|01-Jan-1995|1544|http://us.imdb.com/M/title-exact?It%20Takes%20Two%20(1995)                                                                            |[0, 0, 0, 0, 0, 1, 0, 0, 0, 0, 0, 0, 0, 0, 0, 0, 0, 0, 0]|It Takes Two (1995)                                                              |\n",
      "|01-Jan-1995|1545|http://us.imdb.com/M/title-exact?Frankie%20Starlight%20(1995)                                                                         |[0, 0, 0, 0, 0, 0, 0, 0, 1, 0, 0, 0, 0, 0, 1, 0, 0, 0, 0]|Frankie Starlight (1995)                                                         |\n",
      "|01-Jan-1988|1546|http://us.imdb.com/M/title-exact?Cienie%20(1988)                                                                                      |[0, 0, 0, 0, 0, 0, 0, 0, 1, 0, 0, 0, 0, 0, 0, 0, 0, 0, 0]|Shadows (Cienie) (1988)                                                          |\n",
      "|01-Jan-1995|1547|http://us.imdb.com/M/title-exact?Show,%20The%20(1995)                                                                                 |[0, 0, 0, 0, 0, 0, 0, 1, 0, 0, 0, 0, 0, 0, 0, 0, 0, 0, 0]|Show, The (1995)                                                                 |\n",
      "|01-Jan-1995|1548|http://us.imdb.com/M/title-exact?Courtyard,%20The%20(1995)%20(TV)                                                                     |[0, 1, 0, 0, 0, 0, 0, 0, 0, 0, 0, 0, 0, 0, 0, 0, 1, 0, 0]|The Courtyard (1995)                                                             |\n",
      "|01-Jan-1995|1549|http://us.imdb.com/M/title-exact?Dream%20Man%20(1995)                                                                                 |[0, 0, 0, 0, 0, 0, 0, 0, 0, 0, 0, 0, 0, 0, 0, 0, 1, 0, 0]|Dream Man (1995)                                                                 |\n",
      "|01-Jan-1995|1550|http://us.imdb.com/M/title-exact?Destiny%20Turns%20on%20the%20Radio%20(1995)                                                          |[0, 0, 0, 0, 0, 1, 0, 0, 0, 0, 0, 0, 0, 0, 0, 0, 0, 0, 0]|Destiny Turns on the Radio (1995)                                                |\n",
      "|01-Jan-1994|1551|http://us.imdb.com/M/title-exact?Glass%20Shield,%20The%20(1994)                                                                       |[0, 0, 0, 0, 0, 0, 0, 0, 1, 0, 0, 0, 0, 0, 0, 0, 0, 0, 0]|Glass Shield, The (1994)                                                         |\n",
      "|01-Jan-1995|1552|http://us.imdb.com/M/title-exact?Hunted,%20The%20(1995)                                                                               |[0, 1, 0, 0, 0, 0, 0, 0, 0, 0, 0, 0, 0, 0, 0, 0, 0, 0, 0]|Hunted, The (1995)                                                               |\n",
      "|01-Jan-1995|1553|http://us.imdb.com/M/title-exact?Underneath,%20The%20(1995)                                                                           |[0, 0, 0, 0, 0, 0, 0, 0, 0, 0, 0, 0, 0, 1, 0, 0, 1, 0, 0]|Underneath, The (1995)                                                           |\n",
      "|01-Jan-1994|1554|http://us.imdb.com/M/title-exact?Safe%20Passage%20(1994)                                                                              |[0, 0, 0, 0, 0, 0, 0, 0, 1, 0, 0, 0, 0, 0, 0, 0, 0, 0, 0]|Safe Passage (1994)                                                              |\n",
      "|01-Jan-1993|1555|http://us.imdb.com/M/title-exact?Secret%20Adventures%20of%20Tom%20Thumb,%20The%20(1993)                                               |[0, 0, 1, 0, 1, 0, 0, 0, 0, 0, 0, 0, 0, 0, 0, 0, 0, 0, 0]|Secret Adventures of Tom Thumb, The (1993)                                       |\n",
      "|01-Jan-1995|1556|http://us.imdb.com/M/title-exact?Condition%20Red%20(1995)                                                                             |[0, 1, 0, 0, 0, 0, 0, 0, 1, 0, 0, 0, 0, 0, 0, 0, 1, 0, 0]|Condition Red (1995)                                                             |\n",
      "|16-Feb-1996|1557|http://us.imdb.com/M/title-exact?Yankee%20Zulu%20(1994)                                                                               |[0, 0, 0, 0, 0, 1, 0, 0, 1, 0, 0, 0, 0, 0, 0, 0, 0, 0, 0]|Yankee Zulu (1994)                                                               |\n",
      "|29-Mar-1996|1558|http://us.imdb.com/M/title-exact?Aparajito%20(1956)                                                                                   |[0, 0, 0, 0, 0, 0, 0, 0, 1, 0, 0, 0, 0, 0, 0, 0, 0, 0, 0]|Aparajito (1956)                                                                 |\n",
      "|01-Jan-1994|1559|http://us.imdb.com/M/title-exact?Hostile%20Intentions%20(1994)                                                                        |[0, 1, 0, 0, 0, 0, 0, 0, 1, 0, 0, 0, 0, 0, 0, 0, 1, 0, 0]|Hostile Intentions (1994)                                                        |\n",
      "|01-Jan-1981|1560|http://us.imdb.com/M/title-exact?Coup%20de%20torchon%20(1981)                                                                         |[0, 0, 0, 0, 0, 0, 1, 0, 0, 0, 0, 0, 0, 0, 0, 0, 0, 0, 0]|Clean Slate (Coup de Torchon) (1981)                                             |\n",
      "|01-Jan-1994|1561|http://us.imdb.com/M/title-exact?Tigrero:%20A%20Film%20That%20Was%20Never%20Made%20(1994)                                             |[0, 0, 0, 0, 0, 0, 0, 1, 1, 0, 0, 0, 0, 0, 0, 0, 0, 0, 0]|Tigrero: A Film That Was Never Made (1994)                                       |\n",
      "|01-Jan-1993|1562|http://us.imdb.com/M/title-exact?Oeil%20de%20Vichy,%20L'%20(1993)                                                                     |[0, 0, 0, 0, 0, 0, 0, 1, 0, 0, 0, 0, 0, 0, 0, 0, 0, 0, 0]|Eye of Vichy, The (Oeil de Vichy, L') (1993)                                     |\n",
      "|01-Jan-1994|1563|http://us.imdb.com/M/title-exact?Versprechen,%20Das%20(1994)                                                                          |[0, 0, 0, 0, 0, 0, 0, 0, 0, 0, 0, 0, 0, 0, 1, 0, 0, 0, 0]|Promise, The (Versprechen, Das) (1994)                                           |\n",
      "|01-Jan-1991|1564|http://us.imdb.com/M/title-exact?To%20Cross%20the%20Rubicon%20(1991)                                                                  |[0, 0, 0, 0, 0, 0, 0, 0, 1, 0, 0, 0, 0, 0, 0, 0, 0, 0, 0]|To Cross the Rubicon (1991)                                                      |\n",
      "|01-Jan-1992|1565|http://us.imdb.com/M/title-exact?Daens%20(1992)                                                                                       |[0, 0, 0, 0, 0, 0, 0, 0, 1, 0, 0, 0, 0, 0, 0, 0, 0, 0, 0]|Daens (1992)                                                                     |\n",
      "|01-Jan-1943|1566|http://us.imdb.com/Title?Man+from+Down+Under,+The+(1943)                                                                              |[0, 0, 0, 0, 0, 0, 0, 0, 1, 0, 0, 0, 0, 0, 0, 0, 0, 0, 0]|Man from Down Under, The (1943)                                                  |\n",
      "|01-Jan-1992|1567|http://us.imdb.com/M/title-exact?Careful%20(1992)                                                                                     |[0, 0, 0, 0, 0, 1, 0, 0, 0, 0, 0, 0, 0, 0, 0, 0, 0, 0, 0]|Careful (1992)                                                                   |\n",
      "|01-Jan-1992|1568|http://us.imdb.com/M/title-exact?Vermont%20Is%20For%20Lovers%20(1992)                                                                 |[0, 0, 0, 0, 0, 1, 0, 0, 0, 0, 0, 0, 0, 0, 1, 0, 0, 0, 0]|Vermont Is For Lovers (1992)                                                     |\n",
      "|01-Jan-1987|1569|http://us.imdb.com/M/title-exact?Vie%20est%20belle,%20La%20(1987)                                                                     |[0, 0, 0, 0, 0, 1, 0, 0, 1, 0, 0, 0, 0, 0, 0, 0, 0, 0, 0]|Vie est belle, La (Life is Rosey) (1987)                                         |\n",
      "|01-Jan-1992|1570|http://us.imdb.com/M/title-exact?Quartier%20Mozart%20(1992)                                                                           |[0, 0, 0, 0, 0, 1, 0, 0, 0, 0, 0, 0, 0, 0, 0, 0, 0, 0, 0]|Quartier Mozart (1992)                                                           |\n",
      "|01-Jan-1973|1571|http://us.imdb.com/M/title-exact?Touki%20Bouki%20(1973)                                                                               |[0, 0, 0, 0, 0, 0, 0, 0, 1, 0, 0, 0, 0, 0, 0, 0, 0, 0, 0]|Touki Bouki (Journey of the Hyena) (1973)                                        |\n",
      "|01-Jan-1982|1572|http://us.imdb.com/M/title-exact?Wend%20Kuuni%20(1982)                                                                                |[0, 0, 0, 0, 0, 0, 0, 0, 1, 0, 0, 0, 0, 0, 0, 0, 0, 0, 0]|Wend Kuuni (God's Gift) (1982)                                                   |\n",
      "|01-Jan-1968|1573|http://us.imdb.com/M/title-exact?Tre%20passi%20nel%20delirio%20(1968)                                                                 |[0, 0, 0, 0, 0, 0, 0, 0, 0, 0, 0, 1, 0, 0, 0, 0, 0, 0, 0]|Spirits of the Dead (Tre passi nel delirio) (1968)                               |\n",
      "|01-Jan-1995|1574|http://us.imdb.com/M/title-exact?Pharaoh's%20Army%20(1995)                                                                            |[0, 0, 0, 0, 0, 0, 0, 0, 0, 0, 0, 0, 0, 0, 0, 0, 0, 1, 0]|Pharaoh's Army (1995)                                                            |\n",
      "|01-Jan-1990|1575|http://us.imdb.com/M/title-exact?Yo,%20la%20Peor%20de%20Todas%20(1990)                                                                |[0, 0, 0, 0, 0, 0, 0, 0, 1, 0, 0, 0, 0, 0, 0, 0, 0, 0, 0]|I, Worst of All (Yo, la peor de todas) (1990)                                    |\n",
      "|01-Jan-1987|1576|http://us.imdb.com/M/title-exact?Hol%20volt,%20hol%20nem%20volt%20(1987)                                                              |[0, 0, 0, 0, 0, 0, 0, 0, 0, 1, 0, 0, 0, 0, 0, 0, 0, 0, 0]|Hungarian Fairy Tale, A (1987)                                                   |\n",
      "|01-Jan-1956|1577|http://us.imdb.com/Title?Mort+en+ce+jardin,+La+(1956)                                                                                 |[0, 0, 0, 0, 0, 0, 0, 0, 1, 0, 0, 0, 0, 0, 0, 0, 0, 0, 0]|Death in the Garden (Mort en ce jardin, La) (1956)                               |\n",
      "|01-Jan-1967|1578|http://us.imdb.com/M/title-exact?Collectionneuse,%20La%20(1967)                                                                       |[0, 0, 0, 0, 0, 0, 0, 0, 1, 0, 0, 0, 0, 0, 0, 0, 0, 0, 0]|Collectionneuse, La (1967)                                                       |\n",
      "|01-Jan-1988|1579|http://us.imdb.com/Title?B%E2ton+rouge+(1988)                                                                                         |[0, 0, 0, 0, 0, 0, 0, 0, 0, 0, 0, 0, 0, 0, 0, 0, 1, 0, 0]|Baton Rouge (1988)                                                               |\n",
      "|01-Jan-1933|1580|http://us.imdb.com/M/title-exact?Liebelei%20(1933)                                                                                    |[0, 0, 0, 0, 0, 0, 0, 0, 0, 0, 0, 0, 0, 0, 1, 0, 0, 0, 0]|Liebelei (1933)                                                                  |\n",
      "|01-Jan-1950|1581|http://us.imdb.com/M/title-exact?Woman%20in%20Question,%20The%20(1950)                                                                |[0, 0, 0, 0, 0, 0, 0, 0, 0, 0, 0, 0, 0, 1, 0, 0, 0, 0, 0]|Woman in Question, The (1950)                                                    |\n",
      "|01-Jan-1947|1582|http://us.imdb.com/M/title-exact?T-Men%20(1947)                                                                                       |[0, 0, 0, 0, 0, 0, 0, 0, 0, 0, 1, 0, 0, 0, 0, 0, 0, 0, 0]|T-Men (1947)                                                                     |\n",
      "|01-Jan-1986|1583|http://us.imdb.com/M/title-exact?Zaproszenie%20(1986)                                                                                 |[0, 0, 0, 0, 0, 0, 0, 0, 1, 0, 0, 0, 0, 0, 0, 0, 0, 0, 0]|Invitation, The (Zaproszenie) (1986)                                             |\n",
      "|01-Jan-1946|1584|http://us.imdb.com/M/title-exact?Symphonie%20pastorale,%20La%20(1946)                                                                 |[0, 0, 0, 0, 0, 0, 0, 0, 1, 0, 0, 0, 0, 0, 0, 0, 0, 0, 0]|Symphonie pastorale, La (1946)                                                   |\n",
      "|01-Jan-1990|1585|http://us.imdb.com/M/title-exact?American%20Dream%20(1990)                                                                            |[0, 0, 0, 0, 0, 0, 0, 1, 0, 0, 0, 0, 0, 0, 0, 0, 0, 0, 0]|American Dream (1990)                                                            |\n",
      "|01-Jan-1992|1586|http://us.imdb.com/M/title-exact?Lashou%20Shentan%20(1992)                                                                            |[0, 1, 0, 0, 0, 0, 1, 0, 1, 0, 0, 0, 0, 0, 0, 0, 0, 0, 0]|Lashou shentan (1992)                                                            |\n",
      "|01-Jan-1958|1587|http://us.imdb.com/M/title-exact?Terror%20in%20a%20Texas%20Town%20(1958)                                                              |[0, 0, 0, 0, 0, 0, 0, 0, 0, 0, 0, 0, 0, 0, 0, 0, 0, 0, 1]|Terror in a Texas Town (1958)                                                    |\n",
      "|21-Feb-1997|1588|http://us.imdb.com/M/title-exact?Salut%20cousin!%20(1996)                                                                             |[0, 0, 0, 0, 0, 1, 0, 0, 1, 0, 0, 0, 0, 0, 0, 0, 0, 0, 0]|Salut cousin! (1996)                                                             |\n",
      "|23-May-1997|1589|http://us.imdb.com/Title?Schizopolis+(1996)                                                                                           |[0, 0, 0, 0, 0, 1, 0, 0, 0, 0, 0, 0, 0, 0, 0, 0, 0, 0, 0]|Schizopolis (1996)                                                               |\n",
      "|06-Jun-1997|1590|http://us.imdb.com/M/title-exact?En%20avoir%20%28ou%20pas%29%20%281995%29                                                             |[0, 0, 0, 0, 0, 0, 0, 0, 1, 0, 0, 0, 0, 0, 0, 0, 0, 0, 0]|To Have, or Not (1995)                                                           |\n",
      "|21-Jan-1998|1591|http://us.imdb.com/M/title-exact?imdb-title-112913                                                                                    |[0, 0, 0, 0, 0, 0, 0, 0, 1, 0, 0, 0, 0, 0, 0, 0, 0, 0, 0]|Duoluo tianshi (1995)                                                            |\n",
      "|30-Jan-1998|1592|http://us.imdb.com/M/title-exact?imdb-title-119594                                                                                    |[0, 0, 0, 0, 0, 0, 0, 0, 1, 0, 0, 0, 0, 0, 0, 0, 0, 0, 0]|Magic Hour, The (1998)                                                           |\n",
      "|16-Aug-1996|1593|http://us.imdb.com/M/title-exact?Death%20in%20Brunswick%20(1991)                                                                      |[0, 0, 0, 0, 0, 1, 0, 0, 0, 0, 0, 0, 0, 0, 0, 0, 0, 0, 0]|Death in Brunswick (1991)                                                        |\n",
      "|10-Mar-1998|1594|http://us.imdb.com/Title?Everest+(1998)                                                                                               |[0, 0, 0, 0, 0, 0, 0, 1, 0, 0, 0, 0, 0, 0, 0, 0, 0, 0, 0]|Everest (1998)                                                                   |\n",
      "|09-Feb-1996|1595|http://us.imdb.com/M/title-exact?Shopping%20(1994)                                                                                    |[0, 1, 0, 0, 0, 0, 0, 0, 0, 0, 0, 0, 0, 0, 0, 0, 1, 0, 0]|Shopping (1994)                                                                  |\n",
      "|01-Jan-1995|1596|http://us.imdb.com/M/title-exact?Nemesis%202:%20Nebula%20(1995)                                                                       |[0, 1, 0, 0, 0, 0, 0, 0, 0, 0, 0, 0, 0, 0, 0, 1, 1, 0, 0]|Nemesis 2: Nebula (1995)                                                         |\n",
      "|01-Jan-1992|1597|http://us.imdb.com/M/title-exact?Romper%20Stomper%20(1992)                                                                            |[0, 1, 0, 0, 0, 0, 0, 0, 1, 0, 0, 0, 0, 0, 0, 0, 0, 0, 0]|Romper Stomper (1992)                                                            |\n",
      "|14-Mar-1997|1598|http://us.imdb.com/M/title-exact?City%20of%20Industry%20(1997)                                                                        |[0, 0, 0, 0, 0, 0, 1, 0, 0, 0, 0, 0, 0, 0, 0, 0, 1, 0, 0]|City of Industry (1997)                                                          |\n",
      "|10-May-1996|1599|http://us.imdb.com/M/title-exact?Someone%20Else's%20America%20(1995)                                                                  |[0, 0, 0, 0, 0, 0, 0, 0, 1, 0, 0, 0, 0, 0, 0, 0, 0, 0, 0]|Someone Else's America (1995)                                                    |\n",
      "|16-May-1997|1600|http://us.imdb.com/M/title-exact?Guantanamera%20(1994)                                                                                |[0, 0, 0, 0, 0, 1, 0, 0, 0, 0, 0, 0, 0, 0, 0, 0, 0, 0, 0]|Guantanamera (1994)                                                              |\n",
      "|01-Jan-1997|1601|http://us.imdb.com/M/title-exact?imdb-title-119819                                                                                    |[0, 0, 0, 0, 0, 0, 0, 0, 0, 0, 0, 0, 0, 0, 0, 0, 1, 0, 0]|Office Killer (1997)                                                             |\n",
      "|20-Mar-1998|1602|http://us.imdb.com/Title?Price+Above+Rubies,+A+(1998)                                                                                 |[0, 0, 0, 0, 0, 0, 0, 0, 1, 0, 0, 0, 0, 0, 0, 0, 0, 0, 0]|Price Above Rubies, A (1998)                                                     |\n",
      "|16-Feb-1996|1603|http://us.imdb.com/M/title-exact?Angela%20(1995)                                                                                      |[0, 0, 0, 0, 0, 0, 0, 0, 1, 0, 0, 0, 0, 0, 0, 0, 0, 0, 0]|Angela (1995)                                                                    |\n",
      "|01-Jan-1948|1604|http://us.imdb.com/M/title-exact?He%20Walked%20by%20Night%20(1948)                                                                    |[0, 0, 0, 0, 0, 0, 1, 0, 0, 0, 1, 0, 0, 0, 0, 0, 1, 0, 0]|He Walked by Night (1948)                                                        |\n",
      "|11-Jul-1997|1605|http://us.imdb.com/M/title-exact?Love+Serenade+(1996)                                                                                 |[0, 0, 0, 0, 0, 1, 0, 0, 0, 0, 0, 0, 0, 0, 0, 0, 0, 0, 0]|Love Serenade (1996)                                                             |\n",
      "|01-Jan-1997|1606|http://us.imdb.com/M/title-exact?Liar+(1997)                                                                                          |[0, 0, 0, 0, 0, 0, 1, 0, 0, 0, 0, 0, 0, 0, 0, 0, 0, 0, 0]|Deceiver (1997)                                                                  |\n",
      "|01-Jan-1998|1607|http://us.imdb.com/Title?Hurricane+Streets+(1998)                                                                                     |[0, 0, 0, 0, 0, 0, 0, 0, 1, 0, 0, 0, 0, 0, 0, 0, 0, 0, 0]|Hurricane Streets (1998)                                                         |\n",
      "|06-Jun-1997|1608|http://us.imdb.com/M/title-exact?Buddy%20%281997%29                                                                                   |[0, 0, 1, 0, 1, 0, 0, 0, 1, 0, 0, 0, 0, 0, 0, 0, 0, 0, 0]|Buddy (1997)                                                                     |\n",
      "|28-Mar-1997|1609|http://us.imdb.com/M/title-exact?B%2EA%2EP%2ES%2E%20(1997)                                                                            |[0, 0, 0, 0, 0, 1, 0, 0, 0, 0, 0, 0, 0, 0, 0, 0, 0, 0, 0]|B*A*P*S (1997)                                                                   |\n",
      "|02-May-1997|1610|http://us.imdb.com/Title?Truth+or+Consequences,+N.M.+(1997)                                                                           |[0, 1, 0, 0, 0, 0, 1, 0, 0, 0, 0, 0, 0, 0, 1, 0, 0, 0, 0]|Truth or Consequences, N.M. (1997)                                               |\n",
      "|09-May-1997|1611|http://us.imdb.com/M/title-exact?Intimate%20Relations%20%281996%29                                                                    |[0, 0, 0, 0, 0, 1, 0, 0, 0, 0, 0, 0, 0, 0, 0, 0, 0, 0, 0]|Intimate Relations (1996)                                                        |\n",
      "|16-Jan-1998|1612|http://us.imdb.com/M/title-exact?imdb-title-116845                                                                                    |[0, 0, 0, 0, 0, 0, 0, 0, 0, 0, 0, 0, 0, 0, 1, 0, 0, 0, 0]|Leading Man, The (1996)                                                          |\n",
      "|11-Feb-1998|1613|http://us.imdb.com/M/title-exact?Tokyo+Fist+(1995)                                                                                    |[0, 1, 0, 0, 0, 0, 0, 0, 1, 0, 0, 0, 0, 0, 0, 0, 0, 0, 0]|Tokyo Fist (1995)                                                                |\n",
      "|01-Jan-1958|1614|http://us.imdb.com/M/title-exact?Reluctant%20Debutante,%20The%20(1958)                                                                |[0, 0, 0, 0, 0, 1, 0, 0, 1, 0, 0, 0, 0, 0, 0, 0, 0, 0, 0]|Reluctant Debutante, The (1958)                                                  |\n",
      "|02-May-1997|1615|http://us.imdb.com/M/title-exact?Warriors%20of%20Virtue%20%281997%29                                                                  |[0, 1, 1, 0, 1, 0, 0, 0, 0, 1, 0, 0, 0, 0, 0, 0, 0, 0, 0]|Warriors of Virtue (1997)                                                        |\n",
      "|01-Jan-1995|1616|http://us.imdb.com/M/title-exact?Desert%20Winds%20(1995)                                                                              |[0, 0, 0, 0, 0, 0, 0, 0, 1, 0, 0, 0, 0, 0, 0, 0, 0, 0, 0]|Desert Winds (1995)                                                              |\n",
      "|01-Jan-1997|1617|http://us.imdb.com/M/title-exact?Hugo+Pool+(1997)                                                                                     |[0, 0, 0, 0, 0, 0, 0, 0, 0, 0, 0, 0, 0, 0, 1, 0, 0, 0, 0]|Hugo Pool (1997)                                                                 |\n",
      "|01-Jan-1990|1618|http://us.imdb.com/Title?King+of+New+York+(1990)                                                                                      |[0, 1, 0, 0, 0, 0, 1, 0, 0, 0, 0, 0, 0, 0, 0, 0, 0, 0, 0]|King of New York (1990)                                                          |\n",
      "|08-Mar-1996|1619|http://us.imdb.com/Title?Lust+och+f%E4gring+stor+(1995)                                                                               |[0, 0, 0, 0, 0, 0, 0, 0, 1, 0, 0, 0, 0, 0, 0, 0, 0, 0, 0]|All Things Fair (1996)                                                           |\n",
      "|28-Mar-1997|1620|http://us.imdb.com/M/title-exact?Sixth%20Man%2C%20The%20(1997)                                                                        |[0, 0, 0, 0, 0, 1, 0, 0, 0, 0, 0, 0, 0, 0, 0, 0, 0, 0, 0]|Sixth Man, The (1997)                                                            |\n",
      "|26-Apr-1996|1621|http://us.imdb.com/M/title-exact?Butterfly%20Kiss%20(1995)                                                                            |[0, 0, 0, 0, 0, 0, 0, 0, 0, 0, 0, 0, 0, 0, 0, 0, 1, 0, 0]|Butterfly Kiss (1995)                                                            |\n",
      "|01-Jan-1993|1622|http://us.imdb.com/M/title-exact?Paris,%20France%20(1993)                                                                             |[0, 0, 0, 0, 0, 1, 0, 0, 0, 0, 0, 0, 0, 0, 0, 0, 0, 0, 0]|Paris, France (1993)                                                             |\n",
      "|20-Dec-1996|1623|http://us.imdb.com/M/title-exact?C%E9r%E9monie%2C%20La%20%281995%29                                                                   |[0, 0, 0, 0, 0, 0, 0, 0, 1, 0, 0, 0, 0, 0, 0, 0, 0, 0, 0]|C�r�monie, La (1995)                                                             |\n",
      "|10-Mar-1998|1624|http://us.imdb.com/Title?Hush+(1998)                                                                                                  |[0, 0, 0, 0, 0, 0, 0, 0, 0, 0, 0, 0, 0, 0, 0, 0, 1, 0, 0]|Hush (1998)                                                                      |\n",
      "|22-Apr-1997|1625|http://us.imdb.com/M/title-exact?Nightwatch%20(1997)                                                                                  |[0, 0, 0, 0, 0, 0, 0, 0, 0, 0, 0, 1, 0, 0, 0, 0, 1, 0, 0]|Nightwatch (1997)                                                                |\n",
      "|09-Feb-1996|1626|http://us.imdb.com/M/title-exact?Keiner%20liebt%20mich%20(1994)                                                                       |[0, 0, 0, 0, 0, 1, 0, 0, 1, 0, 0, 0, 0, 0, 0, 0, 0, 0, 0]|Nobody Loves Me (Keiner liebt mich) (1994)                                       |\n",
      "|26-Jul-1996|1627|http://us.imdb.com/Title?Wife,+The+(1995)                                                                                             |[0, 0, 0, 0, 0, 1, 0, 0, 1, 0, 0, 0, 0, 0, 0, 0, 0, 0, 0]|Wife, The (1995)                                                                 |\n",
      "|01-Jan-1994|1628|http://us.imdb.com/M/title-exact?Lamerica%20(1994)                                                                                    |[0, 0, 0, 0, 0, 0, 0, 0, 1, 0, 0, 0, 0, 0, 0, 0, 0, 0, 0]|Lamerica (1994)                                                                  |\n",
      "|01-Jan-1995|1629|http://us.imdb.com/M/title-exact?Nico%20Icon%20(1995)                                                                                 |[0, 0, 0, 0, 0, 0, 0, 1, 0, 0, 0, 0, 0, 0, 0, 0, 0, 0, 0]|Nico Icon (1995)                                                                 |\n",
      "|02-Feb-1996|1630|http://us.imdb.com/M/title-exact?Saimt%20el%20Qusur%20(1994)                                                                          |[0, 0, 0, 0, 0, 0, 0, 0, 1, 0, 0, 0, 0, 0, 0, 0, 0, 0, 0]|Silence of the Palace, The (Saimt el Qusur) (1994)                               |\n",
      "|01-Jan-1993|1631|http://us.imdb.com/Title?K%E5disbellan+(1993)                                                                                         |[0, 0, 0, 0, 0, 1, 0, 0, 1, 0, 0, 0, 0, 0, 0, 0, 0, 0, 0]|Slingshot, The (1993)                                                            |\n",
      "|29-Mar-1996|1632|http://us.imdb.com/M/title-exact?Tierra%20y%20libertad%20(1995)                                                                       |[0, 0, 0, 0, 0, 0, 0, 0, 0, 0, 0, 0, 0, 0, 0, 0, 0, 1, 0]|Land and Freedom (Tierra y libertad) (1995)                                      |\n",
      "|08-Mar-1996|1633|http://us.imdb.com/Title?%C1+k%F6ldum+klaka+(1994)                                                                                    |[0, 0, 0, 0, 0, 1, 0, 0, 1, 0, 0, 0, 0, 0, 0, 0, 0, 0, 0]|� k�ldum klaka (Cold Fever) (1994)                                               |\n",
      "|19-Apr-1996|1634|http://us.imdb.com/M/title-exact?Etz%20Hadomim%20Tafus%20(1994)                                                                       |[0, 0, 0, 0, 0, 0, 0, 0, 1, 0, 0, 0, 0, 0, 0, 0, 0, 0, 0]|Etz Hadomim Tafus (Under the Domin Tree) (1994)                                  |\n",
      "|26-Apr-1986|1635|http://us.imdb.com/M/title-exact?Two%20Friends%20(1986)%20(TV)                                                                        |[0, 0, 0, 0, 0, 0, 0, 0, 1, 0, 0, 0, 0, 0, 0, 0, 0, 0, 0]|Two Friends (1986)                                                               |\n",
      "|26-Apr-1996|1636|http://us.imdb.com/M/title-exact?Brothers%20in%20Trouble%20(1995)                                                                     |[0, 0, 0, 0, 0, 0, 0, 0, 1, 0, 0, 0, 0, 0, 0, 0, 0, 0, 0]|Brothers in Trouble (1995)                                                       |\n",
      "|23-Aug-1996|1637|http://us.imdb.com/M/title-exact?Girls%20Town%20(1996)                                                                                |[0, 0, 0, 0, 0, 0, 0, 0, 1, 0, 0, 0, 0, 0, 0, 0, 0, 0, 0]|Girls Town (1996)                                                                |\n",
      "|25-Oct-1996|1638|http://us.imdb.com/M/title-exact?Normal%20Life%20(1996)                                                                               |[0, 0, 0, 0, 0, 0, 1, 0, 1, 0, 0, 0, 0, 0, 0, 0, 0, 0, 0]|Normal Life (1996)                                                               |\n",
      "|22-Nov-1996|1639|http://us.imdb.com/M/title-exact?Bitter%20Sugar%20(1996)                                                                              |[0, 0, 0, 0, 0, 0, 0, 0, 1, 0, 0, 0, 0, 0, 0, 0, 0, 0, 0]|Bitter Sugar (Azucar Amargo) (1996)                                              |\n",
      "|01-Nov-1996|1640|http://us.imdb.com/Title?Huiti%E8me+jour,+Le+(1996)                                                                                   |[0, 0, 0, 0, 0, 0, 0, 0, 1, 0, 0, 0, 0, 0, 0, 0, 0, 0, 0]|Eighth Day, The (1996)                                                           |\n",
      "|18-Sep-1996|1641|http://us.imdb.com/M/title-exact?Dadetown%20(1995)                                                                                    |[0, 0, 0, 0, 0, 0, 0, 1, 0, 0, 0, 0, 0, 0, 0, 0, 0, 0, 0]|Dadetown (1995)                                                                  |\n",
      "|27-Dec-1996|1642|http://us.imdb.com/M/title-exact?Some%20Mother's%20Son%20(1996)                                                                       |[0, 0, 0, 0, 0, 0, 0, 0, 1, 0, 0, 0, 0, 0, 0, 0, 0, 0, 0]|Some Mother's Son (1996)                                                         |\n",
      "|10-Jan-1997|1643|http://us.imdb.com/Title?Angel+Baby+(1995/I)                                                                                          |[0, 0, 0, 0, 0, 0, 0, 0, 1, 0, 0, 0, 0, 0, 0, 0, 0, 0, 0]|Angel Baby (1995)                                                                |\n",
      "|13-Jun-1997|1644|http://us.imdb.com/M/title-exact?Sudden%20Manhattan%20%281996%29                                                                      |[0, 0, 0, 0, 0, 1, 0, 0, 0, 0, 0, 0, 0, 0, 0, 0, 0, 0, 0]|Sudden Manhattan (1996)                                                          |\n",
      "|01-Jan-1998|1645|http://us.imdb.com/M/title-exact?imdb-title-118804                                                                                    |[0, 0, 0, 0, 0, 0, 0, 0, 1, 0, 0, 0, 0, 0, 0, 0, 0, 0, 0]|Butcher Boy, The (1998)                                                          |\n",
      "|06-Mar-1998|1646|http://us.imdb.com/Title?Men+with+Guns+(1997/I)                                                                                       |[0, 1, 0, 0, 0, 0, 0, 0, 1, 0, 0, 0, 0, 0, 0, 0, 0, 0, 0]|Men With Guns (1997)                                                             |\n",
      "|20-Mar-1998|1647|http://us.imdb.com/Title?Hana-bi+(1997)                                                                                               |[0, 0, 0, 0, 0, 1, 1, 0, 1, 0, 0, 0, 0, 0, 0, 0, 0, 0, 0]|Hana-bi (1997)                                                                   |\n",
      "|20-Mar-1998|1648|http://us.imdb.com/Title?Niagara,+Niagara+(1997)                                                                                      |[0, 0, 0, 0, 0, 0, 0, 0, 1, 0, 0, 0, 0, 0, 0, 0, 0, 0, 0]|Niagara, Niagara (1997)                                                          |\n",
      "|27-Mar-1998|1649|http://us.imdb.com/Title?Big+One,+The+(1997)                                                                                          |[0, 0, 0, 0, 0, 1, 0, 1, 0, 0, 0, 0, 0, 0, 0, 0, 0, 0, 0]|Big One, The (1997)                                                              |\n",
      "|01-Jan-1998|1650|http://us.imdb.com/M/title-exact?imdb-title-118804                                                                                    |[0, 0, 0, 0, 0, 0, 0, 0, 1, 0, 0, 0, 0, 0, 0, 0, 0, 0, 0]|Butcher Boy, The (1998)                                                          |\n",
      "|27-Mar-1998|1651|http://us.imdb.com/Title?Spanish+Prisoner,+The+(1997)                                                                                 |[0, 0, 0, 0, 0, 0, 0, 0, 1, 0, 0, 0, 0, 0, 0, 0, 1, 0, 0]|Spanish Prisoner, The (1997)                                                     |\n",
      "|13-Jun-1997|1652|http://us.imdb.com/M/title-exact?Feng%20Yue%20%281996%29                                                                              |[0, 0, 0, 0, 0, 0, 0, 0, 0, 0, 0, 0, 0, 0, 1, 0, 0, 0, 0]|Temptress Moon (Feng Yue) (1996)                                                 |\n",
      "|27-Sep-1996|1653|http://us.imdb.com/M/title-exact?Entertaining%20Angels:%20The%20Dorothy%20Day%20Story%20(1996)                                        |[0, 0, 0, 0, 0, 0, 0, 0, 1, 0, 0, 0, 0, 0, 0, 0, 0, 0, 0]|Entertaining Angels: The Dorothy Day Story (1996)                                |\n",
      "|01-Jan-1998|1654|http://us.imdb.com/Title?Chairman+of+the+Board+(1998)                                                                                 |[0, 0, 0, 0, 0, 1, 0, 0, 0, 0, 0, 0, 0, 0, 0, 0, 0, 0, 0]|Chairman of the Board (1998)                                                     |\n",
      "|01-Jan-1994|1655|http://us.imdb.com/M/title-exact?Favor,%20The%20(1994)                                                                                |[0, 0, 0, 0, 0, 1, 0, 0, 0, 0, 0, 0, 0, 0, 1, 0, 0, 0, 0]|Favor, The (1994)                                                                |\n",
      "|20-Feb-1998|1656|http://us.imdb.com/M/title-exact?Little+City+(1998)                                                                                   |[0, 0, 0, 0, 0, 1, 0, 0, 0, 0, 0, 0, 0, 0, 1, 0, 0, 0, 0]|Little City (1998)                                                               |\n",
      "|28-Feb-1996|1657|http://us.imdb.com/M/title-exact?Target%20(1995)                                                                                      |[0, 1, 0, 0, 0, 0, 0, 0, 1, 0, 0, 0, 0, 0, 0, 0, 0, 0, 0]|Target (1995)                                                                    |\n",
      "|06-Dec-1996|1658|http://us.imdb.com/M/title-exact?Substance%20of%20Fire,%20The%20(1996)                                                                |[0, 0, 0, 0, 0, 0, 0, 0, 1, 0, 0, 0, 0, 0, 0, 0, 0, 0, 0]|Substance of Fire, The (1996)                                                    |\n",
      "|12-Apr-1996|1659|http://us.imdb.com/Title?Getting+Away+With+Murder+(1996)                                                                              |[0, 0, 0, 0, 0, 1, 0, 0, 0, 0, 0, 0, 0, 0, 0, 0, 0, 0, 0]|Getting Away With Murder (1996)                                                  |\n",
      "|09-Aug-1996|1660|http://us.imdb.com/M/title-exact?Small%20Faces%20(1995)                                                                               |[0, 0, 0, 0, 0, 0, 0, 0, 1, 0, 0, 0, 0, 0, 0, 0, 0, 0, 0]|Small Faces (1995)                                                               |\n",
      "|01-Jan-1994|1661|http://us.imdb.com/M/title-exact?New%20Age,%20The%20(1994)                                                                            |[0, 0, 0, 0, 0, 0, 0, 0, 1, 0, 0, 0, 0, 0, 0, 0, 0, 0, 0]|New Age, The (1994)                                                              |\n",
      "|30-May-1997|1662|http://us.imdb.com/M/title-exact?Rough%20Magic%20%281995%29                                                                           |[0, 0, 0, 0, 0, 0, 0, 0, 1, 0, 0, 0, 0, 0, 1, 0, 0, 0, 0]|Rough Magic (1995)                                                               |\n",
      "|30-Apr-1997|1663|http://us.imdb.com/M/title-exact?Nothing%20Personal%20(1995)                                                                          |[0, 0, 0, 0, 0, 0, 0, 0, 1, 0, 0, 0, 0, 0, 0, 0, 0, 1, 0]|Nothing Personal (1995)                                                          |\n",
      "|18-Apr-1997|1664|http://us.imdb.com/Title?8+Heads+in+a+Duffel+Bag+(1997)                                                                               |[0, 0, 0, 0, 0, 1, 0, 0, 0, 0, 0, 0, 0, 0, 0, 0, 0, 0, 0]|8 Heads in a Duffel Bag (1997)                                                   |\n",
      "|25-Apr-1997|1665|http://us.imdb.com/M/title-exact?Brother%27s%20Kiss%2C%20A%20%281997%29                                                               |[0, 0, 0, 0, 0, 0, 0, 0, 1, 0, 0, 0, 0, 0, 0, 0, 0, 0, 0]|Brother's Kiss, A (1997)                                                         |\n",
      "|02-May-1997|1666|http://us.imdb.com/M/title-exact?Ripe%20%281996%29                                                                                    |[0, 0, 0, 0, 0, 0, 0, 0, 1, 0, 0, 0, 0, 0, 0, 0, 0, 0, 0]|Ripe (1996)                                                                      |\n",
      "|13-Jun-1997|1667|http://us.imdb.com/M/title-exact?Next%20Step%2C%20The%20%281995%29                                                                    |[0, 0, 0, 0, 0, 0, 0, 0, 1, 0, 0, 0, 0, 0, 0, 0, 0, 0, 0]|Next Step, The (1995)                                                            |\n",
      "|13-Jun-1997|1668|http://us.imdb.com/M/title-exact?Wedding%20Bell%20Blues%20%281996%29                                                                  |[0, 0, 0, 0, 0, 1, 0, 0, 0, 0, 0, 0, 0, 0, 0, 0, 0, 0, 0]|Wedding Bell Blues (1996)                                                        |\n",
      "|20-Jun-1997|1669|http://us.imdb.com/M/title-exact?MURDER+and+murder+(1996)                                                                             |[0, 0, 0, 0, 0, 0, 1, 0, 1, 0, 0, 0, 0, 1, 0, 0, 0, 0, 0]|MURDER and murder (1996)                                                         |\n",
      "|01-Feb-1998|1670|http://us.imdb.com/M/title-exact?Tainted+(1998)                                                                                       |[0, 0, 0, 0, 0, 1, 0, 0, 0, 0, 0, 0, 0, 0, 0, 0, 1, 0, 0]|Tainted (1998)                                                                   |\n",
      "|20-Feb-1998|1671|http://us.imdb.com/M/title-exact?Further+Gesture%2C+A+(1996)                                                                          |[0, 0, 0, 0, 0, 0, 0, 0, 1, 0, 0, 0, 0, 0, 0, 0, 0, 0, 0]|Further Gesture, A (1996)                                                        |\n",
      "|01-Jan-1993|1672|http://us.imdb.com/M/title-exact?Kika%20(1993)                                                                                        |[0, 0, 0, 0, 0, 0, 0, 0, 1, 0, 0, 0, 0, 0, 0, 0, 0, 0, 0]|Kika (1993)                                                                      |\n",
      "|01-Jan-1995|1673|http://us.imdb.com/M/title-exact?Mirage%20(1995)                                                                                      |[0, 1, 0, 0, 0, 0, 0, 0, 0, 0, 0, 0, 0, 0, 0, 0, 1, 0, 0]|Mirage (1995)                                                                    |\n",
      "|01-Jan-1962|1674|http://us.imdb.com/M/title-exact?Mamma%20Roma%20(1962)                                                                                |[0, 0, 0, 0, 0, 0, 0, 0, 1, 0, 0, 0, 0, 0, 0, 0, 0, 0, 0]|Mamma Roma (1962)                                                                |\n",
      "|25-Oct-1996|1675|http://us.imdb.com/M/title-exact?Sunchaser,%20The%20(1996)                                                                            |[0, 0, 0, 0, 0, 0, 0, 0, 1, 0, 0, 0, 0, 0, 0, 0, 0, 0, 0]|Sunchaser, The (1996)                                                            |\n",
      "|01-Jan-1996|1676|http://us.imdb.com/M/title-exact?War%20at%20Home%2C%20The%20%281996%29                                                                |[0, 0, 0, 0, 0, 0, 0, 0, 1, 0, 0, 0, 0, 0, 0, 0, 0, 0, 0]|War at Home, The (1996)                                                          |\n",
      "|20-Sep-1996|1677|http://us.imdb.com/M/title-exact?Sweet%20Nothing%20(1995)                                                                             |[0, 0, 0, 0, 0, 0, 0, 0, 1, 0, 0, 0, 0, 0, 0, 0, 0, 0, 0]|Sweet Nothing (1995)                                                             |\n",
      "|06-Feb-1998|1678|http://us.imdb.com/M/title-exact?Mat%27+i+syn+(1997)                                                                                  |[0, 0, 0, 0, 0, 0, 0, 0, 1, 0, 0, 0, 0, 0, 0, 0, 0, 0, 0]|Mat' i syn (1997)                                                                |\n",
      "|06-Feb-1998|1679|http://us.imdb.com/M/title-exact?B%2E+Monkey+(1998)                                                                                   |[0, 0, 0, 0, 0, 0, 0, 0, 0, 0, 0, 0, 0, 0, 1, 0, 1, 0, 0]|B. Monkey (1998)                                                                 |\n",
      "|01-Jan-1998|1680|http://us.imdb.com/Title?Sliding+Doors+(1998)                                                                                         |[0, 0, 0, 0, 0, 0, 0, 0, 1, 0, 0, 0, 0, 0, 1, 0, 0, 0, 0]|Sliding Doors (1998)                                                             |\n",
      "|01-Jan-1994|1681|http://us.imdb.com/M/title-exact?You%20So%20Crazy%20(1994)                                                                            |[0, 0, 0, 0, 0, 1, 0, 0, 0, 0, 0, 0, 0, 0, 0, 0, 0, 0, 0]|You So Crazy (1994)                                                              |\n",
      "|08-Mar-1996|1682|http://us.imdb.com/M/title-exact?Schrei%20aus%20Stein%20(1991)                                                                        |[0, 0, 0, 0, 0, 0, 0, 0, 1, 0, 0, 0, 0, 0, 0, 0, 0, 0, 0]|Scream of Stone (Schrei aus Stein) (1991)                                        |\n",
      "+-----------+----+--------------------------------------------------------------------------------------------------------------------------------------+---------------------------------------------------------+---------------------------------------------------------------------------------+\n",
      "\n"
     ]
    }
   ],
   "source": [
    "df1.show(df1.count(),truncate=False) # show all with help of count"
   ]
  },
  {
   "cell_type": "code",
   "execution_count": 27,
   "id": "589ce145",
   "metadata": {},
   "outputs": [
    {
     "name": "stdout",
     "output_type": "stream",
     "text": [
      "[Row(date='01-Jan-1995', id=1, link='http://us.imdb.com/M/title-exact?Toy%20Story%20(1995)', rating=[0, 0, 0, 1, 1, 1, 0, 0, 0, 0, 0, 0, 0, 0, 0, 0, 0, 0, 0], title='Toy Story (1995)'), Row(date='01-Jan-1995', id=2, link='http://us.imdb.com/M/title-exact?GoldenEye%20(1995)', rating=[0, 1, 1, 0, 0, 0, 0, 0, 0, 0, 0, 0, 0, 0, 0, 0, 1, 0, 0], title='GoldenEye (1995)')]\n",
      "\n",
      "Row(date='01-Jan-1995', id=1, link='http://us.imdb.com/M/title-exact?Toy%20Story%20(1995)', rating=[0, 0, 0, 1, 1, 1, 0, 0, 0, 0, 0, 0, 0, 0, 0, 0, 0, 0, 0], title='Toy Story (1995)')\n"
     ]
    }
   ],
   "source": [
    "print(df1.head(2),end=\"\\n\\n\") # Return first n rows\n",
    "print(df1.head()) # Return first row"
   ]
  },
  {
   "cell_type": "code",
   "execution_count": 63,
   "id": "09be9609",
   "metadata": {},
   "outputs": [
    {
     "data": {
      "text/plain": [
       "Row(date='01-Jan-1995', id=1, link='http://us.imdb.com/M/title-exact?Toy%20Story%20(1995)', rating=[0, 0, 0, 1, 1, 1, 0, 0, 0, 0, 0, 0, 0, 0, 0, 0, 0, 0, 0], title='Toy Story (1995)')"
      ]
     },
     "execution_count": 63,
     "metadata": {},
     "output_type": "execute_result"
    }
   ],
   "source": [
    "df1.first() # Return first row"
   ]
  },
  {
   "cell_type": "code",
   "execution_count": 64,
   "id": "2fffedfd",
   "metadata": {},
   "outputs": [
    {
     "data": {
      "text/plain": [
       "[Row(date='01-Jan-1995', id=1, link='http://us.imdb.com/M/title-exact?Toy%20Story%20(1995)', rating=[0, 0, 0, 1, 1, 1, 0, 0, 0, 0, 0, 0, 0, 0, 0, 0, 0, 0, 0], title='Toy Story (1995)'),\n",
       " Row(date='01-Jan-1995', id=2, link='http://us.imdb.com/M/title-exact?GoldenEye%20(1995)', rating=[0, 1, 1, 0, 0, 0, 0, 0, 0, 0, 0, 0, 0, 0, 0, 0, 1, 0, 0], title='GoldenEye (1995)')]"
      ]
     },
     "execution_count": 64,
     "metadata": {},
     "output_type": "execute_result"
    }
   ],
   "source": [
    "df1.take(2) # Return the first n rows"
   ]
  },
  {
   "cell_type": "code",
   "execution_count": 65,
   "id": "5bb8c629",
   "metadata": {},
   "outputs": [
    {
     "data": {
      "text/plain": [
       "StructType(List(StructField(date,StringType,true),StructField(id,LongType,true),StructField(link,StringType,true),StructField(rating,ArrayType(LongType,true),true),StructField(title,StringType,true)))"
      ]
     },
     "execution_count": 65,
     "metadata": {},
     "output_type": "execute_result"
    }
   ],
   "source": [
    "df1.schema # Return the schema of df"
   ]
  },
  {
   "cell_type": "code",
   "execution_count": 66,
   "id": "b2e8feb3",
   "metadata": {},
   "outputs": [
    {
     "name": "stdout",
     "output_type": "stream",
     "text": [
      "root\n",
      " |-- date: string (nullable = true)\n",
      " |-- id: long (nullable = true)\n",
      " |-- link: string (nullable = true)\n",
      " |-- rating: array (nullable = true)\n",
      " |    |-- element: long (containsNull = true)\n",
      " |-- title: string (nullable = true)\n",
      "\n"
     ]
    }
   ],
   "source": [
    "df1.printSchema() # Return the schema of df"
   ]
  },
  {
   "cell_type": "code",
   "execution_count": 28,
   "id": "f5b57be9",
   "metadata": {},
   "outputs": [
    {
     "name": "stdout",
     "output_type": "stream",
     "text": [
      "-RECORD 0---------------------------------------------------------------\n",
      " summary | count                                                        \n",
      " date    | 1682                                                         \n",
      " id      | 1682                                                         \n",
      " link    | 1682                                                         \n",
      " title   | 1682                                                         \n",
      "-RECORD 1---------------------------------------------------------------\n",
      " summary | mean                                                         \n",
      " date    | null                                                         \n",
      " id      | 841.5                                                        \n",
      " link    | null                                                         \n",
      " title   | null                                                         \n",
      "-RECORD 2---------------------------------------------------------------\n",
      " summary | stddev                                                       \n",
      " date    | null                                                         \n",
      " id      | 485.69589250888254                                           \n",
      " link    | null                                                         \n",
      " title   | null                                                         \n",
      "-RECORD 3---------------------------------------------------------------\n",
      " summary | min                                                          \n",
      " date    |                                                              \n",
      " id      | 1                                                            \n",
      " link    |                                                              \n",
      " title   | 'Til There Was You (1997)                                    \n",
      "-RECORD 4---------------------------------------------------------------\n",
      " summary | max                                                          \n",
      " date    | 4-Feb-1971                                                   \n",
      " id      | 1682                                                         \n",
      " link    | http://us.imdb.com/Title?Yao+a+yao+yao+dao+waipo+qiao+(1995) \n",
      " title   | � k�ldum klaka (Cold Fever) (1994)                           \n",
      "\n"
     ]
    }
   ],
   "source": [
    "df1.describe().show(vertical=True,truncate=False) # Compute summary statistics"
   ]
  },
  {
   "cell_type": "code",
   "execution_count": 99,
   "id": "b5300816",
   "metadata": {},
   "outputs": [
    {
     "name": "stdout",
     "output_type": "stream",
     "text": [
      "+-------+------------------+\n",
      "|summary|                id|\n",
      "+-------+------------------+\n",
      "|  count|              1682|\n",
      "|   mean|             841.5|\n",
      "| stddev|485.69589250888254|\n",
      "|    min|                 1|\n",
      "|    max|              1682|\n",
      "+-------+------------------+\n",
      "\n"
     ]
    }
   ],
   "source": [
    "df1.describe(\"id\").show()"
   ]
  },
  {
   "cell_type": "code",
   "execution_count": 68,
   "id": "74191dee",
   "metadata": {},
   "outputs": [
    {
     "data": {
      "text/plain": [
       "['date', 'id', 'link', 'rating', 'title']"
      ]
     },
     "execution_count": 68,
     "metadata": {},
     "output_type": "execute_result"
    }
   ],
   "source": [
    "df1.columns # Return the columns of df"
   ]
  },
  {
   "cell_type": "code",
   "execution_count": 69,
   "id": "db02d7e1",
   "metadata": {},
   "outputs": [
    {
     "data": {
      "text/plain": [
       "1682"
      ]
     },
     "execution_count": 69,
     "metadata": {},
     "output_type": "execute_result"
    }
   ],
   "source": [
    "df1.count() # Count the number of rows in df"
   ]
  },
  {
   "cell_type": "code",
   "execution_count": 70,
   "id": "163e57dd",
   "metadata": {},
   "outputs": [
    {
     "data": {
      "text/plain": [
       "1682"
      ]
     },
     "execution_count": 70,
     "metadata": {},
     "output_type": "execute_result"
    }
   ],
   "source": [
    "df1.distinct().count() # Count the number of distinct rows in df"
   ]
  },
  {
   "cell_type": "code",
   "execution_count": 42,
   "id": "6b7c6a9a",
   "metadata": {},
   "outputs": [
    {
     "name": "stdout",
     "output_type": "stream",
     "text": [
      "== Physical Plan ==\n",
      "*(1) Filter (isnotnull(id#1L) && (id#1L > 2))\n",
      "+- Scan ExistingRDD[date#0,id#1L,link#2,rating#3,title#4]\n"
     ]
    }
   ],
   "source": [
    "df1.filter(df1.id>2).explain() # Print the (logical and physical) plans"
   ]
  },
  {
   "cell_type": "markdown",
   "id": "be5a76b2",
   "metadata": {},
   "source": [
    "# Duplicate Values"
   ]
  },
  {
   "cell_type": "code",
   "execution_count": 96,
   "id": "cc28e13a",
   "metadata": {},
   "outputs": [
    {
     "name": "stdout",
     "output_type": "stream",
     "text": [
      "7\n",
      "5\n",
      "3\n",
      "5\n",
      "5\n"
     ]
    }
   ],
   "source": [
    "print(df4.count())\n",
    "print(df4.dropDuplicates().count())\n",
    "print(df4.dropDuplicates([\"id\"]).count())\n",
    "print(df4.dropDuplicates([\"lastName\",\"firstName\"]).count())\n",
    "print(df4.dropDuplicates([\"firstName\",\"lastName\"]).count())"
   ]
  },
  {
   "cell_type": "code",
   "execution_count": 32,
   "id": "502b31ce",
   "metadata": {},
   "outputs": [
    {
     "name": "stdout",
     "output_type": "stream",
     "text": [
      "+----+---------+--------+\n",
      "|  id|firstName|lastName|\n",
      "+----+---------+--------+\n",
      "|   1|     null|   Brown|\n",
      "|null|      Tom|    null|\n",
      "|null|    Jerry|     Fox|\n",
      "|null|    Jerry|     Fox|\n",
      "|   3|   Joshua|Peterson|\n",
      "|   3|   Joshua|Peterson|\n",
      "|null|     null|    null|\n",
      "+----+---------+--------+\n",
      "\n"
     ]
    }
   ],
   "source": [
    "df4.show()"
   ]
  },
  {
   "cell_type": "markdown",
   "id": "fda6e859",
   "metadata": {},
   "source": [
    "# Queries (Select and filter)"
   ]
  },
  {
   "cell_type": "code",
   "execution_count": 47,
   "id": "6605b392",
   "metadata": {},
   "outputs": [
    {
     "name": "stdout",
     "output_type": "stream",
     "text": [
      "+---+\n",
      "| id|\n",
      "+---+\n",
      "|  1|\n",
      "|  2|\n",
      "+---+\n",
      "only showing top 2 rows\n",
      "\n"
     ]
    }
   ],
   "source": [
    "df1.select(\"id\").show(2)"
   ]
  },
  {
   "cell_type": "code",
   "execution_count": 68,
   "id": "271a565a",
   "metadata": {},
   "outputs": [
    {
     "name": "stdout",
     "output_type": "stream",
     "text": [
      "+---+----------------+\n",
      "| id|           title|\n",
      "+---+----------------+\n",
      "|  1|Toy Story (1995)|\n",
      "|  2|GoldenEye (1995)|\n",
      "+---+----------------+\n",
      "only showing top 2 rows\n",
      "\n"
     ]
    }
   ],
   "source": [
    "df1.select(\"id\",\"title\").show(2)"
   ]
  },
  {
   "cell_type": "markdown",
   "id": "46e74a03",
   "metadata": {},
   "source": [
    "### selecting repeating col cause duplicate cols"
   ]
  },
  {
   "cell_type": "code",
   "execution_count": 74,
   "id": "10ba89b2",
   "metadata": {},
   "outputs": [
    {
     "name": "stdout",
     "output_type": "stream",
     "text": [
      "Column<b'id'>\n",
      "[Column<b'date'>, Column<b'id'>, Column<b'link'>, Column<b'rating'>, Column<b'title'>]\n",
      "+---+-----------+---+--------------------+--------------------+----------------+\n",
      "| id|       date| id|                link|              rating|           title|\n",
      "+---+-----------+---+--------------------+--------------------+----------------+\n",
      "|  1|01-Jan-1995|  1|http://us.imdb.co...|[0, 0, 0, 1, 1, 1...|Toy Story (1995)|\n",
      "|  2|01-Jan-1995|  2|http://us.imdb.co...|[0, 1, 1, 0, 0, 0...|GoldenEye (1995)|\n",
      "+---+-----------+---+--------------------+--------------------+----------------+\n",
      "only showing top 2 rows\n",
      "\n"
     ]
    }
   ],
   "source": [
    "df1_filter_col = df1.id\n",
    "print(df1_filter_col)\n",
    "df1_all_col= [eval('df1.' + c) for c in df1.columns]\n",
    "print(df1_all_col)\n",
    "df1_col = [df1_filter_col] + df1_all_col\n",
    "df1_index=df1.select(df1_col)\n",
    "df1_index.show(2)"
   ]
  },
  {
   "cell_type": "markdown",
   "id": "13a9c614",
   "metadata": {},
   "source": [
    "# Queries (cast)"
   ]
  },
  {
   "cell_type": "code",
   "execution_count": 27,
   "id": "6f920437",
   "metadata": {},
   "outputs": [
    {
     "name": "stdout",
     "output_type": "stream",
     "text": [
      "+---+----------------+---+\n",
      "| id|           title| id|\n",
      "+---+----------------+---+\n",
      "|1.0|Toy Story (1995)|1.0|\n",
      "|2.0|GoldenEye (1995)|2.0|\n",
      "+---+----------------+---+\n",
      "only showing top 2 rows\n",
      "\n"
     ]
    }
   ],
   "source": [
    "df1.select(col(\"id\").cast(DoubleType()),\"title\",col(\"id\").cast(\"double\")).show(2)"
   ]
  },
  {
   "cell_type": "markdown",
   "id": "385b2124",
   "metadata": {},
   "source": [
    "# Queries (selectExpr)"
   ]
  },
  {
   "cell_type": "code",
   "execution_count": 26,
   "id": "89ddd160",
   "metadata": {},
   "outputs": [
    {
     "name": "stdout",
     "output_type": "stream",
     "text": [
      "+---+----------------+-------+-------+\n",
      "| id|           title|rating0|rating1|\n",
      "+---+----------------+-------+-------+\n",
      "|1.0|Toy Story (1995)|      0|      0|\n",
      "|2.0|GoldenEye (1995)|      0|      1|\n",
      "+---+----------------+-------+-------+\n",
      "only showing top 2 rows\n",
      "\n"
     ]
    }
   ],
   "source": [
    "df1.selectExpr(\"cast(id as float)\",\"title\",\"rating[0] as rating0\",\n",
    "              \"rating[1] rating1\").show(2)"
   ]
  },
  {
   "cell_type": "markdown",
   "id": "627f9965",
   "metadata": {},
   "source": [
    "### array (must have same data type)"
   ]
  },
  {
   "cell_type": "code",
   "execution_count": 78,
   "id": "af46e306",
   "metadata": {},
   "outputs": [
    {
     "data": {
      "text/html": [
       "<div>\n",
       "<style scoped>\n",
       "    .dataframe tbody tr th:only-of-type {\n",
       "        vertical-align: middle;\n",
       "    }\n",
       "\n",
       "    .dataframe tbody tr th {\n",
       "        vertical-align: top;\n",
       "    }\n",
       "\n",
       "    .dataframe thead th {\n",
       "        text-align: right;\n",
       "    }\n",
       "</style>\n",
       "<table border=\"1\" class=\"dataframe\">\n",
       "  <thead>\n",
       "    <tr style=\"text-align: right;\">\n",
       "      <th></th>\n",
       "      <th>array(title, link)</th>\n",
       "    </tr>\n",
       "  </thead>\n",
       "  <tbody>\n",
       "    <tr>\n",
       "      <th>0</th>\n",
       "      <td>[Toy Story (1995), http://us.imdb.com/M/title-...</td>\n",
       "    </tr>\n",
       "    <tr>\n",
       "      <th>1</th>\n",
       "      <td>[GoldenEye (1995), http://us.imdb.com/M/title-...</td>\n",
       "    </tr>\n",
       "  </tbody>\n",
       "</table>\n",
       "</div>"
      ],
      "text/plain": [
       "                                  array(title, link)\n",
       "0  [Toy Story (1995), http://us.imdb.com/M/title-...\n",
       "1  [GoldenEye (1995), http://us.imdb.com/M/title-..."
      ]
     },
     "execution_count": 78,
     "metadata": {},
     "output_type": "execute_result"
    }
   ],
   "source": [
    "df1_all_col= [eval('df1.' + c) for c in ['title','link']]\n",
    "df1_index.select(F.array(df1_all_col)).limit(2).toPandas()"
   ]
  },
  {
   "cell_type": "code",
   "execution_count": 170,
   "id": "f8d578aa",
   "metadata": {},
   "outputs": [
    {
     "name": "stdout",
     "output_type": "stream",
     "text": [
      "+----------------+------------+\n",
      "|           title|new_features|\n",
      "+----------------+------------+\n",
      "|Toy Story (1995)|       false|\n",
      "|GoldenEye (1995)|       false|\n",
      "+----------------+------------+\n",
      "only showing top 2 rows\n",
      "\n",
      "+----------------+------------+\n",
      "|           title|new_features|\n",
      "+----------------+------------+\n",
      "|Toy Story (1995)|        true|\n",
      "|GoldenEye (1995)|        true|\n",
      "+----------------+------------+\n",
      "only showing top 2 rows\n",
      "\n"
     ]
    }
   ],
   "source": [
    "df1.select('title', F.array_contains(df1.rating, 2).alias('new_features')).show(2)\n",
    "df1.select('title', F.array_contains(df1.rating, 1).alias('new_features')).show(2)"
   ]
  },
  {
   "cell_type": "code",
   "execution_count": 177,
   "id": "df020609",
   "metadata": {},
   "outputs": [
    {
     "name": "stdout",
     "output_type": "stream",
     "text": [
      "+----+---+----+------+-----+\n",
      "|date| id|link|rating|title|\n",
      "+----+---+----+------+-----+\n",
      "+----+---+----+------+-----+\n",
      "\n",
      "+-----------+---+--------------------+--------------------+----------------+\n",
      "|       date| id|                link|              rating|           title|\n",
      "+-----------+---+--------------------+--------------------+----------------+\n",
      "|01-Jan-1995|  1|http://us.imdb.co...|[0, 0, 0, 1, 1, 1...|Toy Story (1995)|\n",
      "|01-Jan-1995|  2|http://us.imdb.co...|[0, 1, 1, 0, 0, 0...|GoldenEye (1995)|\n",
      "+-----------+---+--------------------+--------------------+----------------+\n",
      "only showing top 2 rows\n",
      "\n"
     ]
    }
   ],
   "source": [
    "df1.filter(F.array_contains(df1.rating, 2)).show(2)\n",
    "df1.filter(F.array_contains(df1.rating, 1)).show(2)"
   ]
  },
  {
   "cell_type": "markdown",
   "id": "d53069e1",
   "metadata": {},
   "source": [
    "### Select specific rows"
   ]
  },
  {
   "cell_type": "code",
   "execution_count": 175,
   "id": "7bdb079f",
   "metadata": {},
   "outputs": [
    {
     "name": "stdout",
     "output_type": "stream",
     "text": [
      "+---+-----------+---+--------------------+--------------------+--------------------+\n",
      "| id|       date| id|                link|              rating|               title|\n",
      "+---+-----------+---+--------------------+--------------------+--------------------+\n",
      "|  1|01-Jan-1995|  1|http://us.imdb.co...|[0, 0, 0, 1, 1, 1...|    Toy Story (1995)|\n",
      "|  2|01-Jan-1995|  2|http://us.imdb.co...|[0, 1, 1, 0, 0, 0...|    GoldenEye (1995)|\n",
      "|  6|01-Jan-1995|  6|http://us.imdb.co...|[0, 0, 0, 0, 0, 0...|Shanghai Triad (Y...|\n",
      "|  9|01-Jan-1995|  9|http://us.imdb.co...|[0, 0, 0, 0, 0, 0...|Dead Man Walking ...|\n",
      "+---+-----------+---+--------------------+--------------------+--------------------+\n",
      "\n"
     ]
    }
   ],
   "source": [
    "df1_index.filter(df1_index.id.isin([1,2,6,9])).show()"
   ]
  },
  {
   "cell_type": "markdown",
   "id": "7c52a018",
   "metadata": {},
   "source": [
    "### Select rows by a cutoff index"
   ]
  },
  {
   "cell_type": "code",
   "execution_count": 37,
   "id": "01570ee8",
   "metadata": {},
   "outputs": [
    {
     "name": "stdout",
     "output_type": "stream",
     "text": [
      "+---+-----------+---+--------------------+--------------------+--------------------+\n",
      "| id|       date| id|                link|              rating|               title|\n",
      "+---+-----------+---+--------------------+--------------------+--------------------+\n",
      "| 10|22-Jan-1996| 10|http://us.imdb.co...|[0, 0, 0, 0, 0, 0...|  Richard III (1995)|\n",
      "| 11|01-Jan-1995| 11|http://us.imdb.co...|[0, 0, 0, 0, 0, 0...|Seven (Se7en) (1995)|\n",
      "| 12|14-Aug-1995| 12|http://us.imdb.co...|[0, 0, 0, 0, 0, 0...|Usual Suspects, T...|\n",
      "+---+-----------+---+--------------------+--------------------+--------------------+\n",
      "only showing top 3 rows\n",
      "\n"
     ]
    }
   ],
   "source": [
    "df1_index.filter(df1_index.id > 9).show(3)"
   ]
  },
  {
   "cell_type": "markdown",
   "id": "55078a73",
   "metadata": {},
   "source": [
    "### modify data"
   ]
  },
  {
   "cell_type": "code",
   "execution_count": 41,
   "id": "be0a757f",
   "metadata": {},
   "outputs": [
    {
     "name": "stdout",
     "output_type": "stream",
     "text": [
      "+----------+\n",
      "|(id * 100)|\n",
      "+----------+\n",
      "|       100|\n",
      "|       200|\n",
      "+----------+\n",
      "only showing top 2 rows\n",
      "\n"
     ]
    }
   ],
   "source": [
    "df1.select(col(\"id\") * 100).show(2)"
   ]
  },
  {
   "cell_type": "code",
   "execution_count": 67,
   "id": "52ec7558",
   "metadata": {},
   "outputs": [
    {
     "name": "stdout",
     "output_type": "stream",
     "text": [
      "+-----------------+--------+\n",
      "|            title|(id + 1)|\n",
      "+-----------------+--------+\n",
      "| Toy Story (1995)|       2|\n",
      "| GoldenEye (1995)|       3|\n",
      "|Four Rooms (1995)|       4|\n",
      "+-----------------+--------+\n",
      "only showing top 3 rows\n",
      "\n",
      "+-----------------+--------+\n",
      "|            title|(id + 1)|\n",
      "+-----------------+--------+\n",
      "| Toy Story (1995)|       2|\n",
      "| GoldenEye (1995)|       3|\n",
      "|Four Rooms (1995)|       4|\n",
      "+-----------------+--------+\n",
      "only showing top 3 rows\n",
      "\n"
     ]
    }
   ],
   "source": [
    "# Show all entries in title and id, add 1 to the entries of age\n",
    "df1.select(df1.title,df1.id+1).show(3)\n",
    "df1.select(df1[\"title\"],df1[\"id\"]+1).show(3)"
   ]
  },
  {
   "cell_type": "markdown",
   "id": "e7713a4e",
   "metadata": {},
   "source": [
    "### lit"
   ]
  },
  {
   "cell_type": "code",
   "execution_count": 58,
   "id": "bd7c08c3",
   "metadata": {},
   "outputs": [
    {
     "name": "stdout",
     "output_type": "stream",
     "text": [
      "+-----------------+---+---+\n",
      "|            title|  1|  H|\n",
      "+-----------------+---+---+\n",
      "| Toy Story (1995)|  1|  H|\n",
      "| GoldenEye (1995)|  1|  H|\n",
      "|Four Rooms (1995)|  1|  H|\n",
      "+-----------------+---+---+\n",
      "only showing top 3 rows\n",
      "\n",
      "root\n",
      " |-- title: string (nullable = true)\n",
      " |-- 1: integer (nullable = false)\n",
      " |-- H: string (nullable = false)\n",
      "\n"
     ]
    }
   ],
   "source": [
    "df1.select(df1.title,F.lit(1),F.lit(\"H\")).show(3)\n",
    "df1.select(df1.title,F.lit(1),F.lit(\"H\")).printSchema()"
   ]
  },
  {
   "cell_type": "markdown",
   "id": "5ce28f16",
   "metadata": {},
   "source": [
    "### isin"
   ]
  },
  {
   "cell_type": "code",
   "execution_count": 176,
   "id": "9b275a58",
   "metadata": {},
   "outputs": [
    {
     "name": "stdout",
     "output_type": "stream",
     "text": [
      "+--------------+\n",
      "|(id IN (2, 3))|\n",
      "+--------------+\n",
      "|         false|\n",
      "|          true|\n",
      "|          true|\n",
      "|         false|\n",
      "+--------------+\n",
      "only showing top 4 rows\n",
      "\n",
      "+-----------+---+--------------------+--------------------+----------------+\n",
      "|       date| id|                link|              rating|           title|\n",
      "+-----------+---+--------------------+--------------------+----------------+\n",
      "|01-Jan-1995|  1|http://us.imdb.co...|[0, 0, 0, 1, 1, 1...|Toy Story (1995)|\n",
      "+-----------+---+--------------------+--------------------+----------------+\n",
      "\n",
      "+-----------+---+--------------------+--------------------+----------------+\n",
      "|       date| id|                link|              rating|           title|\n",
      "+-----------+---+--------------------+--------------------+----------------+\n",
      "|01-Jan-1995|  1|http://us.imdb.co...|[0, 0, 0, 1, 1, 1...|Toy Story (1995)|\n",
      "+-----------+---+--------------------+--------------------+----------------+\n",
      "\n"
     ]
    }
   ],
   "source": [
    "df1.select(df1.id.isin([2,3])).show(4)\n",
    "df1[df1.title.isin(\"Toy Story (1995)\",\"Four\")].show(3)\n",
    "df1.filter(df1.title.isin(\"Toy Story (1995)\",\"Four\")).show(3)"
   ]
  },
  {
   "cell_type": "markdown",
   "id": "2fffb6fc",
   "metadata": {},
   "source": [
    "### like"
   ]
  },
  {
   "cell_type": "code",
   "execution_count": 87,
   "id": "c2f4222d",
   "metadata": {},
   "outputs": [
    {
     "name": "stdout",
     "output_type": "stream",
     "text": [
      "+---+------------------+\n",
      "| id|title LIKE %Story%|\n",
      "+---+------------------+\n",
      "|  1|              true|\n",
      "|  2|             false|\n",
      "|  3|             false|\n",
      "+---+------------------+\n",
      "only showing top 3 rows\n",
      "\n",
      "+----+-------------------------------------------------+\n",
      "|id  |title                                            |\n",
      "+----+-------------------------------------------------+\n",
      "|1   |Toy Story (1995)                                 |\n",
      "|308 |FairyTale: A True Story (1997)                   |\n",
      "|1653|Entertaining Angels: The Dorothy Day Story (1996)|\n",
      "+----+-------------------------------------------------+\n",
      "\n"
     ]
    }
   ],
   "source": [
    "# Show id and title is TRUE if title is like \"Toy Story (1995)\"\n",
    "df1.select(\"id\", df1.title.like(\"%Story%\")).show(3)\n",
    "df1.filter(df1.title.like(\"%T%St__y_(%\")).select('id','title').show(3,truncate=False)"
   ]
  },
  {
   "cell_type": "markdown",
   "id": "dec08f1b",
   "metadata": {},
   "source": [
    "### startswith, endswith, contains"
   ]
  },
  {
   "cell_type": "code",
   "execution_count": 45,
   "id": "14c0b0ca",
   "metadata": {},
   "outputs": [
    {
     "name": "stdout",
     "output_type": "stream",
     "text": [
      "+---+--------------------+\n",
      "| id|startswith(title, T)|\n",
      "+---+--------------------+\n",
      "|  1|                true|\n",
      "|  2|               false|\n",
      "+---+--------------------+\n",
      "only showing top 2 rows\n",
      "\n",
      "+---+-----------------------------+\n",
      "| id|endswith(title, Story (1995))|\n",
      "+---+-----------------------------+\n",
      "|  1|                         true|\n",
      "|  2|                        false|\n",
      "+---+-----------------------------+\n",
      "only showing top 2 rows\n",
      "\n",
      "+---+----------------------+\n",
      "| id|contains(title, Story)|\n",
      "+---+----------------------+\n",
      "|  1|                  true|\n",
      "|  2|                 false|\n",
      "+---+----------------------+\n",
      "only showing top 2 rows\n",
      "\n",
      "+-----------+---+--------------------+--------------------+--------------------+\n",
      "|       date| id|                link|              rating|               title|\n",
      "+-----------+---+--------------------+--------------------+--------------------+\n",
      "|01-Jan-1995|  1|http://us.imdb.co...|[0, 0, 0, 1, 1, 1...|    Toy Story (1995)|\n",
      "|01-Jan-1995|  7|http://us.imdb.co...|[0, 0, 0, 0, 0, 0...|Twelve Monkeys (1...|\n",
      "+-----------+---+--------------------+--------------------+--------------------+\n",
      "only showing top 2 rows\n",
      "\n",
      "+-----------+---+--------------------+--------------------+----------------+\n",
      "|       date| id|                link|              rating|           title|\n",
      "+-----------+---+--------------------+--------------------+----------------+\n",
      "|01-Jan-1995|  1|http://us.imdb.co...|[0, 0, 0, 1, 1, 1...|Toy Story (1995)|\n",
      "|01-Jan-1995|  2|http://us.imdb.co...|[0, 1, 1, 0, 0, 0...|GoldenEye (1995)|\n",
      "+-----------+---+--------------------+--------------------+----------------+\n",
      "only showing top 2 rows\n",
      "\n",
      "+-----------+---+--------------------+--------------------+--------------------+\n",
      "|       date| id|                link|              rating|               title|\n",
      "+-----------+---+--------------------+--------------------+--------------------+\n",
      "|01-Jan-1995|  1|http://us.imdb.co...|[0, 0, 0, 1, 1, 1...|    Toy Story (1995)|\n",
      "|01-Jan-1997|308|http://us.imdb.co...|[0, 0, 0, 0, 1, 0...|FairyTale: A True...|\n",
      "+-----------+---+--------------------+--------------------+--------------------+\n",
      "only showing top 2 rows\n",
      "\n"
     ]
    }
   ],
   "source": [
    "# Show title starting in \"T\" as True\n",
    "df1.select(\"id\",df1.title.startswith(\"T\")).show(2)\n",
    "\n",
    "# Show title ending in \"Story (1995)\" as True\n",
    "df1.select(\"id\",df1.title.endswith(\"Story (1995)\")).show(2)\n",
    "\n",
    "# Show title containing in \"Story\" as True\n",
    "df1.select(\"id\",df1.title.contains(\"Story\")).show(2)\n",
    "\n",
    "\n",
    "# filter\n",
    "df1.filter(df1.title.startswith(\"T\")).show(2)\n",
    "df1.filter(df1.title.endswith(\"(1995)\")).show(2)\n",
    "df1.filter(df1.title.contains(\"Story\")).show(2)"
   ]
  },
  {
   "cell_type": "markdown",
   "id": "483fcf3b",
   "metadata": {},
   "source": [
    "### substring"
   ]
  },
  {
   "cell_type": "code",
   "execution_count": 85,
   "id": "1a21667e",
   "metadata": {},
   "outputs": [
    {
     "name": "stdout",
     "output_type": "stream",
     "text": [
      "+----+\n",
      "|name|\n",
      "+----+\n",
      "| Toy|\n",
      "| Gol|\n",
      "+----+\n",
      "only showing top 2 rows\n",
      "\n",
      "+-----------+---+--------------------+--------------------+----------------+\n",
      "|       date| id|                link|              rating|           title|\n",
      "+-----------+---+--------------------+--------------------+----------------+\n",
      "|01-Jan-1995|  1|http://us.imdb.co...|[0, 0, 0, 1, 1, 1...|Toy Story (1995)|\n",
      "+-----------+---+--------------------+--------------------+----------------+\n",
      "\n"
     ]
    }
   ],
   "source": [
    "# Return substrings of title\n",
    "df1.select(df1.title.substr(1, 3).alias(\"name\")).show(2)\n",
    "df1.filter(df1.title.substr(1, 3)==\"Toy\").show(2)"
   ]
  },
  {
   "cell_type": "markdown",
   "id": "df54acf0",
   "metadata": {},
   "source": [
    "### between"
   ]
  },
  {
   "cell_type": "code",
   "execution_count": 86,
   "id": "90ce85a6",
   "metadata": {},
   "outputs": [
    {
     "name": "stdout",
     "output_type": "stream",
     "text": [
      "+-------------------------+\n",
      "|((id >= 2) AND (id <= 3))|\n",
      "+-------------------------+\n",
      "|                    false|\n",
      "|                     true|\n",
      "|                     true|\n",
      "+-------------------------+\n",
      "only showing top 3 rows\n",
      "\n",
      "+-----------+---+--------------------+--------------------+-----------------+\n",
      "|       date| id|                link|              rating|            title|\n",
      "+-----------+---+--------------------+--------------------+-----------------+\n",
      "|01-Jan-1995|  2|http://us.imdb.co...|[0, 1, 1, 0, 0, 0...| GoldenEye (1995)|\n",
      "|01-Jan-1995|  3|http://us.imdb.co...|[0, 0, 0, 0, 0, 0...|Four Rooms (1995)|\n",
      "+-----------+---+--------------------+--------------------+-----------------+\n",
      "\n"
     ]
    }
   ],
   "source": [
    "# Show id: values are TRUE if between 2 and 3\n",
    "df1.select(df1.id.between(2, 3)).show(3)\n",
    "df1.filter(df1.id.between(2, 3)).show(3)"
   ]
  },
  {
   "cell_type": "markdown",
   "id": "c4f912b3",
   "metadata": {},
   "source": [
    "### isNull and isNotNull"
   ]
  },
  {
   "cell_type": "code",
   "execution_count": 51,
   "id": "591696f4",
   "metadata": {},
   "outputs": [
    {
     "name": "stdout",
     "output_type": "stream",
     "text": [
      "+------------+\n",
      "|(id IS NULL)|\n",
      "+------------+\n",
      "|       false|\n",
      "|        true|\n",
      "+------------+\n",
      "only showing top 2 rows\n",
      "\n",
      "+----+---------+--------+\n",
      "|  id|firstName|lastName|\n",
      "+----+---------+--------+\n",
      "|null|      Tom|    null|\n",
      "|null|    Jerry|     Fox|\n",
      "+----+---------+--------+\n",
      "only showing top 2 rows\n",
      "\n"
     ]
    }
   ],
   "source": [
    "df4.select(df4.id.isNull()).show(2)\n",
    "df4.filter(df4.id.isNull()).show(2)"
   ]
  },
  {
   "cell_type": "code",
   "execution_count": 55,
   "id": "a2d240f0",
   "metadata": {},
   "outputs": [
    {
     "name": "stdout",
     "output_type": "stream",
     "text": [
      "+----------------+\n",
      "|(id IS NOT NULL)|\n",
      "+----------------+\n",
      "|            true|\n",
      "|           false|\n",
      "+----------------+\n",
      "only showing top 2 rows\n",
      "\n",
      "+---+---------+--------+\n",
      "| id|firstName|lastName|\n",
      "+---+---------+--------+\n",
      "|  1|     null|   Brown|\n",
      "|  3|   Joshua|Peterson|\n",
      "+---+---------+--------+\n",
      "only showing top 2 rows\n",
      "\n"
     ]
    }
   ],
   "source": [
    "df4.select(df4.id.isNotNull()).show(2)\n",
    "df4.filter(df4.id.isNotNull()).show(2)"
   ]
  },
  {
   "cell_type": "markdown",
   "id": "9754579e",
   "metadata": {},
   "source": [
    "### rlike"
   ]
  },
  {
   "cell_type": "code",
   "execution_count": 68,
   "id": "1b7f3bb8",
   "metadata": {},
   "outputs": [
    {
     "name": "stdout",
     "output_type": "stream",
     "text": [
      "+--------------+\n",
      "|date RLIKE 95$|\n",
      "+--------------+\n",
      "|          true|\n",
      "|          true|\n",
      "+--------------+\n",
      "only showing top 2 rows\n",
      "\n",
      "+-----------+---+--------------------+--------------------+----------------+\n",
      "|       date| id|                link|              rating|           title|\n",
      "+-----------+---+--------------------+--------------------+----------------+\n",
      "|01-Jan-1995|  1|http://us.imdb.co...|[0, 0, 0, 1, 1, 1...|Toy Story (1995)|\n",
      "|01-Jan-1995|  2|http://us.imdb.co...|[0, 1, 1, 0, 0, 0...|GoldenEye (1995)|\n",
      "+-----------+---+--------------------+--------------------+----------------+\n",
      "only showing top 2 rows\n",
      "\n"
     ]
    }
   ],
   "source": [
    "df1.select(df1.date.rlike(\"95$\")).show(2)\n",
    "df1.filter(df1.date.rlike(\"95$\")).show(2)"
   ]
  },
  {
   "cell_type": "markdown",
   "id": "19d436c2",
   "metadata": {},
   "source": [
    "### explode"
   ]
  },
  {
   "cell_type": "code",
   "execution_count": 49,
   "id": "8c5a0445",
   "metadata": {},
   "outputs": [
    {
     "name": "stdout",
     "output_type": "stream",
     "text": [
      "+---+----------------+------+\n",
      "| id|           title|rating|\n",
      "+---+----------------+------+\n",
      "|  1|Toy Story (1995)|     0|\n",
      "|  1|Toy Story (1995)|     0|\n",
      "|  1|Toy Story (1995)|     0|\n",
      "|  1|Toy Story (1995)|     1|\n",
      "|  1|Toy Story (1995)|     1|\n",
      "|  1|Toy Story (1995)|     1|\n",
      "|  1|Toy Story (1995)|     0|\n",
      "|  1|Toy Story (1995)|     0|\n",
      "|  1|Toy Story (1995)|     0|\n",
      "|  1|Toy Story (1995)|     0|\n",
      "|  1|Toy Story (1995)|     0|\n",
      "|  1|Toy Story (1995)|     0|\n",
      "|  1|Toy Story (1995)|     0|\n",
      "|  1|Toy Story (1995)|     0|\n",
      "|  1|Toy Story (1995)|     0|\n",
      "|  1|Toy Story (1995)|     0|\n",
      "|  1|Toy Story (1995)|     0|\n",
      "|  1|Toy Story (1995)|     0|\n",
      "|  1|Toy Story (1995)|     0|\n",
      "|  2|GoldenEye (1995)|     0|\n",
      "+---+----------------+------+\n",
      "only showing top 20 rows\n",
      "\n"
     ]
    }
   ],
   "source": [
    "# Show all entries adn explode the list of rating\n",
    "df1.select(\"id\",\"title\",F.explode(\"rating\").alias(\"rating\")).show(20)"
   ]
  },
  {
   "cell_type": "code",
   "execution_count": 63,
   "id": "8e45d05a",
   "metadata": {},
   "outputs": [
    {
     "name": "stdout",
     "output_type": "stream",
     "text": [
      "+---+------+---------+\n",
      "| id|rating|    title|\n",
      "+---+------+---------+\n",
      "|  1|     0|Toy Story|\n",
      "|  1|     0|Toy Story|\n",
      "|  1|     0|Toy Story|\n",
      "|  1|     1|Toy Story|\n",
      "|  1|     1|Toy Story|\n",
      "|  1|     1|Toy Story|\n",
      "|  1|     0|Toy Story|\n",
      "|  1|     0|Toy Story|\n",
      "|  1|     0|Toy Story|\n",
      "|  1|     0|Toy Story|\n",
      "|  1|     0|Toy Story|\n",
      "|  1|     0|Toy Story|\n",
      "|  1|     0|Toy Story|\n",
      "|  1|     0|Toy Story|\n",
      "|  1|     0|Toy Story|\n",
      "|  1|     0|Toy Story|\n",
      "|  1|     0|Toy Story|\n",
      "|  1|     0|Toy Story|\n",
      "|  1|     0|Toy Story|\n",
      "|  2|     0|GoldenEye|\n",
      "+---+------+---------+\n",
      "only showing top 20 rows\n",
      "\n"
     ]
    }
   ],
   "source": [
    "# Show all entries adn explode the list of rating and select only title from title_year\n",
    "df3.select(\"id\",col(\"title_year.title\").alias(\"title\"),F.explode(\"rating\").alias(\"rating\")) \\\n",
    "    .select(\"id\",\"rating\",\"title\").show(20)"
   ]
  },
  {
   "cell_type": "markdown",
   "id": "5850c62e",
   "metadata": {},
   "source": [
    "### collect_list"
   ]
  },
  {
   "cell_type": "code",
   "execution_count": 158,
   "id": "aaea09be",
   "metadata": {},
   "outputs": [
    {
     "name": "stdout",
     "output_type": "stream",
     "text": [
      "+---------------+---------------+\n",
      "|collect_list(x)|collect_list(z)|\n",
      "+---------------+---------------+\n",
      "|   [1, 2, 3, 1]|   [4, 3, 2, 1]|\n",
      "+---------------+---------------+\n",
      "\n"
     ]
    }
   ],
   "source": [
    "df15.select(F.collect_list(df15.x),F.collect_list(df15.z)).show()"
   ]
  },
  {
   "cell_type": "markdown",
   "id": "6e9c94ca",
   "metadata": {},
   "source": [
    "### collect_set"
   ]
  },
  {
   "cell_type": "code",
   "execution_count": 159,
   "id": "bb4c38f6",
   "metadata": {},
   "outputs": [
    {
     "name": "stdout",
     "output_type": "stream",
     "text": [
      "+--------------+---------------+\n",
      "|collect_set(x)|collect_list(z)|\n",
      "+--------------+---------------+\n",
      "|     [1, 2, 3]|   [4, 3, 2, 1]|\n",
      "+--------------+---------------+\n",
      "\n"
     ]
    }
   ],
   "source": [
    "df15.select(F.collect_set(df15.x),F.collect_list(df15.z)).show()"
   ]
  },
  {
   "cell_type": "markdown",
   "id": "f34cde1c",
   "metadata": {},
   "source": [
    "### concat"
   ]
  },
  {
   "cell_type": "code",
   "execution_count": 160,
   "id": "1097b7db",
   "metadata": {},
   "outputs": [
    {
     "name": "stdout",
     "output_type": "stream",
     "text": [
      "+---+---+---------------+\n",
      "|  x|  y|concat(x, y, z)|\n",
      "+---+---+---------------+\n",
      "|  1|  a|            1a4|\n",
      "|  2|  b|            2b3|\n",
      "+---+---+---------------+\n",
      "only showing top 2 rows\n",
      "\n"
     ]
    }
   ],
   "source": [
    "df15.select('x','y',F.concat(df15.x,df15.y,df15.z)).show(2)"
   ]
  },
  {
   "cell_type": "markdown",
   "id": "4df53546",
   "metadata": {},
   "source": [
    "### concat_ws"
   ]
  },
  {
   "cell_type": "code",
   "execution_count": 161,
   "id": "b4bc556d",
   "metadata": {},
   "outputs": [
    {
     "name": "stdout",
     "output_type": "stream",
     "text": [
      "+---+---+---------------------+\n",
      "|  x|  y|concat_ws(_, x, y, z)|\n",
      "+---+---+---------------------+\n",
      "|  1|  a|                1_a_4|\n",
      "|  2|  b|                2_b_3|\n",
      "+---+---+---------------------+\n",
      "only showing top 2 rows\n",
      "\n"
     ]
    }
   ],
   "source": [
    "df15.select('x','y',F.concat_ws('_',df15.x,df15.y,df15.z)).show(2)"
   ]
  },
  {
   "cell_type": "markdown",
   "id": "57f93de7",
   "metadata": {},
   "source": [
    "### create_map"
   ]
  },
  {
   "cell_type": "code",
   "execution_count": 162,
   "id": "9d1e0580",
   "metadata": {},
   "outputs": [
    {
     "name": "stdout",
     "output_type": "stream",
     "text": [
      "+---------+\n",
      "|map(x, y)|\n",
      "+---------+\n",
      "| [1 -> a]|\n",
      "| [2 -> b]|\n",
      "+---------+\n",
      "only showing top 2 rows\n",
      "\n"
     ]
    }
   ],
   "source": [
    "df15.select(F.create_map('x', 'y')).show(2) # 2 cols only"
   ]
  },
  {
   "cell_type": "markdown",
   "id": "f65caf5a",
   "metadata": {},
   "source": [
    "### count"
   ]
  },
  {
   "cell_type": "code",
   "execution_count": 163,
   "id": "ac7e1be1",
   "metadata": {},
   "outputs": [
    {
     "name": "stdout",
     "output_type": "stream",
     "text": [
      "+--------+\n",
      "|count(x)|\n",
      "+--------+\n",
      "|       4|\n",
      "+--------+\n",
      "\n"
     ]
    }
   ],
   "source": [
    "df15.select(F.count(df15.x)).show()"
   ]
  },
  {
   "cell_type": "markdown",
   "id": "6b467313",
   "metadata": {},
   "source": [
    "### countDistinct"
   ]
  },
  {
   "cell_type": "code",
   "execution_count": 164,
   "id": "81bbaad1",
   "metadata": {},
   "outputs": [
    {
     "name": "stdout",
     "output_type": "stream",
     "text": [
      "+-----------------+\n",
      "|count(DISTINCT x)|\n",
      "+-----------------+\n",
      "|                3|\n",
      "+-----------------+\n",
      "\n"
     ]
    }
   ],
   "source": [
    "df15.select(F.countDistinct(df15.x)).show()"
   ]
  },
  {
   "cell_type": "markdown",
   "id": "ca58513d",
   "metadata": {},
   "source": [
    "### ceil"
   ]
  },
  {
   "cell_type": "code",
   "execution_count": 166,
   "id": "47c38758",
   "metadata": {},
   "outputs": [
    {
     "name": "stdout",
     "output_type": "stream",
     "text": [
      "+---+-------+\n",
      "|  b|CEIL(b)|\n",
      "+---+-------+\n",
      "|4.1|      5|\n",
      "|3.2|      4|\n",
      "+---+-------+\n",
      "only showing top 2 rows\n",
      "\n"
     ]
    }
   ],
   "source": [
    "df15.select('b', F.ceil(df15.b)).show(2)"
   ]
  },
  {
   "cell_type": "markdown",
   "id": "d0e120b5",
   "metadata": {},
   "source": [
    "# Queries (Filter)"
   ]
  },
  {
   "cell_type": "code",
   "execution_count": 91,
   "id": "5b32b43f",
   "metadata": {},
   "outputs": [
    {
     "name": "stdout",
     "output_type": "stream",
     "text": [
      "+--------------------+\n",
      "|               title|\n",
      "+--------------------+\n",
      "|Birdcage, The (1996)|\n",
      "|Brothers McMullen...|\n",
      "+--------------------+\n",
      "only showing top 2 rows\n",
      "\n",
      "None\n",
      "+--------------------+---+\n",
      "|               title| id|\n",
      "+--------------------+---+\n",
      "|Birdcage, The (1996)| 25|\n",
      "|Brothers McMullen...| 26|\n",
      "+--------------------+---+\n",
      "only showing top 2 rows\n",
      "\n",
      "None\n",
      "+--------------------+\n",
      "|               title|\n",
      "+--------------------+\n",
      "|Birdcage, The (1996)|\n",
      "|Brothers McMullen...|\n",
      "+--------------------+\n",
      "only showing top 2 rows\n",
      "\n",
      "None\n",
      "+-----------+---+--------------------+--------------------+--------------------+\n",
      "|       date| id|                link|              rating|               title|\n",
      "+-----------+---+--------------------+--------------------+--------------------+\n",
      "|08-Mar-1996| 25|http://us.imdb.co...|[0, 0, 0, 0, 0, 1...|Birdcage, The (1996)|\n",
      "|01-Jan-1995| 26|http://us.imdb.co...|[0, 0, 0, 0, 0, 1...|Brothers McMullen...|\n",
      "+-----------+---+--------------------+--------------------+--------------------+\n",
      "only showing top 2 rows\n",
      "\n",
      "None\n"
     ]
    },
    {
     "ename": "TypeError",
     "evalue": "'>' not supported between instances of 'str' and 'int'",
     "output_type": "error",
     "traceback": [
      "\u001b[1;31m---------------------------------------------------------------------------\u001b[0m",
      "\u001b[1;31mTypeError\u001b[0m                                 Traceback (most recent call last)",
      "\u001b[1;32mC:\\Users\\DMS240~1\\AppData\\Local\\Temp/ipykernel_18804/2324598331.py\u001b[0m in \u001b[0;36m<module>\u001b[1;34m\u001b[0m\n\u001b[0;32m      6\u001b[0m \u001b[1;33m\u001b[0m\u001b[0m\n\u001b[0;32m      7\u001b[0m \u001b[1;31m#invalid\u001b[0m\u001b[1;33m\u001b[0m\u001b[1;33m\u001b[0m\u001b[1;33m\u001b[0m\u001b[0m\n\u001b[1;32m----> 8\u001b[1;33m \u001b[0mprint\u001b[0m\u001b[1;33m(\u001b[0m\u001b[0mdf1\u001b[0m\u001b[1;33m.\u001b[0m\u001b[0mfilter\u001b[0m\u001b[1;33m(\u001b[0m\u001b[1;34m\"id\"\u001b[0m\u001b[1;33m>\u001b[0m\u001b[1;36m24\u001b[0m\u001b[1;33m)\u001b[0m\u001b[1;33m.\u001b[0m\u001b[0mshow\u001b[0m\u001b[1;33m(\u001b[0m\u001b[1;36m2\u001b[0m\u001b[1;33m)\u001b[0m\u001b[1;33m)\u001b[0m\u001b[1;33m\u001b[0m\u001b[1;33m\u001b[0m\u001b[0m\n\u001b[0m",
      "\u001b[1;31mTypeError\u001b[0m: '>' not supported between instances of 'str' and 'int'"
     ]
    }
   ],
   "source": [
    "# Filter entries of id, only keep those records of which the values are >24\n",
    "print(df1.select(\"title\").filter(df1[\"id\"]>24).show(2))\n",
    "print(df1.select(\"title\",\"id\").filter(col(\"id\")>24).show(2))\n",
    "print(df1.select(\"title\").filter(col(\"id\")>24).show(2))\n",
    "print(df1.filter(col(\"id\")>24).show(2))\n",
    "\n",
    "#invalid\n",
    "print(df1.filter(\"id\">24).show(2))"
   ]
  },
  {
   "cell_type": "markdown",
   "id": "252a4995",
   "metadata": {},
   "source": [
    "### logical OR, AND and NOT"
   ]
  },
  {
   "cell_type": "code",
   "execution_count": 106,
   "id": "3170656e",
   "metadata": {},
   "outputs": [
    {
     "name": "stdout",
     "output_type": "stream",
     "text": [
      "+-----------+---+--------------------+--------------------+----------------+\n",
      "|       date| id|                link|              rating|           title|\n",
      "+-----------+---+--------------------+--------------------+----------------+\n",
      "|01-Jan-1995| 27|http://us.imdb.co...|[0, 1, 0, 0, 0, 0...| Bad Boys (1995)|\n",
      "|01-Jan-1995| 28|http://us.imdb.co...|[0, 1, 0, 0, 0, 0...|Apollo 13 (1995)|\n",
      "+-----------+---+--------------------+--------------------+----------------+\n",
      "only showing top 2 rows\n",
      "\n",
      "+-----------+---+--------------------+--------------------+--------------------+\n",
      "|       date| id|                link|              rating|               title|\n",
      "+-----------+---+--------------------+--------------------+--------------------+\n",
      "|08-Mar-1996| 25|http://us.imdb.co...|[0, 0, 0, 0, 0, 1...|Birdcage, The (1996)|\n",
      "|01-Jan-1995| 26|http://us.imdb.co...|[0, 0, 0, 0, 0, 1...|Brothers McMullen...|\n",
      "+-----------+---+--------------------+--------------------+--------------------+\n",
      "only showing top 2 rows\n",
      "\n",
      "+-----------+---+--------------------+--------------------+-----------------+\n",
      "|       date| id|                link|              rating|            title|\n",
      "+-----------+---+--------------------+--------------------+-----------------+\n",
      "|01-Jan-1995|  2|http://us.imdb.co...|[0, 1, 1, 0, 0, 0...| GoldenEye (1995)|\n",
      "|01-Jan-1995|  4|http://us.imdb.co...|[0, 1, 0, 0, 0, 1...|Get Shorty (1995)|\n",
      "+-----------+---+--------------------+--------------------+-----------------+\n",
      "only showing top 2 rows\n",
      "\n",
      "+-----------+---+--------------------+--------------------+-----------------+\n",
      "|       date| id|                link|              rating|            title|\n",
      "+-----------+---+--------------------+--------------------+-----------------+\n",
      "|01-Jan-1995|  1|http://us.imdb.co...|[0, 0, 0, 1, 1, 1...| Toy Story (1995)|\n",
      "|01-Jan-1995|  3|http://us.imdb.co...|[0, 0, 0, 0, 0, 0...|Four Rooms (1995)|\n",
      "+-----------+---+--------------------+--------------------+-----------------+\n",
      "only showing top 2 rows\n",
      "\n",
      "+--------------------+\n",
      "|               title|\n",
      "+--------------------+\n",
      "|  Heavy Metal (1981)|\n",
      "|Operation Dumbo D...|\n",
      "+--------------------+\n",
      "only showing top 2 rows\n",
      "\n",
      "+--------------------+--------------------+\n",
      "|               title|              rating|\n",
      "+--------------------+--------------------+\n",
      "|  Heavy Metal (1981)|[0, 1, 1, 1, 0, 0...|\n",
      "|Operation Dumbo D...|[0, 1, 1, 0, 0, 1...|\n",
      "+--------------------+--------------------+\n",
      "only showing top 2 rows\n",
      "\n"
     ]
    }
   ],
   "source": [
    "df1.filter((col(\"id\")>24) & (df1.rating[1]==1)).show(2)\n",
    "df1.filter((col(\"id\")>24) & ~(df1.rating[1]==1)).show(2)\n",
    "df1.filter((col(\"id\")>24) | (df1.rating[1]==1)).show(2)\n",
    "df1.filter((col(\"id\")>24) | ~(df1.rating[1]==1)).show(2)\n",
    "df1.select(\"title\").filter((col('id')>100) & (df1.rating[1]==1)).show(2)\n",
    "df1.select(\"title\",\"rating\").filter(\"id > 100 AND rating[1] == 1\").show(2)\n",
    "\n",
    "#invalid\n",
    "# df1.select(\"title\",\"rating\").filter(\"id>100 & rating[1]==1\").show(2)\n",
    "# df1.select(\"title\").filter(col(\"id\")>24 & df1.rating[1]==1).show(2)"
   ]
  },
  {
   "cell_type": "markdown",
   "id": "a4506b39",
   "metadata": {},
   "source": [
    "# Queries (Where)"
   ]
  },
  {
   "cell_type": "code",
   "execution_count": 141,
   "id": "8c0f4d10",
   "metadata": {},
   "outputs": [
    {
     "name": "stdout",
     "output_type": "stream",
     "text": [
      "+-----------+---+--------------------+--------------------+--------------------+\n",
      "|       date| id|                link|              rating|               title|\n",
      "+-----------+---+--------------------+--------------------+--------------------+\n",
      "|08-Mar-1981|101|http://us.imdb.co...|[0, 1, 1, 1, 0, 0...|  Heavy Metal (1981)|\n",
      "|01-Jan-1970|102|http://us.imdb.co...|[0, 0, 0, 1, 1, 0...|Aristocats, The (...|\n",
      "+-----------+---+--------------------+--------------------+--------------------+\n",
      "only showing top 2 rows\n",
      "\n"
     ]
    }
   ],
   "source": [
    "df1.where(df1.id>100).show(2)"
   ]
  },
  {
   "cell_type": "code",
   "execution_count": 104,
   "id": "f798113c",
   "metadata": {},
   "outputs": [
    {
     "name": "stdout",
     "output_type": "stream",
     "text": [
      "+-----------+---+--------------------+--------------------+--------------------+\n",
      "|       date| id|                link|              rating|               title|\n",
      "+-----------+---+--------------------+--------------------+--------------------+\n",
      "|08-Mar-1981|101|http://us.imdb.co...|[0, 1, 1, 1, 0, 0...|  Heavy Metal (1981)|\n",
      "|19-Apr-1996|113|http://us.imdb.co...|[0, 0, 0, 0, 0, 0...|Horseman on the R...|\n",
      "+-----------+---+--------------------+--------------------+--------------------+\n",
      "only showing top 2 rows\n",
      "\n",
      "+-----------+---+--------------------+--------------------+--------------------+\n",
      "|       date| id|                link|              rating|               title|\n",
      "+-----------+---+--------------------+--------------------+--------------------+\n",
      "|01-Jan-1970|102|http://us.imdb.co...|[0, 0, 0, 1, 1, 0...|Aristocats, The (...|\n",
      "|29-Mar-1996|103|http://us.imdb.co...|[0, 0, 0, 1, 1, 0...|All Dogs Go to He...|\n",
      "+-----------+---+--------------------+--------------------+--------------------+\n",
      "only showing top 2 rows\n",
      "\n",
      "+-----------+---+--------------------+--------------------+--------------------+\n",
      "|       date| id|                link|              rating|               title|\n",
      "+-----------+---+--------------------+--------------------+--------------------+\n",
      "|01-Jan-1994| 48|http://us.imdb.co...|[0, 0, 0, 0, 0, 0...|  Hoop Dreams (1994)|\n",
      "|01-Jan-1993| 80|http://us.imdb.co...|[0, 1, 0, 0, 0, 1...|Hot Shots! Part D...|\n",
      "+-----------+---+--------------------+--------------------+--------------------+\n",
      "only showing top 2 rows\n",
      "\n",
      "+-----------+---+--------------------+--------------------+----------------+\n",
      "|       date| id|                link|              rating|           title|\n",
      "+-----------+---+--------------------+--------------------+----------------+\n",
      "|01-Jan-1995|  1|http://us.imdb.co...|[0, 0, 0, 1, 1, 1...|Toy Story (1995)|\n",
      "|01-Jan-1995|  2|http://us.imdb.co...|[0, 1, 1, 0, 0, 0...|GoldenEye (1995)|\n",
      "+-----------+---+--------------------+--------------------+----------------+\n",
      "only showing top 2 rows\n",
      "\n",
      "+--------------------+\n",
      "|               title|\n",
      "+--------------------+\n",
      "|  Heavy Metal (1981)|\n",
      "|Operation Dumbo D...|\n",
      "+--------------------+\n",
      "only showing top 2 rows\n",
      "\n",
      "+--------------------+--------------------+\n",
      "|               title|              rating|\n",
      "+--------------------+--------------------+\n",
      "|  Heavy Metal (1981)|[0, 1, 1, 1, 0, 0...|\n",
      "|Operation Dumbo D...|[0, 1, 1, 0, 0, 1...|\n",
      "+--------------------+--------------------+\n",
      "only showing top 2 rows\n",
      "\n"
     ]
    }
   ],
   "source": [
    "df1.where((col('id')>100) & (df1.title.like(\"H%\"))).show(2)\n",
    "df1.where((col('id')>100) & ~(df1.title.like(\"H%\"))).show(2)\n",
    "df1.where((col('id')>100) | (df1.title.like(\"H%\"))).show(2)\n",
    "df1.where((col('id')>100) | ~(df1.title.like(\"H%\"))).show(2)\n",
    "df1.select(\"title\").where((col('id')>100) & (df1.rating[1]==1)).show(2)\n",
    "df1.select(\"title\",\"rating\").where(\"id>100 AND rating[1]==1\").show(2)\n",
    "\n",
    "#invalid\n",
    "# df1.select(\"title\",\"rating\").where(\"id>100 & rating[1]==1\").show(2)\n",
    "# df1.where(col('id')>100 & df1.rating[1]==1).show(2)"
   ]
  },
  {
   "cell_type": "markdown",
   "id": "c3fa15e2",
   "metadata": {},
   "source": [
    "# Queries (When)"
   ]
  },
  {
   "cell_type": "code",
   "execution_count": 83,
   "id": "dfb519ca",
   "metadata": {},
   "outputs": [
    {
     "name": "stdout",
     "output_type": "stream",
     "text": [
      "+-----------------+-------------------------------------------------------------+\n",
      "|            title|CASE WHEN (id = 2) THEN Yes WHEN (id = 3) THEN OK ELSE No END|\n",
      "+-----------------+-------------------------------------------------------------+\n",
      "| Toy Story (1995)|                                                           No|\n",
      "| GoldenEye (1995)|                                                          Yes|\n",
      "|Four Rooms (1995)|                                                           OK|\n",
      "+-----------------+-------------------------------------------------------------+\n",
      "only showing top 3 rows\n",
      "\n"
     ]
    }
   ],
   "source": [
    "# Show firstName and 0 or 1 depending on id>2\n",
    "df1.select(\"title\",F.when(df1.id == 2, \"Yes\").when(df1.id == 3, \"OK\").otherwise(\"No\")).show(3)"
   ]
  },
  {
   "cell_type": "markdown",
   "id": "d65c76b4",
   "metadata": {},
   "source": [
    "# Queries (GroupBy)"
   ]
  },
  {
   "cell_type": "code",
   "execution_count": 107,
   "id": "deb10e6b",
   "metadata": {},
   "outputs": [
    {
     "name": "stdout",
     "output_type": "stream",
     "text": [
      "+----+-----+\n",
      "|year|count|\n",
      "+----+-----+\n",
      "|1953|    2|\n",
      "|1957|    8|\n",
      "|1987|   14|\n",
      "+----+-----+\n",
      "only showing top 3 rows\n",
      "\n"
     ]
    }
   ],
   "source": [
    "# Group by title_year.year, count the members in the groups\n",
    "df3.groupBy(\"title_year.year\").count().show(3)"
   ]
  },
  {
   "cell_type": "code",
   "execution_count": 108,
   "id": "61bcf03b",
   "metadata": {},
   "outputs": [
    {
     "name": "stdout",
     "output_type": "stream",
     "text": [
      "+----+------------------------------+\n",
      "|year|collect_list(title_year.title)|\n",
      "+----+------------------------------+\n",
      "|1953|          [Roman Holiday, B...|\n",
      "|1957|          [12 Angry Men, Br...|\n",
      "|1987|          [Dirty Dancing, P...|\n",
      "+----+------------------------------+\n",
      "only showing top 3 rows\n",
      "\n"
     ]
    }
   ],
   "source": [
    "df3.groupBy(\"title_year.year\").agg(F.collect_list(col(\"title_year.title\"))).show(3)"
   ]
  },
  {
   "cell_type": "markdown",
   "id": "ad251878",
   "metadata": {},
   "source": [
    "### mathematical Operations"
   ]
  },
  {
   "cell_type": "code",
   "execution_count": 49,
   "id": "4c4afb92",
   "metadata": {},
   "outputs": [
    {
     "name": "stdout",
     "output_type": "stream",
     "text": [
      "+----+-------------+------+--------+---------+---------+----------+--------+\n",
      "|year|min_id_padded|max_id|avg_ceil|avg_floor|avg_round|avg_round2|lpad    |\n",
      "+----+-------------+------+--------+---------+---------+----------+--------+\n",
      "|1953|0487         |1298  |893     |892      |892.5    |892.500   |000892.5|\n",
      "|1957|0178         |1269  |661     |660      |660.5    |660.500   |000660.5|\n",
      "|1987|0155         |1576  |743     |742      |742.79   |742.786   |742.7857|\n",
      "+----+-------------+------+--------+---------+---------+----------+--------+\n",
      "only showing top 3 rows\n",
      "\n"
     ]
    }
   ],
   "source": [
    "df3.groupBy(\"title_year.year\").agg(\n",
    "    F.format_string(\"%04d\", F.min(\"id\")).alias(\"min_id_padded\"),\n",
    "    F.max(\"id\").alias(\"max_id\"),\n",
    "    F.ceil(F.avg(df3.id)).alias(\"avg_ceil\"),\n",
    "    F.floor(F.avg(df3.id)).alias(\"avg_floor\"),\n",
    "    F.round(F.avg(df3.id),2).alias(\"avg_round\"),\n",
    "    F.format_number(F.avg(df3.id),3).alias('avg_round2'),\n",
    "    F.lpad(F.avg(df3.id),8,'0').alias('lpad')\n",
    ").show(3,truncate=False)"
   ]
  },
  {
   "cell_type": "code",
   "execution_count": 109,
   "id": "9a493376",
   "metadata": {},
   "outputs": [
    {
     "name": "stdout",
     "output_type": "stream",
     "text": [
      "Row(max(id)=1682)\n",
      "1682\n",
      "1682\n",
      "[Row(max=1682)]\n",
      "1682\n"
     ]
    }
   ],
   "source": [
    "print(df3.agg(F.max(df3.id)).head())\n",
    "print(df3.agg(F.max(df3.id)).head()[0])\n",
    "print(df3.agg(F.max(df3.id).alias(\"max\")).head()[\"max\"])\n",
    "print(df3.agg(F.max(df3.id).alias(\"max\")).collect())\n",
    "print(df3.agg(F.max(df3.id).alias(\"max\")).collect()[0][\"max\"])"
   ]
  },
  {
   "cell_type": "markdown",
   "id": "1a7c60d2",
   "metadata": {},
   "source": [
    "# Queries (Pivot)"
   ]
  },
  {
   "cell_type": "code",
   "execution_count": 82,
   "id": "6a31a49e",
   "metadata": {},
   "outputs": [
    {
     "name": "stdout",
     "output_type": "stream",
     "text": [
      "+---+---+\n",
      "|key|val|\n",
      "+---+---+\n",
      "|  a|  1|\n",
      "|  a|  2|\n",
      "|  a|  3|\n",
      "|  a|  1|\n",
      "|  b|  1|\n",
      "|  b|  2|\n",
      "+---+---+\n",
      "\n",
      "None\n",
      "+---+---+---+----+\n",
      "|key|  1|  2|   3|\n",
      "+---+---+---+----+\n",
      "|  b|  1|  1|null|\n",
      "|  a|  2|  1|   1|\n",
      "+---+---+---+----+\n",
      "\n",
      "None\n",
      "+---+---+---+----+\n",
      "|key|  1|  2|   3|\n",
      "+---+---+---+----+\n",
      "|  b|  1|  2|null|\n",
      "|  a|  2|  2|   3|\n",
      "+---+---+---+----+\n",
      "\n",
      "None\n"
     ]
    }
   ],
   "source": [
    "df5 = spark.createDataFrame( [('a',1), ('a',2), ('a',3),\n",
    "                              ('a',1), ('b',1), ('b',2)], ('key', 'val') )\n",
    "print(df5.show())\n",
    "print(\n",
    "    df5.groupBy('key').pivot('val').count().show()\n",
    ")\n",
    "print(\n",
    "    df5.groupBy('key').pivot('val').sum('val').show()\n",
    ")"
   ]
  },
  {
   "cell_type": "markdown",
   "id": "52e013e6",
   "metadata": {},
   "source": [
    "# Queries (Sample, limit)"
   ]
  },
  {
   "cell_type": "code",
   "execution_count": 47,
   "id": "478de38d",
   "metadata": {},
   "outputs": [
    {
     "data": {
      "text/html": [
       "<div>\n",
       "<style scoped>\n",
       "    .dataframe tbody tr th:only-of-type {\n",
       "        vertical-align: middle;\n",
       "    }\n",
       "\n",
       "    .dataframe tbody tr th {\n",
       "        vertical-align: top;\n",
       "    }\n",
       "\n",
       "    .dataframe thead th {\n",
       "        text-align: right;\n",
       "    }\n",
       "</style>\n",
       "<table border=\"1\" class=\"dataframe\">\n",
       "  <thead>\n",
       "    <tr style=\"text-align: right;\">\n",
       "      <th></th>\n",
       "      <th>date</th>\n",
       "      <th>id</th>\n",
       "      <th>link</th>\n",
       "      <th>rating</th>\n",
       "      <th>title</th>\n",
       "    </tr>\n",
       "  </thead>\n",
       "  <tbody>\n",
       "    <tr>\n",
       "      <th>0</th>\n",
       "      <td>01-Jan-1995</td>\n",
       "      <td>1</td>\n",
       "      <td>http://us.imdb.com/M/title-exact?Toy%20Story%2...</td>\n",
       "      <td>[0, 0, 0, 1, 1, 1, 0, 0, 0, 0, 0, 0, 0, 0, 0, ...</td>\n",
       "      <td>Toy Story (1995)</td>\n",
       "    </tr>\n",
       "    <tr>\n",
       "      <th>1</th>\n",
       "      <td>01-Jan-1995</td>\n",
       "      <td>2</td>\n",
       "      <td>http://us.imdb.com/M/title-exact?GoldenEye%20(...</td>\n",
       "      <td>[0, 1, 1, 0, 0, 0, 0, 0, 0, 0, 0, 0, 0, 0, 0, ...</td>\n",
       "      <td>GoldenEye (1995)</td>\n",
       "    </tr>\n",
       "  </tbody>\n",
       "</table>\n",
       "</div>"
      ],
      "text/plain": [
       "          date  id                                               link  \\\n",
       "0  01-Jan-1995   1  http://us.imdb.com/M/title-exact?Toy%20Story%2...   \n",
       "1  01-Jan-1995   2  http://us.imdb.com/M/title-exact?GoldenEye%20(...   \n",
       "\n",
       "                                              rating             title  \n",
       "0  [0, 0, 0, 1, 1, 1, 0, 0, 0, 0, 0, 0, 0, 0, 0, ...  Toy Story (1995)  \n",
       "1  [0, 1, 1, 0, 0, 0, 0, 0, 0, 0, 0, 0, 0, 0, 0, ...  GoldenEye (1995)  "
      ]
     },
     "execution_count": 47,
     "metadata": {},
     "output_type": "execute_result"
    }
   ],
   "source": [
    "df1.limit(2).toPandas()"
   ]
  },
  {
   "cell_type": "code",
   "execution_count": 112,
   "id": "f9ad090d",
   "metadata": {},
   "outputs": [
    {
     "name": "stdout",
     "output_type": "stream",
     "text": [
      "-RECORD 0--\n",
      " key | a   \n",
      " val | 1   \n",
      "-RECORD 1--\n",
      " key | a   \n",
      " val | 2   \n",
      "-RECORD 2--\n",
      " key | a   \n",
      " val | 3   \n",
      "-RECORD 3--\n",
      " key | b   \n",
      " val | 1   \n",
      "-RECORD 4--\n",
      " key | b   \n",
      " val | 2   \n",
      "\n"
     ]
    }
   ],
   "source": [
    "df6 = spark.createDataFrame( [('a',1), ('a',2), ('a',3),\n",
    "                           ('b',1), ('b',2)], ('key', 'val') )\n",
    "df6.show(vertical=True)"
   ]
  },
  {
   "cell_type": "code",
   "execution_count": 113,
   "id": "1d652ba1",
   "metadata": {},
   "outputs": [
    {
     "name": "stdout",
     "output_type": "stream",
     "text": [
      "+---+---+\n",
      "|key|val|\n",
      "+---+---+\n",
      "|  a|  1|\n",
      "|  a|  2|\n",
      "|  a|  3|\n",
      "|  b|  1|\n",
      "|  b|  2|\n",
      "+---+---+\n",
      "\n"
     ]
    }
   ],
   "source": [
    "df6.sample(False,1.0,81).show()"
   ]
  },
  {
   "cell_type": "code",
   "execution_count": 114,
   "id": "e4ee10e3",
   "metadata": {},
   "outputs": [
    {
     "name": "stdout",
     "output_type": "stream",
     "text": [
      "+---+---+\n",
      "|key|val|\n",
      "+---+---+\n",
      "|  a|  2|\n",
      "|  a|  2|\n",
      "|  b|  1|\n",
      "|  b|  2|\n",
      "+---+---+\n",
      "\n"
     ]
    }
   ],
   "source": [
    "df6.sample(True,1.0,81).show()"
   ]
  },
  {
   "cell_type": "code",
   "execution_count": 175,
   "id": "d8c5cbda",
   "metadata": {},
   "outputs": [
    {
     "name": "stdout",
     "output_type": "stream",
     "text": [
      "+---+---+\n",
      "|key|val|\n",
      "+---+---+\n",
      "|  a|  3|\n",
      "|  b|  1|\n",
      "|  b|  2|\n",
      "+---+---+\n",
      "\n"
     ]
    }
   ],
   "source": [
    "df6.sample(False,0.50,5).show()"
   ]
  },
  {
   "cell_type": "code",
   "execution_count": 115,
   "id": "7ff48bd1",
   "metadata": {},
   "outputs": [
    {
     "name": "stdout",
     "output_type": "stream",
     "text": [
      "+---+---+\n",
      "|key|val|\n",
      "+---+---+\n",
      "|  a|  1|\n",
      "|  a|  3|\n",
      "|  b|  1|\n",
      "|  b|  1|\n",
      "+---+---+\n",
      "\n"
     ]
    }
   ],
   "source": [
    "df6.sample(True,0.50,5).show()"
   ]
  },
  {
   "cell_type": "markdown",
   "id": "de9d6fb9",
   "metadata": {},
   "source": [
    "# Queries (SampleBy)"
   ]
  },
  {
   "cell_type": "code",
   "execution_count": 117,
   "id": "fec46490",
   "metadata": {},
   "outputs": [
    {
     "name": "stdout",
     "output_type": "stream",
     "text": [
      "+---+---+\n",
      "|key|val|\n",
      "+---+---+\n",
      "|  a|  1|\n",
      "|  a|  2|\n",
      "|  a|  3|\n",
      "+---+---+\n",
      "\n"
     ]
    }
   ],
   "source": [
    "df6.sampleBy(\"key\",{\"a\":1.0},5).show()"
   ]
  },
  {
   "cell_type": "code",
   "execution_count": 118,
   "id": "8e93d32f",
   "metadata": {},
   "outputs": [
    {
     "name": "stdout",
     "output_type": "stream",
     "text": [
      "+---+---+\n",
      "|key|val|\n",
      "+---+---+\n",
      "|  a|  1|\n",
      "|  a|  2|\n",
      "|  a|  3|\n",
      "|  b|  2|\n",
      "+---+---+\n",
      "\n"
     ]
    }
   ],
   "source": [
    "df6.sampleBy(\"key\",{\"a\":1.0,\"b\":0.30},81).show()"
   ]
  },
  {
   "cell_type": "markdown",
   "id": "e6b10169",
   "metadata": {},
   "source": [
    "# Cube\n",
    "In the below statement we have applied cube, count, and sort function together on the columns which generate grand total cases including Null values.\n",
    "\n",
    "cube function takes a list of column names and returns possible combinations of grouping columns. We can apply aggregations functions( sum,count,min,max,etc) on the combinations to generate useful information."
   ]
  },
  {
   "cell_type": "code",
   "execution_count": 66,
   "id": "b4dc04dd",
   "metadata": {},
   "outputs": [
    {
     "name": "stdout",
     "output_type": "stream",
     "text": [
      "+---------+--------+\n",
      "|Item_Name|Quantity|\n",
      "+---------+--------+\n",
      "|Chocolate|       2|\n",
      "|  Kurkure|       5|\n",
      "|   Sheets|      20|\n",
      "|  Kurkure|      20|\n",
      "|Chocolate|      10|\n",
      "|Chocolate|       5|\n",
      "+---------+--------+\n",
      "\n",
      "+---------+--------+-----+\n",
      "|Item_Name|Quantity|count|\n",
      "+---------+--------+-----+\n",
      "|     null|    null|    6|\n",
      "|     null|       2|    1|\n",
      "|     null|       5|    2|\n",
      "|     null|      10|    1|\n",
      "|     null|      20|    2|\n",
      "|Chocolate|    null|    3|\n",
      "|Chocolate|       2|    1|\n",
      "|Chocolate|       5|    1|\n",
      "|Chocolate|      10|    1|\n",
      "|  Kurkure|    null|    2|\n",
      "|  Kurkure|       5|    1|\n",
      "|  Kurkure|      20|    1|\n",
      "|   Sheets|    null|    1|\n",
      "|   Sheets|      20|    1|\n",
      "+---------+--------+-----+\n",
      "\n"
     ]
    }
   ],
   "source": [
    "df13=spark.createDataFrame([(\"Chocolate\",2),(\"Kurkure\",5),(\"Sheets\",20),\n",
    "                          (\"Kurkure\",20),(\"Chocolate\",10),(\"Chocolate\",5)],\n",
    "                         [\"Item_Name\",\"Quantity\"])\n",
    "df13.show()\n",
    "df13.cube(\"Item_Name\",df13[\"Quantity\"]).count().sort(\"Item_Name\",\"Quantity\").show()"
   ]
  },
  {
   "cell_type": "code",
   "execution_count": 67,
   "id": "51320f67",
   "metadata": {},
   "outputs": [
    {
     "name": "stdout",
     "output_type": "stream",
     "text": [
      "+---------+--------+-------------+\n",
      "|Item_Name|Quantity|sum(Quantity)|\n",
      "+---------+--------+-------------+\n",
      "|     null|    null|           62|\n",
      "|     null|       2|            2|\n",
      "|     null|       5|           10|\n",
      "|     null|      10|           10|\n",
      "|     null|      20|           40|\n",
      "|Chocolate|    null|           17|\n",
      "|Chocolate|       2|            2|\n",
      "|Chocolate|       5|            5|\n",
      "|Chocolate|      10|           10|\n",
      "|  Kurkure|    null|           25|\n",
      "|  Kurkure|       5|            5|\n",
      "|  Kurkure|      20|           20|\n",
      "|   Sheets|    null|           20|\n",
      "|   Sheets|      20|           20|\n",
      "+---------+--------+-------------+\n",
      "\n"
     ]
    }
   ],
   "source": [
    "df13.cube(\"Item_Name\",df13[\"Quantity\"]).sum().sort(\"Item_Name\",\"Quantity\").show()"
   ]
  },
  {
   "cell_type": "markdown",
   "id": "ee41f511",
   "metadata": {},
   "source": [
    "# rollup\n",
    "rollup returns the subset of rows returned by the cube. It takes a list of column names as input and finds the possible combinations. We can apply the aggregate function to extract the needed information. The extracted rows are less in number but actually worth using."
   ]
  },
  {
   "cell_type": "code",
   "execution_count": 69,
   "id": "c03f283f",
   "metadata": {},
   "outputs": [
    {
     "name": "stdout",
     "output_type": "stream",
     "text": [
      "+---------+--------+-----+\n",
      "|Item_Name|Quantity|count|\n",
      "+---------+--------+-----+\n",
      "|     null|    null|    6|\n",
      "|Chocolate|    null|    3|\n",
      "|Chocolate|       2|    1|\n",
      "|Chocolate|       5|    1|\n",
      "|Chocolate|      10|    1|\n",
      "|  Kurkure|    null|    2|\n",
      "|  Kurkure|       5|    1|\n",
      "|  Kurkure|      20|    1|\n",
      "|   Sheets|    null|    1|\n",
      "|   Sheets|      20|    1|\n",
      "+---------+--------+-----+\n",
      "\n"
     ]
    }
   ],
   "source": [
    "df13.rollup(\"Item_Name\",df13[\"Quantity\"]).count().sort(\"Item_Name\",\"Quantity\").show()"
   ]
  },
  {
   "cell_type": "markdown",
   "id": "c4730504",
   "metadata": {},
   "source": [
    "# Add, Update & Remove Columns (Adding Columns)"
   ]
  },
  {
   "cell_type": "code",
   "execution_count": 119,
   "id": "17814cd7",
   "metadata": {},
   "outputs": [
    {
     "name": "stdout",
     "output_type": "stream",
     "text": [
      "+-----------+---+--------------------+--------------------+----------------+----------+\n",
      "|       date| id|                link|              rating|           title|new_column|\n",
      "+-----------+---+--------------------+--------------------+----------------+----------+\n",
      "|01-Jan-1995|  1|http://us.imdb.co...|[0, 0, 0, 1, 1, 1...|Toy Story (1995)|      null|\n",
      "|01-Jan-1995|  2|http://us.imdb.co...|[0, 1, 1, 0, 0, 0...|GoldenEye (1995)|      null|\n",
      "+-----------+---+--------------------+--------------------+----------------+----------+\n",
      "only showing top 2 rows\n",
      "\n"
     ]
    }
   ],
   "source": [
    "df1.withColumn('new_column', F.lit(None).cast(StringType())).show(2)"
   ]
  },
  {
   "cell_type": "code",
   "execution_count": 120,
   "id": "737b5d49",
   "metadata": {},
   "outputs": [
    {
     "name": "stdout",
     "output_type": "stream",
     "text": [
      "+-----------+---+--------------------+--------------------+----------------+----------+\n",
      "|       date| id|                link|              rating|           title|new_column|\n",
      "+-----------+---+--------------------+--------------------+----------------+----------+\n",
      "|01-Jan-1995|  1|http://us.imdb.co...|[0, 0, 0, 1, 1, 1...|Toy Story (1995)|       xyz|\n",
      "|01-Jan-1995|  2|http://us.imdb.co...|[0, 1, 1, 0, 0, 0...|GoldenEye (1995)|       xyz|\n",
      "+-----------+---+--------------------+--------------------+----------------+----------+\n",
      "only showing top 2 rows\n",
      "\n"
     ]
    }
   ],
   "source": [
    "df1.withColumn('new_column', F.lit('xyz')).show(2)"
   ]
  },
  {
   "cell_type": "code",
   "execution_count": 29,
   "id": "81c4dddb",
   "metadata": {},
   "outputs": [
    {
     "name": "stdout",
     "output_type": "stream",
     "text": [
      "+-----------+---+--------------------+--------------------+----------------+----------+\n",
      "|       date| id|                link|              rating|           title|new_column|\n",
      "+-----------+---+--------------------+--------------------+----------------+----------+\n",
      "|01-Jan-1995|  1|http://us.imdb.co...|[0, 0, 0, 1, 1, 1...|Toy Story (1995)|       1.4|\n",
      "|01-Jan-1995|  2|http://us.imdb.co...|[0, 1, 1, 0, 0, 0...|GoldenEye (1995)|       2.8|\n",
      "+-----------+---+--------------------+--------------------+----------------+----------+\n",
      "only showing top 2 rows\n",
      "\n",
      "+-----------+---+--------------------+--------------------+----------------+----------+\n",
      "|       date| id|                link|              rating|           title|new_column|\n",
      "+-----------+---+--------------------+--------------------+----------------+----------+\n",
      "|01-Jan-1995|  1|http://us.imdb.co...|[0, 0, 0, 1, 1, 1...|Toy Story (1995)|       1.4|\n",
      "|01-Jan-1995|  2|http://us.imdb.co...|[0, 1, 1, 0, 0, 0...|GoldenEye (1995)|       2.8|\n",
      "+-----------+---+--------------------+--------------------+----------------+----------+\n",
      "only showing top 2 rows\n",
      "\n"
     ]
    }
   ],
   "source": [
    "df1.withColumn('new_column', 1.4 * F.col('id')).show(2)\n",
    "df1.withColumn('new_column', F.expr(\"1.4 * id\")).show(2)"
   ]
  },
  {
   "cell_type": "code",
   "execution_count": 122,
   "id": "52e749f2",
   "metadata": {},
   "outputs": [
    {
     "name": "stdout",
     "output_type": "stream",
     "text": [
      "+---+--------------------+----------+--------------------+--------------------+\n",
      "| id|          title_year|      date|              rating|               title|\n",
      "+---+--------------------+----------+--------------------+--------------------+\n",
      "|  1|   [Toy Story, 1995]|1995-01-01|[0, 0, 0, 1, 1, 1...|           Toy Story|\n",
      "|  2|   [GoldenEye, 1995]|1995-01-01|[0, 1, 1, 0, 0, 0...|           GoldenEye|\n",
      "|  3|  [Four Rooms, 1995]|1995-01-01|[0, 0, 0, 0, 0, 0...|          Four Rooms|\n",
      "|  4|  [Get Shorty, 1995]|1995-01-01|[0, 1, 0, 0, 0, 1...|          Get Shorty|\n",
      "|  5|     [Copycat, 1995]|1995-01-01|[0, 0, 0, 0, 0, 0...|             Copycat|\n",
      "|  6|[Shanghai Triad (...|1995-01-01|[0, 0, 0, 0, 0, 0...|Shanghai Triad (Y...|\n",
      "|  7|[Twelve Monkeys, ...|1995-01-01|[0, 0, 0, 0, 0, 0...|      Twelve Monkeys|\n",
      "|  8|        [Babe, 1995]|1995-01-01|[0, 0, 0, 0, 1, 1...|                Babe|\n",
      "|  9|[Dead Man Walking...|1995-01-01|[0, 0, 0, 0, 0, 0...|    Dead Man Walking|\n",
      "| 10| [Richard III, 1995]|1996-01-22|[0, 0, 0, 0, 0, 0...|         Richard III|\n",
      "| 11|[Seven (Se7en), 1...|1995-01-01|[0, 0, 0, 0, 0, 0...|       Seven (Se7en)|\n",
      "| 12|[Usual Suspects, ...|1995-08-14|[0, 0, 0, 0, 0, 0...| Usual Suspects, The|\n",
      "| 13|[Mighty Aphrodite...|1995-10-30|[0, 0, 0, 0, 0, 1...|    Mighty Aphrodite|\n",
      "| 14| [Postino, Il, 1994]|1994-01-01|[0, 0, 0, 0, 0, 0...|         Postino, Il|\n",
      "| 15|[Mr. Holland's Op...|1996-01-29|[0, 0, 0, 0, 0, 0...|  Mr. Holland's Opus|\n",
      "| 16|[French Twist (Ga...|1995-01-01|[0, 0, 0, 0, 0, 1...|French Twist (Gaz...|\n",
      "| 17|[From Dusk Till D...|1996-02-05|[0, 1, 0, 0, 0, 1...| From Dusk Till Dawn|\n",
      "| 18|[White Balloon, T...|1995-01-01|[0, 0, 0, 0, 0, 0...|  White Balloon, The|\n",
      "| 19|[Antonia's Line, ...|1995-01-01|[0, 0, 0, 0, 0, 0...|      Antonia's Line|\n",
      "| 20|[Angels and Insec...|1995-01-01|[0, 0, 0, 0, 0, 0...|  Angels and Insects|\n",
      "+---+--------------------+----------+--------------------+--------------------+\n",
      "only showing top 20 rows\n",
      "\n"
     ]
    }
   ],
   "source": [
    "df3.withColumn(\"title\",df3.title_year.title).show()"
   ]
  },
  {
   "cell_type": "code",
   "execution_count": 123,
   "id": "5f0a0574",
   "metadata": {},
   "outputs": [
    {
     "name": "stdout",
     "output_type": "stream",
     "text": [
      "+---+-----------------+----------+------+\n",
      "| id|       title_year|      date|rating|\n",
      "+---+-----------------+----------+------+\n",
      "|  1|[Toy Story, 1995]|1995-01-01|     0|\n",
      "|  1|[Toy Story, 1995]|1995-01-01|     0|\n",
      "|  1|[Toy Story, 1995]|1995-01-01|     0|\n",
      "|  1|[Toy Story, 1995]|1995-01-01|     1|\n",
      "|  1|[Toy Story, 1995]|1995-01-01|     1|\n",
      "|  1|[Toy Story, 1995]|1995-01-01|     1|\n",
      "|  1|[Toy Story, 1995]|1995-01-01|     0|\n",
      "|  1|[Toy Story, 1995]|1995-01-01|     0|\n",
      "|  1|[Toy Story, 1995]|1995-01-01|     0|\n",
      "|  1|[Toy Story, 1995]|1995-01-01|     0|\n",
      "|  1|[Toy Story, 1995]|1995-01-01|     0|\n",
      "|  1|[Toy Story, 1995]|1995-01-01|     0|\n",
      "|  1|[Toy Story, 1995]|1995-01-01|     0|\n",
      "|  1|[Toy Story, 1995]|1995-01-01|     0|\n",
      "|  1|[Toy Story, 1995]|1995-01-01|     0|\n",
      "|  1|[Toy Story, 1995]|1995-01-01|     0|\n",
      "|  1|[Toy Story, 1995]|1995-01-01|     0|\n",
      "|  1|[Toy Story, 1995]|1995-01-01|     0|\n",
      "|  1|[Toy Story, 1995]|1995-01-01|     0|\n",
      "|  2|[GoldenEye, 1995]|1995-01-01|     0|\n",
      "+---+-----------------+----------+------+\n",
      "only showing top 20 rows\n",
      "\n"
     ]
    }
   ],
   "source": [
    "df3.withColumn(\"rating\",F.explode(df3.rating)).show()"
   ]
  },
  {
   "cell_type": "markdown",
   "id": "378ec8f3",
   "metadata": {},
   "source": [
    "# Add, Update & Remove Columns (Updating Columns)"
   ]
  },
  {
   "cell_type": "code",
   "execution_count": 124,
   "id": "0884516a",
   "metadata": {},
   "outputs": [
    {
     "name": "stdout",
     "output_type": "stream",
     "text": [
      "+---+-----------------+----------+--------------------+\n",
      "| id|            title|      date|              rating|\n",
      "+---+-----------------+----------+--------------------+\n",
      "|  1|[Toy Story, 1995]|1995-01-01|[0, 0, 0, 1, 1, 1...|\n",
      "|  2|[GoldenEye, 1995]|1995-01-01|[0, 1, 1, 0, 0, 0...|\n",
      "+---+-----------------+----------+--------------------+\n",
      "only showing top 2 rows\n",
      "\n"
     ]
    }
   ],
   "source": [
    "df3.withColumnRenamed('title_year', 'title').show(2)"
   ]
  },
  {
   "cell_type": "markdown",
   "id": "05938664",
   "metadata": {},
   "source": [
    "# Add, Update & Remove Columns (Removing Columns)"
   ]
  },
  {
   "cell_type": "code",
   "execution_count": 125,
   "id": "3190e526",
   "metadata": {},
   "outputs": [
    {
     "name": "stdout",
     "output_type": "stream",
     "text": [
      "+-----------+---+--------------------+\n",
      "|       date| id|                link|\n",
      "+-----------+---+--------------------+\n",
      "|01-Jan-1995|  1|http://us.imdb.co...|\n",
      "|01-Jan-1995|  2|http://us.imdb.co...|\n",
      "+-----------+---+--------------------+\n",
      "only showing top 2 rows\n",
      "\n"
     ]
    }
   ],
   "source": [
    "df1.drop(\"title\", \"rating\").show(2)"
   ]
  },
  {
   "cell_type": "code",
   "execution_count": 126,
   "id": "0f11048f",
   "metadata": {},
   "outputs": [
    {
     "name": "stdout",
     "output_type": "stream",
     "text": [
      "+-----------+---+--------------------+\n",
      "|       date| id|                link|\n",
      "+-----------+---+--------------------+\n",
      "|01-Jan-1995|  1|http://us.imdb.co...|\n",
      "|01-Jan-1995|  2|http://us.imdb.co...|\n",
      "+-----------+---+--------------------+\n",
      "only showing top 2 rows\n",
      "\n"
     ]
    }
   ],
   "source": [
    "df1.drop(df1.title).drop(df1.rating).show(2)"
   ]
  },
  {
   "cell_type": "markdown",
   "id": "d908dadd",
   "metadata": {},
   "source": [
    "# Sort"
   ]
  },
  {
   "cell_type": "code",
   "execution_count": 127,
   "id": "8cb80278",
   "metadata": {},
   "outputs": [
    {
     "name": "stdout",
     "output_type": "stream",
     "text": [
      "+-----------+----+--------------------+--------------------+-------------------+\n",
      "|       date|  id|                link|              rating|              title|\n",
      "+-----------+----+--------------------+--------------------+-------------------+\n",
      "| 4-Feb-1971|1373|http://us.imdb.co...|[1, 0, 0, 0, 0, 0...|Good Morning (1971)|\n",
      "|31-May-1996| 819|http://us.imdb.co...|[0, 0, 0, 0, 0, 1...|       Eddie (1996)|\n",
      "|31-May-1996| 472|http://us.imdb.co...|[0, 1, 1, 0, 0, 0...| Dragonheart (1996)|\n",
      "+-----------+----+--------------------+--------------------+-------------------+\n",
      "only showing top 3 rows\n",
      "\n",
      "+-----------+----+--------------------+--------------------+-------------------+\n",
      "|       date|  id|                link|              rating|              title|\n",
      "+-----------+----+--------------------+--------------------+-------------------+\n",
      "| 4-Feb-1971|1373|http://us.imdb.co...|[1, 0, 0, 0, 0, 0...|Good Morning (1971)|\n",
      "|31-May-1996| 472|http://us.imdb.co...|[0, 1, 1, 0, 0, 0...| Dragonheart (1996)|\n",
      "|31-May-1996| 819|http://us.imdb.co...|[0, 0, 0, 0, 0, 1...|       Eddie (1996)|\n",
      "+-----------+----+--------------------+--------------------+-------------------+\n",
      "only showing top 3 rows\n",
      "\n"
     ]
    }
   ],
   "source": [
    "df1.sort(df1.date.desc()).show(3)\n",
    "# df1.sort(\"date\",ascending=False).show(3)\n",
    "\n",
    "df1.sort(df1.date.desc(),df1.id.asc()).show(3)\n",
    "# df1.sort(df1.date,df1.id,ascending=[False,True]).show(3)\n",
    "# df1.sort(df1.date,df1.id,ascending=[0,1]).show(3)"
   ]
  },
  {
   "cell_type": "markdown",
   "id": "b6789a3c",
   "metadata": {},
   "source": [
    "# OrderBy"
   ]
  },
  {
   "cell_type": "code",
   "execution_count": 128,
   "id": "e3142b96",
   "metadata": {},
   "outputs": [
    {
     "name": "stdout",
     "output_type": "stream",
     "text": [
      "+-----------+----+--------------------+--------------------+-------------------+\n",
      "|       date|  id|                link|              rating|              title|\n",
      "+-----------+----+--------------------+--------------------+-------------------+\n",
      "| 4-Feb-1971|1373|http://us.imdb.co...|[1, 0, 0, 0, 0, 0...|Good Morning (1971)|\n",
      "|31-May-1996| 819|http://us.imdb.co...|[0, 0, 0, 0, 0, 1...|       Eddie (1996)|\n",
      "|31-May-1996| 472|http://us.imdb.co...|[0, 1, 1, 0, 0, 0...| Dragonheart (1996)|\n",
      "+-----------+----+--------------------+--------------------+-------------------+\n",
      "only showing top 3 rows\n",
      "\n",
      "+-----------+----+--------------------+--------------------+-------------------+\n",
      "|       date|  id|                link|              rating|              title|\n",
      "+-----------+----+--------------------+--------------------+-------------------+\n",
      "| 4-Feb-1971|1373|http://us.imdb.co...|[1, 0, 0, 0, 0, 0...|Good Morning (1971)|\n",
      "|31-May-1996| 472|http://us.imdb.co...|[0, 1, 1, 0, 0, 0...| Dragonheart (1996)|\n",
      "|31-May-1996| 819|http://us.imdb.co...|[0, 0, 0, 0, 0, 1...|       Eddie (1996)|\n",
      "+-----------+----+--------------------+--------------------+-------------------+\n",
      "only showing top 3 rows\n",
      "\n"
     ]
    }
   ],
   "source": [
    "df1.orderBy(df1.date.desc()).show(3)\n",
    "# df1.orderBy(\"date\",ascending=False).show(3)\n",
    "\n",
    "df1.orderBy(df1.date.desc(),df1.id.asc()).show(3)\n",
    "# df1.orderBy(df1.date,df1.id,ascending=[False,True]).show(3)\n",
    "# df1.orderBy(df1.date,df1.id,ascending=[0,1]).show(3)"
   ]
  },
  {
   "cell_type": "markdown",
   "id": "57a659ed",
   "metadata": {},
   "source": [
    "# Missing & Replacing Values"
   ]
  },
  {
   "cell_type": "code",
   "execution_count": 129,
   "id": "f800b972",
   "metadata": {},
   "outputs": [
    {
     "name": "stdout",
     "output_type": "stream",
     "text": [
      "+---+---------+--------+\n",
      "| id|firstName|lastName|\n",
      "+---+---------+--------+\n",
      "|  1|     null|   Brown|\n",
      "| 50|      Tom|    null|\n",
      "| 50|    Jerry|     Fox|\n",
      "| 50|    Jerry|     Fox|\n",
      "|  3|   Joshua|Peterson|\n",
      "|  3|   Joshua|Peterson|\n",
      "| 50|     null|    null|\n",
      "+---+---------+--------+\n",
      "\n"
     ]
    }
   ],
   "source": [
    "# Replace null values\n",
    "df4.na.fill(50).show()"
   ]
  },
  {
   "cell_type": "code",
   "execution_count": 39,
   "id": "b5d92e8a",
   "metadata": {},
   "outputs": [
    {
     "name": "stdout",
     "output_type": "stream",
     "text": [
      "+---+---------+--------+\n",
      "| id|firstName|lastName|\n",
      "+---+---------+--------+\n",
      "|  1|     null|   Brown|\n",
      "| 50|      Tom|   hello|\n",
      "| 50|    Jerry|     Fox|\n",
      "| 50|    Jerry|     Fox|\n",
      "|  3|   Joshua|Peterson|\n",
      "|  3|   Joshua|Peterson|\n",
      "| 50|     null|   hello|\n",
      "+---+---------+--------+\n",
      "\n",
      "+---+---------+--------+\n",
      "| id|firstName|lastName|\n",
      "+---+---------+--------+\n",
      "|  1|     null|   Brown|\n",
      "| 50|      Tom|   hello|\n",
      "+---+---------+--------+\n",
      "only showing top 2 rows\n",
      "\n"
     ]
    }
   ],
   "source": [
    "# Replace null values of different data types\n",
    "df4.na.fill(50).na.fill(\"hello\",subset=[\"lastName\"]).show()\n",
    "df4.na.fill(50).na.fill(\"hello\",subset=[\"lastname\"]).show(2)"
   ]
  },
  {
   "cell_type": "code",
   "execution_count": 131,
   "id": "805ed9d9",
   "metadata": {},
   "outputs": [
    {
     "name": "stdout",
     "output_type": "stream",
     "text": [
      "+---+---------+--------+\n",
      "| id|firstName|lastName|\n",
      "+---+---------+--------+\n",
      "|  3|   Joshua|Peterson|\n",
      "|  3|   Joshua|Peterson|\n",
      "+---+---------+--------+\n",
      "\n",
      "+---+---------+--------+\n",
      "| id|firstName|lastName|\n",
      "+---+---------+--------+\n",
      "|  3|   Joshua|Peterson|\n",
      "|  3|   Joshua|Peterson|\n",
      "+---+---------+--------+\n",
      "\n"
     ]
    }
   ],
   "source": [
    "# Return new df omitting rows with null values\n",
    "df4.na.drop().show()\n",
    "df4.na.drop(how=\"any\").show()"
   ]
  },
  {
   "cell_type": "code",
   "execution_count": 132,
   "id": "bff58b4c",
   "metadata": {},
   "outputs": [
    {
     "name": "stdout",
     "output_type": "stream",
     "text": [
      "+----+---------+--------+\n",
      "|  id|firstName|lastName|\n",
      "+----+---------+--------+\n",
      "|   1|     null|   Brown|\n",
      "|null|      Tom|    null|\n",
      "|null|    Jerry|     Fox|\n",
      "|null|    Jerry|     Fox|\n",
      "|   3|   Joshua|Peterson|\n",
      "|   3|   Joshua|Peterson|\n",
      "+----+---------+--------+\n",
      "\n"
     ]
    }
   ],
   "source": [
    "df4.na.drop(how=\"all\").show()"
   ]
  },
  {
   "cell_type": "code",
   "execution_count": 136,
   "id": "78318a7d",
   "metadata": {},
   "outputs": [
    {
     "name": "stdout",
     "output_type": "stream",
     "text": [
      "+----+---------+--------+\n",
      "|  id|firstName|lastName|\n",
      "+----+---------+--------+\n",
      "|null|    Jerry|     Fox|\n",
      "|null|    Jerry|     Fox|\n",
      "|   3|   Joshua|Peterson|\n",
      "|   3|   Joshua|Peterson|\n",
      "+----+---------+--------+\n",
      "\n",
      "+----+---------+--------+\n",
      "|  id|firstName|lastName|\n",
      "+----+---------+--------+\n",
      "|   1|     null|   Brown|\n",
      "|null|      Tom|    null|\n",
      "|null|    Jerry|     Fox|\n",
      "|null|    Jerry|     Fox|\n",
      "|   3|   Joshua|Peterson|\n",
      "|   3|   Joshua|Peterson|\n",
      "+----+---------+--------+\n",
      "\n"
     ]
    }
   ],
   "source": [
    "df4.na.drop(how=\"any\",subset=[\"firstName\",\"lastName\"]).show()\n",
    "df4.na.drop(how=\"all\",subset=[\"firstName\",\"lastName\"]).show()"
   ]
  },
  {
   "cell_type": "code",
   "execution_count": 139,
   "id": "7d567e5a",
   "metadata": {},
   "outputs": [
    {
     "name": "stdout",
     "output_type": "stream",
     "text": [
      "+----+---------+--------+\n",
      "|  id|firstName|lastName|\n",
      "+----+---------+--------+\n",
      "|   1|     null|   Brown|\n",
      "|null|    Jerry|     Fox|\n",
      "|null|    Jerry|     Fox|\n",
      "|   3|   Joshua|Peterson|\n",
      "|   3|   Joshua|Peterson|\n",
      "+----+---------+--------+\n",
      "\n",
      "+----+---------+--------+\n",
      "|  id|firstName|lastName|\n",
      "+----+---------+--------+\n",
      "|   1|     null|   Brown|\n",
      "|null|    Jerry|     Fox|\n",
      "|null|    Jerry|     Fox|\n",
      "|   3|   Joshua|Peterson|\n",
      "|   3|   Joshua|Peterson|\n",
      "+----+---------+--------+\n",
      "\n",
      "+---+---------+--------+\n",
      "| id|firstName|lastName|\n",
      "+---+---------+--------+\n",
      "+---+---------+--------+\n",
      "\n",
      "+---+---------+--------+\n",
      "| id|firstName|lastName|\n",
      "+---+---------+--------+\n",
      "+---+---------+--------+\n",
      "\n"
     ]
    }
   ],
   "source": [
    "# thresh=2 = drop rows with 2 nulls or more\n",
    "# drop rows that have less than `thresh` non-null values.\n",
    "#     This overwrites the `how` parameter.\n",
    "df4.na.drop(how=\"any\",subset=[\"lastName\"],thresh=1).show()\n",
    "df4.na.drop(how=\"all\",subset=[\"lastName\"],thresh=1).show()\n",
    "df4.na.drop(how=\"any\",subset=[\"lastName\"],thresh=2).show()\n",
    "df4.na.drop(how=\"all\",subset=[\"lastName\"],thresh=2).show()"
   ]
  },
  {
   "cell_type": "code",
   "execution_count": 141,
   "id": "2c263c50",
   "metadata": {
    "scrolled": true
   },
   "outputs": [
    {
     "name": "stdout",
     "output_type": "stream",
     "text": [
      "+----+---------+--------+\n",
      "|  id|firstName|lastName|\n",
      "+----+---------+--------+\n",
      "|  20|     null|   Brown|\n",
      "|null|      Tom|    null|\n",
      "|null|      bye|     Fox|\n",
      "|null|      bye|     Fox|\n",
      "|   3|   Joshua|Peterson|\n",
      "|   3|   Joshua|Peterson|\n",
      "|null|     null|    null|\n",
      "+----+---------+--------+\n",
      "\n"
     ]
    }
   ],
   "source": [
    "# Return new df replacing one value with another\n",
    "df4.na.replace(1, 20).replace(\"Jerry\", \"bye\").show()"
   ]
  },
  {
   "cell_type": "markdown",
   "id": "6f924f35",
   "metadata": {},
   "source": [
    "# Data Structures"
   ]
  },
  {
   "cell_type": "code",
   "execution_count": 142,
   "id": "576b6a09",
   "metadata": {},
   "outputs": [
    {
     "data": {
      "text/plain": [
       "[Row(date='01-Jan-1995', id=1, link='http://us.imdb.com/M/title-exact?Toy%20Story%20(1995)', rating=[0, 0, 0, 1, 1, 1, 0, 0, 0, 0, 0, 0, 0, 0, 0, 0, 0, 0, 0], title='Toy Story (1995)'),\n",
       " Row(date='01-Jan-1995', id=2, link='http://us.imdb.com/M/title-exact?GoldenEye%20(1995)', rating=[0, 1, 1, 0, 0, 0, 0, 0, 0, 0, 0, 0, 0, 0, 0, 0, 1, 0, 0], title='GoldenEye (1995)'),\n",
       " Row(date='01-Jan-1995', id=3, link='http://us.imdb.com/M/title-exact?Four%20Rooms%20(1995)', rating=[0, 0, 0, 0, 0, 0, 0, 0, 0, 0, 0, 0, 0, 0, 0, 0, 1, 0, 0], title='Four Rooms (1995)'),\n",
       " Row(date='01-Jan-1995', id=4, link='http://us.imdb.com/M/title-exact?Get%20Shorty%20(1995)', rating=[0, 1, 0, 0, 0, 1, 0, 0, 1, 0, 0, 0, 0, 0, 0, 0, 0, 0, 0], title='Get Shorty (1995)'),\n",
       " Row(date='01-Jan-1995', id=5, link='http://us.imdb.com/M/title-exact?Copycat%20(1995)', rating=[0, 0, 0, 0, 0, 0, 1, 0, 1, 0, 0, 0, 0, 0, 0, 0, 1, 0, 0], title='Copycat (1995)'),\n",
       " Row(date='01-Jan-1995', id=6, link='http://us.imdb.com/Title?Yao+a+yao+yao+dao+waipo+qiao+(1995)', rating=[0, 0, 0, 0, 0, 0, 0, 0, 1, 0, 0, 0, 0, 0, 0, 0, 0, 0, 0], title='Shanghai Triad (Yao a yao yao dao waipo qiao) (1995)'),\n",
       " Row(date='01-Jan-1995', id=7, link='http://us.imdb.com/M/title-exact?Twelve%20Monkeys%20(1995)', rating=[0, 0, 0, 0, 0, 0, 0, 0, 1, 0, 0, 0, 0, 0, 0, 1, 0, 0, 0], title='Twelve Monkeys (1995)'),\n",
       " Row(date='01-Jan-1995', id=8, link='http://us.imdb.com/M/title-exact?Babe%20(1995)', rating=[0, 0, 0, 0, 1, 1, 0, 0, 1, 0, 0, 0, 0, 0, 0, 0, 0, 0, 0], title='Babe (1995)'),\n",
       " Row(date='01-Jan-1995', id=9, link='http://us.imdb.com/M/title-exact?Dead%20Man%20Walking%20(1995)', rating=[0, 0, 0, 0, 0, 0, 0, 0, 1, 0, 0, 0, 0, 0, 0, 0, 0, 0, 0], title='Dead Man Walking (1995)'),\n",
       " Row(date='22-Jan-1996', id=10, link='http://us.imdb.com/M/title-exact?Richard%20III%20(1995)', rating=[0, 0, 0, 0, 0, 0, 0, 0, 1, 0, 0, 0, 0, 0, 0, 0, 0, 1, 0], title='Richard III (1995)'),\n",
       " Row(date='01-Jan-1995', id=11, link='http://us.imdb.com/M/title-exact?Se7en%20(1995)', rating=[0, 0, 0, 0, 0, 0, 1, 0, 0, 0, 0, 0, 0, 0, 0, 0, 1, 0, 0], title='Seven (Se7en) (1995)'),\n",
       " Row(date='14-Aug-1995', id=12, link='http://us.imdb.com/M/title-exact?Usual%20Suspects,%20The%20(1995)', rating=[0, 0, 0, 0, 0, 0, 1, 0, 0, 0, 0, 0, 0, 0, 0, 0, 1, 0, 0], title='Usual Suspects, The (1995)'),\n",
       " Row(date='30-Oct-1995', id=13, link='http://us.imdb.com/M/title-exact?Mighty%20Aphrodite%20(1995)', rating=[0, 0, 0, 0, 0, 1, 0, 0, 0, 0, 0, 0, 0, 0, 0, 0, 0, 0, 0], title='Mighty Aphrodite (1995)'),\n",
       " Row(date='01-Jan-1994', id=14, link='http://us.imdb.com/M/title-exact?Postino,%20Il%20(1994)', rating=[0, 0, 0, 0, 0, 0, 0, 0, 1, 0, 0, 0, 0, 0, 1, 0, 0, 0, 0], title='Postino, Il (1994)'),\n",
       " Row(date='29-Jan-1996', id=15, link=\"http://us.imdb.com/M/title-exact?Mr.%20Holland's%20Opus%20(1995)\", rating=[0, 0, 0, 0, 0, 0, 0, 0, 1, 0, 0, 0, 0, 0, 0, 0, 0, 0, 0], title=\"Mr. Holland's Opus (1995)\"),\n",
       " Row(date='01-Jan-1995', id=16, link='http://us.imdb.com/M/title-exact?Gazon%20maudit%20(1995)', rating=[0, 0, 0, 0, 0, 1, 0, 0, 0, 0, 0, 0, 0, 0, 1, 0, 0, 0, 0], title='French Twist (Gazon maudit) (1995)'),\n",
       " Row(date='05-Feb-1996', id=17, link='http://us.imdb.com/M/title-exact?From%20Dusk%20Till%20Dawn%20(1996)', rating=[0, 1, 0, 0, 0, 1, 1, 0, 0, 0, 0, 1, 0, 0, 0, 0, 1, 0, 0], title='From Dusk Till Dawn (1996)'),\n",
       " Row(date='01-Jan-1995', id=18, link='http://us.imdb.com/M/title-exact?Badkonake%20Sefid%20(1995)', rating=[0, 0, 0, 0, 0, 0, 0, 0, 1, 0, 0, 0, 0, 0, 0, 0, 0, 0, 0], title='White Balloon, The (1995)'),\n",
       " Row(date='01-Jan-1995', id=19, link='http://us.imdb.com/M/title-exact?Antonia%20(1995)', rating=[0, 0, 0, 0, 0, 0, 0, 0, 1, 0, 0, 0, 0, 0, 0, 0, 0, 0, 0], title=\"Antonia's Line (1995)\"),\n",
       " Row(date='01-Jan-1995', id=20, link='http://us.imdb.com/M/title-exact?Angels%20and%20Insects%20(1995)', rating=[0, 0, 0, 0, 0, 0, 0, 0, 1, 0, 0, 0, 0, 0, 1, 0, 0, 0, 0], title='Angels and Insects (1995)'),\n",
       " Row(date='16-Feb-1996', id=21, link='http://us.imdb.com/M/title-exact?Muppet%20Treasure%20Island%20(1996)', rating=[0, 1, 1, 0, 0, 1, 0, 0, 0, 0, 0, 0, 1, 0, 0, 0, 1, 0, 0], title='Muppet Treasure Island (1996)'),\n",
       " Row(date='16-Feb-1996', id=22, link='http://us.imdb.com/M/title-exact?Braveheart%20(1995)', rating=[0, 1, 0, 0, 0, 0, 0, 0, 1, 0, 0, 0, 0, 0, 0, 0, 0, 1, 0], title='Braveheart (1995)'),\n",
       " Row(date='16-Feb-1996', id=23, link='http://us.imdb.com/M/title-exact?Taxi%20Driver%20(1976)', rating=[0, 0, 0, 0, 0, 0, 0, 0, 1, 0, 0, 0, 0, 0, 0, 0, 1, 0, 0], title='Taxi Driver (1976)'),\n",
       " Row(date='23-Feb-1996', id=24, link='http://us.imdb.com/M/title-exact?Hong%20Faan%20Kui%20(1995)', rating=[0, 1, 1, 0, 0, 0, 1, 0, 0, 0, 0, 0, 0, 0, 0, 0, 0, 0, 0], title='Rumble in the Bronx (1995)'),\n",
       " Row(date='08-Mar-1996', id=25, link='http://us.imdb.com/M/title-exact?Birdcage,%20The%20(1996)', rating=[0, 0, 0, 0, 0, 1, 0, 0, 0, 0, 0, 0, 0, 0, 0, 0, 0, 0, 0], title='Birdcage, The (1996)'),\n",
       " Row(date='01-Jan-1995', id=26, link='http://us.imdb.com/M/title-exact?Brothers%20McMullen,%20The%20(1995)', rating=[0, 0, 0, 0, 0, 1, 0, 0, 0, 0, 0, 0, 0, 0, 0, 0, 0, 0, 0], title='Brothers McMullen, The (1995)'),\n",
       " Row(date='01-Jan-1995', id=27, link='http://us.imdb.com/M/title-exact?Bad%20Boys%20(1995)', rating=[0, 1, 0, 0, 0, 0, 0, 0, 0, 0, 0, 0, 0, 0, 0, 0, 0, 0, 0], title='Bad Boys (1995)'),\n",
       " Row(date='01-Jan-1995', id=28, link='http://us.imdb.com/M/title-exact?Apollo%2013%20(1995)', rating=[0, 1, 0, 0, 0, 0, 0, 0, 1, 0, 0, 0, 0, 0, 0, 0, 1, 0, 0], title='Apollo 13 (1995)'),\n",
       " Row(date='01-Jan-1995', id=29, link='http://us.imdb.com/M/title-exact?Batman%20Forever%20(1995)', rating=[0, 1, 1, 0, 0, 1, 1, 0, 0, 0, 0, 0, 0, 0, 0, 0, 0, 0, 0], title='Batman Forever (1995)'),\n",
       " Row(date='01-Jan-1967', id=30, link='http://us.imdb.com/M/title-exact?Belle%20de%20jour%20(1967)', rating=[0, 0, 0, 0, 0, 0, 0, 0, 1, 0, 0, 0, 0, 0, 0, 0, 0, 0, 0], title='Belle de jour (1967)'),\n",
       " Row(date='01-Jan-1995', id=31, link='http://us.imdb.com/M/title-exact?Crimson%20Tide%20(1995)', rating=[0, 0, 0, 0, 0, 0, 0, 0, 1, 0, 0, 0, 0, 0, 0, 0, 1, 1, 0], title='Crimson Tide (1995)'),\n",
       " Row(date='01-Jan-1994', id=32, link='http://us.imdb.com/M/title-exact?Crumb%20(1994)', rating=[0, 0, 0, 0, 0, 0, 0, 1, 0, 0, 0, 0, 0, 0, 0, 0, 0, 0, 0], title='Crumb (1994)'),\n",
       " Row(date='01-Jan-1995', id=33, link='http://us.imdb.com/M/title-exact?Desperado%20(1995)', rating=[0, 1, 0, 0, 0, 0, 0, 0, 0, 0, 0, 0, 0, 0, 1, 0, 1, 0, 0], title='Desperado (1995)'),\n",
       " Row(date='01-Jan-1995', id=34, link='http://us.imdb.com/M/title-exact?Doom%20Generation,%20The%20(1995)', rating=[0, 0, 0, 0, 0, 1, 0, 0, 1, 0, 0, 0, 0, 0, 0, 0, 0, 0, 0], title='Doom Generation, The (1995)'),\n",
       " Row(date='01-Jan-1995', id=35, link='http://us.imdb.com/M/title-exact?Free%20Willy%202:%20The%20Adventure%20Home%20(1995)', rating=[0, 0, 1, 0, 1, 0, 0, 0, 1, 0, 0, 0, 0, 0, 0, 0, 0, 0, 0], title='Free Willy 2: The Adventure Home (1995)'),\n",
       " Row(date='01-Jan-1995', id=36, link='http://us.imdb.com/M/title-exact?Mad%20Love%20(1995)', rating=[0, 0, 0, 0, 0, 0, 0, 0, 1, 0, 0, 0, 0, 0, 1, 0, 0, 0, 0], title='Mad Love (1995)'),\n",
       " Row(date='01-Jan-1994', id=37, link='http://us.imdb.com/M/title-exact?Nadja%20(1994)', rating=[0, 0, 0, 0, 0, 0, 0, 0, 1, 0, 0, 0, 0, 0, 0, 0, 0, 0, 0], title='Nadja (1994)'),\n",
       " Row(date='01-Jan-1995', id=38, link='http://us.imdb.com/M/title-exact?Net,%20The%20(1995)', rating=[0, 0, 0, 0, 0, 0, 0, 0, 0, 0, 0, 0, 0, 0, 0, 1, 1, 0, 0], title='Net, The (1995)'),\n",
       " Row(date='01-Jan-1995', id=39, link='http://us.imdb.com/M/title-exact?Strange%20Days%20(1995)', rating=[0, 1, 0, 0, 0, 0, 1, 0, 0, 0, 0, 0, 0, 0, 0, 1, 0, 0, 0], title='Strange Days (1995)'),\n",
       " Row(date='01-Jan-1995', id=40, link='http://us.imdb.com/M/title-exact?To%20Wong%20Foo,%20Thanks%20for%20Everything!%20Julie%20Newmar%20(1995)', rating=[0, 0, 0, 0, 0, 1, 0, 0, 0, 0, 0, 0, 0, 0, 0, 0, 0, 0, 0], title='To Wong Foo, Thanks for Everything! Julie Newmar (1995)'),\n",
       " Row(date='01-Jan-1995', id=41, link='http://us.imdb.com/M/title-exact?Billy%20Madison%20(1995)', rating=[0, 0, 0, 0, 0, 1, 0, 0, 0, 0, 0, 0, 0, 0, 0, 0, 0, 0, 0], title='Billy Madison (1995)'),\n",
       " Row(date='01-Jan-1994', id=42, link='http://us.imdb.com/M/title-exact?Clerks%20(1994)', rating=[0, 0, 0, 0, 0, 1, 0, 0, 0, 0, 0, 0, 0, 0, 0, 0, 0, 0, 0], title='Clerks (1994)'),\n",
       " Row(date='01-Jan-1994', id=43, link='http://us.imdb.com/M/title-exact?Disclosure%20(1994)', rating=[0, 0, 0, 0, 0, 0, 0, 0, 1, 0, 0, 0, 0, 0, 0, 0, 1, 0, 0], title='Disclosure (1994)'),\n",
       " Row(date='01-Jan-1994', id=44, link='http://us.imdb.com/M/title-exact?Dolores%20Claiborne%20(1994)', rating=[0, 0, 0, 0, 0, 0, 0, 0, 1, 0, 0, 0, 0, 0, 0, 0, 1, 0, 0], title='Dolores Claiborne (1994)'),\n",
       " Row(date='01-Jan-1994', id=45, link='http://us.imdb.com/M/title-exact?Yinshi%20Nan%20Nu%20(1994)', rating=[0, 0, 0, 0, 0, 1, 0, 0, 1, 0, 0, 0, 0, 0, 0, 0, 0, 0, 0], title='Eat Drink Man Woman (1994)'),\n",
       " Row(date='01-Jan-1994', id=46, link='http://us.imdb.com/M/title-exact?Exotica%20(1994)', rating=[0, 0, 0, 0, 0, 0, 0, 0, 1, 0, 0, 0, 0, 0, 0, 0, 0, 0, 0], title='Exotica (1994)'),\n",
       " Row(date='01-Jan-1994', id=47, link='http://us.imdb.com/M/title-exact?Ed%20Wood%20(1994)', rating=[0, 0, 0, 0, 0, 1, 0, 0, 1, 0, 0, 0, 0, 0, 0, 0, 0, 0, 0], title='Ed Wood (1994)'),\n",
       " Row(date='01-Jan-1994', id=48, link='http://us.imdb.com/M/title-exact?Hoop%20Dreams%20(1994)', rating=[0, 0, 0, 0, 0, 0, 0, 1, 0, 0, 0, 0, 0, 0, 0, 0, 0, 0, 0], title='Hoop Dreams (1994)'),\n",
       " Row(date='01-Jan-1994', id=49, link='http://us.imdb.com/M/title-exact?I.Q.%20(1994)', rating=[0, 0, 0, 0, 0, 1, 0, 0, 0, 0, 0, 0, 0, 0, 1, 0, 0, 0, 0], title='I.Q. (1994)'),\n",
       " Row(date='01-Jan-1977', id=50, link='http://us.imdb.com/M/title-exact?Star%20Wars%20(1977)', rating=[0, 1, 1, 0, 0, 0, 0, 0, 0, 0, 0, 0, 0, 0, 1, 1, 0, 1, 0], title='Star Wars (1977)'),\n",
       " Row(date='01-Jan-1994', id=51, link='http://us.imdb.com/M/title-exact?Legends%20of%20the%20Fall%20(1994)', rating=[0, 0, 0, 0, 0, 0, 0, 0, 1, 0, 0, 0, 0, 0, 1, 0, 0, 1, 1], title='Legends of the Fall (1994)'),\n",
       " Row(date='01-Jan-1994', id=52, link='http://us.imdb.com/M/title-exact?Madness%20of%20King%20George,%20The%20(1994)', rating=[0, 0, 0, 0, 0, 0, 0, 0, 1, 0, 0, 0, 0, 0, 0, 0, 0, 0, 0], title='Madness of King George, The (1994)'),\n",
       " Row(date='01-Jan-1994', id=53, link='http://us.imdb.com/M/title-exact?Natural%20Born%20Killers%20(1994)', rating=[0, 1, 0, 0, 0, 0, 0, 0, 0, 0, 0, 0, 0, 0, 0, 0, 1, 0, 0], title='Natural Born Killers (1994)'),\n",
       " Row(date='01-Jan-1995', id=54, link='http://us.imdb.com/M/title-exact?Outbreak%20(1995)', rating=[0, 1, 0, 0, 0, 0, 0, 0, 1, 0, 0, 0, 0, 0, 0, 0, 1, 0, 0], title='Outbreak (1995)'),\n",
       " Row(date='01-Jan-1994', id=55, link='http://us.imdb.com/Title?L%E9on+(1994)', rating=[0, 0, 0, 0, 0, 0, 1, 0, 1, 0, 0, 0, 0, 0, 1, 0, 1, 0, 0], title='Professional, The (1994)'),\n",
       " Row(date='01-Jan-1994', id=56, link='http://us.imdb.com/M/title-exact?Pulp%20Fiction%20(1994)', rating=[0, 0, 0, 0, 0, 0, 1, 0, 1, 0, 0, 0, 0, 0, 0, 0, 0, 0, 0], title='Pulp Fiction (1994)'),\n",
       " Row(date='01-Jan-1994', id=57, link='http://us.imdb.com/M/title-exact?Priest%20(1994)', rating=[0, 0, 0, 0, 0, 0, 0, 0, 1, 0, 0, 0, 0, 0, 0, 0, 0, 0, 0], title='Priest (1994)'),\n",
       " Row(date='01-Jan-1994', id=58, link='http://us.imdb.com/M/title-exact?Quiz%20Show%20(1994)', rating=[0, 0, 0, 0, 0, 0, 0, 0, 1, 0, 0, 0, 0, 0, 0, 0, 0, 0, 0], title='Quiz Show (1994)'),\n",
       " Row(date='01-Jan-1994', id=59, link='http://us.imdb.com/M/title-exact?Trzy%20kolory:%20Czerwony%20(1994)', rating=[0, 0, 0, 0, 0, 0, 0, 0, 1, 0, 0, 0, 0, 0, 0, 0, 0, 0, 0], title='Three Colors: Red (1994)'),\n",
       " Row(date='01-Jan-1993', id=60, link='http://us.imdb.com/M/title-exact?Trzy%20kolory:%20Niebieski%20(1993)', rating=[0, 0, 0, 0, 0, 0, 0, 0, 1, 0, 0, 0, 0, 0, 0, 0, 0, 0, 0], title='Three Colors: Blue (1993)'),\n",
       " Row(date='01-Jan-1994', id=61, link='http://us.imdb.com/M/title-exact?Trzy%20kolory:%20Bialy%20(1994)', rating=[0, 0, 0, 0, 0, 0, 0, 0, 1, 0, 0, 0, 0, 0, 0, 0, 0, 0, 0], title='Three Colors: White (1994)'),\n",
       " Row(date='01-Jan-1994', id=62, link='http://us.imdb.com/M/title-exact?Stargate%20(1994)', rating=[0, 1, 1, 0, 0, 0, 0, 0, 0, 0, 0, 0, 0, 0, 0, 1, 0, 0, 0], title='Stargate (1994)'),\n",
       " Row(date='01-Jan-1994', id=63, link='http://us.imdb.com/M/title-exact?Santa%20Clause,%20The%20(1994)', rating=[0, 0, 0, 0, 1, 1, 0, 0, 0, 0, 0, 0, 0, 0, 0, 0, 0, 0, 0], title='Santa Clause, The (1994)'),\n",
       " Row(date='01-Jan-1994', id=64, link='http://us.imdb.com/M/title-exact?Shawshank%20Redemption,%20The%20(1994)', rating=[0, 0, 0, 0, 0, 0, 0, 0, 1, 0, 0, 0, 0, 0, 0, 0, 0, 0, 0], title='Shawshank Redemption, The (1994)'),\n",
       " Row(date='01-Jan-1993', id=65, link=\"http://us.imdb.com/M/title-exact?What's%20Eating%20Gilbert%20Grape%20(1993)\", rating=[0, 0, 0, 0, 0, 1, 0, 0, 1, 0, 0, 0, 0, 0, 0, 0, 0, 0, 0], title=\"What's Eating Gilbert Grape (1993)\"),\n",
       " Row(date='01-Jan-1995', id=66, link='http://us.imdb.com/M/title-exact?While%20You%20Were%20Sleeping%20(1995)', rating=[0, 0, 0, 0, 0, 1, 0, 0, 0, 0, 0, 0, 0, 0, 1, 0, 0, 0, 0], title='While You Were Sleeping (1995)'),\n",
       " Row(date='01-Jan-1994', id=67, link='http://us.imdb.com/M/title-exact?Ace%20Ventura:%20Pet%20Detective%20(1994)', rating=[0, 0, 0, 0, 0, 1, 0, 0, 0, 0, 0, 0, 0, 0, 0, 0, 0, 0, 0], title='Ace Ventura: Pet Detective (1994)'),\n",
       " Row(date='01-Jan-1994', id=68, link='http://us.imdb.com/M/title-exact?Crow,%20The%20(1994)', rating=[0, 1, 0, 0, 0, 0, 0, 0, 0, 0, 0, 0, 0, 0, 1, 0, 1, 0, 0], title='Crow, The (1994)'),\n",
       " Row(date='01-Jan-1994', id=69, link='http://us.imdb.com/M/title-exact?Forrest%20Gump%20(1994)', rating=[0, 0, 0, 0, 0, 1, 0, 0, 0, 0, 0, 0, 0, 0, 1, 0, 0, 1, 0], title='Forrest Gump (1994)'),\n",
       " Row(date='01-Jan-1994', id=70, link='http://us.imdb.com/M/title-exact?Four%20Weddings%20and%20a%20Funeral%20(1994)', rating=[0, 0, 0, 0, 0, 1, 0, 0, 0, 0, 0, 0, 0, 0, 1, 0, 0, 0, 0], title='Four Weddings and a Funeral (1994)'),\n",
       " Row(date='01-Jan-1994', id=71, link='http://us.imdb.com/M/title-exact?Lion%20King,%20The%20(1994)', rating=[0, 0, 0, 1, 1, 0, 0, 0, 0, 0, 0, 0, 1, 0, 0, 0, 0, 0, 0], title='Lion King, The (1994)'),\n",
       " Row(date='01-Jan-1994', id=72, link='http://us.imdb.com/M/title-exact?Mask,%20The%20(1994)', rating=[0, 0, 0, 0, 0, 1, 1, 0, 0, 1, 0, 0, 0, 0, 0, 0, 0, 0, 0], title='Mask, The (1994)'),\n",
       " Row(date='01-Jan-1994', id=73, link='http://us.imdb.com/M/title-exact?Maverick%20(1994)', rating=[0, 1, 0, 0, 0, 1, 0, 0, 0, 0, 0, 0, 0, 0, 0, 0, 0, 0, 1], title='Maverick (1994)'),\n",
       " Row(date='01-Jan-1965', id=74, link='http://us.imdb.com/M/title-exact?Faster%20Pussycat!%20Kill!%20Kill!%20(1965)', rating=[0, 1, 0, 0, 0, 1, 0, 0, 1, 0, 0, 0, 0, 0, 0, 0, 0, 0, 0], title='Faster Pussycat! Kill! Kill! (1965)'),\n",
       " Row(date='01-Jan-1994', id=75, link='http://us.imdb.com/M/title-exact?Brother%20Minister:%20The%20Assassination%20of%20Malcolm%20X%20(1994)', rating=[0, 0, 0, 0, 0, 0, 0, 1, 0, 0, 0, 0, 0, 0, 0, 0, 0, 0, 0], title='Brother Minister: The Assassination of Malcolm X (1994)'),\n",
       " Row(date='01-Jan-1993', id=76, link=\"http://us.imdb.com/M/title-exact?Carlito's%20Way%20(1993)\", rating=[0, 0, 0, 0, 0, 0, 1, 0, 1, 0, 0, 0, 0, 0, 0, 0, 0, 0, 0], title=\"Carlito's Way (1993)\"),\n",
       " Row(date='01-Jan-1993', id=77, link='http://us.imdb.com/M/title-exact?Firm,%20The%20(1993)', rating=[0, 0, 0, 0, 0, 0, 0, 0, 1, 0, 0, 0, 0, 0, 0, 0, 1, 0, 0], title='Firm, The (1993)'),\n",
       " Row(date='01-Jan-1993', id=78, link='http://us.imdb.com/M/title-exact?Free%20Willy%20(1993)', rating=[0, 0, 1, 0, 1, 0, 0, 0, 1, 0, 0, 0, 0, 0, 0, 0, 0, 0, 0], title='Free Willy (1993)'),\n",
       " Row(date='01-Jan-1993', id=79, link='http://us.imdb.com/M/title-exact?Fugitive,%20The%20(1993)', rating=[0, 1, 0, 0, 0, 0, 0, 0, 0, 0, 0, 0, 0, 0, 0, 0, 1, 0, 0], title='Fugitive, The (1993)'),\n",
       " Row(date='01-Jan-1993', id=80, link='http://us.imdb.com/M/title-exact?Hot%20Shots!%20Part%20Deux%20(1993)', rating=[0, 1, 0, 0, 0, 1, 0, 0, 0, 0, 0, 0, 0, 0, 0, 0, 0, 1, 0], title='Hot Shots! Part Deux (1993)'),\n",
       " Row(date='01-Jan-1994', id=81, link='http://us.imdb.com/M/title-exact?Hudsucker%20Proxy,%20The%20(1994)', rating=[0, 0, 0, 0, 0, 1, 0, 0, 0, 0, 0, 0, 0, 0, 1, 0, 0, 0, 0], title='Hudsucker Proxy, The (1994)'),\n",
       " Row(date='01-Jan-1993', id=82, link='http://us.imdb.com/M/title-exact?Jurassic%20Park%20(1993)', rating=[0, 1, 1, 0, 0, 0, 0, 0, 0, 0, 0, 0, 0, 0, 0, 1, 0, 0, 0], title='Jurassic Park (1993)'),\n",
       " Row(date='01-Jan-1993', id=83, link='http://us.imdb.com/M/title-exact?Much%20Ado%20About%20Nothing%20(1993)', rating=[0, 0, 0, 0, 0, 1, 0, 0, 0, 0, 0, 0, 0, 0, 1, 0, 0, 0, 0], title='Much Ado About Nothing (1993)'),\n",
       " Row(date='01-Jan-1994', id=84, link=\"http://us.imdb.com/M/title-exact?Robert%20A.%20Heinlein's%20The%20Puppet%20Masters%20(1994)\", rating=[0, 0, 0, 0, 0, 0, 0, 0, 0, 0, 0, 1, 0, 0, 0, 1, 0, 0, 0], title=\"Robert A. Heinlein's The Puppet Masters (1994)\"),\n",
       " Row(date='01-Jan-1994', id=85, link='http://us.imdb.com/M/title-exact?Ref,%20The%20(1994)', rating=[0, 0, 0, 0, 0, 1, 0, 0, 0, 0, 0, 0, 0, 0, 0, 0, 0, 0, 0], title='Ref, The (1994)'),\n",
       " Row(date='01-Jan-1993', id=86, link='http://us.imdb.com/M/title-exact?Remains%20of%20the%20Day,%20The%20(1993)', rating=[0, 0, 0, 0, 0, 0, 0, 0, 1, 0, 0, 0, 0, 0, 0, 0, 0, 0, 0], title='Remains of the Day, The (1993)'),\n",
       " Row(date='01-Jan-1993', id=87, link='http://us.imdb.com/M/title-exact?Searching%20for%20Bobby%20Fischer%20(1993)', rating=[0, 0, 0, 0, 0, 0, 0, 0, 1, 0, 0, 0, 0, 0, 0, 0, 0, 0, 0], title='Searching for Bobby Fischer (1993)'),\n",
       " Row(date='01-Jan-1993', id=88, link='http://us.imdb.com/M/title-exact?Sleepless%20in%20Seattle%20(1993)', rating=[0, 0, 0, 0, 0, 1, 0, 0, 0, 0, 0, 0, 0, 0, 1, 0, 0, 0, 0], title='Sleepless in Seattle (1993)'),\n",
       " Row(date='01-Jan-1982', id=89, link='http://us.imdb.com/M/title-exact?Blade%20Runner%20(1982)', rating=[0, 0, 0, 0, 0, 0, 0, 0, 0, 0, 1, 0, 0, 0, 0, 1, 0, 0, 0], title='Blade Runner (1982)'),\n",
       " Row(date='01-Jan-1993', id=90, link='http://us.imdb.com/M/title-exact?So%20I%20Married%20an%20Axe%20Murderer%20(1993)', rating=[0, 0, 0, 0, 0, 1, 0, 0, 0, 0, 0, 0, 0, 0, 1, 0, 1, 0, 0], title='So I Married an Axe Murderer (1993)'),\n",
       " Row(date='01-Jan-1993', id=91, link='http://us.imdb.com/M/title-exact?Nightmare%20Before%20Christmas,%20The%20(1993)', rating=[0, 0, 0, 0, 1, 1, 0, 0, 0, 0, 0, 0, 1, 0, 0, 0, 0, 0, 0], title='Nightmare Before Christmas, The (1993)'),\n",
       " Row(date='01-Jan-1993', id=92, link='http://us.imdb.com/M/title-exact?True%20Romance%20(1993)', rating=[0, 1, 0, 0, 0, 0, 1, 0, 0, 0, 0, 0, 0, 0, 1, 0, 0, 0, 0], title='True Romance (1993)'),\n",
       " Row(date='24-May-1996', id=93, link='http://us.imdb.com/Title?Welcome+to+the+Dollhouse+(1995)', rating=[0, 0, 0, 0, 0, 1, 0, 0, 1, 0, 0, 0, 0, 0, 0, 0, 0, 0, 0], title='Welcome to the Dollhouse (1995)'),\n",
       " Row(date='01-Jan-1990', id=94, link='http://us.imdb.com/M/title-exact?Home%20Alone%20(1990)', rating=[0, 0, 0, 0, 1, 1, 0, 0, 0, 0, 0, 0, 0, 0, 0, 0, 0, 0, 0], title='Home Alone (1990)'),\n",
       " Row(date='01-Jan-1992', id=95, link='http://us.imdb.com/M/title-exact?Aladdin%20(1992)', rating=[0, 0, 0, 1, 1, 1, 0, 0, 0, 0, 0, 0, 1, 0, 0, 0, 0, 0, 0], title='Aladdin (1992)'),\n",
       " Row(date='01-Jan-1991', id=96, link='http://us.imdb.com/M/title-exact?Terminator%202:%20Judgment%20Day%20(1991)', rating=[0, 1, 0, 0, 0, 0, 0, 0, 0, 0, 0, 0, 0, 0, 0, 1, 1, 0, 0], title='Terminator 2: Judgment Day (1991)'),\n",
       " Row(date='01-Jan-1990', id=97, link='http://us.imdb.com/M/title-exact?Dances%20with%20Wolves%20(1990)', rating=[0, 0, 1, 0, 0, 0, 0, 0, 1, 0, 0, 0, 0, 0, 0, 0, 0, 0, 1], title='Dances with Wolves (1990)'),\n",
       " Row(date='01-Jan-1991', id=98, link='http://us.imdb.com/M/title-exact?Silence%20of%20the%20Lambs,%20The%20(1991)', rating=[0, 0, 0, 0, 0, 0, 0, 0, 1, 0, 0, 0, 0, 0, 0, 0, 1, 0, 0], title='Silence of the Lambs, The (1991)'),\n",
       " Row(date='01-Jan-1937', id=99, link='http://us.imdb.com/M/title-exact?Snow%20White%20and%20the%20Seven%20Dwarfs%20(1937)', rating=[0, 0, 0, 1, 1, 0, 0, 0, 0, 0, 0, 0, 1, 0, 0, 0, 0, 0, 0], title='Snow White and the Seven Dwarfs (1937)'),\n",
       " Row(date='14-Feb-1997', id=100, link='http://us.imdb.com/M/title-exact?Fargo%20(1996)', rating=[0, 0, 0, 0, 0, 0, 1, 0, 1, 0, 0, 0, 0, 0, 0, 0, 1, 0, 0], title='Fargo (1996)'),\n",
       " Row(date='08-Mar-1981', id=101, link='http://us.imdb.com/M/title-exact?Heavy%20Metal%20(1981)', rating=[0, 1, 1, 1, 0, 0, 0, 0, 0, 0, 0, 1, 0, 0, 0, 1, 0, 0, 0], title='Heavy Metal (1981)'),\n",
       " Row(date='01-Jan-1970', id=102, link='http://us.imdb.com/M/title-exact?Aristocats,%20The%20(1970)', rating=[0, 0, 0, 1, 1, 0, 0, 0, 0, 0, 0, 0, 0, 0, 0, 0, 0, 0, 0], title='Aristocats, The (1970)'),\n",
       " Row(date='29-Mar-1996', id=103, link='http://us.imdb.com/M/title-exact?All%20Dogs%20Go%20to%20Heaven%202%20(1996)', rating=[0, 0, 0, 1, 1, 0, 0, 0, 0, 0, 0, 0, 1, 0, 0, 0, 0, 0, 0], title='All Dogs Go to Heaven 2 (1996)'),\n",
       " Row(date='29-Mar-1996', id=104, link='http://us.imdb.com/M/title-exact?Theodore%20Rex%20(1995)', rating=[0, 0, 0, 0, 0, 1, 0, 0, 0, 0, 0, 0, 0, 0, 0, 0, 0, 0, 0], title='Theodore Rex (1995)'),\n",
       " Row(date='29-Mar-1996', id=105, link='http://us.imdb.com/M/title-exact?Sgt.%20Bilko%20(1996)', rating=[0, 0, 0, 0, 0, 1, 0, 0, 0, 0, 0, 0, 0, 0, 0, 0, 0, 0, 0], title='Sgt. Bilko (1996)'),\n",
       " Row(date='01-Jan-1996', id=106, link='http://us.imdb.com/M/title-exact?Diabolique%20(1996)', rating=[0, 0, 0, 0, 0, 0, 0, 0, 1, 0, 0, 0, 0, 0, 0, 0, 1, 0, 0], title='Diabolique (1996)'),\n",
       " Row(date='14-Jun-1996', id=107, link='http://us.imdb.com/M/title-exact?Moll%20Flanders%20(1996)', rating=[0, 0, 0, 0, 0, 0, 0, 0, 1, 0, 0, 0, 0, 0, 0, 0, 0, 0, 0], title='Moll Flanders (1996)'),\n",
       " Row(date='12-Apr-1996', id=108, link='http://us.imdb.com/M/title-exact?Kids%20in%20the%20Hall:%20Brain%20Candy%20(1996)', rating=[0, 0, 0, 0, 0, 1, 0, 0, 0, 0, 0, 0, 0, 0, 0, 0, 0, 0, 0], title='Kids in the Hall: Brain Candy (1996)'),\n",
       " Row(date='19-Apr-1996', id=109, link='http://us.imdb.com/M/title-exact?Mystery%20Science%20Theater%203000:%20The%20Movie%20(1996)', rating=[0, 0, 0, 0, 0, 1, 0, 0, 0, 0, 0, 0, 0, 0, 0, 1, 0, 0, 0], title='Mystery Science Theater 3000: The Movie (1996)'),\n",
       " Row(date='01-Jan-1995', id=110, link='http://us.imdb.com/M/title-exact?Operation%20Dumbo%20Drop%20(1995)', rating=[0, 1, 1, 0, 0, 1, 0, 0, 0, 0, 0, 0, 0, 0, 0, 0, 0, 1, 0], title='Operation Dumbo Drop (1995)'),\n",
       " Row(date='26-Apr-1996', id=111, link='http://us.imdb.com/M/title-exact?Truth%20About%20Cats%20&%20Dogs,%20The%20(1996)', rating=[0, 0, 0, 0, 0, 1, 0, 0, 0, 0, 0, 0, 0, 0, 1, 0, 0, 0, 0], title='Truth About Cats & Dogs, The (1996)'),\n",
       " Row(date='10-May-1996', id=112, link='http://us.imdb.com/M/title-exact?Flipper%20(1996)', rating=[0, 0, 1, 0, 1, 0, 0, 0, 0, 0, 0, 0, 0, 0, 0, 0, 0, 0, 0], title='Flipper (1996)'),\n",
       " Row(date='19-Apr-1996', id=113, link='http://us.imdb.com/M/title-exact?Hussard%20sur%20le%20toit,%20Le%20(1995)', rating=[0, 0, 0, 0, 0, 0, 0, 0, 1, 0, 0, 0, 0, 0, 0, 0, 0, 0, 0], title='Horseman on the Roof, The (Hussard sur le toit, Le) (1995)'),\n",
       " Row(date='05-Apr-1996', id=114, link='http://us.imdb.com/Title?Wallace+%26+Gromit%3A+The+Best+of+Aardman+Animation+(1996)', rating=[0, 0, 0, 1, 0, 0, 0, 0, 0, 0, 0, 0, 0, 0, 0, 0, 0, 0, 0], title='Wallace & Gromit: The Best of Aardman Animation (1996)'),\n",
       " Row(date='26-Apr-1996', id=115, link='http://us.imdb.com/Title?Haunted+World+of+Edward+D.+Wood+Jr.,+The+(1995)', rating=[0, 0, 0, 0, 0, 0, 0, 1, 0, 0, 0, 0, 0, 0, 0, 0, 0, 0, 0], title='Haunted World of Edward D. Wood Jr., The (1995)'),\n",
       " Row(date='23-Apr-1996', id=116, link='http://us.imdb.com/M/title-exact?Cold%20Comfort%20Farm%20(1995)%20(TV)', rating=[0, 0, 0, 0, 0, 1, 0, 0, 0, 0, 0, 0, 0, 0, 0, 0, 0, 0, 0], title='Cold Comfort Farm (1995)'),\n",
       " Row(date='07-Jun-1996', id=117, link='http://us.imdb.com/M/title-exact?Rock,%20The%20(1996)', rating=[0, 1, 1, 0, 0, 0, 0, 0, 0, 0, 0, 0, 0, 0, 0, 0, 1, 0, 0], title='Rock, The (1996)'),\n",
       " Row(date='10-May-1996', id=118, link='http://us.imdb.com/M/title-exact?Twister%20(1996)', rating=[0, 1, 1, 0, 0, 0, 0, 0, 0, 0, 0, 0, 0, 0, 0, 0, 1, 0, 0], title='Twister (1996)'),\n",
       " Row(date='01-Jan-1994', id=119, link='http://us.imdb.com/M/title-exact?Maya%20Lin:%20A%20Strong%20Clear%20Vision%20(1994)', rating=[0, 0, 0, 0, 0, 0, 0, 1, 0, 0, 0, 0, 0, 0, 0, 0, 0, 0, 0], title='Maya Lin: A Strong Clear Vision (1994)'),\n",
       " Row(date='28-Jun-1996', id=120, link='http://us.imdb.com/M/title-exact?Striptease%20(1996)', rating=[0, 0, 0, 0, 0, 1, 1, 0, 0, 0, 0, 0, 0, 0, 0, 0, 0, 0, 0], title='Striptease (1996)'),\n",
       " Row(date='03-Jul-1996', id=121, link='http://us.imdb.com/M/title-exact?Independence%20Day%20(1996)', rating=[0, 1, 0, 0, 0, 0, 0, 0, 0, 0, 0, 0, 0, 0, 0, 1, 0, 1, 0], title='Independence Day (ID4) (1996)'),\n",
       " Row(date='14-Jun-1996', id=122, link='http://us.imdb.com/M/title-exact?Cable%20Guy,%20The%20(1996)', rating=[0, 0, 0, 0, 0, 1, 0, 0, 0, 0, 0, 0, 0, 0, 0, 0, 0, 0, 0], title='Cable Guy, The (1996)'),\n",
       " Row(date='19-Jul-1996', id=123, link='http://us.imdb.com/M/title-exact?Frighteners,%20The%20(1996)', rating=[0, 0, 0, 0, 0, 1, 0, 0, 0, 0, 0, 1, 0, 0, 0, 0, 0, 0, 0], title='Frighteners, The (1996)'),\n",
       " Row(date='21-Jun-1996', id=124, link='http://us.imdb.com/M/title-exact?Lone%20Star%20(1996)', rating=[0, 0, 0, 0, 0, 0, 0, 0, 1, 0, 0, 0, 0, 1, 0, 0, 0, 0, 0], title='Lone Star (1996)'),\n",
       " Row(date='29-Jun-1996', id=125, link='http://us.imdb.com/M/title-exact?Phenomenon%20(1996)', rating=[0, 0, 0, 0, 0, 0, 0, 0, 1, 0, 0, 0, 0, 0, 1, 0, 0, 0, 0], title='Phenomenon (1996)'),\n",
       " Row(date='06-Sep-1996', id=126, link='http://us.imdb.com/M/title-exact?Spitfire%20Grill,%20The%20(1996)', rating=[0, 0, 0, 0, 0, 0, 0, 0, 1, 0, 0, 0, 0, 0, 0, 0, 0, 0, 0], title='Spitfire Grill, The (1996)'),\n",
       " Row(date='01-Jan-1972', id=127, link='http://us.imdb.com/M/title-exact?Godfather,%20The%20(1972)', rating=[0, 1, 0, 0, 0, 0, 1, 0, 1, 0, 0, 0, 0, 0, 0, 0, 0, 0, 0], title='Godfather, The (1972)'),\n",
       " Row(date='26-Jul-1996', id=128, link='http://us.imdb.com/M/title-exact?Police%20Story%20III:%20Supercop%20(1992)', rating=[0, 1, 0, 0, 0, 0, 0, 0, 0, 0, 0, 0, 0, 0, 0, 0, 1, 0, 0], title='Supercop (1992)'),\n",
       " Row(date='04-Oct-1996', id=129, link='http://us.imdb.com/M/title-exact?Bound%20(1996)', rating=[0, 0, 0, 0, 0, 0, 1, 0, 1, 0, 0, 0, 0, 0, 1, 0, 1, 0, 0], title='Bound (1996)'),\n",
       " Row(date='16-Aug-1996', id=130, link='http://us.imdb.com/M/title-exact?Kansas%20City%20(1996)', rating=[0, 0, 0, 0, 0, 0, 1, 0, 0, 0, 0, 0, 0, 0, 0, 0, 0, 0, 0], title='Kansas City (1996)'),\n",
       " Row(date='01-Jan-1961', id=131, link=\"http://us.imdb.com/M/title-exact?Breakfast%20at%20Tiffany's%20(1961)\", rating=[0, 0, 0, 0, 0, 0, 0, 0, 1, 0, 0, 0, 0, 0, 1, 0, 0, 0, 0], title=\"Breakfast at Tiffany's (1961)\"),\n",
       " Row(date='01-Jan-1939', id=132, link='http://us.imdb.com/M/title-exact?Wizard%20of%20Oz,%20The%20(1939)', rating=[0, 0, 1, 0, 1, 0, 0, 0, 1, 0, 0, 0, 1, 0, 0, 0, 0, 0, 0], title='Wizard of Oz, The (1939)'),\n",
       " Row(date='01-Jan-1939', id=133, link='http://us.imdb.com/M/title-exact?Gone%20with%20the%20Wind%20(1939)', rating=[0, 0, 0, 0, 0, 0, 0, 0, 1, 0, 0, 0, 0, 0, 1, 0, 0, 1, 0], title='Gone with the Wind (1939)'),\n",
       " Row(date='01-Jan-1941', id=134, link='http://us.imdb.com/M/title-exact?Citizen%20Kane%20(1941)', rating=[0, 0, 0, 0, 0, 0, 0, 0, 1, 0, 0, 0, 0, 0, 0, 0, 0, 0, 0], title='Citizen Kane (1941)'),\n",
       " Row(date='01-Jan-1968', id=135, link='http://us.imdb.com/M/title-exact?2001:%20A%20Space%20Odyssey%20(1968)', rating=[0, 0, 0, 0, 0, 0, 0, 0, 1, 0, 0, 0, 0, 1, 0, 1, 1, 0, 0], title='2001: A Space Odyssey (1968)'),\n",
       " Row(date='01-Jan-1939', id=136, link='http://us.imdb.com/M/title-exact?Mr.%20Smith%20Goes%20to%20Washington%20(1939)', rating=[0, 0, 0, 0, 0, 0, 0, 0, 1, 0, 0, 0, 0, 0, 0, 0, 0, 0, 0], title='Mr. Smith Goes to Washington (1939)'),\n",
       " Row(date='20-Sep-1996', id=137, link='http://us.imdb.com/M/title-exact?Big%20Night%20(1996)', rating=[0, 0, 0, 0, 0, 0, 0, 0, 1, 0, 0, 0, 0, 0, 0, 0, 0, 0, 0], title='Big Night (1996)'),\n",
       " Row(date='04-Oct-1996', id=138, link='http://us.imdb.com/M/title-exact?D3:%20The%20Mighty%20Ducks%20(1996)', rating=[0, 0, 0, 0, 1, 1, 0, 0, 0, 0, 0, 0, 0, 0, 0, 0, 0, 0, 0], title='D3: The Mighty Ducks (1996)'),\n",
       " Row(date='01-Jan-1969', id=139, link='http://us.imdb.com/M/title-exact?Love%20Bug,%20The%20(1969)', rating=[0, 0, 0, 0, 1, 1, 0, 0, 0, 0, 0, 0, 0, 0, 0, 0, 0, 0, 0], title='Love Bug, The (1969)'),\n",
       " Row(date='01-Jan-1993', id=140, link='http://us.imdb.com/M/title-exact?Homeward%20Bound:%20The%20Incredible%20Journey%20(1993)', rating=[0, 0, 1, 0, 1, 0, 0, 0, 0, 0, 0, 0, 0, 0, 0, 0, 0, 0, 0], title='Homeward Bound: The Incredible Journey (1993)'),\n",
       " Row(date='01-Jan-1954', id=141, link='http://us.imdb.com/M/title-exact?20,000%20Leagues%20Under%20the%20Sea%20(1954)', rating=[0, 0, 1, 0, 1, 0, 0, 0, 0, 1, 0, 0, 0, 0, 0, 1, 0, 0, 0], title='20,000 Leagues Under the Sea (1954)'),\n",
       " Row(date='01-Jan-1971', id=142, link='http://us.imdb.com/M/title-exact?Bedknobs%20and%20Broomsticks%20(1971)', rating=[0, 0, 1, 0, 1, 0, 0, 0, 0, 0, 0, 0, 1, 0, 0, 0, 0, 0, 0], title='Bedknobs and Broomsticks (1971)'),\n",
       " Row(date='01-Jan-1965', id=143, link='http://us.imdb.com/M/title-exact?Sound%20of%20Music,%20The%20(1965)', rating=[0, 0, 0, 0, 0, 0, 0, 0, 0, 0, 0, 0, 1, 0, 0, 0, 0, 0, 0], title='Sound of Music, The (1965)'),\n",
       " Row(date='01-Jan-1988', id=144, link='http://us.imdb.com/M/title-exact?Die%20Hard%20(1988)', rating=[0, 1, 0, 0, 0, 0, 0, 0, 0, 0, 0, 0, 0, 0, 0, 0, 1, 0, 0], title='Die Hard (1988)'),\n",
       " Row(date='01-Jan-1992', id=145, link='http://us.imdb.com/M/title-exact?Lawnmower%20Man,%20The%20(1992)', rating=[0, 1, 0, 0, 0, 0, 0, 0, 0, 0, 0, 0, 0, 0, 0, 1, 1, 0, 0], title='Lawnmower Man, The (1992)'),\n",
       " Row(date='30-Oct-1996', id=146, link='http://us.imdb.com/M/title-exact?Unhook%20the%20Stars%20(1996)', rating=[0, 0, 0, 0, 0, 0, 0, 0, 1, 0, 0, 0, 0, 0, 0, 0, 0, 0, 0], title='Unhook the Stars (1996)'),\n",
       " Row(date='05-Oct-1996', id=147, link='http://us.imdb.com/M/title-exact?Long%20Kiss%20Goodnight,%20The%20(1996)', rating=[0, 1, 0, 0, 0, 0, 0, 0, 0, 0, 0, 0, 0, 0, 0, 0, 1, 0, 0], title='Long Kiss Goodnight, The (1996)'),\n",
       " Row(date='11-Oct-1996', id=148, link='http://us.imdb.com/M/title-exact?Ghost%20and%20the%20Darkness,%20The%20(1996)', rating=[0, 1, 1, 0, 0, 0, 0, 0, 0, 0, 0, 0, 0, 0, 0, 0, 0, 0, 0], title='Ghost and the Darkness, The (1996)'),\n",
       " Row(date='01-Nov-1996', id=149, link='http://us.imdb.com/M/title-exact?Jude%20(1996)', rating=[0, 0, 0, 0, 0, 0, 0, 0, 1, 0, 0, 0, 0, 0, 0, 0, 0, 0, 0], title='Jude (1996)'),\n",
       " Row(date='18-Oct-1996', id=150, link='http://us.imdb.com/M/title-exact?Swingers%20(1996)', rating=[0, 0, 0, 0, 0, 1, 0, 0, 1, 0, 0, 0, 0, 0, 0, 0, 0, 0, 0], title='Swingers (1996)'),\n",
       " Row(date='01-Jan-1971', id=151, link='http://us.imdb.com/M/title-exact?Willy%20Wonka%20and%20the%20Chocolate%20Factory%20(1971)', rating=[0, 0, 1, 0, 1, 1, 0, 0, 0, 0, 0, 0, 0, 0, 0, 0, 0, 0, 0], title='Willy Wonka and the Chocolate Factory (1971)'),\n",
       " Row(date='01-Jan-1973', id=152, link='http://us.imdb.com/M/title-exact?Sleeper%20(1973)', rating=[0, 0, 0, 0, 0, 1, 0, 0, 0, 0, 0, 0, 0, 0, 0, 1, 0, 0, 0], title='Sleeper (1973)'),\n",
       " Row(date='01-Jan-1988', id=153, link='http://us.imdb.com/M/title-exact?Fish%20Called%20Wanda,%20A%20(1988)', rating=[0, 0, 0, 0, 0, 1, 0, 0, 0, 0, 0, 0, 0, 0, 0, 0, 0, 0, 0], title='Fish Called Wanda, A (1988)'),\n",
       " Row(date='01-Jan-1979', id=154, link='http://us.imdb.com/M/title-exact?Life%20of%20Brian%20(1979)', rating=[0, 0, 0, 0, 0, 1, 0, 0, 0, 0, 0, 0, 0, 0, 0, 0, 0, 0, 0], title=\"Monty Python's Life of Brian (1979)\"),\n",
       " Row(date='01-Jan-1987', id=155, link='http://us.imdb.com/M/title-exact?Dirty%20Dancing%20(1987)', rating=[0, 0, 0, 0, 0, 0, 0, 0, 0, 0, 0, 0, 1, 0, 1, 0, 0, 0, 0], title='Dirty Dancing (1987)'),\n",
       " Row(date='01-Jan-1992', id=156, link='http://us.imdb.com/M/title-exact?Reservoir%20Dogs%20(1992)', rating=[0, 0, 0, 0, 0, 0, 1, 0, 0, 0, 0, 0, 0, 0, 0, 0, 1, 0, 0], title='Reservoir Dogs (1992)'),\n",
       " Row(date='01-Jan-1986', id=157, link='http://us.imdb.com/M/title-exact?Platoon%20(1986)', rating=[0, 0, 0, 0, 0, 0, 0, 0, 1, 0, 0, 0, 0, 0, 0, 0, 0, 1, 0], title='Platoon (1986)'),\n",
       " Row(date='01-Jan-1989', id=158, link=\"http://us.imdb.com/M/title-exact?Weekend%20at%20Bernie's%20(1989)\", rating=[0, 0, 0, 0, 0, 1, 0, 0, 0, 0, 0, 0, 0, 0, 0, 0, 0, 0, 0], title=\"Weekend at Bernie's (1989)\"),\n",
       " Row(date='01-Jan-1992', id=159, link='http://us.imdb.com/M/title-exact?Basic%20Instinct%20(1992)', rating=[0, 0, 0, 0, 0, 0, 0, 0, 0, 0, 0, 0, 0, 1, 0, 0, 1, 0, 0], title='Basic Instinct (1992)'),\n",
       " Row(date='01-Jan-1992', id=160, link='http://us.imdb.com/M/title-exact?Glengarry%20Glen%20Ross%20(1992)', rating=[0, 0, 0, 0, 0, 0, 0, 0, 1, 0, 0, 0, 0, 0, 0, 0, 0, 0, 0], title='Glengarry Glen Ross (1992)'),\n",
       " Row(date='01-Jan-1986', id=161, link='http://us.imdb.com/M/title-exact?Top%20Gun%20(1986)', rating=[0, 1, 0, 0, 0, 0, 0, 0, 0, 0, 0, 0, 0, 0, 1, 0, 0, 0, 0], title='Top Gun (1986)'),\n",
       " Row(date='01-Jan-1981', id=162, link='http://us.imdb.com/M/title-exact?On%20Golden%20Pond%20(1981)', rating=[0, 0, 0, 0, 0, 0, 0, 0, 1, 0, 0, 0, 0, 0, 0, 0, 0, 0, 0], title='On Golden Pond (1981)'),\n",
       " Row(date='01-Jan-1974', id=163, link='http://us.imdb.com/M/title-exact?Return%20of%20the%20Pink%20Panther,%20The%20(1974)', rating=[0, 0, 0, 0, 0, 1, 0, 0, 0, 0, 0, 0, 0, 0, 0, 0, 0, 0, 0], title='Return of the Pink Panther, The (1974)'),\n",
       " Row(date='01-Jan-1989', id=164, link='http://us.imdb.com/M/title-exact?Abyss,%20The%20(1989)', rating=[0, 1, 1, 0, 0, 0, 0, 0, 0, 0, 0, 0, 0, 0, 0, 1, 1, 0, 0], title='Abyss, The (1989)'),\n",
       " Row(date='01-Jan-1986', id=165, link='http://us.imdb.com/M/title-exact?Jean%20de%20Florette%20(1986)', rating=[0, 0, 0, 0, 0, 0, 0, 0, 1, 0, 0, 0, 0, 0, 0, 0, 0, 0, 0], title='Jean de Florette (1986)'),\n",
       " Row(date='01-Jan-1986', id=166, link='http://us.imdb.com/M/title-exact?Manon%20des%20sources%20(1986)', rating=[0, 0, 0, 0, 0, 0, 0, 0, 1, 0, 0, 0, 0, 0, 0, 0, 0, 0, 0], title='Manon of the Spring (Manon des sources) (1986)'),\n",
       " Row(date='01-Jan-1980', id=167, link='http://us.imdb.com/M/title-exact?Private%20Benjamin%20(1980)', rating=[0, 0, 0, 0, 0, 1, 0, 0, 0, 0, 0, 0, 0, 0, 0, 0, 0, 0, 0], title='Private Benjamin (1980)'),\n",
       " Row(date='01-Jan-1974', id=168, link='http://us.imdb.com/M/title-exact?Monty%20Python%20and%20the%20Holy%20Grail%20(1974)', rating=[0, 0, 0, 0, 0, 1, 0, 0, 0, 0, 0, 0, 0, 0, 0, 0, 0, 0, 0], title='Monty Python and the Holy Grail (1974)'),\n",
       " Row(date='01-Jan-1993', id=169, link='http://us.imdb.com/M/title-exact?Wrong%20Trousers,%20The%20(1993)', rating=[0, 0, 0, 1, 0, 1, 0, 0, 0, 0, 0, 0, 0, 0, 0, 0, 0, 0, 0], title='Wrong Trousers, The (1993)'),\n",
       " Row(date='01-Jan-1988', id=170, link='http://us.imdb.com/M/title-exact?Nuovo%20cinema%20Paradiso%20(1988)', rating=[0, 0, 0, 0, 0, 1, 0, 0, 1, 0, 0, 0, 0, 0, 1, 0, 0, 0, 0], title='Cinema Paradiso (1988)'),\n",
       " Row(date='01-Jan-1991', id=171, link='http://us.imdb.com/M/title-exact?Delicatessen%20(1991)', rating=[0, 0, 0, 0, 0, 1, 0, 0, 0, 0, 0, 0, 0, 0, 0, 1, 0, 0, 0], title='Delicatessen (1991)'),\n",
       " Row(date='01-Jan-1980', id=172, link='http://us.imdb.com/M/title-exact?Empire%20Strikes%20Back,%20The%20(1980)', rating=[0, 1, 1, 0, 0, 0, 0, 0, 1, 0, 0, 0, 0, 0, 1, 1, 0, 1, 0], title='Empire Strikes Back, The (1980)'),\n",
       " Row(date='01-Jan-1987', id=173, link='http://us.imdb.com/M/title-exact?Princess%20Bride,%20The%20(1987)', rating=[0, 1, 1, 0, 0, 1, 0, 0, 0, 0, 0, 0, 0, 0, 1, 0, 0, 0, 0], title='Princess Bride, The (1987)'),\n",
       " Row(date='01-Jan-1981', id=174, link='http://us.imdb.com/M/title-exact?Raiders%20of%20the%20Lost%20Ark%20(1981)', rating=[0, 1, 1, 0, 0, 0, 0, 0, 0, 0, 0, 0, 0, 0, 0, 0, 0, 0, 0], title='Raiders of the Lost Ark (1981)'),\n",
       " Row(date='01-Jan-1985', id=175, link='http://us.imdb.com/M/title-exact?Brazil%20(1985)', rating=[0, 0, 0, 0, 0, 0, 0, 0, 0, 0, 0, 0, 0, 0, 0, 1, 0, 0, 0], title='Brazil (1985)'),\n",
       " Row(date='01-Jan-1986', id=176, link='http://us.imdb.com/M/title-exact?Aliens%20(1986)', rating=[0, 1, 0, 0, 0, 0, 0, 0, 0, 0, 0, 0, 0, 0, 0, 1, 1, 1, 0], title='Aliens (1986)'),\n",
       " Row(date='01-Jan-1966', id=177, link='http://us.imdb.com/M/title-exact?Buono,%20il%20brutto,%20il%20cattivo,%20Il%20(1966)', rating=[0, 1, 0, 0, 0, 0, 0, 0, 0, 0, 0, 0, 0, 0, 0, 0, 0, 0, 1], title='Good, The Bad and The Ugly, The (1966)'),\n",
       " Row(date='01-Jan-1957', id=178, link='http://us.imdb.com/M/title-exact?12%20Angry%20Men%20(1957)', rating=[0, 0, 0, 0, 0, 0, 0, 0, 1, 0, 0, 0, 0, 0, 0, 0, 0, 0, 0], title='12 Angry Men (1957)'),\n",
       " Row(date='01-Jan-1971', id=179, link='http://us.imdb.com/M/title-exact?Clockwork%20Orange,%20A%20(1971)', rating=[0, 0, 0, 0, 0, 0, 0, 0, 0, 0, 0, 0, 0, 0, 0, 1, 0, 0, 0], title='Clockwork Orange, A (1971)'),\n",
       " Row(date='01-Jan-1979', id=180, link='http://us.imdb.com/M/title-exact?Apocalypse%20Now%20(1979)', rating=[0, 0, 0, 0, 0, 0, 0, 0, 1, 0, 0, 0, 0, 0, 0, 0, 0, 1, 0], title='Apocalypse Now (1979)'),\n",
       " Row(date='14-Mar-1997', id=181, link='http://us.imdb.com/M/title-exact?Return%20of%20the%20Jedi%20(1983)', rating=[0, 1, 1, 0, 0, 0, 0, 0, 0, 0, 0, 0, 0, 0, 1, 1, 0, 1, 0], title='Return of the Jedi (1983)'),\n",
       " Row(date='01-Jan-1990', id=182, link='http://us.imdb.com/M/title-exact?GoodFellas%20(1990)', rating=[0, 0, 0, 0, 0, 0, 1, 0, 1, 0, 0, 0, 0, 0, 0, 0, 0, 0, 0], title='GoodFellas (1990)'),\n",
       " Row(date='01-Jan-1979', id=183, link='http://us.imdb.com/M/title-exact?Alien%20(1979)', rating=[0, 1, 0, 0, 0, 0, 0, 0, 0, 0, 0, 1, 0, 0, 0, 1, 1, 0, 0], title='Alien (1979)'),\n",
       " Row(date='01-Jan-1993', id=184, link='http://us.imdb.com/M/title-exact?Army%20of%20Darkness%20(1993)', rating=[0, 1, 1, 0, 0, 1, 0, 0, 0, 0, 0, 1, 0, 0, 0, 1, 0, 0, 0], title='Army of Darkness (1993)'),\n",
       " Row(date='01-Jan-1960', id=185, link='http://us.imdb.com/M/title-exact?Psycho%20(1960)', rating=[0, 0, 0, 0, 0, 0, 0, 0, 0, 0, 0, 1, 0, 0, 1, 0, 1, 0, 0], title='Psycho (1960)'),\n",
       " Row(date='01-Jan-1980', id=186, link='http://us.imdb.com/M/title-exact?Blues%20Brothers,%20The%20(1980)', rating=[0, 1, 0, 0, 0, 1, 0, 0, 0, 0, 0, 0, 1, 0, 0, 0, 0, 0, 0], title='Blues Brothers, The (1980)'),\n",
       " Row(date='01-Jan-1974', id=187, link='http://us.imdb.com/M/title-exact?Godfather:%20Part%20II,%20The%20(1974)', rating=[0, 1, 0, 0, 0, 0, 1, 0, 1, 0, 0, 0, 0, 0, 0, 0, 0, 0, 0], title='Godfather: Part II, The (1974)'),\n",
       " Row(date='01-Jan-1987', id=188, link='http://us.imdb.com/M/title-exact?Full%20Metal%20Jacket%20(1987)', rating=[0, 1, 0, 0, 0, 0, 0, 0, 1, 0, 0, 0, 0, 0, 0, 0, 0, 1, 0], title='Full Metal Jacket (1987)'),\n",
       " Row(date='01-Jan-1992', id=189, link='http://us.imdb.com/M/title-exact?Grand%20Day%20Out,%20A%20(1992)', rating=[0, 0, 0, 1, 0, 1, 0, 0, 0, 0, 0, 0, 0, 0, 0, 0, 0, 0, 0], title='Grand Day Out, A (1992)'),\n",
       " Row(date='01-Jan-1989', id=190, link='http://us.imdb.com/M/title-exact?Henry%20V%20(1989)', rating=[0, 0, 0, 0, 0, 0, 0, 0, 1, 0, 0, 0, 0, 0, 0, 0, 0, 1, 0], title='Henry V (1989)'),\n",
       " Row(date='01-Jan-1984', id=191, link='http://us.imdb.com/M/title-exact?Amadeus%20(1984)', rating=[0, 0, 0, 0, 0, 0, 0, 0, 1, 0, 0, 0, 0, 1, 0, 0, 0, 0, 0], title='Amadeus (1984)'),\n",
       " Row(date='01-Jan-1980', id=192, link='http://us.imdb.com/M/title-exact?Raging%20Bull%20(1980)', rating=[0, 0, 0, 0, 0, 0, 0, 0, 1, 0, 0, 0, 0, 0, 0, 0, 0, 0, 0], title='Raging Bull (1980)'),\n",
       " Row(date='01-Jan-1983', id=193, link='http://us.imdb.com/M/title-exact?Right%20Stuff,%20The%20(1983)', rating=[0, 0, 0, 0, 0, 0, 0, 0, 1, 0, 0, 0, 0, 0, 0, 0, 0, 0, 0], title='Right Stuff, The (1983)'),\n",
       " Row(date='01-Jan-1973', id=194, link='http://us.imdb.com/M/title-exact?Sting,%20The%20(1973)', rating=[0, 0, 0, 0, 0, 1, 1, 0, 0, 0, 0, 0, 0, 0, 0, 0, 0, 0, 0], title='Sting, The (1973)'),\n",
       " Row(date='01-Jan-1984', id=195, link='http://us.imdb.com/M/title-exact?Terminator,%20The%20(1984)', rating=[0, 1, 0, 0, 0, 0, 0, 0, 0, 0, 0, 0, 0, 0, 0, 1, 1, 0, 0], title='Terminator, The (1984)'),\n",
       " Row(date='01-Jan-1989', id=196, link='http://us.imdb.com/M/title-exact?Dead%20Poets%20Society%20(1989)', rating=[0, 0, 0, 0, 0, 0, 0, 0, 1, 0, 0, 0, 0, 0, 0, 0, 0, 0, 0], title='Dead Poets Society (1989)'),\n",
       " Row(date='01-Jan-1967', id=197, link='http://us.imdb.com/M/title-exact?Graduate,%20The%20(1967)', rating=[0, 0, 0, 0, 0, 0, 0, 0, 1, 0, 0, 0, 0, 0, 1, 0, 0, 0, 0], title='Graduate, The (1967)'),\n",
       " Row(date='01-Jan-1990', id=198, link='http://us.imdb.com/M/title-exact?Nikita%20(1990)', rating=[0, 0, 0, 0, 0, 0, 0, 0, 0, 0, 0, 0, 0, 0, 0, 0, 1, 0, 0], title='Nikita (La Femme Nikita) (1990)'),\n",
       " Row(date='01-Jan-1957', id=199, link='http://us.imdb.com/M/title-exact?Bridge%20on%20the%20River%20Kwai,%20The%20(1957)', rating=[0, 0, 0, 0, 0, 0, 0, 0, 1, 0, 0, 0, 0, 0, 0, 0, 0, 1, 0], title='Bridge on the River Kwai, The (1957)'),\n",
       " Row(date='01-Jan-1980', id=200, link='http://us.imdb.com/M/title-exact?Shining,%20The%20(1980)', rating=[0, 0, 0, 0, 0, 0, 0, 0, 0, 0, 0, 1, 0, 0, 0, 0, 0, 0, 0], title='Shining, The (1980)'),\n",
       " Row(date='01-Jan-1987', id=201, link='http://us.imdb.com/M/title-exact?Evil%20Dead%20II%20(1987)', rating=[0, 1, 1, 0, 0, 1, 0, 0, 0, 0, 0, 1, 0, 0, 0, 0, 0, 0, 0], title='Evil Dead II (1987)'),\n",
       " Row(date='01-Jan-1993', id=202, link='http://us.imdb.com/M/title-exact?Groundhog%20Day%20(1993)', rating=[0, 0, 0, 0, 0, 1, 0, 0, 0, 0, 0, 0, 0, 0, 1, 0, 0, 0, 0], title='Groundhog Day (1993)'),\n",
       " Row(date='01-Jan-1992', id=203, link='http://us.imdb.com/M/title-exact?Unforgiven%20(1992)', rating=[0, 0, 0, 0, 0, 0, 0, 0, 0, 0, 0, 0, 0, 0, 0, 0, 0, 0, 1], title='Unforgiven (1992)'),\n",
       " Row(date='01-Jan-1985', id=204, link='http://us.imdb.com/M/title-exact?Back%20to%20the%20Future%20(1985)', rating=[0, 0, 0, 0, 0, 1, 0, 0, 0, 0, 0, 0, 0, 0, 0, 1, 0, 0, 0], title='Back to the Future (1985)'),\n",
       " Row(date='01-Jan-1970', id=205, link='http://us.imdb.com/M/title-exact?Patton%20(1970)', rating=[0, 0, 0, 0, 0, 0, 0, 0, 1, 0, 0, 0, 0, 0, 0, 0, 0, 1, 0], title='Patton (1970)'),\n",
       " Row(date='01-Jan-1988', id=206, link='http://us.imdb.com/M/title-exact?Akira%20(1988)', rating=[0, 0, 1, 1, 0, 0, 0, 0, 0, 0, 0, 0, 0, 0, 0, 1, 1, 0, 0], title='Akira (1988)'),\n",
       " Row(date='01-Jan-1990', id=207, link='http://us.imdb.com/M/title-exact?Cyrano%20de%20Bergerac%20(1990)', rating=[0, 1, 0, 0, 0, 0, 0, 0, 1, 0, 0, 0, 0, 0, 1, 0, 0, 0, 0], title='Cyrano de Bergerac (1990)'),\n",
       " Row(date='01-Jan-1974', id=208, link='http://us.imdb.com/M/title-exact?Young%20Frankenstein%20(1974)', rating=[0, 0, 0, 0, 0, 1, 0, 0, 0, 0, 0, 1, 0, 0, 0, 0, 0, 0, 0], title='Young Frankenstein (1974)'),\n",
       " Row(date='01-Jan-1984', id=209, link='http://us.imdb.com/M/title-exact?This%20Is%20Spinal%20Tap%20(1984)', rating=[0, 0, 0, 0, 0, 1, 0, 0, 1, 0, 0, 0, 1, 0, 0, 0, 0, 0, 0], title='This Is Spinal Tap (1984)'),\n",
       " Row(date='01-Jan-1989', id=210, link='http://us.imdb.com/M/title-exact?Indiana%20Jones%20and%20the%20Last%20Crusade%20(1989)', rating=[0, 1, 1, 0, 0, 0, 0, 0, 0, 0, 0, 0, 0, 0, 0, 0, 0, 0, 0], title='Indiana Jones and the Last Crusade (1989)'),\n",
       " Row(date='01-Jan-1970', id=211, link='http://us.imdb.com/M/title-exact?MASH%20(1970)', rating=[0, 0, 0, 0, 0, 1, 0, 0, 0, 0, 0, 0, 0, 0, 0, 0, 0, 1, 0], title='M*A*S*H (1970)'),\n",
       " Row(date='01-Jan-1988', id=212, link='http://us.imdb.com/M/title-exact?Unbearable%20Lightness%20of%20Being,%20The%20(1988)', rating=[0, 0, 0, 0, 0, 0, 0, 0, 1, 0, 0, 0, 0, 0, 0, 0, 0, 0, 0], title='Unbearable Lightness of Being, The (1988)'),\n",
       " Row(date='01-Jan-1986', id=213, link='http://us.imdb.com/M/title-exact?Room%20with%20a%20View,%20A%20(1986)', rating=[0, 0, 0, 0, 0, 0, 0, 0, 1, 0, 0, 0, 0, 0, 1, 0, 0, 0, 0], title='Room with a View, A (1986)'),\n",
       " Row(date='01-Jan-1982', id=214, link='http://us.imdb.com/M/title-exact?Pink%20Floyd%20-%20The%20Wall%20(1982)', rating=[0, 0, 0, 0, 0, 0, 0, 0, 1, 0, 0, 0, 1, 0, 0, 0, 0, 1, 0], title='Pink Floyd - The Wall (1982)'),\n",
       " Row(date='01-Jan-1989', id=215, link='http://us.imdb.com/M/title-exact?Field%20of%20Dreams%20(1989)', rating=[0, 0, 0, 0, 0, 0, 0, 0, 1, 0, 0, 0, 0, 0, 0, 0, 0, 0, 0], title='Field of Dreams (1989)'),\n",
       " Row(date='01-Jan-1989', id=216, link='http://us.imdb.com/M/title-exact?When%20Harry%20Met%20Sally...%20(1989)', rating=[0, 0, 0, 0, 0, 1, 0, 0, 0, 0, 0, 0, 0, 0, 1, 0, 0, 0, 0], title='When Harry Met Sally... (1989)'),\n",
       " Row(date='01-Jan-1992', id=217, link=\"http://us.imdb.com/M/title-exact?Bram%20Stoker's%20Dracula%20(1992)\", rating=[0, 0, 0, 0, 0, 0, 0, 0, 0, 0, 0, 1, 0, 0, 1, 0, 0, 0, 0], title=\"Bram Stoker's Dracula (1992)\"),\n",
       " Row(date='01-Jan-1991', id=218, link='http://us.imdb.com/M/title-exact?Cape%20Fear%20(1991)', rating=[0, 0, 0, 0, 0, 0, 0, 0, 0, 0, 0, 0, 0, 0, 0, 0, 1, 0, 0], title='Cape Fear (1991)'),\n",
       " Row(date='01-Jan-1984', id=219, link='http://us.imdb.com/M/title-exact?Nightmare%20on%20Elm%20Street,%20A%20(1984)', rating=[0, 0, 0, 0, 0, 0, 0, 0, 0, 0, 0, 1, 0, 0, 0, 0, 0, 0, 0], title='Nightmare on Elm Street, A (1984)'),\n",
       " Row(date='15-Nov-1996', id=220, link='http://us.imdb.com/M/title-exact?Mirror%20Has%20Two%20Faces,%20The%20(1996)', rating=[0, 0, 0, 0, 0, 1, 0, 0, 0, 0, 0, 0, 0, 0, 1, 0, 0, 0, 0], title='Mirror Has Two Faces, The (1996)'),\n",
       " Row(date='15-Nov-1996', id=221, link='http://us.imdb.com/M/title-exact?Breaking%20the%20Waves%20(1996)', rating=[0, 0, 0, 0, 0, 0, 0, 0, 1, 0, 0, 0, 0, 0, 0, 0, 0, 0, 0], title='Breaking the Waves (1996)'),\n",
       " Row(date='22-Nov-1996', id=222, link='http://us.imdb.com/M/title-exact?Star%20Trek:%20First%20Contact%20(1996)', rating=[0, 1, 1, 0, 0, 0, 0, 0, 0, 0, 0, 0, 0, 0, 0, 1, 0, 0, 0], title='Star Trek: First Contact (1996)'),\n",
       " Row(date='22-Nov-1996', id=223, link='http://us.imdb.com/M/title-exact?Sling%20Blade%20(1996)', rating=[0, 0, 0, 0, 0, 0, 0, 0, 1, 0, 0, 0, 0, 0, 0, 0, 1, 0, 0], title='Sling Blade (1996)'),\n",
       " Row(date='27-Nov-1996', id=224, link='http://us.imdb.com/M/title-exact?Ridicule%20(1996)', rating=[0, 0, 0, 0, 0, 0, 0, 0, 1, 0, 0, 0, 0, 0, 0, 0, 0, 0, 0], title='Ridicule (1996)'),\n",
       " Row(date='27-Nov-1996', id=225, link='http://us.imdb.com/M/title-exact?101%20Dalmatians%20(1996)', rating=[0, 0, 0, 0, 1, 1, 0, 0, 0, 0, 0, 0, 0, 0, 0, 0, 0, 0, 0], title='101 Dalmatians (1996)'),\n",
       " Row(date='01-Jan-1990', id=226, link='http://us.imdb.com/M/title-exact?Die%20Hard%202%20(1990)', rating=[0, 1, 0, 0, 0, 0, 0, 0, 0, 0, 0, 0, 0, 0, 0, 0, 1, 0, 0], title='Die Hard 2 (1990)'),\n",
       " Row(date='01-Jan-1991', id=227, link='http://us.imdb.com/M/title-exact?Star%20Trek%20VI:%20The%20Undiscovered%20Country%20(1991)', rating=[0, 1, 1, 0, 0, 0, 0, 0, 0, 0, 0, 0, 0, 0, 0, 1, 0, 0, 0], title='Star Trek VI: The Undiscovered Country (1991)'),\n",
       " Row(date='01-Jan-1982', id=228, link='http://us.imdb.com/M/title-exact?Star%20Trek:%20The%20Wrath%20of%20Khan%20(1982)', rating=[0, 1, 1, 0, 0, 0, 0, 0, 0, 0, 0, 0, 0, 0, 0, 1, 0, 0, 0], title='Star Trek: The Wrath of Khan (1982)'),\n",
       " Row(date='01-Jan-1984', id=229, link='http://us.imdb.com/M/title-exact?Star%20Trek%20III:%20The%20Search%20for%20Spock%20(1984)', rating=[0, 1, 1, 0, 0, 0, 0, 0, 0, 0, 0, 0, 0, 0, 0, 1, 0, 0, 0], title='Star Trek III: The Search for Spock (1984)'),\n",
       " Row(date='01-Jan-1986', id=230, link='http://us.imdb.com/M/title-exact?Star%20Trek%20IV:%20The%20Voyage%20Home%20(1986)', rating=[0, 1, 1, 0, 0, 0, 0, 0, 0, 0, 0, 0, 0, 0, 0, 1, 0, 0, 0], title='Star Trek IV: The Voyage Home (1986)'),\n",
       " Row(date='01-Jan-1992', id=231, link='http://us.imdb.com/M/title-exact?Batman%20Returns%20(1992)', rating=[0, 1, 1, 0, 0, 1, 1, 0, 0, 0, 0, 0, 0, 0, 0, 0, 0, 0, 0], title='Batman Returns (1992)'),\n",
       " Row(date='01-Jan-1988', id=232, link='http://us.imdb.com/M/title-exact?Young%20Guns%20(1988)', rating=[0, 1, 0, 0, 0, 1, 0, 0, 0, 0, 0, 0, 0, 0, 0, 0, 0, 0, 1], title='Young Guns (1988)'),\n",
       " Row(date='01-Jan-1992', id=233, link='http://us.imdb.com/M/title-exact?Under%20Siege%20(1992)', rating=[0, 1, 0, 0, 0, 0, 0, 0, 0, 0, 0, 0, 0, 0, 0, 0, 0, 0, 0], title='Under Siege (1992)'),\n",
       " Row(date='01-Jan-1975', id=234, link='http://us.imdb.com/M/title-exact?Jaws%20(1975)', rating=[0, 1, 0, 0, 0, 0, 0, 0, 0, 0, 0, 1, 0, 0, 0, 0, 0, 0, 0], title='Jaws (1975)'),\n",
       " Row(date='13-Dec-1996', id=235, link='http://us.imdb.com/M/title-exact?Mars%20Attacks!%20(1996)', rating=[0, 1, 0, 0, 0, 1, 0, 0, 0, 0, 0, 0, 0, 0, 0, 1, 0, 1, 0], title='Mars Attacks! (1996)'),\n",
       " Row(date='13-Dec-1996', id=236, link='http://us.imdb.com/M/title-exact?Citizen%20Ruth%20(1996)', rating=[0, 0, 0, 0, 0, 1, 0, 0, 1, 0, 0, 0, 0, 0, 0, 0, 0, 0, 0], title='Citizen Ruth (1996)'),\n",
       " Row(date='13-Dec-1996', id=237, link='http://us.imdb.com/M/title-exact?Jerry%20Maguire%20(1996)', rating=[0, 0, 0, 0, 0, 0, 0, 0, 1, 0, 0, 0, 0, 0, 1, 0, 0, 0, 0], title='Jerry Maguire (1996)'),\n",
       " Row(date='01-Jan-1987', id=238, link='http://us.imdb.com/M/title-exact?Raising%20Arizona%20(1987)', rating=[0, 0, 0, 0, 0, 1, 0, 0, 0, 0, 0, 0, 0, 0, 0, 0, 0, 0, 0], title='Raising Arizona (1987)'),\n",
       " Row(date='01-Jan-1992', id=239, link='http://us.imdb.com/M/title-exact?Sneakers%20(1992)', rating=[0, 0, 0, 0, 0, 0, 1, 0, 1, 0, 0, 0, 0, 0, 0, 1, 0, 0, 0], title='Sneakers (1992)'),\n",
       " Row(date='20-Dec-1996', id=240, link='http://us.imdb.com/M/title-exact?Beavis%20and%20Butt-head%20Do%20America%20(1996)', rating=[0, 0, 0, 1, 0, 1, 0, 0, 0, 0, 0, 0, 0, 0, 0, 0, 0, 0, 0], title='Beavis and Butt-head Do America (1996)'),\n",
       " Row(date='01-Jan-1992', id=241, link='http://us.imdb.com/M/title-exact?Last%20of%20the%20Mohicans,%20The%20(1992)', rating=[0, 1, 0, 0, 0, 0, 0, 0, 0, 0, 0, 0, 0, 0, 1, 0, 0, 1, 0], title='Last of the Mohicans, The (1992)'),\n",
       " Row(date='24-Jan-1997', id=242, link='http://us.imdb.com/M/title-exact?Kolya%20(1996)', rating=[0, 0, 0, 0, 0, 1, 0, 0, 0, 0, 0, 0, 0, 0, 0, 0, 0, 0, 0], title='Kolya (1996)'),\n",
       " Row(date='07-Mar-1997', id=243, link='http://us.imdb.com/M/title-exact?Jungle2Jungle%20(1997)', rating=[0, 0, 0, 0, 1, 1, 0, 0, 0, 0, 0, 0, 0, 0, 0, 0, 0, 0, 0], title='Jungle2Jungle (1997)'),\n",
       " Row(date='14-Mar-1997', id=244, link='http://us.imdb.com/M/title-exact?Smilla%27s%20Sense%20of%20Snow%20(1997)', rating=[0, 1, 0, 0, 0, 0, 0, 0, 1, 0, 0, 0, 0, 0, 0, 0, 1, 0, 0], title=\"Smilla's Sense of Snow (1997)\"),\n",
       " Row(date='26-Mar-1997', id=245, link='http://us.imdb.com/M/title-exact?Devil%27s%20Own%2C%20The%20(1997)', rating=[0, 1, 0, 0, 0, 0, 0, 0, 1, 0, 0, 0, 0, 0, 0, 0, 1, 1, 0], title=\"Devil's Own, The (1997)\"),\n",
       " Row(date='01-Jan-1997', id=246, link='http://us.imdb.com/M/title-exact?Chasing+Amy+(1997)', rating=[0, 0, 0, 0, 0, 0, 0, 0, 1, 0, 0, 0, 0, 0, 1, 0, 0, 0, 0], title='Chasing Amy (1997)'),\n",
       " Row(date='28-Mar-1997', id=247, link='http://us.imdb.com/M/title-exact?Turbo%3A%20A%20Power%20Rangers%20Movie%20%281997%29', rating=[0, 1, 1, 0, 1, 0, 0, 0, 0, 0, 0, 0, 0, 0, 0, 0, 0, 0, 0], title='Turbo: A Power Rangers Movie (1997)'),\n",
       " Row(date='11-Apr-1997', id=248, link='http://us.imdb.com/M/title-exact?Grosse%20Pointe%20Blank%20%281997%29', rating=[0, 0, 0, 0, 0, 1, 1, 0, 0, 0, 0, 0, 0, 0, 0, 0, 0, 0, 0], title='Grosse Pointe Blank (1997)'),\n",
       " Row(date='02-May-1997', id=249, link='http://us.imdb.com/M/title-exact?Austin%20Powers%3A%20International%20Man%20of%20Mystery%20%281997%29', rating=[0, 0, 0, 0, 0, 1, 0, 0, 0, 0, 0, 0, 0, 0, 0, 0, 0, 0, 0], title='Austin Powers: International Man of Mystery (1997)'),\n",
       " Row(date='09-May-1997', id=250, link='http://us.imdb.com/M/title-exact?Fifth%20Element%2C%20The%20%281997%29', rating=[0, 1, 0, 0, 0, 0, 0, 0, 0, 0, 0, 0, 0, 0, 0, 1, 0, 0, 0], title='Fifth Element, The (1997)'),\n",
       " Row(date='11-Jul-1997', id=251, link='http://us.imdb.com/M/title-exact?Shall%20we%20DANSU%3F%20%281996%29', rating=[0, 0, 0, 0, 0, 1, 0, 0, 0, 0, 0, 0, 0, 0, 0, 0, 0, 0, 0], title='Shall We Dance? (1996)'),\n",
       " Row(date='23-May-1997', id=252, link='http://us.imdb.com/M/title-exact?Lost%20World%3A%20Jurassic%20Park%2C%20The%20%281997%29', rating=[0, 1, 1, 0, 0, 0, 0, 0, 0, 0, 0, 0, 0, 0, 0, 1, 1, 0, 0], title='Lost World: Jurassic Park, The (1997)'),\n",
       " Row(date='13-Jun-1997', id=253, link='http://us.imdb.com/M/title-exact?Pillow%20Book%2C%20The%20%281995%29', rating=[0, 0, 0, 0, 0, 0, 0, 0, 1, 0, 0, 0, 0, 0, 1, 0, 0, 0, 0], title='Pillow Book, The (1995)'),\n",
       " Row(date='20-Jun-1997', id=254, link='http://us.imdb.com/M/title-exact?Batman+%26+Robin+(1997)', rating=[0, 1, 1, 0, 0, 0, 1, 0, 0, 0, 0, 0, 0, 0, 0, 0, 0, 0, 0], title='Batman & Robin (1997)'),\n",
       " Row(date='20-Jun-1997', id=255, link='http://us.imdb.com/M/title-exact?My+Best+Friend%27s+Wedding+(1997)', rating=[0, 0, 0, 0, 0, 1, 0, 0, 0, 0, 0, 0, 0, 0, 1, 0, 0, 0, 0], title=\"My Best Friend's Wedding (1997)\"),\n",
       " Row(date='20-Jun-1997', id=256, link='http://us.imdb.com/M/title-exact?Chacun+cherche+son+chat+(1996)', rating=[0, 0, 0, 0, 0, 1, 0, 0, 0, 0, 0, 0, 0, 0, 1, 0, 0, 0, 0], title='When the Cats Away (Chacun cherche son chat) (1996)'),\n",
       " Row(date='04-Jul-1997', id=257, link='http://us.imdb.com/M/title-exact?Men+in+Black+(1997)', rating=[0, 1, 1, 0, 0, 1, 0, 0, 0, 0, 0, 0, 0, 0, 0, 1, 0, 0, 0], title='Men in Black (1997)'),\n",
       " Row(date='11-Jul-1997', id=258, link='http://us.imdb.com/Title?Contact+(1997/I)', rating=[0, 0, 0, 0, 0, 0, 0, 0, 1, 0, 0, 0, 0, 0, 0, 1, 0, 0, 0], title='Contact (1997)'),\n",
       " Row(date='01-Jan-1997', id=259, link='http://us.imdb.com/M/title-exact?George+of+the+Jungle+(1997)', rating=[0, 0, 0, 0, 1, 1, 0, 0, 0, 0, 0, 0, 0, 0, 0, 0, 0, 0, 0], title='George of the Jungle (1997)'),\n",
       " Row(date='01-Jan-1997', id=260, link='http://us.imdb.com/M/title-exact?Event+Horizon+(1997)', rating=[0, 1, 0, 0, 0, 0, 0, 0, 0, 0, 0, 0, 0, 1, 0, 1, 1, 0, 0], title='Event Horizon (1997)'),\n",
       " Row(date='01-Aug-1997', id=261, link='http://us.imdb.com/M/title-exact?Air+Bud+(1997)', rating=[0, 0, 0, 0, 1, 1, 0, 0, 0, 0, 0, 0, 0, 0, 0, 0, 0, 0, 0], title='Air Bud (1997)'),\n",
       " Row(date='01-Aug-1997', id=262, link='http://us.imdb.com/M/title-exact?In+the+Company+of+Men+(1997)', rating=[0, 0, 0, 0, 0, 0, 0, 0, 1, 0, 0, 0, 0, 0, 0, 0, 0, 0, 0], title='In the Company of Men (1997)'),\n",
       " Row(date='15-Aug-1997', id=263, link='http://us.imdb.com/M/title-exact?Steel+(1997)', rating=[0, 1, 0, 0, 0, 0, 0, 0, 0, 0, 0, 0, 0, 0, 0, 0, 0, 0, 0], title='Steel (1997)'),\n",
       " Row(date='22-Aug-1997', id=264, link='http://us.imdb.com/M/title-exact?Mimic+(1997)', rating=[0, 0, 0, 0, 0, 0, 0, 0, 0, 0, 0, 0, 0, 0, 0, 1, 1, 0, 0], title='Mimic (1997)'),\n",
       " Row(date='01-Jan-1990', id=265, link='http://us.imdb.com/M/title-exact?Hunt+for+Red+October%2C+The+(1990)', rating=[0, 1, 0, 0, 0, 0, 0, 0, 0, 0, 0, 0, 0, 0, 0, 0, 1, 0, 0], title='Hunt for Red October, The (1990)'),\n",
       " Row(date='29-Aug-1997', id=266, link='http://us.imdb.com/M/title-exact?Kull+the+Conqueror+(1997)', rating=[0, 1, 1, 0, 0, 0, 0, 0, 0, 0, 0, 0, 0, 0, 0, 0, 0, 0, 0], title='Kull the Conqueror (1997)'),\n",
       " Row(date='', id=267, link='', rating=[1, 0, 0, 0, 0, 0, 0, 0, 0, 0, 0, 0, 0, 0, 0, 0, 0, 0, 0], title='unknown'),\n",
       " Row(date='01-Jan-1997', id=268, link='http://us.imdb.com/M/title-exact?Chasing+Amy+(1997)', rating=[0, 0, 0, 0, 0, 0, 0, 0, 1, 0, 0, 0, 0, 0, 1, 0, 0, 0, 0], title='Chasing Amy (1997)'),\n",
       " Row(date='01-Jan-1997', id=269, link='http://us.imdb.com/M/title-exact?Full+Monty%2C+The+(1997)', rating=[0, 0, 0, 0, 0, 1, 0, 0, 0, 0, 0, 0, 0, 0, 0, 0, 0, 0, 0], title='Full Monty, The (1997)'),\n",
       " Row(date='01-Jan-1997', id=270, link='http://us.imdb.com/M/title-exact?Gattaca+(1997)', rating=[0, 0, 0, 0, 0, 0, 0, 0, 1, 0, 0, 0, 0, 0, 0, 1, 1, 0, 0], title='Gattaca (1997)'),\n",
       " Row(date='01-Jan-1997', id=271, link='http://us.imdb.com/M/title-exact?Starship+Troopers+(1997)', rating=[0, 1, 1, 0, 0, 0, 0, 0, 0, 0, 0, 0, 0, 0, 0, 1, 0, 1, 0], title='Starship Troopers (1997)'),\n",
       " Row(date='01-Jan-1997', id=272, link='http://us.imdb.com/M/title-exact?imdb-title-119217', rating=[0, 0, 0, 0, 0, 0, 0, 0, 1, 0, 0, 0, 0, 0, 0, 0, 0, 0, 0], title='Good Will Hunting (1997)'),\n",
       " Row(date='01-Jan-1995', id=273, link='http://us.imdb.com/M/title-exact?Heat%20(1995)', rating=[0, 1, 0, 0, 0, 0, 1, 0, 0, 0, 0, 0, 0, 0, 0, 0, 1, 0, 0], title='Heat (1995)'),\n",
       " Row(date='01-Jan-1995', id=274, link='http://us.imdb.com/M/title-exact?Sabrina%20(1995)', rating=[0, 0, 0, 0, 0, 1, 0, 0, 0, 0, 0, 0, 0, 0, 1, 0, 0, 0, 0], title='Sabrina (1995)'),\n",
       " Row(date='01-Jan-1995', id=275, link='http://us.imdb.com/M/title-exact?Sense%20and%20Sensibility%20(1995)', rating=[0, 0, 0, 0, 0, 0, 0, 0, 1, 0, 0, 0, 0, 0, 1, 0, 0, 0, 0], title='Sense and Sensibility (1995)'),\n",
       " Row(date='01-Jan-1995', id=276, link='http://us.imdb.com/M/title-exact?Leaving%20Las%20Vegas%20(1995)', rating=[0, 0, 0, 0, 0, 0, 0, 0, 1, 0, 0, 0, 0, 0, 1, 0, 0, 0, 0], title='Leaving Las Vegas (1995)'),\n",
       " Row(date='01-Jan-1995', id=277, link='http://us.imdb.com/M/title-exact?Restoration%20(1995)', rating=[0, 0, 0, 0, 0, 0, 0, 0, 1, 0, 0, 0, 0, 0, 0, 0, 0, 0, 0], title='Restoration (1995)'),\n",
       " Row(date='01-Jan-1996', id=278, link='http://us.imdb.com/M/title-exact?Bed%20of%20Roses%20(1996)', rating=[0, 0, 0, 0, 0, 0, 0, 0, 1, 0, 0, 0, 0, 0, 1, 0, 0, 0, 0], title='Bed of Roses (1996)'),\n",
       " Row(date='01-Jan-1995', id=279, link='http://us.imdb.com/M/title-exact?Once%20Upon%20a%20Time... When%20We%20Were%20Colored%20(1995)', rating=[0, 0, 0, 0, 0, 0, 0, 0, 1, 0, 0, 0, 0, 0, 0, 0, 0, 0, 0], title='Once Upon a Time... When We Were Colored (1995)'),\n",
       " Row(date='01-Mar-1996', id=280, link='http://us.imdb.com/M/title-exact?Up%20Close%20and%20Personal%20(1996)', rating=[0, 0, 0, 0, 0, 0, 0, 0, 1, 0, 0, 0, 0, 0, 1, 0, 0, 0, 0], title='Up Close and Personal (1996)'),\n",
       " Row(date='01-Jan-1994', id=281, link='http://us.imdb.com/M/title-exact?River%20Wild,%20The%20(1994)', rating=[0, 1, 0, 0, 0, 0, 0, 0, 0, 0, 0, 0, 0, 0, 0, 0, 1, 0, 0], title='River Wild, The (1994)'),\n",
       " Row(date='13-Jul-1996', id=282, link='http://us.imdb.com/M/title-exact?Time%20to%20Kill,%20A%20(1996)', rating=[0, 0, 0, 0, 0, 0, 0, 0, 1, 0, 0, 0, 0, 0, 0, 0, 0, 0, 0], title='Time to Kill, A (1996)'),\n",
       " Row(date='02-Aug-1996', id=283, link='http://us.imdb.com/M/title-exact?Emma%20(1996)', rating=[0, 0, 0, 0, 0, 0, 0, 0, 1, 0, 0, 0, 0, 0, 1, 0, 0, 0, 0], title='Emma (1996)'),\n",
       " Row(date='16-Aug-1996', id=284, link='http://us.imdb.com/M/title-exact?Tin%20Cup%20(1996)', rating=[0, 0, 0, 0, 0, 1, 0, 0, 0, 0, 0, 0, 0, 0, 1, 0, 0, 0, 0], title='Tin Cup (1996)'),\n",
       " Row(date='04-Oct-1996', id=285, link='http://us.imdb.com/M/title-exact?Secrets%20&%20Lies%20(1996)', rating=[0, 0, 0, 0, 0, 0, 0, 0, 1, 0, 0, 0, 0, 0, 0, 0, 0, 0, 0], title='Secrets & Lies (1996)'),\n",
       " Row(date='15-Nov-1996', id=286, link='http://us.imdb.com/M/title-exact?English%20Patient,%20The%20(1996)', rating=[0, 0, 0, 0, 0, 0, 0, 0, 1, 0, 0, 0, 0, 0, 1, 0, 0, 1, 0], title='English Patient, The (1996)'),\n",
       " Row(date='18-Dec-1996', id=287, link=\"http://us.imdb.com/M/title-exact?Marvin's%20Room%20(1996)\", rating=[0, 0, 0, 0, 0, 0, 0, 0, 1, 0, 0, 0, 0, 0, 0, 0, 0, 0, 0], title=\"Marvin's Room (1996)\"),\n",
       " Row(date='20-Dec-1996', id=288, link='http://us.imdb.com/M/title-exact?Scream%20(1996)', rating=[0, 0, 0, 0, 0, 0, 0, 0, 0, 0, 0, 1, 0, 0, 0, 0, 1, 0, 0], title='Scream (1996)'),\n",
       " Row(date='25-Dec-1996', id=289, link='http://us.imdb.com/M/title-exact?Evita%20(1996)', rating=[0, 0, 0, 0, 0, 0, 0, 0, 1, 0, 0, 0, 1, 0, 0, 0, 0, 0, 0], title='Evita (1996)'),\n",
       " Row(date='10-Jan-1997', id=290, link='http://us.imdb.com/M/title-exact?Fierce%20Creatures%20(1997)', rating=[0, 0, 0, 0, 0, 1, 0, 0, 0, 0, 0, 0, 0, 0, 0, 0, 0, 0, 0], title='Fierce Creatures (1997)'),\n",
       " Row(date='14-Feb-1997', id=291, link='http://us.imdb.com/M/title-exact?Absolute%20Power%20(1997)', rating=[0, 0, 0, 0, 0, 0, 0, 0, 0, 0, 0, 0, 0, 1, 0, 0, 1, 0, 0], title='Absolute Power (1997)'),\n",
       " Row(date='21-Feb-1997', id=292, link='http://us.imdb.com/M/title-exact?Rosewood%20(1997)', rating=[0, 0, 0, 0, 0, 0, 0, 0, 1, 0, 0, 0, 0, 0, 0, 0, 0, 0, 0], title='Rosewood (1997)'),\n",
       " Row(date='28-Feb-1997', id=293, link='http://us.imdb.com/M/title-exact?Donnie%20Brasco%20(1997)', rating=[0, 0, 0, 0, 0, 0, 1, 0, 1, 0, 0, 0, 0, 0, 0, 0, 0, 0, 0], title='Donnie Brasco (1997)'),\n",
       " Row(date='21-Mar-1997', id=294, link='http://us.imdb.com/Title?Liar+Liar+(1997)', rating=[0, 0, 0, 0, 0, 1, 0, 0, 0, 0, 0, 0, 0, 0, 0, 0, 0, 0, 0], title='Liar Liar (1997)'),\n",
       " Row(date='02-May-1997', id=295, link='http://us.imdb.com/M/title-exact?Breakdown%20%281997%29', rating=[0, 1, 0, 0, 0, 0, 0, 0, 0, 0, 0, 0, 0, 0, 0, 0, 1, 0, 0], title='Breakdown (1997)'),\n",
       " Row(date='16-May-1997', id=296, link='http://us.imdb.com/M/title-exact?Promesse%2C%20La%20%281996%29', rating=[0, 0, 0, 0, 0, 0, 0, 0, 1, 0, 0, 0, 0, 0, 0, 0, 0, 0, 0], title='Promesse, La (1996)'),\n",
       " Row(date='01-Jan-1997', id=297, link='http://us.imdb.com/M/title-exact?Ulee%27s+Gold+(1997)', rating=[0, 0, 0, 0, 0, 0, 0, 0, 1, 0, 0, 0, 0, 0, 0, 0, 0, 0, 0], title=\"Ulee's Gold (1997)\"),\n",
       " Row(date='27-Jun-1997', id=298, link='http://us.imdb.com/M/title-exact?Face/Off+(1997)', rating=[0, 1, 0, 0, 0, 0, 0, 0, 0, 0, 0, 0, 0, 0, 0, 1, 1, 0, 0], title='Face/Off (1997)'),\n",
       " Row(date='22-Aug-1997', id=299, link='http://us.imdb.com/M/title-exact?Hoodlum+(1997)', rating=[0, 0, 0, 0, 0, 0, 1, 0, 1, 0, 1, 0, 0, 0, 0, 0, 0, 0, 0], title='Hoodlum (1997)'),\n",
       " Row(date='01-Jan-1997', id=300, link='http://us.imdb.com/M/title-exact?Air+Force+One+(1997)', rating=[0, 1, 0, 0, 0, 0, 0, 0, 0, 0, 0, 0, 0, 0, 0, 0, 1, 0, 0], title='Air Force One (1997)'),\n",
       " Row(date='19-Sep-1997', id=301, link='http://us.imdb.com/Title?In+%26+Out+(1997)', rating=[0, 0, 0, 0, 0, 1, 0, 0, 0, 0, 0, 0, 0, 0, 0, 0, 0, 0, 0], title='In & Out (1997)'),\n",
       " Row(date='01-Jan-1997', id=302, link='http://us.imdb.com/M/title-exact?L%2EA%2E+Confidential+(1997)', rating=[0, 0, 0, 0, 0, 0, 1, 0, 0, 0, 1, 0, 0, 1, 0, 0, 1, 0, 0], title='L.A. Confidential (1997)'),\n",
       " Row(date='01-Jan-1997', id=303, link='http://us.imdb.com/M/title-exact?Ulee%27s+Gold+(1997)', rating=[0, 0, 0, 0, 0, 0, 0, 0, 1, 0, 0, 0, 0, 0, 0, 0, 0, 0, 0], title=\"Ulee's Gold (1997)\"),\n",
       " Row(date='13-Sep-1996', id=304, link='http://us.imdb.com/M/title-exact?Fly%20Away%20Home%20(1996)', rating=[0, 0, 1, 0, 1, 0, 0, 0, 0, 0, 0, 0, 0, 0, 0, 0, 0, 0, 0], title='Fly Away Home (1996)'),\n",
       " Row(date='01-Jan-1997', id=305, link='http://us.imdb.com/M/title-exact?Ice+Storm%2C+The+(1997)', rating=[0, 0, 0, 0, 0, 0, 0, 0, 1, 0, 0, 0, 0, 0, 0, 0, 0, 0, 0], title='Ice Storm, The (1997)'),\n",
       " Row(date='01-Jan-1997', id=306, link='http://us.imdb.com/M/title-exact?Her+Majesty%2C+Mrs%2E+Brown+(1997)', rating=[0, 0, 0, 0, 0, 0, 0, 0, 1, 0, 0, 0, 0, 0, 1, 0, 0, 0, 0], title='Mrs. Brown (Her Majesty, Mrs. Brown) (1997)'),\n",
       " Row(date='01-Jan-1997', id=307, link=\"http://us.imdb.com/M/title-exact?Devil's+Advocate,+The+(1997)\", rating=[0, 0, 0, 0, 0, 0, 1, 0, 0, 0, 0, 1, 0, 1, 0, 0, 1, 0, 0], title=\"Devil's Advocate, The (1997)\"),\n",
       " Row(date='01-Jan-1997', id=308, link='http://us.imdb.com/M/title-exact?Fairytale:+A+True+Story+(1997)', rating=[0, 0, 0, 0, 1, 0, 0, 0, 1, 1, 0, 0, 0, 0, 0, 0, 0, 0, 0], title='FairyTale: A True Story (1997)'),\n",
       " Row(date='01-Jan-1997', id=309, link='http://us.imdb.com/M/title-exact?Liar+(1997)', rating=[0, 0, 0, 0, 0, 0, 1, 0, 0, 0, 0, 0, 0, 0, 0, 0, 0, 0, 0], title='Deceiver (1997)'),\n",
       " Row(date='01-Jan-1997', id=310, link='http://us.imdb.com/M/title-exact?Rainmaker,+The+(1997)', rating=[0, 0, 0, 0, 0, 0, 0, 0, 1, 0, 0, 0, 0, 0, 0, 0, 0, 0, 0], title='Rainmaker, The (1997)'),\n",
       " Row(date='01-Jan-1997', id=311, link='http://us.imdb.com/M/title-exact?Wings+of+the+Dove%2C+The+(1997)', rating=[0, 0, 0, 0, 0, 0, 0, 0, 1, 0, 0, 0, 0, 0, 1, 0, 1, 0, 0], title='Wings of the Dove, The (1997)'),\n",
       " Row(date='01-Jan-1997', id=312, link='http://us.imdb.com/M/title-exact?Midnight+in+the+Garden+of+Good+and+Evil+(1997)', rating=[0, 0, 0, 0, 0, 1, 1, 0, 1, 0, 0, 0, 0, 1, 0, 0, 0, 0, 0], title='Midnight in the Garden of Good and Evil (1997)'),\n",
       " Row(date='01-Jan-1997', id=313, link='http://us.imdb.com/M/title-exact?imdb-title-120338', rating=[0, 1, 0, 0, 0, 0, 0, 0, 1, 0, 0, 0, 0, 0, 1, 0, 0, 0, 0], title='Titanic (1997)'),\n",
       " Row(date='01-Jan-1997', id=314, link='http://us.imdb.com/M/title-exact?imdb-title-118539', rating=[0, 1, 0, 0, 1, 0, 0, 0, 0, 0, 0, 0, 0, 0, 0, 0, 0, 0, 0], title='3 Ninjas: High Noon At Mega Mountain (1998)'),\n",
       " Row(date='23-Oct-1998', id=315, link='http://us.imdb.com/Title?Apt+Pupil+(1998)', rating=[0, 0, 0, 0, 0, 0, 0, 0, 1, 0, 0, 0, 0, 0, 0, 0, 1, 0, 0], title='Apt Pupil (1998)'),\n",
       " Row(date='23-Dec-1997', id=316, link='http://us.imdb.com/Title?As+Good+As+It+Gets+(1997)', rating=[0, 0, 0, 0, 0, 1, 0, 0, 1, 0, 0, 0, 0, 0, 0, 0, 0, 0, 0], title='As Good As It Gets (1997)'),\n",
       " Row(date='01-Jan-1993', id=317, link='http://us.imdb.com/M/title-exact?In%20the%20Name%20of%20the%20Father%20(1993)', rating=[0, 0, 0, 0, 0, 0, 0, 0, 1, 0, 0, 0, 0, 0, 0, 0, 0, 0, 0], title='In the Name of the Father (1993)'),\n",
       " Row(date='01-Jan-1993', id=318, link=\"http://us.imdb.com/M/title-exact?Schindler's%20List%20(1993)\", rating=[0, 0, 0, 0, 0, 0, 0, 0, 1, 0, 0, 0, 0, 0, 0, 0, 0, 1, 0], title=\"Schindler's List (1993)\"),\n",
       " Row(date='06-Dec-1996', id=319, link='http://us.imdb.com/M/title-exact?Everyone%20Says%20I%20Love%20You%20(1996)', rating=[0, 0, 0, 0, 0, 1, 0, 0, 0, 0, 0, 0, 1, 0, 1, 0, 0, 0, 0], title='Everyone Says I Love You (1996)'),\n",
       " Row(date='06-Dec-1996', id=320, link='http://us.imdb.com/M/title-exact?Paradise%20Lost%3a%20The%20Child%20Murders%20at%20Robin%20Hood%20Hills%20(1996)', rating=[0, 0, 0, 0, 0, 0, 0, 1, 0, 0, 0, 0, 0, 0, 0, 0, 0, 0, 0], title='Paradise Lost: The Child Murders at Robin Hood Hills (1996)'),\n",
       " Row(date='25-Dec-1996', id=321, link='http://us.imdb.com/M/title-exact?Mother%20(1996/I)', rating=[0, 0, 0, 0, 0, 1, 0, 0, 0, 0, 0, 0, 0, 0, 0, 0, 0, 0, 0], title='Mother (1996)'),\n",
       " Row(date='18-Apr-1997', id=322, link='http://us.imdb.com/M/title-exact?Murder%20at%201600%20(1997)', rating=[0, 0, 0, 0, 0, 0, 0, 0, 0, 0, 0, 0, 0, 1, 0, 0, 1, 0, 0], title='Murder at 1600 (1997)'),\n",
       " Row(date='07-Feb-1997', id=323, link=\"http://us.imdb.com/M/title-exact?Dante's%20Peak%20(1997)\", rating=[0, 1, 0, 0, 0, 0, 0, 0, 0, 0, 0, 0, 0, 0, 0, 0, 1, 0, 0], title=\"Dante's Peak (1997)\"),\n",
       " Row(date='21-Feb-1997', id=324, link='http://us.imdb.com/Title?Lost+Highway+(1997)', rating=[0, 0, 0, 0, 0, 0, 0, 0, 0, 0, 0, 0, 0, 1, 0, 0, 0, 0, 0], title='Lost Highway (1997)'),\n",
       " Row(date='21-Mar-1997', id=325, link='http://us.imdb.com/M/title-exact?Crash%20(1996)', rating=[0, 0, 0, 0, 0, 0, 0, 0, 1, 0, 0, 0, 0, 0, 0, 0, 1, 0, 0], title='Crash (1996)'),\n",
       " Row(date='01-Jan-1997', id=326, link='http://us.imdb.com/M/title-exact?G%2EI%2E+Jane+(1997)', rating=[0, 1, 0, 0, 0, 0, 0, 0, 1, 0, 0, 0, 0, 0, 0, 0, 0, 1, 0], title='G.I. Jane (1997)'),\n",
       " Row(date='01-Jan-1997', id=327, link='http://us.imdb.com/M/title-exact?Cop+Land+(1997)', rating=[0, 0, 0, 0, 0, 0, 1, 0, 1, 0, 0, 0, 0, 1, 0, 0, 0, 0, 0], title='Cop Land (1997)'),\n",
       " Row(date='08-Aug-1997', id=328, link='http://us.imdb.com/M/title-exact?Conspiracy+Theory+(1997)', rating=[0, 1, 0, 0, 0, 0, 0, 0, 0, 0, 0, 0, 0, 1, 1, 0, 1, 0, 0], title='Conspiracy Theory (1997)'),\n",
       " Row(date='30-Jan-1998', id=329, link='http://us.imdb.com/Title?Desperate+Measures+(1998)', rating=[0, 0, 0, 0, 0, 0, 1, 0, 1, 0, 0, 0, 0, 0, 0, 0, 1, 0, 0], title='Desperate Measures (1998)'),\n",
       " Row(date='01-Jan-1997', id=330, link='http://us.imdb.com/M/title-exact?187+(1997)', rating=[0, 0, 0, 0, 0, 0, 0, 0, 1, 0, 0, 0, 0, 0, 0, 0, 0, 0, 0], title='187 (1997)'),\n",
       " Row(date='26-Sep-1997', id=331, link='http://us.imdb.com/M/title-exact?Edge%2C+The+(1997/I)', rating=[0, 0, 1, 0, 0, 0, 0, 0, 0, 0, 0, 0, 0, 0, 0, 0, 1, 0, 0], title='Edge, The (1997)'),\n",
       " Row(date='01-Jan-1997', id=332, link='http://us.imdb.com/M/title-exact?Kiss+the+Girls+(1997)', rating=[0, 0, 0, 0, 0, 0, 1, 0, 1, 0, 0, 0, 0, 0, 0, 0, 1, 0, 0], title='Kiss the Girls (1997)'),\n",
       " Row(date='01-Jan-1997', id=333, link='http://us.imdb.com/M/title-exact?Game%2C+The+(1997)', rating=[0, 0, 0, 0, 0, 0, 0, 0, 0, 0, 0, 0, 0, 1, 0, 0, 1, 0, 0], title='Game, The (1997)'),\n",
       " Row(date='01-Jan-1997', id=334, link='http://us.imdb.com/Title?U+Turn+(1997)', rating=[0, 1, 0, 0, 0, 0, 1, 0, 0, 0, 0, 0, 0, 1, 0, 0, 0, 0, 0], title='U Turn (1997)'),\n",
       " Row(date='01-Jan-1997', id=335, link='http://us.imdb.com/M/title-exact?How+to+Be+a+Player+(1997)', rating=[0, 0, 0, 0, 0, 1, 0, 0, 0, 0, 0, 0, 0, 0, 0, 0, 0, 0, 0], title='How to Be a Player (1997)'),\n",
       " Row(date='01-Jan-1997', id=336, link='http://us.imdb.com/M/title-exact?Playing+God+(1997)', rating=[0, 0, 0, 0, 0, 0, 1, 0, 0, 0, 0, 0, 0, 0, 0, 0, 1, 0, 0], title='Playing God (1997)'),\n",
       " Row(date='01-Jan-1997', id=337, link='http://us.imdb.com/M/title-exact?House+of+Yes,+The+(1997)', rating=[0, 0, 0, 0, 0, 1, 0, 0, 1, 0, 0, 0, 0, 0, 0, 0, 1, 0, 0], title='House of Yes, The (1997)'),\n",
       " Row(date='01-Jan-1997', id=338, link='http://us.imdb.com/M/title-exact?Bean+(1997)', rating=[0, 0, 0, 0, 0, 1, 0, 0, 0, 0, 0, 0, 0, 0, 0, 0, 0, 0, 0], title='Bean (1997)'),\n",
       " Row(date='01-Jan-1997', id=339, link='http://us.imdb.com/M/title-exact?Mad+City+(1997)', rating=[0, 1, 0, 0, 0, 0, 0, 0, 1, 0, 0, 0, 0, 0, 0, 0, 0, 0, 0], title='Mad City (1997)'),\n",
       " Row(date='01-Jan-1997', id=340, link='http://us.imdb.com/M/title-exact?Boogie+Nights+(1997)', rating=[0, 0, 0, 0, 0, 0, 0, 0, 1, 0, 0, 0, 0, 0, 0, 0, 0, 0, 0], title='Boogie Nights (1997)'),\n",
       " Row(date='01-Jan-1997', id=341, link='http://us.imdb.com/M/title-exact?Critical+Care+(1997)', rating=[0, 0, 0, 0, 0, 1, 0, 0, 0, 0, 0, 0, 0, 0, 0, 0, 0, 0, 0], title='Critical Care (1997)'),\n",
       " Row(date='01-Jan-1997', id=342, link='http://us.imdb.com/M/title-exact?Man+Who+Knew+Too+Little%2C+The+(1997)', rating=[0, 0, 0, 0, 0, 1, 0, 0, 0, 0, 0, 0, 0, 1, 0, 0, 0, 0, 0], title='Man Who Knew Too Little, The (1997)'),\n",
       " Row(date='01-Jan-1997', id=343, link='http://us.imdb.com/M/title-exact?Alien%3A+Resurrection+(1997)', rating=[0, 1, 0, 0, 0, 0, 0, 0, 0, 0, 0, 1, 0, 0, 0, 1, 0, 0, 0], title='Alien: Resurrection (1997)'),\n",
       " Row(date='18-Dec-1997', id=344, link='http://us.imdb.com/M/title-exact?imdb-title-118632', rating=[0, 0, 0, 0, 0, 0, 0, 0, 1, 0, 0, 0, 0, 0, 0, 0, 0, 0, 0], title='Apostle, The (1997)'),\n",
       " Row(date='01-Jan-1997', id=345, link='http://us.imdb.com/M/title-exact?imdb-title-118954', rating=[0, 0, 0, 0, 0, 1, 0, 0, 1, 0, 0, 0, 0, 0, 0, 0, 0, 0, 0], title='Deconstructing Harry (1997)'),\n",
       " Row(date='01-Jan-1997', id=346, link='http://us.imdb.com/M/title-exact?imdb-title-119396', rating=[0, 0, 0, 0, 0, 0, 1, 0, 1, 0, 0, 0, 0, 0, 0, 0, 0, 0, 0], title='Jackie Brown (1997)'),\n",
       " Row(date='09-Jan-1998', id=347, link='http://us.imdb.com/M/title-exact?imdb-title-120885', rating=[0, 0, 0, 0, 0, 1, 0, 0, 1, 0, 0, 0, 0, 0, 0, 0, 0, 0, 0], title='Wag the Dog (1997)'),\n",
       " Row(date='30-Jan-1998', id=348, link='http://us.imdb.com/Title?Desperate+Measures+(1998)', rating=[0, 0, 0, 0, 0, 0, 1, 0, 1, 0, 0, 0, 0, 0, 0, 0, 1, 0, 0], title='Desperate Measures (1998)'),\n",
       " Row(date='16-Jan-1998', id=349, link='http://us.imdb.com/M/title-exact?imdb-title-120696', rating=[0, 1, 0, 0, 0, 0, 0, 0, 0, 0, 0, 0, 0, 0, 0, 0, 1, 0, 0], title='Hard Rain (1998)'),\n",
       " Row(date='16-Jan-1998', id=350, link='http://us.imdb.com/Title?Fallen+(1998)', rating=[0, 1, 0, 0, 0, 0, 0, 0, 0, 0, 0, 0, 0, 1, 0, 0, 1, 0, 0], title='Fallen (1998)'),\n",
       " Row(date='16-Jan-1998', id=351, link='http://us.imdb.com/M/title-exact?imdb-title-119959', rating=[0, 0, 0, 0, 0, 0, 0, 0, 0, 0, 0, 1, 0, 0, 0, 0, 0, 0, 0], title='Prophecy II, The (1998)'),\n",
       " Row(date='01-Jan-1997', id=352, link='http://us.imdb.com/M/title-exact?imdb-title-120185', rating=[0, 0, 0, 0, 0, 1, 0, 0, 0, 0, 0, 0, 1, 0, 0, 0, 0, 0, 0], title='Spice World (1997)'),\n",
       " Row(date='30-Jan-1998', id=353, link='http://us.imdb.com/M/title-exact?imdb-title-118956', rating=[0, 1, 0, 0, 0, 0, 0, 0, 0, 0, 0, 1, 0, 0, 0, 1, 0, 0, 0], title='Deep Rising (1998)'),\n",
       " Row(date='13-Feb-1998', id=354, link='http://us.imdb.com/M/title-exact?Wedding+Singer%2C+The+(1998)', rating=[0, 0, 0, 0, 0, 1, 0, 0, 0, 0, 0, 0, 0, 0, 1, 0, 0, 0, 0], title='Wedding Singer, The (1998)'),\n",
       " Row(date='13-Feb-1998', id=355, link='http://us.imdb.com/M/title-exact?Sphere+(1998)', rating=[0, 0, 1, 0, 0, 0, 0, 0, 0, 0, 0, 0, 0, 0, 0, 1, 1, 0, 0], title='Sphere (1998)'),\n",
       " Row(date='01-Jan-1994', id=356, link='http://us.imdb.com/M/title-exact?Client,%20The%20(1994)', rating=[0, 0, 0, 0, 0, 0, 0, 0, 1, 0, 0, 0, 0, 1, 0, 0, 1, 0, 0], title='Client, The (1994)'),\n",
       " Row(date='01-Jan-1975', id=357, link=\"http://us.imdb.com/M/title-exact?One%20Flew%20Over%20the%20Cuckoo's%20Nest%20(1975)\", rating=[0, 0, 0, 0, 0, 0, 0, 0, 1, 0, 0, 0, 0, 0, 0, 0, 0, 0, 0], title=\"One Flew Over the Cuckoo's Nest (1975)\"),\n",
       " Row(date='01-Aug-1997', id=358, link='http://us.imdb.com/M/title-exact?Spawn+(1997/I)', rating=[0, 1, 1, 0, 0, 0, 0, 0, 0, 0, 0, 0, 0, 0, 0, 1, 1, 0, 0], title='Spawn (1997)'),\n",
       " Row(date='01-Jan-1997', id=359, link='http://us.imdb.com/M/title-exact?Assignment%2C+The+(1997)', rating=[0, 0, 0, 0, 0, 0, 0, 0, 0, 0, 0, 0, 0, 0, 0, 0, 1, 0, 0], title='Assignment, The (1997)'),\n",
       " Row(date='01-Jan-1997', id=360, link='http://us.imdb.com/M/title-exact?Wonderland+(1997)', rating=[0, 0, 0, 0, 0, 0, 0, 1, 0, 0, 0, 0, 0, 0, 0, 0, 0, 0, 0], title='Wonderland (1997)'),\n",
       " Row(date='01-Jan-1997', id=361, link='http://us.imdb.com/M/title-exact?Incognito+(1997)', rating=[0, 0, 0, 0, 0, 0, 1, 0, 0, 0, 0, 0, 0, 0, 0, 0, 1, 0, 0], title='Incognito (1997)'),\n",
       " Row(date='06-Feb-1998', id=362, link='http://us.imdb.com/M/title-exact?Blues+Brothers+2000+(1998)', rating=[0, 1, 0, 0, 0, 1, 0, 0, 0, 0, 0, 0, 1, 0, 0, 0, 0, 0, 0], title='Blues Brothers 2000 (1998)'),\n",
       " Row(date='01-Jan-1995', id=363, link='http://us.imdb.com/M/title-exact?Sudden%20Death%20(1995)', rating=[0, 1, 0, 0, 0, 0, 0, 0, 0, 0, 0, 0, 0, 0, 0, 0, 0, 0, 0], title='Sudden Death (1995)'),\n",
       " Row(date='01-Jan-1995', id=364, link='http://us.imdb.com/M/title-exact?Ace%20Ventura:%20When%20Nature%20Calls%20(1995)', rating=[0, 0, 0, 0, 0, 1, 0, 0, 0, 0, 0, 0, 0, 0, 0, 0, 0, 0, 0], title='Ace Ventura: When Nature Calls (1995)'),\n",
       " Row(date='01-Jan-1995', id=365, link='http://us.imdb.com/M/title-exact?Powder%20(1995)', rating=[0, 0, 0, 0, 0, 0, 0, 0, 1, 0, 0, 0, 0, 0, 0, 0, 0, 0, 0], title='Powder (1995)'),\n",
       " Row(date='01-Jan-1995', id=366, link='http://us.imdb.com/M/title-exact?Dangerous%20Minds%20(1995)', rating=[0, 0, 0, 0, 0, 0, 0, 0, 1, 0, 0, 0, 0, 0, 0, 0, 0, 0, 0], title='Dangerous Minds (1995)'),\n",
       " Row(date='01-Jan-1995', id=367, link='http://us.imdb.com/M/title-exact?Clueless%20(1995)', rating=[0, 0, 0, 0, 0, 1, 0, 0, 0, 0, 0, 0, 0, 0, 0, 0, 0, 0, 0], title='Clueless (1995)'),\n",
       " Row(date='01-Jan-1996', id=368, link='http://us.imdb.com/M/title-exact?Bio-Dome%20(1996)', rating=[0, 0, 0, 0, 0, 1, 0, 0, 0, 0, 0, 0, 0, 0, 0, 0, 0, 0, 0], title='Bio-Dome (1996)'),\n",
       " Row(date='02-Feb-1996', id=369, link='http://us.imdb.com/M/title-exact?Black%20Sheep%20(1996)', rating=[0, 0, 0, 0, 0, 1, 0, 0, 0, 0, 0, 0, 0, 0, 0, 0, 0, 0, 0], title='Black Sheep (1996)'),\n",
       " Row(date='23-Feb-1996', id=370, link='http://us.imdb.com/M/title-exact?Mary%20Reilly%20(1996)', rating=[0, 0, 0, 0, 0, 0, 0, 0, 1, 0, 0, 0, 0, 0, 0, 0, 1, 0, 0], title='Mary Reilly (1996)'),\n",
       " Row(date='09-Feb-1996', id=371, link='http://us.imdb.com/M/title-exact?Bridges%20of%20Madison%20County,%20The%20(1995)', rating=[0, 0, 0, 0, 0, 0, 0, 0, 1, 0, 0, 0, 0, 0, 1, 0, 0, 0, 0], title='Bridges of Madison County, The (1995)'),\n",
       " Row(date='01-Jan-1995', id=372, link='http://us.imdb.com/M/title-exact?Jeffrey%20(1995)', rating=[0, 0, 0, 0, 0, 1, 0, 0, 0, 0, 0, 0, 0, 0, 0, 0, 0, 0, 0], title='Jeffrey (1995)'),\n",
       " Row(date='01-Jan-1995', id=373, link='http://us.imdb.com/M/title-exact?Judge%20Dredd%20(1995)', rating=[0, 1, 1, 0, 0, 0, 0, 0, 0, 0, 0, 0, 0, 0, 0, 1, 0, 0, 0], title='Judge Dredd (1995)'),\n",
       " Row(date='01-Jan-1995', id=374, link='http://us.imdb.com/M/title-exact?Mighty%20Morphin%20Power%20Rangers:%20The%20Movie%20(1995)', rating=[0, 1, 0, 0, 1, 0, 0, 0, 0, 0, 0, 0, 0, 0, 0, 0, 0, 0, 0], title='Mighty Morphin Power Rangers: The Movie (1995)'),\n",
       " Row(date='01-Jan-1995', id=375, link='http://us.imdb.com/M/title-exact?Showgirls%20(1995)', rating=[0, 0, 0, 0, 0, 0, 0, 0, 1, 0, 0, 0, 0, 0, 0, 0, 0, 0, 0], title='Showgirls (1995)'),\n",
       " Row(date='01-Jan-1994', id=376, link='http://us.imdb.com/M/title-exact?Houseguest%20(1994)', rating=[0, 0, 0, 0, 0, 1, 0, 0, 0, 0, 0, 0, 0, 0, 0, 0, 0, 0, 0], title='Houseguest (1994)'),\n",
       " Row(date='01-Jan-1994', id=377, link='http://us.imdb.com/M/title-exact?Heavyweights%20(1994)', rating=[0, 0, 0, 0, 1, 1, 0, 0, 0, 0, 0, 0, 0, 0, 0, 0, 0, 0, 0], title='Heavyweights (1994)'),\n",
       " Row(date='01-Jan-1994', id=378, link='http://us.imdb.com/M/title-exact?Miracle%20on%2034th%20Street%20(1994)', rating=[0, 0, 0, 0, 0, 0, 0, 0, 1, 0, 0, 0, 0, 0, 0, 0, 0, 0, 0], title='Miracle on 34th Street (1994)'),\n",
       " Row(date='01-Jan-1995', id=379, link='http://us.imdb.com/M/title-exact?Tales%20From%20the%20Crypt%20Presents:%20Demon%20Knight%20(1995)', rating=[0, 0, 0, 0, 0, 0, 0, 0, 0, 0, 0, 1, 0, 0, 0, 0, 0, 0, 0], title='Tales From the Crypt Presents: Demon Knight (1995)'),\n",
       " Row(date='01-Jan-1994', id=380, link='http://us.imdb.com/M/title-exact?Star%20Trek:%20Generations%20(1994)', rating=[0, 1, 1, 0, 0, 0, 0, 0, 0, 0, 0, 0, 0, 0, 0, 1, 0, 0, 0], title='Star Trek: Generations (1994)'),\n",
       " Row(date='01-Jan-1994', id=381, link=\"http://us.imdb.com/M/title-exact?Muriel's%20Wedding%20(1994)\", rating=[0, 0, 0, 0, 0, 1, 0, 0, 0, 0, 0, 0, 0, 0, 1, 0, 0, 0, 0], title=\"Muriel's Wedding (1994)\"),\n",
       " Row(date='01-Jan-1994', id=382, link='http://us.imdb.com/M/title-exact?Adventures%20of%20Priscilla,%20Queen%20of%20the%20Desert,%20The%20(1994)', rating=[0, 0, 0, 0, 0, 1, 0, 0, 1, 0, 0, 0, 0, 0, 0, 0, 0, 0, 0], title='Adventures of Priscilla, Queen of the Desert, The (1994)'),\n",
       " Row(date='01-Jan-1994', id=383, link='http://us.imdb.com/M/title-exact?Flintstones,%20The%20(1994)', rating=[0, 0, 0, 0, 1, 1, 0, 0, 0, 0, 0, 0, 0, 0, 0, 0, 0, 0, 0], title='Flintstones, The (1994)'),\n",
       " Row(date='01-Jan-1994', id=384, link='http://us.imdb.com/M/title-exact?Naked%20Gun%2033%201/3:%20The%20Final%20Insult%20(1994)', rating=[0, 0, 0, 0, 0, 1, 0, 0, 0, 0, 0, 0, 0, 0, 0, 0, 0, 0, 0], title='Naked Gun 33 1/3: The Final Insult (1994)'),\n",
       " Row(date='01-Jan-1994', id=385, link='http://us.imdb.com/M/title-exact?True%20Lies%20(1994)', rating=[0, 1, 1, 0, 0, 1, 0, 0, 0, 0, 0, 0, 0, 0, 1, 0, 0, 0, 0], title='True Lies (1994)'),\n",
       " Row(date='01-Jan-1993', id=386, link='http://us.imdb.com/M/title-exact?Addams%20Family%20Values%20(1993)', rating=[0, 0, 0, 0, 0, 1, 0, 0, 0, 0, 0, 0, 0, 0, 0, 0, 0, 0, 0], title='Addams Family Values (1993)'),\n",
       " Row(date='01-Jan-1993', id=387, link='http://us.imdb.com/M/title-exact?Age%20of%20Innocence,%20The%20(1993)', rating=[0, 0, 0, 0, 0, 0, 0, 0, 1, 0, 0, 0, 0, 0, 0, 0, 0, 0, 0], title='Age of Innocence, The (1993)'),\n",
       " Row(date='01-Jan-1994', id=388, link='http://us.imdb.com/M/title-exact?Beverly%20Hills%20Cop%20III%20(1994)', rating=[0, 1, 0, 0, 0, 1, 0, 0, 0, 0, 0, 0, 0, 0, 0, 0, 0, 0, 0], title='Beverly Hills Cop III (1994)'),\n",
       " Row(date='01-Jan-1994', id=389, link='http://us.imdb.com/Title?Black+Beauty+(1994/I)', rating=[0, 0, 1, 0, 1, 0, 0, 0, 0, 0, 0, 0, 0, 0, 0, 0, 0, 0, 0], title='Black Beauty (1994)'),\n",
       " Row(date='01-Jan-1993', id=390, link='http://us.imdb.com/M/title-exact?Fear%20of%20a%20Black%20Hat%20(1993)', rating=[0, 0, 0, 0, 0, 1, 0, 0, 0, 0, 0, 0, 0, 0, 0, 0, 0, 0, 0], title='Fear of a Black Hat (1993)'),\n",
       " Row(date='01-Jan-1993', id=391, link='http://us.imdb.com/M/title-exact?Last%20Action%20Hero%20(1993)', rating=[0, 1, 0, 0, 0, 1, 0, 0, 0, 0, 0, 0, 0, 0, 0, 0, 0, 0, 0], title='Last Action Hero (1993)'),\n",
       " Row(date='01-Jan-1993', id=392, link='http://us.imdb.com/M/title-exact?Man%20Without%20a%20Face,%20The%20(1993)', rating=[0, 0, 0, 0, 0, 0, 0, 0, 1, 0, 0, 0, 0, 0, 0, 0, 0, 0, 0], title='Man Without a Face, The (1993)'),\n",
       " Row(date='01-Jan-1993', id=393, link='http://us.imdb.com/M/title-exact?Mrs.%20Doubtfire%20(1993)', rating=[0, 0, 0, 0, 0, 1, 0, 0, 0, 0, 0, 0, 0, 0, 0, 0, 0, 0, 0], title='Mrs. Doubtfire (1993)'),\n",
       " Row(date='01-Jan-1994', id=394, link='http://us.imdb.com/M/title-exact?Radioland%20Murders%20(1994)', rating=[0, 0, 0, 0, 0, 1, 0, 0, 0, 0, 0, 0, 0, 1, 1, 0, 0, 0, 0], title='Radioland Murders (1994)'),\n",
       " Row(date='01-Jan-1993', id=395, link='http://us.imdb.com/M/title-exact?Robin%20Hood:%20Men%20in%20Tights%20(1993)', rating=[0, 0, 0, 0, 0, 1, 0, 0, 0, 0, 0, 0, 0, 0, 0, 0, 0, 0, 0], title='Robin Hood: Men in Tights (1993)'),\n",
       " Row(date='01-Jan-1994', id=396, link='http://us.imdb.com/M/title-exact?Serial%20Mom%20(1994)', rating=[0, 0, 0, 0, 0, 1, 1, 0, 0, 0, 0, 1, 0, 0, 0, 0, 0, 0, 0], title='Serial Mom (1994)'),\n",
       " Row(date='01-Jan-1993', id=397, link='http://us.imdb.com/M/title-exact?Striking%20Distance%20(1993)', rating=[0, 1, 0, 0, 0, 0, 0, 0, 0, 0, 0, 0, 0, 0, 0, 0, 0, 0, 0], title='Striking Distance (1993)'),\n",
       " Row(date='01-Jan-1993', id=398, link='http://us.imdb.com/M/title-exact?Super%20Mario%20Bros.%20(1993)', rating=[0, 1, 1, 0, 1, 0, 0, 0, 0, 0, 0, 0, 0, 0, 0, 1, 0, 0, 0], title='Super Mario Bros. (1993)'),\n",
       " Row(date='01-Jan-1993', id=399, link='http://us.imdb.com/M/title-exact?Three%20Musketeers,%20The%20(1993)', rating=[0, 1, 1, 0, 0, 1, 0, 0, 0, 0, 0, 0, 0, 0, 0, 0, 0, 0, 0], title='Three Musketeers, The (1993)'),\n",
       " Row(date='01-Jan-1994', id=400, link='http://us.imdb.com/M/title-exact?Little%20Rascals,%20The%20(1994)', rating=[0, 0, 0, 0, 1, 1, 0, 0, 0, 0, 0, 0, 0, 0, 0, 0, 0, 0, 0], title='Little Rascals, The (1994)'),\n",
       " Row(date='01-Jan-1995', id=401, link='http://us.imdb.com/M/title-exact?Brady%20Bunch%20Movie,%20The%20(1995)', rating=[0, 0, 0, 0, 0, 1, 0, 0, 0, 0, 0, 0, 0, 0, 0, 0, 0, 0, 0], title='Brady Bunch Movie, The (1995)'),\n",
       " Row(date='01-Jan-1990', id=402, link='http://us.imdb.com/M/title-exact?Ghost%20(1990)', rating=[0, 0, 0, 0, 0, 1, 0, 0, 0, 0, 0, 0, 0, 0, 1, 0, 1, 0, 0], title='Ghost (1990)'),\n",
       " Row(date='01-Jan-1989', id=403, link='http://us.imdb.com/M/title-exact?Batman%20(1989)', rating=[0, 1, 1, 0, 0, 0, 1, 0, 1, 0, 0, 0, 0, 0, 0, 0, 0, 0, 0], title='Batman (1989)'),\n",
       " Row(date='01-Jan-1940', id=404, link='http://us.imdb.com/M/title-exact?Pinocchio%20(1940)', rating=[0, 0, 0, 1, 1, 0, 0, 0, 0, 0, 0, 0, 0, 0, 0, 0, 0, 0, 0], title='Pinocchio (1940)'),\n",
       " Row(date='22-May-1996', id=405, link='http://us.imdb.com/M/title-exact?Mission:%20Impossible%20(1996)', rating=[0, 1, 1, 0, 0, 0, 0, 0, 0, 0, 0, 0, 0, 1, 0, 0, 0, 0, 0], title='Mission: Impossible (1996)'),\n",
       " Row(date='25-Oct-1996', id=406, link='http://us.imdb.com/M/title-exact?Thinner%20(1996)', rating=[0, 0, 0, 0, 0, 0, 0, 0, 0, 0, 0, 1, 0, 0, 0, 0, 1, 0, 0], title='Thinner (1996)'),\n",
       " Row(date='24-May-1996', id=407, link='http://us.imdb.com/M/title-exact?Spy%20Hard%20(1996)', rating=[0, 0, 0, 0, 0, 1, 0, 0, 0, 0, 0, 0, 0, 0, 0, 0, 0, 0, 0], title='Spy Hard (1996)'),\n",
       " Row(date='28-Apr-1996', id=408, link='http://us.imdb.com/M/title-exact?Close%20Shave,%20A%20(1995)', rating=[0, 0, 0, 1, 0, 1, 0, 0, 0, 0, 0, 0, 0, 0, 0, 0, 1, 0, 0], title='Close Shave, A (1995)'),\n",
       " Row(date='07-Aug-1996', id=409, link='http://us.imdb.com/M/title-exact?Jack%20(1996)', rating=[0, 0, 0, 0, 0, 1, 0, 0, 1, 0, 0, 0, 0, 0, 0, 0, 0, 0, 0], title='Jack (1996)'),\n",
       " Row(date='12-Jul-1996', id=410, link='http://us.imdb.com/M/title-exact?Kingpin%20(1996)', rating=[0, 0, 0, 0, 0, 1, 0, 0, 0, 0, 0, 0, 0, 0, 0, 0, 0, 0, 0], title='Kingpin (1996)'),\n",
       " Row(date='28-Jun-1996', id=411, link='http://us.imdb.com/M/title-exact?Nutty%20Professor,%20The%20(1996)', rating=[0, 0, 0, 0, 0, 1, 0, 0, 0, 1, 0, 0, 0, 0, 1, 1, 0, 0, 0], title='Nutty Professor, The (1996)'),\n",
       " Row(date='23-Aug-1996', id=412, link='http://us.imdb.com/M/title-exact?Very%20Brady%20Sequel,%20A%20(1996)', rating=[0, 0, 0, 0, 0, 1, 0, 0, 0, 0, 0, 0, 0, 0, 0, 0, 0, 0, 0], title='Very Brady Sequel, A (1996)'),\n",
       " Row(date='19-Jul-1996', id=413, link='http://us.imdb.com/M/title-exact?Tales%20from%20the%20Crypt%20Presents:%20Bordello%20of%20Blood%20(1996)', rating=[0, 0, 0, 0, 0, 0, 0, 0, 0, 0, 0, 1, 0, 0, 0, 0, 0, 0, 0], title='Tales from the Crypt Presents: Bordello of Blood (1996)'),\n",
       " Row(date='01-Jan-1982', id=414, link='http://us.imdb.com/M/title-exact?My%20Favorite%20Year%20(1982)', rating=[0, 0, 0, 0, 0, 1, 0, 0, 0, 0, 0, 0, 0, 0, 0, 0, 0, 0, 0], title='My Favorite Year (1982)'),\n",
       " Row(date='01-Jan-1975', id=415, link='http://us.imdb.com/M/title-exact?Apple%20Dumpling%20Gang,%20The%20(1975)', rating=[0, 0, 0, 0, 1, 1, 0, 0, 0, 0, 0, 0, 0, 0, 0, 0, 0, 0, 1], title='Apple Dumpling Gang, The (1975)'),\n",
       " Row(date='01-Jan-1957', id=416, link='http://us.imdb.com/M/title-exact?Old%20Yeller%20(1957)', rating=[0, 0, 0, 0, 1, 0, 0, 0, 1, 0, 0, 0, 0, 0, 0, 0, 0, 0, 0], title='Old Yeller (1957)'),\n",
       " Row(date='01-Jan-1961', id=417, link='http://us.imdb.com/M/title-exact?Parent%20Trap,%20The%20(1961)', rating=[0, 0, 0, 0, 1, 0, 0, 0, 1, 0, 0, 0, 0, 0, 0, 0, 0, 0, 0], title='Parent Trap, The (1961)'),\n",
       " Row(date='01-Jan-1950', id=418, link='http://us.imdb.com/M/title-exact?Cinderella%20(1950)', rating=[0, 0, 0, 1, 1, 0, 0, 0, 0, 0, 0, 0, 1, 0, 0, 0, 0, 0, 0], title='Cinderella (1950)'),\n",
       " Row(date='01-Jan-1964', id=419, link='http://us.imdb.com/M/title-exact?Mary%20Poppins%20(1964)', rating=[0, 0, 0, 0, 1, 1, 0, 0, 0, 0, 0, 0, 1, 0, 0, 0, 0, 0, 0], title='Mary Poppins (1964)'),\n",
       " Row(date='01-Jan-1951', id=420, link='http://us.imdb.com/M/title-exact?Alice%20in%20Wonderland%20(1951)', rating=[0, 0, 0, 1, 1, 0, 0, 0, 0, 0, 0, 0, 1, 0, 0, 0, 0, 0, 0], title='Alice in Wonderland (1951)'),\n",
       " Row(date='25-Oct-1996', id=421, link='http://us.imdb.com/Title?Romeo+%2B+Juliet+(1996)', rating=[0, 0, 0, 0, 0, 0, 0, 0, 1, 0, 0, 0, 0, 0, 1, 0, 0, 0, 0], title=\"William Shakespeare's Romeo and Juliet (1996)\"),\n",
       " Row(date='01-Jan-1996', id=422, link='http://us.imdb.com/M/title-exact?Aladdin%20and%20the%20King%20of%20Thieves%20(1996)%20(V)', rating=[0, 0, 0, 1, 1, 1, 0, 0, 0, 0, 0, 0, 0, 0, 0, 0, 0, 0, 0], title='Aladdin and the King of Thieves (1996)'),\n",
       " Row(date='01-Jan-1982', id=423, link='http://us.imdb.com/M/title-exact?E%2ET%2E%20the%20Extra-Terrestrial%20%281982%29', rating=[0, 0, 0, 0, 1, 0, 0, 0, 1, 1, 0, 0, 0, 0, 0, 1, 0, 0, 0], title='E.T. the Extra-Terrestrial (1982)'),\n",
       " Row(date='01-Jan-1996', id=424, link='http://us.imdb.com/M/title-exact?Children%20of%20the%20Corn%3A%20The%20Gathering%20%281996%29', rating=[0, 0, 0, 0, 0, 0, 0, 0, 0, 0, 0, 1, 0, 0, 0, 0, 0, 0, 0], title='Children of the Corn: The Gathering (1996)'),\n",
       " Row(date='01-Jan-1992', id=425, link='http://us.imdb.com/M/title-exact?Bob%20Roberts%20(1992)', rating=[0, 0, 0, 0, 0, 1, 0, 0, 0, 0, 0, 0, 0, 0, 0, 0, 0, 0, 0], title='Bob Roberts (1992)'),\n",
       " Row(date='01-Jan-1986', id=426, link='http://us.imdb.com/M/title-exact?Transformers:%20The%20Movie,%20The%20(1986)', rating=[0, 1, 0, 1, 1, 0, 0, 0, 0, 0, 0, 0, 0, 0, 0, 1, 1, 1, 0], title='Transformers: The Movie, The (1986)'),\n",
       " Row(date='01-Jan-1962', id=427, link='http://us.imdb.com/M/title-exact?To%20Kill%20a%20Mockingbird%20(1962)', rating=[0, 0, 0, 0, 0, 0, 0, 0, 1, 0, 0, 0, 0, 0, 0, 0, 0, 0, 0], title='To Kill a Mockingbird (1962)'),\n",
       " Row(date='01-Jan-1971', id=428, link='http://us.imdb.com/M/title-exact?Harold%20and%20Maude%20(1971)', rating=[0, 0, 0, 0, 0, 1, 0, 0, 0, 0, 0, 0, 0, 0, 0, 0, 0, 0, 0], title='Harold and Maude (1971)'),\n",
       " Row(date='01-Jan-1951', id=429, link='http://us.imdb.com/M/title-exact?Day%20the%20Earth%20Stood%20Still,%20The%20(1951)', rating=[0, 0, 0, 0, 0, 0, 0, 0, 1, 0, 0, 0, 0, 0, 0, 1, 0, 0, 0], title='Day the Earth Stood Still, The (1951)'),\n",
       " Row(date='01-Jan-1933', id=430, link='http://us.imdb.com/M/title-exact?Duck%20Soup%20(1933)', rating=[0, 0, 0, 0, 0, 1, 0, 0, 0, 0, 0, 0, 0, 0, 0, 0, 0, 1, 0], title='Duck Soup (1933)'),\n",
       " Row(date='01-Jan-1986', id=431, link='http://us.imdb.com/M/title-exact?Highlander%20(1986)', rating=[0, 1, 1, 0, 0, 0, 0, 0, 0, 0, 0, 0, 0, 0, 0, 0, 0, 0, 0], title='Highlander (1986)'),\n",
       " Row(date='01-Jan-1940', id=432, link='http://us.imdb.com/M/title-exact?Fantasia%20(1940)', rating=[0, 0, 0, 1, 1, 0, 0, 0, 0, 0, 0, 0, 1, 0, 0, 0, 0, 0, 0], title='Fantasia (1940)'),\n",
       " Row(date='01-Jan-1989', id=433, link='http://us.imdb.com/M/title-exact?Heathers%20(1989)', rating=[0, 0, 0, 0, 0, 1, 0, 0, 0, 0, 0, 0, 0, 0, 0, 0, 0, 0, 0], title='Heathers (1989)'),\n",
       " Row(date='01-Jan-1956', id=434, link='http://us.imdb.com/M/title-exact?Forbidden%20Planet%20(1956)', rating=[0, 0, 0, 0, 0, 0, 0, 0, 0, 0, 0, 0, 0, 0, 0, 1, 0, 0, 0], title='Forbidden Planet (1956)'),\n",
       " Row(date='01-Jan-1969', id=435, link='http://us.imdb.com/M/title-exact?Butch%20Cassidy%20and%20the%20Sundance%20Kid%20(1969)', rating=[0, 1, 0, 0, 0, 1, 0, 0, 0, 0, 0, 0, 0, 0, 0, 0, 0, 0, 1], title='Butch Cassidy and the Sundance Kid (1969)'),\n",
       " Row(date='01-Jan-1981', id=436, link='http://us.imdb.com/M/title-exact?American%20Werewolf%20in%20London,%20An%20(1981)', rating=[0, 0, 0, 0, 0, 0, 0, 0, 0, 0, 0, 1, 0, 0, 0, 0, 0, 0, 0], title='American Werewolf in London, An (1981)'),\n",
       " Row(date='01-Jan-1992', id=437, link=\"http://us.imdb.com/M/title-exact?Amityville%201992:%20It's%20About%20Time%20(1992)\", rating=[0, 0, 0, 0, 0, 0, 0, 0, 0, 0, 0, 1, 0, 0, 0, 0, 0, 0, 0], title=\"Amityville 1992: It's About Time (1992)\"),\n",
       " Row(date='01-Jan-1983', id=438, link='http://us.imdb.com/M/title-exact?Amityville%203-D%20(1983)', rating=[0, 0, 0, 0, 0, 0, 0, 0, 0, 0, 0, 1, 0, 0, 0, 0, 0, 0, 0], title='Amityville 3-D (1983)'),\n",
       " Row(date='01-Jan-1993', id=439, link='http://us.imdb.com/M/title-exact?Amityville:%20A%20New%20Generation%20(1993)', rating=[0, 0, 0, 0, 0, 0, 0, 0, 0, 0, 0, 1, 0, 0, 0, 0, 0, 0, 0], title='Amityville: A New Generation (1993)'),\n",
       " Row(date='01-Jan-1982', id=440, link='http://us.imdb.com/M/title-exact?Amityville%20II:%20The%20Possession%20(1982)', rating=[0, 0, 0, 0, 0, 0, 0, 0, 0, 0, 0, 1, 0, 0, 0, 0, 0, 0, 0], title='Amityville II: The Possession (1982)'),\n",
       " Row(date='01-Jan-1979', id=441, link='http://us.imdb.com/M/title-exact?Amityville%20Horror,%20The%20(1979)', rating=[0, 0, 0, 0, 0, 0, 0, 0, 0, 0, 0, 1, 0, 0, 0, 0, 0, 0, 0], title='Amityville Horror, The (1979)'),\n",
       " Row(date='01-Jan-1990', id=442, link='http://us.imdb.com/M/title-exact?Amityville%20Curse,%20The%20(1990)', rating=[0, 0, 0, 0, 0, 0, 0, 0, 0, 0, 0, 1, 0, 0, 0, 0, 0, 0, 0], title='Amityville Curse, The (1990)'),\n",
       " Row(date='01-Jan-1963', id=443, link='http://us.imdb.com/M/title-exact?Birds,%20The%20(1963)', rating=[0, 0, 0, 0, 0, 0, 0, 0, 0, 0, 0, 1, 0, 0, 0, 0, 0, 0, 0], title='Birds, The (1963)'),\n",
       " Row(date='01-Jan-1958', id=444, link='http://us.imdb.com/M/title-exact?Blob,%20The%20(1958)', rating=[0, 0, 0, 0, 0, 0, 0, 0, 0, 0, 0, 1, 0, 0, 0, 1, 0, 0, 0], title='Blob, The (1958)'),\n",
       " Row(date='01-Jan-1945', id=445, link='http://us.imdb.com/M/title-exact?Body%20Snatcher,%20The%20(1945)', rating=[0, 0, 0, 0, 0, 0, 0, 0, 0, 0, 0, 1, 0, 0, 0, 0, 0, 0, 0], title='Body Snatcher, The (1945)'),\n",
       " Row(date='01-Jan-1976', id=446, link='http://us.imdb.com/M/title-exact?Burnt%20Offerings%20(1976)', rating=[0, 0, 0, 0, 0, 0, 0, 0, 0, 0, 0, 1, 0, 0, 0, 0, 0, 0, 0], title='Burnt Offerings (1976)'),\n",
       " Row(date='01-Jan-1976', id=447, link='http://us.imdb.com/M/title-exact?Carrie%20(1976)', rating=[0, 0, 0, 0, 0, 0, 0, 0, 0, 0, 0, 1, 0, 0, 0, 0, 0, 0, 0], title='Carrie (1976)'),\n",
       " Row(date='01-Jan-1976', id=448, link='http://us.imdb.com/M/title-exact?Omen,%20The%20(1976)', rating=[0, 0, 0, 0, 0, 0, 0, 0, 0, 0, 0, 1, 0, 0, 0, 0, 0, 0, 0], title='Omen, The (1976)'),\n",
       " Row(date='01-Jan-1979', id=449, link='http://us.imdb.com/M/title-exact?Star%20Trek:%20The%20Motion%20Picture%20(1979)', rating=[0, 1, 1, 0, 0, 0, 0, 0, 0, 0, 0, 0, 0, 0, 0, 1, 0, 0, 0], title='Star Trek: The Motion Picture (1979)'),\n",
       " Row(date='01-Jan-1989', id=450, link='http://us.imdb.com/M/title-exact?Star%20Trek%20V:%20The%20Final%20Frontier%20(1989)', rating=[0, 1, 1, 0, 0, 0, 0, 0, 0, 0, 0, 0, 0, 0, 0, 1, 0, 0, 0], title='Star Trek V: The Final Frontier (1989)'),\n",
       " Row(date='01-Jan-1978', id=451, link='http://us.imdb.com/M/title-exact?Grease%20(1978)', rating=[0, 0, 0, 0, 0, 1, 0, 0, 0, 0, 0, 0, 1, 0, 1, 0, 0, 0, 0], title='Grease (1978)'),\n",
       " Row(date='01-Jan-1978', id=452, link='http://us.imdb.com/M/title-exact?Jaws%202%20(1978)', rating=[0, 1, 0, 0, 0, 0, 0, 0, 0, 0, 0, 1, 0, 0, 0, 0, 0, 0, 0], title='Jaws 2 (1978)'),\n",
       " Row(date='01-Jan-1983', id=453, link='http://us.imdb.com/M/title-exact?Jaws%203-D%20(1983)', rating=[0, 1, 0, 0, 0, 0, 0, 0, 0, 0, 0, 1, 0, 0, 0, 0, 0, 0, 0], title='Jaws 3-D (1983)'),\n",
       " Row(date='15-Dec-1996', id=454, link='http://us.imdb.com/M/title-exact?Bastard%20Out%20of%20Carolina%20(1996)', rating=[0, 0, 0, 0, 0, 0, 0, 0, 1, 0, 0, 0, 0, 0, 0, 0, 0, 0, 0], title='Bastard Out of Carolina (1996)'),\n",
       " Row(date='10-Jan-1997', id=455, link='http://us.imdb.com/M/title-exact?Police%20Story%204:%20First%20Strike%20(1996)', rating=[0, 1, 0, 0, 0, 0, 0, 0, 0, 0, 0, 0, 0, 0, 0, 0, 0, 0, 0], title=\"Jackie Chan's First Strike (1996)\"),\n",
       " Row(date='17-Jan-1997', id=456, link='http://us.imdb.com/M/title-exact?Beverly%20Hills%20Ninja%20(1997)', rating=[0, 1, 0, 0, 0, 1, 0, 0, 0, 0, 0, 0, 0, 0, 0, 0, 0, 0, 0], title='Beverly Hills Ninja (1997)'),\n",
       " Row(date='08-Aug-1997', id=457, link='http://us.imdb.com/M/title-exact?Free+Willy+3%3A+The+Rescue+(1997)', rating=[0, 0, 1, 0, 1, 0, 0, 0, 1, 0, 0, 0, 0, 0, 0, 0, 0, 0, 0], title='Free Willy 3: The Rescue (1997)'),\n",
       " Row(date='01-Jan-1995', id=458, link='http://us.imdb.com/M/title-exact?Nixon%20(1995)', rating=[0, 0, 0, 0, 0, 0, 0, 0, 1, 0, 0, 0, 0, 0, 0, 0, 0, 0, 0], title='Nixon (1995)'),\n",
       " Row(date='01-Jan-1995', id=459, link='http://us.imdb.com/M/title-exact?Cry,%20the%20Beloved%20Country%20(1995)', rating=[0, 0, 0, 0, 0, 0, 0, 0, 1, 0, 0, 0, 0, 0, 0, 0, 0, 0, 0], title='Cry, the Beloved Country (1995)'),\n",
       " Row(date='01-Jan-1995', id=460, link='http://us.imdb.com/M/title-exact?Crossing%20Guard,%20The%20(1995)', rating=[0, 0, 0, 0, 0, 0, 0, 0, 1, 0, 0, 0, 0, 0, 0, 0, 0, 0, 0], title='Crossing Guard, The (1995)'),\n",
       " Row(date='01-Jan-1995', id=461, link='http://us.imdb.com/M/title-exact?Smoke%20(1995)', rating=[0, 0, 0, 0, 0, 0, 0, 0, 1, 0, 0, 0, 0, 0, 0, 0, 0, 0, 0], title='Smoke (1995)'),\n",
       " Row(date='01-Jan-1992', id=462, link='http://us.imdb.com/M/title-exact?Como%20agua%20para%20chocolate%20(1992)', rating=[0, 0, 0, 0, 0, 0, 0, 0, 1, 0, 0, 0, 0, 0, 1, 0, 0, 0, 0], title='Like Water For Chocolate (Como agua para chocolate) (1992)'),\n",
       " Row(date='01-Jan-1994', id=463, link='http://us.imdb.com/M/title-exact?Secret%20of%20Roan%20Inish,%20The%20(1994)', rating=[0, 0, 1, 0, 0, 0, 0, 0, 0, 0, 0, 0, 0, 0, 0, 0, 0, 0, 0], title='Secret of Roan Inish, The (1994)'),\n",
       " Row(date='01-Jan-1994', id=464, link='http://us.imdb.com/M/title-exact?Vanya%20on%2042nd%20Street%20(1994)', rating=[0, 0, 0, 0, 0, 0, 0, 0, 1, 0, 0, 0, 0, 0, 0, 0, 0, 0, 0], title='Vanya on 42nd Street (1994)'),\n",
       " Row(date='01-Jan-1994', id=465, link='http://us.imdb.com/M/title-exact?Jungle%20Book,%20The%20(1994)', rating=[0, 0, 1, 0, 1, 0, 0, 0, 0, 0, 0, 0, 0, 0, 1, 0, 0, 0, 0], title='Jungle Book, The (1994)'),\n",
       " Row(date='01-Jan-1992', id=466, link='http://us.imdb.com/M/title-exact?Red%20Rock%20West%20(1992)', rating=[0, 0, 0, 0, 0, 0, 0, 0, 0, 0, 0, 0, 0, 0, 0, 0, 1, 0, 0], title='Red Rock West (1992)'),\n",
       " Row(date='01-Jan-1993', id=467, link='http://us.imdb.com/M/title-exact?Bronx%20Tale,%20A%20(1993)', rating=[0, 0, 0, 0, 0, 0, 0, 0, 1, 0, 0, 0, 0, 0, 0, 0, 0, 0, 0], title='Bronx Tale, A (1993)'),\n",
       " Row(date='01-Jan-1993', id=468, link='http://us.imdb.com/M/title-exact?Rudy%20(1993)', rating=[0, 0, 0, 0, 0, 0, 0, 0, 1, 0, 0, 0, 0, 0, 0, 0, 0, 0, 0], title='Rudy (1993)'),\n",
       " Row(date='01-Jan-1993', id=469, link='http://us.imdb.com/M/title-exact?Short%20Cuts%20(1993)', rating=[0, 0, 0, 0, 0, 0, 0, 0, 1, 0, 0, 0, 0, 0, 0, 0, 0, 0, 0], title='Short Cuts (1993)'),\n",
       " Row(date='01-Jan-1993', id=470, link='http://us.imdb.com/M/title-exact?Tombstone%20(1993)', rating=[0, 0, 0, 0, 0, 0, 0, 0, 0, 0, 0, 0, 0, 0, 0, 0, 0, 0, 1], title='Tombstone (1993)'),\n",
       " Row(date='08-Mar-1996', id=471, link='http://us.imdb.com/M/title-exact?Courage%20Under%20Fire%20(1996)', rating=[0, 0, 0, 0, 0, 0, 0, 0, 1, 0, 0, 0, 0, 0, 0, 0, 0, 1, 0], title='Courage Under Fire (1996)'),\n",
       " Row(date='31-May-1996', id=472, link='http://us.imdb.com/M/title-exact?Dragonheart%20(1996)', rating=[0, 1, 1, 0, 0, 0, 0, 0, 0, 1, 0, 0, 0, 0, 0, 0, 0, 0, 0], title='Dragonheart (1996)'),\n",
       " Row(date='12-Apr-1996', id=473, link='http://us.imdb.com/M/title-exact?James%20and%20the%20Giant%20Peach%20(1996)', rating=[0, 0, 0, 1, 1, 0, 0, 0, 0, 0, 0, 0, 1, 0, 0, 0, 0, 0, 0], title='James and the Giant Peach (1996)'),\n",
       " Row(date='01-Jan-1963', id=474, link='http://us.imdb.com/M/title-exact?Dr.%20Strangelove%20or:%20How%20I%20Learned%20to%20Stop%20Worrying%20and%20Love%20the%20Bomb%20(1963)', rating=[0, 0, 0, 0, 0, 0, 0, 0, 0, 0, 0, 0, 0, 0, 0, 1, 0, 1, 0], title='Dr. Strangelove or: How I Learned to Stop Worrying and Love the Bomb (1963)'),\n",
       " Row(date='19-Jul-1996', id=475, link='http://us.imdb.com/Title?Trainspotting+(1996)', rating=[0, 0, 0, 0, 0, 0, 0, 0, 1, 0, 0, 0, 0, 0, 0, 0, 0, 0, 0], title='Trainspotting (1996)'),\n",
       " Row(date='14-Sep-1996', id=476, link='http://us.imdb.com/M/title-exact?First%20Wives%20Club,%20The%20(1996)', rating=[0, 0, 0, 0, 0, 1, 0, 0, 0, 0, 0, 0, 0, 0, 0, 0, 0, 0, 0], title='First Wives Club, The (1996)'),\n",
       " Row(date='02-Aug-1996', id=477, link='http://us.imdb.com/M/title-exact?Matilda%20(1996)', rating=[0, 0, 0, 0, 1, 1, 0, 0, 0, 0, 0, 0, 0, 0, 0, 0, 0, 0, 0], title='Matilda (1996)'),\n",
       " Row(date='01-Jan-1940', id=478, link='http://us.imdb.com/M/title-exact?Philadelphia%20Story,%20The%20(1940)', rating=[0, 0, 0, 0, 0, 1, 0, 0, 0, 0, 0, 0, 0, 0, 1, 0, 0, 0, 0], title='Philadelphia Story, The (1940)'),\n",
       " Row(date='01-Jan-1958', id=479, link='http://us.imdb.com/M/title-exact?Vertigo%20(1958)', rating=[0, 0, 0, 0, 0, 0, 0, 0, 0, 0, 0, 0, 0, 1, 0, 0, 1, 0, 0], title='Vertigo (1958)'),\n",
       " Row(date='01-Jan-1959', id=480, link='http://us.imdb.com/M/title-exact?North%20by%20Northwest%20(1959)', rating=[0, 0, 0, 0, 0, 1, 0, 0, 0, 0, 0, 0, 0, 0, 0, 0, 1, 0, 0], title='North by Northwest (1959)'),\n",
       " Row(date='01-Jan-1960', id=481, link='http://us.imdb.com/M/title-exact?Apartment,%20The%20(1960)', rating=[0, 0, 0, 0, 0, 1, 0, 0, 1, 0, 0, 0, 0, 0, 0, 0, 0, 0, 0], title='Apartment, The (1960)'),\n",
       " Row(date='01-Jan-1959', id=482, link='http://us.imdb.com/M/title-exact?Some%20Like%20It%20Hot%20(1959)', rating=[0, 0, 0, 0, 0, 1, 1, 0, 0, 0, 0, 0, 0, 0, 0, 0, 0, 0, 0], title='Some Like It Hot (1959)'),\n",
       " Row(date='01-Jan-1942', id=483, link='http://us.imdb.com/M/title-exact?Casablanca%20(1942)', rating=[0, 0, 0, 0, 0, 0, 0, 0, 1, 0, 0, 0, 0, 0, 1, 0, 0, 1, 0], title='Casablanca (1942)'),\n",
       " Row(date='01-Jan-1941', id=484, link='http://us.imdb.com/M/title-exact?Maltese%20Falcon,%20The%20(1941)', rating=[0, 0, 0, 0, 0, 0, 0, 0, 0, 0, 1, 0, 0, 1, 0, 0, 0, 0, 0], title='Maltese Falcon, The (1941)'),\n",
       " Row(date='01-Jan-1964', id=485, link='http://us.imdb.com/M/title-exact?My%20Fair%20Lady%20(1964)', rating=[0, 0, 0, 0, 0, 0, 0, 0, 0, 0, 0, 0, 1, 0, 1, 0, 0, 0, 0], title='My Fair Lady (1964)'),\n",
       " Row(date='01-Jan-1954', id=486, link='http://us.imdb.com/M/title-exact?Sabrina%20(1954)', rating=[0, 0, 0, 0, 0, 1, 0, 0, 0, 0, 0, 0, 0, 0, 1, 0, 0, 0, 0], title='Sabrina (1954)'),\n",
       " Row(date='01-Jan-1953', id=487, link='http://us.imdb.com/M/title-exact?Roman%20Holiday%20(1953)', rating=[0, 0, 0, 0, 0, 1, 0, 0, 0, 0, 0, 0, 0, 0, 1, 0, 0, 0, 0], title='Roman Holiday (1953)'),\n",
       " Row(date='01-Jan-1950', id=488, link='http://us.imdb.com/M/title-exact?Sunset%20Boulevard%20(1950)', rating=[0, 0, 0, 0, 0, 0, 0, 0, 0, 0, 1, 0, 0, 0, 0, 0, 0, 0, 0], title='Sunset Blvd. (1950)'),\n",
       " Row(date='01-Jan-1946', id=489, link='http://us.imdb.com/M/title-exact?Notorious%20(1946)', rating=[0, 0, 0, 0, 0, 0, 0, 0, 0, 0, 1, 0, 0, 0, 1, 0, 1, 0, 0], title='Notorious (1946)'),\n",
       " Row(date='01-Jan-1955', id=490, link='http://us.imdb.com/M/title-exact?To%20Catch%20a%20Thief%20(1955)', rating=[0, 0, 0, 0, 0, 1, 0, 0, 0, 0, 0, 0, 0, 0, 1, 0, 1, 0, 0], title='To Catch a Thief (1955)'),\n",
       " Row(date='01-Jan-1938', id=491, link='http://us.imdb.com/M/title-exact?Adventures%20of%20Robin%20Hood,%20The%20(1938)', rating=[0, 1, 1, 0, 0, 0, 0, 0, 0, 0, 0, 0, 0, 0, 0, 0, 0, 0, 0], title='Adventures of Robin Hood, The (1938)'),\n",
       " Row(date='01-Jan-1955', id=492, link='http://us.imdb.com/M/title-exact?East%20of%20Eden%20(1955)', rating=[0, 0, 0, 0, 0, 0, 0, 0, 1, 0, 0, 0, 0, 0, 0, 0, 0, 0, 0], title='East of Eden (1955)'),\n",
       " Row(date='01-Jan-1934', id=493, link='http://us.imdb.com/M/title-exact?Thin%20Man,%20The%20(1934)', rating=[0, 0, 0, 0, 0, 0, 0, 0, 0, 0, 0, 0, 0, 1, 0, 0, 0, 0, 0], title='Thin Man, The (1934)'),\n",
       " Row(date='01-Jan-1940', id=494, link='http://us.imdb.com/M/title-exact?His%20Girl%20Friday%20(1940)', rating=[0, 0, 0, 0, 0, 1, 0, 0, 0, 0, 0, 0, 0, 0, 0, 0, 0, 0, 0], title='His Girl Friday (1940)'),\n",
       " Row(date='01-Jan-1956', id=495, link='http://us.imdb.com/M/title-exact?Around%20the%20World%20in%2080%20Days%20(1956)', rating=[0, 0, 1, 0, 0, 1, 0, 0, 0, 0, 0, 0, 0, 0, 0, 0, 0, 0, 0], title='Around the World in 80 Days (1956)'),\n",
       " Row(date='01-Jan-1946', id=496, link=\"http://us.imdb.com/M/title-exact?It's%20a%20Wonderful%20Life%20(1946)\", rating=[0, 0, 0, 0, 0, 0, 0, 0, 1, 0, 0, 0, 0, 0, 0, 0, 0, 0, 0], title=\"It's a Wonderful Life (1946)\"),\n",
       " Row(date='01-Jan-1938', id=497, link='http://us.imdb.com/M/title-exact?Bringing%20Up%20Baby%20(1938)', rating=[0, 0, 0, 0, 0, 1, 0, 0, 0, 0, 0, 0, 0, 0, 0, 0, 0, 0, 0], title='Bringing Up Baby (1938)'),\n",
       " Row(date='01-Jan-1951', id=498, link='http://us.imdb.com/M/title-exact?African%20Queen,%20The%20(1951)', rating=[0, 1, 1, 0, 0, 0, 0, 0, 0, 0, 0, 0, 0, 0, 1, 0, 0, 1, 0], title='African Queen, The (1951)'),\n",
       " Row(date='01-Jan-1958', id=499, link='http://us.imdb.com/M/title-exact?Cat%20on%20a%20Hot%20Tin%20Roof%20(1958)', rating=[0, 0, 0, 0, 0, 0, 0, 0, 1, 0, 0, 0, 0, 0, 0, 0, 0, 0, 0], title='Cat on a Hot Tin Roof (1958)'),\n",
       " Row(date='13-Sep-1996', id=500, link='http://us.imdb.com/M/title-exact?Fly%20Away%20Home%20(1996)', rating=[0, 0, 1, 0, 1, 0, 0, 0, 0, 0, 0, 0, 0, 0, 0, 0, 0, 0, 0], title='Fly Away Home (1996)'),\n",
       " Row(date='01-Jan-1941', id=501, link='http://us.imdb.com/M/title-exact?Dumbo%20(1941)', rating=[0, 0, 0, 1, 1, 0, 0, 0, 0, 0, 0, 0, 1, 0, 0, 0, 0, 0, 0], title='Dumbo (1941)'),\n",
       " Row(date='01-Jan-1971', id=502, link='http://us.imdb.com/M/title-exact?Bananas%20(1971)', rating=[0, 0, 0, 0, 0, 1, 0, 0, 0, 0, 0, 0, 0, 0, 0, 0, 0, 1, 0], title='Bananas (1971)'),\n",
       " Row(date='01-Jan-1972', id=503, link='http://us.imdb.com/M/title-exact?Candidate,%20The%20(1972)', rating=[0, 0, 0, 0, 0, 0, 0, 0, 1, 0, 0, 0, 0, 0, 0, 0, 0, 0, 0], title='Candidate, The (1972)'),\n",
       " Row(date='01-Jan-1967', id=504, link='http://us.imdb.com/M/title-exact?Bonnie%20and%20Clyde%20(1967)', rating=[0, 0, 0, 0, 0, 0, 1, 0, 1, 0, 0, 0, 0, 0, 0, 0, 0, 0, 0], title='Bonnie and Clyde (1967)'),\n",
       " Row(date='01-Jan-1954', id=505, link='http://us.imdb.com/M/title-exact?Dial%20M%20for%20Murder%20(1954)', rating=[0, 0, 0, 0, 0, 0, 0, 0, 0, 0, 0, 0, 0, 1, 0, 0, 1, 0, 0], title='Dial M for Murder (1954)'),\n",
       " Row(date='01-Jan-1955', id=506, link='http://us.imdb.com/M/title-exact?Rebel%20Without%20a%20Cause%20(1955)', rating=[0, 0, 0, 0, 0, 0, 0, 0, 1, 0, 0, 0, 0, 0, 0, 0, 0, 0, 0], title='Rebel Without a Cause (1955)'),\n",
       " Row(date='01-Jan-1951', id=507, link='http://us.imdb.com/M/title-exact?Streetcar%20Named%20Desire,%20A%20(1951)', rating=[0, 0, 0, 0, 0, 0, 0, 0, 1, 0, 0, 0, 0, 0, 0, 0, 0, 0, 0], title='Streetcar Named Desire, A (1951)'),\n",
       " Row(date='27-Dec-1996', id=508, link='http://us.imdb.com/M/title-exact?People%20vs.%20Larry%20Flynt,%20The%20(1996)', rating=[0, 0, 0, 0, 0, 0, 0, 0, 1, 0, 0, 0, 0, 0, 0, 0, 0, 0, 0], title='People vs. Larry Flynt, The (1996)'),\n",
       " Row(date='01-Jan-1989', id=509, link='http://us.imdb.com/M/title-exact?My%20Left%20Foot%20(1989)', rating=[0, 0, 0, 0, 0, 0, 0, 0, 1, 0, 0, 0, 0, 0, 0, 0, 0, 0, 0], title='My Left Foot (1989)'),\n",
       " Row(date='01-Jan-1954', id=510, link='http://us.imdb.com/M/title-exact?Shichinin%20no%20samurai%20(1954)', rating=[0, 1, 0, 0, 0, 0, 0, 0, 1, 0, 0, 0, 0, 0, 0, 0, 0, 0, 1], title='Magnificent Seven, The (1954)'),\n",
       " Row(date='01-Jan-1962', id=511, link='http://us.imdb.com/M/title-exact?Lawrence%20of%20Arabia%20(1962)', rating=[0, 0, 1, 0, 0, 0, 0, 0, 0, 0, 0, 0, 0, 0, 0, 0, 0, 1, 0], title='Lawrence of Arabia (1962)'),\n",
       " Row(date='01-Jan-1987', id=512, link='http://us.imdb.com/Title?Himmel+%FCber+Berlin,+Der+(1987)', rating=[0, 0, 0, 0, 0, 1, 0, 0, 1, 0, 0, 0, 0, 0, 1, 0, 0, 0, 0], title='Wings of Desire (1987)'),\n",
       " Row(date='01-Jan-1949', id=513, link='http://us.imdb.com/M/title-exact?Third%20Man,%20The%20(1949)', rating=[0, 0, 0, 0, 0, 0, 0, 0, 0, 0, 0, 0, 0, 1, 0, 0, 1, 0, 0], title='Third Man, The (1949)'),\n",
       " Row(date='01-Jan-1977', id=514, link='http://us.imdb.com/M/title-exact?Annie%20Hall%20(1977)', rating=[0, 0, 0, 0, 0, 1, 0, 0, 0, 0, 0, 0, 0, 0, 1, 0, 0, 0, 0], title='Annie Hall (1977)'),\n",
       " Row(date='04-Apr-1997', id=515, link='http://us.imdb.com/M/title-exact?Boot,%20Das%20(1981)', rating=[0, 1, 0, 0, 0, 0, 0, 0, 1, 0, 0, 0, 0, 0, 0, 0, 0, 1, 0], title='Boot, Das (1981)'),\n",
       " Row(date='01-Jan-1983', id=516, link='http://us.imdb.com/M/title-exact?Local%20Hero%20(1983)', rating=[0, 0, 0, 0, 0, 1, 0, 0, 0, 0, 0, 0, 0, 0, 0, 0, 0, 0, 0], title='Local Hero (1983)'),\n",
       " Row(date='01-Jan-1979', id=517, link='http://us.imdb.com/M/title-exact?Manhattan%20(1979)', rating=[0, 0, 0, 0, 0, 1, 0, 0, 1, 0, 0, 0, 0, 0, 1, 0, 0, 0, 0], title='Manhattan (1979)'),\n",
       " Row(date='01-Jan-1990', id=518, link=\"http://us.imdb.com/M/title-exact?Miller's%20Crossing%20(1990)\", rating=[0, 0, 0, 0, 0, 0, 0, 0, 1, 0, 0, 0, 0, 0, 0, 0, 0, 0, 0], title=\"Miller's Crossing (1990)\"),\n",
       " Row(date='01-Jan-1948', id=519, link='http://us.imdb.com/M/title-exact?Treasure%20of%20the%20Sierra%20Madre,%20The%20(1948)', rating=[0, 0, 1, 0, 0, 0, 0, 0, 0, 0, 0, 0, 0, 0, 0, 0, 0, 0, 0], title='Treasure of the Sierra Madre, The (1948)'),\n",
       " Row(date='01-Jan-1963', id=520, link='http://us.imdb.com/M/title-exact?Great%20Escape,%20The%20(1963)', rating=[0, 0, 1, 0, 0, 0, 0, 0, 0, 0, 0, 0, 0, 0, 0, 0, 0, 1, 0], title='Great Escape, The (1963)'),\n",
       " Row(date='01-Jan-1978', id=521, link='http://us.imdb.com/M/title-exact?Deer%20Hunter,%20The%20(1978)', rating=[0, 0, 0, 0, 0, 0, 0, 0, 1, 0, 0, 0, 0, 0, 0, 0, 0, 1, 0], title='Deer Hunter, The (1978)'),\n",
       " Row(date='01-Jan-1986', id=522, link='http://us.imdb.com/M/title-exact?Down%20by%20Law%20(1986)', rating=[0, 0, 0, 0, 0, 1, 0, 0, 1, 0, 0, 0, 0, 0, 0, 0, 0, 0, 0], title='Down by Law (1986)'),\n",
       " Row(date='01-Jan-1967', id=523, link='http://us.imdb.com/M/title-exact?Cool%20Hand%20Luke%20(1967)', rating=[0, 0, 0, 0, 0, 1, 0, 0, 1, 0, 0, 0, 0, 0, 0, 0, 0, 0, 0], title='Cool Hand Luke (1967)'),\n",
       " Row(date='01-Jan-1940', id=524, link='http://us.imdb.com/M/title-exact?Great%20Dictator,%20The%20(1940)', rating=[0, 0, 0, 0, 0, 1, 0, 0, 0, 0, 0, 0, 0, 0, 0, 0, 0, 0, 0], title='Great Dictator, The (1940)'),\n",
       " Row(date='01-Jan-1946', id=525, link='http://us.imdb.com/M/title-exact?Big%20Sleep,%20The%20(1946)', rating=[0, 0, 0, 0, 0, 0, 0, 0, 0, 0, 1, 0, 0, 1, 0, 0, 0, 0, 0], title='Big Sleep, The (1946)'),\n",
       " Row(date='01-Jan-1959', id=526, link='http://us.imdb.com/M/title-exact?Ben-Hur%20(1959)', rating=[0, 1, 1, 0, 0, 0, 0, 0, 1, 0, 0, 0, 0, 0, 0, 0, 0, 0, 0], title='Ben-Hur (1959)'),\n",
       " Row(date='01-Jan-1982', id=527, link='http://us.imdb.com/M/title-exact?Gandhi%20(1982)', rating=[0, 0, 0, 0, 0, 0, 0, 0, 1, 0, 0, 0, 0, 0, 0, 0, 0, 0, 0], title='Gandhi (1982)'),\n",
       " Row(date='01-Jan-1984', id=528, link='http://us.imdb.com/M/title-exact?Killing%20Fields,%20The%20(1984)', rating=[0, 0, 0, 0, 0, 0, 0, 0, 1, 0, 0, 0, 0, 0, 0, 0, 0, 1, 0], title='Killing Fields, The (1984)'),\n",
       " Row(date='01-Jan-1985', id=529, link='http://us.imdb.com/M/title-exact?Mitt%20liv%20som%20hund%20(1985)', rating=[0, 0, 0, 0, 0, 0, 0, 0, 1, 0, 0, 0, 0, 0, 0, 0, 0, 0, 0], title='My Life as a Dog (Mitt liv som hund) (1985)'),\n",
       " Row(date='01-Jan-1975', id=530, link='http://us.imdb.com/M/title-exact?Man%20Who%20Would%20Be%20King,%20The%20(1975)', rating=[0, 0, 1, 0, 0, 0, 0, 0, 0, 0, 0, 0, 0, 0, 0, 0, 0, 0, 0], title='Man Who Would Be King, The (1975)'),\n",
       " Row(date='22-Nov-1996', id=531, link='http://us.imdb.com/M/title-exact?Shine%20(1996)', rating=[0, 0, 0, 0, 0, 0, 0, 0, 1, 0, 0, 0, 0, 0, 1, 0, 0, 0, 0], title='Shine (1996)'),\n",
       " Row(date='07-Mar-1997', id=532, link='http://us.imdb.com/M/title-exact?Kama%20Sutra%20(1996)', rating=[0, 0, 0, 0, 0, 0, 0, 0, 0, 0, 0, 0, 0, 0, 1, 0, 0, 0, 0], title='Kama Sutra: A Tale of Love (1996)'),\n",
       " Row(date='21-Mar-1997', id=533, link='http://us.imdb.com/M/title-exact?Daytrippers%2C%20The%20(1996)', rating=[0, 0, 0, 0, 0, 0, 0, 0, 0, 0, 0, 0, 0, 1, 0, 0, 0, 0, 0], title='Daytrippers, The (1996)'),\n",
       " Row(date='18-Apr-1997', id=534, link='http://us.imdb.com/M/title-exact?Traveller%20%281997%29', rating=[0, 0, 0, 0, 0, 0, 0, 0, 1, 0, 0, 0, 0, 0, 0, 0, 0, 0, 0], title='Traveller (1997)'),\n",
       " Row(date='23-May-1997', id=535, link='http://us.imdb.com/M/title-exact?Addicted%20to%20Love%20%281997%29', rating=[0, 0, 0, 0, 0, 1, 0, 0, 0, 0, 0, 0, 0, 0, 1, 0, 0, 0, 0], title='Addicted to Love (1997)'),\n",
       " Row(date='23-May-1997', id=536, link='http://us.imdb.com/M/title-exact?Ponette%20%281996%29', rating=[0, 0, 0, 0, 0, 0, 0, 0, 1, 0, 0, 0, 0, 0, 0, 0, 0, 0, 0], title='Ponette (1996)'),\n",
       " Row(date='01-Jan-1991', id=537, link='http://us.imdb.com/M/title-exact?My+Own+Private+Idaho+(1991)', rating=[0, 0, 0, 0, 0, 0, 0, 0, 1, 0, 0, 0, 0, 0, 0, 0, 0, 0, 0], title='My Own Private Idaho (1991)'),\n",
       " Row(date='01-Jan-1997', id=538, link='http://us.imdb.com/M/title-exact?Anastasia+(1997)', rating=[0, 0, 0, 1, 1, 0, 0, 0, 0, 0, 0, 0, 1, 0, 0, 0, 0, 0, 0], title='Anastasia (1997)'),\n",
       " Row(date='01-Jan-1997', id=539, link='http://us.imdb.com/M/title-exact?imdb-title-119715', rating=[0, 0, 0, 0, 1, 1, 0, 0, 0, 0, 0, 0, 0, 0, 0, 0, 0, 0, 0], title='Mouse Hunt (1997)'),\n",
       " Row(date='01-Jan-1995', id=540, link='http://us.imdb.com/M/title-exact?Money%20Train%20(1995)', rating=[0, 1, 0, 0, 0, 0, 0, 0, 0, 0, 0, 0, 0, 0, 0, 0, 0, 0, 0], title='Money Train (1995)'),\n",
       " Row(date='01-Jan-1995', id=541, link='http://us.imdb.com/M/title-exact?Mortal%20Kombat%20(1995)', rating=[0, 1, 1, 0, 0, 0, 0, 0, 0, 0, 0, 0, 0, 0, 0, 0, 0, 0, 0], title='Mortal Kombat (1995)'),\n",
       " Row(date='01-Jan-1995', id=542, link='http://us.imdb.com/M/title-exact?Pocahontas%20(1995)', rating=[0, 0, 0, 1, 1, 0, 0, 0, 0, 0, 0, 0, 1, 0, 1, 0, 0, 0, 0], title='Pocahontas (1995)'),\n",
       " Row(date='01-Jan-1995', id=543, link='http://us.imdb.com/M/title-exact?Mis%E9rables%2C%20Les%20%281995%29', rating=[0, 0, 0, 0, 0, 0, 0, 0, 1, 0, 0, 0, 1, 0, 0, 0, 0, 0, 0], title='Mis�rables, Les (1995)'),\n",
       " Row(date='02-Feb-1996', id=544, link=\"http://us.imdb.com/M/title-exact?Things%20to%20Do%20in%20Denver%20when%20You're%20Dead%20(1995)\", rating=[0, 0, 0, 0, 0, 0, 1, 0, 1, 0, 0, 0, 0, 0, 1, 0, 0, 0, 0], title=\"Things to Do in Denver when You're Dead (1995)\"),\n",
       " Row(date='01-Jan-1995', id=545, link='http://us.imdb.com/M/title-exact?Vampire%20in%20Brooklyn%20(1995)', rating=[0, 0, 0, 0, 0, 1, 0, 0, 0, 0, 0, 0, 0, 0, 1, 0, 0, 0, 0], title='Vampire in Brooklyn (1995)'),\n",
       " Row(date='09-Feb-1996', id=546, link='http://us.imdb.com/M/title-exact?Broken%20Arrow%20(1996)', rating=[0, 1, 0, 0, 0, 0, 0, 0, 0, 0, 0, 0, 0, 0, 0, 0, 1, 0, 0], title='Broken Arrow (1996)'),\n",
       " Row(date='23-Feb-1996', id=547, link=\"http://us.imdb.com/M/title-exact?Young%20Poisoner's%20Handbook,%20The%20(1995)\", rating=[0, 0, 0, 0, 0, 0, 1, 0, 0, 0, 0, 0, 0, 0, 0, 0, 0, 0, 0], title=\"Young Poisoner's Handbook, The (1995)\"),\n",
       " Row(date='02-Feb-1996', id=548, link='http://us.imdb.com/M/title-exact?NeverEnding%20Story%20III,%20The%20(1994)', rating=[0, 0, 0, 0, 1, 0, 0, 0, 0, 1, 0, 0, 0, 0, 0, 0, 0, 0, 0], title='NeverEnding Story III, The (1994)'),\n",
       " Row(date='01-Jan-1995', id=549, link='http://us.imdb.com/M/title-exact?Rob%20Roy%20(1995)', rating=[0, 0, 0, 0, 0, 0, 0, 0, 1, 0, 0, 0, 0, 0, 1, 0, 0, 1, 0], title='Rob Roy (1995)'),\n",
       " Row(date='01-Jan-1995', id=550, link='http://us.imdb.com/M/title-exact?Die%20Hard:%20With%20a%20Vengeance%20(1995)', rating=[0, 1, 0, 0, 0, 0, 0, 0, 0, 0, 0, 0, 0, 0, 0, 0, 1, 0, 0], title='Die Hard: With a Vengeance (1995)'),\n",
       " Row(date='01-Jan-1995', id=551, link='http://us.imdb.com/M/title-exact?Lord%20of%20Illusions%20(1995)', rating=[0, 0, 0, 0, 0, 0, 0, 0, 0, 0, 0, 1, 0, 0, 0, 0, 0, 0, 0], title='Lord of Illusions (1995)'),\n",
       " Row(date='01-Jan-1995', id=552, link='http://us.imdb.com/M/title-exact?Species%20(1995)', rating=[0, 0, 0, 0, 0, 0, 0, 0, 0, 0, 0, 0, 0, 0, 0, 1, 0, 0, 0], title='Species (1995)'),\n",
       " Row(date='01-Jan-1995', id=553, link='http://us.imdb.com/M/title-exact?Walk%20in%20the%20Clouds,%20A%20(1995)', rating=[0, 0, 0, 0, 0, 0, 0, 0, 1, 0, 0, 0, 0, 0, 1, 0, 0, 0, 0], title='Walk in the Clouds, A (1995)'),\n",
       " Row(date='01-Jan-1995', id=554, link='http://us.imdb.com/M/title-exact?Waterworld%20(1995)', rating=[0, 1, 1, 0, 0, 0, 0, 0, 0, 0, 0, 0, 0, 0, 0, 0, 0, 0, 0], title='Waterworld (1995)'),\n",
       " Row(date='01-Jan-1995', id=555, link=\"http://us.imdb.com/M/title-exact?White%20Man's%20Burden%20(1995)\", rating=[0, 0, 0, 0, 0, 0, 0, 0, 1, 0, 0, 0, 0, 0, 0, 0, 0, 0, 0], title=\"White Man's Burden (1995)\"),\n",
       " Row(date='01-Jan-1995', id=556, link='http://us.imdb.com/M/title-exact?Wild%20Bill%20(1995)', rating=[0, 0, 0, 0, 0, 0, 0, 0, 0, 0, 0, 0, 0, 0, 0, 0, 0, 0, 1], title='Wild Bill (1995)'),\n",
       " Row(date='01-Jan-1994', id=557, link='http://us.imdb.com/M/title-exact?Farinelli:%20il%20castrato%20(1994)', rating=[0, 0, 0, 0, 0, 0, 0, 0, 1, 0, 0, 0, 1, 0, 0, 0, 0, 0, 0], title='Farinelli: il castrato (1994)'),\n",
       " Row(date='01-Jan-1994', id=558, link='http://us.imdb.com/M/title-exact?Heavenly%20Creatures%20(1994)', rating=[0, 0, 0, 0, 0, 0, 0, 0, 1, 1, 0, 0, 0, 0, 0, 0, 1, 0, 0], title='Heavenly Creatures (1994)'),\n",
       " Row(date='01-Jan-1994', id=559, link='http://us.imdb.com/M/title-exact?Interview%20with%20the%20Vampire%20(1994)', rating=[0, 0, 0, 0, 0, 0, 0, 0, 1, 0, 0, 1, 0, 0, 0, 0, 0, 0, 0], title='Interview with the Vampire (1994)'),\n",
       " Row(date='01-Jan-1995', id=560, link=\"http://us.imdb.com/M/title-exact?Kid%20in%20King%20Arthur's%20Court,%20A%20(1995)\", rating=[0, 0, 1, 0, 1, 1, 0, 0, 0, 1, 0, 0, 0, 0, 1, 1, 0, 0, 0], title=\"Kid in King Arthur's Court, A (1995)\"),\n",
       " Row(date='01-Jan-1994', id=561, link=\"http://us.imdb.com/M/title-exact?Mary%20Shelley's%20Frankenstein%20(1994)\", rating=[0, 0, 0, 0, 0, 0, 0, 0, 1, 0, 0, 1, 0, 0, 0, 0, 0, 0, 0], title=\"Mary Shelley's Frankenstein (1994)\"),\n",
       " Row(date='01-Jan-1995', id=562, link='http://us.imdb.com/M/title-exact?Quick%20and%20the%20Dead,%20The%20(1995)', rating=[0, 1, 1, 0, 0, 0, 0, 0, 0, 0, 0, 0, 0, 0, 0, 0, 0, 0, 1], title='Quick and the Dead, The (1995)'),\n",
       " Row(date='01-Jan-1995', id=563, link='http://us.imdb.com/M/title-exact?%22Langoliers,%20The%22%20(1995)%20(mini)', rating=[0, 0, 0, 0, 0, 0, 0, 0, 0, 0, 0, 1, 0, 0, 0, 0, 0, 0, 0], title=\"Stephen King's The Langoliers (1995)\"),\n",
       " Row(date='01-Jan-1995', id=564, link='http://us.imdb.com/M/title-exact?Tales%20from%20the%20Hood%20(1995)', rating=[0, 0, 0, 0, 0, 1, 0, 0, 0, 0, 0, 1, 0, 0, 0, 0, 0, 0, 0], title='Tales from the Hood (1995)'),\n",
       " Row(date='01-Jan-1995', id=565, link='http://us.imdb.com/M/title-exact?Village%20of%20the%20Damned%20(1995)', rating=[0, 0, 0, 0, 0, 0, 0, 0, 0, 0, 0, 1, 0, 0, 0, 0, 1, 0, 0], title='Village of the Damned (1995)'),\n",
       " Row(date='01-Jan-1994', id=566, link='http://us.imdb.com/M/title-exact?Clear%20and%20Present%20Danger%20(1994)', rating=[0, 1, 1, 0, 0, 0, 0, 0, 0, 0, 0, 0, 0, 0, 0, 0, 1, 0, 0], title='Clear and Present Danger (1994)'),\n",
       " Row(date='01-Jan-1994', id=567, link=\"http://us.imdb.com/M/title-exact?Wes%20Craven's%20New%20Nightmare%20(1994)\", rating=[0, 0, 0, 0, 0, 0, 0, 0, 0, 0, 0, 1, 0, 0, 0, 0, 0, 0, 0], title=\"Wes Craven's New Nightmare (1994)\"),\n",
       " Row(date='01-Jan-1994', id=568, link='http://us.imdb.com/M/title-exact?Speed%20(1994/I)', rating=[0, 1, 0, 0, 0, 0, 0, 0, 0, 0, 0, 0, 0, 0, 1, 0, 1, 0, 0], title='Speed (1994)'),\n",
       " Row(date='01-Jan-1994', id=569, link='http://us.imdb.com/M/title-exact?Wolf%20(1994)', rating=[0, 0, 0, 0, 0, 0, 0, 0, 1, 0, 0, 1, 0, 0, 0, 0, 0, 0, 0], title='Wolf (1994)'),\n",
       " Row(date='01-Jan-1994', id=570, link='http://us.imdb.com/M/title-exact?Wyatt%20Earp%20(1994)', rating=[0, 0, 0, 0, 0, 0, 0, 0, 0, 0, 0, 0, 0, 0, 0, 0, 0, 0, 1], title='Wyatt Earp (1994)'),\n",
       " Row(date='01-Jan-1993', id=571, link='http://us.imdb.com/M/title-exact?Another%20Stakeout%20(1993)', rating=[0, 0, 0, 0, 0, 1, 0, 0, 0, 0, 0, 0, 0, 0, 0, 0, 1, 0, 0], title='Another Stakeout (1993)'),\n",
       " Row(date='01-Jan-1994', id=572, link='http://us.imdb.com/M/title-exact?Blown%20Away%20(1994)', rating=[0, 1, 0, 0, 0, 0, 0, 0, 0, 0, 0, 0, 0, 0, 0, 0, 1, 0, 0], title='Blown Away (1994)'),\n",
       " Row(date='01-Jan-1993', id=573, link='http://us.imdb.com/M/title-exact?Body%20Snatchers%20(1993)', rating=[0, 0, 0, 0, 0, 0, 0, 0, 0, 0, 0, 1, 0, 0, 0, 1, 1, 0, 0], title='Body Snatchers (1993)'),\n",
       " Row(date='01-Jan-1993', id=574, link='http://us.imdb.com/M/title-exact?Boxing%20Helena%20(1993)', rating=[0, 0, 0, 0, 0, 0, 0, 0, 0, 0, 0, 0, 0, 1, 1, 0, 1, 0, 0], title='Boxing Helena (1993)'),\n",
       " Row(date='01-Jan-1994', id=575, link=\"http://us.imdb.com/M/title-exact?City%20Slickers%20II:%20The%20Legend%20of%20Curly's%20Gold%20(1994)\", rating=[0, 0, 0, 0, 0, 1, 0, 0, 0, 0, 0, 0, 0, 0, 0, 0, 0, 0, 1], title=\"City Slickers II: The Legend of Curly's Gold (1994)\"),\n",
       " Row(date='01-Jan-1993', id=576, link='http://us.imdb.com/M/title-exact?Cliffhanger%20(1993)', rating=[0, 1, 1, 0, 0, 0, 1, 0, 0, 0, 0, 0, 0, 0, 0, 0, 0, 0, 0], title='Cliffhanger (1993)'),\n",
       " Row(date='01-Jan-1993', id=577, link='http://us.imdb.com/M/title-exact?Coneheads%20(1993)', rating=[0, 0, 0, 0, 0, 1, 0, 0, 0, 0, 0, 0, 0, 0, 0, 1, 0, 0, 0], title='Coneheads (1993)'),\n",
       " Row(date='01-Jan-1993', id=578, link='http://us.imdb.com/M/title-exact?Demolition%20Man%20(1993)', rating=[0, 1, 0, 0, 0, 0, 0, 0, 0, 0, 0, 0, 0, 0, 0, 1, 0, 0, 0], title='Demolition Man (1993)'),\n",
       " Row(date='01-Jan-1993', id=579, link='http://us.imdb.com/M/title-exact?Fatal%20Instinct%20(1993)', rating=[0, 0, 0, 0, 0, 1, 0, 0, 0, 0, 0, 0, 0, 0, 0, 0, 0, 0, 0], title='Fatal Instinct (1993)'),\n",
       " Row(date='01-Jan-1995', id=580, link='http://us.imdb.com/M/title-exact?Englishman%20Who%20Went%20Up%20a%20Hill,%20But%20Came%20Down%20a%20Mountain,%20The%20(1995)', rating=[0, 0, 0, 0, 0, 1, 0, 0, 0, 0, 0, 0, 0, 0, 1, 0, 0, 0, 0], title='Englishman Who Went Up a Hill, But Came Down a Mountain, The (1995)'),\n",
       " Row(date='01-Jan-1993', id=581, link='http://us.imdb.com/M/title-exact?Kalifornia%20(1993)', rating=[0, 0, 0, 0, 0, 0, 0, 0, 1, 0, 0, 0, 0, 0, 0, 0, 1, 0, 0], title='Kalifornia (1993)'),\n",
       " Row(date='01-Jan-1993', id=582, link='http://us.imdb.com/M/title-exact?Piano,%20The%20(1993)', rating=[0, 0, 0, 0, 0, 0, 0, 0, 1, 0, 0, 0, 0, 0, 1, 0, 0, 0, 0], title='Piano, The (1993)'),\n",
       " Row(date='01-Jan-1993', id=583, link='http://us.imdb.com/M/title-exact?Romeo%20Is%20Bleeding%20(1993)', rating=[0, 0, 0, 0, 0, 0, 1, 0, 0, 0, 0, 0, 0, 0, 0, 0, 1, 0, 0], title='Romeo Is Bleeding (1993)'),\n",
       " Row(date='01-Jan-1993', id=584, link='http://us.imdb.com/M/title-exact?Secret%20Garden,%20The%20(1993)', rating=[0, 0, 0, 0, 1, 0, 0, 0, 1, 0, 0, 0, 0, 0, 0, 0, 0, 0, 0], title='Secret Garden, The (1993)'),\n",
       " Row(date='01-Jan-1993', id=585, link='http://us.imdb.com/M/title-exact?Son%20in%20Law%20(1993)', rating=[0, 0, 0, 0, 0, 1, 0, 0, 0, 0, 0, 0, 0, 0, 0, 0, 0, 0, 0], title='Son in Law (1993)'),\n",
       " Row(date='01-Jan-1994', id=586, link='http://us.imdb.com/M/title-exact?Terminal%20Velocity%20(1994)', rating=[0, 1, 0, 0, 0, 0, 0, 0, 0, 0, 0, 0, 0, 0, 0, 0, 0, 0, 0], title='Terminal Velocity (1994)'),\n",
       " Row(date='01-Jan-1993', id=587, link='http://us.imdb.com/M/title-exact?Hour%20of%20the%20Pig,%20The%20(1993)', rating=[0, 0, 0, 0, 0, 0, 0, 0, 1, 0, 0, 0, 0, 1, 0, 0, 0, 0, 0], title='Hour of the Pig, The (1993)'),\n",
       " Row(date='01-Jan-1991', id=588, link='http://us.imdb.com/M/title-exact?Beauty%20and%20the%20Beast%20(1991)', rating=[0, 0, 0, 1, 1, 0, 0, 0, 0, 0, 0, 0, 1, 0, 0, 0, 0, 0, 0], title='Beauty and the Beast (1991)'),\n",
       " Row(date='01-Jan-1969', id=589, link='http://us.imdb.com/M/title-exact?Wild%20Bunch,%20The%20(1969)', rating=[0, 0, 0, 0, 0, 0, 0, 0, 0, 0, 0, 0, 0, 0, 0, 0, 0, 0, 1], title='Wild Bunch, The (1969)'),\n",
       " Row(date='08-Mar-1996', id=590, link='http://us.imdb.com/M/title-exact?Hellraiser:%20Bloodline%20(1996)', rating=[0, 1, 0, 0, 0, 0, 0, 0, 0, 0, 0, 1, 0, 0, 0, 1, 0, 0, 0], title='Hellraiser: Bloodline (1996)'),\n",
       " Row(date='30-Mar-1996', id=591, link='http://us.imdb.com/M/title-exact?Primal%20Fear%20(1996)', rating=[0, 0, 0, 0, 0, 0, 0, 0, 1, 0, 0, 0, 0, 0, 0, 0, 1, 0, 0], title='Primal Fear (1996)'),\n",
       " Row(date='01-Jan-1995', id=592, link='http://us.imdb.com/M/title-exact?True%20Crime%20(1995)', rating=[0, 0, 0, 0, 0, 0, 0, 0, 0, 0, 0, 0, 0, 1, 0, 0, 1, 0, 0], title='True Crime (1995)'),\n",
       " Row(date='01-Jan-1993', id=593, link='http://us.imdb.com/M/title-exact?Stalingrad%20(1993)', rating=[0, 0, 0, 0, 0, 0, 0, 0, 0, 0, 0, 0, 0, 0, 0, 0, 0, 1, 0], title='Stalingrad (1993)'),\n",
       " Row(date='05-Jun-1996', id=594, link='http://us.imdb.com/M/title-exact?Heavy%20(1995)', rating=[0, 0, 0, 0, 0, 0, 0, 0, 1, 0, 0, 0, 0, 0, 1, 0, 0, 0, 0], title='Heavy (1995)'),\n",
       " Row(date='16-Aug-1996', id=595, link='http://us.imdb.com/M/title-exact?Fan,%20The%20(1996)', rating=[0, 0, 0, 0, 0, 0, 0, 0, 0, 0, 0, 0, 0, 0, 0, 0, 1, 0, 0], title='Fan, The (1996)'),\n",
       " Row(date='21-Jun-1996', id=596, link='http://us.imdb.com/M/title-exact?Hunchback%20of%20Notre%20Dame,%20The%20(1996)', rating=[0, 0, 0, 1, 1, 0, 0, 0, 0, 0, 0, 0, 1, 0, 0, 0, 0, 0, 0], title='Hunchback of Notre Dame, The (1996)'),\n",
       " Row(date='21-Jun-1996', id=597, link='http://us.imdb.com/M/title-exact?Eraser%20(1996)', rating=[0, 1, 0, 0, 0, 0, 0, 0, 0, 0, 0, 0, 0, 0, 0, 0, 1, 0, 0], title='Eraser (1996)'),\n",
       " Row(date='06-Sep-1996', id=598, link='http://us.imdb.com/M/title-exact?Big%20Squeeze,%20The%20(1996)', rating=[0, 0, 0, 0, 0, 1, 0, 0, 1, 0, 0, 0, 0, 0, 0, 0, 0, 0, 0], title='Big Squeeze, The (1996)'),\n",
       " Row(date='16-Aug-1996', id=599, link='http://us.imdb.com/M/title-exact?Project%20S%20(1993)', rating=[0, 1, 0, 0, 0, 0, 0, 0, 0, 0, 0, 0, 0, 0, 0, 0, 0, 0, 0], title='Police Story 4: Project S (Chao ji ji hua) (1993)'),\n",
       " Row(date='01-Jan-1996', id=600, link='http://us.imdb.com/M/title-exact?Robinson%20Crusoe%20(1996)', rating=[0, 0, 0, 0, 1, 0, 0, 0, 0, 0, 0, 0, 0, 0, 0, 0, 0, 0, 0], title=\"Daniel Defoe's Robinson Crusoe (1996)\"),\n",
       " Row(date='01-Jan-1943', id=601, link='http://us.imdb.com/M/title-exact?For%20Whom%20the%20Bell%20Tolls%20(1943)', rating=[0, 0, 1, 0, 0, 0, 0, 0, 0, 0, 0, 0, 0, 0, 0, 0, 0, 1, 0], title='For Whom the Bell Tolls (1943)'),\n",
       " Row(date='01-Jan-1951', id=602, link='http://us.imdb.com/M/title-exact?American%20in%20Paris,%20An%20(1951)', rating=[0, 0, 0, 0, 0, 0, 0, 0, 0, 0, 0, 0, 1, 0, 1, 0, 0, 0, 0], title='American in Paris, An (1951)'),\n",
       " Row(date='01-Jan-1954', id=603, link='http://us.imdb.com/M/title-exact?Rear%20Window%20(1954)', rating=[0, 0, 0, 0, 0, 0, 0, 0, 0, 0, 0, 0, 0, 1, 0, 0, 1, 0, 0], title='Rear Window (1954)'),\n",
       " Row(date='01-Jan-1934', id=604, link='http://us.imdb.com/M/title-exact?It%20Happened%20One%20Night%20(1934)', rating=[0, 0, 0, 0, 0, 1, 0, 0, 0, 0, 0, 0, 0, 0, 0, 0, 0, 0, 0], title='It Happened One Night (1934)'),\n",
       " Row(date='01-Jan-1944', id=605, link='http://us.imdb.com/M/title-exact?Meet%20Me%20in%20St.%20Louis%20(1944)', rating=[0, 0, 0, 0, 0, 0, 0, 0, 0, 0, 0, 0, 1, 0, 0, 0, 0, 0, 0], title='Meet Me in St. Louis (1944)'),\n",
       " Row(date='01-Jan-1950', id=606, link='http://us.imdb.com/M/title-exact?All%20About%20Eve%20(1950)', rating=[0, 0, 0, 0, 0, 0, 0, 0, 1, 0, 0, 0, 0, 0, 0, 0, 0, 0, 0], title='All About Eve (1950)'),\n",
       " Row(date='01-Jan-1940', id=607, link='http://us.imdb.com/M/title-exact?Rebecca%20(1940)', rating=[0, 0, 0, 0, 0, 0, 0, 0, 0, 0, 0, 0, 0, 0, 1, 0, 1, 0, 0], title='Rebecca (1940)'),\n",
       " Row(date='01-Jan-1945', id=608, link='http://us.imdb.com/M/title-exact?Spellbound%20(1945)', rating=[0, 0, 0, 0, 0, 0, 0, 0, 0, 0, 0, 0, 0, 1, 1, 0, 1, 0, 0], title='Spellbound (1945)'),\n",
       " Row(date='01-Jan-1950', id=609, link='http://us.imdb.com/M/title-exact?Father%20of%20the%20Bride%20(1950)', rating=[0, 0, 0, 0, 0, 1, 0, 0, 0, 0, 0, 0, 0, 0, 0, 0, 0, 0, 0], title='Father of the Bride (1950)'),\n",
       " Row(date='01-Jan-1958', id=610, link='http://us.imdb.com/M/title-exact?Gigi%20(1958)', rating=[0, 0, 0, 0, 0, 0, 0, 0, 0, 0, 0, 0, 1, 0, 0, 0, 0, 0, 0], title='Gigi (1958)'),\n",
       " Row(date='01-Jan-1944', id=611, link='http://us.imdb.com/M/title-exact?Laura%20(1944)', rating=[0, 0, 0, 0, 0, 0, 1, 0, 0, 0, 1, 0, 0, 1, 0, 0, 0, 0, 0], title='Laura (1944)'),\n",
       " Row(date='01-Jan-1937', id=612, link='http://us.imdb.com/M/title-exact?Lost%20Horizon%20(1937)', rating=[0, 0, 0, 0, 0, 0, 0, 0, 1, 0, 0, 0, 0, 0, 0, 0, 0, 0, 0], title='Lost Horizon (1937)'),\n",
       " Row(date='01-Jan-1936', id=613, link='http://us.imdb.com/M/title-exact?My%20Man%20Godfrey%20(1936)', rating=[0, 0, 0, 0, 0, 1, 0, 0, 0, 0, 0, 0, 0, 0, 0, 0, 0, 0, 0], title='My Man Godfrey (1936)'),\n",
       " Row(date='01-Jan-1956', id=614, link='http://us.imdb.com/M/title-exact?Giant%20(1956)', rating=[0, 0, 0, 0, 0, 0, 0, 0, 1, 0, 0, 0, 0, 0, 0, 0, 0, 0, 0], title='Giant (1956)'),\n",
       " Row(date='01-Jan-1935', id=615, link='http://us.imdb.com/M/title-exact?39%20Steps,%20The%20(1935)', rating=[0, 0, 0, 0, 0, 0, 0, 0, 0, 0, 0, 0, 0, 0, 0, 0, 1, 0, 0], title='39 Steps, The (1935)'),\n",
       " Row(date='01-Jan-1968', id=616, link='http://us.imdb.com/M/title-exact?Night%20of%20the%20Living%20Dead%20(1968)', rating=[0, 0, 0, 0, 0, 0, 0, 0, 0, 0, 0, 1, 0, 0, 0, 1, 0, 0, 0], title='Night of the Living Dead (1968)'),\n",
       " Row(date='01-Jan-1930', id=617, link='http://us.imdb.com/M/title-exact?Blaue%20Engel,%20Der%20(1930)', rating=[0, 0, 0, 0, 0, 0, 0, 0, 1, 0, 0, 0, 0, 0, 0, 0, 0, 0, 0], title='Blue Angel, The (Blaue Engel, Der) (1930)'),\n",
       " Row(date='01-Jan-1955', id=618, link='http://us.imdb.com/M/title-exact?Picnic%20(1955)', rating=[0, 0, 0, 0, 0, 0, 0, 0, 1, 0, 0, 0, 0, 0, 0, 0, 0, 0, 0], title='Picnic (1955)'),\n",
       " Row(date='27-Sep-1996', id=619, link='http://us.imdb.com/M/title-exact?Extreme%20Measures%20(1996)', rating=[0, 0, 0, 0, 0, 0, 0, 0, 1, 0, 0, 0, 0, 0, 0, 0, 1, 0, 0], title='Extreme Measures (1996)'),\n",
       " Row(date='11-Oct-1996', id=620, link='http://us.imdb.com/M/title-exact?Chamber,%20The%20(1996)', rating=[0, 0, 0, 0, 0, 0, 0, 0, 1, 0, 0, 0, 0, 0, 0, 0, 0, 0, 0], title='Chamber, The (1996)'),\n",
       " Row(date='01-Jan-1955', id=621, link='http://us.imdb.com/M/title-exact?Davy%20Crockett%2C%20King%20of%20the%20Wild%20Frontier%20%281955%29', rating=[0, 0, 0, 0, 0, 0, 0, 0, 0, 0, 0, 0, 0, 0, 0, 0, 0, 0, 1], title='Davy Crockett, King of the Wild Frontier (1955)'),\n",
       " Row(date='01-Jan-1960', id=622, link='http://us.imdb.com/M/title-exact?Swiss%20Family%20Robinson%20(1960)', rating=[0, 0, 1, 0, 1, 0, 0, 0, 0, 0, 0, 0, 0, 0, 0, 0, 0, 0, 0], title='Swiss Family Robinson (1960)'),\n",
       " Row(date='01-Jan-1994', id=623, link='http://us.imdb.com/M/title-exact?Angels%20in%20the%20Outfield%20(1994)', rating=[0, 0, 0, 0, 1, 1, 0, 0, 0, 0, 0, 0, 0, 0, 0, 0, 0, 0, 0], title='Angels in the Outfield (1994)'),\n",
       " Row(date='01-Jan-1945', id=624, link='http://us.imdb.com/M/title-exact?Three%20Caballeros,%20The%20(1945)', rating=[0, 0, 0, 1, 1, 0, 0, 0, 0, 0, 0, 0, 1, 0, 0, 0, 0, 0, 0], title='Three Caballeros, The (1945)'),\n",
       " Row(date='01-Jan-1963', id=625, link='http://us.imdb.com/M/title-exact?Sword%20in%20the%20Stone,%20The%20(1963)', rating=[0, 0, 0, 1, 1, 0, 0, 0, 0, 0, 0, 0, 0, 0, 0, 0, 0, 0, 0], title='Sword in the Stone, The (1963)'),\n",
       " Row(date='01-Jan-1949', id=626, link='http://us.imdb.com/Title?So+Dear+to+My+Heart+(1949)', rating=[0, 0, 0, 0, 1, 0, 0, 0, 1, 0, 0, 0, 0, 0, 0, 0, 0, 0, 0], title='So Dear to My Heart (1949)'),\n",
       " Row(date='01-Jan-1991', id=627, link='http://us.imdb.com/Title?Robin+Hood%3A+Prince+of+Thieves+(1991)', rating=[0, 0, 0, 0, 0, 0, 0, 0, 1, 0, 0, 0, 0, 0, 0, 0, 0, 0, 0], title='Robin Hood: Prince of Thieves (1991)'),\n",
       " Row(date='18-Oct-1996', id=628, link='http://us.imdb.com/M/title-exact?Sleepers%20(1996)', rating=[0, 0, 0, 0, 0, 0, 1, 0, 1, 0, 0, 0, 0, 0, 0, 0, 0, 0, 0], title='Sleepers (1996)'),\n",
       " Row(date='01-Jan-1982', id=629, link='http://us.imdb.com/M/title-exact?Victor/Victoria%20%281982%29', rating=[0, 0, 0, 0, 0, 1, 0, 0, 0, 0, 0, 0, 1, 0, 0, 0, 0, 0, 0], title='Victor/Victoria (1982)'),\n",
       " Row(date='01-Jan-1965', id=630, link='http://us.imdb.com/M/title-exact?Great%20Race,%20The%20(1965)', rating=[0, 0, 0, 0, 0, 1, 0, 0, 0, 0, 0, 0, 1, 0, 0, 0, 0, 0, 0], title='Great Race, The (1965)'),\n",
       " Row(date='01-Jan-1992', id=631, link='http://us.imdb.com/M/title-exact?Crying%20Game,%20The%20(1992)', rating=[0, 1, 0, 0, 0, 0, 0, 0, 1, 0, 0, 0, 0, 0, 1, 0, 0, 1, 0], title='Crying Game, The (1992)'),\n",
       " Row(date='01-Jan-1982', id=632, link=\"http://us.imdb.com/M/title-exact?Sophie's%20Choice%20(1982)\", rating=[0, 0, 0, 0, 0, 0, 0, 0, 1, 0, 0, 0, 0, 0, 0, 0, 0, 0, 0], title=\"Sophie's Choice (1982)\"),\n",
       " Row(date='01-Jan-1938', id=633, link='http://us.imdb.com/M/title-exact?Christmas%20Carol,%20A%20(1938)', rating=[0, 0, 0, 0, 0, 0, 0, 0, 1, 0, 0, 0, 0, 0, 0, 0, 0, 0, 0], title='Christmas Carol, A (1938)'),\n",
       " Row(date='11-Oct-1996', id=634, link='http://us.imdb.com/M/title-exact?Microcosmos%3A%20Le%20peuple%20de%20l%27herbe%20%281996%29', rating=[0, 0, 0, 0, 0, 0, 0, 1, 0, 0, 0, 0, 0, 0, 0, 0, 0, 0, 0], title=\"Microcosmos: Le peuple de l'herbe (1996)\"),\n",
       " Row(date='01-Jan-1980', id=635, link='http://us.imdb.com/M/title-exact?Fog,%20The%20(1980)', rating=[0, 0, 0, 0, 0, 0, 0, 0, 0, 0, 0, 1, 0, 0, 0, 0, 0, 0, 0], title='Fog, The (1980)'),\n",
       " Row(date='01-Jan-1981', id=636, link='http://us.imdb.com/M/title-exact?Escape%20from%20New%20York%20(1981)', rating=[0, 1, 1, 0, 0, 0, 0, 0, 0, 0, 0, 0, 0, 0, 0, 1, 1, 0, 0], title='Escape from New York (1981)'),\n",
       " Row(date='01-Jan-1981', id=637, link='http://us.imdb.com/M/title-exact?Howling,%20The%20(1981)', rating=[0, 0, 0, 0, 0, 1, 0, 0, 0, 0, 0, 1, 0, 0, 0, 0, 0, 0, 0], title='Howling, The (1981)'),\n",
       " Row(date='01-Jan-1982', id=638, link='http://us.imdb.com/M/title-exact?Retour%20de%20Martin%20Guerre,%20Le%20(1982)', rating=[0, 0, 0, 0, 0, 0, 0, 0, 1, 0, 0, 0, 0, 0, 0, 0, 0, 0, 0], title='Return of Martin Guerre, The (Retour de Martin Guerre, Le) (1982)'),\n",
       " Row(date='01-Jan-1979', id=639, link='http://us.imdb.com/M/title-exact?Blechtrommel,%20Die%20(1979)', rating=[0, 0, 0, 0, 0, 0, 0, 0, 1, 0, 0, 0, 0, 0, 0, 0, 0, 0, 0], title='Tin Drum, The (Blechtrommel, Die) (1979)'),\n",
       " Row(date='01-Jan-1989', id=640, link='http://us.imdb.com/M/title-exact?Cook%20the%20Thief%20His%20Wife%20&%20Her%20Lover,%20The%20(1989)', rating=[0, 0, 0, 0, 0, 0, 0, 0, 1, 0, 0, 0, 0, 0, 0, 0, 0, 0, 0], title='Cook the Thief His Wife & Her Lover, The (1989)'),\n",
       " Row(date='01-Jan-1957', id=641, link='http://us.imdb.com/M/title-exact?Paths%20of%20Glory%20(1957)', rating=[0, 0, 0, 0, 0, 0, 0, 0, 1, 0, 0, 0, 0, 0, 0, 0, 0, 1, 0], title='Paths of Glory (1957)'),\n",
       " Row(date='01-Jan-1990', id=642, link='http://us.imdb.com/M/title-exact?Grifters,%20The%20(1990)', rating=[0, 0, 0, 0, 0, 0, 1, 0, 1, 0, 1, 0, 0, 0, 0, 0, 0, 0, 0], title='Grifters, The (1990)'),\n",
       " Row(date='01-Jan-1994', id=643, link='http://us.imdb.com/M/title-exact?Innocent,%20The%20(1994)%20(TV)', rating=[0, 0, 0, 0, 0, 0, 0, 0, 1, 0, 0, 0, 0, 0, 1, 0, 0, 0, 0], title='The Innocent (1994)'),\n",
       " Row(date='01-Jan-1988', id=644, link='http://us.imdb.com/M/title-exact?Thin%20Blue%20Line,%20The%20(1988)', rating=[0, 0, 0, 0, 0, 0, 0, 1, 0, 0, 0, 0, 0, 0, 0, 0, 0, 0, 0], title='Thin Blue Line, The (1988)'),\n",
       " Row(date='01-Jan-1990', id=645, link='http://us.imdb.com/M/title-exact?Paris%20Is%20Burning%20(1990)', rating=[0, 0, 0, 0, 0, 0, 0, 1, 0, 0, 0, 0, 0, 0, 0, 0, 0, 0, 0], title='Paris Is Burning (1990)'),\n",
       " Row(date='01-Jan-1969', id=646, link=\"http://us.imdb.com/M/title-exact?C'era%20una%20volta%20il%20west%20(1969)\", rating=[0, 0, 0, 0, 0, 0, 0, 0, 0, 0, 0, 0, 0, 0, 0, 0, 0, 0, 1], title='Once Upon a Time in the West (1969)'),\n",
       " Row(date='01-Jan-1985', id=647, link='http://us.imdb.com/M/title-exact?Ran%20(1985)', rating=[0, 0, 0, 0, 0, 0, 0, 0, 1, 0, 0, 0, 0, 0, 0, 0, 0, 1, 0], title='Ran (1985)'),\n",
       " Row(date='01-Jan-1952', id=648, link='http://us.imdb.com/M/title-exact?Quiet%20Man,%20The%20(1952)', rating=[0, 0, 0, 0, 0, 1, 0, 0, 0, 0, 0, 0, 0, 0, 1, 0, 0, 0, 0], title='Quiet Man, The (1952)'),\n",
       " Row(date='01-Jan-1984', id=649, link='http://us.imdb.com/M/title-exact?Once%20Upon%20a%20Time%20in%20America%20(1984)', rating=[0, 0, 0, 0, 0, 0, 1, 0, 1, 0, 0, 0, 0, 0, 0, 0, 1, 0, 0], title='Once Upon a Time in America (1984)'),\n",
       " Row(date='01-Jan-1957', id=650, link='http://us.imdb.com/M/title-exact?Sjunde%20inseglet,%20Det%20(1957)', rating=[0, 0, 0, 0, 0, 0, 0, 0, 1, 0, 0, 0, 0, 0, 0, 0, 0, 0, 0], title='Seventh Seal, The (Sjunde inseglet, Det) (1957)'),\n",
       " Row(date='01-Jan-1989', id=651, link='http://us.imdb.com/M/title-exact?Glory%20(1989)', rating=[0, 1, 0, 0, 0, 0, 0, 0, 1, 0, 0, 0, 0, 0, 0, 0, 0, 1, 0], title='Glory (1989)'),\n",
       " Row(date='01-Jan-1990', id=652, link='http://us.imdb.com/M/title-exact?Rosencrantz%20and%20Guildenstern%20Are%20Dead%20(1990)', rating=[0, 0, 0, 0, 0, 1, 0, 0, 1, 0, 0, 0, 0, 0, 0, 0, 0, 0, 0], title='Rosencrantz and Guildenstern Are Dead (1990)'),\n",
       " Row(date='01-Jan-1958', id=653, link='http://us.imdb.com/M/title-exact?Touch%20of%20Evil%20(1958)', rating=[0, 0, 0, 0, 0, 0, 1, 0, 0, 0, 1, 0, 0, 0, 0, 0, 1, 0, 0], title='Touch of Evil (1958)'),\n",
       " Row(date='01-Jan-1974', id=654, link='http://us.imdb.com/M/title-exact?Chinatown%20(1974)', rating=[0, 0, 0, 0, 0, 0, 0, 0, 0, 0, 1, 0, 0, 1, 0, 0, 1, 0, 0], title='Chinatown (1974)'),\n",
       " Row(date='01-Jan-1986', id=655, link='http://us.imdb.com/M/title-exact?Stand%20by%20Me%20(1986)', rating=[0, 0, 1, 0, 0, 1, 0, 0, 1, 0, 0, 0, 0, 0, 0, 0, 0, 0, 0], title='Stand by Me (1986)'),\n",
       " Row(date='01-Jan-1931', id=656, link='http://us.imdb.com/M/title-exact?M%20(1931)', rating=[0, 0, 0, 0, 0, 0, 1, 0, 0, 0, 1, 0, 0, 0, 0, 0, 1, 0, 0], title='M (1931)'),\n",
       " Row(date='01-Jan-1962', id=657, link='http://us.imdb.com/M/title-exact?Manchurian%20Candidate,%20The%20(1962)', rating=[0, 0, 0, 0, 0, 0, 0, 0, 0, 0, 1, 0, 0, 0, 0, 0, 1, 0, 0], title='Manchurian Candidate, The (1962)'),\n",
       " Row(date='01-Jan-1990', id=658, link='http://us.imdb.com/M/title-exact?Pump%20Up%20the%20Volume%20(1990)', rating=[0, 0, 0, 0, 0, 0, 0, 0, 1, 0, 0, 0, 0, 0, 0, 0, 0, 0, 0], title='Pump Up the Volume (1990)'),\n",
       " Row(date='01-Jan-1944', id=659, link='http://us.imdb.com/M/title-exact?Arsenic%20and%20Old%20Lace%20(1944)', rating=[0, 0, 0, 0, 0, 1, 0, 0, 0, 0, 0, 0, 0, 1, 0, 0, 1, 0, 0], title='Arsenic and Old Lace (1944)'),\n",
       " Row(date='01-Jan-1991', id=660, link='http://us.imdb.com/M/title-exact?Fried%20Green%20Tomatoes%20at%20the%20Whistle%20Stop%20Cafe%20(1991)', rating=[0, 0, 0, 0, 0, 0, 0, 0, 1, 0, 0, 0, 0, 0, 0, 0, 0, 0, 0], title='Fried Green Tomatoes (1991)'),\n",
       " Row(date='01-Jan-1952', id=661, link='http://us.imdb.com/M/title-exact?High%20Noon%20(1952)', rating=[0, 0, 0, 0, 0, 0, 0, 0, 0, 0, 0, 0, 0, 0, 0, 0, 0, 0, 1], title='High Noon (1952)'),\n",
       " Row(date='01-Jan-1980', id=662, link='http://us.imdb.com/M/title-exact?Somewhere%20in%20Time%20(1980)', rating=[0, 0, 0, 0, 0, 0, 0, 0, 1, 0, 0, 0, 0, 0, 1, 0, 0, 0, 0], title='Somewhere in Time (1980)'),\n",
       " Row(date='01-Jan-1979', id=663, link='http://us.imdb.com/M/title-exact?Being%20There%20(1979)', rating=[0, 0, 0, 0, 0, 1, 0, 0, 0, 0, 0, 0, 0, 0, 0, 0, 0, 0, 0], title='Being There (1979)'),\n",
       " Row(date='01-Jan-1984', id=664, link='http://us.imdb.com/M/title-exact?Paris,%20Texas%20(1984)', rating=[0, 0, 0, 0, 0, 0, 0, 0, 1, 0, 0, 0, 0, 0, 0, 0, 0, 0, 0], title='Paris, Texas (1984)'),\n",
       " Row(date='01-Jan-1992', id=665, link='http://us.imdb.com/M/title-exact?Alien%203%20(1992)', rating=[0, 1, 0, 0, 0, 0, 0, 0, 0, 0, 0, 1, 0, 0, 0, 1, 1, 0, 0], title='Alien 3 (1992)'),\n",
       " Row(date='01-Jan-1974', id=666, link=\"http://us.imdb.com/M/title-exact?Andy%20Warhol's%20Dracula%20(1974)\", rating=[0, 0, 0, 0, 0, 0, 0, 0, 0, 0, 0, 1, 0, 0, 0, 0, 0, 0, 0], title=\"Blood For Dracula (Andy Warhol's Dracula) (1974)\"),\n",
       " Row(date='01-Jan-1977', id=667, link='http://us.imdb.com/M/title-exact?Audrey%20Rose%20(1977)', rating=[0, 0, 0, 0, 0, 0, 0, 0, 0, 0, 0, 1, 0, 0, 0, 0, 0, 0, 0], title='Audrey Rose (1977)'),\n",
       " Row(date='01-Jan-1981', id=668, link='http://us.imdb.com/M/title-exact?Blood%20Beach%20(1981)', rating=[0, 1, 0, 0, 0, 0, 0, 0, 0, 0, 0, 1, 0, 0, 0, 0, 0, 0, 0], title='Blood Beach (1981)'),\n",
       " Row(date='01-Jan-1991', id=669, link='http://us.imdb.com/M/title-exact?Body%20Parts%20(1991)', rating=[0, 0, 0, 0, 0, 0, 0, 0, 0, 0, 0, 1, 0, 0, 0, 0, 0, 0, 0], title='Body Parts (1991)'),\n",
       " Row(date='01-Jan-1993', id=670, link='http://us.imdb.com/M/title-exact?Body%20Snatchers%20(1993)', rating=[0, 0, 0, 0, 0, 0, 0, 0, 0, 0, 0, 1, 0, 0, 0, 1, 1, 0, 0], title='Body Snatchers (1993)'),\n",
       " Row(date='01-Jan-1935', id=671, link='http://us.imdb.com/M/title-exact?Bride%20of%20Frankenstein%20(1935)', rating=[0, 0, 0, 0, 0, 0, 0, 0, 0, 0, 0, 1, 0, 0, 0, 0, 0, 0, 0], title='Bride of Frankenstein (1935)'),\n",
       " Row(date='01-Jan-1992', id=672, link='http://us.imdb.com/M/title-exact?Candyman%20(1992)', rating=[0, 0, 0, 0, 0, 0, 0, 0, 0, 0, 0, 1, 0, 0, 0, 0, 0, 0, 0], title='Candyman (1992)'),\n",
       " Row(date='01-Jan-1962', id=673, link='http://us.imdb.com/M/title-exact?Cape%20Fear%20(1962)', rating=[0, 0, 0, 0, 0, 0, 0, 0, 0, 0, 1, 0, 0, 0, 0, 0, 1, 0, 0], title='Cape Fear (1962)'),\n",
       " Row(date='01-Jan-1982', id=674, link='http://us.imdb.com/M/title-exact?Cat%20People%20(1982)', rating=[0, 0, 0, 0, 0, 0, 0, 0, 0, 0, 0, 1, 0, 0, 0, 0, 0, 0, 0], title='Cat People (1982)'),\n",
       " Row(date='01-Jan-1922', id=675, link='http://us.imdb.com/M/title-exact?Nosferatu,%20eine%20Symphonie%20des%20Grauens%20(1922)', rating=[0, 0, 0, 0, 0, 0, 0, 0, 0, 0, 0, 1, 0, 0, 0, 0, 0, 0, 0], title='Nosferatu (Nosferatu, eine Symphonie des Grauens) (1922)'),\n",
       " Row(date='27-Nov-1996', id=676, link='http://us.imdb.com/M/title-exact?Crucible,%20The%20(1996)', rating=[0, 0, 0, 0, 0, 0, 0, 0, 1, 0, 0, 0, 0, 0, 0, 0, 0, 0, 0], title='Crucible, The (1996)'),\n",
       " Row(date='24-Jan-1997', id=677, link='http://us.imdb.com/M/title-exact?Fire%20on%20the%20Mountain%20(1996)', rating=[0, 0, 0, 0, 0, 0, 0, 1, 0, 0, 0, 0, 0, 0, 0, 0, 0, 0, 0], title='Fire on the Mountain (1996)'),\n",
       " Row(date='25-Apr-1997', id=678, link='http://us.imdb.com/M/title-exact?Volcano%20%281997%29', rating=[0, 0, 0, 0, 0, 0, 0, 0, 1, 0, 0, 0, 0, 0, 0, 0, 1, 0, 0], title='Volcano (1997)'),\n",
       " Row(date='01-Jan-1981', id=679, link='http://us.imdb.com/M/title-exact?Conan+the+Barbarian+(1981)', rating=[0, 1, 1, 0, 0, 0, 0, 0, 0, 0, 0, 0, 0, 0, 0, 0, 0, 0, 0], title='Conan the Barbarian (1981)'),\n",
       " Row(date='29-Aug-1997', id=680, link='http://us.imdb.com/M/title-exact?Kull+the+Conqueror+(1997)', rating=[0, 1, 1, 0, 0, 0, 0, 0, 0, 0, 0, 0, 0, 0, 0, 0, 0, 0, 0], title='Kull the Conqueror (1997)'),\n",
       " Row(date='01-Jan-1997', id=681, link='http://us.imdb.com/M/title-exact?Wishmaster+(1997)', rating=[0, 0, 0, 0, 0, 0, 0, 0, 0, 0, 0, 1, 0, 0, 0, 0, 0, 0, 0], title='Wishmaster (1997)'),\n",
       " Row(date='17-Oct-1997', id=682, link='http://us.imdb.com/M/title-exact?I+Know+What+You+Did+Last+Summer+(1997)', rating=[0, 0, 0, 0, 0, 0, 0, 0, 0, 0, 0, 1, 0, 1, 0, 0, 1, 0, 0], title='I Know What You Did Last Summer (1997)'),\n",
       " Row(date='01-Jan-1997', id=683, link='http://us.imdb.com/M/title-exact?Rocket+Man+(1997)', rating=[0, 0, 0, 0, 0, 1, 0, 0, 0, 0, 0, 0, 0, 0, 0, 0, 0, 0, 0], title='Rocket Man (1997)'),\n",
       " Row(date='01-Jan-1993', id=684, link='http://us.imdb.com/M/title-exact?In%20the%20Line%20of%20Fire%20(1993)', rating=[0, 1, 0, 0, 0, 0, 0, 0, 0, 0, 0, 0, 0, 0, 0, 0, 1, 0, 0], title='In the Line of Fire (1993)'),\n",
       " Row(date='09-Mar-1996', id=685, link='http://us.imdb.com/M/title-exact?Executive%20Decision%20(1996)', rating=[0, 1, 0, 0, 0, 0, 0, 0, 0, 0, 0, 0, 0, 0, 0, 0, 1, 0, 0], title='Executive Decision (1996)'),\n",
       " Row(date='01-Jan-1993', id=686, link='http://us.imdb.com/M/title-exact?Perfect%20World,%20A%20(1993)', rating=[0, 1, 0, 0, 0, 0, 0, 0, 1, 0, 0, 0, 0, 0, 0, 0, 0, 0, 0], title='Perfect World, A (1993)'),\n",
       " Row(date='18-Apr-1997', id=687, link=\"http://us.imdb.com/M/title-exact?McHale's%20Navy%20(1997)\", rating=[0, 0, 0, 0, 0, 1, 0, 0, 0, 0, 0, 0, 0, 0, 0, 0, 0, 1, 0], title=\"McHale's Navy (1997)\"),\n",
       " Row(date='22-Aug-1997', id=688, link='http://us.imdb.com/M/title-exact?Leave+It+To+Beaver+(1997)', rating=[0, 0, 0, 0, 0, 1, 0, 0, 0, 0, 0, 0, 0, 0, 0, 0, 0, 0, 0], title='Leave It to Beaver (1997)'),\n",
       " Row(date='01-Jan-1997', id=689, link='http://us.imdb.com/M/title-exact?Jackal%2C+The+(1997)', rating=[0, 1, 0, 0, 0, 0, 0, 0, 0, 0, 0, 0, 0, 0, 0, 0, 1, 0, 0], title='Jackal, The (1997)'),\n",
       " Row(date='01-Jan-1997', id=690, link='http://us.imdb.com/M/title-exact?Seven+Years+in+Tibet+(1997)', rating=[0, 0, 0, 0, 0, 0, 0, 0, 1, 0, 0, 0, 0, 0, 0, 0, 0, 1, 0], title='Seven Years in Tibet (1997)'),\n",
       " Row(date='09-Jan-1998', id=691, link='http://us.imdb.com/M/title-exact?imdb-title-118929', rating=[0, 0, 0, 0, 0, 0, 0, 0, 0, 0, 1, 0, 0, 0, 0, 1, 1, 0, 0], title='Dark City (1998)'),\n",
       " Row(date='01-Jan-1995', id=692, link='http://us.imdb.com/M/title-exact?American%20President,%20The%20(1995)', rating=[0, 0, 0, 0, 0, 1, 0, 0, 1, 0, 0, 0, 0, 0, 1, 0, 0, 0, 0], title='American President, The (1995)'),\n",
       " Row(date='01-Jan-1995', id=693, link='http://us.imdb.com/M/title-exact?Casino%20(1995)', rating=[0, 0, 0, 0, 0, 0, 0, 0, 1, 0, 0, 0, 0, 0, 0, 0, 0, 0, 0], title='Casino (1995)'),\n",
       " Row(date='25-Sep-1995', id=694, link='http://us.imdb.com/Title?Persuasion+(1995/I)', rating=[0, 0, 0, 0, 0, 0, 0, 0, 0, 0, 0, 0, 0, 0, 1, 0, 0, 0, 0], title='Persuasion (1995)'),\n",
       " Row(date='01-Jan-1995', id=695, link='http://us.imdb.com/M/title-exact?Kicking%20and%20Screaming%20(1995)', rating=[0, 0, 0, 0, 0, 1, 0, 0, 1, 0, 0, 0, 0, 0, 0, 0, 0, 0, 0], title='Kicking and Screaming (1995)'),\n",
       " Row(date='16-Feb-1996', id=696, link='http://us.imdb.com/M/title-exact?City%20Hall%20(1996)', rating=[0, 0, 0, 0, 0, 0, 0, 0, 1, 0, 0, 0, 0, 0, 0, 0, 1, 0, 0], title='City Hall (1996)'),\n",
       " Row(date='01-Jan-1995', id=697, link='http://us.imdb.com/M/title-exact?Basketball%20Diaries,%20The%20(1995)', rating=[0, 0, 0, 0, 0, 0, 0, 0, 1, 0, 0, 0, 0, 0, 0, 0, 0, 0, 0], title='Basketball Diaries, The (1995)'),\n",
       " Row(date='01-Jan-1994', id=698, link='http://us.imdb.com/M/title-exact?Browning%20Version,%20The%20(1994)', rating=[0, 0, 0, 0, 0, 0, 0, 0, 1, 0, 0, 0, 0, 0, 0, 0, 0, 0, 0], title='Browning Version, The (1994)'),\n",
       " Row(date='01-Jan-1994', id=699, link='http://us.imdb.com/M/title-exact?Little%20Women%20(1994)', rating=[0, 0, 0, 0, 0, 0, 0, 0, 1, 0, 0, 0, 0, 0, 0, 0, 0, 0, 0], title='Little Women (1994)'),\n",
       " Row(date='01-Jan-1995', id=700, link='http://us.imdb.com/M/title-exact?Miami%20Rhapsody%20(1995)', rating=[0, 0, 0, 0, 0, 1, 0, 0, 0, 0, 0, 0, 0, 0, 0, 0, 0, 0, 0], title='Miami Rhapsody (1995)'),\n",
       " Row(date='01-Jan-1993', id=701, link='http://us.imdb.com/M/title-exact?Macht%20der%20Bilder:%20Leni%20Riefenstahl,%20Die%20(1993)', rating=[0, 0, 0, 0, 0, 0, 0, 1, 0, 0, 0, 0, 0, 0, 0, 0, 0, 0, 0], title='Wonderful, Horrible Life of Leni Riefenstahl, The (1993)'),\n",
       " Row(date='01-Jan-1994', id=702, link='http://us.imdb.com/M/title-exact?Barcelona%20(1994)', rating=[0, 0, 0, 0, 0, 1, 0, 0, 0, 0, 0, 0, 0, 0, 1, 0, 0, 0, 0], title='Barcelona (1994)'),\n",
       " Row(date='01-Jan-1994', id=703, link=\"http://us.imdb.com/M/title-exact?Widows'%20Peak%20(1994)\", rating=[0, 0, 0, 0, 0, 0, 0, 0, 1, 0, 0, 0, 0, 0, 0, 0, 0, 0, 0], title=\"Widows' Peak (1994)\"),\n",
       " Row(date='01-Jan-1993', id=704, link='http://us.imdb.com/M/title-exact?House%20of%20the%20Spirits,%20The%20(1993)', rating=[0, 0, 0, 0, 0, 0, 0, 0, 1, 0, 0, 0, 0, 0, 1, 0, 0, 0, 0], title='House of the Spirits, The (1993)'),\n",
       " Row(date='01-Jan-1952', id=705, link=\"http://us.imdb.com/M/title-exact?Singin'%20in%20the%20Rain%20(1952)\", rating=[0, 0, 0, 0, 0, 0, 0, 0, 0, 0, 0, 0, 1, 0, 1, 0, 0, 0, 0], title=\"Singin' in the Rain (1952)\"),\n",
       " Row(date='01-Nov-1996', id=706, link='http://us.imdb.com/M/title-exact?Bad%20Moon%20(1996)', rating=[0, 0, 0, 0, 0, 0, 0, 0, 0, 0, 0, 1, 0, 0, 0, 0, 0, 0, 0], title='Bad Moon (1996)'),\n",
       " Row(date='01-Jan-1991', id=707, link='http://us.imdb.com/M/title-exact?Enchanted%20April%20(1991)', rating=[0, 0, 0, 0, 0, 0, 0, 0, 1, 0, 0, 0, 0, 0, 0, 0, 0, 0, 0], title='Enchanted April (1991)'),\n",
       " Row(date='01-Jan-1989', id=708, link='http://us.imdb.com/M/title-exact?sex,%20lies,%20and%20videotape%20(1989)', rating=[0, 0, 0, 0, 0, 0, 0, 0, 1, 0, 0, 0, 0, 0, 0, 0, 0, 0, 0], title='Sex, Lies, and Videotape (1989)'),\n",
       " Row(date='01-Jan-1992', id=709, link='http://us.imdb.com/M/title-exact?Strictly%20Ballroom%20(1992)', rating=[0, 0, 0, 0, 0, 1, 0, 0, 0, 0, 0, 0, 0, 0, 1, 0, 0, 0, 0], title='Strictly Ballroom (1992)'),\n",
       " Row(date='01-Jan-1985', id=710, link='http://us.imdb.com/Title?Better+Off+Dead...+(1985)', rating=[0, 0, 0, 0, 0, 1, 0, 0, 0, 0, 0, 0, 0, 0, 0, 0, 0, 0, 0], title='Better Off Dead... (1985)'),\n",
       " Row(date='06-Dec-1996', id=711, link='http://us.imdb.com/M/title-exact?Substance%20of%20Fire,%20The%20(1996)', rating=[0, 0, 0, 0, 0, 0, 0, 0, 1, 0, 0, 0, 0, 0, 0, 0, 0, 0, 0], title='Substance of Fire, The (1996)'),\n",
       " Row(date='01-Jan-1987', id=712, link='http://us.imdb.com/M/title-exact?Tin%20Men%20(1987)', rating=[0, 0, 0, 0, 0, 1, 0, 0, 1, 0, 0, 0, 0, 0, 0, 0, 0, 0, 0], title='Tin Men (1987)'),\n",
       " Row(date='18-Dec-1995', id=713, link='http://us.imdb.com/M/title-exact?Othello%20(1995)', rating=[0, 0, 0, 0, 0, 0, 0, 0, 1, 0, 0, 0, 0, 0, 0, 0, 0, 0, 0], title='Othello (1995)'),\n",
       " Row(date='01-Jan-1995', id=714, link='http://us.imdb.com/M/title-exact?Carrington%20(1995)', rating=[0, 0, 0, 0, 0, 0, 0, 0, 1, 0, 0, 0, 0, 0, 1, 0, 0, 0, 0], title='Carrington (1995)'),\n",
       " Row(date='01-Jan-1995', id=715, link='http://us.imdb.com/M/title-exact?To%20Die%20For%20(1995)', rating=[0, 0, 0, 0, 0, 1, 0, 0, 1, 0, 0, 0, 0, 0, 0, 0, 0, 0, 0], title='To Die For (1995)'),\n",
       " Row(date='01-Jan-1995', id=716, link='http://us.imdb.com/M/title-exact?Home%20for%20the%20Holidays%20(1995)', rating=[0, 0, 0, 0, 0, 0, 0, 0, 1, 0, 0, 0, 0, 0, 1, 0, 0, 0, 0], title='Home for the Holidays (1995)'),\n",
       " Row(date='01-Jan-1996', id=717, link='http://us.imdb.com/M/title-exact?Juror,%20The%20(1996)', rating=[0, 0, 0, 0, 0, 0, 0, 0, 1, 0, 0, 0, 0, 0, 0, 0, 1, 0, 0], title='Juror, The (1996)'),\n",
       " Row(date='23-Feb-1996', id=718, link='http://us.imdb.com/M/title-exact?In%20the%20Bleak%20Midwinter%20(1995)', rating=[0, 0, 0, 0, 0, 1, 0, 0, 0, 0, 0, 0, 0, 0, 0, 0, 0, 0, 0], title='In the Bleak Midwinter (1995)'),\n",
       " Row(date='01-Jan-1994', id=719, link='http://us.imdb.com/M/title-exact?Canadian%20Bacon%20(1994)', rating=[0, 0, 0, 0, 0, 1, 0, 0, 0, 0, 0, 0, 0, 0, 0, 0, 0, 1, 0], title='Canadian Bacon (1994)'),\n",
       " Row(date='01-Jan-1995', id=720, link='http://us.imdb.com/M/title-exact?First%20Knight%20(1995)', rating=[0, 1, 1, 0, 0, 0, 0, 0, 1, 0, 0, 0, 0, 0, 1, 0, 0, 0, 0], title='First Knight (1995)'),\n",
       " Row(date='01-Jan-1995', id=721, link='http://us.imdb.com/M/title-exact?Mallrats%20(1995)', rating=[0, 0, 0, 0, 0, 1, 0, 0, 0, 0, 0, 0, 0, 0, 0, 0, 0, 0, 0], title='Mallrats (1995)'),\n",
       " Row(date='01-Jan-1995', id=722, link='http://us.imdb.com/M/title-exact?Nine%20Months%20(1995)', rating=[0, 0, 0, 0, 0, 1, 0, 0, 0, 0, 0, 0, 0, 0, 0, 0, 0, 0, 0], title='Nine Months (1995)'),\n",
       " Row(date='01-Jan-1995', id=723, link='http://us.imdb.com/M/title-exact?Boys%20on%20the%20Side%20(1995)', rating=[0, 0, 0, 0, 0, 1, 0, 0, 1, 0, 0, 0, 0, 0, 0, 0, 0, 0, 0], title='Boys on the Side (1995)'),\n",
       " Row(date='01-Jan-1995', id=724, link='http://us.imdb.com/M/title-exact?Circle%20of%20Friends%20(1995)', rating=[0, 0, 0, 0, 0, 0, 0, 0, 1, 0, 0, 0, 0, 0, 1, 0, 0, 0, 0], title='Circle of Friends (1995)'),\n",
       " Row(date='01-Jan-1994', id=725, link='http://us.imdb.com/M/title-exact?Exit%20to%20Eden%20(1994)', rating=[0, 0, 0, 0, 0, 1, 0, 0, 0, 0, 0, 0, 0, 0, 0, 0, 0, 0, 0], title='Exit to Eden (1994)'),\n",
       " Row(date='01-Jan-1995', id=726, link='http://us.imdb.com/M/title-exact?Fluke%20(1995)', rating=[0, 0, 0, 0, 1, 0, 0, 0, 1, 0, 0, 0, 0, 0, 0, 0, 0, 0, 0], title='Fluke (1995)'),\n",
       " Row(date='01-Jan-1994', id=727, link='http://us.imdb.com/M/title-exact?Immortal%20Beloved%20(1994)', rating=[0, 0, 0, 0, 0, 0, 0, 0, 1, 0, 0, 0, 0, 0, 1, 0, 0, 0, 0], title='Immortal Beloved (1994)'),\n",
       " Row(date='01-Jan-1994', id=728, link='http://us.imdb.com/M/title-exact?Junior%20(1994)', rating=[0, 0, 0, 0, 0, 1, 0, 0, 0, 0, 0, 0, 0, 0, 0, 1, 0, 0, 0], title='Junior (1994)'),\n",
       " Row(date='01-Jan-1994', id=729, link='http://us.imdb.com/M/title-exact?Nell%20(1994)', rating=[0, 0, 0, 0, 0, 0, 0, 0, 1, 0, 0, 0, 0, 0, 0, 0, 0, 0, 0], title='Nell (1994)'),\n",
       " Row(date='01-Jan-1996', id=730, link='http://us.imdb.com/Title?Reine+Margot,+La+(1994)', rating=[0, 0, 0, 0, 0, 0, 0, 0, 1, 0, 0, 0, 0, 0, 1, 0, 0, 0, 0], title='Queen Margot (Reine Margot, La) (1994)'),\n",
       " Row(date='01-Jan-1994', id=731, link='http://us.imdb.com/M/title-exact?Corrina,%20Corrina%20(1994)', rating=[0, 0, 0, 0, 0, 1, 0, 0, 1, 0, 0, 0, 0, 0, 1, 0, 0, 0, 0], title='Corrina, Corrina (1994)'),\n",
       " Row(date='01-Jan-1993', id=732, link='http://us.imdb.com/M/title-exact?Dave%20(1993)', rating=[0, 0, 0, 0, 0, 1, 0, 0, 0, 0, 0, 0, 0, 0, 1, 0, 0, 0, 0], title='Dave (1993)'),\n",
       " Row(date='01-Jan-1994', id=733, link='http://us.imdb.com/M/title-exact?Go%20Fish%20(1994)', rating=[0, 0, 0, 0, 0, 0, 0, 0, 1, 0, 0, 0, 0, 0, 1, 0, 0, 0, 0], title='Go Fish (1994)'),\n",
       " Row(date='01-Jan-1993', id=734, link='http://us.imdb.com/M/title-exact?Made%20in%20America%20(1993)', rating=[0, 0, 0, 0, 0, 1, 0, 0, 0, 0, 0, 0, 0, 0, 0, 0, 0, 0, 0], title='Made in America (1993)'),\n",
       " Row(date='01-Jan-1993', id=735, link='http://us.imdb.com/M/title-exact?Philadelphia%20(1993)', rating=[0, 0, 0, 0, 0, 0, 0, 0, 1, 0, 0, 0, 0, 0, 0, 0, 0, 0, 0], title='Philadelphia (1993)'),\n",
       " Row(date='01-Jan-1993', id=736, link='http://us.imdb.com/M/title-exact?Shadowlands%20(1993)', rating=[0, 0, 0, 0, 0, 0, 0, 0, 1, 0, 0, 0, 0, 0, 1, 0, 0, 0, 0], title='Shadowlands (1993)'),\n",
       " Row(date='01-Jan-1994', id=737, link='http://us.imdb.com/M/title-exact?Sirens%20(1994)', rating=[0, 0, 0, 0, 0, 1, 0, 0, 1, 0, 0, 0, 0, 0, 0, 0, 0, 0, 0], title='Sirens (1994)'),\n",
       " Row(date='01-Jan-1994', id=738, link='http://us.imdb.com/M/title-exact?Threesome%20(1994)', rating=[0, 0, 0, 0, 0, 1, 0, 0, 0, 0, 0, 0, 0, 0, 1, 0, 0, 0, 0], title='Threesome (1994)'),\n",
       " Row(date='01-Jan-1990', id=739, link='http://us.imdb.com/M/title-exact?Pretty%20Woman%20(1990)', rating=[0, 0, 0, 0, 0, 1, 0, 0, 0, 0, 0, 0, 0, 0, 1, 0, 0, 0, 0], title='Pretty Woman (1990)'),\n",
       " Row(date='05-Apr-1996', id=740, link='http://us.imdb.com/M/title-exact?Jane%20Eyre%20(1996)', rating=[0, 0, 0, 0, 0, 0, 0, 0, 1, 0, 0, 0, 0, 0, 1, 0, 0, 0, 0], title='Jane Eyre (1996)'),\n",
       " Row(date='05-Apr-1996', id=741, link='http://us.imdb.com/M/title-exact?Last%20Supper,%20The%20(1995)', rating=[0, 0, 0, 0, 0, 0, 0, 0, 1, 0, 0, 0, 0, 0, 0, 0, 1, 0, 0], title='Last Supper, The (1995)'),\n",
       " Row(date='08-Nov-1996', id=742, link='http://us.imdb.com/M/title-exact?Ransom%20(1996)', rating=[0, 0, 0, 0, 0, 0, 0, 0, 1, 0, 0, 0, 0, 0, 0, 0, 1, 0, 0], title='Ransom (1996)'),\n",
       " Row(date='30-Aug-1996', id=743, link='http://us.imdb.com/M/title-exact?Crow%3A%20City%20of%20Angels%2C%20The%20%281996%29', rating=[0, 1, 0, 0, 0, 0, 0, 0, 0, 0, 0, 0, 0, 0, 0, 0, 1, 0, 0], title='Crow: City of Angels, The (1996)'),\n",
       " Row(date='11-Oct-1996', id=744, link='http://us.imdb.com/M/title-exact?Michael%20Collins%20(1996)', rating=[0, 0, 0, 0, 0, 0, 0, 0, 1, 0, 0, 0, 0, 0, 0, 0, 0, 1, 0], title='Michael Collins (1996)'),\n",
       " Row(date='01-Jan-1972', id=745, link='http://us.imdb.com/M/title-exact?Ruling%20Class,%20The%20(1972)', rating=[0, 0, 0, 0, 0, 1, 0, 0, 0, 0, 0, 0, 0, 0, 0, 0, 0, 0, 0], title='Ruling Class, The (1972)'),\n",
       " Row(date='01-Jan-1985', id=746, link='http://us.imdb.com/M/title-exact?Real%20Genius%20(1985)', rating=[0, 0, 0, 0, 0, 1, 0, 0, 0, 0, 0, 0, 0, 0, 0, 0, 0, 0, 0], title='Real Genius (1985)'),\n",
       " Row(date='01-Jan-1993', id=747, link='http://us.imdb.com/M/title-exact?Benny%20&%20Joon%20(1993)', rating=[0, 0, 0, 0, 0, 1, 0, 0, 0, 0, 0, 0, 0, 0, 1, 0, 0, 0, 0], title='Benny & Joon (1993)'),\n",
       " Row(date='14-Mar-1997', id=748, link='http://us.imdb.com/M/title-exact?Saint%2C%20The%20(1997)', rating=[0, 1, 0, 0, 0, 0, 0, 0, 0, 0, 0, 0, 0, 0, 1, 0, 1, 0, 0], title='Saint, The (1997)'),\n",
       " Row(date='01-Jan-1997', id=749, link='http://us.imdb.com/M/title-exact?Matchmaker%2C+The+(1997)', rating=[0, 0, 0, 0, 0, 1, 0, 0, 0, 0, 0, 0, 0, 0, 1, 0, 0, 0, 0], title='MatchMaker, The (1997)'),\n",
       " Row(date='18-Dec-1997', id=750, link='http://us.imdb.com/M/title-exact?imdb-title-118607', rating=[0, 0, 0, 0, 0, 0, 0, 0, 1, 0, 0, 0, 0, 0, 0, 0, 0, 0, 0], title='Amistad (1997)'),\n",
       " Row(date='01-Jan-1997', id=751, link='http://us.imdb.com/M/title-exact?imdb-title-120347', rating=[0, 1, 0, 0, 0, 0, 0, 0, 0, 0, 0, 0, 0, 0, 1, 0, 1, 0, 0], title='Tomorrow Never Dies (1997)'),\n",
       " Row(date='06-Feb-1998', id=752, link='http://us.imdb.com/M/title-exact?Replacement+Killers%2C+The+(1998)', rating=[0, 1, 0, 0, 0, 0, 0, 0, 0, 0, 0, 0, 0, 0, 0, 0, 1, 0, 0], title='Replacement Killers, The (1998)'),\n",
       " Row(date='01-Jan-1994', id=753, link='http://us.imdb.com/M/title-exact?Utomlyonnye%20Solntsem%20(1994)', rating=[0, 0, 0, 0, 0, 0, 0, 0, 1, 0, 0, 0, 0, 0, 0, 0, 0, 0, 0], title='Burnt By the Sun (1994)'),\n",
       " Row(date='01-Jan-1997', id=754, link='http://us.imdb.com/M/title-exact?Red+Corner+(1997)', rating=[0, 0, 0, 0, 0, 0, 1, 0, 0, 0, 0, 0, 0, 0, 0, 0, 1, 0, 0], title='Red Corner (1997)'),\n",
       " Row(date='01-Jan-1995', id=755, link='http://us.imdb.com/M/title-exact?Jumanji%20(1995)', rating=[0, 1, 1, 0, 1, 0, 0, 0, 0, 1, 0, 0, 0, 0, 0, 1, 0, 0, 0], title='Jumanji (1995)'),\n",
       " Row(date='01-Jan-1995', id=756, link='http://us.imdb.com/M/title-exact?Father%20of%20the%20Bride%20Part%20II%20(1995)', rating=[0, 0, 0, 0, 0, 1, 0, 0, 0, 0, 0, 0, 0, 0, 0, 0, 0, 0, 0], title='Father of the Bride Part II (1995)'),\n",
       " Row(date='01-Jan-1995', id=757, link='http://us.imdb.com/M/title-exact?Across%20The%20Sea%20of%20Time%20(1995)', rating=[0, 0, 0, 0, 0, 0, 0, 1, 0, 0, 0, 0, 0, 0, 0, 0, 0, 0, 0], title='Across the Sea of Time (1995)'),\n",
       " Row(date='01-Jan-1996', id=758, link='http://us.imdb.com/M/title-exact?Lawnmower%20Man%202:%20Beyond%20Cyberspace%20(1996)', rating=[0, 0, 0, 0, 0, 0, 0, 0, 0, 0, 0, 0, 0, 0, 0, 1, 1, 0, 0], title='Lawnmower Man 2: Beyond Cyberspace (1996)'),\n",
       " Row(date='01-Jan-1995', id=759, link='http://us.imdb.com/M/title-exact?Fair%20Game%20(1995)', rating=[0, 1, 0, 0, 0, 0, 0, 0, 0, 0, 0, 0, 0, 0, 0, 0, 0, 0, 0], title='Fair Game (1995)'),\n",
       " Row(date='01-Jan-1995', id=760, link='http://us.imdb.com/M/title-exact?Screamers%20(1995)', rating=[0, 0, 0, 0, 0, 0, 0, 0, 0, 0, 0, 0, 0, 0, 0, 1, 0, 0, 0], title='Screamers (1995)'),\n",
       " Row(date='01-Jan-1995', id=761, link='http://us.imdb.com/M/title-exact?Nick%20of%20Time%20(1995)', rating=[0, 1, 0, 0, 0, 0, 0, 0, 0, 0, 0, 0, 0, 0, 0, 0, 1, 0, 0], title='Nick of Time (1995)'),\n",
       " Row(date='09-Feb-1996', id=762, link='http://us.imdb.com/M/title-exact?Beautiful%20Girls%20(1996)', rating=[0, 0, 0, 0, 0, 0, 0, 0, 1, 0, 0, 0, 0, 0, 0, 0, 0, 0, 0], title='Beautiful Girls (1996)'),\n",
       " Row(date='16-Feb-1996', id=763, link='http://us.imdb.com/M/title-exact?Happy%20Gilmore%20(1996)', rating=[0, 0, 0, 0, 0, 1, 0, 0, 0, 0, 0, 0, 0, 0, 0, 0, 0, 0, 0], title='Happy Gilmore (1996)'),\n",
       " Row(date='08-Mar-1996', id=764, link='http://us.imdb.com/M/title-exact?If%20Lucy%20Fell%20(1996)', rating=[0, 0, 0, 0, 0, 1, 0, 0, 0, 0, 0, 0, 0, 0, 1, 0, 0, 0, 0], title='If Lucy Fell (1996)'),\n",
       " Row(date='01-Jan-1992', id=765, link='http://us.imdb.com/M/title-exact?Boomerang%20(1992)', rating=[0, 0, 0, 0, 0, 1, 0, 0, 0, 0, 0, 0, 0, 0, 1, 0, 0, 0, 0], title='Boomerang (1992)'),\n",
       " Row(date='01-Mar-1996', id=766, link='http://us.imdb.com/M/title-exact?Man%20of%20the%20Year%20(1995)', rating=[0, 0, 0, 0, 0, 0, 0, 1, 0, 0, 0, 0, 0, 0, 0, 0, 0, 0, 0], title='Man of the Year (1995)'),\n",
       " Row(date='01-Jan-1995', id=767, link='http://us.imdb.com/M/title-exact?Addiction,%20The%20(1995)', rating=[0, 0, 0, 0, 0, 0, 0, 0, 0, 0, 0, 1, 0, 0, 0, 0, 0, 0, 0], title='Addiction, The (1995)'),\n",
       " Row(date='01-Jan-1995', id=768, link='http://us.imdb.com/M/title-exact?Casper%20(1995)', rating=[0, 0, 1, 0, 1, 0, 0, 0, 0, 0, 0, 0, 0, 0, 0, 0, 0, 0, 0], title='Casper (1995)'),\n",
       " Row(date='01-Jan-1995', id=769, link='http://us.imdb.com/M/title-exact?Congo%20(1995)', rating=[0, 1, 1, 0, 0, 0, 0, 0, 0, 0, 0, 0, 0, 1, 0, 1, 0, 0, 0], title='Congo (1995)'),\n",
       " Row(date='01-Jan-1995', id=770, link='http://us.imdb.com/M/title-exact?Devil%20in%20a%20Blue%20Dress%20(1995)', rating=[0, 0, 0, 0, 0, 0, 1, 0, 0, 0, 1, 0, 0, 1, 0, 0, 1, 0, 0], title='Devil in a Blue Dress (1995)'),\n",
       " Row(date='01-Jan-1995', id=771, link='http://us.imdb.com/M/title-exact?Johnny%20Mnemonic%20(1995)', rating=[0, 1, 0, 0, 0, 0, 0, 0, 0, 0, 0, 0, 0, 0, 0, 1, 1, 0, 0], title='Johnny Mnemonic (1995)'),\n",
       " Row(date='01-Jan-1995', id=772, link='http://us.imdb.com/M/title-exact?Kids%20(1995)', rating=[0, 0, 0, 0, 0, 0, 0, 0, 1, 0, 0, 0, 0, 0, 0, 0, 0, 0, 0], title='Kids (1995)'),\n",
       " Row(date='01-Jan-1994', id=773, link='http://us.imdb.com/M/title-exact?Mute%20Witness%20(1994)', rating=[0, 0, 0, 0, 0, 0, 0, 0, 0, 0, 0, 0, 0, 0, 0, 0, 1, 0, 0], title='Mute Witness (1994)'),\n",
       " Row(date='01-Jan-1995', id=774, link='http://us.imdb.com/M/title-exact?Prophecy,%20The%20(1995)', rating=[0, 0, 0, 0, 0, 0, 0, 0, 0, 0, 0, 1, 0, 0, 0, 0, 0, 0, 0], title='Prophecy, The (1995)'),\n",
       " Row(date='01-Jan-1995', id=775, link='http://us.imdb.com/M/title-exact?Something%20to%20Talk%20About%20(1995)', rating=[0, 0, 0, 0, 0, 1, 0, 0, 1, 0, 0, 0, 0, 0, 1, 0, 0, 0, 0], title='Something to Talk About (1995)'),\n",
       " Row(date='01-Jan-1995', id=776, link='http://us.imdb.com/M/title-exact?Three%20Wishes%20(1995)', rating=[0, 0, 0, 0, 0, 0, 0, 0, 1, 0, 0, 0, 0, 0, 0, 0, 0, 0, 0], title='Three Wishes (1995)'),\n",
       " Row(date='01-Jan-1995', id=777, link='http://us.imdb.com/M/title-exact?Castle%20Freak%20(1995)', rating=[0, 0, 0, 0, 0, 0, 0, 0, 0, 0, 0, 1, 0, 0, 0, 0, 0, 0, 0], title='Castle Freak (1995)'),\n",
       " Row(date='01-Jan-1995', id=778, link='http://us.imdb.com/M/title-exact?Don%20Juan%20DeMarco%20and%20the%20Centerfold%20(1995)', rating=[0, 0, 0, 0, 0, 1, 0, 0, 1, 0, 0, 0, 0, 0, 1, 0, 0, 0, 0], title='Don Juan DeMarco (1995)'),\n",
       " Row(date='01-Jan-1994', id=779, link='http://us.imdb.com/M/title-exact?Drop%20Zone%20(1994)', rating=[0, 1, 0, 0, 0, 0, 0, 0, 0, 0, 0, 0, 0, 0, 0, 0, 0, 0, 0], title='Drop Zone (1994)'),\n",
       " Row(date='01-Jan-1994', id=780, link='http://us.imdb.com/M/title-exact?Dumb%20&%20Dumber%20(1994)', rating=[0, 0, 0, 0, 0, 1, 0, 0, 0, 0, 0, 0, 0, 0, 0, 0, 0, 0, 0], title='Dumb & Dumber (1994)'),\n",
       " Row(date='01-Jan-1995', id=781, link='http://us.imdb.com/M/title-exact?French%20Kiss%20(1995)', rating=[0, 0, 0, 0, 0, 1, 0, 0, 0, 0, 0, 0, 0, 0, 1, 0, 0, 0, 0], title='French Kiss (1995)'),\n",
       " Row(date='01-Jan-1994', id=782, link='http://us.imdb.com/M/title-exact?Little%20Odessa%20(1994)', rating=[0, 0, 0, 0, 0, 0, 0, 0, 1, 0, 0, 0, 0, 0, 0, 0, 0, 0, 0], title='Little Odessa (1994)'),\n",
       " Row(date='01-Jan-1994', id=783, link='http://us.imdb.com/M/title-exact?Milk%20Money%20(1994)', rating=[0, 0, 0, 0, 0, 1, 0, 0, 0, 0, 0, 0, 0, 0, 1, 0, 0, 0, 0], title='Milk Money (1994)'),\n",
       " Row(date='01-Jan-1993', id=784, link='http://us.imdb.com/Title?Beyond+Bedlam+(1993)', rating=[0, 0, 0, 0, 0, 0, 0, 0, 1, 0, 0, 1, 0, 0, 0, 0, 0, 0, 0], title='Beyond Bedlam (1993)'),\n",
       " Row(date='01-Jan-1994', id=785, link='http://us.imdb.com/M/title-exact?Only%20You%20(1994)', rating=[0, 0, 0, 0, 0, 1, 0, 0, 0, 0, 0, 0, 0, 0, 1, 0, 0, 0, 0], title='Only You (1994)'),\n",
       " Row(date='01-Jan-1995', id=786, link='http://us.imdb.com/M/title-exact?Perez%20Family,%20The%20(1995)', rating=[0, 0, 0, 0, 0, 1, 0, 0, 0, 0, 0, 0, 0, 0, 1, 0, 0, 0, 0], title='Perez Family, The (1995)'),\n",
       " Row(date='01-Jan-1995', id=787, link='http://us.imdb.com/M/title-exact?Roommates%20(1995)', rating=[0, 0, 0, 0, 0, 1, 0, 0, 1, 0, 0, 0, 0, 0, 0, 0, 0, 0, 0], title='Roommates (1995)'),\n",
       " Row(date='01-Jan-1994', id=788, link='http://us.imdb.com/M/title-exact?Relative%20Fear%20(1994)', rating=[0, 0, 0, 0, 0, 0, 0, 0, 0, 0, 0, 1, 0, 0, 0, 0, 1, 0, 0], title='Relative Fear (1994)'),\n",
       " Row(date='01-Jan-1995', id=789, link='http://us.imdb.com/M/title-exact?Swimming%20with%20Sharks%20(1995)', rating=[0, 0, 0, 0, 0, 1, 0, 0, 1, 0, 0, 0, 0, 0, 0, 0, 0, 0, 0], title='Swimming with Sharks (1995)'),\n",
       " Row(date='01-Jan-1995', id=790, link='http://us.imdb.com/M/title-exact?Tommy%20Boy%20(1995)', rating=[0, 0, 0, 0, 0, 1, 0, 0, 0, 0, 0, 0, 0, 0, 0, 0, 0, 0, 0], title='Tommy Boy (1995)'),\n",
       " Row(date='01-Jan-1995', id=791, link='http://us.imdb.com/M/title-exact?Baby-Sitters%20Club,%20The%20(1995)', rating=[0, 0, 0, 0, 1, 0, 0, 0, 0, 0, 0, 0, 0, 0, 0, 0, 0, 0, 0], title='Baby-Sitters Club, The (1995)'),\n",
       " Row(date='01-Jan-1994', id=792, link='http://us.imdb.com/M/title-exact?Bullets%20Over%20Broadway%20(1994)', rating=[0, 0, 0, 0, 0, 1, 0, 0, 0, 0, 0, 0, 0, 0, 0, 0, 0, 0, 0], title='Bullets Over Broadway (1994)'),\n",
       " Row(date='01-Jan-1994', id=793, link='http://us.imdb.com/M/title-exact?Crooklyn%20(1994)', rating=[0, 0, 0, 0, 0, 1, 0, 0, 0, 0, 0, 0, 0, 0, 0, 0, 0, 0, 0], title='Crooklyn (1994)'),\n",
       " Row(date='01-Jan-1994', id=794, link='http://us.imdb.com/M/title-exact?It%20Could%20Happen%20to%20You%20(1994)', rating=[0, 0, 0, 0, 0, 0, 0, 0, 1, 0, 0, 0, 0, 0, 1, 0, 0, 0, 0], title='It Could Happen to You (1994)'),\n",
       " Row(date='01-Jan-1994', id=795, link='http://us.imdb.com/M/title-exact?Richie%20Rich%20(1994)', rating=[0, 0, 0, 0, 1, 1, 0, 0, 0, 0, 0, 0, 0, 0, 0, 0, 0, 0, 0], title='Richie Rich (1994)'),\n",
       " Row(date='01-Jan-1994', id=796, link='http://us.imdb.com/M/title-exact?Speechless%20(1994)', rating=[0, 0, 0, 0, 0, 1, 0, 0, 0, 0, 0, 0, 0, 0, 1, 0, 0, 0, 0], title='Speechless (1994)'),\n",
       " Row(date='01-Jan-1994', id=797, link='http://us.imdb.com/M/title-exact?Timecop%20(1994)', rating=[0, 1, 0, 0, 0, 0, 0, 0, 0, 0, 0, 0, 0, 0, 0, 1, 0, 0, 0], title='Timecop (1994)'),\n",
       " Row(date='01-Jan-1995', id=798, link='http://us.imdb.com/M/title-exact?Bad%20Company%20(1995)', rating=[0, 1, 0, 0, 0, 0, 0, 0, 0, 0, 0, 0, 0, 0, 0, 0, 0, 0, 0], title='Bad Company (1995)'),\n",
       " Row(date='01-Jan-1995', id=799, link='http://us.imdb.com/M/title-exact?Boys%20Life%20(1995)', rating=[0, 0, 0, 0, 0, 0, 0, 0, 1, 0, 0, 0, 0, 0, 0, 0, 0, 0, 0], title='Boys Life (1995)'),\n",
       " Row(date='01-Jan-1995', id=800, link='http://us.imdb.com/M/title-exact?In%20the%20Mouth%20of%20Madness%20(1995)', rating=[0, 0, 0, 0, 0, 0, 0, 0, 0, 0, 0, 1, 0, 0, 0, 0, 1, 0, 0], title='In the Mouth of Madness (1995)'),\n",
       " Row(date='01-Jan-1994', id=801, link='http://us.imdb.com/M/title-exact?Air%20Up%20There,%20The%20(1994)', rating=[0, 0, 0, 0, 0, 1, 0, 0, 0, 0, 0, 0, 0, 0, 0, 0, 0, 0, 0], title='Air Up There, The (1994)'),\n",
       " Row(date='01-Jan-1993', id=802, link='http://us.imdb.com/M/title-exact?Hard%20Target%20(1993)', rating=[0, 1, 1, 0, 0, 0, 1, 0, 0, 0, 0, 0, 0, 0, 0, 0, 1, 0, 0], title='Hard Target (1993)'),\n",
       " Row(date='01-Jan-1993', id=803, link='http://us.imdb.com/M/title-exact?Heaven%20&%20Earth%20(1993)', rating=[0, 1, 0, 0, 0, 0, 0, 0, 1, 0, 0, 0, 0, 0, 0, 0, 0, 1, 0], title='Heaven & Earth (1993)'),\n",
       " Row(date='01-Jan-1994', id=804, link='http://us.imdb.com/M/title-exact?Jimmy%20Hollywood%20(1994)', rating=[0, 0, 0, 0, 0, 1, 0, 0, 0, 0, 0, 0, 0, 0, 0, 0, 0, 0, 0], title='Jimmy Hollywood (1994)'),\n",
       " Row(date='01-Jan-1993', id=805, link='http://us.imdb.com/M/title-exact?Manhattan%20Murder%20Mystery%20(1993)', rating=[0, 0, 0, 0, 0, 1, 0, 0, 0, 0, 0, 0, 0, 1, 0, 0, 0, 0, 0], title='Manhattan Murder Mystery (1993)'),\n",
       " Row(date='01-Jan-1993', id=806, link='http://us.imdb.com/M/title-exact?Menace%20II%20Society%20(1993)', rating=[0, 1, 0, 0, 0, 0, 1, 0, 1, 0, 0, 0, 0, 0, 0, 0, 0, 0, 0], title='Menace II Society (1993)'),\n",
       " Row(date='01-Jan-1993', id=807, link='http://us.imdb.com/M/title-exact?Poetic%20Justice%20(1993)', rating=[0, 0, 0, 0, 0, 0, 0, 0, 1, 0, 0, 0, 0, 0, 0, 0, 0, 0, 0], title='Poetic Justice (1993)'),\n",
       " Row(date='01-Jan-1993', id=808, link='http://us.imdb.com/M/title-exact?Program,%20The%20(1993)', rating=[0, 1, 0, 0, 0, 0, 0, 0, 1, 0, 0, 0, 0, 0, 0, 0, 0, 0, 0], title='Program, The (1993)'),\n",
       " Row(date='01-Jan-1993', id=809, link='http://us.imdb.com/M/title-exact?Rising%20Sun%20(1993)', rating=[0, 1, 0, 0, 0, 0, 0, 0, 1, 0, 0, 0, 0, 1, 0, 0, 0, 0, 0], title='Rising Sun (1993)'),\n",
       " Row(date='01-Jan-1994', id=810, link='http://us.imdb.com/M/title-exact?Shadow,%20The%20(1994)', rating=[0, 1, 0, 0, 0, 0, 0, 0, 0, 0, 0, 0, 0, 0, 0, 0, 0, 0, 0], title='Shadow, The (1994)'),\n",
       " Row(date='01-Jan-1993', id=811, link='http://us.imdb.com/M/title-exact?Thirty-Two%20Short%20Films%20About%20Glenn%20Gould%20(1993)', rating=[0, 0, 0, 0, 0, 0, 0, 1, 0, 0, 0, 0, 0, 0, 0, 0, 0, 0, 0], title='Thirty-Two Short Films About Glenn Gould (1993)'),\n",
       " Row(date='01-Jan-1994', id=812, link='http://us.imdb.com/M/title-exact?Andre%20(1994)', rating=[0, 0, 1, 0, 1, 0, 0, 0, 0, 0, 0, 0, 0, 0, 0, 0, 0, 0, 0], title='Andre (1994)'),\n",
       " Row(date='15-Mar-1996', id=813, link='http://us.imdb.com/M/title-exact?Celluloid%20Closet,%20The%20(1995)', rating=[0, 0, 0, 0, 0, 0, 0, 1, 0, 0, 0, 0, 0, 0, 0, 0, 0, 0, 0], title='Celluloid Closet, The (1995)'),\n",
       " Row(date='01-Jan-1994', id=814, link='http://us.imdb.com/M/title-exact?Great%20Day%20in%20Harlem,%20A%20(1994)', rating=[0, 0, 0, 0, 0, 0, 0, 1, 0, 0, 0, 0, 0, 0, 0, 0, 0, 0, 0], title='Great Day in Harlem, A (1994)'),\n",
       " Row(date='30-Nov-1996', id=815, link='http://us.imdb.com/M/title-exact?One%20Fine%20Day%20(1996)', rating=[0, 0, 0, 0, 0, 0, 0, 0, 1, 0, 0, 0, 0, 0, 1, 0, 0, 0, 0], title='One Fine Day (1996)'),\n",
       " Row(date='01-Jan-1995', id=816, link='http://us.imdb.com/M/title-exact?Candyman:%20Farewell%20to%20the%20Flesh%20(1995)', rating=[0, 0, 0, 0, 0, 0, 0, 0, 0, 0, 0, 1, 0, 0, 0, 0, 0, 0, 0], title='Candyman: Farewell to the Flesh (1995)'),\n",
       " Row(date='29-Mar-1996', id=817, link='http://us.imdb.com/M/title-exact?Frisk%20(1995)', rating=[0, 0, 0, 0, 0, 0, 0, 0, 1, 0, 0, 0, 0, 0, 0, 0, 0, 0, 0], title='Frisk (1995)'),\n",
       " Row(date='22-Mar-1996', id=818, link='http://us.imdb.com/M/title-exact?Girl%206%20(1996)', rating=[0, 0, 0, 0, 0, 1, 0, 0, 0, 0, 0, 0, 0, 0, 0, 0, 0, 0, 0], title='Girl 6 (1996)'),\n",
       " Row(date='31-May-1996', id=819, link='http://us.imdb.com/M/title-exact?Eddie%20(1996)', rating=[0, 0, 0, 0, 0, 1, 0, 0, 0, 0, 0, 0, 0, 0, 0, 0, 0, 0, 0], title='Eddie (1996)'),\n",
       " Row(date='15-Nov-1996', id=820, link='http://us.imdb.com/M/title-exact?Space%20Jam%20(1996)', rating=[0, 0, 1, 1, 1, 1, 0, 0, 0, 1, 0, 0, 0, 0, 0, 0, 0, 0, 0], title='Space Jam (1996)'),\n",
       " Row(date='19-Apr-1996', id=821, link='http://us.imdb.com/M/title-exact?Mrs.%20Winterbourne%20(1996)', rating=[0, 0, 0, 0, 0, 1, 0, 0, 0, 0, 0, 0, 0, 0, 1, 0, 0, 0, 0], title='Mrs. Winterbourne (1996)'),\n",
       " Row(date='01-Jan-1968', id=822, link='http://us.imdb.com/M/title-exact?Faces%20(1968)', rating=[0, 0, 0, 0, 0, 0, 0, 0, 1, 0, 0, 0, 0, 0, 0, 0, 0, 0, 0], title='Faces (1968)'),\n",
       " Row(date='26-Apr-1996', id=823, link='http://us.imdb.com/M/title-exact?Mulholland%20Falls%20(1996)', rating=[0, 0, 0, 0, 0, 0, 1, 0, 0, 0, 1, 0, 0, 0, 0, 0, 1, 0, 0], title='Mulholland Falls (1996)'),\n",
       " Row(date='03-May-1996', id=824, link='http://us.imdb.com/M/title-exact?Great%20White%20Hype,%20The%20(1996)', rating=[0, 0, 0, 0, 0, 1, 0, 0, 0, 0, 0, 0, 0, 0, 0, 0, 0, 0, 0], title='Great White Hype, The (1996)'),\n",
       " Row(date='31-May-1996', id=825, link='http://us.imdb.com/M/title-exact?Arrival,%20The%20(1996)', rating=[0, 1, 0, 0, 0, 0, 0, 0, 0, 0, 0, 0, 0, 0, 0, 1, 1, 0, 0], title='Arrival, The (1996)'),\n",
       " Row(date='07-Jun-1996', id=826, link='http://us.imdb.com/M/title-exact?Phantom,%20The%20(1996)', rating=[0, 0, 1, 0, 0, 0, 0, 0, 0, 0, 0, 0, 0, 0, 0, 0, 0, 0, 0], title='Phantom, The (1996)'),\n",
       " Row(date='06-Dec-1996', id=827, link='http://us.imdb.com/M/title-exact?Daylight%20(1996)', rating=[0, 1, 1, 0, 0, 0, 0, 0, 0, 0, 0, 0, 0, 0, 0, 0, 1, 0, 0], title='Daylight (1996)'),\n",
       " Row(date='21-Aug-1996', id=828, link='http://us.imdb.com/M/title-exact?Alaska%20(1996)', rating=[0, 0, 1, 0, 1, 0, 0, 0, 0, 0, 0, 0, 0, 0, 0, 0, 0, 0, 0], title='Alaska (1996)'),\n",
       " Row(date='19-Jul-1996', id=829, link='http://us.imdb.com/M/title-exact?Fled%20(1996)', rating=[0, 1, 1, 0, 0, 0, 0, 0, 0, 0, 0, 0, 0, 0, 0, 0, 0, 0, 0], title='Fled (1996)'),\n",
       " Row(date='17-May-1996', id=830, link='http://us.imdb.com/M/title-exact?Power%2098%20(1995)', rating=[0, 1, 0, 0, 0, 0, 0, 0, 0, 0, 0, 0, 0, 1, 0, 0, 1, 0, 0], title='Power 98 (1995)'),\n",
       " Row(date='09-Aug-1996', id=831, link='http://us.imdb.com/M/title-exact?Escape%20from%20L.A.%20(1996)', rating=[0, 1, 1, 0, 0, 0, 0, 0, 0, 0, 0, 0, 0, 0, 0, 1, 1, 0, 0], title='Escape from L.A. (1996)'),\n",
       " Row(date='06-Sep-1996', id=832, link='http://us.imdb.com/M/title-exact?Bogus%20(1996)', rating=[0, 0, 0, 0, 1, 0, 0, 0, 1, 1, 0, 0, 0, 0, 0, 0, 0, 0, 0], title='Bogus (1996)'),\n",
       " Row(date='06-Sep-1996', id=833, link='http://us.imdb.com/M/title-exact?Bulletproof%20(1996)', rating=[0, 1, 0, 0, 0, 0, 0, 0, 0, 0, 0, 0, 0, 0, 0, 0, 0, 0, 0], title='Bulletproof (1996)'),\n",
       " Row(date='01-Jan-1995', id=834, link='http://us.imdb.com/M/title-exact?Halloween:%20The%20Curse%20of%20Michael%20Myers%20(1995)', rating=[0, 0, 0, 0, 0, 0, 0, 0, 0, 0, 0, 1, 0, 0, 0, 0, 1, 0, 0], title='Halloween: The Curse of Michael Myers (1995)'),\n",
       " Row(date='01-Jan-1934', id=835, link='http://us.imdb.com/M/title-exact?Gay%20Divorcee%2C%20The%20%281934%29', rating=[0, 0, 0, 0, 0, 1, 0, 0, 0, 0, 0, 0, 1, 0, 1, 0, 0, 0, 0], title='Gay Divorcee, The (1934)'),\n",
       " Row(date='01-Jan-1939', id=836, link='http://us.imdb.com/M/title-exact?Ninotchka%20(1939)', rating=[0, 0, 0, 0, 0, 1, 0, 0, 0, 0, 0, 0, 0, 0, 1, 0, 0, 0, 0], title='Ninotchka (1939)'),\n",
       " Row(date='01-Jan-1941', id=837, link='http://us.imdb.com/M/title-exact?Meet%20John%20Doe%20(1941)', rating=[0, 0, 0, 0, 0, 0, 0, 0, 1, 0, 0, 0, 0, 0, 0, 0, 0, 0, 0], title='Meet John Doe (1941)'),\n",
       " Row(date='30-Aug-1996', id=838, link='http://us.imdb.com/M/title-exact?In%20the%20Line%20of%20Duty%202%20(1987)', rating=[0, 1, 0, 0, 0, 0, 0, 0, 0, 0, 0, 0, 0, 0, 0, 0, 0, 0, 0], title='In the Line of Duty 2 (1987)'),\n",
       " Row(date='01-Jan-1995', id=839, link='http://us.imdb.com/M/title-exact?Loch%20Ness%20(1995)', rating=[0, 0, 0, 0, 0, 0, 0, 0, 0, 0, 0, 1, 0, 0, 0, 0, 1, 0, 0], title='Loch Ness (1995)'),\n",
       " Row(date='20-Sep-1996', id=840, link='http://us.imdb.com/M/title-exact?Last%20Man%20Standing%20(1996/I)', rating=[0, 1, 0, 0, 0, 0, 0, 0, 1, 0, 0, 0, 0, 0, 0, 0, 0, 0, 1], title='Last Man Standing (1996)'),\n",
       " Row(date='04-Oct-1996', id=841, link='http://us.imdb.com/M/title-exact?Glimmer%20Man,%20The%20(1996)', rating=[0, 1, 0, 0, 0, 0, 0, 0, 0, 0, 0, 0, 0, 0, 0, 0, 1, 0, 0], title='Glimmer Man, The (1996)'),\n",
       " Row(date='01-Jan-1960', id=842, link='http://us.imdb.com/M/title-exact?Pollyanna%20(1960)', rating=[0, 0, 0, 0, 1, 1, 0, 0, 1, 0, 0, 0, 0, 0, 0, 0, 0, 0, 0], title='Pollyanna (1960)'),\n",
       " Row(date='01-Jan-1959', id=843, link='http://us.imdb.com/M/title-exact?Shaggy%20Dog,%20The%20(1959)', rating=[0, 0, 0, 0, 1, 1, 0, 0, 0, 0, 0, 0, 0, 0, 0, 0, 0, 0, 0], title='Shaggy Dog, The (1959)'),\n",
       " Row(date='23-Aug-1996', id=844, link='http://us.imdb.com/M/title-exact?Freeway%20(1996)', rating=[0, 0, 0, 0, 0, 0, 1, 0, 0, 0, 0, 0, 0, 0, 0, 0, 0, 0, 0], title='Freeway (1996)'),\n",
       " Row(date='28-Sep-1996', id=845, link='http://us.imdb.com/M/title-exact?That%20Thing%20You%20Do!%20(1996)', rating=[0, 0, 0, 0, 0, 1, 0, 0, 0, 0, 0, 0, 0, 0, 0, 0, 0, 0, 0], title='That Thing You Do! (1996)'),\n",
       " Row(date='18-Oct-1996', id=846, link='http://us.imdb.com/M/title-exact?To%20Gillian%20on%20Her%2037th%20Birthday%20(1996)', rating=[0, 0, 0, 0, 0, 0, 0, 0, 1, 0, 0, 0, 0, 0, 1, 0, 0, 0, 0], title='To Gillian on Her 37th Birthday (1996)'),\n",
       " Row(date='11-Oct-1996', id=847, link='http://us.imdb.com/M/title-exact?Looking%20for%20Richard%20(1996)', rating=[0, 0, 0, 0, 0, 0, 0, 1, 1, 0, 0, 0, 0, 0, 0, 0, 0, 0, 0], title='Looking for Richard (1996)'),\n",
       " Row(date='01-Jan-1944', id=848, link='http://us.imdb.com/M/title-exact?Murder,%20My%20Sweet%20(1944)', rating=[0, 0, 0, 0, 0, 0, 0, 0, 0, 0, 1, 0, 0, 0, 0, 0, 1, 0, 0], title='Murder, My Sweet (1944)'),\n",
       " Row(date='01-Jan-1990', id=849, link='http://us.imdb.com/M/title-exact?Days%20of%20Thunder%20(1990)', rating=[0, 1, 0, 0, 0, 0, 0, 0, 0, 0, 0, 0, 0, 0, 1, 0, 0, 0, 0], title='Days of Thunder (1990)'),\n",
       " Row(date='27-Sep-1996', id=850, link='http://us.imdb.com/M/title-exact?Perfect%20Candidate,%20A%20(1996)', rating=[0, 0, 0, 0, 0, 0, 0, 1, 0, 0, 0, 0, 0, 0, 0, 0, 0, 0, 0], title='Perfect Candidate, A (1996)'),\n",
       " Row(date='01-Jan-1966', id=851, link=\"http://us.imdb.com/M/title-exact?Deux%20ou%20trois%20choses%20que%20je%20sais%20d'elle%20(1966)\", rating=[0, 0, 0, 0, 0, 0, 0, 0, 1, 0, 0, 0, 0, 0, 0, 0, 0, 0, 0], title='Two or Three Things I Know About Her (1966)'),\n",
       " Row(date='26-Oct-1996', id=852, link='http://us.imdb.com/M/title-exact?Bloody%20Child%2C%20The%20%281996%29', rating=[0, 0, 0, 0, 0, 0, 0, 0, 1, 0, 0, 0, 0, 0, 0, 0, 1, 0, 0], title='Bloody Child, The (1996)'),\n",
       " Row(date='01-Jan-1992', id=853, link='http://us.imdb.com/M/title-exact?Braindead%20(1992)', rating=[0, 0, 0, 0, 0, 1, 0, 0, 0, 0, 0, 1, 0, 0, 0, 0, 0, 0, 0], title='Braindead (1992)'),\n",
       " Row(date='01-Jan-1987', id=854, link='http://us.imdb.com/M/title-exact?Bad%20Taste%20(1987)', rating=[0, 0, 0, 0, 0, 1, 0, 0, 0, 0, 0, 1, 0, 0, 0, 0, 0, 0, 0], title='Bad Taste (1987)'),\n",
       " Row(date='01-Jan-1981', id=855, link='http://us.imdb.com/M/title-exact?Diva%20(1981)', rating=[0, 1, 0, 0, 0, 0, 0, 0, 1, 0, 0, 0, 0, 1, 1, 0, 1, 0, 0], title='Diva (1981)'),\n",
       " Row(date='01-Jan-1991', id=856, link='http://us.imdb.com/M/title-exact?Night%20on%20Earth%20(1991)', rating=[0, 0, 0, 0, 0, 1, 0, 0, 1, 0, 0, 0, 0, 0, 0, 0, 0, 0, 0], title='Night on Earth (1991)'),\n",
       " Row(date='08-Nov-1996', id=857, link='http://us.imdb.com/M/title-exact?Paris%20Was%20a%20Woman%20(1995)', rating=[0, 0, 0, 0, 0, 0, 0, 1, 0, 0, 0, 0, 0, 0, 0, 0, 0, 0, 0], title='Paris Was a Woman (1995)'),\n",
       " Row(date='01-Jan-1996', id=858, link='http://us.imdb.com/M/title-exact?Amityville:%20Dollhouse%20(1996)', rating=[0, 0, 0, 0, 0, 0, 0, 0, 0, 0, 0, 1, 0, 0, 0, 0, 0, 0, 0], title='Amityville: Dollhouse (1996)'),\n",
       " Row(date='01-Jan-1986', id=859, link=\"http://us.imdb.com/M/title-exact?April%20Fool's%20Day%20(1986)\", rating=[0, 0, 0, 0, 0, 1, 0, 0, 0, 0, 0, 1, 0, 0, 0, 0, 0, 0, 0], title=\"April Fool's Day (1986)\"),\n",
       " Row(date='01-Jan-1987', id=860, link='http://us.imdb.com/M/title-exact?Believers,%20The%20(1987)', rating=[0, 0, 0, 0, 0, 0, 0, 0, 0, 0, 0, 1, 0, 0, 0, 0, 1, 0, 0], title='Believers, The (1987)'),\n",
       " Row(date='01-Jan-1986', id=861, link='http://us.imdb.com/M/title-exact?Nosferatu%20a%20Venezia%20(1986)', rating=[0, 0, 0, 0, 0, 0, 0, 0, 0, 0, 0, 1, 0, 0, 0, 0, 0, 0, 0], title='Nosferatu a Venezia (1986)'),\n",
       " Row(date='22-Nov-1996', id=862, link='http://us.imdb.com/M/title-exact?Jingle%20All%20the%20Way%20(1996)', rating=[0, 0, 1, 0, 1, 1, 0, 0, 0, 0, 0, 0, 0, 0, 0, 0, 0, 0, 0], title='Jingle All the Way (1996)'),\n",
       " Row(date='08-Nov-1996', id=863, link='http://us.imdb.com/M/title-exact?Giardino%20dei%20Finzi-Contini,%20Il%20(1970)', rating=[0, 0, 0, 0, 0, 0, 0, 0, 1, 0, 0, 0, 0, 0, 0, 0, 0, 0, 0], title='Garden of Finzi-Contini, The (Giardino dei Finzi-Contini, Il) (1970)'),\n",
       " Row(date='20-Dec-1996', id=864, link='http://us.imdb.com/M/title-exact?My%20Fellow%20Americans%20(1996)', rating=[0, 0, 0, 0, 0, 1, 0, 0, 0, 0, 0, 0, 0, 0, 0, 0, 0, 0, 0], title='My Fellow Americans (1996)'),\n",
       " Row(date='01-Jan-1997', id=865, link='http://us.imdb.com/M/title-exact?Ice+Storm%2C+The+(1997)', rating=[0, 0, 0, 0, 0, 0, 0, 0, 1, 0, 0, 0, 0, 0, 0, 0, 0, 0, 0], title='Ice Storm, The (1997)'),\n",
       " Row(date='25-Dec-1996', id=866, link='http://us.imdb.com/M/title-exact?Michael%20(1996)', rating=[0, 0, 0, 0, 0, 1, 0, 0, 0, 0, 0, 0, 0, 0, 1, 0, 0, 0, 0], title='Michael (1996)'),\n",
       " Row(date='25-Dec-1996', id=867, link='http://us.imdb.com/M/title-exact?Whole%20Wide%20World,%20The%20(1996)', rating=[0, 0, 0, 0, 0, 0, 0, 0, 1, 0, 0, 0, 0, 0, 0, 0, 0, 0, 0], title='Whole Wide World, The (1996)'),\n",
       " Row(date='10-Jan-1997', id=868, link='http://us.imdb.com/M/title-exact?Hearts%20and%20Minds%20(1996)', rating=[0, 0, 0, 0, 0, 0, 0, 0, 1, 0, 0, 0, 0, 0, 0, 0, 0, 0, 0], title='Hearts and Minds (1996)'),\n",
       " Row(date='14-Feb-1997', id=869, link='http://us.imdb.com/M/title-exact?Fools%20Rush%20In%20(1997)', rating=[0, 0, 0, 0, 0, 1, 0, 0, 0, 0, 0, 0, 0, 0, 1, 0, 0, 0, 0], title='Fools Rush In (1997)'),\n",
       " Row(date='14-Feb-1997', id=870, link='http://us.imdb.com/M/title-exact?Touch%20(1997)', rating=[0, 0, 0, 0, 0, 0, 0, 0, 0, 0, 0, 0, 0, 0, 1, 0, 0, 0, 0], title='Touch (1997)'),\n",
       " Row(date='14-Feb-1997', id=871, link='http://us.imdb.com/M/title-exact?Vegas%20Vacation%20(1997)', rating=[0, 0, 0, 0, 0, 1, 0, 0, 0, 0, 0, 0, 0, 0, 0, 0, 0, 0, 0], title='Vegas Vacation (1997)'),\n",
       " Row(date='14-Mar-1997', id=872, link='http://us.imdb.com/M/title-exact?Love%20Jones%20(1997)', rating=[0, 0, 0, 0, 0, 0, 0, 0, 0, 0, 0, 0, 0, 0, 1, 0, 0, 0, 0], title='Love Jones (1997)'),\n",
       " Row(date='01-Aug-1997', id=873, link='http://us.imdb.com/M/title-exact?Picture+Perfect+(1997)', rating=[0, 0, 0, 0, 0, 1, 0, 0, 0, 0, 0, 0, 0, 0, 1, 0, 0, 0, 0], title='Picture Perfect (1997)'),\n",
       " Row(date='08-Aug-1997', id=874, link='http://us.imdb.com/M/title-exact?Career+Girls+(1997)', rating=[0, 0, 0, 0, 0, 0, 0, 0, 1, 0, 0, 0, 0, 0, 0, 0, 0, 0, 0], title='Career Girls (1997)'),\n",
       " Row(date='22-Aug-1997', id=875, link='http://us.imdb.com/M/title-exact?She%27s+So+Lovely+(1997)', rating=[0, 0, 0, 0, 0, 0, 0, 0, 1, 0, 0, 0, 0, 0, 1, 0, 0, 0, 0], title=\"She's So Lovely (1997)\"),\n",
       " Row(date='22-Aug-1997', id=876, link='http://us.imdb.com/M/title-exact?Money+Talks+(1997)', rating=[0, 1, 0, 0, 0, 1, 0, 0, 0, 0, 0, 0, 0, 0, 0, 0, 0, 0, 0], title='Money Talks (1997)'),\n",
       " Row(date='01-Jan-1997', id=877, link='http://us.imdb.com/M/title-exact?Excess+Baggage+(1997)', rating=[0, 0, 1, 0, 0, 0, 0, 0, 0, 0, 0, 0, 0, 0, 1, 0, 0, 0, 0], title='Excess Baggage (1997)'),\n",
       " Row(date='14-Feb-1997', id=878, link='http://us.imdb.com/M/title-exact?That%20Darn%20Cat%20(1997)', rating=[0, 0, 0, 0, 1, 1, 0, 0, 0, 0, 0, 0, 0, 1, 0, 0, 0, 0, 0], title='That Darn Cat! (1997)'),\n",
       " Row(date='01-Jan-1997', id=879, link='http://us.imdb.com/M/title-exact?Peacemaker%2C+The+(1997)', rating=[0, 1, 0, 0, 0, 0, 0, 0, 0, 0, 0, 0, 0, 0, 0, 0, 1, 1, 0], title='Peacemaker, The (1997)'),\n",
       " Row(date='01-Jan-1997', id=880, link='http://us.imdb.com/M/title-exact?Soul+Food+(1997)', rating=[0, 0, 0, 0, 0, 0, 0, 0, 1, 0, 0, 0, 0, 0, 0, 0, 0, 0, 0], title='Soul Food (1997)'),\n",
       " Row(date='22-Aug-1997', id=881, link='http://us.imdb.com/M/title-exact?Money+Talks+(1997)', rating=[0, 1, 0, 0, 0, 1, 0, 0, 0, 0, 0, 0, 0, 0, 0, 0, 0, 0, 0], title='Money Talks (1997)'),\n",
       " Row(date='01-Jan-1997', id=882, link='http://us.imdb.com/M/title-exact?Washington+Square+(1997)', rating=[0, 0, 0, 0, 0, 0, 0, 0, 1, 0, 0, 0, 0, 0, 0, 0, 0, 0, 0], title='Washington Square (1997)'),\n",
       " Row(date='01-Jan-1997', id=883, link='http://us.imdb.com/M/title-exact?Telling+Lies+in+America+(1997)', rating=[0, 0, 0, 0, 0, 0, 0, 0, 1, 0, 0, 0, 0, 0, 0, 0, 0, 0, 0], title='Telling Lies in America (1997)'),\n",
       " Row(date='01-Jan-1997', id=884, link='http://us.imdb.com/M/title-exact?Year+of+the+Horse+(1997)', rating=[0, 0, 0, 0, 0, 0, 0, 1, 0, 0, 0, 0, 0, 0, 0, 0, 0, 0, 0], title='Year of the Horse (1997)'),\n",
       " Row(date='01-Jan-1998', id=885, link='http://us.imdb.com/M/title-exact?Phantoms+(1998)', rating=[0, 0, 0, 0, 0, 0, 0, 0, 0, 0, 0, 1, 0, 0, 0, 0, 0, 0, 0], title='Phantoms (1998)'),\n",
       " Row(date='01-Jan-1997', id=886, link='http://us.imdb.com/M/title-exact?Life+Less+Ordinary,+A+(1997)', rating=[0, 0, 0, 0, 0, 0, 0, 0, 0, 0, 0, 0, 0, 0, 1, 0, 1, 0, 0], title='Life Less Ordinary, A (1997)'),\n",
       " Row(date='01-Jan-1997', id=887, link=\"http://us.imdb.com/M/title-exact?Eve's+Bayou+(1997)\", rating=[0, 0, 0, 0, 0, 0, 0, 0, 1, 0, 0, 0, 0, 0, 0, 0, 0, 0, 0], title=\"Eve's Bayou (1997)\"),\n",
       " Row(date='01-Jan-1997', id=888, link='http://us.imdb.com/M/title-exact?One+Night+Stand+(1997)', rating=[0, 0, 0, 0, 0, 0, 0, 0, 1, 0, 0, 0, 0, 0, 0, 0, 0, 0, 0], title='One Night Stand (1997)'),\n",
       " Row(date='01-Jan-1997', id=889, link='http://us.imdb.com/M/title-exact?Tango+Lesson,+The+(1997)', rating=[0, 0, 0, 0, 0, 0, 0, 0, 0, 0, 0, 0, 0, 0, 1, 0, 0, 0, 0], title='Tango Lesson, The (1997)'),\n",
       " Row(date='01-Jan-1997', id=890, link='http://us.imdb.com/M/title-exact?Mortal+Kombat%3A+Annihilation+(1997)', rating=[0, 1, 1, 0, 0, 0, 0, 0, 0, 0, 0, 0, 0, 0, 0, 0, 0, 0, 0], title='Mortal Kombat: Annihilation (1997)'),\n",
       " Row(date='18-Dec-1997', id=891, link='http://us.imdb.com/M/title-exact?imdb-title-118698', rating=[0, 0, 0, 0, 0, 0, 0, 0, 1, 0, 0, 0, 0, 0, 0, 0, 0, 1, 0], title='Bent (1997)'),\n",
       " Row(date='01-Jan-1997', id=892, link='http://us.imdb.com/M/title-exact?imdb-title-119137', rating=[0, 0, 0, 0, 1, 1, 0, 0, 0, 1, 0, 0, 0, 0, 0, 0, 0, 0, 0], title='Flubber (1997)'),\n",
       " Row(date='01-Jan-1997', id=893, link='http://us.imdb.com/M/title-exact?imdb-title-119142', rating=[0, 0, 0, 0, 0, 1, 0, 0, 0, 0, 0, 0, 0, 0, 0, 0, 0, 0, 0], title='For Richer or Poorer (1997)'),\n",
       " Row(date='01-Jan-1997', id=894, link='http://us.imdb.com/M/title-exact?imdb-title-119303', rating=[0, 0, 0, 0, 1, 1, 0, 0, 0, 0, 0, 0, 0, 0, 0, 0, 0, 0, 0], title='Home Alone 3 (1997)'),\n",
       " Row(date='01-Jan-1997', id=895, link='http://us.imdb.com/M/title-exact?imdb-title-120082', rating=[0, 0, 0, 0, 0, 0, 0, 0, 0, 0, 0, 1, 0, 0, 0, 0, 1, 0, 0], title='Scream 2 (1997)'),\n",
       " Row(date='01-Jan-1997', id=896, link='http://us.imdb.com/M/title-exact?Sweet+Hereafter%2C+The+(1997)', rating=[0, 0, 0, 0, 0, 0, 0, 0, 1, 0, 0, 0, 0, 0, 0, 0, 0, 0, 0], title='Sweet Hereafter, The (1997)'),\n",
       " Row(date='01-Jan-1995', id=897, link='http://us.imdb.com/M/title-exact?imdb-title-128755', rating=[0, 1, 1, 0, 0, 0, 0, 0, 0, 0, 0, 0, 0, 0, 0, 1, 0, 0, 0], title='Time Tracers (1995)'),\n",
       " Row(date='01-Jan-1997', id=898, link='http://us.imdb.com/M/title-exact?imdb-title-119925', rating=[0, 0, 0, 0, 0, 0, 0, 0, 1, 0, 0, 0, 0, 0, 0, 0, 0, 0, 0], title='Postman, The (1997)'),\n",
       " Row(date='01-Jan-1997', id=899, link='http://us.imdb.com/M/title-exact?imdb-title-120521', rating=[0, 0, 0, 0, 0, 0, 0, 0, 1, 0, 0, 0, 0, 0, 0, 0, 0, 0, 0], title='Winter Guest, The (1997)'),\n",
       " Row(date='25-Dec-1997', id=900, link='http://us.imdb.com/M/title-exact?imdb-title-119485', rating=[0, 0, 0, 0, 0, 0, 0, 0, 1, 0, 0, 0, 0, 0, 0, 0, 0, 0, 0], title='Kundun (1997)'),\n",
       " Row(date='25-Dec-1997', id=901, link='http://us.imdb.com/M/title-exact?imdb-title-119718', rating=[0, 0, 0, 0, 0, 1, 0, 0, 0, 0, 0, 0, 0, 0, 0, 0, 0, 0, 0], title='Mr. Magoo (1997)'),\n",
       " Row(date='26-Dec-1997', id=902, link='http://us.imdb.com/M/title-exact?imdb-title-118715', rating=[0, 0, 0, 0, 0, 1, 1, 0, 0, 0, 0, 0, 0, 1, 0, 0, 1, 0, 0], title='Big Lebowski, The (1998)'),\n",
       " Row(date='26-Dec-1997', id=903, link='http://us.imdb.com/M/title-exact?imdb-title-118566', rating=[0, 0, 0, 0, 0, 0, 0, 0, 1, 0, 0, 0, 0, 0, 1, 0, 0, 0, 0], title='Afterglow (1997)'),\n",
       " Row(date='26-Dec-1997', id=904, link='http://us.imdb.com/M/title-exact?imdb-title-119590', rating=[0, 0, 0, 0, 0, 1, 0, 0, 1, 0, 0, 0, 0, 0, 0, 0, 0, 0, 0], title='Ma vie en rose (My Life in Pink) (1997)'),\n",
       " Row(date='01-Jan-1998', id=905, link='http://us.imdb.com/M/title-exact?imdb-title-119223', rating=[0, 0, 0, 0, 0, 0, 0, 0, 1, 0, 0, 0, 0, 0, 1, 0, 0, 0, 0], title='Great Expectations (1998)'),\n",
       " Row(date='31-Dec-1997', id=906, link='http://us.imdb.com/M/title-exact?imdb-title-119843', rating=[0, 0, 0, 0, 0, 0, 0, 0, 1, 0, 0, 0, 0, 0, 1, 0, 0, 0, 0], title='Oscar & Lucinda (1997)'),\n",
       " Row(date='01-Jan-1997', id=907, link='http://us.imdb.com/M/title-exact?imdb-title-120881', rating=[0, 0, 0, 0, 0, 1, 0, 0, 0, 0, 0, 0, 0, 0, 0, 0, 0, 0, 0], title='Vermin (1998)'),\n",
       " Row(date='16-Jan-1998', id=908, link='http://us.imdb.com/M/title-exact?imdb-title-120693', rating=[0, 0, 0, 0, 0, 1, 0, 0, 0, 0, 0, 0, 0, 0, 0, 0, 0, 0, 0], title='Half Baked (1998)'),\n",
       " Row(date='23-Jan-1998', id=909, link='http://us.imdb.com/M/title-exact?imdb-title-118892', rating=[0, 0, 0, 0, 0, 0, 0, 0, 1, 0, 0, 0, 0, 0, 0, 0, 0, 0, 0], title='Dangerous Beauty (1998)'),\n",
       " Row(date='06-Feb-1998', id=910, link='http://us.imdb.com/Title?Nil+By+Mouth+(1997)', rating=[0, 0, 0, 0, 0, 0, 0, 0, 1, 0, 0, 0, 0, 0, 0, 0, 0, 0, 0], title='Nil By Mouth (1997)'),\n",
       " Row(date='30-Jan-1998', id=911, link='http://us.imdb.com/M/title-exact?imdb-title-119594', rating=[0, 0, 0, 0, 0, 0, 1, 0, 1, 0, 0, 0, 0, 0, 0, 0, 0, 0, 0], title='Twilight (1998)'),\n",
       " Row(date='10-Mar-1998', id=912, link='http://us.imdb.com/Title?U.S.+Marshals+(1998)', rating=[0, 1, 0, 0, 0, 0, 0, 0, 0, 0, 0, 0, 0, 0, 0, 0, 1, 0, 0], title='U.S. Marshalls (1998)'),\n",
       " Row(date='10-Mar-1998', id=913, link='http://us.imdb.com/Title?Love+and+Death+on+Long+Island+(1997)', rating=[0, 0, 0, 0, 0, 1, 0, 0, 0, 0, 0, 0, 0, 0, 0, 0, 0, 0, 0], title='Love and Death on Long Island (1997)'),\n",
       " Row(date='14-Mar-1998', id=914, link='http://us.imdb.com/Title?Wild+Things+(1998)', rating=[0, 0, 0, 0, 0, 0, 1, 0, 1, 0, 0, 0, 0, 1, 0, 0, 1, 0, 0], title='Wild Things (1998)'),\n",
       " Row(date='20-Mar-1998', id=915, link='http://us.imdb.com/Title?Primary+Colors+(1998)', rating=[0, 0, 0, 0, 0, 0, 0, 0, 1, 0, 0, 0, 0, 0, 0, 0, 0, 0, 0], title='Primary Colors (1998)'),\n",
       " Row(date='27-Mar-1998', id=916, link='http://us.imdb.com/Title?Lost+in+Space+(1998)', rating=[0, 1, 0, 0, 0, 0, 0, 0, 0, 0, 0, 0, 0, 0, 0, 1, 1, 0, 0], title='Lost in Space (1998)'),\n",
       " Row(date='27-Mar-1998', id=917, link='http://us.imdb.com/Title?Mercury+Rising+(1998)', rating=[0, 1, 0, 0, 0, 0, 0, 0, 1, 0, 0, 0, 0, 0, 0, 0, 1, 0, 0], title='Mercury Rising (1998)'),\n",
       " Row(date='03-Apr-1998', id=918, link='http://us.imdb.com/Title?City+of+Angels+(1998)', rating=[0, 0, 0, 0, 0, 0, 0, 0, 0, 0, 0, 0, 0, 0, 1, 0, 0, 0, 0], title='City of Angels (1998)'),\n",
       " Row(date='01-Jan-1995', id=919, link='http://us.imdb.com/Title?Cit%E9+des+enfants+perdus,+La+(1995)', rating=[0, 0, 1, 0, 0, 0, 0, 0, 0, 0, 0, 0, 0, 0, 0, 1, 0, 0, 0], title='City of Lost Children, The (1995)'),\n",
       " Row(date='01-Jan-1995', id=920, link='http://us.imdb.com/M/title-exact?Two%20Bits%20(1995)', rating=[0, 0, 0, 0, 0, 0, 0, 0, 1, 0, 0, 0, 0, 0, 0, 0, 0, 0, 0], title='Two Bits (1995)'),\n",
       " Row(date='01-Jan-1993', id=921, link='http://us.imdb.com/M/title-exact?Ba%20Wang%20Bie%20Ji%20(1993)', rating=[0, 0, 0, 0, 0, 0, 0, 0, 1, 0, 0, 0, 0, 0, 1, 0, 0, 0, 0], title='Farewell My Concubine (1993)'),\n",
       " Row(date='10-May-1996', id=922, link='http://us.imdb.com/M/title-exact?Dead%20Man%20(1995)', rating=[0, 0, 0, 0, 0, 0, 0, 0, 0, 0, 0, 0, 0, 0, 0, 0, 0, 0, 1], title='Dead Man (1995)'),\n",
       " Row(date='01-Jan-1991', id=923, link='http://us.imdb.com/M/title-exact?Da%20Hong%20Deng%20Long%20Gao%20Gao%20Gua%20(1991)', rating=[0, 0, 0, 0, 0, 0, 0, 0, 1, 0, 0, 0, 0, 0, 0, 0, 0, 0, 0], title='Raise the Red Lantern (1991)'),\n",
       " Row(date='01-Jan-1996', id=924, link='http://us.imdb.com/M/title-exact?White%20Squall%20(1996)', rating=[0, 0, 1, 0, 0, 0, 0, 0, 1, 0, 0, 0, 0, 0, 0, 0, 0, 0, 0], title='White Squall (1996)'),\n",
       " Row(date='23-Feb-1996', id=925, link='http://us.imdb.com/Title?Unforgettable+(1996)', rating=[0, 0, 0, 0, 0, 0, 0, 0, 0, 0, 0, 0, 0, 0, 0, 1, 1, 0, 0], title='Unforgettable (1996)'),\n",
       " Row(date='01-Mar-1996', id=926, link='http://us.imdb.com/M/title-exact?Down%20Periscope%20(1996)', rating=[0, 0, 0, 0, 0, 1, 0, 0, 0, 0, 0, 0, 0, 0, 0, 0, 0, 0, 0], title='Down Periscope (1996)'),\n",
       " Row(date='08-Mar-1996', id=927, link='http://us.imdb.com/M/title-exact?Flor%20de%20mi%20secreto,%20La%20(1995)', rating=[0, 0, 0, 0, 0, 0, 0, 0, 1, 0, 0, 0, 0, 0, 0, 0, 0, 0, 0], title='Flower of My Secret, The (Flor de mi secreto, La) (1995)'),\n",
       " Row(date='26-Apr-1996', id=928, link='http://us.imdb.com/M/title-exact?Craft,%20The%20(1996)', rating=[0, 0, 0, 0, 0, 0, 0, 0, 1, 0, 0, 1, 0, 0, 0, 0, 0, 0, 0], title='Craft, The (1996)'),\n",
       " Row(date='03-Jul-1996', id=929, link='http://us.imdb.com/M/title-exact?Harriet%20the%20Spy%20(1996)', rating=[0, 0, 0, 0, 1, 1, 0, 0, 0, 0, 0, 0, 0, 0, 0, 0, 0, 0, 0], title='Harriet the Spy (1996)'),\n",
       " Row(date='31-Jul-1996', id=930, link='http://us.imdb.com/M/title-exact?Chain%20Reaction%20(1996)', rating=[0, 1, 1, 0, 0, 0, 0, 0, 0, 0, 0, 0, 0, 0, 0, 0, 1, 0, 0], title='Chain Reaction (1996)'),\n",
       " Row(date='23-Aug-1996', id=931, link='http://us.imdb.com/M/title-exact?Island%20of%20Dr.%20Moreau,%20The%20(1996)', rating=[0, 0, 0, 0, 0, 0, 0, 0, 0, 0, 0, 0, 0, 0, 0, 1, 1, 0, 0], title='Island of Dr. Moreau, The (1996)'),\n",
       " Row(date='30-Aug-1996', id=932, link='http://us.imdb.com/M/title-exact?First%20Kid%20(1996)', rating=[0, 0, 0, 0, 1, 1, 0, 0, 0, 0, 0, 0, 0, 0, 0, 0, 0, 0, 0], title='First Kid (1996)'),\n",
       " Row(date='25-Oct-1996', id=933, link='http://us.imdb.com/M/title-exact?Funeral,%20The%20(1996)', rating=[0, 0, 0, 0, 0, 0, 0, 0, 1, 0, 0, 0, 0, 0, 0, 0, 0, 0, 0], title='Funeral, The (1996)'),\n",
       " Row(date='13-Dec-1996', id=934, link=\"http://us.imdb.com/M/title-exact?Preacher's%20Wife,%20The%20(1996)\", rating=[0, 0, 0, 0, 0, 0, 0, 0, 1, 0, 0, 0, 0, 0, 0, 0, 0, 0, 0], title=\"Preacher's Wife, The (1996)\"),\n",
       " Row(date='18-Apr-1997', id=935, link='http://us.imdb.com/M/title-exact?Paradise%20Road%20%281997%29', rating=[0, 0, 0, 0, 0, 0, 0, 0, 1, 0, 0, 0, 0, 0, 0, 0, 0, 1, 0], title='Paradise Road (1997)'),\n",
       " Row(date='13-Jun-1997', id=936, link='http://us.imdb.com/M/title-exact?Brassed%20Off%20%281996%29', rating=[0, 0, 0, 0, 0, 1, 0, 0, 1, 0, 0, 0, 0, 0, 1, 0, 0, 0, 0], title='Brassed Off (1996)'),\n",
       " Row(date='01-Jan-1997', id=937, link='http://us.imdb.com/M/title-exact?Thousand+Acres%2C+A+(1997)', rating=[0, 0, 0, 0, 0, 0, 0, 0, 1, 0, 0, 0, 0, 0, 0, 0, 0, 0, 0], title='Thousand Acres, A (1997)'),\n",
       " Row(date='01-Jan-1997', id=938, link='http://us.imdb.com/M/title-exact?Smile+Like+Yours%2C+A+(1997)', rating=[0, 0, 0, 0, 0, 1, 0, 0, 0, 0, 0, 0, 0, 0, 1, 0, 0, 0, 0], title='Smile Like Yours, A (1997)'),\n",
       " Row(date='01-Jan-1995', id=939, link='http://us.imdb.com/M/title-exact?Murder%20in%20the%20First%20(1995)', rating=[0, 0, 0, 0, 0, 0, 0, 0, 1, 0, 0, 0, 0, 0, 0, 0, 1, 0, 0], title='Murder in the First (1995)'),\n",
       " Row(date='01-Jan-1994', id=940, link='http://us.imdb.com/M/title-exact?Airheads%20(1994)', rating=[0, 0, 0, 0, 0, 1, 0, 0, 0, 0, 0, 0, 0, 0, 0, 0, 0, 0, 0], title='Airheads (1994)'),\n",
       " Row(date='01-Jan-1994', id=941, link='http://us.imdb.com/M/title-exact?With%20Honors%20(1994)', rating=[0, 0, 0, 0, 0, 1, 0, 0, 1, 0, 0, 0, 0, 0, 0, 0, 0, 0, 0], title='With Honors (1994)'),\n",
       " Row(date='01-Jan-1993', id=942, link=\"http://us.imdb.com/M/title-exact?What's%20Love%20Got%20to%20Do%20with%20It%20(1993)\", rating=[0, 0, 0, 0, 0, 0, 0, 0, 1, 0, 0, 0, 0, 0, 0, 0, 0, 0, 0], title=\"What's Love Got to Do with It (1993)\"),\n",
       " Row(date='01-Jan-1994', id=943, link='http://us.imdb.com/M/title-exact?Killing%20Zoe%20(1994)', rating=[0, 0, 0, 0, 0, 0, 0, 0, 0, 0, 0, 0, 0, 0, 0, 0, 1, 0, 0], title='Killing Zoe (1994)'),\n",
       " Row(date='01-Jan-1994', id=944, link='http://us.imdb.com/M/title-exact?Renaissance%20Man%20(1994)', rating=[0, 0, 0, 0, 0, 1, 0, 0, 1, 0, 0, 0, 0, 0, 0, 0, 0, 1, 0], title='Renaissance Man (1994)'),\n",
       " Row(date='01-Jan-1963', id=945, link='http://us.imdb.com/M/title-exact?Charade%20(1963)', rating=[0, 0, 0, 0, 0, 1, 0, 0, 0, 0, 0, 0, 0, 1, 1, 0, 1, 0, 0], title='Charade (1963)'),\n",
       " Row(date='01-Jan-1981', id=946, link='http://us.imdb.com/M/title-exact?Fox%20and%20the%20Hound,%20The%20(1981)', rating=[0, 0, 0, 1, 1, 0, 0, 0, 0, 0, 0, 0, 0, 0, 0, 0, 0, 0, 0], title='Fox and the Hound, The (1981)'),\n",
       " Row(date='01-Jan-1988', id=947, link='http://us.imdb.com/M/title-exact?Grand%20bleu,%20Le%20(1988)', rating=[0, 0, 1, 0, 0, 0, 0, 0, 0, 0, 0, 0, 0, 0, 1, 0, 0, 0, 0], title='Big Blue, The (Grand bleu, Le) (1988)'),\n",
       " Row(date='28-Feb-1997', id=948, link='http://us.imdb.com/M/title-exact?Booty%20Call%20(1997)', rating=[0, 0, 0, 0, 0, 1, 0, 0, 0, 0, 0, 0, 0, 0, 1, 0, 0, 0, 0], title='Booty Call (1997)'),\n",
       " Row(date='01-Jan-1995', id=949, link='http://us.imdb.com/M/title-exact?How%20to%20Make%20an%20American%20Quilt%20(1995)', rating=[0, 0, 0, 0, 0, 0, 0, 0, 1, 0, 0, 0, 0, 0, 1, 0, 0, 0, 0], title='How to Make an American Quilt (1995)'),\n",
       " Row(date='01-Jan-1995', id=950, link='http://us.imdb.com/M/title-exact?Georgia%20(1995)', rating=[0, 0, 0, 0, 0, 0, 0, 0, 1, 0, 0, 0, 0, 0, 0, 0, 0, 0, 0], title='Georgia (1995)'),\n",
       " Row(date='01-Jan-1995', id=951, link='http://us.imdb.com/M/title-exact?Indian%20in%20the%20Cupboard,%20The%20(1995)', rating=[0, 0, 1, 0, 1, 0, 0, 0, 0, 1, 0, 0, 0, 0, 0, 0, 0, 0, 0], title='Indian in the Cupboard, The (1995)'),\n",
       " Row(date='01-Jan-1995', id=952, link='http://us.imdb.com/M/title-exact?Blue%20in%20the%20Face%20(1995)', rating=[0, 0, 0, 0, 0, 1, 0, 0, 0, 0, 0, 0, 0, 0, 0, 0, 0, 0, 0], title='Blue in the Face (1995)'),\n",
       " Row(date='01-Jan-1995', id=953, link='http://us.imdb.com/M/title-exact?Unstrung%20Heroes%20(1995)', rating=[0, 0, 0, 0, 0, 1, 0, 0, 1, 0, 0, 0, 0, 0, 0, 0, 0, 0, 0], title='Unstrung Heroes (1995)'),\n",
       " Row(date='01-Jan-1995', id=954, link='http://us.imdb.com/M/title-exact?Unzipped%20(1995)', rating=[0, 0, 0, 0, 0, 0, 0, 1, 0, 0, 0, 0, 0, 0, 0, 0, 0, 0, 0], title='Unzipped (1995)'),\n",
       " Row(date='01-Jan-1995', id=955, link='http://us.imdb.com/M/title-exact?Before%20Sunrise%20(1995)', rating=[0, 0, 0, 0, 0, 0, 0, 0, 1, 0, 0, 0, 0, 0, 1, 0, 0, 0, 0], title='Before Sunrise (1995)'),\n",
       " Row(date='01-Jan-1994', id=956, link=\"http://us.imdb.com/M/title-exact?Nobody's%20Fool%20(1994)\", rating=[0, 0, 0, 0, 0, 0, 0, 0, 1, 0, 0, 0, 0, 0, 0, 0, 0, 0, 0], title=\"Nobody's Fool (1994)\"),\n",
       " Row(date='01-Jan-1992', id=957, link='http://us.imdb.com/M/title-exact?Tui%20Shou%20(1992)', rating=[0, 0, 0, 0, 0, 1, 0, 0, 0, 0, 0, 0, 0, 0, 0, 0, 0, 0, 0], title='Pushing Hands (1992)'),\n",
       " Row(date='01-Jan-1994', id=958, link='http://us.imdb.com/M/title-exact?Huozhe%20(1994)', rating=[0, 0, 0, 0, 0, 0, 0, 0, 1, 0, 0, 0, 0, 0, 0, 0, 0, 0, 0], title='To Live (Huozhe) (1994)'),\n",
       " Row(date='01-Jan-1993', id=959, link='http://us.imdb.com/M/title-exact?Dazed%20and%20Confused%20(1993)', rating=[0, 0, 0, 0, 0, 1, 0, 0, 0, 0, 0, 0, 0, 0, 0, 0, 0, 0, 0], title='Dazed and Confused (1993)'),\n",
       " Row(date='01-Jan-1993', id=960, link='http://us.imdb.com/M/title-exact?Naked%20(1993)', rating=[0, 0, 0, 0, 0, 0, 0, 0, 1, 0, 0, 0, 0, 0, 0, 0, 0, 0, 0], title='Naked (1993)'),\n",
       " Row(date='01-Jan-1993', id=961, link='http://us.imdb.com/M/title-exact?Orlando%20(1993)', rating=[0, 0, 0, 0, 0, 0, 0, 0, 1, 0, 0, 0, 0, 0, 0, 0, 0, 0, 0], title='Orlando (1993)'),\n",
       " Row(date='01-Jan-1993', id=962, link='http://us.imdb.com/M/title-exact?Ruby%20in%20Paradise%20(1993)', rating=[0, 0, 0, 0, 0, 0, 0, 0, 1, 0, 0, 0, 0, 0, 0, 0, 0, 0, 0], title='Ruby in Paradise (1993)'),\n",
       " Row(date='01-Jan-1993', id=963, link='http://us.imdb.com/M/title-exact?Some%20Folks%20Call%20It%20a%20Sling%20Blade%20(1993)', rating=[0, 0, 0, 0, 0, 0, 0, 0, 1, 0, 0, 0, 0, 0, 0, 0, 1, 0, 0], title='Some Folks Call It a Sling Blade (1993)'),\n",
       " Row(date='01-Jan-1995', id=964, link='http://us.imdb.com/M/title-exact?Month%20by%20The%20Lake,%20A%20(1995)', rating=[0, 0, 0, 0, 0, 1, 0, 0, 1, 0, 0, 0, 0, 0, 0, 0, 0, 0, 0], title='Month by the Lake, A (1995)'),\n",
       " Row(date='01-Jan-1957', id=965, link='http://us.imdb.com/M/title-exact?Funny%20Face%20(1957)', rating=[0, 0, 0, 0, 0, 1, 0, 0, 0, 0, 0, 0, 1, 0, 0, 0, 0, 0, 0], title='Funny Face (1957)'),\n",
       " Row(date='01-Jan-1957', id=966, link='http://us.imdb.com/M/title-exact?Affair%20to%20Remember,%20An%20(1957)', rating=[0, 0, 0, 0, 0, 0, 0, 0, 0, 0, 0, 0, 0, 0, 1, 0, 0, 0, 0], title='Affair to Remember, An (1957)'),\n",
       " Row(date='01-Jan-1936', id=967, link='http://us.imdb.com/M/title-exact?Little%20Lord%20Fauntleroy%20(1936)', rating=[0, 0, 0, 0, 0, 0, 0, 0, 1, 0, 0, 0, 0, 0, 0, 0, 0, 0, 0], title='Little Lord Fauntleroy (1936)'),\n",
       " Row(date='01-Jan-1949', id=968, link='http://us.imdb.com/M/title-exact?Inspector%20General,%20The%20(1949)', rating=[0, 0, 0, 0, 0, 0, 0, 0, 0, 0, 0, 0, 1, 0, 0, 0, 0, 0, 0], title='Inspector General, The (1949)'),\n",
       " Row(date='01-Jan-1968', id=969, link='http://us.imdb.com/M/title-exact?Winnie%20the%20Pooh%20and%20the%20Blustery%20Day%20%281968%29', rating=[0, 0, 0, 1, 1, 0, 0, 0, 0, 0, 0, 0, 0, 0, 0, 0, 0, 0, 0], title='Winnie the Pooh and the Blustery Day (1968)'),\n",
       " Row(date='01-Jan-1991', id=970, link='http://us.imdb.com/M/title-exact?Hear%20My%20Song%20(1991)', rating=[0, 0, 0, 0, 0, 1, 0, 0, 0, 0, 0, 0, 0, 0, 0, 0, 0, 0, 0], title='Hear My Song (1991)'),\n",
       " Row(date='01-Jan-1991', id=971, link='http://us.imdb.com/M/title-exact?Mediterraneo%20(1991)', rating=[0, 0, 0, 0, 0, 1, 0, 0, 0, 0, 0, 0, 0, 0, 0, 0, 0, 1, 0], title='Mediterraneo (1991)'),\n",
       " Row(date='01-Jan-1992', id=972, link='http://us.imdb.com/M/title-exact?Passion%20Fish%20(1992)', rating=[0, 0, 0, 0, 0, 0, 0, 0, 1, 0, 0, 0, 0, 0, 0, 0, 0, 0, 0], title='Passion Fish (1992)'),\n",
       " Row(date='18-Oct-1996', id=973, link='http://us.imdb.com/M/title-exact?Grateful%20Dead%20(1995)', rating=[0, 0, 0, 0, 0, 0, 0, 1, 0, 0, 0, 0, 0, 0, 0, 0, 0, 0, 0], title='Grateful Dead (1995)'),\n",
       " Row(date='01-Jan-1996', id=974, link='http://us.imdb.com/Title?Eye+for+an+Eye+(1996)', rating=[0, 0, 0, 0, 0, 0, 0, 0, 1, 0, 0, 0, 0, 0, 0, 0, 1, 0, 0], title='Eye for an Eye (1996)'),\n",
       " Row(date='12-Apr-1996', id=975, link='http://us.imdb.com/M/title-exact?Fear%20(1996)', rating=[0, 0, 0, 0, 0, 0, 0, 0, 0, 0, 0, 0, 0, 0, 0, 0, 1, 0, 0], title='Fear (1996)'),\n",
       " Row(date='23-Aug-1996', id=976, link='http://us.imdb.com/M/title-exact?Solo%20(1996)', rating=[0, 1, 0, 0, 0, 0, 0, 0, 0, 0, 0, 0, 0, 0, 0, 1, 1, 0, 0], title='Solo (1996)'),\n",
       " Row(date='19-Apr-1996', id=977, link='http://us.imdb.com/M/title-exact?Substitute,%20The%20(1996)', rating=[0, 1, 0, 0, 0, 0, 0, 0, 0, 0, 0, 0, 0, 0, 0, 0, 0, 0, 0], title='Substitute, The (1996)'),\n",
       " Row(date='10-May-1996', id=978, link=\"http://us.imdb.com/M/title-exact?Heaven's%20Prisoners%20(1996)\", rating=[0, 0, 0, 0, 0, 0, 0, 0, 0, 0, 0, 0, 0, 1, 0, 0, 1, 0, 0], title=\"Heaven's Prisoners (1996)\"),\n",
       " Row(date='30-Aug-1996', id=979, link='http://us.imdb.com/M/title-exact?Trigger%20Effect,%20The%20(1996)', rating=[0, 0, 0, 0, 0, 0, 0, 0, 1, 0, 0, 0, 0, 0, 0, 0, 1, 0, 0], title='Trigger Effect, The (1996)'),\n",
       " Row(date='01-Nov-1996', id=980, link='http://us.imdb.com/M/title-exact?Mother%20Night%20(1996)', rating=[0, 0, 0, 0, 0, 0, 0, 0, 1, 0, 0, 0, 0, 0, 0, 0, 0, 0, 0], title='Mother Night (1996)'),\n",
       " Row(date='04-Sep-1996', id=981, link='http://us.imdb.com/M/title-exact?Dangerous%20Ground%20(1997)', rating=[0, 0, 0, 0, 0, 0, 0, 0, 1, 0, 0, 0, 0, 0, 0, 0, 0, 0, 0], title='Dangerous Ground (1997)'),\n",
       " Row(date='13-Sep-1996', id=982, link='http://us.imdb.com/M/title-exact?Maximum%20Risk%20(1996)', rating=[0, 1, 1, 0, 0, 0, 0, 0, 0, 0, 0, 0, 0, 0, 0, 0, 1, 0, 0], title='Maximum Risk (1996)'),\n",
       " Row(date='13-Sep-1996', id=983, link=\"http://us.imdb.com/M/title-exact?Rich%20Man's%20Wife,%20The%20(1996)\", rating=[0, 0, 0, 0, 0, 0, 0, 0, 0, 0, 0, 0, 0, 0, 0, 0, 1, 0, 0], title=\"Rich Man's Wife, The (1996)\"),\n",
       " Row(date='31-Jan-1997', id=984, link='http://us.imdb.com/M/title-exact?Shadow%20Conspiracy%20(1997)', rating=[0, 0, 0, 0, 0, 0, 0, 0, 0, 0, 0, 0, 0, 0, 0, 0, 1, 0, 0], title='Shadow Conspiracy (1997)'),\n",
       " Row(date='15-Nov-1996', id=985, link='http://us.imdb.com/Title?Blood+%26+Wine+(1997)', rating=[0, 0, 0, 0, 0, 0, 0, 0, 1, 0, 0, 0, 0, 0, 0, 0, 0, 0, 0], title='Blood & Wine (1997)'),\n",
       " Row(date='10-Jan-1997', id=986, link='http://us.imdb.com/M/title-exact?Turbulence%20(1997)', rating=[0, 0, 0, 0, 0, 0, 0, 0, 0, 0, 0, 0, 0, 0, 0, 0, 1, 0, 0], title='Turbulence (1997)'),\n",
       " Row(date='09-May-1997', id=987, link='http://us.imdb.com/M/title-exact?Underworld%20(1997)', rating=[0, 0, 0, 0, 0, 0, 0, 0, 0, 0, 0, 0, 0, 0, 0, 0, 1, 0, 0], title='Underworld (1997)'),\n",
       " Row(date='07-Feb-1997', id=988, link='http://us.imdb.com/M/title-exact?Beautician%20and%20the%20Beast,%20The%20(1997)', rating=[0, 0, 0, 0, 0, 1, 0, 0, 0, 0, 0, 0, 0, 0, 1, 0, 0, 0, 0], title='Beautician and the Beast, The (1997)'),\n",
       " Row(date='26-Mar-1997', id=989, link='http://us.imdb.com/M/title-exact?Cats%20Don%27t%20Dance%20(1997)', rating=[0, 0, 0, 1, 1, 0, 0, 0, 0, 0, 0, 0, 1, 0, 0, 0, 0, 0, 0], title=\"Cats Don't Dance (1997)\"),\n",
       " Row(date='04-Apr-1997', id=990, link='http://us.imdb.com/M/title-exact?Anna%20Karenina%20%281997%29', rating=[0, 0, 0, 0, 0, 0, 0, 0, 1, 0, 0, 0, 0, 0, 1, 0, 0, 0, 0], title='Anna Karenina (1997)'),\n",
       " Row(date='11-Apr-1997', id=991, link='http://us.imdb.com/Title?Keys+to+Tulsa+(1997)', rating=[0, 0, 0, 0, 0, 0, 1, 0, 0, 0, 0, 0, 0, 0, 0, 0, 0, 0, 0], title='Keys to Tulsa (1997)'),\n",
       " Row(date='20-Jun-1997', id=992, link='http://us.imdb.com/M/title-exact?Head+Above+Water+(1996)', rating=[0, 0, 0, 0, 0, 1, 0, 0, 0, 0, 0, 0, 0, 0, 0, 0, 1, 0, 0], title='Head Above Water (1996)'),\n",
       " Row(date='27-Jun-1997', id=993, link='http://us.imdb.com/M/title-exact?Hercules+(1997)', rating=[0, 0, 1, 1, 1, 1, 0, 0, 0, 0, 0, 0, 1, 0, 0, 0, 0, 0, 0], title='Hercules (1997)'),\n",
       " Row(date='20-Jun-1997', id=994, link='http://us.imdb.com/M/title-exact?Last+Time+I+Committed+Suicide%2C+The+(1997)', rating=[0, 0, 0, 0, 0, 0, 0, 0, 1, 0, 0, 0, 0, 0, 0, 0, 0, 0, 0], title='Last Time I Committed Suicide, The (1997)'),\n",
       " Row(date='01-Jan-1997', id=995, link='http://us.imdb.com/M/title-exact?Kiss+Me%2C+Guido+(1997)', rating=[0, 0, 0, 0, 0, 1, 0, 0, 0, 0, 0, 0, 0, 0, 0, 0, 0, 0, 0], title='Kiss Me, Guido (1997)'),\n",
       " Row(date='01-Jan-1995', id=996, link='http://us.imdb.com/M/title-exact?Big%20Green,%20The%20(1995)', rating=[0, 0, 0, 0, 1, 1, 0, 0, 0, 0, 0, 0, 0, 0, 0, 0, 0, 0, 0], title='Big Green, The (1995)'),\n",
       " Row(date='01-Jan-1995', id=997, link='http://us.imdb.com/M/title-exact?Stuart%20Saves%20His%20Family%20(1995)', rating=[0, 0, 0, 0, 0, 1, 0, 0, 0, 0, 0, 0, 0, 0, 0, 0, 0, 0, 0], title='Stuart Saves His Family (1995)'),\n",
       " Row(date='01-Jan-1994', id=998, link='http://us.imdb.com/M/title-exact?Cabin%20Boy%20(1994)', rating=[0, 0, 0, 0, 0, 1, 0, 0, 0, 0, 0, 0, 0, 0, 0, 0, 0, 0, 0], title='Cabin Boy (1994)'),\n",
       " Row(date='01-Jan-1994', id=999, link='http://us.imdb.com/M/title-exact?Clean%20Slate%20(1994)', rating=[0, 0, 0, 0, 0, 1, 0, 0, 0, 0, 0, 0, 0, 0, 0, 0, 0, 0, 0], title='Clean Slate (1994)'),\n",
       " Row(date='01-Jan-1994', id=1000, link='http://us.imdb.com/M/title-exact?Lightning%20Jack%20(1994)', rating=[0, 0, 0, 0, 0, 1, 0, 0, 0, 0, 0, 0, 0, 0, 0, 0, 0, 0, 1], title='Lightning Jack (1994)'),\n",
       " ...]"
      ]
     },
     "execution_count": 142,
     "metadata": {},
     "output_type": "execute_result"
    }
   ],
   "source": [
    "df1.rdd.collect() # Convert df into an RDD"
   ]
  },
  {
   "cell_type": "code",
   "execution_count": 143,
   "id": "5137da79",
   "metadata": {},
   "outputs": [
    {
     "data": {
      "text/plain": [
       "'{\"date\":\"01-Jan-1995\",\"id\":1,\"link\":\"http://us.imdb.com/M/title-exact?Toy%20Story%20(1995)\",\"rating\":[0,0,0,1,1,1,0,0,0,0,0,0,0,0,0,0,0,0,0],\"title\":\"Toy Story (1995)\"}'"
      ]
     },
     "execution_count": 143,
     "metadata": {},
     "output_type": "execute_result"
    }
   ],
   "source": [
    "df1.toJSON().first() # Convert df into a RDD of string"
   ]
  },
  {
   "cell_type": "code",
   "execution_count": 144,
   "id": "2c9b510b",
   "metadata": {},
   "outputs": [
    {
     "data": {
      "text/html": [
       "<div>\n",
       "<style scoped>\n",
       "    .dataframe tbody tr th:only-of-type {\n",
       "        vertical-align: middle;\n",
       "    }\n",
       "\n",
       "    .dataframe tbody tr th {\n",
       "        vertical-align: top;\n",
       "    }\n",
       "\n",
       "    .dataframe thead th {\n",
       "        text-align: right;\n",
       "    }\n",
       "</style>\n",
       "<table border=\"1\" class=\"dataframe\">\n",
       "  <thead>\n",
       "    <tr style=\"text-align: right;\">\n",
       "      <th></th>\n",
       "      <th>date</th>\n",
       "      <th>id</th>\n",
       "      <th>link</th>\n",
       "      <th>rating</th>\n",
       "      <th>title</th>\n",
       "    </tr>\n",
       "  </thead>\n",
       "  <tbody>\n",
       "    <tr>\n",
       "      <th>0</th>\n",
       "      <td>01-Jan-1995</td>\n",
       "      <td>1</td>\n",
       "      <td>http://us.imdb.com/M/title-exact?Toy%20Story%2...</td>\n",
       "      <td>[0, 0, 0, 1, 1, 1, 0, 0, 0, 0, 0, 0, 0, 0, 0, ...</td>\n",
       "      <td>Toy Story (1995)</td>\n",
       "    </tr>\n",
       "    <tr>\n",
       "      <th>1</th>\n",
       "      <td>01-Jan-1995</td>\n",
       "      <td>2</td>\n",
       "      <td>http://us.imdb.com/M/title-exact?GoldenEye%20(...</td>\n",
       "      <td>[0, 1, 1, 0, 0, 0, 0, 0, 0, 0, 0, 0, 0, 0, 0, ...</td>\n",
       "      <td>GoldenEye (1995)</td>\n",
       "    </tr>\n",
       "    <tr>\n",
       "      <th>2</th>\n",
       "      <td>01-Jan-1995</td>\n",
       "      <td>3</td>\n",
       "      <td>http://us.imdb.com/M/title-exact?Four%20Rooms%...</td>\n",
       "      <td>[0, 0, 0, 0, 0, 0, 0, 0, 0, 0, 0, 0, 0, 0, 0, ...</td>\n",
       "      <td>Four Rooms (1995)</td>\n",
       "    </tr>\n",
       "    <tr>\n",
       "      <th>3</th>\n",
       "      <td>01-Jan-1995</td>\n",
       "      <td>4</td>\n",
       "      <td>http://us.imdb.com/M/title-exact?Get%20Shorty%...</td>\n",
       "      <td>[0, 1, 0, 0, 0, 1, 0, 0, 1, 0, 0, 0, 0, 0, 0, ...</td>\n",
       "      <td>Get Shorty (1995)</td>\n",
       "    </tr>\n",
       "    <tr>\n",
       "      <th>4</th>\n",
       "      <td>01-Jan-1995</td>\n",
       "      <td>5</td>\n",
       "      <td>http://us.imdb.com/M/title-exact?Copycat%20(1995)</td>\n",
       "      <td>[0, 0, 0, 0, 0, 0, 1, 0, 1, 0, 0, 0, 0, 0, 0, ...</td>\n",
       "      <td>Copycat (1995)</td>\n",
       "    </tr>\n",
       "    <tr>\n",
       "      <th>...</th>\n",
       "      <td>...</td>\n",
       "      <td>...</td>\n",
       "      <td>...</td>\n",
       "      <td>...</td>\n",
       "      <td>...</td>\n",
       "    </tr>\n",
       "    <tr>\n",
       "      <th>1677</th>\n",
       "      <td>06-Feb-1998</td>\n",
       "      <td>1678</td>\n",
       "      <td>http://us.imdb.com/M/title-exact?Mat%27+i+syn+...</td>\n",
       "      <td>[0, 0, 0, 0, 0, 0, 0, 0, 1, 0, 0, 0, 0, 0, 0, ...</td>\n",
       "      <td>Mat' i syn (1997)</td>\n",
       "    </tr>\n",
       "    <tr>\n",
       "      <th>1678</th>\n",
       "      <td>06-Feb-1998</td>\n",
       "      <td>1679</td>\n",
       "      <td>http://us.imdb.com/M/title-exact?B%2E+Monkey+(...</td>\n",
       "      <td>[0, 0, 0, 0, 0, 0, 0, 0, 0, 0, 0, 0, 0, 0, 1, ...</td>\n",
       "      <td>B. Monkey (1998)</td>\n",
       "    </tr>\n",
       "    <tr>\n",
       "      <th>1679</th>\n",
       "      <td>01-Jan-1998</td>\n",
       "      <td>1680</td>\n",
       "      <td>http://us.imdb.com/Title?Sliding+Doors+(1998)</td>\n",
       "      <td>[0, 0, 0, 0, 0, 0, 0, 0, 1, 0, 0, 0, 0, 0, 1, ...</td>\n",
       "      <td>Sliding Doors (1998)</td>\n",
       "    </tr>\n",
       "    <tr>\n",
       "      <th>1680</th>\n",
       "      <td>01-Jan-1994</td>\n",
       "      <td>1681</td>\n",
       "      <td>http://us.imdb.com/M/title-exact?You%20So%20Cr...</td>\n",
       "      <td>[0, 0, 0, 0, 0, 1, 0, 0, 0, 0, 0, 0, 0, 0, 0, ...</td>\n",
       "      <td>You So Crazy (1994)</td>\n",
       "    </tr>\n",
       "    <tr>\n",
       "      <th>1681</th>\n",
       "      <td>08-Mar-1996</td>\n",
       "      <td>1682</td>\n",
       "      <td>http://us.imdb.com/M/title-exact?Schrei%20aus%...</td>\n",
       "      <td>[0, 0, 0, 0, 0, 0, 0, 0, 1, 0, 0, 0, 0, 0, 0, ...</td>\n",
       "      <td>Scream of Stone (Schrei aus Stein) (1991)</td>\n",
       "    </tr>\n",
       "  </tbody>\n",
       "</table>\n",
       "<p>1682 rows × 5 columns</p>\n",
       "</div>"
      ],
      "text/plain": [
       "             date    id                                               link  \\\n",
       "0     01-Jan-1995     1  http://us.imdb.com/M/title-exact?Toy%20Story%2...   \n",
       "1     01-Jan-1995     2  http://us.imdb.com/M/title-exact?GoldenEye%20(...   \n",
       "2     01-Jan-1995     3  http://us.imdb.com/M/title-exact?Four%20Rooms%...   \n",
       "3     01-Jan-1995     4  http://us.imdb.com/M/title-exact?Get%20Shorty%...   \n",
       "4     01-Jan-1995     5  http://us.imdb.com/M/title-exact?Copycat%20(1995)   \n",
       "...           ...   ...                                                ...   \n",
       "1677  06-Feb-1998  1678  http://us.imdb.com/M/title-exact?Mat%27+i+syn+...   \n",
       "1678  06-Feb-1998  1679  http://us.imdb.com/M/title-exact?B%2E+Monkey+(...   \n",
       "1679  01-Jan-1998  1680      http://us.imdb.com/Title?Sliding+Doors+(1998)   \n",
       "1680  01-Jan-1994  1681  http://us.imdb.com/M/title-exact?You%20So%20Cr...   \n",
       "1681  08-Mar-1996  1682  http://us.imdb.com/M/title-exact?Schrei%20aus%...   \n",
       "\n",
       "                                                 rating  \\\n",
       "0     [0, 0, 0, 1, 1, 1, 0, 0, 0, 0, 0, 0, 0, 0, 0, ...   \n",
       "1     [0, 1, 1, 0, 0, 0, 0, 0, 0, 0, 0, 0, 0, 0, 0, ...   \n",
       "2     [0, 0, 0, 0, 0, 0, 0, 0, 0, 0, 0, 0, 0, 0, 0, ...   \n",
       "3     [0, 1, 0, 0, 0, 1, 0, 0, 1, 0, 0, 0, 0, 0, 0, ...   \n",
       "4     [0, 0, 0, 0, 0, 0, 1, 0, 1, 0, 0, 0, 0, 0, 0, ...   \n",
       "...                                                 ...   \n",
       "1677  [0, 0, 0, 0, 0, 0, 0, 0, 1, 0, 0, 0, 0, 0, 0, ...   \n",
       "1678  [0, 0, 0, 0, 0, 0, 0, 0, 0, 0, 0, 0, 0, 0, 1, ...   \n",
       "1679  [0, 0, 0, 0, 0, 0, 0, 0, 1, 0, 0, 0, 0, 0, 1, ...   \n",
       "1680  [0, 0, 0, 0, 0, 1, 0, 0, 0, 0, 0, 0, 0, 0, 0, ...   \n",
       "1681  [0, 0, 0, 0, 0, 0, 0, 0, 1, 0, 0, 0, 0, 0, 0, ...   \n",
       "\n",
       "                                          title  \n",
       "0                              Toy Story (1995)  \n",
       "1                              GoldenEye (1995)  \n",
       "2                             Four Rooms (1995)  \n",
       "3                             Get Shorty (1995)  \n",
       "4                                Copycat (1995)  \n",
       "...                                         ...  \n",
       "1677                          Mat' i syn (1997)  \n",
       "1678                           B. Monkey (1998)  \n",
       "1679                       Sliding Doors (1998)  \n",
       "1680                        You So Crazy (1994)  \n",
       "1681  Scream of Stone (Schrei aus Stein) (1991)  \n",
       "\n",
       "[1682 rows x 5 columns]"
      ]
     },
     "execution_count": 144,
     "metadata": {},
     "output_type": "execute_result"
    }
   ],
   "source": [
    "df1.toPandas() # Return the contents of df as Pandas DataFrame"
   ]
  },
  {
   "cell_type": "markdown",
   "id": "a355f9c4",
   "metadata": {},
   "source": [
    "# Repartitioning"
   ]
  },
  {
   "cell_type": "code",
   "execution_count": 145,
   "id": "c1bc3b8f",
   "metadata": {},
   "outputs": [
    {
     "data": {
      "text/plain": [
       "10"
      ]
     },
     "execution_count": 145,
     "metadata": {},
     "output_type": "execute_result"
    }
   ],
   "source": [
    "# df with 10 partitions\n",
    "df1.repartition(10).rdd.getNumPartitions()"
   ]
  },
  {
   "cell_type": "code",
   "execution_count": 146,
   "id": "e5a6deb1",
   "metadata": {},
   "outputs": [
    {
     "data": {
      "text/plain": [
       "1"
      ]
     },
     "execution_count": 146,
     "metadata": {},
     "output_type": "execute_result"
    }
   ],
   "source": [
    "# df with 1 partition\n",
    "df1.coalesce(1).rdd.getNumPartitions() "
   ]
  },
  {
   "cell_type": "markdown",
   "id": "3634eb0d",
   "metadata": {},
   "source": [
    "# Registering DataFrames as Views"
   ]
  },
  {
   "cell_type": "code",
   "execution_count": 154,
   "id": "61cf2d85",
   "metadata": {},
   "outputs": [],
   "source": [
    "# Global permanent/non-replaceable Temp view\n",
    "df1.createGlobalTempView(\"df1\")"
   ]
  },
  {
   "cell_type": "code",
   "execution_count": 148,
   "id": "26556db6",
   "metadata": {},
   "outputs": [],
   "source": [
    "# Global replaceable Temp\n",
    "df2.createOrReplaceGlobalTempView(\"df2\")"
   ]
  },
  {
   "cell_type": "code",
   "execution_count": 155,
   "id": "7563c1ce",
   "metadata": {},
   "outputs": [],
   "source": [
    "# non-Global permanent/non-replaceable Temp view\n",
    "df3.createTempView(\"df3\")"
   ]
  },
  {
   "cell_type": "code",
   "execution_count": 150,
   "id": "69cf25d8",
   "metadata": {},
   "outputs": [],
   "source": [
    "# non-Global permanent/non-replaceable Temp view\n",
    "df4.createOrReplaceTempView(\"df4\")"
   ]
  },
  {
   "cell_type": "markdown",
   "id": "d068f581",
   "metadata": {},
   "source": [
    "# Query Views"
   ]
  },
  {
   "cell_type": "code",
   "execution_count": 162,
   "id": "4144bc68",
   "metadata": {},
   "outputs": [
    {
     "name": "stdout",
     "output_type": "stream",
     "text": [
      "+-----------+---+--------------------+--------------------+----------------+\n",
      "|       date| id|                link|              rating|           title|\n",
      "+-----------+---+--------------------+--------------------+----------------+\n",
      "|01-Jan-1995|  1|http://us.imdb.co...|[0, 0, 0, 1, 1, 1...|Toy Story (1995)|\n",
      "|01-Jan-1995|  2|http://us.imdb.co...|[0, 1, 1, 0, 0, 0...|GoldenEye (1995)|\n",
      "+-----------+---+--------------------+--------------------+----------------+\n",
      "only showing top 2 rows\n",
      "\n",
      "+-----------+---+--------------------+--------------------+----------------+\n",
      "|       date| id|                link|              rating|           title|\n",
      "+-----------+---+--------------------+--------------------+----------------+\n",
      "|01-Jan-1995|  1|http://us.imdb.co...|[0, 0, 0, 1, 1, 1...|Toy Story (1995)|\n",
      "|01-Jan-1995|  2|http://us.imdb.co...|[0, 1, 1, 0, 0, 0...|GoldenEye (1995)|\n",
      "+-----------+---+--------------------+--------------------+----------------+\n",
      "only showing top 2 rows\n",
      "\n"
     ]
    }
   ],
   "source": [
    "# Access global with new session\n",
    "spark.sql(\"SELECT * FROM global_temp.df1\").show(2)\n",
    "spark.newSession().sql(\"SELECT * FROM global_temp.df1\").show(2)"
   ]
  },
  {
   "cell_type": "code",
   "execution_count": 163,
   "id": "957090dc",
   "metadata": {},
   "outputs": [
    {
     "name": "stdout",
     "output_type": "stream",
     "text": [
      "+-----------+---+--------------------+--------------------+----------------+\n",
      "|       date| id|                link|              rating|           title|\n",
      "+-----------+---+--------------------+--------------------+----------------+\n",
      "|01-Jan-1995|  1|http://us.imdb.co...|[0, 0, 0, 1, 1, 1...|Toy Story (1995)|\n",
      "|01-Jan-1995|  2|http://us.imdb.co...|[0, 1, 1, 0, 0, 0...|GoldenEye (1995)|\n",
      "+-----------+---+--------------------+--------------------+----------------+\n",
      "only showing top 2 rows\n",
      "\n",
      "+---+----------------+----------+--------------------+\n",
      "| id|           title|      date|              rating|\n",
      "+---+----------------+----------+--------------------+\n",
      "|  1|Toy Story (1995)|1995-01-01|[0, 0, 0, 1, 1, 1...|\n",
      "|  2|GoldenEye (1995)|1995-01-01|[0, 1, 1, 0, 0, 0...|\n",
      "+---+----------------+----------+--------------------+\n",
      "only showing top 2 rows\n",
      "\n"
     ]
    }
   ],
   "source": [
    "# Access global with same session\n",
    "spark.sql(\"SELECT * FROM global_temp.df1\").show(2)\n",
    "spark.newSession().sql(\"SELECT * FROM global_temp.df2\").show(2)"
   ]
  },
  {
   "cell_type": "code",
   "execution_count": 164,
   "id": "eca78e89",
   "metadata": {},
   "outputs": [
    {
     "name": "stdout",
     "output_type": "stream",
     "text": [
      "+---+------------------+----------+--------------------+\n",
      "| id|        title_year|      date|              rating|\n",
      "+---+------------------+----------+--------------------+\n",
      "|  1| [Toy Story, 1995]|1995-01-01|[0, 0, 0, 1, 1, 1...|\n",
      "|  2| [GoldenEye, 1995]|1995-01-01|[0, 1, 1, 0, 0, 0...|\n",
      "|  3|[Four Rooms, 1995]|1995-01-01|[0, 0, 0, 0, 0, 0...|\n",
      "+---+------------------+----------+--------------------+\n",
      "only showing top 3 rows\n",
      "\n"
     ]
    },
    {
     "ename": "AnalysisException",
     "evalue": "'Table or view not found: df3; line 1 pos 14'",
     "output_type": "error",
     "traceback": [
      "\u001b[1;31m---------------------------------------------------------------------------\u001b[0m",
      "\u001b[1;31mPy4JJavaError\u001b[0m                             Traceback (most recent call last)",
      "\u001b[1;32md:\\projects\\python\\pyspark\\env-win-v3.7.9\\lib\\site-packages\\pyspark\\sql\\utils.py\u001b[0m in \u001b[0;36mdeco\u001b[1;34m(*a, **kw)\u001b[0m\n\u001b[0;32m     62\u001b[0m         \u001b[1;32mtry\u001b[0m\u001b[1;33m:\u001b[0m\u001b[1;33m\u001b[0m\u001b[1;33m\u001b[0m\u001b[0m\n\u001b[1;32m---> 63\u001b[1;33m             \u001b[1;32mreturn\u001b[0m \u001b[0mf\u001b[0m\u001b[1;33m(\u001b[0m\u001b[1;33m*\u001b[0m\u001b[0ma\u001b[0m\u001b[1;33m,\u001b[0m \u001b[1;33m**\u001b[0m\u001b[0mkw\u001b[0m\u001b[1;33m)\u001b[0m\u001b[1;33m\u001b[0m\u001b[1;33m\u001b[0m\u001b[0m\n\u001b[0m\u001b[0;32m     64\u001b[0m         \u001b[1;32mexcept\u001b[0m \u001b[0mpy4j\u001b[0m\u001b[1;33m.\u001b[0m\u001b[0mprotocol\u001b[0m\u001b[1;33m.\u001b[0m\u001b[0mPy4JJavaError\u001b[0m \u001b[1;32mas\u001b[0m \u001b[0me\u001b[0m\u001b[1;33m:\u001b[0m\u001b[1;33m\u001b[0m\u001b[1;33m\u001b[0m\u001b[0m\n",
      "\u001b[1;32md:\\projects\\python\\pyspark\\env-win-v3.7.9\\lib\\site-packages\\py4j\\protocol.py\u001b[0m in \u001b[0;36mget_return_value\u001b[1;34m(answer, gateway_client, target_id, name)\u001b[0m\n\u001b[0;32m    327\u001b[0m                     \u001b[1;34m\"An error occurred while calling {0}{1}{2}.\\n\"\u001b[0m\u001b[1;33m.\u001b[0m\u001b[1;33m\u001b[0m\u001b[1;33m\u001b[0m\u001b[0m\n\u001b[1;32m--> 328\u001b[1;33m                     format(target_id, \".\", name), value)\n\u001b[0m\u001b[0;32m    329\u001b[0m             \u001b[1;32melse\u001b[0m\u001b[1;33m:\u001b[0m\u001b[1;33m\u001b[0m\u001b[1;33m\u001b[0m\u001b[0m\n",
      "\u001b[1;31mPy4JJavaError\u001b[0m: An error occurred while calling o2504.sql.\n: org.apache.spark.sql.AnalysisException: Table or view not found: df3; line 1 pos 14\r\n\tat org.apache.spark.sql.catalyst.analysis.package$AnalysisErrorAt.failAnalysis(package.scala:47)\r\n\tat org.apache.spark.sql.catalyst.analysis.Analyzer$ResolveRelations$.org$apache$spark$sql$catalyst$analysis$Analyzer$ResolveRelations$$lookupTableFromCatalog(Analyzer.scala:798)\r\n\tat org.apache.spark.sql.catalyst.analysis.Analyzer$ResolveRelations$.resolveRelation(Analyzer.scala:750)\r\n\tat org.apache.spark.sql.catalyst.analysis.Analyzer$ResolveRelations$$anonfun$apply$8.applyOrElse(Analyzer.scala:780)\r\n\tat org.apache.spark.sql.catalyst.analysis.Analyzer$ResolveRelations$$anonfun$apply$8.applyOrElse(Analyzer.scala:773)\r\n\tat org.apache.spark.sql.catalyst.plans.logical.AnalysisHelper$$anonfun$resolveOperatorsUp$1$$anonfun$apply$1.apply(AnalysisHelper.scala:90)\r\n\tat org.apache.spark.sql.catalyst.plans.logical.AnalysisHelper$$anonfun$resolveOperatorsUp$1$$anonfun$apply$1.apply(AnalysisHelper.scala:90)\r\n\tat org.apache.spark.sql.catalyst.trees.CurrentOrigin$.withOrigin(TreeNode.scala:69)\r\n\tat org.apache.spark.sql.catalyst.plans.logical.AnalysisHelper$$anonfun$resolveOperatorsUp$1.apply(AnalysisHelper.scala:89)\r\n\tat org.apache.spark.sql.catalyst.plans.logical.AnalysisHelper$$anonfun$resolveOperatorsUp$1.apply(AnalysisHelper.scala:86)\r\n\tat org.apache.spark.sql.catalyst.plans.logical.AnalysisHelper$.allowInvokingTransformsInAnalyzer(AnalysisHelper.scala:194)\r\n\tat org.apache.spark.sql.catalyst.plans.logical.AnalysisHelper$class.resolveOperatorsUp(AnalysisHelper.scala:86)\r\n\tat org.apache.spark.sql.catalyst.plans.logical.LogicalPlan.resolveOperatorsUp(LogicalPlan.scala:29)\r\n\tat org.apache.spark.sql.catalyst.plans.logical.AnalysisHelper$$anonfun$resolveOperatorsUp$1$$anonfun$1.apply(AnalysisHelper.scala:87)\r\n\tat org.apache.spark.sql.catalyst.plans.logical.AnalysisHelper$$anonfun$resolveOperatorsUp$1$$anonfun$1.apply(AnalysisHelper.scala:87)\r\n\tat org.apache.spark.sql.catalyst.trees.TreeNode$$anonfun$4.apply(TreeNode.scala:328)\r\n\tat org.apache.spark.sql.catalyst.trees.TreeNode.mapProductIterator(TreeNode.scala:186)\r\n\tat org.apache.spark.sql.catalyst.trees.TreeNode.mapChildren(TreeNode.scala:326)\r\n\tat org.apache.spark.sql.catalyst.plans.logical.AnalysisHelper$$anonfun$resolveOperatorsUp$1.apply(AnalysisHelper.scala:87)\r\n\tat org.apache.spark.sql.catalyst.plans.logical.AnalysisHelper$$anonfun$resolveOperatorsUp$1.apply(AnalysisHelper.scala:86)\r\n\tat org.apache.spark.sql.catalyst.plans.logical.AnalysisHelper$.allowInvokingTransformsInAnalyzer(AnalysisHelper.scala:194)\r\n\tat org.apache.spark.sql.catalyst.plans.logical.AnalysisHelper$class.resolveOperatorsUp(AnalysisHelper.scala:86)\r\n\tat org.apache.spark.sql.catalyst.plans.logical.LogicalPlan.resolveOperatorsUp(LogicalPlan.scala:29)\r\n\tat org.apache.spark.sql.catalyst.analysis.Analyzer$ResolveRelations$.apply(Analyzer.scala:773)\r\n\tat org.apache.spark.sql.catalyst.analysis.Analyzer$ResolveRelations$.apply(Analyzer.scala:719)\r\n\tat org.apache.spark.sql.catalyst.rules.RuleExecutor$$anonfun$execute$1$$anonfun$apply$1.apply(RuleExecutor.scala:87)\r\n\tat org.apache.spark.sql.catalyst.rules.RuleExecutor$$anonfun$execute$1$$anonfun$apply$1.apply(RuleExecutor.scala:84)\r\n\tat scala.collection.LinearSeqOptimized$class.foldLeft(LinearSeqOptimized.scala:124)\r\n\tat scala.collection.immutable.List.foldLeft(List.scala:84)\r\n\tat org.apache.spark.sql.catalyst.rules.RuleExecutor$$anonfun$execute$1.apply(RuleExecutor.scala:84)\r\n\tat org.apache.spark.sql.catalyst.rules.RuleExecutor$$anonfun$execute$1.apply(RuleExecutor.scala:76)\r\n\tat scala.collection.immutable.List.foreach(List.scala:392)\r\n\tat org.apache.spark.sql.catalyst.rules.RuleExecutor.execute(RuleExecutor.scala:76)\r\n\tat org.apache.spark.sql.catalyst.analysis.Analyzer.org$apache$spark$sql$catalyst$analysis$Analyzer$$executeSameContext(Analyzer.scala:127)\r\n\tat org.apache.spark.sql.catalyst.analysis.Analyzer.execute(Analyzer.scala:121)\r\n\tat org.apache.spark.sql.catalyst.analysis.Analyzer$$anonfun$executeAndCheck$1.apply(Analyzer.scala:106)\r\n\tat org.apache.spark.sql.catalyst.analysis.Analyzer$$anonfun$executeAndCheck$1.apply(Analyzer.scala:105)\r\n\tat org.apache.spark.sql.catalyst.plans.logical.AnalysisHelper$.markInAnalyzer(AnalysisHelper.scala:201)\r\n\tat org.apache.spark.sql.catalyst.analysis.Analyzer.executeAndCheck(Analyzer.scala:105)\r\n\tat org.apache.spark.sql.execution.QueryExecution.analyzed$lzycompute(QueryExecution.scala:58)\r\n\tat org.apache.spark.sql.execution.QueryExecution.analyzed(QueryExecution.scala:56)\r\n\tat org.apache.spark.sql.execution.QueryExecution.assertAnalyzed(QueryExecution.scala:48)\r\n\tat org.apache.spark.sql.Dataset$.ofRows(Dataset.scala:78)\r\n\tat org.apache.spark.sql.SparkSession.sql(SparkSession.scala:643)\r\n\tat sun.reflect.GeneratedMethodAccessor216.invoke(Unknown Source)\r\n\tat sun.reflect.DelegatingMethodAccessorImpl.invoke(DelegatingMethodAccessorImpl.java:43)\r\n\tat java.lang.reflect.Method.invoke(Method.java:498)\r\n\tat py4j.reflection.MethodInvoker.invoke(MethodInvoker.java:244)\r\n\tat py4j.reflection.ReflectionEngine.invoke(ReflectionEngine.java:357)\r\n\tat py4j.Gateway.invoke(Gateway.java:282)\r\n\tat py4j.commands.AbstractCommand.invokeMethod(AbstractCommand.java:132)\r\n\tat py4j.commands.CallCommand.execute(CallCommand.java:79)\r\n\tat py4j.GatewayConnection.run(GatewayConnection.java:238)\r\n\tat java.lang.Thread.run(Thread.java:748)\r\nCaused by: org.apache.spark.sql.catalyst.analysis.NoSuchTableException: Table or view 'df3' not found in database 'default';\r\n\tat org.apache.spark.sql.catalyst.catalog.ExternalCatalog$class.requireTableExists(ExternalCatalog.scala:48)\r\n\tat org.apache.spark.sql.catalyst.catalog.InMemoryCatalog.requireTableExists(InMemoryCatalog.scala:45)\r\n\tat org.apache.spark.sql.catalyst.catalog.InMemoryCatalog.getTable(InMemoryCatalog.scala:326)\r\n\tat org.apache.spark.sql.catalyst.catalog.ExternalCatalogWithListener.getTable(ExternalCatalogWithListener.scala:138)\r\n\tat org.apache.spark.sql.catalyst.catalog.SessionCatalog.lookupRelation(SessionCatalog.scala:706)\r\n\tat org.apache.spark.sql.catalyst.analysis.Analyzer$ResolveRelations$.org$apache$spark$sql$catalyst$analysis$Analyzer$ResolveRelations$$lookupTableFromCatalog(Analyzer.scala:795)\r\n\t... 52 more\r\n",
      "\nDuring handling of the above exception, another exception occurred:\n",
      "\u001b[1;31mAnalysisException\u001b[0m                         Traceback (most recent call last)",
      "\u001b[1;32mC:\\Users\\DMS240~1\\AppData\\Local\\Temp/ipykernel_18804/1719011751.py\u001b[0m in \u001b[0;36m<module>\u001b[1;34m\u001b[0m\n\u001b[0;32m      3\u001b[0m \u001b[1;33m\u001b[0m\u001b[0m\n\u001b[0;32m      4\u001b[0m \u001b[1;31m# Access local with new session\u001b[0m\u001b[1;33m\u001b[0m\u001b[1;33m\u001b[0m\u001b[1;33m\u001b[0m\u001b[0m\n\u001b[1;32m----> 5\u001b[1;33m \u001b[0mspark\u001b[0m\u001b[1;33m.\u001b[0m\u001b[0mnewSession\u001b[0m\u001b[1;33m(\u001b[0m\u001b[1;33m)\u001b[0m\u001b[1;33m.\u001b[0m\u001b[0msql\u001b[0m\u001b[1;33m(\u001b[0m\u001b[1;34m\"SELECT * FROM df3\"\u001b[0m\u001b[1;33m)\u001b[0m\u001b[1;33m.\u001b[0m\u001b[0mshow\u001b[0m\u001b[1;33m(\u001b[0m\u001b[1;36m3\u001b[0m\u001b[1;33m)\u001b[0m\u001b[1;33m\u001b[0m\u001b[1;33m\u001b[0m\u001b[0m\n\u001b[0m",
      "\u001b[1;32md:\\projects\\python\\pyspark\\env-win-v3.7.9\\lib\\site-packages\\pyspark\\sql\\session.py\u001b[0m in \u001b[0;36msql\u001b[1;34m(self, sqlQuery)\u001b[0m\n\u001b[0;32m    765\u001b[0m         \u001b[1;33m[\u001b[0m\u001b[0mRow\u001b[0m\u001b[1;33m(\u001b[0m\u001b[0mf1\u001b[0m\u001b[1;33m=\u001b[0m\u001b[1;36m1\u001b[0m\u001b[1;33m,\u001b[0m \u001b[0mf2\u001b[0m\u001b[1;33m=\u001b[0m\u001b[1;34mu'row1'\u001b[0m\u001b[1;33m)\u001b[0m\u001b[1;33m,\u001b[0m \u001b[0mRow\u001b[0m\u001b[1;33m(\u001b[0m\u001b[0mf1\u001b[0m\u001b[1;33m=\u001b[0m\u001b[1;36m2\u001b[0m\u001b[1;33m,\u001b[0m \u001b[0mf2\u001b[0m\u001b[1;33m=\u001b[0m\u001b[1;34mu'row2'\u001b[0m\u001b[1;33m)\u001b[0m\u001b[1;33m,\u001b[0m \u001b[0mRow\u001b[0m\u001b[1;33m(\u001b[0m\u001b[0mf1\u001b[0m\u001b[1;33m=\u001b[0m\u001b[1;36m3\u001b[0m\u001b[1;33m,\u001b[0m \u001b[0mf2\u001b[0m\u001b[1;33m=\u001b[0m\u001b[1;34mu'row3'\u001b[0m\u001b[1;33m)\u001b[0m\u001b[1;33m]\u001b[0m\u001b[1;33m\u001b[0m\u001b[1;33m\u001b[0m\u001b[0m\n\u001b[0;32m    766\u001b[0m         \"\"\"\n\u001b[1;32m--> 767\u001b[1;33m         \u001b[1;32mreturn\u001b[0m \u001b[0mDataFrame\u001b[0m\u001b[1;33m(\u001b[0m\u001b[0mself\u001b[0m\u001b[1;33m.\u001b[0m\u001b[0m_jsparkSession\u001b[0m\u001b[1;33m.\u001b[0m\u001b[0msql\u001b[0m\u001b[1;33m(\u001b[0m\u001b[0msqlQuery\u001b[0m\u001b[1;33m)\u001b[0m\u001b[1;33m,\u001b[0m \u001b[0mself\u001b[0m\u001b[1;33m.\u001b[0m\u001b[0m_wrapped\u001b[0m\u001b[1;33m)\u001b[0m\u001b[1;33m\u001b[0m\u001b[1;33m\u001b[0m\u001b[0m\n\u001b[0m\u001b[0;32m    768\u001b[0m \u001b[1;33m\u001b[0m\u001b[0m\n\u001b[0;32m    769\u001b[0m     \u001b[1;33m@\u001b[0m\u001b[0msince\u001b[0m\u001b[1;33m(\u001b[0m\u001b[1;36m2.0\u001b[0m\u001b[1;33m)\u001b[0m\u001b[1;33m\u001b[0m\u001b[1;33m\u001b[0m\u001b[0m\n",
      "\u001b[1;32md:\\projects\\python\\pyspark\\env-win-v3.7.9\\lib\\site-packages\\py4j\\java_gateway.py\u001b[0m in \u001b[0;36m__call__\u001b[1;34m(self, *args)\u001b[0m\n\u001b[0;32m   1255\u001b[0m         \u001b[0manswer\u001b[0m \u001b[1;33m=\u001b[0m \u001b[0mself\u001b[0m\u001b[1;33m.\u001b[0m\u001b[0mgateway_client\u001b[0m\u001b[1;33m.\u001b[0m\u001b[0msend_command\u001b[0m\u001b[1;33m(\u001b[0m\u001b[0mcommand\u001b[0m\u001b[1;33m)\u001b[0m\u001b[1;33m\u001b[0m\u001b[1;33m\u001b[0m\u001b[0m\n\u001b[0;32m   1256\u001b[0m         return_value = get_return_value(\n\u001b[1;32m-> 1257\u001b[1;33m             answer, self.gateway_client, self.target_id, self.name)\n\u001b[0m\u001b[0;32m   1258\u001b[0m \u001b[1;33m\u001b[0m\u001b[0m\n\u001b[0;32m   1259\u001b[0m         \u001b[1;32mfor\u001b[0m \u001b[0mtemp_arg\u001b[0m \u001b[1;32min\u001b[0m \u001b[0mtemp_args\u001b[0m\u001b[1;33m:\u001b[0m\u001b[1;33m\u001b[0m\u001b[1;33m\u001b[0m\u001b[0m\n",
      "\u001b[1;32md:\\projects\\python\\pyspark\\env-win-v3.7.9\\lib\\site-packages\\pyspark\\sql\\utils.py\u001b[0m in \u001b[0;36mdeco\u001b[1;34m(*a, **kw)\u001b[0m\n\u001b[0;32m     67\u001b[0m                                              e.java_exception.getStackTrace()))\n\u001b[0;32m     68\u001b[0m             \u001b[1;32mif\u001b[0m \u001b[0ms\u001b[0m\u001b[1;33m.\u001b[0m\u001b[0mstartswith\u001b[0m\u001b[1;33m(\u001b[0m\u001b[1;34m'org.apache.spark.sql.AnalysisException: '\u001b[0m\u001b[1;33m)\u001b[0m\u001b[1;33m:\u001b[0m\u001b[1;33m\u001b[0m\u001b[1;33m\u001b[0m\u001b[0m\n\u001b[1;32m---> 69\u001b[1;33m                 \u001b[1;32mraise\u001b[0m \u001b[0mAnalysisException\u001b[0m\u001b[1;33m(\u001b[0m\u001b[0ms\u001b[0m\u001b[1;33m.\u001b[0m\u001b[0msplit\u001b[0m\u001b[1;33m(\u001b[0m\u001b[1;34m': '\u001b[0m\u001b[1;33m,\u001b[0m \u001b[1;36m1\u001b[0m\u001b[1;33m)\u001b[0m\u001b[1;33m[\u001b[0m\u001b[1;36m1\u001b[0m\u001b[1;33m]\u001b[0m\u001b[1;33m,\u001b[0m \u001b[0mstackTrace\u001b[0m\u001b[1;33m)\u001b[0m\u001b[1;33m\u001b[0m\u001b[1;33m\u001b[0m\u001b[0m\n\u001b[0m\u001b[0;32m     70\u001b[0m             \u001b[1;32mif\u001b[0m \u001b[0ms\u001b[0m\u001b[1;33m.\u001b[0m\u001b[0mstartswith\u001b[0m\u001b[1;33m(\u001b[0m\u001b[1;34m'org.apache.spark.sql.catalyst.analysis'\u001b[0m\u001b[1;33m)\u001b[0m\u001b[1;33m:\u001b[0m\u001b[1;33m\u001b[0m\u001b[1;33m\u001b[0m\u001b[0m\n\u001b[0;32m     71\u001b[0m                 \u001b[1;32mraise\u001b[0m \u001b[0mAnalysisException\u001b[0m\u001b[1;33m(\u001b[0m\u001b[0ms\u001b[0m\u001b[1;33m.\u001b[0m\u001b[0msplit\u001b[0m\u001b[1;33m(\u001b[0m\u001b[1;34m': '\u001b[0m\u001b[1;33m,\u001b[0m \u001b[1;36m1\u001b[0m\u001b[1;33m)\u001b[0m\u001b[1;33m[\u001b[0m\u001b[1;36m1\u001b[0m\u001b[1;33m]\u001b[0m\u001b[1;33m,\u001b[0m \u001b[0mstackTrace\u001b[0m\u001b[1;33m)\u001b[0m\u001b[1;33m\u001b[0m\u001b[1;33m\u001b[0m\u001b[0m\n",
      "\u001b[1;31mAnalysisException\u001b[0m: 'Table or view not found: df3; line 1 pos 14'"
     ]
    }
   ],
   "source": [
    "# Access local with same session\n",
    "spark.sql(\"SELECT * FROM df3\").show(3)\n",
    "\n",
    "# Access local with new session\n",
    "spark.newSession().sql(\"SELECT * FROM df3\").show(3)"
   ]
  },
  {
   "cell_type": "markdown",
   "id": "294c4725",
   "metadata": {},
   "source": [
    "# Write & Save to Files"
   ]
  },
  {
   "cell_type": "markdown",
   "id": "c93972d8",
   "metadata": {},
   "source": [
    "1. \"errorifexists\" or \"error\" is default, if data exists\n",
    "2. \"append\" data is added to new file with or without coalesce\n",
    "3. \"overwrite\" overwrites the data\n",
    "4. \"ignore\" data is not written even if data is new, old remains intact\n",
    "---\n",
    "1. partitionBy divides data into folders by the partition names as partitionBy col, but partitionBy col is not saved to file. used by save and saveAsTable \n",
    "2. bucketBy with saveAsTable\n",
    "3. sortBy with saveAsTable, must be used together with bucketBy; but first bucket it then sort it"
   ]
  },
  {
   "cell_type": "code",
   "execution_count": 169,
   "id": "dbb9a735",
   "metadata": {},
   "outputs": [],
   "source": [
    "df1.select(\"id\", \"title\").write.mode('error').save(\"save/dfdemo1.parquet\")"
   ]
  },
  {
   "cell_type": "code",
   "execution_count": 66,
   "id": "64a3d8b6",
   "metadata": {},
   "outputs": [],
   "source": [
    "df1.coalesce(1).select(\"id\", \"title\",\"date\").write.mode(\"append\").save(\"save/dfdemo2.json\",format=\"json\")"
   ]
  },
  {
   "cell_type": "code",
   "execution_count": 184,
   "id": "ab819a17",
   "metadata": {},
   "outputs": [],
   "source": [
    "df3.select(col(\"title_year.year\").alias(\"year\"),col(\"title_year.title\").alias(\"title\")).coalesce(1).write.format(\"json\").mode(\n",
    "    \"overwrite\").partitionBy(\"year\").save(\"save/dfdemo4.json\")"
   ]
  },
  {
   "cell_type": "code",
   "execution_count": 179,
   "id": "31223e2a",
   "metadata": {},
   "outputs": [],
   "source": [
    "df4.coalesce(1).write.mode(\"ignore\").format(\"csv\").save(\"save/dfdemo5.csv\")\n",
    "df4.coalesce(1).write.mode(\"ignore\").option(\"header\", \"true\").format(\"csv\").option(\"header\", \"true\").save(\"save/dfdemo6.csv\")\n",
    "df4.coalesce(1).write.option(\"header\", \"true\").mode(\"ignore\").option(\"header\", \"true\").format(\"csv\").save(\"save/dfdemo7.csv\")"
   ]
  },
  {
   "cell_type": "code",
   "execution_count": 192,
   "id": "ea62a6f9",
   "metadata": {},
   "outputs": [
    {
     "name": "stdout",
     "output_type": "stream",
     "text": [
      "+----+--------------------+\n",
      "|year|               title|\n",
      "+----+--------------------+\n",
      "|1967|       Belle de jour|\n",
      "|1992|             Aladdin|\n",
      "|1991|Terminator 2: Jud...|\n",
      "|1991|Silence of the La...|\n",
      "|1992|            Supercop|\n",
      "|1968|2001: A Space Ody...|\n",
      "|1992|  Lawnmower Man, The|\n",
      "|1987|       Dirty Dancing|\n",
      "|1992|      Reservoir Dogs|\n",
      "|1992|      Basic Instinct|\n",
      "|1992| Glengarry Glen Ross|\n",
      "|1980|    Private Benjamin|\n",
      "|1991|        Delicatessen|\n",
      "|1980|Empire Strikes Ba...|\n",
      "|1987| Princess Bride, The|\n",
      "|1980| Blues Brothers, The|\n",
      "|1987|   Full Metal Jacket|\n",
      "|1992|    Grand Day Out, A|\n",
      "|1980|         Raging Bull|\n",
      "|1967|       Graduate, The|\n",
      "|1980|        Shining, The|\n",
      "|1987|        Evil Dead II|\n",
      "|1992|          Unforgiven|\n",
      "|1992|Bram Stoker's Dra...|\n",
      "|1991|           Cape Fear|\n",
      "|1991|Star Trek VI: The...|\n",
      "|1992|      Batman Returns|\n",
      "|1992|         Under Siege|\n",
      "|1987|     Raising Arizona|\n",
      "|1992|            Sneakers|\n",
      "|1992|Last of the Mohic...|\n",
      "|1997|       Jungle2Jungle|\n",
      "|1997|Smilla's Sense of...|\n",
      "|1997|    Devil's Own, The|\n",
      "|1997|         Chasing Amy|\n",
      "|1997|Turbo: A Power Ra...|\n",
      "|1997| Grosse Pointe Blank|\n",
      "|1997|Austin Powers: In...|\n",
      "|1997|  Fifth Element, The|\n",
      "|1997|Lost World: Juras...|\n",
      "|1997|      Batman & Robin|\n",
      "|1997|My Best Friend's ...|\n",
      "|1997|        Men in Black|\n",
      "|1997|             Contact|\n",
      "|1997|George of the Jungle|\n",
      "|1997|       Event Horizon|\n",
      "|1997|             Air Bud|\n",
      "|1997|In the Company of...|\n",
      "|1997|               Steel|\n",
      "|1997|               Mimic|\n",
      "|1997|  Kull the Conqueror|\n",
      "|1997|         Chasing Amy|\n",
      "|1997|     Full Monty, The|\n",
      "|1997|             Gattaca|\n",
      "|1997|   Starship Troopers|\n",
      "|1997|   Good Will Hunting|\n",
      "|1997|    Fierce Creatures|\n",
      "|1997|      Absolute Power|\n",
      "|1997|            Rosewood|\n",
      "|1997|       Donnie Brasco|\n",
      "|1997|           Liar Liar|\n",
      "|1997|           Breakdown|\n",
      "|1997|         Ulee's Gold|\n",
      "|1997|            Face/Off|\n",
      "|1997|             Hoodlum|\n",
      "|1997|       Air Force One|\n",
      "|1997|            In & Out|\n",
      "|1997|   L.A. Confidential|\n",
      "|1997|         Ulee's Gold|\n",
      "|1997|      Ice Storm, The|\n",
      "|1997|Mrs. Brown (Her M...|\n",
      "|1997|Devil's Advocate,...|\n",
      "|1997|FairyTale: A True...|\n",
      "|1997|            Deceiver|\n",
      "|1997|      Rainmaker, The|\n",
      "|1997|Wings of the Dove...|\n",
      "|1997|Midnight in the G...|\n",
      "|1997|             Titanic|\n",
      "|1997|  As Good As It Gets|\n",
      "|1997|      Murder at 1600|\n",
      "|1997|        Dante's Peak|\n",
      "|1997|        Lost Highway|\n",
      "|1997|           G.I. Jane|\n",
      "|1997|            Cop Land|\n",
      "|1997|   Conspiracy Theory|\n",
      "|1997|                 187|\n",
      "|1997|           Edge, The|\n",
      "|1997|      Kiss the Girls|\n",
      "|1997|           Game, The|\n",
      "|1997|              U Turn|\n",
      "|1997|  How to Be a Player|\n",
      "|1997|         Playing God|\n",
      "|1997|   House of Yes, The|\n",
      "|1997|                Bean|\n",
      "|1997|            Mad City|\n",
      "|1997|       Boogie Nights|\n",
      "|1997|       Critical Care|\n",
      "|1997|Man Who Knew Too ...|\n",
      "|1997| Alien: Resurrection|\n",
      "|1997|        Apostle, The|\n",
      "+----+--------------------+\n",
      "only showing top 100 rows\n",
      "\n"
     ]
    }
   ],
   "source": [
    "df3.select(col(\"title_year.year\").alias(\"year\"),col(\"title_year.title\").alias(\"title\")).coalesce(1\n",
    "    ).write.bucketBy(5, \"year\").mode(\"overwrite\").saveAsTable(\"yearwise_bucked\")\n",
    "spark.sql(\"SELECT * FROM yearwise_bucked\").show(100)"
   ]
  },
  {
   "cell_type": "code",
   "execution_count": 194,
   "id": "5506d72c",
   "metadata": {},
   "outputs": [
    {
     "name": "stdout",
     "output_type": "stream",
     "text": [
      "+----+--------------------+\n",
      "|year|               title|\n",
      "+----+--------------------+\n",
      "|1997|  'Til There Was You|\n",
      "|1997|                 187|\n",
      "|1968|2001: A Space Ody...|\n",
      "|1963|               8 1/2|\n",
      "|1997|8 Heads in a Duff...|\n",
      "|1997|      Absolute Power|\n",
      "|1997|    Addicted to Love|\n",
      "|1997|           Afterglow|\n",
      "|1997|             Air Bud|\n",
      "|1997|       Air Force One|\n",
      "|1992|             Aladdin|\n",
      "|1992|             Alien 3|\n",
      "|1997| Alien: Resurrection|\n",
      "|1997|         All Over Me|\n",
      "|1997|             Amistad|\n",
      "|1992|Amityville 1992: ...|\n",
      "|1997|            Anaconda|\n",
      "|1997|           Anastasia|\n",
      "|1997|       Anna Karenina|\n",
      "|1997|        Apostle, The|\n",
      "|1997|  As Good As It Gets|\n",
      "|1997|     Assignment, The|\n",
      "|1997|Austin Powers: In...|\n",
      "|1997|Ayn Rand: A Sense...|\n",
      "|1997|             B*A*P*S|\n",
      "|1987|           Bad Taste|\n",
      "|1968|          Barbarella|\n",
      "|1992|      Basic Instinct|\n",
      "|1997|      Batman & Robin|\n",
      "|1992|      Batman Returns|\n",
      "|1997|                Bean|\n",
      "|1997|Beautician and th...|\n",
      "|1991|Beauty and the Beast|\n",
      "|1987|      Believers, The|\n",
      "|1967|       Belle de jour|\n",
      "|1997|                Bent|\n",
      "|1997|            Best Men|\n",
      "|1997| Beverly Hills Ninja|\n",
      "|1997|        Big One, The|\n",
      "|1963|          Birds, The|\n",
      "|1992|         Bitter Moon|\n",
      "|1997|               Bliss|\n",
      "|1997|        Blood & Wine|\n",
      "|1980| Blues Brothers, The|\n",
      "|1992|         Bob Roberts|\n",
      "|1991|          Body Parts|\n",
      "|1967|    Bonnie and Clyde|\n",
      "|1997|       Boogie Nights|\n",
      "|1992|           Boomerang|\n",
      "|1997|          Booty Call|\n",
      "|1997|        Boy's Life 2|\n",
      "|1997|           Boys, Les|\n",
      "|1992|           Braindead|\n",
      "|1992|Bram Stoker's Dra...|\n",
      "|1997|           Breakdown|\n",
      "|1997|   Brother's Kiss, A|\n",
      "|1997|               Buddy|\n",
      "|1992|C'est arriv� pr�s...|\n",
      "|1992|            Candyman|\n",
      "|1991|           Cape Fear|\n",
      "|1997|        Career Girls|\n",
      "|1992|             Careful|\n",
      "|1942|          Casablanca|\n",
      "|1997|    Cats Don't Dance|\n",
      "|1963|             Charade|\n",
      "|1997|         Chasing Amy|\n",
      "|1997|         Chasing Amy|\n",
      "|1997|    City of Industry|\n",
      "|1967| Collectionneuse, La|\n",
      "|1997|        Commandments|\n",
      "|1997|             Con Air|\n",
      "|1997|   Conspiracy Theory|\n",
      "|1997|             Contact|\n",
      "|1963|Contempt (M�pris,...|\n",
      "|1967|      Cool Hand Luke|\n",
      "|1997|            Cop Land|\n",
      "|1997|       Critical Care|\n",
      "|1992|              Cronos|\n",
      "|1992|    Crying Game, The|\n",
      "|1992|               Daens|\n",
      "|1997|    Dangerous Ground|\n",
      "|1997|        Dante's Peak|\n",
      "|1991|  Death in Brunswick|\n",
      "|1997|            Deceiver|\n",
      "|1997|            Deceiver|\n",
      "|1997|Deconstructing Harry|\n",
      "|1991|        Delicatessen|\n",
      "|1997|Designated Mourne...|\n",
      "|1997|Designated Mourne...|\n",
      "|1997|Devil's Advocate,...|\n",
      "|1997|    Devil's Own, The|\n",
      "|1992|               Dingo|\n",
      "|1987|       Dirty Dancing|\n",
      "|1997|       Donnie Brasco|\n",
      "|1991|          Doors, The|\n",
      "|1997|         Double Team|\n",
      "|1991|Double vie de V�r...|\n",
      "|1963|Dr. Strangelove o...|\n",
      "|1997|Dream With the Fi...|\n",
      "|1991|      Drop Dead Fred|\n",
      "+----+--------------------+\n",
      "only showing top 100 rows\n",
      "\n"
     ]
    }
   ],
   "source": [
    "df3.select(col(\"title_year.year\").alias(\"year\"),col(\"title_year.title\").alias(\"title\")).coalesce(1\n",
    "    ).write.bucketBy(5, \"year\").sortBy(\"title\").mode(\"overwrite\").saveAsTable(\"title_sorted\")\n",
    "spark.sql(\"SELECT * FROM title_sorted\").show(100)"
   ]
  },
  {
   "cell_type": "code",
   "execution_count": 17,
   "id": "64fa9555",
   "metadata": {},
   "outputs": [],
   "source": [
    "# from database\n",
    "# restart jupyter if it doesn't work\n",
    "user='root';pw='24081999'\n",
    "table_name='baz1' \n",
    "# creates new table, doesn't write to same table without overwrite\n",
    "# table schema must be same as DF schema\n",
    "# appends with same id's, if MySQL official schema in db is not UNIQUE\n",
    "\n",
    "# mysql://[user[:password]@][netloc][:port][/dbname][?param1=value1&...]\n",
    "url=\"jdbc:mysql://localhost:3306/oneqshopv1\"\n",
    "properties = {\n",
    "    \"user\": user,\n",
    "    \"password\": pw\n",
    "}\n",
    "df_db1.write.option(\"driver\", \"com.mysql.jdbc.Driver\").mode(\"append\").jdbc(url=url,table=table_name,properties=properties)\n",
    "# df_db1.show()"
   ]
  },
  {
   "cell_type": "code",
   "execution_count": 268,
   "id": "e204ac74",
   "metadata": {},
   "outputs": [],
   "source": [
    "# invalid, saves as parquet without format definition\n",
    "df1.select(\"id\", \"title\").write.save(\"save/dfdemo3.json\")"
   ]
  },
  {
   "cell_type": "markdown",
   "id": "4a362a23",
   "metadata": {},
   "source": [
    "# Joins"
   ]
  },
  {
   "cell_type": "code",
   "execution_count": 74,
   "id": "acb9a9ed",
   "metadata": {},
   "outputs": [
    {
     "name": "stdout",
     "output_type": "stream",
     "text": [
      "+---+---+\n",
      "| x1| x2|\n",
      "+---+---+\n",
      "|  a|  1|\n",
      "|  b|  2|\n",
      "|  c|  3|\n",
      "+---+---+\n",
      "\n",
      "None\n",
      "+---+-----+\n",
      "| x1|   x3|\n",
      "+---+-----+\n",
      "|  a| true|\n",
      "|  b|false|\n",
      "|  d| true|\n",
      "+---+-----+\n",
      "\n",
      "None\n"
     ]
    }
   ],
   "source": [
    "df7 = spark.createDataFrame( [('a',1), ('b',2), ('c',3)], ('x1', 'x2') )\n",
    "print(df7.show())\n",
    "\n",
    "df8 = spark.createDataFrame( [('a',True), ('b',False), ('d',True)], ('x1', 'x3') )\n",
    "print(df8.show())"
   ]
  },
  {
   "cell_type": "markdown",
   "id": "1dbb1135",
   "metadata": {},
   "source": [
    "## Mutating Joins"
   ]
  },
  {
   "cell_type": "code",
   "execution_count": 196,
   "id": "9da9f440",
   "metadata": {},
   "outputs": [
    {
     "name": "stdout",
     "output_type": "stream",
     "text": [
      "+---+---+-----+\n",
      "| x1| x2|   x3|\n",
      "+---+---+-----+\n",
      "|  a|  1| true|\n",
      "|  b|  2|false|\n",
      "|  c|  3| null|\n",
      "+---+---+-----+\n",
      "\n"
     ]
    }
   ],
   "source": [
    "# Left\n",
    "df7.join(df8, \"x1\", how=\"left\").orderBy(\"x1\",ascending=True).show()"
   ]
  },
  {
   "cell_type": "code",
   "execution_count": 197,
   "id": "6cc20fe0",
   "metadata": {},
   "outputs": [
    {
     "name": "stdout",
     "output_type": "stream",
     "text": [
      "+---+----+-----+\n",
      "| x1|  x2|   x3|\n",
      "+---+----+-----+\n",
      "|  a|   1| true|\n",
      "|  b|   2|false|\n",
      "|  d|null| true|\n",
      "+---+----+-----+\n",
      "\n"
     ]
    }
   ],
   "source": [
    "# Right\n",
    "df7.join(df8, \"x1\", how=\"right\").orderBy(\"x1\",ascending=True).show()"
   ]
  },
  {
   "cell_type": "code",
   "execution_count": 198,
   "id": "d2e4e1a5",
   "metadata": {},
   "outputs": [
    {
     "name": "stdout",
     "output_type": "stream",
     "text": [
      "+---+---+-----+\n",
      "| x1| x2|   x3|\n",
      "+---+---+-----+\n",
      "|  a|  1| true|\n",
      "|  b|  2|false|\n",
      "+---+---+-----+\n",
      "\n"
     ]
    }
   ],
   "source": [
    "# inner\n",
    "df7.join(df8, \"x1\", how=\"inner\").orderBy(\"x1\",ascending=True).show()"
   ]
  },
  {
   "cell_type": "code",
   "execution_count": 199,
   "id": "05d82a5c",
   "metadata": {},
   "outputs": [
    {
     "name": "stdout",
     "output_type": "stream",
     "text": [
      "+---+----+-----+\n",
      "| x1|  x2|   x3|\n",
      "+---+----+-----+\n",
      "|  a|   1| true|\n",
      "|  b|   2|false|\n",
      "|  c|   3| null|\n",
      "|  d|null| true|\n",
      "+---+----+-----+\n",
      "\n"
     ]
    }
   ],
   "source": [
    "# full\n",
    "df7.join(df8, \"x1\", how=\"full\").orderBy(\"x1\",ascending=True).show()"
   ]
  },
  {
   "cell_type": "markdown",
   "id": "2daa65a9",
   "metadata": {},
   "source": [
    "## Filtering Joins"
   ]
  },
  {
   "cell_type": "code",
   "execution_count": 201,
   "id": "ce2fd65b",
   "metadata": {},
   "outputs": [
    {
     "name": "stdout",
     "output_type": "stream",
     "text": [
      "+---+---+\n",
      "| x1| x2|\n",
      "+---+---+\n",
      "|  a|  1|\n",
      "|  b|  2|\n",
      "+---+---+\n",
      "\n"
     ]
    }
   ],
   "source": [
    "# left_semi\n",
    "df7.join(df8, \"x1\", how=\"left_semi\").orderBy(\"x1\",ascending=True).show()"
   ]
  },
  {
   "cell_type": "code",
   "execution_count": 200,
   "id": "f56f81ef",
   "metadata": {},
   "outputs": [
    {
     "name": "stdout",
     "output_type": "stream",
     "text": [
      "+---+---+\n",
      "| x1| x2|\n",
      "+---+---+\n",
      "|  c|  3|\n",
      "+---+---+\n",
      "\n"
     ]
    }
   ],
   "source": [
    "# left_anti\n",
    "df7.join(df8, \"x1\", how=\"left_anti\").orderBy(\"x1\",ascending=True).show()"
   ]
  },
  {
   "cell_type": "markdown",
   "id": "5eb0e024",
   "metadata": {},
   "source": [
    "# Dataframe Operations"
   ]
  },
  {
   "cell_type": "code",
   "execution_count": 40,
   "id": "7869b724",
   "metadata": {},
   "outputs": [
    {
     "name": "stdout",
     "output_type": "stream",
     "text": [
      "+---+---+\n",
      "| x1| x2|\n",
      "+---+---+\n",
      "|  a|  1|\n",
      "|  b|  2|\n",
      "|  c|  3|\n",
      "+---+---+\n",
      "\n",
      "None\n",
      "+---+---+\n",
      "| x1| x2|\n",
      "+---+---+\n",
      "|  b|  2|\n",
      "|  c|  3|\n",
      "|  d|  4|\n",
      "+---+---+\n",
      "\n",
      "None\n",
      "+---+---+\n",
      "| x2| x1|\n",
      "+---+---+\n",
      "|  2|  b|\n",
      "|  3|  c|\n",
      "|  4|  d|\n",
      "+---+---+\n",
      "\n",
      "None\n"
     ]
    }
   ],
   "source": [
    "df9 = spark.createDataFrame( [('a',1), ('b',2), ('c',3)], ('x1', 'x2') )\n",
    "print(df9.show())\n",
    "\n",
    "df10 = spark.createDataFrame( [('b',2), ('c',3), ('d',4)], ('x1', 'x2') )\n",
    "print(df10.show())\n",
    "\n",
    "df16 = spark.createDataFrame( [(2,'b'), (3,'c'), (4,'d')], ('x2', 'x1') )\n",
    "print(df16.show())"
   ]
  },
  {
   "cell_type": "code",
   "execution_count": 42,
   "id": "b53b9d08",
   "metadata": {},
   "outputs": [
    {
     "name": "stdout",
     "output_type": "stream",
     "text": [
      "+---+---+\n",
      "| x1| x2|\n",
      "+---+---+\n",
      "|  c|  3|\n",
      "|  b|  2|\n",
      "+---+---+\n",
      "\n"
     ]
    }
   ],
   "source": [
    "df9.intersect(df10).show()"
   ]
  },
  {
   "cell_type": "code",
   "execution_count": 204,
   "id": "e0000681",
   "metadata": {},
   "outputs": [
    {
     "name": "stdout",
     "output_type": "stream",
     "text": [
      "+---+---+\n",
      "| x1| x2|\n",
      "+---+---+\n",
      "|  a|  1|\n",
      "|  b|  2|\n",
      "|  c|  3|\n",
      "|  b|  2|\n",
      "|  c|  3|\n",
      "|  d|  4|\n",
      "+---+---+\n",
      "\n"
     ]
    }
   ],
   "source": [
    "df9.union(df10).show()"
   ]
  },
  {
   "cell_type": "code",
   "execution_count": 45,
   "id": "eab86807",
   "metadata": {},
   "outputs": [
    {
     "name": "stdout",
     "output_type": "stream",
     "text": [
      "+---+---+\n",
      "|x1 |x2 |\n",
      "+---+---+\n",
      "|a  |1  |\n",
      "|b  |2  |\n",
      "|c  |3  |\n",
      "|2  |b  |\n",
      "|3  |c  |\n",
      "|4  |d  |\n",
      "+---+---+\n",
      "\n"
     ]
    }
   ],
   "source": [
    "df9.union(df16).show()"
   ]
  },
  {
   "cell_type": "code",
   "execution_count": 41,
   "id": "fd6ca1c2",
   "metadata": {},
   "outputs": [
    {
     "name": "stdout",
     "output_type": "stream",
     "text": [
      "+---+---+\n",
      "| x1| x2|\n",
      "+---+---+\n",
      "|  a|  1|\n",
      "|  b|  2|\n",
      "|  c|  3|\n",
      "|  b|  2|\n",
      "|  c|  3|\n",
      "|  d|  4|\n",
      "+---+---+\n",
      "\n"
     ]
    }
   ],
   "source": [
    "df9.unionByName(df16).show()"
   ]
  },
  {
   "cell_type": "code",
   "execution_count": 205,
   "id": "ab28fd6a",
   "metadata": {},
   "outputs": [
    {
     "name": "stdout",
     "output_type": "stream",
     "text": [
      "+---+---+\n",
      "| x1| x2|\n",
      "+---+---+\n",
      "|  a|  1|\n",
      "+---+---+\n",
      "\n"
     ]
    }
   ],
   "source": [
    "df9.subtract(df10).show()"
   ]
  },
  {
   "cell_type": "code",
   "execution_count": 91,
   "id": "6b4c5864",
   "metadata": {},
   "outputs": [
    {
     "name": "stdout",
     "output_type": "stream",
     "text": [
      "-0.4513586212383007\n",
      "0.3333333333333333\n"
     ]
    }
   ],
   "source": [
    "print(df14.corr(\"x3\",\"x4\")) # int and float\n",
    "print(df14.stat.corr(\"x3\",\"y1\")) # int and int"
   ]
  },
  {
   "cell_type": "code",
   "execution_count": 92,
   "id": "3aa8ed99",
   "metadata": {},
   "outputs": [
    {
     "name": "stdout",
     "output_type": "stream",
     "text": [
      "-0.37999999999999984\n",
      "0.2\n"
     ]
    }
   ],
   "source": [
    "print(df14.cov(\"x3\",\"x4\")) # int and float\n",
    "print(df14.stat.cov(\"x3\",\"y1\")) # int and int"
   ]
  },
  {
   "cell_type": "code",
   "execution_count": 94,
   "id": "7689908e",
   "metadata": {},
   "outputs": [
    {
     "name": "stdout",
     "output_type": "stream",
     "text": [
      "+-----+---+---+---+---+---+---+\n",
      "|x3_x4|1.4|1.5|2.1|2.4|2.5|3.5|\n",
      "+-----+---+---+---+---+---+---+\n",
      "|    2|  1|  0|  1|  0|  0|  1|\n",
      "|    4|  0|  1|  0|  0|  0|  0|\n",
      "|    1|  0|  0|  0|  1|  1|  0|\n",
      "+-----+---+---+---+---+---+---+\n",
      "\n",
      "None\n",
      "+-----+---+---+\n",
      "|x3_y1|  0|  1|\n",
      "+-----+---+---+\n",
      "|    2|  2|  1|\n",
      "|    4|  0|  1|\n",
      "|    1|  1|  1|\n",
      "+-----+---+---+\n",
      "\n",
      "None\n"
     ]
    }
   ],
   "source": [
    "# count no of times those were in same row\n",
    "print(df14.crosstab(\"x3\",\"x4\").show()) # int and float\n",
    "print(df14.stat.crosstab(\"x3\",\"y1\").show()) # int and int"
   ]
  },
  {
   "cell_type": "code",
   "execution_count": 206,
   "id": "f2848230",
   "metadata": {},
   "outputs": [
    {
     "name": "stdout",
     "output_type": "stream",
     "text": [
      "+---+-----+\n",
      "| x1|   x2|\n",
      "+---+-----+\n",
      "|  a|1,2,3|\n",
      "|  b|2,3,4|\n",
      "+---+-----+\n",
      "\n"
     ]
    }
   ],
   "source": [
    "df11 = spark.createDataFrame( [('a',\"1,2,3\"), ('b',\"2,3,4\")], ('x1', 'x2') )\n",
    "df11.show()"
   ]
  },
  {
   "cell_type": "code",
   "execution_count": 207,
   "id": "0dbb6b11",
   "metadata": {},
   "outputs": [
    {
     "name": "stdout",
     "output_type": "stream",
     "text": [
      "root\n",
      " |-- x1: string (nullable = true)\n",
      " |-- values: array (nullable = true)\n",
      " |    |-- element: string (containsNull = true)\n",
      "\n",
      "+---+---------+\n",
      "| x1|   values|\n",
      "+---+---------+\n",
      "|  a|[1, 2, 3]|\n",
      "|  b|[2, 3, 4]|\n",
      "+---+---------+\n",
      "\n"
     ]
    }
   ],
   "source": [
    "df11_1=df11.select(\"x1\",F.split(\"x2\",\",\").alias(\"values\"))\n",
    "df11_1.printSchema()\n",
    "df11_1.show()"
   ]
  },
  {
   "cell_type": "code",
   "execution_count": 210,
   "id": "eb936b61",
   "metadata": {},
   "outputs": [
    {
     "name": "stdout",
     "output_type": "stream",
     "text": [
      "root\n",
      " |-- x1: string (nullable = true)\n",
      " |-- values: array (nullable = true)\n",
      " |    |-- element: string (containsNull = true)\n",
      " |-- pos: integer (nullable = false)\n",
      " |-- val: string (nullable = true)\n",
      "\n",
      "+---+---------+---+---+\n",
      "| x1|   values|pos|val|\n",
      "+---+---------+---+---+\n",
      "|  a|[1, 2, 3]|  0|  1|\n",
      "|  a|[1, 2, 3]|  1|  2|\n",
      "|  a|[1, 2, 3]|  2|  3|\n",
      "|  b|[2, 3, 4]|  0|  2|\n",
      "|  b|[2, 3, 4]|  1|  3|\n",
      "|  b|[2, 3, 4]|  2|  4|\n",
      "+---+---------+---+---+\n",
      "\n"
     ]
    }
   ],
   "source": [
    "df11_2=df11.select(\"x1\",F.split(\"x2\",\",\").alias(\"values\"),\n",
    "                  F.posexplode(F.split(\"x2\",\",\")).alias(\"pos\",\"val\"))\n",
    "df11_2.printSchema()\n",
    "df11_2.show()"
   ]
  },
  {
   "cell_type": "code",
   "execution_count": 211,
   "id": "158e01e3",
   "metadata": {},
   "outputs": [
    {
     "name": "stdout",
     "output_type": "stream",
     "text": [
      "root\n",
      " |-- x1: string (nullable = true)\n",
      " |-- val: string (nullable = true)\n",
      "\n",
      "+---+---+\n",
      "| x1|val|\n",
      "+---+---+\n",
      "|  a|  1|\n",
      "|  a|  2|\n",
      "|  a|  3|\n",
      "|  b|  2|\n",
      "|  b|  3|\n",
      "|  b|  4|\n",
      "+---+---+\n",
      "\n"
     ]
    }
   ],
   "source": [
    "df11_3=df11.select(\"x1\",F.split(\"x2\",\",\").alias(\"values\"),\n",
    "        F.posexplode(F.split(\"x2\",\",\")).alias(\"pos\",\"val\")\n",
    "        ).drop(\"val\").select(\"x1\",F.expr(\"values[pos]\").alias(\"val\"))\n",
    "df11_3.printSchema()\n",
    "df11_3.show()"
   ]
  },
  {
   "cell_type": "markdown",
   "id": "ca2cb1a0",
   "metadata": {},
   "source": [
    "# Windows"
   ]
  },
  {
   "cell_type": "code",
   "execution_count": 212,
   "id": "12d4e4e3",
   "metadata": {},
   "outputs": [
    {
     "name": "stdout",
     "output_type": "stream",
     "text": [
      "+---+---+---+\n",
      "|  A|  B|  C|\n",
      "+---+---+---+\n",
      "|  a|  m|  1|\n",
      "|  b|  m|  2|\n",
      "|  c|  n|  3|\n",
      "|  d|  n|  6|\n",
      "+---+---+---+\n",
      "\n"
     ]
    }
   ],
   "source": [
    "df12 = spark.createDataFrame( [('a','m',1), ('b','m',2), ('c','n',3),\n",
    "                              ('d','n',6)], ('A', 'B', 'C') )\n",
    "df12.show()"
   ]
  },
  {
   "cell_type": "code",
   "execution_count": 218,
   "id": "35fa8426",
   "metadata": {},
   "outputs": [
    {
     "name": "stdout",
     "output_type": "stream",
     "text": [
      "+---+---+---+---+\n",
      "|  A|  B|  C|  D|\n",
      "+---+---+---+---+\n",
      "|  a|  m|  1|  0|\n",
      "|  b|  m|  2|  1|\n",
      "|  c|  n|  3|  0|\n",
      "|  d|  n|  6|  3|\n",
      "+---+---+---+---+\n",
      "\n",
      "+---+---+---+---+\n",
      "|  A|  B|  C|  D|\n",
      "+---+---+---+---+\n",
      "|  a|  m|  1| -1|\n",
      "|  b|  m|  2|  0|\n",
      "|  c|  n|  3| -3|\n",
      "|  d|  n|  6|  0|\n",
      "+---+---+---+---+\n",
      "\n"
     ]
    }
   ],
   "source": [
    "# Define windows for difference\n",
    "w=Window.partitionBy(df12.B) # partition by B col\n",
    "D = df12.C - F.min(df12.C).over(w) # find min on basis of partition by B col\n",
    "df12.withColumn('D',D).show()\n",
    "D = df12.C - F.max(df12.C).over(w) # find max on basis of partition by B col\n",
    "df12.withColumn('D',D).show()"
   ]
  },
  {
   "cell_type": "code",
   "execution_count": 215,
   "id": "6a4c3a04",
   "metadata": {
    "scrolled": true
   },
   "outputs": [
    {
     "name": "stdout",
     "output_type": "stream",
     "text": [
      "+---+---+---+-----------+\n",
      "|  A|  B|  C|          D|\n",
      "+---+---+---+-----------+\n",
      "|  a|  m|  1|17179869184|\n",
      "|  b|  m|  2|42949672960|\n",
      "|  c|  n|  3|68719476736|\n",
      "|  d|  n|  6|94489280512|\n",
      "+---+---+---+-----------+\n",
      "\n",
      "+---+---+---+---+\n",
      "|  A|  B|  C|  D|\n",
      "+---+---+---+---+\n",
      "|  a|  m|  1|  1|\n",
      "|  b|  m|  2|  2|\n",
      "|  c|  n|  3|  3|\n",
      "|  d|  n|  6|  4|\n",
      "+---+---+---+---+\n",
      "\n"
     ]
    }
   ],
   "source": [
    "# Define windows for row_num\n",
    "df12_1=df12.withColumn(\"D\",F.monotonically_increasing_id())\n",
    "df12_1.show()\n",
    "w1=Window.orderBy(df12_1.D) # partition by D col\n",
    "df12_1.withColumn(\"D\",F.row_number().over(w1)).show()"
   ]
  },
  {
   "cell_type": "code",
   "execution_count": 217,
   "id": "b147ea08",
   "metadata": {},
   "outputs": [
    {
     "name": "stdout",
     "output_type": "stream",
     "text": [
      "+---+---+---+---+\n",
      "|  A|  B|  C|  D|\n",
      "+---+---+---+---+\n",
      "|  b|  m|  2|  1|\n",
      "|  a|  m|  1|  2|\n",
      "|  d|  n|  6|  1|\n",
      "|  c|  n|  3|  2|\n",
      "+---+---+---+---+\n",
      "\n"
     ]
    }
   ],
   "source": [
    "# Define windows for rank\n",
    "w2=Window.partitionBy(\"B\").orderBy(df12.C.desc())\n",
    "df12.withColumn(\"D\",F.rank().over(w2)).show()"
   ]
  },
  {
   "cell_type": "markdown",
   "id": "090796f2",
   "metadata": {},
   "source": [
    "# custom functions"
   ]
  },
  {
   "cell_type": "code",
   "execution_count": 12,
   "id": "a9f97ea7",
   "metadata": {},
   "outputs": [
    {
     "name": "stdout",
     "output_type": "stream",
     "text": [
      "+---+---------+--------+\n",
      "| id|firstName|lastName|\n",
      "+---+---------+--------+\n",
      "|  3|        5|       5|\n",
      "+---+---------+--------+\n",
      "\n"
     ]
    }
   ],
   "source": [
    "# count non-null values\n",
    "def my_count(df):\n",
    "    return df.agg(*[F.count(c).alias(c) for c in df.columns])\n",
    "my_count(df4).show()"
   ]
  },
  {
   "cell_type": "code",
   "execution_count": 14,
   "id": "cbdbed5d",
   "metadata": {},
   "outputs": [
    {
     "name": "stdout",
     "output_type": "stream",
     "text": [
      "+---+---------+--------+\n",
      "| id|firstName|lastName|\n",
      "+---+---------+--------+\n",
      "|  7|     null|    null|\n",
      "+---+---------+--------+\n",
      "\n"
     ]
    }
   ],
   "source": [
    "def my_sum(df):\n",
    "    return df.agg(*[F.sum(c).alias(c) for c in df.columns])\n",
    "my_sum(df4).show()"
   ]
  },
  {
   "cell_type": "markdown",
   "id": "17cad551",
   "metadata": {},
   "source": [
    "# UDF"
   ]
  },
  {
   "cell_type": "code",
   "execution_count": 90,
   "id": "d2b41cc0",
   "metadata": {},
   "outputs": [
    {
     "name": "stdout",
     "output_type": "stream",
     "text": [
      "+---+---------------------------------------------------------+\n",
      "|id |2col                                                     |\n",
      "+---+---------------------------------------------------------+\n",
      "|1  |[0, 0, 0, 1, 1, 1, 0, 0, 0, 0, 0, 0, 0, 0, 0, 0, 0, 0, 0]|\n",
      "|2  |[0, 2, 2, 0, 0, 0, 0, 0, 0, 0, 0, 0, 0, 0, 0, 0, 2, 0, 0]|\n",
      "|3  |[0, 0, 0, 0, 0, 0, 0, 0, 0, 0, 0, 0, 0, 0, 0, 0, 3, 0, 0]|\n",
      "|4  |[0, 4, 0, 0, 0, 4, 0, 0, 4, 0, 0, 0, 0, 0, 0, 0, 0, 0, 0]|\n",
      "|5  |[0, 0, 0, 0, 0, 0, 5, 0, 5, 0, 0, 0, 0, 0, 0, 0, 5, 0, 0]|\n",
      "+---+---------------------------------------------------------+\n",
      "only showing top 5 rows\n",
      "\n"
     ]
    }
   ],
   "source": [
    "def complexF(x,y):\n",
    "    return [x*i for i in y]\n",
    "    \n",
    "Fn=F.udf(lambda x,y: complexF(x,y),ArrayType(IntegerType()))\n",
    "df1.withColumn('2col',Fn(df1.id,df1.rating)).select('id','2col').show(5,truncate=False)"
   ]
  },
  {
   "cell_type": "code",
   "execution_count": 89,
   "id": "571ad7e5",
   "metadata": {},
   "outputs": [
    {
     "name": "stdout",
     "output_type": "stream",
     "text": [
      "+---+---------------------------------------------------------+\n",
      "|id |2col                                                     |\n",
      "+---+---------------------------------------------------------+\n",
      "|1  |[0, 0, 0, 1, 1, 1, 0, 0, 0, 0, 0, 0, 0, 0, 0, 0, 0, 0, 0]|\n",
      "|2  |[0, 2, 2, 0, 0, 0, 0, 0, 0, 0, 0, 0, 0, 0, 0, 0, 2, 0, 0]|\n",
      "|3  |[0, 0, 0, 0, 0, 0, 0, 0, 0, 0, 0, 0, 0, 0, 0, 0, 3, 0, 0]|\n",
      "|4  |[0, 4, 0, 0, 0, 4, 0, 0, 4, 0, 0, 0, 0, 0, 0, 0, 0, 0, 0]|\n",
      "|5  |[0, 0, 0, 0, 0, 0, 5, 0, 5, 0, 0, 0, 0, 0, 0, 0, 5, 0, 0]|\n",
      "+---+---------------------------------------------------------+\n",
      "only showing top 5 rows\n",
      "\n"
     ]
    }
   ],
   "source": [
    "def complexF(x,y):\n",
    "    return [x*i for i in y]\n",
    "    \n",
    "Fn=F.udf(complexF, ArrayType(IntegerType()))\n",
    "df1.withColumn('2col',Fn(df1.id,df1.rating)).select('id','2col').show(5,truncate=False)"
   ]
  },
  {
   "cell_type": "code",
   "execution_count": 92,
   "id": "fb686ed2",
   "metadata": {},
   "outputs": [
    {
     "data": {
      "text/html": [
       "<div>\n",
       "<style scoped>\n",
       "    .dataframe tbody tr th:only-of-type {\n",
       "        vertical-align: middle;\n",
       "    }\n",
       "\n",
       "    .dataframe tbody tr th {\n",
       "        vertical-align: top;\n",
       "    }\n",
       "\n",
       "    .dataframe thead th {\n",
       "        text-align: right;\n",
       "    }\n",
       "</style>\n",
       "<table border=\"1\" class=\"dataframe\">\n",
       "  <thead>\n",
       "    <tr style=\"text-align: right;\">\n",
       "      <th></th>\n",
       "      <th>merge_two_columns(title, id)</th>\n",
       "    </tr>\n",
       "  </thead>\n",
       "  <tbody>\n",
       "    <tr>\n",
       "      <th>0</th>\n",
       "      <td>(Toy Story (1995), 1.0)</td>\n",
       "    </tr>\n",
       "    <tr>\n",
       "      <th>1</th>\n",
       "      <td>(GoldenEye (1995), 2.0)</td>\n",
       "    </tr>\n",
       "  </tbody>\n",
       "</table>\n",
       "</div>"
      ],
      "text/plain": [
       "  merge_two_columns(title, id)\n",
       "0      (Toy Story (1995), 1.0)\n",
       "1      (GoldenEye (1995), 2.0)"
      ]
     },
     "execution_count": 92,
     "metadata": {},
     "output_type": "execute_result"
    }
   ],
   "source": [
    "def merge_two_columns(col1, col2):\n",
    "    return([str(col1), float(col2)])\n",
    "df1_struct_type = StructType([\n",
    "    StructField('f1', StringType()),\n",
    "    StructField('f2', FloatType())\n",
    "])\n",
    "df1_merge_two_columns_udf = F.udf(merge_two_columns, returnType=df1_struct_type)\n",
    "df1.select(df1_merge_two_columns_udf(df1.title, df1.id)).limit(2).toPandas()"
   ]
  },
  {
   "cell_type": "markdown",
   "id": "684164bf",
   "metadata": {},
   "source": [
    "# date"
   ]
  },
  {
   "cell_type": "code",
   "execution_count": 27,
   "id": "35e3043b",
   "metadata": {},
   "outputs": [
    {
     "name": "stdout",
     "output_type": "stream",
     "text": [
      "+----------+---+--------------------+--------------------+----------------+\n",
      "|      date| id|                link|              rating|           title|\n",
      "+----------+---+--------------------+--------------------+----------------+\n",
      "|1995-01-01|  1|http://us.imdb.co...|[0, 0, 0, 1, 1, 1...|Toy Story (1995)|\n",
      "|1995-01-01|  2|http://us.imdb.co...|[0, 1, 1, 0, 0, 0...|GoldenEye (1995)|\n",
      "+----------+---+--------------------+--------------------+----------------+\n",
      "only showing top 2 rows\n",
      "\n"
     ]
    }
   ],
   "source": [
    "df17=df1.withColumn(\"date\",to_date(col(\"date\"),\"dd-MMM-yyyy\"))\n",
    "df17.show(2)"
   ]
  },
  {
   "cell_type": "code",
   "execution_count": 55,
   "id": "65f17c6b",
   "metadata": {},
   "outputs": [
    {
     "name": "stdout",
     "output_type": "stream",
     "text": [
      "+----------+---+--------------------+--------------------+--------------------+\n",
      "|      date| id|                link|              rating|               title|\n",
      "+----------+---+--------------------+--------------------+--------------------+\n",
      "|1995-10-30| 13|http://us.imdb.co...|[0, 0, 0, 0, 0, 1...|Mighty Aphrodite ...|\n",
      "+----------+---+--------------------+--------------------+--------------------+\n",
      "\n"
     ]
    }
   ],
   "source": [
    "df21=df1.withColumn(\"date\",to_date(col(\"date\"),\"dd-MMM-yyyy\")).filter(\n",
    "    col(\"date\")==F.lit('1995-10-30'))\n",
    "df21.show(2)"
   ]
  },
  {
   "cell_type": "code",
   "execution_count": 56,
   "id": "bbcdb576",
   "metadata": {},
   "outputs": [
    {
     "name": "stdout",
     "output_type": "stream",
     "text": [
      "+-----------+----------+\n",
      "|month(date)|year(date)|\n",
      "+-----------+----------+\n",
      "|         10|      1995|\n",
      "+-----------+----------+\n",
      "\n"
     ]
    }
   ],
   "source": [
    "df21.select(F.month('date'),F.year('date')).show(2)"
   ]
  },
  {
   "cell_type": "code",
   "execution_count": 57,
   "id": "b2e7d75a",
   "metadata": {},
   "outputs": [
    {
     "name": "stdout",
     "output_type": "stream",
     "text": [
      "+----------------+---------------+---------------+\n",
      "|dayofmonth(date)|dayofweek(date)|dayofyear(date)|\n",
      "+----------------+---------------+---------------+\n",
      "|              30|              2|            303|\n",
      "+----------------+---------------+---------------+\n",
      "\n"
     ]
    }
   ],
   "source": [
    "df21.select(F.dayofmonth('date'),F.dayofweek('date'),F.dayofyear('date')).show(2)"
   ]
  },
  {
   "cell_type": "code",
   "execution_count": 38,
   "id": "9b8b2fc3",
   "metadata": {},
   "outputs": [
    {
     "name": "stdout",
     "output_type": "stream",
     "text": [
      "+----------+----------+\n",
      "| min(date)| max(date)|\n",
      "+----------+----------+\n",
      "|1922-01-01|1998-10-23|\n",
      "+----------+----------+\n",
      "\n",
      "+----------------------+----------------------+\n",
      "|date_sub(min(date), 3)|date_add(max(date), 3)|\n",
      "+----------------------+----------------------+\n",
      "|            1921-12-29|            1998-10-26|\n",
      "+----------------------+----------------------+\n",
      "\n"
     ]
    }
   ],
   "source": [
    "df17.select(F.min(col('date')),F.max(col('date'))).show()\n",
    "df17.select(F.date_sub(F.min(col('date')),3),F.date_add(F.max(col('date')),3)).show()"
   ]
  },
  {
   "cell_type": "code",
   "execution_count": 39,
   "id": "dc93438b",
   "metadata": {},
   "outputs": [
    {
     "name": "stdout",
     "output_type": "stream",
     "text": [
      "+-------------------+\n",
      "|          Christmas|\n",
      "+-------------------+\n",
      "|2019-12-25 13:30:00|\n",
      "+-------------------+\n",
      "\n",
      "+----------+-------------------+\n",
      "|   to_date|       to_timestamp|\n",
      "+----------+-------------------+\n",
      "|2019-12-25|2019-12-25 13:30:00|\n",
      "+----------+-------------------+\n",
      "\n"
     ]
    }
   ],
   "source": [
    "df18=spark.createDataFrame([('2019-12-25 13:30:00',)],['Christmas'])\n",
    "df18.show()\n",
    "df18.select(F.to_date(col('Christmas'),'yyyy-MM-dd HH:mm:ss').alias('to_date'),\n",
    "           F.to_timestamp(col('Christmas'),'yyyy-MM-dd HH:mm:ss').alias('to_timestamp')).show()"
   ]
  },
  {
   "cell_type": "code",
   "execution_count": 41,
   "id": "b7338685",
   "metadata": {},
   "outputs": [
    {
     "name": "stdout",
     "output_type": "stream",
     "text": [
      "+--------------------+\n",
      "|           Christmas|\n",
      "+--------------------+\n",
      "|25/Dec/2019 13:30:00|\n",
      "+--------------------+\n",
      "\n",
      "+----------+-------------------+\n",
      "|   to_date|       to_timestamp|\n",
      "+----------+-------------------+\n",
      "|2019-12-25|2019-12-25 13:30:00|\n",
      "+----------+-------------------+\n",
      "\n",
      "+-------+------------+\n",
      "|to_date|to_timestamp|\n",
      "+-------+------------+\n",
      "|   null|        null|\n",
      "+-------+------------+\n",
      "\n"
     ]
    }
   ],
   "source": [
    "df19=spark.createDataFrame([('25/Dec/2019 13:30:00',)],['Christmas'])\n",
    "df19.show()\n",
    "df19.select(F.to_date(col('Christmas'),'dd/MMM/yyyy HH:mm:ss').alias('to_date'),\n",
    "           F.to_timestamp(col('Christmas'),'dd/MMM/yyyy HH:mm:ss').alias('to_timestamp')).show()\n",
    "df18.select(F.to_date(col('Christmas'),'dd/MMM/yyyy HH:mm:ss').alias('to_date'),\n",
    "           F.to_timestamp(col('Christmas'),'dd/MMM/yyyy HH:mm:ss').alias('to_timestamp')).show()"
   ]
  },
  {
   "cell_type": "code",
   "execution_count": 43,
   "id": "f5dbde20",
   "metadata": {},
   "outputs": [
    {
     "name": "stdout",
     "output_type": "stream",
     "text": [
      "+----------------------+\n",
      "|Christmas             |\n",
      "+----------------------+\n",
      "|12/25/2019 01:30:00 PM|\n",
      "+----------------------+\n",
      "\n",
      "+----------+-------------------+\n",
      "|   to_date|       to_timestamp|\n",
      "+----------+-------------------+\n",
      "|2019-12-25|2019-12-25 13:30:00|\n",
      "+----------+-------------------+\n",
      "\n"
     ]
    }
   ],
   "source": [
    "df20=spark.createDataFrame([('12/25/2019 01:30:00 PM',)],['Christmas'])\n",
    "df20.show(truncate=False)\n",
    "df20.select(F.to_date(col('Christmas'),'MM/dd/yyyy hh:mm:ss aa').alias('to_date'),\n",
    "           F.to_timestamp(col('Christmas'),'MM/dd/yyyy hh:mm:ss aa').alias('to_timestamp')).show()\n"
   ]
  },
  {
   "cell_type": "code",
   "execution_count": 65,
   "id": "45a8b2fe",
   "metadata": {},
   "outputs": [
    {
     "name": "stdout",
     "output_type": "stream",
     "text": [
      "+-----------+---+--------------------+--------------------+--------------------+---------+\n",
      "|       date| id|                link|              rating|               title|        t|\n",
      "+-----------+---+--------------------+--------------------+--------------------+---------+\n",
      "|01-Jan-1995|  1|http://us.imdb.co...|[0, 0, 0, 1, 1, 1...|    Toy Story (1995)|      Toy|\n",
      "|01-Jan-1995|  2|http://us.imdb.co...|[0, 1, 1, 0, 0, 0...|    GoldenEye (1995)|GoldenEye|\n",
      "|01-Jan-1995|  3|http://us.imdb.co...|[0, 0, 0, 0, 0, 0...|   Four Rooms (1995)|     Four|\n",
      "|01-Jan-1995|  4|http://us.imdb.co...|[0, 1, 0, 0, 0, 1...|   Get Shorty (1995)|      Get|\n",
      "|01-Jan-1995|  5|http://us.imdb.co...|[0, 0, 0, 0, 0, 0...|      Copycat (1995)|  Copycat|\n",
      "|01-Jan-1995|  6|http://us.imdb.co...|[0, 0, 0, 0, 0, 0...|Shanghai Triad (Y...| Shanghai|\n",
      "|01-Jan-1995|  7|http://us.imdb.co...|[0, 0, 0, 0, 0, 0...|Twelve Monkeys (1...|   Twelve|\n",
      "|01-Jan-1995|  8|http://us.imdb.co...|[0, 0, 0, 0, 1, 1...|         Babe (1995)|     Babe|\n",
      "|01-Jan-1995|  9|http://us.imdb.co...|[0, 0, 0, 0, 0, 0...|Dead Man Walking ...|     Dead|\n",
      "|22-Jan-1996| 10|http://us.imdb.co...|[0, 0, 0, 0, 0, 0...|  Richard III (1995)|  Richard|\n",
      "|01-Jan-1995| 11|http://us.imdb.co...|[0, 0, 0, 0, 0, 0...|Seven (Se7en) (1995)|    Seven|\n",
      "|14-Aug-1995| 12|http://us.imdb.co...|[0, 0, 0, 0, 0, 0...|Usual Suspects, T...|    Usual|\n",
      "|30-Oct-1995| 13|http://us.imdb.co...|[0, 0, 0, 0, 0, 1...|Mighty Aphrodite ...|   Mighty|\n",
      "|01-Jan-1994| 14|http://us.imdb.co...|[0, 0, 0, 0, 0, 0...|  Postino, Il (1994)| Postino,|\n",
      "|29-Jan-1996| 15|http://us.imdb.co...|[0, 0, 0, 0, 0, 0...|Mr. Holland's Opu...|      Mr.|\n",
      "|01-Jan-1995| 16|http://us.imdb.co...|[0, 0, 0, 0, 0, 1...|French Twist (Gaz...|   French|\n",
      "|05-Feb-1996| 17|http://us.imdb.co...|[0, 1, 0, 0, 0, 1...|From Dusk Till Da...|     From|\n",
      "|01-Jan-1995| 18|http://us.imdb.co...|[0, 0, 0, 0, 0, 0...|White Balloon, Th...|    White|\n",
      "|01-Jan-1995| 19|http://us.imdb.co...|[0, 0, 0, 0, 0, 0...|Antonia's Line (1...|Antonia's|\n",
      "|01-Jan-1995| 20|http://us.imdb.co...|[0, 0, 0, 0, 0, 0...|Angels and Insect...|   Angels|\n",
      "+-----------+---+--------------------+--------------------+--------------------+---------+\n",
      "only showing top 20 rows\n",
      "\n"
     ]
    }
   ],
   "source": [
    "df1.withColumn(\"t\",F.split(\"title\",\" \")[0]).show()"
   ]
  },
  {
   "cell_type": "code",
   "execution_count": null,
   "id": "60bbe66a",
   "metadata": {},
   "outputs": [],
   "source": []
  }
 ],
 "metadata": {
  "kernelspec": {
   "display_name": "Python 3 (ipykernel)",
   "language": "python",
   "name": "python3"
  },
  "language_info": {
   "codemirror_mode": {
    "name": "ipython",
    "version": 3
   },
   "file_extension": ".py",
   "mimetype": "text/x-python",
   "name": "python",
   "nbconvert_exporter": "python",
   "pygments_lexer": "ipython3",
   "version": "3.7.9"
  }
 },
 "nbformat": 4,
 "nbformat_minor": 5
}
