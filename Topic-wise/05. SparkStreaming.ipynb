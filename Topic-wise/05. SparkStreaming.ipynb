{
 "cells": [
  {
   "cell_type": "code",
   "execution_count": 29,
   "id": "1e0609eb",
   "metadata": {},
   "outputs": [],
   "source": [
    "import findspark\n",
    "from pyspark.streaming import StreamingContext\n",
    "from pyspark.sql import SparkSession"
   ]
  },
  {
   "cell_type": "code",
   "execution_count": 2,
   "id": "229b6af2",
   "metadata": {},
   "outputs": [],
   "source": [
    "findspark.init()"
   ]
  },
  {
   "cell_type": "code",
   "execution_count": 3,
   "id": "1ca0299f",
   "metadata": {},
   "outputs": [],
   "source": [
    "try: ssc.stop(True, True)\n",
    "except: pass\n",
    "try: spark.stop()\n",
    "except: pass"
   ]
  },
  {
   "cell_type": "code",
   "execution_count": 4,
   "id": "336b5e21",
   "metadata": {},
   "outputs": [],
   "source": [
    "spark=SparkSession.builder.appName(\"SparkStreaming\").getOrCreate()\n",
    "sc=spark.sparkContext\n",
    "# .config(\"spark.driver.allowMultipleContexts\",\"true\")"
   ]
  },
  {
   "cell_type": "code",
   "execution_count": null,
   "id": "1a015625",
   "metadata": {},
   "outputs": [],
   "source": [
    "ssc=StreamingContext(sc, 1) \n",
    "ssc # 1=1 second"
   ]
  },
  {
   "cell_type": "code",
   "execution_count": null,
   "id": "f5294f1f",
   "metadata": {},
   "outputs": [],
   "source": [
    "rdd1=ssc.textFileStream(\"hdfs://localhost:9000/data\")\n",
    "# rdd1=ssc.textFileStream(\"data/\")"
   ]
  },
  {
   "cell_type": "code",
   "execution_count": null,
   "id": "b69169d3",
   "metadata": {
    "scrolled": true
   },
   "outputs": [],
   "source": [
    "\n",
    "# rdd1=rdd1.flatMap(lambda x: x.split(\" \"))\n",
    "rdd1.count().pprint()\n",
    "if rdd1.count()>0:\n",
    "    rdd1.saveAsTextFiles(\"hdfs://localhost:9000/stream5/save\")"
   ]
  },
  {
   "cell_type": "code",
   "execution_count": null,
   "id": "92f52745",
   "metadata": {
    "scrolled": true
   },
   "outputs": [],
   "source": [
    "# close notebook session and retart notebook command again + reopen this file\n",
    "ssc.start()\n",
    "ssc.awaitTerminationOrTimeout(10) # 1=1 second"
   ]
  },
  {
   "cell_type": "code",
   "execution_count": null,
   "id": "f7221900",
   "metadata": {},
   "outputs": [],
   "source": []
  },
  {
   "cell_type": "code",
   "execution_count": null,
   "id": "4854e6ac",
   "metadata": {},
   "outputs": [],
   "source": []
  },
  {
   "cell_type": "code",
   "execution_count": null,
   "id": "7c1c7daa",
   "metadata": {},
   "outputs": [],
   "source": []
  },
  {
   "cell_type": "code",
   "execution_count": null,
   "id": "1768c7cc",
   "metadata": {},
   "outputs": [],
   "source": []
  }
 ],
 "metadata": {
  "kernelspec": {
   "display_name": "Python 3 (ipykernel)",
   "language": "python",
   "name": "python3"
  },
  "language_info": {
   "codemirror_mode": {
    "name": "ipython",
    "version": 3
   },
   "file_extension": ".py",
   "mimetype": "text/x-python",
   "name": "python",
   "nbconvert_exporter": "python",
   "pygments_lexer": "ipython3",
   "version": "3.7.9"
  }
 },
 "nbformat": 4,
 "nbformat_minor": 5
}
