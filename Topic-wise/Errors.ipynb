{
 "cells": [
  {
   "cell_type": "code",
   "execution_count": null,
   "id": "3b1ef0e4",
   "metadata": {},
   "outputs": [],
   "source": [
    "#Add this before using drop https://stackoverflow.com/a/58335633/7224372\n",
    "sqlContext.sql(\"set spark.sql.caseSensitive=true\")"
   ]
  }
 ],
 "metadata": {
  "kernelspec": {
   "display_name": "Python 3 (ipykernel)",
   "language": "python",
   "name": "python3"
  },
  "language_info": {
   "codemirror_mode": {
    "name": "ipython",
    "version": 3
   },
   "file_extension": ".py",
   "mimetype": "text/x-python",
   "name": "python",
   "nbconvert_exporter": "python",
   "pygments_lexer": "ipython3",
   "version": "3.7.9"
  }
 },
 "nbformat": 4,
 "nbformat_minor": 5
}
