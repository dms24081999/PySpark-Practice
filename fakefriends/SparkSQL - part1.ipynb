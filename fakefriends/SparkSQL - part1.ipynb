{
 "cells": [
  {
   "cell_type": "code",
   "execution_count": 1,
   "id": "7fc02f2e",
   "metadata": {},
   "outputs": [
    {
     "data": {
      "text/plain": [
       "'C:\\\\work\\\\spark-2.4.8-bin-hadoop2.7'"
      ]
     },
     "execution_count": 1,
     "metadata": {},
     "output_type": "execute_result"
    }
   ],
   "source": [
    "import findspark\n",
    "findspark.init()\n",
    "findspark.find()"
   ]
  },
  {
   "cell_type": "code",
   "execution_count": 2,
   "id": "4b148d29",
   "metadata": {},
   "outputs": [
    {
     "data": {
      "text/plain": [
       "'2.4.8'"
      ]
     },
     "execution_count": 2,
     "metadata": {},
     "output_type": "execute_result"
    }
   ],
   "source": [
    "from pyspark.sql import SparkSession, Row\n",
    "spark=SparkSession.builder.appName(\"SparkSQL\").getOrCreate()\n",
    "spark.version"
   ]
  },
  {
   "cell_type": "code",
   "execution_count": 25,
   "id": "247b8401",
   "metadata": {},
   "outputs": [],
   "source": [
    "from pyspark.sql.functions import desc"
   ]
  },
  {
   "cell_type": "code",
   "execution_count": 3,
   "id": "3d6394e6",
   "metadata": {},
   "outputs": [],
   "source": [
    "def mapper(line):\n",
    "    field=line.split(',')\n",
    "    return Row(ID=int(field[0]), name=str(field[1].encode(\"utf-8\")),\n",
    "              age=int(field[2]), numFriends=int(field[3]))"
   ]
  },
  {
   "cell_type": "code",
   "execution_count": 4,
   "id": "cafb9d4a",
   "metadata": {},
   "outputs": [],
   "source": [
    "lines=spark.sparkContext.textFile(\"fakefriends.csv\")"
   ]
  },
  {
   "cell_type": "code",
   "execution_count": 17,
   "id": "3dac097c",
   "metadata": {},
   "outputs": [
    {
     "data": {
      "text/plain": [
       "[Row(ID=0, age=33, name=\"b'Will'\", numFriends=385),\n",
       " Row(ID=1, age=26, name=\"b'Jean-Luc'\", numFriends=2),\n",
       " Row(ID=2, age=55, name=\"b'Hugh'\", numFriends=221),\n",
       " Row(ID=3, age=40, name=\"b'Deanna'\", numFriends=465),\n",
       " Row(ID=4, age=68, name=\"b'Quark'\", numFriends=21)]"
      ]
     },
     "execution_count": 17,
     "metadata": {},
     "output_type": "execute_result"
    }
   ],
   "source": [
    "people=lines.map(mapper)\n",
    "people.take(5)"
   ]
  },
  {
   "cell_type": "code",
   "execution_count": 18,
   "id": "ccd43b4f",
   "metadata": {},
   "outputs": [
    {
     "name": "stdout",
     "output_type": "stream",
     "text": [
      "+---+---+-----------+----------+\n",
      "| ID|age|       name|numFriends|\n",
      "+---+---+-----------+----------+\n",
      "|  0| 33|    b'Will'|       385|\n",
      "|  1| 26|b'Jean-Luc'|         2|\n",
      "|  2| 55|    b'Hugh'|       221|\n",
      "|  3| 40|  b'Deanna'|       465|\n",
      "|  4| 68|   b'Quark'|        21|\n",
      "+---+---+-----------+----------+\n",
      "only showing top 5 rows\n",
      "\n"
     ]
    }
   ],
   "source": [
    "schemaPeople=spark.createDataFrame(people).cache()\n",
    "schemaPeople.show(5)"
   ]
  },
  {
   "cell_type": "code",
   "execution_count": 11,
   "id": "ddd783b0",
   "metadata": {},
   "outputs": [],
   "source": [
    "schemaPeople.createOrReplaceTempView(\"people_table\")"
   ]
  },
  {
   "cell_type": "code",
   "execution_count": 28,
   "id": "8c6240b9",
   "metadata": {},
   "outputs": [
    {
     "name": "stdout",
     "output_type": "stream",
     "text": [
      "+---+---+----------+----------+\n",
      "| ID|age|      name|numFriends|\n",
      "+---+---+----------+----------+\n",
      "| 21| 19|  b'Miles'|       268|\n",
      "| 52| 19|b'Beverly'|       269|\n",
      "| 54| 19|  b'Brunt'|         5|\n",
      "|106| 18|b'Beverly'|       499|\n",
      "|115| 18|  b'Dukat'|       397|\n",
      "+---+---+----------+----------+\n",
      "only showing top 5 rows\n",
      "\n"
     ]
    }
   ],
   "source": [
    "teen=spark.sql(\"SELECT * FROM people_table WHERE age >= 13 AND age <= 19\")\n",
    "teen.show(5)"
   ]
  },
  {
   "cell_type": "code",
   "execution_count": 27,
   "id": "1d5a177c",
   "metadata": {},
   "outputs": [
    {
     "name": "stdout",
     "output_type": "stream",
     "text": [
      "+---+-----+\n",
      "|age|count|\n",
      "+---+-----+\n",
      "| 69|   10|\n",
      "| 68|   10|\n",
      "| 67|   16|\n",
      "| 66|    9|\n",
      "| 65|    5|\n",
      "+---+-----+\n",
      "only showing top 5 rows\n",
      "\n"
     ]
    }
   ],
   "source": [
    "schemaPeople.groupBy(\"age\").count().orderBy(desc(\"age\")).show(5)"
   ]
  },
  {
   "cell_type": "code",
   "execution_count": null,
   "id": "6e574c3a",
   "metadata": {},
   "outputs": [],
   "source": []
  }
 ],
 "metadata": {
  "kernelspec": {
   "display_name": "Python 3 (ipykernel)",
   "language": "python",
   "name": "python3"
  },
  "language_info": {
   "codemirror_mode": {
    "name": "ipython",
    "version": 3
   },
   "file_extension": ".py",
   "mimetype": "text/x-python",
   "name": "python",
   "nbconvert_exporter": "python",
   "pygments_lexer": "ipython3",
   "version": "3.7.9"
  }
 },
 "nbformat": 4,
 "nbformat_minor": 5
}
