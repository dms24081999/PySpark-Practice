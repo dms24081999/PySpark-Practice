{
 "cells": [
  {
   "cell_type": "code",
   "execution_count": 1,
   "id": "990c4f63",
   "metadata": {},
   "outputs": [
    {
     "data": {
      "text/plain": [
       "'C:\\\\work\\\\spark-2.4.8-bin-hadoop2.7'"
      ]
     },
     "execution_count": 1,
     "metadata": {},
     "output_type": "execute_result"
    }
   ],
   "source": [
    "import findspark\n",
    "findspark.init()\n",
    "findspark.find()"
   ]
  },
  {
   "cell_type": "code",
   "execution_count": 2,
   "id": "7e2656aa",
   "metadata": {},
   "outputs": [],
   "source": [
    "from pyspark.sql import SparkSession\n",
    "spark=SparkSession.builder.appName(\"AvgFriendsByAge\").getOrCreate()"
   ]
  },
  {
   "cell_type": "code",
   "execution_count": 3,
   "id": "522e9a9b",
   "metadata": {},
   "outputs": [],
   "source": [
    "csv=spark.read.csv(\"fakefriends.csv\", inferSchema=True)"
   ]
  },
  {
   "cell_type": "code",
   "execution_count": 4,
   "id": "961708e4",
   "metadata": {},
   "outputs": [
    {
     "name": "stdout",
     "output_type": "stream",
     "text": [
      "+---+--------+---+---+\n",
      "|_c0|     _c1|_c2|_c3|\n",
      "+---+--------+---+---+\n",
      "|  0|    Will| 33|385|\n",
      "|  1|Jean-Luc| 26|  2|\n",
      "|  2|    Hugh| 55|221|\n",
      "+---+--------+---+---+\n",
      "only showing top 3 rows\n",
      "\n"
     ]
    }
   ],
   "source": [
    "csv.show(3)"
   ]
  },
  {
   "cell_type": "code",
   "execution_count": 11,
   "id": "6e3880d3",
   "metadata": {},
   "outputs": [
    {
     "name": "stdout",
     "output_type": "stream",
     "text": [
      "+---+---+\n",
      "|_c2|_c3|\n",
      "+---+---+\n",
      "| 33|385|\n",
      "| 26|  2|\n",
      "| 55|221|\n",
      "+---+---+\n",
      "only showing top 3 rows\n",
      "\n"
     ]
    }
   ],
   "source": [
    "data=csv.select(['_c2','_c3'])\n",
    "data.show(3)"
   ]
  },
  {
   "cell_type": "markdown",
   "id": "0006264e",
   "metadata": {},
   "source": [
    "## Type-1"
   ]
  },
  {
   "cell_type": "code",
   "execution_count": 12,
   "id": "1ad40b32",
   "metadata": {},
   "outputs": [
    {
     "name": "stdout",
     "output_type": "stream",
     "text": [
      "+---+---+-----+\n",
      "|_c2|_c3|count|\n",
      "+---+---+-----+\n",
      "| 33|385|    1|\n",
      "| 26|  2|    1|\n",
      "| 55|221|    1|\n",
      "| 40|465|    1|\n",
      "| 68| 21|    1|\n",
      "+---+---+-----+\n",
      "only showing top 5 rows\n",
      "\n"
     ]
    }
   ],
   "source": [
    "from pyspark.sql.functions import lit\n",
    "sel = data.withColumn(\"count\", lit(1))\n",
    "sel.show(5)"
   ]
  },
  {
   "cell_type": "code",
   "execution_count": 13,
   "id": "e1c06734",
   "metadata": {},
   "outputs": [
    {
     "name": "stdout",
     "output_type": "stream",
     "text": [
      "root\n",
      " |-- _c2: integer (nullable = true)\n",
      " |-- _c3: integer (nullable = true)\n",
      " |-- count: integer (nullable = false)\n",
      "\n"
     ]
    }
   ],
   "source": [
    "sel.printSchema()"
   ]
  },
  {
   "cell_type": "code",
   "execution_count": 14,
   "id": "5b3f2166",
   "metadata": {},
   "outputs": [
    {
     "name": "stdout",
     "output_type": "stream",
     "text": [
      "+---+---+-----+\n",
      "|_c2|_c3|count|\n",
      "+---+---+-----+\n",
      "| 33|385|    1|\n",
      "| 26|  2|    1|\n",
      "| 55|221|    1|\n",
      "+---+---+-----+\n",
      "only showing top 3 rows\n",
      "\n"
     ]
    }
   ],
   "source": [
    "sel=sel.dropna()\n",
    "sel.show(3)"
   ]
  },
  {
   "cell_type": "code",
   "execution_count": 15,
   "id": "5a0d9b4b",
   "metadata": {},
   "outputs": [
    {
     "name": "stdout",
     "output_type": "stream",
     "text": [
      "+---+--------+----------+\n",
      "|_c2|sum(_c3)|sum(count)|\n",
      "+---+--------+----------+\n",
      "| 31|    2138|         8|\n",
      "| 65|    1491|         5|\n",
      "| 53|    1560|         7|\n",
      "| 34|    1473|         6|\n",
      "| 28|    2091|        10|\n",
      "+---+--------+----------+\n",
      "only showing top 5 rows\n",
      "\n"
     ]
    }
   ],
   "source": [
    "sel=sel.groupBy(\"_c2\").sum(\"_c3\", \"count\")\n",
    "sel.show(5)"
   ]
  },
  {
   "cell_type": "code",
   "execution_count": 19,
   "id": "ac94f5f2",
   "metadata": {},
   "outputs": [
    {
     "name": "stdout",
     "output_type": "stream",
     "text": [
      "+---+------------------+\n",
      "|_c2|               avg|\n",
      "+---+------------------+\n",
      "| 18|           343.375|\n",
      "| 19|213.27272727272728|\n",
      "| 20|             165.0|\n",
      "| 21|           350.875|\n",
      "| 22|206.42857142857142|\n",
      "+---+------------------+\n",
      "only showing top 5 rows\n",
      "\n"
     ]
    }
   ],
   "source": [
    "sel.select('_c2', (sel[\"sum(_c3)\"]/sel[\"sum(count)\"]).alias('avg')).orderBy(\"_c2\").show(5)"
   ]
  },
  {
   "cell_type": "markdown",
   "id": "0273ed17",
   "metadata": {},
   "source": [
    "## Type-2"
   ]
  },
  {
   "cell_type": "code",
   "execution_count": 18,
   "id": "7a05bcfe",
   "metadata": {},
   "outputs": [
    {
     "name": "stdout",
     "output_type": "stream",
     "text": [
      "+---+------------------+\n",
      "|_c2|          avg(_c3)|\n",
      "+---+------------------+\n",
      "| 18|           343.375|\n",
      "| 19|213.27272727272728|\n",
      "| 20|             165.0|\n",
      "| 21|           350.875|\n",
      "| 22|206.42857142857142|\n",
      "+---+------------------+\n",
      "only showing top 5 rows\n",
      "\n"
     ]
    }
   ],
   "source": [
    "data.groupBy(\"_c2\").avg(\"_c3\").sort(\"_c2\").show(5)"
   ]
  },
  {
   "cell_type": "markdown",
   "id": "ce7afd0a",
   "metadata": {},
   "source": [
    "## Type-3"
   ]
  },
  {
   "cell_type": "code",
   "execution_count": 21,
   "id": "299a17da",
   "metadata": {},
   "outputs": [],
   "source": [
    "from pyspark.sql import functions as func"
   ]
  },
  {
   "cell_type": "code",
   "execution_count": 24,
   "id": "59acb969",
   "metadata": {},
   "outputs": [
    {
     "name": "stdout",
     "output_type": "stream",
     "text": [
      "+---+------------------+\n",
      "|_c2|round(avg(_c3), 5)|\n",
      "+---+------------------+\n",
      "| 18|           343.375|\n",
      "| 19|         213.27273|\n",
      "| 20|             165.0|\n",
      "| 21|           350.875|\n",
      "| 22|         206.42857|\n",
      "+---+------------------+\n",
      "only showing top 5 rows\n",
      "\n"
     ]
    }
   ],
   "source": [
    "data.groupBy(\"_c2\").agg(func.round(func.avg(\"_c3\"),5)).sort(\"_c2\").show(5)"
   ]
  },
  {
   "cell_type": "code",
   "execution_count": 28,
   "id": "c38b4cf1",
   "metadata": {},
   "outputs": [
    {
     "name": "stdout",
     "output_type": "stream",
     "text": [
      "+---+-----------+\n",
      "|_c2|friends_avg|\n",
      "+---+-----------+\n",
      "| 18|     343.38|\n",
      "| 19|     213.27|\n",
      "| 20|      165.0|\n",
      "| 21|     350.88|\n",
      "| 22|     206.43|\n",
      "+---+-----------+\n",
      "only showing top 5 rows\n",
      "\n"
     ]
    }
   ],
   "source": [
    "data.groupBy(\"_c2\").agg(func.round(func.avg(\"_c3\"),2).alias(\"friends_avg\")).sort(\"_c2\").show(5)"
   ]
  },
  {
   "cell_type": "code",
   "execution_count": null,
   "id": "31f37648",
   "metadata": {},
   "outputs": [],
   "source": []
  }
 ],
 "metadata": {
  "kernelspec": {
   "display_name": "Python 3 (ipykernel)",
   "language": "python",
   "name": "python3"
  },
  "language_info": {
   "codemirror_mode": {
    "name": "ipython",
    "version": 3
   },
   "file_extension": ".py",
   "mimetype": "text/x-python",
   "name": "python",
   "nbconvert_exporter": "python",
   "pygments_lexer": "ipython3",
   "version": "3.7.9"
  }
 },
 "nbformat": 4,
 "nbformat_minor": 5
}
