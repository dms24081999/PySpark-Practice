{
 "cells": [
  {
   "cell_type": "markdown",
   "id": "fc575c73",
   "metadata": {},
   "source": [
    "Creating Spark Session"
   ]
  },
  {
   "cell_type": "code",
   "execution_count": 17,
   "id": "66ef9eeb",
   "metadata": {},
   "outputs": [],
   "source": [
    "import findspark\n",
    "findspark.init()\n",
    "from pyspark.sql import SparkSession\n",
    "spark=SparkSession.builder.appName(\"Practice-1\").getOrCreate()"
   ]
  },
  {
   "cell_type": "code",
   "execution_count": null,
   "id": "f7cf86e5",
   "metadata": {},
   "outputs": [],
   "source": [
    "spark.version"
   ]
  },
  {
   "cell_type": "markdown",
   "id": "549fad48",
   "metadata": {},
   "source": [
    "Creating Spark Context"
   ]
  },
  {
   "cell_type": "code",
   "execution_count": 1,
   "id": "567437d3",
   "metadata": {},
   "outputs": [],
   "source": [
    "from pyspark import SparkConf, SparkContext\n",
    "conf=SparkConf()\n",
    "conf.setMaster('local')\n",
    "conf.setAppName(\"Practice-2\")\n",
    "sc=SparkContext.getOrCreate(conf=conf)"
   ]
  },
  {
   "cell_type": "code",
   "execution_count": 2,
   "id": "057f3559",
   "metadata": {},
   "outputs": [
    {
     "data": {
      "text/plain": [
       "'2.4.8'"
      ]
     },
     "execution_count": 2,
     "metadata": {},
     "output_type": "execute_result"
    }
   ],
   "source": [
    "sc.version"
   ]
  },
  {
   "cell_type": "code",
   "execution_count": 3,
   "id": "571442a6",
   "metadata": {},
   "outputs": [
    {
     "data": {
      "text/plain": [
       "1"
      ]
     },
     "execution_count": 3,
     "metadata": {},
     "output_type": "execute_result"
    }
   ],
   "source": [
    "sc.defaultParallelism"
   ]
  },
  {
   "cell_type": "markdown",
   "id": "db749796",
   "metadata": {},
   "source": [
    "# PySpark Job"
   ]
  },
  {
   "cell_type": "code",
   "execution_count": 43,
   "id": "602e14e7",
   "metadata": {},
   "outputs": [],
   "source": [
    "def mod(x):\n",
    "    return (x,x%2)"
   ]
  },
  {
   "cell_type": "code",
   "execution_count": 44,
   "id": "c4bbe276",
   "metadata": {},
   "outputs": [],
   "source": [
    "rdd=sc.parallelize(range(1,10))"
   ]
  },
  {
   "cell_type": "code",
   "execution_count": 45,
   "id": "58c65910",
   "metadata": {},
   "outputs": [
    {
     "name": "stdout",
     "output_type": "stream",
     "text": [
      "1853390393224\n"
     ]
    }
   ],
   "source": [
    "old_rdd=(id(rdd))\n",
    "print(old_rdd)"
   ]
  },
  {
   "cell_type": "code",
   "execution_count": 46,
   "id": "2a45f3f8",
   "metadata": {},
   "outputs": [],
   "source": [
    "rdd=rdd.map(mod)"
   ]
  },
  {
   "cell_type": "code",
   "execution_count": 47,
   "id": "3950b725",
   "metadata": {},
   "outputs": [
    {
     "name": "stdout",
     "output_type": "stream",
     "text": [
      "1853388370696\n"
     ]
    }
   ],
   "source": [
    "new_rdd=(id(rdd))\n",
    "print(new_rdd)"
   ]
  },
  {
   "cell_type": "code",
   "execution_count": 51,
   "id": "6532f460",
   "metadata": {},
   "outputs": [
    {
     "name": "stdout",
     "output_type": "stream",
     "text": [
      "PythonRDD[84] at RDD at PythonRDD.scala:53\n"
     ]
    }
   ],
   "source": [
    "import ctypes\n",
    "print (ctypes.cast(old_rdd, ctypes.py_object).value)"
   ]
  },
  {
   "cell_type": "code",
   "execution_count": 50,
   "id": "eda531ad",
   "metadata": {},
   "outputs": [
    {
     "name": "stdout",
     "output_type": "stream",
     "text": [
      "PythonRDD[85] at RDD at PythonRDD.scala:53\n"
     ]
    }
   ],
   "source": [
    "import ctypes\n",
    "print (ctypes.cast(new_rdd, ctypes.py_object).value)"
   ]
  },
  {
   "cell_type": "code",
   "execution_count": 11,
   "id": "33d9b5d3",
   "metadata": {},
   "outputs": [],
   "source": [
    "# import gc\n",
    "# del rdd\n",
    "# gc.collect()"
   ]
  },
  {
   "cell_type": "code",
   "execution_count": 37,
   "id": "a7f1ab23",
   "metadata": {},
   "outputs": [
    {
     "data": {
      "text/plain": [
       "[1, 2, 3, 7, 8]"
      ]
     },
     "execution_count": 37,
     "metadata": {},
     "output_type": "execute_result"
    }
   ],
   "source": [
    "rdd.take(5)"
   ]
  },
  {
   "cell_type": "code",
   "execution_count": 13,
   "id": "ab7e7d38",
   "metadata": {},
   "outputs": [
    {
     "data": {
      "text/plain": [
       "[(1, 1), (2, 0), (3, 1), (4, 0), (5, 1), (6, 0), (7, 1), (8, 0), (9, 1)]"
      ]
     },
     "execution_count": 13,
     "metadata": {},
     "output_type": "execute_result"
    }
   ],
   "source": [
    "rdd.collect()"
   ]
  },
  {
   "cell_type": "code",
   "execution_count": 14,
   "id": "8cbc533b",
   "metadata": {},
   "outputs": [
    {
     "data": {
      "text/plain": [
       "[[(1, 1), (2, 0), (3, 1), (4, 0), (5, 1), (6, 0), (7, 1), (8, 0), (9, 1)]]"
      ]
     },
     "execution_count": 14,
     "metadata": {},
     "output_type": "execute_result"
    }
   ],
   "source": [
    "rdd.glom().collect()"
   ]
  },
  {
   "cell_type": "code",
   "execution_count": 19,
   "id": "c0bb1015",
   "metadata": {},
   "outputs": [
    {
     "data": {
      "text/plain": [
       "1"
      ]
     },
     "execution_count": 19,
     "metadata": {},
     "output_type": "execute_result"
    }
   ],
   "source": [
    "len(rdd.glom().collect())"
   ]
  },
  {
   "cell_type": "code",
   "execution_count": 33,
   "id": "7ce49254",
   "metadata": {},
   "outputs": [
    {
     "data": {
      "text/plain": [
       "[[1, 2, 3], [4, 5, 6], [7, 8, 9]]"
      ]
     },
     "execution_count": 33,
     "metadata": {},
     "output_type": "execute_result"
    }
   ],
   "source": [
    "rdd=sc.parallelize(range(1,10),3)\n",
    "rdd.glom().collect()"
   ]
  },
  {
   "cell_type": "code",
   "execution_count": 34,
   "id": "83b63c73",
   "metadata": {},
   "outputs": [
    {
     "data": {
      "text/plain": [
       "[[1, 2, 3, 7, 8, 9], [4, 5, 6]]"
      ]
     },
     "execution_count": 34,
     "metadata": {},
     "output_type": "execute_result"
    }
   ],
   "source": [
    "rdd=rdd.repartition(2)\n",
    "rdd.glom().collect()"
   ]
  },
  {
   "cell_type": "code",
   "execution_count": 35,
   "id": "c6101fa8",
   "metadata": {},
   "outputs": [
    {
     "data": {
      "text/plain": [
       "[[], [1, 2, 3], [7, 8, 9], [4, 5, 6], []]"
      ]
     },
     "execution_count": 35,
     "metadata": {},
     "output_type": "execute_result"
    }
   ],
   "source": [
    "rdd=rdd.repartition(5)\n",
    "rdd.glom().collect()"
   ]
  },
  {
   "cell_type": "code",
   "execution_count": 36,
   "id": "3b213ebe",
   "metadata": {},
   "outputs": [
    {
     "data": {
      "text/plain": [
       "[[1, 2, 3, 7, 8, 9, 4, 5, 6]]"
      ]
     },
     "execution_count": 36,
     "metadata": {},
     "output_type": "execute_result"
    }
   ],
   "source": [
    "rdd=rdd.repartition(1)\n",
    "rdd.glom().collect()"
   ]
  },
  {
   "cell_type": "markdown",
   "id": "b2493002",
   "metadata": {},
   "source": [
    "## Read from text file"
   ]
  },
  {
   "cell_type": "code",
   "execution_count": 97,
   "id": "dbca4c77",
   "metadata": {},
   "outputs": [
    {
     "data": {
      "text/plain": [
       "['A wiki (/ˈwɪki/ (About this soundlisten) WIK-ee) is a hypertext publication collaboratively edited and managed by its own audience directly using a web browser. A typical wiki contains multiple pages for the subjects or scope of the project and could be either open to the public or limited to use within an organization for maintaining its internal knowledge base.',\n",
       " '']"
      ]
     },
     "execution_count": 97,
     "metadata": {},
     "output_type": "execute_result"
    }
   ],
   "source": [
    "textrdd=sc.textFile(\"textfiles/Spark.txt\")\n",
    "textrdd.take(2)\n",
    "# textrdd.collect()"
   ]
  },
  {
   "cell_type": "code",
   "execution_count": 94,
   "id": "261f13ec",
   "metadata": {},
   "outputs": [
    {
     "data": {
      "text/plain": [
       "Spark.txt MapPartitionsRDD[110] at textFile at NativeMethodAccessorImpl.java:0"
      ]
     },
     "execution_count": 94,
     "metadata": {},
     "output_type": "execute_result"
    }
   ],
   "source": [
    "textrdd.cache()"
   ]
  },
  {
   "cell_type": "code",
   "execution_count": 12,
   "id": "5f794f3c",
   "metadata": {},
   "outputs": [
    {
     "data": {
      "text/plain": [
       "['A wiki (/ˈwɪki/ (About this soundlisten) WIK-ee) is a hypertext publication collaboratively edited and managed by its own audience directly using a web browser. A typical wiki contains multiple pages for the subjects or scope of the project and could be either open to the public or limited to use within an organization for maintaining its internal knowledge base.',\n",
       " '',\n",
       " 'Wikis are enabled by wiki software, otherwise known as wiki engines. A wiki engine, being a form of a content management system, differs from other web-based systems such as blog software, in that the content is created without any defined owner or leader, and wikis have little inherent structure, allowing structure to emerge according to the needs of the users.[1] Wiki engines usually allow content to be written using a simplified markup language and sometimes edited with the help of a rich-text editor.[2] There are dozens of different wiki engines in use, both standalone and part of other software, such as bug tracking systems. Some wiki engines are open source, whereas others are proprietary. Some permit control over different functions (levels of access); for example, editing rights may permit changing, adding, or removing material. Others may permit access without enforcing access control. Other rules may be imposed to organize content.',\n",
       " '',\n",
       " 'The online encyclopedia project, Wikipedia, is the most popular wiki-based website, and is one of the most widely viewed sites in the world, having been ranked in the top twenty since 2007.[3] Wikipedia is not a single wiki but rather a collection of hundreds of wikis, with each one pertaining to a specific language. In addition to Wikipedia, there are hundreds of thousands of other wikis in use, both public and private, including wikis functioning as knowledge management resources, notetaking tools, community websites, and intranets. The English-language Wikipedia has the largest collection of articles: as of February 2020, it has over 6 million articles. Ward Cunningham, the developer of the first wiki software, WikiWikiWeb, originally described wiki as \"the simplest online database that could possibly work.\"[4] \"Wiki\" (pronounced [wiki][note 1]) is a Hawaiian word meaning \"quick.']"
      ]
     },
     "execution_count": 12,
     "metadata": {},
     "output_type": "execute_result"
    }
   ],
   "source": [
    "textrdd=sc.wholeTextFile(\"textfiles\")"
   ]
  },
  {
   "cell_type": "code",
   "execution_count": 15,
   "id": "8eeb98da",
   "metadata": {},
   "outputs": [
    {
     "data": {
      "text/plain": [
       "Spark.txt MapPartitionsRDD[3] at textFile at NativeMethodAccessorImpl.java:0"
      ]
     },
     "execution_count": 15,
     "metadata": {},
     "output_type": "execute_result"
    }
   ],
   "source": []
  },
  {
   "cell_type": "markdown",
   "id": "c36c6298",
   "metadata": {},
   "source": [
    "# Transformation"
   ]
  },
  {
   "cell_type": "markdown",
   "id": "55dfe62b",
   "metadata": {},
   "source": [
    "## map"
   ]
  },
  {
   "cell_type": "code",
   "execution_count": 89,
   "id": "a1ed8706",
   "metadata": {},
   "outputs": [
    {
     "data": {
      "text/plain": [
       "[('spark', 5), ('rdd', 3), ('example', 7), ('sample', 6)]"
      ]
     },
     "execution_count": 89,
     "metadata": {},
     "output_type": "execute_result"
    }
   ],
   "source": [
    "x=sc.parallelize([\"spark\", \"rdd\", \"example\", \"sample\"])\n",
    "y=x.map(lambda x:(x,len(x)))\n",
    "y.collect()"
   ]
  },
  {
   "cell_type": "markdown",
   "id": "8a1138b7",
   "metadata": {},
   "source": [
    "## Tuple map"
   ]
  },
  {
   "cell_type": "code",
   "execution_count": 85,
   "id": "81422713",
   "metadata": {},
   "outputs": [
    {
     "data": {
      "text/plain": [
       "[('a', 7), ('b', 2), ('c', 2)]"
      ]
     },
     "execution_count": 85,
     "metadata": {},
     "output_type": "execute_result"
    }
   ],
   "source": [
    "rdd = sc.parallelize([('a' ,7),('b' ,2),('c' ,2)])\n",
    "rdd.collect()"
   ]
  },
  {
   "cell_type": "code",
   "execution_count": 90,
   "id": "af3b3059",
   "metadata": {},
   "outputs": [],
   "source": [
    "def changes(tup):\n",
    "    return (tup[0],len(tup[0]))"
   ]
  },
  {
   "cell_type": "code",
   "execution_count": 91,
   "id": "065b55c5",
   "metadata": {},
   "outputs": [
    {
     "data": {
      "text/plain": [
       "[('a', 1), ('b', 1), ('c', 1)]"
      ]
     },
     "execution_count": 91,
     "metadata": {},
     "output_type": "execute_result"
    }
   ],
   "source": [
    "rdd=rdd.map(changes)\n",
    "rdd.collect()"
   ]
  },
  {
   "cell_type": "markdown",
   "id": "fa681e35",
   "metadata": {},
   "source": [
    "## flatMap"
   ]
  },
  {
   "cell_type": "code",
   "execution_count": 41,
   "id": "6ca558fe",
   "metadata": {},
   "outputs": [
    {
     "data": {
      "text/plain": [
       "[1, 1, 2, 1, 2, 3]"
      ]
     },
     "execution_count": 41,
     "metadata": {},
     "output_type": "execute_result"
    }
   ],
   "source": [
    "x=sc.parallelize([2,3,4])\n",
    "y=x.flatMap(lambda x: range(1,x))\n",
    "y.collect()"
   ]
  },
  {
   "cell_type": "markdown",
   "id": "934bed2b",
   "metadata": {},
   "source": [
    "## filter"
   ]
  },
  {
   "cell_type": "code",
   "execution_count": 42,
   "id": "db39c8f6",
   "metadata": {},
   "outputs": [
    {
     "data": {
      "text/plain": [
       "[2, 4]"
      ]
     },
     "execution_count": 42,
     "metadata": {},
     "output_type": "execute_result"
    }
   ],
   "source": [
    "x=sc.parallelize([1,2,3,4,5])\n",
    "x.filter(lambda x: x%2==0).collect()"
   ]
  },
  {
   "cell_type": "code",
   "execution_count": 88,
   "id": "8612688a",
   "metadata": {},
   "outputs": [
    {
     "data": {
      "text/plain": [
       "[('a', 1), ('b', 1), ('c', 1)]"
      ]
     },
     "execution_count": 88,
     "metadata": {},
     "output_type": "execute_result"
    }
   ],
   "source": []
  },
  {
   "cell_type": "code",
   "execution_count": null,
   "id": "5479b511",
   "metadata": {},
   "outputs": [],
   "source": []
  }
 ],
 "metadata": {
  "kernelspec": {
   "display_name": "Python 3 (ipykernel)",
   "language": "python",
   "name": "python3"
  },
  "language_info": {
   "codemirror_mode": {
    "name": "ipython",
    "version": 3
   },
   "file_extension": ".py",
   "mimetype": "text/x-python",
   "name": "python",
   "nbconvert_exporter": "python",
   "pygments_lexer": "ipython3",
   "version": "3.7.9"
  }
 },
 "nbformat": 4,
 "nbformat_minor": 5
}
