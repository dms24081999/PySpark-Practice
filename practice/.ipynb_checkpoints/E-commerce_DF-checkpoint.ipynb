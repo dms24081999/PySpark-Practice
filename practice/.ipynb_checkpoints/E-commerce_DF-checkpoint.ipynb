{
 "cells": [
  {
   "cell_type": "code",
   "execution_count": null,
   "metadata": {
    "colab": {
     "base_uri": "https://localhost:8080/"
    },
    "id": "1qt1NtIejP-k",
    "outputId": "c5fab15d-a878-40dd-9480-074ff04ff809"
   },
   "outputs": [
    {
     "name": "stdout",
     "output_type": "stream",
     "text": [
      "Mounted at /gdrive\n"
     ]
    }
   ],
   "source": [
    "from google.colab import drive\n",
    "drive.mount('/gdrive')"
   ]
  },
  {
   "cell_type": "markdown",
   "metadata": {
    "id": "RnYXOMjz-RAX"
   },
   "source": [
    "# **Basics**"
   ]
  },
  {
   "cell_type": "code",
   "execution_count": null,
   "metadata": {
    "id": "AzALPz9MDY5g"
   },
   "outputs": [],
   "source": [
    "!apt-get install openjdk-8-jdk-headless -qq > /dev/null"
   ]
  },
  {
   "cell_type": "code",
   "execution_count": null,
   "metadata": {
    "colab": {
     "base_uri": "https://localhost:8080/"
    },
    "id": "yZf-G14LEkHe",
    "outputId": "dc7f1fbb-4b27-496b-8a4f-3decc9beddba"
   },
   "outputs": [
    {
     "name": "stdout",
     "output_type": "stream",
     "text": [
      "sample_data  spark-3.1.2-bin-hadoop2.7.tgz\n"
     ]
    }
   ],
   "source": [
    "# get file url from the spark website\n",
    "!wget -q https://mirrors.estointernet.in/apache/spark/spark-3.1.2/spark-3.1.2-bin-hadoop2.7.tgz\n",
    "!ls"
   ]
  },
  {
   "cell_type": "code",
   "execution_count": null,
   "metadata": {
    "id": "IUBY0jpPGrb-"
   },
   "outputs": [],
   "source": [
    "!tar xf spark-3.1.2-bin-hadoop2.7.tgz\n",
    "!pip install -q findspark"
   ]
  },
  {
   "cell_type": "code",
   "execution_count": null,
   "metadata": {
    "id": "C1yIxxEpEvVU"
   },
   "outputs": [],
   "source": [
    "import os\n",
    "os.environ[\"JAVA_HOME\"] = \"/usr/lib/jvm/java-8-openjdk-amd64\"\n",
    "os.environ[\"SPARK_HOME\"] = \"/content/spark-3.1.2-bin-hadoop2.7\""
   ]
  },
  {
   "cell_type": "code",
   "execution_count": 1,
   "metadata": {
    "colab": {
     "base_uri": "https://localhost:8080/"
    },
    "id": "0eZd4K1zE0LE",
    "outputId": "8cb5f081-2cdd-4626-8d23-576c7e123627"
   },
   "outputs": [
    {
     "data": {
      "text/plain": [
       "'C:\\\\work\\\\spark-2.4.8-bin-hadoop2.7'"
      ]
     },
     "execution_count": 1,
     "metadata": {},
     "output_type": "execute_result"
    }
   ],
   "source": [
    "import findspark\n",
    "findspark.init()\n",
    "findspark.find()"
   ]
  },
  {
   "cell_type": "markdown",
   "metadata": {
    "id": "HFCcB-bg-cBt"
   },
   "source": [
    "# **Assignment**"
   ]
  },
  {
   "cell_type": "markdown",
   "metadata": {
    "id": "SrvpETThqa--"
   },
   "source": [
    "Dataset is [here](https://www.kaggle.com/benroshan/ecommerce-data?select=Order+Details.csv).\n",
    "\n",
    "**Questions:**\n",
    "1. In which order, there was maximum loss and in which order, there was maximum profit?\n",
    "\n",
    "2. Which category has been the most profitable and the least profitable (maybe have caused a loss as well)?\n",
    "\n",
    "3. From which state, most orders have been placed? \n",
    "\n",
    "4. Which category of product has been sold the most?\n",
    "\n",
    "5. For which all months, the sales target have been achieved? So, for each month, there's a sales target for each category. Find out for which category and which month, the sales target was achieved and not achieved.\n",
    "\n",
    "6. Which customer has spent the most amount on the website?\n",
    "\n",
    "## **Reading the Data**"
   ]
  },
  {
   "cell_type": "code",
   "execution_count": 2,
   "metadata": {
    "id": "rQHo_gvsIIsB"
   },
   "outputs": [],
   "source": [
    "import pyspark\n",
    "from pyspark.sql import SparkSession\n",
    "import pyspark.sql.functions as f\n",
    "\n",
    "\n",
    "spark = SparkSession.builder.master('local[1]').appName('E-commerce').getOrCreate()"
   ]
  },
  {
   "cell_type": "code",
   "execution_count": 4,
   "metadata": {
    "id": "3p0YCoUHI9Ga"
   },
   "outputs": [],
   "source": [
    "from pyspark.sql.types import FloatType, StringType, StructType, StructField, IntegerType, DateType\n",
    "\n",
    "\n",
    "order_deets_schema = StructType([\n",
    "                                 StructField(\"Order ID\", StringType(), True),\n",
    "                                 StructField(\"Amount\", FloatType(), True),\n",
    "                                 StructField(\"Profit\", FloatType(), True),\n",
    "                                 StructField(\"Quantity\", IntegerType(), True),\n",
    "                                 StructField(\"Category\", StringType(), True),\n",
    "                                 StructField(\"Sub-category\", StringType(), True)\n",
    "])\n",
    "orders_schema = StructType([\n",
    "                            StructField(\"Order ID\", StringType(), True),\n",
    "                            StructField(\"Order Date\", DateType(), True),\n",
    "                            StructField(\"CustomerName\", StringType(), True),\n",
    "                            StructField(\"State\", StringType(), True),\n",
    "                            StructField(\"City\", StringType(), True),\n",
    "])\n",
    "target_schema = StructType([\n",
    "                            StructField(\"Month of Order Date\", StringType(), True),\n",
    "                            StructField(\"Category\", StringType(), True),\n",
    "                            StructField(\"Target\", FloatType(), True),\n",
    "])\n",
    "order_deets_df = spark.read.option(\"dateFormat\", \"dd-MM-yyyy\").csv(\"archive/order_details.csv\", header = True, schema = order_deets_schema).dropna()\n",
    "orders_df = spark.read.option(\"dateFormat\", \"dd-MM-yyyy\").csv(\"archive/orders.csv\", header = True, schema = orders_schema)\n",
    "target_df = spark.read.option(\"dateFormat\", \"dd-MM-yyyy\").csv(\"archive/target.csv\", header = True, schema = target_schema)"
   ]
  },
  {
   "cell_type": "code",
   "execution_count": 5,
   "metadata": {
    "colab": {
     "base_uri": "https://localhost:8080/"
    },
    "id": "mUVvK3PqsWXh",
    "outputId": "4160e6f9-c0f7-454b-9d51-3b061ab1378d"
   },
   "outputs": [
    {
     "name": "stdout",
     "output_type": "stream",
     "text": [
      "root\n",
      " |-- Order ID: string (nullable = true)\n",
      " |-- Amount: float (nullable = true)\n",
      " |-- Profit: float (nullable = true)\n",
      " |-- Quantity: integer (nullable = true)\n",
      " |-- Category: string (nullable = true)\n",
      " |-- Sub-category: string (nullable = true)\n",
      "\n",
      "root\n",
      " |-- Order ID: string (nullable = true)\n",
      " |-- Order Date: date (nullable = true)\n",
      " |-- CustomerName: string (nullable = true)\n",
      " |-- State: string (nullable = true)\n",
      " |-- City: string (nullable = true)\n",
      "\n",
      "root\n",
      " |-- Month of Order Date: string (nullable = true)\n",
      " |-- Category: string (nullable = true)\n",
      " |-- Target: float (nullable = true)\n",
      "\n"
     ]
    }
   ],
   "source": [
    "order_deets_df.printSchema()\n",
    "orders_df.printSchema()\n",
    "target_df.printSchema()"
   ]
  },
  {
   "cell_type": "markdown",
   "metadata": {
    "id": "wHwwzjgDsGUG"
   },
   "source": [
    "## **1. Max Loss and Max Profit Order**"
   ]
  },
  {
   "cell_type": "code",
   "execution_count": 6,
   "metadata": {
    "id": "BmYEeVSBqLAX"
   },
   "outputs": [],
   "source": [
    "from pyspark.sql.functions import sum\n",
    "\n",
    "\n",
    "order_grouped = order_deets_df.groupBy(\"Order ID\").agg(sum(\"Profit\").alias(\"Profit Per Order\"))"
   ]
  },
  {
   "cell_type": "markdown",
   "metadata": {
    "id": "0Lqi27cT6lVC"
   },
   "source": [
    "**Max Profit and Min Profit Using Order By**"
   ]
  },
  {
   "cell_type": "code",
   "execution_count": 27,
   "metadata": {
    "colab": {
     "base_uri": "https://localhost:8080/"
    },
    "id": "n6feTyzn20Af",
    "outputId": "246ab254-13a2-4ab5-8f95-29b2b16f2e7a"
   },
   "outputs": [
    {
     "name": "stdout",
     "output_type": "stream",
     "text": [
      "Row(Order ID='B-25973', Profit Per Order=1970.0)\n",
      "[Row(Order ID='B-25798', Profit Per Order=-1836.0)]\n"
     ]
    }
   ],
   "source": [
    "order_pl = order_grouped.orderBy(\"Profit Per Order\", ascending = False)\n",
    "print(order_pl.first())\n",
    "print(order_pl.tail(1))"
   ]
  },
  {
   "cell_type": "markdown",
   "metadata": {
    "id": "6Y9JTVVx6vn9"
   },
   "source": [
    "**Max Profit and Min Profit using Max and Min Functions**"
   ]
  },
  {
   "cell_type": "code",
   "execution_count": 30,
   "metadata": {
    "colab": {
     "base_uri": "https://localhost:8080/"
    },
    "id": "NoBmh-5f3sP_",
    "outputId": "85d44410-2dce-404f-d61b-ff75e7c0997e"
   },
   "outputs": [
    {
     "name": "stdout",
     "output_type": "stream",
     "text": [
      "+----------+\n",
      "|Max Profit|\n",
      "+----------+\n",
      "|    1970.0|\n",
      "+----------+\n",
      "\n",
      "+----------+\n",
      "|Min Profit|\n",
      "+----------+\n",
      "|   -1836.0|\n",
      "+----------+\n",
      "\n"
     ]
    }
   ],
   "source": [
    "order_grouped.agg(f.max(f.col(\"Profit Per Order\")).alias(\"Max Profit\")).show()\n",
    "order_grouped.agg(f.min(f.col(\"Profit Per Order\")).alias(\"Min Profit\")).show()"
   ]
  },
  {
   "cell_type": "markdown",
   "metadata": {
    "id": "KXSggPbi61Y9"
   },
   "source": [
    "## **2. Max Profit and Min Profit Category**"
   ]
  },
  {
   "cell_type": "code",
   "execution_count": null,
   "metadata": {
    "id": "eEgKci3Z60zS"
   },
   "outputs": [],
   "source": [
    "category_pl = order_deets_df.groupBy(\"Category\").agg(sum(\"Profit\").alias(\"Profit Per Category\")).orderBy(\"Profit Per Category\", ascending = False)"
   ]
  },
  {
   "cell_type": "markdown",
   "metadata": {
    "id": "JtZ-FPBJ8q9b"
   },
   "source": [
    "**Most Profitable Category**"
   ]
  },
  {
   "cell_type": "code",
   "execution_count": null,
   "metadata": {
    "colab": {
     "base_uri": "https://localhost:8080/"
    },
    "id": "w4I96oKp8DN8",
    "outputId": "43922ff8-d4e0-4576-bd83-a09bbe3bfded"
   },
   "outputs": [
    {
     "data": {
      "text/plain": [
       "Row(Category='Clothing', Profit Per Category=11163.0)"
      ]
     },
     "execution_count": 14,
     "metadata": {
      "tags": []
     },
     "output_type": "execute_result"
    }
   ],
   "source": [
    "category_pl.first()"
   ]
  },
  {
   "cell_type": "markdown",
   "metadata": {
    "id": "GGu8L0MC8vXi"
   },
   "source": [
    "**Least Profitable Category**"
   ]
  },
  {
   "cell_type": "code",
   "execution_count": null,
   "metadata": {
    "colab": {
     "base_uri": "https://localhost:8080/"
    },
    "id": "K3zNmxqs80lC",
    "outputId": "36aeacc1-ed1d-4359-d3de-aecec08b4efe"
   },
   "outputs": [
    {
     "data": {
      "text/plain": [
       "[Row(Category='Furniture', Profit Per Category=2298.0)]"
      ]
     },
     "execution_count": 15,
     "metadata": {
      "tags": []
     },
     "output_type": "execute_result"
    }
   ],
   "source": [
    "category_pl.tail(1)"
   ]
  },
  {
   "cell_type": "markdown",
   "metadata": {
    "id": "apRDnrM0AO74"
   },
   "source": [
    "## **3. Most Orders By State**"
   ]
  },
  {
   "cell_type": "code",
   "execution_count": null,
   "metadata": {
    "id": "bJ_g7zZpAD50"
   },
   "outputs": [],
   "source": [
    "state_order = orders_df.groupBy(\"State\").count().orderBy(\"Count\", ascending = False)"
   ]
  },
  {
   "cell_type": "code",
   "execution_count": null,
   "metadata": {
    "colab": {
     "base_uri": "https://localhost:8080/"
    },
    "id": "mlZhNkVnAwQT",
    "outputId": "d9208a09-c543-46b2-a750-1c1e8fc25d77"
   },
   "outputs": [
    {
     "data": {
      "text/plain": [
       "Row(State='Madhya Pradesh', count=101)"
      ]
     },
     "execution_count": 17,
     "metadata": {
      "tags": []
     },
     "output_type": "execute_result"
    }
   ],
   "source": [
    "state_order.first()"
   ]
  },
  {
   "cell_type": "markdown",
   "metadata": {
    "id": "jgnWZHOUfvYn"
   },
   "source": [
    "## **4. Most Sold Categries**"
   ]
  },
  {
   "cell_type": "code",
   "execution_count": null,
   "metadata": {
    "id": "Idb1wKycgDli"
   },
   "outputs": [],
   "source": [
    "category_count = order_deets_df.groupBy(\"Category\").agg(sum(\"Quantity\").alias(\"Products Sold Per Cateory\")).orderBy(\"Products Sold Per Cateory\", ascending = False)"
   ]
  },
  {
   "cell_type": "code",
   "execution_count": null,
   "metadata": {
    "colab": {
     "base_uri": "https://localhost:8080/"
    },
    "id": "C6dDt1BzgwGd",
    "outputId": "5d17832c-69d7-481b-fa04-ef053bc1875a"
   },
   "outputs": [
    {
     "data": {
      "text/plain": [
       "Row(Category='Clothing', Products Sold Per Cateory=3516)"
      ]
     },
     "execution_count": 19,
     "metadata": {
      "tags": []
     },
     "output_type": "execute_result"
    }
   ],
   "source": [
    "category_count.first()"
   ]
  },
  {
   "cell_type": "markdown",
   "metadata": {
    "id": "gBskJl_wg5rI"
   },
   "source": [
    "## **5. Target Achieved**"
   ]
  },
  {
   "cell_type": "code",
   "execution_count": null,
   "metadata": {
    "id": "eM650MfumXoi"
   },
   "outputs": [],
   "source": [
    "months = [\"\", \"Jan\", \"Feb\", \"Mar\", \"Apr\", \"May\", \"Jun\", \"Jul\", \"Aug\", \"Sep\", \"Oct\", \"Nov\", \"Dec\"]\n",
    "to_month = f.udf(lambda x: months[x])\n",
    "mod_year = f.udf(lambda x: x % 2000)\n",
    "\n",
    "# Getting order timestamps\n",
    "orders_na = orders_df.select(\"Order ID\", \"Order Date\")\\\n",
    ".withColumn(\"Order Year\", mod_year(f.year(\"Order Date\")))\\\n",
    ".withColumn(\"Order Month\", to_month(f.month(\"Order Date\")))\n",
    "\n",
    "order_my = order_deets_df.join(orders_na, on = \"Order ID\", how = \"left\")\\\n",
    ".select(f.concat_ws(\"-\", f.col(\"Order Month\"), f.col(\"Order Year\")).alias(\"Date\"), \"Category\", \"Amount\")"
   ]
  },
  {
   "cell_type": "code",
   "execution_count": null,
   "metadata": {
    "id": "A46eiGbLzV9F"
   },
   "outputs": [],
   "source": [
    "order_my_grouped = order_my.groupBy([\"Date\", \"Category\"]).agg(sum(\"Amount\").alias(\"Amount\"))"
   ]
  },
  {
   "cell_type": "code",
   "execution_count": null,
   "metadata": {
    "colab": {
     "base_uri": "https://localhost:8080/"
    },
    "id": "hAYOlxSu3HtK",
    "outputId": "6f55ec00-a91e-4f7b-aa40-81d02ae6b20c"
   },
   "outputs": [
    {
     "name": "stdout",
     "output_type": "stream",
     "text": [
      "+------+-----------+-------+-------+--------+\n",
      "|  Date|   Category| Target| Amount|Achieved|\n",
      "+------+-----------+-------+-------+--------+\n",
      "|Feb-19|Electronics|16000.0|12593.0|      No|\n",
      "|Nov-18|Electronics| 9000.0|16651.0|     Yes|\n",
      "|Mar-19|  Furniture|11800.0|16659.0|     Yes|\n",
      "|Sep-18|Electronics| 9000.0| 7207.0|      No|\n",
      "|Aug-18|   Clothing|14000.0|11822.0|      No|\n",
      "+------+-----------+-------+-------+--------+\n",
      "only showing top 5 rows\n",
      "\n"
     ]
    }
   ],
   "source": [
    "get_achieved = f.udf(lambda x, y: \"No\" if x < y else \"Yes\")\n",
    "\n",
    "temp_target = target_df.select(f.col(\"Month of Order Date\").alias(\"Date\"), \"Category\", \"Target\")\n",
    "\n",
    "temp_target.join(order_my_grouped, on = [\"Date\", \"Category\"], how = \"inner\")\\\n",
    ".withColumn(\"Achieved\", get_achieved(f.col(\"Amount\"), f.col(\"Target\"))).show(5)"
   ]
  },
  {
   "cell_type": "markdown",
   "metadata": {
    "id": "1Wy6D08mhI3d"
   },
   "source": [
    "## **6. Best Customer**"
   ]
  },
  {
   "cell_type": "code",
   "execution_count": null,
   "metadata": {
    "id": "PG-3E1vghODN"
   },
   "outputs": [],
   "source": [
    "order_amount = order_deets_df.groupBy(\"Order ID\").agg(sum(\"Amount\").alias(\"Amount\"))\n",
    "best_customer = orders_df.join(order_amount, on = \"Order ID\", how = \"inner\")\\\n",
    ".groupBy(\"CustomerName\").agg(sum(\"Amount\").alias(\"Total Purchase Amount\")).orderBy(\"Total Purchase Amount\", ascending = False)"
   ]
  },
  {
   "cell_type": "code",
   "execution_count": null,
   "metadata": {
    "colab": {
     "base_uri": "https://localhost:8080/"
    },
    "id": "SGzcr4eVmQ8p",
    "outputId": "76c9b2ac-4d06-4518-9e10-2171c229059f"
   },
   "outputs": [
    {
     "data": {
      "text/plain": [
       "Row(CustomerName='Yaanvi', Total Purchase Amount=9177.0)"
      ]
     },
     "execution_count": 24,
     "metadata": {
      "tags": []
     },
     "output_type": "execute_result"
    }
   ],
   "source": [
    "best_customer.first()"
   ]
  }
 ],
 "metadata": {
  "colab": {
   "name": "PySpark.ipynb",
   "provenance": []
  },
  "kernelspec": {
   "display_name": "Python 3 (ipykernel)",
   "language": "python",
   "name": "python3"
  },
  "language_info": {
   "codemirror_mode": {
    "name": "ipython",
    "version": 3
   },
   "file_extension": ".py",
   "mimetype": "text/x-python",
   "name": "python",
   "nbconvert_exporter": "python",
   "pygments_lexer": "ipython3",
   "version": "3.7.9"
  }
 },
 "nbformat": 4,
 "nbformat_minor": 1
}
