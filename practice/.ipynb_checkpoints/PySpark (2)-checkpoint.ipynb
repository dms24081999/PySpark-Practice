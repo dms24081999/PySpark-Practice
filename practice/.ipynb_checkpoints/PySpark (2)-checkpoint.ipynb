{
 "cells": [
  {
   "cell_type": "code",
   "execution_count": 1,
   "metadata": {
    "id": "AzALPz9MDY5g"
   },
   "outputs": [],
   "source": [
    "!apt-get install openjdk-8-jdk-headless -qq > /dev/null"
   ]
  },
  {
   "cell_type": "code",
   "execution_count": 22,
   "metadata": {
    "colab": {
     "base_uri": "https://localhost:8080/"
    },
    "id": "yZf-G14LEkHe",
    "outputId": "1deacf2b-b422-459b-f737-162e199a29ac"
   },
   "outputs": [
    {
     "name": "stdout",
     "output_type": "stream",
     "text": [
      "sample_data  spark-3.1.2-bin-hadoop2.7.tgz  spark-3.1.2-bin-hadoop2.7.tgz.1\n"
     ]
    }
   ],
   "source": [
    "# get file url from the spark website\n",
    "!wget -q https://mirrors.estointernet.in/apache/spark/spark-3.1.2/spark-3.1.2-bin-hadoop2.7.tgz\n",
    "!ls"
   ]
  },
  {
   "cell_type": "code",
   "execution_count": 23,
   "metadata": {
    "id": "IUBY0jpPGrb-"
   },
   "outputs": [],
   "source": [
    "!tar xf spark-3.1.2-bin-hadoop2.7.tgz\n",
    "!pip install -q findspark"
   ]
  },
  {
   "cell_type": "code",
   "execution_count": 24,
   "metadata": {
    "id": "C1yIxxEpEvVU"
   },
   "outputs": [],
   "source": [
    "import os\n",
    "os.environ[\"JAVA_HOME\"] = \"/usr/lib/jvm/java-8-openjdk-amd64\"\n",
    "os.environ[\"SPARK_HOME\"] = \"/content/spark-3.1.2-bin-hadoop2.7\""
   ]
  },
  {
   "cell_type": "code",
   "execution_count": 25,
   "metadata": {
    "colab": {
     "base_uri": "https://localhost:8080/",
     "height": 35
    },
    "id": "0eZd4K1zE0LE",
    "outputId": "dc840c39-af2a-467e-b289-604816e62c9d"
   },
   "outputs": [
    {
     "data": {
      "application/vnd.google.colaboratory.intrinsic+json": {
       "type": "string"
      },
      "text/plain": [
       "'/content/spark-3.1.2-bin-hadoop2.7'"
      ]
     },
     "execution_count": 25,
     "metadata": {
      "tags": []
     },
     "output_type": "execute_result"
    }
   ],
   "source": [
    "import findspark\n",
    "findspark.init()\n",
    "findspark.find()"
   ]
  },
  {
   "cell_type": "code",
   "execution_count": 26,
   "metadata": {
    "id": "rQHo_gvsIIsB"
   },
   "outputs": [],
   "source": [
    "import pyspark\n",
    "from pyspark.sql import SparkSession\n",
    "a=[1,2,3,4,5,6,7,8,9,10]\n",
    "spark=SparkSession.builder.master('local[1]').appName('RDD_practice').getOrCreate()"
   ]
  },
  {
   "cell_type": "code",
   "execution_count": 27,
   "metadata": {
    "colab": {
     "base_uri": "https://localhost:8080/"
    },
    "id": "3p0YCoUHI9Ga",
    "outputId": "8bafc309-7177-41a2-cd85-6a11d9b52dd5"
   },
   "outputs": [
    {
     "data": {
      "text/plain": [
       "['F 1 31 hispanic  4 1 3118  0  0 1 0 N N 122  22  5 40']"
      ]
     },
     "execution_count": 27,
     "metadata": {
      "tags": []
     },
     "output_type": "execute_result"
    }
   ],
   "source": [
    "my_RDD=spark.sparkContext.textFile('data.txt') #reads csv as an  RDD[string]\n",
    "rdd=spark.sparkContext.parallelize(a,10)\n",
    "my_RDD.take(1)# shows_error"
   ]
  },
  {
   "cell_type": "code",
   "execution_count": 29,
   "metadata": {
    "id": "MWDLqNojJBUb"
   },
   "outputs": [],
   "source": [
    "rdd.saveAsTextFile('partition')"
   ]
  }
 ],
 "metadata": {
  "colab": {
   "name": "PySpark.ipynb",
   "provenance": []
  },
  "kernelspec": {
   "display_name": "Python 3 (ipykernel)",
   "language": "python",
   "name": "python3"
  },
  "language_info": {
   "codemirror_mode": {
    "name": "ipython",
    "version": 3
   },
   "file_extension": ".py",
   "mimetype": "text/x-python",
   "name": "python",
   "nbconvert_exporter": "python",
   "pygments_lexer": "ipython3",
   "version": "3.7.9"
  }
 },
 "nbformat": 4,
 "nbformat_minor": 1
}
