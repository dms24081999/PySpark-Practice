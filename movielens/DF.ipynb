{
 "cells": [
  {
   "cell_type": "code",
   "execution_count": 1,
   "id": "4f43b1c5",
   "metadata": {},
   "outputs": [
    {
     "data": {
      "text/plain": [
       "'C:\\\\work\\\\spark-2.4.8-bin-hadoop2.7'"
      ]
     },
     "execution_count": 1,
     "metadata": {},
     "output_type": "execute_result"
    }
   ],
   "source": [
    "import findspark\n",
    "findspark.init()\n",
    "findspark.find()"
   ]
  },
  {
   "cell_type": "code",
   "execution_count": 2,
   "id": "ad6d10a9",
   "metadata": {},
   "outputs": [],
   "source": [
    "from pyspark.sql import SparkSession\n",
    "from pyspark.sql.types import *\n",
    "from pyspark.sql import functions as func\n",
    "import codecs"
   ]
  },
  {
   "cell_type": "code",
   "execution_count": 3,
   "id": "c7450ce8",
   "metadata": {},
   "outputs": [],
   "source": [
    "spark=SparkSession.builder.appName('movie').getOrCreate()"
   ]
  },
  {
   "cell_type": "code",
   "execution_count": 4,
   "id": "195563f2",
   "metadata": {},
   "outputs": [],
   "source": [
    "def loadMovieNames():\n",
    "    movie={}\n",
    "    with codecs.open(\"ml-100k/u.item\",\"r\",encoding=\"ISO-8859-1\",errors='ignore') as f:\n",
    "        for line in f:\n",
    "            fields=line.split('|')\n",
    "            movie[int(fields[0])]=fields[1]\n",
    "    return movie"
   ]
  },
  {
   "cell_type": "code",
   "execution_count": 5,
   "id": "ba478547",
   "metadata": {},
   "outputs": [
    {
     "data": {
      "text/plain": [
       "<pyspark.broadcast.Broadcast at 0x195fef48ac8>"
      ]
     },
     "execution_count": 5,
     "metadata": {},
     "output_type": "execute_result"
    }
   ],
   "source": [
    "nameDict=spark.sparkContext.broadcast(loadMovieNames())\n",
    "nameDict"
   ]
  },
  {
   "cell_type": "code",
   "execution_count": 6,
   "id": "2c9a7bae",
   "metadata": {},
   "outputs": [],
   "source": [
    "schema=StructType([\n",
    "    StructField(\"userID\",IntegerType(),True),\n",
    "    StructField(\"movieID\",IntegerType(),True),\n",
    "    StructField(\"rating\",IntegerType(),True),\n",
    "    StructField(\"time\",LongType(),True),\n",
    "])"
   ]
  },
  {
   "cell_type": "code",
   "execution_count": 7,
   "id": "8851ffea",
   "metadata": {},
   "outputs": [
    {
     "name": "stdout",
     "output_type": "stream",
     "text": [
      "+------+-------+------+---------+\n",
      "|userID|movieID|rating|     time|\n",
      "+------+-------+------+---------+\n",
      "|   196|    242|     3|881250949|\n",
      "|   186|    302|     3|891717742|\n",
      "|    22|    377|     1|878887116|\n",
      "+------+-------+------+---------+\n",
      "only showing top 3 rows\n",
      "\n"
     ]
    }
   ],
   "source": [
    "data=spark.read.schema(schema).csv(\"ml-100k/u.data\",sep=\"\\t\")\n",
    "data.show(3)"
   ]
  },
  {
   "cell_type": "code",
   "execution_count": 28,
   "id": "81e8a5f6",
   "metadata": {},
   "outputs": [
    {
     "name": "stdout",
     "output_type": "stream",
     "text": [
      "+-------+------+\n",
      "|movieID|rating|\n",
      "+-------+------+\n",
      "|    496|   952|\n",
      "|    471|   798|\n",
      "|    463|   274|\n",
      "+-------+------+\n",
      "only showing top 3 rows\n",
      "\n"
     ]
    }
   ],
   "source": [
    "df=data.groupBy(\"movieID\").agg(func.sum(\"rating\").alias(\"rating\"))\n",
    "df.show(3)"
   ]
  },
  {
   "cell_type": "code",
   "execution_count": 13,
   "id": "59783871",
   "metadata": {},
   "outputs": [
    {
     "name": "stdout",
     "output_type": "stream",
     "text": [
      "+-------+-----+\n",
      "|movieID|count|\n",
      "+-------+-----+\n",
      "|     50|  583|\n",
      "|    258|  509|\n",
      "|    100|  508|\n",
      "+-------+-----+\n",
      "only showing top 3 rows\n",
      "\n"
     ]
    }
   ],
   "source": [
    "df=data.groupBy(\"movieID\").count().orderBy(func.desc(\"count\"))\n",
    "df.show(3)"
   ]
  },
  {
   "cell_type": "code",
   "execution_count": 29,
   "id": "bd80cb79",
   "metadata": {},
   "outputs": [],
   "source": [
    "def lookUpName(movieID):\n",
    "    return nameDict.value[movieID]"
   ]
  },
  {
   "cell_type": "code",
   "execution_count": 32,
   "id": "0e14354f",
   "metadata": {},
   "outputs": [
    {
     "data": {
      "text/plain": [
       "<function __main__.lookUpName(movieID)>"
      ]
     },
     "execution_count": 32,
     "metadata": {},
     "output_type": "execute_result"
    }
   ],
   "source": [
    "lookUpNameUDF=func.udf(lookUpName)\n",
    "lookUpNameUDF"
   ]
  },
  {
   "cell_type": "code",
   "execution_count": 34,
   "id": "4c5c2628",
   "metadata": {},
   "outputs": [
    {
     "name": "stdout",
     "output_type": "stream",
     "text": [
      "+-------+------+--------------------+\n",
      "|movieID|rating|               Title|\n",
      "+-------+------+--------------------+\n",
      "|    496|   952|It's a Wonderful ...|\n",
      "|    471|   798|Courage Under Fir...|\n",
      "|    463|   274|Secret of Roan In...|\n",
      "+-------+------+--------------------+\n",
      "only showing top 3 rows\n",
      "\n"
     ]
    }
   ],
   "source": [
    "dfNames=df.withColumn(\"Title\",lookUpNameUDF(df.movieID))\n",
    "dfNames.show(3)"
   ]
  },
  {
   "cell_type": "code",
   "execution_count": null,
   "id": "eb25749d",
   "metadata": {},
   "outputs": [],
   "source": []
  },
  {
   "cell_type": "code",
   "execution_count": null,
   "id": "5e8798ad",
   "metadata": {},
   "outputs": [],
   "source": []
  },
  {
   "cell_type": "code",
   "execution_count": 51,
   "id": "bb56767e",
   "metadata": {},
   "outputs": [
    {
     "data": {
      "text/plain": [
       "10"
      ]
     },
     "execution_count": 51,
     "metadata": {},
     "output_type": "execute_result"
    }
   ],
   "source": []
  },
  {
   "cell_type": "code",
   "execution_count": 52,
   "id": "fea45d38",
   "metadata": {},
   "outputs": [
    {
     "data": {
      "text/plain": [
       "[[Row(userID=308, movieID=1, rating=4, time=887736532),\n",
       "  Row(userID=246, movieID=201, rating=5, time=884921594),\n",
       "  Row(userID=234, movieID=1184, rating=2, time=892079237),\n",
       "  Row(userID=291, movieID=118, rating=2, time=874833878),\n",
       "  Row(userID=299, movieID=144, rating=4, time=877881320)],\n",
       " [Row(userID=10, movieID=16, rating=4, time=877888877),\n",
       "  Row(userID=99, movieID=4, rating=5, time=886519097),\n",
       "  Row(userID=22, movieID=377, rating=1, time=878887116),\n",
       "  Row(userID=287, movieID=327, rating=5, time=875333916),\n",
       "  Row(userID=97, movieID=194, rating=3, time=884238860)]]"
      ]
     },
     "execution_count": 52,
     "metadata": {},
     "output_type": "execute_result"
    }
   ],
   "source": []
  },
  {
   "cell_type": "code",
   "execution_count": 55,
   "id": "5b7e5d6b",
   "metadata": {},
   "outputs": [
    {
     "name": "stdout",
     "output_type": "stream",
     "text": [
      "+------+-------+------+---------+\n",
      "|userID|movieID|rating|     time|\n",
      "+------+-------+------+---------+\n",
      "|   166|    346|     1|886397596|\n",
      "|    22|    377|     1|878887116|\n",
      "|   276|    796|     1|874791932|\n",
      "|   181|   1081|     1|878962623|\n",
      "|   244|     51|     2|880606923|\n",
      "|   291|    118|     2|874833878|\n",
      "|    62|    257|     2|879372434|\n",
      "|   115|    265|     2|881171488|\n",
      "|   194|    274|     2|879539794|\n",
      "|    95|    546|     2|879196566|\n",
      "|   102|    768|     2|883748450|\n",
      "|   201|    979|     2|884114233|\n",
      "|   234|   1184|     2|892079237|\n",
      "|   224|     29|     3|888104457|\n",
      "|   210|     40|     3|891035994|\n",
      "|     6|     86|     3|883603013|\n",
      "|    97|    194|     3|884238860|\n",
      "|   196|    242|     3|881250949|\n",
      "|    50|    246|     3|877052329|\n",
      "|   186|    302|     3|891717742|\n",
      "+------+-------+------+---------+\n",
      "only showing top 20 rows\n",
      "\n"
     ]
    }
   ],
   "source": []
  },
  {
   "cell_type": "code",
   "execution_count": 58,
   "id": "201eff16",
   "metadata": {},
   "outputs": [
    {
     "data": {
      "text/plain": [
       "[[Row(userID=225, movieID=193, rating=4, time=879539727),\n",
       "  Row(userID=234, movieID=1184, rating=2, time=892079237),\n",
       "  Row(userID=291, movieID=1042, rating=4, time=874834944)],\n",
       " [Row(userID=10, movieID=16, rating=4, time=877888877),\n",
       "  Row(userID=194, movieID=274, rating=2, time=879539794),\n",
       "  Row(userID=287, movieID=327, rating=5, time=875333916),\n",
       "  Row(userID=201, movieID=979, rating=2, time=884114233)]]"
      ]
     },
     "execution_count": 58,
     "metadata": {},
     "output_type": "execute_result"
    }
   ],
   "source": []
  },
  {
   "cell_type": "code",
   "execution_count": 61,
   "id": "fa8f4426",
   "metadata": {},
   "outputs": [
    {
     "name": "stdout",
     "output_type": "stream",
     "text": [
      "+------+-------+------+---------+\n",
      "|userID|movieID|rating|     time|\n",
      "+------+-------+------+---------+\n",
      "|    22|    377|     1|878887116|\n",
      "|   166|    346|     1|886397596|\n",
      "|   181|   1081|     1|878962623|\n",
      "|   276|    796|     1|874791932|\n",
      "|    62|    257|     2|879372434|\n",
      "|    95|    546|     2|879196566|\n",
      "|   102|    768|     2|883748450|\n",
      "|   115|    265|     2|881171488|\n",
      "|   194|    274|     2|879539794|\n",
      "|   201|    979|     2|884114233|\n",
      "|   234|   1184|     2|892079237|\n",
      "|   244|     51|     2|880606923|\n",
      "|   291|    118|     2|874833878|\n",
      "|     6|     86|     3|883603013|\n",
      "|    50|    246|     3|877052329|\n",
      "|    97|    194|     3|884238860|\n",
      "|   178|    332|     3|882823437|\n",
      "|   186|    302|     3|891717742|\n",
      "|   196|    242|     3|881250949|\n",
      "|   210|     40|     3|891035994|\n",
      "+------+-------+------+---------+\n",
      "only showing top 20 rows\n",
      "\n"
     ]
    }
   ],
   "source": []
  },
  {
   "cell_type": "code",
   "execution_count": null,
   "id": "af32b96b",
   "metadata": {},
   "outputs": [],
   "source": []
  },
  {
   "cell_type": "code",
   "execution_count": null,
   "id": "01f628c7",
   "metadata": {},
   "outputs": [],
   "source": []
  }
 ],
 "metadata": {
  "kernelspec": {
   "display_name": "Python 3 (ipykernel)",
   "language": "python",
   "name": "python3"
  },
  "language_info": {
   "codemirror_mode": {
    "name": "ipython",
    "version": 3
   },
   "file_extension": ".py",
   "mimetype": "text/x-python",
   "name": "python",
   "nbconvert_exporter": "python",
   "pygments_lexer": "ipython3",
   "version": "3.7.9"
  }
 },
 "nbformat": 4,
 "nbformat_minor": 5
}
