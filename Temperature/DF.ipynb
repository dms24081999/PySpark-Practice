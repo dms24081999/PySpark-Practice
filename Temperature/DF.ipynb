{
 "cells": [
  {
   "cell_type": "code",
   "execution_count": 1,
   "id": "0697a586",
   "metadata": {},
   "outputs": [
    {
     "data": {
      "text/plain": [
       "'C:\\\\work\\\\spark-2.4.8-bin-hadoop2.7'"
      ]
     },
     "execution_count": 1,
     "metadata": {},
     "output_type": "execute_result"
    }
   ],
   "source": [
    "import findspark\n",
    "findspark.init()\n",
    "findspark.find()"
   ]
  },
  {
   "cell_type": "code",
   "execution_count": 3,
   "id": "1fb14be2",
   "metadata": {},
   "outputs": [],
   "source": [
    "from pyspark.sql import SparkSession\n",
    "spark=SparkSession.builder.appName('Temp').getOrCreate()"
   ]
  },
  {
   "cell_type": "code",
   "execution_count": 22,
   "id": "f3dc2a38",
   "metadata": {},
   "outputs": [],
   "source": [
    "from pyspark.sql.types import *\n",
    "from pyspark.sql import functions as func"
   ]
  },
  {
   "cell_type": "code",
   "execution_count": 5,
   "id": "95635e65",
   "metadata": {},
   "outputs": [],
   "source": [
    "\n",
    "schema=StructType([\n",
    "    StructField(\"stationID\",StringType(),True),\n",
    "    StructField(\"date\",IntegerType(),True),\n",
    "    StructField(\"measure-type\",StringType(),True),\n",
    "    StructField(\"temperature\",FloatType(),True)\n",
    "])"
   ]
  },
  {
   "cell_type": "code",
   "execution_count": 6,
   "id": "0a4ea074",
   "metadata": {},
   "outputs": [
    {
     "name": "stdout",
     "output_type": "stream",
     "text": [
      "+-----------+--------+------------+-----------+\n",
      "|  stationID|    date|measure-type|temperature|\n",
      "+-----------+--------+------------+-----------+\n",
      "|ITE00100554|18000101|        TMAX|      -75.0|\n",
      "|ITE00100554|18000101|        TMIN|     -148.0|\n",
      "|GM000010962|18000101|        PRCP|        0.0|\n",
      "|EZE00100082|18000101|        TMAX|      -86.0|\n",
      "|EZE00100082|18000101|        TMIN|     -135.0|\n",
      "+-----------+--------+------------+-----------+\n",
      "only showing top 5 rows\n",
      "\n"
     ]
    }
   ],
   "source": [
    "data=spark.read.schema(schema).csv(\"1800.csv\")\n",
    "data.show(5)"
   ]
  },
  {
   "cell_type": "code",
   "execution_count": 17,
   "id": "2fa9ddd0",
   "metadata": {},
   "outputs": [],
   "source": [
    "df=data.filter(data[\"measure-type\"]==\"TMIN\")"
   ]
  },
  {
   "cell_type": "code",
   "execution_count": 18,
   "id": "abf7a8d8",
   "metadata": {},
   "outputs": [],
   "source": [
    "df=df.select(\"stationID\",\"temperature\")"
   ]
  },
  {
   "cell_type": "code",
   "execution_count": 20,
   "id": "6a3500ec",
   "metadata": {},
   "outputs": [
    {
     "name": "stdout",
     "output_type": "stream",
     "text": [
      "+-----------+-----------+\n",
      "|  stationID|temperature|\n",
      "+-----------+-----------+\n",
      "|ITE00100554|     -148.0|\n",
      "|EZE00100082|     -135.0|\n",
      "+-----------+-----------+\n",
      "\n"
     ]
    }
   ],
   "source": [
    "df=df.groupBy(\"stationID\").min(\"temperature\") \\\n",
    ".withColumnRenamed(\"min(temperature)\", \"temperature\")\n",
    "df.show()"
   ]
  },
  {
   "cell_type": "code",
   "execution_count": 23,
   "id": "618b29ad",
   "metadata": {},
   "outputs": [
    {
     "name": "stdout",
     "output_type": "stream",
     "text": [
      "+-----------+------------+\n",
      "|  stationID|temperatureF|\n",
      "+-----------+------------+\n",
      "|ITE00100554|      -234.0|\n",
      "|EZE00100082|      -211.0|\n",
      "+-----------+------------+\n",
      "\n"
     ]
    }
   ],
   "source": [
    "minTempF=df.withColumn(\"temperatureF\",\n",
    "                      func.round(func.col(\"temperature\")*(9.0/5.0)+32.0)) \\\n",
    "                    .select(\"stationID\",\"temperatureF\").sort(\"temperatureF\")\n",
    "minTempF.show()"
   ]
  },
  {
   "cell_type": "code",
   "execution_count": null,
   "id": "09d938e9",
   "metadata": {},
   "outputs": [],
   "source": []
  }
 ],
 "metadata": {
  "kernelspec": {
   "display_name": "Python 3 (ipykernel)",
   "language": "python",
   "name": "python3"
  },
  "language_info": {
   "codemirror_mode": {
    "name": "ipython",
    "version": 3
   },
   "file_extension": ".py",
   "mimetype": "text/x-python",
   "name": "python",
   "nbconvert_exporter": "python",
   "pygments_lexer": "ipython3",
   "version": "3.7.9"
  }
 },
 "nbformat": 4,
 "nbformat_minor": 5
}
